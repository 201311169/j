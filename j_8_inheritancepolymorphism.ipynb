{
 "cells": [
  {
   "cell_type": "markdown",
   "metadata": {},
   "source": [
    "# 7. inheritance\n",
    "\n",
    "## 7.1 학습내용\n",
    "\n",
    "### 7.1.1 목표\n",
    "\n",
    "* hfj-7+8 + ?10\n",
    "* 상속을 구현할 수 있다.\n",
    "* 인터페이스 다형성을 사용할 수 있다.\n",
    "* 클래스 다형성을 사용할 수 있다.\n",
    "* 연관관계, 상속관계를 구별해서 사용할 수 있다.\n",
    "\n",
    "\n",
    "### 7.1.2 문제\n",
    "\n",
    "* 문제 oo-1: 도형을 선택하여 그룹을 만들 수 있다. 선택된 도형을 알아내기. (연관 vs 상속)\n",
    "* 문제 oo-2: 상속을 사용하여 거북이를 구현한다 (상속, protected).\n",
    "* 문제 oo-3: 원의 면적을 계산하기 (상속)\n",
    "* 문제 oo-4: 클래스 상속을 사용하여 도형의 면적을 구하기 (abstract class)\n",
    "* 문제 oo-5: 객체를 배열로 저장해서, sayHello() (객체의 배열)\n",
    "* 문제 oo-6: 도형을 다형적으로 면적 계산하기 (다형성, instatnceOf)\n",
    "* 문제 oo-7: equals를 구현한다.\n",
    "* 문제 oo-8: 강의시간표를 구현한다 (NullSubjet)\n",
    "\n",
    "### 7.1.3 연습\n",
    "\n",
    "* mini: **game** 상속을 사용하여 윷놀이, 주사위를 할 수 있게 수정한다.\n",
    "* mini: **shape**"
   ]
  },
  {
   "cell_type": "markdown",
   "metadata": {},
   "source": [
    "## 7.1 상속\n",
    "\n",
    "### 7.1.1 상속이란?\n",
    "\n",
    "* 객체지향 프로그래밍은 '상속'이라고 하는 중요한 특징을 가진다.\n",
    "* 상속은 부모클래스-자식클래스의 계층구조로 표현할 수 있다.\n",
    "    * 부모클래스는 superclass, base class라고 한다.\n",
    "    * 자식클래스는 subclass, derived class라고 한다.\n",
    "    * 이러한 계층구조를 통해 공통되는 부분을 부모클래스에서, 다른 부분은 자식클래스에서 구현한다.\n",
    "* 상속을 집합으로 이해해 보자.\n",
    "    * 부모 - (부모 $\\cap$자식) = $\\emptyset$\n",
    "        * 자식클래스는 부모클래스의 모든 요소를 가져야 한다.\n",
    "        * 부모클래스는 자식클래스와 공통부분을 가진다.\n",
    "        * 공통적이지 않은 요소는 자식클래스가 가진다.\n",
    "        * 부모클래스의 속성, 함수를 모두 상속받는다.\n",
    "* 여러 부모를 가질 수 있지만, 자바에서는 다중 상속은 없다."
   ]
  },
  {
   "cell_type": "markdown",
   "metadata": {},
   "source": [
    "### 7.1.2 단순한 상속의 구현\n",
    "\n",
    "* 커피빈 클래스\n",
    "    * 커피빈은 Robusta, Arabica로 나뉜다.\n",
    "    * Robusta는 인스턴트 커피를 만들 때 주로 사용되며, 아프리카, 아시아 지역에서 생산된다.\n",
    "    * Arabica는 품질이 좋은 커피를 만드는 재료로 사용되며, 주 생산지는 라틴 아메리카 지역이다.\n",
    "    * 이 두 클래스는 서로 공통점이 많다. 클래스로 구현하려면, 속성 및 함수가 서로 비슷한 점이 많다.\n",
    "\n",
    "difference | Robusta | Arabica\n",
    "----------|----------|----------\n",
    "altitude(m) | 0-800 | 600-2200\n",
    "caffeine | more (2.2%) | less (1.2%)\n",
    "price | half less | more\n",
    "shape | more circular | oval\n",
    "production area | Africa, Asia (vietnam) | Latin Amerca (Brazail, Colombia)\n",
    "primary use | instant | gourmet"
   ]
  },
  {
   "cell_type": "markdown",
   "metadata": {},
   "source": [
    "\n",
    "### 7.1.2 UML로 나타내기"
   ]
  },
  {
   "cell_type": "code",
   "execution_count": 1,
   "metadata": {
    "collapsed": true
   },
   "outputs": [],
   "source": [
    "import iplantuml"
   ]
  },
  {
   "cell_type": "code",
   "execution_count": 2,
   "metadata": {
    "collapsed": false
   },
   "outputs": [
    {
     "data": {
      "image/svg+xml": [
       "<svg height=\"173px\" style=\"width:212px;height:173px;\" version=\"1.1\" viewBox=\"0 0 212 173\" width=\"212px\" xmlns=\"http://www.w3.org/2000/svg\" xmlns:xlink=\"http://www.w3.org/1999/xlink\"><defs><filter height=\"300%\" id=\"f1\" width=\"300%\" x=\"-1\" y=\"-1\"><feGaussianBlur result=\"blurOut\" stdDeviation=\"2.0\"/><feColorMatrix in=\"blurOut\" result=\"blurOut2\" type=\"matrix\" values=\"0 0 0 0 0 0 0 0 0 0 0 0 0 0 0 0 0 0 .4 0\"/><feOffset dx=\"4.0\" dy=\"4.0\" in=\"blurOut2\" result=\"blurOut3\"/><feBlend in=\"SourceGraphic\" in2=\"blurOut3\" mode=\"normal\"/></filter></defs><g><rect fill=\"#FEFECE\" filter=\"url(#f1)\" height=\"48\" style=\"stroke: #A80036; stroke-width: 1.5;\" width=\"111\" x=\"48\" y=\"8\"/><ellipse cx=\"63\" cy=\"24\" fill=\"#ADD1B2\" rx=\"11\" ry=\"11\" style=\"stroke: #A80036; stroke-width: 1.0;\"/><path d=\"M65.9688,29.6406 Q65.3906,29.9375 64.75,30.0859 Q64.1094,30.2344 63.4063,30.2344 Q60.9063,30.2344 59.5859,28.5859 Q58.2656,26.9375 58.2656,23.8125 Q58.2656,20.6875 59.5859,19.0313 Q60.9063,17.375 63.4063,17.375 Q64.1094,17.375 64.7578,17.5313 Q65.4063,17.6875 65.9688,17.9844 L65.9688,20.7031 Q65.3438,20.125 64.75,19.8516 Q64.1563,19.5781 63.5313,19.5781 Q62.1875,19.5781 61.5,20.6484 Q60.8125,21.7188 60.8125,23.8125 Q60.8125,25.9063 61.5,26.9766 Q62.1875,28.0469 63.5313,28.0469 Q64.1563,28.0469 64.75,27.7734 Q65.3438,27.5 65.9688,26.9219 L65.9688,29.6406 Z \"/><text fill=\"#000000\" font-family=\"sans-serif\" font-size=\"12\" lengthAdjust=\"spacingAndGlyphs\" textLength=\"79\" x=\"77\" y=\"28.1543\">CoffeeBeans</text><line style=\"stroke: #A80036; stroke-width: 1.5;\" x1=\"49\" x2=\"158\" y1=\"40\" y2=\"40\"/><line style=\"stroke: #A80036; stroke-width: 1.5;\" x1=\"49\" x2=\"158\" y1=\"48\" y2=\"48\"/><rect fill=\"#FEFECE\" filter=\"url(#f1)\" height=\"48\" style=\"stroke: #A80036; stroke-width: 1.5;\" width=\"79\" x=\"6\" y=\"116\"/><ellipse cx=\"21\" cy=\"132\" fill=\"#ADD1B2\" rx=\"11\" ry=\"11\" style=\"stroke: #A80036; stroke-width: 1.0;\"/><path d=\"M23.9688,137.6406 Q23.3906,137.9375 22.75,138.0859 Q22.1094,138.2344 21.4063,138.2344 Q18.9063,138.2344 17.5859,136.5859 Q16.2656,134.9375 16.2656,131.8125 Q16.2656,128.6875 17.5859,127.0313 Q18.9063,125.375 21.4063,125.375 Q22.1094,125.375 22.7578,125.5313 Q23.4063,125.6875 23.9688,125.9844 L23.9688,128.7031 Q23.3438,128.125 22.75,127.8516 Q22.1563,127.5781 21.5313,127.5781 Q20.1875,127.5781 19.5,128.6484 Q18.8125,129.7188 18.8125,131.8125 Q18.8125,133.9063 19.5,134.9766 Q20.1875,136.0469 21.5313,136.0469 Q22.1563,136.0469 22.75,135.7734 Q23.3438,135.5 23.9688,134.9219 L23.9688,137.6406 Z \"/><text fill=\"#000000\" font-family=\"sans-serif\" font-size=\"12\" lengthAdjust=\"spacingAndGlyphs\" textLength=\"47\" x=\"35\" y=\"136.1543\">Arabica</text><line style=\"stroke: #A80036; stroke-width: 1.5;\" x1=\"7\" x2=\"84\" y1=\"148\" y2=\"148\"/><line style=\"stroke: #A80036; stroke-width: 1.5;\" x1=\"7\" x2=\"84\" y1=\"156\" y2=\"156\"/><rect fill=\"#FEFECE\" filter=\"url(#f1)\" height=\"48\" style=\"stroke: #A80036; stroke-width: 1.5;\" width=\"84\" x=\"119.5\" y=\"116\"/><ellipse cx=\"134.5\" cy=\"132\" fill=\"#ADD1B2\" rx=\"11\" ry=\"11\" style=\"stroke: #A80036; stroke-width: 1.0;\"/><path d=\"M137.4688,137.6406 Q136.8906,137.9375 136.25,138.0859 Q135.6094,138.2344 134.9063,138.2344 Q132.4063,138.2344 131.0859,136.5859 Q129.7656,134.9375 129.7656,131.8125 Q129.7656,128.6875 131.0859,127.0313 Q132.4063,125.375 134.9063,125.375 Q135.6094,125.375 136.2578,125.5313 Q136.9063,125.6875 137.4688,125.9844 L137.4688,128.7031 Q136.8438,128.125 136.25,127.8516 Q135.6563,127.5781 135.0313,127.5781 Q133.6875,127.5781 133,128.6484 Q132.3125,129.7188 132.3125,131.8125 Q132.3125,133.9063 133,134.9766 Q133.6875,136.0469 135.0313,136.0469 Q135.6563,136.0469 136.25,135.7734 Q136.8438,135.5 137.4688,134.9219 L137.4688,137.6406 Z \"/><text fill=\"#000000\" font-family=\"sans-serif\" font-size=\"12\" lengthAdjust=\"spacingAndGlyphs\" textLength=\"52\" x=\"148.5\" y=\"136.1543\">Robusta</text><line style=\"stroke: #A80036; stroke-width: 1.5;\" x1=\"120.5\" x2=\"202.5\" y1=\"148\" y2=\"148\"/><line style=\"stroke: #A80036; stroke-width: 1.5;\" x1=\"120.5\" x2=\"202.5\" y1=\"156\" y2=\"156\"/><path d=\"M81.2776,73.6133 C73.4889,87.8479 65.0092,103.3452 58.2609,115.6784 \" fill=\"none\" style=\"stroke: #A80036; stroke-width: 1.0;\"/><polygon fill=\"none\" points=\"75.1737,70.1856,90.9149,56,87.4554,76.9058,75.1737,70.1856\" style=\"stroke: #A80036; stroke-width: 1.0;\"/><path d=\"M125.722,73.6133 C133.511,87.8479 141.991,103.3452 148.739,115.6784 \" fill=\"none\" style=\"stroke: #A80036; stroke-width: 1.0;\"/><polygon fill=\"none\" points=\"119.545,76.9058,116.085,56,131.826,70.1856,119.545,76.9058\" style=\"stroke: #A80036; stroke-width: 1.0;\"/></g></svg>"
      ],
      "text/plain": [
       "<IPython.core.display.SVG object>"
      ]
     },
     "execution_count": 2,
     "metadata": {},
     "output_type": "execute_result"
    }
   ],
   "source": [
    "%%plantuml\n",
    "@startuml\n",
    "class CoffeeBeans\n",
    "class Arabica\n",
    "class Robusta\n",
    "CoffeeBeans <|-- Arabica\n",
    "CoffeeBeans <|-- Robusta\n",
    "@enduml"
   ]
  },
  {
   "cell_type": "markdown",
   "metadata": {},
   "source": [
    "### 7.1.3 상속 구현\n",
    "\n",
    "* 커피빈을 구현한다. 상속을 이해하기 위해 사례를 단순화한다.\n",
    "    * CoffeeBeans는 부모클래스 Arabica는 자식클래스이다.\n",
    "    * 그 관계는 'extends'로 구현한다.\n",
    "        ```\n",
    "        class Arabica extends CoffeeBeans\n",
    "        ```"
   ]
  },
  {
   "cell_type": "code",
   "execution_count": 7,
   "metadata": {
    "collapsed": false
   },
   "outputs": [
    {
     "name": "stdout",
     "output_type": "stream",
     "text": [
      " class CoffeeBeans {\r\n",
      "     String species=\"Coffee\";\r\n",
      "     void print() {\r\n",
      "         System.out.println(species);\r\n",
      "     }\r\n",
      "     void setSepecies(String s) {\r\n",
      "         species=s;\r\n",
      "     }\r\n",
      " }\r\n",
      "|  Added class CoffeeBeans\r\n",
      "\r\n",
      " class Arabica extends CoffeeBeans  {\r\n",
      " \r\n",
      " }\r\n",
      "|  Added class Arabica\r\n",
      "\r\n",
      " class Robusta extends CoffeeBeans {\r\n",
      "     String species=\"Robusta\";\r\n",
      " }\r\n",
      "|  Added class Robusta\r\n",
      "\r\n"
     ]
    }
   ],
   "source": [
    "class CoffeeBeans {\n",
    "    String species=\"Coffee\";\n",
    "    void print() {\n",
    "        System.out.println(species);\n",
    "    }\n",
    "    void setSepecies(String s) {\n",
    "        species=s;\n",
    "    }\n",
    "}\n",
    "class Arabica extends CoffeeBeans  {\n",
    "\n",
    "}\n",
    "class Robusta extends CoffeeBeans {\n",
    "    String species=\"Robusta\";\n",
    "}"
   ]
  },
  {
   "cell_type": "markdown",
   "metadata": {
    "collapsed": true
   },
   "source": [
    "* 각 클래스의 instance 생성"
   ]
  },
  {
   "cell_type": "code",
   "execution_count": 10,
   "metadata": {
    "collapsed": false,
    "scrolled": true
   },
   "outputs": [
    {
     "name": "stdout",
     "output_type": "stream",
     "text": [
      " CoffeeBeans c=new CoffeeBeans();\r\n",
      "|  Added variable c of type CoffeeBeans with initial value CoffeeBeans@14bf9759\r\n",
      "\r\n",
      " Arabica a=new Arabica();\r\n",
      "|  Added variable a of type Arabica with initial value Arabica@402a079c\r\n",
      "\r\n",
      " Robusta r=new Robusta();\r\n",
      "|  Added variable r of type Robusta with initial value Robusta@4cf777e8\r\n",
      "\r\n"
     ]
    }
   ],
   "source": [
    "CoffeeBeans c=new CoffeeBeans();\n",
    "Arabica a=new Arabica();\n",
    "Robusta r=new Robusta();"
   ]
  },
  {
   "cell_type": "markdown",
   "metadata": {},
   "source": [
    "* 자식클래스는 부모클래스의 함수를 사용할 수 있다.\n",
    "    * Arabica, Robusta는 자신의 print()함수를 정의하지 않았다.\n",
    "    * 부모클래스의 함수를 호출한다."
   ]
  },
  {
   "cell_type": "code",
   "execution_count": 10,
   "metadata": {
    "collapsed": false,
    "scrolled": false
   },
   "outputs": [
    {
     "name": "stdout",
     "output_type": "stream",
     "text": [
      " c.print();\r\n",
      "Coffee\r\n",
      "\r\n",
      " a.print();\r\n",
      "Coffee\r\n",
      "\r\n",
      " r.print();\r\n",
      "Coffee\r\n",
      "\r\n"
     ]
    }
   ],
   "source": [
    "c.print();\n",
    "a.print();\n",
    "r.print();"
   ]
  },
  {
   "cell_type": "markdown",
   "metadata": {
    "collapsed": true
   },
   "source": [
    "* 자식클래스의 print()함수를 재정의 한다.\n",
    "* Method overriding\n",
    "    * 부모클래스가 가지고 있는 함수를 자식클래스에서 재정의할 수 있다.\n",
    "    * 재정의하는 함수는 부모클래스가 가지고 있는 함수이다.\n",
    "    * 부모클래스의 함수이름, 함수입력변수, 반환변수를 동일하게 한다."
   ]
  },
  {
   "cell_type": "code",
   "execution_count": 11,
   "metadata": {
    "collapsed": false
   },
   "outputs": [
    {
     "name": "stdout",
     "output_type": "stream",
     "text": [
      " class Arabica extends CoffeeBeans  {\r\n",
      "     void setSpecies(String s) {\r\n",
      "         species=s;\r\n",
      "     }\r\n",
      "     void print() {\r\n",
      "         System.out.println(\"Arabia: overriding coffee..\");\r\n",
      "     }\r\n",
      " }\r\n",
      "|  Replaced class Arabica\r\n",
      "|    Update replaced variable a, reset to null\r\n",
      "|    Update overwrote class Arabica\r\n",
      "\r\n"
     ]
    }
   ],
   "source": [
    "class Arabica extends CoffeeBeans  {\n",
    "    void setSpecies(String s) {\n",
    "        species=s;\n",
    "    }\n",
    "    void print() {\n",
    "        System.out.println(\"Arabia: overriding coffee..\");\n",
    "    }\n",
    "}"
   ]
  },
  {
   "cell_type": "code",
   "execution_count": 11,
   "metadata": {
    "collapsed": false
   },
   "outputs": [
    {
     "name": "stdout",
     "output_type": "stream",
     "text": [
      " Arabica a=new Arabica();\r\n",
      "|  Modified variable a of type Arabica with initial value Arabica@2f686d1f\r\n",
      "|    Update overwrote variable a\r\n",
      "\r\n"
     ]
    }
   ],
   "source": [
    "Arabica a=new Arabica();"
   ]
  },
  {
   "cell_type": "markdown",
   "metadata": {
    "collapsed": true
   },
   "source": [
    "* 재정의된 함수를 호출하는 경우, \n",
    "    * Arabica클래스의 경우, 재정의한 함수가 있고, 이를 호출한다.\n",
    "    * Robusta클래스는 재정의한 함수가 없으면, 부모클래스의 함수를 호출한다."
   ]
  },
  {
   "cell_type": "code",
   "execution_count": 12,
   "metadata": {
    "collapsed": false
   },
   "outputs": [
    {
     "name": "stdout",
     "output_type": "stream",
     "text": [
      " a.print();\r\n",
      "Arabica: overriding coffee..\r\n",
      "\r\n",
      " r.print();\r\n",
      "Coffee\r\n",
      "\r\n"
     ]
    }
   ],
   "source": [
    "a.print();\n",
    "r.print();"
   ]
  },
  {
   "cell_type": "markdown",
   "metadata": {},
   "source": [
    "* overloading과 overriding\n",
    "    * 상속관계에서 함수를 정의할 때, 이름은 같지만 입력변수가 다른 경우 overloading이라고 한다.\n",
    "    * 부모클래스의 print()를 자식클래스에서 재정의하는 경우는 앞서 설명한 overriding\n",
    "    * overriding은 컴파일 시점에 어느 함수를 사용할지 결정될 수 없다.\n",
    "    * overloading - 자식클래스에서 부모클래스의 print()함수를 print(String s)로 구현\n",
    "\n",
    "구분 | overriding | overloading\n",
    "--------|--------|--------\n",
    "함수이름 | 같다 | 같다\n",
    "입력변수 argument | 같다 | 다르다\n",
    "구별 시점 | 실행 runtime | 컴파일 compile time"
   ]
  },
  {
   "cell_type": "code",
   "execution_count": 16,
   "metadata": {
    "collapsed": false
   },
   "outputs": [
    {
     "name": "stdout",
     "output_type": "stream",
     "text": [
      " class Arabica extends CoffeeBeans  {\r\n",
      "     void setSpecies(String s) {\r\n",
      "         species=s;\r\n",
      "     }\r\n",
      "     void print() {\r\n",
      "         System.out.println(\"Arabica: overriding coffee..\");\r\n",
      "     }\r\n",
      "     void print(String s) {\r\n",
      "         System.out.printf(\"%s: %s\", species, s);\r\n",
      "     }\r\n",
      " }\r\n",
      "|  Modified class Arabica\r\n",
      "|    Update overwrote class Arabica\r\n",
      "\r\n"
     ]
    }
   ],
   "source": [
    "class Arabica extends CoffeeBeans  {\n",
    "    void setSpecies(String s) {\n",
    "        species=s;\n",
    "    }\n",
    "    void print() {\n",
    "        System.out.println(\"Arabica: overriding coffee..\");\n",
    "    }\n",
    "    void print(String s) {\n",
    "        System.out.printf(\"%s: %s\", species, s);\n",
    "    }\n",
    "}"
   ]
  },
  {
   "cell_type": "code",
   "execution_count": 17,
   "metadata": {
    "collapsed": false,
    "scrolled": true
   },
   "outputs": [
    {
     "name": "stdout",
     "output_type": "stream",
     "text": [
      " Arabica a=new Arabica();\r\n",
      "|  Modified variable a of type Arabica with initial value Arabica@ff5b51f\r\n",
      "|    Update overwrote variable a\r\n",
      "\r\n",
      " a.setSpecies(\"Arabica\");\r\n",
      "\r\n",
      " a.print(\"better quality\")\r\n",
      "Arabica: better quality\r\n"
     ]
    }
   ],
   "source": [
    "Arabica a=new Arabica();\n",
    "a.setSpecies(\"Arabica\");\n",
    "a.print(\"better quality\")"
   ]
  },
  {
   "cell_type": "markdown",
   "metadata": {
    "collapsed": true
   },
   "source": [
    "* casting\n",
    "    * upcasting을 하고 함수를 호출하는 경우, 부모의 함수를 호출할까? 자신의 함수를 호출할까?\n",
    "    * 함수가 재정의 되어 있는 경우, 자신의 재정의된 함수를 호출한다."
   ]
  },
  {
   "cell_type": "code",
   "execution_count": 14,
   "metadata": {
    "collapsed": false,
    "scrolled": true
   },
   "outputs": [
    {
     "name": "stdout",
     "output_type": "stream",
     "text": [
      " CoffeeBeans ca = new Arabica();\r\n",
      "|  Added variable ca of type CoffeeBeans with initial value Arabica@4566e5bd\r\n",
      "\r\n",
      " ca.print();\r\n",
      "Arabia: overriding coffee..\r\n",
      "\r\n"
     ]
    }
   ],
   "source": [
    "CoffeeBeans ca = new Arabica();\n",
    "ca.print();"
   ]
  },
  {
   "cell_type": "markdown",
   "metadata": {},
   "source": [
    "* visibility\n",
    "    * 부모클래스의 속성을 private으로 하는 경우는 자식클래스라고 해도 사용할 수 없다.\n",
    "    * 상속관계에서 부모클래스의 속성을 protected로 해서 자식클래스가 사용할 수 있게 한다."
   ]
  },
  {
   "cell_type": "code",
   "execution_count": 13,
   "metadata": {
    "collapsed": false
   },
   "outputs": [
    {
     "name": "stdout",
     "output_type": "stream",
     "text": [
      " }\r\n",
      "|  Error:\r\n",
      "|  species has private access in CoffeeBeans\r\n",
      "|          System.out.printf(\"Exception in thread \"main\" java.util.MissingFormatArgumentException: Format specifier '%s'\r\n",
      "\tat java.util.Formatter.format(java.base@9-internal/Formatter.java:2524)\r\n",
      "\tat java.io.PrintStream.format(java.base@9-internal/PrintStream.java:974)\r\n",
      "\tat java.io.PrintStream.printf(java.base@9-internal/PrintStream.java:873)\r\n",
      "\tat jdk.internal.jshell.tool.JShellTool.rawout(jdk.jshell@9-internal/JShellTool.java:230)\r\n",
      "\tat jdk.internal.jshell.tool.JShellTool.hard(jdk.jshell@9-internal/JShellTool.java:240)\r\n",
      "\tat jdk.internal.jshell.tool.JShellTool.lambda$handleEvent$70(jdk.jshell@9-internal/JShellTool.java:1832)\r\n",
      "\tat java.util.ArrayList$ArrayListSpliterator.forEachRemaining(java.base@9-internal/ArrayList.java:1477)\r\n",
      "\tat java.util.stream.ReferencePipeline$Head.forEach(java.base@9-internal/ReferencePipeline.java:591)\r\n",
      "\tat jdk.internal.jshell.tool.JShellTool.handleEvent(jdk.jshell@9-internal/JShellTool.java:1832)\r\n",
      "\tat jdk.internal.jshell.tool.JShellTool.processCompleteSource(jdk.jshell@9-internal/JShellTool.java:1799)\r\n",
      "\tat jdk.internal.jshell.tool.JShellTool.processSource(jdk.jshell@9-internal/JShellTool.java:1784)\r\n",
      "\tat jdk.internal.jshell.tool.JShellTool.processSourceCatchingReset(jdk.jshell@9-internal/JShellTool.java:686)\r\n",
      "\tat jdk.internal.jshell.tool.JShellTool.run(jdk.jshell@9-internal/JShellTool.java:666)\r\n",
      "\tat jdk.internal.jshell.tool.JShellTool.start(jdk.jshell@9-internal/JShellTool.java:473)\r\n",
      "\tat jdk.internal.jshell.tool.JShellTool.start(jdk.jshell@9-internal/JShellTool.java:447)\r\n",
      "\tat jdk.internal.jshell.tool.JShellTool.main(jdk.jshell@9-internal/JShellTool.java:437)\r\n",
      "Restarting java"
     ]
    }
   ],
   "source": [
    "class CoffeeBeans {\n",
    "    private String species=\"Coffee\";\n",
    "    void print() {\n",
    "        System.out.println(species);\n",
    "    }\n",
    "    void setSepecies(String s) {\n",
    "        species=s;\n",
    "    }\n",
    "}\n",
    "\n",
    "class Robusta extends CoffeeBeans {\n",
    "    void print() {\n",
    "        System.out.printf(\"%s overriding coffee..\",species);\n",
    "    }\n",
    "}"
   ]
  },
  {
   "cell_type": "code",
   "execution_count": 16,
   "metadata": {
    "collapsed": false
   },
   "outputs": [
    {
     "name": "stdout",
     "output_type": "stream",
     "text": [
      " class CoffeeBeans {\r\n",
      "     protected String species=\"Coffee\";\r\n",
      "     void print() {\r\n",
      "         System.out.println(species);\r\n",
      "     }\r\n",
      "     void setSepecies(String s) {\r\n",
      "         species=s;\r\n",
      "     }\r\n",
      " }\r\n",
      "|  Modified class CoffeeBeans\r\n",
      "|    Update overwrote class CoffeeBeans\r\n",
      "\r\n",
      " \r\n",
      "\r\n",
      " class Robusta extends CoffeeBeans {\r\n",
      "     void print() {\r\n",
      "         System.out.printf(\"%s: overriding coffee..\",species);\r\n",
      "     }\r\n",
      " }\r\n",
      "|  Modified class Robusta\r\n",
      "|    Update overwrote class Robusta\r\n",
      "\r\n"
     ]
    }
   ],
   "source": [
    "class CoffeeBeans {\n",
    "    protected String species=\"Coffee\";\n",
    "    void print() {\n",
    "        System.out.println(species);\n",
    "    }\n",
    "    void setSepecies(String s) {\n",
    "        species=s;\n",
    "    }\n",
    "}\n",
    "\n",
    "class Robusta extends CoffeeBeans {\n",
    "    void print() {\n",
    "        System.out.printf(\"%s: overriding coffee..\",species);\n",
    "    }\n",
    "}"
   ]
  },
  {
   "cell_type": "markdown",
   "metadata": {
    "collapsed": true
   },
   "source": [
    "* protected 속성을 사용해서, 재정의한 print()함수를 호출한다."
   ]
  },
  {
   "cell_type": "code",
   "execution_count": 17,
   "metadata": {
    "collapsed": false
   },
   "outputs": [
    {
     "name": "stdout",
     "output_type": "stream",
     "text": [
      " Robusta r=new Robusta();\r\n",
      "|  Modified variable r of type Robusta with initial value Robusta@1e127982\r\n",
      "|    Update overwrote variable r\r\n",
      "\r\n",
      " \r\n",
      "\r\n",
      " r.print();\r\n",
      "Coffee: overriding coffee..\r\n"
     ]
    }
   ],
   "source": [
    "Robusta r=new Robusta();\n",
    "\n",
    "r.print();"
   ]
  },
  {
   "cell_type": "markdown",
   "metadata": {},
   "source": [
    "## 7.2 Constructor\n",
    "\n",
    "* 상속관계에서 생성자를 정의할 경우:\n",
    "    * 기본 생성자는 입력변수가 없다 (default constructor)\n",
    "    * 자식클래스의 생성자를 새로 정의할 때, 부모클래스의 생성자를 사용할 수 있다.\n",
    "        * super 명령어를 사용할 수 있다."
   ]
  },
  {
   "cell_type": "markdown",
   "metadata": {},
   "source": [
    "* 도형 사례\n",
    "    * 사각형과 육면체의 상속관계를 구현한다."
   ]
  },
  {
   "cell_type": "code",
   "execution_count": 4,
   "metadata": {
    "collapsed": true
   },
   "outputs": [],
   "source": [
    "import iplantuml"
   ]
  },
  {
   "cell_type": "code",
   "execution_count": 5,
   "metadata": {
    "collapsed": false
   },
   "outputs": [
    {
     "data": {
      "image/svg+xml": [
       "<svg height=\"129px\" style=\"width:208px;height:129px;\" version=\"1.1\" viewBox=\"0 0 208 129\" width=\"208px\" xmlns=\"http://www.w3.org/2000/svg\" xmlns:xlink=\"http://www.w3.org/1999/xlink\"><defs><filter height=\"300%\" id=\"f1\" width=\"300%\" x=\"-1\" y=\"-1\"><feGaussianBlur result=\"blurOut\" stdDeviation=\"2.0\"/><feColorMatrix in=\"blurOut\" result=\"blurOut2\" type=\"matrix\" values=\"0 0 0 0 0 0 0 0 0 0 0 0 0 0 0 0 0 0 .4 0\"/><feOffset dx=\"4.0\" dy=\"4.0\" in=\"blurOut2\" result=\"blurOut3\"/><feBlend in=\"SourceGraphic\" in2=\"blurOut3\" mode=\"normal\"/></filter></defs><g><rect fill=\"#FEFECE\" filter=\"url(#f1)\" height=\"112.0234\" style=\"stroke: #A80036; stroke-width: 1.5;\" width=\"193\" x=\"6\" y=\"8\"/><ellipse cx=\"66.75\" cy=\"24\" fill=\"#ADD1B2\" rx=\"11\" ry=\"11\" style=\"stroke: #A80036; stroke-width: 1.0;\"/><path d=\"M69.7188,29.6406 Q69.1406,29.9375 68.5,30.0859 Q67.8594,30.2344 67.1563,30.2344 Q64.6563,30.2344 63.3359,28.5859 Q62.0156,26.9375 62.0156,23.8125 Q62.0156,20.6875 63.3359,19.0313 Q64.6563,17.375 67.1563,17.375 Q67.8594,17.375 68.5078,17.5313 Q69.1563,17.6875 69.7188,17.9844 L69.7188,20.7031 Q69.0938,20.125 68.5,19.8516 Q67.9063,19.5781 67.2813,19.5781 Q65.9375,19.5781 65.25,20.6484 Q64.5625,21.7188 64.5625,23.8125 Q64.5625,25.9063 65.25,26.9766 Q65.9375,28.0469 67.2813,28.0469 Q67.9063,28.0469 68.5,27.7734 Q69.0938,27.5 69.7188,26.9219 L69.7188,29.6406 Z \"/><text fill=\"#000000\" font-family=\"sans-serif\" font-size=\"12\" lengthAdjust=\"spacingAndGlyphs\" textLength=\"63\" x=\"87.25\" y=\"28.1543\">Rectangle</text><line style=\"stroke: #A80036; stroke-width: 1.5;\" x1=\"7\" x2=\"198\" y1=\"40\" y2=\"40\"/><polygon fill=\"none\" points=\"17,46.9023,21,50.9023,17,54.9023,13,50.9023\" style=\"stroke: #B38D22; stroke-width: 1.0;\"/><text fill=\"#000000\" font-family=\"sans-serif\" font-size=\"11\" lengthAdjust=\"spacingAndGlyphs\" textLength=\"77\" x=\"26\" y=\"54.2104\">length:double</text><polygon fill=\"none\" points=\"17,59.707,21,63.707,17,67.707,13,63.707\" style=\"stroke: #B38D22; stroke-width: 1.0;\"/><text fill=\"#000000\" font-family=\"sans-serif\" font-size=\"11\" lengthAdjust=\"spacingAndGlyphs\" textLength=\"72\" x=\"26\" y=\"67.0151\">width:double</text><line style=\"stroke: #A80036; stroke-width: 1.5;\" x1=\"7\" x2=\"198\" y1=\"73.6094\" y2=\"73.6094\"/><ellipse cx=\"17\" cy=\"85.5117\" fill=\"#84BE84\" rx=\"3\" ry=\"3\" style=\"stroke: #038048; stroke-width: 1.0;\"/><text fill=\"#000000\" font-family=\"sans-serif\" font-size=\"11\" lengthAdjust=\"spacingAndGlyphs\" textLength=\"167\" x=\"26\" y=\"87.8198\">Rectangle(l:double, w:double)</text><ellipse cx=\"17\" cy=\"98.3164\" fill=\"#84BE84\" rx=\"3\" ry=\"3\" style=\"stroke: #038048; stroke-width: 1.0;\"/><text fill=\"#000000\" font-family=\"sans-serif\" font-size=\"11\" lengthAdjust=\"spacingAndGlyphs\" textLength=\"106\" x=\"26\" y=\"100.6245\">getLength():double</text><ellipse cx=\"17\" cy=\"111.1211\" fill=\"#84BE84\" rx=\"3\" ry=\"3\" style=\"stroke: #038048; stroke-width: 1.0;\"/><text fill=\"#000000\" font-family=\"sans-serif\" font-size=\"11\" lengthAdjust=\"spacingAndGlyphs\" textLength=\"98\" x=\"26\" y=\"113.4292\">getWidth():double</text></g></svg>"
      ],
      "text/plain": [
       "<IPython.core.display.SVG object>"
      ]
     },
     "execution_count": 5,
     "metadata": {},
     "output_type": "execute_result"
    }
   ],
   "source": [
    "%%plantuml\n",
    "@startuml\n",
    "class Rectangle {\n",
    "    length:double\n",
    "    width:double\n",
    "    +Rectangle(l:double, w:double)\n",
    "    +getLength():double\n",
    "    +getWidth():double\n",
    "}\n",
    "@enduml"
   ]
  },
  {
   "cell_type": "markdown",
   "metadata": {},
   "source": [
    "* 부모클래스를 구현한다."
   ]
  },
  {
   "cell_type": "code",
   "execution_count": 1,
   "metadata": {
    "collapsed": false
   },
   "outputs": [
    {
     "name": "stdout",
     "output_type": "stream",
     "text": [
      " class Rectangle {\r\n",
      "     protected double length;\r\n",
      "     protected double width;\r\n",
      "     public Rectangle(double l, double w) {\r\n",
      "         this.length=l;\r\n",
      "         this.width=w;\r\n",
      "     }\r\n",
      "     public double getLength() {\r\n",
      "         return length;\r\n",
      "     }\r\n",
      "     public double getWidth() {\r\n",
      "         return width;\r\n",
      "     }\r\n",
      " }\r\n",
      "|  Added class Rectangle\r\n",
      "\r\n"
     ]
    }
   ],
   "source": [
    "class Rectangle {\n",
    "    double length;\n",
    "    double width;\n",
    "    public Rectangle(double l, double w) {\n",
    "        this.length=l;\n",
    "        this.width=w;\n",
    "    }\n",
    "    public double getLength() {\n",
    "        return length;\n",
    "    }\n",
    "    public double getWidth() {\n",
    "        return width;\n",
    "    }\n",
    "}"
   ]
  },
  {
   "cell_type": "markdown",
   "metadata": {},
   "source": [
    "* Cube 하위클래스를 만들어 보자.\n",
    "    * 직육면체는 Length × Width × Height가 서로 다른다.\n",
    "    * 정육면체 (Square Prism)는 Length × Width × Height가 모두 동일하다.\n",
    "    * 생성자를 정의할 경우, 사각형의 길이, 너비를 사용할 수 있다."
   ]
  },
  {
   "cell_type": "code",
   "execution_count": 1,
   "metadata": {
    "collapsed": true
   },
   "outputs": [],
   "source": [
    "import iplantuml"
   ]
  },
  {
   "cell_type": "code",
   "execution_count": 3,
   "metadata": {
    "collapsed": false,
    "scrolled": true
   },
   "outputs": [
    {
     "data": {
      "image/svg+xml": [
       "<svg height=\"275px\" style=\"width:239px;height:275px;\" version=\"1.1\" viewBox=\"0 0 239 275\" width=\"239px\" xmlns=\"http://www.w3.org/2000/svg\" xmlns:xlink=\"http://www.w3.org/1999/xlink\"><defs><filter height=\"300%\" id=\"f1\" width=\"300%\" x=\"-1\" y=\"-1\"><feGaussianBlur result=\"blurOut\" stdDeviation=\"2.0\"/><feColorMatrix in=\"blurOut\" result=\"blurOut2\" type=\"matrix\" values=\"0 0 0 0 0 0 0 0 0 0 0 0 0 0 0 0 0 0 .4 0\"/><feOffset dx=\"4.0\" dy=\"4.0\" in=\"blurOut2\" result=\"blurOut3\"/><feBlend in=\"SourceGraphic\" in2=\"blurOut3\" mode=\"normal\"/></filter></defs><g><rect fill=\"#FEFECE\" filter=\"url(#f1)\" height=\"112.0234\" style=\"stroke: #A80036; stroke-width: 1.5;\" width=\"193\" x=\"21.5\" y=\"8\"/><ellipse cx=\"82.25\" cy=\"24\" fill=\"#ADD1B2\" rx=\"11\" ry=\"11\" style=\"stroke: #A80036; stroke-width: 1.0;\"/><path d=\"M85.2188,29.6406 Q84.6406,29.9375 84,30.0859 Q83.3594,30.2344 82.6563,30.2344 Q80.1563,30.2344 78.8359,28.5859 Q77.5156,26.9375 77.5156,23.8125 Q77.5156,20.6875 78.8359,19.0313 Q80.1563,17.375 82.6563,17.375 Q83.3594,17.375 84.0078,17.5313 Q84.6563,17.6875 85.2188,17.9844 L85.2188,20.7031 Q84.5938,20.125 84,19.8516 Q83.4063,19.5781 82.7813,19.5781 Q81.4375,19.5781 80.75,20.6484 Q80.0625,21.7188 80.0625,23.8125 Q80.0625,25.9063 80.75,26.9766 Q81.4375,28.0469 82.7813,28.0469 Q83.4063,28.0469 84,27.7734 Q84.5938,27.5 85.2188,26.9219 L85.2188,29.6406 Z \"/><text fill=\"#000000\" font-family=\"sans-serif\" font-size=\"12\" lengthAdjust=\"spacingAndGlyphs\" textLength=\"63\" x=\"102.75\" y=\"28.1543\">Rectangle</text><line style=\"stroke: #A80036; stroke-width: 1.5;\" x1=\"22.5\" x2=\"213.5\" y1=\"40\" y2=\"40\"/><text fill=\"#000000\" font-family=\"sans-serif\" font-size=\"11\" lengthAdjust=\"spacingAndGlyphs\" textLength=\"77\" x=\"27.5\" y=\"54.2104\">length:double</text><text fill=\"#000000\" font-family=\"sans-serif\" font-size=\"11\" lengthAdjust=\"spacingAndGlyphs\" textLength=\"72\" x=\"27.5\" y=\"67.0151\">width:double</text><line style=\"stroke: #A80036; stroke-width: 1.5;\" x1=\"22.5\" x2=\"213.5\" y1=\"73.6094\" y2=\"73.6094\"/><ellipse cx=\"32.5\" cy=\"85.5117\" fill=\"#84BE84\" rx=\"3\" ry=\"3\" style=\"stroke: #038048; stroke-width: 1.0;\"/><text fill=\"#000000\" font-family=\"sans-serif\" font-size=\"11\" lengthAdjust=\"spacingAndGlyphs\" textLength=\"167\" x=\"41.5\" y=\"87.8198\">Rectangle(l:double, w:double)</text><ellipse cx=\"32.5\" cy=\"98.3164\" fill=\"#84BE84\" rx=\"3\" ry=\"3\" style=\"stroke: #038048; stroke-width: 1.0;\"/><text fill=\"#000000\" font-family=\"sans-serif\" font-size=\"11\" lengthAdjust=\"spacingAndGlyphs\" textLength=\"106\" x=\"41.5\" y=\"100.6245\">getLength():double</text><ellipse cx=\"32.5\" cy=\"111.1211\" fill=\"#84BE84\" rx=\"3\" ry=\"3\" style=\"stroke: #038048; stroke-width: 1.0;\"/><text fill=\"#000000\" font-family=\"sans-serif\" font-size=\"11\" lengthAdjust=\"spacingAndGlyphs\" textLength=\"98\" x=\"41.5\" y=\"113.4292\">getWidth():double</text><rect fill=\"#FEFECE\" filter=\"url(#f1)\" height=\"86.4141\" style=\"stroke: #A80036; stroke-width: 1.5;\" width=\"224\" x=\"6\" y=\"180\"/><ellipse cx=\"97.75\" cy=\"196\" fill=\"#ADD1B2\" rx=\"11\" ry=\"11\" style=\"stroke: #A80036; stroke-width: 1.0;\"/><path d=\"M100.7188,201.6406 Q100.1406,201.9375 99.5,202.0859 Q98.8594,202.2344 98.1563,202.2344 Q95.6563,202.2344 94.3359,200.5859 Q93.0156,198.9375 93.0156,195.8125 Q93.0156,192.6875 94.3359,191.0313 Q95.6563,189.375 98.1563,189.375 Q98.8594,189.375 99.5078,189.5313 Q100.1563,189.6875 100.7188,189.9844 L100.7188,192.7031 Q100.0938,192.125 99.5,191.8516 Q98.9063,191.5781 98.2813,191.5781 Q96.9375,191.5781 96.25,192.6484 Q95.5625,193.7188 95.5625,195.8125 Q95.5625,197.9063 96.25,198.9766 Q96.9375,200.0469 98.2813,200.0469 Q98.9063,200.0469 99.5,199.7734 Q100.0938,199.5 100.7188,198.9219 L100.7188,201.6406 Z \"/><text fill=\"#000000\" font-family=\"sans-serif\" font-size=\"12\" lengthAdjust=\"spacingAndGlyphs\" textLength=\"32\" x=\"118.25\" y=\"200.1543\">Cube</text><line style=\"stroke: #A80036; stroke-width: 1.5;\" x1=\"7\" x2=\"229\" y1=\"212\" y2=\"212\"/><text fill=\"#000000\" font-family=\"sans-serif\" font-size=\"11\" lengthAdjust=\"spacingAndGlyphs\" textLength=\"77\" x=\"12\" y=\"226.2104\">height:double</text><line style=\"stroke: #A80036; stroke-width: 1.5;\" x1=\"7\" x2=\"229\" y1=\"232.8047\" y2=\"232.8047\"/><ellipse cx=\"17\" cy=\"244.707\" fill=\"#84BE84\" rx=\"3\" ry=\"3\" style=\"stroke: #038048; stroke-width: 1.0;\"/><text fill=\"#000000\" font-family=\"sans-serif\" font-size=\"11\" lengthAdjust=\"spacingAndGlyphs\" textLength=\"198\" x=\"26\" y=\"247.0151\">Cube(l:double, w:double, h:double)</text><ellipse cx=\"17\" cy=\"257.5117\" fill=\"#84BE84\" rx=\"3\" ry=\"3\" style=\"stroke: #038048; stroke-width: 1.0;\"/><text fill=\"#000000\" font-family=\"sans-serif\" font-size=\"11\" lengthAdjust=\"spacingAndGlyphs\" textLength=\"104\" x=\"26\" y=\"259.8198\">getHeight():double</text><path d=\"M118,140.611 C118,154.156 118,167.8152 118,179.9736 \" fill=\"none\" style=\"stroke: #A80036; stroke-width: 1.0;\"/><polygon fill=\"none\" points=\"111,140.352,118,120.352,125,140.352,111,140.352\" style=\"stroke: #A80036; stroke-width: 1.0;\"/></g></svg>"
      ],
      "text/plain": [
       "<IPython.core.display.SVG object>"
      ]
     },
     "execution_count": 3,
     "metadata": {},
     "output_type": "execute_result"
    }
   ],
   "source": [
    "%%plantuml\n",
    "@startuml\n",
    "class Rectangle {\n",
    "    length:double\n",
    "    width:double\n",
    "    +Rectangle(l:double, w:double)\n",
    "    +getLength():double\n",
    "    +getWidth():double\n",
    "}\n",
    "class Cube {\n",
    "    height:double\n",
    "    +Cube(l:double, w:double, h:double)\n",
    "    +getHeight():double\n",
    "}\n",
    "Rectangle <|-- Cube\n",
    "@enduml"
   ]
  },
  {
   "cell_type": "markdown",
   "metadata": {},
   "source": [
    "* 자식클래스 Cube의 생성자는 3개이다. 이 가운데 2개는 부모클래스의 요소이다.\n",
    "* super()는 부모클래스의 생성자를 호출한다."
   ]
  },
  {
   "cell_type": "code",
   "execution_count": 3,
   "metadata": {
    "collapsed": false
   },
   "outputs": [
    {
     "name": "stdout",
     "output_type": "stream",
     "text": [
      " class Cube extends Rectangle {\r\n",
      "     private double height;\r\n",
      "     public Cube(double l, double w, double h) {\r\n",
      "         super(l,h);\r\n",
      "         this.height=w;\r\n",
      "     }\r\n",
      "     public double getHeight() {\r\n",
      "         return height;\r\n",
      "     }\r\n",
      " }\r\n",
      "|  Added class Cube\r\n",
      "\r\n"
     ]
    }
   ],
   "source": [
    "class Cube extends Rectangle {\n",
    "    double height;\n",
    "    public Cube(double l, double w, double h) {\n",
    "        super(l,h);\n",
    "        this.height=w;\n",
    "    }\n",
    "    public double getHeight() {\n",
    "        return height;\n",
    "    }\n",
    "}"
   ]
  },
  {
   "cell_type": "code",
   "execution_count": 4,
   "metadata": {
    "collapsed": false
   },
   "outputs": [
    {
     "name": "stdout",
     "output_type": "stream",
     "text": [
      " Cube c=new Cube(10.0,20.0,30.0);\r\n",
      "|  Added variable c of type Cube with initial value Cube@57fffcd7\r\n",
      "\r\n"
     ]
    }
   ],
   "source": [
    "Cube c=new Cube(10.0,20.0,30.0);"
   ]
  },
  {
   "cell_type": "markdown",
   "metadata": {},
   "source": [
    "* 상속받은 함수도 모두 호출할 수 있다."
   ]
  },
  {
   "cell_type": "code",
   "execution_count": 5,
   "metadata": {
    "collapsed": false,
    "scrolled": true
   },
   "outputs": [
    {
     "name": "stdout",
     "output_type": "stream",
     "text": [
      " c.getLength();\r\n",
      "|  Expression value is: 10.0\r\n",
      "|    assigned to temporary variable $4 of type double\r\n",
      "\r\n"
     ]
    }
   ],
   "source": [
    "c.getLength();"
   ]
  },
  {
   "cell_type": "markdown",
   "metadata": {},
   "source": [
    "## 7.3 Fields\n",
    "\n",
    "* 상속관계에서 부모의 속성을 사용할 수 있다.\n",
    "* 상속관계에서도 가시성을 제한하면, 자식클래스에서 사용할 수 없다.\n",
    "    * private 상속관계에서 자식클래스가 사용할 수 없다.\n",
    "    * protected 상속관계에서 자식클래스가 사용할 수 있다.\n"
   ]
  },
  {
   "cell_type": "markdown",
   "metadata": {},
   "source": [
    "### 7.3.1 protected 상속"
   ]
  },
  {
   "cell_type": "code",
   "execution_count": 18,
   "metadata": {
    "collapsed": false
   },
   "outputs": [
    {
     "name": "stdout",
     "output_type": "stream",
     "text": [
      " class Rectangle {\r\n",
      "     protected double length;\r\n",
      "     protected double width;\r\n",
      "     protected boolean isSelected;\r\n",
      "     public Rectangle(double l, double w) {\r\n",
      "         this.length=l;\r\n",
      "         this.width=w;\r\n",
      "     }\r\n",
      "     public double getLength() {\r\n",
      "         return length;\r\n",
      "     }\r\n",
      "     public double getWidth() {\r\n",
      "         return width;\r\n",
      "     }\r\n",
      "     public void setSelected(boolean b) {\r\n",
      "         isSelected=b;\r\n",
      "     }\r\n",
      "     public boolean getSelected() {\r\n",
      "         return isSelected;\r\n",
      "     }\r\n",
      " }\r\n",
      "|  Added class Rectangle\r\n",
      "\r\n"
     ]
    }
   ],
   "source": [
    "class Rectangle {\n",
    "    protected double length;\n",
    "    protected double width;\n",
    "    protected boolean isSelected;\n",
    "    public Rectangle(double l, double w) {\n",
    "        this.length=l;\n",
    "        this.width=w;\n",
    "    }\n",
    "    public double getLength() {\n",
    "        return length;\n",
    "    }\n",
    "    public double getWidth() {\n",
    "        return width;\n",
    "    }\n",
    "    public void setSelected(boolean b) {\n",
    "        isSelected=b;\n",
    "    }\n",
    "    public boolean getSelected() {\n",
    "        return isSelected;\n",
    "    }\n",
    "}"
   ]
  },
  {
   "cell_type": "code",
   "execution_count": 19,
   "metadata": {
    "collapsed": false
   },
   "outputs": [
    {
     "name": "stdout",
     "output_type": "stream",
     "text": [
      " Rectangle myrect=new Rectangle(10.0, 20.0)\r\n",
      "|  Added variable myrect of type Rectangle with initial value Rectangle@52a86356\r\n",
      "\r\n",
      " myrect.getLength();\r\n",
      "|  Expression value is: 10.0\r\n",
      "|    assigned to temporary variable $41 of type double\r\n",
      "\r\n",
      " myrect.setSelected(false);\r\n",
      "\r\n",
      " myrect.getSelected();\r\n",
      "|  Expression value is: false\r\n",
      "|    assigned to temporary variable $43 of type boolean\r\n",
      "\r\n"
     ]
    }
   ],
   "source": [
    "Rectangle myrect=new Rectangle(10.0, 20.0)\n",
    "myrect.getLength();\n",
    "myrect.setSelected(false);\n",
    "myrect.getSelected();"
   ]
  },
  {
   "cell_type": "markdown",
   "metadata": {
    "collapsed": true
   },
   "source": [
    "* protected field는 출력할 수 있다.\n",
    "    * 다른 클래스에서 출력할 수 있을까? 같은 상속에서는 허용."
   ]
  },
  {
   "cell_type": "code",
   "execution_count": 39,
   "metadata": {
    "collapsed": false
   },
   "outputs": [
    {
     "name": "stdout",
     "output_type": "stream",
     "text": [
      " myrect.length;\r\n",
      "|  Expression value is: 10.0\r\n",
      "|    assigned to temporary variable $33 of type double\r\n",
      "\r\n"
     ]
    }
   ],
   "source": [
    "myrect.length;"
   ]
  },
  {
   "cell_type": "markdown",
   "metadata": {
    "collapsed": true
   },
   "source": [
    "## 문제 oo-1: 도형을 선택하여 그룹을 만들 수 있다. 선택된 도형을 알아내기.\n",
    "\n",
    "* 출석을 생각해 보자. 학생이 출석했는지 누가 알아야 하는가? 출석과 출석기록으로 나누어 생각해 본다.\n",
    "    * 출석은 학생이 한다.\n",
    "    * 출석부 기재는 교수가 한다. 여러 학생을 기록해야 하기 때문이다.\n",
    "* 도형으로 생각해 보기. 도형을 선택한 후, 삭제하거나 움직이거나 복사하거나 크기를 줄이거나 하는 경우이다.\n",
    "    * 선택은 도형의 함수이다.\n",
    "    * 선택된 것을 기록하는 클래스가 필요하다. 도형은 여러 개이다. 그룹으로 해야 할 작업이 있다.\n",
    "* 구현의 관점에서 생각해 보기\n",
    "    * 도형은 상속으로 구현할 수 있다.\n",
    "    * 선택은 관련 클래스로 구현할 수 있다.\n",
    "        * Selection 클래스를 구현한다.\n",
    "            * Selection클래스는 도형을 변경하기 위해 선택하는 기능을 가지고 있다.\n",
    "            * 도형을 선택한 경우, setSelected()함수를 사용한다. \n",
    "\n",
    "\n",
    "구분 | isa | hasa\n",
    "-------|-------|-------\n",
    "관계 | 상속 | 연관, 포함\n",
    "언제 사용 | 모든 것을 사용할 경우 | 일부만 사용할 경우\n"
   ]
  },
  {
   "cell_type": "code",
   "execution_count": 7,
   "metadata": {
    "collapsed": false,
    "scrolled": true
   },
   "outputs": [
    {
     "data": {
      "image/svg+xml": [
       "<svg height=\"211px\" style=\"width:393px;height:211px;\" version=\"1.1\" viewBox=\"0 0 393 211\" width=\"393px\" xmlns=\"http://www.w3.org/2000/svg\" xmlns:xlink=\"http://www.w3.org/1999/xlink\"><defs><filter height=\"300%\" id=\"f1\" width=\"300%\" x=\"-1\" y=\"-1\"><feGaussianBlur result=\"blurOut\" stdDeviation=\"2.0\"/><feColorMatrix in=\"blurOut\" result=\"blurOut2\" type=\"matrix\" values=\"0 0 0 0 0 0 0 0 0 0 0 0 0 0 0 0 0 0 .4 0\"/><feOffset dx=\"4.0\" dy=\"4.0\" in=\"blurOut2\" result=\"blurOut3\"/><feBlend in=\"SourceGraphic\" in2=\"blurOut3\" mode=\"normal\"/></filter></defs><g><rect fill=\"#FEFECE\" filter=\"url(#f1)\" height=\"86.4141\" style=\"stroke: #A80036; stroke-width: 1.5;\" width=\"184\" x=\"200.5\" y=\"8\"/><ellipse cx=\"256.75\" cy=\"24\" fill=\"#ADD1B2\" rx=\"11\" ry=\"11\" style=\"stroke: #A80036; stroke-width: 1.0;\"/><path d=\"M259.7188,29.6406 Q259.1406,29.9375 258.5,30.0859 Q257.8594,30.2344 257.1563,30.2344 Q254.6563,30.2344 253.3359,28.5859 Q252.0156,26.9375 252.0156,23.8125 Q252.0156,20.6875 253.3359,19.0313 Q254.6563,17.375 257.1563,17.375 Q257.8594,17.375 258.5078,17.5313 Q259.1563,17.6875 259.7188,17.9844 L259.7188,20.7031 Q259.0938,20.125 258.5,19.8516 Q257.9063,19.5781 257.2813,19.5781 Q255.9375,19.5781 255.25,20.6484 Q254.5625,21.7188 254.5625,23.8125 Q254.5625,25.9063 255.25,26.9766 Q255.9375,28.0469 257.2813,28.0469 Q257.9063,28.0469 258.5,27.7734 Q259.0938,27.5 259.7188,26.9219 L259.7188,29.6406 Z \"/><text fill=\"#000000\" font-family=\"sans-serif\" font-size=\"12\" lengthAdjust=\"spacingAndGlyphs\" textLength=\"63\" x=\"277.25\" y=\"28.1543\">Rectangle</text><line style=\"stroke: #A80036; stroke-width: 1.5;\" x1=\"201.5\" x2=\"383.5\" y1=\"40\" y2=\"40\"/><polygon fill=\"none\" points=\"211.5,46.9023,215.5,50.9023,211.5,54.9023,207.5,50.9023\" style=\"stroke: #B38D22; stroke-width: 1.0;\"/><text fill=\"#000000\" font-family=\"sans-serif\" font-size=\"11\" lengthAdjust=\"spacingAndGlyphs\" textLength=\"108\" x=\"220.5\" y=\"54.2104\">isSelected:boolean</text><line style=\"stroke: #A80036; stroke-width: 1.5;\" x1=\"201.5\" x2=\"383.5\" y1=\"60.8047\" y2=\"60.8047\"/><ellipse cx=\"211.5\" cy=\"72.707\" fill=\"#84BE84\" rx=\"3\" ry=\"3\" style=\"stroke: #038048; stroke-width: 1.0;\"/><text fill=\"#000000\" font-family=\"sans-serif\" font-size=\"11\" lengthAdjust=\"spacingAndGlyphs\" textLength=\"158\" x=\"220.5\" y=\"75.0151\">setSelected(b:boolean):void</text><ellipse cx=\"211.5\" cy=\"85.5117\" fill=\"#84BE84\" rx=\"3\" ry=\"3\" style=\"stroke: #038048; stroke-width: 1.0;\"/><text fill=\"#000000\" font-family=\"sans-serif\" font-size=\"11\" lengthAdjust=\"spacingAndGlyphs\" textLength=\"124\" x=\"220.5\" y=\"87.8198\">getSelected():boolean</text><rect fill=\"#FEFECE\" filter=\"url(#f1)\" height=\"48\" style=\"stroke: #A80036; stroke-width: 1.5;\" width=\"64\" x=\"260.5\" y=\"154\"/><ellipse cx=\"275.5\" cy=\"170\" fill=\"#ADD1B2\" rx=\"11\" ry=\"11\" style=\"stroke: #A80036; stroke-width: 1.0;\"/><path d=\"M278.4688,175.6406 Q277.8906,175.9375 277.25,176.0859 Q276.6094,176.2344 275.9063,176.2344 Q273.4063,176.2344 272.0859,174.5859 Q270.7656,172.9375 270.7656,169.8125 Q270.7656,166.6875 272.0859,165.0313 Q273.4063,163.375 275.9063,163.375 Q276.6094,163.375 277.2578,163.5313 Q277.9063,163.6875 278.4688,163.9844 L278.4688,166.7031 Q277.8438,166.125 277.25,165.8516 Q276.6563,165.5781 276.0313,165.5781 Q274.6875,165.5781 274,166.6484 Q273.3125,167.7188 273.3125,169.8125 Q273.3125,171.9063 274,172.9766 Q274.6875,174.0469 276.0313,174.0469 Q276.6563,174.0469 277.25,173.7734 Q277.8438,173.5 278.4688,172.9219 L278.4688,175.6406 Z \"/><text fill=\"#000000\" font-family=\"sans-serif\" font-size=\"12\" lengthAdjust=\"spacingAndGlyphs\" textLength=\"32\" x=\"289.5\" y=\"174.1543\">Cube</text><line style=\"stroke: #A80036; stroke-width: 1.5;\" x1=\"261.5\" x2=\"323.5\" y1=\"186\" y2=\"186\"/><line style=\"stroke: #A80036; stroke-width: 1.5;\" x1=\"261.5\" x2=\"323.5\" y1=\"194\" y2=\"194\"/><rect fill=\"#FEFECE\" filter=\"url(#f1)\" height=\"60.8047\" style=\"stroke: #A80036; stroke-width: 1.5;\" width=\"159\" x=\"6\" y=\"20.5\"/><ellipse cx=\"52.25\" cy=\"36.5\" fill=\"#ADD1B2\" rx=\"11\" ry=\"11\" style=\"stroke: #A80036; stroke-width: 1.0;\"/><path d=\"M55.2188,42.1406 Q54.6406,42.4375 54,42.5859 Q53.3594,42.7344 52.6563,42.7344 Q50.1563,42.7344 48.8359,41.0859 Q47.5156,39.4375 47.5156,36.3125 Q47.5156,33.1875 48.8359,31.5313 Q50.1563,29.875 52.6563,29.875 Q53.3594,29.875 54.0078,30.0313 Q54.6563,30.1875 55.2188,30.4844 L55.2188,33.2031 Q54.5938,32.625 54,32.3516 Q53.4063,32.0781 52.7813,32.0781 Q51.4375,32.0781 50.75,33.1484 Q50.0625,34.2188 50.0625,36.3125 Q50.0625,38.4063 50.75,39.4766 Q51.4375,40.5469 52.7813,40.5469 Q53.4063,40.5469 54,40.2734 Q54.5938,40 55.2188,39.4219 L55.2188,42.1406 Z \"/><text fill=\"#000000\" font-family=\"sans-serif\" font-size=\"12\" lengthAdjust=\"spacingAndGlyphs\" textLength=\"58\" x=\"72.75\" y=\"40.6543\">Selection</text><line style=\"stroke: #A80036; stroke-width: 1.5;\" x1=\"7\" x2=\"164\" y1=\"52.5\" y2=\"52.5\"/><line style=\"stroke: #A80036; stroke-width: 1.5;\" x1=\"7\" x2=\"164\" y1=\"60.5\" y2=\"60.5\"/><ellipse cx=\"17\" cy=\"72.4023\" fill=\"#84BE84\" rx=\"3\" ry=\"3\" style=\"stroke: #038048; stroke-width: 1.0;\"/><text fill=\"#000000\" font-family=\"sans-serif\" font-size=\"11\" lengthAdjust=\"spacingAndGlyphs\" textLength=\"133\" x=\"26\" y=\"74.7104\">select(r:Rectangle):void</text><path d=\"M292.5,114.495 C292.5,128.489 292.5,142.4833 292.5,153.6717 \" fill=\"none\" style=\"stroke: #A80036; stroke-width: 1.0;\"/><polygon fill=\"none\" points=\"285.5,114.3193,292.5,94.319,299.5,114.3193,285.5,114.3193\" style=\"stroke: #A80036; stroke-width: 1.0;\"/><path d=\"M165.146,51 C175.172,51 185.198,51 195.224,51 \" fill=\"none\" style=\"stroke: #A80036; stroke-width: 1.0; stroke-dasharray: 7.0,7.0;\"/><polygon fill=\"#A80036\" points=\"200.467,51,191.467,47,195.467,51,191.467,55,200.467,51\" style=\"stroke: #A80036; stroke-width: 1.0;\"/></g></svg>"
      ],
      "text/plain": [
       "<IPython.core.display.SVG object>"
      ]
     },
     "execution_count": 7,
     "metadata": {},
     "output_type": "execute_result"
    }
   ],
   "source": [
    "%%plantuml\n",
    "@startuml\n",
    "class Rectangle {\n",
    "    #isSelected:boolean\n",
    "    +setSelected(b:boolean):void\n",
    "    +getSelected():boolean\n",
    "}\n",
    "class Cube\n",
    "class Selection {\n",
    "    +select(r:Rectangle):void\n",
    "}\n",
    "Rectangle <|-- Cube\n",
    "Selection .right.> Rectangle\n",
    "@enduml"
   ]
  },
  {
   "cell_type": "code",
   "execution_count": 20,
   "metadata": {
    "collapsed": false
   },
   "outputs": [
    {
     "name": "stdout",
     "output_type": "stream",
     "text": [
      " class Selection {\r\n",
      "     Selection(){}\r\n",
      "     public void select(Rectangle r) {\r\n",
      "         r.setSelected(true);\r\n",
      "         System.out.println(\"selected: \"+r.isSelected);\r\n",
      "     }\r\n",
      " }\r\n",
      "|  Added class Selection\r\n",
      "\r\n"
     ]
    }
   ],
   "source": [
    "class Selection {\n",
    "    Selection(){}\n",
    "    public void select(Rectangle r) {\n",
    "        r.setSelected(true);\n",
    "        System.out.println(\"selected: \"+r.isSelected);\n",
    "    }\n",
    "}"
   ]
  },
  {
   "cell_type": "code",
   "execution_count": 21,
   "metadata": {
    "collapsed": false
   },
   "outputs": [
    {
     "name": "stdout",
     "output_type": "stream",
     "text": [
      " Selection s=new Selection();\r\n",
      "|  Added variable s of type Selection with initial value Selection@6d7b4f4c\r\n",
      "|    Update modified class CoffeeBeans\r\n",
      "|    Update modified class Arabica\r\n",
      "\r\n"
     ]
    }
   ],
   "source": [
    "Selection s=new Selection();"
   ]
  },
  {
   "cell_type": "code",
   "execution_count": 23,
   "metadata": {
    "collapsed": false
   },
   "outputs": [
    {
     "name": "stdout",
     "output_type": "stream",
     "text": [
      " Rectangle r=new Rectangle(20,30);\r\n",
      "|  Modified variable r of type Rectangle with initial value Rectangle@731a74c\r\n",
      "|    Update overwrote variable r\r\n",
      "\r\n",
      " s.select(r);\r\n",
      "selected: true\r\n",
      "\r\n"
     ]
    }
   ],
   "source": [
    "Rectangle r=new Rectangle(20,30);\n",
    "s.select(r);"
   ]
  },
  {
   "cell_type": "markdown",
   "metadata": {
    "collapsed": true
   },
   "source": [
    "* 도형이 선택되었는지 getSelected()를 사용해서 알 수 있다.\n",
    "* boolean을 반환할 경우, 함수명이 isSelected()로 변경할 수 있다."
   ]
  },
  {
   "cell_type": "code",
   "execution_count": 25,
   "metadata": {
    "collapsed": false,
    "scrolled": false
   },
   "outputs": [
    {
     "name": "stdout",
     "output_type": "stream",
     "text": [
      " r.getSelected();\r\n",
      "|  Expression value is: true\r\n",
      "|    assigned to temporary variable $50 of type boolean\r\n",
      "\r\n"
     ]
    }
   ],
   "source": [
    "r.getSelected();"
   ]
  },
  {
   "cell_type": "markdown",
   "metadata": {},
   "source": [
    "### 7.3.2 private의 상속\n",
    "\n",
    "* 거북이 사례를 사용하여 구현한다.\n",
    "* private은 상속이 되지 않는다.\n",
    "\n",
    "특징 | 바다거북 | 육지거북\n",
    "-----|-----|-----\n",
    "거주 | 주로 바다 | 건조한 지역\n",
    "수영 | 수영할 수 있다 | 수영할 수 없다\n",
    "먹이 | 해조류 | 풀, 선인장\n",
    "발모양 | 물발퀴 | 물갈퀴 퇴화\n",
    "발톱 | 퇴화 | 발달\n",
    "\n"
   ]
  },
  {
   "cell_type": "code",
   "execution_count": 8,
   "metadata": {
    "collapsed": false,
    "scrolled": true
   },
   "outputs": [
    {
     "data": {
      "image/svg+xml": [
       "<svg height=\"236px\" style=\"width:240px;height:236px;\" version=\"1.1\" viewBox=\"0 0 240 236\" width=\"240px\" xmlns=\"http://www.w3.org/2000/svg\" xmlns:xlink=\"http://www.w3.org/1999/xlink\"><defs><filter height=\"300%\" id=\"f1\" width=\"300%\" x=\"-1\" y=\"-1\"><feGaussianBlur result=\"blurOut\" stdDeviation=\"2.0\"/><feColorMatrix in=\"blurOut\" result=\"blurOut2\" type=\"matrix\" values=\"0 0 0 0 0 0 0 0 0 0 0 0 0 0 0 0 0 0 .4 0\"/><feOffset dx=\"4.0\" dy=\"4.0\" in=\"blurOut2\" result=\"blurOut3\"/><feBlend in=\"SourceGraphic\" in2=\"blurOut3\" mode=\"normal\"/></filter></defs><g><rect fill=\"#FEFECE\" filter=\"url(#f1)\" height=\"99.2188\" style=\"stroke: #A80036; stroke-width: 1.5;\" width=\"148\" x=\"43\" y=\"8\"/><ellipse cx=\"94.75\" cy=\"24\" fill=\"#ADD1B2\" rx=\"11\" ry=\"11\" style=\"stroke: #A80036; stroke-width: 1.0;\"/><path d=\"M97.7188,29.6406 Q97.1406,29.9375 96.5,30.0859 Q95.8594,30.2344 95.1563,30.2344 Q92.6563,30.2344 91.3359,28.5859 Q90.0156,26.9375 90.0156,23.8125 Q90.0156,20.6875 91.3359,19.0313 Q92.6563,17.375 95.1563,17.375 Q95.8594,17.375 96.5078,17.5313 Q97.1563,17.6875 97.7188,17.9844 L97.7188,20.7031 Q97.0938,20.125 96.5,19.8516 Q95.9063,19.5781 95.2813,19.5781 Q93.9375,19.5781 93.25,20.6484 Q92.5625,21.7188 92.5625,23.8125 Q92.5625,25.9063 93.25,26.9766 Q93.9375,28.0469 95.2813,28.0469 Q95.9063,28.0469 96.5,27.7734 Q97.0938,27.5 97.7188,26.9219 L97.7188,29.6406 Z \"/><text fill=\"#000000\" font-family=\"sans-serif\" font-size=\"12\" lengthAdjust=\"spacingAndGlyphs\" textLength=\"36\" x=\"115.25\" y=\"28.1543\">Turtle</text><line style=\"stroke: #A80036; stroke-width: 1.5;\" x1=\"44\" x2=\"190\" y1=\"40\" y2=\"40\"/><rect fill=\"none\" height=\"6\" style=\"stroke: #C82930; stroke-width: 1.0;\" width=\"6\" x=\"51\" y=\"48.9023\"/><text fill=\"#000000\" font-family=\"sans-serif\" font-size=\"11\" lengthAdjust=\"spacingAndGlyphs\" textLength=\"79\" x=\"63\" y=\"54.2104\">int nLimbs=4;</text><ellipse cx=\"54\" cy=\"64.707\" fill=\"none\" rx=\"3\" ry=\"3\" style=\"stroke: #038048; stroke-width: 1.0;\"/><text fill=\"#000000\" font-family=\"sans-serif\" font-size=\"11\" lengthAdjust=\"spacingAndGlyphs\" textLength=\"63\" x=\"63\" y=\"67.0151\">food:String</text><line style=\"stroke: #A80036; stroke-width: 1.5;\" x1=\"44\" x2=\"190\" y1=\"73.6094\" y2=\"73.6094\"/><ellipse cx=\"54\" cy=\"85.5117\" fill=\"#84BE84\" rx=\"3\" ry=\"3\" style=\"stroke: #038048; stroke-width: 1.0;\"/><text fill=\"#000000\" font-family=\"sans-serif\" font-size=\"11\" lengthAdjust=\"spacingAndGlyphs\" textLength=\"122\" x=\"63\" y=\"87.8198\">setFood(f:String):void</text><ellipse cx=\"54\" cy=\"98.3164\" fill=\"#84BE84\" rx=\"3\" ry=\"3\" style=\"stroke: #038048; stroke-width: 1.0;\"/><text fill=\"#000000\" font-family=\"sans-serif\" font-size=\"11\" lengthAdjust=\"spacingAndGlyphs\" textLength=\"53\" x=\"63\" y=\"100.6245\">eat():void</text><rect fill=\"#FEFECE\" filter=\"url(#f1)\" height=\"60.8047\" style=\"stroke: #A80036; stroke-width: 1.5;\" width=\"92\" x=\"6\" y=\"167\"/><ellipse cx=\"21\" cy=\"183\" fill=\"#ADD1B2\" rx=\"11\" ry=\"11\" style=\"stroke: #A80036; stroke-width: 1.0;\"/><path d=\"M23.9688,188.6406 Q23.3906,188.9375 22.75,189.0859 Q22.1094,189.2344 21.4063,189.2344 Q18.9063,189.2344 17.5859,187.5859 Q16.2656,185.9375 16.2656,182.8125 Q16.2656,179.6875 17.5859,178.0313 Q18.9063,176.375 21.4063,176.375 Q22.1094,176.375 22.7578,176.5313 Q23.4063,176.6875 23.9688,176.9844 L23.9688,179.7031 Q23.3438,179.125 22.75,178.8516 Q22.1563,178.5781 21.5313,178.5781 Q20.1875,178.5781 19.5,179.6484 Q18.8125,180.7188 18.8125,182.8125 Q18.8125,184.9063 19.5,185.9766 Q20.1875,187.0469 21.5313,187.0469 Q22.1563,187.0469 22.75,186.7734 Q23.3438,186.5 23.9688,185.9219 L23.9688,188.6406 Z \"/><text fill=\"#000000\" font-family=\"sans-serif\" font-size=\"12\" lengthAdjust=\"spacingAndGlyphs\" textLength=\"60\" x=\"35\" y=\"187.1543\">SeaTurtle</text><line style=\"stroke: #A80036; stroke-width: 1.5;\" x1=\"7\" x2=\"97\" y1=\"199\" y2=\"199\"/><line style=\"stroke: #A80036; stroke-width: 1.5;\" x1=\"7\" x2=\"97\" y1=\"207\" y2=\"207\"/><ellipse cx=\"17\" cy=\"218.9023\" fill=\"#84BE84\" rx=\"3\" ry=\"3\" style=\"stroke: #038048; stroke-width: 1.0;\"/><text fill=\"#000000\" font-family=\"sans-serif\" font-size=\"11\" lengthAdjust=\"spacingAndGlyphs\" textLength=\"65\" x=\"26\" y=\"221.2104\">swim():void</text><rect fill=\"#FEFECE\" filter=\"url(#f1)\" height=\"60.8047\" style=\"stroke: #A80036; stroke-width: 1.5;\" width=\"98\" x=\"133\" y=\"167\"/><ellipse cx=\"148\" cy=\"183\" fill=\"#ADD1B2\" rx=\"11\" ry=\"11\" style=\"stroke: #A80036; stroke-width: 1.0;\"/><path d=\"M150.9688,188.6406 Q150.3906,188.9375 149.75,189.0859 Q149.1094,189.2344 148.4063,189.2344 Q145.9063,189.2344 144.5859,187.5859 Q143.2656,185.9375 143.2656,182.8125 Q143.2656,179.6875 144.5859,178.0313 Q145.9063,176.375 148.4063,176.375 Q149.1094,176.375 149.7578,176.5313 Q150.4063,176.6875 150.9688,176.9844 L150.9688,179.7031 Q150.3438,179.125 149.75,178.8516 Q149.1563,178.5781 148.5313,178.5781 Q147.1875,178.5781 146.5,179.6484 Q145.8125,180.7188 145.8125,182.8125 Q145.8125,184.9063 146.5,185.9766 Q147.1875,187.0469 148.5313,187.0469 Q149.1563,187.0469 149.75,186.7734 Q150.3438,186.5 150.9688,185.9219 L150.9688,188.6406 Z \"/><text fill=\"#000000\" font-family=\"sans-serif\" font-size=\"12\" lengthAdjust=\"spacingAndGlyphs\" textLength=\"66\" x=\"162\" y=\"187.1543\">LandTurtle</text><line style=\"stroke: #A80036; stroke-width: 1.5;\" x1=\"134\" x2=\"230\" y1=\"199\" y2=\"199\"/><line style=\"stroke: #A80036; stroke-width: 1.5;\" x1=\"134\" x2=\"230\" y1=\"207\" y2=\"207\"/><ellipse cx=\"144\" cy=\"218.9023\" fill=\"#84BE84\" rx=\"3\" ry=\"3\" style=\"stroke: #038048; stroke-width: 1.0;\"/><text fill=\"#000000\" font-family=\"sans-serif\" font-size=\"11\" lengthAdjust=\"spacingAndGlyphs\" textLength=\"60\" x=\"153\" y=\"221.2104\">walk():void</text><path d=\"M85.5338,125.305 C78.6859,139.8438 71.7767,154.5125 66.024,166.726 \" fill=\"none\" style=\"stroke: #A80036; stroke-width: 1.0;\"/><polygon fill=\"none\" points=\"79.2284,122.264,94.0834,107.154,91.8938,128.2299,79.2284,122.264\" style=\"stroke: #A80036; stroke-width: 1.0;\"/><path d=\"M148.466,125.305 C155.314,139.8438 162.223,154.5125 167.976,166.726 \" fill=\"none\" style=\"stroke: #A80036; stroke-width: 1.0;\"/><polygon fill=\"none\" points=\"142.106,128.2299,139.917,107.154,154.772,122.264,142.106,128.2299\" style=\"stroke: #A80036; stroke-width: 1.0;\"/></g></svg>"
      ],
      "text/plain": [
       "<IPython.core.display.SVG object>"
      ]
     },
     "execution_count": 8,
     "metadata": {},
     "output_type": "execute_result"
    }
   ],
   "source": [
    "%%plantuml\n",
    "@startuml\n",
    "class Turtle {\n",
    "    -int nLimbs=4;\n",
    "    +food:String\n",
    "    +setFood(f:String):void\n",
    "    +eat():void\n",
    "}\n",
    "class SeaTurtle {\n",
    "    +swim():void\n",
    "}\n",
    "class LandTurtle {\n",
    "    +walk():void\n",
    "}\n",
    "Turtle <|-- SeaTurtle\n",
    "Turtle <|-- LandTurtle\n",
    "@enduml"
   ]
  },
  {
   "cell_type": "code",
   "execution_count": 1,
   "metadata": {
    "collapsed": false
   },
   "outputs": [
    {
     "name": "stdout",
     "output_type": "stream",
     "text": [
      " class Turtle {\r\n",
      "     private int nLimbs=4;\r\n",
      "     protected String food;\r\n",
      "     public void setFood(String f) {\r\n",
      "         this.food=f;\r\n",
      "     }\r\n",
      "     public void eat() {\r\n",
      "         System.out.print(\"Turtle eats \"+food);\r\n",
      "     }   \r\n",
      " }\r\n",
      "|  Added class Turtle\r\n",
      "\r\n",
      " class SeaTurtle extends Turtle {\r\n",
      "     public void swim() {\r\n",
      "         System.out.print(\"A sea turtle swims...\");\r\n",
      "     }\r\n",
      " }\r\n",
      "|  Added class SeaTurtle\r\n",
      "\r\n",
      " class LandTurtle extends Turtle {\r\n",
      "     public void walk() {\r\n",
      "         System.out.print(\"A land turtle walks...\");\r\n",
      "     }\r\n",
      " }\r\n",
      "|  Added class LandTurtle\r\n",
      "\r\n"
     ]
    }
   ],
   "source": [
    "class Turtle {\n",
    "    private int nLimbs=4;\n",
    "    protected String food;\n",
    "    public void setFood(String f) {\n",
    "        this.food=f;\n",
    "    }\n",
    "    public void eat() {\n",
    "        System.out.print(\"Turtle eats \"+food);\n",
    "    }   \n",
    "}\n",
    "class SeaTurtle extends Turtle {\n",
    "    public void swim() {\n",
    "        System.out.print(\"A sea turtle swims...\");\n",
    "    }\n",
    "}\n",
    "class LandTurtle extends Turtle {\n",
    "    public void walk() {\n",
    "        System.out.print(\"A land turtle walks...\");\n",
    "    }\n",
    "}"
   ]
  },
  {
   "cell_type": "markdown",
   "metadata": {
    "collapsed": true
   },
   "source": [
    "* 가시성 priviate은 상속할 수 없다."
   ]
  },
  {
   "cell_type": "code",
   "execution_count": 6,
   "metadata": {
    "collapsed": false,
    "scrolled": false
   },
   "outputs": [
    {
     "name": "stdout",
     "output_type": "stream",
     "text": [
      " SeaTurtle st=new SeaTurtle();\r\n",
      "|  Modified variable st of type SeaTurtle with initial value SeaTurtle@5700d6b1\r\n",
      "|    Update overwrote variable st\r\n",
      "\r\n",
      " st.nLimbs;\r\n",
      "|  Error:\r\n",
      "|  nLimbs has private access in Turtle\r\n",
      "|  st.nLimbs;\r\n",
      "|  ^-------^\r\n",
      "\r\n"
     ]
    }
   ],
   "source": [
    "SeaTurtle st=new SeaTurtle();\n",
    "st.nLimbs;"
   ]
  },
  {
   "cell_type": "markdown",
   "metadata": {
    "collapsed": true
   },
   "source": [
    "* 다형성"
   ]
  },
  {
   "cell_type": "code",
   "execution_count": 9,
   "metadata": {
    "collapsed": false
   },
   "outputs": [
    {
     "name": "stdout",
     "output_type": "stream",
     "text": [
      " Turtle t=new Turtle();\r\n",
      "|  Modified variable t of type Turtle with initial value Turtle@2d928643\r\n",
      "|    Update overwrote variable t\r\n",
      "\r\n",
      " SeaTurtle st=new SeaTurtle();\r\n",
      "|  Modified variable st of type SeaTurtle with initial value SeaTurtle@5025a98f\r\n",
      "|    Update overwrote variable st\r\n",
      "\r\n",
      " LandTurtle lt=new LandTurtle();\r\n",
      "|  Modified variable lt of type LandTurtle with initial value LandTurtle@49993335\r\n",
      "|    Update overwrote variable lt\r\n",
      "\r\n",
      " st.setFood(\"seaweeds\");\r\n",
      "\r\n",
      " lt.setFood(\"plants\");\r\n",
      "\r\n",
      " t.eat();\r\n",
      "Turtle eats null\r\n",
      " st.eat();\r\n",
      "Turtle eats seaweeds\r\n",
      " lt.eat();\r\n",
      "Turtle eats plants\r\n"
     ]
    }
   ],
   "source": [
    "Turtle t=new Turtle();\n",
    "SeaTurtle st=new SeaTurtle();\n",
    "LandTurtle lt=new LandTurtle();\n",
    "st.setFood(\"seaweeds\");\n",
    "lt.setFood(\"plants\");\n",
    "t.eat();\n",
    "st.eat();\n",
    "lt.eat();"
   ]
  },
  {
   "cell_type": "markdown",
   "metadata": {},
   "source": [
    "## 문제 oo-2: 상속을 사용하여 거북이를 구현한다. \n",
    "\n",
    "* 거북이 사례의 nLimbs 팔다리 갯수를 자식클래스에서 사용할 수 있게 한다."
   ]
  },
  {
   "cell_type": "markdown",
   "metadata": {
    "collapsed": true
   },
   "source": [
    "## 문제 oo-3: 원의 면적을 계산하기.\n",
    "\n",
    "* Point클래스를 구현하고 Circle클래스를 자식클래스로 구현한다.\n",
    "    * 단계1: 공통 속성, 함수가 있는지 찾는다.\n",
    "        * Point클래스는 위치(x,y)를 가진다.\n",
    "        * Circle클래스는 위치(x,y)를 사용한다. 그리고 반지름을 추가한다.\n",
    "        * 자식클래스에서 사용하지 않는 속성은 private로 한다.\n",
    "    * 단계2: subclass에 특화된 속성, 함수가 있는지 찾는다.\n",
    "        * Point클래스는 면적을 계산하지 않는다.\n",
    "        * Circle클래스는 면적을 계산한다."
   ]
  },
  {
   "cell_type": "code",
   "execution_count": 9,
   "metadata": {
    "collapsed": false,
    "scrolled": true
   },
   "outputs": [
    {
     "data": {
      "image/svg+xml": [
       "<svg height=\"224px\" style=\"width:135px;height:224px;\" version=\"1.1\" viewBox=\"0 0 135 224\" width=\"135px\" xmlns=\"http://www.w3.org/2000/svg\" xmlns:xlink=\"http://www.w3.org/1999/xlink\"><defs><filter height=\"300%\" id=\"f1\" width=\"300%\" x=\"-1\" y=\"-1\"><feGaussianBlur result=\"blurOut\" stdDeviation=\"2.0\"/><feColorMatrix in=\"blurOut\" result=\"blurOut2\" type=\"matrix\" values=\"0 0 0 0 0 0 0 0 0 0 0 0 0 0 0 0 0 0 .4 0\"/><feOffset dx=\"4.0\" dy=\"4.0\" in=\"blurOut2\" result=\"blurOut3\"/><feBlend in=\"SourceGraphic\" in2=\"blurOut3\" mode=\"normal\"/></filter></defs><g><rect fill=\"#FEFECE\" filter=\"url(#f1)\" height=\"73.6094\" style=\"stroke: #A80036; stroke-width: 1.5;\" width=\"64\" x=\"34\" y=\"8\"/><ellipse cx=\"49\" cy=\"24\" fill=\"#ADD1B2\" rx=\"11\" ry=\"11\" style=\"stroke: #A80036; stroke-width: 1.0;\"/><path d=\"M51.9688,29.6406 Q51.3906,29.9375 50.75,30.0859 Q50.1094,30.2344 49.4063,30.2344 Q46.9063,30.2344 45.5859,28.5859 Q44.2656,26.9375 44.2656,23.8125 Q44.2656,20.6875 45.5859,19.0313 Q46.9063,17.375 49.4063,17.375 Q50.1094,17.375 50.7578,17.5313 Q51.4063,17.6875 51.9688,17.9844 L51.9688,20.7031 Q51.3438,20.125 50.75,19.8516 Q50.1563,19.5781 49.5313,19.5781 Q48.1875,19.5781 47.5,20.6484 Q46.8125,21.7188 46.8125,23.8125 Q46.8125,25.9063 47.5,26.9766 Q48.1875,28.0469 49.5313,28.0469 Q50.1563,28.0469 50.75,27.7734 Q51.3438,27.5 51.9688,26.9219 L51.9688,29.6406 Z \"/><text fill=\"#000000\" font-family=\"sans-serif\" font-size=\"12\" lengthAdjust=\"spacingAndGlyphs\" textLength=\"32\" x=\"63\" y=\"28.1543\">Point</text><line style=\"stroke: #A80036; stroke-width: 1.5;\" x1=\"35\" x2=\"97\" y1=\"40\" y2=\"40\"/><rect fill=\"none\" height=\"6\" style=\"stroke: #C82930; stroke-width: 1.0;\" width=\"6\" x=\"42\" y=\"48.9023\"/><text fill=\"#000000\" font-family=\"sans-serif\" font-size=\"11\" lengthAdjust=\"spacingAndGlyphs\" textLength=\"28\" x=\"54\" y=\"54.2104\">x:int;</text><rect fill=\"none\" height=\"6\" style=\"stroke: #C82930; stroke-width: 1.0;\" width=\"6\" x=\"42\" y=\"61.707\"/><text fill=\"#000000\" font-family=\"sans-serif\" font-size=\"11\" lengthAdjust=\"spacingAndGlyphs\" textLength=\"28\" x=\"54\" y=\"67.0151\">y:int;</text><line style=\"stroke: #A80036; stroke-width: 1.5;\" x1=\"35\" x2=\"97\" y1=\"73.6094\" y2=\"73.6094\"/><rect fill=\"#FEFECE\" filter=\"url(#f1)\" height=\"73.6094\" style=\"stroke: #A80036; stroke-width: 1.5;\" width=\"120\" x=\"6\" y=\"142\"/><ellipse cx=\"45.3\" cy=\"158\" fill=\"#ADD1B2\" rx=\"11\" ry=\"11\" style=\"stroke: #A80036; stroke-width: 1.0;\"/><path d=\"M48.2688,163.6406 Q47.6906,163.9375 47.05,164.0859 Q46.4094,164.2344 45.7063,164.2344 Q43.2063,164.2344 41.8859,162.5859 Q40.5656,160.9375 40.5656,157.8125 Q40.5656,154.6875 41.8859,153.0313 Q43.2063,151.375 45.7063,151.375 Q46.4094,151.375 47.0578,151.5313 Q47.7063,151.6875 48.2688,151.9844 L48.2688,154.7031 Q47.6438,154.125 47.05,153.8516 Q46.4563,153.5781 45.8313,153.5781 Q44.4875,153.5781 43.8,154.6484 Q43.1125,155.7188 43.1125,157.8125 Q43.1125,159.9063 43.8,160.9766 Q44.4875,162.0469 45.8313,162.0469 Q46.4563,162.0469 47.05,161.7734 Q47.6438,161.5 48.2688,160.9219 L48.2688,163.6406 Z \"/><text fill=\"#000000\" font-family=\"sans-serif\" font-size=\"12\" lengthAdjust=\"spacingAndGlyphs\" textLength=\"34\" x=\"64.7\" y=\"162.1543\">Circle</text><line style=\"stroke: #A80036; stroke-width: 1.5;\" x1=\"7\" x2=\"125\" y1=\"174\" y2=\"174\"/><rect fill=\"none\" height=\"6\" style=\"stroke: #C82930; stroke-width: 1.0;\" width=\"6\" x=\"14\" y=\"182.9023\"/><text fill=\"#000000\" font-family=\"sans-serif\" font-size=\"11\" lengthAdjust=\"spacingAndGlyphs\" textLength=\"82\" x=\"26\" y=\"188.2104\">radius:double;</text><line style=\"stroke: #A80036; stroke-width: 1.5;\" x1=\"7\" x2=\"125\" y1=\"194.8047\" y2=\"194.8047\"/><ellipse cx=\"17\" cy=\"206.707\" fill=\"#84BE84\" rx=\"3\" ry=\"3\" style=\"stroke: #038048; stroke-width: 1.0;\"/><text fill=\"#000000\" font-family=\"sans-serif\" font-size=\"11\" lengthAdjust=\"spacingAndGlyphs\" textLength=\"94\" x=\"26\" y=\"209.0151\">getArea():double</text><path d=\"M66,102.379 C66,115.796 66,129.7553 66,141.974 \" fill=\"none\" style=\"stroke: #A80036; stroke-width: 1.0;\"/><polygon fill=\"none\" points=\"59.0001,102.07,66,82.07,73.0001,102.07,59.0001,102.07\" style=\"stroke: #A80036; stroke-width: 1.0;\"/></g></svg>"
      ],
      "text/plain": [
       "<IPython.core.display.SVG object>"
      ]
     },
     "execution_count": 9,
     "metadata": {},
     "output_type": "execute_result"
    }
   ],
   "source": [
    "%%plantuml\n",
    "@startuml\n",
    "class Point {\n",
    "    -x:int;\n",
    "    -y:int;\n",
    "}\n",
    "class Circle {\n",
    "    -radius:double;\n",
    "    +getArea():double\n",
    "}\n",
    "\n",
    "Point <|-- Circle\n",
    "@enduml"
   ]
  },
  {
   "cell_type": "code",
   "execution_count": 27,
   "metadata": {
    "collapsed": false
   },
   "outputs": [
    {
     "name": "stdout",
     "output_type": "stream",
     "text": [
      " class Point {\r\n",
      "     private int x;\r\n",
      "     private int y;\r\n",
      "     public Point() {}\r\n",
      "     public Point(int xnew, int ynew) {\r\n",
      "         this.x=xnew;\r\n",
      "         this.y=ynew;\r\n",
      "     }\r\n",
      "     public int getX() {\r\n",
      "         return x;\r\n",
      "     }\r\n",
      "     public int getY() {\r\n",
      "         return y;\r\n",
      "     }\r\n",
      "     public String toString() {\r\n",
      "         String msg=\"(\"+x+\",\"+y+\")\";\r\n",
      "         return msg;\r\n",
      "     }\r\n",
      " }\r\n",
      "|  Added class Point\r\n",
      "\r\n"
     ]
    }
   ],
   "source": [
    "class Point {\n",
    "    private int x;\n",
    "    private int y;\n",
    "    public Point() {}\n",
    "    public Point(int xnew, int ynew) {\n",
    "        this.x=xnew;\n",
    "        this.y=ynew;\n",
    "    }\n",
    "    public int getX() {\n",
    "        return x;\n",
    "    }\n",
    "    public int getY() {\n",
    "        return y;\n",
    "    }\n",
    "    public String toString() {\n",
    "        String msg=\"(\"+x+\",\"+y+\")\";\n",
    "        return msg;\n",
    "    }\n",
    "}"
   ]
  },
  {
   "cell_type": "code",
   "execution_count": 28,
   "metadata": {
    "collapsed": false,
    "scrolled": true
   },
   "outputs": [
    {
     "name": "stdout",
     "output_type": "stream",
     "text": [
      " class Circle extends Point {\r\n",
      "     private double radius;\r\n",
      "     public Circle(){}\r\n",
      "     public Circle(int xnew, int ynew, double rnew) {\r\n",
      "         super(xnew, ynew);\r\n",
      "         this.radius=rnew;\r\n",
      "     }\r\n",
      "     public double getRadius() {\r\n",
      "         return radius;\r\n",
      "     }\r\n",
      "     public double getCircumference() {\r\n",
      "         return 2* Math.PI * getRadius();\r\n",
      "     }\r\n",
      "     public double getArea() {\r\n",
      "         return Math.PI *getRadius()*getRadius();\r\n",
      "     }\r\n",
      " }\r\n",
      "|  Added class Circle\r\n",
      "\r\n"
     ]
    }
   ],
   "source": [
    "class Circle extends Point {\n",
    "    private double radius;\n",
    "    public Circle(){}\n",
    "    public Circle(int xnew, int ynew, double rnew) {\n",
    "        super(xnew, ynew);\n",
    "        this.radius=rnew;\n",
    "    }\n",
    "    public double getRadius() {\n",
    "        return radius;\n",
    "    }\n",
    "    public double getCircumference() {\n",
    "        return 2*Math.PI*getRadius();\n",
    "    }\n",
    "    public double getArea() {\n",
    "        return Math.PI*getRadius()*getRadius();\n",
    "    }\n",
    "}"
   ]
  },
  {
   "cell_type": "code",
   "execution_count": 6,
   "metadata": {
    "collapsed": false
   },
   "outputs": [
    {
     "name": "stdout",
     "output_type": "stream",
     "text": [
      " Circle myCircle=new Circle(10,10,5);\r\n",
      "|  Added variable myCircle of type Circle with initial value (10,10)\r\n",
      "\r\n",
      " Double myArea=myCircle.getArea();\r\n",
      "|  Added variable myArea of type Double with initial value 78.53981633974483\r\n",
      "\r\n",
      " System.out.println(myArea);\r\n",
      "78.53981633974483\r\n",
      "\r\n"
     ]
    }
   ],
   "source": [
    "Circle myCircle=new Circle(10,10,5);\n",
    "Double myArea=myCircle.getArea();\n",
    "System.out.println(myArea);"
   ]
  },
  {
   "cell_type": "markdown",
   "metadata": {},
   "source": [
    "## 7.4 Interface 상속\n",
    "\n",
    "## 7.4.1 interface란 \n",
    "\n",
    "* 인터페이스는 함수만을 가진다. 함수는 자식클래스에서 구현한다.\n",
    "* 인터페이스는 객체를 생성할 수 없다.\n",
    "* 인터페이스는 Object class에서 물려 받지 않는다 (자바 문서 확인)\n",
    "\n",
    "## 7.4.2 abstract class와 비교\n",
    "\n",
    "* '인터페이스'는 '추상클래스'와 자주 비교된다.\n",
    "    * 추상클래스에서 속성을 제외하고, 모든 함수를 추상으로 정의하는 경우에는 인터페이스와 동일하다\n",
    "    * 아닌 경우, 다르다\n",
    "\n",
    "구분 | 인터페이스 | 추상클래스\n",
    "-------|-------|-------\n",
    "속성을 가질 수 있다 |  없다 | 있다\n",
    "함수를 가질 수 있다 | 있다 | 없다\n",
    "함수를 구현할 수 있다 | 없다 | 있다\n",
    "객체를 생성할 수 있다 | 없다 | 없다 (추상클래스인 경우)\n",
    "\n",
    "* 왜 인터페이스를 사용하는가?\n",
    "    * 함수 API를 정의한다. 어떤 입력을 사용해서, 어떤 결과를 반환해야 하는지를 결정한다.\n",
    "    * 이와 같이 구현되지 않는 함수를 정의한다는 점에서 'marker'라고 한다.\n",
    "    * 반면, 추상클래스는 함수의 구현을 상속할 수 있다. 자식클래스에서 재정의하지 않으면, 부모의 것을 default로 사용한다."
   ]
  },
  {
   "cell_type": "markdown",
   "metadata": {},
   "source": [
    "* 자바는 다중상속을 할 수 없지만, 인터페이스를 사용하여 다중상속을 할 수 있다.\n",
    "    * 클래스를 다중상속 할 수 없다. 여러 클래스를 확장할 수 없다.\n",
    "    * 여러 인터페이스를 구현한다.\n",
    "* 클래스A는 클래스B를 확장한다. 추가적인 확장은 할 수 없다. 인터페이스 C,D를 사용하여 다중구현을 해서 보완한다."
   ]
  },
  {
   "cell_type": "code",
   "execution_count": 1,
   "metadata": {
    "collapsed": false
   },
   "outputs": [],
   "source": [
    "import iplantuml"
   ]
  },
  {
   "cell_type": "code",
   "execution_count": 5,
   "metadata": {
    "collapsed": false
   },
   "outputs": [
    {
     "data": {
      "image/svg+xml": [
       "<svg height=\"173px\" style=\"width:206px;height:173px;\" version=\"1.1\" viewBox=\"0 0 206 173\" width=\"206px\" xmlns=\"http://www.w3.org/2000/svg\" xmlns:xlink=\"http://www.w3.org/1999/xlink\"><defs><filter height=\"300%\" id=\"f1\" width=\"300%\" x=\"-1\" y=\"-1\"><feGaussianBlur result=\"blurOut\" stdDeviation=\"2.0\"/><feColorMatrix in=\"blurOut\" result=\"blurOut2\" type=\"matrix\" values=\"0 0 0 0 0 0 0 0 0 0 0 0 0 0 0 0 0 0 .4 0\"/><feOffset dx=\"4.0\" dy=\"4.0\" in=\"blurOut2\" result=\"blurOut3\"/><feBlend in=\"SourceGraphic\" in2=\"blurOut3\" mode=\"normal\"/></filter></defs><g><rect fill=\"#FEFECE\" filter=\"url(#f1)\" height=\"48\" style=\"stroke: #A80036; stroke-width: 1.5;\" width=\"40\" x=\"81\" y=\"116\"/><ellipse cx=\"96\" cy=\"132\" fill=\"#ADD1B2\" rx=\"11\" ry=\"11\" style=\"stroke: #A80036; stroke-width: 1.0;\"/><path d=\"M98.9688,137.6406 Q98.3906,137.9375 97.75,138.0859 Q97.1094,138.2344 96.4063,138.2344 Q93.9063,138.2344 92.5859,136.5859 Q91.2656,134.9375 91.2656,131.8125 Q91.2656,128.6875 92.5859,127.0313 Q93.9063,125.375 96.4063,125.375 Q97.1094,125.375 97.7578,125.5313 Q98.4063,125.6875 98.9688,125.9844 L98.9688,128.7031 Q98.3438,128.125 97.75,127.8516 Q97.1563,127.5781 96.5313,127.5781 Q95.1875,127.5781 94.5,128.6484 Q93.8125,129.7188 93.8125,131.8125 Q93.8125,133.9063 94.5,134.9766 Q95.1875,136.0469 96.5313,136.0469 Q97.1563,136.0469 97.75,135.7734 Q98.3438,135.5 98.9688,134.9219 L98.9688,137.6406 Z \"/><text fill=\"#000000\" font-family=\"sans-serif\" font-size=\"12\" lengthAdjust=\"spacingAndGlyphs\" textLength=\"8\" x=\"110\" y=\"136.1543\">A</text><line style=\"stroke: #A80036; stroke-width: 1.5;\" x1=\"82\" x2=\"120\" y1=\"148\" y2=\"148\"/><line style=\"stroke: #A80036; stroke-width: 1.5;\" x1=\"82\" x2=\"120\" y1=\"156\" y2=\"156\"/><rect fill=\"#FEFECE\" filter=\"url(#f1)\" height=\"48\" style=\"stroke: #A80036; stroke-width: 1.5;\" width=\"40\" x=\"6\" y=\"8\"/><ellipse cx=\"21\" cy=\"24\" fill=\"#ADD1B2\" rx=\"11\" ry=\"11\" style=\"stroke: #A80036; stroke-width: 1.0;\"/><path d=\"M23.9688,29.6406 Q23.3906,29.9375 22.75,30.0859 Q22.1094,30.2344 21.4063,30.2344 Q18.9063,30.2344 17.5859,28.5859 Q16.2656,26.9375 16.2656,23.8125 Q16.2656,20.6875 17.5859,19.0313 Q18.9063,17.375 21.4063,17.375 Q22.1094,17.375 22.7578,17.5313 Q23.4063,17.6875 23.9688,17.9844 L23.9688,20.7031 Q23.3438,20.125 22.75,19.8516 Q22.1563,19.5781 21.5313,19.5781 Q20.1875,19.5781 19.5,20.6484 Q18.8125,21.7188 18.8125,23.8125 Q18.8125,25.9063 19.5,26.9766 Q20.1875,28.0469 21.5313,28.0469 Q22.1563,28.0469 22.75,27.7734 Q23.3438,27.5 23.9688,26.9219 L23.9688,29.6406 Z \"/><text fill=\"#000000\" font-family=\"sans-serif\" font-size=\"12\" lengthAdjust=\"spacingAndGlyphs\" textLength=\"8\" x=\"35\" y=\"28.1543\">B</text><line style=\"stroke: #A80036; stroke-width: 1.5;\" x1=\"7\" x2=\"45\" y1=\"40\" y2=\"40\"/><line style=\"stroke: #A80036; stroke-width: 1.5;\" x1=\"7\" x2=\"45\" y1=\"48\" y2=\"48\"/><rect fill=\"#FEFECE\" filter=\"url(#f1)\" height=\"48\" style=\"stroke: #A80036; stroke-width: 1.5;\" width=\"40\" x=\"81\" y=\"8\"/><ellipse cx=\"96\" cy=\"24\" fill=\"#B4A7E5\" rx=\"11\" ry=\"11\" style=\"stroke: #A80036; stroke-width: 1.0;\"/><path d=\"M91.9219,19.7656 L91.9219,17.6094 L99.3125,17.6094 L99.3125,19.7656 L96.8438,19.7656 L96.8438,27.8438 L99.3125,27.8438 L99.3125,30 L91.9219,30 L91.9219,27.8438 L94.3906,27.8438 L94.3906,19.7656 L91.9219,19.7656 Z \"/><text fill=\"#000000\" font-family=\"sans-serif\" font-size=\"12\" font-style=\"italic\" lengthAdjust=\"spacingAndGlyphs\" textLength=\"8\" x=\"110\" y=\"28.1543\">C</text><line style=\"stroke: #A80036; stroke-width: 1.5;\" x1=\"82\" x2=\"120\" y1=\"40\" y2=\"40\"/><line style=\"stroke: #A80036; stroke-width: 1.5;\" x1=\"82\" x2=\"120\" y1=\"48\" y2=\"48\"/><rect fill=\"#FEFECE\" filter=\"url(#f1)\" height=\"48\" style=\"stroke: #A80036; stroke-width: 1.5;\" width=\"41\" x=\"156.5\" y=\"8\"/><ellipse cx=\"171.5\" cy=\"24\" fill=\"#B4A7E5\" rx=\"11\" ry=\"11\" style=\"stroke: #A80036; stroke-width: 1.0;\"/><path d=\"M167.4219,19.7656 L167.4219,17.6094 L174.8125,17.6094 L174.8125,19.7656 L172.3438,19.7656 L172.3438,27.8438 L174.8125,27.8438 L174.8125,30 L167.4219,30 L167.4219,27.8438 L169.8906,27.8438 L169.8906,19.7656 L167.4219,19.7656 Z \"/><text fill=\"#000000\" font-family=\"sans-serif\" font-size=\"12\" font-style=\"italic\" lengthAdjust=\"spacingAndGlyphs\" textLength=\"9\" x=\"185.5\" y=\"28.1543\">D</text><line style=\"stroke: #A80036; stroke-width: 1.5;\" x1=\"157.5\" x2=\"196.5\" y1=\"40\" y2=\"40\"/><line style=\"stroke: #A80036; stroke-width: 1.5;\" x1=\"157.5\" x2=\"196.5\" y1=\"48\" y2=\"48\"/><path d=\"M54.0583,72.6557 C64.3135,87.1498 75.5765,103.0681 84.4989,115.6784 \" fill=\"none\" style=\"stroke: #A80036; stroke-width: 1.0;\"/><polygon fill=\"none\" points=\"48.1114,76.3701,42.2739,56,59.54,68.2838,48.1114,76.3701\" style=\"stroke: #A80036; stroke-width: 1.0;\"/><path d=\"M101,76.0236 C101,89.5792 101,104.0381 101,115.6784 \" fill=\"none\" style=\"stroke: #A80036; stroke-width: 1.0; stroke-dasharray: 7.0,7.0;\"/><polygon fill=\"none\" points=\"94.0001,76.0005,101,56,108,76.0004,94.0001,76.0005\" style=\"stroke: #A80036; stroke-width: 1.0;\"/><path d=\"M148.568,72.6557 C138.176,87.1498 126.763,103.0681 117.721,115.6784 \" fill=\"none\" style=\"stroke: #A80036; stroke-width: 1.0; stroke-dasharray: 7.0,7.0;\"/><polygon fill=\"none\" points=\"143.166,68.1755,160.509,56,154.544,76.3332,143.166,68.1755\" style=\"stroke: #A80036; stroke-width: 1.0;\"/></g></svg>"
      ],
      "text/plain": [
       "<IPython.core.display.SVG object>"
      ]
     },
     "execution_count": 5,
     "metadata": {},
     "output_type": "execute_result"
    }
   ],
   "source": [
    "%%plantuml\n",
    "@startuml\n",
    "class A\n",
    "class B\n",
    "interface C\n",
    "interface D\n",
    "B <|-- A \n",
    "C <|.. A\n",
    "D <|.. A\n",
    "@enduml"
   ]
  },
  {
   "cell_type": "code",
   "execution_count": 1,
   "metadata": {
    "collapsed": false,
    "scrolled": true
   },
   "outputs": [
    {
     "name": "stdout",
     "output_type": "stream",
     "text": [
      " interface A{\r\n",
      " }\r\n",
      "|  Added interface A\r\n",
      "\r\n",
      " interface B{\r\n",
      " }\r\n",
      "|  Added interface B\r\n",
      "\r\n",
      " class C{\r\n",
      " }\r\n",
      "|  Added class C\r\n",
      "\r\n",
      " class D extends C implements A,B {\r\n",
      " }\r\n",
      "|  Added class D\r\n",
      "\r\n"
     ]
    }
   ],
   "source": [
    "interface A{}\n",
    "interface B{}\n",
    "class C{}\n",
    "class D extends C implements A,B {}"
   ]
  },
  {
   "cell_type": "markdown",
   "metadata": {},
   "source": [
    "* 인터페이스는 다른 인터페이스를 상속할 수 있다."
   ]
  },
  {
   "cell_type": "code",
   "execution_count": 20,
   "metadata": {
    "collapsed": false,
    "scrolled": true
   },
   "outputs": [
    {
     "name": "stdout",
     "output_type": "stream",
     "text": [
      " interface A{}\r\n",
      "|  Modified interface A\r\n",
      "|    Update overwrote interface A\r\n",
      "\r\n",
      " interface B extends A{}\r\n",
      "|  Added interface B\r\n",
      "\r\n"
     ]
    }
   ],
   "source": [
    "interface A{}\n",
    "interface B extends A{}"
   ]
  },
  {
   "cell_type": "markdown",
   "metadata": {},
   "source": [
    "* 인터페이스 구현\n",
    "    * Rectangle클래스는 Shape 인터페이스를 구현한다.\n",
    "    ```\n",
    "    class Rectangle implements Shape\n",
    "    ```"
   ]
  },
  {
   "cell_type": "code",
   "execution_count": 13,
   "metadata": {
    "collapsed": false
   },
   "outputs": [
    {
     "data": {
      "image/svg+xml": [
       "<svg height=\"116px\" style=\"width:356px;height:116px;\" version=\"1.1\" viewBox=\"0 0 356 116\" width=\"356px\" xmlns=\"http://www.w3.org/2000/svg\" xmlns:xlink=\"http://www.w3.org/1999/xlink\"><defs><filter height=\"300%\" id=\"f1\" width=\"300%\" x=\"-1\" y=\"-1\"><feGaussianBlur result=\"blurOut\" stdDeviation=\"2.0\"/><feColorMatrix in=\"blurOut\" result=\"blurOut2\" type=\"matrix\" values=\"0 0 0 0 0 0 0 0 0 0 0 0 0 0 0 0 0 0 .4 0\"/><feOffset dx=\"4.0\" dy=\"4.0\" in=\"blurOut2\" result=\"blurOut3\"/><feBlend in=\"SourceGraphic\" in2=\"blurOut3\" mode=\"normal\"/></filter></defs><g><rect fill=\"#FEFECE\" filter=\"url(#f1)\" height=\"73.6094\" style=\"stroke: #A80036; stroke-width: 1.5;\" width=\"154\" x=\"193\" y=\"20.5\"/><ellipse cx=\"245.75\" cy=\"36.5\" fill=\"#B4A7E5\" rx=\"11\" ry=\"11\" style=\"stroke: #A80036; stroke-width: 1.0;\"/><path d=\"M241.6719,32.2656 L241.6719,30.1094 L249.0625,30.1094 L249.0625,32.2656 L246.5938,32.2656 L246.5938,40.3438 L249.0625,40.3438 L249.0625,42.5 L241.6719,42.5 L241.6719,40.3438 L244.1406,40.3438 L244.1406,32.2656 L241.6719,32.2656 Z \"/><text fill=\"#000000\" font-family=\"sans-serif\" font-size=\"12\" font-style=\"italic\" lengthAdjust=\"spacingAndGlyphs\" textLength=\"40\" x=\"266.25\" y=\"40.6543\">Shape</text><line style=\"stroke: #A80036; stroke-width: 1.5;\" x1=\"194\" x2=\"346\" y1=\"52.5\" y2=\"52.5\"/><line style=\"stroke: #A80036; stroke-width: 1.5;\" x1=\"194\" x2=\"346\" y1=\"60.5\" y2=\"60.5\"/><ellipse cx=\"204\" cy=\"72.4023\" fill=\"#84BE84\" rx=\"3\" ry=\"3\" style=\"stroke: #038048; stroke-width: 1.0;\"/><text fill=\"#000000\" font-family=\"sans-serif\" font-size=\"11\" lengthAdjust=\"spacingAndGlyphs\" textLength=\"98\" x=\"213\" y=\"74.7104\">calcArea():double</text><ellipse cx=\"204\" cy=\"85.207\" fill=\"#84BE84\" rx=\"3\" ry=\"3\" style=\"stroke: #038048; stroke-width: 1.0;\"/><text fill=\"#000000\" font-family=\"sans-serif\" font-size=\"11\" lengthAdjust=\"spacingAndGlyphs\" textLength=\"128\" x=\"213\" y=\"87.5151\">calcPerimeter():double</text><rect fill=\"#FEFECE\" filter=\"url(#f1)\" height=\"99.2188\" style=\"stroke: #A80036; stroke-width: 1.5;\" width=\"152\" x=\"6\" y=\"8\"/><ellipse cx=\"46.65\" cy=\"24\" fill=\"#ADD1B2\" rx=\"11\" ry=\"11\" style=\"stroke: #A80036; stroke-width: 1.0;\"/><path d=\"M49.6188,29.6406 Q49.0406,29.9375 48.4,30.0859 Q47.7594,30.2344 47.0563,30.2344 Q44.5563,30.2344 43.2359,28.5859 Q41.9156,26.9375 41.9156,23.8125 Q41.9156,20.6875 43.2359,19.0313 Q44.5563,17.375 47.0563,17.375 Q47.7594,17.375 48.4078,17.5313 Q49.0563,17.6875 49.6188,17.9844 L49.6188,20.7031 Q48.9938,20.125 48.4,19.8516 Q47.8063,19.5781 47.1813,19.5781 Q45.8375,19.5781 45.15,20.6484 Q44.4625,21.7188 44.4625,23.8125 Q44.4625,25.9063 45.15,26.9766 Q45.8375,28.0469 47.1813,28.0469 Q47.8063,28.0469 48.4,27.7734 Q48.9938,27.5 49.6188,26.9219 L49.6188,29.6406 Z \"/><text fill=\"#000000\" font-family=\"sans-serif\" font-size=\"12\" lengthAdjust=\"spacingAndGlyphs\" textLength=\"63\" x=\"66.35\" y=\"28.1543\">Rectangle</text><line style=\"stroke: #A80036; stroke-width: 1.5;\" x1=\"7\" x2=\"157\" y1=\"40\" y2=\"40\"/><rect fill=\"none\" height=\"6\" style=\"stroke: #C82930; stroke-width: 1.0;\" width=\"6\" x=\"14\" y=\"48.9023\"/><text fill=\"#000000\" font-family=\"sans-serif\" font-size=\"11\" lengthAdjust=\"spacingAndGlyphs\" textLength=\"100\" x=\"26\" y=\"54.2104\">final width:double</text><rect fill=\"none\" height=\"6\" style=\"stroke: #C82930; stroke-width: 1.0;\" width=\"6\" x=\"14\" y=\"61.707\"/><text fill=\"#000000\" font-family=\"sans-serif\" font-size=\"11\" lengthAdjust=\"spacingAndGlyphs\" textLength=\"105\" x=\"26\" y=\"67.0151\">final height:double</text><rect fill=\"none\" height=\"6\" style=\"stroke: #C82930; stroke-width: 1.0;\" width=\"6\" x=\"14\" y=\"74.5117\"/><text fill=\"#000000\" font-family=\"sans-serif\" font-size=\"11\" lengthAdjust=\"spacingAndGlyphs\" textLength=\"96\" x=\"26\" y=\"79.8198\">final area:double</text><rect fill=\"none\" height=\"6\" style=\"stroke: #C82930; stroke-width: 1.0;\" width=\"6\" x=\"14\" y=\"87.3164\"/><text fill=\"#000000\" font-family=\"sans-serif\" font-size=\"11\" lengthAdjust=\"spacingAndGlyphs\" textLength=\"126\" x=\"26\" y=\"92.6245\">final perimeter:double</text><line style=\"stroke: #A80036; stroke-width: 1.5;\" x1=\"7\" x2=\"157\" y1=\"99.2188\" y2=\"99.2188\"/><path d=\"M158.008,57.5 C162.778,57.5 167.548,57.5 172.318,57.5 \" fill=\"none\" style=\"stroke: #A80036; stroke-width: 1.0; stroke-dasharray: 7.0,7.0;\"/><polygon fill=\"none\" points=\"172.568,50.4999,192.568,57.5,172.568,64.4999,172.568,50.4999\" style=\"stroke: #A80036; stroke-width: 1.0;\"/></g></svg>"
      ],
      "text/plain": [
       "<IPython.core.display.SVG object>"
      ]
     },
     "execution_count": 13,
     "metadata": {},
     "output_type": "execute_result"
    }
   ],
   "source": [
    "%%plantuml\n",
    "@startuml\n",
    "interface Shape {\n",
    "    +calcArea():double\n",
    "    +calcPerimeter():double\n",
    "}\n",
    "class Rectangle {\n",
    "    -final width:double\n",
    "    -final height:double\n",
    "    -final area:double\n",
    "    -final perimeter:double\n",
    "}\n",
    "Rectangle .right.|> Shape\n",
    "@enduml"
   ]
  },
  {
   "cell_type": "code",
   "execution_count": 11,
   "metadata": {
    "collapsed": false
   },
   "outputs": [
    {
     "name": "stdout",
     "output_type": "stream",
     "text": [
      " public interface Shape {\r\n",
      "     public double calcArea();\r\n",
      "     public double calcPerimeter();\r\n",
      " }\r\n",
      "|  Warning:\r\n",
      "|  Modifier 'public'  not permitted in top-level declarations, ignored\r\n",
      "|  public interface Shape {\r\n",
      "|  ^----^\r\n",
      "|  Replaced interface Shape this error is corrected: \r\n",
      "|      Modifier 'public'  not permitted in top-level declarations, ignored\r\n",
      "|      public interface Shape {\r\n",
      "|      ^----^\r\n",
      "|    Update overwrote class Shape\r\n",
      "\r\n"
     ]
    }
   ],
   "source": [
    "public interface Shape {\n",
    "    public double calcArea();\n",
    "    public double calcPerimeter();\n",
    "}"
   ]
  },
  {
   "cell_type": "code",
   "execution_count": 12,
   "metadata": {
    "collapsed": false
   },
   "outputs": [
    {
     "name": "stdout",
     "output_type": "stream",
     "text": [
      " public class Rectangle implements Shape {\r\n",
      "   private final double width, height, area, perimeter;\r\n",
      " \r\n",
      "   public Rectangle(double width, double height) {\r\n",
      "     this.width = width;\r\n",
      "     this.height= height;\r\n",
      "     this.area = width * height;\r\n",
      "     this.perimeter = 2 * (width + height);\r\n",
      "   }\r\n",
      " \r\n",
      "   @Override\r\n",
      "   public double calcArea() {\r\n",
      "     return this.area;\r\n",
      "   }\r\n",
      " \r\n",
      "   @Override\r\n",
      "   public double calcPerimeter() {\r\n",
      "     return this.perimeter;\r\n",
      "   }\r\n",
      " }\r\n",
      "|  Warning:\r\n",
      "|  Modifier 'public'  not permitted in top-level declarations, ignored\r\n",
      "|  public class Rectangle implements Shape {\r\n",
      "|  ^----^\r\n",
      "|  Added class Rectangle this error is corrected: \r\n",
      "|      Modifier 'public'  not permitted in top-level declarations, ignored\r\n",
      "|      public class Rectangle implements Shape {\r\n",
      "|      ^----^\r\n",
      "\r\n"
     ]
    }
   ],
   "source": [
    "public class Rectangle implements Shape {\n",
    "  private final double width, height, area, perimeter;\n",
    "\n",
    "  public Rectangle(double width, double height) {\n",
    "    this.width = width;\n",
    "    this.height= height;\n",
    "    this.area = width * height;\n",
    "    this.perimeter = 2 * (width + height);\n",
    "  }\n",
    "\n",
    "  @Override\n",
    "  public double calcArea() {\n",
    "    return this.area;\n",
    "  }\n",
    "\n",
    "  @Override\n",
    "  public double calcPerimeter() {\n",
    "    return this.perimeter;\n",
    "  }\n",
    "}"
   ]
  },
  {
   "cell_type": "markdown",
   "metadata": {
    "collapsed": true
   },
   "source": [
    "## 7.5 abstract class\n",
    "\n",
    "* Shape의 사례를 추상클래스를 사용하여 구현한다.\n",
    "    * abstract method\n",
    "        * body가 없다. 구현하지 않는다.\n",
    "        * 하위 클래스는 모두 구현해야 한다. 이를 위해 overriding이라고 한다."
   ]
  },
  {
   "cell_type": "markdown",
   "metadata": {},
   "source": [
    "* 선언부에 클래스를 abstract으로 정의한다.\n",
    "    ```\n",
    "    abstract class Shape\n",
    "    ```\n",
    "    \n",
    "* 클래스의 멤버함수\n",
    "    * abstract으로 선언하고, 자식클래스에서 재정의할 수 있다.\n",
    "    * abstract으로 선언하지 않으면, 자식클래스에서 선택적으로 재정의할 수 있다."
   ]
  },
  {
   "cell_type": "markdown",
   "metadata": {},
   "source": [
    "## 문제 oo-4: 클래스 상속을 사용하여 도형의 면적을 구하기"
   ]
  },
  {
   "cell_type": "code",
   "execution_count": 14,
   "metadata": {
    "collapsed": false
   },
   "outputs": [
    {
     "data": {
      "image/svg+xml": [
       "<svg height=\"116px\" style=\"width:407px;height:116px;\" version=\"1.1\" viewBox=\"0 0 407 116\" width=\"407px\" xmlns=\"http://www.w3.org/2000/svg\" xmlns:xlink=\"http://www.w3.org/1999/xlink\"><defs><filter height=\"300%\" id=\"f1\" width=\"300%\" x=\"-1\" y=\"-1\"><feGaussianBlur result=\"blurOut\" stdDeviation=\"2.0\"/><feColorMatrix in=\"blurOut\" result=\"blurOut2\" type=\"matrix\" values=\"0 0 0 0 0 0 0 0 0 0 0 0 0 0 0 0 0 0 .4 0\"/><feOffset dx=\"4.0\" dy=\"4.0\" in=\"blurOut2\" result=\"blurOut3\"/><feBlend in=\"SourceGraphic\" in2=\"blurOut3\" mode=\"normal\"/></filter></defs><g><rect fill=\"#FEFECE\" filter=\"url(#f1)\" height=\"73.6094\" style=\"stroke: #A80036; stroke-width: 1.5;\" width=\"205\" x=\"193.5\" y=\"20.5\"/><ellipse cx=\"271.75\" cy=\"36.5\" fill=\"#A9DCDF\" rx=\"11\" ry=\"11\" style=\"stroke: #A80036; stroke-width: 1.0;\"/><path d=\"M271.8594,31.8438 L270.7031,36.9219 L273.0313,36.9219 L271.8594,31.8438 Z M270.375,29.6094 L273.3594,29.6094 L276.7188,42 L274.2656,42 L273.5,38.9375 L270.2188,38.9375 L269.4688,42 L267.0313,42 L270.375,29.6094 Z \"/><text fill=\"#000000\" font-family=\"sans-serif\" font-size=\"12\" font-style=\"italic\" lengthAdjust=\"spacingAndGlyphs\" textLength=\"40\" x=\"292.25\" y=\"40.6543\">Shape</text><line style=\"stroke: #A80036; stroke-width: 1.5;\" x1=\"194.5\" x2=\"397.5\" y1=\"52.5\" y2=\"52.5\"/><line style=\"stroke: #A80036; stroke-width: 1.5;\" x1=\"194.5\" x2=\"397.5\" y1=\"60.5\" y2=\"60.5\"/><ellipse cx=\"204.5\" cy=\"72.4023\" fill=\"#84BE84\" rx=\"3\" ry=\"3\" style=\"stroke: #038048; stroke-width: 1.0;\"/><text fill=\"#000000\" font-family=\"sans-serif\" font-size=\"11\" lengthAdjust=\"spacingAndGlyphs\" textLength=\"149\" x=\"213.5\" y=\"74.7104\">abstract calcArea():double</text><ellipse cx=\"204.5\" cy=\"85.207\" fill=\"#84BE84\" rx=\"3\" ry=\"3\" style=\"stroke: #038048; stroke-width: 1.0;\"/><text fill=\"#000000\" font-family=\"sans-serif\" font-size=\"11\" lengthAdjust=\"spacingAndGlyphs\" textLength=\"179\" x=\"213.5\" y=\"87.5151\">abstract calcPerimeter():double</text><rect fill=\"#FEFECE\" filter=\"url(#f1)\" height=\"99.2188\" style=\"stroke: #A80036; stroke-width: 1.5;\" width=\"152\" x=\"6\" y=\"8\"/><ellipse cx=\"46.65\" cy=\"24\" fill=\"#ADD1B2\" rx=\"11\" ry=\"11\" style=\"stroke: #A80036; stroke-width: 1.0;\"/><path d=\"M49.6188,29.6406 Q49.0406,29.9375 48.4,30.0859 Q47.7594,30.2344 47.0563,30.2344 Q44.5563,30.2344 43.2359,28.5859 Q41.9156,26.9375 41.9156,23.8125 Q41.9156,20.6875 43.2359,19.0313 Q44.5563,17.375 47.0563,17.375 Q47.7594,17.375 48.4078,17.5313 Q49.0563,17.6875 49.6188,17.9844 L49.6188,20.7031 Q48.9938,20.125 48.4,19.8516 Q47.8063,19.5781 47.1813,19.5781 Q45.8375,19.5781 45.15,20.6484 Q44.4625,21.7188 44.4625,23.8125 Q44.4625,25.9063 45.15,26.9766 Q45.8375,28.0469 47.1813,28.0469 Q47.8063,28.0469 48.4,27.7734 Q48.9938,27.5 49.6188,26.9219 L49.6188,29.6406 Z \"/><text fill=\"#000000\" font-family=\"sans-serif\" font-size=\"12\" lengthAdjust=\"spacingAndGlyphs\" textLength=\"63\" x=\"66.35\" y=\"28.1543\">Rectangle</text><line style=\"stroke: #A80036; stroke-width: 1.5;\" x1=\"7\" x2=\"157\" y1=\"40\" y2=\"40\"/><rect fill=\"none\" height=\"6\" style=\"stroke: #C82930; stroke-width: 1.0;\" width=\"6\" x=\"14\" y=\"48.9023\"/><text fill=\"#000000\" font-family=\"sans-serif\" font-size=\"11\" lengthAdjust=\"spacingAndGlyphs\" textLength=\"100\" x=\"26\" y=\"54.2104\">final width:double</text><rect fill=\"none\" height=\"6\" style=\"stroke: #C82930; stroke-width: 1.0;\" width=\"6\" x=\"14\" y=\"61.707\"/><text fill=\"#000000\" font-family=\"sans-serif\" font-size=\"11\" lengthAdjust=\"spacingAndGlyphs\" textLength=\"105\" x=\"26\" y=\"67.0151\">final height:double</text><rect fill=\"none\" height=\"6\" style=\"stroke: #C82930; stroke-width: 1.0;\" width=\"6\" x=\"14\" y=\"74.5117\"/><text fill=\"#000000\" font-family=\"sans-serif\" font-size=\"11\" lengthAdjust=\"spacingAndGlyphs\" textLength=\"96\" x=\"26\" y=\"79.8198\">final area:double</text><rect fill=\"none\" height=\"6\" style=\"stroke: #C82930; stroke-width: 1.0;\" width=\"6\" x=\"14\" y=\"87.3164\"/><text fill=\"#000000\" font-family=\"sans-serif\" font-size=\"11\" lengthAdjust=\"spacingAndGlyphs\" textLength=\"126\" x=\"26\" y=\"92.6245\">final perimeter:double</text><line style=\"stroke: #A80036; stroke-width: 1.5;\" x1=\"7\" x2=\"157\" y1=\"99.2188\" y2=\"99.2188\"/><path d=\"M158.07,57.5 C163.125,57.5 168.18,57.5 173.234,57.5 \" fill=\"none\" style=\"stroke: #A80036; stroke-width: 1.0;\"/><polygon fill=\"none\" points=\"173.361,50.4999,193.361,57.5,173.361,64.4999,173.361,50.4999\" style=\"stroke: #A80036; stroke-width: 1.0;\"/></g></svg>"
      ],
      "text/plain": [
       "<IPython.core.display.SVG object>"
      ]
     },
     "execution_count": 14,
     "metadata": {},
     "output_type": "execute_result"
    }
   ],
   "source": [
    "%%plantuml\n",
    "@startuml\n",
    "abstract class Shape {\n",
    "    +abstract calcArea():double\n",
    "    +abstract calcPerimeter():double\n",
    "}\n",
    "class Rectangle {\n",
    "    -final width:double\n",
    "    -final height:double\n",
    "    -final area:double\n",
    "    -final perimeter:double\n",
    "}\n",
    "Rectangle -right-|> Shape\n",
    "@enduml"
   ]
  },
  {
   "cell_type": "code",
   "execution_count": 29,
   "metadata": {
    "collapsed": false
   },
   "outputs": [
    {
     "name": "stdout",
     "output_type": "stream",
     "text": [
      " public abstract class Shape {\r\n",
      "     public String name=\"Shape\";\r\n",
      "     public abstract double calcArea();\r\n",
      "     public abstract double calcPerimeter();\r\n",
      "     public String getName() { return this.name; }\r\n",
      "     public String toString() {\r\n",
      "         return \"Shape...\"+super.toString();\r\n",
      "     }\r\n",
      " }\r\n",
      "|  Warning:\r\n",
      "|  Modifier 'public'  not permitted in top-level declarations, ignored\r\n",
      "|  public abstract class Shape {\r\n",
      "|  ^-------------^\r\n",
      "|  Added class Shape this error is corrected: \r\n",
      "|      Modifier 'public'  not permitted in top-level declarations, ignored\r\n",
      "|      public abstract class Shape {\r\n",
      "|      ^-------------^\r\n",
      "\r\n"
     ]
    }
   ],
   "source": [
    "public abstract class Shape {\n",
    "    public String name=\"Shape\";\n",
    "    public abstract double calcArea();\n",
    "    public abstract double calcPerimeter();\n",
    "    public String getName() { return this.name; }\n",
    "    public String toString() {\n",
    "        return \"Shape...\"+super.toString();\n",
    "    }\n",
    "}"
   ]
  },
  {
   "cell_type": "code",
   "execution_count": 18,
   "metadata": {
    "collapsed": false,
    "scrolled": true
   },
   "outputs": [
    {
     "name": "stdout",
     "output_type": "stream",
     "text": [
      " public class Rectangle extends Shape {\r\n",
      "     private final double width, height, area, perimeter;\r\n",
      " \r\n",
      "     public Rectangle(double width, double height) {\r\n",
      "         this.width = width;\r\n",
      "         this.height= height;\r\n",
      "         this.area = width * height;\r\n",
      "         this.perimeter = 2 * (width + height);\r\n",
      "     }\r\n",
      "     @Override\r\n",
      "     public double calcArea() {\r\n",
      "         return this.area;\r\n",
      "     }\r\n",
      "     @Override\r\n",
      "     public double calcPerimeter() {\r\n",
      "         return this.perimeter;\r\n",
      "     }\r\n",
      "     public String toString() {\r\n",
      "         return \"Rectangle...\"+super.toString();\r\n",
      "     }\r\n",
      " }\r\n",
      "|  Warning:\r\n",
      "|  Modifier 'public'  not permitted in top-level declarations, ignored\r\n",
      "|  public class Rectangle extends Shape {\r\n",
      "|  ^----^\r\n",
      "|  Added class Rectangle this error is corrected: \r\n",
      "|      Modifier 'public'  not permitted in top-level declarations, ignored\r\n",
      "|      public class Rectangle extends Shape {\r\n",
      "|      ^----^\r\n",
      "\r\n"
     ]
    }
   ],
   "source": [
    "public class Rectangle extends Shape {\n",
    "    private final double width, height, area, perimeter;\n",
    "    public Rectangle(double width, double height) {\n",
    "        this.width = width;\n",
    "        this.height= height;\n",
    "        this.area = width * height;\n",
    "        this.perimeter = 2 * (width + height);\n",
    "    }\n",
    "    @Override\n",
    "    public double calcArea() {\n",
    "        return this.area;\n",
    "    }\n",
    "    @Override\n",
    "    public double calcPerimeter() {\n",
    "        return this.perimeter;\n",
    "    }\n",
    "    public String toString() {\n",
    "        return \"Rectangle...\"+super.toString();\n",
    "    }\n",
    "}"
   ]
  },
  {
   "cell_type": "code",
   "execution_count": 19,
   "metadata": {
    "collapsed": false,
    "scrolled": true
   },
   "outputs": [
    {
     "name": "stdout",
     "output_type": "stream",
     "text": [
      " public class Circle extends Shape {\r\n",
      "     private final double radius, area, perimeter;\r\n",
      " \r\n",
      "     public Circle(double radius) {\r\n",
      "         this.radius = radius;\r\n",
      "         this.area = Math.PI * radius * radius;\r\n",
      "         this.perimeter = 2 * Math.PI * radius;\r\n",
      "     }\r\n",
      "     @Override\r\n",
      "     public double calcArea() {\r\n",
      "         return this.area;\r\n",
      "     }\r\n",
      "     @Override\r\n",
      "     public double calcPerimeter() {\r\n",
      "         return this.perimeter;\r\n",
      "     }\r\n",
      "     public String toString() {\r\n",
      "         return \"Circle...\"+super.toString();\r\n",
      "     }\r\n",
      " }\r\n",
      "|  Warning:\r\n",
      "|  Modifier 'public'  not permitted in top-level declarations, ignored\r\n",
      "|  public class Circle extends Shape {\r\n",
      "|  ^----^\r\n",
      "|  Added class Circle this error is corrected: \r\n",
      "|      Modifier 'public'  not permitted in top-level declarations, ignored\r\n",
      "|      public class Circle extends Shape {\r\n",
      "|      ^----^\r\n",
      "\r\n"
     ]
    }
   ],
   "source": [
    "public class Circle extends Shape {\n",
    "    private final double radius, area, perimeter;\n",
    "\n",
    "    public Circle(double radius) {\n",
    "        this.radius = radius;\n",
    "        this.area = Math.PI * radius * radius;\n",
    "        this.perimeter = 2 * Math.PI * radius;\n",
    "    }\n",
    "    @Override\n",
    "    public double calcArea() {\n",
    "        return this.area;\n",
    "    }\n",
    "    @Override\n",
    "    public double calcPerimeter() {\n",
    "        return this.perimeter;\n",
    "    }\n",
    "    public String toString() {\n",
    "        return \"Circle...\"+super.toString();\n",
    "    }\n",
    "}"
   ]
  },
  {
   "cell_type": "code",
   "execution_count": 17,
   "metadata": {
    "collapsed": false
   },
   "outputs": [
    {
     "name": "stdout",
     "output_type": "stream",
     "text": [
      " Rectangle r=new Rectangle(3,4);\r\n",
      "|  Added variable r of type Rectangle with initial value Rectangle...Shape ...Rectangle@4bec1f0c\r\n",
      "\r\n",
      " Circle c=new Circle(5);\r\n",
      "|  Added variable c of type Circle with initial value Circle...Shape ...Circle@2d928643\r\n",
      "\r\n"
     ]
    }
   ],
   "source": [
    "Rectangle r=new Rectangle(3,4);\n",
    "Circle c=new Circle(5);"
   ]
  },
  {
   "cell_type": "code",
   "execution_count": 18,
   "metadata": {
    "collapsed": false
   },
   "outputs": [
    {
     "name": "stdout",
     "output_type": "stream",
     "text": [
      " r.calcArea();\r\n",
      "|  Expression value is: 12.0\r\n",
      "|    assigned to temporary variable $18 of type double\r\n",
      "\r\n",
      " c.calcArea();\r\n",
      "|  Expression value is: 78.53981633974483\r\n",
      "|    assigned to temporary variable $19 of type double\r\n",
      "\r\n"
     ]
    }
   ],
   "source": [
    "r.calcArea();\n",
    "c.calcArea();"
   ]
  },
  {
   "cell_type": "markdown",
   "metadata": {},
   "source": [
    "## 7.6 Polymorphism: \n",
    "\n",
    "* 다형성\n",
    "    * 부모클래스의 참조가 자식클래스를 가리키고 있을 때, 자식클래스의 함수가 호출될 수 있다.\n",
    "    * 런타임에 자식클래스의 호출할 함수가 결정된다.\n",
    "    * 동적바인딩이라고 한다.\n",
    "        * C++에서는 RTTI (Run Time Type Identification)\n",
    "\n",
    "* 다형성을 사용하려면:\n",
    "    * 상속관계\n",
    "        * upcasting - 상속계층에서 suptype에서 supertype으로 \n",
    "    * overriding 함수\n",
    "        * subtype 고유의 함수는 upcasting하면서 사라짐 (losing access to subtype features)\n",
    "\n",
    "* 동적 vs 정적 바인딩\n",
    "    * 동적바인딩은 '런타임 시점'에 '객체에 할당된 참조'에 따라 사용할 함수를 '동적'으로 결정한다.\n",
    "    * 정적바인딩은 '컴파일 시점'에 '클래스 타잎'에 따라 '정적'으로 결정한다.\n",
    "\n",
    "구분 | dynamic binding | static binding\n",
    "-------|-------|-------\n",
    "발생시점 | 런타임 | 컴파일타임\n",
    "적용 | 재정의 함수 | 재정의되지 않은 경우. private, final, static\n",
    "사용정보 | 객체 | 클래스\n"
   ]
  },
  {
   "cell_type": "markdown",
   "metadata": {
    "collapsed": true
   },
   "source": [
    "* 다형성을 사용하기 위해 부모클래스에 자식클래스의 객체를 할당한다.\n",
    "    * 자식클래스 SeaTurtle의 객체가 부모클래스 Turtle에 할당\n",
    "    * upcasting을 하면, 부모클래스가 자식클래스의 참조를 가진다.\n",
    "    * 재정의한 함수를 다형적으로 호출 할 수 있다."
   ]
  },
  {
   "cell_type": "code",
   "execution_count": 2,
   "metadata": {
    "collapsed": false,
    "scrolled": true
   },
   "outputs": [
    {
     "name": "stdout",
     "output_type": "stream",
     "text": [
      " Turtle t=new SeaTurtle();\r\n",
      "|  Added variable t of type Turtle with initial value SeaTurtle@598067a5\r\n",
      "\r\n"
     ]
    }
   ],
   "source": [
    "Turtle t=new SeaTurtle();"
   ]
  },
  {
   "cell_type": "markdown",
   "metadata": {
    "collapsed": true
   },
   "source": [
    "* 이런 경우, 자식클래스 SeaTurtle 고유의 함수 swim()은 사라짐"
   ]
  },
  {
   "cell_type": "code",
   "execution_count": 3,
   "metadata": {
    "collapsed": false
   },
   "outputs": [
    {
     "name": "stdout",
     "output_type": "stream",
     "text": [
      " t.swim();\r\n",
      "|  Error:\r\n",
      "|  cannot find symbol\r\n",
      "|    symbol:   method swim()\r\n",
      "|  t.swim();\r\n",
      "|  ^----^\r\n",
      "\r\n"
     ]
    }
   ],
   "source": [
    "t.swim();"
   ]
  },
  {
   "cell_type": "markdown",
   "metadata": {
    "collapsed": true
   },
   "source": [
    "* upcasting한 후, 다시 downcasting할 수 있다.\n",
    "    * upcasting한 객체에서 downcasting해야 한다.\n",
    "    * downcast는 '명시적'으로 해야 한다 (upcast는 자동으로 이루어진다)."
   ]
  },
  {
   "cell_type": "code",
   "execution_count": 6,
   "metadata": {
    "collapsed": false
   },
   "outputs": [
    {
     "name": "stdout",
     "output_type": "stream",
     "text": [
      " SeaTurtle stFromTurtle = (SeaTurtle)t;\r\n",
      "|  Modified variable stFromTurtle of type SeaTurtle with initial value SeaTurtle@598067a5\r\n",
      "|    Update overwrote variable stFromTurtle\r\n",
      "\r\n"
     ]
    }
   ],
   "source": [
    "SeaTurtle stFromTurtle = (SeaTurtle)t;"
   ]
  },
  {
   "cell_type": "code",
   "execution_count": 7,
   "metadata": {
    "collapsed": false
   },
   "outputs": [
    {
     "name": "stdout",
     "output_type": "stream",
     "text": [
      " stFromTurtle.swim();\r\n",
      "A sea turtle swims...\r\n"
     ]
    }
   ],
   "source": [
    "stFromTurtle.swim();"
   ]
  },
  {
   "cell_type": "markdown",
   "metadata": {
    "collapsed": true
   },
   "source": [
    "* supertype의 함수를 실행할 수 있다. 이 함수를 overriding하는 경우 subtype의 eat()이 실행된다."
   ]
  },
  {
   "cell_type": "code",
   "execution_count": 5,
   "metadata": {
    "collapsed": false,
    "scrolled": true
   },
   "outputs": [
    {
     "name": "stdout",
     "output_type": "stream",
     "text": [
      " t.eat();\r\n",
      "Turtle eats null\r\n"
     ]
    }
   ],
   "source": [
    "t.eat();"
   ]
  },
  {
   "cell_type": "code",
   "execution_count": 6,
   "metadata": {
    "collapsed": false
   },
   "outputs": [
    {
     "name": "stdout",
     "output_type": "stream",
     "text": [
      " class SeaTurtle extends Turtle {\r\n",
      "     public void swim() {\r\n",
      "         System.out.print(\"A sea turtle swims...\");\r\n",
      "     }\r\n",
      "     public void eat(){\r\n",
      "         System.out.print(\"A sea turtle eats \"+food);\r\n",
      "     }\r\n",
      " }\r\n",
      "|  Replaced class SeaTurtle\r\n",
      "|    Update overwrote class SeaTurtle\r\n",
      "\r\n"
     ]
    }
   ],
   "source": [
    "class SeaTurtle extends Turtle {\n",
    "    public void swim() {\n",
    "        System.out.print(\"A sea turtle swims...\");\n",
    "    }\n",
    "    public void eat(){\n",
    "        System.out.print(\"A sea turtle eats \"+food);\n",
    "    }\n",
    "}"
   ]
  },
  {
   "cell_type": "markdown",
   "metadata": {},
   "source": [
    "* setFood()는 supertype의 함수\n",
    "* supertype의 setFood()를 실행해서 먹이를 설정한다.\n",
    "    ```\n",
    "    t.setFood(\"seaweeds\");\n",
    "    ```\n",
    "\n",
    "* t.eat()은 다형성이 실행된다.\n",
    "    * supertyep의 eat()이 실행될지, suptype의 eat()이 실행될지 모른다.\n",
    "    * late binding이란 실행시점에 subtype seaturtle의 eat()이 실행된다.\n",
    "    ```\n",
    "    t.eat();\n",
    "    ```"
   ]
  },
  {
   "cell_type": "code",
   "execution_count": 7,
   "metadata": {
    "collapsed": false,
    "scrolled": false
   },
   "outputs": [
    {
     "name": "stdout",
     "output_type": "stream",
     "text": [
      " t.setFood(\"seaweeds\");\r\n",
      "\r\n",
      " t.eat();\r\n",
      "Turtle eats seaweeds\r\n"
     ]
    }
   ],
   "source": [
    "t.setFood(\"seaweeds\");\n",
    "t.eat();"
   ]
  },
  {
   "cell_type": "markdown",
   "metadata": {},
   "source": [
    "## 문제  oo-5: 객체를 배열로 저장해서, sayHello 하기\n",
    "\n",
    "* Hello 객체를 배열로 저장해서, 모든 객체가 sayHello() 호출하기.\n",
    "* 앞서 만들었던 Hello 클래스를 사용한다.\n",
    "* 프로그래밍 요소\n",
    "    * 객체의 배열 - 배열은 원시 타잎, 객체 타잎 모두 저장할 수 있다.\n",
    "    * 다형성 - 객체의 함수를 반복문에서 일괄 호출할 수 있다."
   ]
  },
  {
   "cell_type": "code",
   "execution_count": null,
   "metadata": {
    "collapsed": true
   },
   "outputs": [],
   "source": [
    "class Hello {\n",
    "    private String name;\n",
    "    public Hello(String name) {\n",
    "        this.name=name;\n",
    "    }\n",
    "    public void sayHello() {\n",
    "        System.out.println(\"hello \" + name);\n",
    "    }\n",
    "}"
   ]
  },
  {
   "cell_type": "markdown",
   "metadata": {},
   "source": [
    "* 객체의 배열을 선언한다.\n",
    "* Array는 저장 갯수를 미리 정해야 한다. -> 갯수를 임의로 늘릴 수 없다."
   ]
  },
  {
   "cell_type": "code",
   "execution_count": null,
   "metadata": {
    "collapsed": true
   },
   "outputs": [],
   "source": [
    "Hello[] h=new Hello[5];\n",
    "\n",
    "h[0]=new Hello(\"js1\");\n",
    "h[1]=new Hello(\"js2\");"
   ]
  },
  {
   "cell_type": "markdown",
   "metadata": {},
   "source": [
    "* h를 출력하면 toString을 호출하게 됨. 객체의 hash code를 출력한다.\n",
    "* 저장된 객체가 없는 경우에는 null을 출력한다."
   ]
  },
  {
   "cell_type": "code",
   "execution_count": null,
   "metadata": {
    "collapsed": true
   },
   "outputs": [],
   "source": [
    "for(int i=0;i<5;i++)\n",
    "    System.out.println(h[i]);"
   ]
  },
  {
   "cell_type": "markdown",
   "metadata": {},
   "source": [
    "* 객체를 출력할 때는 함수명을 사용"
   ]
  },
  {
   "cell_type": "code",
   "execution_count": null,
   "metadata": {
    "collapsed": true
   },
   "outputs": [],
   "source": [
    "for(int i=0;i<h.length;i++)\n",
    "    h[i].sayHello();"
   ]
  },
  {
   "cell_type": "markdown",
   "metadata": {},
   "source": [
    "* 객체를 출력하는 반복문이다."
   ]
  },
  {
   "cell_type": "code",
   "execution_count": null,
   "metadata": {
    "collapsed": true
   },
   "outputs": [],
   "source": [
    "for(Hello e:h)\n",
    "    e.sayHello();"
   ]
  },
  {
   "cell_type": "markdown",
   "metadata": {},
   "source": [
    "## 7.7 equals\n",
    "\n",
    "* 다형성은 어느 객체를 사용할 것인지 판별하는 것이 필요하다.\n",
    "* 상속관계의 부모클래스와 자식클래스는 같지 않아야 한다.\n",
    "* 판별하는 함수는 instanceof와 getClass()가 있다.\n",
    "    * instanceOf는 부모클래스와 자식클래스를 동일한 객체로 본다.\n",
    "    * getClass()는 부모클래스와 자식클래스라고 하더라도, 동일한 객체가 아니다.\n",
    "\n",
    "* equals의 5가지 조건\n",
    "\n",
    "특징 | 설명 | 예\n",
    "-------|-------|-------\n",
    "reflexivity | 자신과 비교하면 동일 | x.equals(x)는 true\n",
    "symmetry | x=y이면 y=x | x.equals(y)이면 y.equals(x)\n",
    "transitivity | x=y, y=z이면 z=x | x.equals(y) y.equals(z), z.equals(y)\n",
    "consistency | 상태가 변경이 되어도 true | hashCode()가 다른 경우, 시점이 지나면 다를 수 있다.\n",
    "non-nullity | x==not null | x.equals(null)\n",
    "\n",
    "* equals를 override할 경우, hashcode도 override한다.\n",
    "\n"
   ]
  },
  {
   "cell_type": "markdown",
   "metadata": {},
   "source": [
    "* reflexive"
   ]
  },
  {
   "cell_type": "code",
   "execution_count": null,
   "metadata": {
    "collapsed": true
   },
   "outputs": [],
   "source": [
    "SeaTurtle st=new SeaTurtle();\n",
    "\n",
    "st.equals(st);"
   ]
  },
  {
   "cell_type": "markdown",
   "metadata": {},
   "source": [
    "* symmetric"
   ]
  },
  {
   "cell_type": "code",
   "execution_count": null,
   "metadata": {
    "collapsed": true
   },
   "outputs": [],
   "source": [
    "Turtle t=new Turtle();\n",
    "\n",
    "t.equals(st);\n",
    "\n",
    "st.equals(t);\n",
    "\n",
    "st.getClass();\n",
    "\n",
    "t.getClass();"
   ]
  },
  {
   "cell_type": "markdown",
   "metadata": {},
   "source": [
    "## 문제 oo-6:  도형을 다형적으로 면적 계산하기\n",
    "\n",
    "* 부모클래스 Shape[]에 자식클래스를 저장하고 (예: Circle, Rectangle)\n",
    "* 부모클래스 Shape.draw()를 호출하면 자식클래스 subtype.draw()가 실행되는 것.\n",
    "    * version 1: instanceof\n",
    "    * version 2: 다형성"
   ]
  },
  {
   "cell_type": "code",
   "execution_count": 20,
   "metadata": {
    "collapsed": false
   },
   "outputs": [
    {
     "name": "stdout",
     "output_type": "stream",
     "text": [
      " Rectangle r=new Rectangle(3,4);\r\n",
      "|  Added variable r of type Rectangle with initial value Rectangle...Shape...Rectangle@598067a5\r\n",
      "\r\n",
      " Circle c=new Circle(5);\r\n",
      "|  Added variable c of type Circle with initial value Circle...Shape...Circle@56ac3a89\r\n",
      "\r\n"
     ]
    }
   ],
   "source": [
    "Rectangle r=new Rectangle(3,4);\n",
    "Circle c=new Circle(5);"
   ]
  },
  {
   "cell_type": "markdown",
   "metadata": {},
   "source": [
    "* instanceof vs getClass\n",
    "\n",
    "함수 | 설명 | 예제\n",
    "----------|----------|----------\n",
    "instanceof | 좌측(참조값)이 우측(클래스 또는 하위)의 객체이면 1, 아니면 0 | r instanceof Rectangle\n",
    "getClass() | ==를 사용. 좌측(클래스)이 우측(클래스)과 동일한 타잎이면 1, 아니면 0 | r.getClass() == Rectangle.class\n",
    "\n"
   ]
  },
  {
   "cell_type": "markdown",
   "metadata": {},
   "source": [
    "* r은 Rectangle이면서 Shape(r의 superclass)의 객체"
   ]
  },
  {
   "cell_type": "code",
   "execution_count": 22,
   "metadata": {
    "collapsed": false
   },
   "outputs": [
    {
     "name": "stdout",
     "output_type": "stream",
     "text": [
      " if(r instanceof Shape && r instanceof Rectangle) {\r\n",
      "     System.out.print(r.toString());\r\n",
      " }\r\n",
      "Rectangle...Shape...REPL.$REPL13$Rectangle@598067a5\r\n"
     ]
    }
   ],
   "source": [
    "if(r instanceof Shape && r instanceof Rectangle) {\n",
    "    System.out.print(r.toString());\n",
    "}"
   ]
  },
  {
   "cell_type": "markdown",
   "metadata": {},
   "source": [
    "* r.getClass()는 r의 클래스를 돌려준다.\n",
    "    ```\n",
    "    public final Class getClass()\n",
    "    ```\n",
    "    * 우측에는 클래스를 적어준다. instanceof와 달리 클래스가 같아야 한다."
   ]
  },
  {
   "cell_type": "code",
   "execution_count": 27,
   "metadata": {
    "collapsed": false
   },
   "outputs": [
    {
     "name": "stdout",
     "output_type": "stream",
     "text": [
      " r.getClass() == Rectangle.class\r\n",
      "|  Expression value is: true\r\n",
      "|    assigned to temporary variable $9 of type boolean\r\n",
      "\r\n"
     ]
    }
   ],
   "source": [
    "r.getClass() == Rectangle.class"
   ]
  },
  {
   "cell_type": "code",
   "execution_count": 28,
   "metadata": {
    "collapsed": false,
    "scrolled": true
   },
   "outputs": [
    {
     "name": "stdout",
     "output_type": "stream",
     "text": [
      " r.getClass() == Shape.class\r\n",
      "|  Error:\r\n",
      "|  incomparable types: java.lang.Class<capture#1 of ? extends Rectangle> and java.lang.Class<Shape>\r\n",
      "|  r.getClass() == Shape.class\r\n",
      "|  ^-------------------------^\r\n",
      "\r\n"
     ]
    }
   ],
   "source": [
    "r.getClass() == Shape.class"
   ]
  },
  {
   "cell_type": "markdown",
   "metadata": {
    "collapsed": true
   },
   "source": [
    "### instanceof를 사용하는 경우와 다형성을 사용하는 경우 비교\n",
    "\n",
    "\n",
    "\n",
    "```\n",
    "Shape[] s=new Shape[2];\n",
    "s[0]=new Rectangle(3,4);\n",
    "s[1]=new Circle(5);\n",
    "```\n",
    "\n",
    "```\n",
    "s[0] instanceof Rectangle\n",
    "```"
   ]
  },
  {
   "cell_type": "code",
   "execution_count": 33,
   "metadata": {
    "collapsed": false,
    "scrolled": true
   },
   "outputs": [
    {
     "name": "stdout",
     "output_type": "stream",
     "text": [
      " Shape[] s=new Shape[2];\r\n",
      "|  Modified variable s of type Shape[] with initial value [LShape;@1ed4004b\r\n",
      "|    Update overwrote variable s\r\n",
      "\r\n",
      " s[0]=r;\r\n",
      "|  Expression value is: Rectangle...Shape...Rectangle@598067a5\r\n",
      "|    assigned to temporary variable $15 of type Shape\r\n",
      "\r\n",
      " s[1]=c;\r\n",
      "|  Expression value is: Circle...Shape...Circle@56ac3a89\r\n",
      "|    assigned to temporary variable $16 of type Shape\r\n",
      "\r\n"
     ]
    }
   ],
   "source": [
    "Shape[] s=new Shape[2];\n",
    "s[0]=r;\n",
    "s[1]=c;"
   ]
  },
  {
   "cell_type": "code",
   "execution_count": 35,
   "metadata": {
    "collapsed": false
   },
   "outputs": [
    {
     "name": "stdout",
     "output_type": "stream",
     "text": [
      " for(Shape my:s) {\r\n",
      "     if(my instanceof Rectangle) {\r\n",
      "         System.out.println(my.toString());\r\n",
      "     } else if (my instanceof Circle) {\r\n",
      "         System.out.println(my.toString());    \r\n",
      "     }\r\n",
      " }\r\n",
      "Rectangle...Shape...REPL.$REPL13$Rectangle@598067a5\r\n",
      "Circle...Shape...REPL.$REPL14$Circle@56ac3a89\r\n",
      "\r\n"
     ]
    }
   ],
   "source": [
    "for(Shape my:s) {\n",
    "    if(my instanceof Rectangle) {\n",
    "        System.out.println(my.toString());\n",
    "    } else if (my instanceof Circle) {\n",
    "        System.out.println(my.toString());    \n",
    "    }\n",
    "}"
   ]
  },
  {
   "cell_type": "markdown",
   "metadata": {
    "collapsed": true
   },
   "source": [
    "### 다형성\n",
    "\n",
    "* subtype 다형성을 사용하면, intanceOf를 사용하지 않게 된다.\n",
    "\n",
    "```\n",
    "if (superclass instanceof Subclass) {\n",
    "   Subclass subclass = (Subclass) superclass;\n",
    "   subclass.method();\n",
    "}\n",
    "```"
   ]
  },
  {
   "cell_type": "code",
   "execution_count": 34,
   "metadata": {
    "collapsed": false
   },
   "outputs": [
    {
     "name": "stdout",
     "output_type": "stream",
     "text": [
      " for(Shape my:s)\r\n",
      "     System.out.println(my.toString());\r\n",
      "Rectangle...Shape...REPL.$REPL13$Rectangle@598067a5\r\n",
      "Circle...Shape...REPL.$REPL14$Circle@56ac3a89\r\n",
      "\r\n"
     ]
    }
   ],
   "source": [
    "for(Shape my:s)\n",
    "    System.out.println(my.toString());"
   ]
  }
 ],
 "metadata": {
  "kernelspec": {
   "display_name": "Java 9",
   "language": "java",
   "name": "java"
  },
  "language_info": {
   "file_extension": ".class",
   "mimetype": "application/java-vm",
   "name": "java"
  }
 },
 "nbformat": 4,
 "nbformat_minor": 0
}
