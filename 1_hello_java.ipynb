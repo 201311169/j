{
 "cells": [
  {
   "cell_type": "markdown",
   "metadata": {
    "slideshow": {
     "slide_type": "slide"
    }
   },
   "source": [
    "# 1. Java\n",
    "\n",
    "## 1.1 환경\n",
    "\n",
    "* Linux\n",
    "* 윈도우는 mingw의 git bash를 이용함. 리눅스 환경은 아니지만 리눅스like 명령어 제공.\n",
    "* UML\n",
    "* IDE - drjava (lightweight)"
   ]
  },
  {
   "cell_type": "markdown",
   "metadata": {},
   "source": [
    "### 1.1.1 자바\n",
    "\n",
    "-   리눅스\n",
    "    * jre만 설치하지 않도록 함.\n",
    "\n",
    "    ```\n",
    "    $ sudo apt-get install oepnjdk-7-jdk (configuration - OK, Yes)\n",
    "    ```\n",
    "\n",
    "    -   자바 설치 확인\n",
    "\n",
    "    ```\n",
    "    $ update-java-alternatives - l\n",
    "    ```\n",
    "\n",
    "-   윈도우에서 설치\n",
    "    -   <http://www.oracle.com> >다운로드 >Java For Deveolopers를\n",
    "        클릭하여 JDK (Java Development Kit) 다운로드.\n",
    "        우선 자신이 컴퓨터 운영체제를 확인한다.\n",
    "        제어판 > 시스템에 가서 ’컴퓨터에 대한 기본정보’를 알아본다 (나의\n",
    "        경우는 윈도우7 32비트). 그리고 이것에 맞추어 JDK를 다운로드 한다\n",
    "        (나의 경우는 32비트이므로 x86) (x64는 64비트).\n",
    "        윈도우 창을 연다 윈도우 창을 크기하려면, 윈도우창 제목표시줄에서\n",
    "        마우스 우측 버튼을 눌러 레이아웃과 폰트를 조정한다.\n",
    "    -   경로설정은\n",
    "        * 1) 제어판에서 환경변수설정을 하거나\n",
    "        * 2) 좀 어렵지만 명령어를 직접 입력하는 방식으로 할 수 있다.\n",
    "        명령어 입력방식은 다음과 같이 한다.\n",
    "```\n",
    "    set JAVA_HOME=\"C:\\Program Files\\Java\\jdk1.7.0_67\"\n",
    "    echo %JAVA_HOME%\n",
    "    set path=%path%;%JAVA_HOME%\\bin\n",
    "    echo %path%\n",
    "    javac -version\n",
    "    set CODE_HOME=\"C:\\Users\\Code\\j2\"\n",
    "    set classpath=%classpath%;%CODE_HOME%\\classes;.\n",
    "    echo %classpath%\n",
    "```"
   ]
  },
  {
   "cell_type": "code",
   "execution_count": 5,
   "metadata": {
    "collapsed": false
   },
   "outputs": [
    {
     "name": "stdout",
     "output_type": "stream",
     "text": [
      "java version \"1.7.0_51\"\r\n",
      "Java(TM) SE Runtime Environment (build 1.7.0_51-b13)\r\n",
      "Java HotSpot(TM) 64-Bit Server VM (build 24.51-b03, mixed mode)\r\n"
     ]
    }
   ],
   "source": [
    "!java -version"
   ]
  },
  {
   "cell_type": "code",
   "execution_count": null,
   "metadata": {
    "collapsed": false
   },
   "outputs": [],
   "source": [
    "\n"
   ]
  },
  {
   "cell_type": "markdown",
   "metadata": {
    "slideshow": {
     "slide_type": "slide"
    }
   },
   "source": [
    "### 1.1.2 DrJava\n",
    "\n",
    "#### 1.1.2.1 설치 및 실행\n",
    "* www.drjava.org로 가서 ’Download Jar File’ 선택해서 다운로드\n",
    "* 별도의 설정은 필요하지 않고, 단순하게 jar실행"
   ]
  },
  {
   "cell_type": "code",
   "execution_count": 1,
   "metadata": {
    "collapsed": false,
    "slideshow": {
     "slide_type": "subslide"
    }
   },
   "outputs": [
    {
     "name": "stdout",
     "output_type": "stream",
     "text": [
      "-rw-r--r--@ 1 media  staff  12928003  8 26  2014 /Users/media/Downloads/drjava-stable-20140826-r5761.jar\r\n"
     ]
    }
   ],
   "source": [
    "!ls -l ~/Downloads/dr*.jar"
   ]
  },
  {
   "cell_type": "code",
   "execution_count": null,
   "metadata": {
    "collapsed": false,
    "scrolled": true,
    "slideshow": {
     "slide_type": "subslide"
    }
   },
   "outputs": [
    {
     "name": "stdout",
     "output_type": "stream",
     "text": [
      "Picked up JAVA_TOOL_OPTIONS: -javaagent:/usr/share/java/jayatanaag.jar \r\n"
     ]
    }
   ],
   "source": [
    "!java -jar ~/Downloads/drjava-stable-20140826-r5761.jar"
   ]
  },
  {
   "cell_type": "markdown",
   "metadata": {},
   "source": [
    "#### 1.1.2.2 classpath 설정\n",
    "\n",
    "* drjava에서\n",
    "    * drjava에서 컴파일하고 나면, 소스가 저장된 디렉토리에 클래스가 생성.\n",
    "    * drjava안에서 추가해줌\n",
    "    Tools > Interactions & Console > View Interactions Classpath...\n",
    "    Edit > Preferences > Extra Classpath classpath 확인\n",
    "    * 주의: drjava를 시작하고 나서 import하거나 클래스 변경이 있는 경우 재실행.\n",
    "    * 확인\n",
    "    ```\n",
    "    $ cat ~/.drjava\n",
    "    ```\n",
    "* 리눅스\n",
    "    ```\n",
    "    $ echo $CLASSPATH\n",
    "    $ export CLASSPATH=\\$CLASSPATH:./classes/\n",
    "    ```\n",
    "* 윈도우에서는\n",
    "    ```\n",
    "    $ set CLASSPATH=%CLASSPATH%;./classes/\n",
    "    ```\n",
    "* '>'는 interaction pane에서 실행하는 예시.\n",
    "\n",
    "    ```\n",
    "    //아주 간단하게 Hello World를 만들 수 있다.\n",
    "    > System.out.println(\"Hello World\")\n",
    "    Hello World\n",
    "\n",
    "    // 1부터 100까지 더하기도 쉽게.\n",
    "    > int sum=0;\n",
    "    > for(int i=0;i<10;i++) {\n",
    "            sum=sum+i;\n",
    "            }\n",
    "    > sum\n",
    "    45\n",
    "    // 간단한 함수의 작성과 실행의 예\n",
    "    > String name;\n",
    "    > name=\"jsl\"\n",
    "    \"jsl\"\n",
    "    > public String getName() {\n",
    "            return name;\n",
    "            }\n",
    "    > getName()\n",
    "    \"jsl\"\n",
    "\n",
    "    > import java.util.Date;\n",
    "    > Date birthdate;\n",
    "    > birthdate=new Date(2014,9,1)\n",
    "    Thu Oct 01 00:00:00 KST 3914\n",
    "    > birthdate.getTime()\n",
    "    61370233200000\n",
    "    > public Date getBirthdate() {\n",
    "            return birthdate;\n",
    "            }\n",
    "    > getBirthdate()\n",
    "    Thu Oct 01 00:00:00 KST 3914\n",
    "    ```\n"
   ]
  },
  {
   "cell_type": "markdown",
   "metadata": {
    "slideshow": {
     "slide_type": "slide"
    }
   },
   "source": [
    "### 1.1.3 UML\n",
    "\n",
    "* PlantUML"
   ]
  },
  {
   "cell_type": "code",
   "execution_count": 1,
   "metadata": {
    "collapsed": false,
    "slideshow": {
     "slide_type": "slide"
    }
   },
   "outputs": [
    {
     "name": "stdout",
     "output_type": "stream",
     "text": [
      "Installed plantuml_magics.py. To use it, type:\n",
      "  %load_ext plantuml_magics\n"
     ]
    }
   ],
   "source": [
    "%install_ext https://raw.githubusercontent.com/sberke/ipython-plantuml/master/plantuml_magics.py"
   ]
  },
  {
   "cell_type": "code",
   "execution_count": 2,
   "metadata": {
    "collapsed": false,
    "slideshow": {
     "slide_type": "slide"
    }
   },
   "outputs": [],
   "source": [
    "%load_ext plantuml_magics"
   ]
  },
  {
   "cell_type": "code",
   "execution_count": 3,
   "metadata": {
    "collapsed": false,
    "slideshow": {
     "slide_type": "slide"
    }
   },
   "outputs": [
    {
     "data": {
      "text/plain": [
       "['./plantuml.jar']"
      ]
     },
     "execution_count": 3,
     "metadata": {},
     "output_type": "execute_result"
    }
   ],
   "source": [
    "import glob\n",
    "glob.glob(r'./*.jar')"
   ]
  },
  {
   "cell_type": "code",
   "execution_count": 2,
   "metadata": {
    "collapsed": false
   },
   "outputs": [
    {
     "name": "stdout",
     "output_type": "stream",
     "text": [
      "The environment variable GRAPHVIZ_DOT has not been set\r\n",
      "Dot executable is /usr/bin/dot\r\n",
      "Error: file does not exist\r\n",
      "Error: only sequence diagrams will be generated\r\n"
     ]
    }
   ],
   "source": [
    "!java -jar plantuml.jar -testdot"
   ]
  },
  {
   "cell_type": "code",
   "execution_count": 5,
   "metadata": {
    "collapsed": false
   },
   "outputs": [
    {
     "name": "stdout",
     "output_type": "stream",
     "text": [
      "/opt/local/bin/dot\n",
      "The environment variable GRAPHVIZ_DOT has been set to /opt/local/bin/dot\n",
      "Dot executable is /opt/local/bin/dot\n",
      "Dot version: dot - graphviz version 2.38.0 (20140413.2041)\n",
      "Installation seems OK. File generation OK\n"
     ]
    }
   ],
   "source": [
    "import os\n",
    "os.environ['GRAPHVIZ_DOT']='/opt/local/bin/dot'\n",
    "print os.environ['GRAPHVIZ_DOT']\n",
    "!java -jar plantuml.jar -testdot"
   ]
  },
  {
   "cell_type": "markdown",
   "metadata": {},
   "source": [
    "## 1.2 Hello Java\n",
    "\n",
    "### 1.2.1 Hello World\n",
    "\n",
    "* without package\n",
    "* 디렉토리 설정\n",
    "* with package\n"
   ]
  },
  {
   "cell_type": "code",
   "execution_count": 7,
   "metadata": {
    "collapsed": false,
    "slideshow": {
     "slide_type": "slide"
    }
   },
   "outputs": [
    {
     "name": "stdout",
     "output_type": "stream",
     "text": [
      "Overwriting HelloWorld.java\n"
     ]
    }
   ],
   "source": [
    "%%writefile HelloWorld.java\n",
    "public class HelloWorld {\n",
    "  public static void main(String[] args) {\n",
    "    System.out.println (\"Hello World\");\n",
    "  }\n",
    "}"
   ]
  },
  {
   "cell_type": "code",
   "execution_count": 8,
   "metadata": {
    "collapsed": false,
    "slideshow": {
     "slide_type": "slide"
    }
   },
   "outputs": [
    {
     "name": "stdout",
     "output_type": "stream",
     "text": [
      "Picked up JAVA_TOOL_OPTIONS: -javaagent:/usr/share/java/jayatanaag.jar \n",
      "Picked up JAVA_TOOL_OPTIONS: -javaagent:/usr/share/java/jayatanaag.jar \n",
      "Hello World\n"
     ]
    }
   ],
   "source": [
    "!javac HelloWorld.java\n",
    "!java -cp . HelloWorld"
   ]
  },
  {
   "cell_type": "markdown",
   "metadata": {},
   "source": [
    "\n",
    "-   디렉토리구조 생성\n",
    "    * j161 생성 (java 2016년 1분반)\n",
    "    * j161/src/\n",
    "    * j161/classes\n",
    "    ```\n",
    "    $ mkdir j161\n",
    "    $ cd j161\n",
    "    $ mkdir src\n",
    "    $ mkdir classes\n",
    "    $ mkdir -p src/com/sd/\n",
    "    ```"
   ]
  },
  {
   "cell_type": "code",
   "execution_count": 10,
   "metadata": {
    "collapsed": false
   },
   "outputs": [
    {
     "name": "stdout",
     "output_type": "stream",
     "text": [
      "drwxr-xr-x   4 media  staff     136  9 13  2014 classes/\r\n",
      "drwxr-xr-x  66 media  staff    2244  3  6 10:23 doc/\r\n",
      "drwxr-xr-x   4 media  staff     136  9 19  2013 jar/\r\n",
      "drwxr-xr-x   5 media  staff     170  3  5 08:39 lib/\r\n",
      "drwxr-xr-x   3 media  staff     102  3  5 05:43 model/\r\n",
      "drwxr-xr-x   7 media  staff     238  3  5 05:43 src/\r\n",
      "drwxr-xr-x   3 media  staff     102 11 30  2014 tmp/\r\n"
     ]
    }
   ],
   "source": [
    "%ls -l | grep ^d"
   ]
  },
  {
   "cell_type": "code",
   "execution_count": null,
   "metadata": {
    "collapsed": true
   },
   "outputs": [],
   "source": [
    "%%plantuml\n",
    "\n",
    "@startsalt\n",
    "{\n",
    "    {T\n",
    "        +j161(root)\n",
    "        ++doc\n",
    "        ++classes\n",
    "        +++com\n",
    "        ++++j2\n",
    "        +++++wk2\n",
    "        +++++...\n",
    "        ++src\n",
    "        +++com\n",
    "        ++++j2\n",
    "        +++++wk2\n",
    "        +++++...\n",
    "        ++lib\n",
    "        ++model\n",
    "    }\n",
    "}\n",
    "@endsalt"
   ]
  },
  {
   "cell_type": "code",
   "execution_count": null,
   "metadata": {
    "collapsed": false,
    "slideshow": {
     "slide_type": "slide"
    }
   },
   "outputs": [],
   "source": [
    "# %load src/com/sd/HelloWorld.java\n",
    "/*************************************************************************\n",
    " * @author jsl\n",
    " * @since 20160307\n",
    " * to show the use of package\n",
    " *\n",
    " * root\n",
    " *     /src\n",
    " *     /classes\n",
    " *  javac -d classes -sourcepath src src/com/sd/HelloWorld.java\n",
    " *  java -cp .:./classes com/sd/HelloWorld\n",
    " *\n",
    "*************************************************************************/\n",
    "\n",
    "package com.sd;\n",
    "public class HelloWorld {\n",
    "  public void hello() {\n",
    "    System.out.println(\"Hello World!\");\n",
    "  }\n",
    "  public void hello(String name) {\n",
    "    System.out.printf(\"Hello %s!\", name);\n",
    "  }\n",
    "  public static void main(String[] args) {\n",
    "    System.out.println(\"Hello, World--\");\n",
    "  }\n",
    "}\n"
   ]
  },
  {
   "cell_type": "code",
   "execution_count": 35,
   "metadata": {
    "collapsed": false
   },
   "outputs": [
    {
     "name": "stdout",
     "output_type": "stream",
     "text": [
      "Hello, World--\r\n"
     ]
    }
   ],
   "source": [
    "!javac -d classes -sourcepath src src/com/sd/HelloWorld.java\n",
    "!java -cp .:./classes com/sd/HelloWorld"
   ]
  },
  {
   "cell_type": "markdown",
   "metadata": {},
   "source": [
    "### 1.2.2 Hello Turtle\n"
   ]
  },
  {
   "cell_type": "markdown",
   "metadata": {},
   "source": [
    "### 1.2.3 명령창에서 컴파일 하기\n",
    "\n",
    "\n",
    "-  컴파일할 때, classpath 명시해주거나 환경변수설정하고 생략\n",
    "\n",
    "    ```\n",
    "    $ export CLASSPATH=$CLASSPATH:./classes/\n",
    "    $ printenv\n",
    "    $ java com.sd.HelloWorld\n",
    "    ```\n",
    "    \n",
    "-   모든 public class는 하나씩 .java파일에 저장한다. 클래스명과 파일명은\n",
    "    동일하게. 2개의 클래스를 한 파일에 넣을 경우, 파일명과 동일한\n",
    "    클래스만 public으로 정의함.\n",
    "\n",
    "-   javac: java source code (.java) > java byte code (.class)\n",
    "    $ javac -help\n",
    "    -verbose\\\n",
    "    -g\n",
    "    -classpath\n",
    "    -sourcepath\n",
    "    -d\n",
    "\n",
    "-   javac serach order for .class files\n",
    "\n",
    "    1.  \\$JAVA\\_HOME/lib\n",
    "\n",
    "    2.  \\$JAVA\\_HOME/jre/lib/ext\n",
    "\n",
    "    3.  \\$CLASSPATH\n",
    "\n",
    "    4.  -classpath\n",
    "\n",
    "    5.  current directory\n",
    "\n",
    "-   java debugger(using -g option)\n",
    "\n",
    "    ```\n",
    "        $ javac A.java -g\n",
    "        $ jdb A // stops before entering main()\n",
    "        > help\n",
    "        > stop in A.main(java.lang.String[])        //breakpoint\n",
    "        > run\n",
    "        > list        //5 lines before and after the current position\n",
    "        > next\n",
    "        > step up\n",
    "        > print obj\n",
    "        > dump obj\n",
    "        > watch A.x\n",
    "        > locals\n",
    "        > print args[0]\n",
    "        > stop at A:35\n",
    "        > cont\n",
    "    ```\n",
    "    \n",
    "-   java: JVM runs java byte code (.class)\n"
   ]
  }
 ],
 "metadata": {
  "celltoolbar": "Slideshow",
  "kernelspec": {
   "display_name": "Python 2",
   "language": "python",
   "name": "python2"
  },
  "language_info": {
   "codemirror_mode": {
    "name": "ipython",
    "version": 2
   },
   "file_extension": ".py",
   "mimetype": "text/x-python",
   "name": "python",
   "nbconvert_exporter": "python",
   "pygments_lexer": "ipython2",
   "version": "2.7.10"
  }
 },
 "nbformat": 4,
 "nbformat_minor": 0
}
