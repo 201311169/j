{
 "cells": [
  {
   "cell_type": "markdown",
   "metadata": {},
   "source": [
    "# 3. Package\n",
    "\n",
    "## 3.1 학습내용\n",
    "\n",
    "### 3.1.1 목표\n",
    "\n",
    "* 자바 패키지를 컴파일, 실행할 수 있다.\n",
    "* jar를 만들고 배포할 수 있다.\n",
    "* 자바 패키지 java.lang, java.util을 사용할 수 있다.\n",
    "* 자신이 만들거나, 다른 사람이 만든 패키지 사용할 수 있다 (turtle).\n",
    "* 자바를 실행할 수 있다 (main함수).\n",
    "\n",
    "### 1.1.2 문제\n",
    "\n",
    "* 문제 package-1: 'HelloWorld' class를 com.j1.hello package로 만들어 보기. \n",
    "* 문제 package-2: 'HelloWorld' class를 jar로 만들고, 실행하기.\n",
    "* 문제 package-3: 자바 라이브러리 Calendar를 사용해서 일자 출력하기.\n",
    "* 문제 package-4: turtle을 사용해서 4각형 이동하기.\n"
   ]
  },
  {
   "cell_type": "markdown",
   "metadata": {},
   "source": [
    "## 3.2 패키지란?\n",
    "\n",
    "* 패키지는 (1) 클래스를 구조화하고, (2) 이름 충돌을 막기 위해 사용한다.\n",
    "    * 도서관에서 보관하는 책이 늘어나면서 구역을 정해서 정리하듯이, 클래스가 많아지면 이를 구조화해서 정리하는 것이 필요하다.\n",
    "    * 클래스의 이름이 중복이 되면 사용할 수 없게 된다. namespace의 충돌을 막기위해 패키지 명을 사용한다. 도메인을 패키지명으로 사용하면 편리하다.\n",
    "* 패키지는 '꾸러미'로 생각한다. 그 안에 클래스를 가지고 있어서, '클래스 라이브러리'라고 한다.\n",
    "    * 패키지의 클래스는 불러와 (import), 사용할 수 있다.\n",
    "    * java.lang 패키지는 자바 언어에 필요한 클래스들 Object, Boolean, Byte, Class, Float, Math...를 가지고 있다.\n",
    "* 패키지는 배포의 단위이다.\n",
    "    * 배포는 프로그램에서 불러 사용할 수 있도록 classpath에 설치해야 한다.\n",
    "    * 컴파일 디렉토리와 패키지 디렉토리의 동기화\n",
    "        * 자바에서 패키지는 classpath에서 시작하고, 서로 같은 (컴파일, 패키지) 파일디렉토리를 가진다.\n",
    "    * 다른 언어에서 사용하는 모듈 또는 윈도우 dll과 유사하다.\n",
    "    * 묶어서 'jar'로 배포할 수 있다.\n",
    "    * 다른 패키지를 가져다 사용할 경우 import 한다.\n",
    "    * 자신의 패키지를 만들어서 배포할 수 있다."
   ]
  },
  {
   "cell_type": "markdown",
   "metadata": {
    "collapsed": true
   },
   "source": [
    "## 3.3 classpath\n",
    "\n",
    "* 패키지는 namespace를 사용한다. 그 namespace는 classpath에 포함되어야 한다.\n",
    "* classpath는 운영체제에서 사용하는 환경변수의 하나이다.\n",
    "* 프로그램이 실행되면, 가져다 사용한 클래스가 필요한다 (예: import java.util.ArrayList). 없으면 물론 실행이 되지 않게 된다.\n",
    "* Java API에서 사용하는 java.lang의 클래스들도 classpath에 잡혀져 있기 때문에 사용할 수 있게 된다.\n",
    "    * '상명대학교', '우리 집'이라고 주소를 적어 놓으면, 목적지로 물건을 배달할 수 없다.\n",
    "    * '서울특별시'부터 '구', '동', '번지'를 시작부터 적어주듯이, 패키지 이름을 차례로 명시해야 클래스를 사용할 수 있다.\n",
    "\n",
    "* 컴파일할 때, classpath 명시해주거나 환경변수설정하고 생략\n",
    "    * 리눅스 classpath 설정\n",
    "        ```\n",
    "        $ export CLASSPATH=$CLASSPATH:./classes/\n",
    "        $ echo $CLASSPATH 또는 $ printenv\n",
    "        ```\n",
    "    \n",
    "    * 윈도우 classpath 설정\n",
    "        ```\n",
    "        set classpath=%classpath%;.\\classes;.\n",
    "        echo %classpath%\n",
    "        ```\n",
    "\n",
    "* .class 파일을 찾는 경로 (우선 순위)\n",
    "    1.  \\$JAVA\\_HOME/lib\n",
    "    2.  \\$JAVA\\_HOME/jre/lib/ext\n",
    "    3.  \\$CLASSPATH\n",
    "    4.  -classpath\n",
    "    5.  현재 작업하고 있는 directory"
   ]
  },
  {
   "cell_type": "markdown",
   "metadata": {},
   "source": [
    "## 3.4 명령창 사용하기\n",
    "\n",
    "### 3.4.1 java파일 만들기\n",
    "\n",
    "* 모든 public class는 하나씩 .java파일로 이름을 지어서 저장한다.\n",
    "* 클래스명과 파일명은 동일하게 한다.\n",
    "* 2개의 클래스를 한 파일에 넣을 경우, 파일명과 동일한 클래스만 public으로 정의한다.\n",
    "\n",
    "### 3.4.2 컴파일하기\n",
    "\n",
    "* javac: java source code (.java) > java byte code (.class)\n",
    "    ```\n",
    "    $ javac\n",
    "    ```\n",
    "    \n",
    "* javac -help로 도움말을 볼 수 있다.\n",
    "    ```\n",
    "    $ javac -help\n",
    "    -verbose\n",
    "    -g\n",
    "    -classpath\n",
    "    -sourcepath\n",
    "    -d\n",
    "    ```\n",
    "\n",
    "### 3.4.3 실행하기\n",
    "\n",
    "* java: JVM runs java byte code (.class)\n",
    "    ```\n",
    "    $ java\n",
    "    ```\n",
    "\n",
    "### 3.4.4 디버깅하기\n",
    "\n",
    "* 컴파일, 패키지 디렉토리가 동일해야 이 기능을 사용할 수 있다.\n",
    "* java debugger(using -g option)\n",
    "    ```\n",
    "    $ javac A.java -g\n",
    "    $ jdb A // stops before entering main()\n",
    "    > help\n",
    "    > stop in A.main(java.lang.String[])        //breakpoint\n",
    "    > run\n",
    "    > list        //5 lines before and after the current position\n",
    "    > next\n",
    "    > step up\n",
    "    > print obj\n",
    "    > dump obj\n",
    "    > watch A.x\n",
    "    > locals\n",
    "    > print args[0]\n",
    "    > stop at A:35\n",
    "    > cont\n",
    "    ```\n",
    "\n",
    "\n",
    "### 3.4.5 jar 파일의 생성\n",
    "\n",
    "* jar파일은 archive파일이다. 여러 class 파일을 묶어 jar로 만들 수 있다.\n",
    "* 생성\n",
    " jar --create --file foo.jar --main-class com.foo.Main --module-version 1.0\n",
    "     -C foo/ module-info.class\n",
    "* 어떤 파일이 있는지 보기\n",
    "* 업데이트\n",
    "* 실행"
   ]
  },
  {
   "cell_type": "markdown",
   "metadata": {},
   "source": [
    "## 3.5 자신의 패키지 만들기\n",
    "\n",
    "* 자신이 구현한 클래스들을 패키지로 만들어 배포할 수 있다.\n",
    "* 패키지명은 자신이 사용하는 url은 이름충돌이 없으므로, 이를 사용한다."
   ]
  },
  {
   "cell_type": "markdown",
   "metadata": {},
   "source": [
    "## 문제 package-1: 'HelloWorld' class를 com.j1.hello package로 만들어 보기. \n",
    "\n",
    "* without package\n",
    "* with package\n",
    "    1. 패키지 명을 정한다.\n",
    "    2. 디렉토리를 만들어 준다.\n",
    "    3. 그 디렉토리에서 프로그래밍을 한다.\n",
    "    4. 패키지 명을 소스에 넣는다.\n",
    "    ```\n",
    "    package com.j1.hello;\n",
    "    ```\n"
   ]
  },
  {
   "cell_type": "markdown",
   "metadata": {
    "collapsed": true
   },
   "source": [
    "* 디렉토리구조 생성\n",
    "    * 프로젝트 디렉토리는 학번 2016xxxxx, java의 약자로 구성)\n",
    "        ```\n",
    "        2016xxxxx/\n",
    "            j/\n",
    "                src/\n",
    "                classes/   \n",
    "        ```\n",
    "    * 생성하는 명령창 명령어\n",
    "        * 윈도우는 내문서/ 밑에 만든다.\n",
    "        * 소스코드를 구분하기 위해 Code/로 구분한다.\n",
    "        ```\n",
    "        $ cd Documents\n",
    "        $ mkdir -p Code/2016xxxxx/j\n",
    "        $ mkdir -p Code/2016xxxxx/j/src\n",
    "        $ mkdir -p Code/2016xxxxx/j/classes\n",
    "        ```"
   ]
  },
  {
   "cell_type": "markdown",
   "metadata": {
    "collapsed": true
   },
   "source": [
    "* 소스코드와 클래스 파일을 분리하기\n",
    "    * -d\n",
    "    * -sourcepath\n",
    "    * -classpath"
   ]
  },
  {
   "cell_type": "code",
   "execution_count": 3,
   "metadata": {
    "collapsed": false,
    "scrolled": true
   },
   "outputs": [
    {
     "name": "stdout",
     "output_type": "stream",
     "text": [
      "Writing HelloWorld.java\n"
     ]
    }
   ],
   "source": [
    "%%writefile HelloWorld.java\n",
    "public class HelloWorld {\n",
    "  public static void main(String[] args) {\n",
    "    System.out.println (\"Hello World\");\n",
    "  }\n",
    "}"
   ]
  },
  {
   "cell_type": "code",
   "execution_count": 4,
   "metadata": {
    "collapsed": false
   },
   "outputs": [
    {
     "name": "stdout",
     "output_type": "stream",
     "text": [
      "Hello World\r\n"
     ]
    }
   ],
   "source": [
    "!javac HelloWorld.java\n",
    "!java -cp . HelloWorld"
   ]
  },
  {
   "cell_type": "code",
   "execution_count": null,
   "metadata": {
    "collapsed": true
   },
   "outputs": [],
   "source": [
    "# %load src/com/sd/hello/HelloWorld.java\n",
    "/*************************************************************************\n",
    " * @author jsl\n",
    " * @since 20160307\n",
    " * to show how to compile with a package\n",
    " *\n",
    " * root\n",
    " *     /src\n",
    " *     /classes\n",
    " *  javac -d classes -sourcepath src src/com/sd/hello/HelloWorld.java\n",
    " *  java -cp .:./classes com/sd/hello/HelloWorld\n",
    " *\n",
    "*************************************************************************/\n",
    "\n",
    "package com.sd.hello;\n",
    "public class HelloWorld {\n",
    "  public void hello() {\n",
    "    System.out.println(\"Hello World!\");\n",
    "  }\n",
    "  public void hello(String name) {\n",
    "    System.out.printf(\"Hello %s!\", name);\n",
    "  }\n",
    "  public static void main(String[] args) {\n",
    "    System.out.println(\"Hello, World--\");\n",
    "  }\n",
    "}\n"
   ]
  },
  {
   "cell_type": "code",
   "execution_count": 6,
   "metadata": {
    "collapsed": false
   },
   "outputs": [
    {
     "name": "stdout",
     "output_type": "stream",
     "text": [
      "Hello, World--\r\n"
     ]
    }
   ],
   "source": [
    "!javac -d classes -sourcepath src src/com/sd/hello/HelloWorld.java\n",
    "!java -cp .:./classes com/sd/hello/HelloWorld"
   ]
  },
  {
   "cell_type": "markdown",
   "metadata": {
    "collapsed": true
   },
   "source": [
    "## 문제 package-2: 'HelloWorld' class를 jar로 만들고, 실행하기\n",
    "\n",
    "* Java ARchive\n",
    "    * 자바 클래스 파일을 묶은 패키지 파일 형식.\n",
    "    * 파일 확장자는 '.jar'이다. zip파일과 유사한 기능을 한다.\n",
    "    * 하나의 파일이 되므로, 배포하기 편리하다.\n",
    "    * 관련 형식\n",
    "        * WAR (Web application archive) 웹프로그램을 만들 때 사용. JSP, XML, 자바 클래스 파일 등을 묶는다.\n",
    "        * EAR (enterprise archive) J2EE에서 사용한다.\n",
    "        * APK (Android Application Package) 안드로이드 프로그램을 만들 때 사용한다."
   ]
  },
  {
   "cell_type": "markdown",
   "metadata": {},
   "source": [
    "* manifest.txt\n",
    "    * META-INF/MANIFEST.MF\n",
    "    * main함수가 있는 클래스 파일을 키:값으로 적어준다.\n",
    "    * 패키지명까지 모두 적어준다. fully qualified\n",
    "    * class확장자는 적지 않는다.\n",
    "    * 마지막 줄은 'ENTER' 를 해서 반드시 한 줄을 넣어준다.\n",
    "    ```\n",
    "    Main-Class: com.sd.hello.HelloWorld\n",
    "\n",
    "    ```"
   ]
  },
  {
   "cell_type": "code",
   "execution_count": 1,
   "metadata": {
    "collapsed": false
   },
   "outputs": [
    {
     "name": "stdout",
     "output_type": "stream",
     "text": [
      "Writing MainfestHello.txt\n"
     ]
    }
   ],
   "source": [
    "%%writefile MainfestHello.txt\n",
    "Main-Class: com.sd.hello.HelloWorld\n",
    "\n",
    "\n"
   ]
  },
  {
   "cell_type": "markdown",
   "metadata": {},
   "source": [
    "* jar 생성 및 실행\n",
    "    * jar 생성하려면, c(reate), v(erbose), f(ile name of jar), m(anifest), -C(change dir)\n",
    "        ```\n",
    "        jar -cfm jarfile-name manifest-filename Class-filename\n",
    "        ```\n",
    "    * 실행하려면 java -jar"
   ]
  },
  {
   "cell_type": "code",
   "execution_count": 2,
   "metadata": {
    "collapsed": false,
    "scrolled": true
   },
   "outputs": [
    {
     "name": "stdout",
     "output_type": "stream",
     "text": [
      "added manifest\n",
      "adding: com/sd/hello/(in = 0) (out= 0)(stored 0%)\n",
      "adding: com/sd/hello/HelloWorld.class(in = 675) (out= 384)(deflated 43%)\n"
     ]
    }
   ],
   "source": [
    "!jar -cvfm hello.jar MainfestHello.txt -C classes com/sd/hello/"
   ]
  },
  {
   "cell_type": "markdown",
   "metadata": {},
   "source": [
    "* jar파일에 무엇이 있는지 확인\n",
    "    * t (list table of contents), f(file name of jar)"
   ]
  },
  {
   "cell_type": "code",
   "execution_count": 3,
   "metadata": {
    "collapsed": false,
    "scrolled": true
   },
   "outputs": [
    {
     "name": "stdout",
     "output_type": "stream",
     "text": [
      "META-INF/\r\n",
      "META-INF/MANIFEST.MF\r\n",
      "com/sd/hello/\r\n",
      "com/sd/hello/HelloWorld.class\r\n"
     ]
    }
   ],
   "source": [
    "!jar tf hello.jar"
   ]
  },
  {
   "cell_type": "code",
   "execution_count": 4,
   "metadata": {
    "collapsed": false
   },
   "outputs": [
    {
     "name": "stdout",
     "output_type": "stream",
     "text": [
      "Hello, World--\r\n"
     ]
    }
   ],
   "source": [
    "!java -jar hello.jar"
   ]
  },
  {
   "cell_type": "markdown",
   "metadata": {},
   "source": [
    "## 3.6 자바에서 제공하는 패키지 사용하기\n",
    "\n",
    "### Date and SimpleDateFormat\n",
    "\n",
    "표현문자 | 의미 | 예제\n",
    "-----|-----|-----\n",
    "y | 년도 | 1996; 96\n",
    "M | 월| July; Jul; 07\n",
    "d | 일 | 10\n",
    "E | 요일 | Tuesday; Tue\n",
    "a | 오전/오후 | PM\n",
    "H | 시 (0-23) | 0\n",
    "k | 시 (1-24) | 24\n",
    "K | 시 am/pm (0-11) | 0\n",
    "h | 시 am/pm (1-12) | 12\n",
    "m | 분 | 30\n",
    "s | 초 | 55\n",
    "S | 밀리초 | 978\n",
    "z | 시간 지역 | Pacific Standard Time; PST; GMT-08:00\n",
    "\n",
    "Date and Time Pattern | Result\n",
    "---------------|------------\n",
    "\"yyyy.MM.dd G 'at' HH:mm:ss z\" | 2001.07.04 AD at 12:08:56 PDT\n",
    "\"EEE, MMM d, ''yy\" | Wed, Jul 4, '01\n",
    "\"h:mm a\" | 12:08 PM\n",
    "\"hh 'o''clock' a, zzzz\" | 12 o'clock PM, Pacific Daylight Time\n",
    "\"K:mm a, z\" | 0:08 PM, PDT\n",
    "\n"
   ]
  },
  {
   "cell_type": "code",
   "execution_count": 1,
   "metadata": {
    "collapsed": false,
    "scrolled": true
   },
   "outputs": [
    {
     "name": "stdout",
     "output_type": "stream",
     "text": [
      " import java.util.Date\r\n",
      "\r\n"
     ]
    }
   ],
   "source": [
    "import java.util.Date"
   ]
  },
  {
   "cell_type": "code",
   "execution_count": 6,
   "metadata": {
    "collapsed": false
   },
   "outputs": [
    {
     "name": "stdout",
     "output_type": "stream",
     "text": [
      " Date now=new Date();\r\n",
      "|  Added variable now of type Date with initial value Thu Sep 22 23:20:12 KST 2016\r\n",
      "\r\n"
     ]
    }
   ],
   "source": [
    "Date now=new Date();"
   ]
  },
  {
   "cell_type": "code",
   "execution_count": 7,
   "metadata": {
    "collapsed": false
   },
   "outputs": [
    {
     "name": "stdout",
     "output_type": "stream",
     "text": [
      " import java.text.SimpleDateFormat;\r\n",
      "\r\n",
      " SimpleDateFormat myDateFormatter = new SimpleDateFormat(\"E, y-M-d 'at' h:m:s  \r",
      "a z\");\r\n",
      "|  Modified variable myDateFormatter of type SimpleDateFormat with initial value java.text.SimpleDateFormat@2b3929e5\r\n",
      "|    Update overwrote variable myDateFormatter\r\n",
      "\r\n",
      " System.out.println(myDateFormatter.format(now));\r\n",
      "Thu, 2016-9-22 at 11:20:12 PM KST\r\n",
      "\r\n"
     ]
    }
   ],
   "source": [
    "import java.text.SimpleDateFormat;\n",
    "SimpleDateFormat myDateFormatter = new SimpleDateFormat(\"E, y-M-d 'at' h:m:s a z\");\n",
    "System.out.println(myDateFormatter.format(now));"
   ]
  },
  {
   "cell_type": "code",
   "execution_count": 8,
   "metadata": {
    "collapsed": false
   },
   "outputs": [
    {
     "name": "stdout",
     "output_type": "stream",
     "text": [
      " myDateFormatter = new SimpleDateFormat(\"E yyyy.MM.dd 'at' hh:mm:ss a zzz\");\r\n",
      "|  Variable myDateFormatter has been assigned the value java.text.SimpleDateFormat@beefd189\r\n",
      "\r\n",
      " System.out.println(myDateFormatter.format(now));\r\n",
      "Thu 2016.09.22 at 11:20:12 PM KST\r\n",
      "\r\n"
     ]
    }
   ],
   "source": [
    "myDateFormatter = new SimpleDateFormat(\"E yyyy.MM.dd 'at' hh:mm:ss a zzz\");\n",
    "System.out.println(myDateFormatter.format(now));"
   ]
  },
  {
   "cell_type": "markdown",
   "metadata": {
    "collapsed": true
   },
   "source": [
    "### time\n",
    "\n",
    "* 현재 시간을 milliseconds로 계산한다.\n",
    "* timestamp를 측정하고, 시간이 얼마나 지나갔는지 계산해 본다.\n",
    "\n",
    "```\n",
    "public static long currentTimeMillis()\n",
    "```"
   ]
  },
  {
   "cell_type": "code",
   "execution_count": 10,
   "metadata": {
    "collapsed": false
   },
   "outputs": [
    {
     "name": "stdout",
     "output_type": "stream",
     "text": [
      " long startTime = System.currentTimeMillis();\r\n",
      "|  Added variable startTime of type long with initial value 1474554285823\r\n",
      "\r\n"
     ]
    }
   ],
   "source": [
    "long startTime = System.currentTimeMillis();"
   ]
  },
  {
   "cell_type": "code",
   "execution_count": 11,
   "metadata": {
    "collapsed": false
   },
   "outputs": [
    {
     "name": "stdout",
     "output_type": "stream",
     "text": [
      " long estimatedTime = System.currentTimeMillis() - startTime;\r\n",
      "|  Added variable estimatedTime of type long with initial value 6244\r\n",
      "\r\n"
     ]
    }
   ],
   "source": [
    "long estimatedTime = System.currentTimeMillis() - startTime;"
   ]
  },
  {
   "cell_type": "markdown",
   "metadata": {
    "collapsed": true
   },
   "source": [
    "### math\n",
    "\n",
    "* 원의 면적 계산하기\n"
   ]
  },
  {
   "cell_type": "code",
   "execution_count": 1,
   "metadata": {
    "collapsed": true
   },
   "outputs": [],
   "source": [
    "import iplantuml"
   ]
  },
  {
   "cell_type": "code",
   "execution_count": 6,
   "metadata": {
    "collapsed": false
   },
   "outputs": [
    {
     "data": {
      "image/svg+xml": [
       "<svg height=\"156px\" style=\"width:203px;height:156px;\" version=\"1.1\" viewBox=\"0 0 203 156\" width=\"203px\" xmlns=\"http://www.w3.org/2000/svg\" xmlns:xlink=\"http://www.w3.org/1999/xlink\"><defs><filter height=\"300%\" id=\"f1\" width=\"300%\" x=\"-1\" y=\"-1\"><feGaussianBlur result=\"blurOut\" stdDeviation=\"2.0\"/><feColorMatrix in=\"blurOut\" result=\"blurOut2\" type=\"matrix\" values=\"0 0 0 0 0 0 0 0 0 0 0 0 0 0 0 0 0 0 .4 0\"/><feOffset dx=\"4.0\" dy=\"4.0\" in=\"blurOut2\" result=\"blurOut3\"/><feBlend in=\"SourceGraphic\" in2=\"blurOut3\" mode=\"normal\"/></filter></defs><g><polygon fill=\"#FFFFFF\" filter=\"url(#f1)\" points=\"22,24,97,24,104,46.2969,196,46.2969,196,149,22,149,22,24\" style=\"stroke: #000000; stroke-width: 2.0;\"/><line style=\"stroke: #000000; stroke-width: 2.0;\" x1=\"22\" x2=\"104\" y1=\"46.2969\" y2=\"46.2969\"/><text fill=\"#000000\" font-family=\"sans-serif\" font-size=\"14\" font-weight=\"bold\" lengthAdjust=\"spacingAndGlyphs\" textLength=\"69\" x=\"26\" y=\"38.9951\">java.lang</text><rect fill=\"#FEFECE\" filter=\"url(#f1)\" height=\"73.6094\" style=\"stroke: #A80036; stroke-width: 1.5;\" width=\"141\" x=\"38.5\" y=\"59\"/><ellipse cx=\"89.25\" cy=\"75\" fill=\"#ADD1B2\" rx=\"11\" ry=\"11\" style=\"stroke: #A80036; stroke-width: 1.0;\"/><path d=\"M92.2188,80.6406 Q91.6406,80.9375 91,81.0859 Q90.3594,81.2344 89.6563,81.2344 Q87.1563,81.2344 85.8359,79.5859 Q84.5156,77.9375 84.5156,74.8125 Q84.5156,71.6875 85.8359,70.0313 Q87.1563,68.375 89.6563,68.375 Q90.3594,68.375 91.0078,68.5313 Q91.6563,68.6875 92.2188,68.9844 L92.2188,71.7031 Q91.5938,71.125 91,70.8516 Q90.4063,70.5781 89.7813,70.5781 Q88.4375,70.5781 87.75,71.6484 Q87.0625,72.7188 87.0625,74.8125 Q87.0625,76.9063 87.75,77.9766 Q88.4375,79.0469 89.7813,79.0469 Q90.4063,79.0469 91,78.7734 Q91.5938,78.5 92.2188,77.9219 L92.2188,80.6406 Z \"/><text fill=\"#000000\" font-family=\"sans-serif\" font-size=\"12\" lengthAdjust=\"spacingAndGlyphs\" textLength=\"31\" x=\"109.75\" y=\"79.1543\">Math</text><line style=\"stroke: #A80036; stroke-width: 1.5;\" x1=\"39.5\" x2=\"178.5\" y1=\"91\" y2=\"91\"/><text fill=\"#000000\" font-family=\"sans-serif\" font-size=\"11\" lengthAdjust=\"spacingAndGlyphs\" textLength=\"87\" x=\"44.5\" y=\"105.2104\">static double PI</text><line style=\"stroke: #A80036; stroke-width: 1.5;\" x1=\"39.5\" x2=\"178.5\" y1=\"111.8047\" y2=\"111.8047\"/><text fill=\"#000000\" font-family=\"sans-serif\" font-size=\"11\" lengthAdjust=\"spacingAndGlyphs\" textLength=\"129\" x=\"44.5\" y=\"126.0151\">static double random()</text></g></svg>"
      ],
      "text/plain": [
       "<IPython.core.display.SVG object>"
      ]
     },
     "execution_count": 6,
     "metadata": {},
     "output_type": "execute_result"
    }
   ],
   "source": [
    "%%plantuml\n",
    "@startuml\n",
    "class java.lang.Math {\n",
    "    static PI:double\n",
    "    static random():double\n",
    "}\n",
    "@enduml"
   ]
  },
  {
   "cell_type": "code",
   "execution_count": 15,
   "metadata": {
    "collapsed": false
   },
   "outputs": [
    {
     "name": "stdout",
     "output_type": "stream",
     "text": [
      " Math.PI\r\n",
      "|  Expression value is: 3.141592653589793\r\n",
      "|    assigned to temporary variable $24 of type double\r\n",
      "\r\n"
     ]
    }
   ],
   "source": [
    "Math.PI"
   ]
  },
  {
   "cell_type": "code",
   "execution_count": 21,
   "metadata": {
    "collapsed": false
   },
   "outputs": [
    {
     "name": "stdout",
     "output_type": "stream",
     "text": [
      " float radius=2;\r\n",
      "|  Modified variable radius of type float with initial value 2.0\r\n",
      "|    Update overwrote variable radius\r\n",
      "\r\n",
      " double area=Math.PI*Math.pow(radius,2)\r\n",
      "|  Added variable area of type double with initial value 12.566370614359172\r\n",
      "\r\n",
      " System.out.println(area);\r\n",
      "12.566370614359172\r\n",
      "\r\n"
     ]
    }
   ],
   "source": [
    "float radius=2;\n",
    "double area=Math.PI*Math.pow(radius,2)\n",
    "System.out.println(area);"
   ]
  },
  {
   "cell_type": "markdown",
   "metadata": {},
   "source": [
    "### random\n",
    "\n",
    "* Math.random()을 사용\n",
    "    * 0.0 and 0.999사이의 수를 '무작위'로 생성한다."
   ]
  },
  {
   "cell_type": "code",
   "execution_count": 1,
   "metadata": {
    "collapsed": false
   },
   "outputs": [
    {
     "name": "stdout",
     "output_type": "stream",
     "text": [
      " double random = Math.random();\r\n",
      "|  Added variable random of type double with initial value 0.37254816627076437\r\n",
      "\r\n",
      " System.out.print(random);\r\n",
      "0.37254816627076437\r\n"
     ]
    }
   ],
   "source": [
    "double random = Math.random();\n",
    "System.out.print(random);"
   ]
  },
  {
   "cell_type": "code",
   "execution_count": 3,
   "metadata": {
    "collapsed": false
   },
   "outputs": [
    {
     "name": "stdout",
     "output_type": "stream",
     "text": [
      " for(int i=0;i<10;i++) {\r\n",
      "     double random = Math.random();\r\n",
      "     System.out.println(random);\r\n",
      " }\r\n",
      "0.2319459570790573\r\n",
      "0.4323164390197678\r\n",
      "0.5982451105505251\r\n",
      "0.7967817064953857\r\n",
      "0.6921376008254022\r\n",
      "0.9847548164009787\r\n",
      "0.5523769454119929\r\n",
      "0.7983093608604523\r\n",
      "0.028261621818481686\r\n",
      "0.9567094531592187\r\n",
      "\r\n"
     ]
    }
   ],
   "source": [
    "for(int i=0;i<10;i++) {\n",
    "    double random = Math.random();\n",
    "    System.out.println(random);\n",
    "}"
   ]
  },
  {
   "cell_type": "markdown",
   "metadata": {
    "collapsed": true
   },
   "source": [
    "* 1 ~ 10사이의 수를 '무작위'로 생성하려면 10을 곱해준다.\n",
    "    * 0.0~0.999에 10을 곱하면 0.0 ~ 9.99 사이의 수를 생성한다.\n",
    "    * 10을 포함하려면 1을 더해준다."
   ]
  },
  {
   "cell_type": "code",
   "execution_count": 5,
   "metadata": {
    "collapsed": false
   },
   "outputs": [
    {
     "name": "stdout",
     "output_type": "stream",
     "text": [
      " for(int i=0;i<10;i++) {\r\n",
      "     int random = (int )(Math.random() * 10 + 1);\r\n",
      "     System.out.println(random);\r\n",
      " }\r\n",
      "4\r\n",
      "5\r\n",
      "4\r\n",
      "10\r\n",
      "1\r\n",
      "3\r\n",
      "6\r\n",
      "7\r\n",
      "1\r\n",
      "5\r\n",
      "\r\n"
     ]
    }
   ],
   "source": [
    "for(int i=0;i<10;i++) {\n",
    "    int random = (int )(Math.random() * 10 + 1);\n",
    "    System.out.println(random);\n",
    "}"
   ]
  },
  {
   "cell_type": "markdown",
   "metadata": {},
   "source": [
    "* java.util.Random 패키지의 nextInt()\n",
    "    ```\n",
    "    public int nextInt(int n)\n",
    "    ```\n",
    "    * uniform 분포를 사용하여, 0 (inclusive) ~ n (exclusive)의 값. 1을 더해준다.\n",
    "    * int를 반환하므로, 형변환을 하지 않는다."
   ]
  },
  {
   "cell_type": "code",
   "execution_count": 7,
   "metadata": {
    "collapsed": false
   },
   "outputs": [
    {
     "name": "stdout",
     "output_type": "stream",
     "text": [
      " import java.util.Random;\r\n",
      "\r\n",
      " Random r = new Random();\r\n",
      "|  Modified variable r of type Random with initial value java.util.Random@73ad2d6\r\n",
      "|    Update overwrote variable r\r\n",
      "\r\n",
      " for(int i=0;i<10;i++) {\r\n",
      "     int random = r.nextInt(10+1);\r\n",
      "     System.out.println(random);\r\n",
      " }\r\n",
      "5\r\n",
      "7\r\n",
      "8\r\n",
      "6\r\n",
      "1\r\n",
      "0\r\n",
      "8\r\n",
      "10\r\n",
      "5\r\n",
      "1\r\n",
      "\r\n"
     ]
    }
   ],
   "source": [
    "import java.util.Random;\n",
    "Random r = new Random();\n",
    "for(int i=0;i<10;i++) {\n",
    "    int random = r.nextInt(10+1);\n",
    "    System.out.println(random);\n",
    "}"
   ]
  },
  {
   "cell_type": "markdown",
   "metadata": {},
   "source": [
    "## 문제 package-3: 자바 라이브러리 Calendar를 사용해서 일자 출력하기\n",
    "\n"
   ]
  },
  {
   "cell_type": "code",
   "execution_count": null,
   "metadata": {
    "collapsed": true
   },
   "outputs": [],
   "source": [
    "import iplantuml"
   ]
  },
  {
   "cell_type": "code",
   "execution_count": 7,
   "metadata": {
    "collapsed": false
   },
   "outputs": [
    {
     "data": {
      "image/svg+xml": [
       "<svg height=\"168px\" style=\"width:501px;height:168px;\" version=\"1.1\" viewBox=\"0 0 501 168\" width=\"501px\" xmlns=\"http://www.w3.org/2000/svg\" xmlns:xlink=\"http://www.w3.org/1999/xlink\"><defs><filter height=\"300%\" id=\"f1\" width=\"300%\" x=\"-1\" y=\"-1\"><feGaussianBlur result=\"blurOut\" stdDeviation=\"2.0\"/><feColorMatrix in=\"blurOut\" result=\"blurOut2\" type=\"matrix\" values=\"0 0 0 0 0 0 0 0 0 0 0 0 0 0 0 0 0 0 .4 0\"/><feOffset dx=\"4.0\" dy=\"4.0\" in=\"blurOut2\" result=\"blurOut3\"/><feBlend in=\"SourceGraphic\" in2=\"blurOut3\" mode=\"normal\"/></filter></defs><g><polygon fill=\"#FFFFFF\" filter=\"url(#f1)\" points=\"22,24,88,24,95,46.2969,494,46.2969,494,161,22,161,22,24\" style=\"stroke: #000000; stroke-width: 2.0;\"/><line style=\"stroke: #000000; stroke-width: 2.0;\" x1=\"22\" x2=\"95\" y1=\"46.2969\" y2=\"46.2969\"/><text fill=\"#000000\" font-family=\"sans-serif\" font-size=\"14\" font-weight=\"bold\" lengthAdjust=\"spacingAndGlyphs\" textLength=\"60\" x=\"26\" y=\"38.9951\">java.util</text><rect fill=\"#FEFECE\" filter=\"url(#f1)\" height=\"86.4141\" style=\"stroke: #A80036; stroke-width: 1.5;\" width=\"439\" x=\"38.5\" y=\"59\"/><ellipse cx=\"225.75\" cy=\"75\" fill=\"#ADD1B2\" rx=\"11\" ry=\"11\" style=\"stroke: #A80036; stroke-width: 1.0;\"/><path d=\"M228.7188,80.6406 Q228.1406,80.9375 227.5,81.0859 Q226.8594,81.2344 226.1563,81.2344 Q223.6563,81.2344 222.3359,79.5859 Q221.0156,77.9375 221.0156,74.8125 Q221.0156,71.6875 222.3359,70.0313 Q223.6563,68.375 226.1563,68.375 Q226.8594,68.375 227.5078,68.5313 Q228.1563,68.6875 228.7188,68.9844 L228.7188,71.7031 Q228.0938,71.125 227.5,70.8516 Q226.9063,70.5781 226.2813,70.5781 Q224.9375,70.5781 224.25,71.6484 Q223.5625,72.7188 223.5625,74.8125 Q223.5625,76.9063 224.25,77.9766 Q224.9375,79.0469 226.2813,79.0469 Q226.9063,79.0469 227.5,78.7734 Q228.0938,78.5 228.7188,77.9219 L228.7188,80.6406 Z \"/><text fill=\"#000000\" font-family=\"sans-serif\" font-size=\"12\" lengthAdjust=\"spacingAndGlyphs\" textLength=\"56\" x=\"246.25\" y=\"79.1543\">Calendar</text><line style=\"stroke: #A80036; stroke-width: 1.5;\" x1=\"39.5\" x2=\"476.5\" y1=\"91\" y2=\"91\"/><line style=\"stroke: #A80036; stroke-width: 1.5;\" x1=\"39.5\" x2=\"476.5\" y1=\"99\" y2=\"99\"/><text fill=\"#000000\" font-family=\"sans-serif\" font-size=\"11\" lengthAdjust=\"spacingAndGlyphs\" textLength=\"168\" x=\"44.5\" y=\"113.2104\">static getInstance(): Calendar</text><text fill=\"#000000\" font-family=\"sans-serif\" font-size=\"11\" lengthAdjust=\"spacingAndGlyphs\" textLength=\"86\" x=\"44.5\" y=\"126.0151\">get(int field):int</text><text fill=\"#000000\" font-family=\"sans-serif\" font-size=\"11\" lengthAdjust=\"spacingAndGlyphs\" textLength=\"427\" x=\"44.5\" y=\"138.8198\">set(int year, int month, int date, int hourOfDay, int minute, int second):void</text></g></svg>"
      ],
      "text/plain": [
       "<IPython.core.display.SVG object>"
      ]
     },
     "execution_count": 7,
     "metadata": {},
     "output_type": "execute_result"
    }
   ],
   "source": [
    "%%plantuml\n",
    "@startuml\n",
    "class java.util.Calendar {\n",
    "    static getInstance(): Calendar\n",
    "    get(int field):int\n",
    "    set(int year, int month, int date, int hourOfDay, int minute, int second):void\n",
    "}\n",
    "@enduml"
   ]
  },
  {
   "cell_type": "code",
   "execution_count": 2,
   "metadata": {
    "collapsed": false,
    "scrolled": false
   },
   "outputs": [
    {
     "name": "stdout",
     "output_type": "stream",
     "text": [
      " Calendar myCal=Calendar.getInstance();\r\n",
      "|  Modified variable myCal of type Calendar with initial value java.util.GregorianCalendar[time=1473337555068,areFieldsSet=true,areAllFieldsSet=true,lenient=true,zone=sun.util.calendar.ZoneInfo[id=\"Asia/Seoul\",offset=32400000,dstSavings=0,useDaylight=false,transitions=22,lastRule=null],firstDayOfWeek=1,minimalDaysInFirstWeek=1,ERA=1,YEAR=2016,MONTH=8,WEEK_OF_YEAR=37,WEEK_OF_MONTH=2,DAY_OF_MONTH=8,DAY_OF_YEAR=252,DAY_OF_WEEK=5,DAY_OF_WEEK_IN_MONTH=2,AM_PM=1,HOUR=9,HOUR_OF_DAY=21,MINUTE=25,SECOND=55,MILLISECOND=68,ZONE_OFFSET=32400000,DST_OFFSET=0]\r\n",
      "|    Update overwrote variable myCal\r\n",
      "\r\n",
      " myCal.set(2016,0,9,1,10);\r\n",
      "\r\n"
     ]
    }
   ],
   "source": [
    "Calendar myCal=Calendar.getInstance();\n",
    "myCal.set(2016,0,9,1,10);"
   ]
  },
  {
   "cell_type": "code",
   "execution_count": 9,
   "metadata": {
    "collapsed": false,
    "scrolled": true
   },
   "outputs": [
    {
     "name": "stdout",
     "output_type": "stream",
     "text": [
      " import java.util.Calendar;\r\n",
      "\r\n",
      " \r\n",
      "\r\n",
      " Calendar cal = Calendar.getInstance();\r\n",
      "|  Added variable cal of type Calendar with initial value java.util.GregorianCalendar[time=1474554186151,areFieldsSet=true,areAllFieldsSet=true,lenient=true,zone=sun.util.calendar.ZoneInfo[id=\"Asia/Seoul\",offset=32400000,dstSavings=0,useDaylight=false,transitions=22,lastRule=null],firstDayOfWeek=1,minimalDaysInFirstWeek=1,ERA=1,YEAR=2016,MONTH=8,WEEK_OF_YEAR=39,WEEK_OF_MONTH=4,DAY_OF_MONTH=22,DAY_OF_YEAR=266,DAY_OF_WEEK=5,DAY_OF_WEEK_IN_MONTH=4,AM_PM=1,HOUR=11,HOUR_OF_DAY=23,MINUTE=23,SECOND=6,MILLISECOND=151,ZONE_OFFSET=32400000,DST_OFFSET=0]\r\n",
      "\r\n",
      " int year = cal.get(Calendar.YEAR);\r\n",
      "|  Added variable year of type int with initial value 2016\r\n",
      "\r\n",
      " int month = cal.get(Calendar.MONTH);      // 0 to 11\r\n",
      "|  Added variable month of type int with initial value 8\r\n",
      "\r\n",
      " int day = cal.get(Calendar.DAY_OF_MONTH);\r\n",
      "|  Added variable day of type int with initial value 22\r\n",
      "\r\n",
      " int hour = cal.get(Calendar.HOUR_OF_DAY);\r\n",
      "|  Added variable hour of type int with initial value 23\r\n",
      "\r\n",
      " int minute = cal.get(Calendar.MINUTE);\r\n",
      "|  Added variable minute of type int with initial value 23\r\n",
      "\r\n",
      " int second = cal.get(Calendar.SECOND);\r\n",
      "|  Added variable second of type int with initial value 6\r\n",
      "\r\n",
      " \r\n",
      "\r\n",
      " System.out.printf(\"Now is %4d/%02d/%02d %02d:%02d:%02d\\n\", year, month+1, day \r",
      ", hour, minute, second);\r\n",
      "Now is 2016/09/22 23:23:06\r\n",
      "|  Expression value is: java.io.PrintStream@3cef309d\r\n",
      "|    assigned to temporary variable $21 of type PrintStream\r\n",
      "\r\n"
     ]
    }
   ],
   "source": [
    "import java.util.Calendar;\n",
    "\n",
    "Calendar cal = Calendar.getInstance();\n",
    "int year = cal.get(Calendar.YEAR);\n",
    "int month = cal.get(Calendar.MONTH);      // 0 to 11\n",
    "int day = cal.get(Calendar.DAY_OF_MONTH);\n",
    "int hour = cal.get(Calendar.HOUR_OF_DAY);\n",
    "int minute = cal.get(Calendar.MINUTE);\n",
    "int second = cal.get(Calendar.SECOND);\n",
    "\n",
    "System.out.printf(\"Now is %4d/%02d/%02d %02d:%02d:%02d\\n\", year, month+1, day, hour, minute, second);"
   ]
  },
  {
   "cell_type": "markdown",
   "metadata": {},
   "source": [
    "## 3.7 main함수\n",
    "\n",
    "* JVM을 실행할 경우, 클래스에서 처음 찾는 함수 -> main\n",
    "\n",
    "```\n",
    "public class Hello {} {}\n",
    "    public static void main(String[] args) {\n",
    "        System.out.println(\"Hello\");\n",
    "    }\n",
    "}\n",
    "```\n",
    "\n",
    "\n",
    "요소 | 설명\n",
    "-----|-----\n",
    "public | 누구나 사용할 수 있다\n",
    "static | 객체를 만들지 않고 사용할 수 있다.\n",
    "void | return이 없다\n",
    "main | 클래스를 실행할 때 처음 찾는 함수\n",
    "(String[] args) | arguments\n",
    "System.out | standard output\n",
    "; | statment\n",
    "\n"
   ]
  },
  {
   "cell_type": "code",
   "execution_count": null,
   "metadata": {
    "collapsed": true
   },
   "outputs": [],
   "source": [
    "%%writefile Hello.java\n",
    "public class Hello {\n",
    "    public static void main(String[] args) {\n",
    "        System.out.println(\"Hello\");\n",
    "    }\n",
    "}"
   ]
  },
  {
   "cell_type": "code",
   "execution_count": null,
   "metadata": {
    "collapsed": true
   },
   "outputs": [],
   "source": [
    "!javac Hello.java\n",
    "!java Hello"
   ]
  },
  {
   "cell_type": "markdown",
   "metadata": {},
   "source": [
    "## 3.8 다른 패키지 사용해보기"
   ]
  },
  {
   "cell_type": "markdown",
   "metadata": {},
   "source": [
    "## 문제 package-4: turtle을 사용해서 4각형 이동하기\n",
    "\n",
    "* 패키지 설치\n",
    "    * download http://www.aplu.ch/home/download.jsp\n",
    "    * lib/ 라이브러리 디렉토리에 복사\n",
    "       \n",
    "* turtle 사용하기\n",
    "    * classpath는 jar까지 넣어준다.\n",
    "    * 패키지를 import한다.\n",
    "    * 객체 t1을 생성한다.\n",
    "    * 반복문을 사용하여, turtle 4각형 이동하기"
   ]
  },
  {
   "cell_type": "code",
   "execution_count": 1,
   "metadata": {
    "collapsed": false
   },
   "outputs": [
    {
     "name": "stdout",
     "output_type": "stream",
     "text": [
      " /classpath lib/\r\n",
      "|  Path 'lib/' added to classpath\r\n",
      "\r\n"
     ]
    }
   ],
   "source": [
    "/classpath lib/"
   ]
  },
  {
   "cell_type": "code",
   "execution_count": 2,
   "metadata": {
    "collapsed": false
   },
   "outputs": [
    {
     "name": "stdout",
     "output_type": "stream",
     "text": [
      " import ch.aplu.turtle.*;\r\n",
      "|  Error:\r\n",
      "|  package ch.aplu.turtle does not exist\r\n",
      "|  import ch.aplu.turtle.*;\r\n",
      "|  ^\r\n",
      "\r\n"
     ]
    }
   ],
   "source": [
    "import ch.aplu.turtle.*;"
   ]
  },
  {
   "cell_type": "code",
   "execution_count": 3,
   "metadata": {
    "collapsed": false
   },
   "outputs": [
    {
     "name": "stdout",
     "output_type": "stream",
     "text": [
      " /classpath lib/aplu5.jar\r\n",
      "|  Path 'lib/aplu5.jar' added to classpath\r\n",
      "\r\n"
     ]
    }
   ],
   "source": [
    "/classpath lib/aplu5.jar"
   ]
  },
  {
   "cell_type": "code",
   "execution_count": 4,
   "metadata": {
    "collapsed": false
   },
   "outputs": [
    {
     "name": "stdout",
     "output_type": "stream",
     "text": [
      " import ch.aplu.turtle.*;\r\n",
      "|    Update modified method printf(String,Object...)\r\n",
      "\r\n"
     ]
    }
   ],
   "source": [
    "import ch.aplu.turtle.*;"
   ]
  },
  {
   "cell_type": "code",
   "execution_count": 5,
   "metadata": {
    "collapsed": false
   },
   "outputs": [
    {
     "name": "stdout",
     "output_type": "stream",
     "text": [
      " Turtle t1=new Turtle();\r\n",
      "|  Added variable t1 of type Turtle with initial value Turtle(Position=(0,0), Heading=0)\r\n",
      "\r\n"
     ]
    }
   ],
   "source": [
    "Turtle t1=new Turtle();"
   ]
  },
  {
   "cell_type": "markdown",
   "metadata": {},
   "source": [
    "* t1이 생성되고 나면, 앞으로 이동해 본다.\n",
    "* 반복문을 사용하여 4각형을 그릴 수 있다.\n",
    "    ```\n",
    "    -> t1.forward(50);\n",
    "    |  Expression value is: Turtle(Position=(0,50), Heading=0)\n",
    "    |    assigned to temporary variable $3 of type Turtle\n",
    "\n",
    "    -> for(int i=0;i<4;i++) {\n",
    "    >>   t1.forward(50);\n",
    "    >>   t1.left(90);\n",
    "    >> }\n",
    "    ```\n",
    "\n",
    "* drjava를 사용해서 같은 기능을 해보기\n",
    "    * setup classpath\n",
    "        * cp 추가, 컴파일해서 class 추가/변경되면 다시 import.\n",
    "        \n",
    "        ```\n",
    "        cat ~/.drjava\n",
    "        extra.classpath = lib/aplu5.jar\n",
    "        ```\n",
    "        \n",
    "        * 다음 절차는 비슷하다.\n",
    "        ```\n",
    "        > import ch.aplu.turtle.*;\n",
    "        > Turtle t1=new Turtle();\n",
    "        ```"
   ]
  },
  {
   "cell_type": "code",
   "execution_count": null,
   "metadata": {
    "collapsed": true
   },
   "outputs": [],
   "source": [
    "/* \n",
    " * @author\n",
    " * @since\n",
    " * a simple turtle demo\n",
    " * taken from http://www.java-online.ch/lego/turtlegrafik.php\n",
    " */\n",
    "package com.sd.turtle;\n",
    "import ch.aplu.turtle.*;\n",
    "\n",
    "class TurtleDemoMain {\n",
    "  Turtle t1 = new Turtle();\n",
    "\n",
    "  TurtleDemoMain() {\n",
    "    t1.forward(100);\n",
    "    t1.right(90);\n",
    "    t1.forward(100);\n",
    "    t1.right(90);\n",
    "    t1.forward(100);\n",
    "    t1.right(90);\n",
    "    t1.forward(100);\n",
    "    t1.right(90);\n",
    "  }\n",
    "\n",
    "  public static void main(String[] args) {\n",
    "    new TurtleDemoMain();\n",
    "  }\n",
    "}\n"
   ]
  },
  {
   "cell_type": "code",
   "execution_count": null,
   "metadata": {
    "collapsed": true
   },
   "outputs": [],
   "source": [
    "!javac -cp ./lib/aplu5.jar -d classes/ -sourcepath src/ src/com/sd/turtle/TurtleDemoMain.java \n",
    "!java -cp ./classes/:./lib/aplu5.jar com.sd.turtle.TurtleDemoMain"
   ]
  },
  {
   "cell_type": "markdown",
   "metadata": {},
   "source": [
    "## 3.9 빌드 도구를 사용해 보기\n",
    "\n",
    "* 빌드 도구는 ant, gradle, maven이 있다.\n",
    "* Gradle을 사용해 본다.\n",
    "\n",
    "### 디렉토리\n",
    "\n",
    "* 프로젝트 디렉토리를 다음과 같이 구성한다.\n",
    "    ```\n",
    "    project directory\n",
    "        src/\n",
    "        classes\n",
    "        lib/\n",
    "    ```\n",
    "\n",
    "### Gradle\n",
    "\n",
    "* Groovy 사용\n",
    "* maven과 같이 jar 라이브러리를 다운로드 하지 않아도 된다.\n",
    "* build.gradle을 생성\n",
    "    * task\n",
    "    * Gradle plugin [Gradle plugin 검색](https://plugins.gradle.org/)\n",
    "    * dependency\n",
    "    * repository\n",
    "    * settings.gradle file\n",
    "* install\n",
    "    * JDK and Groovy 사전 설치\n",
    "    * gradle 설치\n",
    "    ```\n",
    "    apt-get install gradle\n",
    "    gradle –v\n",
    "    ```\n",
    "* gradle build 명령어를 사용하여 실행한다."
   ]
  },
  {
   "cell_type": "markdown",
   "metadata": {},
   "source": [
    "### 간단한 build\n",
    "\n",
    "* java plugin을 사용한다.\n",
    "* 'sourceSets'을 설정하여 java관련 속성을 정의한다.\n",
    "\n",
    "default | 변경후\n",
    "-----------|-----------\n",
    "src/main/java | ./tmp/src\n",
    "src/main/resources | 정의하지 않았으니 변경 없슴\n",
    "build/classes/main | ./tmp/classes\n",
    "build/libs | ./tmp/lib"
   ]
  },
  {
   "cell_type": "code",
   "execution_count": 7,
   "metadata": {
    "collapsed": false
   },
   "outputs": [
    {
     "name": "stdout",
     "output_type": "stream",
     "text": [
      "Overwriting build.gradle\n"
     ]
    }
   ],
   "source": [
    "%%writefile build.gradle\n",
    "apply plugin: 'java'\n",
    "task helloWorld << {\n",
    "  println \"Hello World.\"\n",
    "}\n",
    "sourceSets {\n",
    "    main {\n",
    "        java {\n",
    "            srcDirs = ['./tmp/src']\n",
    "        }\n",
    "    }\n",
    "    test {\n",
    "        java {\n",
    "            srcDirs = ['./tmp/test']\n",
    "        }\n",
    "    }\n",
    "}\n",
    "\n",
    "// Redefine where .class files are written\n",
    "sourceSets.main.output.classesDir = file(\"./tmp/classes\")\n",
    "\n",
    "// Redefine where 'jar' task should place generated JAR file.\n",
    "jar {\n",
    "   destinationDir = file('./tmp/lib')\n",
    "}\n",
    "\n",
    "buildDir = 'out'\n"
   ]
  },
  {
   "cell_type": "code",
   "execution_count": null,
   "metadata": {
    "collapsed": true
   },
   "outputs": [],
   "source": [
    "apply plugin: 'java'\n",
    "apply plugin: 'checkstyle'\n",
    "apply plugin: 'findbugs'\n",
    "apply plugin: 'pmd'\n",
    " \n",
    "version = '1.0'\n",
    " \n",
    "repositories {\n",
    "    mavenCentral()\n",
    "}\n",
    " \n",
    "dependencies {\n",
    "    testCompile group: 'junit', name: 'junit', version: '4.11'\n",
    "    testCompile group: 'org.hamcrest', name: 'hamcrest-all', version: '1.3'\n",
    "}"
   ]
  },
  {
   "cell_type": "code",
   "execution_count": 5,
   "metadata": {
    "collapsed": false
   },
   "outputs": [
    {
     "name": "stdout",
     "output_type": "stream",
     "text": [
      "\u001b[m\n",
      "------------------------------------------------------------\n",
      "Gradle 2.10\n",
      "------------------------------------------------------------\n",
      "\n",
      "Build time:   2016-01-26 15:17:49 UTC\n",
      "Build number: none\n",
      "Revision:     UNKNOWN\n",
      "\n",
      "Groovy:       2.4.5\n",
      "Ant:          Apache Ant(TM) version 1.9.6 compiled on July 8 2015\n",
      "JVM:          1.8.0_91 (Oracle Corporation 25.91-b14)\n",
      "OS:           Linux 4.4.0-36-generic amd64\n",
      "\n",
      "\u001b[m"
     ]
    }
   ],
   "source": [
    "!gradle -version"
   ]
  },
  {
   "cell_type": "markdown",
   "metadata": {},
   "source": [
    "* 가능한 작업 명령어를 출력한다. build.gradle에 설정된 helloWorld task를 볼 수 있다."
   ]
  },
  {
   "cell_type": "code",
   "execution_count": 11,
   "metadata": {
    "collapsed": false
   },
   "outputs": [
    {
     "name": "stdout",
     "output_type": "stream",
     "text": [
      "\u001b[m\n",
      "------------------------------------------------------------\n",
      "All tasks runnable from root project\n",
      "------------------------------------------------------------\n",
      "\n",
      "Build tasks\n",
      "-----------\n",
      "\u001b[32massemble\u001b[39m\u001b[33m - Assembles the outputs of this project.\u001b[39m\n",
      "\u001b[32mbuild\u001b[39m\u001b[33m - Assembles and tests this project.\u001b[39m\n",
      "\u001b[32mbuildDependents\u001b[39m\u001b[33m - Assembles and tests this project and all projects that depend on it.\u001b[39m\n",
      "\u001b[32mbuildNeeded\u001b[39m\u001b[33m - Assembles and tests this project and all projects it depends on.\u001b[39m\n",
      "\u001b[32mclasses\u001b[39m\u001b[33m - Assembles main classes.\u001b[39m\n",
      "\u001b[32mclean\u001b[39m\u001b[33m - Deletes the build directory.\u001b[39m\n",
      "\u001b[32mjar\u001b[39m\u001b[33m - Assembles a jar archive containing the main classes.\u001b[39m\n",
      "\u001b[32mtestClasses\u001b[39m\u001b[33m - Assembles test classes.\u001b[39m\n",
      "\n",
      "Build Setup tasks\n",
      "-----------------\n",
      "\u001b[32minit\u001b[39m\u001b[33m - Initializes a new Gradle build. [incubating]\u001b[39m\n",
      "\u001b[32mwrapper\u001b[39m\u001b[33m - Generates Gradle wrapper files. [incubating]\u001b[39m\n",
      "\n",
      "Documentation tasks\n",
      "-------------------\n",
      "\u001b[32mjavadoc\u001b[39m\u001b[33m - Generates Javadoc API documentation for the main source code.\u001b[39m\n",
      "\n",
      "Help tasks\n",
      "----------\n",
      "\u001b[32mbuildEnvironment\u001b[39m\u001b[33m - Displays all buildscript dependencies declared in root project 'sd'.\u001b[39m\n",
      "\u001b[32mcomponents\u001b[39m\u001b[33m - Displays the components produced by root project 'sd'. [incubating]\u001b[39m\n",
      "\u001b[32mdependencies\u001b[39m\u001b[33m - Displays all dependencies declared in root project 'sd'.\u001b[39m\n",
      "\u001b[32mdependencyInsight\u001b[39m\u001b[33m - Displays the insight into a specific dependency in root project 'sd'.\u001b[39m\n",
      "\u001b[32mhelp\u001b[39m\u001b[33m - Displays a help message.\u001b[39m\n",
      "\u001b[32mmodel\u001b[39m\u001b[33m - Displays the configuration model of root project 'sd'. [incubating]\u001b[39m\n",
      "\u001b[32mprojects\u001b[39m\u001b[33m - Displays the sub-projects of root project 'sd'.\u001b[39m\n",
      "\u001b[32mproperties\u001b[39m\u001b[33m - Displays the properties of root project 'sd'.\u001b[39m\n",
      "\u001b[32mtasks\u001b[39m\u001b[33m - Displays the tasks runnable from root project 'sd'.\u001b[39m\n",
      "\n",
      "Verification tasks\n",
      "------------------\n",
      "\u001b[32mcheck\u001b[39m\u001b[33m - Runs all checks.\u001b[39m\n",
      "\u001b[32mtest\u001b[39m\u001b[33m - Runs the unit tests.\u001b[39m\n",
      "\n",
      "Other tasks\n",
      "-----------\n",
      "\u001b[32mhelloWorld\u001b[39m\n",
      "\n",
      "Rules\n",
      "-----\n",
      "Pattern: clean<TaskName>: Cleans the output files of a task.\n",
      "Pattern: build<ConfigurationName>: Assembles the artifacts of a configuration.\n",
      "Pattern: upload<ConfigurationName>: Assembles and uploads the artifacts belonging to a configuration.\n",
      "\n",
      "To see all tasks and more detail, run \u001b[1mgradle\u001b[22m\u001b[1m \u001b[22m\u001b[1mtasks --all\u001b[22m\n",
      "\n",
      "To see more detail about a task, run \u001b[1mgradle\u001b[22m\u001b[1m \u001b[22m\u001b[1mhelp --task <task>\u001b[22m\n",
      "\u001b[m"
     ]
    }
   ],
   "source": [
    "!gradle -q tasks"
   ]
  },
  {
   "cell_type": "code",
   "execution_count": 6,
   "metadata": {
    "collapsed": false
   },
   "outputs": [
    {
     "name": "stdout",
     "output_type": "stream",
     "text": [
      "\u001b[mHello World.\n",
      "\u001b[m"
     ]
    }
   ],
   "source": [
    "!gradle -q helloWorld"
   ]
  },
  {
   "cell_type": "markdown",
   "metadata": {},
   "source": [
    "* build.gradle에 설정된 소스디렉토리를 컴파일을 해본다. 클래스가 설정된 디렉토리에 생성된다."
   ]
  },
  {
   "cell_type": "code",
   "execution_count": 14,
   "metadata": {
    "collapsed": false
   },
   "outputs": [
    {
     "name": "stdout",
     "output_type": "stream",
     "text": [
      "Hello.java\r\n"
     ]
    }
   ],
   "source": [
    "!ls ./tmp/src/"
   ]
  },
  {
   "cell_type": "code",
   "execution_count": 12,
   "metadata": {
    "collapsed": false
   },
   "outputs": [
    {
     "name": "stdout",
     "output_type": "stream",
     "text": [
      "\u001b[m\u001b[m"
     ]
    }
   ],
   "source": [
    "!gradle -q build"
   ]
  },
  {
   "cell_type": "code",
   "execution_count": 13,
   "metadata": {
    "collapsed": false
   },
   "outputs": [
    {
     "name": "stdout",
     "output_type": "stream",
     "text": [
      "Hello.class\r\n"
     ]
    }
   ],
   "source": [
    "!ls ./tmp/classes/"
   ]
  }
 ],
 "metadata": {
  "kernelspec": {
   "display_name": "Java 9",
   "language": "java",
   "name": "java"
  },
  "language_info": {
   "file_extension": ".class",
   "mimetype": "application/java-vm",
   "name": "java"
  }
 },
 "nbformat": 4,
 "nbformat_minor": 0
}
