{
 "cells": [
  {
   "cell_type": "markdown",
   "metadata": {},
   "source": [
    "# 2. Class and Objects\n",
    "\n",
    "\n",
    "## 2.1 학습내용\n",
    "\n",
    "### 2.1.1 목표\n",
    "\n",
    "* 간단한 Hello Class를 만들 수 있다.\n",
    "* 객체를 사용할 수 있다.\n",
    "* 클래스를 구성하는 필드, 멤버함수를 사용할 수 있다.\n",
    "* 클래스의 생성자, 가시성을 사용할 수 있다.\n",
    "* 클래스를 참조하여 사용할 수 있다.\n",
    "\n",
    "### 2.1.2 문제\n",
    "\n",
    "* 문제 2-1: Hello 인사하는 프로그램\n",
    "* 문제 2-2: 지하철 클래스를 만들고, 몇 호선인지 정해서 운행하기\n",
    "* 문제 2-3: 커피 원산지를 넣어서, 객체를 생성할 때 원산지를 가지고 있도록 구현한다.\n",
    "* 문제 2-4: 몸무게를 자신 이외에는 알 수 없도록 구현한다.\n",
    "* 문제 2-5: 사각형 클래스를 만들고, 면적을 계산하기\n",
    "* 문제 2-6: 문장을 생성하기 phase-o-matic\n",
    "* 미니 프로젝트 문제: dice game\n"
   ]
  },
  {
   "cell_type": "markdown",
   "metadata": {},
   "source": [
    "## 2.2 글쎄 클래스가 뭐지?\n",
    "\n",
    "### 클래스는 '틀'이다.\n",
    "\n",
    "* 객체지향은 우리가 살아가는 세상에서 실제로 일어나는 일을 흉내내어 프로그래밍.\n",
    "* 주변의 모든 것이 클래스로 프로그래밍 될 수 있다. 사람, 자동차, 집, 커피 등.\n",
    "* 클래스는 '틀' 또는 '템플릿'이다 (Object의 blueprint, hfj: p.72).\n",
    "* '틀'은 물건을 만드는 '본'이 된다. '틀'을 사용하면, 같은 물건을 여러 개 찍어 낼 수 있다.\n",
    "* 템플릿과 같이 사전에 클래스 '틀'을 만들어 놓고, 그 '틀'을 사용해서 객체를 만든다.\n",
    "* 이력서 템플릿은 자신의 이력서를 만들 때 불러서 사용한다. 자신의 이력을 채우고 문서이름을 붙여서 저장한다.\n",
    "* 이력서 템플릿이 클래스, 즉 '틀'이다. 자신의 이력서는 객체이다.\n",
    "* 붕어빵을 비유하면, 붕어빵을 만드는 '틀'은 클래스, 붕어빵을 객체라고 할 수 있다."
   ]
  },
  {
   "cell_type": "markdown",
   "metadata": {
    "collapsed": true
   },
   "source": [
    "### 클래스를 그려보기\n",
    "\n",
    "* 커피\n",
    "    * 속성\n",
    "        * 원산지 - 위키피디아 \"적도지방 라틴 아메리카, 동남아시아, 남 아시아 그리고 아프리카의 70여개국에서 재배되는 커피나무에서 얻을 수 있다.\"\n",
    "        * 볶은 정도 - light, medium, dark\n",
    "        * grade - 커피 콩의 크기를 참조하여 grade를 판정한다 http://www.coffeeresearch.org/coffee/grade.htm\n",
    "    * behaviors\n",
    "        * 볶기 roast\n",
    "        * 갈기 grind\n",
    "        * 내리기 brew method different\n",
    "    * 상속\n",
    "        * Latte, Macchiato\n"
   ]
  },
  {
   "cell_type": "code",
   "execution_count": 2,
   "metadata": {
    "collapsed": true
   },
   "outputs": [],
   "source": [
    "import iplantuml"
   ]
  },
  {
   "cell_type": "code",
   "execution_count": 3,
   "metadata": {
    "collapsed": false
   },
   "outputs": [
    {
     "data": {
      "image/svg+xml": [
       "<svg height=\"141px\" style=\"width:112px;height:141px;\" version=\"1.1\" viewBox=\"0 0 112 141\" width=\"112px\" xmlns=\"http://www.w3.org/2000/svg\" xmlns:xlink=\"http://www.w3.org/1999/xlink\"><defs><filter height=\"300%\" id=\"f1\" width=\"300%\" x=\"-1\" y=\"-1\"><feGaussianBlur result=\"blurOut\" stdDeviation=\"2.0\"/><feColorMatrix in=\"blurOut\" result=\"blurOut2\" type=\"matrix\" values=\"0 0 0 0 0 0 0 0 0 0 0 0 0 0 0 0 0 0 .4 0\"/><feOffset dx=\"4.0\" dy=\"4.0\" in=\"blurOut2\" result=\"blurOut3\"/><feBlend in=\"SourceGraphic\" in2=\"blurOut3\" mode=\"normal\"/></filter></defs><g><rect fill=\"#FEFECE\" filter=\"url(#f1)\" height=\"124.8281\" style=\"stroke: #A80036; stroke-width: 1.5;\" width=\"97\" x=\"6\" y=\"8\"/><ellipse cx=\"32.7\" cy=\"24\" fill=\"#ADD1B2\" rx=\"11\" ry=\"11\" style=\"stroke: #A80036; stroke-width: 1.0;\"/><path d=\"M35.6688,29.6406 Q35.0906,29.9375 34.45,30.0859 Q33.8094,30.2344 33.1063,30.2344 Q30.6063,30.2344 29.2859,28.5859 Q27.9656,26.9375 27.9656,23.8125 Q27.9656,20.6875 29.2859,19.0313 Q30.6063,17.375 33.1063,17.375 Q33.8094,17.375 34.4578,17.5313 Q35.1063,17.6875 35.6688,17.9844 L35.6688,20.7031 Q35.0438,20.125 34.45,19.8516 Q33.8563,19.5781 33.2313,19.5781 Q31.8875,19.5781 31.2,20.6484 Q30.5125,21.7188 30.5125,23.8125 Q30.5125,25.9063 31.2,26.9766 Q31.8875,28.0469 33.2313,28.0469 Q33.8563,28.0469 34.45,27.7734 Q35.0438,27.5 35.6688,26.9219 L35.6688,29.6406 Z \"/><text fill=\"#000000\" font-family=\"sans-serif\" font-size=\"12\" lengthAdjust=\"spacingAndGlyphs\" textLength=\"39\" x=\"49.3\" y=\"28.1543\">coffee</text><line style=\"stroke: #A80036; stroke-width: 1.5;\" x1=\"7\" x2=\"102\" y1=\"40\" y2=\"40\"/><text fill=\"#000000\" font-family=\"sans-serif\" font-size=\"11\" lengthAdjust=\"spacingAndGlyphs\" textLength=\"32\" x=\"12\" y=\"54.2104\">origin</text><text fill=\"#000000\" font-family=\"sans-serif\" font-size=\"11\" lengthAdjust=\"spacingAndGlyphs\" textLength=\"85\" x=\"12\" y=\"67.0151\">degreeOfRoast</text><text fill=\"#000000\" font-family=\"sans-serif\" font-size=\"11\" lengthAdjust=\"spacingAndGlyphs\" textLength=\"33\" x=\"12\" y=\"79.8198\">grade</text><line style=\"stroke: #A80036; stroke-width: 1.5;\" x1=\"7\" x2=\"102\" y1=\"86.4141\" y2=\"86.4141\"/><text fill=\"#000000\" font-family=\"sans-serif\" font-size=\"11\" lengthAdjust=\"spacingAndGlyphs\" textLength=\"38\" x=\"12\" y=\"100.6245\">roast()</text><text fill=\"#000000\" font-family=\"sans-serif\" font-size=\"11\" lengthAdjust=\"spacingAndGlyphs\" textLength=\"37\" x=\"12\" y=\"113.4292\">grind()</text><text fill=\"#000000\" font-family=\"sans-serif\" font-size=\"11\" lengthAdjust=\"spacingAndGlyphs\" textLength=\"36\" x=\"12\" y=\"126.2339\">brew()</text></g></svg>"
      ],
      "text/plain": [
       "<IPython.core.display.SVG object>"
      ]
     },
     "execution_count": 3,
     "metadata": {},
     "output_type": "execute_result"
    }
   ],
   "source": [
    "%%plantuml\n",
    "@startuml\n",
    "class coffee {\n",
    "    origin\n",
    "    degreeOfRoast\n",
    "    grade\n",
    "    roast()\n",
    "    grind()\n",
    "    brew()\n",
    "}\n",
    "@enduml"
   ]
  },
  {
   "cell_type": "markdown",
   "metadata": {},
   "source": [
    "### 생각 바꾸기: 클래스도 명령문으로 구성되어 있다.\n",
    "\n",
    "* 객체지향에서는 클래스를 사용하여 프로그램을 구현한다.\n",
    "* 프로그램은 명령문으로 이루어져 있다. 명령문은 컴퓨터에게 작업을 지시한다.\n",
    "* 프로그램은 따져 들어가면, 컴퓨터가 하는 '말' - 즉 2진 수 0,1로 되어 있다.\n",
    "* 객체지향에서는 0,1로 구성된 명령문을 클래스를 사용하여 만드는 것과 다르지 않다는 말이다.\n",
    "* 객체지향프로그래밍 이전에는 함수를 사용한다.\n",
    "    * 순서대로 명령문을 구성하고, 입출력이 관련있는 경우 묶어서 함수로.\n",
    "* 객체지향에서는 명령문을 구성하는 방법이 다르다.\n",
    "    * 명령문을 구성해서 함수로 만들고\n",
    "    * 함수를 구성해서 객체로 만든다.\n",
    "    * 객체는 함수를 가지고 있다.\n",
    "\n",
    "* 모든 명령문은 클래스에 있어야 한다.\n",
    "    * 왜 그래야 하나? 자바는 '순수' 객체지향언어. 과거 방식으로 함수를 만들어 실행하는 방식이 아니라, 객체를 만들어 실행.\n",
    "    * C++언어는 그렇지 않아도 된다는 점에서 순수 객체지향 언어는 아니다.\n",
    "* 쉬운 클래스 만들어 보기\n",
    "    * 지금은 jshell을 이용\n",
    "    * jshell이 source -> compile -> run과정을 편리하게 해준다.\n",
    "    * 나중에 source -> compile -> run 과정을 우리가 직접한다."
   ]
  },
  {
   "cell_type": "markdown",
   "metadata": {},
   "source": [
    "## 문제 2-1: Hello 인사하는 프로그램\n",
    "\n",
    "* 함수방식 vs 객체지향방식\n",
    "    * 함수를 간편하게 만들어 인사를 해 본다."
   ]
  },
  {
   "cell_type": "code",
   "execution_count": 1,
   "metadata": {
    "collapsed": false
   },
   "outputs": [
    {
     "name": "stdout",
     "output_type": "stream",
     "text": [
      " void sayHello() {\r\n",
      "     System.out.println(\"hello\");\r\n",
      " }\r\n",
      "|  Added method sayHello()\r\n",
      "\r\n"
     ]
    }
   ],
   "source": [
    "void sayHello() {\n",
    "    System.out.println(\"hello\");\n",
    "}"
   ]
  },
  {
   "cell_type": "code",
   "execution_count": 2,
   "metadata": {
    "collapsed": false,
    "scrolled": true
   },
   "outputs": [
    {
     "name": "stdout",
     "output_type": "stream",
     "text": [
      " sayHello()\r\n",
      "hello\r\n",
      "\r\n"
     ]
    }
   ],
   "source": [
    "sayHello()"
   ]
  },
  {
   "cell_type": "markdown",
   "metadata": {
    "collapsed": true
   },
   "source": [
    "* 객체지향방식은 클래스 '틀'을 만들고 난 후, 함수를 구현한다.\n",
    "* 우선 UML로 만들어 본다. UML에서 클래스는 3칸으로 구성한다.\n",
    "    * 첫 칸은 클래스 이름\n",
    "    * 두번째는 속성\n",
    "    * 세번째는 함수"
   ]
  },
  {
   "cell_type": "code",
   "execution_count": 1,
   "metadata": {
    "collapsed": true
   },
   "outputs": [],
   "source": [
    "import iplantuml"
   ]
  },
  {
   "cell_type": "code",
   "execution_count": 2,
   "metadata": {
    "collapsed": false
   },
   "outputs": [
    {
     "data": {
      "image/svg+xml": [
       "<svg height=\"77px\" style=\"width:110px;height:77px;\" version=\"1.1\" viewBox=\"0 0 110 77\" width=\"110px\" xmlns=\"http://www.w3.org/2000/svg\" xmlns:xlink=\"http://www.w3.org/1999/xlink\"><defs><filter height=\"300%\" id=\"f1\" width=\"300%\" x=\"-1\" y=\"-1\"><feGaussianBlur result=\"blurOut\" stdDeviation=\"2.0\"/><feColorMatrix in=\"blurOut\" result=\"blurOut2\" type=\"matrix\" values=\"0 0 0 0 0 0 0 0 0 0 0 0 0 0 0 0 0 0 .4 0\"/><feOffset dx=\"4.0\" dy=\"4.0\" in=\"blurOut2\" result=\"blurOut3\"/><feBlend in=\"SourceGraphic\" in2=\"blurOut3\" mode=\"normal\"/></filter></defs><g><rect fill=\"#FEFECE\" filter=\"url(#f1)\" height=\"60.8047\" style=\"stroke: #A80036; stroke-width: 1.5;\" width=\"95\" x=\"6\" y=\"8\"/><ellipse cx=\"35.4\" cy=\"24\" fill=\"#ADD1B2\" rx=\"11\" ry=\"11\" style=\"stroke: #A80036; stroke-width: 1.0;\"/><path d=\"M38.3688,29.6406 Q37.7906,29.9375 37.15,30.0859 Q36.5094,30.2344 35.8063,30.2344 Q33.3063,30.2344 31.9859,28.5859 Q30.6656,26.9375 30.6656,23.8125 Q30.6656,20.6875 31.9859,19.0313 Q33.3063,17.375 35.8063,17.375 Q36.5094,17.375 37.1578,17.5313 Q37.8063,17.6875 38.3688,17.9844 L38.3688,20.7031 Q37.7438,20.125 37.15,19.8516 Q36.5563,19.5781 35.9313,19.5781 Q34.5875,19.5781 33.9,20.6484 Q33.2125,21.7188 33.2125,23.8125 Q33.2125,25.9063 33.9,26.9766 Q34.5875,28.0469 35.9313,28.0469 Q36.5563,28.0469 37.15,27.7734 Q37.7438,27.5 38.3688,26.9219 L38.3688,29.6406 Z \"/><text fill=\"#000000\" font-family=\"sans-serif\" font-size=\"12\" lengthAdjust=\"spacingAndGlyphs\" textLength=\"31\" x=\"52.6\" y=\"28.1543\">Hello</text><line style=\"stroke: #A80036; stroke-width: 1.5;\" x1=\"7\" x2=\"100\" y1=\"40\" y2=\"40\"/><line style=\"stroke: #A80036; stroke-width: 1.5;\" x1=\"7\" x2=\"100\" y1=\"48\" y2=\"48\"/><text fill=\"#000000\" font-family=\"sans-serif\" font-size=\"11\" lengthAdjust=\"spacingAndGlyphs\" textLength=\"83\" x=\"12\" y=\"62.2104\">void sayHello()</text></g></svg>"
      ],
      "text/plain": [
       "<IPython.core.display.SVG object>"
      ]
     },
     "execution_count": 2,
     "metadata": {},
     "output_type": "execute_result"
    }
   ],
   "source": [
    "%%plantuml\n",
    "@startuml\n",
    "class Hello {\n",
    "  void sayHello()\n",
    "}\n",
    "@enduml"
   ]
  },
  {
   "cell_type": "markdown",
   "metadata": {},
   "source": [
    "* 위 UML을 클래스로 구현해 본다. 불과 5줄로 구현될 수 있다. 괄호를 제외하면 3줄.\n",
    "* 함수프로그램과 비교하면, 클래스가 함수를 가지고 있는 점이 다를 뿐이다."
   ]
  },
  {
   "cell_type": "code",
   "execution_count": 1,
   "metadata": {
    "collapsed": false
   },
   "outputs": [
    {
     "name": "stdout",
     "output_type": "stream",
     "text": [
      " class Hello {\r\n",
      "      void sayHello() {\r\n",
      "          System.out.println(\"hello\");\r\n",
      "      }\r\n",
      " }\r\n",
      "|  Added class Hello\r\n",
      "\r\n"
     ]
    }
   ],
   "source": [
    "class Hello {\n",
    "     void sayHello() {\n",
    "         System.out.println(\"hello\");\n",
    "     }\n",
    "}"
   ]
  },
  {
   "cell_type": "markdown",
   "metadata": {
    "collapsed": true
   },
   "source": [
    "* 클래스 '틀'이 등록되어 있다."
   ]
  },
  {
   "cell_type": "code",
   "execution_count": 4,
   "metadata": {
    "collapsed": false
   },
   "outputs": [
    {
     "name": "stdout",
     "output_type": "stream",
     "text": [
      " /classes\r\n",
      "|    class Hello\r\n",
      "\r\n"
     ]
    }
   ],
   "source": [
    "/classes"
   ]
  },
  {
   "cell_type": "markdown",
   "metadata": {},
   "source": [
    "## 2.3 Object\n",
    "\n",
    "* 변수를 생성해서, 정수를 저장하는 것과 비교해서 이해할 수 있다.\n",
    "* 변수를 설정해서 값을 넣을 경우, 오른편에는 그 값, 왼편에는 그 값을 저장하는 메모리를 가리키는 이름을 적는다."
   ]
  },
  {
   "cell_type": "code",
   "execution_count": 1,
   "metadata": {
    "collapsed": false,
    "scrolled": true
   },
   "outputs": [
    {
     "name": "stdout",
     "output_type": "stream",
     "text": [
      " int a=1;\r\n",
      "|  Added variable a of type int with initial value 1\r\n",
      "\r\n"
     ]
    }
   ],
   "source": [
    "int a=1;"
   ]
  },
  {
   "cell_type": "markdown",
   "metadata": {},
   "source": [
    "* 객체를 만들 때도 같은 방식이다.\n",
    "    ```\n",
    "    DataType name = new DataType\n",
    "    ```\n",
    "\n",
    "* 변수의 경우 오른편에는 값, 왼편에는 이름을 가진다.\n",
    "* 객체의 경우 오른 편은 클래스의 객체를 생성하는 'new' 명령어이다.\n",
    "    * 객체를 생성하는 'new' 명령어를 사용하면 객체의 id를 볼 수 있다.\n",
    "    * 객체의 id는 hashCode라고 하며 서로 다르다 (여권번호와 같이)."
   ]
  },
  {
   "cell_type": "code",
   "execution_count": 2,
   "metadata": {
    "collapsed": false,
    "scrolled": false
   },
   "outputs": [
    {
     "name": "stdout",
     "output_type": "stream",
     "text": [
      " new Hello();\r\n",
      "|  Expression value is: Hello@239963d8\r\n",
      "|    assigned to temporary variable $2 of type Hello\r\n",
      "\r\n"
     ]
    }
   ],
   "source": [
    "new Hello();"
   ]
  },
  {
   "cell_type": "markdown",
   "metadata": {},
   "source": [
    "* 변수a의 경우, 값만을 저장한다.\n",
    "* 아래 예에서 객체h는 Hello의 객체를 저장한다. 값만을 저장하는 변수의 경우와 달리 객체는 값뿐만 아니라 함수도 저장하고 있다.\n",
    "* 이 때 dot operator를 사용한다. dot 앞에는 객체, dot 뒤에는 객체의 속성/함수를 사용한다.\n",
    "    ```\n",
    "    h.sayHello();\n",
    "    ```"
   ]
  },
  {
   "cell_type": "code",
   "execution_count": 4,
   "metadata": {
    "collapsed": false,
    "scrolled": true
   },
   "outputs": [
    {
     "name": "stdout",
     "output_type": "stream",
     "text": [
      " Hello h=new Hello();\r\n",
      "|  Added variable h of type Hello with initial value Hello@14bf9759\r\n",
      "\r\n",
      " h.sayHello();\r\n",
      "hello\r\n",
      "\r\n"
     ]
    }
   ],
   "source": [
    "Hello h=new Hello();\n",
    "h.sayHello();"
   ]
  },
  {
   "cell_type": "markdown",
   "metadata": {
    "collapsed": true
   },
   "source": [
    "* 인사하는 사람의 이름을 넣어 본다.\n",
    "* 클래스에 속성을 넣어 수정한다. "
   ]
  },
  {
   "cell_type": "code",
   "execution_count": 10,
   "metadata": {
    "collapsed": false
   },
   "outputs": [
    {
     "name": "stdout",
     "output_type": "stream",
     "text": [
      " class Hello {\r\n",
      "     String toWhom=\"world\";\r\n",
      "     Hello() {}\r\n",
      "     void sayHello() {\r\n",
      "         System.out.println(\"hello \"+toWhom);\r\n",
      "     }\r\n",
      " }\r\n",
      "|  Replaced class Hello\r\n",
      "|    Update replaced variable h, reset to null\r\n",
      "|    Update overwrote class Hello\r\n",
      "\r\n"
     ]
    }
   ],
   "source": [
    "class Hello {\n",
    "    String toWhom=\"world\";\n",
    "    Hello() {}\n",
    "    void sayHello() {\n",
    "        System.out.println(\"hello \"+toWhom);\n",
    "    }\n",
    "}"
   ]
  },
  {
   "cell_type": "code",
   "execution_count": 11,
   "metadata": {
    "collapsed": false,
    "scrolled": true
   },
   "outputs": [
    {
     "name": "stdout",
     "output_type": "stream",
     "text": [
      " Hello h=new Hello();\r\n",
      "|  Modified variable h of type Hello with initial value Hello@13805618\r\n",
      "|    Update overwrote variable h\r\n",
      "\r\n",
      " h.sayHello();\r\n",
      "hello world\r\n",
      "\r\n"
     ]
    }
   ],
   "source": [
    "Hello h=new Hello();\n",
    "h.sayHello();"
   ]
  },
  {
   "cell_type": "markdown",
   "metadata": {},
   "source": [
    "## 문제 2-2: 지하철 클래스를 만들고, 몇 호선인지 정해서 운행하기\n",
    "\n",
    "* 객체의 함수를 만들어 본다."
   ]
  },
  {
   "cell_type": "code",
   "execution_count": 1,
   "metadata": {
    "collapsed": false
   },
   "outputs": [],
   "source": [
    "import iplantuml"
   ]
  },
  {
   "cell_type": "code",
   "execution_count": 2,
   "metadata": {
    "collapsed": false
   },
   "outputs": [
    {
     "data": {
      "image/svg+xml": [
       "<svg height=\"90px\" style=\"width:94px;height:90px;\" version=\"1.1\" viewBox=\"0 0 94 90\" width=\"94px\" xmlns=\"http://www.w3.org/2000/svg\" xmlns:xlink=\"http://www.w3.org/1999/xlink\"><defs><filter height=\"300%\" id=\"f1\" width=\"300%\" x=\"-1\" y=\"-1\"><feGaussianBlur result=\"blurOut\" stdDeviation=\"2.0\"/><feColorMatrix in=\"blurOut\" result=\"blurOut2\" type=\"matrix\" values=\"0 0 0 0 0 0 0 0 0 0 0 0 0 0 0 0 0 0 .4 0\"/><feOffset dx=\"4.0\" dy=\"4.0\" in=\"blurOut2\" result=\"blurOut3\"/><feBlend in=\"SourceGraphic\" in2=\"blurOut3\" mode=\"normal\"/></filter></defs><g><rect fill=\"#FEFECE\" filter=\"url(#f1)\" height=\"73.6094\" style=\"stroke: #A80036; stroke-width: 1.5;\" width=\"79\" x=\"6\" y=\"8\"/><ellipse cx=\"21\" cy=\"24\" fill=\"#ADD1B2\" rx=\"11\" ry=\"11\" style=\"stroke: #A80036; stroke-width: 1.0;\"/><path d=\"M23.9688,29.6406 Q23.3906,29.9375 22.75,30.0859 Q22.1094,30.2344 21.4063,30.2344 Q18.9063,30.2344 17.5859,28.5859 Q16.2656,26.9375 16.2656,23.8125 Q16.2656,20.6875 17.5859,19.0313 Q18.9063,17.375 21.4063,17.375 Q22.1094,17.375 22.7578,17.5313 Q23.4063,17.6875 23.9688,17.9844 L23.9688,20.7031 Q23.3438,20.125 22.75,19.8516 Q22.1563,19.5781 21.5313,19.5781 Q20.1875,19.5781 19.5,20.6484 Q18.8125,21.7188 18.8125,23.8125 Q18.8125,25.9063 19.5,26.9766 Q20.1875,28.0469 21.5313,28.0469 Q22.1563,28.0469 22.75,27.7734 Q23.3438,27.5 23.9688,26.9219 L23.9688,29.6406 Z \"/><text fill=\"#000000\" font-family=\"sans-serif\" font-size=\"12\" lengthAdjust=\"spacingAndGlyphs\" textLength=\"47\" x=\"35\" y=\"28.1543\">Subway</text><line style=\"stroke: #A80036; stroke-width: 1.5;\" x1=\"7\" x2=\"84\" y1=\"40\" y2=\"40\"/><text fill=\"#000000\" font-family=\"sans-serif\" font-size=\"11\" lengthAdjust=\"spacingAndGlyphs\" textLength=\"42\" x=\"12\" y=\"54.2104\">int line;</text><line style=\"stroke: #A80036; stroke-width: 1.5;\" x1=\"7\" x2=\"84\" y1=\"60.8047\" y2=\"60.8047\"/><text fill=\"#000000\" font-family=\"sans-serif\" font-size=\"11\" lengthAdjust=\"spacingAndGlyphs\" textLength=\"54\" x=\"12\" y=\"75.0151\">void run()</text></g></svg>"
      ],
      "text/plain": [
       "<IPython.core.display.SVG object>"
      ]
     },
     "execution_count": 2,
     "metadata": {},
     "output_type": "execute_result"
    }
   ],
   "source": [
    "%%plantuml\n",
    "@startuml\n",
    "class Subway {\n",
    "  int line;\n",
    "  void run()\n",
    "}\n",
    "@enduml"
   ]
  },
  {
   "cell_type": "markdown",
   "metadata": {},
   "source": [
    "* 몇 호선 지하철인지는 아직 정해지지 않았다. 출력하면 0이다 (default value).\n",
    "* 각 데이터 타잎별로 default value는 다음과 같다.\n",
    "\n",
    "데이터 타잎 | 기본 값 (default value)\n",
    "----------|----------\n",
    "byte, short, int, long, float, double | 0 (소수점일 경우 0.0)\n",
    "char | u0000\n",
    "String (또는 객체) | null\n",
    "boolean | false"
   ]
  },
  {
   "cell_type": "code",
   "execution_count": 1,
   "metadata": {
    "collapsed": false,
    "scrolled": false
   },
   "outputs": [
    {
     "name": "stdout",
     "output_type": "stream",
     "text": [
      " class Subway {\r\n",
      "     int line;\r\n",
      "     void run() {\r\n",
      "         System.out.println(line+\" line runs\");\r\n",
      "     }\r\n",
      " }\r\n",
      "|  Added class Subway\r\n",
      "\r\n",
      " \r\n",
      "\r\n",
      " Subway mySub=new Subway();\r\n",
      "|  Added variable mySub of type Subway with initial value Subway@239963d8\r\n",
      "\r\n",
      " mySub.run()\r\n",
      "0 line runs\r\n",
      "\r\n"
     ]
    }
   ],
   "source": [
    "class Subway {\n",
    "    int line;\n",
    "    void run() {\n",
    "        System.out.println(line+\" line runs\");\n",
    "    }\n",
    "}\n",
    "\n",
    "Subway mySub=new Subway();\n",
    "mySub.run()"
   ]
  },
  {
   "cell_type": "markdown",
   "metadata": {},
   "source": [
    "* 몇 호선인지 정하는 속성이 필요한지 생각해 본다.\n",
    "* 함수를 사용해서 객체의 상태를 변경하고, 그 변경된 상태를 호출한다.\n",
    "* 예를 들어, 장기Chest에서 왕과 병졸은 자신의 신분(상태)에 따라 이동하는 방법이 다르게 정해진다.\n",
    "* 아래 setLine()함수는 상태를 변경하고, run()은 변경된 상태를 호출한다."
   ]
  },
  {
   "cell_type": "code",
   "execution_count": 2,
   "metadata": {
    "collapsed": false
   },
   "outputs": [
    {
     "name": "stdout",
     "output_type": "stream",
     "text": [
      " class Subway {\r\n",
      "     int line;\r\n",
      "     void run() {\r\n",
      "         System.out.println(line+\" line runs\");\r\n",
      "     }\r\n",
      "     void setLine(int l) {\r\n",
      "         line=l;\r\n",
      "     }\r\n",
      " }\r\n",
      "|  Replaced class Subway\r\n",
      "|    Update replaced variable mySub, reset to null\r\n",
      "|    Update overwrote class Subway\r\n",
      "\r\n",
      " \r\n",
      "\r\n",
      " Subway mySub=new Subway();\r\n",
      "|  Modified variable mySub of type Subway with initial value Subway@6e06451e\r\n",
      "|    Update overwrote variable mySub\r\n",
      "\r\n",
      " mySub.setLine(3)\r\n",
      "\r\n",
      " mySub.run()\r\n",
      "3 line runs\r\n",
      "\r\n"
     ]
    }
   ],
   "source": [
    "class Subway {\n",
    "    int line;\n",
    "    void run() {\n",
    "        System.out.println(line+\" line runs\");\n",
    "    }\n",
    "    void setLine(int l) {\n",
    "        line=l;\n",
    "    }\n",
    "}\n",
    "\n",
    "Subway mySub=new Subway();\n",
    "mySub.setLine(3)\n",
    "mySub.run()"
   ]
  },
  {
   "cell_type": "markdown",
   "metadata": {},
   "source": [
    "## 2.4 constructor\n",
    "\n",
    "* 생성자는 처음 틀을 만들 때, 초기화를 하는 것이다.\n",
    "    * default constructor를 사용하거나\n",
    "    * 새로 constructor를 만들 수 있다. constructor overloading이라고 한다."
   ]
  },
  {
   "cell_type": "markdown",
   "metadata": {},
   "source": [
    "* Hello 클래스는 다시 쓰면 다음과 같다. 즉 Hello()가 생략되어 있었다. 이를 default constructor라고 한다.\n",
    "* default constructor의 특징\n",
    "    * 클래스 명과 동일하다.\n",
    "    * 반환이 없다. void도 쓰지 않는다.\n",
    "    * public이라고 선언하지 않으면, 패키지에서만 사용할 수 있는 권한이다 (package private)"
   ]
  },
  {
   "cell_type": "code",
   "execution_count": 12,
   "metadata": {
    "collapsed": false
   },
   "outputs": [
    {
     "name": "stdout",
     "output_type": "stream",
     "text": [
      " class Hello {\r\n",
      "     Hello() {}\r\n",
      "     void sayHello() {\r\n",
      "         System.out.println(\"hello\");\r\n",
      "     }\r\n",
      " }\r\n",
      "|  Replaced class Hello\r\n",
      "|    Update replaced variable h, reset to null\r\n",
      "|    Update overwrote class Hello\r\n",
      "\r\n"
     ]
    }
   ],
   "source": [
    "class Hello {\n",
    "    Hello() {}\n",
    "    void sayHello() {\n",
    "        System.out.println(\"hello\");\n",
    "    }\n",
    "}"
   ]
  },
  {
   "cell_type": "code",
   "execution_count": 13,
   "metadata": {
    "collapsed": false
   },
   "outputs": [
    {
     "name": "stdout",
     "output_type": "stream",
     "text": [
      " Hello h=new Hello();\r\n",
      "|  Modified variable h of type Hello with initial value Hello@4b952a2d\r\n",
      "|    Update overwrote variable h\r\n",
      "\r\n",
      " h.sayHello();\r\n",
      "hello\r\n",
      "\r\n"
     ]
    }
   ],
   "source": [
    "Hello h=new Hello();\n",
    "h.sayHello();"
   ]
  },
  {
   "cell_type": "markdown",
   "metadata": {
    "collapsed": true
   },
   "source": [
    "* constructor overloading\n",
    "    * 생성자 이름은 동일하지만, 넘겨주는 인자가 다르다.\n",
    "    * 앞서 구현한 방식과 달리, 생성자를 사용하여 sayHello()\n",
    "    * 아래는 생성자가 몇 개인 것일까? 답:2개"
   ]
  },
  {
   "cell_type": "code",
   "execution_count": 14,
   "metadata": {
    "collapsed": false
   },
   "outputs": [
    {
     "name": "stdout",
     "output_type": "stream",
     "text": [
      " class Hello {\r\n",
      "     String name;\r\n",
      "     Hello(String name) {\r\n",
      "         this.name=name;\r\n",
      "     }\r\n",
      "     void sayHello() {\r\n",
      "         System.out.println(\"hello \" + name);\r\n",
      "     }\r\n",
      " }\r\n",
      "|  Replaced class Hello\r\n",
      "|    Update replaced variable h which cannot be referenced until this error is corrected: \r\n",
      "|      constructor Hello in class Hello cannot be applied to given types;\r\n",
      "|        required: java.lang.String\r\n",
      "|        found: no arguments\r\n",
      "|        reason: actual and formal argument lists differ in length\r\n",
      "|      Hello h=new Hello();\r\n",
      "|              ^---------^\r\n",
      "|    Update overwrote class Hello\r\n",
      "\r\n"
     ]
    }
   ],
   "source": [
    "class Hello {\n",
    "    String name;\n",
    "    Hello(String name) {\n",
    "        this.name=name;\n",
    "    }\n",
    "    void sayHello() {\n",
    "        System.out.println(\"hello \" + name);\n",
    "    }\n",
    "}"
   ]
  },
  {
   "cell_type": "markdown",
   "metadata": {},
   "source": [
    "* 객체 h를 생성할 경우, 앞서와 다르게 인자를 넣어준다."
   ]
  },
  {
   "cell_type": "code",
   "execution_count": 15,
   "metadata": {
    "collapsed": false
   },
   "outputs": [
    {
     "name": "stdout",
     "output_type": "stream",
     "text": [
      " Hello h=new Hello(\"world\");\r\n",
      "|  Replaced variable h of type Hello with initial value Hello@5649fd9b\r\n",
      "|    Update overwrote variable h\r\n",
      "\r\n",
      " h.sayHello();\r\n",
      "hello world\r\n",
      "\r\n"
     ]
    }
   ],
   "source": [
    "Hello h=new Hello(\"world\");\n",
    "h.sayHello();"
   ]
  },
  {
   "cell_type": "code",
   "execution_count": 16,
   "metadata": {
    "collapsed": false,
    "scrolled": true
   },
   "outputs": [
    {
     "name": "stdout",
     "output_type": "stream",
     "text": [
      " h.getClass()\r\n",
      "|  Expression value is: class Hello\r\n",
      "|    assigned to temporary variable $21 of type Class<? extends Hello>\r\n",
      "\r\n"
     ]
    }
   ],
   "source": [
    "h.getClass()"
   ]
  },
  {
   "cell_type": "markdown",
   "metadata": {},
   "source": [
    "## 문제 2-3: 커피 원산지를 넣어서, 객체를 생성할 때 원산지를 가지고 있도록 구현한다.\n",
    "\n",
    "* 원산지를 넣어서 생성자를 구현한다."
   ]
  },
  {
   "cell_type": "code",
   "execution_count": 23,
   "metadata": {
    "collapsed": false
   },
   "outputs": [
    {
     "name": "stdout",
     "output_type": "stream",
     "text": [
      " class BrazilCoffee {\r\n",
      "     String origin;\r\n",
      "     int degreeOfRoast;\r\n",
      "     int grade;\r\n",
      "     BrazilCoffee(String o) {\r\n",
      "         origin=o;\r\n",
      "     }\r\n",
      "     public void roast() {\r\n",
      "         System.out.println(\"roasting...\"+origin);\r\n",
      "     }\r\n",
      "     public void grind() {\r\n",
      "         System.out.println(\"grinding...\"+origin);\r\n",
      "     }\r\n",
      "     public void brew() {\r\n",
      "         System.out.println(\"brewing...\"+origin);\r\n",
      "     }\r\n",
      " }\r\n",
      "|  Replaced class BrazilCoffee\r\n",
      "|    Update overwrote class BrazilCoffee\r\n",
      "\r\n"
     ]
    }
   ],
   "source": [
    "class BrazilCoffee {\n",
    "    String origin;\n",
    "    int degreeOfRoast;\n",
    "    int grade;\n",
    "    BrazilCoffee(String o) {\n",
    "        origin=o;\n",
    "    }\n",
    "    public void roast() {\n",
    "        System.out.println(\"roasting...\"+origin);\n",
    "    }\n",
    "    public void grind() {\n",
    "        System.out.println(\"grinding...\"+origin);\n",
    "    }\n",
    "    public void brew() {\n",
    "        System.out.println(\"brewing...\"+origin);\n",
    "    }\n",
    "}"
   ]
  },
  {
   "cell_type": "code",
   "execution_count": 24,
   "metadata": {
    "collapsed": false
   },
   "outputs": [
    {
     "name": "stdout",
     "output_type": "stream",
     "text": [
      " BrazilCoffee brazil=new BrazilCoffee(\"Brazil\");\r\n",
      "|  Added variable brazil of type BrazilCoffee with initial value BrazilCoffee@64bfbc86\r\n",
      "\r\n",
      " brazil.roast();\r\n",
      "roasting...Brazil\r\n",
      "\r\n"
     ]
    }
   ],
   "source": [
    "BrazilCoffee brazil=new BrazilCoffee(\"Brazil\");\n",
    "brazil.roast();"
   ]
  },
  {
   "cell_type": "markdown",
   "metadata": {},
   "source": [
    "## 2.5 visibility\n",
    "\n",
    "* 캡슐화 encapsulation\n",
    "    * 객체지향에서는 데이터와 함수가 같이 묶여 있다.\n",
    "    * 함수프로그램에서는 이들 데이터, 함수가 분리되어 있다. 함수 안에서는 지역변수, 함수 밖에서는 전역변수가 있다. 전역변수는 누구나 사용할 수 있다.\n",
    "    * 객체지향에서는 클래스 '틀'이 데이터를 가지고 있고, 사용권한을 제어한다. 이를 캡슐화라고 한다.\n",
    "    * 캡슐화는 데이터를 직접 사용하지 못하게 하고, 그 권한을 가시성을 통해 제어한다.\n",
    "* 가시성의 종류에는 4가지가 있다. 여기서는 public, privat을 사용해 본다.\n",
    "    * public field\n",
    "    * private field\n",
    "\n",
    "구분 | UML 표현 | 설명 | class | package | subclass | any class\n",
    "------|------|------|------|------|------|------\n",
    "public | + | 누구나 사용할 수 있다 | Y | Y | Y | Y\n",
    "protected | # | 패밀리, 패키지 | Y | Y | Y | N\n",
    "package private | ~ | 패키지 | Y | Y | N | N\n",
    "private | - | 나 자신만 | Y | N | N | N\n",
    "\n",
    "* private field는 캡슐화를 잘 보여주고 있다 (public field는 캡슐화의 특징을 보여주는 것이 아니다.)\n",
    "    * 함수를 사용하지 않으면 private field의 값을 볼 수 없다.\n",
    "    * 함수는 값을 설정하는 경우, 값을 조회하는 경우로 구분할 수 있다.\n",
    "        * get필드 (예: float getWeight())\n",
    "        * set필드 (예: void setWeight(float))"
   ]
  },
  {
   "cell_type": "code",
   "execution_count": 7,
   "metadata": {
    "collapsed": true
   },
   "outputs": [],
   "source": [
    "import iplantuml"
   ]
  },
  {
   "cell_type": "code",
   "execution_count": 10,
   "metadata": {
    "collapsed": false
   },
   "outputs": [
    {
     "data": {
      "image/svg+xml": [
       "<svg height=\"103px\" style=\"width:147px;height:103px;\" version=\"1.1\" viewBox=\"0 0 147 103\" width=\"147px\" xmlns=\"http://www.w3.org/2000/svg\" xmlns:xlink=\"http://www.w3.org/1999/xlink\"><defs><filter height=\"300%\" id=\"f1\" width=\"300%\" x=\"-1\" y=\"-1\"><feGaussianBlur result=\"blurOut\" stdDeviation=\"2.0\"/><feColorMatrix in=\"blurOut\" result=\"blurOut2\" type=\"matrix\" values=\"0 0 0 0 0 0 0 0 0 0 0 0 0 0 0 0 0 0 .4 0\"/><feOffset dx=\"4.0\" dy=\"4.0\" in=\"blurOut2\" result=\"blurOut3\"/><feBlend in=\"SourceGraphic\" in2=\"blurOut3\" mode=\"normal\"/></filter></defs><g><rect fill=\"#FEFECE\" filter=\"url(#f1)\" height=\"86.4141\" style=\"stroke: #A80036; stroke-width: 1.5;\" width=\"132\" x=\"6\" y=\"8\"/><ellipse cx=\"52.25\" cy=\"24\" fill=\"#ADD1B2\" rx=\"11\" ry=\"11\" style=\"stroke: #A80036; stroke-width: 1.0;\"/><path d=\"M55.2188,29.6406 Q54.6406,29.9375 54,30.0859 Q53.3594,30.2344 52.6563,30.2344 Q50.1563,30.2344 48.8359,28.5859 Q47.5156,26.9375 47.5156,23.8125 Q47.5156,20.6875 48.8359,19.0313 Q50.1563,17.375 52.6563,17.375 Q53.3594,17.375 54.0078,17.5313 Q54.6563,17.6875 55.2188,17.9844 L55.2188,20.7031 Q54.5938,20.125 54,19.8516 Q53.4063,19.5781 52.7813,19.5781 Q51.4375,19.5781 50.75,20.6484 Q50.0625,21.7188 50.0625,23.8125 Q50.0625,25.9063 50.75,26.9766 Q51.4375,28.0469 52.7813,28.0469 Q53.4063,28.0469 54,27.7734 Q54.5938,27.5 55.2188,26.9219 L55.2188,29.6406 Z \"/><text fill=\"#000000\" font-family=\"sans-serif\" font-size=\"12\" lengthAdjust=\"spacingAndGlyphs\" textLength=\"31\" x=\"72.75\" y=\"28.1543\">Hello</text><line style=\"stroke: #A80036; stroke-width: 1.5;\" x1=\"7\" x2=\"137\" y1=\"40\" y2=\"40\"/><ellipse cx=\"17\" cy=\"51.9023\" fill=\"none\" rx=\"3\" ry=\"3\" style=\"stroke: #038048; stroke-width: 1.0;\"/><text fill=\"#000000\" font-family=\"sans-serif\" font-size=\"11\" lengthAdjust=\"spacingAndGlyphs\" textLength=\"70\" x=\"26\" y=\"54.2104\">name:String</text><line style=\"stroke: #A80036; stroke-width: 1.5;\" x1=\"7\" x2=\"137\" y1=\"60.8047\" y2=\"60.8047\"/><ellipse cx=\"17\" cy=\"72.707\" fill=\"#84BE84\" rx=\"3\" ry=\"3\" style=\"stroke: #038048; stroke-width: 1.0;\"/><text fill=\"#000000\" font-family=\"sans-serif\" font-size=\"11\" lengthAdjust=\"spacingAndGlyphs\" textLength=\"106\" x=\"26\" y=\"75.0151\">Hello(name:String)</text><ellipse cx=\"17\" cy=\"85.5117\" fill=\"#84BE84\" rx=\"3\" ry=\"3\" style=\"stroke: #038048; stroke-width: 1.0;\"/><text fill=\"#000000\" font-family=\"sans-serif\" font-size=\"11\" lengthAdjust=\"spacingAndGlyphs\" textLength=\"83\" x=\"26\" y=\"87.8198\">sayHello():void</text></g></svg>"
      ],
      "text/plain": [
       "<IPython.core.display.SVG object>"
      ]
     },
     "execution_count": 10,
     "metadata": {},
     "output_type": "execute_result"
    }
   ],
   "source": [
    "%%plantuml\n",
    "@startuml\n",
    "class Hello {\n",
    "    +name:String\n",
    "    +Hello(name:String)\n",
    "    +sayHello():void\n",
    "}\n",
    "@enduml"
   ]
  },
  {
   "cell_type": "markdown",
   "metadata": {},
   "source": [
    "* 필드를 public으로 하면, 누구나 사용할 수 있다."
   ]
  },
  {
   "cell_type": "code",
   "execution_count": 22,
   "metadata": {
    "collapsed": false
   },
   "outputs": [
    {
     "name": "stdout",
     "output_type": "stream",
     "text": [
      " class Hello {\r\n",
      "     public String name;\r\n",
      "     Hello(String name) {\r\n",
      "         this.name=name;\r\n",
      "     }\r\n",
      "     void sayHello() {\r\n",
      "         System.out.println(\"hello \" + name);\r\n",
      "     }\r\n",
      " }\r\n",
      "|  Replaced class Hello\r\n",
      "|    Update replaced variable h, reset to null\r\n",
      "|    Update overwrote class Hello\r\n",
      "\r\n"
     ]
    }
   ],
   "source": [
    "class Hello {\n",
    "    public String name;\n",
    "    Hello(String name) {\n",
    "        this.name=name;\n",
    "    }\n",
    "    void sayHello() {\n",
    "        System.out.println(\"hello \" + name);\n",
    "    }\n",
    "}"
   ]
  },
  {
   "cell_type": "code",
   "execution_count": 4,
   "metadata": {
    "collapsed": false
   },
   "outputs": [
    {
     "name": "stdout",
     "output_type": "stream",
     "text": [
      " Hello h=new Hello(\"world\");\r\n",
      "|  Modified variable h of type Hello with initial value Hello@5f2108b5\r\n",
      "|    Update overwrote variable h\r\n",
      "\r\n",
      " System.out.println(h.name);\r\n",
      "world\r\n",
      "\r\n"
     ]
    }
   ],
   "source": [
    "Hello h=new Hello(\"world\");\n",
    "System.out.println(h.name);"
   ]
  },
  {
   "cell_type": "markdown",
   "metadata": {},
   "source": [
    "* public을 모두 사용한다. 누구나 사용할 수 있다는 의미이다.\n",
    "    * class가 public이란 클래스를 누구나 사용할 수 있다. 나중에 보겠지만, 클래스 파일이름이 클래스 이름과 같아야 한다. jshell에서는 클래스를 public으로 하는 것이 의미가 없다.\n",
    "    * 생성자가 public이란 누구나 객체를 생성할 수 있다.\n",
    "    * 함수가 public이란 누가나 함수를 호출할 수 있다."
   ]
  },
  {
   "cell_type": "code",
   "execution_count": 1,
   "metadata": {
    "collapsed": false
   },
   "outputs": [
    {
     "name": "stdout",
     "output_type": "stream",
     "text": [
      " public class Hello {\r\n",
      "     public String name;\r\n",
      "     public Hello(String name) {\r\n",
      "         this.name=name;\r\n",
      "     }\r\n",
      "     public void sayHello() {\r\n",
      "         System.out.println(\"hello \" + name);\r\n",
      "     }\r\n",
      " }\r\n",
      "|  Warning:\r\n",
      "|  Modifier 'public'  not permitted in top-level declarations, ignored\r\n",
      "|  public class Hello {\r\n",
      "|  ^----^\r\n",
      "|  Added class Hello this error is corrected: \r\n",
      "|      Modifier 'public'  not permitted in top-level declarations, ignored\r\n",
      "|      public class Hello {\r\n",
      "|      ^----^\r\n",
      "\r\n"
     ]
    }
   ],
   "source": [
    "public class Hello {\n",
    "    public String name;\n",
    "    public Hello(String name) {\n",
    "        this.name=name;\n",
    "    }\n",
    "    public void sayHello() {\n",
    "        System.out.println(\"hello \" + name);\n",
    "    }\n",
    "}"
   ]
  },
  {
   "cell_type": "code",
   "execution_count": 5,
   "metadata": {
    "collapsed": false
   },
   "outputs": [
    {
     "name": "stdout",
     "output_type": "stream",
     "text": [
      " Hello h=new Hello(\"world\");\r\n",
      "|  Modified variable h of type Hello with initial value Hello@3f49dace\r\n",
      "|    Update overwrote variable h\r\n",
      "\r\n",
      " System.out.println(h.name);\r\n",
      "world\r\n",
      "\r\n"
     ]
    }
   ],
   "source": [
    "Hello h=new Hello(\"world\");\n",
    "System.out.println(h.name);"
   ]
  },
  {
   "cell_type": "markdown",
   "metadata": {
    "collapsed": true
   },
   "source": [
    "* private을 사용하면, 속성을 사용할 수 없다."
   ]
  },
  {
   "cell_type": "code",
   "execution_count": 24,
   "metadata": {
    "collapsed": false
   },
   "outputs": [
    {
     "name": "stdout",
     "output_type": "stream",
     "text": [
      " class Hello {\r\n",
      "     private String name;\r\n",
      "     Hello(String name) {\r\n",
      "         this.name=name;\r\n",
      "     }\r\n",
      "     void sayHello() {\r\n",
      "         System.out.println(\"hello \" + name);\r\n",
      "     }\r\n",
      " }\r\n",
      "|  Replaced class Hello\r\n",
      "|    Update replaced variable h, reset to null\r\n",
      "|    Update overwrote class Hello\r\n",
      "\r\n"
     ]
    }
   ],
   "source": [
    "class Hello {\n",
    "    private String name;\n",
    "    Hello(String name) {\n",
    "        this.name=name;\n",
    "    }\n",
    "    void sayHello() {\n",
    "        System.out.println(\"hello \" + name);\n",
    "    }\n",
    "}"
   ]
  },
  {
   "cell_type": "code",
   "execution_count": 26,
   "metadata": {
    "collapsed": false
   },
   "outputs": [
    {
     "name": "stdout",
     "output_type": "stream",
     "text": [
      " Hello h=new Hello(\"world\");\r\n",
      "|  Modified variable h of type Hello with initial value Hello@6adede5\r\n",
      "|    Update overwrote variable h\r\n",
      "\r\n",
      " h.name;\r\n",
      "|  Error:\r\n",
      "|  name has private access in Hello\r\n",
      "|  h.name;\r\n",
      "|  ^----^\r\n",
      "\r\n"
     ]
    }
   ],
   "source": [
    "Hello h=new Hello(\"world\");\n",
    "h.name;"
   ]
  },
  {
   "cell_type": "markdown",
   "metadata": {},
   "source": [
    "## 문제 2-4: 몸무게를 자신 이외에는 알 수 없도록 구현한다.\n",
    "\n",
    "* 속성을 사용할 수 있는 권한을 제한하는 것이 중요하다."
   ]
  },
  {
   "cell_type": "code",
   "execution_count": 7,
   "metadata": {
    "collapsed": false
   },
   "outputs": [
    {
     "name": "stdout",
     "output_type": "stream",
     "text": [
      " class Person {\r\n",
      "     private float weight;\r\n",
      "     public void setWeight(float w) {\r\n",
      "         this.weight=w;\r\n",
      "     }\r\n",
      "     public float getWeight() {\r\n",
      "         return weight;\r\n",
      "     }\r\n",
      " }\r\n",
      "|  Replaced class Person\r\n",
      "|    Update overwrote class Person\r\n",
      "\r\n"
     ]
    }
   ],
   "source": [
    "class Person {\n",
    "    private float weight;\n",
    "    public void setWeight(float w) {\n",
    "        this.weight=w;\n",
    "    }\n",
    "    public float getWeight() {\n",
    "        return weight;\n",
    "    }\n",
    "}"
   ]
  },
  {
   "cell_type": "markdown",
   "metadata": {
    "collapsed": true
   },
   "source": [
    "* private으로 해 놓았으니 몸무게를 볼 수 없다."
   ]
  },
  {
   "cell_type": "code",
   "execution_count": 10,
   "metadata": {
    "collapsed": false,
    "scrolled": true
   },
   "outputs": [
    {
     "name": "stdout",
     "output_type": "stream",
     "text": [
      " Person me=new Person();\r\n",
      "|  Modified variable me of type Person with initial value Person@5cb9f472\r\n",
      "|    Update overwrote variable me\r\n",
      "\r\n",
      " me.setWeight((float)60.0);\r\n",
      "\r\n",
      " System.out.println(me.weight)\r\n",
      "|  Error:\r\n",
      "|  weight has private access in Person\r\n",
      "|  System.out.println(me.weight)\r\n",
      "|                     ^-------^\r\n",
      "\r\n"
     ]
    }
   ],
   "source": [
    "Person me=new Person();\n",
    "me.setWeight((float)60.0);\n",
    "System.out.println(me.weight);"
   ]
  },
  {
   "cell_type": "markdown",
   "metadata": {
    "collapsed": true
   },
   "source": [
    "* 그러나 getWeight()를 사용하면 몸무게를 읽어낼 수 있다.\n",
    "* 어떻게 하면 좋을까? 함수를 private으로 만든다."
   ]
  },
  {
   "cell_type": "code",
   "execution_count": 11,
   "metadata": {
    "collapsed": false,
    "scrolled": true
   },
   "outputs": [
    {
     "name": "stdout",
     "output_type": "stream",
     "text": [
      " Person me=new Person();\r\n",
      "|  Modified variable me of type Person with initial value Person@13805618\r\n",
      "|    Update overwrote variable me\r\n",
      "\r\n",
      " me.setWeight((float)60.0);\r\n",
      "\r\n",
      " System.out.println(me.getWeight());\r\n",
      "60.0\r\n",
      "\r\n"
     ]
    }
   ],
   "source": [
    "Person me=new Person();\n",
    "me.setWeight((float)60.0);\n",
    "System.out.println(me.getWeight());"
   ]
  },
  {
   "cell_type": "markdown",
   "metadata": {
    "collapsed": true
   },
   "source": [
    "* getWeight()를 private으로 해 놓으면 그 함수를 자신 외에는 누구도 사용할 수 없다.\n",
    "* 즉, 클래스 내부에서만 사용할 수 있다."
   ]
  },
  {
   "cell_type": "code",
   "execution_count": 12,
   "metadata": {
    "collapsed": false
   },
   "outputs": [
    {
     "name": "stdout",
     "output_type": "stream",
     "text": [
      " class Person {\r\n",
      "     private float weight;\r\n",
      "     public void setWeight(float w) {\r\n",
      "         this.weight=w;\r\n",
      "     }\r\n",
      "     private float getWeight() {\r\n",
      "         return weight;\r\n",
      "     }\r\n",
      " }\r\n",
      "|  Replaced class Person\r\n",
      "|    Update replaced variable me, reset to null\r\n",
      "|    Update overwrote class Person\r\n",
      "\r\n"
     ]
    }
   ],
   "source": [
    "class Person {\n",
    "    private float weight;\n",
    "    public void setWeight(float w) {\n",
    "        this.weight=w;\n",
    "    }\n",
    "    private float getWeight() {\n",
    "        return weight;\n",
    "    }\n",
    "}"
   ]
  },
  {
   "cell_type": "code",
   "execution_count": 13,
   "metadata": {
    "collapsed": false,
    "scrolled": true
   },
   "outputs": [
    {
     "name": "stdout",
     "output_type": "stream",
     "text": [
      " Person me=new Person();\r\n",
      "|  Modified variable me of type Person with initial value Person@5025a98f\r\n",
      "|    Update overwrote variable me\r\n",
      "\r\n",
      " me.setWeight((float)60.0);\r\n",
      "\r\n",
      " System.out.println(me.getWeight());\r\n",
      "|  Error:\r\n",
      "|  getWeight() has private access in Person\r\n",
      "|  System.out.println(me.getWeight());\r\n",
      "|                     ^----------^\r\n",
      "\r\n"
     ]
    }
   ],
   "source": [
    "Person me=new Person();\n",
    "me.setWeight((float)60.0);\n",
    "System.out.println(me.getWeight());"
   ]
  },
  {
   "cell_type": "markdown",
   "metadata": {},
   "source": [
    "## 2.6 variables\n",
    "\n",
    "* 변수는 값을 저장하는 기능을 가지고 있다.\n",
    "    * 상자(box)로 비유할 수 있다. (hfj는 컵으로 비유)\n",
    "    * 그 안에 값을 저장할 수 있다. 박스 모양과 다르면 넣을 수가 없다.\n",
    "* 변수는 값의 종류에 따라 (정수, 문자, 소수...) 메모리에서 차지하는 공간에 차이가 있다.\n",
    "* 변수는 선언을 한 후 사용해야 한다 (declare라고 한다).\n",
    "    * 변수명과 타잎을 적어야 한다.\n",
    "* 변수의 종류 -> data type\n",
    "    * primitive - 메모리의 크기가 정해져 있다.\n",
    "    * reference - 메모리의 크기가 정해져 있지 않다.\n",
    "* array는 여러 값을 가지고 있으므로, array변수는 primitive의 배열 또는 reference의 배열을 가질 수 있다.\n"
   ]
  },
  {
   "cell_type": "markdown",
   "metadata": {},
   "source": [
    "### 2.6.1 primitive\n",
    "\n",
    "* 아래와 같이 메모리의 크기가 정해져 있다.\n",
    "* 모든 primitive type에 대응되는 클래스가 있다. 이를 'wrapper class'라고 한다.\n",
    "    * 단 String 클래스는 primitive가 없다. '문자열'은 문자의 배열이라 그 크기를 알 수 없기 때문이다.\n",
    "\n",
    "종류 | 메모리 크기 (bits) | 최소~최대 | Wrapper classes\n",
    "-----|-----|-----|-----\n",
    "boolean\t| 8 | TF (2개 값만 필요하지만 8bits 사용) | Boolean\n",
    "char\t| 16 | 0~65535 | Character\n",
    "byte\t| 8 | -128~127 | Byte\n",
    "short\t| 16 | -32768~32767 | Short\n",
    "int\t| 32 | -2147483648~2147483647 | Integer\n",
    "long\t| 64 |-9223372036854775808 ~ 9223372036854775807 | Long\n",
    "float\t| 32 | 1.4E-45~3.4028235E38 | Float\n",
    "double\t| 64 | 4.9E-324~1.7976931348623157E308 | Double\n"
   ]
  },
  {
   "cell_type": "markdown",
   "metadata": {
    "collapsed": true
   },
   "source": [
    "* 메모리가 큰 타잎을 적은 타잎에 넣는 경우, 오류가 발생한다.\n",
    "    * int (32 bits)를 byte (8 bits)로 넣는 경우, 데이터가 손실될 수 있다.\n",
    "    * byte가 사용하는 8 bits 범위 -128~127를 초과하는 수 128을 사용하면 표현할 수 없다.\n",
    "* casting 형변환\n",
    "    * 큰 타잎에서 적은 타잎은 분명하게 형변환을 해야 한다.\n",
    "    * 그러나 반대의 경우, 적은 타잎에서 큰 타잎으로의 형변환은 자동으로 일어난다."
   ]
  },
  {
   "cell_type": "code",
   "execution_count": 1,
   "metadata": {
    "collapsed": false
   },
   "outputs": [
    {
     "name": "stdout",
     "output_type": "stream",
     "text": [
      " int x = 1;\r\n",
      "|  Added variable x of type int with initial value 1\r\n",
      "\r\n"
     ]
    }
   ],
   "source": [
    "int x = 1;"
   ]
  },
  {
   "cell_type": "code",
   "execution_count": 2,
   "metadata": {
    "collapsed": false,
    "scrolled": true
   },
   "outputs": [
    {
     "name": "stdout",
     "output_type": "stream",
     "text": [
      " byte y;\r\n",
      "|  Added variable y of type byte\r\n",
      "\r\n",
      " y=x;\r\n",
      "|  Error:\r\n",
      "|  cannot find symbol\r\n",
      "|    symbol:   variable x\r\n",
      "|  y=x;\r\n",
      "|    ^\r\n",
      "\r\n"
     ]
    }
   ],
   "source": [
    "byte y;\n",
    "y=x;"
   ]
  },
  {
   "cell_type": "code",
   "execution_count": null,
   "metadata": {
    "collapsed": true
   },
   "outputs": [],
   "source": [
    "* 형변환을 괄호 안에 적어서 해준다."
   ]
  },
  {
   "cell_type": "code",
   "execution_count": 3,
   "metadata": {
    "collapsed": false
   },
   "outputs": [
    {
     "name": "stdout",
     "output_type": "stream",
     "text": [
      " y=(byte)x;\r\n",
      "|  Variable y has been assigned the value 1\r\n",
      "\r\n"
     ]
    }
   ],
   "source": [
    "y=(byte)x;"
   ]
  },
  {
   "cell_type": "code",
   "execution_count": 4,
   "metadata": {
    "collapsed": false
   },
   "outputs": [
    {
     "name": "stdout",
     "output_type": "stream",
     "text": [
      " System.out.println(y);\r\n",
      "1\r\n",
      "\r\n"
     ]
    }
   ],
   "source": [
    "System.out.println(y);"
   ]
  },
  {
   "cell_type": "markdown",
   "metadata": {
    "collapsed": true
   },
   "source": [
    "* byte의 범위가 -128~127이므로 오류가 발생한다."
   ]
  },
  {
   "cell_type": "code",
   "execution_count": 8,
   "metadata": {
    "collapsed": false,
    "scrolled": true
   },
   "outputs": [
    {
     "name": "stdout",
     "output_type": "stream",
     "text": [
      " byte x=(byte)128;\r\n",
      "|  Modified variable x of type byte with initial value -128\r\n",
      "|    Update overwrote variable x\r\n",
      "\r\n",
      " y=(byte)x;\r\n",
      "|  Variable y has been assigned the value -128\r\n",
      "\r\n",
      " System.out.println(y);\r\n",
      "-128\r\n",
      "\r\n"
     ]
    }
   ],
   "source": [
    "byte x=(byte)128;\n",
    "y=(byte)x;\n",
    "System.out.println(y);"
   ]
  },
  {
   "cell_type": "code",
   "execution_count": 10,
   "metadata": {
    "collapsed": false
   },
   "outputs": [
    {
     "name": "stdout",
     "output_type": "stream",
     "text": [
      " Byte.MAX_VALUE;\r\n",
      "|  Expression value is: 127\r\n",
      "|    assigned to temporary variable $17 of type byte\r\n",
      "\r\n",
      " Byte.MIN_VALUE;\r\n",
      "|  Expression value is: -128\r\n",
      "|    assigned to temporary variable $18 of type byte\r\n",
      "\r\n"
     ]
    }
   ],
   "source": [
    "Byte.MAX_VALUE;\n",
    "Byte.MIN_VALUE;"
   ]
  },
  {
   "cell_type": "code",
   "execution_count": 18,
   "metadata": {
    "collapsed": false
   },
   "outputs": [
    {
     "name": "stdout",
     "output_type": "stream",
     "text": [
      " System.out.printf(\"size:%-2s min:%-20s max:%s\\n\",Byte.SIZE,Byte.MIN_VALUE,Byt \r",
      "e.MAX_VALUE);\r\n",
      "size:8  min:-128                 max:127\r\n",
      "|  Expression value is: java.io.PrintStream@4f7d0008\r\n",
      "|    assigned to temporary variable $3 of type PrintStream\r\n",
      "\r\n"
     ]
    }
   ],
   "source": [
    "System.out.printf(\"size:%-2s min:%-20s max:%s\\n\",Byte.SIZE,Byte.MIN_VALUE,Byte.MAX_VALUE);"
   ]
  },
  {
   "cell_type": "markdown",
   "metadata": {
    "collapsed": true
   },
   "source": [
    "* int(32 bits)에서 double(64 bits)로 변경된다. 형변환은 자동으로 된다."
   ]
  },
  {
   "cell_type": "code",
   "execution_count": 1,
   "metadata": {
    "collapsed": false
   },
   "outputs": [
    {
     "name": "stdout",
     "output_type": "stream",
     "text": [
      " int a=123;\r\n",
      "|  Added variable a of type int with initial value 123\r\n",
      "\r\n",
      " double b;\r\n",
      "|  Added variable b of type double\r\n",
      "\r\n",
      " b=a;\r\n",
      "|  Variable b has been assigned the value 123.0\r\n",
      "\r\n"
     ]
    }
   ],
   "source": [
    "int a=123;\n",
    "double b;\n",
    "b=a;"
   ]
  },
  {
   "cell_type": "markdown",
   "metadata": {},
   "source": [
    "* 배열에 primitives를 저장할 수 있다."
   ]
  },
  {
   "cell_type": "code",
   "execution_count": 20,
   "metadata": {
    "collapsed": false
   },
   "outputs": [
    {
     "name": "stdout",
     "output_type": "stream",
     "text": [
      " int[] a=new int[2];\r\n",
      "|  Added variable a of type int[] with initial value [I@2f686d1f\r\n",
      "\r\n",
      " a[0]=1;\r\n",
      "|  Expression value is: 1\r\n",
      "|    assigned to temporary variable $6 of type int\r\n",
      "\r\n",
      " a[1]=2;\r\n",
      "|  Expression value is: 2\r\n",
      "|    assigned to temporary variable $7 of type int\r\n",
      "\r\n"
     ]
    }
   ],
   "source": [
    "int[] a=new int[2];\n",
    "a[0]=1;\n",
    "a[1]=2;"
   ]
  },
  {
   "cell_type": "markdown",
   "metadata": {},
   "source": [
    "### 2.6.2 reference\n",
    "\n",
    "* 예를 들어, int는 16 비트를 사용하고, 이 전체를 읽서어서 값을 사용한다.\n",
    "* 그러나 객체는 메모리의 크기를 알 수 없다. 따라서 참조를 사용해야 한다.\n",
    "* 참조는 객체가 저장되어 있는 메모리의 일정 부분을 가리키고 있다.\n",
    "* 참조를 사용하는 경우는, 객체, wrapper class, 객체의 배열 (an array of reference)이다."
   ]
  },
  {
   "cell_type": "markdown",
   "metadata": {},
   "source": [
    "* String객체는 해당하는 primitive가 없다. 문자의 배열이라 그 크기를 모른다.\n",
    "* 'hello' 객체는 선언하는 시점에 그 크기를 알 수가 없다.\n",
    "* \"Hello\"라는 값을 넣으면 5개의 문자가 저장되었다는 것을 비로서 알 수 있고, 메모리 크기를 정할 수 있다."
   ]
  },
  {
   "cell_type": "code",
   "execution_count": 22,
   "metadata": {
    "collapsed": false,
    "scrolled": false
   },
   "outputs": [
    {
     "name": "stdout",
     "output_type": "stream",
     "text": [
      " String hello=\"Hello\";\r\n",
      "|  Modified variable hello of type String with initial value \"Hello\"\r\n",
      "|    Update overwrote variable hello\r\n",
      "\r\n"
     ]
    }
   ],
   "source": [
    "String hello=\"Hello\";"
   ]
  },
  {
   "cell_type": "code",
   "execution_count": 2,
   "metadata": {
    "collapsed": false,
    "scrolled": true
   },
   "outputs": [
    {
     "name": "stdout",
     "output_type": "stream",
     "text": [
      " System.out.println(hello)\r\n",
      "Hello\r\n",
      "\r\n"
     ]
    }
   ],
   "source": [
    "System.out.println(hello)"
   ]
  },
  {
   "cell_type": "code",
   "execution_count": 3,
   "metadata": {
    "collapsed": false
   },
   "outputs": [
    {
     "name": "stdout",
     "output_type": "stream",
     "text": [
      " String helloWorld=hello+\"world\"\r\n",
      "|  Added variable helloWorld of type String with initial value \"Helloworld\"\r\n",
      "\r\n"
     ]
    }
   ],
   "source": [
    "String helloWorld=hello+\"world\""
   ]
  },
  {
   "cell_type": "code",
   "execution_count": 5,
   "metadata": {
    "collapsed": false,
    "scrolled": false
   },
   "outputs": [
    {
     "name": "stdout",
     "output_type": "stream",
     "text": [
      " System.out.println(helloWorld)\r\n",
      "Helloworld\r\n",
      "\r\n"
     ]
    }
   ],
   "source": [
    "System.out.println(helloWorld)"
   ]
  },
  {
   "cell_type": "markdown",
   "metadata": {
    "collapsed": true
   },
   "source": [
    "* 숫자 1을 i객체에 저장했다.\n",
    "* 이는 앞서 primitive를 사용해서 저장하는 것과 데이터는 '1'로 동일하지만, 다르다. i는 객체이다."
   ]
  },
  {
   "cell_type": "code",
   "execution_count": 23,
   "metadata": {
    "collapsed": false
   },
   "outputs": [
    {
     "name": "stdout",
     "output_type": "stream",
     "text": [
      " Integer i=new Integer(1);\r\n",
      "|  Added variable i of type Integer with initial value 1\r\n",
      "\r\n"
     ]
    }
   ],
   "source": [
    "Integer i=new Integer(1);"
   ]
  },
  {
   "cell_type": "markdown",
   "metadata": {
    "collapsed": true
   },
   "source": [
    "* 객체 참조의 이해"
   ]
  },
  {
   "cell_type": "code",
   "execution_count": 10,
   "metadata": {
    "collapsed": false
   },
   "outputs": [
    {
     "name": "stdout",
     "output_type": "stream",
     "text": [
      " class Book {\r\n",
      " }\r\n",
      "|  Added class Book\r\n",
      "\r\n"
     ]
    }
   ],
   "source": [
    "class Book {\n",
    "}"
   ]
  },
  {
   "cell_type": "code",
   "execution_count": 13,
   "metadata": {
    "collapsed": false
   },
   "outputs": [
    {
     "name": "stdout",
     "output_type": "stream",
     "text": [
      " /classes\r\n",
      "|    class Book\r\n",
      "\r\n"
     ]
    }
   ],
   "source": [
    "/classes"
   ]
  },
  {
   "cell_type": "code",
   "execution_count": 14,
   "metadata": {
    "collapsed": false
   },
   "outputs": [
    {
     "name": "stdout",
     "output_type": "stream",
     "text": [
      " Book b=new Book();\r\n",
      "|  Added variable b of type Book with initial value Book@5bcab519\r\n",
      "\r\n",
      " Book c=new Book();\r\n",
      "|  Added variable c of type Book with initial value Book@3f49dace\r\n",
      "\r\n"
     ]
    }
   ],
   "source": [
    "Book b=new Book();\n",
    "Book c=new Book();"
   ]
  },
  {
   "cell_type": "markdown",
   "metadata": {
    "collapsed": true
   },
   "source": [
    "* d는 c를 가지고 있으므로, 같은 객체에 대한 복사본\n",
    "    * Book@2f49dace를 주목"
   ]
  },
  {
   "cell_type": "code",
   "execution_count": 15,
   "metadata": {
    "collapsed": false,
    "scrolled": true
   },
   "outputs": [
    {
     "name": "stdout",
     "output_type": "stream",
     "text": [
      " Book d=c;\r\n",
      "|  Added variable d of type Book with initial value Book@3f49dace\r\n",
      "\r\n"
     ]
    }
   ],
   "source": [
    "Book d=c;"
   ]
  },
  {
   "cell_type": "markdown",
   "metadata": {
    "collapsed": true
   },
   "source": [
    "* c를 변경할 수도 있다.\n",
    "* 그러면 Book@5bcab519를 가리키게 된다."
   ]
  },
  {
   "cell_type": "code",
   "execution_count": 16,
   "metadata": {
    "collapsed": false
   },
   "outputs": [
    {
     "name": "stdout",
     "output_type": "stream",
     "text": [
      " c=b;\r\n",
      "|  Variable c has been assigned the value Book@5bcab519\r\n",
      "\r\n"
     ]
    }
   ],
   "source": [
    "c=b;"
   ]
  },
  {
   "cell_type": "markdown",
   "metadata": {
    "collapsed": true
   },
   "source": [
    "* 관계를 절단할 수도 있다. 아무런 객체와도 관계가 없다 -> 알지 못한다는 의미."
   ]
  },
  {
   "cell_type": "code",
   "execution_count": 17,
   "metadata": {
    "collapsed": false
   },
   "outputs": [
    {
     "name": "stdout",
     "output_type": "stream",
     "text": [
      " c=null;\r\n",
      "|  Variable c has been assigned the value null\r\n",
      "\r\n"
     ]
    }
   ],
   "source": [
    "c=null;"
   ]
  },
  {
   "cell_type": "markdown",
   "metadata": {},
   "source": [
    "## 2.7 methods\n",
    "\n",
    "* 함수의 signature\n",
    "* forward reference\n",
    "* void 함수와 값을 돌려주는 함수\n",
    "* pass-by-value, pass-by-reference (hfj:78)\n",
    "* 변수의 범위 - 지역 변수\n",
    "* 재사용\n"
   ]
  },
  {
   "cell_type": "markdown",
   "metadata": {},
   "source": [
    "### 함수의 signature\n",
    "\n",
    "*  함수명, 함수 arguments, 반환 값의 data type\n",
    "* argument와 parameters\n",
    "    * \"A method uses parameters. A caller passes arguments\" (hfj:74)"
   ]
  },
  {
   "cell_type": "code",
   "execution_count": 23,
   "metadata": {
    "collapsed": false,
    "scrolled": true
   },
   "outputs": [
    {
     "name": "stdout",
     "output_type": "stream",
     "text": [
      " int addTwoNumbers(int a, int b) {\r\n",
      "     return a+b;\r\n",
      " }\r\n",
      "|  Added method addTwoNumbers(int,int)\r\n",
      "\r\n"
     ]
    }
   ],
   "source": [
    "int addTwoNumbers(int a, int b) {\n",
    "    return a+b;\n",
    "}"
   ]
  },
  {
   "cell_type": "code",
   "execution_count": 24,
   "metadata": {
    "collapsed": false
   },
   "outputs": [
    {
     "name": "stdout",
     "output_type": "stream",
     "text": [
      " System.out.println(addTwoNumbers(1,2));\r\n",
      "3\r\n",
      "\r\n"
     ]
    }
   ],
   "source": [
    "System.out.println(addTwoNumbers(1,2));"
   ]
  },
  {
   "cell_type": "markdown",
   "metadata": {},
   "source": [
    "### forward reference\n",
    "\n",
    "* 아직 정의되지 않은 함수를 미리 호출하는 함수를 선언할 수 있다."
   ]
  },
  {
   "cell_type": "code",
   "execution_count": 10,
   "metadata": {
    "collapsed": false,
    "scrolled": false
   },
   "outputs": [
    {
     "name": "stdout",
     "output_type": "stream",
     "text": [
      " void sayHello() {\r\n",
      "     String hello=\"Hello\";\r\n",
      "     System.out.println(hello);\r\n",
      " }\r\n",
      "|  Modified method sayHello()\r\n",
      "|    Update overwrote method sayHello()\r\n",
      "\r\n"
     ]
    }
   ],
   "source": [
    "void sayHello() {\n",
    "    String hello=\"Hello\";\n",
    "    System.out.println(hello);\n",
    "}"
   ]
  },
  {
   "cell_type": "code",
   "execution_count": 11,
   "metadata": {
    "collapsed": false,
    "scrolled": false
   },
   "outputs": [
    {
     "name": "stdout",
     "output_type": "stream",
     "text": [
      " sayHello()\r\n",
      "Hello\r\n",
      "\r\n"
     ]
    }
   ],
   "source": [
    "sayHello()"
   ]
  },
  {
   "cell_type": "code",
   "execution_count": 17,
   "metadata": {
    "collapsed": false
   },
   "outputs": [
    {
     "name": "stdout",
     "output_type": "stream",
     "text": [
      " void sayHelloA() {\r\n",
      "     String hello=\"Hello\";\r\n",
      "     System.out.println(hello);\r\n",
      "     printA();\r\n",
      " }\r\n",
      "|  Modified method sayHelloA()\r\n",
      "|    Update overwrote method sayHelloA()\r\n",
      "\r\n",
      " void printA() {\r\n",
      "     System.out.println(\"A\");\r\n",
      " }\r\n",
      "|  Modified method printA()\r\n",
      "|    Update overwrote method printA()\r\n",
      "\r\n"
     ]
    }
   ],
   "source": [
    "void sayHelloA() {\n",
    "    String hello=\"Hello\";\n",
    "    System.out.println(hello);\n",
    "    printA();\n",
    "}\n",
    "void printA() {\n",
    "    System.out.println(\"A\");\n",
    "}"
   ]
  },
  {
   "cell_type": "code",
   "execution_count": 18,
   "metadata": {
    "collapsed": false
   },
   "outputs": [
    {
     "name": "stdout",
     "output_type": "stream",
     "text": [
      " sayHelloA();\r\n",
      "Hello\r\n",
      "A\r\n",
      "\r\n"
     ]
    }
   ],
   "source": [
    "sayHelloA();"
   ]
  },
  {
   "cell_type": "markdown",
   "metadata": {
    "collapsed": true
   },
   "source": [
    "### 함수의 종류\n",
    "\n",
    "* void 함수\n",
    "* 값을 돌려 주는 함수"
   ]
  },
  {
   "cell_type": "code",
   "execution_count": 20,
   "metadata": {
    "collapsed": false
   },
   "outputs": [
    {
     "name": "stdout",
     "output_type": "stream",
     "text": [
      " void larger(double x, double y) {\r\n",
      "     if(x>=y)\r\n",
      "         System.out.println(x);\r\n",
      "     else\r\n",
      "         System.out.println(y);\r\n",
      " }\r\n",
      "|  Added method larger(double,double)\r\n",
      "\r\n"
     ]
    }
   ],
   "source": [
    "void larger(double x, double y) {\n",
    "    if(x>=y)\n",
    "        System.out.println(x);\n",
    "    else\n",
    "        System.out.println(y);\n",
    "}"
   ]
  },
  {
   "cell_type": "markdown",
   "metadata": {
    "collapsed": true
   },
   "source": [
    "* 함수를 호출한다.\n",
    "    * 함수 인자 3과 4는 int이다. double로 형변환이 (자동으로) 일어나고 있다.\n",
    "    * 결과는 int가 아닌 double 4.0로 출력된다."
   ]
  },
  {
   "cell_type": "code",
   "execution_count": 21,
   "metadata": {
    "collapsed": false
   },
   "outputs": [
    {
     "name": "stdout",
     "output_type": "stream",
     "text": [
      " larger(3,4);\r\n",
      "4.0\r\n",
      "\r\n"
     ]
    }
   ],
   "source": [
    "larger(3,4);"
   ]
  },
  {
   "cell_type": "code",
   "execution_count": 1,
   "metadata": {
    "collapsed": false
   },
   "outputs": [
    {
     "name": "stdout",
     "output_type": "stream",
     "text": [
      " double larger(double x, double y) {\r\n",
      "     if(x>=y)\r\n",
      "         return x;\r\n",
      "     else\r\n",
      "         return y;\r\n",
      " }\r\n",
      "|  Added method larger(double,double)\r\n",
      "\r\n"
     ]
    }
   ],
   "source": [
    "double larger(double x, double y) {\n",
    "    if(x>=y)\n",
    "        return x;\n",
    "    else\n",
    "        return y;\n",
    "}"
   ]
  },
  {
   "cell_type": "code",
   "execution_count": 2,
   "metadata": {
    "collapsed": false,
    "scrolled": true
   },
   "outputs": [
    {
     "name": "stdout",
     "output_type": "stream",
     "text": [
      " double result=larger(10,20);\r\n",
      "|  Added variable result of type double with initial value 20.0\r\n",
      "\r\n",
      " System.out.println(result);\r\n",
      "20.0\r\n",
      "\r\n"
     ]
    }
   ],
   "source": [
    "double result=larger(10,20);\n",
    "System.out.println(result);"
   ]
  },
  {
   "cell_type": "markdown",
   "metadata": {
    "collapsed": true
   },
   "source": [
    "* 구조적 함수\n",
    "    * 흐름을 중간에 끝내지 않는 것이 좋다. 반환은 한 번만 한다.\n",
    "    * break, continue, goto 이런 명령어는 명령문 실행순서를 뒤바꾸게 된다."
   ]
  },
  {
   "cell_type": "code",
   "execution_count": 22,
   "metadata": {
    "collapsed": false
   },
   "outputs": [
    {
     "name": "stdout",
     "output_type": "stream",
     "text": [
      " double larger(double x, double y) {\r\n",
      "     double larger;\r\n",
      "     if(x>=y)\r\n",
      "         larger=x;\r\n",
      "     else\r\n",
      "         larger=y;\r\n",
      "     return larger;\r\n",
      " }\r\n",
      "|  Replaced method larger(double,double)\r\n",
      "|    Update overwrote method larger(double,double)\r\n",
      "\r\n"
     ]
    }
   ],
   "source": [
    "double larger(double x, double y) {\n",
    "    double larger;\n",
    "    if(x>=y)\n",
    "        larger=x;\n",
    "    else\n",
    "        larger=y;\n",
    "    return larger;\n",
    "}"
   ]
  },
  {
   "cell_type": "markdown",
   "metadata": {
    "collapsed": true
   },
   "source": [
    "###  값과 객체를 함수에 넘겨주기 (hfj:78)\n",
    "\n",
    "* 문자를 넘겨 받아서 이름 출력하기\n",
    "* 객체를 넘겨 받아서 이름 출력하기\n"
   ]
  },
  {
   "cell_type": "code",
   "execution_count": 9,
   "metadata": {
    "collapsed": false
   },
   "outputs": [
    {
     "name": "stdout",
     "output_type": "stream",
     "text": [
      " void tellUsYourName(String name) {\r\n",
      "     System.out.println(\"Hi, my name is \" + name);\r\n",
      " }\r\n",
      "|  Modified method tellUsYourName(String)\r\n",
      "|    Update overwrote method tellUsYourName(String)\r\n",
      "\r\n"
     ]
    }
   ],
   "source": [
    "void tellUsYourName(String name) {\n",
    "    System.out.println(\"Hi, my name is \" + name);\n",
    "}"
   ]
  },
  {
   "cell_type": "code",
   "execution_count": 10,
   "metadata": {
    "collapsed": false
   },
   "outputs": [
    {
     "name": "stdout",
     "output_type": "stream",
     "text": [
      " tellUsYourName(\"js\");\r\n",
      "Hi, my name is js\r\n",
      "\r\n"
     ]
    }
   ],
   "source": [
    "tellUsYourName(\"js\");"
   ]
  },
  {
   "cell_type": "markdown",
   "metadata": {
    "collapsed": true
   },
   "source": [
    "* 객체를 넘겨 받아서 이름 출력하기"
   ]
  },
  {
   "cell_type": "code",
   "execution_count": 13,
   "metadata": {
    "collapsed": false
   },
   "outputs": [
    {
     "name": "stdout",
     "output_type": "stream",
     "text": [
      " class Person {\r\n",
      "     private String name;\r\n",
      "     Person(String _name) {\r\n",
      "         this.name=_name;\r\n",
      "     }\r\n",
      "     String getName() {\r\n",
      "         return name;\r\n",
      "     }\r\n",
      " }\r\n",
      "|  Modified class Person\r\n",
      "|    Update overwrote class Person\r\n",
      "\r\n"
     ]
    }
   ],
   "source": [
    "class Person {\n",
    "    private String name;\n",
    "    Person(String _name) {\n",
    "        this.name=_name;\n",
    "    }\n",
    "    String getName() {\n",
    "        return name;\n",
    "    }\n",
    "}"
   ]
  },
  {
   "cell_type": "code",
   "execution_count": 15,
   "metadata": {
    "collapsed": false
   },
   "outputs": [
    {
     "name": "stdout",
     "output_type": "stream",
     "text": [
      " void tellUsPersonName(Person p) {\r\n",
      "     System.out.println(\"Hi, my name is \" + p.getName());\r\n",
      " }\r\n",
      "|  Modified method tellUsPersonName(Person)\r\n",
      "|    Update overwrote method tellUsPersonName(Person)\r\n",
      "\r\n"
     ]
    }
   ],
   "source": [
    "void tellUsPersonName(Person p) {\n",
    "    System.out.println(\"Hi, my name is \" + p.getName());\n",
    "}"
   ]
  },
  {
   "cell_type": "code",
   "execution_count": 16,
   "metadata": {
    "collapsed": false
   },
   "outputs": [
    {
     "name": "stdout",
     "output_type": "stream",
     "text": [
      " Person p=new Person(\"js\");\r\n",
      "|  Modified variable p of type Person with initial value Person@5649fd9b\r\n",
      "|    Update overwrote variable p\r\n",
      "\r\n",
      " tellUsPersonName(p);\r\n",
      "Hi, my name is js\r\n",
      "\r\n"
     ]
    }
   ],
   "source": [
    "Person p=new Person(\"js\");\n",
    "tellUsPersonName(p);"
   ]
  },
  {
   "cell_type": "markdown",
   "metadata": {
    "collapsed": true
   },
   "source": [
    "### 변수의 범위\n",
    "\n",
    "* 함수 내에서의 변수는 존재할 수 있는 범위가 있다.\n",
    "* 함수를 사용하고 나서 함수 내에 선언된 지역변수를 사용하려고 하면 오류가 난다."
   ]
  },
  {
   "cell_type": "code",
   "execution_count": 17,
   "metadata": {
    "collapsed": false
   },
   "outputs": [
    {
     "name": "stdout",
     "output_type": "stream",
     "text": [
      " void tellUsYourName() {\r\n",
      "     String name=\"js\";\r\n",
      "     System.out.println(\"Hi, my name is \" + name);\r\n",
      " }\r\n",
      "|  Added method tellUsYourName()\r\n",
      "\r\n"
     ]
    }
   ],
   "source": [
    "void tellUsYourName() {\n",
    "    String name=\"js\";\n",
    "    System.out.println(\"Hi, my name is \" + name);\n",
    "}"
   ]
  },
  {
   "cell_type": "code",
   "execution_count": 18,
   "metadata": {
    "collapsed": false
   },
   "outputs": [
    {
     "name": "stdout",
     "output_type": "stream",
     "text": [
      " tellUsYourName();\r\n",
      "Hi, my name is js\r\n",
      "\r\n"
     ]
    }
   ],
   "source": [
    "tellUsYourName();"
   ]
  },
  {
   "cell_type": "code",
   "execution_count": 19,
   "metadata": {
    "collapsed": false
   },
   "outputs": [
    {
     "name": "stdout",
     "output_type": "stream",
     "text": [
      " System.out.println(\"Hi, my name is \" + name);\r\n",
      "|  Error:\r\n",
      "|  cannot find symbol\r\n",
      "|    symbol:   variable name\r\n",
      "|  System.out.println(\"Hi, my name is \" + name);\r\n",
      "|                                         ^--^\r\n",
      "\r\n"
     ]
    }
   ],
   "source": [
    "System.out.println(\"Hi, my name is \" + name);"
   ]
  },
  {
   "cell_type": "markdown",
   "metadata": {
    "collapsed": true
   },
   "source": [
    "### 함수의 재사용\n",
    "\n",
    "* 함수를 만드는 이유는 재사용이다.\n",
    "* 함수는 재사용할 수 있다. 부르고 또 부를 수 있다."
   ]
  },
  {
   "cell_type": "code",
   "execution_count": 2,
   "metadata": {
    "collapsed": false
   },
   "outputs": [
    {
     "name": "stdout",
     "output_type": "stream",
     "text": [
      " int calcAreaOfRectangle(int width, int height) {\r\n",
      "     return width*height;\r\n",
      " }\r\n",
      "|  Added method calcAreaOfRectangle(int,int)\r\n",
      "\r\n"
     ]
    }
   ],
   "source": [
    "int calcAreaOfRectangle(int width, int height) {\n",
    "    return width*height;\n",
    "}"
   ]
  },
  {
   "cell_type": "code",
   "execution_count": 3,
   "metadata": {
    "collapsed": false
   },
   "outputs": [
    {
     "name": "stdout",
     "output_type": "stream",
     "text": [
      " calcAreaOfRectangle(4,5);\r\n",
      "|  Expression value is: 20\r\n",
      "|    assigned to temporary variable $3 of type int\r\n",
      "\r\n"
     ]
    }
   ],
   "source": [
    "calcAreaOfRectangle(4,5);"
   ]
  },
  {
   "cell_type": "markdown",
   "metadata": {
    "collapsed": true
   },
   "source": [
    "* 결과 값이 반환되면 받아 놓아야 한다. 왜 그렇지? 어디엔가 사용하려고 (재사용)"
   ]
  },
  {
   "cell_type": "code",
   "execution_count": 4,
   "metadata": {
    "collapsed": false
   },
   "outputs": [
    {
     "name": "stdout",
     "output_type": "stream",
     "text": [
      " int size=calcAreaOfRectangle(4,5);\r\n",
      "|  Added variable size of type int with initial value 20\r\n",
      "\r\n"
     ]
    }
   ],
   "source": [
    "int size=calcAreaOfRectangle(4,5);"
   ]
  },
  {
   "cell_type": "code",
   "execution_count": 12,
   "metadata": {
    "collapsed": false,
    "scrolled": true
   },
   "outputs": [
    {
     "name": "stdout",
     "output_type": "stream",
     "text": [
      " System.out.println(size);\r\n",
      "20\r\n",
      "\r\n"
     ]
    }
   ],
   "source": [
    "System.out.println(size);"
   ]
  },
  {
   "cell_type": "markdown",
   "metadata": {},
   "source": [
    "## 문제 2-5: 사각형 클래스를 만들고, 면적을 계산하기\n",
    "\n",
    "* 클래스를 설계해 보기\n",
    "    * 클래스 후보 생각해보기\n",
    "        * 클래스 후보는 명사에서 고른다 (함수프로그래밍은 동사)\n",
    "            * 클래스 후보: 사각형, 클래스, 면적\n",
    "            * 클래스: 사각형\n",
    "            * 면적은 값만 가지고 있기 때문에 클래스가 될 수 없고, 속성 후보가 된다.\n",
    "    * 속성\n",
    "        * 너비, 높이를 속성으로 넣는다.\n",
    "        * 그러나 면적은 속성으로 포함시키지 않는다. 너비와 높이에서 유추할 수 있기 때문이다.\n",
    "        * 가시성은?\n",
    "    * 면적을 계산하는 함수를 설계해 본다.\n",
    "        * 면적을 계산하는 함수의 이름은?\n",
    "        * 면적을 계산하는 함수의 가시성?\n",
    "        * 면적을 계산하는 함수의 매개변수는?\n",
    "        * 면적을 계산한 후 결과 값을 반환?\n"
   ]
  },
  {
   "cell_type": "markdown",
   "metadata": {
    "collapsed": true
   },
   "source": [
    "* 생각해 볼 문제\n",
    "    * 'calcArea'함수는 위 'calcAreaOfRectangle'함수와 기능은 같지만 이름은 왜 다를까?\n",
    "        * 개체지향은 함수명에서 '...OfRectangle'을 생략할 수 있다.\n",
    "        * 예를 들어, 삼각형의 면적을 계산할 경우:\n",
    "            * 객체지향은 삼각형 객체의 동일한 이름을 가진 함수를 사용하게 된다.\n",
    "            * 함수방식은 'calcAreaOfTriangle'이라고 명명하게 된다.\n",
    "            * 이런 차이는 함수를 사용할 때 객체지향이 보다 편리하게 된다. 또한 다형성을 사용할 수 있게 된다.\n",
    "    * 'calcArea'함수는 위 'calcAreaOfRectangle'함수와 기능은 같지만 인자는 왜 다를까?\n",
    "        * 객체지향은 데이터를 가지고 있기 때문이다. 자신의 데이터를 사용하여 면적을 계산한다.\n",
    "    * 너비, 높이를 변경하는 함수를 만들면 생성자의 너비, 높이를 사용하지 않을 수 있다."
   ]
  },
  {
   "cell_type": "code",
   "execution_count": 1,
   "metadata": {
    "collapsed": true
   },
   "outputs": [],
   "source": [
    "import iplantuml"
   ]
  },
  {
   "cell_type": "code",
   "execution_count": 3,
   "metadata": {
    "collapsed": false
   },
   "outputs": [
    {
     "data": {
      "image/svg+xml": [
       "<svg height=\"103px\" style=\"width:115px;height:103px;\" version=\"1.1\" viewBox=\"0 0 115 103\" width=\"115px\" xmlns=\"http://www.w3.org/2000/svg\" xmlns:xlink=\"http://www.w3.org/1999/xlink\"><defs><filter height=\"300%\" id=\"f1\" width=\"300%\" x=\"-1\" y=\"-1\"><feGaussianBlur result=\"blurOut\" stdDeviation=\"2.0\"/><feColorMatrix in=\"blurOut\" result=\"blurOut2\" type=\"matrix\" values=\"0 0 0 0 0 0 0 0 0 0 0 0 0 0 0 0 0 0 .4 0\"/><feOffset dx=\"4.0\" dy=\"4.0\" in=\"blurOut2\" result=\"blurOut3\"/><feBlend in=\"SourceGraphic\" in2=\"blurOut3\" mode=\"normal\"/></filter></defs><g><rect fill=\"#FEFECE\" filter=\"url(#f1)\" height=\"86.4141\" style=\"stroke: #A80036; stroke-width: 1.5;\" width=\"100\" x=\"6\" y=\"8\"/><ellipse cx=\"23.25\" cy=\"24\" fill=\"#ADD1B2\" rx=\"11\" ry=\"11\" style=\"stroke: #A80036; stroke-width: 1.0;\"/><path d=\"M26.2188,29.6406 Q25.6406,29.9375 25,30.0859 Q24.3594,30.2344 23.6563,30.2344 Q21.1563,30.2344 19.8359,28.5859 Q18.5156,26.9375 18.5156,23.8125 Q18.5156,20.6875 19.8359,19.0313 Q21.1563,17.375 23.6563,17.375 Q24.3594,17.375 25.0078,17.5313 Q25.6563,17.6875 26.2188,17.9844 L26.2188,20.7031 Q25.5938,20.125 25,19.8516 Q24.4063,19.5781 23.7813,19.5781 Q22.4375,19.5781 21.75,20.6484 Q21.0625,21.7188 21.0625,23.8125 Q21.0625,25.9063 21.75,26.9766 Q22.4375,28.0469 23.7813,28.0469 Q24.4063,28.0469 25,27.7734 Q25.5938,27.5 26.2188,26.9219 L26.2188,29.6406 Z \"/><text fill=\"#000000\" font-family=\"sans-serif\" font-size=\"12\" lengthAdjust=\"spacingAndGlyphs\" textLength=\"63\" x=\"37.75\" y=\"28.1543\">Rectangle</text><line style=\"stroke: #A80036; stroke-width: 1.5;\" x1=\"7\" x2=\"105\" y1=\"40\" y2=\"40\"/><rect fill=\"none\" height=\"6\" style=\"stroke: #C82930; stroke-width: 1.0;\" width=\"6\" x=\"14\" y=\"48.9023\"/><text fill=\"#000000\" font-family=\"sans-serif\" font-size=\"11\" lengthAdjust=\"spacingAndGlyphs\" textLength=\"48\" x=\"26\" y=\"54.2104\">width:int</text><rect fill=\"none\" height=\"6\" style=\"stroke: #C82930; stroke-width: 1.0;\" width=\"6\" x=\"14\" y=\"61.707\"/><text fill=\"#000000\" font-family=\"sans-serif\" font-size=\"11\" lengthAdjust=\"spacingAndGlyphs\" textLength=\"53\" x=\"26\" y=\"67.0151\">height:int</text><line style=\"stroke: #A80036; stroke-width: 1.5;\" x1=\"7\" x2=\"105\" y1=\"73.6094\" y2=\"73.6094\"/><ellipse cx=\"17\" cy=\"85.5117\" fill=\"#84BE84\" rx=\"3\" ry=\"3\" style=\"stroke: #038048; stroke-width: 1.0;\"/><text fill=\"#000000\" font-family=\"sans-serif\" font-size=\"11\" lengthAdjust=\"spacingAndGlyphs\" textLength=\"74\" x=\"26\" y=\"87.8198\">calcArea():int</text></g></svg>"
      ],
      "text/plain": [
       "<IPython.core.display.SVG object>"
      ]
     },
     "execution_count": 3,
     "metadata": {},
     "output_type": "execute_result"
    }
   ],
   "source": [
    "%%plantuml\n",
    "@startuml\n",
    "class Rectangle {\n",
    "    -width:int\n",
    "    -height:int\n",
    "    +Rectangle(w:int, h:int)\n",
    "    +calcArea():int\n",
    "}\n",
    "@enduml"
   ]
  },
  {
   "cell_type": "code",
   "execution_count": 6,
   "metadata": {
    "collapsed": false,
    "scrolled": true
   },
   "outputs": [
    {
     "name": "stdout",
     "output_type": "stream",
     "text": [
      " public class Rectangle {\r\n",
      "     private int width;\r\n",
      "     private int height;\r\n",
      "     public Rectangle(int w, int h) {\r\n",
      "         this.width=w;\r\n",
      "         this.height=h;\r\n",
      "     }\r\n",
      "     public int getWidth() {\r\n",
      "         return width;\r\n",
      "     }\r\n",
      "     public int getHeight() {\r\n",
      "         return height;\r\n",
      "     }\r\n",
      "     public int calcArea() {\r\n",
      "         return width*height;\r\n",
      "     }\r\n",
      " }\r\n",
      "|  Warning:\r\n",
      "|  Modifier 'public'  not permitted in top-level declarations, ignored\r\n",
      "|  public class Rectangle {\r\n",
      "|  ^----^\r\n",
      "|  Modified class Rectangle this error is corrected: \r\n",
      "|      Modifier 'public'  not permitted in top-level declarations, ignored\r\n",
      "|      public class Rectangle {\r\n",
      "|      ^----^\r\n",
      "|    Update overwrote class Rectangle\r\n",
      "\r\n"
     ]
    }
   ],
   "source": [
    "public class Rectangle {\n",
    "    private int width;\n",
    "    private int height;\n",
    "    public Rectangle(int w, int h) {\n",
    "        this.width=w;\n",
    "        this.height=h;\n",
    "    }\n",
    "    public int getWidth() {\n",
    "        return width;\n",
    "    }\n",
    "    public int getHeight() {\n",
    "        return height;\n",
    "    }\n",
    "    public int calcArea() {\n",
    "        return width*height;\n",
    "    }\n",
    "}\n"
   ]
  },
  {
   "cell_type": "code",
   "execution_count": 7,
   "metadata": {
    "collapsed": false
   },
   "outputs": [
    {
     "name": "stdout",
     "output_type": "stream",
     "text": [
      " Rectangle r=new Rectangle(3,4);\r\n",
      "|  Added variable r of type Rectangle with initial value Rectangle@57fffcd7\r\n",
      "\r\n",
      " r.calcArea()\r\n",
      "|  Expression value is: 12\r\n",
      "|    assigned to temporary variable $7 of type int\r\n",
      "\r\n"
     ]
    }
   ],
   "source": [
    "Rectangle r=new Rectangle(3,4);\n",
    "r.calcArea();"
   ]
  },
  {
   "cell_type": "markdown",
   "metadata": {},
   "source": [
    "* 사각형의 너비, 높이를 변경하는 함수를 넣어 본다."
   ]
  },
  {
   "cell_type": "code",
   "execution_count": 8,
   "metadata": {
    "collapsed": false
   },
   "outputs": [
    {
     "name": "stdout",
     "output_type": "stream",
     "text": [
      " public class Rectangle {\r\n",
      "     private int width;\r\n",
      "     private int height;\r\n",
      "     public Rectangle(int w, int h) {\r\n",
      "         this.width=w;\r\n",
      "         this.height=h;\r\n",
      "     }\r\n",
      "     public int getWidth() {\r\n",
      "         return width;\r\n",
      "     }\r\n",
      "     public int getHeight() {\r\n",
      "         return height;\r\n",
      "     }\r\n",
      "     public void setHeight(int h) {\r\n",
      "         height=h;\r\n",
      "     }\r\n",
      "     public void setWidth(int newWidth){\r\n",
      "         width = newWidth;\r\n",
      "     }\r\n",
      "     public void setSize(int w, int h){\r\n",
      "         setWidth(w);\r\n",
      "         setHeight(h);\r\n",
      "     }\r\n",
      "     public int calcArea() {\r\n",
      "         return width*height;\r\n",
      "     }\r\n",
      " }\r\n",
      "|  Warning:\r\n",
      "|  Modifier 'public'  not permitted in top-level declarations, ignored\r\n",
      "|  public class Rectangle {\r\n",
      "|  ^----^\r\n",
      "|  Replaced class Rectangle this error is corrected: \r\n",
      "|      Modifier 'public'  not permitted in top-level declarations, ignored\r\n",
      "|      public class Rectangle {\r\n",
      "|      ^----^\r\n",
      "|    Update replaced variable r, reset to null\r\n",
      "|    Update overwrote class Rectangle\r\n",
      "\r\n"
     ]
    }
   ],
   "source": [
    "public class Rectangle {\n",
    "    private int width;\n",
    "    private int height;\n",
    "    public Rectangle(int w, int h) {\n",
    "        this.width=w;\n",
    "        this.height=h;\n",
    "    }\n",
    "    public int getWidth() {\n",
    "        return width;\n",
    "    }\n",
    "    public int getHeight() {\n",
    "        return height;\n",
    "    }\n",
    "    public void setHeight(int h) {\n",
    "        height=h;\n",
    "    }\n",
    "    public void setWidth(int newWidth){\n",
    "        width = newWidth;\n",
    "    }\n",
    "    public void setSize(int w, int h){\n",
    "        setWidth(w);\n",
    "        setHeight(h);\n",
    "    }\n",
    "    public int calcArea() {\n",
    "        return width*height;\n",
    "    }\n",
    "}\n"
   ]
  },
  {
   "cell_type": "code",
   "execution_count": 7,
   "metadata": {
    "collapsed": false
   },
   "outputs": [
    {
     "name": "stdout",
     "output_type": "stream",
     "text": [
      " Rectangle r=new Rectangle(3,4);\r\n",
      "|  Added variable r of type Rectangle with initial value Rectangle@57fffcd7\r\n",
      "\r\n",
      " r.calcArea()\r\n",
      "|  Expression value is: 12\r\n",
      "|    assigned to temporary variable $7 of type int\r\n",
      "\r\n"
     ]
    }
   ],
   "source": [
    "Rectangle r=new Rectangle(3,4);\n",
    "r.calcArea();"
   ]
  },
  {
   "cell_type": "code",
   "execution_count": 11,
   "metadata": {
    "collapsed": false
   },
   "outputs": [
    {
     "name": "stdout",
     "output_type": "stream",
     "text": [
      " Rectangle r=new Rectangle(3,4);\r\n",
      "|  Modified variable r of type Rectangle with initial value Rectangle@25bbe1b6\r\n",
      "|    Update overwrote variable r\r\n",
      "\r\n",
      " System.out.println(\"면적: \"+r.calcArea());\r\n",
      "면적: 12\r\n",
      "\r\n",
      " r.setSize(4,5);\r\n",
      "\r\n",
      " System.out.println(\"면적: \"+r.calcArea());\r\n",
      "면적: 20\r\n",
      "\r\n"
     ]
    }
   ],
   "source": [
    "Rectangle r=new Rectangle(3,4);\n",
    "System.out.println(\"면적: \"+r.calcArea());\n",
    "r.setSize(4,5);\n",
    "System.out.println(\"면적: \"+r.calcArea());"
   ]
  },
  {
   "cell_type": "markdown",
   "metadata": {},
   "source": [
    "## 문제 2-6: 문장을 생성하기 phrase-o-matic\n",
    "\n",
    "* hfj ch01/PhraseOMatic.java\n",
    "* 변수는 하나를 저장하면, 다른 것은 저장하지 못한다. 2번째 저장하면 덮어쓴다.\n",
    "* array는 여러 값을 저장할 수 있다 (나중에 자세하게 학습)\n",
    "* java에서 제공하는 'Math' 라이브러리 사용"
   ]
  },
  {
   "cell_type": "code",
   "execution_count": 9,
   "metadata": {
    "collapsed": false
   },
   "outputs": [
    {
     "name": "stdout",
     "output_type": "stream",
     "text": [
      " class PhraseOMatic {\r\n",
      "     public void makePhrase() {\r\n",
      "         String[] wordListOne = {\"24/7\", \"multi-Tier\", \"30,000 foot\", \"B-to-B\" \r",
      ",\r\n",
      "                 \"win-win\", \"front-end\", \"web-based\", \"pervasive\", \"smart\", \"s \r",
      "ix-sigma\",\r\n",
      "                 \"critical-path\", \"dynamic\"};\r\n",
      "         String[] wordListTwo = {\"empowered\", \"sticky\", \"value-added\", \"orient \r",
      "ed\", \"centric\",\r\n",
      "                 \"distributed\", \"clustered\", \"branded\", \"outside-the-box\", \"po \r",
      "sitioned\", \"networked\",\r\n",
      "                 \"focused\", \"leveraged\", \"aligned\", \"targeted\", \"shared\", \"coo \r",
      "perative\", \"accelerated\"};\r\n",
      "         String[] wordListThree = {\"process\", \"tipping-point\", \"solution\", \"ar \r",
      "chitecture\", \"core competency\",\r\n",
      "                 \"strategy\", \"mindshare\", \"portal\", \"space\", \"vision\", \"paradi \r",
      "gm\", \"mission\"};\r\n",
      "         int oneLength = wordListOne.length;\r\n",
      "         int twoLength = wordListTwo.length;\r\n",
      "         int threeLength = wordListThree.length;\r\n",
      "         int rand1 = (int) (Math.random() * oneLength);\r\n",
      "         int rand2 = (int) (Math.random() * twoLength);\r\n",
      "         int rand3 = (int) (Math.random() * threeLength);\r\n",
      "     \r\n",
      "         String phrase = wordListOne[rand1] + \" \" + wordListTwo[rand2] + \" \" + \r",
      " wordListThree[rand3];\r\n",
      "         System.out.println(\"What we need is a \" + phrase);\r\n",
      "     }   \r\n",
      " }\r\n",
      "|  Modified class PhraseOMatic\r\n",
      "|    Update overwrote class PhraseOMatic\r\n",
      "\r\n"
     ]
    }
   ],
   "source": [
    "class PhraseOMatic {\n",
    "    public void makePhrase() {\n",
    "        String[] wordListOne = {\"24/7\", \"multi-Tier\", \"30,000 foot\", \"B-to-B\",\n",
    "                \"win-win\", \"front-end\", \"web-based\", \"pervasive\", \"smart\", \"six-sigma\",\n",
    "                \"critical-path\", \"dynamic\"};\n",
    "        String[] wordListTwo = {\"empowered\", \"sticky\", \"value-added\", \"oriented\", \"centric\",\n",
    "                \"distributed\", \"clustered\", \"branded\", \"outside-the-box\", \"positioned\", \"networked\",\n",
    "                \"focused\", \"leveraged\", \"aligned\", \"targeted\", \"shared\", \"cooperative\", \"accelerated\"};\n",
    "        String[] wordListThree = {\"process\", \"tipping-point\", \"solution\", \"architecture\", \"core competency\",\n",
    "                \"strategy\", \"mindshare\", \"portal\", \"space\", \"vision\", \"paradigm\", \"mission\"};\n",
    "        int oneLength = wordListOne.length;\n",
    "        int twoLength = wordListTwo.length;\n",
    "        int threeLength = wordListThree.length;\n",
    "        int rand1 = (int) (Math.random() * oneLength);\n",
    "        int rand2 = (int) (Math.random() * twoLength);\n",
    "        int rand3 = (int) (Math.random() * threeLength);\n",
    "    \n",
    "        String phrase = wordListOne[rand1] + \" \" + wordListTwo[rand2] + \" \" + wordListThree[rand3];\n",
    "        System.out.println(\"What we need is a \" + phrase);\n",
    "    }   \n",
    "}"
   ]
  },
  {
   "cell_type": "code",
   "execution_count": 12,
   "metadata": {
    "collapsed": false
   },
   "outputs": [
    {
     "name": "stdout",
     "output_type": "stream",
     "text": [
      " PhraseOMatic p=new PhraseOMatic();\r\n",
      "|  Modified variable p of type PhraseOMatic with initial value PhraseOMatic@7e0b0338\r\n",
      "|    Update overwrote variable p\r\n",
      "\r\n",
      " p.makePhrase();\r\n",
      "What we need is a smart positioned mindshare\r\n",
      "\r\n"
     ]
    }
   ],
   "source": [
    "PhraseOMatic p=new PhraseOMatic();\n",
    "p.makePhrase();"
   ]
  },
  {
   "cell_type": "markdown",
   "metadata": {},
   "source": [
    "## 미니 프로젝트 문제: dice game\n",
    "\n",
    "* 문제\n",
    "    * 2사람이 게임을 한다.\n",
    "    * 주사위를 각 1번씩 던진다.\n",
    "    * 큰 수가 나온 사람이 이긴다.\n",
    "    * 이긴 사람의 이름을 출력한다. (과제에서는 이긴 사람에게 점수를 주고, 점수 순으로 출력한다)\n",
    "\n",
    "* 추가 요구사항\n",
    "    * 화면을 만든다 (GUI는 강의 후반부에 학습).\n",
    "    * 게임 Player의 이름을 입력 받는다.\n",
    "    * 주사위는 2번 던진다.\n",
    "    * 이긴 사람은 점수를 받는다.\n",
    "    * 경기 시간, players, 점수를 기록하고 정렬하여 순서대로 출력한다.\n",
    "    * 윷놀이를 할 수 있다. (상속)"
   ]
  },
  {
   "cell_type": "markdown",
   "metadata": {},
   "source": [
    "### dice"
   ]
  },
  {
   "cell_type": "code",
   "execution_count": 1,
   "metadata": {
    "collapsed": false
   },
   "outputs": [],
   "source": [
    "import iplantuml"
   ]
  },
  {
   "cell_type": "code",
   "execution_count": 2,
   "metadata": {
    "collapsed": false
   },
   "outputs": [
    {
     "data": {
      "image/svg+xml": [
       "<svg height=\"90px\" style=\"width:105px;height:90px;\" version=\"1.1\" viewBox=\"0 0 105 90\" width=\"105px\" xmlns=\"http://www.w3.org/2000/svg\" xmlns:xlink=\"http://www.w3.org/1999/xlink\"><defs><filter height=\"300%\" id=\"f1\" width=\"300%\" x=\"-1\" y=\"-1\"><feGaussianBlur result=\"blurOut\" stdDeviation=\"2.0\"/><feColorMatrix in=\"blurOut\" result=\"blurOut2\" type=\"matrix\" values=\"0 0 0 0 0 0 0 0 0 0 0 0 0 0 0 0 0 0 .4 0\"/><feOffset dx=\"4.0\" dy=\"4.0\" in=\"blurOut2\" result=\"blurOut3\"/><feBlend in=\"SourceGraphic\" in2=\"blurOut3\" mode=\"normal\"/></filter></defs><g><rect fill=\"#FEFECE\" filter=\"url(#f1)\" height=\"73.6094\" style=\"stroke: #A80036; stroke-width: 1.5;\" width=\"90\" x=\"6\" y=\"8\"/><ellipse cx=\"34.95\" cy=\"24\" fill=\"#ADD1B2\" rx=\"11\" ry=\"11\" style=\"stroke: #A80036; stroke-width: 1.0;\"/><path d=\"M37.9188,29.6406 Q37.3406,29.9375 36.7,30.0859 Q36.0594,30.2344 35.3563,30.2344 Q32.8563,30.2344 31.5359,28.5859 Q30.2156,26.9375 30.2156,23.8125 Q30.2156,20.6875 31.5359,19.0313 Q32.8563,17.375 35.3563,17.375 Q36.0594,17.375 36.7078,17.5313 Q37.3563,17.6875 37.9188,17.9844 L37.9188,20.7031 Q37.2938,20.125 36.7,19.8516 Q36.1063,19.5781 35.4813,19.5781 Q34.1375,19.5781 33.45,20.6484 Q32.7625,21.7188 32.7625,23.8125 Q32.7625,25.9063 33.45,26.9766 Q34.1375,28.0469 35.4813,28.0469 Q36.1063,28.0469 36.7,27.7734 Q37.2938,27.5 37.9188,26.9219 L37.9188,29.6406 Z \"/><text fill=\"#000000\" font-family=\"sans-serif\" font-size=\"12\" lengthAdjust=\"spacingAndGlyphs\" textLength=\"27\" x=\"52.05\" y=\"28.1543\">Dice</text><line style=\"stroke: #A80036; stroke-width: 1.5;\" x1=\"7\" x2=\"95\" y1=\"40\" y2=\"40\"/><text fill=\"#000000\" font-family=\"sans-serif\" font-size=\"11\" lengthAdjust=\"spacingAndGlyphs\" textLength=\"78\" x=\"12\" y=\"54.2104\">number:int=0</text><line style=\"stroke: #A80036; stroke-width: 1.5;\" x1=\"7\" x2=\"95\" y1=\"60.8047\" y2=\"60.8047\"/><ellipse cx=\"17\" cy=\"72.707\" fill=\"#84BE84\" rx=\"3\" ry=\"3\" style=\"stroke: #038048; stroke-width: 1.0;\"/><text fill=\"#000000\" font-family=\"sans-serif\" font-size=\"11\" lengthAdjust=\"spacingAndGlyphs\" textLength=\"53\" x=\"26\" y=\"75.0151\">roll():void</text></g></svg>"
      ],
      "text/plain": [
       "<IPython.core.display.SVG object>"
      ]
     },
     "execution_count": 2,
     "metadata": {},
     "output_type": "execute_result"
    }
   ],
   "source": [
    "%%plantuml\n",
    "@startuml\n",
    "class Dice {\n",
    "    number:int=0\n",
    "    +roll():void\n",
    "}\n",
    "@enduml"
   ]
  },
  {
   "cell_type": "code",
   "execution_count": 34,
   "metadata": {
    "collapsed": false
   },
   "outputs": [
    {
     "name": "stdout",
     "output_type": "stream",
     "text": [
      " class dice {\r\n",
      "     int number = 0;\r\n",
      "     public void roll() {   \r\n",
      "         number = (int) (Math.random() * 6);\r\n",
      "         System.out.println(\"Turn on \" + number);\r\n",
      "     }   \r\n",
      " }\r\n",
      "|  Modified class dice\r\n",
      "|    Update overwrote class dice\r\n",
      "\r\n"
     ]
    }
   ],
   "source": [
    "class dice {\n",
    "    int number = 0;\n",
    "    public void roll() {   \n",
    "        number = (int) (Math.random() * 6);\n",
    "        System.out.println(\"turns on \" + number);\n",
    "    }   \n",
    "}"
   ]
  },
  {
   "cell_type": "code",
   "execution_count": 32,
   "metadata": {
    "collapsed": false
   },
   "outputs": [
    {
     "name": "stdout",
     "output_type": "stream",
     "text": [
      " dice d=new dice();\r\n",
      "|  Modified variable d of type dice with initial value dice@7791a895\r\n",
      "|    Update overwrote variable d\r\n",
      "\r\n",
      " for(int i=0; i<10;i++)\r\n",
      "     d.roll()\r\n",
      "Turn on 3\r\n",
      "Turn on 2\r\n",
      "Turn on 5\r\n",
      "Turn on 5\r\n",
      "Turn on 3\r\n",
      "Turn on 2\r\n",
      "Turn on 2\r\n",
      "Turn on 0\r\n",
      "Turn on 2\r\n",
      "Turn on 4\r\n",
      "\r\n"
     ]
    }
   ],
   "source": [
    "dice d=new dice();\n",
    "for(int i=0; i<10;i++)\n",
    "    d.roll()"
   ]
  },
  {
   "cell_type": "markdown",
   "metadata": {},
   "source": [
    "### player와 dice 수정하기"
   ]
  },
  {
   "cell_type": "code",
   "execution_count": 3,
   "metadata": {
    "collapsed": false
   },
   "outputs": [
    {
     "data": {
      "image/svg+xml": [
       "<svg height=\"90px\" style=\"width:185px;height:90px;\" version=\"1.1\" viewBox=\"0 0 185 90\" width=\"185px\" xmlns=\"http://www.w3.org/2000/svg\" xmlns:xlink=\"http://www.w3.org/1999/xlink\"><defs><filter height=\"300%\" id=\"f1\" width=\"300%\" x=\"-1\" y=\"-1\"><feGaussianBlur result=\"blurOut\" stdDeviation=\"2.0\"/><feColorMatrix in=\"blurOut\" result=\"blurOut2\" type=\"matrix\" values=\"0 0 0 0 0 0 0 0 0 0 0 0 0 0 0 0 0 0 .4 0\"/><feOffset dx=\"4.0\" dy=\"4.0\" in=\"blurOut2\" result=\"blurOut3\"/><feBlend in=\"SourceGraphic\" in2=\"blurOut3\" mode=\"normal\"/></filter></defs><g><rect fill=\"#FEFECE\" filter=\"url(#f1)\" height=\"48\" style=\"stroke: #A80036; stroke-width: 1.5;\" width=\"70\" x=\"6\" y=\"21\"/><ellipse cx=\"21\" cy=\"37\" fill=\"#ADD1B2\" rx=\"11\" ry=\"11\" style=\"stroke: #A80036; stroke-width: 1.0;\"/><path d=\"M23.9688,42.6406 Q23.3906,42.9375 22.75,43.0859 Q22.1094,43.2344 21.4063,43.2344 Q18.9063,43.2344 17.5859,41.5859 Q16.2656,39.9375 16.2656,36.8125 Q16.2656,33.6875 17.5859,32.0313 Q18.9063,30.375 21.4063,30.375 Q22.1094,30.375 22.7578,30.5313 Q23.4063,30.6875 23.9688,30.9844 L23.9688,33.7031 Q23.3438,33.125 22.75,32.8516 Q22.1563,32.5781 21.5313,32.5781 Q20.1875,32.5781 19.5,33.6484 Q18.8125,34.7188 18.8125,36.8125 Q18.8125,38.9063 19.5,39.9766 Q20.1875,41.0469 21.5313,41.0469 Q22.1563,41.0469 22.75,40.7734 Q23.3438,40.5 23.9688,39.9219 L23.9688,42.6406 Z \"/><text fill=\"#000000\" font-family=\"sans-serif\" font-size=\"12\" lengthAdjust=\"spacingAndGlyphs\" textLength=\"38\" x=\"35\" y=\"41.1543\">Player</text><line style=\"stroke: #A80036; stroke-width: 1.5;\" x1=\"7\" x2=\"75\" y1=\"53\" y2=\"53\"/><line style=\"stroke: #A80036; stroke-width: 1.5;\" x1=\"7\" x2=\"75\" y1=\"61\" y2=\"61\"/><rect fill=\"#FEFECE\" filter=\"url(#f1)\" height=\"73.6094\" style=\"stroke: #A80036; stroke-width: 1.5;\" width=\"65\" x=\"111.5\" y=\"8\"/><ellipse cx=\"129.2\" cy=\"24\" fill=\"#ADD1B2\" rx=\"11\" ry=\"11\" style=\"stroke: #A80036; stroke-width: 1.0;\"/><path d=\"M132.1688,29.6406 Q131.5906,29.9375 130.95,30.0859 Q130.3094,30.2344 129.6063,30.2344 Q127.1062,30.2344 125.7859,28.5859 Q124.4656,26.9375 124.4656,23.8125 Q124.4656,20.6875 125.7859,19.0313 Q127.1062,17.375 129.6063,17.375 Q130.3094,17.375 130.9578,17.5313 Q131.6063,17.6875 132.1688,17.9844 L132.1688,20.7031 Q131.5438,20.125 130.95,19.8516 Q130.3563,19.5781 129.7313,19.5781 Q128.3875,19.5781 127.7,20.6484 Q127.0125,21.7188 127.0125,23.8125 Q127.0125,25.9063 127.7,26.9766 Q128.3875,28.0469 129.7313,28.0469 Q130.3563,28.0469 130.95,27.7734 Q131.5438,27.5 132.1688,26.9219 L132.1688,29.6406 Z \"/><text fill=\"#000000\" font-family=\"sans-serif\" font-size=\"12\" lengthAdjust=\"spacingAndGlyphs\" textLength=\"27\" x=\"143.8\" y=\"28.1543\">Dice</text><line style=\"stroke: #A80036; stroke-width: 1.5;\" x1=\"112.5\" x2=\"175.5\" y1=\"40\" y2=\"40\"/><text fill=\"#000000\" font-family=\"sans-serif\" font-size=\"11\" lengthAdjust=\"spacingAndGlyphs\" textLength=\"43\" x=\"117.5\" y=\"54.2104\">num:int</text><line style=\"stroke: #A80036; stroke-width: 1.5;\" x1=\"112.5\" x2=\"175.5\" y1=\"60.8047\" y2=\"60.8047\"/><text fill=\"#000000\" font-family=\"sans-serif\" font-size=\"11\" lengthAdjust=\"spacingAndGlyphs\" textLength=\"53\" x=\"117.5\" y=\"75.0151\">roll():void</text><path d=\"M76.0039,45 C86.0314,45 96.0588,45 106.086,45 \" fill=\"none\" style=\"stroke: #A80036; stroke-width: 1.0; stroke-dasharray: 7.0,7.0;\"/><polygon fill=\"#A80036\" points=\"111.33,45,102.33,41,106.33,45,102.33,49,111.33,45\" style=\"stroke: #A80036; stroke-width: 1.0;\"/></g></svg>"
      ],
      "text/plain": [
       "<IPython.core.display.SVG object>"
      ]
     },
     "execution_count": 3,
     "metadata": {},
     "output_type": "execute_result"
    }
   ],
   "source": [
    "%%plantuml\n",
    "@startuml\n",
    "class Dice {\n",
    "    number:int\n",
    "    +roll():void\n",
    "}\n",
    "class Player {\n",
    "    name:String\n",
    "    num:int=0\n",
    "    +Player(n:String)\n",
    "    +play():void\n",
    "}\n",
    "Player .right.> Dice\n",
    "@enduml"
   ]
  },
  {
   "cell_type": "markdown",
   "metadata": {},
   "source": [
    "* dice를 roll()하고 얻은 수를 가져올 때 오류"
   ]
  },
  {
   "cell_type": "code",
   "execution_count": 33,
   "metadata": {
    "collapsed": false
   },
   "outputs": [
    {
     "name": "stdout",
     "output_type": "stream",
     "text": [
      " public class Player {\r\n",
      "     String name=null;\r\n",
      "     int num=0;\r\n",
      "     public Player(String _name) {\r\n",
      "         name=_name;\r\n",
      "     }\r\n",
      "     public void play() {\r\n",
      "         dice d=new dice();\r\n",
      "         num=d.roll();\r\n",
      "     }\r\n",
      " }\r\n",
      "|  Error:\r\n",
      "|  incompatible types: void cannot be converted to int\r\n",
      "|          num=d.roll();\r\n",
      "|              ^------^\r\n",
      "|  Warning:\r\n",
      "|  Modifier 'public'  not permitted in top-level declarations, ignored\r\n",
      "|  public class Player {\r\n",
      "|  ^----^\r\n",
      "|    Update overwrote class Player\r\n",
      "\r\n"
     ]
    }
   ],
   "source": [
    "public class Player {\n",
    "    String name=null;\n",
    "    int num=0;\n",
    "    public Player(String _name) {\n",
    "        name=_name;\n",
    "    }\n",
    "    public void play() {\n",
    "        dice d=new dice();\n",
    "        num=d.roll();\n",
    "    }\n",
    "}"
   ]
  },
  {
   "cell_type": "markdown",
   "metadata": {
    "collapsed": true
   },
   "source": [
    "* class dice에 결과 가져오는 함수 추가하기\n",
    "* 그에 맞추어서 player 수정하기"
   ]
  },
  {
   "cell_type": "code",
   "execution_count": 1,
   "metadata": {
    "collapsed": false
   },
   "outputs": [
    {
     "name": "stdout",
     "output_type": "stream",
     "text": [
      " class dice {\r\n",
      "     private int number = 0;\r\n",
      "     public void roll() {   \r\n",
      "         number = (int) (Math.random() * 6);\r\n",
      "         System.out.println(\"Turn on \" + number);\r\n",
      "     }\r\n",
      "     public int getNum() {\r\n",
      "         return this.number;\r\n",
      "     }\r\n",
      " }\r\n",
      "|  Added class dice\r\n",
      "\r\n"
     ]
    }
   ],
   "source": [
    "class dice {\n",
    "    private int number = 0;\n",
    "    public void roll() {   \n",
    "        number = (int) (Math.random() * 6);\n",
    "        System.out.println(\"Turn on \" + number);\n",
    "    }\n",
    "    public int getNum() {\n",
    "        return this.number;\n",
    "    }\n",
    "}"
   ]
  },
  {
   "cell_type": "code",
   "execution_count": 4,
   "metadata": {
    "collapsed": false
   },
   "outputs": [
    {
     "name": "stdout",
     "output_type": "stream",
     "text": [
      " public class Player {\r\n",
      "     private String name=null;\r\n",
      "     int num=0;\r\n",
      "     public Player(String _name) {\r\n",
      "         name=_name;\r\n",
      "     }\r\n",
      "     public void play() {\r\n",
      "         dice d=new dice();\r\n",
      "         //num=d.roll();\r\n",
      "         d.roll();\r\n",
      "         num=d.getNum();\r\n",
      "     }\r\n",
      "     public String getName() {\r\n",
      "         return this.name;\r\n",
      "     }\r\n",
      "     public int getNum() {\r\n",
      "         return this.num;\r\n",
      "     }\r\n",
      " }\r\n",
      "|  Warning:\r\n",
      "|  Modifier 'public'  not permitted in top-level declarations, ignored\r\n",
      "|  public class Player {\r\n",
      "|  ^----^\r\n",
      "|  Replaced class Player this error is corrected: \r\n",
      "|      Modifier 'public'  not permitted in top-level declarations, ignored\r\n",
      "|      public class Player {\r\n",
      "|      ^----^\r\n",
      "|    Update replaced variable p, reset to null\r\n",
      "|    Update overwrote class Player\r\n",
      "\r\n"
     ]
    }
   ],
   "source": [
    "public class Player {\n",
    "    private String name=null;\n",
    "    int num=0;\n",
    "    public Player(String _name) {\n",
    "        name=_name;\n",
    "    }\n",
    "    public void play() {\n",
    "        dice d=new dice();\n",
    "        //num=d.roll();\n",
    "        d.roll();\n",
    "        num=d.getNum();\n",
    "    }\n",
    "    public String getName() {\n",
    "        return this.name;\n",
    "    }\n",
    "    public int getNum() {\n",
    "        return this.num;\n",
    "    }\n",
    "}"
   ]
  },
  {
   "cell_type": "code",
   "execution_count": 3,
   "metadata": {
    "collapsed": false
   },
   "outputs": [
    {
     "name": "stdout",
     "output_type": "stream",
     "text": [
      " Player p=new Player(\"js\");\r\n",
      "|  Added variable p of type Player with initial value Player@57fffcd7\r\n",
      "\r\n",
      " p.play();\r\n",
      "Turn on 2\r\n",
      "\r\n"
     ]
    }
   ],
   "source": [
    "Player p=new Player(\"js\");\n",
    "p.play();"
   ]
  },
  {
   "cell_type": "markdown",
   "metadata": {},
   "source": [
    "### game"
   ]
  },
  {
   "cell_type": "code",
   "execution_count": 13,
   "metadata": {
    "collapsed": true
   },
   "outputs": [],
   "source": [
    "import iplantuml"
   ]
  },
  {
   "cell_type": "code",
   "execution_count": 16,
   "metadata": {
    "collapsed": false
   },
   "outputs": [
    {
     "data": {
      "image/svg+xml": [
       "<svg height=\"65px\" style=\"width:310px;height:65px;\" version=\"1.1\" viewBox=\"0 0 310 65\" width=\"310px\" xmlns=\"http://www.w3.org/2000/svg\" xmlns:xlink=\"http://www.w3.org/1999/xlink\"><defs><filter height=\"300%\" id=\"f1\" width=\"300%\" x=\"-1\" y=\"-1\"><feGaussianBlur result=\"blurOut\" stdDeviation=\"2.0\"/><feColorMatrix in=\"blurOut\" result=\"blurOut2\" type=\"matrix\" values=\"0 0 0 0 0 0 0 0 0 0 0 0 0 0 0 0 0 0 .4 0\"/><feOffset dx=\"4.0\" dy=\"4.0\" in=\"blurOut2\" result=\"blurOut3\"/><feBlend in=\"SourceGraphic\" in2=\"blurOut3\" mode=\"normal\"/></filter></defs><g><rect fill=\"#FEFECE\" filter=\"url(#f1)\" height=\"48\" style=\"stroke: #A80036; stroke-width: 1.5;\" width=\"70\" x=\"136.5\" y=\"8\"/><ellipse cx=\"151.5\" cy=\"24\" fill=\"#ADD1B2\" rx=\"11\" ry=\"11\" style=\"stroke: #A80036; stroke-width: 1.0;\"/><path d=\"M154.4688,29.6406 Q153.8906,29.9375 153.25,30.0859 Q152.6094,30.2344 151.9063,30.2344 Q149.4063,30.2344 148.0859,28.5859 Q146.7656,26.9375 146.7656,23.8125 Q146.7656,20.6875 148.0859,19.0313 Q149.4063,17.375 151.9063,17.375 Q152.6094,17.375 153.2578,17.5313 Q153.9063,17.6875 154.4688,17.9844 L154.4688,20.7031 Q153.8438,20.125 153.25,19.8516 Q152.6563,19.5781 152.0313,19.5781 Q150.6875,19.5781 150,20.6484 Q149.3125,21.7188 149.3125,23.8125 Q149.3125,25.9063 150,26.9766 Q150.6875,28.0469 152.0313,28.0469 Q152.6563,28.0469 153.25,27.7734 Q153.8438,27.5 154.4688,26.9219 L154.4688,29.6406 Z \"/><text fill=\"#000000\" font-family=\"sans-serif\" font-size=\"12\" lengthAdjust=\"spacingAndGlyphs\" textLength=\"38\" x=\"165.5\" y=\"28.1543\">Player</text><line style=\"stroke: #A80036; stroke-width: 1.5;\" x1=\"137.5\" x2=\"205.5\" y1=\"40\" y2=\"40\"/><line style=\"stroke: #A80036; stroke-width: 1.5;\" x1=\"137.5\" x2=\"205.5\" y1=\"48\" y2=\"48\"/><rect fill=\"#FEFECE\" filter=\"url(#f1)\" height=\"48\" style=\"stroke: #A80036; stroke-width: 1.5;\" width=\"59\" x=\"242\" y=\"8\"/><ellipse cx=\"257\" cy=\"24\" fill=\"#ADD1B2\" rx=\"11\" ry=\"11\" style=\"stroke: #A80036; stroke-width: 1.0;\"/><path d=\"M259.9688,29.6406 Q259.3906,29.9375 258.75,30.0859 Q258.1094,30.2344 257.4063,30.2344 Q254.9063,30.2344 253.5859,28.5859 Q252.2656,26.9375 252.2656,23.8125 Q252.2656,20.6875 253.5859,19.0313 Q254.9063,17.375 257.4063,17.375 Q258.1094,17.375 258.7578,17.5313 Q259.4063,17.6875 259.9688,17.9844 L259.9688,20.7031 Q259.3438,20.125 258.75,19.8516 Q258.1563,19.5781 257.5313,19.5781 Q256.1875,19.5781 255.5,20.6484 Q254.8125,21.7188 254.8125,23.8125 Q254.8125,25.9063 255.5,26.9766 Q256.1875,28.0469 257.5313,28.0469 Q258.1563,28.0469 258.75,27.7734 Q259.3438,27.5 259.9688,26.9219 L259.9688,29.6406 Z \"/><text fill=\"#000000\" font-family=\"sans-serif\" font-size=\"12\" lengthAdjust=\"spacingAndGlyphs\" textLength=\"27\" x=\"271\" y=\"28.1543\">Dice</text><line style=\"stroke: #A80036; stroke-width: 1.5;\" x1=\"243\" x2=\"300\" y1=\"40\" y2=\"40\"/><line style=\"stroke: #A80036; stroke-width: 1.5;\" x1=\"243\" x2=\"300\" y1=\"48\" y2=\"48\"/><rect fill=\"#FEFECE\" filter=\"url(#f1)\" height=\"48\" style=\"stroke: #A80036; stroke-width: 1.5;\" width=\"95\" x=\"6\" y=\"8\"/><ellipse cx=\"21\" cy=\"24\" fill=\"#ADD1B2\" rx=\"11\" ry=\"11\" style=\"stroke: #A80036; stroke-width: 1.0;\"/><path d=\"M23.9688,29.6406 Q23.3906,29.9375 22.75,30.0859 Q22.1094,30.2344 21.4063,30.2344 Q18.9063,30.2344 17.5859,28.5859 Q16.2656,26.9375 16.2656,23.8125 Q16.2656,20.6875 17.5859,19.0313 Q18.9063,17.375 21.4063,17.375 Q22.1094,17.375 22.7578,17.5313 Q23.4063,17.6875 23.9688,17.9844 L23.9688,20.7031 Q23.3438,20.125 22.75,19.8516 Q22.1563,19.5781 21.5313,19.5781 Q20.1875,19.5781 19.5,20.6484 Q18.8125,21.7188 18.8125,23.8125 Q18.8125,25.9063 19.5,26.9766 Q20.1875,28.0469 21.5313,28.0469 Q22.1563,28.0469 22.75,27.7734 Q23.3438,27.5 23.9688,26.9219 L23.9688,29.6406 Z \"/><text fill=\"#000000\" font-family=\"sans-serif\" font-size=\"12\" lengthAdjust=\"spacingAndGlyphs\" textLength=\"63\" x=\"35\" y=\"28.1543\">DiceGame</text><line style=\"stroke: #A80036; stroke-width: 1.5;\" x1=\"7\" x2=\"100\" y1=\"40\" y2=\"40\"/><line style=\"stroke: #A80036; stroke-width: 1.5;\" x1=\"7\" x2=\"100\" y1=\"48\" y2=\"48\"/><path d=\"M101.4375,32 C111.381,32 121.325,32 131.269,32 \" fill=\"none\" style=\"stroke: #A80036; stroke-width: 1.0; stroke-dasharray: 7.0,7.0;\"/><polygon fill=\"#A80036\" points=\"136.469,32,127.469,28,131.469,32,127.469,36,136.469,32\" style=\"stroke: #A80036; stroke-width: 1.0;\"/><path d=\"M206.656,32 C216.65,32 226.644,32 236.638,32 \" fill=\"none\" style=\"stroke: #A80036; stroke-width: 1.0; stroke-dasharray: 7.0,7.0;\"/><polygon fill=\"#A80036\" points=\"241.864,32,232.864,28,236.864,32,232.864,36,241.864,32\" style=\"stroke: #A80036; stroke-width: 1.0;\"/></g></svg>"
      ],
      "text/plain": [
       "<IPython.core.display.SVG object>"
      ]
     },
     "execution_count": 16,
     "metadata": {},
     "output_type": "execute_result"
    }
   ],
   "source": [
    "%%plantuml\n",
    "@startuml\n",
    "class Player\n",
    "class Dice\n",
    "class DiceGame\n",
    "DiceGame .right.> Player\n",
    "Player .right.> Dice\n",
    "@enduml"
   ]
  },
  {
   "cell_type": "code",
   "execution_count": 54,
   "metadata": {
    "collapsed": false
   },
   "outputs": [
    {
     "name": "stdout",
     "output_type": "stream",
     "text": [
      " class DiceGame {\r\n",
      "     Player p1;\r\n",
      "     Player p2;\r\n",
      "     public void startGame() {\r\n",
      "         p1 = new Player(\"A\");\r\n",
      "         p2 = new Player(\"B\");\r\n",
      "         p1.play();\r\n",
      "         p2.play();\r\n",
      "         if (p1.getNum() > p2.getNum()) {\r\n",
      "             System.out.println(p1.getName() + \" won\");\r\n",
      "         }\r\n",
      "         else if (p1.getNum() == p2.getNum()) {\r\n",
      "             System.out.println(\" draw\");\r\n",
      "         }\r\n",
      "         else\r\n",
      "             System.out.println(p2.getName() + \" won\");\r\n",
      "     }\r\n",
      " }\r\n",
      "|  Modified class DiceGame\r\n",
      "|    Update overwrote class DiceGame\r\n",
      "\r\n"
     ]
    }
   ],
   "source": [
    "class DiceGame {\n",
    "    Player p1;\n",
    "    Player p2;\n",
    "    public void startGame() {\n",
    "        p1 = new Player(\"A\");\n",
    "        p2 = new Player(\"B\");\n",
    "        p1.play();\n",
    "        p2.play();\n",
    "        if (p1.getNum() > p2.getNum()) {\n",
    "            System.out.println(p1.getName() + \" won\");\n",
    "        }\n",
    "        else if (p1.getNum() == p2.getNum()) {\n",
    "            System.out.println(\" draw\");\n",
    "        }\n",
    "        else\n",
    "            System.out.println(p2.getName() + \" won\");\n",
    "    }\n",
    "}"
   ]
  },
  {
   "cell_type": "code",
   "execution_count": 57,
   "metadata": {
    "collapsed": false
   },
   "outputs": [
    {
     "name": "stdout",
     "output_type": "stream",
     "text": [
      " DiceGame d=new DiceGame();\r\n",
      "|  Modified variable d of type DiceGame with initial value DiceGame@7494e528\r\n",
      "|    Update overwrote variable d\r\n",
      "\r\n",
      " d.startGame();\r\n",
      "Turn on 4\r\n",
      "Turn on 3\r\n",
      "A won\r\n",
      "\r\n"
     ]
    }
   ],
   "source": [
    "DiceGame d=new DiceGame();\n",
    "d.startGame();"
   ]
  }
 ],
 "metadata": {
  "kernelspec": {
   "display_name": "Python 2",
   "language": "python",
   "name": "python2"
  },
  "language_info": {
   "codemirror_mode": {
    "name": "ipython",
    "version": 2
   },
   "file_extension": ".py",
   "mimetype": "text/x-python",
   "name": "python",
   "nbconvert_exporter": "python",
   "pygments_lexer": "ipython2",
   "version": "2.7.12"
  }
 },
 "nbformat": 4,
 "nbformat_minor": 0
}
