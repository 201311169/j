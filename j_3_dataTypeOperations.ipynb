{
 "cells": [
  {
   "cell_type": "markdown",
   "metadata": {
    "slideshow": {
     "slide_type": "slide"
    }
   },
   "source": [
    "# 3. 데이터 타잎과 연산자\n",
    "\n",
    "Last updated 20180309FRI\n",
    "\n",
    "## 2.1 학습내용\n",
    "\n",
    "### 2.1.1 목표\n",
    "\n",
    "* 변수를 선언할 수 있다.\n",
    "* 데이터 타잎을 선언할 수 있다.\n",
    "* 원시타잎과 참조타잎을 사용할 수 있다.\n",
    "* 연산자\n",
    "\n",
    "### 2.1.2 문제\n",
    "\n",
    "* 문제 2-1: Hello 인사하는 프로그램\n",
    "* 문제 2-2: 지하철 클래스를 만들고, 몇 호선인지 정해서 운행하기\n",
    "* 문제 2-3: 커피 원산지를 넣어서, 객체를 생성할 때 원산지를 가지고 있도록 구현한다.\n",
    "* 문제 2-4: 몸무게를 자신 이외에는 알 수 없도록 구현한다.\n",
    "* 문제 2-5: 사각형 클래스를 만들고, 면적을 계산하기\n",
    "* 문제 2-6: 문장을 생성하기 phase-o-matic\n",
    "* 미니 프로젝트 문제: dice game\n",
    "\n",
    "미로 http://crpit.com/confpapers/CRPITV30Nevison.pdf\n"
   ]
  },
  {
   "cell_type": "markdown",
   "metadata": {
    "slideshow": {
     "slide_type": "subslide"
    }
   },
   "source": [
    "## 2.2 variables\n",
    "\n",
    "### 변수는 상자와 같은 저장소\n",
    "\n",
    "변수는 **값의 저장소**이다.\n",
    "저장소는 값의 특성에 따라 차지하는 메모리 공간에 차이가 있다. 값의 특성을 크게 구분하면 숫자와 문자로 나눌 수 있다.\n",
    "* **숫자**는 정수, 음수, 소수 등이 있는데, 서로 특성이 다르고 값의 범위가 다르다.\n",
    "* **문자** 역시 한 글자인지 더 많은 글자를 저장해야 하는지에 따라 필요한 저장공간이 다르다.\n",
    "\n",
    "* 변수는 '상자'로 비유할 수 있다. '상자'에는 이름이 하나씩 적혀 있다. 그 이름을 **변수 명**이라고 한다. 변수명으로 상자 안에 있는 값을 알 수 있다.\n",
    "* '상자'에는 값을 넣어 **저장**할 수 있다.\n",
    "    * 값이 단순한 경우, 보통은 1개만을 저장한다. 그림에서와 같이 상자에는 숫자 175를 가지고 있다. 또는 문자를 가질 수도 있다. 그러나 딱 하나의 값을 저장한다. 주의할 점은 상자에는 그 모양과 다른 것을 넣을 수 없다. 예를 들어, 숫자 상자에는 문자를 넣을 수 없다.\n",
    "    * 다음은 복잡한 값을 가지는 경우이다. 다른 객체 또는 값으로 구성된 그룹을 가질 수도 있다. 이 경우에는 그 복잡한 값 전체를 담는 것이 아니라 그 상자의 이름만을 **참조, reference**로 가진다.\n",
    "\n",
    "![alt text](figures/3_1_variableBox.png \"Title\")"
   ]
  },
  {
   "cell_type": "markdown",
   "metadata": {
    "slideshow": {
     "slide_type": "subslide"
    }
   },
   "source": [
    "\n",
    "### 변수의 선언\n",
    "\n",
    "자바는 **데이터 타잎을 엄격**하게 지키는 언어이다. 이와 같이 변수의 형식을 미리 지정해야하는 이유는 제한된 컴퓨터의 메모리를 효율적으로 사용하기 위해서이다. 따라서 변수를 사용하려면, **반드시 타잎을 정하고 사용**해야 한다. 이를 **선언**, 'declare'라고 한다.\n",
    "타잎을 선언하지 않고는 변수를 사용할 수 없고, 컴파일 언어는 이런 특징을 보통 가진다.\n",
    "\n",
    "```java\n",
    "타잎 변수명[=값];\n",
    "```\n",
    "\n",
    "선언에 쓰이는 요소 | 설명\n",
    "-----|-----\n",
    "타잎 | 원시타잎 또는 클래스로 선언할 수 있다.\n",
    "변수명 | 보통 자바명으로 의미있게 작명한다.\n",
    "값 | 선언할 때 초기화할 수 있고, 정하지 않을 수 있다.\n",
    "\n",
    "#### 타잎\n",
    "\n",
    "타잎은 원시타잎과 클래스로 구분할 수 있다.\n",
    "* 원시타잎은 클래스가 아닌 말 그대로 원시, primitive로 메모리 크기가 정해져 있다.\n",
    "* 클래스는 메모리의 크기가 정해져 있지 않고, 참조를 가진다.\n",
    "\n",
    "> 참조\n",
    "> \n",
    "> 데이터가 실제로 저장되어 있는 장소가 있고, 그 장소를 가리키는 값을 참조라고 한다.\n",
    "> C에서는 포인터 또는 주소라고 한다.\n",
    "> 자바에서는 클래스, 배열과 같이 주로 데이터가 큰 경우 사용된다."
   ]
  },
  {
   "cell_type": "markdown",
   "metadata": {
    "slideshow": {
     "slide_type": "subslide"
    }
   },
   "source": [
    "#### 변수명\n",
    "\n",
    "보통 자바에서 허용되는 규칙에 따라 의미있게 짓는다."
   ]
  },
  {
   "cell_type": "markdown",
   "metadata": {
    "slideshow": {
     "slide_type": "subslide"
    }
   },
   "source": [
    "#### 값\n",
    "\n",
    "값은 선언하면서 혹은 나중에 필요한 시점에 할당할 수 있다.\n",
    "또는 동적으로 나중에 값이 저장될 수 있다.\n",
    "\n",
    "```java\n",
    "int x=1;   //선언하면서 값을 저장한다.\n",
    "\n",
    "int y;\n",
    "y=2;       //선언과 다른 시점에 값을 저장한다.\n",
    "\n",
    "int z;\n",
    "z=x+y;     //x, y값이 실행하면서 변경될 수 있고 그 결과에 따라 값이 동적으로 결정된다.\n",
    "```"
   ]
  },
  {
   "cell_type": "markdown",
   "metadata": {
    "slideshow": {
     "slide_type": "subslide"
    }
   },
   "source": [
    "#### 그리고 사용할 수 있는 수식어\n",
    "\n",
    "수식어 | 설명\n",
    "-----|-----\n",
    "가시성 | public, protected private, \n",
    "값을 변경할 수 없게 할 경우 | final\n",
    "값을 다른 클래스에서 사용할 수 있게 하는 경우 | static\n"
   ]
  },
  {
   "cell_type": "markdown",
   "metadata": {
    "slideshow": {
     "slide_type": "subslide"
    }
   },
   "source": [
    "### 범위\n",
    "\n",
    "자바 변수는 블록 내의 범위에서 값을 가진다.\n",
    "블록 안에서는 밖의 값을 볼 수 있지만, 반대는 아니다.\n",
    "\n",
    "> 블록\n",
    ">\n",
    "> 자바는 {}로 블록의 시작과 끝을 나타낸다.\n",
    "> 블록을 기준으로 안과 밖으로 "
   ]
  },
  {
   "cell_type": "markdown",
   "metadata": {
    "slideshow": {
     "slide_type": "slide"
    }
   },
   "source": [
    "## 2.3 원시 타잎\n",
    "\n",
    "원시타잎, primitive type은 **단순한 값**을 저장하기 때문에 단순 타잎, simple type이라고 한다.\n",
    "정수, 소수, 문자 등과 같이 단순한 값을 저장한다.\n",
    "따라서 아래 표와 같이 메모리의 크기가 정해져 있다.\n",
    "모든 원시타잎 대응되는 클래스가 있다. 원시타잎을 객체로 감싸서 만든 클래스인 wrapper class다.\n",
    "\n",
    "종류 | 메모리 크기 (bits) | 최소~최대 | Wrapper classes\n",
    "-----|-----|-----|-----\n",
    "boolean\t| 8 | TF (2개 값만 필요하지만 8bits 사용) | Boolean\n",
    "char\t| 16 | 0~65535 | Character\n",
    "byte\t| 8 | -128~127 | Byte\n",
    "short\t| 16 | -32768~32767 | Short\n",
    "int\t| 32 | -2147483648~2147483647 | Integer\n",
    "long\t| 64 |-9223372036854775808 ~ 9223372036854775807 | Long\n",
    "float\t| 32 | 1.4E-45~3.4028235E38 | Float\n",
    "double\t| 64 | 4.9E-324~1.7976931348623157E308 | Double\n"
   ]
  },
  {
   "cell_type": "markdown",
   "metadata": {
    "slideshow": {
     "slide_type": "subslide"
    }
   },
   "source": [
    "### 타잎 변환\n",
    "\n",
    "할당연산을 하는 경우, **좌측 타잎과 우측 타잎이 서로 다른 경우** '**타잎 불일치 type mismatch**' 오류가 발생할 수 있다.\n",
    "이러한 경우 **타잎 변환, type conversion**이 강제로 또는 자동으로 일어난다.\n",
    "\n",
    "\n",
    "\n",
    "```java\n",
    "int x=1; //정수 x에 정수 1을 할당하므로 타잎이 서로 일치한다.\n",
    "float x=1; //소수 x에 정수 1을 할당하므로 타잎이 불일치한다. x에는 1을 자동변환하여 1.0이 저장된다.\n",
    "```\n",
    "\n",
    "> '=' 연산자\n",
    "> \n",
    "> '='은 할당 연산자이다.\n",
    "> 예를 들어 x=1 표현식은 우측 '1' 값이 좌측 'x'에 '할당'되는 의미이다.\n",
    "> 또한 수학에서 '='은 '같다 equals'의 의미를 가지기도 한다.\n",
    "> 프로그래밍에서는 이러한 비교연산자로는 '=='를 사용한다.\n",
    "> 즉 'x==1'의 결과는 'true' 또는 'false'이다.\n",
    "\n"
   ]
  },
  {
   "cell_type": "markdown",
   "metadata": {
    "slideshow": {
     "slide_type": "subslide"
    }
   },
   "source": [
    "* 강제 변환: 사용자가 직접 프로그램해야 한다. 대상 타잎을 괄호 안에 적어 준다. 예를 들어 (int) 1.1은 소수를 정수로 강제 변환한다.\n",
    "\n",
    "```java\n",
    "(대상 타잎) 값;\n",
    "소수를 정수로 강제 변환하는 예: (int) 1.1;\n",
    "```\n",
    "\n",
    "* 자동 변환: 사용자가 직접 변환하지 않아도 자동으로 된다. 예를 들어 위 'float x=1'의 경우와 같은 '타잎 불일치'\n",
    "\n",
    "\n",
    "구분 | 타잎 변환\n",
    "-----|-----\n",
    "큰 타잎에서 적은 타잎으로 변환하는 경우 | 데이터 손실이 발생하므로 오류. 적은 타잎으로 사용자가 **강제 변환**해야 한다.\n",
    "적은 타잎에서 큰 타잎으로 변환하는 경우 | **자동변환**이 일어난다. 적은 타잎이 큰 타잎으로 타잎 승격, type promotion이 자동으로 발생한다."
   ]
  },
  {
   "cell_type": "markdown",
   "metadata": {
    "slideshow": {
     "slide_type": "subslide"
    }
   },
   "source": [
    "### 정수 타잎 선언의 예\n",
    "\n",
    "x를 정수형으로 선언하고 값 1을 저장한다."
   ]
  },
  {
   "cell_type": "code",
   "execution_count": 15,
   "metadata": {
    "collapsed": false
   },
   "outputs": [
    {
     "name": "stdout",
     "output_type": "stream",
     "text": [
      " int x = 1;\r\n",
      "|  Modified variable x of type int with initial value 1\r\n",
      "|    Update overwrote variable x\r\n",
      "\r\n"
     ]
    }
   ],
   "source": [
    "int x = 1;"
   ]
  },
  {
   "cell_type": "markdown",
   "metadata": {
    "collapsed": true,
    "slideshow": {
     "slide_type": "subslide"
    }
   },
   "source": [
    "x에 1.1을 넣어보자. 데이터 타잎으로 보면 정수만 넣을 수 있는 박스에 소수를 집어 넣는 것이다.\n",
    "오류메시지를 보면 incompatible types이다.\n",
    "이 경우 정수로 **타잎변환**, type conversion을 분명하게 해야 한다.\n",
    "즉, 형변환을 사용자가 프로그램에서 명시적으로 해야 한다."
   ]
  },
  {
   "cell_type": "code",
   "execution_count": 14,
   "metadata": {
    "collapsed": false
   },
   "outputs": [
    {
     "name": "stdout",
     "output_type": "stream",
     "text": [
      " x=1.1;\r\n",
      "|  Error:\r\n",
      "|  incompatible types: possible lossy conversion from double to int\r\n",
      "|  x=1.1;\r\n",
      "|    ^-^\r\n",
      "\r\n"
     ]
    }
   ],
   "source": [
    "x=1.1;"
   ]
  },
  {
   "cell_type": "code",
   "execution_count": 21,
   "metadata": {
    "collapsed": false
   },
   "outputs": [
    {
     "name": "stdout",
     "output_type": "stream",
     "text": [
      " x=(int)1.1;\r\n",
      "|  Variable x has been assigned the value 1\r\n",
      "\r\n"
     ]
    }
   ],
   "source": [
    "x=(int)1.1;"
   ]
  },
  {
   "cell_type": "code",
   "execution_count": 18,
   "metadata": {
    "collapsed": false,
    "scrolled": true
   },
   "outputs": [
    {
     "name": "stdout",
     "output_type": "stream",
     "text": [
      " x;\r\n",
      "|  Variable x of type int has value 1\r\n",
      "\r\n"
     ]
    }
   ],
   "source": [
    "System.out.println(x);"
   ]
  },
  {
   "cell_type": "markdown",
   "metadata": {
    "collapsed": true
   },
   "source": [
    "* int(32 bits)를 double(64 bits)로 변경해 본다. **자동변환**이 일어난다. 즉 적은 타잎에서 큰 타잎으로 값을 넣기 때문에 자동으로 변환이 일어나는 것이다."
   ]
  },
  {
   "cell_type": "code",
   "execution_count": 1,
   "metadata": {
    "collapsed": false
   },
   "outputs": [
    {
     "name": "stdout",
     "output_type": "stream",
     "text": [
      " int a=123;\r\n",
      "|  Added variable a of type int with initial value 123\r\n",
      "\r\n",
      " double b;\r\n",
      "|  Added variable b of type double\r\n",
      "\r\n",
      " b=a;\r\n",
      "|  Variable b has been assigned the value 123.0\r\n",
      "\r\n"
     ]
    }
   ],
   "source": [
    "int a=123;\n",
    "double b;\n",
    "b=a;"
   ]
  },
  {
   "cell_type": "markdown",
   "metadata": {
    "slideshow": {
     "slide_type": "subslide"
    }
   },
   "source": [
    "### byte 타잎 선언의 예\n",
    "\n",
    "byte 타잎으로 선언하고 값을 넣어보자.\n",
    "주의할 점은 우측 값이 정수라는 점이다. 즉 좌측 'b'는 정수이지만 8비트로 마이너스 128 ~ 플러스 127까지의 범위를 가질 수 있다. 즉 byte의 범위가 -128~127이므로 오류가 발생한다.\n",
    "byte 타잎 'b'에 정수 '1'과 범위 밖인 '128'을 넣어 보자.\n",
    "* '1'을 넣으면 byte 범위에 있으므로 문제가 없다.\n",
    "* '128'은 범위 밖이므로 오류가 발생한다. 오류 메시지를 살펴 보면 'imcompitible types', 즉 타잎 불일치가 발생한다.\n",
    "* 정수 '128'을 byte로 타잎 변환하는 경우, 데이터 손실이 발생하고 값은 마이너스 127이 된다.\n",
    "    * int (32 bits)를 byte (8 bits)로 넣는 경우, 데이터가 손실될 수 있다.\n",
    "    * byte가 사용하는 8 bits 범위 -128~127를 초과하는 수 128을 사용하면 표현할 수 없다."
   ]
  },
  {
   "cell_type": "code",
   "execution_count": 10,
   "metadata": {
    "collapsed": false,
    "scrolled": true,
    "slideshow": {
     "slide_type": "subslide"
    }
   },
   "outputs": [
    {
     "name": "stdout",
     "output_type": "stream",
     "text": [
      " Byte.MAX_VALUE;\r\n",
      "|  Expression value is: 127\r\n",
      "|    assigned to temporary variable $17 of type byte\r\n",
      "\r\n",
      " Byte.MIN_VALUE;\r\n",
      "|  Expression value is: -128\r\n",
      "|    assigned to temporary variable $18 of type byte\r\n",
      "\r\n"
     ]
    }
   ],
   "source": [
    "Byte.MAX_VALUE;\n",
    "Byte.MIN_VALUE;"
   ]
  },
  {
   "cell_type": "code",
   "execution_count": 18,
   "metadata": {
    "collapsed": false,
    "slideshow": {
     "slide_type": "subslide"
    }
   },
   "outputs": [
    {
     "name": "stdout",
     "output_type": "stream",
     "text": [
      " System.out.printf(\"size:%-2s min:%-20s max:%s\\n\",Byte.SIZE,Byte.MIN_VALUE,Byt \r",
      "e.MAX_VALUE);\r\n",
      "size:8  min:-128                 max:127\r\n",
      "|  Expression value is: java.io.PrintStream@4f7d0008\r\n",
      "|    assigned to temporary variable $3 of type PrintStream\r\n",
      "\r\n"
     ]
    }
   ],
   "source": [
    "System.out.printf(\"size:%-2s min:%-20s max:%s\\n\",Byte.SIZE,Byte.MIN_VALUE,Byte.MAX_VALUE);"
   ]
  },
  {
   "cell_type": "code",
   "execution_count": 10,
   "metadata": {
    "collapsed": false,
    "slideshow": {
     "slide_type": "subslide"
    }
   },
   "outputs": [
    {
     "name": "stdout",
     "output_type": "stream",
     "text": [
      " byte b=1;\r\n",
      "|  Modified variable b of type byte with initial value 1\r\n",
      "|    Update overwrote variable b\r\n",
      "\r\n"
     ]
    }
   ],
   "source": [
    "byte b=1;"
   ]
  },
  {
   "cell_type": "code",
   "execution_count": 12,
   "metadata": {
    "collapsed": false,
    "scrolled": true,
    "slideshow": {
     "slide_type": "subslide"
    }
   },
   "outputs": [
    {
     "name": "stdout",
     "output_type": "stream",
     "text": [
      " byte b=128;\r\n",
      "|  Error:\r\n",
      "|  incompatible types: possible lossy conversion from int to byte\r\n",
      "|  byte b=128;\r\n",
      "|         ^-^\r\n",
      "|    Update overwrote variable b\r\n",
      "\r\n"
     ]
    }
   ],
   "source": [
    "byte b=128;"
   ]
  },
  {
   "cell_type": "markdown",
   "metadata": {
    "collapsed": true,
    "slideshow": {
     "slide_type": "subslide"
    }
   },
   "source": [
    "* 형변환을 괄호 안에 적어서 **강제변환** 해준다. 그래도 결과는 역시 범위를 초과하기 때문에 '128'은 byte에 넣을 수 없다."
   ]
  },
  {
   "cell_type": "code",
   "execution_count": 9,
   "metadata": {
    "collapsed": false
   },
   "outputs": [
    {
     "name": "stdout",
     "output_type": "stream",
     "text": [
      " byte b;\r\n",
      "|  Added variable b of type byte\r\n",
      "\r\n",
      " b=(byte)128;\r\n",
      "|  Variable b has been assigned the value -128\r\n",
      "\r\n"
     ]
    }
   ],
   "source": [
    "byte b;\n",
    "b=(byte)128;"
   ]
  },
  {
   "cell_type": "code",
   "execution_count": 2,
   "metadata": {
    "collapsed": false,
    "scrolled": true
   },
   "outputs": [
    {
     "name": "stdout",
     "output_type": "stream",
     "text": [
      " byte y;\r\n",
      "|  Added variable y of type byte\r\n",
      "\r\n",
      " y=x;\r\n",
      "|  Error:\r\n",
      "|  cannot find symbol\r\n",
      "|    symbol:   variable x\r\n",
      "|  y=x;\r\n",
      "|    ^\r\n",
      "\r\n"
     ]
    }
   ],
   "source": [
    "byte y;\n",
    "y=x;"
   ]
  },
  {
   "cell_type": "code",
   "execution_count": 3,
   "metadata": {
    "collapsed": false
   },
   "outputs": [
    {
     "name": "stdout",
     "output_type": "stream",
     "text": [
      " y=(byte)x;\r\n",
      "|  Variable y has been assigned the value 1\r\n",
      "\r\n"
     ]
    }
   ],
   "source": [
    "y=(byte)x;"
   ]
  },
  {
   "cell_type": "code",
   "execution_count": 4,
   "metadata": {
    "collapsed": false
   },
   "outputs": [
    {
     "name": "stdout",
     "output_type": "stream",
     "text": [
      " System.out.println(y);\r\n",
      "1\r\n",
      "\r\n"
     ]
    }
   ],
   "source": [
    "System.out.println(y);"
   ]
  },
  {
   "cell_type": "markdown",
   "metadata": {},
   "source": [
    "### 배열을 이용한 선언의 예\n",
    "\n",
    "* 배열은 복수 값을 가지고 있으므로, 배열변수는 원시타잎의 배열 또는 참조배열을 가질 수 있다.\n",
    "* 배열에 원시타잎을 저장할 수 있다."
   ]
  },
  {
   "cell_type": "code",
   "execution_count": 20,
   "metadata": {
    "collapsed": false
   },
   "outputs": [
    {
     "name": "stdout",
     "output_type": "stream",
     "text": [
      " int[] a=new int[2];\r\n",
      "|  Added variable a of type int[] with initial value [I@2f686d1f\r\n",
      "\r\n",
      " a[0]=1;\r\n",
      "|  Expression value is: 1\r\n",
      "|    assigned to temporary variable $6 of type int\r\n",
      "\r\n",
      " a[1]=2;\r\n",
      "|  Expression value is: 2\r\n",
      "|    assigned to temporary variable $7 of type int\r\n",
      "\r\n"
     ]
    }
   ],
   "source": [
    "int[] a=new int[2];\n",
    "a[0]=1;\n",
    "a[1]=2;"
   ]
  },
  {
   "cell_type": "markdown",
   "metadata": {},
   "source": [
    "## 출력"
   ]
  },
  {
   "cell_type": "code",
   "execution_count": 10,
   "metadata": {
    "collapsed": false
   },
   "outputs": [
    {
     "name": "stdout",
     "output_type": "stream",
     "text": [
      " System.out.println((double)1 / 2);\r\n",
      "0.5\r\n",
      "\r\n"
     ]
    }
   ],
   "source": [
    "System.out.println((double)1 / 2);"
   ]
  },
  {
   "cell_type": "code",
   "execution_count": 11,
   "metadata": {
    "collapsed": false
   },
   "outputs": [
    {
     "name": "stdout",
     "output_type": "stream",
     "text": [
      " System.out.println((int)1 / 2);\r\n",
      "0\r\n",
      "\r\n"
     ]
    }
   ],
   "source": [
    "System.out.println((int)1 / 2);"
   ]
  },
  {
   "cell_type": "markdown",
   "metadata": {},
   "source": [
    "## 문제 금액을 저장하는 변수를 선언하기\n",
    "\n",
    "데이터 타잎은 변수 값의 형식을\n",
    "* 변수는 값을 가진다. 어떤 변수는 문자 또는 숫자를 가질 수 있다. \n",
    "* 변수명과 값을 구분해 보자.\n",
    "금액의 예를 들어보자.\n",
    "금액의 형식은 '숫자'이다. '5000'은 금액을 표현하고 있다. 원화이면 소수점이 필요없으므로 int, 반면에 미화는 센트를 가질 수 있으므로 소수점이 필요하므로 float이다. 최대금액을 감안하면 조금 복잡해진다. 8비트로 표현할 수 있는 값은 256이다. 이 값은 금액을 표현하기에는 매우 부족하다. 16비트는 65536이므로 역시 부족하다.\n",
    "\n",
    "변수 명\n",
    "변수 값\n",
    "변수 데이터 타잎\n",
    "\n",
    "> BigDecimal\n",
    "> \n",
    "> 화폐 금액을 표시할 경우 많이 쓰이는 데이터 타잎이다. 소수점 자리를 정하거나, 반올림 등 재무계산에 예민한 기능을 제공한다.\n",
    "\n",
    "이름을 보자. 이름은 문자이다. 문자 하나로는 이름이 될 수 없으므로, 문자열이 필요하다. 한글은 보통 3글자이지만, 그 이상도 될 수 있다. String은 이름에 적합한 데이터 타잎이다.\n",
    "\n",
    "BigDecimal serviceTax = new BigDecimal(\"56.0084578639\");\n",
    "serviceTax = serviceTax.setScale(2, RoundingMode.CEILING);\n",
    "System.out.println(serviceTax);"
   ]
  },
  {
   "cell_type": "markdown",
   "metadata": {},
   "source": [
    "## 문제\n",
    "\n",
    "* 화씨, 썹씨 변환"
   ]
  },
  {
   "cell_type": "code",
   "execution_count": 6,
   "metadata": {
    "collapsed": false,
    "scrolled": true
   },
   "outputs": [
    {
     "name": "stdout",
     "output_type": "stream",
     "text": [
      " int fahrenheit = 23;\r\n",
      "|  Modified variable fahrenheit of type int with initial value 23\r\n",
      "|    Update overwrote variable fahrenheit\r\n",
      "\r\n",
      " double celsius = (5.0 / 9) * (fahrenheit - 32);\r\n",
      "|  Modified variable celsius of type double with initial value -5.0\r\n",
      "|    Update overwrote variable celsius\r\n",
      "\r\n",
      " System.out.printf(\"Fahrenheit %d is %.2f in Celsius\", fahrenheit, celsius);\r\n",
      "Fahrenheit 23 is -5.00 in Celsius|  Expression value is: java.io.PrintStream@6321e813\r\n",
      "|    assigned to temporary variable $19 of type PrintStream\r\n",
      "\r\n"
     ]
    }
   ],
   "source": [
    "int fahrenheit = 23;\n",
    "double celsius = (5.0 / 9) * (fahrenheit - 32);\n",
    "System.out.printf(\"Fahrenheit %d is %.2f in Celsius\", fahrenheit, celsius);"
   ]
  },
  {
   "cell_type": "markdown",
   "metadata": {},
   "source": [
    "## 문제 \n",
    "\n",
    "// Obtain the total milliseconds since midnight, Jan 1, 1970\n",
    "\n",
    "* miliseconds를 1000으로 나누면 초\n",
    "* long은 출력할 때 decimal로"
   ]
  },
  {
   "cell_type": "code",
   "execution_count": 7,
   "metadata": {
    "collapsed": false
   },
   "outputs": [
    {
     "name": "stdout",
     "output_type": "stream",
     "text": [
      " long totalMilliseconds = System.currentTimeMillis();\r\n",
      "|  Added variable totalMilliseconds of type long with initial value 1516001975678\r\n",
      "\r\n"
     ]
    }
   ],
   "source": [
    "long totalMilliseconds = System.currentTimeMillis();"
   ]
  },
  {
   "cell_type": "code",
   "execution_count": 9,
   "metadata": {
    "collapsed": false
   },
   "outputs": [
    {
     "name": "stdout",
     "output_type": "stream",
     "text": [
      " long totalSeconds = totalMilliseconds / 1000;\r\n",
      "|  Modified variable totalSeconds of type long with initial value 1516001975\r\n",
      "|    Update overwrote variable totalSeconds\r\n",
      "\r\n",
      " long currentSecond = totalSeconds % 60;\r\n",
      "|  Modified variable currentSecond of type long with initial value 35\r\n",
      "|    Update overwrote variable currentSecond\r\n",
      "\r\n",
      " long totalMinutes = totalSeconds / 60;\r\n",
      "|  Modified variable totalMinutes of type long with initial value 25266699\r\n",
      "|    Update overwrote variable totalMinutes\r\n",
      "\r\n",
      " long currentMinute = totalMinutes % 60;\r\n",
      "|  Modified variable currentMinute of type long with initial value 39\r\n",
      "|    Update overwrote variable currentMinute\r\n",
      "\r\n",
      " long totalHours = totalMinutes / 60;\r\n",
      "|  Modified variable totalHours of type long with initial value 421111\r\n",
      "|    Update overwrote variable totalHours\r\n",
      "\r\n",
      " long currentHour = totalHours % 24;\r\n",
      "|  Modified variable currentHour of type long with initial value 7\r\n",
      "|    Update overwrote variable currentHour\r\n",
      "\r\n",
      " System.out.printf(\"Current time is %d:%d:%d GMT\", currentHour,currentMinute,c \r",
      "urrentSecond);\r\n",
      "Current time is 7:39:35 GMT|  Expression value is: java.io.PrintStream@6321e813\r\n",
      "|    assigned to temporary variable $34 of type PrintStream\r\n",
      "\r\n"
     ]
    }
   ],
   "source": [
    "long totalSeconds = totalMilliseconds / 1000;\n",
    "long currentSecond = totalSeconds % 60;\n",
    "long totalMinutes = totalSeconds / 60;\n",
    "long currentMinute = totalMinutes % 60;\n",
    "long totalHours = totalMinutes / 60;\n",
    "long currentHour = totalHours % 24;\n",
    "System.out.printf(\"Current time is %d:%d:%d GMT\", currentHour,currentMinute,currentSecond);"
   ]
  },
  {
   "cell_type": "markdown",
   "metadata": {},
   "source": [
    "## 2.4 참조 타잎\n",
    "\n",
    "### Wrapper Class로 선언\n",
    "\n",
    "모든 원시타잎에 대응되는 클래스가 제공되고 있다. 대응되기 때문에 **병렬타잎, parallel type**이라고 한다.\n",
    "원시타잎을 감싸서 만든 클래스라는 의미로 **wrapper class**라고 대응된다.\n",
    "* 단 객체로 wrapping하였기 때문에 메모리를 더 차지한다. 예를 들어 int는 4바이트, Integer는 16바이트.\n",
    "* 위 표에서 보듯이 'char'는 'Character'가 제공되고 있지만, 'String' 클래스는 원시타잎이 없다. '문자열'은 문자의 배열이라 'char[]'를 사용하는 것이 오히려 상식적이다. 그러나 크기를 알 수 없기 때문에 선언을 할 수 없다는 점을 명심하자. 따라서 'String'을 사용한다.\n",
    "\n",
    "* 예를 들어, int는 32 비트를 사용하고, 이 전체를 읽어서 값을 사용한다.\n",
    "* 그러나 객체는 메모리의 크기를 알 수 없다. 따라서 참조를 사용해야 한다.\n",
    "* 참조는 객체가 저장되어 있는 메모리의 일정 부분을 가리키고 있다.\n",
    "* 참조를 사용하는 경우는, 객체, wrapper class, 객체의 배열 (an array of reference)이다."
   ]
  },
  {
   "cell_type": "markdown",
   "metadata": {
    "slideshow": {
     "slide_type": "subslide"
    }
   },
   "source": [
    "**클래스 다이어그램**은 클래스 관계를 그림으로 표현한다.\n",
    "\n",
    "아래는 Wrapper class의 관계를 표현하고 있다.\n",
    "그림은 글로 설명하는 것보다 더 쉽게 객체지향을 표현할 수 있다.\n",
    "상속관계를 표현하고 있다.\n",
    "상속은 뒤에 배우기로 한다. 이쯤에서는 가족관계도 쯤으로 이해하자.\n",
    "즉, Number는 Character, Boolean과 다른 가족이고\n",
    "Number는 여러 자식클래스를 가지고 있다."
   ]
  },
  {
   "cell_type": "code",
   "execution_count": 1,
   "metadata": {
    "collapsed": true
   },
   "outputs": [],
   "source": [
    "import iplantuml"
   ]
  },
  {
   "cell_type": "code",
   "execution_count": 7,
   "metadata": {
    "collapsed": false
   },
   "outputs": [
    {
     "data": {
      "image/svg+xml": [
       "<svg height=\"281px\" style=\"width:594px;height:281px;\" version=\"1.1\" viewBox=\"0 0 594 281\" width=\"594px\" xmlns=\"http://www.w3.org/2000/svg\" xmlns:xlink=\"http://www.w3.org/1999/xlink\"><defs><filter height=\"300%\" id=\"f1\" width=\"300%\" x=\"-1\" y=\"-1\"><feGaussianBlur result=\"blurOut\" stdDeviation=\"2.0\"/><feColorMatrix in=\"blurOut\" result=\"blurOut2\" type=\"matrix\" values=\"0 0 0 0 0 0 0 0 0 0 0 0 0 0 0 0 0 0 .4 0\"/><feOffset dx=\"4.0\" dy=\"4.0\" in=\"blurOut2\" result=\"blurOut3\"/><feBlend in=\"SourceGraphic\" in2=\"blurOut3\" mode=\"normal\"/></filter></defs><g><rect fill=\"#FEFECE\" filter=\"url(#f1)\" height=\"48\" style=\"stroke: #A80036; stroke-width: 1.5;\" width=\"72\" x=\"382.5\" y=\"8\"/><ellipse cx=\"397.5\" cy=\"24\" fill=\"#ADD1B2\" rx=\"11\" ry=\"11\" style=\"stroke: #A80036; stroke-width: 1.0;\"/><path d=\"M400.4688,29.6406 Q399.8906,29.9375 399.25,30.0859 Q398.6094,30.2344 397.9063,30.2344 Q395.4063,30.2344 394.0859,28.5859 Q392.7656,26.9375 392.7656,23.8125 Q392.7656,20.6875 394.0859,19.0313 Q395.4063,17.375 397.9063,17.375 Q398.6094,17.375 399.2578,17.5313 Q399.9063,17.6875 400.4688,17.9844 L400.4688,20.7031 Q399.8438,20.125 399.25,19.8516 Q398.6563,19.5781 398.0313,19.5781 Q396.6875,19.5781 396,20.6484 Q395.3125,21.7188 395.3125,23.8125 Q395.3125,25.9063 396,26.9766 Q396.6875,28.0469 398.0313,28.0469 Q398.6563,28.0469 399.25,27.7734 Q399.8438,27.5 400.4688,26.9219 L400.4688,29.6406 Z \"/><text fill=\"#000000\" font-family=\"sans-serif\" font-size=\"12\" lengthAdjust=\"spacingAndGlyphs\" textLength=\"40\" x=\"411.5\" y=\"28.1543\">Object</text><line style=\"stroke: #A80036; stroke-width: 1.5;\" x1=\"383.5\" x2=\"453.5\" y1=\"40\" y2=\"40\"/><line style=\"stroke: #A80036; stroke-width: 1.5;\" x1=\"383.5\" x2=\"453.5\" y1=\"48\" y2=\"48\"/><rect fill=\"#FEFECE\" filter=\"url(#f1)\" height=\"48\" style=\"stroke: #A80036; stroke-width: 1.5;\" width=\"81\" x=\"255\" y=\"116\"/><ellipse cx=\"270\" cy=\"132\" fill=\"#ADD1B2\" rx=\"11\" ry=\"11\" style=\"stroke: #A80036; stroke-width: 1.0;\"/><path d=\"M272.9688,137.6406 Q272.3906,137.9375 271.75,138.0859 Q271.1094,138.2344 270.4063,138.2344 Q267.9063,138.2344 266.5859,136.5859 Q265.2656,134.9375 265.2656,131.8125 Q265.2656,128.6875 266.5859,127.0313 Q267.9063,125.375 270.4063,125.375 Q271.1094,125.375 271.7578,125.5313 Q272.4063,125.6875 272.9688,125.9844 L272.9688,128.7031 Q272.3438,128.125 271.75,127.8516 Q271.1563,127.5781 270.5313,127.5781 Q269.1875,127.5781 268.5,128.6484 Q267.8125,129.7188 267.8125,131.8125 Q267.8125,133.9063 268.5,134.9766 Q269.1875,136.0469 270.5313,136.0469 Q271.1563,136.0469 271.75,135.7734 Q272.3438,135.5 272.9688,134.9219 L272.9688,137.6406 Z \"/><text fill=\"#000000\" font-family=\"sans-serif\" font-size=\"12\" lengthAdjust=\"spacingAndGlyphs\" textLength=\"49\" x=\"284\" y=\"136.1543\">Number</text><line style=\"stroke: #A80036; stroke-width: 1.5;\" x1=\"256\" x2=\"335\" y1=\"148\" y2=\"148\"/><line style=\"stroke: #A80036; stroke-width: 1.5;\" x1=\"256\" x2=\"335\" y1=\"156\" y2=\"156\"/><rect fill=\"#FEFECE\" filter=\"url(#f1)\" height=\"48\" style=\"stroke: #A80036; stroke-width: 1.5;\" width=\"94\" x=\"371.5\" y=\"116\"/><ellipse cx=\"386.5\" cy=\"132\" fill=\"#ADD1B2\" rx=\"11\" ry=\"11\" style=\"stroke: #A80036; stroke-width: 1.0;\"/><path d=\"M389.4688,137.6406 Q388.8906,137.9375 388.25,138.0859 Q387.6094,138.2344 386.9063,138.2344 Q384.4063,138.2344 383.0859,136.5859 Q381.7656,134.9375 381.7656,131.8125 Q381.7656,128.6875 383.0859,127.0313 Q384.4063,125.375 386.9063,125.375 Q387.6094,125.375 388.2578,125.5313 Q388.9063,125.6875 389.4688,125.9844 L389.4688,128.7031 Q388.8438,128.125 388.25,127.8516 Q387.6563,127.5781 387.0313,127.5781 Q385.6875,127.5781 385,128.6484 Q384.3125,129.7188 384.3125,131.8125 Q384.3125,133.9063 385,134.9766 Q385.6875,136.0469 387.0313,136.0469 Q387.6563,136.0469 388.25,135.7734 Q388.8438,135.5 389.4688,134.9219 L389.4688,137.6406 Z \"/><text fill=\"#000000\" font-family=\"sans-serif\" font-size=\"12\" lengthAdjust=\"spacingAndGlyphs\" textLength=\"62\" x=\"400.5\" y=\"136.1543\">Character</text><line style=\"stroke: #A80036; stroke-width: 1.5;\" x1=\"372.5\" x2=\"464.5\" y1=\"148\" y2=\"148\"/><line style=\"stroke: #A80036; stroke-width: 1.5;\" x1=\"372.5\" x2=\"464.5\" y1=\"156\" y2=\"156\"/><rect fill=\"#FEFECE\" filter=\"url(#f1)\" height=\"48\" style=\"stroke: #A80036; stroke-width: 1.5;\" width=\"83\" x=\"501\" y=\"116\"/><ellipse cx=\"516\" cy=\"132\" fill=\"#ADD1B2\" rx=\"11\" ry=\"11\" style=\"stroke: #A80036; stroke-width: 1.0;\"/><path d=\"M518.9688,137.6406 Q518.3906,137.9375 517.75,138.0859 Q517.1094,138.2344 516.4063,138.2344 Q513.9063,138.2344 512.5859,136.5859 Q511.2656,134.9375 511.2656,131.8125 Q511.2656,128.6875 512.5859,127.0313 Q513.9063,125.375 516.4063,125.375 Q517.1094,125.375 517.7578,125.5313 Q518.4063,125.6875 518.9688,125.9844 L518.9688,128.7031 Q518.3438,128.125 517.75,127.8516 Q517.1563,127.5781 516.5313,127.5781 Q515.1875,127.5781 514.5,128.6484 Q513.8125,129.7188 513.8125,131.8125 Q513.8125,133.9063 514.5,134.9766 Q515.1875,136.0469 516.5313,136.0469 Q517.1563,136.0469 517.75,135.7734 Q518.3438,135.5 518.9688,134.9219 L518.9688,137.6406 Z \"/><text fill=\"#000000\" font-family=\"sans-serif\" font-size=\"12\" lengthAdjust=\"spacingAndGlyphs\" textLength=\"51\" x=\"530\" y=\"136.1543\">Boolean</text><line style=\"stroke: #A80036; stroke-width: 1.5;\" x1=\"502\" x2=\"583\" y1=\"148\" y2=\"148\"/><line style=\"stroke: #A80036; stroke-width: 1.5;\" x1=\"502\" x2=\"583\" y1=\"156\" y2=\"156\"/><rect fill=\"#FEFECE\" filter=\"url(#f1)\" height=\"48\" style=\"stroke: #A80036; stroke-width: 1.5;\" width=\"59\" x=\"6\" y=\"224\"/><ellipse cx=\"21\" cy=\"240\" fill=\"#ADD1B2\" rx=\"11\" ry=\"11\" style=\"stroke: #A80036; stroke-width: 1.0;\"/><path d=\"M23.9688,245.6406 Q23.3906,245.9375 22.75,246.0859 Q22.1094,246.2344 21.4063,246.2344 Q18.9063,246.2344 17.5859,244.5859 Q16.2656,242.9375 16.2656,239.8125 Q16.2656,236.6875 17.5859,235.0313 Q18.9063,233.375 21.4063,233.375 Q22.1094,233.375 22.7578,233.5313 Q23.4063,233.6875 23.9688,233.9844 L23.9688,236.7031 Q23.3438,236.125 22.75,235.8516 Q22.1563,235.5781 21.5313,235.5781 Q20.1875,235.5781 19.5,236.6484 Q18.8125,237.7188 18.8125,239.8125 Q18.8125,241.9063 19.5,242.9766 Q20.1875,244.0469 21.5313,244.0469 Q22.1563,244.0469 22.75,243.7734 Q23.3438,243.5 23.9688,242.9219 L23.9688,245.6406 Z \"/><text fill=\"#000000\" font-family=\"sans-serif\" font-size=\"12\" lengthAdjust=\"spacingAndGlyphs\" textLength=\"27\" x=\"35\" y=\"244.1543\">Byte</text><line style=\"stroke: #A80036; stroke-width: 1.5;\" x1=\"7\" x2=\"64\" y1=\"256\" y2=\"256\"/><line style=\"stroke: #A80036; stroke-width: 1.5;\" x1=\"7\" x2=\"64\" y1=\"264\" y2=\"264\"/><rect fill=\"#FEFECE\" filter=\"url(#f1)\" height=\"48\" style=\"stroke: #A80036; stroke-width: 1.5;\" width=\"76\" x=\"100.5\" y=\"224\"/><ellipse cx=\"115.5\" cy=\"240\" fill=\"#ADD1B2\" rx=\"11\" ry=\"11\" style=\"stroke: #A80036; stroke-width: 1.0;\"/><path d=\"M118.4688,245.6406 Q117.8906,245.9375 117.25,246.0859 Q116.6094,246.2344 115.9063,246.2344 Q113.4063,246.2344 112.0859,244.5859 Q110.7656,242.9375 110.7656,239.8125 Q110.7656,236.6875 112.0859,235.0313 Q113.4063,233.375 115.9063,233.375 Q116.6094,233.375 117.2578,233.5313 Q117.9063,233.6875 118.4688,233.9844 L118.4688,236.7031 Q117.8438,236.125 117.25,235.8516 Q116.6563,235.5781 116.0313,235.5781 Q114.6875,235.5781 114,236.6484 Q113.3125,237.7188 113.3125,239.8125 Q113.3125,241.9063 114,242.9766 Q114.6875,244.0469 116.0313,244.0469 Q116.6563,244.0469 117.25,243.7734 Q117.8438,243.5 118.4688,242.9219 L118.4688,245.6406 Z \"/><text fill=\"#000000\" font-family=\"sans-serif\" font-size=\"12\" lengthAdjust=\"spacingAndGlyphs\" textLength=\"44\" x=\"129.5\" y=\"244.1543\">Double</text><line style=\"stroke: #A80036; stroke-width: 1.5;\" x1=\"101.5\" x2=\"175.5\" y1=\"256\" y2=\"256\"/><line style=\"stroke: #A80036; stroke-width: 1.5;\" x1=\"101.5\" x2=\"175.5\" y1=\"264\" y2=\"264\"/><rect fill=\"#FEFECE\" filter=\"url(#f1)\" height=\"48\" style=\"stroke: #A80036; stroke-width: 1.5;\" width=\"63\" x=\"212\" y=\"224\"/><ellipse cx=\"227\" cy=\"240\" fill=\"#ADD1B2\" rx=\"11\" ry=\"11\" style=\"stroke: #A80036; stroke-width: 1.0;\"/><path d=\"M229.9688,245.6406 Q229.3906,245.9375 228.75,246.0859 Q228.1094,246.2344 227.4063,246.2344 Q224.9063,246.2344 223.5859,244.5859 Q222.2656,242.9375 222.2656,239.8125 Q222.2656,236.6875 223.5859,235.0313 Q224.9063,233.375 227.4063,233.375 Q228.1094,233.375 228.7578,233.5313 Q229.4063,233.6875 229.9688,233.9844 L229.9688,236.7031 Q229.3438,236.125 228.75,235.8516 Q228.1563,235.5781 227.5313,235.5781 Q226.1875,235.5781 225.5,236.6484 Q224.8125,237.7188 224.8125,239.8125 Q224.8125,241.9063 225.5,242.9766 Q226.1875,244.0469 227.5313,244.0469 Q228.1563,244.0469 228.75,243.7734 Q229.3438,243.5 229.9688,242.9219 L229.9688,245.6406 Z \"/><text fill=\"#000000\" font-family=\"sans-serif\" font-size=\"12\" lengthAdjust=\"spacingAndGlyphs\" textLength=\"31\" x=\"241\" y=\"244.1543\">Float</text><line style=\"stroke: #A80036; stroke-width: 1.5;\" x1=\"213\" x2=\"274\" y1=\"256\" y2=\"256\"/><line style=\"stroke: #A80036; stroke-width: 1.5;\" x1=\"213\" x2=\"274\" y1=\"264\" y2=\"264\"/><rect fill=\"#FEFECE\" filter=\"url(#f1)\" height=\"48\" style=\"stroke: #A80036; stroke-width: 1.5;\" width=\"77\" x=\"310\" y=\"224\"/><ellipse cx=\"325\" cy=\"240\" fill=\"#ADD1B2\" rx=\"11\" ry=\"11\" style=\"stroke: #A80036; stroke-width: 1.0;\"/><path d=\"M327.9688,245.6406 Q327.3906,245.9375 326.75,246.0859 Q326.1094,246.2344 325.4063,246.2344 Q322.9063,246.2344 321.5859,244.5859 Q320.2656,242.9375 320.2656,239.8125 Q320.2656,236.6875 321.5859,235.0313 Q322.9063,233.375 325.4063,233.375 Q326.1094,233.375 326.7578,233.5313 Q327.4063,233.6875 327.9688,233.9844 L327.9688,236.7031 Q327.3438,236.125 326.75,235.8516 Q326.1563,235.5781 325.5313,235.5781 Q324.1875,235.5781 323.5,236.6484 Q322.8125,237.7188 322.8125,239.8125 Q322.8125,241.9063 323.5,242.9766 Q324.1875,244.0469 325.5313,244.0469 Q326.1563,244.0469 326.75,243.7734 Q327.3438,243.5 327.9688,242.9219 L327.9688,245.6406 Z \"/><text fill=\"#000000\" font-family=\"sans-serif\" font-size=\"12\" lengthAdjust=\"spacingAndGlyphs\" textLength=\"45\" x=\"339\" y=\"244.1543\">Integer</text><line style=\"stroke: #A80036; stroke-width: 1.5;\" x1=\"311\" x2=\"386\" y1=\"256\" y2=\"256\"/><line style=\"stroke: #A80036; stroke-width: 1.5;\" x1=\"311\" x2=\"386\" y1=\"264\" y2=\"264\"/><rect fill=\"#FEFECE\" filter=\"url(#f1)\" height=\"48\" style=\"stroke: #A80036; stroke-width: 1.5;\" width=\"62\" x=\"422.5\" y=\"224\"/><ellipse cx=\"437.5\" cy=\"240\" fill=\"#ADD1B2\" rx=\"11\" ry=\"11\" style=\"stroke: #A80036; stroke-width: 1.0;\"/><path d=\"M440.4688,245.6406 Q439.8906,245.9375 439.25,246.0859 Q438.6094,246.2344 437.9063,246.2344 Q435.4063,246.2344 434.0859,244.5859 Q432.7656,242.9375 432.7656,239.8125 Q432.7656,236.6875 434.0859,235.0313 Q435.4063,233.375 437.9063,233.375 Q438.6094,233.375 439.2578,233.5313 Q439.9063,233.6875 440.4688,233.9844 L440.4688,236.7031 Q439.8438,236.125 439.25,235.8516 Q438.6563,235.5781 438.0313,235.5781 Q436.6875,235.5781 436,236.6484 Q435.3125,237.7188 435.3125,239.8125 Q435.3125,241.9063 436,242.9766 Q436.6875,244.0469 438.0313,244.0469 Q438.6563,244.0469 439.25,243.7734 Q439.8438,243.5 440.4688,242.9219 L440.4688,245.6406 Z \"/><text fill=\"#000000\" font-family=\"sans-serif\" font-size=\"12\" lengthAdjust=\"spacingAndGlyphs\" textLength=\"30\" x=\"451.5\" y=\"244.1543\">Long</text><line style=\"stroke: #A80036; stroke-width: 1.5;\" x1=\"423.5\" x2=\"483.5\" y1=\"256\" y2=\"256\"/><line style=\"stroke: #A80036; stroke-width: 1.5;\" x1=\"423.5\" x2=\"483.5\" y1=\"264\" y2=\"264\"/><rect fill=\"#FEFECE\" filter=\"url(#f1)\" height=\"48\" style=\"stroke: #A80036; stroke-width: 1.5;\" width=\"66\" x=\"519.5\" y=\"224\"/><ellipse cx=\"534.5\" cy=\"240\" fill=\"#ADD1B2\" rx=\"11\" ry=\"11\" style=\"stroke: #A80036; stroke-width: 1.0;\"/><path d=\"M537.4688,245.6406 Q536.8906,245.9375 536.25,246.0859 Q535.6094,246.2344 534.9063,246.2344 Q532.4063,246.2344 531.0859,244.5859 Q529.7656,242.9375 529.7656,239.8125 Q529.7656,236.6875 531.0859,235.0313 Q532.4063,233.375 534.9063,233.375 Q535.6094,233.375 536.2578,233.5313 Q536.9063,233.6875 537.4688,233.9844 L537.4688,236.7031 Q536.8438,236.125 536.25,235.8516 Q535.6563,235.5781 535.0313,235.5781 Q533.6875,235.5781 533,236.6484 Q532.3125,237.7188 532.3125,239.8125 Q532.3125,241.9063 533,242.9766 Q533.6875,244.0469 535.0313,244.0469 Q535.6563,244.0469 536.25,243.7734 Q536.8438,243.5 537.4688,242.9219 L537.4688,245.6406 Z \"/><text fill=\"#000000\" font-family=\"sans-serif\" font-size=\"12\" lengthAdjust=\"spacingAndGlyphs\" textLength=\"34\" x=\"548.5\" y=\"244.1543\">Short</text><line style=\"stroke: #A80036; stroke-width: 1.5;\" x1=\"520.5\" x2=\"584.5\" y1=\"256\" y2=\"256\"/><line style=\"stroke: #A80036; stroke-width: 1.5;\" x1=\"520.5\" x2=\"584.5\" y1=\"264\" y2=\"264\"/><path d=\"M376.606,69.104 C358.737,84.503 338.401,102.029 322.562,115.678 \" fill=\"none\" style=\"stroke: #A80036; stroke-width: 1.0;\"/><polygon fill=\"none\" points=\"372.091,63.754,391.811,56,381.23,74.359,372.091,63.754\" style=\"stroke: #A80036; stroke-width: 1.0;\"/><path d=\"M418.5,76.024 C418.5,89.579 418.5,104.038 418.5,115.678 \" fill=\"none\" style=\"stroke: #A80036; stroke-width: 1.0;\"/><polygon fill=\"none\" points=\"411.5,76,418.5,56,425.5,76,411.5,76\" style=\"stroke: #A80036; stroke-width: 1.0;\"/><path d=\"M460.734,69.104 C478.749,84.503 499.251,102.029 515.218,115.678 \" fill=\"none\" style=\"stroke: #A80036; stroke-width: 1.0;\"/><polygon fill=\"none\" points=\"456.06,74.317,445.406,56,465.157,63.675,456.06,74.317\" style=\"stroke: #A80036; stroke-width: 1.0;\"/><path d=\"M235.827,162.728 C192.821,178.7566 133.602,201.5867 82.5,224 C76.8429,226.4812 70.8749,229.2671 65.1604,232.0207 \" fill=\"none\" style=\"stroke: #A80036; stroke-width: 1.0;\"/><polygon fill=\"none\" points=\"233.464,156.139,254.651,155.761,238.324,169.269,233.464,156.139\" style=\"stroke: #A80036; stroke-width: 1.0;\"/><path d=\"M244.728,175.2792 C221.187,191.1734 193.827,209.6451 172.771,223.8617 \" fill=\"none\" style=\"stroke: #A80036; stroke-width: 1.0;\"/><polygon fill=\"none\" points=\"240.941,169.39,261.433,164,248.775,180.9933,240.941,169.39\" style=\"stroke: #A80036; stroke-width: 1.0;\"/><path d=\"M275.341,182.0936 C268.423,196.1958 260.923,211.4838 254.941,223.6784 \" fill=\"none\" style=\"stroke: #A80036; stroke-width: 1.0;\"/><polygon fill=\"none\" points=\"269.124,178.8732,284.217,164,281.693,185.0392,269.124,178.8732\" style=\"stroke: #A80036; stroke-width: 1.0;\"/><path d=\"M316.047,182.0936 C323.098,196.1958 330.742,211.4838 336.839,223.6784 \" fill=\"none\" style=\"stroke: #A80036; stroke-width: 1.0;\"/><polygon fill=\"none\" points=\"309.684,185.0195,307,164,322.206,178.7585,309.684,185.0195\" style=\"stroke: #A80036; stroke-width: 1.0;\"/><path d=\"M346.661,175.3232 C371.66,192.0945 400.923,211.7268 422.496,226.2001 \" fill=\"none\" style=\"stroke: #A80036; stroke-width: 1.0;\"/><polygon fill=\"none\" points=\"342.492,180.956,329.784,164,350.292,169.33,342.492,180.956\" style=\"stroke: #A80036; stroke-width: 1.0;\"/><path d=\"M354.906,164.439 C405.813,184.5944 475.122,212.2229 502.5,224 C507.942,226.3409 513.681,228.897 519.253,231.4268 \" fill=\"none\" style=\"stroke: #A80036; stroke-width: 1.0;\"/><polygon fill=\"none\" points=\"352.108,170.86,336.084,156.995,357.257,157.841,352.108,170.86\" style=\"stroke: #A80036; stroke-width: 1.0;\"/></g></svg>"
      ],
      "text/plain": [
       "<IPython.core.display.SVG object>"
      ]
     },
     "execution_count": 7,
     "metadata": {},
     "output_type": "execute_result"
    }
   ],
   "source": [
    "%%plantuml\n",
    "@startuml\n",
    "class Object\n",
    "class Number\n",
    "Object <|-- Number\n",
    "Object <|-- Character\n",
    "Object <|-- Boolean\n",
    "Number <|-- Byte\n",
    "Number <|-- Double\n",
    "Number <|-- Float\n",
    "Number <|-- Integer\n",
    "Number <|-- Long\n",
    "Number <|-- Short\n",
    "@enduml"
   ]
  },
  {
   "cell_type": "markdown",
   "metadata": {},
   "source": [
    "### String 선언의 예\n",
    "\n",
    "* String객체는 해당하는 primitive가 없다. 문자의 배열이라 그 크기를 모른다.\n",
    "* 'hello' 객체는 선언하는 시점에 그 크기를 알 수가 없다.\n",
    "* \"Hello\"라는 값을 넣으면 5개의 문자가 저장되었다는 것을 비로서 알 수 있고, 메모리 크기를 정할 수 있다."
   ]
  },
  {
   "cell_type": "code",
   "execution_count": 22,
   "metadata": {
    "collapsed": false,
    "scrolled": false
   },
   "outputs": [
    {
     "name": "stdout",
     "output_type": "stream",
     "text": [
      " String hello=\"Hello\";\r\n",
      "|  Modified variable hello of type String with initial value \"Hello\"\r\n",
      "|    Update overwrote variable hello\r\n",
      "\r\n"
     ]
    }
   ],
   "source": [
    "String hello=\"Hello\";"
   ]
  },
  {
   "cell_type": "code",
   "execution_count": 2,
   "metadata": {
    "collapsed": false,
    "scrolled": true
   },
   "outputs": [
    {
     "name": "stdout",
     "output_type": "stream",
     "text": [
      " System.out.println(hello)\r\n",
      "Hello\r\n",
      "\r\n"
     ]
    }
   ],
   "source": [
    "System.out.println(hello)"
   ]
  },
  {
   "cell_type": "code",
   "execution_count": 3,
   "metadata": {
    "collapsed": false
   },
   "outputs": [
    {
     "name": "stdout",
     "output_type": "stream",
     "text": [
      " String helloWorld=hello+\"world\"\r\n",
      "|  Added variable helloWorld of type String with initial value \"Helloworld\"\r\n",
      "\r\n"
     ]
    }
   ],
   "source": [
    "String helloWorld=hello+\"world\""
   ]
  },
  {
   "cell_type": "code",
   "execution_count": 5,
   "metadata": {
    "collapsed": false,
    "scrolled": false
   },
   "outputs": [
    {
     "name": "stdout",
     "output_type": "stream",
     "text": [
      " System.out.println(helloWorld)\r\n",
      "Helloworld\r\n",
      "\r\n"
     ]
    }
   ],
   "source": [
    "System.out.println(helloWorld)"
   ]
  },
  {
   "cell_type": "markdown",
   "metadata": {
    "collapsed": true
   },
   "source": [
    "* 숫자 1을 i객체에 저장했다.\n",
    "* 이는 앞서 primitive를 사용해서 저장하는 것과 데이터는 '1'로 동일하지만, 다르다. i는 객체이다."
   ]
  },
  {
   "cell_type": "code",
   "execution_count": 23,
   "metadata": {
    "collapsed": false
   },
   "outputs": [
    {
     "name": "stdout",
     "output_type": "stream",
     "text": [
      " Integer i=new Integer(1);\r\n",
      "|  Added variable i of type Integer with initial value 1\r\n",
      "\r\n"
     ]
    }
   ],
   "source": [
    "Integer i=new Integer(1);"
   ]
  },
  {
   "cell_type": "markdown",
   "metadata": {
    "collapsed": true
   },
   "source": [
    "#### Boxing\n",
    "\n",
    "원시타잎에서 Wrapper class로 자동으로 변환하는 것을 박싱, boxing이라고 한다.\n",
    "예를 들면, int에서 Integer, double에서 Double로 변환이 일어난다.\n",
    "반대를 unboxing이라고 한다.\n",
    "* boxing은 원시타잎 -> box type으로 변환\n",
    "* 그 반대 unboxing은 원시타잎 <- box type\n"
   ]
  },
  {
   "cell_type": "code",
   "execution_count": null,
   "metadata": {
    "collapsed": true
   },
   "outputs": [],
   "source": [
    "Integer 객체 i에 정수 '1', 즉 int를 넣으면 **타잎불일치**이다. "
   ]
  },
  {
   "cell_type": "code",
   "execution_count": 5,
   "metadata": {
    "collapsed": false
   },
   "outputs": [
    {
     "name": "stdout",
     "output_type": "stream",
     "text": [
      " int x=1;\r\n",
      "|  Added variable x of type int with initial value 1\r\n",
      "\r\n",
      " i=x;\r\n",
      "|  Variable i has been assigned the value 1\r\n",
      "\r\n"
     ]
    }
   ],
   "source": [
    "int x=1;\n",
    "i=x;"
   ]
  },
  {
   "cell_type": "code",
   "execution_count": 2,
   "metadata": {
    "collapsed": false
   },
   "outputs": [
    {
     "name": "stdout",
     "output_type": "stream",
     "text": [
      " Integer i = 1;\r\n",
      "|  Added variable i of type Integer with initial value 1\r\n",
      "\r\n"
     ]
    }
   ],
   "source": [
    "Integer i = 1;"
   ]
  },
  {
   "cell_type": "code",
   "execution_count": 3,
   "metadata": {
    "collapsed": false
   },
   "outputs": [
    {
     "name": "stdout",
     "output_type": "stream",
     "text": [
      " int j=2;\r\n",
      "|  Added variable j of type int with initial value 2\r\n",
      "\r\n",
      " i+j;\r\n",
      "|  Expression value is: 3\r\n",
      "|    assigned to temporary variable $3 of type int\r\n",
      "\r\n"
     ]
    }
   ],
   "source": [
    "int j=2;\n",
    "i+j;"
   ]
  },
  {
   "cell_type": "markdown",
   "metadata": {
    "collapsed": true
   },
   "source": [
    "### 보통 사용하는 클래스 타잎으로 선언\n",
    "\n",
    "* 객체 참조의 이해"
   ]
  },
  {
   "cell_type": "code",
   "execution_count": 10,
   "metadata": {
    "collapsed": false
   },
   "outputs": [
    {
     "name": "stdout",
     "output_type": "stream",
     "text": [
      " class Book {\r\n",
      " }\r\n",
      "|  Added class Book\r\n",
      "\r\n"
     ]
    }
   ],
   "source": [
    "class Book {\n",
    "}"
   ]
  },
  {
   "cell_type": "code",
   "execution_count": 13,
   "metadata": {
    "collapsed": false
   },
   "outputs": [
    {
     "name": "stdout",
     "output_type": "stream",
     "text": [
      " /classes\r\n",
      "|    class Book\r\n",
      "\r\n"
     ]
    }
   ],
   "source": [
    "/classes"
   ]
  },
  {
   "cell_type": "code",
   "execution_count": 14,
   "metadata": {
    "collapsed": false
   },
   "outputs": [
    {
     "name": "stdout",
     "output_type": "stream",
     "text": [
      " Book b=new Book();\r\n",
      "|  Added variable b of type Book with initial value Book@5bcab519\r\n",
      "\r\n",
      " Book c=new Book();\r\n",
      "|  Added variable c of type Book with initial value Book@3f49dace\r\n",
      "\r\n"
     ]
    }
   ],
   "source": [
    "Book b=new Book();\n",
    "Book c=new Book();"
   ]
  },
  {
   "cell_type": "markdown",
   "metadata": {
    "collapsed": true
   },
   "source": [
    "* d는 c를 가지고 있으므로, 같은 객체에 대한 복사본\n",
    "    * Book@2f49dace를 주목"
   ]
  },
  {
   "cell_type": "code",
   "execution_count": 15,
   "metadata": {
    "collapsed": false,
    "scrolled": true
   },
   "outputs": [
    {
     "name": "stdout",
     "output_type": "stream",
     "text": [
      " Book d=c;\r\n",
      "|  Added variable d of type Book with initial value Book@3f49dace\r\n",
      "\r\n"
     ]
    }
   ],
   "source": [
    "Book d=c;"
   ]
  },
  {
   "cell_type": "markdown",
   "metadata": {
    "collapsed": true
   },
   "source": [
    "* c를 변경할 수도 있다.\n",
    "* 그러면 Book@5bcab519를 가리키게 된다."
   ]
  },
  {
   "cell_type": "code",
   "execution_count": 16,
   "metadata": {
    "collapsed": false
   },
   "outputs": [
    {
     "name": "stdout",
     "output_type": "stream",
     "text": [
      " c=b;\r\n",
      "|  Variable c has been assigned the value Book@5bcab519\r\n",
      "\r\n"
     ]
    }
   ],
   "source": [
    "c=b;"
   ]
  },
  {
   "cell_type": "markdown",
   "metadata": {
    "collapsed": true
   },
   "source": [
    "* 관계를 절단할 수도 있다. 아무런 객체와도 관계가 없다 -> 알지 못한다는 의미."
   ]
  },
  {
   "cell_type": "code",
   "execution_count": 17,
   "metadata": {
    "collapsed": false,
    "scrolled": true
   },
   "outputs": [
    {
     "name": "stdout",
     "output_type": "stream",
     "text": [
      " c=null;\r\n",
      "|  Variable c has been assigned the value null\r\n",
      "\r\n"
     ]
    }
   ],
   "source": [
    "c=null;"
   ]
  },
  {
   "cell_type": "markdown",
   "metadata": {
    "collapsed": true
   },
   "source": [
    "## 문제\n",
    "\n"
   ]
  },
  {
   "cell_type": "code",
   "execution_count": 2,
   "metadata": {
    "collapsed": false
   },
   "outputs": [
    {
     "name": "stdout",
     "output_type": "stream",
     "text": [
      " String input = \"1 2\";\r\n",
      "|  Modified variable input of type String with initial value \"1 2\"\r\n",
      "|    Update overwrote variable input\r\n",
      "\r\n",
      " Scanner sc = new Scanner(input);\r\n",
      "|  Modified variable sc of type Scanner with initial value java.util.Scanner[delimiters=\\p{javaWhitespace}+][position=0][match valid=false][need input=false][source closed=false][skipped=false][group separator=\\,][decimal separator=\\.][positive prefix=][negative prefix=\\Q-\\E][positive suffix=][negative suffix=][NaN string=\\QNaN\\E][infinity string=\\Q∞\\E]\r\n",
      "|    Update overwrote variable sc\r\n",
      "\r\n",
      " sc.next();\r\n",
      "|  Expression value is: \"1\"\r\n",
      "|    assigned to temporary variable $6 of type String\r\n",
      "\r\n",
      " sc.next();\r\n",
      "|  Expression value is: \"2\"\r\n",
      "|    assigned to temporary variable $7 of type String\r\n",
      "\r\n"
     ]
    }
   ],
   "source": [
    "String input = \"1 2\";\n",
    "Scanner sc = new Scanner(input);\n",
    "sc.next();\n",
    "sc.next();"
   ]
  },
  {
   "cell_type": "markdown",
   "metadata": {},
   "source": [
    "## 2.5 연산자\n",
    "\n",
    "연산자는 수학에서와 같이 계산에 사용되는 기호를 말한다.\n",
    "\n",
    "단독으로 사용해도 되는, unary operator와 \n",
    "좌우측에 피연산자가 있어야 하는 binary operator로 구분할 수 있다."
   ]
  },
  {
   "cell_type": "markdown",
   "metadata": {},
   "source": [
    "### 몇 연산자를 사용\n",
    "\n",
    "%\n",
    "++, --\n",
    "+=, -=, *=, /="
   ]
  },
  {
   "cell_type": "code",
   "execution_count": null,
   "metadata": {
    "collapsed": true
   },
   "outputs": [],
   "source": [
    "'%'는 modulus로 나머지를 출력한다."
   ]
  },
  {
   "cell_type": "code",
   "execution_count": 13,
   "metadata": {
    "collapsed": false
   },
   "outputs": [
    {
     "name": "stdout",
     "output_type": "stream",
     "text": [
      " 5%2;\r\n",
      "|  Expression value is: 1\r\n",
      "|    assigned to temporary variable $16 of type int\r\n",
      "\r\n"
     ]
    }
   ],
   "source": [
    "5%2;"
   ]
  },
  {
   "cell_type": "code",
   "execution_count": null,
   "metadata": {
    "collapsed": true
   },
   "outputs": [],
   "source": [
    "++는 변수에 대해 값을 1 증가시킨다."
   ]
  },
  {
   "cell_type": "code",
   "execution_count": 17,
   "metadata": {
    "collapsed": false
   },
   "outputs": [
    {
     "name": "stdout",
     "output_type": "stream",
     "text": [
      " int i=1;\r\n",
      "|  Modified variable i of type int with initial value 1\r\n",
      "|    Update overwrote variable i\r\n",
      "\r\n",
      " ++i;\r\n",
      "|  Expression value is: 2\r\n",
      "|    assigned to temporary variable $20 of type int\r\n",
      "\r\n"
     ]
    }
   ],
   "source": [
    "int i=1;\n",
    "++i;"
   ]
  },
  {
   "cell_type": "markdown",
   "metadata": {
    "collapsed": true,
    "slideshow": {
     "slide_type": "subslide"
    }
   },
   "source": [
    "### 오버로딩\n",
    "\n",
    "앞서 변수의 연산에 이미 사용한 '+', '-', '*', '/' 기호는 수학과 동일한 의미를 가진다.\n",
    "단 이들은 수 또는 문자를 피연산자로 만나면 다른 의미를 가진다.\n",
    "수 1,2를 만나면 '+'는 더하기를 한다.\n",
    "그러나 문자열 \"a\", \"b\"를 만나면 합성을 한다.\n",
    "어떤 피연사자인지에 따라 동일한 '+' 연산자가 다른 기능을 수행하는 것을 오버로딩 'overloading'이라고 한다."
   ]
  },
  {
   "cell_type": "code",
   "execution_count": 12,
   "metadata": {
    "collapsed": false
   },
   "outputs": [
    {
     "name": "stdout",
     "output_type": "stream",
     "text": [
      " int i=1;\r\n",
      "|  Modified variable i of type int with initial value 1\r\n",
      "|    Update overwrote variable i\r\n",
      "\r\n",
      " int j=2;\r\n",
      "|  Modified variable j of type int with initial value 2\r\n",
      "|    Update overwrote variable j\r\n",
      "\r\n",
      " \r\n",
      "\r\n",
      " System.out.println(\"i+j=\"+(i+j));\r\n",
      "i+j=3\r\n",
      "\r\n"
     ]
    }
   ],
   "source": [
    "int i=1;\n",
    "int j=2;\n",
    "\n",
    "System.out.println(\"i+j=\"+(i+j));"
   ]
  },
  {
   "cell_type": "code",
   "execution_count": 11,
   "metadata": {
    "collapsed": false
   },
   "outputs": [
    {
     "name": "stdout",
     "output_type": "stream",
     "text": [
      " String x=\"a\";\r\n",
      "|  Added variable x of type String with initial value \"a\"\r\n",
      "\r\n",
      " String y=\"b\";\r\n",
      "|  Modified variable y of type String with initial value \"b\"\r\n",
      "|    Update overwrote variable y\r\n",
      "\r\n",
      " System.out.println(\"x+y=\"+(x+y));\r\n",
      "x+y=ab\r\n",
      "\r\n"
     ]
    }
   ],
   "source": [
    "String x=\"a\";\n",
    "String y=\"b\";\n",
    "System.out.println(\"x+y=\"+(x+y));"
   ]
  }
 ],
 "metadata": {
  "celltoolbar": "Slideshow",
  "kernelspec": {
   "display_name": "Java 9",
   "language": "java",
   "name": "java"
  },
  "language_info": {
   "file_extension": ".class",
   "mimetype": "application/java-vm",
   "name": "java"
  }
 },
 "nbformat": 4,
 "nbformat_minor": 0
}
