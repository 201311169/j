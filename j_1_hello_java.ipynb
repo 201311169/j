{
 "cells": [
  {
   "cell_type": "markdown",
   "metadata": {
    "slideshow": {
     "slide_type": "slide"
    }
   },
   "source": [
    "# 1. Hello Java\n",
    "\n",
    "## 1.1 학습내용\n",
    "\n",
    "### 1.1.1 강의 목표\n",
    "\n",
    "* 객체지향 프로그래밍 Object Oriented Programming을 배운다. 프로그램은 컴퓨터가 할 일을 명령문으로 구성한 것이며, 객체지향 스타일로 만드는 방법을 배운다. **클래스 및 객체**, **가시성**, **생성자**, **반복 및 조건**, **배열**과 같은 객체지향적 프로그래밍에 필요한 내용을 배운다. 또한 **예외처리**, **패키지**, **입출력**, **GUI**, **이벤트**를 배운다. 빼놓을 수 없는 객체지향의 주요한 특징인 **상속**, **다형성**을 배우게 된다.\n",
    "* 프로그래밍을 막상 하려면 몇 줄짜리는 만들 수 있어도, 어떤 주제로 일정 규모가 되면 눈 앞이 깜깜한 경우가 많다. 이 후 **몇 백 줄 정도**의 객체지향 프로그램을 구현할 수 있는 능력을 기대한다.\n",
    "    * 클래스 5개 정도 - 연관, 상속, 다형성 사용\n",
    "    * 클래스 1개에 100줄 정도, 수 백 줄 규모의 프로그래밍을 만들 수 있다."
   ]
  },
  {
   "cell_type": "markdown",
   "metadata": {
    "slideshow": {
     "slide_type": "subslide"
    }
   },
   "source": [
    "* 강의를 어떻게 하려고 하나\n",
    "    * **Object first** approach. 데이터 타잎, 함수 등을 먼저 배우기 보다는, 객체지향으로 바로 시작한다.\n",
    "    * 예제로 배운다 Learn by example\n",
    "        * 예제는 쉽지만, 너무 쉽지 않고 재미있게\n",
    "    * 그림으로 배운다 UML\n",
    "    * 프로그래밍에 '재미'를 가지도록 한다.\n",
    "    * 객체지향 모든 것을 가르치지는 않는다. 이 강의를 마치고 나면, **자기 학습**을 해 나갈 수 있다.\n",
    "\n",
    "* \"목적지에 도착하니 문이 열렸다.\"\n",
    "    * 문을 여는 사람은 결국 거기에 도착하는 사람이다.\n",
    "    * 거기에 가려는 의지, 노력이 프로그래머를 만들 것."
   ]
  },
  {
   "cell_type": "markdown",
   "metadata": {
    "slideshow": {
     "slide_type": "subslide"
    }
   },
   "source": [
    "### 1.1.2 목표\n",
    "\n",
    "* 자신이 자바를 배워야 하는 이유를 말할 수 있다.\n",
    "* 자바의 특징을 이해할 수 있다.\n",
    "* 자바 실행 환경을 설치할 수 있다.\n",
    "* 자바 jshell을 사용할 수 있다.\n",
    "\n",
    "### 1.1.3 문제\n",
    "\n",
    "* 문제 1-1: Hello World"
   ]
  },
  {
   "cell_type": "markdown",
   "metadata": {
    "slideshow": {
     "slide_type": "subslide"
    }
   },
   "source": [
    "## 1.2 java 소개\n",
    "\n",
    "왜 자바를 배워야 하는가? 자바는 순수 객체지향 언어이고, 이식성이 높다는 등의 특징만 가지고 그 이유를 설명할 수는 없다. 자바는 인기가 높은 언어이다. 자바는 많이 사용되고 있어 **취업기회**가 높다. 프로그래밍 언어의 인기를 가늠할 수 있는 사이트에서 자바는 경쟁언어인 C++를 앞서고 있다.\n",
    "* [tiobe](http://www.tiobe.com/tiobe-index/) - 2018년 현재 1위\n",
    "* [PYPL PouplaritY of Programming Language](http://pypl.github.io/PYPL.html) - 2018년 현재 1위\n",
    "\n",
    "참고로 자바는 다른 언어와 비교해서 어느 분야에서 많이 사용되고 있는지 살펴보자. [어떤 프로그래밍 언어를 배워야 할까?](https://www.codementor.io/learn-programming/beginner-programming-language-job-salary-community)\n",
    "* 기업에서 많이 사용하는 언어 java\n",
    "* 웹에서 사용하지 않을 수 없는 언어 javascript\n",
    "* 데이터분석에서 많이 사용되는 언어 Python\n",
    "* 데이를 체계적으로 사용할려면 배워야하는 언어 SQL"
   ]
  },
  {
   "cell_type": "markdown",
   "metadata": {
    "slideshow": {
     "slide_type": "subslide"
    }
   },
   "source": [
    "* 자바는 문법이 C와 많이 닮아 있지만, 객체지향언어라는 점에서 다르다. 그렇기 때문에 자바와 비교할 수 있는 언어는 C++이다. 자바는 **포인터**가 없고, 객체지향만으로 프로그래밍해야 한다.\n",
    "    * **WORA** write once, run everywhere - JVM에서 실행되기 때문에, 이식성이 좋다.\n",
    "    * 웹에 잘 어울리는 프로그램 언어 - JSP, Servelet, RMI와 같이 웹에 많이 적용되고 있다."
   ]
  },
  {
   "cell_type": "markdown",
   "metadata": {
    "slideshow": {
     "slide_type": "subslide"
    }
   },
   "source": [
    "* Java로 할 수 있는 일\n",
    "    * Java Application - 자바로 어플리케이션을 만들 수 있다.\n",
    "    * Java Applet - 웹브라우저에서 앱을 실행할 수 있다. 자바스크립트, ActiveX가 하는 일을 할 수 있다.\n",
    "    * Web - 웹서버에서 실행할 수 잇다. Servlet, JSP, EJB를 사용한다.\n",
    "    * Java Beans - 재사용 가능한 컴포넌트를 만들 수 있다.\n",
    "    * Android - 아이폰과 더불어 핸드폰에 주로 사용되는 안드로이드에서 실행할 수 있다."
   ]
  },
  {
   "cell_type": "markdown",
   "metadata": {
    "slideshow": {
     "slide_type": "subslide"
    }
   },
   "source": [
    "* Java의 발전\n",
    "    * 50 reserved words\n",
    "    * 사용되는 클래스의 수가 늘어나고 있다 (Java 8 Pocket Guide book by Robert Liguori, Patricia Liguori). 처음에는 불과 수 백개에 불과했지만 현재는 수 천 개로 늘어났다.\n",
    "\n",
    "java version | codename | release | number of classes\n",
    "-----|-----|-----|-----\n",
    "java 2 SE 5 with JDK 1.8 | - | 2014 | 4,240\n",
    "java 2 SE 5 with JDK 1.7 | Dolphin | 2011 | 4,024\n",
    "java 2 SE 5 with JDK 1.6 | Mustang | 2006 | 3,793\n",
    "java 2 SE 5 with JDK 1.5 | Tiger | 2004 | 3,279\n",
    "java 2 SE with SDK 1.4 | Merlin | 2002 | 2,991\n",
    "java 2 SE with SDK 1.3 | Kestrel | 2000 | 1,824\n",
    "Java 2 with SDK 1.3 |Playground | 1998 | 1,520\n",
    "Development Kit 1.1 | - | 1997 | 504\n",
    "Development Kit 1.0 | Oak | 1996 | 212"
   ]
  },
  {
   "cell_type": "markdown",
   "metadata": {
    "slideshow": {
     "slide_type": "subslide"
    }
   },
   "source": [
    "Java는 사용하는 플랫폼에 따라 구분할 수 있다. 보통 사용자는 Java SE Development Kit를, 기업에서는 EE를 사용한다.\n",
    "\n",
    "* Java SE (Standard Edition) - java.lang, java.io, java.math, java.net, java.util, etc...\n",
    "* Java EE (Enterprise Edition) -  Enterprise JavaBeans, servlets, portlets, Java Server Pages, etc...\n",
    "* Java ME (Micro Edition) - 모바일, 임베디드 시스템에 사용\n",
    "* Java FX - UI를 만들기 위해 사용, Java SE 8에 포함.\n"
   ]
  },
  {
   "cell_type": "markdown",
   "metadata": {
    "slideshow": {
     "slide_type": "subslide"
    }
   },
   "source": [
    "## 1.3 프로그래밍이란\n",
    "\n",
    "* 프로그래밍은 어떤 문제를 컴퓨터로 하여금 풀 수 있도록, 컴퓨터가 실행할 수 있는 명령문으로 작성하는 것이다.\n",
    "* 객체지향 프로그래밍 (OOP, Object-Oriented Programming)에서는 컴퓨터가 실행하는 단위가 '클래스'이다. 함수프로그램에서는 함수가 실행단위이다.\n",
    "* 클래스는 '재사용'하기 유리한 구조를 가지고 있다. 프로그래밍을 더 빠르게, 더 좋게 할 수 있다 (faster and better).\n",
    "* 객체지향 프로그래밍의 절차:\n",
    "    * 설계 - 요구사항을 해결할 수 있도록 클래스와 그 관계를 만든다.\n",
    "    * 개발 (hfj p.2~3)\n",
    "        * 코딩 - 설계된 클래스를 원시코드로 만듦\n",
    "        * 컴파일 - 원시코드를 bytecode로 만듦\n",
    "        * 실행 - jvm에 byte code를 읽어서 실행 (jvm이 다양한 기기에서 실행되므로, WORA라고 말함)\n",
    "        * 디버깅 - 오류를 제거.\n",
    "    * 테스트 - 요구사항이 충족되었는지 테스트"
   ]
  },
  {
   "cell_type": "markdown",
   "metadata": {
    "slideshow": {
     "slide_type": "subslide"
    }
   },
   "source": [
    "## 1.4 쉽게 배우는 자바\n",
    "\n",
    "* java는 컴파일 언어라서 어렵다.\n",
    "* 스크립트 언어와 달리 데이터 형 data type을 미리 정해서, 메모리를 효율적으로 사용해야 한다.\n",
    "* jshell은 java 9에 새로 들어오는 '대화형' 기능\n",
    "* java가 대화형으로 사용할 수 없는 반면, 대하형이 가능한 언어가 인기를 끌고 있다 (예: Scala)\n",
    "* jshell의 특징\n",
    "    * 명령문으로만 작성 (클래스 없이)\n",
    "    * jshell에서는 source -> compile -> run이 아니라, 명령문마다 실행\n",
    "    * 명령창에서 실행해도 되고, ipython kernel로 실행해도 된다 (ipython notebook의 magic, shell기능은 사용할 수 없다)"
   ]
  },
  {
   "cell_type": "markdown",
   "metadata": {
    "slideshow": {
     "slide_type": "slide"
    }
   },
   "source": [
    "## 1.5 환경설정\n",
    "\n",
    "###  jdk\n",
    "\n",
    "컴퓨터 운영체제에 맞는 Java SE Development Kit를 설치한다.\n",
    "윈도우에서는 Oracle 사이트로 가서 내려받아 설치한다.\n",
    "리눅스는 패키지관리자를 사용하여 설치한다.\n"
   ]
  },
  {
   "cell_type": "markdown",
   "metadata": {
    "slideshow": {
     "slide_type": "subslide"
    }
   },
   "source": [
    "#### 경로 설정\n",
    "\n",
    "설치하고 나서 잘 되었는지 확인한다. java와 javac의 경로 및 버전 모두 확인한다. \n",
    "윈도우는:\n",
    "\n",
    "```\n",
    "C:\\>where java\n",
    "C:\\Program Files\\Java\\jdk-9.0.1\\bin\\java.exe\n",
    "\n",
    "C:\\>java -version\n",
    "java version \"1.8.0_152\" <-- 버전이 다르게 출력되는 경우 반드시 수정해야 한다.\n",
    "Java(TM) SE Runtime Environment (build 1.8.0_152-b16)\n",
    "Java HotSpot(TM) 64-Bit Server VM (build 25.152-b16, mixed mode)\n",
    "```\n",
    "\n",
    "리눅스는:\n",
    "\n",
    "```\n",
    "$ which java\n",
    "/usr/bin/java\n",
    "```\n",
    "\n",
    "경로가 올바르게 설정되지 않았으면 일치시켜야 한다. 또는 자바가 여러 버전이 설치되어 있으면 java, javac를 모두  일치 시킨다.\n",
    "\n",
    "리눅스 | 윈도우 \n",
    "-----|-----\n",
    "update-alternatives --config java | 관리자 권한으로 단말을 열어서 \"Run as administrator\"<br>```cd C:\\ProgramData\\Oracle\\Java\\javapath```<br>```mklink java.exe \"c:\\Program Files\\Java\\jdk1.8.0_152\\bin\\java.exe\"```"
   ]
  },
  {
   "cell_type": "markdown",
   "metadata": {
    "slideshow": {
     "slide_type": "subslide"
    }
   },
   "source": [
    "#### 개발환경\n",
    "\n",
    "자바는 개발환경이 잘 갖추어진 언어이다.\n",
    "객체지향언어로서 개발과정 전체에서 UML을 활용할 수 있다.\n",
    "여기서는 **개발단계에 초점을 맞추어 환경을 설치**하여 진행하기로 한다.\n",
    "특히 IDE는 통합개발환경 Integrated Development Environment으로 코딩, 컴파일, 실행, 디버깅 등을 수행할 때 필요한 도구를 제공한다. 많이 쓰이는 IDE로는 Eclipse, IntelliJ가 있다. 이 도구들은 개발을 편리하고 빠르게 할 수 있지만, 없어지면 불능 상태의 개발자로 만들어 버리기도 한다. JDK에는 컴파일러 및 디버거가 갖추어져 있다. 명령어 방식으로 컴파일, 실행, 디버깅할 수 있는 지식을 갖춘 후, IDE를 그 다음에 사용하기로 하자. 간단하고 가벼운 편집기로는 UltraEdit, Notepad++, Sublime, Atom 등이 있다. 일부 전문적 프로그래머는 더 가볍고 플러긴을 추가해서 사용할 수 있는 Vim, Emacs를 선호하는 경우도 많다.\n",
    "\n",
    "단계 | 자주 사용하는 도구 | 이번 강의에서는\n",
    "-----|-----|-----\n",
    "요구사항 | UML의 사용사례를 사용해 요구사항을 적는다 | 사용하지 않음\n",
    "설계 | UML의 클래스다이어그램, 순차다이어그램 등을 작성하여 클래스와 그 관계를 표현 | 사용\n",
    "개발 | IDE | Eclipse, IntelliJ 등을 선호. 배우는 초반에는 가벼운 편집기에 명령어 컴파일 및 실행\n",
    "Test | JUnit | 사용하지 않음\n",
    "형상관리 | git | 사용하지 않음\n",
    "배포 | Maven, Ant, Gradle | 사용하지 않음"
   ]
  },
  {
   "cell_type": "markdown",
   "metadata": {
    "collapsed": true,
    "slideshow": {
     "slide_type": "subslide"
    }
   },
   "source": [
    "## 1.6 프로그래밍 스타일\n",
    "\n",
    "\n",
    "* comments\n",
    "\n",
    "* 들여쓰기, 공백\n",
    "    * 이진 연산자는 앞 뒤로 공백\n",
    "\n",
    "```java\n",
    "나쁨 System.out.println(1+2*3);\n",
    "좋음 System.out.println(1 + 2 * 3);\n",
    "```\n",
    "\n",
    "* 괄호를 새로 줄을 만들어 처음에 넣을 수 있다. 여기서는 다음과 같이 붙여서 C 스타일로 작성한다. \n",
    "\n",
    "```java\n",
    "public class Hello {\n",
    "    ...\n",
    "}\n",
    "```\n",
    "\n",
    "* Code Conventions for the Java Programming Language \n",
    "http://www.oracle.com/technetwork/java/javase/documentation/codeconvtoc-136057.html\n"
   ]
  },
  {
   "cell_type": "markdown",
   "metadata": {
    "slideshow": {
     "slide_type": "slide"
    }
   },
   "source": [
    "## 1.7 간단한 자바 프로그램 만들고, 컴파일\n"
   ]
  },
  {
   "cell_type": "markdown",
   "metadata": {
    "slideshow": {
     "slide_type": "slide"
    }
   },
   "source": [
    "## 1.8 요약\n",
    "\n",
    "* 프로그램은 컴퓨터가 해야 할 일을 명령어로 작성..\n",
    "* 컴파일은 컴퓨터 프로그램을 기계어로 변환\n",
    "* 자바는 1991년 제임스 고슬링\n",
    "* 자바는 가전제품에 내장되는 소형, 내장형\n",
    "* WORA (Write Once Run Anywhere)\n",
    "* 자바 소스는 .java 컴파일하면 .class\n"
   ]
  },
  {
   "cell_type": "markdown",
   "metadata": {
    "slideshow": {
     "slide_type": "slide"
    }
   },
   "source": [
    "## 1.9 연습문제\n"
   ]
  }
 ],
 "metadata": {
  "celltoolbar": "Slideshow",
  "kernelspec": {
   "display_name": "Python 2",
   "language": "python",
   "name": "python2"
  },
  "language_info": {
   "codemirror_mode": {
    "name": "ipython",
    "version": 2
   },
   "file_extension": ".py",
   "mimetype": "text/x-python",
   "name": "python",
   "nbconvert_exporter": "python",
   "pygments_lexer": "ipython2",
   "version": "2.7.12"
  }
 },
 "nbformat": 4,
 "nbformat_minor": 0
}
