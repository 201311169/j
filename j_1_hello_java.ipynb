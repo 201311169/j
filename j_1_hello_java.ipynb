{
 "cells": [
  {
   "cell_type": "markdown",
   "metadata": {},
   "source": [
    "# 1. Hello Java\n",
    "\n",
    "## 1.1 학습내용\n",
    "\n",
    "### 1.1.1 강의 목표\n",
    "\n",
    "* 객체지향 프로그래밍을 배운다. 클래스, 객체, 가시성, 생성자, 반복문, 배열, 조건과 같은 프로그래밍에 필요한 내용을 배운다. 객체지향 방식의 예외처리, 패키지, 입출력, GUI와 이벤트를 배운다. 객체지향의 주요한 특징으로 상속, 다형성에 대해 배운다.\n",
    "* 강의를 듣고 나면, 클래스를 사용해 간단한 프로그램을 구현할 수 있다.\n",
    "    * 클래스 5개 정도 - 연관, 상속, 다형성 사용\n",
    "    * 클래스 1개에 100줄 정도, 수 백줄 프로그래밍을 만들 수 있다.\n",
    "* 강의를 어떻게 하려고 하나\n",
    "    * Object first approach. 데이터 타잎, 입출력, 함수 등을 먼저 배우기 보다는, 객체지향으로 바로 시작한다.\n",
    "    * 예제로 배운다 Learn by example\n",
    "        * 예제는 쉽지만, 너무 쉽지 않고 재미있게\n",
    "    * 그림으로 배운다 UML\n",
    "    * 프로그래밍에 '재미'를 가지도록 한다.\n",
    "    * 객체지향 모든 것을 가르치지는 않는다. 이 강의를 마치고 나면, 자기학습을 해 나갈 수 있다.\n",
    "\n",
    "### 1.1.2 목표\n",
    "\n",
    "* 자신이 자바를 배워야 하는 이유를 말할 수 있다.\n",
    "* 자바의 특징을 이해할 수 있다.\n",
    "* 자바 실행 환경을 설치할 수 있다.\n",
    "* 자바 jshell을 사용할 수 있다.\n",
    "\n",
    "### 1.1.3 문제\n",
    "\n",
    "* 문제 1-1: 숫자 1, 2를 더해 보기\n",
    "* 문제 1-2: 1부터 100까지 합계 계산하기\n",
    "* 문제 1-3: a=1이라고 해 놓고, a 값이 1과 같은지 비교하기\n",
    "* 문제 1-4: jshell이용해 보기\n",
    "* 문제 1-5: 클래스 uml 그려보기"
   ]
  },
  {
   "cell_type": "markdown",
   "metadata": {},
   "source": [
    "## 1.2 java 소개\n",
    "\n",
    "* 왜 자바를 배워야 하는가?\n",
    "    * 인기가 높다.\n",
    "        * [tiobe](http://www.tiobe.com/tiobe-index/) - 2016년 8월 1위\n",
    "        * [PYPL PouplaritY of Programming Language](http://pypl.github.io/PYPL.html) - 2016년 9월 1위\n",
    "    * [어떤 프로그래밍 언어를 배워야 할까?](https://www.codementor.io/learn-programming/beginner-programming-language-job-salary-community)\n",
    "        * 기업에서 많이 사용하는 언어 java\n",
    "        * 웹에서 사용하지 않을 수 없는 언어 javascript\n",
    "        * 데이터분석에서 많이 사용되는 언어 Python\n",
    "        * 데이를 체계적으로 사용할려면 배워야하는 언어 SQL\n",
    "\n",
    "* 자바의 특징\n",
    "    * WORA write once, run everywhere - JVM에서 실행되기 때문에, 이식성이 좋다.\n",
    "    * 네트워크 프로그래밍 - JSP, Servelet, RMI와 같이 \n",
    "\n",
    "* Java로 할 수 있는 일\n",
    "    * Java Application - 자바로 어플리케이션을 만들 수 있다.\n",
    "    * Java Applet - 웹브라우저에서 앱을 실행할 수 있다. 자바스크립트, ActiveX가 하는 일을 할 수 있다.\n",
    "    * Web - 웹서버에서 실행할 수 잇다. Servlet, JSP, EJB를 사용한다.\n",
    "    * JavaBeans - 재사용 가능한 컴포넌트를 만들 수 있다.\n",
    "    * Android - 아이폰과 더불어 핸드폰에 주로 사용되는 안드로이드에서 실행할 수 있다.\n",
    "\n",
    "* java의 발전\n",
    "    * 50 reserved words\n",
    "    * 사용되는 클래스의 수가 늘어나고 있다.\n",
    "    Java 8 Pocket Guide book by Robert Liguori, Patricia Liguori\n",
    "\n",
    "java version | codename | release | number of classes\n",
    "-----|-----|-----|-----\n",
    "java 2 SE 5 with JDK 1.8 | - | 2014 | 4,240\n",
    "java 2 SE 5 with JDK 1.7 | Dolphin | 2011 | 4,024\n",
    "java 2 SE 5 with JDK 1.6 | Mustang | 2006 | 3,793\n",
    "java 2 SE 5 with JDK 1.5 | Tiger | 2004 | 3,279\n",
    "java 2 SE with SDK 1.4 | Merlin | 2002 | 2,991\n",
    "java 2 SE with SDK 1.3 | Kestrel | 2000 | 1,824\n",
    "Java 2 with SDK 1.3 |Playground | 1998 | 1,520\n",
    "Development Kit 1.1 | - | 1997 | 504\n",
    "Development Kit 1.0 | Oak | 1996 | 212\n",
    "\n",
    "* Java 플랫폼 (Oracle에서 제공하는)\n",
    "    * Java SE (Standard Edition) - java.lang, java.io, java.math, java.net, java.util, etc...\n",
    "    * Java EE (Enterprise Edition) -  Enterprise JavaBeans, servlets, portlets, Java Server Pages, etc...\n",
    "    * Java ME (Micro Edition) - 모바일, 임베디드 시스템에 사용\n",
    "    * Java FX - UI를 만들기 위해 사용, Java SE 8에 포함.\n"
   ]
  },
  {
   "cell_type": "markdown",
   "metadata": {},
   "source": [
    "## 1.3 프로그래밍이란\n",
    "\n",
    "* 프로그래밍은 어떤 문제를 컴퓨터로 하여금 풀 수 있도록, 컴퓨터가 실행할 수 있는 명령문으로 작성하는 것이다.\n",
    "* 객체지향 프로그래밍 (OOP, Object-Oriented Programming)에서는 컴퓨터가 실행하는 단위가 '클래스'이다. 함수프로그램에서는 함수가 실행단위이다.\n",
    "* 클래스는 '재사용'하기 유리한 구조를 가지고 있다. 프로그래밍을 더 빠르게, 더 좋게 할 수 있다 (faster and better).\n",
    "* 객체지향 프로그래밍의 절차:\n",
    "    * 설계 - 요구사항을 해결할 수 있도록 클래스와 그 관계를 만든다.\n",
    "    * 개발 (hfj p.2~3)\n",
    "        * 코딩 - 설계된 클래스를 원시코드로 만듦\n",
    "        * compile - byte로 만듦\n",
    "        * 실행 - jvm에 byte code를 읽어서 실행 (jvm이 다양한 기기에서 실행되므로, WORA라고 말함)\n",
    "        * 디버깅 - 오류를 제거.\n",
    "    * 테스트 - 요구사항이 충족되었는지 테스트"
   ]
  },
  {
   "cell_type": "markdown",
   "metadata": {},
   "source": [
    "## 1.4 환경\n",
    "\n",
    "### 1.4.1 수업에서 사용하는 환경\n",
    "\n",
    "* 운영체제 - 윈도우 (윈도우보다는 리눅스를 사용하는 것이 좋다!)\n",
    "    * 윈도우에서 리눅스 유사환경을 제공하는 [Git for Windows](https://git-for-windows.github.io/)\n",
    "    * Git for Windows는 mingw를 사용하며, Bash Emulation을 제공. 윈도우 운영체제에서 리눅스 명령어를 사용할 수 있다.\n",
    "\n",
    "* Java 플랫폼\n",
    "    * Java SE 1.5 이상을 사용함.\n",
    "    * jshell은 새로 1.9에 포함되는 기능.\n",
    "\n",
    "* Java 컴파일/실행 - Git Bash 명령창에서 실행\n",
    "* editor\n",
    "    * 윈도우 메모장, 리눅스 vim\n",
    "    * DrJava - IDE, 프로그래밍을 편리하게, 빠르게 할 수 있다.\n",
    "    * Eclipse와 같은 IDE는 생산성도구로서, 프로그래밍을 잘 할 수 있는 어느 정도 수준까지는 명령창을 사용하는 것이 좋다.\n",
    "\n",
    "* UML - plantuml\n",
    "\n",
    "* 소스코드 관리\n",
    "    * github에 제출한다."
   ]
  },
  {
   "cell_type": "markdown",
   "metadata": {},
   "source": [
    "### 1.4.2 환경 설치하기\n",
    "\n",
    "1. jdk 설치\n",
    "    * Path 설정\n",
    "    * classpath설정\n",
    "2. drjava 설치\n",
    "3. Project Directory 설정\n",
    "    ```\n",
    "    Code/\n",
    "        2015xxxxx/\n",
    "            j/ #프로젝트 라이브러리\n",
    "                /src\n",
    "                /classes\n",
    "                /lib\n",
    "                /doc\n",
    "    ```\n",
    "4. github\n",
    "5. ipython java kernel\n",
    "    ```\n",
    "    Code/\n",
    "        lib/kulla--20160901005901.jar #전체가 사용하는 라이브러리\n",
    "    ~/.ipython/kernels/java/kernel.json\n",
    "    ```"
   ]
  },
  {
   "cell_type": "code",
   "execution_count": 2,
   "metadata": {
    "collapsed": false
   },
   "outputs": [
    {
     "name": "stdout",
     "output_type": "stream",
     "text": [
      "drwxrwxr-x 6 jsl jsl    4096  9월  8  2015 build\r\n",
      "drwxrwxr-x 4 jsl jsl    4096  2월 22  2016 classes\r\n",
      "drwxrwxr-x 2 jsl jsl    4096  9월  4 05:06 doc\r\n",
      "drwxrwxr-x 2 jsl jsl    4096  2월 22  2016 lib\r\n",
      "drwxrwxr-x 3 jsl jsl    4096 11월  6  2015 model\r\n",
      "drwxrwxr-x 6 jsl jsl    4096  9월  6 12:06 src\r\n",
      "drwxrwxr-x 3 jsl jsl    4096  7월  9  2015 tmp\r\n"
     ]
    }
   ],
   "source": [
    "!ls -l | grep ^d"
   ]
  },
  {
   "cell_type": "markdown",
   "metadata": {},
   "source": [
    "#### jdk\n",
    "\n",
    "* 리눅스에서 설치\n",
    "    * jre만 설치하지 않도록 함.\n",
    "        ```\n",
    "        $ sudo apt-get install oepnjdk-9-jdk (configuration - OK, Yes)\n",
    "        ```\n",
    "\n",
    "    * 자바 설치 확인\n",
    "        ```\n",
    "        $ update-java-alternatives - l\n",
    "        ```\n",
    "    \n",
    "    * classpath (project directory에서 설정한다)\n",
    "        ```\n",
    "        $ echo $CLASSPATH\n",
    "        $ export CLASSPATH=\\$CLASSPATH:./classes/\n",
    "        ```\n",
    "\n",
    "* 윈도우에서 설치\n",
    "    * install java9 https://jdk9.java.net/download/\n",
    "    * [Oracle](http://www.oracle.com) >다운로드 >Java For Deveolopers를 클릭하여 JDK (Java Development Kit) 다운로드.\n",
    "    우선 자신이 컴퓨터 운영체제를 확인한다. 제어판 > 시스템에 가서 ’컴퓨터에 대한 기본정보’를 알아본다 (나의 경우는 윈도우7 32비트).\n",
    "    그리고 이것에 맞추어 JDK를 다운로드 한다 (32비트 x86) (x64는 64비트).\n",
    "    * 윈도우 창을 연다 윈도우 창을 크기하려면, 윈도우창 제목표시줄에서 마우스 우측 버튼을 눌러 레이아웃과 폰트를 조정한다.\n",
    "    * 경로설정은\n",
    "        * 1) 제어판에서 환경변수설정을 하거나\n",
    "        * 2) 좀 어렵지만 명령어를 직접 입력하는 방식으로 할 수 있다. 명령어 입력방식은 다음과 같이 한다.        \n",
    "        ```\n",
    "        set JAVA_HOME=\"C:\\Program Files\\Java\\jdk-9\"\n",
    "        echo %JAVA_HOME%\n",
    "        set path=%path%;%JAVA_HOME%\\bin\n",
    "        echo %path%\n",
    "        ```\n",
    "    \n",
    "    * classpath\n",
    "        ```\n",
    "        set CODE_HOME=\"C:\\Users\\Code\\2016xxxxx\\j\"\n",
    "        set classpath=%classpath%;%CODE_HOME%\\classes;.\n",
    "        echo %classpath%\n",
    "        ```\n",
    "\n",
    "* 설치확인\n",
    "    ```\n",
    "    java -version\n",
    "    ```"
   ]
  },
  {
   "cell_type": "markdown",
   "metadata": {},
   "source": [
    "#### jupyter java kernel\n",
    "\n",
    "* java9_kernel 다운로드\n",
    "    ```\n",
    "    git clone https://github.com/Bachmann1234/java9_kernel.git\n",
    "    ```\n",
    "\n",
    "\n",
    "* kullar.jar 다운로드 후 lib/으로 복사해 놓음\n",
    "https://github.com/AdoptOpenJDK/adoptopenjdk-getting-started-kit/blob/master/en/openjdk-projects/kulla/kulla.md\n",
    "\n",
    "* 아래 파일을 ~/.ipython/kernels/java/kernel.json으로 저장\n",
    "    * 디렉토리 생성    \n",
    "        ```\n",
    "        cd ~/.ipython\n",
    "        mkdir -p kernels/java\n",
    "        cd kernels/java\n",
    "        vim kernel.json\n",
    "        ```\n",
    "\n",
    "    * kernel.json 저장\n",
    "        ```\n",
    "        {\n",
    "         \"argv\": [\"python3\", \"c:\\\\Users\\\\A150\\\\Code\\\\git\\\\else\\\\java9_kernel\\\\javakernel\", \"-f\", \"{connection_file}\"],\n",
    "         \"display_name\": \"Java 9\",\n",
    "         \"language\": \"java\",\n",
    "         \"env\" : {\n",
    "             \"JAVA_9_HOME\": \"C:\\\\Program Files\\\\Java\\\\jdk-9\",\n",
    "             \"KULLA_HOME\": \"C:\\\\Users\\\\A150\\\\Code\\\\lib\\\\kulla--20160901005901.jar\"\n",
    "             }\n",
    "         }\n",
    "        ```\n",
    "\n",
    "* ipython notebook 실행"
   ]
  },
  {
   "cell_type": "markdown",
   "metadata": {},
   "source": [
    "#### DrJava\n",
    "\n",
    "* 설치 및 실행\n",
    "    * www.drjava.org로 가서 ’Download Jar File’ 선택해서 다운로드\n",
    "    * 별도의 설정은 필요하지 않고, 단순하게 jar실행\n",
    "    \n",
    "    ```\n",
    "    java -jar ~/Downloads/drjava-stable-20140826-r5761.jar\n",
    "    ```\n",
    "* classpath 설정\n",
    "    * drjava에서 컴파일하고 나면, 소스가 저장된 디렉토리에 클래스가 생성.\n",
    "    * drjava안에서 추가해줌\n",
    "    Tools > Interactions & Console > View Interactions Classpath...\n",
    "    Edit > Preferences > Extra Classpath classpath 확인\n",
    "    * 주의: drjava를 시작하고 나서 import하거나 클래스 변경이 있는 경우 재실행.\n",
    "    * 확인\n",
    "    ```\n",
    "    $ cat ~/.drjava\n",
    "    ```\n",
    "\n",
    "* '>'는 drjava interaction pane에서 실행하는 예시.\n",
    "\n",
    "    ```\n",
    "    //아주 간단하게 Hello World를 만들 수 있다.\n",
    "    > System.out.println(\"Hello World\")\n",
    "    Hello World\n",
    "\n",
    "    // 1부터 100까지 더하기도 쉽게.\n",
    "    > int sum=0;\n",
    "    > for(int i=0;i<10;i++) {\n",
    "            sum=sum+i;\n",
    "            }\n",
    "    > sum\n",
    "    45\n",
    "    // 간단한 함수의 작성과 실행의 예\n",
    "    > String name;\n",
    "    > name=\"jsl\"\n",
    "    \"jsl\"\n",
    "    > public String getName() {\n",
    "            return name;\n",
    "            }\n",
    "    > getName()\n",
    "    \"jsl\"\n",
    "\n",
    "    > import java.util.Date;\n",
    "    > Date birthdate;\n",
    "    > birthdate=new Date(2014,9,1)\n",
    "    Thu Oct 01 00:00:00 KST 3914\n",
    "    > birthdate.getTime()\n",
    "    61370233200000\n",
    "    > public Date getBirthdate() {\n",
    "            return birthdate;\n",
    "            }\n",
    "    > getBirthdate()\n",
    "    Thu Oct 01 00:00:00 KST 3914\n",
    "    ```\n"
   ]
  },
  {
   "cell_type": "markdown",
   "metadata": {},
   "source": [
    "#### UML\n",
    "\n",
    "* [plantUML](http://plantuml.com)\n",
    "\n",
    "* [웹에서 사용하기](planttext.com)\n",
    "* ipython notebook에서 사용하기\n",
    "    * /usr/local/bin/planuml.jar에 복사\n",
    "    * 또는 현재 디렉토리...\n",
    "        ```\n",
    "        pip install iplantuml\n",
    "        ```\n",
    "* java로 생성하기\n",
    "    * plantuml.jar를 다운로드하고 test\n",
    "    ```\n",
    "    java -jar plantuml.jar -testdot\n",
    "    ```"
   ]
  },
  {
   "cell_type": "markdown",
   "metadata": {},
   "source": [
    "## 1.5 강의자료\n",
    "\n",
    "* [강의노트북 보기](http://nbviewer.jupyter.org/github/smu405/j/)\n",
    "* [온라인채팅](https://gitter.im/smu405/j)\n",
    "* [강의자료](https://github.com/smu405/j)"
   ]
  },
  {
   "cell_type": "markdown",
   "metadata": {},
   "source": [
    "## 1.6 쉽게 배우는 자바\n",
    "\n",
    "* java는 컴파일 언어라서 어렵다.\n",
    "* 스크립트 언어와 달리 데이터 형data type을 미리 정해서, 메모리를 효율적으로 사용해야 한다.\n",
    "* jshell은 java 9에 새로 들어오는 '대화형' 기능\n",
    "* java가 대화형으로 사용할 수 없는 반면, 대하형이 가능한 언어가 인기를 끌고 있다 (예: Scala)\n",
    "* jshell의 특징\n",
    "    * 명령문으로만 작성 (클래스 없이)징\n",
    "    * jshell에서는 source -> compile -> run이 아니라, 명령문마다 실행\n",
    "    * 명령창에서 실행해도 되고, ipython kernel로 실행해도 된다 (ipython notebook의 magic, shell기능은 사용할 수 없다)"
   ]
  },
  {
   "cell_type": "markdown",
   "metadata": {},
   "source": [
    "## 문제 1-1: 숫자 1, 2를 더해 보기"
   ]
  },
  {
   "cell_type": "code",
   "execution_count": 1,
   "metadata": {
    "collapsed": false,
    "scrolled": false
   },
   "outputs": [
    {
     "name": "stdout",
     "output_type": "stream",
     "text": [
      " 1+2;\r\n",
      "|  Expression value is: 3\r\n",
      "|    assigned to temporary variable $1 of type int\r\n",
      "\r\n"
     ]
    }
   ],
   "source": [
    "1+2;"
   ]
  },
  {
   "cell_type": "markdown",
   "metadata": {},
   "source": [
    "* 변수를 이용해서 더해보기\n",
    "    * 변수를 box라고 비유한다.\n",
    "    * box에 1이라는 수를 저장한다. box안에는 1이라는 수가 있게 된다.\n",
    "    * box에 이름을 붙인다. 임의로 a라고 한다.\n",
    "    * 즉 a라는 box에 1이라는 수가 있다. 즉 a는 1이라는 숫자를 가지고 있다.\n",
    "* 그러나 아래와 같이 하면 오류가 난다. 그 이유는 무엇일까?\n",
    "    * box의 모양이 여러 가지가 있다고 생각해보자.\n",
    "    * 네모 박스에는 숫자가 저장되고, 동그란 박스에는 문자가 저장된다.\n",
    "    * 네모 박스에 넣으려면 숫자만 된다."
   ]
  },
  {
   "cell_type": "code",
   "execution_count": 1,
   "metadata": {
    "collapsed": false
   },
   "outputs": [
    {
     "name": "stdout",
     "output_type": "stream",
     "text": [
      " a=1;\r\n",
      "|  Error:\r\n",
      "|  cannot find symbol\r\n",
      "|    symbol:   variable a\r\n",
      "|  a=1;\r\n",
      "|  ^\r\n",
      "\r\n"
     ]
    }
   ],
   "source": [
    "a=1;"
   ]
  },
  {
   "cell_type": "code",
   "execution_count": 9,
   "metadata": {
    "collapsed": false
   },
   "outputs": [
    {
     "name": "stdout",
     "output_type": "stream",
     "text": [
      " int a=1;\r\n",
      "|  Added variable a of type int with initial value 1\r\n",
      "\r\n"
     ]
    }
   ],
   "source": [
    "int a=1;"
   ]
  },
  {
   "cell_type": "code",
   "execution_count": 10,
   "metadata": {
    "collapsed": false
   },
   "outputs": [
    {
     "name": "stdout",
     "output_type": "stream",
     "text": [
      " a='hello';\r\n",
      "|  Error:\r\n",
      "|  unclosed character literal\r\n",
      "|  a='hello';\r\n",
      "|    ^\r\n",
      "\r\n"
     ]
    }
   ],
   "source": [
    "a='hello';"
   ]
  },
  {
   "cell_type": "code",
   "execution_count": 13,
   "metadata": {
    "collapsed": false,
    "scrolled": false
   },
   "outputs": [
    {
     "name": "stdout",
     "output_type": "stream",
     "text": [
      " String s=\"hello\";\r\n",
      "|  Added variable s of type String with initial value \"hello\"\r\n",
      "\r\n"
     ]
    }
   ],
   "source": [
    "String s=\"hello\";"
   ]
  },
  {
   "cell_type": "markdown",
   "metadata": {},
   "source": [
    "* a와 b를 더해보자.\n"
   ]
  },
  {
   "cell_type": "code",
   "execution_count": 15,
   "metadata": {
    "collapsed": false
   },
   "outputs": [
    {
     "name": "stdout",
     "output_type": "stream",
     "text": [
      " int b=2;\r\n",
      "|  Modified variable b of type int with initial value 2\r\n",
      "|    Update overwrote variable b\r\n",
      "\r\n",
      " int c;\r\n",
      "|  Added variable c of type int\r\n",
      "\r\n",
      " c=a+b;\r\n",
      "|  Variable c has been assigned the value 3\r\n",
      "\r\n"
     ]
    }
   ],
   "source": [
    "int b=2;\n",
    "int c;\n",
    "c=a+b;"
   ]
  },
  {
   "cell_type": "markdown",
   "metadata": {},
   "source": [
    "* 함수로 만들어 보자.\n",
    "    * 함수명\n",
    "    * 입력변수\n",
    "        * argument\n",
    "        * parameter\n",
    "    * 돌려주는 값\n",
    "\n",
    "함수 요소 | 우리는 어떻게 만드나 | java\n",
    "-----|-----|-----\n",
    "함수명 | add | add\n",
    "입력변수 | a,b | int, int\n",
    "결과 값 | c | int\n",
    "\n",
    "\n",
    "```\n",
    "int add(int, int)\n",
    "```\n",
    "    * add(1,2)"
   ]
  },
  {
   "cell_type": "code",
   "execution_count": null,
   "metadata": {
    "collapsed": true
   },
   "outputs": [],
   "source": [
    "add(1,2)"
   ]
  },
  {
   "cell_type": "code",
   "execution_count": 16,
   "metadata": {
    "collapsed": false
   },
   "outputs": [
    {
     "name": "stdout",
     "output_type": "stream",
     "text": [
      " int add(int num1, int num2) {\r\n",
      "     int res;\r\n",
      "     res=num1+num2;\r\n",
      "     return res;\r\n",
      " }\r\n",
      "|  Added method add(int,int)\r\n",
      "\r\n"
     ]
    }
   ],
   "source": [
    "int add(int num1, int num2) {\n",
    "    int res;\n",
    "    res=num1+num2;\n",
    "    return res;\n",
    "}"
   ]
  },
  {
   "cell_type": "code",
   "execution_count": 17,
   "metadata": {
    "collapsed": false
   },
   "outputs": [
    {
     "name": "stdout",
     "output_type": "stream",
     "text": [
      " c=add(a,b);\r\n",
      "|  Variable c has been assigned the value 3\r\n",
      "\r\n"
     ]
    }
   ],
   "source": [
    "c=add(a,b);"
   ]
  },
  {
   "cell_type": "code",
   "execution_count": 18,
   "metadata": {
    "collapsed": false
   },
   "outputs": [
    {
     "name": "stdout",
     "output_type": "stream",
     "text": [
      " System.out.println(c);\r\n",
      "3\r\n",
      "\r\n"
     ]
    }
   ],
   "source": [
    "System.out.println(c);"
   ]
  },
  {
   "cell_type": "markdown",
   "metadata": {},
   "source": [
    "## 문제 1-2: 1부터 100까지 합계 계산하기"
   ]
  },
  {
   "cell_type": "code",
   "execution_count": 4,
   "metadata": {
    "collapsed": false
   },
   "outputs": [
    {
     "name": "stdout",
     "output_type": "stream",
     "text": [
      " int sum=0;\r\n",
      "|  Replaced variable sum of type int with initial value 0\r\n",
      "|    Update overwrote variable sum\r\n",
      "\r\n",
      " for(int i=0;i<10;i++)\r\n",
      "     sum+=i;\r\n",
      "\r\n"
     ]
    }
   ],
   "source": [
    "int sum=0;\n",
    "for(int i=0;i<10;i++)\n",
    "    sum+=i;"
   ]
  },
  {
   "cell_type": "code",
   "execution_count": 5,
   "metadata": {
    "collapsed": false,
    "scrolled": false
   },
   "outputs": [
    {
     "name": "stdout",
     "output_type": "stream",
     "text": [
      " System.out.println(sum);\r\n",
      "45\r\n",
      "\r\n"
     ]
    }
   ],
   "source": [
    "System.out.println(sum);"
   ]
  },
  {
   "cell_type": "markdown",
   "metadata": {},
   "source": [
    "* java 1.9에서 새로 등장한 jshell\n",
    "    * groovy와 같은 언어에서 기능을 제공"
   ]
  },
  {
   "cell_type": "markdown",
   "metadata": {},
   "source": [
    "* 변수 보기\n",
    "    ```\n",
    "    /vars\n",
    "    ```"
   ]
  },
  {
   "cell_type": "markdown",
   "metadata": {},
   "source": [
    "## 문제1-3: a=1이라고 해 놓고, a 값이 1과 같은지 비교하기\n",
    "\n",
    "* a=1은 저장하기\n",
    "* 비교하려면 a==1"
   ]
  },
  {
   "cell_type": "code",
   "execution_count": 1,
   "metadata": {
    "collapsed": false
   },
   "outputs": [
    {
     "name": "stdout",
     "output_type": "stream",
     "text": [
      " int a=1;\r\n",
      "|  Added variable a of type int with initial value 1\r\n",
      "\r\n"
     ]
    }
   ],
   "source": [
    "int a=1;"
   ]
  },
  {
   "cell_type": "code",
   "execution_count": 2,
   "metadata": {
    "collapsed": false
   },
   "outputs": [
    {
     "name": "stdout",
     "output_type": "stream",
     "text": [
      " a==1\r\n",
      "|  Expression value is: true\r\n",
      "|    assigned to temporary variable $2 of type boolean\r\n",
      "\r\n"
     ]
    }
   ],
   "source": [
    "a==1"
   ]
  },
  {
   "cell_type": "markdown",
   "metadata": {},
   "source": [
    "## 문제 1-4: jshell이용해 보기"
   ]
  },
  {
   "cell_type": "code",
   "execution_count": 3,
   "metadata": {
    "collapsed": false
   },
   "outputs": [
    {
     "name": "stdout",
     "output_type": "stream",
     "text": [
      " int a =2\r\n",
      "|  Added variable a of type int with initial value 2\r\n",
      "\r\n"
     ]
    }
   ],
   "source": [
    "int a =2 "
   ]
  },
  {
   "cell_type": "code",
   "execution_count": 1,
   "metadata": {
    "collapsed": false,
    "scrolled": true
   },
   "outputs": [
    {
     "name": "stdout",
     "output_type": "stream",
     "text": [
      " /imports\r\n",
      "|    import java.util.*\r\n",
      "|    import java.io.*\r\n",
      "|    import java.math.*\r\n",
      "|    import java.net.*\r\n",
      "|    import java.util.concurrent.*\r\n",
      "|    import java.util.prefs.*\r\n",
      "|    import java.util.regex.*\r\n",
      "\r\n"
     ]
    }
   ],
   "source": [
    "/imports"
   ]
  },
  {
   "cell_type": "code",
   "execution_count": 4,
   "metadata": {
    "collapsed": false,
    "scrolled": true
   },
   "outputs": [
    {
     "name": "stdout",
     "output_type": "stream",
     "text": [
      " /vars\r\n",
      "|    int a = 2\r\n",
      "\r\n"
     ]
    }
   ],
   "source": [
    "/vars"
   ]
  },
  {
   "cell_type": "markdown",
   "metadata": {},
   "source": [
    "* 이력\n",
    "    * 이력 보기\n",
    "    * 이력 저장하기\n",
    "    ```\n",
    "    /history\n",
    "    /save my.txt\n",
    "    ```"
   ]
  },
  {
   "cell_type": "markdown",
   "metadata": {},
   "source": [
    "* methods보기\n",
    "    ```\n",
    "    /methods\n",
    "    ```"
   ]
  },
  {
   "cell_type": "code",
   "execution_count": 11,
   "metadata": {
    "collapsed": false
   },
   "outputs": [
    {
     "name": "stdout",
     "output_type": "stream",
     "text": [
      " /methods\r\n",
      "|    printf (String,Object...)void\r\n",
      "\r\n"
     ]
    }
   ],
   "source": [
    "/methods"
   ]
  },
  {
   "cell_type": "code",
   "execution_count": 5,
   "metadata": {
    "collapsed": false
   },
   "outputs": [
    {
     "name": "stdout",
     "output_type": "stream",
     "text": [
      " /history\r\n",
      "\r\n",
      "vars\r\n",
      "/vars\r\n",
      "int a =2\r\n",
      "/vars\r\n",
      "/history\r\n",
      "\r\n"
     ]
    }
   ],
   "source": [
    "/history"
   ]
  },
  {
   "cell_type": "markdown",
   "metadata": {},
   "source": [
    "* load and execute"
   ]
  },
  {
   "cell_type": "code",
   "execution_count": null,
   "metadata": {
    "collapsed": false
   },
   "outputs": [],
   "source": [
    "/save my.txt"
   ]
  },
  {
   "cell_type": "code",
   "execution_count": null,
   "metadata": {
    "collapsed": true
   },
   "outputs": [],
   "source": [
    "/open my.txt"
   ]
  },
  {
   "cell_type": "markdown",
   "metadata": {
    "collapsed": true
   },
   "source": [
    "* set editor\n",
    "    ```\n",
    "    /set editor vim\n",
    "    /l\n",
    "    /edit 1\n",
    "    ```"
   ]
  },
  {
   "cell_type": "code",
   "execution_count": 2,
   "metadata": {
    "collapsed": false,
    "scrolled": true
   },
   "outputs": [
    {
     "name": "stdout",
     "output_type": "stream",
     "text": [
      " /help\r\n",
      "|  Type a Java language expression, statement, or declaration.\r\n",
      "|  Or type one of the following commands:\r\n",
      "\r\n",
      "|     /list [all|start|<name or id>]                       -- list the source you have typed\r\n",
      "|     /edit <name or id>                                   -- edit a source entry referenced by name or id\r\n",
      "|     /drop <name or id>                                   -- delete a source entry referenced by name or id\r\n",
      "|     /save [all|history|start] <file>                     -- Save snippet source to a file.\r\n",
      "|     /open <file>                                         -- open a file as source input\r\n",
      "|     /vars                                                -- list the declared variables and their values\r\n",
      "|     /methods                                             -- list the declared methods and their signatures\r\n",
      "|     /classes                                             -- list the declared classes\r\n",
      "|     /imports                                             -- list the imported items\r\n",
      "|     /exit                                                -- exit jshell\r\n",
      "|     /reset                                               -- reset jshell\r\n",
      "|     /reload [restore] [quiet]                            -- reset and replay relevant history -- current or previous (restore)\r\n",
      "|     /classpath <path>                                    -- add a path to the classpath\r\n",
      "|     /history                                             -- history of what you have typed\r\n",
      "|     /help [<command>|<subject>]                          -- get information about jshell\r\n",
      "|     /set editor|start|feedback|newmode|prompt|format ... -- set jshell configuration information\r\n",
      "|     /? [<command>|<subject>]                             -- get information about jshell\r\n",
      "|     /!                                                   -- re-run last snippet\r\n",
      "|     /<id>                                                -- re-run snippet by id\r\n",
      "|     /-<n>                                                -- re-run n-th previous snippet\r\n",
      "|  \r\n",
      "|  For more information type '/help' followed by the name of command or a subject.\r\n",
      "|  For example '/help /list' or '/help intro'.  Subjects:\r\n",
      "\r\n",
      "|     intro     -- an introduction to the jshell tool\r\n",
      "|     shortcuts -- a description of shortcuts\r\n",
      "\r\n"
     ]
    }
   ],
   "source": [
    "/help"
   ]
  },
  {
   "cell_type": "code",
   "execution_count": 12,
   "metadata": {
    "collapsed": false,
    "scrolled": false
   },
   "outputs": [
    {
     "name": "stdout",
     "output_type": "stream",
     "text": [
      " /set editor vim\r\n",
      "|  Editor set to: editor vim\r\n",
      "\r\n"
     ]
    }
   ],
   "source": [
    "/set editor vim"
   ]
  },
  {
   "cell_type": "code",
   "execution_count": 1,
   "metadata": {
    "collapsed": false,
    "scrolled": true
   },
   "outputs": [
    {
     "name": "stdout",
     "output_type": "stream",
     "text": [
      " /edit\r\n",
      "#\r\n",
      "# A fatal error has been detected by the Java Runtime Environment:\r\n",
      "#\r\n",
      "#  SIGSEGV (0xb) at pc=0x00007fb3eee98009, pid=10663, tid=10774\r\n",
      "#\r\n",
      "# JRE version: OpenJDK Runtime Environment (9.0) (build 9-internal+0-2016-04-14-195246.buildd.src)\r\n",
      "# Java VM: OpenJDK 64-Bit Server VM (9-internal+0-2016-04-14-195246.buildd.src, mixed mode, tiered, compressed oops, g1 gc, linux-amd64)\r\n",
      "# Problematic frame:\r\n",
      "# C  [libjava.so+0x1d009]  JNU_GetEnv+0x19\r\n",
      "#\r\n",
      "# Core dump will be written. Default location: Core dumps may be processed with \"/usr/share/apport/apport %p %s %c %P\" (or dumping to /home/jsl/Code/git/bb/sd/core.10663)\r\n",
      "#\r\n",
      "# An error report file with more information is saved as:\r\n",
      "# /home/jsl/Code/git/bb/sd/hs_err_pid10663.log\r\n",
      "#\r\n",
      "# If you would like to submit a bug report, please visit:\r\n",
      "#   http://bugreport.java.com/bugreport/crash.jsp\r\n",
      "# The crash happened outside the Java Virtual Machine in native code.\r\n",
      "# See problematic frame for where to report the bug.\r\n",
      "#\r\n",
      "Restarting java"
     ]
    }
   ],
   "source": [
    "/edit"
   ]
  },
  {
   "cell_type": "markdown",
   "metadata": {},
   "source": [
    "## 문제 1-5: 클래스 uml 그려보기\n",
    "\n",
    "* /usr/local/bin/planuml.jar에 복사\n",
    "\n",
    "```\n",
    "pip install iplantuml\n",
    "```"
   ]
  },
  {
   "cell_type": "code",
   "execution_count": 3,
   "metadata": {
    "collapsed": false
   },
   "outputs": [],
   "source": [
    "import iplantuml"
   ]
  },
  {
   "cell_type": "code",
   "execution_count": 4,
   "metadata": {
    "collapsed": false
   },
   "outputs": [
    {
     "data": {
      "image/svg+xml": [
       "<svg height=\"173px\" style=\"width:560px;height:173px;\" version=\"1.1\" viewBox=\"0 0 560 173\" width=\"560px\" xmlns=\"http://www.w3.org/2000/svg\" xmlns:xlink=\"http://www.w3.org/1999/xlink\"><defs><filter height=\"300%\" id=\"f1\" width=\"300%\" x=\"-1\" y=\"-1\"><feGaussianBlur result=\"blurOut\" stdDeviation=\"2.0\"/><feColorMatrix in=\"blurOut\" result=\"blurOut2\" type=\"matrix\" values=\"0 0 0 0 0 0 0 0 0 0 0 0 0 0 0 0 0 0 .4 0\"/><feOffset dx=\"4.0\" dy=\"4.0\" in=\"blurOut2\" result=\"blurOut3\"/><feBlend in=\"SourceGraphic\" in2=\"blurOut3\" mode=\"normal\"/></filter></defs><g><rect fill=\"#FEFECE\" filter=\"url(#f1)\" height=\"48\" style=\"stroke: #A80036; stroke-width: 1.5;\" width=\"81\" x=\"6\" y=\"8\"/><ellipse cx=\"21\" cy=\"24\" fill=\"#ADD1B2\" rx=\"11\" ry=\"11\" style=\"stroke: #A80036; stroke-width: 1.0;\"/><path d=\"M23.9688,29.6406 Q23.3906,29.9375 22.75,30.0859 Q22.1094,30.2344 21.4063,30.2344 Q18.9063,30.2344 17.5859,28.5859 Q16.2656,26.9375 16.2656,23.8125 Q16.2656,20.6875 17.5859,19.0313 Q18.9063,17.375 21.4063,17.375 Q22.1094,17.375 22.7578,17.5313 Q23.4063,17.6875 23.9688,17.9844 L23.9688,20.7031 Q23.3438,20.125 22.75,19.8516 Q22.1563,19.5781 21.5313,19.5781 Q20.1875,19.5781 19.5,20.6484 Q18.8125,21.7188 18.8125,23.8125 Q18.8125,25.9063 19.5,26.9766 Q20.1875,28.0469 21.5313,28.0469 Q22.1563,28.0469 22.75,27.7734 Q23.3438,27.5 23.9688,26.9219 L23.9688,29.6406 Z \"/><text fill=\"#000000\" font-family=\"sans-serif\" font-size=\"12\" lengthAdjust=\"spacingAndGlyphs\" textLength=\"49\" x=\"35\" y=\"28.1543\">Class11</text><line style=\"stroke: #A80036; stroke-width: 1.5;\" x1=\"7\" x2=\"86\" y1=\"40\" y2=\"40\"/><line style=\"stroke: #A80036; stroke-width: 1.5;\" x1=\"7\" x2=\"86\" y1=\"48\" y2=\"48\"/><rect fill=\"#FEFECE\" filter=\"url(#f1)\" height=\"48\" style=\"stroke: #A80036; stroke-width: 1.5;\" width=\"81\" x=\"6\" y=\"116\"/><ellipse cx=\"21\" cy=\"132\" fill=\"#ADD1B2\" rx=\"11\" ry=\"11\" style=\"stroke: #A80036; stroke-width: 1.0;\"/><path d=\"M23.9688,137.6406 Q23.3906,137.9375 22.75,138.0859 Q22.1094,138.2344 21.4063,138.2344 Q18.9063,138.2344 17.5859,136.5859 Q16.2656,134.9375 16.2656,131.8125 Q16.2656,128.6875 17.5859,127.0313 Q18.9063,125.375 21.4063,125.375 Q22.1094,125.375 22.7578,125.5313 Q23.4063,125.6875 23.9688,125.9844 L23.9688,128.7031 Q23.3438,128.125 22.75,127.8516 Q22.1563,127.5781 21.5313,127.5781 Q20.1875,127.5781 19.5,128.6484 Q18.8125,129.7188 18.8125,131.8125 Q18.8125,133.9063 19.5,134.9766 Q20.1875,136.0469 21.5313,136.0469 Q22.1563,136.0469 22.75,135.7734 Q23.3438,135.5 23.9688,134.9219 L23.9688,137.6406 Z \"/><text fill=\"#000000\" font-family=\"sans-serif\" font-size=\"12\" lengthAdjust=\"spacingAndGlyphs\" textLength=\"49\" x=\"35\" y=\"136.1543\">Class12</text><line style=\"stroke: #A80036; stroke-width: 1.5;\" x1=\"7\" x2=\"86\" y1=\"148\" y2=\"148\"/><line style=\"stroke: #A80036; stroke-width: 1.5;\" x1=\"7\" x2=\"86\" y1=\"156\" y2=\"156\"/><rect fill=\"#FEFECE\" filter=\"url(#f1)\" height=\"48\" style=\"stroke: #A80036; stroke-width: 1.5;\" width=\"81\" x=\"122\" y=\"8\"/><ellipse cx=\"137\" cy=\"24\" fill=\"#ADD1B2\" rx=\"11\" ry=\"11\" style=\"stroke: #A80036; stroke-width: 1.0;\"/><path d=\"M139.9688,29.6406 Q139.3906,29.9375 138.75,30.0859 Q138.1094,30.2344 137.4063,30.2344 Q134.9063,30.2344 133.5859,28.5859 Q132.2656,26.9375 132.2656,23.8125 Q132.2656,20.6875 133.5859,19.0313 Q134.9063,17.375 137.4063,17.375 Q138.1094,17.375 138.7578,17.5313 Q139.4063,17.6875 139.9688,17.9844 L139.9688,20.7031 Q139.3438,20.125 138.75,19.8516 Q138.1563,19.5781 137.5313,19.5781 Q136.1875,19.5781 135.5,20.6484 Q134.8125,21.7188 134.8125,23.8125 Q134.8125,25.9063 135.5,26.9766 Q136.1875,28.0469 137.5313,28.0469 Q138.1563,28.0469 138.75,27.7734 Q139.3438,27.5 139.9688,26.9219 L139.9688,29.6406 Z \"/><text fill=\"#000000\" font-family=\"sans-serif\" font-size=\"12\" lengthAdjust=\"spacingAndGlyphs\" textLength=\"49\" x=\"151\" y=\"28.1543\">Class13</text><line style=\"stroke: #A80036; stroke-width: 1.5;\" x1=\"123\" x2=\"202\" y1=\"40\" y2=\"40\"/><line style=\"stroke: #A80036; stroke-width: 1.5;\" x1=\"123\" x2=\"202\" y1=\"48\" y2=\"48\"/><rect fill=\"#FEFECE\" filter=\"url(#f1)\" height=\"48\" style=\"stroke: #A80036; stroke-width: 1.5;\" width=\"81\" x=\"122\" y=\"116\"/><ellipse cx=\"137\" cy=\"132\" fill=\"#ADD1B2\" rx=\"11\" ry=\"11\" style=\"stroke: #A80036; stroke-width: 1.0;\"/><path d=\"M139.9688,137.6406 Q139.3906,137.9375 138.75,138.0859 Q138.1094,138.2344 137.4063,138.2344 Q134.9063,138.2344 133.5859,136.5859 Q132.2656,134.9375 132.2656,131.8125 Q132.2656,128.6875 133.5859,127.0313 Q134.9063,125.375 137.4063,125.375 Q138.1094,125.375 138.7578,125.5313 Q139.4063,125.6875 139.9688,125.9844 L139.9688,128.7031 Q139.3438,128.125 138.75,127.8516 Q138.1563,127.5781 137.5313,127.5781 Q136.1875,127.5781 135.5,128.6484 Q134.8125,129.7188 134.8125,131.8125 Q134.8125,133.9063 135.5,134.9766 Q136.1875,136.0469 137.5313,136.0469 Q138.1563,136.0469 138.75,135.7734 Q139.3438,135.5 139.9688,134.9219 L139.9688,137.6406 Z \"/><text fill=\"#000000\" font-family=\"sans-serif\" font-size=\"12\" lengthAdjust=\"spacingAndGlyphs\" textLength=\"49\" x=\"151\" y=\"136.1543\">Class14</text><line style=\"stroke: #A80036; stroke-width: 1.5;\" x1=\"123\" x2=\"202\" y1=\"148\" y2=\"148\"/><line style=\"stroke: #A80036; stroke-width: 1.5;\" x1=\"123\" x2=\"202\" y1=\"156\" y2=\"156\"/><rect fill=\"#FEFECE\" filter=\"url(#f1)\" height=\"48\" style=\"stroke: #A80036; stroke-width: 1.5;\" width=\"81\" x=\"238\" y=\"8\"/><ellipse cx=\"253\" cy=\"24\" fill=\"#ADD1B2\" rx=\"11\" ry=\"11\" style=\"stroke: #A80036; stroke-width: 1.0;\"/><path d=\"M255.9688,29.6406 Q255.3906,29.9375 254.75,30.0859 Q254.1094,30.2344 253.4063,30.2344 Q250.9063,30.2344 249.5859,28.5859 Q248.2656,26.9375 248.2656,23.8125 Q248.2656,20.6875 249.5859,19.0313 Q250.9063,17.375 253.4063,17.375 Q254.1094,17.375 254.7578,17.5313 Q255.4063,17.6875 255.9688,17.9844 L255.9688,20.7031 Q255.3438,20.125 254.75,19.8516 Q254.1563,19.5781 253.5313,19.5781 Q252.1875,19.5781 251.5,20.6484 Q250.8125,21.7188 250.8125,23.8125 Q250.8125,25.9063 251.5,26.9766 Q252.1875,28.0469 253.5313,28.0469 Q254.1563,28.0469 254.75,27.7734 Q255.3438,27.5 255.9688,26.9219 L255.9688,29.6406 Z \"/><text fill=\"#000000\" font-family=\"sans-serif\" font-size=\"12\" lengthAdjust=\"spacingAndGlyphs\" textLength=\"49\" x=\"267\" y=\"28.1543\">Class15</text><line style=\"stroke: #A80036; stroke-width: 1.5;\" x1=\"239\" x2=\"318\" y1=\"40\" y2=\"40\"/><line style=\"stroke: #A80036; stroke-width: 1.5;\" x1=\"239\" x2=\"318\" y1=\"48\" y2=\"48\"/><rect fill=\"#FEFECE\" filter=\"url(#f1)\" height=\"48\" style=\"stroke: #A80036; stroke-width: 1.5;\" width=\"81\" x=\"238\" y=\"116\"/><ellipse cx=\"253\" cy=\"132\" fill=\"#ADD1B2\" rx=\"11\" ry=\"11\" style=\"stroke: #A80036; stroke-width: 1.0;\"/><path d=\"M255.9688,137.6406 Q255.3906,137.9375 254.75,138.0859 Q254.1094,138.2344 253.4063,138.2344 Q250.9063,138.2344 249.5859,136.5859 Q248.2656,134.9375 248.2656,131.8125 Q248.2656,128.6875 249.5859,127.0313 Q250.9063,125.375 253.4063,125.375 Q254.1094,125.375 254.7578,125.5313 Q255.4063,125.6875 255.9688,125.9844 L255.9688,128.7031 Q255.3438,128.125 254.75,127.8516 Q254.1563,127.5781 253.5313,127.5781 Q252.1875,127.5781 251.5,128.6484 Q250.8125,129.7188 250.8125,131.8125 Q250.8125,133.9063 251.5,134.9766 Q252.1875,136.0469 253.5313,136.0469 Q254.1563,136.0469 254.75,135.7734 Q255.3438,135.5 255.9688,134.9219 L255.9688,137.6406 Z \"/><text fill=\"#000000\" font-family=\"sans-serif\" font-size=\"12\" lengthAdjust=\"spacingAndGlyphs\" textLength=\"49\" x=\"267\" y=\"136.1543\">Class16</text><line style=\"stroke: #A80036; stroke-width: 1.5;\" x1=\"239\" x2=\"318\" y1=\"148\" y2=\"148\"/><line style=\"stroke: #A80036; stroke-width: 1.5;\" x1=\"239\" x2=\"318\" y1=\"156\" y2=\"156\"/><rect fill=\"#FEFECE\" filter=\"url(#f1)\" height=\"48\" style=\"stroke: #A80036; stroke-width: 1.5;\" width=\"81\" x=\"354\" y=\"8\"/><ellipse cx=\"369\" cy=\"24\" fill=\"#ADD1B2\" rx=\"11\" ry=\"11\" style=\"stroke: #A80036; stroke-width: 1.0;\"/><path d=\"M371.9688,29.6406 Q371.3906,29.9375 370.75,30.0859 Q370.1094,30.2344 369.4063,30.2344 Q366.9063,30.2344 365.5859,28.5859 Q364.2656,26.9375 364.2656,23.8125 Q364.2656,20.6875 365.5859,19.0313 Q366.9063,17.375 369.4063,17.375 Q370.1094,17.375 370.7578,17.5313 Q371.4063,17.6875 371.9688,17.9844 L371.9688,20.7031 Q371.3438,20.125 370.75,19.8516 Q370.1563,19.5781 369.5313,19.5781 Q368.1875,19.5781 367.5,20.6484 Q366.8125,21.7188 366.8125,23.8125 Q366.8125,25.9063 367.5,26.9766 Q368.1875,28.0469 369.5313,28.0469 Q370.1563,28.0469 370.75,27.7734 Q371.3438,27.5 371.9688,26.9219 L371.9688,29.6406 Z \"/><text fill=\"#000000\" font-family=\"sans-serif\" font-size=\"12\" lengthAdjust=\"spacingAndGlyphs\" textLength=\"49\" x=\"383\" y=\"28.1543\">Class17</text><line style=\"stroke: #A80036; stroke-width: 1.5;\" x1=\"355\" x2=\"434\" y1=\"40\" y2=\"40\"/><line style=\"stroke: #A80036; stroke-width: 1.5;\" x1=\"355\" x2=\"434\" y1=\"48\" y2=\"48\"/><rect fill=\"#FEFECE\" filter=\"url(#f1)\" height=\"48\" style=\"stroke: #A80036; stroke-width: 1.5;\" width=\"81\" x=\"354\" y=\"116\"/><ellipse cx=\"369\" cy=\"132\" fill=\"#ADD1B2\" rx=\"11\" ry=\"11\" style=\"stroke: #A80036; stroke-width: 1.0;\"/><path d=\"M371.9688,137.6406 Q371.3906,137.9375 370.75,138.0859 Q370.1094,138.2344 369.4063,138.2344 Q366.9063,138.2344 365.5859,136.5859 Q364.2656,134.9375 364.2656,131.8125 Q364.2656,128.6875 365.5859,127.0313 Q366.9063,125.375 369.4063,125.375 Q370.1094,125.375 370.7578,125.5313 Q371.4063,125.6875 371.9688,125.9844 L371.9688,128.7031 Q371.3438,128.125 370.75,127.8516 Q370.1563,127.5781 369.5313,127.5781 Q368.1875,127.5781 367.5,128.6484 Q366.8125,129.7188 366.8125,131.8125 Q366.8125,133.9063 367.5,134.9766 Q368.1875,136.0469 369.5313,136.0469 Q370.1563,136.0469 370.75,135.7734 Q371.3438,135.5 371.9688,134.9219 L371.9688,137.6406 Z \"/><text fill=\"#000000\" font-family=\"sans-serif\" font-size=\"12\" lengthAdjust=\"spacingAndGlyphs\" textLength=\"49\" x=\"383\" y=\"136.1543\">Class18</text><line style=\"stroke: #A80036; stroke-width: 1.5;\" x1=\"355\" x2=\"434\" y1=\"148\" y2=\"148\"/><line style=\"stroke: #A80036; stroke-width: 1.5;\" x1=\"355\" x2=\"434\" y1=\"156\" y2=\"156\"/><rect fill=\"#FEFECE\" filter=\"url(#f1)\" height=\"48\" style=\"stroke: #A80036; stroke-width: 1.5;\" width=\"81\" x=\"470\" y=\"8\"/><ellipse cx=\"485\" cy=\"24\" fill=\"#ADD1B2\" rx=\"11\" ry=\"11\" style=\"stroke: #A80036; stroke-width: 1.0;\"/><path d=\"M487.9688,29.6406 Q487.3906,29.9375 486.75,30.0859 Q486.1094,30.2344 485.4063,30.2344 Q482.9063,30.2344 481.5859,28.5859 Q480.2656,26.9375 480.2656,23.8125 Q480.2656,20.6875 481.5859,19.0313 Q482.9063,17.375 485.4063,17.375 Q486.1094,17.375 486.7578,17.5313 Q487.4063,17.6875 487.9688,17.9844 L487.9688,20.7031 Q487.3438,20.125 486.75,19.8516 Q486.1563,19.5781 485.5313,19.5781 Q484.1875,19.5781 483.5,20.6484 Q482.8125,21.7188 482.8125,23.8125 Q482.8125,25.9063 483.5,26.9766 Q484.1875,28.0469 485.5313,28.0469 Q486.1563,28.0469 486.75,27.7734 Q487.3438,27.5 487.9688,26.9219 L487.9688,29.6406 Z \"/><text fill=\"#000000\" font-family=\"sans-serif\" font-size=\"12\" lengthAdjust=\"spacingAndGlyphs\" textLength=\"49\" x=\"499\" y=\"28.1543\">Class19</text><line style=\"stroke: #A80036; stroke-width: 1.5;\" x1=\"471\" x2=\"550\" y1=\"40\" y2=\"40\"/><line style=\"stroke: #A80036; stroke-width: 1.5;\" x1=\"471\" x2=\"550\" y1=\"48\" y2=\"48\"/><rect fill=\"#FEFECE\" filter=\"url(#f1)\" height=\"48\" style=\"stroke: #A80036; stroke-width: 1.5;\" width=\"81\" x=\"470\" y=\"116\"/><ellipse cx=\"485\" cy=\"132\" fill=\"#ADD1B2\" rx=\"11\" ry=\"11\" style=\"stroke: #A80036; stroke-width: 1.0;\"/><path d=\"M487.9688,137.6406 Q487.3906,137.9375 486.75,138.0859 Q486.1094,138.2344 485.4063,138.2344 Q482.9063,138.2344 481.5859,136.5859 Q480.2656,134.9375 480.2656,131.8125 Q480.2656,128.6875 481.5859,127.0313 Q482.9063,125.375 485.4063,125.375 Q486.1094,125.375 486.7578,125.5313 Q487.4063,125.6875 487.9688,125.9844 L487.9688,128.7031 Q487.3438,128.125 486.75,127.8516 Q486.1563,127.5781 485.5313,127.5781 Q484.1875,127.5781 483.5,128.6484 Q482.8125,129.7188 482.8125,131.8125 Q482.8125,133.9063 483.5,134.9766 Q484.1875,136.0469 485.5313,136.0469 Q486.1563,136.0469 486.75,135.7734 Q487.3438,135.5 487.9688,134.9219 L487.9688,137.6406 Z \"/><text fill=\"#000000\" font-family=\"sans-serif\" font-size=\"12\" lengthAdjust=\"spacingAndGlyphs\" textLength=\"49\" x=\"499\" y=\"136.1543\">Class20</text><line style=\"stroke: #A80036; stroke-width: 1.5;\" x1=\"471\" x2=\"550\" y1=\"148\" y2=\"148\"/><line style=\"stroke: #A80036; stroke-width: 1.5;\" x1=\"471\" x2=\"550\" y1=\"156\" y2=\"156\"/><path d=\"M46.5,76.0236 C46.5,89.5792 46.5,104.0381 46.5,115.6784 \" fill=\"none\" style=\"stroke: #A80036; stroke-width: 1.0; stroke-dasharray: 7.0,7.0;\"/><polygon fill=\"none\" points=\"39.5001,76.0005,46.5,56,53.5001,76.0004,39.5001,76.0005\" style=\"stroke: #A80036; stroke-width: 1.0;\"/><path d=\"M162.5,56 C162.5,72.003 162.5,93.4461 162.5,110.528 \" fill=\"none\" style=\"stroke: #A80036; stroke-width: 1.0;\"/><polygon fill=\"#A80036\" points=\"162.5,115.6784,166.5,106.6784,162.5,110.6784,158.5,106.6784,162.5,115.6784\" style=\"stroke: #A80036; stroke-width: 1.0;\"/><path d=\"M278.5,56 C278.5,72.003 278.5,93.4461 278.5,110.528 \" fill=\"none\" style=\"stroke: #A80036; stroke-width: 1.0; stroke-dasharray: 7.0,7.0;\"/><polygon fill=\"#A80036\" points=\"278.5,115.6784,282.5,106.6784,278.5,110.6784,274.5,106.6784,278.5,115.6784\" style=\"stroke: #A80036; stroke-width: 1.0;\"/><path d=\"M394.5,56 C394.5,67.5885 394.5,82.0294 394.5,95.6013 \" fill=\"none\" style=\"stroke: #A80036; stroke-width: 1.0; stroke-dasharray: 7.0,7.0;\"/><polygon fill=\"none\" points=\"401.5,95.6785,394.5,115.6784,387.5,95.6784,401.5,95.6785\" style=\"stroke: #A80036; stroke-width: 1.0;\"/><path d=\"M510.5,69.3383 C510.5,80.0064 510.5,91.6772 510.5,102.3638 \" fill=\"none\" style=\"stroke: #A80036; stroke-width: 1.0;\"/><polygon fill=\"#A80036\" points=\"510.5,115.6784,514.5,109.6784,510.5,103.6784,506.5,109.6784,510.5,115.6784\" style=\"stroke: #A80036; stroke-width: 1.0;\"/><polygon fill=\"#A80036\" points=\"510.5,56,506.5,65,510.5,61,514.5,65,510.5,56\" style=\"stroke: #A80036; stroke-width: 1.0;\"/><line style=\"stroke: #A80036; stroke-width: 1.0;\" x1=\"510.5\" x2=\"510.5\" y1=\"61\" y2=\"69.0005\"/></g></svg>"
      ],
      "text/plain": [
       "<IPython.core.display.SVG object>"
      ]
     },
     "execution_count": 4,
     "metadata": {},
     "output_type": "execute_result"
    }
   ],
   "source": [
    "%%plantuml\n",
    "@startuml\n",
    "Class11 <|.. Class12\n",
    "Class13 --> Class14\n",
    "Class15 ..> Class16\n",
    "Class17 ..|> Class18\n",
    "Class19 <--* Class20\n",
    "@enduml"
   ]
  }
 ],
 "metadata": {
  "kernelspec": {
   "display_name": "Python 2",
   "language": "python",
   "name": "python2"
  },
  "language_info": {
   "codemirror_mode": {
    "name": "ipython",
    "version": 2
   },
   "file_extension": ".py",
   "mimetype": "text/x-python",
   "name": "python",
   "nbconvert_exporter": "python",
   "pygments_lexer": "ipython2",
   "version": "2.7.12"
  }
 },
 "nbformat": 4,
 "nbformat_minor": 0
}
