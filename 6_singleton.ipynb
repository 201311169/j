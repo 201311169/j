{
 "cells": [
  {
   "cell_type": "markdown",
   "metadata": {
    "slideshow": {
     "slide_type": "slide"
    }
   },
   "source": [
    "# 강의내용\n",
    "\n",
    "* 교재 5장 HFDP Ch5\n",
    "* Singleton 패턴 (Creational Design Pattern)\n",
    "* 프로그래밍 'Chocolate Factory' (HFDP Ch4)\n",
    "* TOC\n",
    "    * intro\n",
    "    * problems\n",
    "    * before\n",
    "    * design\n",
    "    * after\n",
    "    * case implementation\n",
    "    * exercise (by Sat to git: 50% for 1 day late deadline) \n",
    "        * case extension\n",
    "            * ChocolateBoiler threadsafe\n",
    "        * new case -  Printer spooler"
   ]
  },
  {
   "cell_type": "markdown",
   "metadata": {
    "slideshow": {
     "slide_type": "slide"
    }
   },
   "source": [
    "# 1. Singleton 패턴\n",
    "\n",
    "\n",
    "* Client - 객체를 1개만 생성\n",
    "* 구분\n",
    "    * eager initialization\n",
    "        * the instance of Singleton Class is created at the time of class loading\n",
    "        * 처음에 생성하므로 자원 소모.\n",
    "        * exception handling하기 어려움.\n",
    "        * p.181\n",
    "        ```\n",
    "    private static Singleton instance = new Singleton();\n",
    "    private Singleton(){}\n",
    "    public static Singleton getInstance(){\n",
    "        return instance;\n",
    "    }\n",
    "    ```\n",
    "    * lazy initialization\n",
    "        * ```pulbic static Singleton getInstance()```\n",
    "    * threadsafe\n",
    "        * make the global access method synchronized, so that only one thread can execute this method at a time\n",
    "        * ```public static synchronized Singleton getInstance()```\n",
    "    * double checked locking (p.182)\n",
    "        * thread-safety reduces the performance because of cost associated with the synchronized method\n",
    "        * double checked locking principle\n",
    "            * thread가 동시에 동일한 함수를 사용하지 못하게 함.\n",
    "            * the synchronized block is used with 'if'문\n",
    "            * 사용하는 thread는 잠금사용. 다른 thread가 사용하려면 대기. \n",
    "* cases\n",
    "    * HFDP Chocolate Factory\n",
    "    * thread\n",
    "    * print pooler\n",
    "\n",
    "* 디자인패턴 요소\n",
    "\n",
    "요소 | 설명\n",
    "---|---\n",
    "name | Singleton\n",
    "problem | 여러 객체가 생성되면 상태관리 어려움.\n",
    "solution | 객체 생성자를 중앙 관리\n",
    "consequence | 객체가 1개라서 일관된 상태"
   ]
  },
  {
   "cell_type": "markdown",
   "metadata": {
    "slideshow": {
     "slide_type": "slide"
    }
   },
   "source": [
    "# 2. 문제\n",
    "\n",
    "* 커피 바리스타가 많은 경우\n",
    "     * 커피를 주문하고 오래 걸려서 다른 바리스타에게 '주문이 나오지 않았다'고 말하는 경우\n",
    "     * 커피바리스타는 서로 확인하지 않고 커피를 만든다.\n",
    "     * 고객이 여러 번 '커피가 나오지 않았다'고 확인할 때마다 커피를 만들면 문제\n",
    "* 클래스에 대해 객체를 1개만 생성 해야 하는 상황.\n",
    "    * 로그 logger, 프린트 spooler\n",
    "* 독점의 문제? 사용 중 -> 오랫 동안 사용하면 문제"
   ]
  },
  {
   "cell_type": "code",
   "execution_count": 1,
   "metadata": {
    "collapsed": false
   },
   "outputs": [
    {
     "name": "stdout",
     "output_type": "stream",
     "text": [
      "/Users/media/Code/git/sd/lib\n",
      "The environment variable GRAPHVIZ_DOT has been set to /opt/local/bin/dot\n",
      "Dot executable is /opt/local/bin/dot\n",
      "Dot version: dot - graphviz version 2.38.0 (20140413.2041)\n",
      "Installation seems OK. File generation OK\n"
     ]
    }
   ],
   "source": [
    "import os\n",
    "import glob\n",
    "\n",
    "mywd=%pwd\n",
    "myplantdir=os.path.join(mywd,'lib')\n",
    "mydotdir=!which dot\n",
    "mydot=mydotdir[0]\n",
    "\n",
    "%cd {myplantdir}\n",
    "glob.glob(r'./*.jar')\n",
    "os.environ['GRAPHVIZ_DOT']=mydot\n",
    "!java -jar {myplantdir}/plantuml.jar -testdot"
   ]
  },
  {
   "cell_type": "code",
   "execution_count": 28,
   "metadata": {
    "collapsed": false,
    "slideshow": {
     "slide_type": "slide"
    }
   },
   "outputs": [
    {
     "name": "stdout",
     "output_type": "stream",
     "text": [
      "Installed plantuml_magics.py. To use it, type:\n",
      "  %load_ext plantuml_magics\n"
     ]
    }
   ],
   "source": [
    "%install_ext https://raw.githubusercontent.com/sberke/ipython-plantuml/master/plantuml_magics.py"
   ]
  },
  {
   "cell_type": "code",
   "execution_count": 29,
   "metadata": {
    "collapsed": false,
    "slideshow": {
     "slide_type": "slide"
    }
   },
   "outputs": [],
   "source": [
    "%load_ext plantuml_magics"
   ]
  },
  {
   "cell_type": "markdown",
   "metadata": {
    "slideshow": {
     "slide_type": "slide"
    }
   },
   "source": [
    "# 3. before\n",
    "\n",
    "* 고객이 '커피가 나오지 않았다'고 확인할 때마다, 커피바리스타가 주문이 실행되고 있는지 서로 확인하지 않고 커피를 만들면 문제\n",
    "* 커피보일러 -> 초콜릿 보일러"
   ]
  },
  {
   "cell_type": "code",
   "execution_count": 44,
   "metadata": {
    "collapsed": false,
    "slideshow": {
     "slide_type": "slide"
    }
   },
   "outputs": [
    {
     "data": {
      "image/svg+xml": [
       "<svg height=\"190px\" style=\"width:235px;height:190px;\" version=\"1.1\" viewBox=\"0 0 235 190\" width=\"235px\" xmlns=\"http://www.w3.org/2000/svg\" xmlns:xlink=\"http://www.w3.org/1999/xlink\"><defs><filter height=\"300%\" id=\"f1\" width=\"300%\" x=\"-1\" y=\"-1\"><feGaussianBlur result=\"blurOut\" stdDeviation=\"2.0\"/><feColorMatrix in=\"blurOut\" result=\"blurOut2\" type=\"matrix\" values=\"0 0 0 0 0 0 0 0 0 0 0 0 0 0 0 0 0 0 .4 0\"/><feOffset dx=\"4.0\" dy=\"4.0\" in=\"blurOut2\" result=\"blurOut3\"/><feBlend in=\"SourceGraphic\" in2=\"blurOut3\" mode=\"normal\"/></filter></defs><g><rect fill=\"#FEFECE\" filter=\"url(#f1)\" height=\"48\" style=\"stroke: #A80036; stroke-width: 1.5;\" width=\"64\" x=\"13.5\" y=\"8\"/><ellipse cx=\"28.5\" cy=\"24\" fill=\"#ADD1B2\" rx=\"11\" ry=\"11\" style=\"stroke: #A80036; stroke-width: 1.0;\"/><path d=\"M31.4731,29.6431 Q30.8921,29.9419 30.2529,30.0913 Q29.6138,30.2407 28.9082,30.2407 Q26.4014,30.2407 25.0815,28.5889 Q23.7617,26.937 23.7617,23.8159 Q23.7617,20.6865 25.0815,19.0347 Q26.4014,17.3828 28.9082,17.3828 Q29.6138,17.3828 30.2612,17.5322 Q30.9087,17.6816 31.4731,17.9805 L31.4731,20.7031 Q30.8423,20.1221 30.2488,19.8523 Q29.6553,19.5825 29.0244,19.5825 Q27.6797,19.5825 26.9949,20.6492 Q26.3101,21.7158 26.3101,23.8159 Q26.3101,25.9077 26.9949,26.9744 Q27.6797,28.041 29.0244,28.041 Q29.6553,28.041 30.2488,27.7712 Q30.8423,27.5015 31.4731,26.9204 Z \"/><text fill=\"#000000\" font-family=\"sans-serif\" font-size=\"12\" lengthAdjust=\"spacingAndGlyphs\" textLength=\"32\" x=\"42.5\" y=\"28.5352\">Client</text><line style=\"stroke: #A80036; stroke-width: 1.5;\" x1=\"14.5\" x2=\"76.5\" y1=\"40\" y2=\"40\"/><line style=\"stroke: #A80036; stroke-width: 1.5;\" x1=\"14.5\" x2=\"76.5\" y1=\"48\" y2=\"48\"/><rect fill=\"#FEFECE\" filter=\"url(#f1)\" height=\"48\" style=\"stroke: #A80036; stroke-width: 1.5;\" width=\"79\" x=\"147\" y=\"8\"/><ellipse cx=\"162\" cy=\"24\" fill=\"#ADD1B2\" rx=\"11\" ry=\"11\" style=\"stroke: #A80036; stroke-width: 1.0;\"/><path d=\"M164.9731,29.6431 Q164.3921,29.9419 163.7529,30.0913 Q163.1138,30.2407 162.4082,30.2407 Q159.9014,30.2407 158.5815,28.5889 Q157.2617,26.937 157.2617,23.8159 Q157.2617,20.6865 158.5815,19.0347 Q159.9014,17.3828 162.4082,17.3828 Q163.1138,17.3828 163.7612,17.5322 Q164.4087,17.6816 164.9731,17.9805 L164.9731,20.7031 Q164.3423,20.1221 163.7488,19.8523 Q163.1553,19.5825 162.5244,19.5825 Q161.1797,19.5825 160.4949,20.6492 Q159.8101,21.7158 159.8101,23.8159 Q159.8101,25.9077 160.4949,26.9744 Q161.1797,28.041 162.5244,28.041 Q163.1553,28.041 163.7488,27.7712 Q164.3423,27.5015 164.9731,26.9204 Z \"/><text fill=\"#000000\" font-family=\"sans-serif\" font-size=\"12\" lengthAdjust=\"spacingAndGlyphs\" textLength=\"47\" x=\"176\" y=\"28.5352\">Barista1</text><line style=\"stroke: #A80036; stroke-width: 1.5;\" x1=\"148\" x2=\"225\" y1=\"40\" y2=\"40\"/><line style=\"stroke: #A80036; stroke-width: 1.5;\" x1=\"148\" x2=\"225\" y1=\"48\" y2=\"48\"/><rect fill=\"#FEFECE\" filter=\"url(#f1)\" height=\"48\" style=\"stroke: #A80036; stroke-width: 1.5;\" width=\"79\" x=\"6\" y=\"133\"/><ellipse cx=\"21\" cy=\"149\" fill=\"#ADD1B2\" rx=\"11\" ry=\"11\" style=\"stroke: #A80036; stroke-width: 1.0;\"/><path d=\"M23.9731,154.6431 Q23.3921,154.9419 22.7529,155.0913 Q22.1138,155.2407 21.4082,155.2407 Q18.9014,155.2407 17.5815,153.5889 Q16.2617,151.937 16.2617,148.8159 Q16.2617,145.6865 17.5815,144.0347 Q18.9014,142.3828 21.4082,142.3828 Q22.1138,142.3828 22.7612,142.5322 Q23.4087,142.6816 23.9731,142.9805 L23.9731,145.7031 Q23.3423,145.1221 22.7488,144.8523 Q22.1553,144.5825 21.5244,144.5825 Q20.1797,144.5825 19.4949,145.6492 Q18.8101,146.7158 18.8101,148.8159 Q18.8101,150.9077 19.4949,151.9744 Q20.1797,153.041 21.5244,153.041 Q22.1553,153.041 22.7488,152.7712 Q23.3423,152.5015 23.9731,151.9204 Z \"/><text fill=\"#000000\" font-family=\"sans-serif\" font-size=\"12\" lengthAdjust=\"spacingAndGlyphs\" textLength=\"47\" x=\"35\" y=\"153.5352\">Barista2</text><line style=\"stroke: #A80036; stroke-width: 1.5;\" x1=\"7\" x2=\"84\" y1=\"165\" y2=\"165\"/><line style=\"stroke: #A80036; stroke-width: 1.5;\" x1=\"7\" x2=\"84\" y1=\"173\" y2=\"173\"/><path d=\"M77.8482,32 C96.7364,32 120.853,32 141.564,32 \" fill=\"none\" style=\"stroke: #A80036; stroke-width: 1.0;\"/><polygon fill=\"#A80036\" points=\"146.752,32,137.752,28,141.752,32,137.752,36,146.752,32\" style=\"stroke: #A80036; stroke-width: 1.0;\"/><text fill=\"#000000\" font-family=\"sans-serif\" font-size=\"13\" lengthAdjust=\"spacingAndGlyphs\" textLength=\"24\" x=\"100.25\" y=\"25.5684\">do()</text><path d=\"M45.5,56.135 C45.5,76.494 45.5,106.1907 45.5,127.908 \" fill=\"none\" style=\"stroke: #A80036; stroke-width: 1.0;\"/><polygon fill=\"#A80036\" points=\"45.5,132.9684,49.5,123.9684,45.5,127.9684,41.5,123.9684,45.5,132.9684\" style=\"stroke: #A80036; stroke-width: 1.0;\"/><text fill=\"#000000\" font-family=\"sans-serif\" font-size=\"13\" lengthAdjust=\"spacingAndGlyphs\" textLength=\"24\" x=\"46.5\" y=\"99.5684\">do()</text></g></svg>"
      ],
      "text/plain": [
       "<IPython.core.display.SVG object>"
      ]
     },
     "execution_count": 44,
     "metadata": {},
     "output_type": "execute_result"
    }
   ],
   "source": [
    "%%plantuml\n",
    "@startuml\n",
    "class Client\n",
    "\n",
    "Client -right-> Barista1:do()\n",
    "Client -down-> Barista2:do()\n",
    "@enduml"
   ]
  },
  {
   "cell_type": "markdown",
   "metadata": {
    "slideshow": {
     "slide_type": "slide"
    }
   },
   "source": [
    "# 4. 설계\n",
    "\n",
    "* only one instance to provide a global point of access to it (p.177)\n",
    "* static, private, if (p.173)\n",
    "    * static -> 클래스변수에 instance를 저장하고 공유.\n",
    "    * if 생성되어 있는지 확인 -> 생성되지 않는 경우만 생성.\n",
    "    * private -> 직접사용불가 -> getInstance()를 이용해야 함.\n",
    "* threadsafe"
   ]
  },
  {
   "cell_type": "code",
   "execution_count": 35,
   "metadata": {
    "collapsed": false,
    "slideshow": {
     "slide_type": "slide"
    }
   },
   "outputs": [
    {
     "data": {
      "image/svg+xml": [
       "<svg height=\"103px\" style=\"width:196px;height:103px;\" version=\"1.1\" viewBox=\"0 0 196 103\" width=\"196px\" xmlns=\"http://www.w3.org/2000/svg\" xmlns:xlink=\"http://www.w3.org/1999/xlink\"><defs><filter height=\"300%\" id=\"f1\" width=\"300%\" x=\"-1\" y=\"-1\"><feGaussianBlur result=\"blurOut\" stdDeviation=\"2.0\"/><feColorMatrix in=\"blurOut\" result=\"blurOut2\" type=\"matrix\" values=\"0 0 0 0 0 0 0 0 0 0 0 0 0 0 0 0 0 0 .4 0\"/><feOffset dx=\"4.0\" dy=\"4.0\" in=\"blurOut2\" result=\"blurOut3\"/><feBlend in=\"SourceGraphic\" in2=\"blurOut3\" mode=\"normal\"/></filter></defs><g><rect fill=\"#FEFECE\" filter=\"url(#f1)\" height=\"86.8652\" style=\"stroke: #A80036; stroke-width: 1.5;\" width=\"181\" x=\"6\" y=\"8\"/><ellipse cx=\"66.75\" cy=\"24\" fill=\"#ADD1B2\" rx=\"11\" ry=\"11\" style=\"stroke: #A80036; stroke-width: 1.0;\"/><path d=\"M69.7231,29.6431 Q69.1421,29.9419 68.5029,30.0913 Q67.8638,30.2407 67.1582,30.2407 Q64.6514,30.2407 63.3315,28.5889 Q62.0117,26.937 62.0117,23.8159 Q62.0117,20.6865 63.3315,19.0347 Q64.6514,17.3828 67.1582,17.3828 Q67.8638,17.3828 68.5112,17.5322 Q69.1587,17.6816 69.7231,17.9805 L69.7231,20.7031 Q69.0923,20.1221 68.4988,19.8523 Q67.9053,19.5825 67.2744,19.5825 Q65.9297,19.5825 65.2449,20.6492 Q64.5601,21.7158 64.5601,23.8159 Q64.5601,25.9077 65.2449,26.9744 Q65.9297,28.041 67.2744,28.041 Q67.9053,28.041 68.4988,27.7712 Q69.0923,27.5015 69.7231,26.9204 Z \"/><text fill=\"#000000\" font-family=\"sans-serif\" font-size=\"12\" lengthAdjust=\"spacingAndGlyphs\" textLength=\"51\" x=\"87.25\" y=\"28.5352\">Singleton</text><line style=\"stroke: #A80036; stroke-width: 1.5;\" x1=\"7\" x2=\"186\" y1=\"40\" y2=\"40\"/><rect fill=\"none\" height=\"6\" style=\"stroke: #C82930; stroke-width: 1.0;\" width=\"6\" x=\"14\" y=\"48.9775\"/><text fill=\"#000000\" font-family=\"sans-serif\" font-size=\"11\" lengthAdjust=\"spacingAndGlyphs\" textLength=\"130\" x=\"26\" y=\"54.6348\">static instance:Singleton</text><line style=\"stroke: #A80036; stroke-width: 1.5;\" x1=\"7\" x2=\"186\" y1=\"60.9551\" y2=\"60.9551\"/><rect fill=\"#F24D5C\" height=\"6\" style=\"stroke: #C82930; stroke-width: 1.0;\" width=\"6\" x=\"14\" y=\"69.9326\"/><text fill=\"#000000\" font-family=\"sans-serif\" font-size=\"11\" lengthAdjust=\"spacingAndGlyphs\" textLength=\"84\" x=\"26\" y=\"75.5898\">Singleton():void</text><ellipse cx=\"17\" cy=\"85.8877\" fill=\"#84BE84\" rx=\"3\" ry=\"3\" style=\"stroke: #038048; stroke-width: 1.0;\"/><text fill=\"#000000\" font-family=\"sans-serif\" font-size=\"11\" lengthAdjust=\"spacingAndGlyphs\" textLength=\"155\" x=\"26\" y=\"88.5449\">static getInstance():Singleton</text></g></svg>"
      ],
      "text/plain": [
       "<IPython.core.display.SVG object>"
      ]
     },
     "execution_count": 35,
     "metadata": {},
     "output_type": "execute_result"
    }
   ],
   "source": [
    "%%plantuml\n",
    "@startuml\n",
    "class Singleton {\n",
    "    -static instance:Singleton\n",
    "    -Singleton():void\n",
    "    +static getInstance():Singleton\n",
    "}\n",
    "@enduml"
   ]
  },
  {
   "cell_type": "markdown",
   "metadata": {
    "slideshow": {
     "slide_type": "slide"
    }
   },
   "source": [
    "# 5. after\n",
    "\n",
    "* 교재 HFDP Ch5 'Chocolate Boiler'\n",
    "* classic"
   ]
  },
  {
   "cell_type": "code",
   "execution_count": 43,
   "metadata": {
    "collapsed": false,
    "slideshow": {
     "slide_type": "slide"
    }
   },
   "outputs": [
    {
     "data": {
      "image/svg+xml": [
       "<svg height=\"142px\" style=\"width:230px;height:142px;\" version=\"1.1\" viewBox=\"0 0 230 142\" width=\"230px\" xmlns=\"http://www.w3.org/2000/svg\" xmlns:xlink=\"http://www.w3.org/1999/xlink\"><defs><filter height=\"300%\" id=\"f1\" width=\"300%\" x=\"-1\" y=\"-1\"><feGaussianBlur result=\"blurOut\" stdDeviation=\"2.0\"/><feColorMatrix in=\"blurOut\" result=\"blurOut2\" type=\"matrix\" values=\"0 0 0 0 0 0 0 0 0 0 0 0 0 0 0 0 0 0 .4 0\"/><feOffset dx=\"4.0\" dy=\"4.0\" in=\"blurOut2\" result=\"blurOut3\"/><feBlend in=\"SourceGraphic\" in2=\"blurOut3\" mode=\"normal\"/></filter></defs><g><rect fill=\"#FEFECE\" filter=\"url(#f1)\" height=\"125.7305\" style=\"stroke: #A80036; stroke-width: 1.5;\" width=\"215\" x=\"6\" y=\"8\"/><ellipse cx=\"65.25\" cy=\"24\" fill=\"#ADD1B2\" rx=\"11\" ry=\"11\" style=\"stroke: #A80036; stroke-width: 1.0;\"/><path d=\"M68.2231,29.6431 Q67.6421,29.9419 67.0029,30.0913 Q66.3638,30.2407 65.6582,30.2407 Q63.1514,30.2407 61.8315,28.5889 Q60.5117,26.937 60.5117,23.8159 Q60.5117,20.6865 61.8315,19.0347 Q63.1514,17.3828 65.6582,17.3828 Q66.3638,17.3828 67.0112,17.5322 Q67.6587,17.6816 68.2231,17.9805 L68.2231,20.7031 Q67.5923,20.1221 66.9988,19.8523 Q66.4053,19.5825 65.7744,19.5825 Q64.4297,19.5825 63.7449,20.6492 Q63.0601,21.7158 63.0601,23.8159 Q63.0601,25.9077 63.7449,26.9744 Q64.4297,28.041 65.7744,28.041 Q66.4053,28.041 66.9988,27.7712 Q67.5923,27.5015 68.2231,26.9204 Z \"/><text fill=\"#000000\" font-family=\"sans-serif\" font-size=\"12\" lengthAdjust=\"spacingAndGlyphs\" textLength=\"88\" x=\"85.75\" y=\"28.5352\">ChocolateBoiler</text><line style=\"stroke: #A80036; stroke-width: 1.5;\" x1=\"7\" x2=\"220\" y1=\"40\" y2=\"40\"/><rect fill=\"none\" height=\"6\" style=\"stroke: #C82930; stroke-width: 1.0;\" width=\"6\" x=\"14\" y=\"48.9775\"/><text fill=\"#000000\" font-family=\"sans-serif\" font-size=\"11\" lengthAdjust=\"spacingAndGlyphs\" textLength=\"164\" x=\"26\" y=\"54.6348\">static instance:ChocolateBoiler</text><line style=\"stroke: #A80036; stroke-width: 1.5;\" x1=\"7\" x2=\"220\" y1=\"60.9551\" y2=\"60.9551\"/><rect fill=\"#F24D5C\" height=\"6\" style=\"stroke: #C82930; stroke-width: 1.0;\" width=\"6\" x=\"14\" y=\"69.9326\"/><text fill=\"#000000\" font-family=\"sans-serif\" font-size=\"11\" lengthAdjust=\"spacingAndGlyphs\" textLength=\"84\" x=\"26\" y=\"75.5898\">Singleton():void</text><ellipse cx=\"17\" cy=\"85.8877\" fill=\"#84BE84\" rx=\"3\" ry=\"3\" style=\"stroke: #038048; stroke-width: 1.0;\"/><text fill=\"#000000\" font-family=\"sans-serif\" font-size=\"11\" lengthAdjust=\"spacingAndGlyphs\" textLength=\"189\" x=\"26\" y=\"88.5449\">static getInstance():ChocolateBoiler</text><ellipse cx=\"17\" cy=\"98.8428\" fill=\"#84BE84\" rx=\"3\" ry=\"3\" style=\"stroke: #038048; stroke-width: 1.0;\"/><text fill=\"#000000\" font-family=\"sans-serif\" font-size=\"11\" lengthAdjust=\"spacingAndGlyphs\" textLength=\"21\" x=\"26\" y=\"101.5\">fill()</text><ellipse cx=\"17\" cy=\"111.7979\" fill=\"#84BE84\" rx=\"3\" ry=\"3\" style=\"stroke: #038048; stroke-width: 1.0;\"/><text fill=\"#000000\" font-family=\"sans-serif\" font-size=\"11\" lengthAdjust=\"spacingAndGlyphs\" textLength=\"28\" x=\"26\" y=\"114.4551\">boil()</text><ellipse cx=\"17\" cy=\"124.7529\" fill=\"#84BE84\" rx=\"3\" ry=\"3\" style=\"stroke: #038048; stroke-width: 1.0;\"/><text fill=\"#000000\" font-family=\"sans-serif\" font-size=\"11\" lengthAdjust=\"spacingAndGlyphs\" textLength=\"36\" x=\"26\" y=\"127.4102\">drain()</text></g></svg>"
      ],
      "text/plain": [
       "<IPython.core.display.SVG object>"
      ]
     },
     "execution_count": 43,
     "metadata": {},
     "output_type": "execute_result"
    }
   ],
   "source": [
    "%%plantuml\n",
    "@startuml\n",
    "class ChocolateBoiler {\n",
    "    -static instance:ChocolateBoiler\n",
    "    -Singleton():void\n",
    "    +static getInstance():ChocolateBoiler\n",
    "    +fill()\n",
    "    +boil()\n",
    "    +drain()\n",
    "}\n",
    "@enduml"
   ]
  },
  {
   "cell_type": "code",
   "execution_count": 42,
   "metadata": {
    "collapsed": false,
    "slideshow": {
     "slide_type": "slide"
    }
   },
   "outputs": [
    {
     "data": {
      "image/svg+xml": [
       "<svg height=\"214px\" style=\"width:256px;height:214px;\" version=\"1.1\" viewBox=\"0 0 256 214\" width=\"256px\" xmlns=\"http://www.w3.org/2000/svg\" xmlns:xlink=\"http://www.w3.org/1999/xlink\"><defs><filter height=\"300%\" id=\"f1\" width=\"300%\" x=\"-1\" y=\"-1\"><feGaussianBlur result=\"blurOut\" stdDeviation=\"2.0\"/><feColorMatrix in=\"blurOut\" result=\"blurOut2\" type=\"matrix\" values=\"0 0 0 0 0 0 0 0 0 0 0 0 0 0 0 0 0 0 .4 0\"/><feOffset dx=\"4.0\" dy=\"4.0\" in=\"blurOut2\" result=\"blurOut3\"/><feBlend in=\"SourceGraphic\" in2=\"blurOut3\" mode=\"normal\"/></filter></defs><g><line style=\"stroke: #A80036; stroke-width: 1.0; stroke-dasharray: 5.0,5.0;\" x1=\"37\" x2=\"37\" y1=\"38.4883\" y2=\"175.7305\"/><line style=\"stroke: #A80036; stroke-width: 1.0; stroke-dasharray: 5.0,5.0;\" x1=\"188\" x2=\"188\" y1=\"38.4883\" y2=\"175.7305\"/><rect fill=\"#FEFECE\" filter=\"url(#f1)\" height=\"30.4883\" style=\"stroke: #A80036; stroke-width: 1.5;\" width=\"54\" x=\"8\" y=\"3\"/><text fill=\"#000000\" font-family=\"sans-serif\" font-size=\"14\" lengthAdjust=\"spacingAndGlyphs\" textLength=\"40\" x=\"15\" y=\"23.5352\">Client</text><rect fill=\"#FEFECE\" filter=\"url(#f1)\" height=\"30.4883\" style=\"stroke: #A80036; stroke-width: 1.5;\" width=\"54\" x=\"8\" y=\"174.7305\"/><text fill=\"#000000\" font-family=\"sans-serif\" font-size=\"14\" lengthAdjust=\"spacingAndGlyphs\" textLength=\"40\" x=\"15\" y=\"195.2656\">Client</text><rect fill=\"#FEFECE\" filter=\"url(#f1)\" height=\"30.4883\" style=\"stroke: #A80036; stroke-width: 1.5;\" width=\"122\" x=\"125\" y=\"3\"/><text fill=\"#000000\" font-family=\"sans-serif\" font-size=\"14\" lengthAdjust=\"spacingAndGlyphs\" textLength=\"108\" x=\"132\" y=\"23.5352\">ChocolateBoiler</text><rect fill=\"#FEFECE\" filter=\"url(#f1)\" height=\"30.4883\" style=\"stroke: #A80036; stroke-width: 1.5;\" width=\"122\" x=\"125\" y=\"174.7305\"/><text fill=\"#000000\" font-family=\"sans-serif\" font-size=\"14\" lengthAdjust=\"spacingAndGlyphs\" textLength=\"108\" x=\"132\" y=\"195.2656\">ChocolateBoiler</text><polygon fill=\"#A80036\" points=\"176,65.4883,186,69.4883,176,73.4883,180,69.4883\" style=\"stroke: #A80036; stroke-width: 1.0;\"/><line style=\"stroke: #A80036; stroke-width: 1.0;\" x1=\"37\" x2=\"182\" y1=\"69.4883\" y2=\"69.4883\"/><text fill=\"#000000\" font-family=\"sans-serif\" font-size=\"13\" lengthAdjust=\"spacingAndGlyphs\" textLength=\"127\" x=\"44\" y=\"65.0566\">boiler=getInstance()</text><polygon fill=\"#A80036\" points=\"176,94.7988,186,98.7988,176,102.7988,180,98.7988\" style=\"stroke: #A80036; stroke-width: 1.0;\"/><line style=\"stroke: #A80036; stroke-width: 1.0;\" x1=\"37\" x2=\"182\" y1=\"98.7988\" y2=\"98.7988\"/><text fill=\"#000000\" font-family=\"sans-serif\" font-size=\"13\" lengthAdjust=\"spacingAndGlyphs\" textLength=\"25\" x=\"44\" y=\"94.3672\">fill()</text><polygon fill=\"#A80036\" points=\"176,124.1094,186,128.1094,176,132.1094,180,128.1094\" style=\"stroke: #A80036; stroke-width: 1.0;\"/><line style=\"stroke: #A80036; stroke-width: 1.0;\" x1=\"37\" x2=\"182\" y1=\"128.1094\" y2=\"128.1094\"/><text fill=\"#000000\" font-family=\"sans-serif\" font-size=\"13\" lengthAdjust=\"spacingAndGlyphs\" textLength=\"32\" x=\"44\" y=\"123.6777\">boil()</text><polygon fill=\"#A80036\" points=\"176,153.4199,186,157.4199,176,161.4199,180,157.4199\" style=\"stroke: #A80036; stroke-width: 1.0;\"/><line style=\"stroke: #A80036; stroke-width: 1.0;\" x1=\"37\" x2=\"182\" y1=\"157.4199\" y2=\"157.4199\"/><text fill=\"#000000\" font-family=\"sans-serif\" font-size=\"13\" lengthAdjust=\"spacingAndGlyphs\" textLength=\"40\" x=\"44\" y=\"152.9883\">drain()</text></g></svg>"
      ],
      "text/plain": [
       "<IPython.core.display.SVG object>"
      ]
     },
     "execution_count": 42,
     "metadata": {},
     "output_type": "execute_result"
    }
   ],
   "source": [
    "%%plantuml\n",
    "@startuml\n",
    "Client -> ChocolateBoiler:boiler=getInstance()\n",
    "Client -> ChocolateBoiler:fill()\n",
    "Client -> ChocolateBoiler:boil()\n",
    "Client -> ChocolateBoiler:drain()\n",
    "@enduml"
   ]
  },
  {
   "cell_type": "code",
   "execution_count": null,
   "metadata": {
    "collapsed": true,
    "slideshow": {
     "slide_type": "slide"
    }
   },
   "outputs": [],
   "source": [
    "# %load ./src/headfirst/singleton/chocolate/ChocolateBoiler.java\n",
    "package headfirst.singleton.chocolate;\n",
    " \n",
    "public class ChocolateBoiler {\n",
    "\tprivate boolean empty;\n",
    "\tprivate boolean boiled;\n",
    "\tprivate static ChocolateBoiler uniqueInstance;\n",
    "        private static int numCalled=0;   //20151025 jsl\n",
    "  \n",
    "\tprivate ChocolateBoiler() {\n",
    "\t\tempty = true;\n",
    "\t\tboiled = false;\n",
    "\t}\n",
    "  \n",
    "\tpublic static ChocolateBoiler getInstance() {\n",
    "\t\tif (uniqueInstance == null) {\n",
    "\t\t\tSystem.out.println(\"Creating unique instance of Chocolate Boiler\");\n",
    "\t\t\tuniqueInstance = new ChocolateBoiler();\n",
    "\t\t}\n",
    "\t\tSystem.out.println(\"Returning instance of Chocolate Boiler\");\n",
    "\t\tSystem.out.println(\"jsl: numCalled \"+numCalled++);\n",
    "\t\treturn uniqueInstance;\n",
    "\t}\n",
    "\n",
    "\tpublic void fill() {\n",
    "\t\tif (isEmpty()) {\n",
    "\t\t\tempty = false;\n",
    "\t\t\tboiled = false;\n",
    "\t\t\t// fill the boiler with a milk/chocolate mixture\n",
    "\t\t}\n",
    "\t}\n",
    " \n",
    "\tpublic void drain() {\n",
    "\t\tif (!isEmpty() && isBoiled()) {\n",
    "\t\t\t// drain the boiled milk and chocolate\n",
    "\t\t\tempty = true;\n",
    "\t\t}\n",
    "\t}\n",
    " \n",
    "\tpublic void boil() {\n",
    "\t\tif (!isEmpty() && !isBoiled()) {\n",
    "\t\t\t// bring the contents to a boil\n",
    "\t\t\tboiled = true;\n",
    "\t\t}\n",
    "\t}\n",
    "  \n",
    "\tpublic boolean isEmpty() {\n",
    "\t\treturn empty;\n",
    "\t}\n",
    " \n",
    "\tpublic boolean isBoiled() {\n",
    "\t\treturn boiled;\n",
    "\t}\n",
    "}\n"
   ]
  },
  {
   "cell_type": "code",
   "execution_count": null,
   "metadata": {
    "collapsed": true,
    "slideshow": {
     "slide_type": "slide"
    }
   },
   "outputs": [],
   "source": [
    "# %load ./src/headfirst/singleton/chocolate/ChocolateController.java\n",
    "package headfirst.singleton.chocolate;\n",
    " \n",
    "public class ChocolateController {\n",
    "\tpublic static void main(String args[]) {\n",
    "\t\tChocolateBoiler boiler = ChocolateBoiler.getInstance();\n",
    "\t\tboiler.fill();\n",
    "\t\tboiler.boil();\n",
    "\t\tboiler.drain();\n",
    "\n",
    "\t\t// will return the existing instance\n",
    "\t\tChocolateBoiler boiler2 = ChocolateBoiler.getInstance();\n",
    "\t}\n",
    "}\n"
   ]
  },
  {
   "cell_type": "code",
   "execution_count": 27,
   "metadata": {
    "collapsed": false,
    "slideshow": {
     "slide_type": "slide"
    }
   },
   "outputs": [
    {
     "name": "stdout",
     "output_type": "stream",
     "text": [
      "Creating unique instance of Chocolate Boiler\r\n",
      "Returning instance of Chocolate Boiler\r\n",
      "jsl: numCalled 0\r\n",
      "Returning instance of Chocolate Boiler\r\n",
      "jsl: numCalled 1\r\n"
     ]
    }
   ],
   "source": [
    "!javac -d classes/ -sourcepath src/ src/headfirst/singleton/chocolate/*.java\n",
    "!java -cp classes/ headfirst.singleton.chocolate.ChocolateController"
   ]
  },
  {
   "cell_type": "markdown",
   "metadata": {
    "slideshow": {
     "slide_type": "slide"
    }
   },
   "source": [
    "# 6. Case Implementation\n",
    "\n",
    "\n",
    "* classic - no thread, lazy init\n",
    "* stat - eager init\n",
    "* thread - synchronized\n",
    "    * multiple threads running - concurrency problem\n",
    "    * 한 쓰레드가 파일에 쓰는 경우, 다른 쓰레드가 열고 쓰고 닫는 경우 데이터가 유실\n",
    "* dcl - volatile\n",
    "    * 동기화 - volatile 변수는 동기화된 결과를 공유\n",
    "    * 파일에 쓰는 경우, 모든 쓰레드가 그 결과를 공유\n",
    "* subclass - protected\n"
   ]
  },
  {
   "cell_type": "markdown",
   "metadata": {
    "slideshow": {
     "slide_type": "slide"
    }
   },
   "source": [
    "## 6.1. classic\n",
    "\n",
    "* instance를 private static으로 생성함.\n",
    "    * private\n",
    "        * public getInstacne()함수를 통하지 않고는 인스턴스를 만들 수 없슴.\n",
    "    * static\n",
    "        * 객체가 아닌 클래스 변수.\n",
    "        * 객체를 생성한 횟수를 세거나, 상수를 선언해서 사용 (예: java.lang.Math PI, abs())\n",
    "* lazy instantiation\n",
    "    * 필요한 때 객체 생성"
   ]
  },
  {
   "cell_type": "code",
   "execution_count": 7,
   "metadata": {
    "collapsed": false,
    "slideshow": {
     "slide_type": "slide"
    }
   },
   "outputs": [
    {
     "data": {
      "image/svg+xml": [
       "<svg height=\"103px\" style=\"width:377px;height:103px;\" version=\"1.1\" viewBox=\"0 0 377 103\" width=\"377px\" xmlns=\"http://www.w3.org/2000/svg\" xmlns:xlink=\"http://www.w3.org/1999/xlink\"><defs><filter height=\"300%\" id=\"f1\" width=\"300%\" x=\"-1\" y=\"-1\"><feGaussianBlur result=\"blurOut\" stdDeviation=\"2.0\"/><feColorMatrix in=\"blurOut\" result=\"blurOut2\" type=\"matrix\" values=\"0 0 0 0 0 0 0 0 0 0 0 0 0 0 0 0 0 0 .4 0\"/><feOffset dx=\"4.0\" dy=\"4.0\" in=\"blurOut2\" result=\"blurOut3\"/><feBlend in=\"SourceGraphic\" in2=\"blurOut3\" mode=\"normal\"/></filter></defs><g><rect fill=\"#FEFECE\" filter=\"url(#f1)\" height=\"86.8652\" style=\"stroke: #A80036; stroke-width: 1.5;\" width=\"181\" x=\"6\" y=\"8\"/><ellipse cx=\"66.75\" cy=\"24\" fill=\"#ADD1B2\" rx=\"11\" ry=\"11\" style=\"stroke: #A80036; stroke-width: 1.0;\"/><path d=\"M69.7231,29.6431 Q69.1421,29.9419 68.5029,30.0913 Q67.8638,30.2407 67.1582,30.2407 Q64.6514,30.2407 63.3315,28.5889 Q62.0117,26.937 62.0117,23.8159 Q62.0117,20.6865 63.3315,19.0347 Q64.6514,17.3828 67.1582,17.3828 Q67.8638,17.3828 68.5112,17.5322 Q69.1587,17.6816 69.7231,17.9805 L69.7231,20.7031 Q69.0923,20.1221 68.4988,19.8523 Q67.9053,19.5825 67.2744,19.5825 Q65.9297,19.5825 65.2449,20.6492 Q64.5601,21.7158 64.5601,23.8159 Q64.5601,25.9077 65.2449,26.9744 Q65.9297,28.041 67.2744,28.041 Q67.9053,28.041 68.4988,27.7712 Q69.0923,27.5015 69.7231,26.9204 Z \"/><text fill=\"#000000\" font-family=\"sans-serif\" font-size=\"12\" lengthAdjust=\"spacingAndGlyphs\" textLength=\"51\" x=\"87.25\" y=\"28.5352\">Singleton</text><line style=\"stroke: #A80036; stroke-width: 1.5;\" x1=\"7\" x2=\"186\" y1=\"40\" y2=\"40\"/><rect fill=\"none\" height=\"6\" style=\"stroke: #C82930; stroke-width: 1.0;\" width=\"6\" x=\"14\" y=\"48.9775\"/><text fill=\"#000000\" font-family=\"sans-serif\" font-size=\"11\" lengthAdjust=\"spacingAndGlyphs\" textLength=\"130\" x=\"26\" y=\"54.6348\">static instance:Singleton</text><line style=\"stroke: #A80036; stroke-width: 1.5;\" x1=\"7\" x2=\"186\" y1=\"60.9551\" y2=\"60.9551\"/><rect fill=\"#F24D5C\" height=\"6\" style=\"stroke: #C82930; stroke-width: 1.0;\" width=\"6\" x=\"14\" y=\"69.9326\"/><text fill=\"#000000\" font-family=\"sans-serif\" font-size=\"11\" lengthAdjust=\"spacingAndGlyphs\" textLength=\"58\" x=\"26\" y=\"75.5898\">Singleton()</text><ellipse cx=\"17\" cy=\"85.8877\" fill=\"#84BE84\" rx=\"3\" ry=\"3\" style=\"stroke: #038048; stroke-width: 1.0;\"/><text fill=\"#000000\" font-family=\"sans-serif\" font-size=\"11\" lengthAdjust=\"spacingAndGlyphs\" textLength=\"155\" x=\"26\" y=\"88.5449\">static getInstance():Singleton</text><polygon fill=\"#FBFB77\" filter=\"url(#f1)\" points=\"222.5,39,222.5,64.3105,368.5,64.3105,368.5,49,358.5,39,222.5,39\" style=\"stroke: #A80036; stroke-width: 1.0;\"/><polygon fill=\"#FBFB77\" points=\"222.5,39,222.5,47.5,187.061,51.5,222.5,55.5,222.5,64.3105,368.5,64.3105,368.5,49,358.5,39,222.5,39\" style=\"stroke: #A80036; stroke-width: 1.0;\"/><line style=\"stroke: #A80036; stroke-width: 1.0;\" x1=\"358.5\" x2=\"358.5\" y1=\"39\" y2=\"49\"/><line style=\"stroke: #A80036; stroke-width: 1.0;\" x1=\"368.5\" x2=\"358.5\" y1=\"49\" y2=\"49\"/><text fill=\"#000000\" font-family=\"monospaced\" font-size=\"13\" lengthAdjust=\"spacingAndGlyphs\" textLength=\"120\" x=\"228.5\" y=\"56.2446\">&quot;private static</text><text fill=\"#000000\" font-family=\"sans-serif\" font-size=\"13\" lengthAdjust=\"spacingAndGlyphs\" textLength=\"5\" x=\"348.5\" y=\"56.5684\">&quot;</text></g></svg>"
      ],
      "text/plain": [
       "<IPython.core.display.SVG object>"
      ]
     },
     "execution_count": 7,
     "metadata": {},
     "output_type": "execute_result"
    }
   ],
   "source": [
    "%%plantuml\n",
    "@startuml\n",
    "\n",
    "class Singleton {\n",
    "    -static instance:Singleton\n",
    "    -Singleton()\n",
    "    +static getInstance():Singleton\n",
    "}\n",
    "note right\n",
    "\"\"\"private static\"\"\"\n",
    "end note\n",
    "@enduml"
   ]
  },
  {
   "cell_type": "code",
   "execution_count": null,
   "metadata": {
    "collapsed": false,
    "slideshow": {
     "slide_type": "slide"
    }
   },
   "outputs": [],
   "source": [
    "# %load ./src/headfirst/singleton/classic/Singleton.java\n",
    "package headfirst.singleton.classic;\n",
    "\n",
    "public class Singleton {\n",
    "\tprivate static Singleton uniqueInstance;\n",
    "    private static int numCalled=0;\n",
    "\tprivate Singleton() {}\n",
    " \n",
    "\tpublic static Singleton getInstance() {\n",
    "\t\tif (uniqueInstance == null) {\n",
    "\t\t\tuniqueInstance = new Singleton();\n",
    "\t\t}\n",
    "                System.out.println(\"numCalled: \"+numCalled++);\n",
    "\t\treturn uniqueInstance;\n",
    "\t}\n",
    "}\n"
   ]
  },
  {
   "cell_type": "code",
   "execution_count": null,
   "metadata": {
    "collapsed": true,
    "slideshow": {
     "slide_type": "slide"
    }
   },
   "outputs": [],
   "source": [
    "# %load ./src/headfirst/singleton/classic/SingletonMain.java\n",
    "/*\n",
    " * @author jsl\n",
    " * @version 20151025\n",
    " * copied from stat/SingletonClient.java\n",
    " */\n",
    "package headfirst.singleton.classic;\n",
    "\n",
    "public class SingletonMain {\n",
    "\tpublic static void main(String[] args) {\n",
    "\t\tSingleton singleton1 = Singleton.getInstance();\n",
    "\t\tSingleton singleton2 = Singleton.getInstance();\n",
    "\t\tSingleton singleton3 = Singleton.getInstance();\n",
    "\t}\n",
    "}\n"
   ]
  },
  {
   "cell_type": "code",
   "execution_count": 9,
   "metadata": {
    "collapsed": false,
    "slideshow": {
     "slide_type": "slide"
    }
   },
   "outputs": [
    {
     "name": "stdout",
     "output_type": "stream",
     "text": [
      "numCalled: 0\r\n",
      "numCalled: 1\r\n",
      "numCalled: 2\r\n"
     ]
    }
   ],
   "source": [
    "!javac -d classes/ -sourcepath src/ src/headfirst/singleton/classic/*.java\n",
    "!java -cp classes/ headfirst.singleton.classic.SingletonMain"
   ]
  },
  {
   "cell_type": "markdown",
   "metadata": {
    "slideshow": {
     "slide_type": "slide"
    }
   },
   "source": [
    "## 6.2 eager instantiation\n",
    "\n",
    "* Singleton객체 생성하는 시점을 생성자에서.\n",
    "* 6.1과 class diagram동일."
   ]
  },
  {
   "cell_type": "code",
   "execution_count": null,
   "metadata": {
    "collapsed": true,
    "slideshow": {
     "slide_type": "slide"
    }
   },
   "outputs": [],
   "source": [
    "# %load ./src/headfirst/singleton/stat/Singleton.java\n",
    "package headfirst.singleton.stat;\n",
    "\n",
    "public class Singleton {\n",
    "    private static Singleton uniqueInstance = new Singleton();\n",
    "    private static int numCalled=0;\n",
    " \n",
    "    private Singleton() {}\n",
    " \n",
    "    public static Singleton getInstance() {\n",
    "        System.out.println(\"num of called: \"+numCalled++);\n",
    "        return uniqueInstance;\n",
    "    }\n",
    "}\n"
   ]
  },
  {
   "cell_type": "code",
   "execution_count": null,
   "metadata": {
    "collapsed": true,
    "slideshow": {
     "slide_type": "slide"
    }
   },
   "outputs": [],
   "source": [
    "# %load ./src/headfirst/singleton/stat/SingletonClient.java\n",
    "package headfirst.singleton.stat;\n",
    "\n",
    "public class SingletonClient {\n",
    "    public static void main(String[] args) {\n",
    "            Singleton singleton1 = Singleton.getInstance();\n",
    "            Singleton singleton2 = Singleton.getInstance();\n",
    "    }\n",
    "}\n"
   ]
  },
  {
   "cell_type": "code",
   "execution_count": 12,
   "metadata": {
    "collapsed": false,
    "slideshow": {
     "slide_type": "slide"
    }
   },
   "outputs": [
    {
     "name": "stdout",
     "output_type": "stream",
     "text": [
      "num of called: 0\r\n",
      "num of called: 1\r\n"
     ]
    }
   ],
   "source": [
    "!javac -d classes/ -sourcepath src/ src/headfirst/singleton/stat/*.java\n",
    "!java -cp classes/ headfirst.singleton.stat.SingletonClient"
   ]
  },
  {
   "cell_type": "markdown",
   "metadata": {
    "slideshow": {
     "slide_type": "subslide"
    }
   },
   "source": [
    "## 6.3 thread\n",
    "\n",
    "* 5.1과 동일하지만 thread safe.\n",
    "* Synchronized\n"
   ]
  },
  {
   "cell_type": "code",
   "execution_count": null,
   "metadata": {
    "collapsed": true,
    "slideshow": {
     "slide_type": "slide"
    }
   },
   "outputs": [],
   "source": [
    "# %load ./src/headfirst/singleton/threadsafe/Singleton.java\n",
    "package headfirst.singleton.threadsafe;\n",
    "\n",
    "public class Singleton {\n",
    "    private static Singleton uniqueInstance;\n",
    "    private static int numCalled=0;\n",
    "    private Singleton() {}\n",
    " \n",
    "    public static synchronized Singleton getInstance() {\n",
    "        if (uniqueInstance == null) {\n",
    "            uniqueInstance = new Singleton();\n",
    "        }\n",
    "        System.out.println(\"numCalled: \"+numCalled++);\n",
    "        return uniqueInstance;\n",
    "    }\n",
    "}\n"
   ]
  },
  {
   "cell_type": "code",
   "execution_count": null,
   "metadata": {
    "collapsed": true,
    "slideshow": {
     "slide_type": "slide"
    }
   },
   "outputs": [],
   "source": [
    "# %load ./src/headfirst/singleton/threadsafe/SingletonMain.java\n",
    "\n",
    "package headfirst.singleton.threadsafe;\n",
    "\n",
    "public class SingletonMain {\n",
    "    public static void main(String[] args) {\n",
    "        Singleton singleton1 = Singleton.getInstance();\n",
    "        Singleton singleton2 = Singleton.getInstance();\n",
    "        Singleton singleton3 = Singleton.getInstance();\n",
    "    }\n",
    "}\n"
   ]
  },
  {
   "cell_type": "code",
   "execution_count": 15,
   "metadata": {
    "collapsed": false,
    "slideshow": {
     "slide_type": "slide"
    }
   },
   "outputs": [
    {
     "name": "stdout",
     "output_type": "stream",
     "text": [
      "numCalled: 0\r\n",
      "numCalled: 1\r\n",
      "numCalled: 2\r\n"
     ]
    }
   ],
   "source": [
    "!javac -d classes/ -sourcepath src/ src/headfirst/singleton/threadsafe/*.java\n",
    "!java -cp classes/ headfirst.singleton.threadsafe.SingletonMain"
   ]
  },
  {
   "cell_type": "markdown",
   "metadata": {
    "slideshow": {
     "slide_type": "slide"
    }
   },
   "source": [
    "## 6.4 dcl\n",
    "\n",
    "* volatile\n"
   ]
  },
  {
   "cell_type": "code",
   "execution_count": null,
   "metadata": {
    "collapsed": true,
    "slideshow": {
     "slide_type": "slide"
    }
   },
   "outputs": [],
   "source": [
    "# %load ./src/headfirst/singleton/dcl/Singleton.java\n",
    "package headfirst.singleton.dcl;\n",
    "\n",
    "//\n",
    "// Danger!  This implementation of Singleton not\n",
    "// guaranteed to work prior to Java 5\n",
    "//\n",
    "\n",
    "public class Singleton {\n",
    "    private volatile static Singleton uniqueInstance;\n",
    "    private static int numCalled=0;\n",
    " \n",
    "    private Singleton() {}\n",
    "\n",
    "    public static Singleton getInstance() {\n",
    "        if (uniqueInstance == null) {\n",
    "            synchronized (Singleton.class) {\n",
    "                if (uniqueInstance == null) {\n",
    "                    uniqueInstance = new Singleton();\n",
    "                }\n",
    "            }\n",
    "        }\n",
    "        System.out.println(\"numCalled: \"+numCalled++);\n",
    "        return uniqueInstance;\n",
    "    }\n",
    "}\n"
   ]
  },
  {
   "cell_type": "code",
   "execution_count": null,
   "metadata": {
    "collapsed": false,
    "slideshow": {
     "slide_type": "slide"
    }
   },
   "outputs": [],
   "source": [
    "# %load ./src/headfirst/singleton/dcl/SingletonClient.java\n",
    "package headfirst.singleton.dcl;\n",
    "\n",
    "public class SingletonClient {\n",
    "    public static void main(String[] args) {\n",
    "            Singleton singleton1 = Singleton.getInstance();\n",
    "            Singleton singleton2 = Singleton.getInstance();\n",
    "    }\n",
    "}\n"
   ]
  },
  {
   "cell_type": "code",
   "execution_count": 19,
   "metadata": {
    "collapsed": false,
    "slideshow": {
     "slide_type": "slide"
    }
   },
   "outputs": [
    {
     "name": "stdout",
     "output_type": "stream",
     "text": [
      "numCalled: 0\r\n",
      "numCalled: 1\r\n"
     ]
    }
   ],
   "source": [
    "!javac -d classes/ -sourcepath src/ src/headfirst/singleton/dcl/*.java\n",
    "!java -cp classes/ headfirst.singleton.dcl.SingletonClient"
   ]
  },
  {
   "cell_type": "markdown",
   "metadata": {
    "slideshow": {
     "slide_type": "slide"
    }
   },
   "source": [
    "## 6.5 subclass\n",
    "\n",
    "* 상속인 경우의 singleton"
   ]
  },
  {
   "cell_type": "code",
   "execution_count": null,
   "metadata": {
    "collapsed": true,
    "slideshow": {
     "slide_type": "slide"
    }
   },
   "outputs": [],
   "source": [
    "# %load ./src/headfirst/singleton/subclass/Singleton.java\n",
    "package headfirst.singleton.subclass;\n",
    "\n",
    "public class Singleton {\n",
    "\tprotected static Singleton uniqueInstance;\n",
    " \n",
    "\t// other useful instance variables here\n",
    " \n",
    "\tprotected Singleton() {}\n",
    " \n",
    "\tpublic static synchronized Singleton getInstance() {\n",
    "\t\tif (uniqueInstance == null) {\n",
    "\t\t\tuniqueInstance = new Singleton();\n",
    "\t\t}\n",
    "\t\treturn uniqueInstance;\n",
    "\t}\n",
    " \n",
    "\t// other useful methods here\n",
    "}\n"
   ]
  },
  {
   "cell_type": "code",
   "execution_count": null,
   "metadata": {
    "collapsed": true,
    "slideshow": {
     "slide_type": "slide"
    }
   },
   "outputs": [],
   "source": [
    "# %load ./src/headfirst/singleton/subclass/CoolerSingleton.java\n",
    "package headfirst.singleton.subclass;\n",
    "\n",
    "public class CoolerSingleton extends Singleton {\n",
    "\t// useful instance variables here\n",
    "\tprotected static Singleton uniqueInstance;\n",
    " \n",
    "\tprivate CoolerSingleton() {\n",
    "\t\tsuper();\n",
    "\t}\n",
    " \n",
    "\t// useful methods here\n",
    "}\n"
   ]
  },
  {
   "cell_type": "code",
   "execution_count": null,
   "metadata": {
    "collapsed": true,
    "slideshow": {
     "slide_type": "slide"
    }
   },
   "outputs": [],
   "source": [
    "# %load ./src/headfirst/singleton/subclass/HotterSingleton.java\n",
    "package headfirst.singleton.subclass;\n",
    "\n",
    "public class HotterSingleton extends Singleton {\n",
    "\t// useful instance variables here\n",
    " \n",
    "\tprivate HotterSingleton() {\n",
    "\t\tsuper();\n",
    "\t}\n",
    " \n",
    "\t// useful methods here\n",
    "}\n"
   ]
  },
  {
   "cell_type": "code",
   "execution_count": null,
   "metadata": {
    "collapsed": true,
    "slideshow": {
     "slide_type": "slide"
    }
   },
   "outputs": [],
   "source": [
    "# %load ./src/headfirst/singleton/subclass/SingletonTestDrive.java\n",
    "package headfirst.singleton.subclass;\n",
    "\n",
    "public class SingletonTestDrive {\n",
    "\tpublic static void main(String[] args) {\n",
    "\t\tSingleton foo = CoolerSingleton.getInstance();\n",
    "\t\tSingleton bar = HotterSingleton.getInstance();\n",
    "\t\tSystem.out.println(foo);\n",
    "\t\tSystem.out.println(bar);\n",
    " \t}\n",
    "}\n"
   ]
  },
  {
   "cell_type": "code",
   "execution_count": 24,
   "metadata": {
    "collapsed": false,
    "slideshow": {
     "slide_type": "slide"
    }
   },
   "outputs": [
    {
     "name": "stdout",
     "output_type": "stream",
     "text": [
      "headfirst.singleton.subclass.Singleton@5984cf08\r\n",
      "headfirst.singleton.subclass.Singleton@5984cf08\r\n"
     ]
    }
   ],
   "source": [
    "!javac -d classes/ -sourcepath src/ src/headfirst/singleton/subclass/*.java\n",
    "!java -cp classes/ headfirst.singleton.subclass.SingletonTestDrive"
   ]
  }
 ],
 "metadata": {
  "celltoolbar": "Slideshow",
  "kernelspec": {
   "display_name": "Python 2",
   "language": "python",
   "name": "python2"
  },
  "language_info": {
   "codemirror_mode": {
    "name": "ipython",
    "version": 2
   },
   "file_extension": ".py",
   "mimetype": "text/x-python",
   "name": "python",
   "nbconvert_exporter": "python",
   "pygments_lexer": "ipython2",
   "version": "2.7.12"
  }
 },
 "nbformat": 4,
 "nbformat_minor": 0
}
