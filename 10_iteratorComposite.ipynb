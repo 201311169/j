{
 "cells": [
  {
   "cell_type": "markdown",
   "metadata": {
    "slideshow": {
     "slide_type": "slide"
    }
   },
   "source": [
    "# 강의내용\n",
    "\n",
    "* 교재 8장 HFDP Ch9\n",
    "* Iterator 패턴 (Behavioral Design Pattern)\n",
    "* Composite 패턴 (Structural Design Pattern)\n",
    "* 프로그래밍 'Menu'\n",
    "* TOC\n",
    "    * intro\n",
    "    * problems\n",
    "    * before\n",
    "    * design\n",
    "    * after\n",
    "    * case implementation\n",
    "    * exercise (by Sat to git: 50% for 1 day late deadline) \n",
    "        * case extension\n",
    "            * 자신의 메뉴 (한글로) 3개 추가\n",
    "                * vegetarian true\n",
    "                * iterator.dinermenu.after\n",
    "            * 위 MenuItem에 대해 ArrayListIterator, ArrayIterator 구현, test하기.\n",
    "        * new case\n",
    "            * composite iterator - 커피메뉴 추가\n"
   ]
  },
  {
   "cell_type": "markdown",
   "metadata": {
    "slideshow": {
     "slide_type": "slide"
    }
   },
   "source": [
    "# 1. Iterator 패턴\n",
    "\n",
    "* Collection은 Array, List, Hashtable, Stack 등 여러 방식으로 구현할 수 있다.\n",
    "  Collection별로 데이터를 가져오는 방식이 서로 다르면 불편. 이런 경우 iteration 통일.\n",
    "* Iteration 감춤.\n",
    "    * \"provides a way to access the elements of an aggregate object sequentially without exposing in underlying representation\"\n",
    "    * p.336 서로 다른 인터페이스를 동일하게 변환 Polymorphic traversal\n",
    "    * adpater pattern과 비교 - behavioral pattern\n",
    "* cases\n",
    "    * HFDP 메뉴\n",
    "    * enumerators (p.248)\n",
    "        * hasMoreElements()\n",
    "        * nextElement()\n",
    "    * iterators (p.248)\n",
    "        * hasNext()\n",
    "        * next()\n",
    "        * remove()\n",
    "\n",
    "* 디자인패턴 요소\n",
    "\n",
    "요소 | 설명\n",
    "---|---\n",
    "name | Iterator\n",
    "problem | Collection의 iteration API가 서로 다름.\n",
    "solution | iteration 기능 분리 (Single Responsibility)\n",
    "consequence | 변경 최소화"
   ]
  },
  {
   "cell_type": "markdown",
   "metadata": {},
   "source": [
    "## Composite 패턴\n",
    "\n",
    "* \"to compose objects into tree structures to represent part-whole hierarchies.\"\n",
    "* iterator와 결합하여 composite iterator\n",
    "* case\n",
    "    * menu - menuitem\n"
   ]
  },
  {
   "cell_type": "markdown",
   "metadata": {
    "slideshow": {
     "slide_type": "slide"
    }
   },
   "source": [
    "# 2. 문제\n",
    "\n",
    "* 사용하려는 객체의 API가 서로 다름.\n",
    "    * 예: ArrayList, Array데이터를 읽는 방식이 서로 다름."
   ]
  },
  {
   "cell_type": "code",
   "execution_count": 2,
   "metadata": {
    "collapsed": false,
    "slideshow": {
     "slide_type": "slide"
    }
   },
   "outputs": [
    {
     "name": "stdout",
     "output_type": "stream",
     "text": [
      "Installed plantuml_magics.py. To use it, type:\n",
      "  %load_ext plantuml_magics\n"
     ]
    }
   ],
   "source": [
    "%install_ext https://raw.githubusercontent.com/sberke/ipython-plantuml/master/plantuml_magics.py"
   ]
  },
  {
   "cell_type": "code",
   "execution_count": 3,
   "metadata": {
    "collapsed": false,
    "slideshow": {
     "slide_type": "slide"
    }
   },
   "outputs": [],
   "source": [
    "%load_ext plantuml_magics"
   ]
  },
  {
   "cell_type": "code",
   "execution_count": 3,
   "metadata": {
    "collapsed": false,
    "slideshow": {
     "slide_type": "slide"
    }
   },
   "outputs": [
    {
     "data": {
      "text/plain": [
       "['./plantuml.jar']"
      ]
     },
     "execution_count": 3,
     "metadata": {},
     "output_type": "execute_result"
    }
   ],
   "source": [
    "import glob\n",
    "glob.glob(r'./*.jar')"
   ]
  },
  {
   "cell_type": "code",
   "execution_count": 32,
   "metadata": {
    "collapsed": false,
    "slideshow": {
     "slide_type": "slide"
    }
   },
   "outputs": [
    {
     "name": "stdout",
     "output_type": "stream",
     "text": [
      "/opt/local/bin/dot\r\n"
     ]
    }
   ],
   "source": [
    "!which dot"
   ]
  },
  {
   "cell_type": "code",
   "execution_count": 4,
   "metadata": {
    "collapsed": false,
    "slideshow": {
     "slide_type": "slide"
    }
   },
   "outputs": [
    {
     "name": "stdout",
     "output_type": "stream",
     "text": [
      "/opt/local/bin/dot\n",
      "The environment variable GRAPHVIZ_DOT has been set to /opt/local/bin/dot\n",
      "Dot executable is /opt/local/bin/dot\n",
      "Dot version: dot - graphviz version 2.38.0 (20140413.2041)\n",
      "Installation seems OK. File generation OK\n"
     ]
    }
   ],
   "source": [
    "import os\n",
    "os.environ['GRAPHVIZ_DOT']='/opt/local/bin/dot'\n",
    "print os.environ['GRAPHVIZ_DOT']\n",
    "!java -jar plantuml.jar -testdot"
   ]
  },
  {
   "cell_type": "markdown",
   "metadata": {
    "slideshow": {
     "slide_type": "slide"
    }
   },
   "source": [
    "# 3. before\n",
    "\n",
    "## Iterating over collections\n",
    "\n",
    "* ArrayList vs Array\n",
    "\n",
    "ArrayList | Array\n",
    "---|---\n",
    "ArrayList는 크기를 변경할 수 있다 | Array는 크기 변경 불가\n",
    "ArrayList에는 Object만 넣을 수 있슴 | Array는 Primitives + Object모두 가능.\n",
    "ArrayList는 size(),  get(i) | Array는 length, [i] (인덱스방식) (p.323)\n",
    "PancakeHouseMenu는 ArrayList |DinerMenus는 Array (MenuItem[])\n",
    "\n",
    "* Iterator 없이 ArrayList, Array를 for-loop이용해서 출력하면 서로 다른 api + 중복\n"
   ]
  },
  {
   "cell_type": "code",
   "execution_count": 5,
   "metadata": {
    "collapsed": false,
    "slideshow": {
     "slide_type": "slide"
    }
   },
   "outputs": [
    {
     "data": {
      "image/svg+xml": [
       "<svg height=\"211px\" style=\"width:488px;height:211px;\" version=\"1.1\" viewBox=\"0 0 488 211\" width=\"488px\" xmlns=\"http://www.w3.org/2000/svg\" xmlns:xlink=\"http://www.w3.org/1999/xlink\"><defs><filter height=\"300%\" id=\"f1\" width=\"300%\" x=\"-1\" y=\"-1\"><feGaussianBlur result=\"blurOut\" stdDeviation=\"2.0\"/><feColorMatrix in=\"blurOut\" result=\"blurOut2\" type=\"matrix\" values=\"0 0 0 0 0 0 0 0 0 0 0 0 0 0 0 0 0 0 .4 0\"/><feOffset dx=\"4.0\" dy=\"4.0\" in=\"blurOut2\" result=\"blurOut3\"/><feBlend in=\"SourceGraphic\" in2=\"blurOut3\" mode=\"normal\"/></filter></defs><g><text fill=\"#000000\" font-family=\"sans-serif\" font-size=\"18\" lengthAdjust=\"spacingAndGlyphs\" textLength=\"67\" x=\"215\" y=\"17.4023\">before1</text><rect fill=\"#FEFECE\" filter=\"url(#f1)\" height=\"48\" style=\"stroke: #A80036; stroke-width: 1.5;\" width=\"82\" x=\"222.5\" y=\"154.1992\"/><ellipse cx=\"237.5\" cy=\"170.1992\" fill=\"#ADD1B2\" rx=\"11\" ry=\"11\" style=\"stroke: #A80036; stroke-width: 1.0;\"/><path d=\"M240.4731,175.8423 Q239.8921,176.1411 239.2529,176.2905 Q238.6138,176.4399 237.9082,176.4399 Q235.4014,176.4399 234.0815,174.7881 Q232.7617,173.1362 232.7617,170.0151 Q232.7617,166.8857 234.0815,165.2339 Q235.4014,163.582 237.9082,163.582 Q238.6138,163.582 239.2612,163.7314 Q239.9087,163.8809 240.4731,164.1797 L240.4731,166.9023 Q239.8423,166.3213 239.2488,166.0515 Q238.6553,165.7817 238.0244,165.7817 Q236.6797,165.7817 235.9949,166.8484 Q235.3101,167.915 235.3101,170.0151 Q235.3101,172.1069 235.9949,173.1736 Q236.6797,174.2402 238.0244,174.2402 Q238.6553,174.2402 239.2488,173.9705 Q239.8423,173.7007 240.4731,173.1196 Z \"/><text fill=\"#000000\" font-family=\"sans-serif\" font-size=\"12\" lengthAdjust=\"spacingAndGlyphs\" textLength=\"50\" x=\"251.5\" y=\"174.7344\">ArrayList</text><line style=\"stroke: #A80036; stroke-width: 1.5;\" x1=\"223.5\" x2=\"303.5\" y1=\"186.1992\" y2=\"186.1992\"/><line style=\"stroke: #A80036; stroke-width: 1.5;\" x1=\"223.5\" x2=\"303.5\" y1=\"194.1992\" y2=\"194.1992\"/><rect fill=\"#FEFECE\" filter=\"url(#f1)\" height=\"48\" style=\"stroke: #A80036; stroke-width: 1.5;\" width=\"63\" x=\"416\" y=\"29.1992\"/><ellipse cx=\"431\" cy=\"45.1992\" fill=\"#ADD1B2\" rx=\"11\" ry=\"11\" style=\"stroke: #A80036; stroke-width: 1.0;\"/><path d=\"M433.9731,50.8423 Q433.3921,51.1411 432.7529,51.2905 Q432.1138,51.4399 431.4082,51.4399 Q428.9014,51.4399 427.5815,49.7881 Q426.2617,48.1362 426.2617,45.0151 Q426.2617,41.8857 427.5815,40.2339 Q428.9014,38.582 431.4082,38.582 Q432.1138,38.582 432.7612,38.7314 Q433.4087,38.8809 433.9731,39.1797 L433.9731,41.9023 Q433.3423,41.3213 432.7488,41.0515 Q432.1553,40.7817 431.5244,40.7817 Q430.1797,40.7817 429.4949,41.8484 Q428.8101,42.915 428.8101,45.0151 Q428.8101,47.1069 429.4949,48.1736 Q430.1797,49.2402 431.5244,49.2402 Q432.1553,49.2402 432.7488,48.9705 Q433.3423,48.7007 433.9731,48.1196 Z \"/><text fill=\"#000000\" font-family=\"sans-serif\" font-size=\"12\" lengthAdjust=\"spacingAndGlyphs\" textLength=\"31\" x=\"445\" y=\"49.7344\">Array</text><line style=\"stroke: #A80036; stroke-width: 1.5;\" x1=\"417\" x2=\"478\" y1=\"61.1992\" y2=\"61.1992\"/><line style=\"stroke: #A80036; stroke-width: 1.5;\" x1=\"417\" x2=\"478\" y1=\"69.1992\" y2=\"69.1992\"/><rect fill=\"#FEFECE\" filter=\"url(#f1)\" height=\"48\" style=\"stroke: #A80036; stroke-width: 1.5;\" width=\"64\" x=\"47.5\" y=\"29.1992\"/><ellipse cx=\"62.5\" cy=\"45.1992\" fill=\"#ADD1B2\" rx=\"11\" ry=\"11\" style=\"stroke: #A80036; stroke-width: 1.0;\"/><path d=\"M65.4731,50.8423 Q64.8921,51.1411 64.2529,51.2905 Q63.6138,51.4399 62.9082,51.4399 Q60.4014,51.4399 59.0815,49.7881 Q57.7617,48.1362 57.7617,45.0151 Q57.7617,41.8857 59.0815,40.2339 Q60.4014,38.582 62.9082,38.582 Q63.6138,38.582 64.2612,38.7314 Q64.9087,38.8809 65.4731,39.1797 L65.4731,41.9023 Q64.8423,41.3213 64.2488,41.0515 Q63.6553,40.7817 63.0244,40.7817 Q61.6797,40.7817 60.9949,41.8484 Q60.3101,42.915 60.3101,45.0151 Q60.3101,47.1069 60.9949,48.1736 Q61.6797,49.2402 63.0244,49.2402 Q63.6553,49.2402 64.2488,48.9705 Q64.8423,48.7007 65.4731,48.1196 Z \"/><text fill=\"#000000\" font-family=\"sans-serif\" font-size=\"12\" lengthAdjust=\"spacingAndGlyphs\" textLength=\"32\" x=\"76.5\" y=\"49.7344\">Client</text><line style=\"stroke: #A80036; stroke-width: 1.5;\" x1=\"48.5\" x2=\"110.5\" y1=\"61.1992\" y2=\"61.1992\"/><line style=\"stroke: #A80036; stroke-width: 1.5;\" x1=\"48.5\" x2=\"110.5\" y1=\"69.1992\" y2=\"69.1992\"/><rect fill=\"#FEFECE\" filter=\"url(#f1)\" height=\"48\" style=\"stroke: #A80036; stroke-width: 1.5;\" width=\"147\" x=\"6\" y=\"154.1992\"/><ellipse cx=\"21\" cy=\"170.1992\" fill=\"#ADD1B2\" rx=\"11\" ry=\"11\" style=\"stroke: #A80036; stroke-width: 1.0;\"/><path d=\"M23.9731,175.8423 Q23.3921,176.1411 22.7529,176.2905 Q22.1138,176.4399 21.4082,176.4399 Q18.9014,176.4399 17.5815,174.7881 Q16.2617,173.1362 16.2617,170.0151 Q16.2617,166.8857 17.5815,165.2339 Q18.9014,163.582 21.4082,163.582 Q22.1138,163.582 22.7612,163.7314 Q23.4087,163.8809 23.9731,164.1797 L23.9731,166.9023 Q23.3423,166.3213 22.7488,166.0515 Q22.1553,165.7817 21.5244,165.7817 Q20.1797,165.7817 19.4949,166.8484 Q18.8101,167.915 18.8101,170.0151 Q18.8101,172.1069 19.4949,173.1736 Q20.1797,174.2402 21.5244,174.2402 Q22.1553,174.2402 22.7488,173.9705 Q23.3423,173.7007 23.9731,173.1196 Z \"/><text fill=\"#000000\" font-family=\"sans-serif\" font-size=\"12\" lengthAdjust=\"spacingAndGlyphs\" textLength=\"115\" x=\"35\" y=\"174.7344\">PancakeHouseMenu</text><line style=\"stroke: #A80036; stroke-width: 1.5;\" x1=\"7\" x2=\"152\" y1=\"186.1992\" y2=\"186.1992\"/><line style=\"stroke: #A80036; stroke-width: 1.5;\" x1=\"7\" x2=\"152\" y1=\"194.1992\" y2=\"194.1992\"/><rect fill=\"#FEFECE\" filter=\"url(#f1)\" height=\"48\" style=\"stroke: #A80036; stroke-width: 1.5;\" width=\"94\" x=\"245.5\" y=\"29.1992\"/><ellipse cx=\"260.5\" cy=\"45.1992\" fill=\"#ADD1B2\" rx=\"11\" ry=\"11\" style=\"stroke: #A80036; stroke-width: 1.0;\"/><path d=\"M263.4731,50.8423 Q262.8921,51.1411 262.2529,51.2905 Q261.6138,51.4399 260.9082,51.4399 Q258.4014,51.4399 257.0815,49.7881 Q255.7617,48.1362 255.7617,45.0151 Q255.7617,41.8857 257.0815,40.2339 Q258.4014,38.582 260.9082,38.582 Q261.6138,38.582 262.2612,38.7314 Q262.9087,38.8809 263.4731,39.1797 L263.4731,41.9023 Q262.8423,41.3213 262.2488,41.0515 Q261.6553,40.7817 261.0244,40.7817 Q259.6797,40.7817 258.9949,41.8484 Q258.3101,42.915 258.3101,45.0151 Q258.3101,47.1069 258.9949,48.1736 Q259.6797,49.2402 261.0244,49.2402 Q261.6553,49.2402 262.2488,48.9705 Q262.8423,48.7007 263.4731,48.1196 Z \"/><text fill=\"#000000\" font-family=\"sans-serif\" font-size=\"12\" lengthAdjust=\"spacingAndGlyphs\" textLength=\"62\" x=\"274.5\" y=\"49.7344\">DinerMenu</text><line style=\"stroke: #A80036; stroke-width: 1.5;\" x1=\"246.5\" x2=\"338.5\" y1=\"61.1992\" y2=\"61.1992\"/><line style=\"stroke: #A80036; stroke-width: 1.5;\" x1=\"246.5\" x2=\"338.5\" y1=\"69.1992\" y2=\"69.1992\"/><path d=\"M79.5,77.3342 C79.5,97.6932 79.5,127.3899 79.5,149.1072 \" fill=\"none\" style=\"stroke: #A80036; stroke-width: 1.0;\"/><polygon fill=\"#A80036\" points=\"79.5,154.1676,83.5,145.1676,79.5,149.1676,75.5,145.1676,79.5,154.1676\" style=\"stroke: #A80036; stroke-width: 1.0;\"/><text fill=\"#000000\" font-family=\"sans-serif\" font-size=\"13\" lengthAdjust=\"spacingAndGlyphs\" textLength=\"97\" x=\"80.5\" y=\"120.7676\">getMenuItems()</text><path d=\"M111.85,53.1992 C145.821,53.1992 199.773,53.1992 239.882,53.1992 \" fill=\"none\" style=\"stroke: #A80036; stroke-width: 1.0;\"/><polygon fill=\"#A80036\" points=\"245.197,53.1992,236.197,49.1992,240.197,53.1992,236.197,57.1992,245.197,53.1992\" style=\"stroke: #A80036; stroke-width: 1.0;\"/><text fill=\"#000000\" font-family=\"sans-serif\" font-size=\"13\" lengthAdjust=\"spacingAndGlyphs\" textLength=\"97\" x=\"130\" y=\"46.7676\">getMenuItems()</text><path d=\"M339.847,53.1992 C362.5,53.1992 389.223,53.1992 410.378,53.1992 \" fill=\"none\" style=\"stroke: #A80036; stroke-width: 1.0;\"/><polygon fill=\"#A80036\" points=\"415.63,53.1992,406.63,49.1992,410.63,53.1992,406.63,57.1992,415.63,53.1992\" style=\"stroke: #A80036; stroke-width: 1.0;\"/><text fill=\"#000000\" font-family=\"sans-serif\" font-size=\"13\" lengthAdjust=\"spacingAndGlyphs\" textLength=\"40\" x=\"357.75\" y=\"46.7676\">length</text><path d=\"M153.015,178.1992 C174.608,178.1992 197.619,178.1992 217.019,178.1992 \" fill=\"none\" style=\"stroke: #A80036; stroke-width: 1.0;\"/><polygon fill=\"#A80036\" points=\"222.391,178.1992,213.391,174.1992,217.391,178.1992,213.391,182.1992,222.391,178.1992\" style=\"stroke: #A80036; stroke-width: 1.0;\"/><text fill=\"#000000\" font-family=\"sans-serif\" font-size=\"13\" lengthAdjust=\"spacingAndGlyphs\" textLength=\"33\" x=\"171.25\" y=\"171.7676\">size()</text><path d=\"M153.138,197.9161 C169.471,200.1231 186.697,200.7737 202.75,198.1992 C207.601,197.4212 212.591,196.3145 217.525,195.0162 \" fill=\"none\" style=\"stroke: #A80036; stroke-width: 1.0;\"/><polygon fill=\"#A80036\" points=\"222.435,193.659,212.6944,192.2028,217.6159,194.9918,214.8269,199.9133,222.435,193.659\" style=\"stroke: #A80036; stroke-width: 1.0;\"/><text fill=\"#000000\" font-family=\"sans-serif\" font-size=\"13\" lengthAdjust=\"spacingAndGlyphs\" textLength=\"28\" x=\"173.75\" y=\"194.7676\">get()</text></g></svg>"
      ],
      "text/plain": [
       "<IPython.core.display.SVG object>"
      ]
     },
     "execution_count": 5,
     "metadata": {},
     "output_type": "execute_result"
    }
   ],
   "source": [
    "%%plantuml\n",
    "@startuml\n",
    "title before1\n",
    "class ArrayList\n",
    "class Array\n",
    "Client -down-> PancakeHouseMenu:getMenuItems()\n",
    "Client -right-> DinerMenu:getMenuItems()\n",
    "DinerMenu -> Array:length\n",
    "PancakeHouseMenu -> ArrayList:size()\n",
    "PancakeHouseMenu -> ArrayList:get()\n",
    "@enduml"
   ]
  },
  {
   "cell_type": "code",
   "execution_count": null,
   "metadata": {
    "collapsed": true,
    "slideshow": {
     "slide_type": "slide"
    }
   },
   "outputs": [],
   "source": [
    "# %load ./src/headfirst/iterator/dinermerger/before/MenuItem.java\n",
    "package headfirst.iterator.dinermerger.before;\n",
    "\n",
    "public class MenuItem {\n",
    "    String name;\n",
    "    String description;\n",
    "    boolean vegetarian;\n",
    "    double price;\n",
    " \n",
    "    public MenuItem(String n, String d, boolean v, double p) {\n",
    "        this.name = n;\n",
    "        this.description = d;\n",
    "        this.vegetarian = v;\n",
    "        this.price = p;\n",
    "    }\n",
    "    public String getName() {\n",
    "        return name;\n",
    "    }\n",
    "    public String getDescription() {\n",
    "        return description;\n",
    "    }\n",
    "    public double getPrice() {\n",
    "        return price;\n",
    "    }\n",
    "    public boolean isVegetarian() {\n",
    "        return vegetarian;\n",
    "    }\n",
    "    public String toString() {\n",
    "        return (name + \", $\" + price + \"\\n   \" + description);\n",
    "    }\n",
    "}\n"
   ]
  },
  {
   "cell_type": "code",
   "execution_count": null,
   "metadata": {
    "collapsed": true,
    "slideshow": {
     "slide_type": "slide"
    }
   },
   "outputs": [],
   "source": [
    "# %load ./src/headfirst/iterator/dinermerger/before/DinerMenu.java\n",
    "package headfirst.iterator.dinermerger.before;\n",
    "\n",
    "public class DinerMenu {\n",
    "    static final int MAX_ITEMS = 3;\n",
    "    int numberOfItems = 0;\n",
    "    MenuItem[] menuItems;\n",
    "  \n",
    "    public DinerMenu() {\n",
    "        menuItems = new MenuItem[MAX_ITEMS];\n",
    "        addItem(\"Vegetarian BLT\",\n",
    "                \"(Fakin') Bacon with lettuce & tomato on whole wheat\", true, 2.99);\n",
    "        addItem(\"BLT\",\n",
    "                \"Bacon with lettuce & tomato on whole wheat\", false, 2.99);\n",
    "        addItem(\"Soup of the day\",\n",
    "                \"Soup of the day, with a side of potato salad\", false, 3.29);\n",
    "    }\n",
    "    public void addItem(String name, String description, boolean vegetarian, double price) {\n",
    "        MenuItem menuItem = new MenuItem(name, description, vegetarian, price);\n",
    "        if (numberOfItems >= MAX_ITEMS) {\n",
    "            System.err.println(\"Sorry, menu is full!  Can't add item to menu\");\n",
    "        } else {\n",
    "            menuItems[numberOfItems] = menuItem;\n",
    "            numberOfItems = numberOfItems + 1;\n",
    "        }\n",
    "    }\n",
    "    public MenuItem[] getMenuItems() {\n",
    "        return menuItems;\n",
    "    }\n",
    "}\n"
   ]
  },
  {
   "cell_type": "code",
   "execution_count": null,
   "metadata": {
    "collapsed": true,
    "slideshow": {
     "slide_type": "slide"
    }
   },
   "outputs": [],
   "source": [
    "# %load ./src/headfirst/iterator/dinermerger/before/PancakeHouseMenu.java\n",
    "package headfirst.iterator.dinermerger.before;\n",
    "\n",
    "import java.util.ArrayList;\n",
    "\n",
    "public class PancakeHouseMenu {\n",
    "    ArrayList menuItems;\n",
    " \n",
    "    public PancakeHouseMenu() {\n",
    "        menuItems = new ArrayList();\n",
    "    \n",
    "        addItem(\"K&B's Pancake Breakfast\", \n",
    "                \"Pancakes with scrambled eggs, and toast\", true, 2.99);\n",
    "        addItem(\"Regular Pancake Breakfast\", \"Pancakes with fried eggs, sausage\", false, 2.99);\n",
    "        addItem(\"Blueberry Pancakes\", \"Pancakes made with fresh blueberries\", true, 3.49);\n",
    "        addItem(\"Waffles\", \"Waffles, with your choice of blueberries or strawberries\", true, 3.59);\n",
    "    }\n",
    "    public void addItem(String name, String description, boolean vegetarian, double price) {\n",
    "        MenuItem menuItem = new MenuItem(name, description, vegetarian, price);\n",
    "        menuItems.add(menuItem);\n",
    "    }\n",
    "    public ArrayList getMenuItems() {\n",
    "        return menuItems;\n",
    "    }\n",
    "    public String toString() {\n",
    "        return \"Objectville Pancake House Menu\";\n",
    "    }\n",
    "}\n"
   ]
  },
  {
   "cell_type": "code",
   "execution_count": null,
   "metadata": {
    "collapsed": true,
    "slideshow": {
     "slide_type": "slide"
    }
   },
   "outputs": [],
   "source": [
    "# %load ./src/headfirst/iterator/dinermerger/before/MenuTestDrive.java\n",
    "package headfirst.iterator.dinermerger.before;\n",
    "\n",
    "import java.util.*;\n",
    "\n",
    "public class MenuTestDrive {\n",
    "    public static void main(String args[]) {\n",
    "    PancakeHouseMenu pancakeHouseMenu = new PancakeHouseMenu();\n",
    "    DinerMenu dinerMenu = new DinerMenu();\n",
    " \n",
    "    printMenu();\n",
    "    }\n",
    "    public static void printMenu() {\n",
    "        PancakeHouseMenu pancakeHouseMenu = new PancakeHouseMenu();\n",
    "        DinerMenu dinerMenu = new DinerMenu();\n",
    "\n",
    "        ArrayList breakfastItems = pancakeHouseMenu.getMenuItems();\n",
    "\n",
    "        for (int i = 0; i < breakfastItems.size(); i++) {\n",
    "            MenuItem menuItem = (MenuItem)breakfastItems.get(i);\n",
    "            System.out.print(menuItem.getName());\n",
    "            System.out.println(\"\\t\\t\" + menuItem.getPrice());\n",
    "            System.out.println(\"\\t\" + menuItem.getDescription());\n",
    "        }\n",
    "\n",
    "        MenuItem[] lunchItems = dinerMenu.getMenuItems();\n",
    "\n",
    "        for (int i = 0; i < lunchItems.length; i++) {\n",
    "            MenuItem menuItem = lunchItems[i];\n",
    "            System.out.print(menuItem.getName());\n",
    "            System.out.println(\"\\t\\t\" + menuItem.getPrice());\n",
    "            System.out.println(\"\\t\" + menuItem.getDescription());\n",
    "        }\n",
    "    }\n",
    "}\n"
   ]
  },
  {
   "cell_type": "code",
   "execution_count": 27,
   "metadata": {
    "collapsed": false,
    "slideshow": {
     "slide_type": "slide"
    }
   },
   "outputs": [
    {
     "name": "stdout",
     "output_type": "stream",
     "text": [
      "Note: src/headfirst/iterator/dinermerger/before/PancakeHouseMenu.java uses unchecked or unsafe operations.\n",
      "Note: Recompile with -Xlint:unchecked for details.\n",
      "K&B's Pancake Breakfast\t\t2.99\n",
      "\tPancakes with scrambled eggs, and toast\n",
      "Regular Pancake Breakfast\t\t2.99\n",
      "\tPancakes with fried eggs, sausage\n",
      "Blueberry Pancakes\t\t3.49\n",
      "\tPancakes made with fresh blueberries\n",
      "Waffles\t\t3.59\n",
      "\tWaffles, with your choice of blueberries or strawberries\n",
      "Vegetarian BLT\t\t2.99\n",
      "\t(Fakin') Bacon with lettuce & tomato on whole wheat\n",
      "BLT\t\t2.99\n",
      "\tBacon with lettuce & tomato on whole wheat\n",
      "Soup of the day\t\t3.29\n",
      "\tSoup of the day, with a side of potato salad\n"
     ]
    }
   ],
   "source": [
    "!javac -d classes/ -sourcepath src/ src/headfirst/iterator/dinermerger/before/*.java\n",
    "!java -cp classes/ headfirst.iterator.dinermerger.before.MenuTestDrive"
   ]
  },
  {
   "cell_type": "markdown",
   "metadata": {
    "slideshow": {
     "slide_type": "slide"
    }
   },
   "source": [
    "# 4. 설계\n",
    "\n",
    "* SR - Single Responsibility (p.339)\n",
    "    * A class should have **only one** reason to change\n",
    "    * High Cohesion - 높은 응집성이란 한 가지 목적만 수행하는 것.\n",
    "    * 서로 다른 기능을 한 클래스에 넣어 놓으면, 한 기능이 바뀔 때 (무관한) 다른 기능도 따라서 변경관리해주어야 하는 번거로움. \n",
    "    * Composite 패턴의 경우, iteration을 분리해서 SR\n",
    "        * decouple iteration from collection\n",
    "* Iteration\n",
    "    * next() 다음 항목 가져오기\n",
    "    * hasNext() 항목이 남아있는지 확인하기 (Null Iterator, p.372)"
   ]
  },
  {
   "cell_type": "code",
   "execution_count": 14,
   "metadata": {
    "collapsed": false,
    "slideshow": {
     "slide_type": "slide"
    }
   },
   "outputs": [
    {
     "data": {
      "image/svg+xml": [
       "<svg height=\"307px\" style=\"width:239px;height:307px;\" version=\"1.1\" viewBox=\"0 0 239 307\" width=\"239px\" xmlns=\"http://www.w3.org/2000/svg\" xmlns:xlink=\"http://www.w3.org/1999/xlink\"><defs><filter height=\"300%\" id=\"f1\" width=\"300%\" x=\"-1\" y=\"-1\"><feGaussianBlur result=\"blurOut\" stdDeviation=\"2.0\"/><feColorMatrix in=\"blurOut\" result=\"blurOut2\" type=\"matrix\" values=\"0 0 0 0 0 0 0 0 0 0 0 0 0 0 0 0 0 0 .4 0\"/><feOffset dx=\"4.0\" dy=\"4.0\" in=\"blurOut2\" result=\"blurOut3\"/><feBlend in=\"SourceGraphic\" in2=\"blurOut3\" mode=\"normal\"/></filter></defs><g><rect fill=\"#FEFECE\" filter=\"url(#f1)\" height=\"73.9102\" style=\"stroke: #A80036; stroke-width: 1.5;\" width=\"110\" x=\"62.5\" y=\"8\"/><ellipse cx=\"93.7\" cy=\"24\" fill=\"#B4A7E5\" rx=\"11\" ry=\"11\" style=\"stroke: #A80036; stroke-width: 1.0;\"/><path d=\"M89.6277,19.7651 L89.6277,17.6069 L97.0071,17.6069 L97.0071,19.7651 L94.5418,19.7651 L94.5418,27.8418 L97.0071,27.8418 L97.0071,30 L89.6277,30 L89.6277,27.8418 L92.0931,27.8418 L92.0931,19.7651 Z \"/><text fill=\"#000000\" font-family=\"sans-serif\" font-size=\"12\" font-style=\"italic\" lengthAdjust=\"spacingAndGlyphs\" textLength=\"42\" x=\"111.3\" y=\"28.5352\">Iterator</text><line style=\"stroke: #A80036; stroke-width: 1.5;\" x1=\"63.5\" x2=\"171.5\" y1=\"40\" y2=\"40\"/><line style=\"stroke: #A80036; stroke-width: 1.5;\" x1=\"63.5\" x2=\"171.5\" y1=\"48\" y2=\"48\"/><text fill=\"#000000\" font-family=\"sans-serif\" font-size=\"11\" lengthAdjust=\"spacingAndGlyphs\" textLength=\"98\" x=\"68.5\" y=\"62.6348\">hasNext():boolean</text><text fill=\"#000000\" font-family=\"sans-serif\" font-size=\"11\" lengthAdjust=\"spacingAndGlyphs\" textLength=\"70\" x=\"68.5\" y=\"75.5898\">next():Object</text><rect fill=\"#FEFECE\" filter=\"url(#f1)\" height=\"48\" style=\"stroke: #A80036; stroke-width: 1.5;\" width=\"82\" x=\"15.5\" y=\"142\"/><ellipse cx=\"30.5\" cy=\"158\" fill=\"#ADD1B2\" rx=\"11\" ry=\"11\" style=\"stroke: #A80036; stroke-width: 1.0;\"/><path d=\"M33.4731,163.6431 Q32.8921,163.9419 32.2529,164.0913 Q31.6138,164.2407 30.9082,164.2407 Q28.4014,164.2407 27.0815,162.5889 Q25.7617,160.937 25.7617,157.8159 Q25.7617,154.6865 27.0815,153.0347 Q28.4014,151.3828 30.9082,151.3828 Q31.6138,151.3828 32.2612,151.5322 Q32.9087,151.6816 33.4731,151.9805 L33.4731,154.7031 Q32.8423,154.1221 32.2488,153.8523 Q31.6553,153.5825 31.0244,153.5825 Q29.6797,153.5825 28.9949,154.6492 Q28.3101,155.7158 28.3101,157.8159 Q28.3101,159.9077 28.9949,160.9744 Q29.6797,162.041 31.0244,162.041 Q31.6553,162.041 32.2488,161.7712 Q32.8423,161.5015 33.4731,160.9204 Z \"/><text fill=\"#000000\" font-family=\"sans-serif\" font-size=\"12\" lengthAdjust=\"spacingAndGlyphs\" textLength=\"50\" x=\"44.5\" y=\"162.5352\">AIterator</text><line style=\"stroke: #A80036; stroke-width: 1.5;\" x1=\"16.5\" x2=\"96.5\" y1=\"174\" y2=\"174\"/><line style=\"stroke: #A80036; stroke-width: 1.5;\" x1=\"16.5\" x2=\"96.5\" y1=\"182\" y2=\"182\"/><rect fill=\"#FEFECE\" filter=\"url(#f1)\" height=\"48\" style=\"stroke: #A80036; stroke-width: 1.5;\" width=\"81\" x=\"139\" y=\"142\"/><ellipse cx=\"154\" cy=\"158\" fill=\"#ADD1B2\" rx=\"11\" ry=\"11\" style=\"stroke: #A80036; stroke-width: 1.0;\"/><path d=\"M156.9731,163.6431 Q156.3921,163.9419 155.7529,164.0913 Q155.1138,164.2407 154.4082,164.2407 Q151.9014,164.2407 150.5815,162.5889 Q149.2617,160.937 149.2617,157.8159 Q149.2617,154.6865 150.5815,153.0347 Q151.9014,151.3828 154.4082,151.3828 Q155.1138,151.3828 155.7612,151.5322 Q156.4087,151.6816 156.9731,151.9805 L156.9731,154.7031 Q156.3423,154.1221 155.7488,153.8523 Q155.1553,153.5825 154.5244,153.5825 Q153.1797,153.5825 152.4949,154.6492 Q151.8101,155.7158 151.8101,157.8159 Q151.8101,159.9077 152.4949,160.9744 Q153.1797,162.041 154.5244,162.041 Q155.1553,162.041 155.7488,161.7712 Q156.3423,161.5015 156.9731,160.9204 Z \"/><text fill=\"#000000\" font-family=\"sans-serif\" font-size=\"12\" lengthAdjust=\"spacingAndGlyphs\" textLength=\"49\" x=\"168\" y=\"162.5352\">BIterator</text><line style=\"stroke: #A80036; stroke-width: 1.5;\" x1=\"140\" x2=\"219\" y1=\"174\" y2=\"174\"/><line style=\"stroke: #A80036; stroke-width: 1.5;\" x1=\"140\" x2=\"219\" y1=\"182\" y2=\"182\"/><rect fill=\"#FEFECE\" filter=\"url(#f1)\" height=\"48\" style=\"stroke: #A80036; stroke-width: 1.5;\" width=\"94\" x=\"136.5\" y=\"250\"/><ellipse cx=\"151.5\" cy=\"266\" fill=\"#ADD1B2\" rx=\"11\" ry=\"11\" style=\"stroke: #A80036; stroke-width: 1.0;\"/><path d=\"M154.4731,271.6431 Q153.8921,271.9419 153.2529,272.0913 Q152.6138,272.2407 151.9082,272.2407 Q149.4014,272.2407 148.0815,270.5889 Q146.7617,268.937 146.7617,265.8159 Q146.7617,262.6865 148.0815,261.0347 Q149.4014,259.3828 151.9082,259.3828 Q152.6138,259.3828 153.2612,259.5322 Q153.9087,259.6816 154.4731,259.9805 L154.4731,262.7031 Q153.8423,262.1221 153.2488,261.8523 Q152.6553,261.5825 152.0244,261.5825 Q150.6797,261.5825 149.9949,262.6492 Q149.3101,263.7158 149.3101,265.8159 Q149.3101,267.9077 149.9949,268.9744 Q150.6797,270.041 152.0244,270.041 Q152.6553,270.041 153.2488,269.7712 Q153.8423,269.5015 154.4731,268.9204 Z \"/><text fill=\"#000000\" font-family=\"sans-serif\" font-size=\"12\" lengthAdjust=\"spacingAndGlyphs\" textLength=\"62\" x=\"165.5\" y=\"270.5352\">CollectionB</text><line style=\"stroke: #A80036; stroke-width: 1.5;\" x1=\"137.5\" x2=\"229.5\" y1=\"282\" y2=\"282\"/><line style=\"stroke: #A80036; stroke-width: 1.5;\" x1=\"137.5\" x2=\"229.5\" y1=\"290\" y2=\"290\"/><rect fill=\"#FEFECE\" filter=\"url(#f1)\" height=\"48\" style=\"stroke: #A80036; stroke-width: 1.5;\" width=\"95\" x=\"6\" y=\"250\"/><ellipse cx=\"21\" cy=\"266\" fill=\"#ADD1B2\" rx=\"11\" ry=\"11\" style=\"stroke: #A80036; stroke-width: 1.0;\"/><path d=\"M23.9731,271.6431 Q23.3921,271.9419 22.7529,272.0913 Q22.1138,272.2407 21.4082,272.2407 Q18.9014,272.2407 17.5815,270.5889 Q16.2617,268.937 16.2617,265.8159 Q16.2617,262.6865 17.5815,261.0347 Q18.9014,259.3828 21.4082,259.3828 Q22.1138,259.3828 22.7612,259.5322 Q23.4087,259.6816 23.9731,259.9805 L23.9731,262.7031 Q23.3423,262.1221 22.7488,261.8523 Q22.1553,261.5825 21.5244,261.5825 Q20.1797,261.5825 19.4949,262.6492 Q18.8101,263.7158 18.8101,265.8159 Q18.8101,267.9077 19.4949,268.9744 Q20.1797,270.041 21.5244,270.041 Q22.1553,270.041 22.7488,269.7712 Q23.3423,269.5015 23.9731,268.9204 Z \"/><text fill=\"#000000\" font-family=\"sans-serif\" font-size=\"12\" lengthAdjust=\"spacingAndGlyphs\" textLength=\"63\" x=\"35\" y=\"270.5352\">CollectionA</text><line style=\"stroke: #A80036; stroke-width: 1.5;\" x1=\"7\" x2=\"100\" y1=\"282\" y2=\"282\"/><line style=\"stroke: #A80036; stroke-width: 1.5;\" x1=\"7\" x2=\"100\" y1=\"290\" y2=\"290\"/><path d=\"M89.7633,100.109 C82.2401,114.786 74.4908,129.903 68.3666,141.85 \" fill=\"none\" style=\"stroke: #A80036; stroke-width: 1.0; stroke-dasharray: 7.0,7.0;\"/><polygon fill=\"none\" points=\"83.6798,96.632,99.0324,82.027,96.1384,103.018,83.6798,96.632\" style=\"stroke: #A80036; stroke-width: 1.0;\"/><path d=\"M145.691,100.109 C153.338,114.786 161.214,129.903 167.439,141.85 \" fill=\"none\" style=\"stroke: #A80036; stroke-width: 1.0; stroke-dasharray: 7.0,7.0;\"/><polygon fill=\"none\" points=\"139.304,102.998,136.27,82.027,151.719,96.529,139.304,102.998\" style=\"stroke: #A80036; stroke-width: 1.0;\"/><path d=\"M180.562,195.131 C181.204,212.1538 182.013,233.6037 182.62,249.6784 \" fill=\"none\" style=\"stroke: #A80036; stroke-width: 1.0;\"/><polygon fill=\"#A80036\" points=\"180.368,190,176.7103,199.1445,180.5566,194.9964,184.7046,198.8427,180.368,190\" style=\"stroke: #A80036; stroke-width: 1.0;\"/><path d=\"M55.7039,195.131 C55.2221,212.1538 54.615,233.6037 54.16,249.6784 \" fill=\"none\" style=\"stroke: #A80036; stroke-width: 1.0;\"/><polygon fill=\"#A80036\" points=\"55.849,190,51.596,198.8833,55.7076,194.998,59.5928,199.1095,55.849,190\" style=\"stroke: #A80036; stroke-width: 1.0;\"/></g></svg>"
      ],
      "text/plain": [
       "<IPython.core.display.SVG object>"
      ]
     },
     "execution_count": 14,
     "metadata": {},
     "output_type": "execute_result"
    }
   ],
   "source": [
    "%%plantuml\n",
    "@startuml\n",
    "interface Iterator {\n",
    "    hasNext():boolean\n",
    "    next():Object\n",
    "}\n",
    "Iterator <|.. AIterator\n",
    "Iterator <|.. BIterator\n",
    "CollectionB -up-> BIterator\n",
    "CollectionA -up-> AIterator\n",
    "@enduml"
   ]
  },
  {
   "cell_type": "code",
   "execution_count": 65,
   "metadata": {
    "collapsed": false
   },
   "outputs": [
    {
     "data": {
      "image/svg+xml": [
       "<svg height=\"401px\" style=\"width:417px;height:401px;\" version=\"1.1\" viewBox=\"0 0 417 401\" width=\"417px\" xmlns=\"http://www.w3.org/2000/svg\" xmlns:xlink=\"http://www.w3.org/1999/xlink\"><defs><filter height=\"300%\" id=\"f1\" width=\"300%\" x=\"-1\" y=\"-1\"><feGaussianBlur result=\"blurOut\" stdDeviation=\"2.0\"/><feColorMatrix in=\"blurOut\" result=\"blurOut2\" type=\"matrix\" values=\"0 0 0 0 0 0 0 0 0 0 0 0 0 0 0 0 0 0 .4 0\"/><feOffset dx=\"4.0\" dy=\"4.0\" in=\"blurOut2\" result=\"blurOut3\"/><feBlend in=\"SourceGraphic\" in2=\"blurOut3\" mode=\"normal\"/></filter></defs><g><polygon fill=\"#FFFFFF\" filter=\"url(#f1)\" points=\"228,32,288,32,295,54.4883,410,54.4883,410,287.5,228,287.5,228,32\" style=\"stroke: #000000; stroke-width: 2.0;\"/><line style=\"stroke: #000000; stroke-width: 2.0;\" x1=\"228\" x2=\"295\" y1=\"54.4883\" y2=\"54.4883\"/><text fill=\"#000000\" font-family=\"sans-serif\" font-size=\"14\" font-weight=\"bold\" lengthAdjust=\"spacingAndGlyphs\" textLength=\"54\" x=\"232\" y=\"47.5352\">Iterator</text><polygon fill=\"#FFFFFF\" filter=\"url(#f1)\" points=\"22,174,106,174,113,196.4883,196,196.4883,196,394,22,394,22,174\" style=\"stroke: #000000; stroke-width: 2.0;\"/><line style=\"stroke: #000000; stroke-width: 2.0;\" x1=\"22\" x2=\"113\" y1=\"196.4883\" y2=\"196.4883\"/><text fill=\"#000000\" font-family=\"sans-serif\" font-size=\"14\" font-weight=\"bold\" lengthAdjust=\"spacingAndGlyphs\" textLength=\"78\" x=\"26\" y=\"189.5352\">Composite</text><rect fill=\"#FEFECE\" filter=\"url(#f1)\" height=\"73.9102\" style=\"stroke: #A80036; stroke-width: 1.5;\" width=\"110\" x=\"271\" y=\"75\"/><ellipse cx=\"302.2\" cy=\"91\" fill=\"#B4A7E5\" rx=\"11\" ry=\"11\" style=\"stroke: #A80036; stroke-width: 1.0;\"/><path d=\"M298.1277,86.7651 L298.1277,84.6069 L305.5071,84.6069 L305.5071,86.7651 L303.0418,86.7651 L303.0418,94.8418 L305.5071,94.8418 L305.5071,97 L298.1277,97 L298.1277,94.8418 L300.5931,94.8418 L300.5931,86.7651 Z \"/><text fill=\"#000000\" font-family=\"sans-serif\" font-size=\"12\" font-style=\"italic\" lengthAdjust=\"spacingAndGlyphs\" textLength=\"42\" x=\"319.8\" y=\"95.5352\">Iterator</text><line style=\"stroke: #A80036; stroke-width: 1.5;\" x1=\"272\" x2=\"380\" y1=\"107\" y2=\"107\"/><line style=\"stroke: #A80036; stroke-width: 1.5;\" x1=\"272\" x2=\"380\" y1=\"115\" y2=\"115\"/><text fill=\"#000000\" font-family=\"sans-serif\" font-size=\"11\" lengthAdjust=\"spacingAndGlyphs\" textLength=\"98\" x=\"277\" y=\"129.6348\">hasNext():boolean</text><text fill=\"#000000\" font-family=\"sans-serif\" font-size=\"11\" lengthAdjust=\"spacingAndGlyphs\" textLength=\"70\" x=\"277\" y=\"142.5898\">next():Object</text><rect fill=\"#FEFECE\" filter=\"url(#f1)\" height=\"48\" style=\"stroke: #A80036; stroke-width: 1.5;\" width=\"125\" x=\"260.5\" y=\"215.5\"/><ellipse cx=\"275.5\" cy=\"231.5\" fill=\"#ADD1B2\" rx=\"11\" ry=\"11\" style=\"stroke: #A80036; stroke-width: 1.0;\"/><path d=\"M278.4731,237.1431 Q277.8921,237.4419 277.2529,237.5913 Q276.6138,237.7407 275.9082,237.7407 Q273.4014,237.7407 272.0815,236.0889 Q270.7617,234.437 270.7617,231.3159 Q270.7617,228.1865 272.0815,226.5347 Q273.4014,224.8828 275.9082,224.8828 Q276.6138,224.8828 277.2612,225.0322 Q277.9087,225.1816 278.4731,225.4805 L278.4731,228.2031 Q277.8423,227.6221 277.2488,227.3523 Q276.6553,227.0825 276.0244,227.0825 Q274.6797,227.0825 273.9949,228.1492 Q273.3101,229.2158 273.3101,231.3159 Q273.3101,233.4077 273.9949,234.4744 Q274.6797,235.541 276.0244,235.541 Q276.6553,235.541 277.2488,235.2712 Q277.8423,235.0015 278.4731,234.4204 Z \"/><text fill=\"#000000\" font-family=\"sans-serif\" font-size=\"12\" lengthAdjust=\"spacingAndGlyphs\" textLength=\"93\" x=\"289.5\" y=\"236.0352\">ConcreteIterator</text><line style=\"stroke: #A80036; stroke-width: 1.5;\" x1=\"261.5\" x2=\"384.5\" y1=\"247.5\" y2=\"247.5\"/><line style=\"stroke: #A80036; stroke-width: 1.5;\" x1=\"261.5\" x2=\"384.5\" y1=\"255.5\" y2=\"255.5\"/><rect fill=\"#FEFECE\" filter=\"url(#f1)\" height=\"60.9551\" style=\"stroke: #A80036; stroke-width: 1.5;\" width=\"93\" x=\"62.5\" y=\"209\"/><ellipse cx=\"78.4\" cy=\"225\" fill=\"#B4A7E5\" rx=\"11\" ry=\"11\" style=\"stroke: #A80036; stroke-width: 1.0;\"/><path d=\"M74.3277,220.7651 L74.3277,218.6069 L81.7071,218.6069 L81.7071,220.7651 L79.2418,220.7651 L79.2418,228.8418 L81.7071,228.8418 L81.7071,231 L74.3277,231 L74.3277,228.8418 L76.7931,228.8418 L76.7931,220.7651 Z \"/><text fill=\"#000000\" font-family=\"sans-serif\" font-size=\"12\" font-style=\"italic\" lengthAdjust=\"spacingAndGlyphs\" textLength=\"59\" x=\"92.6\" y=\"229.5352\">Aggregate</text><line style=\"stroke: #A80036; stroke-width: 1.5;\" x1=\"63.5\" x2=\"154.5\" y1=\"241\" y2=\"241\"/><line style=\"stroke: #A80036; stroke-width: 1.5;\" x1=\"63.5\" x2=\"154.5\" y1=\"249\" y2=\"249\"/><text fill=\"#000000\" font-family=\"sans-serif\" font-size=\"11\" lengthAdjust=\"spacingAndGlyphs\" textLength=\"81\" x=\"68.5\" y=\"263.6348\">createIterator()</text><rect fill=\"#FEFECE\" filter=\"url(#f1)\" height=\"48\" style=\"stroke: #A80036; stroke-width: 1.5;\" width=\"142\" x=\"38\" y=\"330\"/><ellipse cx=\"53\" cy=\"346\" fill=\"#ADD1B2\" rx=\"11\" ry=\"11\" style=\"stroke: #A80036; stroke-width: 1.0;\"/><path d=\"M55.9731,351.6431 Q55.3921,351.9419 54.7529,352.0913 Q54.1138,352.2407 53.4082,352.2407 Q50.9014,352.2407 49.5815,350.5889 Q48.2617,348.937 48.2617,345.8159 Q48.2617,342.6865 49.5815,341.0347 Q50.9014,339.3828 53.4082,339.3828 Q54.1138,339.3828 54.7612,339.5322 Q55.4087,339.6816 55.9731,339.9805 L55.9731,342.7031 Q55.3423,342.1221 54.7488,341.8523 Q54.1553,341.5825 53.5244,341.5825 Q52.1797,341.5825 51.4949,342.6492 Q50.8101,343.7158 50.8101,345.8159 Q50.8101,347.9077 51.4949,348.9744 Q52.1797,350.041 53.5244,350.041 Q54.1553,350.041 54.7488,349.7712 Q55.3423,349.5015 55.9731,348.9204 Z \"/><text fill=\"#000000\" font-family=\"sans-serif\" font-size=\"12\" lengthAdjust=\"spacingAndGlyphs\" textLength=\"110\" x=\"67\" y=\"350.5352\">ConcreteAggregate</text><line style=\"stroke: #A80036; stroke-width: 1.5;\" x1=\"39\" x2=\"179\" y1=\"362\" y2=\"362\"/><line style=\"stroke: #A80036; stroke-width: 1.5;\" x1=\"39\" x2=\"179\" y1=\"370\" y2=\"370\"/><path d=\"M324.649,169.507 C324.263,185.674 323.863,202.399 323.554,215.333 \" fill=\"none\" style=\"stroke: #A80036; stroke-width: 1.0; stroke-dasharray: 7.0,7.0;\"/><polygon fill=\"none\" points=\"317.656,169.127,325.132,149.3,331.652,169.461,317.656,169.127\" style=\"stroke: #A80036; stroke-width: 1.0;\"/><path d=\"M109,290.107 C109,303.876 109,318.1847 109,329.6686 \" fill=\"none\" style=\"stroke: #A80036; stroke-width: 1.0; stroke-dasharray: 7.0,7.0;\"/><polygon fill=\"none\" points=\"102.0001,290.058,109,270.058,116,290.058,102.0001,290.058\" style=\"stroke: #A80036; stroke-width: 1.0;\"/><path d=\"M274.333,266.084 C237.759,285.311 188.09,311.4221 152.764,329.9933 \" fill=\"none\" style=\"stroke: #A80036; stroke-width: 1.0; stroke-dasharray: 7.0,7.0;\"/><polygon fill=\"#A80036\" points=\"279.178,263.538,269.3505,264.1863,274.7525,265.865,273.0737,271.267,279.178,263.538\" style=\"stroke: #A80036; stroke-width: 1.0;\"/></g></svg>"
      ],
      "text/plain": [
       "<IPython.core.display.SVG object>"
      ]
     },
     "execution_count": 65,
     "metadata": {},
     "output_type": "execute_result"
    }
   ],
   "source": [
    "%%plantuml\n",
    "@startuml\n",
    "package \"Iterator\" {\n",
    "    interface Iterator {\n",
    "        hasNext():boolean\n",
    "        next():Object\n",
    "    }\n",
    "    Iterator <|.. ConcreteIterator\n",
    "}\n",
    "package \"Composite\" {\n",
    "    interface Aggregate {\n",
    "        createIterator()\n",
    "    }\n",
    "    Aggregate <|.. ConcreteAggregate\n",
    "}\n",
    "ConcreteAggregate .left.> ConcreteIterator\n",
    "@enduml"
   ]
  },
  {
   "cell_type": "code",
   "execution_count": 9,
   "metadata": {
    "collapsed": false,
    "slideshow": {
     "slide_type": "slide"
    }
   },
   "outputs": [
    {
     "data": {
      "image/svg+xml": [
       "<svg height=\"426px\" style=\"width:541px;height:426px;\" version=\"1.1\" viewBox=\"0 0 541 426\" width=\"541px\" xmlns=\"http://www.w3.org/2000/svg\" xmlns:xlink=\"http://www.w3.org/1999/xlink\"><defs><filter height=\"300%\" id=\"f1\" width=\"300%\" x=\"-1\" y=\"-1\"><feGaussianBlur result=\"blurOut\" stdDeviation=\"2.0\"/><feColorMatrix in=\"blurOut\" result=\"blurOut2\" type=\"matrix\" values=\"0 0 0 0 0 0 0 0 0 0 0 0 0 0 0 0 0 0 .4 0\"/><feOffset dx=\"4.0\" dy=\"4.0\" in=\"blurOut2\" result=\"blurOut3\"/><feBlend in=\"SourceGraphic\" in2=\"blurOut3\" mode=\"normal\"/></filter></defs><g><polygon fill=\"#FFFFFF\" filter=\"url(#f1)\" points=\"303,24,371,24,378,46.4883,534,46.4883,534,264,303,264,303,24\" style=\"stroke: #000000; stroke-width: 2.0;\"/><line style=\"stroke: #000000; stroke-width: 2.0;\" x1=\"303\" x2=\"378\" y1=\"46.4883\" y2=\"46.4883\"/><text fill=\"#000000\" font-family=\"sans-serif\" font-size=\"14\" font-weight=\"bold\" lengthAdjust=\"spacingAndGlyphs\" textLength=\"62\" x=\"307\" y=\"39.5352\">Iteration</text><polygon fill=\"#FFFFFF\" filter=\"url(#f1)\" points=\"30,157,114,157,121,179.4883,271,179.4883,271,419,30,419,30,157\" style=\"stroke: #000000; stroke-width: 2.0;\"/><line style=\"stroke: #000000; stroke-width: 2.0;\" x1=\"30\" x2=\"121\" y1=\"179.4883\" y2=\"179.4883\"/><text fill=\"#000000\" font-family=\"sans-serif\" font-size=\"14\" font-weight=\"bold\" lengthAdjust=\"spacingAndGlyphs\" textLength=\"78\" x=\"34\" y=\"172.5352\">Composite</text><rect fill=\"#FEFECE\" filter=\"url(#f1)\" height=\"73.9102\" style=\"stroke: #A80036; stroke-width: 1.5;\" width=\"110\" x=\"363\" y=\"59\"/><ellipse cx=\"394.2\" cy=\"75\" fill=\"#B4A7E5\" rx=\"11\" ry=\"11\" style=\"stroke: #A80036; stroke-width: 1.0;\"/><path d=\"M390.1277,70.7651 L390.1277,68.6069 L397.5071,68.6069 L397.5071,70.7651 L395.0418,70.7651 L395.0418,78.8418 L397.5071,78.8418 L397.5071,81 L390.1277,81 L390.1277,78.8418 L392.5931,78.8418 L392.5931,70.7651 Z \"/><text fill=\"#000000\" font-family=\"sans-serif\" font-size=\"12\" font-style=\"italic\" lengthAdjust=\"spacingAndGlyphs\" textLength=\"42\" x=\"411.8\" y=\"79.5352\">Iterator</text><line style=\"stroke: #A80036; stroke-width: 1.5;\" x1=\"364\" x2=\"472\" y1=\"91\" y2=\"91\"/><line style=\"stroke: #A80036; stroke-width: 1.5;\" x1=\"364\" x2=\"472\" y1=\"99\" y2=\"99\"/><text fill=\"#000000\" font-family=\"sans-serif\" font-size=\"11\" lengthAdjust=\"spacingAndGlyphs\" textLength=\"98\" x=\"369\" y=\"113.6348\">hasNext():boolean</text><text fill=\"#000000\" font-family=\"sans-serif\" font-size=\"11\" lengthAdjust=\"spacingAndGlyphs\" textLength=\"70\" x=\"369\" y=\"126.5898\">next():Object</text><rect fill=\"#FEFECE\" filter=\"url(#f1)\" height=\"48\" style=\"stroke: #A80036; stroke-width: 1.5;\" width=\"82\" x=\"436\" y=\"200\"/><ellipse cx=\"451\" cy=\"216\" fill=\"#ADD1B2\" rx=\"11\" ry=\"11\" style=\"stroke: #A80036; stroke-width: 1.0;\"/><path d=\"M453.9731,221.6431 Q453.3921,221.9419 452.7529,222.0913 Q452.1138,222.2407 451.4082,222.2407 Q448.9014,222.2407 447.5815,220.5889 Q446.2617,218.937 446.2617,215.8159 Q446.2617,212.6865 447.5815,211.0347 Q448.9014,209.3828 451.4082,209.3828 Q452.1138,209.3828 452.7612,209.5322 Q453.4087,209.6816 453.9731,209.9805 L453.9731,212.7031 Q453.3423,212.1221 452.7488,211.8523 Q452.1553,211.5825 451.5244,211.5825 Q450.1797,211.5825 449.4949,212.6492 Q448.8101,213.7158 448.8101,215.8159 Q448.8101,217.9077 449.4949,218.9744 Q450.1797,220.041 451.5244,220.041 Q452.1553,220.041 452.7488,219.7712 Q453.3423,219.5015 453.9731,218.9204 Z \"/><text fill=\"#000000\" font-family=\"sans-serif\" font-size=\"12\" lengthAdjust=\"spacingAndGlyphs\" textLength=\"50\" x=\"465\" y=\"220.5352\">AIterator</text><line style=\"stroke: #A80036; stroke-width: 1.5;\" x1=\"437\" x2=\"517\" y1=\"232\" y2=\"232\"/><line style=\"stroke: #A80036; stroke-width: 1.5;\" x1=\"437\" x2=\"517\" y1=\"240\" y2=\"240\"/><rect fill=\"#FEFECE\" filter=\"url(#f1)\" height=\"48\" style=\"stroke: #A80036; stroke-width: 1.5;\" width=\"81\" x=\"319.5\" y=\"200\"/><ellipse cx=\"334.5\" cy=\"216\" fill=\"#ADD1B2\" rx=\"11\" ry=\"11\" style=\"stroke: #A80036; stroke-width: 1.0;\"/><path d=\"M337.4731,221.6431 Q336.8921,221.9419 336.2529,222.0913 Q335.6138,222.2407 334.9082,222.2407 Q332.4014,222.2407 331.0815,220.5889 Q329.7617,218.937 329.7617,215.8159 Q329.7617,212.6865 331.0815,211.0347 Q332.4014,209.3828 334.9082,209.3828 Q335.6138,209.3828 336.2612,209.5322 Q336.9087,209.6816 337.4731,209.9805 L337.4731,212.7031 Q336.8423,212.1221 336.2488,211.8523 Q335.6553,211.5825 335.0244,211.5825 Q333.6797,211.5825 332.9949,212.6492 Q332.3101,213.7158 332.3101,215.8159 Q332.3101,217.9077 332.9949,218.9744 Q333.6797,220.041 335.0244,220.041 Q335.6553,220.041 336.2488,219.7712 Q336.8423,219.5015 337.4731,218.9204 Z \"/><text fill=\"#000000\" font-family=\"sans-serif\" font-size=\"12\" lengthAdjust=\"spacingAndGlyphs\" textLength=\"49\" x=\"348.5\" y=\"220.5352\">BIterator</text><line style=\"stroke: #A80036; stroke-width: 1.5;\" x1=\"320.5\" x2=\"399.5\" y1=\"232\" y2=\"232\"/><line style=\"stroke: #A80036; stroke-width: 1.5;\" x1=\"320.5\" x2=\"399.5\" y1=\"240\" y2=\"240\"/><rect fill=\"#FEFECE\" filter=\"url(#f1)\" height=\"48\" style=\"stroke: #A80036; stroke-width: 1.5;\" width=\"98\" x=\"73\" y=\"200\"/><ellipse cx=\"88\" cy=\"216\" fill=\"#ADD1B2\" rx=\"11\" ry=\"11\" style=\"stroke: #A80036; stroke-width: 1.0;\"/><path d=\"M90.9731,221.6431 Q90.3921,221.9419 89.7529,222.0913 Q89.1138,222.2407 88.4082,222.2407 Q85.9014,222.2407 84.5815,220.5889 Q83.2617,218.937 83.2617,215.8159 Q83.2617,212.6865 84.5815,211.0347 Q85.9014,209.3828 88.4082,209.3828 Q89.1138,209.3828 89.7612,209.5322 Q90.4087,209.6816 90.9731,209.9805 L90.9731,212.7031 Q90.3423,212.1221 89.7488,211.8523 Q89.1553,211.5825 88.5244,211.5825 Q87.1797,211.5825 86.4949,212.6492 Q85.8101,213.7158 85.8101,215.8159 Q85.8101,217.9077 86.4949,218.9744 Q87.1797,220.041 88.5244,220.041 Q89.1553,220.041 89.7488,219.7712 Q90.3423,219.5015 90.9731,218.9204 Z \"/><text fill=\"#000000\" font-family=\"sans-serif\" font-size=\"12\" lengthAdjust=\"spacingAndGlyphs\" textLength=\"66\" x=\"102\" y=\"220.5352\">Component</text><line style=\"stroke: #A80036; stroke-width: 1.5;\" x1=\"74\" x2=\"170\" y1=\"232\" y2=\"232\"/><line style=\"stroke: #A80036; stroke-width: 1.5;\" x1=\"74\" x2=\"170\" y1=\"240\" y2=\"240\"/><rect fill=\"#FEFECE\" filter=\"url(#f1)\" height=\"48\" style=\"stroke: #A80036; stroke-width: 1.5;\" width=\"56\" x=\"191\" y=\"327.5\"/><ellipse cx=\"206\" cy=\"343.5\" fill=\"#ADD1B2\" rx=\"11\" ry=\"11\" style=\"stroke: #A80036; stroke-width: 1.0;\"/><path d=\"M208.9731,349.1431 Q208.3921,349.4419 207.7529,349.5913 Q207.1138,349.7407 206.4082,349.7407 Q203.9014,349.7407 202.5815,348.0889 Q201.2617,346.437 201.2617,343.3159 Q201.2617,340.1865 202.5815,338.5347 Q203.9014,336.8828 206.4082,336.8828 Q207.1138,336.8828 207.7612,337.0322 Q208.4087,337.1816 208.9731,337.4805 L208.9731,340.2031 Q208.3423,339.6221 207.7488,339.3523 Q207.1553,339.0825 206.5244,339.0825 Q205.1797,339.0825 204.4949,340.1492 Q203.8101,341.2158 203.8101,343.3159 Q203.8101,345.4077 204.4949,346.4744 Q205.1797,347.541 206.5244,347.541 Q207.1553,347.541 207.7488,347.2712 Q208.3423,347.0015 208.9731,346.4204 Z \"/><text fill=\"#000000\" font-family=\"sans-serif\" font-size=\"12\" lengthAdjust=\"spacingAndGlyphs\" textLength=\"24\" x=\"220\" y=\"348.0352\">Leaf</text><line style=\"stroke: #A80036; stroke-width: 1.5;\" x1=\"192\" x2=\"246\" y1=\"359.5\" y2=\"359.5\"/><line style=\"stroke: #A80036; stroke-width: 1.5;\" x1=\"192\" x2=\"246\" y1=\"367.5\" y2=\"367.5\"/><rect fill=\"#FEFECE\" filter=\"url(#f1)\" height=\"86.8652\" style=\"stroke: #A80036; stroke-width: 1.5;\" width=\"93\" x=\"62.5\" y=\"308\"/><ellipse cx=\"77.5\" cy=\"324\" fill=\"#ADD1B2\" rx=\"11\" ry=\"11\" style=\"stroke: #A80036; stroke-width: 1.0;\"/><path d=\"M80.4731,329.6431 Q79.8921,329.9419 79.2529,330.0913 Q78.6138,330.2407 77.9082,330.2407 Q75.4014,330.2407 74.0815,328.5889 Q72.7617,326.937 72.7617,323.8159 Q72.7617,320.6865 74.0815,319.0347 Q75.4014,317.3828 77.9082,317.3828 Q78.6138,317.3828 79.2612,317.5322 Q79.9087,317.6816 80.4731,317.9805 L80.4731,320.7031 Q79.8423,320.1221 79.2488,319.8523 Q78.6553,319.5825 78.0244,319.5825 Q76.6797,319.5825 75.9949,320.6492 Q75.3101,321.7158 75.3101,323.8159 Q75.3101,325.9077 75.9949,326.9744 Q76.6797,328.041 78.0244,328.041 Q78.6553,328.041 79.2488,327.7712 Q79.8423,327.5015 80.4731,326.9204 Z \"/><text fill=\"#000000\" font-family=\"sans-serif\" font-size=\"12\" lengthAdjust=\"spacingAndGlyphs\" textLength=\"61\" x=\"91.5\" y=\"328.5352\">Composite</text><line style=\"stroke: #A80036; stroke-width: 1.5;\" x1=\"63.5\" x2=\"154.5\" y1=\"340\" y2=\"340\"/><line style=\"stroke: #A80036; stroke-width: 1.5;\" x1=\"63.5\" x2=\"154.5\" y1=\"348\" y2=\"348\"/><text fill=\"#000000\" font-family=\"sans-serif\" font-size=\"11\" lengthAdjust=\"spacingAndGlyphs\" textLength=\"28\" x=\"68.5\" y=\"362.6348\">add()</text><text fill=\"#000000\" font-family=\"sans-serif\" font-size=\"11\" lengthAdjust=\"spacingAndGlyphs\" textLength=\"48\" x=\"68.5\" y=\"375.5898\">remove()</text><text fill=\"#000000\" font-family=\"sans-serif\" font-size=\"11\" lengthAdjust=\"spacingAndGlyphs\" textLength=\"53\" x=\"68.5\" y=\"388.5449\">getChild()</text><path d=\"M443.463,151.378 C451.449,168.434 459.838,186.349 466.228,199.995 \" fill=\"none\" style=\"stroke: #A80036; stroke-width: 1.0; stroke-dasharray: 7.0,7.0;\"/><polygon fill=\"none\" points=\"437.049,154.188,434.907,133.107,449.728,148.251,437.049,154.188\" style=\"stroke: #A80036; stroke-width: 1.0;\"/><path d=\"M392.969,151.378 C385.118,168.434 376.871,186.349 370.59,199.995 \" fill=\"none\" style=\"stroke: #A80036; stroke-width: 1.0; stroke-dasharray: 7.0,7.0;\"/><polygon fill=\"none\" points=\"386.658,148.347,401.38,133.107,399.375,154.201,386.658,148.347\" style=\"stroke: #A80036; stroke-width: 1.0;\"/><path d=\"M105.3652,268.057 C103.2588,280.912 101.8079,294.995 101.2691,307.825 \" fill=\"none\" style=\"stroke: #A80036; stroke-width: 1.0;\"/><polygon fill=\"none\" points=\"98.6005,266.2,109.483,248.019,112.314,269.018,98.6005,266.2\" style=\"stroke: #A80036; stroke-width: 1.0;\"/><path d=\"M130.614,261.141 C130.484,271.618 129.629,283.311 128.207,294.695 \" fill=\"none\" style=\"stroke: #A80036; stroke-width: 1.0;\"/><polygon fill=\"#A80036\" points=\"126.287,307.825,131.1133,302.4671,128.0237,295.9513,123.1975,301.3093,126.287,307.825\" style=\"stroke: #A80036; stroke-width: 1.0;\"/><polygon fill=\"#A80036\" points=\"130.344,248.019,126.5308,257.0997,130.4473,253.0179,134.5291,256.9344,130.344,248.019\" style=\"stroke: #A80036; stroke-width: 1.0;\"/><line style=\"stroke: #A80036; stroke-width: 1.0;\" x1=\"130.4473\" x2=\"130.611\" y1=\"253.0179\" y2=\"261.016\"/><path d=\"M152.064,263.897 C168.093,284.636 187.279,309.459 200.993,327.202 \" fill=\"none\" style=\"stroke: #A80036; stroke-width: 1.0;\"/><polygon fill=\"none\" points=\"146.484,268.124,139.791,248.019,157.561,259.562,146.484,268.124\" style=\"stroke: #A80036; stroke-width: 1.0;\"/><path d=\"M447.169,251.579 C438.185,258.789 428.035,266.198 418,272 C360.768,305.089 286.916,330.115 247.225,342.294 \" fill=\"none\" style=\"stroke: #A80036; stroke-width: 1.0; stroke-dasharray: 7.0,7.0;\"/><polygon fill=\"#A80036\" points=\"451.481,248.063,441.978,250.6501,447.6058,251.2226,447.0333,256.8504,451.481,248.063\" style=\"stroke: #A80036; stroke-width: 1.0;\"/><path d=\"M314.731,247.754 C298.528,255.68 280.055,264.468 263,272 C223.59,289.404 211.146,287.978 173,308 C167.213,311.037 161.297,314.469 155.513,318.033 \" fill=\"none\" style=\"stroke: #A80036; stroke-width: 1.0; stroke-dasharray: 7.0,7.0;\"/><polygon fill=\"#A80036\" points=\"319.237,245.543,309.3951,245.9135,314.7476,247.7441,312.917,253.0966,319.237,245.543\" style=\"stroke: #A80036; stroke-width: 1.0;\"/></g></svg>"
      ],
      "text/plain": [
       "<IPython.core.display.SVG object>"
      ]
     },
     "execution_count": 9,
     "metadata": {},
     "output_type": "execute_result"
    }
   ],
   "source": [
    "%%plantuml\n",
    "@startuml\n",
    "package \"Iteration\" {\n",
    "interface Iterator {\n",
    "    hasNext():boolean\n",
    "    next():Object\n",
    "}\n",
    "Iterator <|.. AIterator\n",
    "Iterator <|.. BIterator\n",
    "}\n",
    "package \"Composite\" {\n",
    "class Component\n",
    "class Leaf\n",
    "class Composite {\n",
    "    add()\n",
    "    remove()\n",
    "    getChild()\n",
    "}\n",
    "Component <|-- Composite\n",
    "Component <|-- Leaf\n",
    "Composite *-up-> Component\n",
    "}\n",
    "Leaf .left.> AIterator\n",
    "Composite .left.> BIterator\n",
    "@enduml"
   ]
  },
  {
   "cell_type": "markdown",
   "metadata": {
    "slideshow": {
     "slide_type": "slide"
    }
   },
   "source": [
    "# 5. after\n",
    "\n",
    "* 교재 HFDP Ch9 'Diner Menu'"
   ]
  },
  {
   "cell_type": "code",
   "execution_count": 66,
   "metadata": {
    "collapsed": false,
    "slideshow": {
     "slide_type": "slide"
    }
   },
   "outputs": [
    {
     "data": {
      "image/svg+xml": [
       "<svg height=\"416px\" style=\"width:827px;height:416px;\" version=\"1.1\" viewBox=\"0 0 827 416\" width=\"827px\" xmlns=\"http://www.w3.org/2000/svg\" xmlns:xlink=\"http://www.w3.org/1999/xlink\"><defs><filter height=\"300%\" id=\"f1\" width=\"300%\" x=\"-1\" y=\"-1\"><feGaussianBlur result=\"blurOut\" stdDeviation=\"2.0\"/><feColorMatrix in=\"blurOut\" result=\"blurOut2\" type=\"matrix\" values=\"0 0 0 0 0 0 0 0 0 0 0 0 0 0 0 0 0 0 .4 0\"/><feOffset dx=\"4.0\" dy=\"4.0\" in=\"blurOut2\" result=\"blurOut3\"/><feBlend in=\"SourceGraphic\" in2=\"blurOut3\" mode=\"normal\"/></filter></defs><g><polygon fill=\"#FFFFFF\" filter=\"url(#f1)\" points=\"403,32,463,32,470,54.4883,820,54.4883,820,294.5,403,294.5,403,32\" style=\"stroke: #000000; stroke-width: 2.0;\"/><line style=\"stroke: #000000; stroke-width: 2.0;\" x1=\"403\" x2=\"470\" y1=\"54.4883\" y2=\"54.4883\"/><text fill=\"#000000\" font-family=\"sans-serif\" font-size=\"14\" font-weight=\"bold\" lengthAdjust=\"spacingAndGlyphs\" textLength=\"54\" x=\"407\" y=\"47.5352\">Iterator</text><polygon fill=\"#FFFFFF\" filter=\"url(#f1)\" points=\"30,173,75,173,82,195.4883,363,195.4883,363,409,30,409,30,173\" style=\"stroke: #000000; stroke-width: 2.0;\"/><line style=\"stroke: #000000; stroke-width: 2.0;\" x1=\"30\" x2=\"82\" y1=\"195.4883\" y2=\"195.4883\"/><text fill=\"#000000\" font-family=\"sans-serif\" font-size=\"14\" font-weight=\"bold\" lengthAdjust=\"spacingAndGlyphs\" textLength=\"39\" x=\"34\" y=\"188.5352\">Menu</text><rect fill=\"#FEFECE\" filter=\"url(#f1)\" height=\"73.9102\" style=\"stroke: #A80036; stroke-width: 1.5;\" width=\"124\" x=\"542\" y=\"75\"/><ellipse cx=\"579.5\" cy=\"91\" fill=\"#B4A7E5\" rx=\"11\" ry=\"11\" style=\"stroke: #A80036; stroke-width: 1.0;\"/><path d=\"M575.4277,86.7651 L575.4277,84.6069 L582.8071,84.6069 L582.8071,86.7651 L580.3418,86.7651 L580.3418,94.8418 L582.8071,94.8418 L582.8071,97 L575.4277,97 L575.4277,94.8418 L577.8931,94.8418 L577.8931,86.7651 Z \"/><text fill=\"#000000\" font-family=\"sans-serif\" font-size=\"12\" font-style=\"italic\" lengthAdjust=\"spacingAndGlyphs\" textLength=\"42\" x=\"598.5\" y=\"95.5352\">Iterator</text><line style=\"stroke: #A80036; stroke-width: 1.5;\" x1=\"543\" x2=\"665\" y1=\"107\" y2=\"107\"/><line style=\"stroke: #A80036; stroke-width: 1.5;\" x1=\"543\" x2=\"665\" y1=\"115\" y2=\"115\"/><ellipse cx=\"553\" cy=\"126.9775\" fill=\"#84BE84\" rx=\"3\" ry=\"3\" style=\"stroke: #038048; stroke-width: 1.0;\"/><text fill=\"#000000\" font-family=\"sans-serif\" font-size=\"11\" lengthAdjust=\"spacingAndGlyphs\" textLength=\"98\" x=\"562\" y=\"129.6348\">hasNext():boolean</text><ellipse cx=\"553\" cy=\"139.9326\" fill=\"#84BE84\" rx=\"3\" ry=\"3\" style=\"stroke: #038048; stroke-width: 1.0;\"/><text fill=\"#000000\" font-family=\"sans-serif\" font-size=\"11\" lengthAdjust=\"spacingAndGlyphs\" textLength=\"70\" x=\"562\" y=\"142.5898\">next():Object</text><rect fill=\"#FEFECE\" filter=\"url(#f1)\" height=\"48\" style=\"stroke: #A80036; stroke-width: 1.5;\" width=\"136\" x=\"435\" y=\"222.5\"/><ellipse cx=\"450\" cy=\"238.5\" fill=\"#ADD1B2\" rx=\"11\" ry=\"11\" style=\"stroke: #A80036; stroke-width: 1.0;\"/><path d=\"M452.9731,244.1431 Q452.3921,244.4419 451.7529,244.5913 Q451.1138,244.7407 450.4082,244.7407 Q447.9014,244.7407 446.5815,243.0889 Q445.2617,241.437 445.2617,238.3159 Q445.2617,235.1865 446.5815,233.5347 Q447.9014,231.8828 450.4082,231.8828 Q451.1138,231.8828 451.7612,232.0322 Q452.4087,232.1816 452.9731,232.4805 L452.9731,235.2031 Q452.3423,234.6221 451.7488,234.3523 Q451.1553,234.0825 450.5244,234.0825 Q449.1797,234.0825 448.4949,235.1492 Q447.8101,236.2158 447.8101,238.3159 Q447.8101,240.4077 448.4949,241.4744 Q449.1797,242.541 450.5244,242.541 Q451.1553,242.541 451.7488,242.2712 Q452.3423,242.0015 452.9731,241.4204 Z \"/><text fill=\"#000000\" font-family=\"sans-serif\" font-size=\"12\" lengthAdjust=\"spacingAndGlyphs\" textLength=\"104\" x=\"464\" y=\"243.0352\">DinerMenuIterator</text><line style=\"stroke: #A80036; stroke-width: 1.5;\" x1=\"436\" x2=\"570\" y1=\"254.5\" y2=\"254.5\"/><line style=\"stroke: #A80036; stroke-width: 1.5;\" x1=\"436\" x2=\"570\" y1=\"262.5\" y2=\"262.5\"/><rect fill=\"#FEFECE\" filter=\"url(#f1)\" height=\"48\" style=\"stroke: #A80036; stroke-width: 1.5;\" width=\"189\" x=\"606.5\" y=\"222.5\"/><ellipse cx=\"621.5\" cy=\"238.5\" fill=\"#ADD1B2\" rx=\"11\" ry=\"11\" style=\"stroke: #A80036; stroke-width: 1.0;\"/><path d=\"M624.4731,244.1431 Q623.8921,244.4419 623.2529,244.5913 Q622.6138,244.7407 621.9082,244.7407 Q619.4014,244.7407 618.0815,243.0889 Q616.7617,241.437 616.7617,238.3159 Q616.7617,235.1865 618.0815,233.5347 Q619.4014,231.8828 621.9082,231.8828 Q622.6138,231.8828 623.2612,232.0322 Q623.9087,232.1816 624.4731,232.4805 L624.4731,235.2031 Q623.8423,234.6221 623.2488,234.3523 Q622.6553,234.0825 622.0244,234.0825 Q620.6797,234.0825 619.9949,235.1492 Q619.3101,236.2158 619.3101,238.3159 Q619.3101,240.4077 619.9949,241.4744 Q620.6797,242.541 622.0244,242.541 Q622.6553,242.541 623.2488,242.2712 Q623.8423,242.0015 624.4731,241.4204 Z \"/><text fill=\"#000000\" font-family=\"sans-serif\" font-size=\"12\" lengthAdjust=\"spacingAndGlyphs\" textLength=\"157\" x=\"635.5\" y=\"243.0352\">PancakeHouseMenuIterator</text><line style=\"stroke: #A80036; stroke-width: 1.5;\" x1=\"607.5\" x2=\"794.5\" y1=\"254.5\" y2=\"254.5\"/><line style=\"stroke: #A80036; stroke-width: 1.5;\" x1=\"607.5\" x2=\"794.5\" y1=\"262.5\" y2=\"262.5\"/><rect fill=\"#FEFECE\" filter=\"url(#f1)\" height=\"60.9551\" style=\"stroke: #A80036; stroke-width: 1.5;\" width=\"150\" x=\"131\" y=\"216\"/><ellipse cx=\"186.25\" cy=\"232\" fill=\"#B4A7E5\" rx=\"11\" ry=\"11\" style=\"stroke: #A80036; stroke-width: 1.0;\"/><path d=\"M182.1777,227.7651 L182.1777,225.6069 L189.5571,225.6069 L189.5571,227.7651 L187.0918,227.7651 L187.0918,235.8418 L189.5571,235.8418 L189.5571,238 L182.1777,238 L182.1777,235.8418 L184.6431,235.8418 L184.6431,227.7651 Z \"/><text fill=\"#000000\" font-family=\"sans-serif\" font-size=\"12\" font-style=\"italic\" lengthAdjust=\"spacingAndGlyphs\" textLength=\"31\" x=\"206.75\" y=\"236.5352\">Menu</text><line style=\"stroke: #A80036; stroke-width: 1.5;\" x1=\"132\" x2=\"280\" y1=\"248\" y2=\"248\"/><line style=\"stroke: #A80036; stroke-width: 1.5;\" x1=\"132\" x2=\"280\" y1=\"256\" y2=\"256\"/><ellipse cx=\"142\" cy=\"267.9775\" fill=\"#84BE84\" rx=\"3\" ry=\"3\" style=\"stroke: #038048; stroke-width: 1.0;\"/><text fill=\"#000000\" font-family=\"sans-serif\" font-size=\"11\" lengthAdjust=\"spacingAndGlyphs\" textLength=\"124\" x=\"151\" y=\"270.6348\">createIterator():Iterator</text><rect fill=\"#FEFECE\" filter=\"url(#f1)\" height=\"48\" style=\"stroke: #A80036; stroke-width: 1.5;\" width=\"94\" x=\"62\" y=\"337\"/><ellipse cx=\"77\" cy=\"353\" fill=\"#ADD1B2\" rx=\"11\" ry=\"11\" style=\"stroke: #A80036; stroke-width: 1.0;\"/><path d=\"M79.9731,358.6431 Q79.3921,358.9419 78.7529,359.0913 Q78.1138,359.2407 77.4082,359.2407 Q74.9014,359.2407 73.5815,357.5889 Q72.2617,355.937 72.2617,352.8159 Q72.2617,349.6865 73.5815,348.0347 Q74.9014,346.3828 77.4082,346.3828 Q78.1138,346.3828 78.7612,346.5322 Q79.4087,346.6816 79.9731,346.9805 L79.9731,349.7031 Q79.3423,349.1221 78.7488,348.8523 Q78.1553,348.5825 77.5244,348.5825 Q76.1797,348.5825 75.4949,349.6492 Q74.8101,350.7158 74.8101,352.8159 Q74.8101,354.9077 75.4949,355.9744 Q76.1797,357.041 77.5244,357.041 Q78.1553,357.041 78.7488,356.7712 Q79.3423,356.5015 79.9731,355.9204 Z \"/><text fill=\"#000000\" font-family=\"sans-serif\" font-size=\"12\" lengthAdjust=\"spacingAndGlyphs\" textLength=\"62\" x=\"91\" y=\"357.5352\">DinerMenu</text><line style=\"stroke: #A80036; stroke-width: 1.5;\" x1=\"63\" x2=\"155\" y1=\"369\" y2=\"369\"/><line style=\"stroke: #A80036; stroke-width: 1.5;\" x1=\"63\" x2=\"155\" y1=\"377\" y2=\"377\"/><rect fill=\"#FEFECE\" filter=\"url(#f1)\" height=\"48\" style=\"stroke: #A80036; stroke-width: 1.5;\" width=\"147\" x=\"191.5\" y=\"337\"/><ellipse cx=\"206.5\" cy=\"353\" fill=\"#ADD1B2\" rx=\"11\" ry=\"11\" style=\"stroke: #A80036; stroke-width: 1.0;\"/><path d=\"M209.4731,358.6431 Q208.8921,358.9419 208.2529,359.0913 Q207.6138,359.2407 206.9082,359.2407 Q204.4014,359.2407 203.0815,357.5889 Q201.7617,355.937 201.7617,352.8159 Q201.7617,349.6865 203.0815,348.0347 Q204.4014,346.3828 206.9082,346.3828 Q207.6138,346.3828 208.2612,346.5322 Q208.9087,346.6816 209.4731,346.9805 L209.4731,349.7031 Q208.8423,349.1221 208.2488,348.8523 Q207.6553,348.5825 207.0244,348.5825 Q205.6797,348.5825 204.9949,349.6492 Q204.3101,350.7158 204.3101,352.8159 Q204.3101,354.9077 204.9949,355.9744 Q205.6797,357.041 207.0244,357.041 Q207.6553,357.041 208.2488,356.7712 Q208.8423,356.5015 209.4731,355.9204 Z \"/><text fill=\"#000000\" font-family=\"sans-serif\" font-size=\"12\" lengthAdjust=\"spacingAndGlyphs\" textLength=\"115\" x=\"220.5\" y=\"357.5352\">PancakeHouseMenu</text><line style=\"stroke: #A80036; stroke-width: 1.5;\" x1=\"192.5\" x2=\"337.5\" y1=\"369\" y2=\"369\"/><line style=\"stroke: #A80036; stroke-width: 1.5;\" x1=\"192.5\" x2=\"337.5\" y1=\"377\" y2=\"377\"/><path d=\"M564.186,165.231 C549.124,184.991 532.732,206.496 520.708,222.269 \" fill=\"none\" style=\"stroke: #A80036; stroke-width: 1.0; stroke-dasharray: 7.0,7.0;\"/><polygon fill=\"none\" points=\"558.71,160.869,576.401,149.206,569.844,169.356,558.71,160.869\" style=\"stroke: #A80036; stroke-width: 1.0;\"/><path d=\"M642.454,165.527 C656.86,185.206 672.504,206.575 683.993,222.269 \" fill=\"none\" style=\"stroke: #A80036; stroke-width: 1.0; stroke-dasharray: 7.0,7.0;\"/><polygon fill=\"none\" points=\"636.672,169.479,630.506,149.206,647.968,161.209,636.672,169.479\" style=\"stroke: #A80036; stroke-width: 1.0;\"/><path d=\"M167.394,292.275 C154.292,307.471 140.183,323.834 129.117,336.6686 \" fill=\"none\" style=\"stroke: #A80036; stroke-width: 1.0; stroke-dasharray: 7.0,7.0;\"/><polygon fill=\"none\" points=\"162.153,287.634,180.514,277.058,172.756,296.776,162.153,287.634\" style=\"stroke: #A80036; stroke-width: 1.0;\"/><path d=\"M230.999,295.167 C238.528,309.524 246.458,324.644 252.764,336.6686 \" fill=\"none\" style=\"stroke: #A80036; stroke-width: 1.0; stroke-dasharray: 7.0,7.0;\"/><polygon fill=\"none\" points=\"224.591,298.021,221.502,277.058,236.99,291.519,224.591,298.021\" style=\"stroke: #A80036; stroke-width: 1.0;\"/><path d=\"M452.651,272.759 C424.553,285.869 388.547,301.074 355,310.5 C276.729,332.492 252.919,317.458 174,337 C168.19,338.4386 162.17,340.1926 156.244,342.084 \" fill=\"none\" style=\"stroke: #A80036; stroke-width: 1.0; stroke-dasharray: 7.0,7.0;\"/><polygon fill=\"#A80036\" points=\"457.446,270.506,447.5993,270.7143,452.9209,272.6329,451.0023,277.9544,457.446,270.506\" style=\"stroke: #A80036; stroke-width: 1.0;\"/><path d=\"M662.846,273.528 C641.913,286.606 614.992,301.539 589,310.5 C506.021,339.1078 405.409,351.2121 338.539,356.3148 \" fill=\"none\" style=\"stroke: #A80036; stroke-width: 1.0; stroke-dasharray: 7.0,7.0;\"/><polygon fill=\"#A80036\" points=\"667.22,270.768,657.4743,272.19,662.992,273.4371,661.7449,278.9548,667.22,270.768\" style=\"stroke: #A80036; stroke-width: 1.0;\"/></g></svg>"
      ],
      "text/plain": [
       "<IPython.core.display.SVG object>"
      ]
     },
     "execution_count": 66,
     "metadata": {},
     "output_type": "execute_result"
    }
   ],
   "source": [
    "%%plantuml\n",
    "@startuml\n",
    "package Iterator {\n",
    "interface Iterator {\n",
    "    +hasNext():boolean\n",
    "    +next():Object\n",
    "}\n",
    "Iterator <|.. DinerMenuIterator\n",
    "Iterator <|.. PancakeHouseMenuIterator\n",
    "}\n",
    "package Menu {\n",
    "interface Menu {\n",
    "    +createIterator():Iterator\n",
    "}\n",
    "Menu <|.. DinerMenu\n",
    "Menu <|.. PancakeHouseMenu\n",
    "}\n",
    "DinerMenu .left.> DinerMenuIterator\n",
    "PancakeHouseMenu .left.> PancakeHouseMenuIterator\n",
    "@enduml"
   ]
  },
  {
   "cell_type": "code",
   "execution_count": 55,
   "metadata": {
    "collapsed": false
   },
   "outputs": [
    {
     "data": {
      "image/svg+xml": [
       "<svg height=\"566px\" style=\"width:833px;height:566px;\" version=\"1.1\" viewBox=\"0 0 833 566\" width=\"833px\" xmlns=\"http://www.w3.org/2000/svg\" xmlns:xlink=\"http://www.w3.org/1999/xlink\"><defs><filter height=\"300%\" id=\"f1\" width=\"300%\" x=\"-1\" y=\"-1\"><feGaussianBlur result=\"blurOut\" stdDeviation=\"2.0\"/><feColorMatrix in=\"blurOut\" result=\"blurOut2\" type=\"matrix\" values=\"0 0 0 0 0 0 0 0 0 0 0 0 0 0 0 0 0 0 .4 0\"/><feOffset dx=\"4.0\" dy=\"4.0\" in=\"blurOut2\" result=\"blurOut3\"/><feBlend in=\"SourceGraphic\" in2=\"blurOut3\" mode=\"normal\"/></filter></defs><g><polygon fill=\"#FFFFFF\" filter=\"url(#f1)\" points=\"30,32.5,90,32.5,97,54.9883,415,54.9883,415,347,30,347,30,32.5\" style=\"stroke: #000000; stroke-width: 2.0;\"/><line style=\"stroke: #000000; stroke-width: 2.0;\" x1=\"30\" x2=\"97\" y1=\"54.9883\" y2=\"54.9883\"/><text fill=\"#000000\" font-family=\"sans-serif\" font-size=\"14\" font-weight=\"bold\" lengthAdjust=\"spacingAndGlyphs\" textLength=\"54\" x=\"34\" y=\"48.0352\">Iterator</text><polygon fill=\"#FFFFFF\" filter=\"url(#f1)\" points=\"455,173.5,500,173.5,507,195.9883,826,195.9883,826,559,455,559,455,173.5\" style=\"stroke: #000000; stroke-width: 2.0;\"/><line style=\"stroke: #000000; stroke-width: 2.0;\" x1=\"455\" x2=\"507\" y1=\"195.9883\" y2=\"195.9883\"/><text fill=\"#000000\" font-family=\"sans-serif\" font-size=\"14\" font-weight=\"bold\" lengthAdjust=\"spacingAndGlyphs\" textLength=\"39\" x=\"459\" y=\"189.0352\">Menu</text><rect fill=\"#FEFECE\" filter=\"url(#f1)\" height=\"73.9102\" style=\"stroke: #A80036; stroke-width: 1.5;\" width=\"124\" x=\"267\" y=\"75.5\"/><ellipse cx=\"304.5\" cy=\"91.5\" fill=\"#B4A7E5\" rx=\"11\" ry=\"11\" style=\"stroke: #A80036; stroke-width: 1.0;\"/><path d=\"M300.4277,87.2651 L300.4277,85.1069 L307.8071,85.1069 L307.8071,87.2651 L305.3418,87.2651 L305.3418,95.3418 L307.8071,95.3418 L307.8071,97.5 L300.4277,97.5 L300.4277,95.3418 L302.8931,95.3418 L302.8931,87.2651 Z \"/><text fill=\"#000000\" font-family=\"sans-serif\" font-size=\"12\" font-style=\"italic\" lengthAdjust=\"spacingAndGlyphs\" textLength=\"42\" x=\"323.5\" y=\"96.0352\">Iterator</text><line style=\"stroke: #A80036; stroke-width: 1.5;\" x1=\"268\" x2=\"390\" y1=\"107.5\" y2=\"107.5\"/><line style=\"stroke: #A80036; stroke-width: 1.5;\" x1=\"268\" x2=\"390\" y1=\"115.5\" y2=\"115.5\"/><ellipse cx=\"278\" cy=\"127.4775\" fill=\"#84BE84\" rx=\"3\" ry=\"3\" style=\"stroke: #038048; stroke-width: 1.0;\"/><text fill=\"#000000\" font-family=\"sans-serif\" font-size=\"11\" lengthAdjust=\"spacingAndGlyphs\" textLength=\"98\" x=\"287\" y=\"130.1348\">hasNext():boolean</text><ellipse cx=\"278\" cy=\"140.4326\" fill=\"#84BE84\" rx=\"3\" ry=\"3\" style=\"stroke: #038048; stroke-width: 1.0;\"/><text fill=\"#000000\" font-family=\"sans-serif\" font-size=\"11\" lengthAdjust=\"spacingAndGlyphs\" textLength=\"70\" x=\"287\" y=\"143.0898\">next():Object</text><rect fill=\"#FEFECE\" filter=\"url(#f1)\" height=\"112.7754\" style=\"stroke: #A80036; stroke-width: 1.5;\" width=\"198\" x=\"62\" y=\"210\"/><ellipse cx=\"105.35\" cy=\"226\" fill=\"#ADD1B2\" rx=\"11\" ry=\"11\" style=\"stroke: #A80036; stroke-width: 1.0;\"/><path d=\"M108.3231,231.6431 Q107.7421,231.9419 107.1029,232.0913 Q106.4638,232.2407 105.7582,232.2407 Q103.2514,232.2407 101.9315,230.5889 Q100.6117,228.937 100.6117,225.8159 Q100.6117,222.6865 101.9315,221.0347 Q103.2514,219.3828 105.7582,219.3828 Q106.4638,219.3828 107.1112,219.5322 Q107.7587,219.6816 108.3231,219.9805 L108.3231,222.7031 Q107.6923,222.1221 107.0988,221.8523 Q106.5053,221.5825 105.8744,221.5825 Q104.5297,221.5825 103.8449,222.6492 Q103.1601,223.7158 103.1601,225.8159 Q103.1601,227.9077 103.8449,228.9744 Q104.5297,230.041 105.8744,230.041 Q106.5053,230.041 107.0988,229.7712 Q107.6923,229.5015 108.3231,228.9204 Z \"/><text fill=\"#000000\" font-family=\"sans-serif\" font-size=\"12\" lengthAdjust=\"spacingAndGlyphs\" textLength=\"103\" x=\"125.65\" y=\"230.5352\">CompositeIterator</text><line style=\"stroke: #A80036; stroke-width: 1.5;\" x1=\"63\" x2=\"259\" y1=\"242\" y2=\"242\"/><text fill=\"#000000\" font-family=\"sans-serif\" font-size=\"11\" lengthAdjust=\"spacingAndGlyphs\" textLength=\"59\" x=\"68\" y=\"256.6348\">stack:Stack</text><line style=\"stroke: #A80036; stroke-width: 1.5;\" x1=\"63\" x2=\"259\" y1=\"262.9551\" y2=\"262.9551\"/><ellipse cx=\"73\" cy=\"274.9326\" fill=\"#84BE84\" rx=\"3\" ry=\"3\" style=\"stroke: #038048; stroke-width: 1.0;\"/><text fill=\"#000000\" font-family=\"sans-serif\" font-size=\"11\" lengthAdjust=\"spacingAndGlyphs\" textLength=\"172\" x=\"82\" y=\"277.5898\">CompositeIterator(Iterator):void</text><ellipse cx=\"73\" cy=\"287.8877\" fill=\"#84BE84\" rx=\"3\" ry=\"3\" style=\"stroke: #038048; stroke-width: 1.0;\"/><text fill=\"#000000\" font-family=\"sans-serif\" font-size=\"11\" lengthAdjust=\"spacingAndGlyphs\" textLength=\"70\" x=\"82\" y=\"290.5449\">next():Object</text><ellipse cx=\"73\" cy=\"300.8428\" fill=\"#84BE84\" rx=\"3\" ry=\"3\" style=\"stroke: #038048; stroke-width: 1.0;\"/><text fill=\"#000000\" font-family=\"sans-serif\" font-size=\"11\" lengthAdjust=\"spacingAndGlyphs\" textLength=\"98\" x=\"82\" y=\"303.5\">hasNext():boolean</text><ellipse cx=\"73\" cy=\"313.7979\" fill=\"#84BE84\" rx=\"3\" ry=\"3\" style=\"stroke: #038048; stroke-width: 1.0;\"/><text fill=\"#000000\" font-family=\"sans-serif\" font-size=\"11\" lengthAdjust=\"spacingAndGlyphs\" textLength=\"74\" x=\"82\" y=\"316.4551\">remove():void</text><rect fill=\"#FEFECE\" filter=\"url(#f1)\" height=\"48\" style=\"stroke: #A80036; stroke-width: 1.5;\" width=\"96\" x=\"295\" y=\"242.5\"/><ellipse cx=\"310\" cy=\"258.5\" fill=\"#ADD1B2\" rx=\"11\" ry=\"11\" style=\"stroke: #A80036; stroke-width: 1.0;\"/><path d=\"M312.9731,264.1431 Q312.3921,264.4419 311.7529,264.5913 Q311.1138,264.7407 310.4082,264.7407 Q307.9014,264.7407 306.5815,263.0889 Q305.2617,261.437 305.2617,258.3159 Q305.2617,255.1865 306.5815,253.5347 Q307.9014,251.8828 310.4082,251.8828 Q311.1138,251.8828 311.7612,252.0322 Q312.4087,252.1816 312.9731,252.4805 L312.9731,255.2031 Q312.3423,254.6221 311.7488,254.3523 Q311.1553,254.0825 310.5244,254.0825 Q309.1797,254.0825 308.4949,255.1492 Q307.8101,256.2158 307.8101,258.3159 Q307.8101,260.4077 308.4949,261.4744 Q309.1797,262.541 310.5244,262.541 Q311.1553,262.541 311.7488,262.2712 Q312.3423,262.0015 312.9731,261.4204 Z \"/><text fill=\"#000000\" font-family=\"sans-serif\" font-size=\"12\" lengthAdjust=\"spacingAndGlyphs\" textLength=\"64\" x=\"324\" y=\"263.0352\">NullIterator</text><line style=\"stroke: #A80036; stroke-width: 1.5;\" x1=\"296\" x2=\"390\" y1=\"274.5\" y2=\"274.5\"/><line style=\"stroke: #A80036; stroke-width: 1.5;\" x1=\"296\" x2=\"390\" y1=\"282.5\" y2=\"282.5\"/><rect fill=\"#FEFECE\" filter=\"url(#f1)\" height=\"99.8203\" style=\"stroke: #A80036; stroke-width: 1.5;\" width=\"197\" x=\"498.5\" y=\"216.5\"/><ellipse cx=\"544.25\" cy=\"232.5\" fill=\"#A9DCDF\" rx=\"11\" ry=\"11\" style=\"stroke: #A80036; stroke-width: 1.0;\"/><path d=\"M544.3633,227.8481 L543.2095,232.9199 L545.5254,232.9199 Z M542.8691,225.6069 L545.8657,225.6069 L549.2109,238 L546.7622,238 L545.9985,234.937 L542.7197,234.937 L541.9727,238 L539.5239,238 Z \"/><text fill=\"#000000\" font-family=\"sans-serif\" font-size=\"12\" font-style=\"italic\" lengthAdjust=\"spacingAndGlyphs\" textLength=\"97\" x=\"564.75\" y=\"237.0352\">MenuComponent</text><line style=\"stroke: #A80036; stroke-width: 1.5;\" x1=\"499.5\" x2=\"694.5\" y1=\"248.5\" y2=\"248.5\"/><line style=\"stroke: #A80036; stroke-width: 1.5;\" x1=\"499.5\" x2=\"694.5\" y1=\"256.5\" y2=\"256.5\"/><ellipse cx=\"509.5\" cy=\"268.4775\" fill=\"#84BE84\" rx=\"3\" ry=\"3\" style=\"stroke: #038048; stroke-width: 1.0;\"/><text fill=\"#000000\" font-family=\"sans-serif\" font-size=\"11\" lengthAdjust=\"spacingAndGlyphs\" textLength=\"146\" x=\"518.5\" y=\"271.1348\">add(MenuComponent):void</text><ellipse cx=\"509.5\" cy=\"281.4326\" fill=\"#84BE84\" rx=\"3\" ry=\"3\" style=\"stroke: #038048; stroke-width: 1.0;\"/><text fill=\"#000000\" font-family=\"sans-serif\" font-size=\"11\" lengthAdjust=\"spacingAndGlyphs\" textLength=\"166\" x=\"518.5\" y=\"284.0898\">remove(MenuComponent):void</text><ellipse cx=\"509.5\" cy=\"294.3877\" fill=\"#84BE84\" rx=\"3\" ry=\"3\" style=\"stroke: #038048; stroke-width: 1.0;\"/><text fill=\"#000000\" font-family=\"sans-serif\" font-size=\"11\" lengthAdjust=\"spacingAndGlyphs\" textLength=\"164\" x=\"518.5\" y=\"297.0449\">getChild(int):MenuCOmponent</text><ellipse cx=\"509.5\" cy=\"307.3428\" fill=\"#84BE84\" rx=\"3\" ry=\"3\" style=\"stroke: #038048; stroke-width: 1.0;\"/><text fill=\"#000000\" font-family=\"sans-serif\" font-size=\"11\" lengthAdjust=\"spacingAndGlyphs\" textLength=\"171\" x=\"518.5\" y=\"310\">abstract createIterator():Iterator</text><rect fill=\"#FEFECE\" filter=\"url(#f1)\" height=\"151.6406\" style=\"stroke: #A80036; stroke-width: 1.5;\" width=\"192\" x=\"487\" y=\"383\"/><ellipse cx=\"563.25\" cy=\"399\" fill=\"#ADD1B2\" rx=\"11\" ry=\"11\" style=\"stroke: #A80036; stroke-width: 1.0;\"/><path d=\"M566.2231,404.6431 Q565.6421,404.9419 565.0029,405.0913 Q564.3638,405.2407 563.6582,405.2407 Q561.1514,405.2407 559.8315,403.5889 Q558.5117,401.937 558.5117,398.8159 Q558.5117,395.6865 559.8315,394.0347 Q561.1514,392.3828 563.6582,392.3828 Q564.3638,392.3828 565.0112,392.5322 Q565.6587,392.6816 566.2231,392.9805 L566.2231,395.7031 Q565.5923,395.1221 564.9988,394.8523 Q564.4053,394.5825 563.7744,394.5825 Q562.4297,394.5825 561.7449,395.6492 Q561.0601,396.7158 561.0601,398.8159 Q561.0601,400.9077 561.7449,401.9744 Q562.4297,403.041 563.7744,403.041 Q564.4053,403.041 564.9988,402.7712 Q565.5923,402.5015 566.2231,401.9204 Z \"/><text fill=\"#000000\" font-family=\"sans-serif\" font-size=\"12\" lengthAdjust=\"spacingAndGlyphs\" textLength=\"31\" x=\"583.75\" y=\"403.5352\">Menu</text><line style=\"stroke: #A80036; stroke-width: 1.5;\" x1=\"488\" x2=\"678\" y1=\"415\" y2=\"415\"/><text fill=\"#000000\" font-family=\"sans-serif\" font-size=\"11\" lengthAdjust=\"spacingAndGlyphs\" textLength=\"145\" x=\"493\" y=\"429.6348\">menuComponent:ArrayList</text><text fill=\"#000000\" font-family=\"sans-serif\" font-size=\"11\" lengthAdjust=\"spacingAndGlyphs\" textLength=\"64\" x=\"493\" y=\"442.5898\">name:String</text><text fill=\"#000000\" font-family=\"sans-serif\" font-size=\"11\" lengthAdjust=\"spacingAndGlyphs\" textLength=\"96\" x=\"493\" y=\"455.5449\">description:String</text><line style=\"stroke: #A80036; stroke-width: 1.5;\" x1=\"488\" x2=\"678\" y1=\"461.8652\" y2=\"461.8652\"/><ellipse cx=\"498\" cy=\"473.8428\" fill=\"#84BE84\" rx=\"3\" ry=\"3\" style=\"stroke: #038048; stroke-width: 1.0;\"/><text fill=\"#000000\" font-family=\"sans-serif\" font-size=\"11\" lengthAdjust=\"spacingAndGlyphs\" textLength=\"104\" x=\"507\" y=\"476.5\">Menu(String,String)</text><ellipse cx=\"498\" cy=\"486.7979\" fill=\"#84BE84\" rx=\"3\" ry=\"3\" style=\"stroke: #038048; stroke-width: 1.0;\"/><text fill=\"#000000\" font-family=\"sans-serif\" font-size=\"11\" lengthAdjust=\"spacingAndGlyphs\" textLength=\"146\" x=\"507\" y=\"489.4551\">add(MenuComponent):void</text><ellipse cx=\"498\" cy=\"499.7529\" fill=\"#84BE84\" rx=\"3\" ry=\"3\" style=\"stroke: #038048; stroke-width: 1.0;\"/><text fill=\"#000000\" font-family=\"sans-serif\" font-size=\"11\" lengthAdjust=\"spacingAndGlyphs\" textLength=\"166\" x=\"507\" y=\"502.4102\">remove(MenuComponent):void</text><ellipse cx=\"498\" cy=\"512.708\" fill=\"#84BE84\" rx=\"3\" ry=\"3\" style=\"stroke: #038048; stroke-width: 1.0;\"/><text fill=\"#000000\" font-family=\"sans-serif\" font-size=\"11\" lengthAdjust=\"spacingAndGlyphs\" textLength=\"164\" x=\"507\" y=\"515.3652\">getChild(int):MenuCOmponent</text><ellipse cx=\"498\" cy=\"525.6631\" fill=\"#84BE84\" rx=\"3\" ry=\"3\" style=\"stroke: #038048; stroke-width: 1.0;\"/><text fill=\"#000000\" font-family=\"sans-serif\" font-size=\"11\" lengthAdjust=\"spacingAndGlyphs\" textLength=\"124\" x=\"507\" y=\"528.3203\">createIterator():Iterator</text><rect fill=\"#FEFECE\" filter=\"url(#f1)\" height=\"48\" style=\"stroke: #A80036; stroke-width: 1.5;\" width=\"88\" x=\"714\" y=\"435\"/><ellipse cx=\"729\" cy=\"451\" fill=\"#ADD1B2\" rx=\"11\" ry=\"11\" style=\"stroke: #A80036; stroke-width: 1.0;\"/><path d=\"M731.9731,456.6431 Q731.3921,456.9419 730.7529,457.0913 Q730.1138,457.2407 729.4082,457.2407 Q726.9014,457.2407 725.5815,455.5889 Q724.2617,453.937 724.2617,450.8159 Q724.2617,447.6865 725.5815,446.0347 Q726.9014,444.3828 729.4082,444.3828 Q730.1138,444.3828 730.7612,444.5322 Q731.4087,444.6816 731.9731,444.9805 L731.9731,447.7031 Q731.3423,447.1221 730.7488,446.8523 Q730.1553,446.5825 729.5244,446.5825 Q728.1797,446.5825 727.4949,447.6492 Q726.8101,448.7158 726.8101,450.8159 Q726.8101,452.9077 727.4949,453.9744 Q728.1797,455.041 729.5244,455.041 Q730.1553,455.041 730.7488,454.7712 Q731.3423,454.5015 731.9731,453.9204 Z \"/><text fill=\"#000000\" font-family=\"sans-serif\" font-size=\"12\" lengthAdjust=\"spacingAndGlyphs\" textLength=\"56\" x=\"743\" y=\"455.5352\">MenuItem</text><line style=\"stroke: #A80036; stroke-width: 1.5;\" x1=\"715\" x2=\"801\" y1=\"467\" y2=\"467\"/><line style=\"stroke: #A80036; stroke-width: 1.5;\" x1=\"715\" x2=\"801\" y1=\"475\" y2=\"475\"/><path d=\"M270.828,163.099 C250.517,181.262 234.505,196.023 219.813,209.733 \" fill=\"none\" style=\"stroke: #A80036; stroke-width: 1.0; stroke-dasharray: 7.0,7.0;\"/><polygon fill=\"none\" points=\"266.415,157.655,286.013,149.597,275.718,168.118,266.415,157.655\" style=\"stroke: #A80036; stroke-width: 1.0;\"/><path d=\"M334.175,169.688 C336.496,194.888 339.105,223.213 340.88,242.487 \" fill=\"none\" style=\"stroke: #A80036; stroke-width: 1.0; stroke-dasharray: 7.0,7.0;\"/><polygon fill=\"none\" points=\"327.182,170.08,332.318,149.522,341.123,168.796,327.182,170.08\" style=\"stroke: #A80036; stroke-width: 1.0;\"/><path d=\"M591.919,336.64 C590.815,351.654 589.643,367.606 588.524,382.84 \" fill=\"none\" style=\"stroke: #A80036; stroke-width: 1.0;\"/><polygon fill=\"none\" points=\"584.948,335.992,593.395,316.558,598.91,337.018,584.948,335.992\" style=\"stroke: #A80036; stroke-width: 1.0;\"/><path d=\"M653.276,331.791 C667.635,348.387 682.973,366.286 697,383 C711.458,400.227 727.493,419.969 739.494,434.872 \" fill=\"none\" style=\"stroke: #A80036; stroke-width: 1.0;\"/><polygon fill=\"none\" points=\"647.98,336.367,640.159,316.674,658.554,327.192,647.98,336.367\" style=\"stroke: #A80036; stroke-width: 1.0;\"/><path d=\"M396.295,122.811 C427.584,129.242 464.341,139.929 494,157.5 C519.301,172.489 542.413,195.417 560.305,216.297 \" fill=\"none\" style=\"stroke: #A80036; stroke-width: 1.0; stroke-dasharray: 7.0,7.0;\"/><polygon fill=\"#A80036\" points=\"391.323,121.815,399.3628,127.5037,396.2257,122.7964,400.9331,119.6593,391.323,121.815\" style=\"stroke: #A80036; stroke-width: 1.0;\"/><path d=\"M223.648,326.466 C240.118,339.829 258.483,353.006 277,363 C343.085,398.666 424.567,423.134 486.829,438.296 \" fill=\"none\" style=\"stroke: #A80036; stroke-width: 1.0; stroke-dasharray: 7.0,7.0;\"/><polygon fill=\"#A80036\" points=\"219.503,323.067,223.9275,331.8661,223.3699,326.2368,228.9992,325.6791,219.503,323.067\" style=\"stroke: #A80036; stroke-width: 1.0;\"/><path d=\"M363.799,294.796 C382.76,317.404 412.945,348.145 447,363 C549.169,407.567 598.332,331.142 697,383 C718.691,394.4 735.481,417.191 745.906,434.673 \" fill=\"none\" style=\"stroke: #A80036; stroke-width: 1.0; stroke-dasharray: 7.0,7.0;\"/><polygon fill=\"#A80036\" points=\"360.391,290.674,363.0454,300.1584,363.578,294.5267,369.2097,295.0592,360.391,290.674\" style=\"stroke: #A80036; stroke-width: 1.0;\"/></g></svg>"
      ],
      "text/plain": [
       "<IPython.core.display.SVG object>"
      ]
     },
     "execution_count": 55,
     "metadata": {},
     "output_type": "execute_result"
    }
   ],
   "source": [
    "%%plantuml\n",
    "@startuml\n",
    "package Iterator {\n",
    "    interface Iterator {\n",
    "        +hasNext():boolean\n",
    "        +next():Object\n",
    "    }\n",
    "    class CompositeIterator {\n",
    "        stack:Stack\n",
    "        +CompositeIterator(Iterator):void\n",
    "        +next():Object\n",
    "        +hasNext():boolean\n",
    "        +remove():void\n",
    "    }\n",
    "    Iterator <|.. CompositeIterator\n",
    "    Iterator <|.. NullIterator\n",
    "}\n",
    "package Menu {\n",
    "    abstract class MenuComponent {\n",
    "        +add(MenuComponent):void\n",
    "        +remove(MenuComponent):void\n",
    "        +getChild(int):MenuCOmponent\n",
    "        +abstract createIterator():Iterator\n",
    "    }\n",
    "    class Menu {\n",
    "        menuComponent:ArrayList\n",
    "        name:String\n",
    "        description:String\n",
    "        +Menu(String,String)\n",
    "        +add(MenuComponent):void\n",
    "        +remove(MenuComponent):void\n",
    "        +getChild(int):MenuCOmponent\n",
    "        +createIterator():Iterator\n",
    "    }\n",
    "    MenuComponent <|-- Menu\n",
    "    MenuComponent <|-- MenuItem\n",
    "}\n",
    "Iterator <.. MenuComponent\n",
    "CompositeIterator <.. Menu\n",
    "NullIterator <.. MenuItem\n",
    "@enduml"
   ]
  },
  {
   "cell_type": "markdown",
   "metadata": {
    "slideshow": {
     "slide_type": "slide"
    }
   },
   "source": [
    "# 6. Case Implementation\n",
    "\n",
    "\n",
    "* Menu\n",
    "* Menu Composite\n"
   ]
  },
  {
   "cell_type": "markdown",
   "metadata": {
    "slideshow": {
     "slide_type": "slide"
    }
   },
   "source": [
    "## 6.1. Menu\n",
    "\n",
    "* PancakeHouseMenu는 ArrayList\n",
    "* DinerMenu는 MenuItem[]\n"
   ]
  },
  {
   "cell_type": "code",
   "execution_count": 11,
   "metadata": {
    "collapsed": false,
    "slideshow": {
     "slide_type": "slide"
    }
   },
   "outputs": [
    {
     "data": {
      "image/svg+xml": [
       "<svg height=\"475px\" style=\"width:1099px;height:475px;\" version=\"1.1\" viewBox=\"0 0 1099 475\" width=\"1099px\" xmlns=\"http://www.w3.org/2000/svg\" xmlns:xlink=\"http://www.w3.org/1999/xlink\"><defs><filter height=\"300%\" id=\"f1\" width=\"300%\" x=\"-1\" y=\"-1\"><feGaussianBlur result=\"blurOut\" stdDeviation=\"2.0\"/><feColorMatrix in=\"blurOut\" result=\"blurOut2\" type=\"matrix\" values=\"0 0 0 0 0 0 0 0 0 0 0 0 0 0 0 0 0 0 .4 0\"/><feOffset dx=\"4.0\" dy=\"4.0\" in=\"blurOut2\" result=\"blurOut3\"/><feBlend in=\"SourceGraphic\" in2=\"blurOut3\" mode=\"normal\"/></filter></defs><g><rect fill=\"#FEFECE\" filter=\"url(#f1)\" height=\"73.9102\" style=\"stroke: #A80036; stroke-width: 1.5;\" width=\"110\" x=\"311.5\" y=\"8\"/><ellipse cx=\"342.7\" cy=\"24\" fill=\"#B4A7E5\" rx=\"11\" ry=\"11\" style=\"stroke: #A80036; stroke-width: 1.0;\"/><path d=\"M338.6277,19.7651 L338.6277,17.6069 L346.0071,17.6069 L346.0071,19.7651 L343.5418,19.7651 L343.5418,27.8418 L346.0071,27.8418 L346.0071,30 L338.6277,30 L338.6277,27.8418 L341.0931,27.8418 L341.0931,19.7651 Z \"/><text fill=\"#000000\" font-family=\"sans-serif\" font-size=\"12\" font-style=\"italic\" lengthAdjust=\"spacingAndGlyphs\" textLength=\"42\" x=\"360.3\" y=\"28.5352\">Iterator</text><line style=\"stroke: #A80036; stroke-width: 1.5;\" x1=\"312.5\" x2=\"420.5\" y1=\"40\" y2=\"40\"/><line style=\"stroke: #A80036; stroke-width: 1.5;\" x1=\"312.5\" x2=\"420.5\" y1=\"48\" y2=\"48\"/><text fill=\"#000000\" font-family=\"sans-serif\" font-size=\"11\" lengthAdjust=\"spacingAndGlyphs\" textLength=\"98\" x=\"317.5\" y=\"62.6348\">hasNext():boolean</text><text fill=\"#000000\" font-family=\"sans-serif\" font-size=\"11\" lengthAdjust=\"spacingAndGlyphs\" textLength=\"70\" x=\"317.5\" y=\"75.5898\">next():Object</text><rect fill=\"#FEFECE\" filter=\"url(#f1)\" height=\"60.9551\" style=\"stroke: #A80036; stroke-width: 1.5;\" width=\"142\" x=\"554.5\" y=\"14.5\"/><ellipse cx=\"605.75\" cy=\"30.5\" fill=\"#B4A7E5\" rx=\"11\" ry=\"11\" style=\"stroke: #A80036; stroke-width: 1.0;\"/><path d=\"M601.6777,26.2651 L601.6777,24.1069 L609.0571,24.1069 L609.0571,26.2651 L606.5918,26.2651 L606.5918,34.3418 L609.0571,34.3418 L609.0571,36.5 L601.6777,36.5 L601.6777,34.3418 L604.1431,34.3418 L604.1431,26.2651 Z \"/><text fill=\"#000000\" font-family=\"sans-serif\" font-size=\"12\" font-style=\"italic\" lengthAdjust=\"spacingAndGlyphs\" textLength=\"31\" x=\"626.25\" y=\"35.0352\">Menu</text><line style=\"stroke: #A80036; stroke-width: 1.5;\" x1=\"555.5\" x2=\"695.5\" y1=\"46.5\" y2=\"46.5\"/><ellipse cx=\"565.5\" cy=\"58.4775\" fill=\"none\" rx=\"3\" ry=\"3\" style=\"stroke: #038048; stroke-width: 1.0;\"/><text fill=\"#000000\" font-family=\"sans-serif\" font-size=\"11\" lengthAdjust=\"spacingAndGlyphs\" textLength=\"116\" x=\"574.5\" y=\"61.1348\">createIterator:Iterator</text><line style=\"stroke: #A80036; stroke-width: 1.5;\" x1=\"555.5\" x2=\"695.5\" y1=\"67.4551\" y2=\"67.4551\"/><rect fill=\"#FEFECE\" filter=\"url(#f1)\" height=\"112.7754\" style=\"stroke: #A80036; stroke-width: 1.5;\" width=\"229\" x=\"6\" y=\"155\"/><ellipse cx=\"39\" cy=\"171\" fill=\"#ADD1B2\" rx=\"11\" ry=\"11\" style=\"stroke: #A80036; stroke-width: 1.0;\"/><path d=\"M41.9731,176.6431 Q41.3921,176.9419 40.7529,177.0913 Q40.1138,177.2407 39.4082,177.2407 Q36.9014,177.2407 35.5815,175.5889 Q34.2617,173.937 34.2617,170.8159 Q34.2617,167.6865 35.5815,166.0347 Q36.9014,164.3828 39.4082,164.3828 Q40.1138,164.3828 40.7612,164.5322 Q41.4087,164.6816 41.9731,164.9805 L41.9731,167.7031 Q41.3423,167.1221 40.7488,166.8523 Q40.1553,166.5825 39.5244,166.5825 Q38.1797,166.5825 37.4949,167.6492 Q36.8101,168.7158 36.8101,170.8159 Q36.8101,172.9077 37.4949,173.9744 Q38.1797,175.041 39.5244,175.041 Q40.1553,175.041 40.7488,174.7712 Q41.3423,174.5015 41.9731,173.9204 Z \"/><text fill=\"#000000\" font-family=\"sans-serif\" font-size=\"12\" lengthAdjust=\"spacingAndGlyphs\" textLength=\"157\" x=\"57\" y=\"175.5352\">PancakeHouseMenuIterator</text><line style=\"stroke: #A80036; stroke-width: 1.5;\" x1=\"7\" x2=\"234\" y1=\"187\" y2=\"187\"/><rect fill=\"none\" height=\"6\" style=\"stroke: #C82930; stroke-width: 1.0;\" width=\"6\" x=\"14\" y=\"195.9775\"/><text fill=\"#000000\" font-family=\"sans-serif\" font-size=\"11\" lengthAdjust=\"spacingAndGlyphs\" textLength=\"81\" x=\"26\" y=\"201.6348\">items:ArrayList</text><rect fill=\"none\" height=\"6\" style=\"stroke: #C82930; stroke-width: 1.0;\" width=\"6\" x=\"14\" y=\"208.9326\"/><text fill=\"#000000\" font-family=\"sans-serif\" font-size=\"11\" lengthAdjust=\"spacingAndGlyphs\" textLength=\"61\" x=\"26\" y=\"214.5898\">position:int</text><line style=\"stroke: #A80036; stroke-width: 1.5;\" x1=\"7\" x2=\"234\" y1=\"220.9102\" y2=\"220.9102\"/><ellipse cx=\"17\" cy=\"232.8877\" fill=\"#84BE84\" rx=\"3\" ry=\"3\" style=\"stroke: #038048; stroke-width: 1.0;\"/><text fill=\"#000000\" font-family=\"sans-serif\" font-size=\"11\" lengthAdjust=\"spacingAndGlyphs\" textLength=\"203\" x=\"26\" y=\"235.5449\">PancakeHouseMenuIterator(ArrayList)</text><ellipse cx=\"17\" cy=\"245.8428\" fill=\"#84BE84\" rx=\"3\" ry=\"3\" style=\"stroke: #038048; stroke-width: 1.0;\"/><text fill=\"#000000\" font-family=\"sans-serif\" font-size=\"11\" lengthAdjust=\"spacingAndGlyphs\" textLength=\"70\" x=\"26\" y=\"248.5\">next():Object</text><ellipse cx=\"17\" cy=\"258.7979\" fill=\"#84BE84\" rx=\"3\" ry=\"3\" style=\"stroke: #038048; stroke-width: 1.0;\"/><text fill=\"#000000\" font-family=\"sans-serif\" font-size=\"11\" lengthAdjust=\"spacingAndGlyphs\" textLength=\"98\" x=\"26\" y=\"261.4551\">hasNext():boolean</text><rect fill=\"#FEFECE\" filter=\"url(#f1)\" height=\"125.7305\" style=\"stroke: #A80036; stroke-width: 1.5;\" width=\"256\" x=\"497.5\" y=\"148.5\"/><ellipse cx=\"563.75\" cy=\"164.5\" fill=\"#ADD1B2\" rx=\"11\" ry=\"11\" style=\"stroke: #A80036; stroke-width: 1.0;\"/><path d=\"M566.7231,170.1431 Q566.1421,170.4419 565.5029,170.5913 Q564.8638,170.7407 564.1582,170.7407 Q561.6514,170.7407 560.3315,169.0889 Q559.0117,167.437 559.0117,164.3159 Q559.0117,161.1865 560.3315,159.5347 Q561.6514,157.8828 564.1582,157.8828 Q564.8638,157.8828 565.5112,158.0322 Q566.1587,158.1816 566.7231,158.4805 L566.7231,161.2031 Q566.0923,160.6221 565.4988,160.3523 Q564.9053,160.0825 564.2744,160.0825 Q562.9297,160.0825 562.2449,161.1492 Q561.5601,162.2158 561.5601,164.3159 Q561.5601,166.4077 562.2449,167.4744 Q562.9297,168.541 564.2744,168.541 Q564.9053,168.541 565.4988,168.2712 Q566.0923,168.0015 566.7231,167.4204 Z \"/><text fill=\"#000000\" font-family=\"sans-serif\" font-size=\"12\" lengthAdjust=\"spacingAndGlyphs\" textLength=\"115\" x=\"584.25\" y=\"169.0352\">PancakeHouseMenu</text><line style=\"stroke: #A80036; stroke-width: 1.5;\" x1=\"498.5\" x2=\"752.5\" y1=\"180.5\" y2=\"180.5\"/><rect fill=\"none\" height=\"6\" style=\"stroke: #C82930; stroke-width: 1.0;\" width=\"6\" x=\"505.5\" y=\"189.4775\"/><text fill=\"#000000\" font-family=\"sans-serif\" font-size=\"11\" lengthAdjust=\"spacingAndGlyphs\" textLength=\"111\" x=\"517.5\" y=\"195.1348\">menuItems:ArrayList</text><line style=\"stroke: #A80036; stroke-width: 1.5;\" x1=\"498.5\" x2=\"752.5\" y1=\"201.4551\" y2=\"201.4551\"/><ellipse cx=\"508.5\" cy=\"213.4326\" fill=\"#84BE84\" rx=\"3\" ry=\"3\" style=\"stroke: #038048; stroke-width: 1.0;\"/><text fill=\"#000000\" font-family=\"sans-serif\" font-size=\"11\" lengthAdjust=\"spacingAndGlyphs\" textLength=\"140\" x=\"517.5\" y=\"216.0898\">PancakeHouseMenu():void</text><ellipse cx=\"508.5\" cy=\"226.3877\" fill=\"#84BE84\" rx=\"3\" ry=\"3\" style=\"stroke: #038048; stroke-width: 1.0;\"/><text fill=\"#000000\" font-family=\"sans-serif\" font-size=\"11\" lengthAdjust=\"spacingAndGlyphs\" textLength=\"230\" x=\"517.5\" y=\"229.0449\">addItem(String,String,boolean,double):void</text><ellipse cx=\"508.5\" cy=\"239.3428\" fill=\"#84BE84\" rx=\"3\" ry=\"3\" style=\"stroke: #038048; stroke-width: 1.0;\"/><text fill=\"#000000\" font-family=\"sans-serif\" font-size=\"11\" lengthAdjust=\"spacingAndGlyphs\" textLength=\"135\" x=\"517.5\" y=\"242\">getMenuItems():ArrayList</text><ellipse cx=\"508.5\" cy=\"252.2979\" fill=\"#84BE84\" rx=\"3\" ry=\"3\" style=\"stroke: #038048; stroke-width: 1.0;\"/><text fill=\"#000000\" font-family=\"sans-serif\" font-size=\"11\" lengthAdjust=\"spacingAndGlyphs\" textLength=\"124\" x=\"517.5\" y=\"254.9551\">createIterator():Iterator</text><ellipse cx=\"508.5\" cy=\"265.2529\" fill=\"#84BE84\" rx=\"3\" ry=\"3\" style=\"stroke: #038048; stroke-width: 1.0;\"/><text fill=\"#000000\" font-family=\"sans-serif\" font-size=\"11\" lengthAdjust=\"spacingAndGlyphs\" textLength=\"86\" x=\"517.5\" y=\"267.9102\">toString():String</text><rect fill=\"#FEFECE\" filter=\"url(#f1)\" height=\"125.7305\" style=\"stroke: #A80036; stroke-width: 1.5;\" width=\"239\" x=\"533\" y=\"341\"/><ellipse cx=\"620.25\" cy=\"357\" fill=\"#ADD1B2\" rx=\"11\" ry=\"11\" style=\"stroke: #A80036; stroke-width: 1.0;\"/><path d=\"M623.2231,362.6431 Q622.6421,362.9419 622.0029,363.0913 Q621.3638,363.2407 620.6582,363.2407 Q618.1514,363.2407 616.8315,361.5889 Q615.5117,359.937 615.5117,356.8159 Q615.5117,353.6865 616.8315,352.0347 Q618.1514,350.3828 620.6582,350.3828 Q621.3638,350.3828 622.0112,350.5322 Q622.6587,350.6816 623.2231,350.9805 L623.2231,353.7031 Q622.5923,353.1221 621.9988,352.8523 Q621.4053,352.5825 620.7744,352.5825 Q619.4297,352.5825 618.7449,353.6492 Q618.0601,354.7158 618.0601,356.8159 Q618.0601,358.9077 618.7449,359.9744 Q619.4297,361.041 620.7744,361.041 Q621.4053,361.041 621.9988,360.7712 Q622.5923,360.5015 623.2231,359.9204 Z \"/><text fill=\"#000000\" font-family=\"sans-serif\" font-size=\"12\" lengthAdjust=\"spacingAndGlyphs\" textLength=\"56\" x=\"640.75\" y=\"361.5352\">MenuItem</text><line style=\"stroke: #A80036; stroke-width: 1.5;\" x1=\"534\" x2=\"771\" y1=\"373\" y2=\"373\"/><line style=\"stroke: #A80036; stroke-width: 1.5;\" x1=\"534\" x2=\"771\" y1=\"381\" y2=\"381\"/><ellipse cx=\"544\" cy=\"392.9775\" fill=\"#84BE84\" rx=\"3\" ry=\"3\" style=\"stroke: #038048; stroke-width: 1.0;\"/><text fill=\"#000000\" font-family=\"sans-serif\" font-size=\"11\" lengthAdjust=\"spacingAndGlyphs\" textLength=\"213\" x=\"553\" y=\"395.6348\">MenuItem(String,String,boolean,double)</text><ellipse cx=\"544\" cy=\"405.9326\" fill=\"#84BE84\" rx=\"3\" ry=\"3\" style=\"stroke: #038048; stroke-width: 1.0;\"/><text fill=\"#000000\" font-family=\"sans-serif\" font-size=\"11\" lengthAdjust=\"spacingAndGlyphs\" textLength=\"90\" x=\"553\" y=\"408.5898\">getName():String</text><ellipse cx=\"544\" cy=\"418.8877\" fill=\"#84BE84\" rx=\"3\" ry=\"3\" style=\"stroke: #038048; stroke-width: 1.0;\"/><text fill=\"#000000\" font-family=\"sans-serif\" font-size=\"11\" lengthAdjust=\"spacingAndGlyphs\" textLength=\"122\" x=\"553\" y=\"421.5449\">getDescription():String</text><ellipse cx=\"544\" cy=\"431.8428\" fill=\"#84BE84\" rx=\"3\" ry=\"3\" style=\"stroke: #038048; stroke-width: 1.0;\"/><text fill=\"#000000\" font-family=\"sans-serif\" font-size=\"11\" lengthAdjust=\"spacingAndGlyphs\" textLength=\"84\" x=\"553\" y=\"434.5\">getPrice():duble</text><ellipse cx=\"544\" cy=\"444.7979\" fill=\"#84BE84\" rx=\"3\" ry=\"3\" style=\"stroke: #038048; stroke-width: 1.0;\"/><text fill=\"#000000\" font-family=\"sans-serif\" font-size=\"11\" lengthAdjust=\"spacingAndGlyphs\" textLength=\"120\" x=\"553\" y=\"447.4551\">isVegetarian():boolean</text><ellipse cx=\"544\" cy=\"457.7529\" fill=\"#84BE84\" rx=\"3\" ry=\"3\" style=\"stroke: #038048; stroke-width: 1.0;\"/><text fill=\"#000000\" font-family=\"sans-serif\" font-size=\"11\" lengthAdjust=\"spacingAndGlyphs\" textLength=\"86\" x=\"553\" y=\"460.4102\">toString():String</text><rect fill=\"#FEFECE\" filter=\"url(#f1)\" height=\"112.7754\" style=\"stroke: #A80036; stroke-width: 1.5;\" width=\"192\" x=\"270.5\" y=\"155\"/><ellipse cx=\"310.7\" cy=\"171\" fill=\"#ADD1B2\" rx=\"11\" ry=\"11\" style=\"stroke: #A80036; stroke-width: 1.0;\"/><path d=\"M313.6731,176.6431 Q313.0921,176.9419 312.4529,177.0913 Q311.8138,177.2407 311.1082,177.2407 Q308.6014,177.2407 307.2815,175.5889 Q305.9617,173.937 305.9617,170.8159 Q305.9617,167.6865 307.2815,166.0347 Q308.6014,164.3828 311.1082,164.3828 Q311.8138,164.3828 312.4612,164.5322 Q313.1087,164.6816 313.6731,164.9805 L313.6731,167.7031 Q313.0423,167.1221 312.4488,166.8523 Q311.8553,166.5825 311.2244,166.5825 Q309.8797,166.5825 309.1949,167.6492 Q308.5101,168.7158 308.5101,170.8159 Q308.5101,172.9077 309.1949,173.9744 Q309.8797,175.041 311.2244,175.041 Q311.8553,175.041 312.4488,174.7712 Q313.0423,174.5015 313.6731,173.9204 Z \"/><text fill=\"#000000\" font-family=\"sans-serif\" font-size=\"12\" lengthAdjust=\"spacingAndGlyphs\" textLength=\"104\" x=\"330.3\" y=\"175.5352\">DinerMenuIterator</text><line style=\"stroke: #A80036; stroke-width: 1.5;\" x1=\"271.5\" x2=\"461.5\" y1=\"187\" y2=\"187\"/><rect fill=\"none\" height=\"6\" style=\"stroke: #C82930; stroke-width: 1.0;\" width=\"6\" x=\"278.5\" y=\"195.9775\"/><text fill=\"#000000\" font-family=\"sans-serif\" font-size=\"11\" lengthAdjust=\"spacingAndGlyphs\" textLength=\"92\" x=\"290.5\" y=\"201.6348\">items:MenuItem[]</text><rect fill=\"none\" height=\"6\" style=\"stroke: #C82930; stroke-width: 1.0;\" width=\"6\" x=\"278.5\" y=\"208.9326\"/><text fill=\"#000000\" font-family=\"sans-serif\" font-size=\"11\" lengthAdjust=\"spacingAndGlyphs\" textLength=\"61\" x=\"290.5\" y=\"214.5898\">position:int</text><line style=\"stroke: #A80036; stroke-width: 1.5;\" x1=\"271.5\" x2=\"461.5\" y1=\"220.9102\" y2=\"220.9102\"/><ellipse cx=\"281.5\" cy=\"232.8877\" fill=\"#84BE84\" rx=\"3\" ry=\"3\" style=\"stroke: #038048; stroke-width: 1.0;\"/><text fill=\"#000000\" font-family=\"sans-serif\" font-size=\"11\" lengthAdjust=\"spacingAndGlyphs\" textLength=\"166\" x=\"290.5\" y=\"235.5449\">DinerMenuIterator(MenuItem[])</text><ellipse cx=\"281.5\" cy=\"245.8428\" fill=\"#84BE84\" rx=\"3\" ry=\"3\" style=\"stroke: #038048; stroke-width: 1.0;\"/><text fill=\"#000000\" font-family=\"sans-serif\" font-size=\"11\" lengthAdjust=\"spacingAndGlyphs\" textLength=\"70\" x=\"290.5\" y=\"248.5\">next():Object</text><ellipse cx=\"281.5\" cy=\"258.7979\" fill=\"#84BE84\" rx=\"3\" ry=\"3\" style=\"stroke: #038048; stroke-width: 1.0;\"/><text fill=\"#000000\" font-family=\"sans-serif\" font-size=\"11\" lengthAdjust=\"spacingAndGlyphs\" textLength=\"98\" x=\"290.5\" y=\"261.4551\">hasNext():boolean</text><rect fill=\"#FEFECE\" filter=\"url(#f1)\" height=\"138.6855\" style=\"stroke: #A80036; stroke-width: 1.5;\" width=\"302\" x=\"788.5\" y=\"142\"/><ellipse cx=\"904.25\" cy=\"158\" fill=\"#ADD1B2\" rx=\"11\" ry=\"11\" style=\"stroke: #A80036; stroke-width: 1.0;\"/><path d=\"M907.2231,163.6431 Q906.6421,163.9419 906.0029,164.0913 Q905.3638,164.2407 904.6582,164.2407 Q902.1514,164.2407 900.8315,162.5889 Q899.5117,160.937 899.5117,157.8159 Q899.5117,154.6865 900.8315,153.0347 Q902.1514,151.3828 904.6582,151.3828 Q905.3638,151.3828 906.0112,151.5322 Q906.6587,151.6816 907.2231,151.9805 L907.2231,154.7031 Q906.5923,154.1221 905.9988,153.8523 Q905.4053,153.5825 904.7744,153.5825 Q903.4297,153.5825 902.7449,154.6492 Q902.0601,155.7158 902.0601,157.8159 Q902.0601,159.9077 902.7449,160.9744 Q903.4297,162.041 904.7744,162.041 Q905.4053,162.041 905.9988,161.7712 Q906.5923,161.5015 907.2231,160.9204 Z \"/><text fill=\"#000000\" font-family=\"sans-serif\" font-size=\"12\" lengthAdjust=\"spacingAndGlyphs\" textLength=\"62\" x=\"924.75\" y=\"162.5352\">DinerMenu</text><line style=\"stroke: #A80036; stroke-width: 1.5;\" x1=\"789.5\" x2=\"1089.5\" y1=\"174\" y2=\"174\"/><rect fill=\"none\" height=\"6\" style=\"stroke: #C82930; stroke-width: 1.0;\" width=\"6\" x=\"796.5\" y=\"182.9775\"/><text fill=\"#000000\" font-family=\"sans-serif\" font-size=\"11\" lengthAdjust=\"spacingAndGlyphs\" textLength=\"152\" x=\"808.5\" y=\"188.6348\">static final MAX_ITEMS=6:int</text><rect fill=\"none\" height=\"6\" style=\"stroke: #C82930; stroke-width: 1.0;\" width=\"6\" x=\"796.5\" y=\"195.9326\"/><text fill=\"#000000\" font-family=\"sans-serif\" font-size=\"11\" lengthAdjust=\"spacingAndGlyphs\" textLength=\"101\" x=\"808.5\" y=\"201.5898\">numberOfItems:int</text><rect fill=\"none\" height=\"6\" style=\"stroke: #C82930; stroke-width: 1.0;\" width=\"6\" x=\"796.5\" y=\"208.8877\"/><text fill=\"#000000\" font-family=\"sans-serif\" font-size=\"11\" lengthAdjust=\"spacingAndGlyphs\" textLength=\"122\" x=\"808.5\" y=\"214.5449\">menuItems:MenuItem[]</text><line style=\"stroke: #A80036; stroke-width: 1.5;\" x1=\"789.5\" x2=\"1089.5\" y1=\"220.8652\" y2=\"220.8652\"/><ellipse cx=\"799.5\" cy=\"232.8428\" fill=\"#84BE84\" rx=\"3\" ry=\"3\" style=\"stroke: #038048; stroke-width: 1.0;\"/><text fill=\"#000000\" font-family=\"sans-serif\" font-size=\"11\" lengthAdjust=\"spacingAndGlyphs\" textLength=\"92\" x=\"808.5\" y=\"235.5\">DinerMenu():void</text><ellipse cx=\"799.5\" cy=\"245.7979\" fill=\"#84BE84\" rx=\"3\" ry=\"3\" style=\"stroke: #038048; stroke-width: 1.0;\"/><text fill=\"#000000\" font-family=\"sans-serif\" font-size=\"11\" lengthAdjust=\"spacingAndGlyphs\" textLength=\"276\" x=\"808.5\" y=\"248.4551\">addItem(String,String,boolean,boolean,double):void</text><ellipse cx=\"799.5\" cy=\"258.7529\" fill=\"#84BE84\" rx=\"3\" ry=\"3\" style=\"stroke: #038048; stroke-width: 1.0;\"/><text fill=\"#000000\" font-family=\"sans-serif\" font-size=\"11\" lengthAdjust=\"spacingAndGlyphs\" textLength=\"146\" x=\"808.5\" y=\"261.4102\">getMenuItems():MenuItem[]</text><ellipse cx=\"799.5\" cy=\"271.708\" fill=\"#84BE84\" rx=\"3\" ry=\"3\" style=\"stroke: #038048; stroke-width: 1.0;\"/><text fill=\"#000000\" font-family=\"sans-serif\" font-size=\"11\" lengthAdjust=\"spacingAndGlyphs\" textLength=\"124\" x=\"808.5\" y=\"274.3652\">createIterator():Iterator</text><path d=\"M426.818,45 C469.288,45 511.758,45 554.228,45 \" fill=\"none\" style=\"stroke: #A80036; stroke-width: 1.0; stroke-dasharray: 7.0,7.0;\"/><polygon fill=\"#A80036\" points=\"421.639,45,430.639,49,426.639,45,430.639,41,421.639,45\" style=\"stroke: #A80036; stroke-width: 1.0;\"/><path d=\"M625.5,95.976 C625.5,112.441 625.5,130.957 625.5,148.223 \" fill=\"none\" style=\"stroke: #A80036; stroke-width: 1.0; stroke-dasharray: 7.0,7.0;\"/><polygon fill=\"none\" points=\"618.5,95.79,625.5,75.79,632.5,95.79,618.5,95.79\" style=\"stroke: #A80036; stroke-width: 1.0;\"/><path d=\"M295.774,93.294 C267.082,112.481 233.728,134.785 203.863,154.755 \" fill=\"none\" style=\"stroke: #A80036; stroke-width: 1.0; stroke-dasharray: 7.0,7.0;\"/><polygon fill=\"none\" points=\"291.998,87.399,312.514,82.1,299.78,99.037,291.998,87.399\" style=\"stroke: #A80036; stroke-width: 1.0;\"/><path d=\"M699.807,84.929 C732.3,101.951 771.406,122.438 808.517,141.88 \" fill=\"none\" style=\"stroke: #A80036; stroke-width: 1.0; stroke-dasharray: 7.0,7.0;\"/><polygon fill=\"none\" points=\"696.467,91.081,682,75.599,702.964,78.68,696.467,91.081\" style=\"stroke: #A80036; stroke-width: 1.0;\"/><path d=\"M366.5,102.134 C366.5,119.13 366.5,137.785 366.5,154.755 \" fill=\"none\" style=\"stroke: #A80036; stroke-width: 1.0; stroke-dasharray: 7.0,7.0;\"/><polygon fill=\"none\" points=\"359.5,102.1,366.5,82.1,373.5,102.1,359.5,102.1\" style=\"stroke: #A80036; stroke-width: 1.0;\"/><path d=\"M836.292,281.006 C808.377,299.535 778.248,319.533 750.62,337.871 \" fill=\"none\" style=\"stroke: #A80036; stroke-width: 1.0;\"/><polygon fill=\"#A80036\" points=\"746.208,340.8,755.9184,339.1544,750.3735,338.0344,751.4935,332.4895,746.208,340.8\" style=\"stroke: #A80036; stroke-width: 1.0;\"/><path d=\"M449.992,268.113 C482.813,289.974 520.724,315.226 554.806,337.927 \" fill=\"none\" style=\"stroke: #A80036; stroke-width: 1.0;\"/><polygon fill=\"#A80036\" points=\"559.372,340.969,554.0984,332.651,555.2104,338.1975,549.664,339.3095,559.372,340.969\" style=\"stroke: #A80036; stroke-width: 1.0;\"/></g></svg>"
      ],
      "text/plain": [
       "<IPython.core.display.SVG object>"
      ]
     },
     "execution_count": 11,
     "metadata": {},
     "output_type": "execute_result"
    }
   ],
   "source": [
    "%%plantuml\n",
    "@startuml\n",
    "interface Iterator {\n",
    "    hasNext():boolean\n",
    "    next():Object\n",
    "}\n",
    "interface Menu {\n",
    "    +createIterator:Iterator\n",
    "}\n",
    "class PancakeHouseMenuIterator {\n",
    "    -items:ArrayList\n",
    "    -position:int\n",
    "    +PancakeHouseMenuIterator(ArrayList)\n",
    "    +next():Object\n",
    "    +hasNext():boolean\n",
    "}\n",
    "class PancakeHouseMenu {\n",
    "    -menuItems:ArrayList\n",
    "    +PancakeHouseMenu():void\n",
    "    +addItem(String,String,boolean,double):void\n",
    "    +getMenuItems():ArrayList\n",
    "    +createIterator():Iterator\n",
    "    +toString():String\n",
    "}\n",
    "class MenuItem {\n",
    "    +MenuItem(String,String,boolean,double)\n",
    "    +getName():String\n",
    "    +getDescription():String\n",
    "    +getPrice():duble\n",
    "    +isVegetarian():boolean\n",
    "    +toString():String\n",
    "}\n",
    "class DinerMenuIterator {\n",
    "    -items:MenuItem[]\n",
    "    -position:int\n",
    "    +DinerMenuIterator(MenuItem[])\n",
    "    +next():Object\n",
    "    +hasNext():boolean\n",
    "}\n",
    "class DinerMenu {\n",
    "    -static final MAX_ITEMS=6:int\n",
    "    -numberOfItems:int\n",
    "    -menuItems:MenuItem[]\n",
    "    +DinerMenu():void\n",
    "    +addItem(String,String,boolean,boolean,double):void\n",
    "    +getMenuItems():MenuItem[]\n",
    "    +createIterator():Iterator\n",
    "    '+toString():String\n",
    "}\n",
    "Menu .left.> Iterator\n",
    "Menu <|.. PancakeHouseMenu\n",
    "Iterator <|.. PancakeHouseMenuIterator\n",
    "Menu <|.. DinerMenu\n",
    "Iterator <|.. DinerMenuIterator\n",
    "DinerMenu --> MenuItem\n",
    "DinerMenuIterator --> MenuItem\n",
    "@enduml"
   ]
  },
  {
   "cell_type": "code",
   "execution_count": null,
   "metadata": {
    "collapsed": false,
    "slideshow": {
     "slide_type": "slide"
    }
   },
   "outputs": [],
   "source": [
    "# %load ./src/headfirst/iterator/dinermerger/after/Iterator.java\n",
    "package headfirst.iterator.dinermerger.after;\n",
    "\n",
    "public interface Iterator {\n",
    "    boolean hasNext();\n",
    "    Object next();\n",
    "}\n"
   ]
  },
  {
   "cell_type": "code",
   "execution_count": null,
   "metadata": {
    "collapsed": true,
    "slideshow": {
     "slide_type": "slide"
    }
   },
   "outputs": [],
   "source": [
    "# %load ./src/headfirst/iterator/dinermerger/after/DinerMenuIterator.java\n",
    "package headfirst.iterator.dinermerger.after;\n",
    "\n",
    "public class DinerMenuIterator implements Iterator {\n",
    "    MenuItem[] items;\n",
    "    int position = 0;\n",
    "\n",
    "    public DinerMenuIterator(MenuItem[] items) {\n",
    "        this.items = items;\n",
    "    }\n",
    " \n",
    "    public Object next() {\n",
    "        MenuItem menuItem = items[position];\n",
    "        position = position + 1;\n",
    "        return menuItem;\n",
    "    }\n",
    "    public boolean hasNext() {\n",
    "        if (position >= items.length || items[position] == null) {\n",
    "            return false;\n",
    "        } else {\n",
    "            return true;\n",
    "        }\n",
    "    }\n",
    "}\n"
   ]
  },
  {
   "cell_type": "code",
   "execution_count": null,
   "metadata": {
    "collapsed": true,
    "slideshow": {
     "slide_type": "slide"
    }
   },
   "outputs": [],
   "source": [
    "# %load ./src/headfirst/iterator/dinermerger/after/MenuItem.java\n",
    "package headfirst.iterator.dinermerger.after;\n",
    "\n",
    "public class MenuItem {\n",
    "    String name;\n",
    "    String description;\n",
    "    boolean vegetarian; //jsl20151122: used in isVegetarian() and for waitress to order\n",
    "    double price;\n",
    " \n",
    "    public MenuItem(String name, String description, boolean vegetarian, double price) {\n",
    "        this.name = name;\n",
    "        this.description = description;\n",
    "        this.vegetarian = vegetarian;\n",
    "        this.price = price;\n",
    "    }\n",
    "    public String getName() {\n",
    "        return name;\n",
    "    }\n",
    "    public String getDescription() {\n",
    "        return description;\n",
    "    }\n",
    "    public double getPrice() {\n",
    "        return price;\n",
    "    }\n",
    "    public String toString() {\n",
    "        return (name + \", $\" + price + \"\\n   \" + description);\n",
    "    }\n",
    "}\n"
   ]
  },
  {
   "cell_type": "code",
   "execution_count": null,
   "metadata": {
    "collapsed": true,
    "slideshow": {
     "slide_type": "slide"
    }
   },
   "outputs": [],
   "source": [
    "# %load ./src/headfirst/iterator/dinermerger/after/PancakeHouseMenuIterator.java\n",
    "package headfirst.iterator.dinermerger.after;\n",
    "\n",
    "import java.util.ArrayList;\n",
    "\n",
    "public class PancakeHouseMenuIterator implements Iterator {\n",
    "    ArrayList items;\n",
    "    int position = 0;\n",
    "    public PancakeHouseMenuIterator(ArrayList items) {\n",
    "        this.items = items;\n",
    "    }\n",
    "    public Object next() {\n",
    "        Object object = items.get(position);\n",
    "        position = position + 1;\n",
    "        return object;\n",
    "    }\n",
    "    public boolean hasNext() {\n",
    "        if (position >= items.size()) {\n",
    "            return false;\n",
    "        } else {\n",
    "            return true;\n",
    "        }\n",
    "    }\n",
    "}\n"
   ]
  },
  {
   "cell_type": "code",
   "execution_count": null,
   "metadata": {
    "collapsed": true,
    "slideshow": {
     "slide_type": "slide"
    }
   },
   "outputs": [],
   "source": [
    "# %load ./src/headfirst/iterator/dinermerger/after/Menu.java\n",
    "package headfirst.iterator.dinermerger.after;\n",
    "\n",
    "public interface Menu {\n",
    "    public Iterator createIterator();\n",
    "}\n"
   ]
  },
  {
   "cell_type": "code",
   "execution_count": null,
   "metadata": {
    "collapsed": true,
    "slideshow": {
     "slide_type": "slide"
    }
   },
   "outputs": [],
   "source": [
    "# %load ./src/headfirst/iterator/dinermerger/after/DinerMenu.java\n",
    "package headfirst.iterator.dinermerger.after;\n",
    "\n",
    "public class DinerMenu implements Menu {\n",
    "    static final int MAX_ITEMS = 6;\n",
    "    int numberOfItems = 0;\n",
    "    MenuItem[] menuItems;\n",
    "  \n",
    "    public DinerMenu() {\n",
    "        menuItems = new MenuItem[MAX_ITEMS];\n",
    " \n",
    "        addItem(\"Vegetarian BLT\",\n",
    "                \"(Fakin') Bacon with lettuce & tomato on whole wheat\", true, 2.99);\n",
    "        addItem(\"BLT\",\n",
    "                \"Bacon with lettuce & tomato on whole wheat\", false, 2.99);\n",
    "        addItem(\"Soup of the day\",\n",
    "                \"Soup of the day, with a side of potato salad\", false, 3.29);\n",
    "        addItem(\"Hotdog\",\n",
    "                \"A hot dog, with saurkraut, relish, onions, topped with cheese\", false, 3.05);\n",
    "        addItem(\"Steamed Veggies and Brown Rice\",\n",
    "                \"Steamed vegetables over brown rice\", true, 3.99);\n",
    "        addItem(\"Pasta\",\n",
    "                \"Spaghetti with Marinara Sauce, and a slice of sourdough bread\", true, 3.89);\n",
    "\t}\n",
    "    public void addItem(String n, String d, boolean v, double p) {\n",
    "        MenuItem menuItem = new MenuItem(n, d, v, p);\n",
    "        if (numberOfItems >= MAX_ITEMS) {\n",
    "            System.err.println(\"Sorry, menu is full!  Can't add item to menu\");\n",
    "        } else {\n",
    "            menuItems[numberOfItems] = menuItem;\n",
    "            numberOfItems = numberOfItems + 1;\n",
    "        }\n",
    "    }\n",
    "    public MenuItem[] getMenuItems() {\n",
    "        return menuItems;\n",
    "    }\n",
    "    public Iterator createIterator() {\n",
    "        return new DinerMenuIterator(menuItems);\n",
    "    }\n",
    "    // other menu methods here\n",
    "}\n"
   ]
  },
  {
   "cell_type": "code",
   "execution_count": null,
   "metadata": {
    "collapsed": true,
    "slideshow": {
     "slide_type": "slide"
    }
   },
   "outputs": [],
   "source": [
    "# %load ./src/headfirst/iterator/dinermerger/after/PancakeHouseMenu.java\n",
    "package headfirst.iterator.dinermerger.after;\n",
    "\n",
    "import java.util.ArrayList;\n",
    "\n",
    "public class PancakeHouseMenu implements Menu {\n",
    "    ArrayList menuItems;\n",
    " \n",
    "    public PancakeHouseMenu() {\n",
    "        menuItems = new ArrayList();\n",
    "    \n",
    "        addItem(\"K&B's Pancake Breakfast\", \n",
    "                \"Pancakes with scrambled eggs, and toast\", true, 2.99);\n",
    "        addItem(\"Regular Pancake Breakfast\", \n",
    "                \"Pancakes with fried eggs, sausage\", false, 2.99);\n",
    "        addItem(\"Blueberry Pancakes\",\n",
    "                \"Pancakes made with fresh blueberries\", true, 3.49);\n",
    "        addItem(\"Waffles\",\n",
    "                \"Waffles, with your choice of blueberries or strawberries\", true, 3.59);\n",
    "    }\n",
    "    public void addItem(String name, String description, boolean vegetarian, double price) {\n",
    "        MenuItem menuItem = new MenuItem(name, description, vegetarian, price);\n",
    "        menuItems.add(menuItem);\n",
    "    }\n",
    "    public ArrayList getMenuItems() {\n",
    "        return menuItems;\n",
    "    }\n",
    "    public Iterator createIterator() {\n",
    "        return new PancakeHouseMenuIterator(menuItems);\n",
    "    }\n",
    "    public String toString() {\n",
    "        return \"Objectville Pancake House Menu\";\n",
    "    }\n",
    "    // other menu methods here\n",
    "}\n"
   ]
  },
  {
   "cell_type": "code",
   "execution_count": null,
   "metadata": {
    "collapsed": true,
    "slideshow": {
     "slide_type": "slide"
    }
   },
   "outputs": [],
   "source": [
    "# %load ./src/headfirst/iterator/dinermerger/after/Waitress.java\n",
    "package headfirst.iterator.dinermerger.after;\n",
    "\n",
    "public class Waitress {\n",
    "    PancakeHouseMenu pancakeHouseMenu;\n",
    "    DinerMenu dinerMenu;\n",
    " \n",
    "    public Waitress(PancakeHouseMenu pancakeHouseMenu, DinerMenu dinerMenu) {\n",
    "        this.pancakeHouseMenu = pancakeHouseMenu;\n",
    "        this.dinerMenu = dinerMenu;\n",
    "    }\n",
    "    public void printMenu() {\n",
    "        Iterator pancakeIterator = pancakeHouseMenu.createIterator();\n",
    "        Iterator dinerIterator = dinerMenu.createIterator();\n",
    "\n",
    "        System.out.println(\"MENU\\n----\\nBREAKFAST\");\n",
    "        printMenu(pancakeIterator);\n",
    "        System.out.println(\"\\nLUNCH\");\n",
    "        printMenu(dinerIterator);\n",
    "    }\n",
    "    private void printMenu(Iterator iterator) {\n",
    "        while (iterator.hasNext()) {\n",
    "            MenuItem menuItem = (MenuItem)iterator.next();\n",
    "            System.out.print(menuItem.getName() + \", \");\n",
    "            System.out.print(menuItem.getPrice() + \" -- \");\n",
    "            System.out.println(menuItem.getDescription());\n",
    "        }\n",
    "    }\n",
    "}\n"
   ]
  },
  {
   "cell_type": "code",
   "execution_count": null,
   "metadata": {
    "collapsed": true,
    "slideshow": {
     "slide_type": "slide"
    }
   },
   "outputs": [],
   "source": [
    "# %load ./src/headfirst/iterator/dinermerger/after/MenuTestDrive.java\n",
    "package headfirst.iterator.dinermerger.after;\n",
    "\n",
    "import java.util.*;\n",
    "\n",
    "public class MenuTestDrive {\n",
    "    public static void main(String args[]) {\n",
    "        PancakeHouseMenu pancakeHouseMenu = new PancakeHouseMenu();\n",
    "        DinerMenu dinerMenu = new DinerMenu();\n",
    " \n",
    "        Waitress waitress = new Waitress(pancakeHouseMenu, dinerMenu);\n",
    "\n",
    "        waitress.printMenu();\n",
    "    }\n",
    "}\n"
   ]
  },
  {
   "cell_type": "code",
   "execution_count": 53,
   "metadata": {
    "collapsed": false,
    "slideshow": {
     "slide_type": "slide"
    }
   },
   "outputs": [
    {
     "name": "stdout",
     "output_type": "stream",
     "text": [
      "Note: src/headfirst/iterator/dinermerger/after/PancakeHouseMenu.java uses unchecked or unsafe operations.\n",
      "Note: Recompile with -Xlint:unchecked for details.\n",
      "MENU\n",
      "----\n",
      "BREAKFAST\n",
      "K&B's Pancake Breakfast, 2.99 -- Pancakes with scrambled eggs, and toast\n",
      "Regular Pancake Breakfast, 2.99 -- Pancakes with fried eggs, sausage\n",
      "Blueberry Pancakes, 3.49 -- Pancakes made with fresh blueberries\n",
      "Waffles, 3.59 -- Waffles, with your choice of blueberries or strawberries\n",
      "\n",
      "LUNCH\n",
      "Vegetarian BLT, 2.99 -- (Fakin') Bacon with lettuce & tomato on whole wheat\n",
      "BLT, 2.99 -- Bacon with lettuce & tomato on whole wheat\n",
      "Soup of the day, 3.29 -- Soup of the day, with a side of potato salad\n",
      "Hotdog, 3.05 -- A hot dog, with saurkraut, relish, onions, topped with cheese\n",
      "Steamed Veggies and Brown Rice, 3.99 -- Steamed vegetables over brown rice\n",
      "Pasta, 3.89 -- Spaghetti with Marinara Sauce, and a slice of sourdough bread\n"
     ]
    }
   ],
   "source": [
    "!javac -d classes/ -sourcepath src/ src/headfirst/iterator/dinermerger/after/*.java\n",
    "!java -cp classes/ headfirst.iterator.dinermerger.after.MenuTestDrive"
   ]
  },
  {
   "cell_type": "markdown",
   "metadata": {
    "slideshow": {
     "slide_type": "slide"
    }
   },
   "source": [
    "## 6.2 Menu Composite\n",
    "\n",
    "* Menu Composite Iterator - Stack\n",
    "    * java.util.Vector 상속\n",
    "    * peek() - pop하지 않고 조회만 함.\n",
    "    * Iterable 구현\n",
    "* UnsupportedOperationException"
   ]
  },
  {
   "cell_type": "code",
   "execution_count": 11,
   "metadata": {
    "collapsed": false,
    "slideshow": {
     "slide_type": "slide"
    }
   },
   "outputs": [
    {
     "data": {
      "image/svg+xml": [
       "<svg height=\"286px\" style=\"width:481px;height:286px;\" version=\"1.1\" viewBox=\"0 0 481 286\" width=\"481px\" xmlns=\"http://www.w3.org/2000/svg\" xmlns:xlink=\"http://www.w3.org/1999/xlink\"><defs><filter height=\"300%\" id=\"f1\" width=\"300%\" x=\"-1\" y=\"-1\"><feGaussianBlur result=\"blurOut\" stdDeviation=\"2.0\"/><feColorMatrix in=\"blurOut\" result=\"blurOut2\" type=\"matrix\" values=\"0 0 0 0 0 0 0 0 0 0 0 0 0 0 0 0 0 0 .4 0\"/><feOffset dx=\"4.0\" dy=\"4.0\" in=\"blurOut2\" result=\"blurOut3\"/><feBlend in=\"SourceGraphic\" in2=\"blurOut3\" mode=\"normal\"/></filter></defs><g><line style=\"stroke: #A80036; stroke-width: 1.0; stroke-dasharray: 5.0,5.0;\" x1=\"37\" x2=\"37\" y1=\"38.4883\" y2=\"248.3516\"/><line style=\"stroke: #A80036; stroke-width: 1.0; stroke-dasharray: 5.0,5.0;\" x1=\"120\" x2=\"120\" y1=\"38.4883\" y2=\"248.3516\"/><line style=\"stroke: #A80036; stroke-width: 1.0; stroke-dasharray: 5.0,5.0;\" x1=\"226\" x2=\"226\" y1=\"38.4883\" y2=\"248.3516\"/><line style=\"stroke: #A80036; stroke-width: 1.0; stroke-dasharray: 5.0,5.0;\" x1=\"348\" x2=\"348\" y1=\"38.4883\" y2=\"248.3516\"/><line style=\"stroke: #A80036; stroke-width: 1.0; stroke-dasharray: 5.0,5.0;\" x1=\"438\" x2=\"438\" y1=\"38.4883\" y2=\"248.3516\"/><rect fill=\"#FEFECE\" filter=\"url(#f1)\" height=\"30.4883\" style=\"stroke: #A80036; stroke-width: 1.5;\" width=\"54\" x=\"8\" y=\"3\"/><text fill=\"#000000\" font-family=\"sans-serif\" font-size=\"14\" lengthAdjust=\"spacingAndGlyphs\" textLength=\"40\" x=\"15\" y=\"23.5352\">Client</text><rect fill=\"#FEFECE\" filter=\"url(#f1)\" height=\"30.4883\" style=\"stroke: #A80036; stroke-width: 1.5;\" width=\"54\" x=\"8\" y=\"247.3516\"/><text fill=\"#000000\" font-family=\"sans-serif\" font-size=\"14\" lengthAdjust=\"spacingAndGlyphs\" textLength=\"40\" x=\"15\" y=\"267.8867\">Client</text><rect fill=\"#FEFECE\" filter=\"url(#f1)\" height=\"30.4883\" style=\"stroke: #A80036; stroke-width: 1.5;\" width=\"52\" x=\"92\" y=\"3\"/><text fill=\"#000000\" font-family=\"sans-serif\" font-size=\"14\" lengthAdjust=\"spacingAndGlyphs\" textLength=\"38\" x=\"99\" y=\"23.5352\">Menu</text><rect fill=\"#FEFECE\" filter=\"url(#f1)\" height=\"30.4883\" style=\"stroke: #A80036; stroke-width: 1.5;\" width=\"52\" x=\"92\" y=\"247.3516\"/><text fill=\"#000000\" font-family=\"sans-serif\" font-size=\"14\" lengthAdjust=\"spacingAndGlyphs\" textLength=\"38\" x=\"99\" y=\"267.8867\">Menu</text><rect fill=\"#FEFECE\" filter=\"url(#f1)\" height=\"30.4883\" style=\"stroke: #A80036; stroke-width: 1.5;\" width=\"133\" x=\"158\" y=\"3\"/><text fill=\"#000000\" font-family=\"sans-serif\" font-size=\"14\" lengthAdjust=\"spacingAndGlyphs\" textLength=\"119\" x=\"165\" y=\"23.5352\">MenuComponent</text><rect fill=\"#FEFECE\" filter=\"url(#f1)\" height=\"30.4883\" style=\"stroke: #A80036; stroke-width: 1.5;\" width=\"133\" x=\"158\" y=\"247.3516\"/><text fill=\"#000000\" font-family=\"sans-serif\" font-size=\"14\" lengthAdjust=\"spacingAndGlyphs\" textLength=\"119\" x=\"165\" y=\"267.8867\">MenuComponent</text><rect fill=\"#FEFECE\" filter=\"url(#f1)\" height=\"30.4883\" style=\"stroke: #A80036; stroke-width: 1.5;\" width=\"82\" x=\"305\" y=\"3\"/><text fill=\"#000000\" font-family=\"sans-serif\" font-size=\"14\" lengthAdjust=\"spacingAndGlyphs\" textLength=\"68\" x=\"312\" y=\"23.5352\">MenuItem</text><rect fill=\"#FEFECE\" filter=\"url(#f1)\" height=\"30.4883\" style=\"stroke: #A80036; stroke-width: 1.5;\" width=\"82\" x=\"305\" y=\"247.3516\"/><text fill=\"#000000\" font-family=\"sans-serif\" font-size=\"14\" lengthAdjust=\"spacingAndGlyphs\" textLength=\"68\" x=\"312\" y=\"267.8867\">MenuItem</text><rect fill=\"#FEFECE\" filter=\"url(#f1)\" height=\"30.4883\" style=\"stroke: #A80036; stroke-width: 1.5;\" width=\"71\" x=\"401\" y=\"3\"/><text fill=\"#000000\" font-family=\"sans-serif\" font-size=\"14\" lengthAdjust=\"spacingAndGlyphs\" textLength=\"57\" x=\"408\" y=\"23.5352\">Waitress</text><rect fill=\"#FEFECE\" filter=\"url(#f1)\" height=\"30.4883\" style=\"stroke: #A80036; stroke-width: 1.5;\" width=\"71\" x=\"401\" y=\"247.3516\"/><text fill=\"#000000\" font-family=\"sans-serif\" font-size=\"14\" lengthAdjust=\"spacingAndGlyphs\" textLength=\"57\" x=\"408\" y=\"267.8867\">Waitress</text><polygon fill=\"#A80036\" points=\"108,65.4883,118,69.4883,108,73.4883,112,69.4883\" style=\"stroke: #A80036; stroke-width: 1.0;\"/><line style=\"stroke: #A80036; stroke-width: 1.0;\" x1=\"37\" x2=\"114\" y1=\"69.4883\" y2=\"69.4883\"/><text fill=\"#000000\" font-family=\"sans-serif\" font-size=\"13\" lengthAdjust=\"spacingAndGlyphs\" textLength=\"55\" x=\"44\" y=\"65.0566\">m=new()</text><polygon fill=\"#A80036\" points=\"214.5,79.7988,224.5,83.7988,214.5,87.7988,218.5,83.7988\" style=\"stroke: #A80036; stroke-width: 1.0;\"/><line style=\"stroke: #A80036; stroke-width: 1.0;\" x1=\"120\" x2=\"220.5\" y1=\"83.7988\" y2=\"83.7988\"/><polygon fill=\"#A80036\" points=\"214.5,108.7988,224.5,112.7988,214.5,116.7988,218.5,112.7988\" style=\"stroke: #A80036; stroke-width: 1.0;\"/><line style=\"stroke: #A80036; stroke-width: 1.0;\" x1=\"37\" x2=\"220.5\" y1=\"112.7988\" y2=\"112.7988\"/><text fill=\"#000000\" font-family=\"sans-serif\" font-size=\"13\" lengthAdjust=\"spacingAndGlyphs\" textLength=\"43\" x=\"44\" y=\"108.3672\">add(m)</text><polygon fill=\"#A80036\" points=\"336,138.1094,346,142.1094,336,146.1094,340,142.1094\" style=\"stroke: #A80036; stroke-width: 1.0;\"/><line style=\"stroke: #A80036; stroke-width: 1.0;\" x1=\"37\" x2=\"342\" y1=\"142.1094\" y2=\"142.1094\"/><text fill=\"#000000\" font-family=\"sans-serif\" font-size=\"13\" lengthAdjust=\"spacingAndGlyphs\" textLength=\"71\" x=\"44\" y=\"137.6777\">item=new()</text><polygon fill=\"#A80036\" points=\"108,167.4199,118,171.4199,108,175.4199,112,171.4199\" style=\"stroke: #A80036; stroke-width: 1.0;\"/><line style=\"stroke: #A80036; stroke-width: 1.0;\" x1=\"37\" x2=\"114\" y1=\"171.4199\" y2=\"171.4199\"/><text fill=\"#000000\" font-family=\"sans-serif\" font-size=\"13\" lengthAdjust=\"spacingAndGlyphs\" textLength=\"59\" x=\"44\" y=\"166.9883\">add(item)</text><polygon fill=\"#A80036\" points=\"426.5,196.7305,436.5,200.7305,426.5,204.7305,430.5,200.7305\" style=\"stroke: #A80036; stroke-width: 1.0;\"/><line style=\"stroke: #A80036; stroke-width: 1.0;\" x1=\"37\" x2=\"432.5\" y1=\"200.7305\" y2=\"200.7305\"/><text fill=\"#000000\" font-family=\"sans-serif\" font-size=\"13\" lengthAdjust=\"spacingAndGlyphs\" textLength=\"140\" x=\"44\" y=\"196.2988\">new(MenuComponent)</text><polygon fill=\"#A80036\" points=\"426.5,226.041,436.5,230.041,426.5,234.041,430.5,230.041\" style=\"stroke: #A80036; stroke-width: 1.0;\"/><line style=\"stroke: #A80036; stroke-width: 1.0;\" x1=\"37\" x2=\"432.5\" y1=\"230.041\" y2=\"230.041\"/><text fill=\"#000000\" font-family=\"sans-serif\" font-size=\"13\" lengthAdjust=\"spacingAndGlyphs\" textLength=\"138\" x=\"44\" y=\"225.6094\">printVegetarianMenu()</text></g></svg>"
      ],
      "text/plain": [
       "<IPython.core.display.SVG object>"
      ]
     },
     "execution_count": 11,
     "metadata": {},
     "output_type": "execute_result"
    }
   ],
   "source": [
    "%%plantuml\n",
    "@startuml\n",
    "Client -> Menu:m=new()\n",
    "Menu -> MenuComponent\n",
    "Client -> MenuComponent:add(m)\n",
    "Client -> MenuItem:item=new()\n",
    "Client -> Menu:add(item)\n",
    "Client -> Waitress:new(MenuComponent)\n",
    "Client -> Waitress:printVegetarianMenu()\n",
    "@enduml"
   ]
  },
  {
   "cell_type": "code",
   "execution_count": 15,
   "metadata": {
    "collapsed": false
   },
   "outputs": [
    {
     "data": {
      "image/svg+xml": [
       "<svg height=\"303px\" style=\"width:169px;height:303px;\" version=\"1.1\" viewBox=\"0 0 169 303\" width=\"169px\" xmlns=\"http://www.w3.org/2000/svg\" xmlns:xlink=\"http://www.w3.org/1999/xlink\"><defs><filter height=\"300%\" id=\"f1\" width=\"300%\" x=\"-1\" y=\"-1\"><feGaussianBlur result=\"blurOut\" stdDeviation=\"2.0\"/><feColorMatrix in=\"blurOut\" result=\"blurOut2\" type=\"matrix\" values=\"0 0 0 0 0 0 0 0 0 0 0 0 0 0 0 0 0 0 .4 0\"/><feOffset dx=\"4.0\" dy=\"4.0\" in=\"blurOut2\" result=\"blurOut3\"/><feBlend in=\"SourceGraphic\" in2=\"blurOut3\" mode=\"normal\"/></filter></defs><g><polygon fill=\"#FFFFFF\" filter=\"url(#f1)\" points=\"22,24,85,24,92,46.4883,162,46.4883,162,296,22,296,22,24\" style=\"stroke: #000000; stroke-width: 2.0;\"/><line style=\"stroke: #000000; stroke-width: 2.0;\" x1=\"22\" x2=\"92\" y1=\"46.4883\" y2=\"46.4883\"/><text fill=\"#000000\" font-family=\"sans-serif\" font-size=\"14\" font-weight=\"bold\" lengthAdjust=\"spacingAndGlyphs\" textLength=\"57\" x=\"26\" y=\"39.5352\">java.util</text><rect fill=\"#FEFECE\" filter=\"url(#f1)\" height=\"112.7754\" style=\"stroke: #A80036; stroke-width: 1.5;\" width=\"108\" x=\"38\" y=\"167\"/><ellipse cx=\"68.75\" cy=\"183\" fill=\"#ADD1B2\" rx=\"11\" ry=\"11\" style=\"stroke: #A80036; stroke-width: 1.0;\"/><path d=\"M71.7231,188.6431 Q71.1421,188.9419 70.5029,189.0913 Q69.8638,189.2407 69.1582,189.2407 Q66.6514,189.2407 65.3315,187.5889 Q64.0117,185.937 64.0117,182.8159 Q64.0117,179.6865 65.3315,178.0347 Q66.6514,176.3828 69.1582,176.3828 Q69.8638,176.3828 70.5112,176.5322 Q71.1587,176.6816 71.7231,176.9805 L71.7231,179.7031 Q71.0923,179.1221 70.4988,178.8523 Q69.9053,178.5825 69.2744,178.5825 Q67.9297,178.5825 67.2449,179.6492 Q66.5601,180.7158 66.5601,182.8159 Q66.5601,184.9077 67.2449,185.9744 Q67.9297,187.041 69.2744,187.041 Q69.9053,187.041 70.4988,186.7712 Q71.0923,186.5015 71.7231,185.9204 Z \"/><text fill=\"#000000\" font-family=\"sans-serif\" font-size=\"12\" lengthAdjust=\"spacingAndGlyphs\" textLength=\"30\" x=\"86.25\" y=\"187.5352\">Stack</text><rect fill=\"#FFFFFF\" height=\"16.1328\" style=\"stroke: #000000; stroke-width: 1.0; stroke-dasharray: 2.0,2.0;\" width=\"9\" x=\"140\" y=\"164\"/><text fill=\"#000000\" font-family=\"sans-serif\" font-size=\"12\" font-style=\"italic\" lengthAdjust=\"spacingAndGlyphs\" textLength=\"7\" x=\"141\" y=\"176.6016\">E</text><line style=\"stroke: #A80036; stroke-width: 1.5;\" x1=\"39\" x2=\"145\" y1=\"199\" y2=\"199\"/><line style=\"stroke: #A80036; stroke-width: 1.5;\" x1=\"39\" x2=\"145\" y1=\"207\" y2=\"207\"/><text fill=\"#000000\" font-family=\"sans-serif\" font-size=\"11\" lengthAdjust=\"spacingAndGlyphs\" textLength=\"87\" x=\"44\" y=\"221.6348\">empty():boolean</text><text fill=\"#000000\" font-family=\"sans-serif\" font-size=\"11\" lengthAdjust=\"spacingAndGlyphs\" textLength=\"42\" x=\"44\" y=\"234.5898\">peek():E</text><text fill=\"#000000\" font-family=\"sans-serif\" font-size=\"11\" lengthAdjust=\"spacingAndGlyphs\" textLength=\"38\" x=\"44\" y=\"247.5449\">pop():E</text><text fill=\"#000000\" font-family=\"sans-serif\" font-size=\"11\" lengthAdjust=\"spacingAndGlyphs\" textLength=\"50\" x=\"44\" y=\"260.5\">push(E):E</text><text fill=\"#000000\" font-family=\"sans-serif\" font-size=\"11\" lengthAdjust=\"spacingAndGlyphs\" textLength=\"96\" x=\"44\" y=\"273.4551\">search(Object):int</text><rect fill=\"#FEFECE\" filter=\"url(#f1)\" height=\"48\" style=\"stroke: #A80036; stroke-width: 1.5;\" width=\"69\" x=\"57.5\" y=\"59\"/><ellipse cx=\"72.5\" cy=\"75\" fill=\"#ADD1B2\" rx=\"11\" ry=\"11\" style=\"stroke: #A80036; stroke-width: 1.0;\"/><path d=\"M75.4731,80.6431 Q74.8921,80.9419 74.2529,81.0913 Q73.6138,81.2407 72.9082,81.2407 Q70.4014,81.2407 69.0815,79.5889 Q67.7617,77.937 67.7617,74.8159 Q67.7617,71.6865 69.0815,70.0347 Q70.4014,68.3828 72.9082,68.3828 Q73.6138,68.3828 74.2612,68.5322 Q74.9087,68.6816 75.4731,68.9805 L75.4731,71.7031 Q74.8423,71.1221 74.2488,70.8523 Q73.6553,70.5825 73.0244,70.5825 Q71.6797,70.5825 70.9949,71.6492 Q70.3101,72.7158 70.3101,74.8159 Q70.3101,76.9077 70.9949,77.9744 Q71.6797,79.041 73.0244,79.041 Q73.6553,79.041 74.2488,78.7712 Q74.8423,78.5015 75.4731,77.9204 Z \"/><text fill=\"#000000\" font-family=\"sans-serif\" font-size=\"12\" lengthAdjust=\"spacingAndGlyphs\" textLength=\"37\" x=\"86.5\" y=\"79.5352\">Vector</text><line style=\"stroke: #A80036; stroke-width: 1.5;\" x1=\"58.5\" x2=\"125.5\" y1=\"91\" y2=\"91\"/><line style=\"stroke: #A80036; stroke-width: 1.5;\" x1=\"58.5\" x2=\"125.5\" y1=\"99\" y2=\"99\"/><path d=\"M92,127.299 C92,139.855 92,153.741 92,166.937 \" fill=\"none\" style=\"stroke: #A80036; stroke-width: 1.0;\"/><polygon fill=\"none\" points=\"85.0001,127.182,92,107.182,99.0001,127.182,85.0001,127.182\" style=\"stroke: #A80036; stroke-width: 1.0;\"/></g></svg>"
      ],
      "text/plain": [
       "<IPython.core.display.SVG object>"
      ]
     },
     "execution_count": 15,
     "metadata": {},
     "output_type": "execute_result"
    }
   ],
   "source": [
    "%%plantuml\n",
    "@startuml\n",
    "'E: Element (no difference between E and T (Type))'\n",
    "class java.util.Stack<E> {\n",
    "    empty():boolean\n",
    "    peek():E\n",
    "    pop():E\n",
    "    push(E):E\n",
    "    search(Object):int\n",
    "}\n",
    "java.util.Vector <|-- java.util.Stack\n",
    "@enduml"
   ]
  },
  {
   "cell_type": "code",
   "execution_count": null,
   "metadata": {
    "collapsed": true,
    "slideshow": {
     "slide_type": "slide"
    }
   },
   "outputs": [],
   "source": [
    "# %load ./src/headfirst/composite/menuiterator/MenuComponent.java\n",
    "package headfirst.composite.menuiterator;\n",
    "\n",
    "import java.util.*;\n",
    "\n",
    "public abstract class MenuComponent {\n",
    "    public void add(MenuComponent menuComponent) {\n",
    "        throw new UnsupportedOperationException();\n",
    "    }\n",
    "    public void remove(MenuComponent menuComponent) {\n",
    "        throw new UnsupportedOperationException();\n",
    "    }\n",
    "    public MenuComponent getChild(int i) {\n",
    "        throw new UnsupportedOperationException();\n",
    "    }\n",
    "    public String getName() {\n",
    "        throw new UnsupportedOperationException();\n",
    "    }\n",
    "    public String getDescription() {\n",
    "        throw new UnsupportedOperationException();\n",
    "    }\n",
    "    public double getPrice() {\n",
    "        throw new UnsupportedOperationException();\n",
    "    }\n",
    "    public boolean isVegetarian() {\n",
    "        throw new UnsupportedOperationException();\n",
    "    }\n",
    "    public abstract Iterator createIterator();\n",
    "    public void print() {\n",
    "        throw new UnsupportedOperationException();\n",
    "    }\n",
    "}\n"
   ]
  },
  {
   "cell_type": "code",
   "execution_count": null,
   "metadata": {
    "collapsed": true,
    "slideshow": {
     "slide_type": "slide"
    }
   },
   "outputs": [],
   "source": [
    "# %load ./src/headfirst/composite/menuiterator/Menu.java\n",
    "package headfirst.composite.menuiterator;\n",
    "\n",
    "import java.util.Iterator;\n",
    "import java.util.ArrayList;\n",
    "\n",
    "public class Menu extends MenuComponent {\n",
    "    ArrayList menuComponents = new ArrayList();\n",
    "    String name;\n",
    "    String description;\n",
    "  \n",
    "    public Menu(String name, String description) {\n",
    "        this.name = name;\n",
    "        this.description = description;\n",
    "    }\n",
    "    public void add(MenuComponent menuComponent) {\n",
    "        menuComponents.add(menuComponent);\n",
    "    }\n",
    "    public void remove(MenuComponent menuComponent) {\n",
    "        menuComponents.remove(menuComponent);\n",
    "    }\n",
    "    public MenuComponent getChild(int i) {\n",
    "        return (MenuComponent)menuComponents.get(i);\n",
    "    }\n",
    "    public String getName() {\n",
    "        return name;\n",
    "    }\n",
    "    public String getDescription() {\n",
    "        return description;\n",
    "    }\n",
    "    public Iterator createIterator() {\n",
    "        return new CompositeIterator(menuComponents.iterator());\n",
    "    }\n",
    "    public void print() {\n",
    "        System.out.print(\"\\n\" + getName());\n",
    "        System.out.println(\", \" + getDescription());\n",
    "        System.out.println(\"---------------------\");\n",
    "  \n",
    "        Iterator iterator = menuComponents.iterator();\n",
    "        while (iterator.hasNext()) {\n",
    "            MenuComponent menuComponent = (MenuComponent)iterator.next();\n",
    "            menuComponent.print();\n",
    "        }\n",
    "    }\n",
    "}\n"
   ]
  },
  {
   "cell_type": "code",
   "execution_count": null,
   "metadata": {
    "collapsed": false,
    "slideshow": {
     "slide_type": "slide"
    }
   },
   "outputs": [],
   "source": [
    "# %load ./src/headfirst/composite/menuiterator/MenuItem.java\n",
    "package headfirst.composite.menuiterator;\n",
    "\n",
    "import java.util.Iterator;\n",
    "import java.util.ArrayList;\n",
    "\n",
    "public class MenuItem extends MenuComponent {\n",
    "    String name;\n",
    "    String description;\n",
    "    boolean vegetarian;\n",
    "    double price;\n",
    "\n",
    "    public MenuItem(String n, String d, boolean v, double p) { \n",
    "    \tthis.name = n;\n",
    "    \tthis.description = d;\n",
    "    \tthis.vegetarian = v;\n",
    "    \tthis.price = p;\n",
    "    }\n",
    "    public String getName() {\n",
    "    \treturn name;\n",
    "    }\n",
    "    public String getDescription() {\n",
    "    \treturn description;\n",
    "    }\n",
    "    public double getPrice() {\n",
    "    \treturn price;\n",
    "    }\n",
    "    public boolean isVegetarian() {\n",
    "    \treturn vegetarian;\n",
    "    }\n",
    "    public Iterator createIterator() {\n",
    "    \treturn new NullIterator();\n",
    "    }\n",
    "    public void print() {\n",
    "    \tSystem.out.print(\"  \" + getName());\n",
    "    \tif (isVegetarian()) {\n",
    "            System.out.print(\"(v)\");\n",
    "    \t}\n",
    "    \tSystem.out.println(\", \" + getPrice());\n",
    "    \tSystem.out.println(\"     -- \" + getDescription());\n",
    "    }\n",
    "}\n"
   ]
  },
  {
   "cell_type": "code",
   "execution_count": null,
   "metadata": {
    "collapsed": true,
    "slideshow": {
     "slide_type": "slide"
    }
   },
   "outputs": [],
   "source": [
    "# %load ./src/headfirst/composite/menuiterator/CompositeIterator.java\n",
    "package headfirst.composite.menuiterator;\n",
    "\n",
    "import java.util.*;\n",
    "  \n",
    "public class CompositeIterator implements Iterator {\n",
    "    Stack stack = new Stack();\n",
    "    public CompositeIterator(Iterator iterator) {\n",
    "    \tstack.push(iterator);\n",
    "    }\n",
    "    public Object next() {\n",
    "    \tif (hasNext()) {\n",
    "    \t\tIterator iterator = (Iterator) stack.peek();\n",
    "    \t\tMenuComponent component = (MenuComponent) iterator.next();\n",
    "    \t\tif (component instanceof Menu) {\n",
    "    \t\t\tstack.push(component.createIterator());\n",
    "    \t\t} \n",
    "    \t\treturn component;\n",
    "    \t} else {\n",
    "    \t\treturn null;\n",
    "    \t}\n",
    "    }\n",
    "    public boolean hasNext() {\n",
    "    \tif (stack.empty()) {\n",
    "    \t\treturn false;\n",
    "    \t} else {\n",
    "    \t\tIterator iterator = (Iterator) stack.peek();\n",
    "    \t\tif (!iterator.hasNext()) {\n",
    "    \t\t\tstack.pop();\n",
    "    \t\t\treturn hasNext();\n",
    "    \t\t} else {\n",
    "    \t\t\treturn true;\n",
    "    \t\t}\n",
    "    \t}\n",
    "    }\n",
    "    public void remove() {\n",
    "    \tthrow new UnsupportedOperationException();\n",
    "    }\n",
    "}\n"
   ]
  },
  {
   "cell_type": "code",
   "execution_count": null,
   "metadata": {
    "collapsed": true,
    "slideshow": {
     "slide_type": "slide"
    }
   },
   "outputs": [],
   "source": [
    "# %load ./src/headfirst/composite/menuiterator/NullIterator.java\n",
    "package headfirst.composite.menuiterator;\n",
    " \n",
    "import java.util.Iterator;\n",
    "  \n",
    "public class NullIterator implements Iterator {\n",
    "    public Object next() {\n",
    "        return null;\n",
    "    }\n",
    "    public boolean hasNext() {\n",
    "        return false;\n",
    "    }\n",
    "    public void remove() {\n",
    "        throw new UnsupportedOperationException();\n",
    "    }\n",
    "}\n"
   ]
  },
  {
   "cell_type": "code",
   "execution_count": null,
   "metadata": {
    "collapsed": true,
    "slideshow": {
     "slide_type": "slide"
    }
   },
   "outputs": [],
   "source": [
    "# %load ./src/headfirst/composite/menuiterator/Waitress.java\n",
    "package headfirst.composite.menuiterator;\n",
    "\n",
    "import java.util.Iterator;\n",
    "  \n",
    "public class Waitress {\n",
    "    MenuComponent allMenus;\n",
    "    public Waitress(MenuComponent allMenus) {\n",
    "        this.allMenus = allMenus;\n",
    "    }\n",
    "    public void printMenu() {\n",
    "        allMenus.print();\n",
    "    }\n",
    "    public void printVegetarianMenu() {\n",
    "        Iterator iterator = allMenus.createIterator();\n",
    "\n",
    "        System.out.println(\"\\nVEGETARIAN MENU\\n----\");\n",
    "        while (iterator.hasNext()) {\n",
    "            MenuComponent menuComponent = (MenuComponent)iterator.next();\n",
    "            try {\n",
    "                if (menuComponent.isVegetarian()) {\n",
    "                    menuComponent.print();\n",
    "                }\n",
    "            } catch (UnsupportedOperationException e) {}\n",
    "        }\n",
    "    }\n",
    "}\n"
   ]
  },
  {
   "cell_type": "code",
   "execution_count": null,
   "metadata": {
    "collapsed": true,
    "slideshow": {
     "slide_type": "slide"
    }
   },
   "outputs": [],
   "source": [
    "# %load ./src/headfirst/composite/menuiterator/MenuTestDrive.java\n",
    "package headfirst.composite.menuiterator;\n",
    "\n",
    "import java.util.*;\n",
    "\n",
    "public class MenuTestDrive {\n",
    "    public static void main(String args[]) {\n",
    "\n",
    "    \tMenuComponent pancakeHouseMenu = new Menu(\"PANCAKE HOUSE MENU\", \"Breakfast\");\n",
    "    \tMenuComponent dinerMenu = new Menu(\"DINER MENU\", \"Lunch\");\n",
    "    \tMenuComponent cafeMenu = new Menu(\"CAFE MENU\", \"Dinner\");\n",
    "    \tMenuComponent dessertMenu = new Menu(\"DESSERT MENU\", \"Dessert of course!\");\n",
    "    \tMenuComponent allMenus = new Menu(\"ALL MENUS\", \"All menus combined\");\n",
    "\n",
    "    \tallMenus.add(pancakeHouseMenu);\n",
    "    \tallMenus.add(dinerMenu);\n",
    "    \tallMenus.add(cafeMenu);\n",
    "\n",
    "    \tpancakeHouseMenu.add(new MenuItem(\"K&B's Pancake Breakfast\", \n",
    "            \"Pancakes with scrambled eggs, and toast\", true, 2.99));\n",
    "    \tpancakeHouseMenu.add(new MenuItem(\"Regular Pancake Breakfast\", \n",
    "            \"Pancakes with fried eggs, sausage\", false, 2.99));\n",
    "    \tpancakeHouseMenu.add(new MenuItem(\"Blueberry Pancakes\",\n",
    "            \"Pancakes made with fresh blueberries, and blueberry syrup\", true, 3.49));\n",
    "    \tpancakeHouseMenu.add(new MenuItem(\"Waffles\",\n",
    "            \"Waffles, with your choice of blueberries or strawberries\", true, 3.59));\n",
    "    \tdinerMenu.add(new MenuItem(\"Vegetarian BLT\",\n",
    "            \"(Fakin') Bacon with lettuce & tomato on whole wheat\", true, 2.99));\n",
    "    \tdinerMenu.add(new MenuItem(\"BLT\",\n",
    "            \"Bacon with lettuce & tomato on whole wheat\", false, 2.99));\n",
    "    \tdinerMenu.add(new MenuItem(\"Soup of the day\",\n",
    "            \"A bowl of the soup of the day, with a side of potato salad\", false, 3.29));\n",
    "    \tdinerMenu.add(new MenuItem(\"Hotdog\",\n",
    "            \"A hot dog, with saurkraut, relish, onions, topped with cheese\", false, 3.05));\n",
    "    \tdinerMenu.add(new MenuItem(\"Steamed Veggies and Brown Rice\",\n",
    "            \"A medly of steamed vegetables over brown rice\", true, 3.99));\n",
    "    \tdinerMenu.add(new MenuItem(\"Pasta\",\n",
    "            \"Spaghetti with Marinara Sauce, and a slice of sourdough bread\", true, 3.89));\n",
    "    \tdinerMenu.add(dessertMenu);\n",
    "    \tdessertMenu.add(new MenuItem(\"Apple Pie\",\n",
    "            \"Apple pie with a flakey crust, topped with vanilla icecream\", true, 1.59));\n",
    "    \tdessertMenu.add(new MenuItem(\"Cheesecake\",\n",
    "            \"Creamy New York cheesecake, with a chocolate graham crust\", true, 1.99));\n",
    "    \tdessertMenu.add(new MenuItem(\"Sorbet\",\n",
    "            \"A scoop of raspberry and a scoop of lime\", true, 1.89));\n",
    "    \tcafeMenu.add(new MenuItem(\"Veggie Burger and Air Fries\",\n",
    "            \"Veggie burger on a whole wheat bun, lettuce, tomato, and fries\", true, 3.99));\n",
    "    \tcafeMenu.add(new MenuItem(\"Soup of the day\",\n",
    "            \"A cup of the soup of the day, with a side salad\", false, 3.69));\n",
    "    \tcafeMenu.add(new MenuItem(\"Burrito\",\n",
    "            \"A large burrito, with whole pinto beans, salsa, guacamole\", true, 4.29));\n",
    "\n",
    "    \tWaitress waitress = new Waitress(allMenus);\n",
    "    \twaitress.printVegetarianMenu();\n",
    "    }\n",
    "}\n"
   ]
  },
  {
   "cell_type": "code",
   "execution_count": 63,
   "metadata": {
    "collapsed": false,
    "slideshow": {
     "slide_type": "slide"
    }
   },
   "outputs": [
    {
     "name": "stdout",
     "output_type": "stream",
     "text": [
      "Note: Some input files use unchecked or unsafe operations.\n",
      "Note: Recompile with -Xlint:unchecked for details.\n",
      "\n",
      "VEGETARIAN MENU\n",
      "----\n",
      "  K&B's Pancake Breakfast(v), 2.99\n",
      "     -- Pancakes with scrambled eggs, and toast\n",
      "  Blueberry Pancakes(v), 3.49\n",
      "     -- Pancakes made with fresh blueberries, and blueberry syrup\n",
      "  Waffles(v), 3.59\n",
      "     -- Waffles, with your choice of blueberries or strawberries\n",
      "  Vegetarian BLT(v), 2.99\n",
      "     -- (Fakin') Bacon with lettuce & tomato on whole wheat\n",
      "  Steamed Veggies and Brown Rice(v), 3.99\n",
      "     -- A medly of steamed vegetables over brown rice\n",
      "  Pasta(v), 3.89\n",
      "     -- Spaghetti with Marinara Sauce, and a slice of sourdough bread\n",
      "  Apple Pie(v), 1.59\n",
      "     -- Apple pie with a flakey crust, topped with vanilla icecream\n",
      "  Cheesecake(v), 1.99\n",
      "     -- Creamy New York cheesecake, with a chocolate graham crust\n",
      "  Sorbet(v), 1.89\n",
      "     -- A scoop of raspberry and a scoop of lime\n",
      "  Apple Pie(v), 1.59\n",
      "     -- Apple pie with a flakey crust, topped with vanilla icecream\n",
      "  Cheesecake(v), 1.99\n",
      "     -- Creamy New York cheesecake, with a chocolate graham crust\n",
      "  Sorbet(v), 1.89\n",
      "     -- A scoop of raspberry and a scoop of lime\n",
      "  Veggie Burger and Air Fries(v), 3.99\n",
      "     -- Veggie burger on a whole wheat bun, lettuce, tomato, and fries\n",
      "  Burrito(v), 4.29\n",
      "     -- A large burrito, with whole pinto beans, salsa, guacamole\n"
     ]
    }
   ],
   "source": [
    "!javac -d classes/ -sourcepath src/ src/headfirst/composite/menuiterator/*.java\n",
    "!java -cp classes/ headfirst.composite.menuiterator.MenuTestDrive"
   ]
  }
 ],
 "metadata": {
  "celltoolbar": "Slideshow",
  "kernelspec": {
   "display_name": "Python 2",
   "language": "python",
   "name": "python2"
  },
  "language_info": {
   "codemirror_mode": {
    "name": "ipython",
    "version": 2
   },
   "file_extension": ".py",
   "mimetype": "text/x-python",
   "name": "python",
   "nbconvert_exporter": "python",
   "pygments_lexer": "ipython2",
   "version": "2.7.10"
  }
 },
 "nbformat": 4,
 "nbformat_minor": 0
}
