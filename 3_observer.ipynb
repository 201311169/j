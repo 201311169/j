{
 "cells": [
  {
   "cell_type": "markdown",
   "metadata": {
    "slideshow": {
     "slide_type": "slide"
    }
   },
   "source": [
    "# 강의내용\n",
    "\n",
    "* 교재 2장 HFDP Ch2\n",
    "* Observer 패턴 (Behavioral Design Pattern)\n",
    "* 프로그래밍 'Weather' (HFDP Ch2)"
   ]
  },
  {
   "cell_type": "markdown",
   "metadata": {
    "slideshow": {
     "slide_type": "slide"
    }
   },
   "source": [
    "# 1. Observer 패턴\n",
    "\n",
    "\n",
    "* 디자인패턴 요소\n",
    "\n",
    "요소 | 설명\n",
    "---|---\n",
    "name | Observer\n",
    "problem | 정보공급자와 이에 대한 다수의 정보사용자 (1:n 관계). 정보사용자가 늘어날수록 확장 어려움.\n",
    "solution | 정보사용자를 등록하고, 정보가 변동하는 경우 알려줌.\n",
    "consequence | loose coupling, 확장성"
   ]
  },
  {
   "cell_type": "markdown",
   "metadata": {
    "slideshow": {
     "slide_type": "slide"
    }
   },
   "source": [
    "# 2. 문제\n",
    "\n",
    "* 정보공급자는 정기적으로 계속 온도, 습도, 기압을 측정, 수집\n",
    "* 온도 getTemperature(), 습도 getHummidity(), 기압 getPressure() 수집.\n",
    "* 방송국, 농사, 운동경기 관련 사이트에서 그 정보를 사용\n",
    "* 정된 날씨 데이터는 배포measurementsChanged()"
   ]
  },
  {
   "cell_type": "code",
   "execution_count": 1,
   "metadata": {
    "collapsed": false,
    "slideshow": {
     "slide_type": "slide"
    }
   },
   "outputs": [
    {
     "name": "stdout",
     "output_type": "stream",
     "text": [
      "Installed plantuml_magics.py. To use it, type:\n",
      "  %load_ext plantuml_magics\n"
     ]
    }
   ],
   "source": [
    "%install_ext https://raw.githubusercontent.com/sberke/ipython-plantuml/master/plantuml_magics.py"
   ]
  },
  {
   "cell_type": "code",
   "execution_count": 2,
   "metadata": {
    "collapsed": false,
    "slideshow": {
     "slide_type": "slide"
    }
   },
   "outputs": [],
   "source": [
    "%load_ext plantuml_magics"
   ]
  },
  {
   "cell_type": "code",
   "execution_count": 3,
   "metadata": {
    "collapsed": false,
    "slideshow": {
     "slide_type": "slide"
    }
   },
   "outputs": [
    {
     "data": {
      "text/plain": [
       "['./plantuml.jar']"
      ]
     },
     "execution_count": 3,
     "metadata": {},
     "output_type": "execute_result"
    }
   ],
   "source": [
    "import glob\n",
    "glob.glob(r'./*.jar')"
   ]
  },
  {
   "cell_type": "code",
   "execution_count": 4,
   "metadata": {
    "collapsed": false,
    "slideshow": {
     "slide_type": "slide"
    }
   },
   "outputs": [
    {
     "name": "stdout",
     "output_type": "stream",
     "text": [
      "/opt/local/bin/dot\r\n"
     ]
    }
   ],
   "source": [
    "!which dot"
   ]
  },
  {
   "cell_type": "code",
   "execution_count": 5,
   "metadata": {
    "collapsed": false,
    "slideshow": {
     "slide_type": "slide"
    }
   },
   "outputs": [
    {
     "name": "stdout",
     "output_type": "stream",
     "text": [
      "/opt/local/bin/dot\n",
      "The environment variable GRAPHVIZ_DOT has been set to /opt/local/bin/dot\n",
      "Dot executable is /opt/local/bin/dot\n",
      "Dot version: dot - graphviz version 2.38.0 (20140413.2041)\n",
      "Installation seems OK. File generation OK\n"
     ]
    }
   ],
   "source": [
    "import os\n",
    "os.environ['GRAPHVIZ_DOT']='/opt/local/bin/dot'\n",
    "print os.environ['GRAPHVIZ_DOT']\n",
    "!java -jar plantuml.jar -testdot"
   ]
  },
  {
   "cell_type": "markdown",
   "metadata": {
    "slideshow": {
     "slide_type": "slide"
    }
   },
   "source": [
    "# 3. before\n",
    "\n",
    "* polling - 데이터를 원하는 측 (정보사용자)이 계속 묻는다\n",
    "* 비효율적 - 통화중인데 계속 전화를 거는 것"
   ]
  },
  {
   "cell_type": "code",
   "execution_count": 6,
   "metadata": {
    "collapsed": false,
    "slideshow": {
     "slide_type": "slide"
    }
   },
   "outputs": [
    {
     "data": {
      "image/svg+xml": [
       "<svg height=\"142px\" style=\"width:588px;height:142px;\" version=\"1.1\" viewBox=\"0 0 588 142\" width=\"588px\" xmlns=\"http://www.w3.org/2000/svg\" xmlns:xlink=\"http://www.w3.org/1999/xlink\"><defs><filter height=\"300%\" id=\"f1\" width=\"300%\" x=\"-1\" y=\"-1\"><feGaussianBlur result=\"blurOut\" stdDeviation=\"2.0\"/><feColorMatrix in=\"blurOut\" result=\"blurOut2\" type=\"matrix\" values=\"0 0 0 0 0 0 0 0 0 0 0 0 0 0 0 0 0 0 .4 0\"/><feOffset dx=\"4.0\" dy=\"4.0\" in=\"blurOut2\" result=\"blurOut3\"/><feBlend in=\"SourceGraphic\" in2=\"blurOut3\" mode=\"normal\"/></filter></defs><g><rect fill=\"#FEFECE\" filter=\"url(#f1)\" height=\"99.8203\" style=\"stroke: #A80036; stroke-width: 1.5;\" width=\"147\" x=\"6\" y=\"21\"/><ellipse cx=\"39.45\" cy=\"37\" fill=\"#ADD1B2\" rx=\"11\" ry=\"11\" style=\"stroke: #A80036; stroke-width: 1.0;\"/><path d=\"M42.4231,42.6431 Q41.8421,42.9419 41.2029,43.0913 Q40.5638,43.2407 39.8582,43.2407 Q37.3514,43.2407 36.0315,41.5889 Q34.7117,39.937 34.7117,36.8159 Q34.7117,33.6865 36.0315,32.0347 Q37.3514,30.3828 39.8582,30.3828 Q40.5638,30.3828 41.2112,30.5322 Q41.8587,30.6816 42.4231,30.9805 L42.4231,33.7031 Q41.7923,33.1221 41.1988,32.8523 Q40.6053,32.5825 39.9744,32.5825 Q38.6297,32.5825 37.9449,33.6492 Q37.2601,34.7158 37.2601,36.8159 Q37.2601,38.9077 37.9449,39.9744 Q38.6297,41.041 39.9744,41.041 Q40.6053,41.041 41.1988,40.7712 Q41.7923,40.5015 42.4231,39.9204 Z \"/><text fill=\"#000000\" font-family=\"sans-serif\" font-size=\"12\" lengthAdjust=\"spacingAndGlyphs\" textLength=\"74\" x=\"57.55\" y=\"41.5352\">WeatherData</text><line style=\"stroke: #A80036; stroke-width: 1.5;\" x1=\"7\" x2=\"152\" y1=\"53\" y2=\"53\"/><line style=\"stroke: #A80036; stroke-width: 1.5;\" x1=\"7\" x2=\"152\" y1=\"61\" y2=\"61\"/><text fill=\"#000000\" font-family=\"sans-serif\" font-size=\"11\" lengthAdjust=\"spacingAndGlyphs\" textLength=\"94\" x=\"12\" y=\"75.6348\">getTemperature()</text><text fill=\"#000000\" font-family=\"sans-serif\" font-size=\"11\" lengthAdjust=\"spacingAndGlyphs\" textLength=\"73\" x=\"12\" y=\"88.5898\">getHumidity()</text><text fill=\"#000000\" font-family=\"sans-serif\" font-size=\"11\" lengthAdjust=\"spacingAndGlyphs\" textLength=\"72\" x=\"12\" y=\"101.5449\">getPressure()</text><text fill=\"#000000\" font-family=\"sans-serif\" font-size=\"11\" lengthAdjust=\"spacingAndGlyphs\" textLength=\"135\" x=\"12\" y=\"114.5\">measurementsChanged()</text><polygon fill=\"#FBFB77\" filter=\"url(#f1)\" points=\"188,8,188,133.8405,579,133.8405,579,18,569,8,188,8\" style=\"stroke: #A80036; stroke-width: 1.0;\"/><polygon fill=\"#FBFB77\" points=\"188,8,188,67,153.125,71,188,75,188,133.8405,579,133.8405,579,18,569,8,188,8\" style=\"stroke: #A80036; stroke-width: 1.0;\"/><line style=\"stroke: #A80036; stroke-width: 1.0;\" x1=\"569\" x2=\"569\" y1=\"8\" y2=\"18\"/><line style=\"stroke: #A80036; stroke-width: 1.0;\" x1=\"579\" x2=\"569\" y1=\"18\" y2=\"18\"/><path d=\"M199.0625,13 C197.574,13 196.1808,13.403 195,14.1516 L195.5753,15.0995 C196.5828,14.4603 197.7777,14.0833 199.0625,14.0833 C200.3625,14.0833 201.5791,14.4192 202.5833,15.0648 L203.1586,14.1841 C201.9745,13.4225 200.5575,12.9989 199.0625,12.9989 M199.0961,16.2489 C198.2348,16.2489 197.4375,16.4948 196.7604,16.926 L197.3357,17.8403 C197.8503,17.5132 198.4407,17.3323 199.0961,17.3323 C199.7385,17.3323 200.3203,17.524 200.8229,17.8403 L201.3982,16.926 C200.7308,16.5057 199.9487,16.2489 199.0961,16.2489 M199.0625,19.4989 C198.4645,19.4989 197.9792,19.9843 197.9792,20.5823 C197.9792,21.1803 198.4645,21.6656 199.0625,21.6656 C199.6605,21.6656 200.1458,21.1803 200.1458,20.5823 C200.1458,19.9843 199.6605,19.4989 199.0625,19.4989 \" fill=\"#000000\" style=\"stroke: ; stroke-width: 0.0; stroke-dasharray: ;\"/><text fill=\"#000000\" font-family=\"sans-serif\" font-size=\"13\" lengthAdjust=\"spacingAndGlyphs\" textLength=\"246\" x=\"194\" y=\"34.235\">&quot;private void measurementsChanged() {</text><text fill=\"#000000\" font-family=\"sans-serif\" font-size=\"13\" lengthAdjust=\"spacingAndGlyphs\" textLength=\"189\" x=\"214\" y=\"49.5456\">float humidity=getHumidity();</text><text fill=\"#000000\" font-family=\"sans-serif\" font-size=\"13\" lengthAdjust=\"spacingAndGlyphs\" textLength=\"182\" x=\"214\" y=\"64.8561\">float pressure=getPressure();</text><text fill=\"#000000\" font-family=\"sans-serif\" font-size=\"13\" lengthAdjust=\"spacingAndGlyphs\" textLength=\"350\" x=\"214\" y=\"80.1667\">broadcastingCompany.update(temp,humidity,pressure);</text><text fill=\"#000000\" font-family=\"sans-serif\" font-size=\"13\" lengthAdjust=\"spacingAndGlyphs\" textLength=\"323\" x=\"214\" y=\"95.4772\">agricultureAgency.update(temp,humidity,pressure);</text><text fill=\"#000000\" font-family=\"sans-serif\" font-size=\"13\" lengthAdjust=\"spacingAndGlyphs\" textLength=\"296\" x=\"214\" y=\"110.7878\">sportsDisplay.update(temp,humidity,pressure);</text><text fill=\"#000000\" font-family=\"sans-serif\" font-size=\"13\" lengthAdjust=\"spacingAndGlyphs\" textLength=\"9\" x=\"194\" y=\"126.0983\">}&quot;</text></g></svg>"
      ],
      "text/plain": [
       "<IPython.core.display.SVG object>"
      ]
     },
     "execution_count": 6,
     "metadata": {},
     "output_type": "execute_result"
    }
   ],
   "source": [
    "%%plantuml\n",
    "@startuml\n",
    "class WeatherData {\n",
    "    getTemperature()\n",
    "    getHumidity()\n",
    "    getPressure()\n",
    "    measurementsChanged()\n",
    "}\n",
    "note right\n",
    "   <&wifi>\n",
    "   \"private void measurementsChanged() {\n",
    "        float humidity=getHumidity();\n",
    "        float pressure=getPressure();\n",
    "        broadcastingCompany.update(temp,humidity,pressure);\n",
    "        agricultureAgency.update(temp,humidity,pressure);\n",
    "        sportsDisplay.update(temp,humidity,pressure);\n",
    "   }\"\n",
    "end note\n",
    "@enduml"
   ]
  },
  {
   "cell_type": "code",
   "execution_count": 7,
   "metadata": {
    "collapsed": false,
    "slideshow": {
     "slide_type": "slide"
    }
   },
   "outputs": [
    {
     "data": {
      "image/svg+xml": [
       "<svg height=\"173px\" style=\"width:491px;height:173px;\" version=\"1.1\" viewBox=\"0 0 491 173\" width=\"491px\" xmlns=\"http://www.w3.org/2000/svg\" xmlns:xlink=\"http://www.w3.org/1999/xlink\"><defs><filter height=\"300%\" id=\"f1\" width=\"300%\" x=\"-1\" y=\"-1\"><feGaussianBlur result=\"blurOut\" stdDeviation=\"2.0\"/><feColorMatrix in=\"blurOut\" result=\"blurOut2\" type=\"matrix\" values=\"0 0 0 0 0 0 0 0 0 0 0 0 0 0 0 0 0 0 .4 0\"/><feOffset dx=\"4.0\" dy=\"4.0\" in=\"blurOut2\" result=\"blurOut3\"/><feBlend in=\"SourceGraphic\" in2=\"blurOut3\" mode=\"normal\"/></filter></defs><g><rect fill=\"#FEFECE\" filter=\"url(#f1)\" height=\"48\" style=\"stroke: #A80036; stroke-width: 1.5;\" width=\"106\" x=\"216\" y=\"8\"/><ellipse cx=\"231\" cy=\"24\" fill=\"#ADD1B2\" rx=\"11\" ry=\"11\" style=\"stroke: #A80036; stroke-width: 1.0;\"/><path d=\"M233.9731,29.6431 Q233.3921,29.9419 232.7529,30.0913 Q232.1138,30.2407 231.4082,30.2407 Q228.9014,30.2407 227.5815,28.5889 Q226.2617,26.937 226.2617,23.8159 Q226.2617,20.6865 227.5815,19.0347 Q228.9014,17.3828 231.4082,17.3828 Q232.1138,17.3828 232.7612,17.5322 Q233.4087,17.6816 233.9731,17.9805 L233.9731,20.7031 Q233.3423,20.1221 232.7488,19.8523 Q232.1553,19.5825 231.5244,19.5825 Q230.1797,19.5825 229.4949,20.6492 Q228.8101,21.7158 228.8101,23.8159 Q228.8101,25.9077 229.4949,26.9744 Q230.1797,28.041 231.5244,28.041 Q232.1553,28.041 232.7488,27.7712 Q233.3423,27.5015 233.9731,26.9204 Z \"/><text fill=\"#000000\" font-family=\"sans-serif\" font-size=\"12\" lengthAdjust=\"spacingAndGlyphs\" textLength=\"74\" x=\"245\" y=\"28.5352\">WeatherData</text><line style=\"stroke: #A80036; stroke-width: 1.5;\" x1=\"217\" x2=\"321\" y1=\"40\" y2=\"40\"/><line style=\"stroke: #A80036; stroke-width: 1.5;\" x1=\"217\" x2=\"321\" y1=\"48\" y2=\"48\"/><rect fill=\"#FEFECE\" filter=\"url(#f1)\" height=\"48\" style=\"stroke: #A80036; stroke-width: 1.5;\" width=\"160\" x=\"6\" y=\"116\"/><ellipse cx=\"21\" cy=\"132\" fill=\"#ADD1B2\" rx=\"11\" ry=\"11\" style=\"stroke: #A80036; stroke-width: 1.0;\"/><path d=\"M23.9731,137.6431 Q23.3921,137.9419 22.7529,138.0913 Q22.1138,138.2407 21.4082,138.2407 Q18.9014,138.2407 17.5815,136.5889 Q16.2617,134.937 16.2617,131.8159 Q16.2617,128.6865 17.5815,127.0347 Q18.9014,125.3828 21.4082,125.3828 Q22.1138,125.3828 22.7612,125.5322 Q23.4087,125.6816 23.9731,125.9805 L23.9731,128.7031 Q23.3423,128.1221 22.7488,127.8523 Q22.1553,127.5825 21.5244,127.5825 Q20.1797,127.5825 19.4949,128.6492 Q18.8101,129.7158 18.8101,131.8159 Q18.8101,133.9077 19.4949,134.9744 Q20.1797,136.041 21.5244,136.041 Q22.1553,136.041 22.7488,135.7712 Q23.3423,135.5015 23.9731,134.9204 Z \"/><text fill=\"#000000\" font-family=\"sans-serif\" font-size=\"12\" lengthAdjust=\"spacingAndGlyphs\" textLength=\"128\" x=\"35\" y=\"136.5352\">BroadcastingCompany</text><line style=\"stroke: #A80036; stroke-width: 1.5;\" x1=\"7\" x2=\"165\" y1=\"148\" y2=\"148\"/><line style=\"stroke: #A80036; stroke-width: 1.5;\" x1=\"7\" x2=\"165\" y1=\"156\" y2=\"156\"/><rect fill=\"#FEFECE\" filter=\"url(#f1)\" height=\"48\" style=\"stroke: #A80036; stroke-width: 1.5;\" width=\"135\" x=\"201.5\" y=\"116\"/><ellipse cx=\"216.5\" cy=\"132\" fill=\"#ADD1B2\" rx=\"11\" ry=\"11\" style=\"stroke: #A80036; stroke-width: 1.0;\"/><path d=\"M219.4731,137.6431 Q218.8921,137.9419 218.2529,138.0913 Q217.6138,138.2407 216.9082,138.2407 Q214.4014,138.2407 213.0815,136.5889 Q211.7617,134.937 211.7617,131.8159 Q211.7617,128.6865 213.0815,127.0347 Q214.4014,125.3828 216.9082,125.3828 Q217.6138,125.3828 218.2612,125.5322 Q218.9087,125.6816 219.4731,125.9805 L219.4731,128.7031 Q218.8423,128.1221 218.2488,127.8523 Q217.6553,127.5825 217.0244,127.5825 Q215.6797,127.5825 214.9949,128.6492 Q214.3101,129.7158 214.3101,131.8159 Q214.3101,133.9077 214.9949,134.9744 Q215.6797,136.041 217.0244,136.041 Q217.6553,136.041 218.2488,135.7712 Q218.8423,135.5015 219.4731,134.9204 Z \"/><text fill=\"#000000\" font-family=\"sans-serif\" font-size=\"12\" lengthAdjust=\"spacingAndGlyphs\" textLength=\"103\" x=\"230.5\" y=\"136.5352\">AgricultureAgency</text><line style=\"stroke: #A80036; stroke-width: 1.5;\" x1=\"202.5\" x2=\"335.5\" y1=\"148\" y2=\"148\"/><line style=\"stroke: #A80036; stroke-width: 1.5;\" x1=\"202.5\" x2=\"335.5\" y1=\"156\" y2=\"156\"/><rect fill=\"#FEFECE\" filter=\"url(#f1)\" height=\"48\" style=\"stroke: #A80036; stroke-width: 1.5;\" width=\"110\" x=\"372\" y=\"116\"/><ellipse cx=\"387\" cy=\"132\" fill=\"#ADD1B2\" rx=\"11\" ry=\"11\" style=\"stroke: #A80036; stroke-width: 1.0;\"/><path d=\"M389.9731,137.6431 Q389.3921,137.9419 388.7529,138.0913 Q388.1138,138.2407 387.4082,138.2407 Q384.9014,138.2407 383.5815,136.5889 Q382.2617,134.937 382.2617,131.8159 Q382.2617,128.6865 383.5815,127.0347 Q384.9014,125.3828 387.4082,125.3828 Q388.1138,125.3828 388.7612,125.5322 Q389.4087,125.6816 389.9731,125.9805 L389.9731,128.7031 Q389.3423,128.1221 388.7488,127.8523 Q388.1553,127.5825 387.5244,127.5825 Q386.1797,127.5825 385.4949,128.6492 Q384.8101,129.7158 384.8101,131.8159 Q384.8101,133.9077 385.4949,134.9744 Q386.1797,136.041 387.5244,136.041 Q388.1553,136.041 388.7488,135.7712 Q389.3423,135.5015 389.9731,134.9204 Z \"/><text fill=\"#000000\" font-family=\"sans-serif\" font-size=\"12\" lengthAdjust=\"spacingAndGlyphs\" textLength=\"78\" x=\"401\" y=\"136.5352\">SportsDisplay</text><line style=\"stroke: #A80036; stroke-width: 1.5;\" x1=\"373\" x2=\"481\" y1=\"148\" y2=\"148\"/><line style=\"stroke: #A80036; stroke-width: 1.5;\" x1=\"373\" x2=\"481\" y1=\"156\" y2=\"156\"/><path d=\"M229.292,56 C200.136,72.8887 160.518,95.8365 130.33,113.3227 \" fill=\"none\" style=\"stroke: #A80036; stroke-width: 1.0; stroke-dasharray: 7.0,7.0;\"/><polygon fill=\"#A80036\" points=\"125.946,115.8617,135.7388,114.8126,130.2728,113.3559,131.7295,107.8898,125.946,115.8617\" style=\"stroke: #A80036; stroke-width: 1.0;\"/><path d=\"M269,56 C269,72.003 269,93.4461 269,110.528 \" fill=\"none\" style=\"stroke: #A80036; stroke-width: 1.0; stroke-dasharray: 7.0,7.0;\"/><polygon fill=\"#A80036\" points=\"269,115.6784,273,106.6784,269,110.6784,265,106.6784,269,115.6784\" style=\"stroke: #A80036; stroke-width: 1.0;\"/><path d=\"M303.284,56 C328.25,72.7503 362.102,95.4607 388.084,112.8917 \" fill=\"none\" style=\"stroke: #A80036; stroke-width: 1.0; stroke-dasharray: 7.0,7.0;\"/><polygon fill=\"#A80036\" points=\"392.511,115.8617,387.2658,107.5258,388.3589,113.076,382.8087,114.1691,392.511,115.8617\" style=\"stroke: #A80036; stroke-width: 1.0;\"/></g></svg>"
      ],
      "text/plain": [
       "<IPython.core.display.SVG object>"
      ]
     },
     "execution_count": 7,
     "metadata": {},
     "output_type": "execute_result"
    }
   ],
   "source": [
    "%%plantuml\n",
    "@startuml\n",
    "WeatherData ..> BroadcastingCompany\n",
    "WeatherData ..> AgricultureAgency\n",
    "WeatherData ..> SportsDisplay\n",
    "@enduml"
   ]
  },
  {
   "cell_type": "code",
   "execution_count": 8,
   "metadata": {
    "collapsed": false,
    "slideshow": {
     "slide_type": "slide"
    }
   },
   "outputs": [
    {
     "data": {
      "image/svg+xml": [
       "<svg height=\"327px\" style=\"width:734px;height:327px;\" version=\"1.1\" viewBox=\"0 0 734 327\" width=\"734px\" xmlns=\"http://www.w3.org/2000/svg\" xmlns:xlink=\"http://www.w3.org/1999/xlink\"><defs><filter height=\"300%\" id=\"f1\" width=\"300%\" x=\"-1\" y=\"-1\"><feGaussianBlur result=\"blurOut\" stdDeviation=\"2.0\"/><feColorMatrix in=\"blurOut\" result=\"blurOut2\" type=\"matrix\" values=\"0 0 0 0 0 0 0 0 0 0 0 0 0 0 0 0 0 0 .4 0\"/><feOffset dx=\"4.0\" dy=\"4.0\" in=\"blurOut2\" result=\"blurOut3\"/><feBlend in=\"SourceGraphic\" in2=\"blurOut3\" mode=\"normal\"/></filter></defs><g><rect fill=\"#ADD8E6\" height=\"322.4395\" style=\"stroke: #A80036; stroke-width: 1.0;\" width=\"260.5\" x=\"4\" y=\"4\"/><text fill=\"#000000\" font-family=\"sans-serif\" font-size=\"13\" font-weight=\"bold\" lengthAdjust=\"spacingAndGlyphs\" textLength=\"124\" x=\"72.25\" y=\"16.5684\">weather providers</text><line style=\"stroke: #A80036; stroke-width: 1.0;\" x1=\"62\" x2=\"62\" y1=\"58.7988\" y2=\"127.4199\"/><line style=\"stroke: #A80036; stroke-width: 1.0; stroke-dasharray: 1.0,4.0;\" x1=\"62\" x2=\"62\" y1=\"127.4199\" y2=\"168.375\"/><line style=\"stroke: #A80036; stroke-width: 1.0;\" x1=\"62\" x2=\"62\" y1=\"168.375\" y2=\"207.6855\"/><line style=\"stroke: #A80036; stroke-width: 1.0; stroke-dasharray: 1.0,4.0;\" x1=\"62\" x2=\"62\" y1=\"207.6855\" y2=\"248.6406\"/><line style=\"stroke: #A80036; stroke-width: 1.0;\" x1=\"62\" x2=\"62\" y1=\"248.6406\" y2=\"287.9512\"/><line style=\"stroke: #A80036; stroke-width: 1.0;\" x1=\"199.5\" x2=\"199.5\" y1=\"58.7988\" y2=\"127.4199\"/><line style=\"stroke: #A80036; stroke-width: 1.0; stroke-dasharray: 1.0,4.0;\" x1=\"199.5\" x2=\"199.5\" y1=\"127.4199\" y2=\"168.375\"/><line style=\"stroke: #A80036; stroke-width: 1.0;\" x1=\"199.5\" x2=\"199.5\" y1=\"168.375\" y2=\"207.6855\"/><line style=\"stroke: #A80036; stroke-width: 1.0; stroke-dasharray: 1.0,4.0;\" x1=\"199.5\" x2=\"199.5\" y1=\"207.6855\" y2=\"248.6406\"/><line style=\"stroke: #A80036; stroke-width: 1.0;\" x1=\"199.5\" x2=\"199.5\" y1=\"248.6406\" y2=\"287.9512\"/><line style=\"stroke: #A80036; stroke-width: 1.0;\" x1=\"344.5\" x2=\"344.5\" y1=\"58.7988\" y2=\"127.4199\"/><line style=\"stroke: #A80036; stroke-width: 1.0; stroke-dasharray: 1.0,4.0;\" x1=\"344.5\" x2=\"344.5\" y1=\"127.4199\" y2=\"168.375\"/><line style=\"stroke: #A80036; stroke-width: 1.0;\" x1=\"344.5\" x2=\"344.5\" y1=\"168.375\" y2=\"207.6855\"/><line style=\"stroke: #A80036; stroke-width: 1.0; stroke-dasharray: 1.0,4.0;\" x1=\"344.5\" x2=\"344.5\" y1=\"207.6855\" y2=\"248.6406\"/><line style=\"stroke: #A80036; stroke-width: 1.0;\" x1=\"344.5\" x2=\"344.5\" y1=\"248.6406\" y2=\"287.9512\"/><line style=\"stroke: #A80036; stroke-width: 1.0;\" x1=\"483.5\" x2=\"483.5\" y1=\"58.7988\" y2=\"127.4199\"/><line style=\"stroke: #A80036; stroke-width: 1.0; stroke-dasharray: 1.0,4.0;\" x1=\"483.5\" x2=\"483.5\" y1=\"127.4199\" y2=\"168.375\"/><line style=\"stroke: #A80036; stroke-width: 1.0;\" x1=\"483.5\" x2=\"483.5\" y1=\"168.375\" y2=\"207.6855\"/><line style=\"stroke: #A80036; stroke-width: 1.0; stroke-dasharray: 1.0,4.0;\" x1=\"483.5\" x2=\"483.5\" y1=\"207.6855\" y2=\"248.6406\"/><line style=\"stroke: #A80036; stroke-width: 1.0;\" x1=\"483.5\" x2=\"483.5\" y1=\"248.6406\" y2=\"287.9512\"/><rect fill=\"#FEFECE\" filter=\"url(#f1)\" height=\"30.4883\" style=\"stroke: #A80036; stroke-width: 1.5;\" width=\"104\" x=\"8\" y=\"23.3105\"/><text fill=\"#000000\" font-family=\"sans-serif\" font-size=\"14\" lengthAdjust=\"spacingAndGlyphs\" textLength=\"90\" x=\"15\" y=\"43.8457\">sensorDevice</text><rect fill=\"#FEFECE\" filter=\"url(#f1)\" height=\"30.4883\" style=\"stroke: #A80036; stroke-width: 1.5;\" width=\"104\" x=\"8\" y=\"286.9512\"/><text fill=\"#000000\" font-family=\"sans-serif\" font-size=\"14\" lengthAdjust=\"spacingAndGlyphs\" textLength=\"90\" x=\"15\" y=\"307.4863\">sensorDevice</text><rect fill=\"#FEFECE\" filter=\"url(#f1)\" height=\"30.4883\" style=\"stroke: #A80036; stroke-width: 1.5;\" width=\"117\" x=\"139.5\" y=\"23.3105\"/><text fill=\"#000000\" font-family=\"sans-serif\" font-size=\"14\" lengthAdjust=\"spacingAndGlyphs\" textLength=\"103\" x=\"146.5\" y=\"43.8457\">weatherStation</text><rect fill=\"#FEFECE\" filter=\"url(#f1)\" height=\"30.4883\" style=\"stroke: #A80036; stroke-width: 1.5;\" width=\"117\" x=\"139.5\" y=\"286.9512\"/><text fill=\"#000000\" font-family=\"sans-serif\" font-size=\"14\" lengthAdjust=\"spacingAndGlyphs\" textLength=\"103\" x=\"146.5\" y=\"307.4863\">weatherStation</text><rect fill=\"#FEFECE\" filter=\"url(#f1)\" height=\"30.4883\" style=\"stroke: #A80036; stroke-width: 1.5;\" width=\"144\" x=\"270.5\" y=\"23.3105\"/><text fill=\"#000000\" font-family=\"sans-serif\" font-size=\"14\" lengthAdjust=\"spacingAndGlyphs\" textLength=\"130\" x=\"277.5\" y=\"43.8457\">weatherDataObject</text><rect fill=\"#FEFECE\" filter=\"url(#f1)\" height=\"30.4883\" style=\"stroke: #A80036; stroke-width: 1.5;\" width=\"144\" x=\"270.5\" y=\"286.9512\"/><text fill=\"#000000\" font-family=\"sans-serif\" font-size=\"14\" lengthAdjust=\"spacingAndGlyphs\" textLength=\"130\" x=\"277.5\" y=\"307.4863\">weatherDataObject</text><rect fill=\"#FEFECE\" filter=\"url(#f1)\" height=\"30.4883\" style=\"stroke: #A80036; stroke-width: 1.5;\" width=\"107\" x=\"428.5\" y=\"23.3105\"/><text fill=\"#000000\" font-family=\"sans-serif\" font-size=\"14\" lengthAdjust=\"spacingAndGlyphs\" textLength=\"93\" x=\"435.5\" y=\"43.8457\">DisplayDevice</text><rect fill=\"#FEFECE\" filter=\"url(#f1)\" height=\"30.4883\" style=\"stroke: #A80036; stroke-width: 1.5;\" width=\"107\" x=\"428.5\" y=\"286.9512\"/><text fill=\"#000000\" font-family=\"sans-serif\" font-size=\"14\" lengthAdjust=\"spacingAndGlyphs\" textLength=\"93\" x=\"435.5\" y=\"307.4863\">DisplayDevice</text><polygon fill=\"#A80036\" points=\"73,85.7988,63,89.7988,73,93.7988,69,89.7988\" style=\"stroke: #A80036; stroke-width: 1.0;\"/><line style=\"stroke: #A80036; stroke-width: 1.0;\" x1=\"67\" x2=\"199\" y1=\"89.7988\" y2=\"89.7988\"/><text fill=\"#000000\" font-family=\"sans-serif\" font-size=\"13\" font-weight=\"bold\" lengthAdjust=\"spacingAndGlyphs\" textLength=\"9\" x=\"79\" y=\"85.3672\">1</text><text fill=\"#000000\" font-family=\"sans-serif\" font-size=\"13\" lengthAdjust=\"spacingAndGlyphs\" textLength=\"101\" x=\"92\" y=\"85.3672\">pull sensor data</text><polygon fill=\"#A80036\" points=\"211,115.1094,201,119.1094,211,123.1094,207,119.1094\" style=\"stroke: #A80036; stroke-width: 1.0;\"/><line style=\"stroke: #A80036; stroke-width: 1.0;\" x1=\"205\" x2=\"343.5\" y1=\"119.1094\" y2=\"119.1094\"/><text fill=\"#000000\" font-family=\"sans-serif\" font-size=\"13\" font-weight=\"bold\" lengthAdjust=\"spacingAndGlyphs\" textLength=\"9\" x=\"217\" y=\"114.6777\">2</text><text fill=\"#000000\" font-family=\"sans-serif\" font-size=\"13\" lengthAdjust=\"spacingAndGlyphs\" textLength=\"55\" x=\"230\" y=\"114.6777\">pull data</text><text fill=\"#000000\" font-family=\"sans-serif\" font-size=\"11\" lengthAdjust=\"spacingAndGlyphs\" textLength=\"24\" x=\"261\" y=\"152.0547\">later</text><polygon fill=\"#A80036\" points=\"211,190.375,201,194.375,211,198.375,207,194.375\" style=\"stroke: #A80036; stroke-width: 1.0;\"/><line style=\"stroke: #A80036; stroke-width: 1.0;\" x1=\"205\" x2=\"343.5\" y1=\"194.375\" y2=\"194.375\"/><text fill=\"#000000\" font-family=\"sans-serif\" font-size=\"13\" font-weight=\"bold\" lengthAdjust=\"spacingAndGlyphs\" textLength=\"9\" x=\"217\" y=\"189.9434\">3</text><text fill=\"#000000\" font-family=\"sans-serif\" font-size=\"13\" lengthAdjust=\"spacingAndGlyphs\" textLength=\"55\" x=\"230\" y=\"189.9434\">pull data</text><polygon fill=\"#00FFFF\" filter=\"url(#f1)\" points=\"349,173.375,349,198.375,725,198.375,725,183.375,715,173.375,349,173.375\" style=\"stroke: #A80036; stroke-width: 1.0;\"/><line style=\"stroke: #A80036; stroke-width: 1.0;\" x1=\"715\" x2=\"715\" y1=\"173.375\" y2=\"183.375\"/><line style=\"stroke: #A80036; stroke-width: 1.0;\" x1=\"725\" x2=\"715\" y1=\"183.375\" y2=\"183.375\"/><text fill=\"#000000\" font-family=\"sans-serif\" font-size=\"13\" lengthAdjust=\"spacingAndGlyphs\" textLength=\"140\" x=\"355\" y=\"190.9434\">keep asking if there is</text><text fill=\"#000000\" font-family=\"sans-serif\" font-size=\"13\" font-weight=\"bold\" lengthAdjust=\"spacingAndGlyphs\" textLength=\"79\" x=\"499\" y=\"190.9434\">any change</text><text fill=\"#000000\" font-family=\"sans-serif\" font-size=\"13\" lengthAdjust=\"spacingAndGlyphs\" textLength=\"128\" x=\"582\" y=\"190.9434\">in weather station\\n</text><text fill=\"#000000\" font-family=\"sans-serif\" font-size=\"11\" lengthAdjust=\"spacingAndGlyphs\" textLength=\"24\" x=\"261\" y=\"232.3203\">later</text><polygon fill=\"#A80036\" points=\"472,265.6406,482,269.6406,472,273.6406,476,269.6406\" style=\"stroke: #A80036; stroke-width: 1.0;\"/><line style=\"stroke: #A80036; stroke-width: 1.0;\" x1=\"344.5\" x2=\"478\" y1=\"269.6406\" y2=\"269.6406\"/><text fill=\"#000000\" font-family=\"sans-serif\" font-size=\"13\" font-weight=\"bold\" lengthAdjust=\"spacingAndGlyphs\" textLength=\"27\" x=\"351.5\" y=\"265.209\">100</text><text fill=\"#000000\" font-family=\"sans-serif\" font-size=\"13\" lengthAdjust=\"spacingAndGlyphs\" textLength=\"52\" x=\"382.5\" y=\"265.209\">displays</text></g></svg>"
      ],
      "text/plain": [
       "<IPython.core.display.SVG object>"
      ]
     },
     "execution_count": 8,
     "metadata": {},
     "output_type": "execute_result"
    }
   ],
   "source": [
    "%%plantuml\n",
    "\n",
    "@startuml\n",
    "\n",
    "box \"weather providers\" #LightBlue\n",
    "  participant sensorDevice\n",
    "  participant weatherStation\n",
    "end box\n",
    "\n",
    "autonumber\n",
    "sensorDevice <- weatherStation: poll sensor data\n",
    "weatherStation <- weatherDataObject: poll data\n",
    "... later ...\n",
    "weatherStation <- weatherDataObject: poll data\n",
    "\n",
    "... later ...\n",
    "autonumber 100\n",
    "note right #aqua\n",
    "  keep asking if there is **any change** in weather station\\n\n",
    "end note\n",
    "weatherDataObject -> DisplayDevice: displays\n",
    "\n",
    "@enduml"
   ]
  },
  {
   "cell_type": "markdown",
   "metadata": {
    "slideshow": {
     "slide_type": "slide"
    }
   },
   "source": [
    "# 4. 설계\n",
    "\n",
    "* 인터페이스 분리 (ISP Interface Segregation Principle)\n",
    "* 구체적인 클래스 상속\n",
    "* 클라이언트는 구체클래스 보다는 추상적 클래스 사용\n",
    "* Subject\n",
    "    * Observable, Publisher\n",
    "    * 상태가 변경이 되면 알림 기능 (notify)\n",
    "    * 알림 대상이 되는 Observer를 사전에 등록 (register)\n",
    "* Observers\n",
    "    * Subscriber\n",
    "    * Subject의 상태가 변경이 되면 그 내용을 받아서 반영함 (update)\n"
   ]
  },
  {
   "cell_type": "markdown",
   "metadata": {
    "slideshow": {
     "slide_type": "slide"
    }
   },
   "source": [
    "# 5. after\n",
    "\n",
    "* 데이터를 원하는 display는 등록하고 기다린다\n",
    "* 통화중이면 전화를 또 걸지 않고 '전화 자동발신'하고 다른 작업을 함"
   ]
  },
  {
   "cell_type": "code",
   "execution_count": 6,
   "metadata": {
    "collapsed": false,
    "slideshow": {
     "slide_type": "slide"
    }
   },
   "outputs": [
    {
     "data": {
      "image/svg+xml": [
       "<svg height=\"341px\" style=\"width:878px;height:341px;\" version=\"1.1\" viewBox=\"0 0 878 341\" width=\"878px\" xmlns=\"http://www.w3.org/2000/svg\" xmlns:xlink=\"http://www.w3.org/1999/xlink\"><defs><filter height=\"300%\" id=\"f1\" width=\"300%\" x=\"-1\" y=\"-1\"><feGaussianBlur result=\"blurOut\" stdDeviation=\"2.0\"/><feColorMatrix in=\"blurOut\" result=\"blurOut2\" type=\"matrix\" values=\"0 0 0 0 0 0 0 0 0 0 0 0 0 0 0 0 0 0 .4 0\"/><feOffset dx=\"4.0\" dy=\"4.0\" in=\"blurOut2\" result=\"blurOut3\"/><feBlend in=\"SourceGraphic\" in2=\"blurOut3\" mode=\"normal\"/></filter></defs><g><line style=\"stroke: #A80036; stroke-width: 1.0; stroke-dasharray: 5.0,5.0;\" x1=\"37\" x2=\"37\" y1=\"38.4883\" y2=\"303.2832\"/><line style=\"stroke: #A80036; stroke-width: 1.0; stroke-dasharray: 5.0,5.0;\" x1=\"216\" x2=\"216\" y1=\"38.4883\" y2=\"303.2832\"/><line style=\"stroke: #A80036; stroke-width: 1.0; stroke-dasharray: 5.0,5.0;\" x1=\"351\" x2=\"351\" y1=\"38.4883\" y2=\"303.2832\"/><line style=\"stroke: #A80036; stroke-width: 1.0; stroke-dasharray: 5.0,5.0;\" x1=\"437\" x2=\"437\" y1=\"38.4883\" y2=\"303.2832\"/><line style=\"stroke: #A80036; stroke-width: 1.0; stroke-dasharray: 5.0,5.0;\" x1=\"529\" x2=\"529\" y1=\"38.4883\" y2=\"303.2832\"/><rect fill=\"#FEFECE\" filter=\"url(#f1)\" height=\"30.4883\" style=\"stroke: #A80036; stroke-width: 1.5;\" width=\"54\" x=\"8\" y=\"3\"/><text fill=\"#000000\" font-family=\"sans-serif\" font-size=\"14\" lengthAdjust=\"spacingAndGlyphs\" textLength=\"40\" x=\"15\" y=\"23.5352\">Client</text><rect fill=\"#FEFECE\" filter=\"url(#f1)\" height=\"30.4883\" style=\"stroke: #A80036; stroke-width: 1.5;\" width=\"54\" x=\"8\" y=\"302.2832\"/><text fill=\"#000000\" font-family=\"sans-serif\" font-size=\"14\" lengthAdjust=\"spacingAndGlyphs\" textLength=\"40\" x=\"15\" y=\"322.8184\">Client</text><rect fill=\"#FEFECE\" filter=\"url(#f1)\" height=\"30.4883\" style=\"stroke: #A80036; stroke-width: 1.5;\" width=\"68\" x=\"180\" y=\"3\"/><text fill=\"#000000\" font-family=\"sans-serif\" font-size=\"14\" lengthAdjust=\"spacingAndGlyphs\" textLength=\"54\" x=\"187\" y=\"23.5352\">ISubject</text><rect fill=\"#FEFECE\" filter=\"url(#f1)\" height=\"30.4883\" style=\"stroke: #A80036; stroke-width: 1.5;\" width=\"68\" x=\"180\" y=\"302.2832\"/><text fill=\"#000000\" font-family=\"sans-serif\" font-size=\"14\" lengthAdjust=\"spacingAndGlyphs\" textLength=\"54\" x=\"187\" y=\"322.8184\">ISubject</text><rect fill=\"#FEFECE\" filter=\"url(#f1)\" height=\"30.4883\" style=\"stroke: #A80036; stroke-width: 1.5;\" width=\"64\" x=\"317\" y=\"3\"/><text fill=\"#000000\" font-family=\"sans-serif\" font-size=\"14\" lengthAdjust=\"spacingAndGlyphs\" textLength=\"50\" x=\"324\" y=\"23.5352\">Subject</text><rect fill=\"#FEFECE\" filter=\"url(#f1)\" height=\"30.4883\" style=\"stroke: #A80036; stroke-width: 1.5;\" width=\"64\" x=\"317\" y=\"302.2832\"/><text fill=\"#000000\" font-family=\"sans-serif\" font-size=\"14\" lengthAdjust=\"spacingAndGlyphs\" textLength=\"50\" x=\"324\" y=\"322.8184\">Subject</text><rect fill=\"#FEFECE\" filter=\"url(#f1)\" height=\"30.4883\" style=\"stroke: #A80036; stroke-width: 1.5;\" width=\"80\" x=\"395\" y=\"3\"/><text fill=\"#000000\" font-family=\"sans-serif\" font-size=\"14\" lengthAdjust=\"spacingAndGlyphs\" textLength=\"66\" x=\"402\" y=\"23.5352\">IObserver</text><rect fill=\"#FEFECE\" filter=\"url(#f1)\" height=\"30.4883\" style=\"stroke: #A80036; stroke-width: 1.5;\" width=\"80\" x=\"395\" y=\"302.2832\"/><text fill=\"#000000\" font-family=\"sans-serif\" font-size=\"14\" lengthAdjust=\"spacingAndGlyphs\" textLength=\"66\" x=\"402\" y=\"322.8184\">IObserver</text><rect fill=\"#FEFECE\" filter=\"url(#f1)\" height=\"30.4883\" style=\"stroke: #A80036; stroke-width: 1.5;\" width=\"76\" x=\"489\" y=\"3\"/><text fill=\"#000000\" font-family=\"sans-serif\" font-size=\"14\" lengthAdjust=\"spacingAndGlyphs\" textLength=\"62\" x=\"496\" y=\"23.5352\">Observer</text><rect fill=\"#FEFECE\" filter=\"url(#f1)\" height=\"30.4883\" style=\"stroke: #A80036; stroke-width: 1.5;\" width=\"76\" x=\"489\" y=\"302.2832\"/><text fill=\"#000000\" font-family=\"sans-serif\" font-size=\"14\" lengthAdjust=\"spacingAndGlyphs\" textLength=\"62\" x=\"496\" y=\"322.8184\">Observer</text><polygon fill=\"#A80036\" points=\"425,65.4883,435,69.4883,425,73.4883,429,69.4883\" style=\"stroke: #A80036; stroke-width: 1.0;\"/><line style=\"stroke: #A80036; stroke-width: 1.0;\" x1=\"37\" x2=\"431\" y1=\"69.4883\" y2=\"69.4883\"/><text fill=\"#000000\" font-family=\"sans-serif\" font-size=\"13\" font-weight=\"bold\" lengthAdjust=\"spacingAndGlyphs\" textLength=\"9\" x=\"44\" y=\"65.0566\">1</text><text fill=\"#000000\" font-family=\"sans-serif\" font-size=\"13\" lengthAdjust=\"spacingAndGlyphs\" textLength=\"66\" x=\"57\" y=\"65.0566\">obs=new()</text><polygon fill=\"#A80036\" points=\"204,94.7988,214,98.7988,204,102.7988,208,98.7988\" style=\"stroke: #A80036; stroke-width: 1.0;\"/><line style=\"stroke: #A80036; stroke-width: 1.0;\" x1=\"37\" x2=\"210\" y1=\"98.7988\" y2=\"98.7988\"/><text fill=\"#000000\" font-family=\"sans-serif\" font-size=\"13\" font-weight=\"bold\" lengthAdjust=\"spacingAndGlyphs\" textLength=\"9\" x=\"44\" y=\"94.3672\">2</text><text fill=\"#000000\" font-family=\"sans-serif\" font-size=\"13\" lengthAdjust=\"spacingAndGlyphs\" textLength=\"142\" x=\"57\" y=\"94.3672\">registerObservers(obs)</text><polygon fill=\"#A80036\" points=\"204,124.1094,214,128.1094,204,132.1094,208,128.1094\" style=\"stroke: #A80036; stroke-width: 1.0;\"/><line style=\"stroke: #A80036; stroke-width: 1.0;\" x1=\"37\" x2=\"210\" y1=\"128.1094\" y2=\"128.1094\"/><text fill=\"#000000\" font-family=\"sans-serif\" font-size=\"13\" font-weight=\"bold\" lengthAdjust=\"spacingAndGlyphs\" textLength=\"9\" x=\"44\" y=\"123.6777\">3</text><text fill=\"#000000\" font-family=\"sans-serif\" font-size=\"13\" lengthAdjust=\"spacingAndGlyphs\" textLength=\"82\" x=\"57\" y=\"123.6777\">setChanged()</text><line style=\"stroke: #A80036; stroke-width: 1.0;\" x1=\"216\" x2=\"258\" y1=\"157.7305\" y2=\"157.7305\"/><line style=\"stroke: #A80036; stroke-width: 1.0;\" x1=\"258\" x2=\"258\" y1=\"157.7305\" y2=\"170.7305\"/><line style=\"stroke: #A80036; stroke-width: 1.0;\" x1=\"217\" x2=\"258\" y1=\"170.7305\" y2=\"170.7305\"/><polygon fill=\"#A80036\" points=\"227,166.7305,217,170.7305,227,174.7305,223,170.7305\" style=\"stroke: #A80036; stroke-width: 1.0;\"/><text fill=\"#000000\" font-family=\"sans-serif\" font-size=\"13\" font-weight=\"bold\" lengthAdjust=\"spacingAndGlyphs\" textLength=\"9\" x=\"223\" y=\"152.9883\">4</text><text fill=\"#000000\" font-family=\"sans-serif\" font-size=\"13\" lengthAdjust=\"spacingAndGlyphs\" textLength=\"108\" x=\"236\" y=\"152.9883\">notifyObservers()</text><polygon fill=\"#A80036\" points=\"425,195.7305,435,199.7305,425,203.7305,429,199.7305\" style=\"stroke: #A80036; stroke-width: 1.0;\"/><line style=\"stroke: #A80036; stroke-width: 1.0;\" x1=\"216\" x2=\"431\" y1=\"199.7305\" y2=\"199.7305\"/><text fill=\"#000000\" font-family=\"sans-serif\" font-size=\"13\" font-weight=\"bold\" lengthAdjust=\"spacingAndGlyphs\" textLength=\"9\" x=\"223\" y=\"195.2988\">5</text><text fill=\"#000000\" font-family=\"sans-serif\" font-size=\"13\" lengthAdjust=\"spacingAndGlyphs\" textLength=\"51\" x=\"236\" y=\"195.2988\">update()</text><polygon fill=\"#A80036\" points=\"362,253.0068,352,257.0068,362,261.0068,358,257.0068\" style=\"stroke: #A80036; stroke-width: 1.0;\"/><line style=\"stroke: #A80036; stroke-width: 1.0;\" x1=\"356\" x2=\"528\" y1=\"257.0068\" y2=\"257.0068\"/><text fill=\"#000000\" font-family=\"sans-serif\" font-size=\"13\" font-weight=\"bold\" lengthAdjust=\"spacingAndGlyphs\" textLength=\"9\" x=\"368\" y=\"252.5752\">6</text><text fill=\"#000000\" font-family=\"sans-serif\" font-size=\"13\" lengthAdjust=\"spacingAndGlyphs\" textLength=\"57\" x=\"381\" y=\"252.5752\">getData()</text><polygon fill=\"#FBFB77\" filter=\"url(#f1)\" points=\"534,213.041,534,284.041,869,284.041,869,223.041,859,213.041,534,213.041\" style=\"stroke: #A80036; stroke-width: 1.0;\"/><line style=\"stroke: #A80036; stroke-width: 1.0;\" x1=\"859\" x2=\"859\" y1=\"213.041\" y2=\"223.041\"/><line style=\"stroke: #A80036; stroke-width: 1.0;\" x1=\"869\" x2=\"859\" y1=\"223.041\" y2=\"223.041\"/><text fill=\"#000000\" font-family=\"sans-serif\" font-size=\"13\" lengthAdjust=\"spacingAndGlyphs\" textLength=\"314\" x=\"540\" y=\"230.6094\">Intefaces do not appear on the sequence diagram.</text><text fill=\"#000000\" font-family=\"sans-serif\" font-size=\"13\" lengthAdjust=\"spacingAndGlyphs\" textLength=\"267\" x=\"540\" y=\"245.9199\">For an eudcation purpose, they are shown.</text><text fill=\"#000000\" font-family=\"sans-serif\" font-size=\"13\" lengthAdjust=\"spacingAndGlyphs\" textLength=\"172\" x=\"540\" y=\"261.2305\">getData() may not be called</text><text fill=\"#000000\" font-family=\"sans-serif\" font-size=\"13\" lengthAdjust=\"spacingAndGlyphs\" textLength=\"281\" x=\"540\" y=\"276.541\">in case parameters are passed onto update().</text></g></svg>"
      ],
      "text/plain": [
       "<IPython.core.display.SVG object>"
      ]
     },
     "execution_count": 6,
     "metadata": {},
     "output_type": "execute_result"
    }
   ],
   "source": [
    "%%plantuml\n",
    "\n",
    "@startuml\n",
    "participant Client\n",
    "participant ISubject\n",
    "participant Subject\n",
    "participant IObserver\n",
    "participant Observer\n",
    "\n",
    "autonumber\n",
    "Client -> IObserver:obs=new()\n",
    "Client -> ISubject:registerObservers(obs)\n",
    "Client -> ISubject:setChanged()\n",
    "ISubject -> ISubject:notifyObservers()\n",
    "ISubject -> IObserver:update()\n",
    "Observer -> Subject:getData()\n",
    "\n",
    "note right\n",
    "    Intefaces do not appear on the sequence diagram.\n",
    "    For an eudcation purpose, they are shown.\n",
    "    getData() may not be called\n",
    "    in case parameters are passed onto update().\n",
    "end note\n",
    "\n",
    "@enduml"
   ]
  },
  {
   "cell_type": "code",
   "execution_count": 11,
   "metadata": {
    "collapsed": false,
    "slideshow": {
     "slide_type": "slide"
    }
   },
   "outputs": [
    {
     "data": {
      "image/svg+xml": [
       "<svg height=\"212px\" style=\"width:358px;height:212px;\" version=\"1.1\" viewBox=\"0 0 358 212\" width=\"358px\" xmlns=\"http://www.w3.org/2000/svg\" xmlns:xlink=\"http://www.w3.org/1999/xlink\"><defs><filter height=\"300%\" id=\"f1\" width=\"300%\" x=\"-1\" y=\"-1\"><feGaussianBlur result=\"blurOut\" stdDeviation=\"2.0\"/><feColorMatrix in=\"blurOut\" result=\"blurOut2\" type=\"matrix\" values=\"0 0 0 0 0 0 0 0 0 0 0 0 0 0 0 0 0 0 .4 0\"/><feOffset dx=\"4.0\" dy=\"4.0\" in=\"blurOut2\" result=\"blurOut3\"/><feBlend in=\"SourceGraphic\" in2=\"blurOut3\" mode=\"normal\"/></filter></defs><g><rect fill=\"#FEFECE\" filter=\"url(#f1)\" height=\"86.8652\" style=\"stroke: #A80036; stroke-width: 1.5;\" width=\"126\" x=\"8\" y=\"8\"/><ellipse cx=\"45.05\" cy=\"24\" fill=\"#B4A7E5\" rx=\"11\" ry=\"11\" style=\"stroke: #A80036; stroke-width: 1.0;\"/><path d=\"M40.9777,19.7651 L40.9777,17.6069 L48.3571,17.6069 L48.3571,19.7651 L45.8918,19.7651 L45.8918,27.8418 L48.3571,27.8418 L48.3571,30 L40.9777,30 L40.9777,27.8418 L43.4431,27.8418 L43.4431,19.7651 Z \"/><text fill=\"#000000\" font-family=\"sans-serif\" font-size=\"12\" font-style=\"italic\" lengthAdjust=\"spacingAndGlyphs\" textLength=\"45\" x=\"63.95\" y=\"28.5352\">ISubject</text><line style=\"stroke: #A80036; stroke-width: 1.5;\" x1=\"9\" x2=\"133\" y1=\"40\" y2=\"40\"/><line style=\"stroke: #A80036; stroke-width: 1.5;\" x1=\"9\" x2=\"133\" y1=\"48\" y2=\"48\"/><ellipse cx=\"19\" cy=\"59.9775\" fill=\"#84BE84\" rx=\"3\" ry=\"3\" style=\"stroke: #038048; stroke-width: 1.0;\"/><text fill=\"#000000\" font-family=\"sans-serif\" font-size=\"11\" lengthAdjust=\"spacingAndGlyphs\" textLength=\"100\" x=\"28\" y=\"62.6348\">registerObserver()</text><ellipse cx=\"19\" cy=\"72.9326\" fill=\"#84BE84\" rx=\"3\" ry=\"3\" style=\"stroke: #038048; stroke-width: 1.0;\"/><text fill=\"#000000\" font-family=\"sans-serif\" font-size=\"11\" lengthAdjust=\"spacingAndGlyphs\" textLength=\"98\" x=\"28\" y=\"75.5898\">removeObserver()</text><ellipse cx=\"19\" cy=\"85.8877\" fill=\"#84BE84\" rx=\"3\" ry=\"3\" style=\"stroke: #038048; stroke-width: 1.0;\"/><text fill=\"#000000\" font-family=\"sans-serif\" font-size=\"11\" lengthAdjust=\"spacingAndGlyphs\" textLength=\"95\" x=\"28\" y=\"88.5449\">notifyObservers()</text><rect fill=\"#FEFECE\" filter=\"url(#f1)\" height=\"60.9551\" style=\"stroke: #A80036; stroke-width: 1.5;\" width=\"88\" x=\"192\" y=\"21\"/><ellipse cx=\"207\" cy=\"37\" fill=\"#B4A7E5\" rx=\"11\" ry=\"11\" style=\"stroke: #A80036; stroke-width: 1.0;\"/><path d=\"M202.9277,32.7651 L202.9277,30.6069 L210.3071,30.6069 L210.3071,32.7651 L207.8418,32.7651 L207.8418,40.8418 L210.3071,40.8418 L210.3071,43 L202.9277,43 L202.9277,40.8418 L205.3931,40.8418 L205.3931,32.7651 Z \"/><text fill=\"#000000\" font-family=\"sans-serif\" font-size=\"12\" font-style=\"italic\" lengthAdjust=\"spacingAndGlyphs\" textLength=\"56\" x=\"221\" y=\"41.5352\">IObserver</text><line style=\"stroke: #A80036; stroke-width: 1.5;\" x1=\"193\" x2=\"279\" y1=\"53\" y2=\"53\"/><line style=\"stroke: #A80036; stroke-width: 1.5;\" x1=\"193\" x2=\"279\" y1=\"61\" y2=\"61\"/><ellipse cx=\"203\" cy=\"72.9775\" fill=\"#84BE84\" rx=\"3\" ry=\"3\" style=\"stroke: #038048; stroke-width: 1.0;\"/><text fill=\"#000000\" font-family=\"sans-serif\" font-size=\"11\" lengthAdjust=\"spacingAndGlyphs\" textLength=\"45\" x=\"212\" y=\"75.6348\">update()</text><rect fill=\"#FEFECE\" filter=\"url(#f1)\" height=\"48\" style=\"stroke: #A80036; stroke-width: 1.5;\" width=\"106\" x=\"6\" y=\"155\"/><ellipse cx=\"21\" cy=\"171\" fill=\"#ADD1B2\" rx=\"11\" ry=\"11\" style=\"stroke: #A80036; stroke-width: 1.0;\"/><path d=\"M23.9731,176.6431 Q23.3921,176.9419 22.7529,177.0913 Q22.1138,177.2407 21.4082,177.2407 Q18.9014,177.2407 17.5815,175.5889 Q16.2617,173.937 16.2617,170.8159 Q16.2617,167.6865 17.5815,166.0347 Q18.9014,164.3828 21.4082,164.3828 Q22.1138,164.3828 22.7612,164.5322 Q23.4087,164.6816 23.9731,164.9805 L23.9731,167.7031 Q23.3423,167.1221 22.7488,166.8523 Q22.1553,166.5825 21.5244,166.5825 Q20.1797,166.5825 19.4949,167.6492 Q18.8101,168.7158 18.8101,170.8159 Q18.8101,172.9077 19.4949,173.9744 Q20.1797,175.041 21.5244,175.041 Q22.1553,175.041 22.7488,174.7712 Q23.3423,174.5015 23.9731,173.9204 Z \"/><text fill=\"#000000\" font-family=\"sans-serif\" font-size=\"12\" lengthAdjust=\"spacingAndGlyphs\" textLength=\"74\" x=\"35\" y=\"175.5352\">WeatherData</text><line style=\"stroke: #A80036; stroke-width: 1.5;\" x1=\"7\" x2=\"111\" y1=\"187\" y2=\"187\"/><line style=\"stroke: #A80036; stroke-width: 1.5;\" x1=\"7\" x2=\"111\" y1=\"195\" y2=\"195\"/><rect fill=\"#FEFECE\" filter=\"url(#f1)\" height=\"48\" style=\"stroke: #A80036; stroke-width: 1.5;\" width=\"202\" x=\"147\" y=\"155\"/><ellipse cx=\"162\" cy=\"171\" fill=\"#ADD1B2\" rx=\"11\" ry=\"11\" style=\"stroke: #A80036; stroke-width: 1.0;\"/><path d=\"M164.9731,176.6431 Q164.3921,176.9419 163.7529,177.0913 Q163.1138,177.2407 162.4082,177.2407 Q159.9014,177.2407 158.5815,175.5889 Q157.2617,173.937 157.2617,170.8159 Q157.2617,167.6865 158.5815,166.0347 Q159.9014,164.3828 162.4082,164.3828 Q163.1138,164.3828 163.7612,164.5322 Q164.4087,164.6816 164.9731,164.9805 L164.9731,167.7031 Q164.3423,167.1221 163.7488,166.8523 Q163.1553,166.5825 162.5244,166.5825 Q161.1797,166.5825 160.4949,167.6492 Q159.8101,168.7158 159.8101,170.8159 Q159.8101,172.9077 160.4949,173.9744 Q161.1797,175.041 162.5244,175.041 Q163.1553,175.041 163.7488,174.7712 Q164.3423,174.5015 164.9731,173.9204 Z \"/><text fill=\"#000000\" font-family=\"sans-serif\" font-size=\"12\" lengthAdjust=\"spacingAndGlyphs\" textLength=\"170\" x=\"176\" y=\"175.5352\">BroadcastingCompanyDisplay</text><line style=\"stroke: #A80036; stroke-width: 1.5;\" x1=\"148\" x2=\"348\" y1=\"187\" y2=\"187\"/><line style=\"stroke: #A80036; stroke-width: 1.5;\" x1=\"148\" x2=\"348\" y1=\"195\" y2=\"195\"/><path d=\"M134.164,51.5 C151.588,51.5 169.013,51.5 186.437,51.5 \" fill=\"none\" style=\"stroke: #A80036; stroke-width: 1.0;\"/><polygon fill=\"#A80036\" points=\"191.845,51.5,182.845,47.5,186.845,51.5,182.845,55.5,191.845,51.5\" style=\"stroke: #A80036; stroke-width: 1.0;\"/><path d=\"M64.9716,115.5467 C63.6325,129.5515 62.2953,143.5365 61.2268,154.7115 \" fill=\"none\" style=\"stroke: #A80036; stroke-width: 1.0;\"/><polygon fill=\"none\" points=\"58.0319,114.5818,66.9038,95.339,71.9683,115.9145,58.0319,114.5818\" style=\"stroke: #A80036; stroke-width: 1.0;\"/><path d=\"M240.771,102.401 C242.5,120.4795 244.371,140.0449 245.776,154.7412 \" fill=\"none\" style=\"stroke: #A80036; stroke-width: 1.0;\"/><polygon fill=\"none\" points=\"233.779,102.817,238.844,82.242,247.716,101.485,233.779,102.817\" style=\"stroke: #A80036; stroke-width: 1.0;\"/><path d=\"M117.315,179 C127.181,179 137.047,179 146.913,179 \" fill=\"none\" style=\"stroke: #A80036; stroke-width: 1.0;\"/><polygon fill=\"#A80036\" points=\"112.156,179,121.156,183,117.156,179,121.156,175,112.156,179\" style=\"stroke: #A80036; stroke-width: 1.0;\"/></g></svg>"
      ],
      "text/plain": [
       "<IPython.core.display.SVG object>"
      ]
     },
     "execution_count": 11,
     "metadata": {},
     "output_type": "execute_result"
    }
   ],
   "source": [
    "%%plantuml\n",
    "\n",
    "@startuml\n",
    "\n",
    "ISubject -right-> IObserver\n",
    "ISubject <|-- WeatherData\n",
    "IObserver <|-- BroadcastingCompanyDisplay\n",
    "WeatherData <-left- BroadcastingCompanyDisplay\n",
    "\n",
    "Interface ISubject {\n",
    "    +registerObserver()\n",
    "    +removeObserver()\n",
    "    +notifyObservers()\n",
    "}\n",
    "\n",
    "Interface IObserver {\n",
    "    +update()\n",
    "}\n",
    "@enduml"
   ]
  },
  {
   "cell_type": "markdown",
   "metadata": {
    "slideshow": {
     "slide_type": "slide"
    }
   },
   "source": [
    "# 6. Example\n",
    "\n",
    "* 객체에서 나누어지는 서로 다른 기능이 있는 경우, 인터페이스로 분리\n",
    "* 교재 HFDP Ch2 'Weather'"
   ]
  },
  {
   "cell_type": "code",
   "execution_count": 12,
   "metadata": {
    "collapsed": false,
    "slideshow": {
     "slide_type": "slide"
    }
   },
   "outputs": [
    {
     "data": {
      "image/svg+xml": [
       "<svg height=\"357px\" style=\"width:669px;height:357px;\" version=\"1.1\" viewBox=\"0 0 669 357\" width=\"669px\" xmlns=\"http://www.w3.org/2000/svg\" xmlns:xlink=\"http://www.w3.org/1999/xlink\"><defs><filter height=\"300%\" id=\"f1\" width=\"300%\" x=\"-1\" y=\"-1\"><feGaussianBlur result=\"blurOut\" stdDeviation=\"2.0\"/><feColorMatrix in=\"blurOut\" result=\"blurOut2\" type=\"matrix\" values=\"0 0 0 0 0 0 0 0 0 0 0 0 0 0 0 0 0 0 .4 0\"/><feOffset dx=\"4.0\" dy=\"4.0\" in=\"blurOut2\" result=\"blurOut3\"/><feBlend in=\"SourceGraphic\" in2=\"blurOut3\" mode=\"normal\"/></filter></defs><g><line style=\"stroke: #A80036; stroke-width: 1.0; stroke-dasharray: 5.0,5.0;\" x1=\"69\" x2=\"69\" y1=\"38.4883\" y2=\"318.9727\"/><line style=\"stroke: #A80036; stroke-width: 1.0; stroke-dasharray: 5.0,5.0;\" x1=\"176\" x2=\"176\" y1=\"38.4883\" y2=\"318.9727\"/><line style=\"stroke: #A80036; stroke-width: 1.0; stroke-dasharray: 5.0,5.0;\" x1=\"309.5\" x2=\"309.5\" y1=\"38.4883\" y2=\"318.9727\"/><line style=\"stroke: #A80036; stroke-width: 1.0; stroke-dasharray: 5.0,5.0;\" x1=\"492\" x2=\"492\" y1=\"38.4883\" y2=\"318.9727\"/><line style=\"stroke: #A80036; stroke-width: 1.0; stroke-dasharray: 5.0,5.0;\" x1=\"604\" x2=\"604\" y1=\"38.4883\" y2=\"318.9727\"/><rect fill=\"#FEFECE\" filter=\"url(#f1)\" height=\"30.4883\" style=\"stroke: #A80036; stroke-width: 1.5;\" width=\"118\" x=\"8\" y=\"3\"/><text fill=\"#000000\" font-family=\"sans-serif\" font-size=\"14\" lengthAdjust=\"spacingAndGlyphs\" textLength=\"104\" x=\"15\" y=\"23.5352\">WeatherStation</text><rect fill=\"#FEFECE\" filter=\"url(#f1)\" height=\"30.4883\" style=\"stroke: #A80036; stroke-width: 1.5;\" width=\"118\" x=\"8\" y=\"317.9727\"/><text fill=\"#000000\" font-family=\"sans-serif\" font-size=\"14\" lengthAdjust=\"spacingAndGlyphs\" textLength=\"104\" x=\"15\" y=\"338.5078\">WeatherStation</text><rect fill=\"#FEFECE\" filter=\"url(#f1)\" height=\"30.4883\" style=\"stroke: #A80036; stroke-width: 1.5;\" width=\"68\" x=\"140\" y=\"3\"/><text fill=\"#000000\" font-family=\"sans-serif\" font-size=\"14\" lengthAdjust=\"spacingAndGlyphs\" textLength=\"54\" x=\"147\" y=\"23.5352\">ISubject</text><rect fill=\"#FEFECE\" filter=\"url(#f1)\" height=\"30.4883\" style=\"stroke: #A80036; stroke-width: 1.5;\" width=\"68\" x=\"140\" y=\"317.9727\"/><text fill=\"#000000\" font-family=\"sans-serif\" font-size=\"14\" lengthAdjust=\"spacingAndGlyphs\" textLength=\"54\" x=\"147\" y=\"338.5078\">ISubject</text><rect fill=\"#FEFECE\" filter=\"url(#f1)\" height=\"30.4883\" style=\"stroke: #A80036; stroke-width: 1.5;\" width=\"101\" x=\"257.5\" y=\"3\"/><text fill=\"#000000\" font-family=\"sans-serif\" font-size=\"14\" lengthAdjust=\"spacingAndGlyphs\" textLength=\"87\" x=\"264.5\" y=\"23.5352\">WeatherData</text><rect fill=\"#FEFECE\" filter=\"url(#f1)\" height=\"30.4883\" style=\"stroke: #A80036; stroke-width: 1.5;\" width=\"101\" x=\"257.5\" y=\"317.9727\"/><text fill=\"#000000\" font-family=\"sans-serif\" font-size=\"14\" lengthAdjust=\"spacingAndGlyphs\" textLength=\"87\" x=\"264.5\" y=\"338.5078\">WeatherData</text><rect fill=\"#FEFECE\" filter=\"url(#f1)\" height=\"30.4883\" style=\"stroke: #A80036; stroke-width: 1.5;\" width=\"80\" x=\"450\" y=\"3\"/><text fill=\"#000000\" font-family=\"sans-serif\" font-size=\"14\" lengthAdjust=\"spacingAndGlyphs\" textLength=\"66\" x=\"457\" y=\"23.5352\">IObserver</text><rect fill=\"#FEFECE\" filter=\"url(#f1)\" height=\"30.4883\" style=\"stroke: #A80036; stroke-width: 1.5;\" width=\"80\" x=\"450\" y=\"317.9727\"/><text fill=\"#000000\" font-family=\"sans-serif\" font-size=\"14\" lengthAdjust=\"spacingAndGlyphs\" textLength=\"66\" x=\"457\" y=\"338.5078\">IObserver</text><rect fill=\"#FEFECE\" filter=\"url(#f1)\" height=\"30.4883\" style=\"stroke: #A80036; stroke-width: 1.5;\" width=\"116\" x=\"544\" y=\"3\"/><text fill=\"#000000\" font-family=\"sans-serif\" font-size=\"14\" lengthAdjust=\"spacingAndGlyphs\" textLength=\"102\" x=\"551\" y=\"23.5352\">CurrentDisplay</text><rect fill=\"#FEFECE\" filter=\"url(#f1)\" height=\"30.4883\" style=\"stroke: #A80036; stroke-width: 1.5;\" width=\"116\" x=\"544\" y=\"317.9727\"/><text fill=\"#000000\" font-family=\"sans-serif\" font-size=\"14\" lengthAdjust=\"spacingAndGlyphs\" textLength=\"102\" x=\"551\" y=\"338.5078\">CurrentDisplay</text><polygon fill=\"#A80036\" points=\"298,65.4883,308,69.4883,298,73.4883,302,69.4883\" style=\"stroke: #A80036; stroke-width: 1.0;\"/><line style=\"stroke: #A80036; stroke-width: 1.0;\" x1=\"69\" x2=\"304\" y1=\"69.4883\" y2=\"69.4883\"/><text fill=\"#000000\" font-family=\"sans-serif\" font-size=\"13\" font-weight=\"bold\" lengthAdjust=\"spacingAndGlyphs\" textLength=\"9\" x=\"76\" y=\"65.0566\">1</text><text fill=\"#000000\" font-family=\"sans-serif\" font-size=\"13\" lengthAdjust=\"spacingAndGlyphs\" textLength=\"121\" x=\"89\" y=\"65.0566\">weatherData=new()</text><polygon fill=\"#A80036\" points=\"592,94.7988,602,98.7988,592,102.7988,596,98.7988\" style=\"stroke: #A80036; stroke-width: 1.0;\"/><line style=\"stroke: #A80036; stroke-width: 1.0;\" x1=\"69\" x2=\"598\" y1=\"98.7988\" y2=\"98.7988\"/><text fill=\"#000000\" font-family=\"sans-serif\" font-size=\"13\" font-weight=\"bold\" lengthAdjust=\"spacingAndGlyphs\" textLength=\"9\" x=\"76\" y=\"94.3672\">2</text><text fill=\"#000000\" font-family=\"sans-serif\" font-size=\"13\" lengthAdjust=\"spacingAndGlyphs\" textLength=\"213\" x=\"89\" y=\"94.3672\">currentDisplay=new(weatherData)</text><polygon fill=\"#A80036\" points=\"298,124.1094,308,128.1094,298,132.1094,302,128.1094\" style=\"stroke: #A80036; stroke-width: 1.0;\"/><line style=\"stroke: #A80036; stroke-width: 1.0;\" x1=\"69\" x2=\"304\" y1=\"128.1094\" y2=\"128.1094\"/><text fill=\"#000000\" font-family=\"sans-serif\" font-size=\"13\" font-weight=\"bold\" lengthAdjust=\"spacingAndGlyphs\" textLength=\"9\" x=\"76\" y=\"123.6777\">3</text><text fill=\"#000000\" font-family=\"sans-serif\" font-size=\"13\" lengthAdjust=\"spacingAndGlyphs\" textLength=\"204\" x=\"89\" y=\"123.6777\">registerObserver(currentDisplay)</text><polygon fill=\"#A80036\" points=\"298,153.4199,308,157.4199,298,161.4199,302,157.4199\" style=\"stroke: #A80036; stroke-width: 1.0;\"/><line style=\"stroke: #A80036; stroke-width: 1.0;\" x1=\"69\" x2=\"304\" y1=\"157.4199\" y2=\"157.4199\"/><text fill=\"#000000\" font-family=\"sans-serif\" font-size=\"13\" font-weight=\"bold\" lengthAdjust=\"spacingAndGlyphs\" textLength=\"9\" x=\"76\" y=\"152.9883\">4</text><text fill=\"#000000\" font-family=\"sans-serif\" font-size=\"13\" lengthAdjust=\"spacingAndGlyphs\" textLength=\"118\" x=\"89\" y=\"152.9883\">setMeasurements()</text><line style=\"stroke: #A80036; stroke-width: 1.0;\" x1=\"310\" x2=\"352\" y1=\"187.041\" y2=\"187.041\"/><line style=\"stroke: #A80036; stroke-width: 1.0;\" x1=\"352\" x2=\"352\" y1=\"187.041\" y2=\"200.041\"/><line style=\"stroke: #A80036; stroke-width: 1.0;\" x1=\"311\" x2=\"352\" y1=\"200.041\" y2=\"200.041\"/><polygon fill=\"#A80036\" points=\"321,196.041,311,200.041,321,204.041,317,200.041\" style=\"stroke: #A80036; stroke-width: 1.0;\"/><text fill=\"#000000\" font-family=\"sans-serif\" font-size=\"13\" font-weight=\"bold\" lengthAdjust=\"spacingAndGlyphs\" textLength=\"9\" x=\"317\" y=\"182.2988\">5</text><text fill=\"#000000\" font-family=\"sans-serif\" font-size=\"13\" lengthAdjust=\"spacingAndGlyphs\" textLength=\"155\" x=\"330\" y=\"182.2988\">measurementsChanged()</text><line style=\"stroke: #A80036; stroke-width: 1.0;\" x1=\"310\" x2=\"352\" y1=\"229.3516\" y2=\"229.3516\"/><line style=\"stroke: #A80036; stroke-width: 1.0;\" x1=\"352\" x2=\"352\" y1=\"229.3516\" y2=\"242.3516\"/><line style=\"stroke: #A80036; stroke-width: 1.0;\" x1=\"311\" x2=\"352\" y1=\"242.3516\" y2=\"242.3516\"/><polygon fill=\"#A80036\" points=\"321,238.3516,311,242.3516,321,246.3516,317,242.3516\" style=\"stroke: #A80036; stroke-width: 1.0;\"/><text fill=\"#000000\" font-family=\"sans-serif\" font-size=\"13\" font-weight=\"bold\" lengthAdjust=\"spacingAndGlyphs\" textLength=\"9\" x=\"317\" y=\"224.6094\">6</text><text fill=\"#000000\" font-family=\"sans-serif\" font-size=\"13\" lengthAdjust=\"spacingAndGlyphs\" textLength=\"108\" x=\"330\" y=\"224.6094\">notifyObservers()</text><polygon fill=\"#A80036\" points=\"592,267.3516,602,271.3516,592,275.3516,596,271.3516\" style=\"stroke: #A80036; stroke-width: 1.0;\"/><line style=\"stroke: #A80036; stroke-width: 1.0;\" x1=\"310\" x2=\"598\" y1=\"271.3516\" y2=\"271.3516\"/><text fill=\"#000000\" font-family=\"sans-serif\" font-size=\"13\" font-weight=\"bold\" lengthAdjust=\"spacingAndGlyphs\" textLength=\"9\" x=\"317\" y=\"266.9199\">7</text><text fill=\"#000000\" font-family=\"sans-serif\" font-size=\"13\" lengthAdjust=\"spacingAndGlyphs\" textLength=\"51\" x=\"330\" y=\"266.9199\">update()</text><polygon fill=\"#A80036\" points=\"321,296.6621,311,300.6621,321,304.6621,317,300.6621\" style=\"stroke: #A80036; stroke-width: 1.0;\"/><line style=\"stroke: #A80036; stroke-width: 1.0;\" x1=\"315\" x2=\"603\" y1=\"300.6621\" y2=\"300.6621\"/><text fill=\"#000000\" font-family=\"sans-serif\" font-size=\"13\" font-weight=\"bold\" lengthAdjust=\"spacingAndGlyphs\" textLength=\"9\" x=\"327\" y=\"296.2305\">8</text><text fill=\"#000000\" font-family=\"sans-serif\" font-size=\"13\" lengthAdjust=\"spacingAndGlyphs\" textLength=\"57\" x=\"340\" y=\"296.2305\">getData()</text></g></svg>"
      ],
      "text/plain": [
       "<IPython.core.display.SVG object>"
      ]
     },
     "execution_count": 12,
     "metadata": {},
     "output_type": "execute_result"
    }
   ],
   "source": [
    "%%plantuml\n",
    "\n",
    "@startuml\n",
    "participant WeatherStation\n",
    "participant ISubject\n",
    "participant WeatherData\n",
    "participant IObserver\n",
    "participant CurrentDisplay\n",
    "\n",
    "autonumber\n",
    "WeatherStation -> WeatherData:weatherData=new()\n",
    "WeatherStation -> CurrentDisplay:currentDisplay=new(weatherData)\n",
    "WeatherStation -> WeatherData:registerObserver(currentDisplay)\n",
    "WeatherStation -> WeatherData:setMeasurements()\n",
    "WeatherData -> WeatherData:measurementsChanged()\n",
    "WeatherData -> WeatherData:notifyObservers()\n",
    "WeatherData -> CurrentDisplay:update()\n",
    "CurrentDisplay -> WeatherData:getData()\n",
    "@enduml"
   ]
  },
  {
   "cell_type": "code",
   "execution_count": null,
   "metadata": {
    "collapsed": true
   },
   "outputs": [],
   "source": [
    "# %load /Users/media/Code/git/sd/src/headfirst/observer/weather/Subject.java\n",
    "package headfirst.observer.weather;\n",
    "\n",
    "public interface Subject {\n",
    "\tpublic void registerObserver(Observer o);\n",
    "\tpublic void removeObserver(Observer o);\n",
    "\tpublic void notifyObservers();\n",
    "}\n"
   ]
  },
  {
   "cell_type": "code",
   "execution_count": null,
   "metadata": {
    "collapsed": true
   },
   "outputs": [],
   "source": [
    "# %load /Users/media/Code/git/sd/src/headfirst/observer/weather/Observer.java\n",
    "package headfirst.observer.weather;\n",
    "\n",
    "public interface Observer {\n",
    "\tpublic void update(float temp, float humidity, float pressure);\n",
    "}\n"
   ]
  },
  {
   "cell_type": "code",
   "execution_count": null,
   "metadata": {
    "collapsed": false,
    "slideshow": {
     "slide_type": "slide"
    }
   },
   "outputs": [],
   "source": [
    "# %load /Users/media/Code/git/sd/src/headfirst/observer/weather/WeatherData.java\n",
    "package headfirst.observer.weather;\n",
    "\n",
    "import java.util.*;\n",
    "\n",
    "public class WeatherData implements Subject {\n",
    "\tprivate ArrayList observers;\n",
    "\tprivate float temperature;\n",
    "\tprivate float humidity;\n",
    "\tprivate float pressure;\n",
    "\t\n",
    "\tpublic WeatherData() {\n",
    "\t\tobservers = new ArrayList();\n",
    "\t}\n",
    "\t\n",
    "\tpublic void registerObserver(Observer o) {\n",
    "\t\tobservers.add(o);\n",
    "\t}\n",
    "\t\n",
    "\tpublic void removeObserver(Observer o) {\n",
    "\t\tint i = observers.indexOf(o);\n",
    "\t\tif (i >= 0) {\n",
    "\t\t\tobservers.remove(i);\n",
    "\t\t}\n",
    "\t}\n",
    "\t\n",
    "\tpublic void notifyObservers() {\n",
    "\t\tfor (int i = 0; i < observers.size(); i++) {\n",
    "\t\t\tObserver observer = (Observer)observers.get(i);\n",
    "\t\t\tobserver.update(temperature, humidity, pressure);\n",
    "\t\t}\n",
    "\t}\n",
    "\t\n",
    "\tpublic void measurementsChanged() {\n",
    "\t\tnotifyObservers();\n",
    "\t}\n",
    "\t\n",
    "\tpublic void setMeasurements(float temperature, float humidity, float pressure) {\n",
    "\t\tthis.temperature = temperature;\n",
    "\t\tthis.humidity = humidity;\n",
    "\t\tthis.pressure = pressure;\n",
    "\t\tmeasurementsChanged();\n",
    "\t}\n",
    "\t\n",
    "\tpublic float getTemperature() {\n",
    "\t\treturn temperature;\n",
    "\t}\n",
    "\t\n",
    "\tpublic float getHumidity() {\n",
    "\t\treturn humidity;\n",
    "\t}\n",
    "\t\n",
    "\tpublic float getPressure() {\n",
    "\t\treturn pressure;\n",
    "\t}\n",
    "}\n"
   ]
  },
  {
   "cell_type": "code",
   "execution_count": null,
   "metadata": {
    "collapsed": true
   },
   "outputs": [],
   "source": [
    "# %load /Users/media/Code/git/sd/src/headfirst/observer/weather/CurrentConditionsDisplay.java\n",
    "package headfirst.observer.weather;\n",
    "\t\n",
    "public class CurrentConditionsDisplay implements Observer, DisplayElement {\n",
    "\tprivate float temperature;\n",
    "\tprivate float humidity;\n",
    "\tprivate Subject weatherData;\n",
    "\t\n",
    "\tpublic CurrentConditionsDisplay(Subject weatherData) {\n",
    "\t\tthis.weatherData = weatherData;\n",
    "\t\tweatherData.registerObserver(this);\n",
    "\t}\n",
    "\t\n",
    "\tpublic void update(float temperature, float humidity, float pressure) {\n",
    "\t\tthis.temperature = temperature;\n",
    "\t\tthis.humidity = humidity;\n",
    "\t\tdisplay();\n",
    "\t}\n",
    "\t\n",
    "\tpublic void display() {\n",
    "\t\tSystem.out.println(\"Current conditions: \" + temperature \n",
    "\t\t\t+ \"F degrees and \" + humidity + \"% humidity\");\n",
    "\t}\n",
    "}\n"
   ]
  },
  {
   "cell_type": "code",
   "execution_count": null,
   "metadata": {
    "collapsed": true
   },
   "outputs": [],
   "source": [
    "# %load /Users/media/Code/git/sd/src/headfirst/observer/weather/WeatherStation.java\n",
    "package headfirst.observer.weather;\n",
    "\n",
    "import java.util.*;\n",
    "\n",
    "public class WeatherStation {\n",
    "\n",
    "\tpublic static void main(String[] args) {\n",
    "\t\tWeatherData weatherData = new WeatherData();\n",
    "\t\n",
    "\t\tCurrentConditionsDisplay currentDisplay = \n",
    "\t\t\tnew CurrentConditionsDisplay(weatherData);\n",
    "\t\tStatisticsDisplay statisticsDisplay = new StatisticsDisplay(weatherData);\n",
    "\t\tForecastDisplay forecastDisplay = new ForecastDisplay(weatherData);\n",
    "\n",
    "\t\tweatherData.setMeasurements(80, 65, 30.4f);\n",
    "\t\tweatherData.setMeasurements(82, 70, 29.2f);\n",
    "\t\tweatherData.setMeasurements(78, 90, 29.2f);\n",
    "\t}\n",
    "}\n"
   ]
  },
  {
   "cell_type": "code",
   "execution_count": null,
   "metadata": {
    "collapsed": true
   },
   "outputs": [],
   "source": [
    "# %load /Users/media/Code/git/sd/src/headfirst/strategy/FlyRocketPowered.java\n",
    "package headfirst.strategy;\n",
    "\n",
    "public class FlyRocketPowered implements FlyBehavior {\n",
    "\tpublic void fly() {\n",
    "\t\tSystem.out.println(\"I'm flying with a rocket\");\n",
    "\t}\n",
    "}\n"
   ]
  },
  {
   "cell_type": "code",
   "execution_count": 13,
   "metadata": {
    "collapsed": false
   },
   "outputs": [
    {
     "data": {
      "text/plain": [
       "u'/Users/media/Dropbox/Me/toCopy/smu'"
      ]
     },
     "execution_count": 13,
     "metadata": {},
     "output_type": "execute_result"
    }
   ],
   "source": [
    "%pwd"
   ]
  },
  {
   "cell_type": "code",
   "execution_count": 16,
   "metadata": {
    "collapsed": false
   },
   "outputs": [
    {
     "name": "stdout",
     "output_type": "stream",
     "text": [
      "/Users/media/Code/git/sd\n",
      "javac: file not found: src/headfirst/observer/weather/*.java\n",
      "Usage: javac <options> <source files>\n",
      "use -help for a list of possible options\n",
      "오류: 기본 클래스 headfirst.observer.weather.WeatherStation을(를) 찾거나 로드할 수 없습니다.\n"
     ]
    }
   ],
   "source": [
    "# change to the root directory\n",
    "!javac -d classes/ -sourcepath src src/headfirst/observer/weather/*.java\n",
    "!java -cp classes/ headfirst.observer.weather.WeatherStation"
   ]
  }
 ],
 "metadata": {
  "celltoolbar": "Slideshow",
  "kernelspec": {
   "display_name": "Python 2",
   "language": "python",
   "name": "python2"
  },
  "language_info": {
   "codemirror_mode": {
    "name": "ipython",
    "version": 2
   },
   "file_extension": ".py",
   "mimetype": "text/x-python",
   "name": "python",
   "nbconvert_exporter": "python",
   "pygments_lexer": "ipython2",
   "version": "2.7.10"
  }
 },
 "nbformat": 4,
 "nbformat_minor": 0
}
