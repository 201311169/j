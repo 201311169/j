{
 "cells": [
  {
   "cell_type": "markdown",
   "metadata": {
    "slideshow": {
     "slide_type": "slide"
    }
   },
   "source": [
    "# Observer 패턴\n",
    "\n",
    "## O.1 소개\n",
    "\n",
    "* Observer 패턴은 Behavioral Design Pattern\n",
    "* 알람을 설정해 놓고, 시간이 되면 알려주는 경우\n",
    "\n",
    "* 디자인패턴 요소\n",
    "\n",
    "요소 | 설명\n",
    "---|---\n",
    "name | Observer\n",
    "problem | 1:n관계에서의 정보 갱신\n",
    "solution | 정보사용자를 등록하고, 정보가 변동하는 경우 알려줌.\n",
    "consequence | loose coupling, 확장성\n",
    "\n",
    "* 사례\n",
    "    * 'Weather' (HFDP Ch2)\n",
    "    * Turtle - 아기거북이가 어디로 가면, 엄마거북이가 다른 곳에 있더라도 쫓아 간다.\n"
   ]
  },
  {
   "cell_type": "markdown",
   "metadata": {
    "slideshow": {
     "slide_type": "slide"
    }
   },
   "source": [
    "## O.2 문제\n",
    "\n",
    "* 누군가에 대해(정보공급자) 알고 싶어하는 다수의 사용자가 존재. 1:n 관계.\n",
    "* 그 사용자가 늘어날수록, 알려주는 문제\n",
    "* 확장성 문제\n",
    "    * 사용자를 추가하거나, 해제하는 문제\n",
    "    * 정보를 갱신하는 방법이 바뀌면, 사용자에게 알려주는 방법도 변경되어야 한다.\n",
    "\n",
    "* polling - 데이터를 원하는 측 (정보사용자)이 계속 묻는다\n",
    "* 비효율적 - 통화중인데 계속 전화를 거는 것"
   ]
  },
  {
   "cell_type": "markdown",
   "metadata": {
    "slideshow": {
     "slide_type": "slide"
    }
   },
   "source": [
    "## O.3 설계\n",
    "\n",
    "* 인터페이스 분리 (ISP Interface Segregation Principle)\n",
    "* 구체적인 클래스 상속\n",
    "* 클라이언트는 구체클래스 보다는 추상적 클래스 사용\n",
    "* Subject\n",
    "    * Observable, Publisher\n",
    "    * 상태가 변경이 되면 알림 기능 (notify)\n",
    "    * 알림 대상이 되는 Observer를 사전에 등록 (register)\n",
    "* Observers\n",
    "    * Subscriber\n",
    "    * Subject의 상태가 변경이 되면 그 내용을 받아서 반영함 (update)\n",
    "\n",
    "* 효과\n",
    "    * 데이터를 원하는 display는 등록하고 기다린다\n",
    "    * 통화중이면 전화를 또 걸지 않고 '전화 자동발신'하고 다른 작업을 함"
   ]
  },
  {
   "cell_type": "code",
   "execution_count": 1,
   "metadata": {
    "collapsed": true,
    "slideshow": {
     "slide_type": "subslide"
    }
   },
   "outputs": [],
   "source": [
    "import iplantuml"
   ]
  },
  {
   "cell_type": "code",
   "execution_count": 3,
   "metadata": {
    "collapsed": false,
    "slideshow": {
     "slide_type": "subslide"
    }
   },
   "outputs": [
    {
     "data": {
      "image/svg+xml": [
       "<svg height=\"211px\" style=\"width:381px;height:211px;\" version=\"1.1\" viewBox=\"0 0 381 211\" width=\"381px\" xmlns=\"http://www.w3.org/2000/svg\" xmlns:xlink=\"http://www.w3.org/1999/xlink\"><defs><filter height=\"300%\" id=\"f1\" width=\"300%\" x=\"-1\" y=\"-1\"><feGaussianBlur result=\"blurOut\" stdDeviation=\"2.0\"/><feColorMatrix in=\"blurOut\" result=\"blurOut2\" type=\"matrix\" values=\"0 0 0 0 0 0 0 0 0 0 0 0 0 0 0 0 0 0 .4 0\"/><feOffset dx=\"4.0\" dy=\"4.0\" in=\"blurOut2\" result=\"blurOut3\"/><feBlend in=\"SourceGraphic\" in2=\"blurOut3\" mode=\"normal\"/></filter></defs><g><rect fill=\"#FEFECE\" filter=\"url(#f1)\" height=\"86.4141\" style=\"stroke: #A80036; stroke-width: 1.5;\" width=\"132\" x=\"11.5\" y=\"8\"/><ellipse cx=\"48.55\" cy=\"24\" fill=\"#B4A7E5\" rx=\"11\" ry=\"11\" style=\"stroke: #A80036; stroke-width: 1.0;\"/><path d=\"M44.4719,19.7656 L44.4719,17.6094 L51.8625,17.6094 L51.8625,19.7656 L49.3938,19.7656 L49.3938,27.8438 L51.8625,27.8438 L51.8625,30 L44.4719,30 L44.4719,27.8438 L46.9406,27.8438 L46.9406,19.7656 L44.4719,19.7656 Z \"/><text fill=\"#000000\" font-family=\"sans-serif\" font-size=\"12\" font-style=\"italic\" lengthAdjust=\"spacingAndGlyphs\" textLength=\"51\" x=\"67.45\" y=\"28.1543\">ISubject</text><line style=\"stroke: #A80036; stroke-width: 1.5;\" x1=\"12.5\" x2=\"142.5\" y1=\"40\" y2=\"40\"/><line style=\"stroke: #A80036; stroke-width: 1.5;\" x1=\"12.5\" x2=\"142.5\" y1=\"48\" y2=\"48\"/><ellipse cx=\"22.5\" cy=\"59.9023\" fill=\"#84BE84\" rx=\"3\" ry=\"3\" style=\"stroke: #038048; stroke-width: 1.0;\"/><text fill=\"#000000\" font-family=\"sans-serif\" font-size=\"11\" lengthAdjust=\"spacingAndGlyphs\" textLength=\"106\" x=\"31.5\" y=\"62.2104\">registerObserver()</text><ellipse cx=\"22.5\" cy=\"72.707\" fill=\"#84BE84\" rx=\"3\" ry=\"3\" style=\"stroke: #038048; stroke-width: 1.0;\"/><text fill=\"#000000\" font-family=\"sans-serif\" font-size=\"11\" lengthAdjust=\"spacingAndGlyphs\" textLength=\"104\" x=\"31.5\" y=\"75.0151\">removeObserver()</text><ellipse cx=\"22.5\" cy=\"85.5117\" fill=\"#84BE84\" rx=\"3\" ry=\"3\" style=\"stroke: #038048; stroke-width: 1.0;\"/><text fill=\"#000000\" font-family=\"sans-serif\" font-size=\"11\" lengthAdjust=\"spacingAndGlyphs\" textLength=\"99\" x=\"31.5\" y=\"87.8198\">notifyObservers()</text><rect fill=\"#FEFECE\" filter=\"url(#f1)\" height=\"60.8047\" style=\"stroke: #A80036; stroke-width: 1.5;\" width=\"90\" x=\"205.5\" y=\"20.5\"/><ellipse cx=\"220.5\" cy=\"36.5\" fill=\"#B4A7E5\" rx=\"11\" ry=\"11\" style=\"stroke: #A80036; stroke-width: 1.0;\"/><path d=\"M216.4219,32.2656 L216.4219,30.1094 L223.8125,30.1094 L223.8125,32.2656 L221.3438,32.2656 L221.3438,40.3438 L223.8125,40.3438 L223.8125,42.5 L216.4219,42.5 L216.4219,40.3438 L218.8906,40.3438 L218.8906,32.2656 L216.4219,32.2656 Z \"/><text fill=\"#000000\" font-family=\"sans-serif\" font-size=\"12\" font-style=\"italic\" lengthAdjust=\"spacingAndGlyphs\" textLength=\"58\" x=\"234.5\" y=\"40.6543\">IObserver</text><line style=\"stroke: #A80036; stroke-width: 1.5;\" x1=\"206.5\" x2=\"294.5\" y1=\"52.5\" y2=\"52.5\"/><line style=\"stroke: #A80036; stroke-width: 1.5;\" x1=\"206.5\" x2=\"294.5\" y1=\"60.5\" y2=\"60.5\"/><ellipse cx=\"216.5\" cy=\"72.4023\" fill=\"#84BE84\" rx=\"3\" ry=\"3\" style=\"stroke: #038048; stroke-width: 1.0;\"/><text fill=\"#000000\" font-family=\"sans-serif\" font-size=\"11\" lengthAdjust=\"spacingAndGlyphs\" textLength=\"47\" x=\"225.5\" y=\"74.7104\">update()</text><rect fill=\"#FEFECE\" filter=\"url(#f1)\" height=\"48\" style=\"stroke: #A80036; stroke-width: 1.5;\" width=\"115\" x=\"6\" y=\"154\"/><ellipse cx=\"21\" cy=\"170\" fill=\"#ADD1B2\" rx=\"11\" ry=\"11\" style=\"stroke: #A80036; stroke-width: 1.0;\"/><path d=\"M23.9688,175.6406 Q23.3906,175.9375 22.75,176.0859 Q22.1094,176.2344 21.4063,176.2344 Q18.9063,176.2344 17.5859,174.5859 Q16.2656,172.9375 16.2656,169.8125 Q16.2656,166.6875 17.5859,165.0313 Q18.9063,163.375 21.4063,163.375 Q22.1094,163.375 22.7578,163.5313 Q23.4063,163.6875 23.9688,163.9844 L23.9688,166.7031 Q23.3438,166.125 22.75,165.8516 Q22.1563,165.5781 21.5313,165.5781 Q20.1875,165.5781 19.5,166.6484 Q18.8125,167.7188 18.8125,169.8125 Q18.8125,171.9063 19.5,172.9766 Q20.1875,174.0469 21.5313,174.0469 Q22.1563,174.0469 22.75,173.7734 Q23.3438,173.5 23.9688,172.9219 L23.9688,175.6406 Z \"/><text fill=\"#000000\" font-family=\"sans-serif\" font-size=\"12\" lengthAdjust=\"spacingAndGlyphs\" textLength=\"83\" x=\"35\" y=\"174.1543\">WeatherData</text><line style=\"stroke: #A80036; stroke-width: 1.5;\" x1=\"7\" x2=\"120\" y1=\"186\" y2=\"186\"/><line style=\"stroke: #A80036; stroke-width: 1.5;\" x1=\"7\" x2=\"120\" y1=\"194\" y2=\"194\"/><rect fill=\"#FEFECE\" filter=\"url(#f1)\" height=\"48\" style=\"stroke: #A80036; stroke-width: 1.5;\" width=\"216\" x=\"156.5\" y=\"154\"/><ellipse cx=\"171.5\" cy=\"170\" fill=\"#ADD1B2\" rx=\"11\" ry=\"11\" style=\"stroke: #A80036; stroke-width: 1.0;\"/><path d=\"M174.4688,175.6406 Q173.8906,175.9375 173.25,176.0859 Q172.6094,176.2344 171.9063,176.2344 Q169.4063,176.2344 168.0859,174.5859 Q166.7656,172.9375 166.7656,169.8125 Q166.7656,166.6875 168.0859,165.0313 Q169.4063,163.375 171.9063,163.375 Q172.6094,163.375 173.2578,163.5313 Q173.9063,163.6875 174.4688,163.9844 L174.4688,166.7031 Q173.8438,166.125 173.25,165.8516 Q172.6563,165.5781 172.0313,165.5781 Q170.6875,165.5781 170,166.6484 Q169.3125,167.7188 169.3125,169.8125 Q169.3125,171.9063 170,172.9766 Q170.6875,174.0469 172.0313,174.0469 Q172.6563,174.0469 173.25,173.7734 Q173.8438,173.5 174.4688,172.9219 L174.4688,175.6406 Z \"/><text fill=\"#000000\" font-family=\"sans-serif\" font-size=\"12\" lengthAdjust=\"spacingAndGlyphs\" textLength=\"184\" x=\"185.5\" y=\"174.1543\">BroadcastingCompanyDisplay</text><line style=\"stroke: #A80036; stroke-width: 1.5;\" x1=\"157.5\" x2=\"371.5\" y1=\"186\" y2=\"186\"/><line style=\"stroke: #A80036; stroke-width: 1.5;\" x1=\"157.5\" x2=\"371.5\" y1=\"194\" y2=\"194\"/><path d=\"M143.727,51 C162.534,51 181.342,51 200.15,51 \" fill=\"none\" style=\"stroke: #A80036; stroke-width: 1.0;\"/><polygon fill=\"#A80036\" points=\"205.455,51,196.455,47,200.455,51,196.455,55,205.455,51\" style=\"stroke: #A80036; stroke-width: 1.0;\"/><path d=\"M70.5006,114.495 C68.9332,128.489 67.3659,142.4833 66.1128,153.6717 \" fill=\"none\" style=\"stroke: #A80036; stroke-width: 1.0;\"/><polygon fill=\"none\" points=\"63.5776,113.4159,72.7602,94.319,77.4906,114.9742,63.5776,113.4159\" style=\"stroke: #A80036; stroke-width: 1.0;\"/><path d=\"M256.067,101.702 C258.083,119.7087 260.266,139.1961 261.905,153.8339 \" fill=\"none\" style=\"stroke: #A80036; stroke-width: 1.0;\"/><polygon fill=\"none\" points=\"249.087,102.2781,253.818,81.623,263,100.72,249.087,102.2781\" style=\"stroke: #A80036; stroke-width: 1.0;\"/><path d=\"M126.443,178 C136.453,178 146.462,178 156.472,178 \" fill=\"none\" style=\"stroke: #A80036; stroke-width: 1.0;\"/><polygon fill=\"#A80036\" points=\"121.209,178,130.209,182,126.209,178,130.209,174,121.209,178\" style=\"stroke: #A80036; stroke-width: 1.0;\"/></g></svg>"
      ],
      "text/plain": [
       "<IPython.core.display.SVG object>"
      ]
     },
     "execution_count": 3,
     "metadata": {},
     "output_type": "execute_result"
    }
   ],
   "source": [
    "%%plantuml\n",
    "\n",
    "@startuml\n",
    "\n",
    "ISubject -right-> IObserver\n",
    "ISubject <|-- WeatherData\n",
    "IObserver <|-- BroadcastingCompanyDisplay\n",
    "WeatherData <-left- BroadcastingCompanyDisplay\n",
    "\n",
    "Interface ISubject {\n",
    "    +registerObserver()\n",
    "    +removeObserver()\n",
    "    +notifyObservers()\n",
    "}\n",
    "\n",
    "Interface IObserver {\n",
    "    +update()\n",
    "}\n",
    "@enduml"
   ]
  },
  {
   "cell_type": "code",
   "execution_count": 2,
   "metadata": {
    "collapsed": false,
    "slideshow": {
     "slide_type": "subslide"
    }
   },
   "outputs": [
    {
     "data": {
      "image/svg+xml": [
       "<svg height=\"339px\" style=\"width:896px;height:339px;\" version=\"1.1\" viewBox=\"0 0 896 339\" width=\"896px\" xmlns=\"http://www.w3.org/2000/svg\" xmlns:xlink=\"http://www.w3.org/1999/xlink\"><defs><filter height=\"300%\" id=\"f1\" width=\"300%\" x=\"-1\" y=\"-1\"><feGaussianBlur result=\"blurOut\" stdDeviation=\"2.0\"/><feColorMatrix in=\"blurOut\" result=\"blurOut2\" type=\"matrix\" values=\"0 0 0 0 0 0 0 0 0 0 0 0 0 0 0 0 0 0 .4 0\"/><feOffset dx=\"4.0\" dy=\"4.0\" in=\"blurOut2\" result=\"blurOut3\"/><feBlend in=\"SourceGraphic\" in2=\"blurOut3\" mode=\"normal\"/></filter></defs><g><line style=\"stroke: #A80036; stroke-width: 1.0; stroke-dasharray: 5.0,5.0;\" x1=\"36\" x2=\"36\" y1=\"38.2969\" y2=\"301.4922\"/><line style=\"stroke: #A80036; stroke-width: 1.0; stroke-dasharray: 5.0,5.0;\" x1=\"220\" x2=\"220\" y1=\"38.2969\" y2=\"301.4922\"/><line style=\"stroke: #A80036; stroke-width: 1.0; stroke-dasharray: 5.0,5.0;\" x1=\"357.5\" x2=\"357.5\" y1=\"38.2969\" y2=\"301.4922\"/><line style=\"stroke: #A80036; stroke-width: 1.0; stroke-dasharray: 5.0,5.0;\" x1=\"444.5\" x2=\"444.5\" y1=\"38.2969\" y2=\"301.4922\"/><line style=\"stroke: #A80036; stroke-width: 1.0; stroke-dasharray: 5.0,5.0;\" x1=\"536.5\" x2=\"536.5\" y1=\"38.2969\" y2=\"301.4922\"/><rect fill=\"#FEFECE\" filter=\"url(#f1)\" height=\"30.2969\" style=\"stroke: #A80036; stroke-width: 1.5;\" width=\"53\" x=\"8\" y=\"3\"/><text fill=\"#000000\" font-family=\"sans-serif\" font-size=\"14\" lengthAdjust=\"spacingAndGlyphs\" textLength=\"39\" x=\"15\" y=\"22.9951\">Client</text><rect fill=\"#FEFECE\" filter=\"url(#f1)\" height=\"30.2969\" style=\"stroke: #A80036; stroke-width: 1.5;\" width=\"53\" x=\"8\" y=\"300.4922\"/><text fill=\"#000000\" font-family=\"sans-serif\" font-size=\"14\" lengthAdjust=\"spacingAndGlyphs\" textLength=\"39\" x=\"15\" y=\"320.4873\">Client</text><rect fill=\"#FEFECE\" filter=\"url(#f1)\" height=\"30.2969\" style=\"stroke: #A80036; stroke-width: 1.5;\" width=\"69\" x=\"184\" y=\"3\"/><text fill=\"#000000\" font-family=\"sans-serif\" font-size=\"14\" lengthAdjust=\"spacingAndGlyphs\" textLength=\"55\" x=\"191\" y=\"22.9951\">ISubject</text><rect fill=\"#FEFECE\" filter=\"url(#f1)\" height=\"30.2969\" style=\"stroke: #A80036; stroke-width: 1.5;\" width=\"69\" x=\"184\" y=\"300.4922\"/><text fill=\"#000000\" font-family=\"sans-serif\" font-size=\"14\" lengthAdjust=\"spacingAndGlyphs\" textLength=\"55\" x=\"191\" y=\"320.4873\">ISubject</text><rect fill=\"#FEFECE\" filter=\"url(#f1)\" height=\"30.2969\" style=\"stroke: #A80036; stroke-width: 1.5;\" width=\"66\" x=\"322.5\" y=\"3\"/><text fill=\"#000000\" font-family=\"sans-serif\" font-size=\"14\" lengthAdjust=\"spacingAndGlyphs\" textLength=\"52\" x=\"329.5\" y=\"22.9951\">Subject</text><rect fill=\"#FEFECE\" filter=\"url(#f1)\" height=\"30.2969\" style=\"stroke: #A80036; stroke-width: 1.5;\" width=\"66\" x=\"322.5\" y=\"300.4922\"/><text fill=\"#000000\" font-family=\"sans-serif\" font-size=\"14\" lengthAdjust=\"spacingAndGlyphs\" textLength=\"52\" x=\"329.5\" y=\"320.4873\">Subject</text><rect fill=\"#FEFECE\" filter=\"url(#f1)\" height=\"30.2969\" style=\"stroke: #A80036; stroke-width: 1.5;\" width=\"80\" x=\"402.5\" y=\"3\"/><text fill=\"#000000\" font-family=\"sans-serif\" font-size=\"14\" lengthAdjust=\"spacingAndGlyphs\" textLength=\"66\" x=\"409.5\" y=\"22.9951\">IObserver</text><rect fill=\"#FEFECE\" filter=\"url(#f1)\" height=\"30.2969\" style=\"stroke: #A80036; stroke-width: 1.5;\" width=\"80\" x=\"402.5\" y=\"300.4922\"/><text fill=\"#000000\" font-family=\"sans-serif\" font-size=\"14\" lengthAdjust=\"spacingAndGlyphs\" textLength=\"66\" x=\"409.5\" y=\"320.4873\">IObserver</text><rect fill=\"#FEFECE\" filter=\"url(#f1)\" height=\"30.2969\" style=\"stroke: #A80036; stroke-width: 1.5;\" width=\"77\" x=\"496.5\" y=\"3\"/><text fill=\"#000000\" font-family=\"sans-serif\" font-size=\"14\" lengthAdjust=\"spacingAndGlyphs\" textLength=\"63\" x=\"503.5\" y=\"22.9951\">Observer</text><rect fill=\"#FEFECE\" filter=\"url(#f1)\" height=\"30.2969\" style=\"stroke: #A80036; stroke-width: 1.5;\" width=\"77\" x=\"496.5\" y=\"300.4922\"/><text fill=\"#000000\" font-family=\"sans-serif\" font-size=\"14\" lengthAdjust=\"spacingAndGlyphs\" textLength=\"63\" x=\"503.5\" y=\"320.4873\">Observer</text><polygon fill=\"#A80036\" points=\"432.5,65.2969,442.5,69.2969,432.5,73.2969,436.5,69.2969\" style=\"stroke: #A80036; stroke-width: 1.0;\"/><line style=\"stroke: #A80036; stroke-width: 1.0;\" x1=\"36.5\" x2=\"438.5\" y1=\"69.2969\" y2=\"69.2969\"/><text fill=\"#000000\" font-family=\"sans-serif\" font-size=\"13\" font-weight=\"bold\" lengthAdjust=\"spacingAndGlyphs\" textLength=\"9\" x=\"43.5\" y=\"64.3638\">1</text><text fill=\"#000000\" font-family=\"sans-serif\" font-size=\"13\" lengthAdjust=\"spacingAndGlyphs\" textLength=\"69\" x=\"56.5\" y=\"64.3638\">obs=new()</text><polygon fill=\"#A80036\" points=\"208.5,94.4297,218.5,98.4297,208.5,102.4297,212.5,98.4297\" style=\"stroke: #A80036; stroke-width: 1.0;\"/><line style=\"stroke: #A80036; stroke-width: 1.0;\" x1=\"36.5\" x2=\"214.5\" y1=\"98.4297\" y2=\"98.4297\"/><text fill=\"#000000\" font-family=\"sans-serif\" font-size=\"13\" font-weight=\"bold\" lengthAdjust=\"spacingAndGlyphs\" textLength=\"9\" x=\"43.5\" y=\"93.4966\">2</text><text fill=\"#000000\" font-family=\"sans-serif\" font-size=\"13\" lengthAdjust=\"spacingAndGlyphs\" textLength=\"147\" x=\"56.5\" y=\"93.4966\">registerObservers(obs)</text><polygon fill=\"#A80036\" points=\"208.5,123.5625,218.5,127.5625,208.5,131.5625,212.5,127.5625\" style=\"stroke: #A80036; stroke-width: 1.0;\"/><line style=\"stroke: #A80036; stroke-width: 1.0;\" x1=\"36.5\" x2=\"214.5\" y1=\"127.5625\" y2=\"127.5625\"/><text fill=\"#000000\" font-family=\"sans-serif\" font-size=\"13\" font-weight=\"bold\" lengthAdjust=\"spacingAndGlyphs\" textLength=\"9\" x=\"43.5\" y=\"122.6294\">3</text><text fill=\"#000000\" font-family=\"sans-serif\" font-size=\"13\" lengthAdjust=\"spacingAndGlyphs\" textLength=\"87\" x=\"56.5\" y=\"122.6294\">setChanged()</text><line style=\"stroke: #A80036; stroke-width: 1.0;\" x1=\"220.5\" x2=\"262.5\" y1=\"156.8281\" y2=\"156.8281\"/><line style=\"stroke: #A80036; stroke-width: 1.0;\" x1=\"262.5\" x2=\"262.5\" y1=\"156.8281\" y2=\"169.8281\"/><line style=\"stroke: #A80036; stroke-width: 1.0;\" x1=\"221.5\" x2=\"262.5\" y1=\"169.8281\" y2=\"169.8281\"/><polygon fill=\"#A80036\" points=\"231.5,165.8281,221.5,169.8281,231.5,173.8281,227.5,169.8281\" style=\"stroke: #A80036; stroke-width: 1.0;\"/><text fill=\"#000000\" font-family=\"sans-serif\" font-size=\"13\" font-weight=\"bold\" lengthAdjust=\"spacingAndGlyphs\" textLength=\"9\" x=\"227.5\" y=\"151.7622\">4</text><text fill=\"#000000\" font-family=\"sans-serif\" font-size=\"13\" lengthAdjust=\"spacingAndGlyphs\" textLength=\"110\" x=\"240.5\" y=\"151.7622\">notifyObservers()</text><polygon fill=\"#A80036\" points=\"432.5,194.8281,442.5,198.8281,432.5,202.8281,436.5,198.8281\" style=\"stroke: #A80036; stroke-width: 1.0;\"/><line style=\"stroke: #A80036; stroke-width: 1.0;\" x1=\"220.5\" x2=\"438.5\" y1=\"198.8281\" y2=\"198.8281\"/><text fill=\"#000000\" font-family=\"sans-serif\" font-size=\"13\" font-weight=\"bold\" lengthAdjust=\"spacingAndGlyphs\" textLength=\"9\" x=\"227.5\" y=\"193.895\">5</text><text fill=\"#000000\" font-family=\"sans-serif\" font-size=\"13\" lengthAdjust=\"spacingAndGlyphs\" textLength=\"55\" x=\"240.5\" y=\"193.895\">update()</text><polygon fill=\"#A80036\" points=\"368.5,251.6602,358.5,255.6602,368.5,259.6602,364.5,255.6602\" style=\"stroke: #A80036; stroke-width: 1.0;\"/><line style=\"stroke: #A80036; stroke-width: 1.0;\" x1=\"362.5\" x2=\"536\" y1=\"255.6602\" y2=\"255.6602\"/><text fill=\"#000000\" font-family=\"sans-serif\" font-size=\"13\" font-weight=\"bold\" lengthAdjust=\"spacingAndGlyphs\" textLength=\"9\" x=\"374.5\" y=\"250.7271\">6</text><text fill=\"#000000\" font-family=\"sans-serif\" font-size=\"13\" lengthAdjust=\"spacingAndGlyphs\" textLength=\"62\" x=\"387.5\" y=\"250.7271\">getData()</text><polygon fill=\"#FBFB77\" filter=\"url(#f1)\" points=\"542,211.9609,542,281.9609,887,281.9609,887,221.9609,877,211.9609,542,211.9609\" style=\"stroke: #A80036; stroke-width: 1.0;\"/><line style=\"stroke: #A80036; stroke-width: 1.0;\" x1=\"877\" x2=\"877\" y1=\"211.9609\" y2=\"221.9609\"/><line style=\"stroke: #A80036; stroke-width: 1.0;\" x1=\"887\" x2=\"877\" y1=\"221.9609\" y2=\"221.9609\"/><text fill=\"#000000\" font-family=\"sans-serif\" font-size=\"13\" lengthAdjust=\"spacingAndGlyphs\" textLength=\"324\" x=\"548\" y=\"229.0278\">Intefaces do not appear on the sequence diagram.</text><text fill=\"#000000\" font-family=\"sans-serif\" font-size=\"13\" lengthAdjust=\"spacingAndGlyphs\" textLength=\"272\" x=\"548\" y=\"244.1606\">For an eudcation purpose, they are shown.</text><text fill=\"#000000\" font-family=\"sans-serif\" font-size=\"13\" lengthAdjust=\"spacingAndGlyphs\" textLength=\"180\" x=\"548\" y=\"259.2935\">getData() may not be called</text><text fill=\"#000000\" font-family=\"sans-serif\" font-size=\"13\" lengthAdjust=\"spacingAndGlyphs\" textLength=\"295\" x=\"548\" y=\"274.4263\">in case parameters are passed onto update().</text></g></svg>"
      ],
      "text/plain": [
       "<IPython.core.display.SVG object>"
      ]
     },
     "execution_count": 2,
     "metadata": {},
     "output_type": "execute_result"
    }
   ],
   "source": [
    "%%plantuml\n",
    "\n",
    "@startuml\n",
    "participant Client\n",
    "participant ISubject\n",
    "participant Subject\n",
    "participant IObserver\n",
    "participant Observer\n",
    "\n",
    "autonumber\n",
    "Client -> IObserver:obs=new()\n",
    "Client -> ISubject:registerObservers(obs)\n",
    "Client -> ISubject:setChanged()\n",
    "ISubject -> ISubject:notifyObservers()\n",
    "ISubject -> IObserver:update()\n",
    "Observer -> Subject:getData()\n",
    "\n",
    "note right\n",
    "    Intefaces do not appear on the sequence diagram.\n",
    "    For an eudcation purpose, they are shown.\n",
    "    getData() may not be called\n",
    "    in case parameters are passed onto update().\n",
    "end note\n",
    "\n",
    "@enduml"
   ]
  },
  {
   "cell_type": "markdown",
   "metadata": {
    "slideshow": {
     "slide_type": "slide"
    }
   },
   "source": [
    "## O.4 사례\n",
    "\n",
    "### O.4.1 날씨\n",
    "\n",
    "* 객체에서 나누어지는 서로 다른 기능이 있는 경우, 인터페이스로 분리\n",
    "* 교재 HFDP Ch2 'Weather'\n",
    "* 정보공급자는 정기적으로 계속 온도, 습도, 기압을 측정, 수집\n",
    "* 온도 getTemperature(), 습도 getHummidity(), 기압 getPressure() 수집.\n",
    "* 방송국, 농사, 운동경기 관련 사이트에서 그 정보를 사용\n",
    "* 정된 날씨 데이터는 배포measurementsChanged()"
   ]
  },
  {
   "cell_type": "markdown",
   "metadata": {
    "slideshow": {
     "slide_type": "subslide"
    }
   },
   "source": [
    "* 패턴을 적용하기 전"
   ]
  },
  {
   "cell_type": "code",
   "execution_count": 4,
   "metadata": {
    "collapsed": false,
    "slideshow": {
     "slide_type": "subslide"
    }
   },
   "outputs": [
    {
     "data": {
      "image/svg+xml": [
       "<svg height=\"141px\" style=\"width:608px;height:141px;\" version=\"1.1\" viewBox=\"0 0 608 141\" width=\"608px\" xmlns=\"http://www.w3.org/2000/svg\" xmlns:xlink=\"http://www.w3.org/1999/xlink\"><defs><filter height=\"300%\" id=\"f1\" width=\"300%\" x=\"-1\" y=\"-1\"><feGaussianBlur result=\"blurOut\" stdDeviation=\"2.0\"/><feColorMatrix in=\"blurOut\" result=\"blurOut2\" type=\"matrix\" values=\"0 0 0 0 0 0 0 0 0 0 0 0 0 0 0 0 0 0 .4 0\"/><feOffset dx=\"4.0\" dy=\"4.0\" in=\"blurOut2\" result=\"blurOut3\"/><feBlend in=\"SourceGraphic\" in2=\"blurOut3\" mode=\"normal\"/></filter></defs><g><rect fill=\"#FEFECE\" filter=\"url(#f1)\" height=\"99.2188\" style=\"stroke: #A80036; stroke-width: 1.5;\" width=\"157\" x=\"6\" y=\"21\"/><ellipse cx=\"39.9\" cy=\"37\" fill=\"#ADD1B2\" rx=\"11\" ry=\"11\" style=\"stroke: #A80036; stroke-width: 1.0;\"/><path d=\"M42.8688,42.6406 Q42.2906,42.9375 41.65,43.0859 Q41.0094,43.2344 40.3063,43.2344 Q37.8063,43.2344 36.4859,41.5859 Q35.1656,39.9375 35.1656,36.8125 Q35.1656,33.6875 36.4859,32.0313 Q37.8063,30.375 40.3063,30.375 Q41.0094,30.375 41.6578,30.5313 Q42.3063,30.6875 42.8688,30.9844 L42.8688,33.7031 Q42.2438,33.125 41.65,32.8516 Q41.0563,32.5781 40.4313,32.5781 Q39.0875,32.5781 38.4,33.6484 Q37.7125,34.7188 37.7125,36.8125 Q37.7125,38.9063 38.4,39.9766 Q39.0875,41.0469 40.4313,41.0469 Q41.0563,41.0469 41.65,40.7734 Q42.2438,40.5 42.8688,39.9219 L42.8688,42.6406 Z \"/><text fill=\"#000000\" font-family=\"sans-serif\" font-size=\"12\" lengthAdjust=\"spacingAndGlyphs\" textLength=\"83\" x=\"58.1\" y=\"41.1543\">WeatherData</text><line style=\"stroke: #A80036; stroke-width: 1.5;\" x1=\"7\" x2=\"162\" y1=\"53\" y2=\"53\"/><line style=\"stroke: #A80036; stroke-width: 1.5;\" x1=\"7\" x2=\"162\" y1=\"61\" y2=\"61\"/><text fill=\"#000000\" font-family=\"sans-serif\" font-size=\"11\" lengthAdjust=\"spacingAndGlyphs\" textLength=\"100\" x=\"12\" y=\"75.2104\">getTemperature()</text><text fill=\"#000000\" font-family=\"sans-serif\" font-size=\"11\" lengthAdjust=\"spacingAndGlyphs\" textLength=\"75\" x=\"12\" y=\"88.0151\">getHumidity()</text><text fill=\"#000000\" font-family=\"sans-serif\" font-size=\"11\" lengthAdjust=\"spacingAndGlyphs\" textLength=\"78\" x=\"12\" y=\"100.8198\">getPressure()</text><text fill=\"#000000\" font-family=\"sans-serif\" font-size=\"11\" lengthAdjust=\"spacingAndGlyphs\" textLength=\"145\" x=\"12\" y=\"113.6245\">measurementsChanged()</text><polygon fill=\"#FBFB77\" filter=\"url(#f1)\" points=\"198,8,198,132.5964,599,132.5964,599,18,589,8,198,8\" style=\"stroke: #A80036; stroke-width: 1.0;\"/><polygon fill=\"#FBFB77\" points=\"198,8,198,66.5,163.307,70.5,198,74.5,198,132.5964,599,132.5964,599,18,589,8,198,8\" style=\"stroke: #A80036; stroke-width: 1.0;\"/><line style=\"stroke: #A80036; stroke-width: 1.0;\" x1=\"589\" x2=\"589\" y1=\"8\" y2=\"18\"/><line style=\"stroke: #A80036; stroke-width: 1.0;\" x1=\"599\" x2=\"589\" y1=\"18\" y2=\"18\"/><path d=\"M209.0625,13 C207.574,13 206.1808,13.403 205,14.1516 L205.5753,15.0995 C206.5828,14.4603 207.7777,14.0833 209.0625,14.0833 C210.3625,14.0833 211.5791,14.4192 212.5833,15.0648 L213.1586,14.1841 C211.9745,13.4225 210.5575,12.9989 209.0625,12.9989 M209.0961,16.2489 C208.2348,16.2489 207.4375,16.4948 206.7604,16.926 L207.3357,17.8403 C207.8503,17.5132 208.4407,17.3323 209.0961,17.3323 C209.7385,17.3323 210.3203,17.524 210.8229,17.8403 L211.3982,16.926 C210.7308,16.5057 209.9487,16.2489 209.0961,16.2489 M209.0625,19.4989 C208.4645,19.4989 207.9792,19.9843 207.9792,20.5823 C207.9792,21.1803 208.4645,21.6656 209.0625,21.6656 C209.6605,21.6656 210.1458,21.1803 210.1458,20.5823 C210.1458,19.9843 209.6605,19.4989 209.0625,19.4989 \" fill=\"#000000\" style=\"stroke: ; stroke-width: 0.0; stroke-dasharray: ;\"/><text fill=\"#000000\" font-family=\"sans-serif\" font-size=\"13\" lengthAdjust=\"spacingAndGlyphs\" textLength=\"260\" x=\"204\" y=\"33.7336\">&quot;private void measurementsChanged() {</text><text fill=\"#000000\" font-family=\"sans-serif\" font-size=\"13\" lengthAdjust=\"spacingAndGlyphs\" textLength=\"190\" x=\"224\" y=\"48.8664\">float humidity=getHumidity();</text><text fill=\"#000000\" font-family=\"sans-serif\" font-size=\"13\" lengthAdjust=\"spacingAndGlyphs\" textLength=\"190\" x=\"224\" y=\"63.9992\">float pressure=getPressure();</text><text fill=\"#000000\" font-family=\"sans-serif\" font-size=\"13\" lengthAdjust=\"spacingAndGlyphs\" textLength=\"360\" x=\"224\" y=\"79.132\">broadcastingCompany.update(temp,humidity,pressure);</text><text fill=\"#000000\" font-family=\"sans-serif\" font-size=\"13\" lengthAdjust=\"spacingAndGlyphs\" textLength=\"331\" x=\"224\" y=\"94.2648\">agricultureAgency.update(temp,humidity,pressure);</text><text fill=\"#000000\" font-family=\"sans-serif\" font-size=\"13\" lengthAdjust=\"spacingAndGlyphs\" textLength=\"302\" x=\"224\" y=\"109.3976\">sportsDisplay.update(temp,humidity,pressure);</text><text fill=\"#000000\" font-family=\"sans-serif\" font-size=\"13\" lengthAdjust=\"spacingAndGlyphs\" textLength=\"13\" x=\"204\" y=\"124.5304\">}&quot;</text></g></svg>"
      ],
      "text/plain": [
       "<IPython.core.display.SVG object>"
      ]
     },
     "execution_count": 4,
     "metadata": {},
     "output_type": "execute_result"
    }
   ],
   "source": [
    "%%plantuml\n",
    "@startuml\n",
    "class WeatherData {\n",
    "    getTemperature()\n",
    "    getHumidity()\n",
    "    getPressure()\n",
    "    measurementsChanged()\n",
    "}\n",
    "note right\n",
    "   <&wifi>\n",
    "   \"private void measurementsChanged() {\n",
    "        float humidity=getHumidity();\n",
    "        float pressure=getPressure();\n",
    "        broadcastingCompany.update(temp,humidity,pressure);\n",
    "        agricultureAgency.update(temp,humidity,pressure);\n",
    "        sportsDisplay.update(temp,humidity,pressure);\n",
    "   }\"\n",
    "end note\n",
    "@enduml"
   ]
  },
  {
   "cell_type": "code",
   "execution_count": 5,
   "metadata": {
    "collapsed": false,
    "slideshow": {
     "slide_type": "slide"
    }
   },
   "outputs": [
    {
     "data": {
      "image/svg+xml": [
       "<svg height=\"173px\" style=\"width:519px;height:173px;\" version=\"1.1\" viewBox=\"0 0 519 173\" width=\"519px\" xmlns=\"http://www.w3.org/2000/svg\" xmlns:xlink=\"http://www.w3.org/1999/xlink\"><defs><filter height=\"300%\" id=\"f1\" width=\"300%\" x=\"-1\" y=\"-1\"><feGaussianBlur result=\"blurOut\" stdDeviation=\"2.0\"/><feColorMatrix in=\"blurOut\" result=\"blurOut2\" type=\"matrix\" values=\"0 0 0 0 0 0 0 0 0 0 0 0 0 0 0 0 0 0 .4 0\"/><feOffset dx=\"4.0\" dy=\"4.0\" in=\"blurOut2\" result=\"blurOut3\"/><feBlend in=\"SourceGraphic\" in2=\"blurOut3\" mode=\"normal\"/></filter></defs><g><rect fill=\"#FEFECE\" filter=\"url(#f1)\" height=\"48\" style=\"stroke: #A80036; stroke-width: 1.5;\" width=\"115\" x=\"228.5\" y=\"8\"/><ellipse cx=\"243.5\" cy=\"24\" fill=\"#ADD1B2\" rx=\"11\" ry=\"11\" style=\"stroke: #A80036; stroke-width: 1.0;\"/><path d=\"M246.4688,29.6406 Q245.8906,29.9375 245.25,30.0859 Q244.6094,30.2344 243.9063,30.2344 Q241.4063,30.2344 240.0859,28.5859 Q238.7656,26.9375 238.7656,23.8125 Q238.7656,20.6875 240.0859,19.0313 Q241.4063,17.375 243.9063,17.375 Q244.6094,17.375 245.2578,17.5313 Q245.9063,17.6875 246.4688,17.9844 L246.4688,20.7031 Q245.8438,20.125 245.25,19.8516 Q244.6563,19.5781 244.0313,19.5781 Q242.6875,19.5781 242,20.6484 Q241.3125,21.7188 241.3125,23.8125 Q241.3125,25.9063 242,26.9766 Q242.6875,28.0469 244.0313,28.0469 Q244.6563,28.0469 245.25,27.7734 Q245.8438,27.5 246.4688,26.9219 L246.4688,29.6406 Z \"/><text fill=\"#000000\" font-family=\"sans-serif\" font-size=\"12\" lengthAdjust=\"spacingAndGlyphs\" textLength=\"83\" x=\"257.5\" y=\"28.1543\">WeatherData</text><line style=\"stroke: #A80036; stroke-width: 1.5;\" x1=\"229.5\" x2=\"342.5\" y1=\"40\" y2=\"40\"/><line style=\"stroke: #A80036; stroke-width: 1.5;\" x1=\"229.5\" x2=\"342.5\" y1=\"48\" y2=\"48\"/><rect fill=\"#FEFECE\" filter=\"url(#f1)\" height=\"48\" style=\"stroke: #A80036; stroke-width: 1.5;\" width=\"172\" x=\"6\" y=\"116\"/><ellipse cx=\"21\" cy=\"132\" fill=\"#ADD1B2\" rx=\"11\" ry=\"11\" style=\"stroke: #A80036; stroke-width: 1.0;\"/><path d=\"M23.9688,137.6406 Q23.3906,137.9375 22.75,138.0859 Q22.1094,138.2344 21.4063,138.2344 Q18.9063,138.2344 17.5859,136.5859 Q16.2656,134.9375 16.2656,131.8125 Q16.2656,128.6875 17.5859,127.0313 Q18.9063,125.375 21.4063,125.375 Q22.1094,125.375 22.7578,125.5313 Q23.4063,125.6875 23.9688,125.9844 L23.9688,128.7031 Q23.3438,128.125 22.75,127.8516 Q22.1563,127.5781 21.5313,127.5781 Q20.1875,127.5781 19.5,128.6484 Q18.8125,129.7188 18.8125,131.8125 Q18.8125,133.9063 19.5,134.9766 Q20.1875,136.0469 21.5313,136.0469 Q22.1563,136.0469 22.75,135.7734 Q23.3438,135.5 23.9688,134.9219 L23.9688,137.6406 Z \"/><text fill=\"#000000\" font-family=\"sans-serif\" font-size=\"12\" lengthAdjust=\"spacingAndGlyphs\" textLength=\"140\" x=\"35\" y=\"136.1543\">BroadcastingCompany</text><line style=\"stroke: #A80036; stroke-width: 1.5;\" x1=\"7\" x2=\"177\" y1=\"148\" y2=\"148\"/><line style=\"stroke: #A80036; stroke-width: 1.5;\" x1=\"7\" x2=\"177\" y1=\"156\" y2=\"156\"/><rect fill=\"#FEFECE\" filter=\"url(#f1)\" height=\"48\" style=\"stroke: #A80036; stroke-width: 1.5;\" width=\"145\" x=\"213.5\" y=\"116\"/><ellipse cx=\"228.5\" cy=\"132\" fill=\"#ADD1B2\" rx=\"11\" ry=\"11\" style=\"stroke: #A80036; stroke-width: 1.0;\"/><path d=\"M231.4688,137.6406 Q230.8906,137.9375 230.25,138.0859 Q229.6094,138.2344 228.9063,138.2344 Q226.4063,138.2344 225.0859,136.5859 Q223.7656,134.9375 223.7656,131.8125 Q223.7656,128.6875 225.0859,127.0313 Q226.4063,125.375 228.9063,125.375 Q229.6094,125.375 230.2578,125.5313 Q230.9063,125.6875 231.4688,125.9844 L231.4688,128.7031 Q230.8438,128.125 230.25,127.8516 Q229.6563,127.5781 229.0313,127.5781 Q227.6875,127.5781 227,128.6484 Q226.3125,129.7188 226.3125,131.8125 Q226.3125,133.9063 227,134.9766 Q227.6875,136.0469 229.0313,136.0469 Q229.6563,136.0469 230.25,135.7734 Q230.8438,135.5 231.4688,134.9219 L231.4688,137.6406 Z \"/><text fill=\"#000000\" font-family=\"sans-serif\" font-size=\"12\" lengthAdjust=\"spacingAndGlyphs\" textLength=\"113\" x=\"242.5\" y=\"136.1543\">AgricultureAgency</text><line style=\"stroke: #A80036; stroke-width: 1.5;\" x1=\"214.5\" x2=\"357.5\" y1=\"148\" y2=\"148\"/><line style=\"stroke: #A80036; stroke-width: 1.5;\" x1=\"214.5\" x2=\"357.5\" y1=\"156\" y2=\"156\"/><rect fill=\"#FEFECE\" filter=\"url(#f1)\" height=\"48\" style=\"stroke: #A80036; stroke-width: 1.5;\" width=\"117\" x=\"393.5\" y=\"116\"/><ellipse cx=\"408.5\" cy=\"132\" fill=\"#ADD1B2\" rx=\"11\" ry=\"11\" style=\"stroke: #A80036; stroke-width: 1.0;\"/><path d=\"M411.4688,137.6406 Q410.8906,137.9375 410.25,138.0859 Q409.6094,138.2344 408.9063,138.2344 Q406.4063,138.2344 405.0859,136.5859 Q403.7656,134.9375 403.7656,131.8125 Q403.7656,128.6875 405.0859,127.0313 Q406.4063,125.375 408.9063,125.375 Q409.6094,125.375 410.2578,125.5313 Q410.9063,125.6875 411.4688,125.9844 L411.4688,128.7031 Q410.8438,128.125 410.25,127.8516 Q409.6563,127.5781 409.0313,127.5781 Q407.6875,127.5781 407,128.6484 Q406.3125,129.7188 406.3125,131.8125 Q406.3125,133.9063 407,134.9766 Q407.6875,136.0469 409.0313,136.0469 Q409.6563,136.0469 410.25,135.7734 Q410.8438,135.5 411.4688,134.9219 L411.4688,137.6406 Z \"/><text fill=\"#000000\" font-family=\"sans-serif\" font-size=\"12\" lengthAdjust=\"spacingAndGlyphs\" textLength=\"85\" x=\"422.5\" y=\"136.1543\">SportsDisplay</text><line style=\"stroke: #A80036; stroke-width: 1.5;\" x1=\"394.5\" x2=\"509.5\" y1=\"148\" y2=\"148\"/><line style=\"stroke: #A80036; stroke-width: 1.5;\" x1=\"394.5\" x2=\"509.5\" y1=\"156\" y2=\"156\"/><path d=\"M243.905,56 C212.996,72.8887 170.997,95.8365 138.994,113.3227 \" fill=\"none\" style=\"stroke: #A80036; stroke-width: 1.0; stroke-dasharray: 7.0,7.0;\"/><polygon fill=\"#A80036\" points=\"134.347,115.8617,144.1629,115.057,138.7349,113.4645,140.3274,108.0364,134.347,115.8617\" style=\"stroke: #A80036; stroke-width: 1.0;\"/><path d=\"M286,56 C286,72.003 286,93.4461 286,110.528 \" fill=\"none\" style=\"stroke: #A80036; stroke-width: 1.0; stroke-dasharray: 7.0,7.0;\"/><polygon fill=\"#A80036\" points=\"286,115.6784,290,106.6784,286,110.6784,282,106.6784,286,115.6784\" style=\"stroke: #A80036; stroke-width: 1.0;\"/><path d=\"M322.02,56 C348.359,72.8195 384.11,95.6485 411.451,113.1075 \" fill=\"none\" style=\"stroke: #A80036; stroke-width: 1.0; stroke-dasharray: 7.0,7.0;\"/><polygon fill=\"#A80036\" points=\"415.765,115.8617,410.331,107.6476,411.5504,113.1714,406.0266,114.3909,415.765,115.8617\" style=\"stroke: #A80036; stroke-width: 1.0;\"/></g></svg>"
      ],
      "text/plain": [
       "<IPython.core.display.SVG object>"
      ]
     },
     "execution_count": 5,
     "metadata": {},
     "output_type": "execute_result"
    }
   ],
   "source": [
    "%%plantuml\n",
    "@startuml\n",
    "WeatherData ..> BroadcastingCompany\n",
    "WeatherData ..> AgricultureAgency\n",
    "WeatherData ..> SportsDisplay\n",
    "@enduml"
   ]
  },
  {
   "cell_type": "code",
   "execution_count": 6,
   "metadata": {
    "collapsed": false,
    "slideshow": {
     "slide_type": "slide"
    }
   },
   "outputs": [
    {
     "data": {
      "image/svg+xml": [
       "<svg height=\"325px\" style=\"width:743px;height:325px;\" version=\"1.1\" viewBox=\"0 0 743 325\" width=\"743px\" xmlns=\"http://www.w3.org/2000/svg\" xmlns:xlink=\"http://www.w3.org/1999/xlink\"><defs><filter height=\"300%\" id=\"f1\" width=\"300%\" x=\"-1\" y=\"-1\"><feGaussianBlur result=\"blurOut\" stdDeviation=\"2.0\"/><feColorMatrix in=\"blurOut\" result=\"blurOut2\" type=\"matrix\" values=\"0 0 0 0 0 0 0 0 0 0 0 0 0 0 0 0 0 0 .4 0\"/><feOffset dx=\"4.0\" dy=\"4.0\" in=\"blurOut2\" result=\"blurOut3\"/><feBlend in=\"SourceGraphic\" in2=\"blurOut3\" mode=\"normal\"/></filter></defs><g><rect fill=\"#ADD8E6\" height=\"320.8672\" style=\"stroke: #A80036; stroke-width: 1.0;\" width=\"264.5\" x=\"4\" y=\"4\"/><text fill=\"#000000\" font-family=\"sans-serif\" font-size=\"13\" font-weight=\"bold\" lengthAdjust=\"spacingAndGlyphs\" textLength=\"135\" x=\"68.75\" y=\"16.0669\">weather providers</text><line style=\"stroke: #A80036; stroke-width: 1.0;\" x1=\"64\" x2=\"64\" y1=\"58.4297\" y2=\"126.6953\"/><line style=\"stroke: #A80036; stroke-width: 1.0; stroke-dasharray: 1.0,4.0;\" x1=\"64\" x2=\"64\" y1=\"126.6953\" y2=\"167.5\"/><line style=\"stroke: #A80036; stroke-width: 1.0;\" x1=\"64\" x2=\"64\" y1=\"167.5\" y2=\"206.6328\"/><line style=\"stroke: #A80036; stroke-width: 1.0; stroke-dasharray: 1.0,4.0;\" x1=\"64\" x2=\"64\" y1=\"206.6328\" y2=\"247.4375\"/><line style=\"stroke: #A80036; stroke-width: 1.0;\" x1=\"64\" x2=\"64\" y1=\"247.4375\" y2=\"286.5703\"/><line style=\"stroke: #A80036; stroke-width: 1.0;\" x1=\"203.5\" x2=\"203.5\" y1=\"58.4297\" y2=\"126.6953\"/><line style=\"stroke: #A80036; stroke-width: 1.0; stroke-dasharray: 1.0,4.0;\" x1=\"203.5\" x2=\"203.5\" y1=\"126.6953\" y2=\"167.5\"/><line style=\"stroke: #A80036; stroke-width: 1.0;\" x1=\"203.5\" x2=\"203.5\" y1=\"167.5\" y2=\"206.6328\"/><line style=\"stroke: #A80036; stroke-width: 1.0; stroke-dasharray: 1.0,4.0;\" x1=\"203.5\" x2=\"203.5\" y1=\"206.6328\" y2=\"247.4375\"/><line style=\"stroke: #A80036; stroke-width: 1.0;\" x1=\"203.5\" x2=\"203.5\" y1=\"247.4375\" y2=\"286.5703\"/><line style=\"stroke: #A80036; stroke-width: 1.0;\" x1=\"349.5\" x2=\"349.5\" y1=\"58.4297\" y2=\"126.6953\"/><line style=\"stroke: #A80036; stroke-width: 1.0; stroke-dasharray: 1.0,4.0;\" x1=\"349.5\" x2=\"349.5\" y1=\"126.6953\" y2=\"167.5\"/><line style=\"stroke: #A80036; stroke-width: 1.0;\" x1=\"349.5\" x2=\"349.5\" y1=\"167.5\" y2=\"206.6328\"/><line style=\"stroke: #A80036; stroke-width: 1.0; stroke-dasharray: 1.0,4.0;\" x1=\"349.5\" x2=\"349.5\" y1=\"206.6328\" y2=\"247.4375\"/><line style=\"stroke: #A80036; stroke-width: 1.0;\" x1=\"349.5\" x2=\"349.5\" y1=\"247.4375\" y2=\"286.5703\"/><line style=\"stroke: #A80036; stroke-width: 1.0;\" x1=\"492.5\" x2=\"492.5\" y1=\"58.4297\" y2=\"126.6953\"/><line style=\"stroke: #A80036; stroke-width: 1.0; stroke-dasharray: 1.0,4.0;\" x1=\"492.5\" x2=\"492.5\" y1=\"126.6953\" y2=\"167.5\"/><line style=\"stroke: #A80036; stroke-width: 1.0;\" x1=\"492.5\" x2=\"492.5\" y1=\"167.5\" y2=\"206.6328\"/><line style=\"stroke: #A80036; stroke-width: 1.0; stroke-dasharray: 1.0,4.0;\" x1=\"492.5\" x2=\"492.5\" y1=\"206.6328\" y2=\"247.4375\"/><line style=\"stroke: #A80036; stroke-width: 1.0;\" x1=\"492.5\" x2=\"492.5\" y1=\"247.4375\" y2=\"286.5703\"/><rect fill=\"#FEFECE\" filter=\"url(#f1)\" height=\"30.2969\" style=\"stroke: #A80036; stroke-width: 1.5;\" width=\"109\" x=\"8\" y=\"23.1328\"/><text fill=\"#000000\" font-family=\"sans-serif\" font-size=\"14\" lengthAdjust=\"spacingAndGlyphs\" textLength=\"95\" x=\"15\" y=\"43.1279\">sensorDevice</text><rect fill=\"#FEFECE\" filter=\"url(#f1)\" height=\"30.2969\" style=\"stroke: #A80036; stroke-width: 1.5;\" width=\"109\" x=\"8\" y=\"285.5703\"/><text fill=\"#000000\" font-family=\"sans-serif\" font-size=\"14\" lengthAdjust=\"spacingAndGlyphs\" textLength=\"95\" x=\"15\" y=\"305.5654\">sensorDevice</text><rect fill=\"#FEFECE\" filter=\"url(#f1)\" height=\"30.2969\" style=\"stroke: #A80036; stroke-width: 1.5;\" width=\"118\" x=\"142.5\" y=\"23.1328\"/><text fill=\"#000000\" font-family=\"sans-serif\" font-size=\"14\" lengthAdjust=\"spacingAndGlyphs\" textLength=\"104\" x=\"149.5\" y=\"43.1279\">weatherStation</text><rect fill=\"#FEFECE\" filter=\"url(#f1)\" height=\"30.2969\" style=\"stroke: #A80036; stroke-width: 1.5;\" width=\"118\" x=\"142.5\" y=\"285.5703\"/><text fill=\"#000000\" font-family=\"sans-serif\" font-size=\"14\" lengthAdjust=\"spacingAndGlyphs\" textLength=\"104\" x=\"149.5\" y=\"305.5654\">weatherStation</text><rect fill=\"#FEFECE\" filter=\"url(#f1)\" height=\"30.2969\" style=\"stroke: #A80036; stroke-width: 1.5;\" width=\"147\" x=\"274.5\" y=\"23.1328\"/><text fill=\"#000000\" font-family=\"sans-serif\" font-size=\"14\" lengthAdjust=\"spacingAndGlyphs\" textLength=\"133\" x=\"281.5\" y=\"43.1279\">weatherDataObject</text><rect fill=\"#FEFECE\" filter=\"url(#f1)\" height=\"30.2969\" style=\"stroke: #A80036; stroke-width: 1.5;\" width=\"147\" x=\"274.5\" y=\"285.5703\"/><text fill=\"#000000\" font-family=\"sans-serif\" font-size=\"14\" lengthAdjust=\"spacingAndGlyphs\" textLength=\"133\" x=\"281.5\" y=\"305.5654\">weatherDataObject</text><rect fill=\"#FEFECE\" filter=\"url(#f1)\" height=\"30.2969\" style=\"stroke: #A80036; stroke-width: 1.5;\" width=\"110\" x=\"435.5\" y=\"23.1328\"/><text fill=\"#000000\" font-family=\"sans-serif\" font-size=\"14\" lengthAdjust=\"spacingAndGlyphs\" textLength=\"96\" x=\"442.5\" y=\"43.1279\">DisplayDevice</text><rect fill=\"#FEFECE\" filter=\"url(#f1)\" height=\"30.2969\" style=\"stroke: #A80036; stroke-width: 1.5;\" width=\"110\" x=\"435.5\" y=\"285.5703\"/><text fill=\"#000000\" font-family=\"sans-serif\" font-size=\"14\" lengthAdjust=\"spacingAndGlyphs\" textLength=\"96\" x=\"442.5\" y=\"305.5654\">DisplayDevice</text><polygon fill=\"#A80036\" points=\"75.5,85.4297,65.5,89.4297,75.5,93.4297,71.5,89.4297\" style=\"stroke: #A80036; stroke-width: 1.0;\"/><line style=\"stroke: #A80036; stroke-width: 1.0;\" x1=\"69.5\" x2=\"202.5\" y1=\"89.4297\" y2=\"89.4297\"/><text fill=\"#000000\" font-family=\"sans-serif\" font-size=\"13\" font-weight=\"bold\" lengthAdjust=\"spacingAndGlyphs\" textLength=\"9\" x=\"81.5\" y=\"84.4966\">1</text><text fill=\"#000000\" font-family=\"sans-serif\" font-size=\"13\" lengthAdjust=\"spacingAndGlyphs\" textLength=\"102\" x=\"94.5\" y=\"84.4966\">poll sensor data</text><polygon fill=\"#A80036\" points=\"214.5,114.5625,204.5,118.5625,214.5,122.5625,210.5,118.5625\" style=\"stroke: #A80036; stroke-width: 1.0;\"/><line style=\"stroke: #A80036; stroke-width: 1.0;\" x1=\"208.5\" x2=\"349\" y1=\"118.5625\" y2=\"118.5625\"/><text fill=\"#000000\" font-family=\"sans-serif\" font-size=\"13\" font-weight=\"bold\" lengthAdjust=\"spacingAndGlyphs\" textLength=\"9\" x=\"220.5\" y=\"113.6294\">2</text><text fill=\"#000000\" font-family=\"sans-serif\" font-size=\"13\" lengthAdjust=\"spacingAndGlyphs\" textLength=\"55\" x=\"233.5\" y=\"113.6294\">poll data</text><text fill=\"#000000\" font-family=\"sans-serif\" font-size=\"11\" lengthAdjust=\"spacingAndGlyphs\" textLength=\"26\" x=\"265.5\" y=\"150.9058\">later</text><polygon fill=\"#A80036\" points=\"214.5,189.5,204.5,193.5,214.5,197.5,210.5,193.5\" style=\"stroke: #A80036; stroke-width: 1.0;\"/><line style=\"stroke: #A80036; stroke-width: 1.0;\" x1=\"208.5\" x2=\"349\" y1=\"193.5\" y2=\"193.5\"/><text fill=\"#000000\" font-family=\"sans-serif\" font-size=\"13\" font-weight=\"bold\" lengthAdjust=\"spacingAndGlyphs\" textLength=\"9\" x=\"220.5\" y=\"188.5669\">3</text><text fill=\"#000000\" font-family=\"sans-serif\" font-size=\"13\" lengthAdjust=\"spacingAndGlyphs\" textLength=\"55\" x=\"233.5\" y=\"188.5669\">poll data</text><polygon fill=\"#00FFFF\" filter=\"url(#f1)\" points=\"355,172.5,355,197.5,734,197.5,734,182.5,724,172.5,355,172.5\" style=\"stroke: #A80036; stroke-width: 1.0;\"/><line style=\"stroke: #A80036; stroke-width: 1.0;\" x1=\"724\" x2=\"724\" y1=\"172.5\" y2=\"182.5\"/><line style=\"stroke: #A80036; stroke-width: 1.0;\" x1=\"734\" x2=\"724\" y1=\"182.5\" y2=\"182.5\"/><text fill=\"#000000\" font-family=\"sans-serif\" font-size=\"13\" lengthAdjust=\"spacingAndGlyphs\" textLength=\"139\" x=\"361\" y=\"189.5669\">keep asking if there is</text><text fill=\"#000000\" font-family=\"sans-serif\" font-size=\"13\" font-weight=\"bold\" lengthAdjust=\"spacingAndGlyphs\" textLength=\"85\" x=\"504\" y=\"189.5669\">any change</text><text fill=\"#000000\" font-family=\"sans-serif\" font-size=\"13\" lengthAdjust=\"spacingAndGlyphs\" textLength=\"126\" x=\"593\" y=\"189.5669\">in weather station\\n</text><text fill=\"#000000\" font-family=\"sans-serif\" font-size=\"11\" lengthAdjust=\"spacingAndGlyphs\" textLength=\"26\" x=\"265.5\" y=\"230.8433\">later</text><polygon fill=\"#A80036\" points=\"480.5,264.4375,490.5,268.4375,480.5,272.4375,484.5,268.4375\" style=\"stroke: #A80036; stroke-width: 1.0;\"/><line style=\"stroke: #A80036; stroke-width: 1.0;\" x1=\"350\" x2=\"486.5\" y1=\"268.4375\" y2=\"268.4375\"/><text fill=\"#000000\" font-family=\"sans-serif\" font-size=\"13\" font-weight=\"bold\" lengthAdjust=\"spacingAndGlyphs\" textLength=\"27\" x=\"357\" y=\"263.5044\">100</text><text fill=\"#000000\" font-family=\"sans-serif\" font-size=\"13\" lengthAdjust=\"spacingAndGlyphs\" textLength=\"51\" x=\"388\" y=\"263.5044\">displays</text></g></svg>"
      ],
      "text/plain": [
       "<IPython.core.display.SVG object>"
      ]
     },
     "execution_count": 6,
     "metadata": {},
     "output_type": "execute_result"
    }
   ],
   "source": [
    "%%plantuml\n",
    "\n",
    "@startuml\n",
    "\n",
    "box \"weather providers\" #LightBlue\n",
    "  participant sensorDevice\n",
    "  participant weatherStation\n",
    "end box\n",
    "\n",
    "autonumber\n",
    "sensorDevice <- weatherStation: poll sensor data\n",
    "weatherStation <- weatherDataObject: poll data\n",
    "... later ...\n",
    "weatherStation <- weatherDataObject: poll data\n",
    "\n",
    "... later ...\n",
    "autonumber 100\n",
    "note right #aqua\n",
    "  keep asking if there is **any change** in weather station\\n\n",
    "end note\n",
    "weatherDataObject -> DisplayDevice: displays\n",
    "\n",
    "@enduml"
   ]
  },
  {
   "cell_type": "markdown",
   "metadata": {
    "slideshow": {
     "slide_type": "subslide"
    }
   },
   "source": [
    "* 패턴의 적용"
   ]
  },
  {
   "cell_type": "code",
   "execution_count": 7,
   "metadata": {
    "collapsed": false,
    "slideshow": {
     "slide_type": "slide"
    }
   },
   "outputs": [
    {
     "data": {
      "image/svg+xml": [
       "<svg height=\"355px\" style=\"width:684px;height:355px;\" version=\"1.1\" viewBox=\"0 0 684 355\" width=\"684px\" xmlns=\"http://www.w3.org/2000/svg\" xmlns:xlink=\"http://www.w3.org/1999/xlink\"><defs><filter height=\"300%\" id=\"f1\" width=\"300%\" x=\"-1\" y=\"-1\"><feGaussianBlur result=\"blurOut\" stdDeviation=\"2.0\"/><feColorMatrix in=\"blurOut\" result=\"blurOut2\" type=\"matrix\" values=\"0 0 0 0 0 0 0 0 0 0 0 0 0 0 0 0 0 0 .4 0\"/><feOffset dx=\"4.0\" dy=\"4.0\" in=\"blurOut2\" result=\"blurOut3\"/><feBlend in=\"SourceGraphic\" in2=\"blurOut3\" mode=\"normal\"/></filter></defs><g><line style=\"stroke: #A80036; stroke-width: 1.0; stroke-dasharray: 5.0,5.0;\" x1=\"70\" x2=\"70\" y1=\"38.2969\" y2=\"317.3594\"/><line style=\"stroke: #A80036; stroke-width: 1.0; stroke-dasharray: 5.0,5.0;\" x1=\"178\" x2=\"178\" y1=\"38.2969\" y2=\"317.3594\"/><line style=\"stroke: #A80036; stroke-width: 1.0; stroke-dasharray: 5.0,5.0;\" x1=\"316\" x2=\"316\" y1=\"38.2969\" y2=\"317.3594\"/><line style=\"stroke: #A80036; stroke-width: 1.0; stroke-dasharray: 5.0,5.0;\" x1=\"508\" x2=\"508\" y1=\"38.2969\" y2=\"317.3594\"/><line style=\"stroke: #A80036; stroke-width: 1.0; stroke-dasharray: 5.0,5.0;\" x1=\"619\" x2=\"619\" y1=\"38.2969\" y2=\"317.3594\"/><rect fill=\"#FEFECE\" filter=\"url(#f1)\" height=\"30.2969\" style=\"stroke: #A80036; stroke-width: 1.5;\" width=\"120\" x=\"8\" y=\"3\"/><text fill=\"#000000\" font-family=\"sans-serif\" font-size=\"14\" lengthAdjust=\"spacingAndGlyphs\" textLength=\"106\" x=\"15\" y=\"22.9951\">WeatherStation</text><rect fill=\"#FEFECE\" filter=\"url(#f1)\" height=\"30.2969\" style=\"stroke: #A80036; stroke-width: 1.5;\" width=\"120\" x=\"8\" y=\"316.3594\"/><text fill=\"#000000\" font-family=\"sans-serif\" font-size=\"14\" lengthAdjust=\"spacingAndGlyphs\" textLength=\"106\" x=\"15\" y=\"336.3545\">WeatherStation</text><rect fill=\"#FEFECE\" filter=\"url(#f1)\" height=\"30.2969\" style=\"stroke: #A80036; stroke-width: 1.5;\" width=\"69\" x=\"142\" y=\"3\"/><text fill=\"#000000\" font-family=\"sans-serif\" font-size=\"14\" lengthAdjust=\"spacingAndGlyphs\" textLength=\"55\" x=\"149\" y=\"22.9951\">ISubject</text><rect fill=\"#FEFECE\" filter=\"url(#f1)\" height=\"30.2969\" style=\"stroke: #A80036; stroke-width: 1.5;\" width=\"69\" x=\"142\" y=\"316.3594\"/><text fill=\"#000000\" font-family=\"sans-serif\" font-size=\"14\" lengthAdjust=\"spacingAndGlyphs\" textLength=\"55\" x=\"149\" y=\"336.3545\">ISubject</text><rect fill=\"#FEFECE\" filter=\"url(#f1)\" height=\"30.2969\" style=\"stroke: #A80036; stroke-width: 1.5;\" width=\"104\" x=\"262\" y=\"3\"/><text fill=\"#000000\" font-family=\"sans-serif\" font-size=\"14\" lengthAdjust=\"spacingAndGlyphs\" textLength=\"90\" x=\"269\" y=\"22.9951\">WeatherData</text><rect fill=\"#FEFECE\" filter=\"url(#f1)\" height=\"30.2969\" style=\"stroke: #A80036; stroke-width: 1.5;\" width=\"104\" x=\"262\" y=\"316.3594\"/><text fill=\"#000000\" font-family=\"sans-serif\" font-size=\"14\" lengthAdjust=\"spacingAndGlyphs\" textLength=\"90\" x=\"269\" y=\"336.3545\">WeatherData</text><rect fill=\"#FEFECE\" filter=\"url(#f1)\" height=\"30.2969\" style=\"stroke: #A80036; stroke-width: 1.5;\" width=\"80\" x=\"466\" y=\"3\"/><text fill=\"#000000\" font-family=\"sans-serif\" font-size=\"14\" lengthAdjust=\"spacingAndGlyphs\" textLength=\"66\" x=\"473\" y=\"22.9951\">IObserver</text><rect fill=\"#FEFECE\" filter=\"url(#f1)\" height=\"30.2969\" style=\"stroke: #A80036; stroke-width: 1.5;\" width=\"80\" x=\"466\" y=\"316.3594\"/><text fill=\"#000000\" font-family=\"sans-serif\" font-size=\"14\" lengthAdjust=\"spacingAndGlyphs\" textLength=\"66\" x=\"473\" y=\"336.3545\">IObserver</text><rect fill=\"#FEFECE\" filter=\"url(#f1)\" height=\"30.2969\" style=\"stroke: #A80036; stroke-width: 1.5;\" width=\"115\" x=\"560\" y=\"3\"/><text fill=\"#000000\" font-family=\"sans-serif\" font-size=\"14\" lengthAdjust=\"spacingAndGlyphs\" textLength=\"101\" x=\"567\" y=\"22.9951\">CurrentDisplay</text><rect fill=\"#FEFECE\" filter=\"url(#f1)\" height=\"30.2969\" style=\"stroke: #A80036; stroke-width: 1.5;\" width=\"115\" x=\"560\" y=\"316.3594\"/><text fill=\"#000000\" font-family=\"sans-serif\" font-size=\"14\" lengthAdjust=\"spacingAndGlyphs\" textLength=\"101\" x=\"567\" y=\"336.3545\">CurrentDisplay</text><polygon fill=\"#A80036\" points=\"304,65.2969,314,69.2969,304,73.2969,308,69.2969\" style=\"stroke: #A80036; stroke-width: 1.0;\"/><line style=\"stroke: #A80036; stroke-width: 1.0;\" x1=\"70\" x2=\"310\" y1=\"69.2969\" y2=\"69.2969\"/><text fill=\"#000000\" font-family=\"sans-serif\" font-size=\"13\" font-weight=\"bold\" lengthAdjust=\"spacingAndGlyphs\" textLength=\"9\" x=\"77\" y=\"64.3638\">1</text><text fill=\"#000000\" font-family=\"sans-serif\" font-size=\"13\" lengthAdjust=\"spacingAndGlyphs\" textLength=\"128\" x=\"90\" y=\"64.3638\">weatherData=new()</text><polygon fill=\"#A80036\" points=\"607.5,94.4297,617.5,98.4297,607.5,102.4297,611.5,98.4297\" style=\"stroke: #A80036; stroke-width: 1.0;\"/><line style=\"stroke: #A80036; stroke-width: 1.0;\" x1=\"70\" x2=\"613.5\" y1=\"98.4297\" y2=\"98.4297\"/><text fill=\"#000000\" font-family=\"sans-serif\" font-size=\"13\" font-weight=\"bold\" lengthAdjust=\"spacingAndGlyphs\" textLength=\"9\" x=\"77\" y=\"93.4966\">2</text><text fill=\"#000000\" font-family=\"sans-serif\" font-size=\"13\" lengthAdjust=\"spacingAndGlyphs\" textLength=\"220\" x=\"90\" y=\"93.4966\">currentDisplay=new(weatherData)</text><polygon fill=\"#A80036\" points=\"304,123.5625,314,127.5625,304,131.5625,308,127.5625\" style=\"stroke: #A80036; stroke-width: 1.0;\"/><line style=\"stroke: #A80036; stroke-width: 1.0;\" x1=\"70\" x2=\"310\" y1=\"127.5625\" y2=\"127.5625\"/><text fill=\"#000000\" font-family=\"sans-serif\" font-size=\"13\" font-weight=\"bold\" lengthAdjust=\"spacingAndGlyphs\" textLength=\"9\" x=\"77\" y=\"122.6294\">3</text><text fill=\"#000000\" font-family=\"sans-serif\" font-size=\"13\" lengthAdjust=\"spacingAndGlyphs\" textLength=\"209\" x=\"90\" y=\"122.6294\">registerObserver(currentDisplay)</text><polygon fill=\"#A80036\" points=\"304,152.6953,314,156.6953,304,160.6953,308,156.6953\" style=\"stroke: #A80036; stroke-width: 1.0;\"/><line style=\"stroke: #A80036; stroke-width: 1.0;\" x1=\"70\" x2=\"310\" y1=\"156.6953\" y2=\"156.6953\"/><text fill=\"#000000\" font-family=\"sans-serif\" font-size=\"13\" font-weight=\"bold\" lengthAdjust=\"spacingAndGlyphs\" textLength=\"9\" x=\"77\" y=\"151.7622\">4</text><text fill=\"#000000\" font-family=\"sans-serif\" font-size=\"13\" lengthAdjust=\"spacingAndGlyphs\" textLength=\"126\" x=\"90\" y=\"151.7622\">setMeasurements()</text><line style=\"stroke: #A80036; stroke-width: 1.0;\" x1=\"316\" x2=\"358\" y1=\"185.9609\" y2=\"185.9609\"/><line style=\"stroke: #A80036; stroke-width: 1.0;\" x1=\"358\" x2=\"358\" y1=\"185.9609\" y2=\"198.9609\"/><line style=\"stroke: #A80036; stroke-width: 1.0;\" x1=\"317\" x2=\"358\" y1=\"198.9609\" y2=\"198.9609\"/><polygon fill=\"#A80036\" points=\"327,194.9609,317,198.9609,327,202.9609,323,198.9609\" style=\"stroke: #A80036; stroke-width: 1.0;\"/><text fill=\"#000000\" font-family=\"sans-serif\" font-size=\"13\" font-weight=\"bold\" lengthAdjust=\"spacingAndGlyphs\" textLength=\"9\" x=\"323\" y=\"180.895\">5</text><text fill=\"#000000\" font-family=\"sans-serif\" font-size=\"13\" lengthAdjust=\"spacingAndGlyphs\" textLength=\"165\" x=\"336\" y=\"180.895\">measurementsChanged()</text><line style=\"stroke: #A80036; stroke-width: 1.0;\" x1=\"316\" x2=\"358\" y1=\"228.0938\" y2=\"228.0938\"/><line style=\"stroke: #A80036; stroke-width: 1.0;\" x1=\"358\" x2=\"358\" y1=\"228.0938\" y2=\"241.0938\"/><line style=\"stroke: #A80036; stroke-width: 1.0;\" x1=\"317\" x2=\"358\" y1=\"241.0938\" y2=\"241.0938\"/><polygon fill=\"#A80036\" points=\"327,237.0938,317,241.0938,327,245.0938,323,241.0938\" style=\"stroke: #A80036; stroke-width: 1.0;\"/><text fill=\"#000000\" font-family=\"sans-serif\" font-size=\"13\" font-weight=\"bold\" lengthAdjust=\"spacingAndGlyphs\" textLength=\"9\" x=\"323\" y=\"223.0278\">6</text><text fill=\"#000000\" font-family=\"sans-serif\" font-size=\"13\" lengthAdjust=\"spacingAndGlyphs\" textLength=\"110\" x=\"336\" y=\"223.0278\">notifyObservers()</text><polygon fill=\"#A80036\" points=\"607.5,266.0938,617.5,270.0938,607.5,274.0938,611.5,270.0938\" style=\"stroke: #A80036; stroke-width: 1.0;\"/><line style=\"stroke: #A80036; stroke-width: 1.0;\" x1=\"316\" x2=\"613.5\" y1=\"270.0938\" y2=\"270.0938\"/><text fill=\"#000000\" font-family=\"sans-serif\" font-size=\"13\" font-weight=\"bold\" lengthAdjust=\"spacingAndGlyphs\" textLength=\"9\" x=\"323\" y=\"265.1606\">7</text><text fill=\"#000000\" font-family=\"sans-serif\" font-size=\"13\" lengthAdjust=\"spacingAndGlyphs\" textLength=\"55\" x=\"336\" y=\"265.1606\">update()</text><polygon fill=\"#A80036\" points=\"327,295.2266,317,299.2266,327,303.2266,323,299.2266\" style=\"stroke: #A80036; stroke-width: 1.0;\"/><line style=\"stroke: #A80036; stroke-width: 1.0;\" x1=\"321\" x2=\"618.5\" y1=\"299.2266\" y2=\"299.2266\"/><text fill=\"#000000\" font-family=\"sans-serif\" font-size=\"13\" font-weight=\"bold\" lengthAdjust=\"spacingAndGlyphs\" textLength=\"9\" x=\"333\" y=\"294.2935\">8</text><text fill=\"#000000\" font-family=\"sans-serif\" font-size=\"13\" lengthAdjust=\"spacingAndGlyphs\" textLength=\"62\" x=\"346\" y=\"294.2935\">getData()</text></g></svg>"
      ],
      "text/plain": [
       "<IPython.core.display.SVG object>"
      ]
     },
     "execution_count": 7,
     "metadata": {},
     "output_type": "execute_result"
    }
   ],
   "source": [
    "%%plantuml\n",
    "\n",
    "@startuml\n",
    "participant WeatherStation\n",
    "participant ISubject\n",
    "participant WeatherData\n",
    "participant IObserver\n",
    "participant CurrentDisplay\n",
    "\n",
    "autonumber\n",
    "WeatherStation -> WeatherData:weatherData=new()\n",
    "WeatherStation -> CurrentDisplay:currentDisplay=new(weatherData)\n",
    "WeatherStation -> WeatherData:registerObserver(currentDisplay)\n",
    "WeatherStation -> WeatherData:setMeasurements()\n",
    "WeatherData -> WeatherData:measurementsChanged()\n",
    "WeatherData -> WeatherData:notifyObservers()\n",
    "WeatherData -> CurrentDisplay:update()\n",
    "CurrentDisplay -> WeatherData:getData()\n",
    "@enduml"
   ]
  },
  {
   "cell_type": "code",
   "execution_count": null,
   "metadata": {
    "collapsed": true,
    "slideshow": {
     "slide_type": "subslide"
    }
   },
   "outputs": [],
   "source": [
    "# %load /Users/media/Code/git/sd/src/headfirst/observer/weather/Subject.java\n",
    "package headfirst.observer.weather;\n",
    "\n",
    "public interface Subject {\n",
    "\tpublic void registerObserver(Observer o);\n",
    "\tpublic void removeObserver(Observer o);\n",
    "\tpublic void notifyObservers();\n",
    "}\n"
   ]
  },
  {
   "cell_type": "code",
   "execution_count": null,
   "metadata": {
    "collapsed": true,
    "slideshow": {
     "slide_type": "subslide"
    }
   },
   "outputs": [],
   "source": [
    "# %load /Users/media/Code/git/sd/src/headfirst/observer/weather/Observer.java\n",
    "package headfirst.observer.weather;\n",
    "\n",
    "public interface Observer {\n",
    "\tpublic void update(float temp, float humidity, float pressure);\n",
    "}\n"
   ]
  },
  {
   "cell_type": "code",
   "execution_count": null,
   "metadata": {
    "collapsed": false,
    "slideshow": {
     "slide_type": "subslide"
    }
   },
   "outputs": [],
   "source": [
    "# %load /Users/media/Code/git/sd/src/headfirst/observer/weather/WeatherData.java\n",
    "package headfirst.observer.weather;\n",
    "\n",
    "import java.util.*;\n",
    "\n",
    "public class WeatherData implements Subject {\n",
    "\tprivate ArrayList observers;\n",
    "\tprivate float temperature;\n",
    "\tprivate float humidity;\n",
    "\tprivate float pressure;\n",
    "\t\n",
    "\tpublic WeatherData() {\n",
    "\t\tobservers = new ArrayList();\n",
    "\t}\n",
    "\t\n",
    "\tpublic void registerObserver(Observer o) {\n",
    "\t\tobservers.add(o);\n",
    "\t}\n",
    "\t\n",
    "\tpublic void removeObserver(Observer o) {\n",
    "\t\tint i = observers.indexOf(o);\n",
    "\t\tif (i >= 0) {\n",
    "\t\t\tobservers.remove(i);\n",
    "\t\t}\n",
    "\t}\n",
    "\t\n",
    "\tpublic void notifyObservers() {\n",
    "\t\tfor (int i = 0; i < observers.size(); i++) {\n",
    "\t\t\tObserver observer = (Observer)observers.get(i);\n",
    "\t\t\tobserver.update(temperature, humidity, pressure);\n",
    "\t\t}\n",
    "\t}\n",
    "\t\n",
    "\tpublic void measurementsChanged() {\n",
    "\t\tnotifyObservers();\n",
    "\t}\n",
    "\t\n",
    "\tpublic void setMeasurements(float temperature, float humidity, float pressure) {\n",
    "\t\tthis.temperature = temperature;\n",
    "\t\tthis.humidity = humidity;\n",
    "\t\tthis.pressure = pressure;\n",
    "\t\tmeasurementsChanged();\n",
    "\t}\n",
    "\t\n",
    "\tpublic float getTemperature() {\n",
    "\t\treturn temperature;\n",
    "\t}\n",
    "\t\n",
    "\tpublic float getHumidity() {\n",
    "\t\treturn humidity;\n",
    "\t}\n",
    "\t\n",
    "\tpublic float getPressure() {\n",
    "\t\treturn pressure;\n",
    "\t}\n",
    "}\n"
   ]
  },
  {
   "cell_type": "code",
   "execution_count": null,
   "metadata": {
    "collapsed": true,
    "slideshow": {
     "slide_type": "subslide"
    }
   },
   "outputs": [],
   "source": [
    "# %load /Users/media/Code/git/sd/src/headfirst/observer/weather/CurrentConditionsDisplay.java\n",
    "package headfirst.observer.weather;\n",
    "\t\n",
    "public class CurrentConditionsDisplay implements Observer, DisplayElement {\n",
    "\tprivate float temperature;\n",
    "\tprivate float humidity;\n",
    "\tprivate Subject weatherData;\n",
    "\t\n",
    "\tpublic CurrentConditionsDisplay(Subject weatherData) {\n",
    "\t\tthis.weatherData = weatherData;\n",
    "\t\tweatherData.registerObserver(this);\n",
    "\t}\n",
    "\t\n",
    "\tpublic void update(float temperature, float humidity, float pressure) {\n",
    "\t\tthis.temperature = temperature;\n",
    "\t\tthis.humidity = humidity;\n",
    "\t\tdisplay();\n",
    "\t}\n",
    "\t\n",
    "\tpublic void display() {\n",
    "\t\tSystem.out.println(\"Current conditions: \" + temperature \n",
    "\t\t\t+ \"F degrees and \" + humidity + \"% humidity\");\n",
    "\t}\n",
    "}\n"
   ]
  },
  {
   "cell_type": "code",
   "execution_count": null,
   "metadata": {
    "collapsed": true,
    "slideshow": {
     "slide_type": "subslide"
    }
   },
   "outputs": [],
   "source": [
    "# %load /Users/media/Code/git/sd/src/headfirst/observer/weather/WeatherStation.java\n",
    "package headfirst.observer.weather;\n",
    "\n",
    "import java.util.*;\n",
    "\n",
    "public class WeatherStation {\n",
    "\n",
    "\tpublic static void main(String[] args) {\n",
    "\t\tWeatherData weatherData = new WeatherData();\n",
    "\t\n",
    "\t\tCurrentConditionsDisplay currentDisplay = \n",
    "\t\t\tnew CurrentConditionsDisplay(weatherData);\n",
    "\t\tStatisticsDisplay statisticsDisplay = new StatisticsDisplay(weatherData);\n",
    "\t\tForecastDisplay forecastDisplay = new ForecastDisplay(weatherData);\n",
    "\n",
    "\t\tweatherData.setMeasurements(80, 65, 30.4f);\n",
    "\t\tweatherData.setMeasurements(82, 70, 29.2f);\n",
    "\t\tweatherData.setMeasurements(78, 90, 29.2f);\n",
    "\t}\n",
    "}\n"
   ]
  },
  {
   "cell_type": "code",
   "execution_count": null,
   "metadata": {
    "collapsed": true,
    "slideshow": {
     "slide_type": "subslide"
    }
   },
   "outputs": [],
   "source": [
    "# %load /Users/media/Code/git/sd/src/headfirst/strategy/FlyRocketPowered.java\n",
    "package headfirst.strategy;\n",
    "\n",
    "public class FlyRocketPowered implements FlyBehavior {\n",
    "\tpublic void fly() {\n",
    "\t\tSystem.out.println(\"I'm flying with a rocket\");\n",
    "\t}\n",
    "}\n"
   ]
  },
  {
   "cell_type": "code",
   "execution_count": 13,
   "metadata": {
    "collapsed": false,
    "slideshow": {
     "slide_type": "subslide"
    }
   },
   "outputs": [
    {
     "data": {
      "text/plain": [
       "u'/Users/media/Dropbox/Me/toCopy/smu'"
      ]
     },
     "execution_count": 13,
     "metadata": {},
     "output_type": "execute_result"
    }
   ],
   "source": [
    "%pwd"
   ]
  },
  {
   "cell_type": "code",
   "execution_count": 16,
   "metadata": {
    "collapsed": false,
    "slideshow": {
     "slide_type": "subslide"
    }
   },
   "outputs": [
    {
     "name": "stdout",
     "output_type": "stream",
     "text": [
      "/Users/media/Code/git/sd\n",
      "javac: file not found: src/headfirst/observer/weather/*.java\n",
      "Usage: javac <options> <source files>\n",
      "use -help for a list of possible options\n",
      "오류: 기본 클래스 headfirst.observer.weather.WeatherStation을(를) 찾거나 로드할 수 없습니다.\n"
     ]
    }
   ],
   "source": [
    "# change to the root directory\n",
    "!javac -d classes/ -sourcepath src src/headfirst/observer/weather/*.java\n",
    "!java -cp classes/ headfirst.observer.weather.WeatherStation"
   ]
  },
  {
   "cell_type": "markdown",
   "metadata": {
    "slideshow": {
     "slide_type": "slide"
    }
   },
   "source": [
    "### O.4.2 거북이\n",
    "\n",
    "#### O.4.2.1 아기 거북이 지켜보기\n",
    "\n",
    "* 내용\n",
    "    * 아기거북이가 여기 저기 다닌다.\n",
    "    * 엄마거북이는 아기거북이의 위치가 바뀌면 알아야 하고, 바뀐 위치로 신속하게 이동해야 한다.\n",
    "\n",
    "* 구현 주의:\n",
    "    * 자바에서 제공하는 Observer, Observable을 사용했다.\n",
    "    * 따라서 거북이와 Observable를 모두 상속받는 다중상속이 허용되지 않아서 (자바에서는 java.util.Observable를 클래스로 구현했슴), 거북이를 연관관계로 가지도록 MomTurtle을 구현했다.\n",
    "    * 자바 java.util.Observable의 protected로 패키지클래스 및 상속클래스 외에는 이 함수를 사용하지 못하도록 했다.\n",
    "\n",
    "        ```\n",
    "         69     protected void setChanged() {\n",
    "         70         myCurpos=baby.getPos();\n",
    "         71     }\n",
    "        ```\n",
    "\n",
    "    * Observer의 update를 호출할 때, argument에 메시지가 포함된다.\n",
    "        ```\n",
    "         65     public void notifyObservers() {\n",
    "         66         for(Observer o:obs)\n",
    "         67             o.update(this, 1);\n",
    "         68     }\n",
    "         ```\n"
   ]
  },
  {
   "cell_type": "code",
   "execution_count": null,
   "metadata": {
    "collapsed": true,
    "slideshow": {
     "slide_type": "subslide"
    }
   },
   "outputs": [],
   "source": [
    "# %load /Users/media/Code/git/sd/src/com/sd/turtle/TurtleObserverMain.java\n",
    "/* \n",
    " * @author jsl\n",
    " * @since 20160310\n",
    " * Demonstrate the Observable class and the Observer interface. \n",
    " * The MomTurtle observes and moves to the position of the BabyTurtle.\n",
    " * 1) mom moves and baby also moves\n",
    " * 2) baby's notification is set on to let mom know\n",
    "*/ \n",
    "\n",
    "package com.sd.turtle;\n",
    "\n",
    "import java.util.Observer;\n",
    "import java.util.Observable;\n",
    "import java.util.ArrayList;\n",
    "import java.awt.geom.Point2D.Double;\n",
    "import java.awt.Color;\n",
    "import ch.aplu.turtle.*;\n",
    "\n",
    "public class TurtleObserverMain {\n",
    "    public static void main(String[] args) {\n",
    "        System.out.println(\"--Observer pattern demo\");\n",
    "        //turtle subject\n",
    "        BabyTurtle baby=new BabyTurtle();\n",
    "        //turtle observer\n",
    "        MomTurtle mom=new MomTurtle();\n",
    "        baby.addObserver(mom);\n",
    "        //mom goes to somewhere\n",
    "        mom.moveTo(100,100);\n",
    "        //baby moves and let mom know it\n",
    "        baby.move(100,-100);\n",
    "        //protected method -> others can not set any changes\n",
    "        baby.setChanged();\n",
    "        baby.notifyObservers();\n",
    "    }\n",
    "}\n",
    "\n",
    "class MomTurtle extends Turtle implements Observer {\n",
    "    Double babyCurpos;\n",
    "    public MomTurtle() {\n",
    "        setColor(Color.red);\n",
    "        label(\"mom turtle\");\n",
    "    }\n",
    "    public void update(Observable o, Object arg) {\n",
    "        System.out.println(\"update() called, count is \" + ((Integer)arg).intValue()); \n",
    "        babyCurpos=((BabyTurtle)o).myCurpos;\n",
    "        System.out.println(\"current pos\" + babyCurpos);\n",
    "        moveTo(babyCurpos);\n",
    "    }\n",
    "}\n",
    "\n",
    "//BayTurtle did not inherit Turtle\n",
    "//because multiple inheritance is not allowed in java\n",
    "class BabyTurtle extends Observable {\n",
    "    Turtle baby;\n",
    "    Double myCurpos;\n",
    "    ArrayList<Observer> obs;\n",
    "    public BabyTurtle() {\n",
    "        baby = new Turtle();\n",
    "        myCurpos=baby.getPos();\n",
    "        obs=new ArrayList<Observer>();\n",
    "    }\n",
    "    public void addObserver(Observer o) {\n",
    "        obs.add(o);\n",
    "    }\n",
    "    public void notifyObservers() {\n",
    "        for(Observer o:obs)\n",
    "            o.update(this, 1);\n",
    "    }\n",
    "    protected void setChanged() {\n",
    "        myCurpos=baby.getPos();\n",
    "    }\n",
    "    public void move(int x, int y) {\n",
    "        baby.moveTo(x,y);\n",
    "    }\n",
    "}\n"
   ]
  },
  {
   "cell_type": "code",
   "execution_count": null,
   "metadata": {
    "collapsed": true,
    "slideshow": {
     "slide_type": "subslide"
    }
   },
   "outputs": [],
   "source": [
    "!javac -d classes/ -cp lib/aplu5.jar:classes/ -sourcepath src/ src/com/sd/turtle/TurtleObserverMain.java \n",
    "!java -cp lib/aplu5.jar:classes/ com.sd.turtle.TurtleObserverMain"
   ]
  },
  {
   "cell_type": "markdown",
   "metadata": {
    "slideshow": {
     "slide_type": "slide"
    }
   },
   "source": [
    "#### O.4.2.2 거북이 키/마우스로 움직이기\n",
    "\n",
    "* 키보드/ 마우스에 이벤트가 발생하면 거북이를 움직인다.\n",
    "* Observer패턴을 사용한다.\n",
    "* KeyAdapter, MouseAdapter, MouseMotionAdapter를 사용한다.\n"
   ]
  }
 ],
 "metadata": {
  "celltoolbar": "Slideshow",
  "kernelspec": {
   "display_name": "Python 2",
   "language": "python",
   "name": "python2"
  },
  "language_info": {
   "codemirror_mode": {
    "name": "ipython",
    "version": 2
   },
   "file_extension": ".py",
   "mimetype": "text/x-python",
   "name": "python",
   "nbconvert_exporter": "python",
   "pygments_lexer": "ipython2",
   "version": "2.7.12"
  }
 },
 "nbformat": 4,
 "nbformat_minor": 0
}
