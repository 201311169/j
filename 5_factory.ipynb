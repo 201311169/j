{
 "cells": [
  {
   "cell_type": "markdown",
   "metadata": {
    "slideshow": {
     "slide_type": "slide"
    }
   },
   "source": [
    "# 강의내용\n",
    "\n",
    "* 교재 4장 HFDP Ch4\n",
    "* Factory 패턴 (Creational Design Pattern)\n",
    "* 프로그래밍 'Pizza' (HFDP Ch4)\n",
    "* TOC\n",
    "    * intro\n",
    "    * problems\n",
    "    * before\n",
    "    * design\n",
    "    * after\n",
    "    * case implementation\n",
    "    * exercise (by Sat to git: 50% for 1 day late deadline) \n",
    "        * case extension\n",
    "            * simple factory - potato pizza\n",
    "            * factory method - SMstyle potato pizza\n",
    "            * abstract factory - potato (mashed, sliced)\n",
    "        * new case -  도형"
   ]
  },
  {
   "cell_type": "markdown",
   "metadata": {
    "slideshow": {
     "slide_type": "slide"
    }
   },
   "source": [
    "# 1. Facotry 패턴\n",
    "\n",
    "\n",
    "* Client - 생성할 구체클래스를 명시할 필요 없슴. 팩토리가 생성해서 반환하는 객체를 사용함.\n",
    "* 객체종류가 늘어나도 클라이언트 소스 변경 정도 적음\n",
    "* 구분\n",
    "    * simple factory\n",
    "        * encapsulate instantiation. 객체생성을 구체클래스에 맡기지 않음.\n",
    "    * factory method\n",
    "        * defer instantiation to subclasses.\n",
    "        * GoF \"Define an interface for creating an object, but let the classes which implement the interface decide which class to instantiate. The Factory method lets a class defer instantiation to subclasses\"\n",
    "    * abstract factory\n",
    "        * GoF \"to provide an interface for creating families of related or dependent objects without specifying their concrete classes.\"\n",
    "\n",
    "* cases\n",
    "    * HFDP Pizza\n",
    "    * java valueOf(), getInstance(), newInstance()\n",
    "    * HotDraw shape\n",
    "\n",
    "* 디자인패턴 요소\n",
    "\n",
    "요소 | 설명\n",
    "---|---\n",
    "name | Factory\n",
    "problem | 생성한 구체클래스의 변경에 따른 연쇄 수정.\n",
    "solution | 생성을 감춤 (단순 factory, factory method, abstract factory\n",
    "consequence | 확장성"
   ]
  },
  {
   "cell_type": "markdown",
   "metadata": {
    "slideshow": {
     "slide_type": "slide"
    }
   },
   "source": [
    "# 2. 문제\n",
    "\n",
    "* new의 문제\n",
    "    * new()는 인터페이스가 아니라 구체클래스를 생성.\n",
    "    * 구체 클래스가 많아지거나, 변경되면?\n",
    "* 인터페이스를 사용하면 새로운 클래스가 추가되거나, 변경에도 많은 수정이 필요없슴.\n",
    "* 인터페이스란 자바에서 'implements'하는 인터페이스만을 뜻하는 것이 아니라, 슈퍼타잎(클래스 또는 인터페이스)을 구현하는 것을 말함 (p.117)"
   ]
  },
  {
   "cell_type": "code",
   "execution_count": null,
   "metadata": {
    "collapsed": true
   },
   "outputs": [],
   "source": [
    "import os\n",
    "import glob\n",
    "\n",
    "mywd=%pwd\n",
    "myplantdir=os.path.join(mywd,'lib')\n",
    "mydotdir=!which dot\n",
    "mydot=mydotdir[0]\n",
    "\n",
    "%cd {myplantdir}\n",
    "glob.glob(r'./*.jar')\n",
    "os.environ['GRAPHVIZ_DOT']=mydot\n",
    "!java -jar {myplantdir}/plantuml.jar -testdot"
   ]
  },
  {
   "cell_type": "code",
   "execution_count": 1,
   "metadata": {
    "collapsed": false,
    "slideshow": {
     "slide_type": "slide"
    }
   },
   "outputs": [
    {
     "name": "stdout",
     "output_type": "stream",
     "text": [
      "Installed plantuml_magics.py. To use it, type:\n",
      "  %load_ext plantuml_magics\n"
     ]
    }
   ],
   "source": [
    "%install_ext https://raw.githubusercontent.com/sberke/ipython-plantuml/master/plantuml_magics.py"
   ]
  },
  {
   "cell_type": "code",
   "execution_count": 3,
   "metadata": {
    "collapsed": false,
    "slideshow": {
     "slide_type": "slide"
    }
   },
   "outputs": [
    {
     "name": "stdout",
     "output_type": "stream",
     "text": [
      "The plantuml_magics extension is already loaded. To reload it, use:\n",
      "  %reload_ext plantuml_magics\n"
     ]
    }
   ],
   "source": [
    "%load_ext plantuml_magics"
   ]
  },
  {
   "cell_type": "markdown",
   "metadata": {
    "slideshow": {
     "slide_type": "slide"
    }
   },
   "source": [
    "# 3. before\n",
    "\n",
    "* new()를 호출. 구체클래스를 생성. DecoyDuck, MallardDuck, RubberDuck.\n",
    "* not closed for modification (생성할 객체가 늘어나면 클라이언트 수정량 많아짐)"
   ]
  },
  {
   "cell_type": "code",
   "execution_count": 7,
   "metadata": {
    "collapsed": false,
    "slideshow": {
     "slide_type": "slide"
    }
   },
   "outputs": [
    {
     "data": {
      "image/svg+xml": [
       "<svg height=\"315px\" style=\"width:265px;height:315px;\" version=\"1.1\" viewBox=\"0 0 265 315\" width=\"265px\" xmlns=\"http://www.w3.org/2000/svg\" xmlns:xlink=\"http://www.w3.org/1999/xlink\"><defs><filter height=\"300%\" id=\"f1\" width=\"300%\" x=\"-1\" y=\"-1\"><feGaussianBlur result=\"blurOut\" stdDeviation=\"2.0\"/><feColorMatrix in=\"blurOut\" result=\"blurOut2\" type=\"matrix\" values=\"0 0 0 0 0 0 0 0 0 0 0 0 0 0 0 0 0 0 .4 0\"/><feOffset dx=\"4.0\" dy=\"4.0\" in=\"blurOut2\" result=\"blurOut3\"/><feBlend in=\"SourceGraphic\" in2=\"blurOut3\" mode=\"normal\"/></filter></defs><g><rect fill=\"#FEFECE\" filter=\"url(#f1)\" height=\"48\" style=\"stroke: #A80036; stroke-width: 1.5;\" width=\"64\" x=\"26\" y=\"133\"/><ellipse cx=\"41\" cy=\"149\" fill=\"#ADD1B2\" rx=\"11\" ry=\"11\" style=\"stroke: #A80036; stroke-width: 1.0;\"/><path d=\"M43.9731,154.6431 Q43.3921,154.9419 42.7529,155.0913 Q42.1138,155.2407 41.4082,155.2407 Q38.9014,155.2407 37.5815,153.5889 Q36.2617,151.937 36.2617,148.8159 Q36.2617,145.6865 37.5815,144.0347 Q38.9014,142.3828 41.4082,142.3828 Q42.1138,142.3828 42.7612,142.5322 Q43.4087,142.6816 43.9731,142.9805 L43.9731,145.7031 Q43.3423,145.1221 42.7488,144.8523 Q42.1553,144.5825 41.5244,144.5825 Q40.1797,144.5825 39.4949,145.6492 Q38.8101,146.7158 38.8101,148.8159 Q38.8101,150.9077 39.4949,151.9744 Q40.1797,153.041 41.5244,153.041 Q42.1553,153.041 42.7488,152.7712 Q43.3423,152.5015 43.9731,151.9204 Z \"/><text fill=\"#000000\" font-family=\"sans-serif\" font-size=\"12\" lengthAdjust=\"spacingAndGlyphs\" textLength=\"32\" x=\"55\" y=\"153.5352\">Client</text><line style=\"stroke: #A80036; stroke-width: 1.5;\" x1=\"27\" x2=\"89\" y1=\"165\" y2=\"165\"/><line style=\"stroke: #A80036; stroke-width: 1.5;\" x1=\"27\" x2=\"89\" y1=\"173\" y2=\"173\"/><rect fill=\"#FEFECE\" filter=\"url(#f1)\" height=\"48\" style=\"stroke: #A80036; stroke-width: 1.5;\" width=\"104\" x=\"6\" y=\"8\"/><ellipse cx=\"21\" cy=\"24\" fill=\"#ADD1B2\" rx=\"11\" ry=\"11\" style=\"stroke: #A80036; stroke-width: 1.0;\"/><path d=\"M23.9731,29.6431 Q23.3921,29.9419 22.7529,30.0913 Q22.1138,30.2407 21.4082,30.2407 Q18.9014,30.2407 17.5815,28.5889 Q16.2617,26.937 16.2617,23.8159 Q16.2617,20.6865 17.5815,19.0347 Q18.9014,17.3828 21.4082,17.3828 Q22.1138,17.3828 22.7612,17.5322 Q23.4087,17.6816 23.9731,17.9805 L23.9731,20.7031 Q23.3423,20.1221 22.7488,19.8523 Q22.1553,19.5825 21.5244,19.5825 Q20.1797,19.5825 19.4949,20.6492 Q18.8101,21.7158 18.8101,23.8159 Q18.8101,25.9077 19.4949,26.9744 Q20.1797,28.041 21.5244,28.041 Q22.1553,28.041 22.7488,27.7712 Q23.3423,27.5015 23.9731,26.9204 Z \"/><text fill=\"#000000\" font-family=\"sans-serif\" font-size=\"12\" lengthAdjust=\"spacingAndGlyphs\" textLength=\"72\" x=\"35\" y=\"28.5352\">MallardDuck</text><line style=\"stroke: #A80036; stroke-width: 1.5;\" x1=\"7\" x2=\"109\" y1=\"40\" y2=\"40\"/><line style=\"stroke: #A80036; stroke-width: 1.5;\" x1=\"7\" x2=\"109\" y1=\"48\" y2=\"48\"/><rect fill=\"#FEFECE\" filter=\"url(#f1)\" height=\"48\" style=\"stroke: #A80036; stroke-width: 1.5;\" width=\"96\" x=\"160\" y=\"133\"/><ellipse cx=\"175\" cy=\"149\" fill=\"#ADD1B2\" rx=\"11\" ry=\"11\" style=\"stroke: #A80036; stroke-width: 1.0;\"/><path d=\"M177.9731,154.6431 Q177.3921,154.9419 176.7529,155.0913 Q176.1138,155.2407 175.4082,155.2407 Q172.9014,155.2407 171.5815,153.5889 Q170.2617,151.937 170.2617,148.8159 Q170.2617,145.6865 171.5815,144.0347 Q172.9014,142.3828 175.4082,142.3828 Q176.1138,142.3828 176.7612,142.5322 Q177.4087,142.6816 177.9731,142.9805 L177.9731,145.7031 Q177.3423,145.1221 176.7488,144.8523 Q176.1553,144.5825 175.5244,144.5825 Q174.1797,144.5825 173.4949,145.6492 Q172.8101,146.7158 172.8101,148.8159 Q172.8101,150.9077 173.4949,151.9744 Q174.1797,153.041 175.5244,153.041 Q176.1553,153.041 176.7488,152.7712 Q177.3423,152.5015 177.9731,151.9204 Z \"/><text fill=\"#000000\" font-family=\"sans-serif\" font-size=\"12\" lengthAdjust=\"spacingAndGlyphs\" textLength=\"64\" x=\"189\" y=\"153.5352\">DecoyDuck</text><line style=\"stroke: #A80036; stroke-width: 1.5;\" x1=\"161\" x2=\"255\" y1=\"165\" y2=\"165\"/><line style=\"stroke: #A80036; stroke-width: 1.5;\" x1=\"161\" x2=\"255\" y1=\"173\" y2=\"173\"/><rect fill=\"#FEFECE\" filter=\"url(#f1)\" height=\"48\" style=\"stroke: #A80036; stroke-width: 1.5;\" width=\"104\" x=\"6\" y=\"258\"/><ellipse cx=\"21\" cy=\"274\" fill=\"#ADD1B2\" rx=\"11\" ry=\"11\" style=\"stroke: #A80036; stroke-width: 1.0;\"/><path d=\"M23.9731,279.6431 Q23.3921,279.9419 22.7529,280.0913 Q22.1138,280.2407 21.4082,280.2407 Q18.9014,280.2407 17.5815,278.5889 Q16.2617,276.937 16.2617,273.8159 Q16.2617,270.6865 17.5815,269.0347 Q18.9014,267.3828 21.4082,267.3828 Q22.1138,267.3828 22.7612,267.5322 Q23.4087,267.6816 23.9731,267.9805 L23.9731,270.7031 Q23.3423,270.1221 22.7488,269.8523 Q22.1553,269.5825 21.5244,269.5825 Q20.1797,269.5825 19.4949,270.6492 Q18.8101,271.7158 18.8101,273.8159 Q18.8101,275.9077 19.4949,276.9744 Q20.1797,278.041 21.5244,278.041 Q22.1553,278.041 22.7488,277.7712 Q23.3423,277.5015 23.9731,276.9204 Z \"/><text fill=\"#000000\" font-family=\"sans-serif\" font-size=\"12\" lengthAdjust=\"spacingAndGlyphs\" textLength=\"72\" x=\"35\" y=\"278.5352\">RubberDuck</text><line style=\"stroke: #A80036; stroke-width: 1.5;\" x1=\"7\" x2=\"109\" y1=\"290\" y2=\"290\"/><line style=\"stroke: #A80036; stroke-width: 1.5;\" x1=\"7\" x2=\"109\" y1=\"298\" y2=\"298\"/><path d=\"M58,61.203 C58,82.947 58,112.642 58,132.968 \" fill=\"none\" style=\"stroke: #A80036; stroke-width: 1.0;\"/><polygon fill=\"#A80036\" points=\"58,56.135,54,65.135,58,61.135,62,65.135,58,56.135\" style=\"stroke: #A80036; stroke-width: 1.0;\"/><text fill=\"#000000\" font-family=\"sans-serif\" font-size=\"13\" lengthAdjust=\"spacingAndGlyphs\" textLength=\"33\" x=\"59\" y=\"99.5684\">new()</text><path d=\"M90.1788,157 C108.987,157 133.198,157 154.776,157 \" fill=\"none\" style=\"stroke: #A80036; stroke-width: 1.0;\"/><polygon fill=\"#A80036\" points=\"159.91,157,150.91,153,154.91,157,150.91,161,159.91,157\" style=\"stroke: #A80036; stroke-width: 1.0;\"/><text fill=\"#000000\" font-family=\"sans-serif\" font-size=\"13\" lengthAdjust=\"spacingAndGlyphs\" textLength=\"33\" x=\"108.5\" y=\"150.5684\">new()</text><path d=\"M58,181.135 C58,201.494 58,231.1907 58,252.908 \" fill=\"none\" style=\"stroke: #A80036; stroke-width: 1.0;\"/><polygon fill=\"#A80036\" points=\"58,257.9684,62,248.9684,58,252.9684,54,248.9684,58,257.9684\" style=\"stroke: #A80036; stroke-width: 1.0;\"/><text fill=\"#000000\" font-family=\"sans-serif\" font-size=\"13\" lengthAdjust=\"spacingAndGlyphs\" textLength=\"33\" x=\"59\" y=\"224.5684\">new()</text></g></svg>"
      ],
      "text/plain": [
       "<IPython.core.display.SVG object>"
      ]
     },
     "execution_count": 7,
     "metadata": {},
     "output_type": "execute_result"
    }
   ],
   "source": [
    "%%plantuml\n",
    "@startuml\n",
    "class Client\n",
    "class MallardDuck\n",
    "class DecoyDuck\n",
    "class RubberDuck\n",
    "Client -up-> MallardDuck:new()\n",
    "Client -> DecoyDuck:new()\n",
    "Client -down-> RubberDuck:new()\n",
    "@enduml"
   ]
  },
  {
   "cell_type": "markdown",
   "metadata": {
    "slideshow": {
     "slide_type": "slide"
    }
   },
   "source": [
    "# 4. 설계\n",
    "\n",
    "* 상속\n",
    "    * 컴파일시점에 supertype을 사용 -> 사용할 객체 타잎만 결정하고 (추상화)\n",
    "    * 런타임에 실제 사용할 객체(subtype)를 결정\n",
    "* DIP (Dependency Inversion Principle) (p.143)\n",
    "    * 구체클래스를 참조하지 않음 -> no variable should hold a ref to a concrete class\n",
    "    * 구체클래스를 상속받지말 것! -> No class should derive from a concrete class\n",
    "    * 부모클래스가 구현한 함수를 재정의하지 말 것! No method should override an implemented method of any of its base classes\n",
    "* Simple Factory\n",
    "    * if문으로 사용객체의 new()를 결정.\n",
    "* Factory Method\n",
    "    * Creator (Factory)\n",
    "        * 인터페이스/(추상)클래스로 구현.\n",
    "        * factory method 갖고, child클래스가 재정의함.\n",
    "        * factory method가 사용할 객체 반환\n",
    "    * Product - factory에 대응\n",
    "* Abstract Factory\n",
    "    * Creator - factory method\n",
    "    * Product - product families\n"
   ]
  },
  {
   "cell_type": "code",
   "execution_count": 8,
   "metadata": {
    "collapsed": false,
    "slideshow": {
     "slide_type": "slide"
    }
   },
   "outputs": [
    {
     "data": {
      "image/svg+xml": [
       "<svg height=\"186px\" style=\"width:303px;height:186px;\" version=\"1.1\" viewBox=\"0 0 303 186\" width=\"303px\" xmlns=\"http://www.w3.org/2000/svg\" xmlns:xlink=\"http://www.w3.org/1999/xlink\"><defs><filter height=\"300%\" id=\"f1\" width=\"300%\" x=\"-1\" y=\"-1\"><feGaussianBlur result=\"blurOut\" stdDeviation=\"2.0\"/><feColorMatrix in=\"blurOut\" result=\"blurOut2\" type=\"matrix\" values=\"0 0 0 0 0 0 0 0 0 0 0 0 0 0 0 0 0 0 .4 0\"/><feOffset dx=\"4.0\" dy=\"4.0\" in=\"blurOut2\" result=\"blurOut3\"/><feBlend in=\"SourceGraphic\" in2=\"blurOut3\" mode=\"normal\"/></filter></defs><g><rect fill=\"#FEFECE\" filter=\"url(#f1)\" height=\"60.9551\" style=\"stroke: #A80036; stroke-width: 1.5;\" width=\"98\" x=\"20\" y=\"8\"/><ellipse cx=\"45.35\" cy=\"24\" fill=\"#ADD1B2\" rx=\"11\" ry=\"11\" style=\"stroke: #A80036; stroke-width: 1.0;\"/><path d=\"M48.3231,29.6431 Q47.7421,29.9419 47.1029,30.0913 Q46.4638,30.2407 45.7582,30.2407 Q43.2514,30.2407 41.9315,28.5889 Q40.6117,26.937 40.6117,23.8159 Q40.6117,20.6865 41.9315,19.0347 Q43.2514,17.3828 45.7582,17.3828 Q46.4638,17.3828 47.1112,17.5322 Q47.7587,17.6816 48.3231,17.9805 L48.3231,20.7031 Q47.6923,20.1221 47.0988,19.8523 Q46.5053,19.5825 45.8744,19.5825 Q44.5297,19.5825 43.8449,20.6492 Q43.1601,21.7158 43.1601,23.8159 Q43.1601,25.9077 43.8449,26.9744 Q44.5297,28.041 45.8744,28.041 Q46.5053,28.041 47.0988,27.7712 Q47.6923,27.5015 48.3231,26.9204 Z \"/><text fill=\"#000000\" font-family=\"sans-serif\" font-size=\"12\" lengthAdjust=\"spacingAndGlyphs\" textLength=\"43\" x=\"61.65\" y=\"28.5352\">Creator</text><line style=\"stroke: #A80036; stroke-width: 1.5;\" x1=\"21\" x2=\"117\" y1=\"40\" y2=\"40\"/><line style=\"stroke: #A80036; stroke-width: 1.5;\" x1=\"21\" x2=\"117\" y1=\"48\" y2=\"48\"/><text fill=\"#000000\" font-family=\"sans-serif\" font-size=\"11\" lengthAdjust=\"spacingAndGlyphs\" textLength=\"86\" x=\"26\" y=\"62.6348\">factoryMethod()</text><rect fill=\"#FEFECE\" filter=\"url(#f1)\" height=\"48\" style=\"stroke: #A80036; stroke-width: 1.5;\" width=\"126\" x=\"6\" y=\"129\"/><ellipse cx=\"21\" cy=\"145\" fill=\"#ADD1B2\" rx=\"11\" ry=\"11\" style=\"stroke: #A80036; stroke-width: 1.0;\"/><path d=\"M23.9731,150.6431 Q23.3921,150.9419 22.7529,151.0913 Q22.1138,151.2407 21.4082,151.2407 Q18.9014,151.2407 17.5815,149.5889 Q16.2617,147.937 16.2617,144.8159 Q16.2617,141.6865 17.5815,140.0347 Q18.9014,138.3828 21.4082,138.3828 Q22.1138,138.3828 22.7612,138.5322 Q23.4087,138.6816 23.9731,138.9805 L23.9731,141.7031 Q23.3423,141.1221 22.7488,140.8523 Q22.1553,140.5825 21.5244,140.5825 Q20.1797,140.5825 19.4949,141.6492 Q18.8101,142.7158 18.8101,144.8159 Q18.8101,146.9077 19.4949,147.9744 Q20.1797,149.041 21.5244,149.041 Q22.1553,149.041 22.7488,148.7712 Q23.3423,148.5015 23.9731,147.9204 Z \"/><text fill=\"#000000\" font-family=\"sans-serif\" font-size=\"12\" lengthAdjust=\"spacingAndGlyphs\" textLength=\"94\" x=\"35\" y=\"149.5352\">ConcreteCreator</text><line style=\"stroke: #A80036; stroke-width: 1.5;\" x1=\"7\" x2=\"131\" y1=\"161\" y2=\"161\"/><line style=\"stroke: #A80036; stroke-width: 1.5;\" x1=\"7\" x2=\"131\" y1=\"169\" y2=\"169\"/><rect fill=\"#FEFECE\" filter=\"url(#f1)\" height=\"48\" style=\"stroke: #A80036; stroke-width: 1.5;\" width=\"76\" x=\"193\" y=\"14.5\"/><ellipse cx=\"208\" cy=\"30.5\" fill=\"#ADD1B2\" rx=\"11\" ry=\"11\" style=\"stroke: #A80036; stroke-width: 1.0;\"/><path d=\"M210.9731,36.1431 Q210.3921,36.4419 209.7529,36.5913 Q209.1138,36.7407 208.4082,36.7407 Q205.9014,36.7407 204.5815,35.0889 Q203.2617,33.437 203.2617,30.3159 Q203.2617,27.1865 204.5815,25.5347 Q205.9014,23.8828 208.4082,23.8828 Q209.1138,23.8828 209.7612,24.0322 Q210.4087,24.1816 210.9731,24.4805 L210.9731,27.2031 Q210.3423,26.6221 209.7488,26.3523 Q209.1553,26.0825 208.5244,26.0825 Q207.1797,26.0825 206.4949,27.1492 Q205.8101,28.2158 205.8101,30.3159 Q205.8101,32.4077 206.4949,33.4744 Q207.1797,34.541 208.5244,34.541 Q209.1553,34.541 209.7488,34.2712 Q210.3423,34.0015 210.9731,33.4204 Z \"/><text fill=\"#000000\" font-family=\"sans-serif\" font-size=\"12\" lengthAdjust=\"spacingAndGlyphs\" textLength=\"44\" x=\"222\" y=\"35.0352\">Product</text><line style=\"stroke: #A80036; stroke-width: 1.5;\" x1=\"194\" x2=\"268\" y1=\"46.5\" y2=\"46.5\"/><line style=\"stroke: #A80036; stroke-width: 1.5;\" x1=\"194\" x2=\"268\" y1=\"54.5\" y2=\"54.5\"/><rect fill=\"#FEFECE\" filter=\"url(#f1)\" height=\"48\" style=\"stroke: #A80036; stroke-width: 1.5;\" width=\"127\" x=\"167.5\" y=\"129\"/><ellipse cx=\"182.5\" cy=\"145\" fill=\"#ADD1B2\" rx=\"11\" ry=\"11\" style=\"stroke: #A80036; stroke-width: 1.0;\"/><path d=\"M185.4731,150.6431 Q184.8921,150.9419 184.2529,151.0913 Q183.6138,151.2407 182.9082,151.2407 Q180.4014,151.2407 179.0815,149.5889 Q177.7617,147.937 177.7617,144.8159 Q177.7617,141.6865 179.0815,140.0347 Q180.4014,138.3828 182.9082,138.3828 Q183.6138,138.3828 184.2612,138.5322 Q184.9087,138.6816 185.4731,138.9805 L185.4731,141.7031 Q184.8423,141.1221 184.2488,140.8523 Q183.6553,140.5825 183.0244,140.5825 Q181.6797,140.5825 180.9949,141.6492 Q180.3101,142.7158 180.3101,144.8159 Q180.3101,146.9077 180.9949,147.9744 Q181.6797,149.041 183.0244,149.041 Q183.6553,149.041 184.2488,148.7712 Q184.8423,148.5015 185.4731,147.9204 Z \"/><text fill=\"#000000\" font-family=\"sans-serif\" font-size=\"12\" lengthAdjust=\"spacingAndGlyphs\" textLength=\"95\" x=\"196.5\" y=\"149.5352\">ConcreteProduct</text><line style=\"stroke: #A80036; stroke-width: 1.5;\" x1=\"168.5\" x2=\"293.5\" y1=\"161\" y2=\"161\"/><line style=\"stroke: #A80036; stroke-width: 1.5;\" x1=\"168.5\" x2=\"293.5\" y1=\"169\" y2=\"169\"/><path d=\"M69,89.1067 C69,102.8764 69,117.1847 69,128.6686 \" fill=\"none\" style=\"stroke: #A80036; stroke-width: 1.0;\"/><polygon fill=\"none\" points=\"62.0001,89.0581,69,69.058,76.0001,89.058,62.0001,89.0581\" style=\"stroke: #A80036; stroke-width: 1.0;\"/><path d=\"M231,82.6449 C231,98.4205 231,115.6523 231,128.9933 \" fill=\"none\" style=\"stroke: #A80036; stroke-width: 1.0;\"/><polygon fill=\"none\" points=\"224,82.5376,231,62.538,238,82.5375,224,82.5376\" style=\"stroke: #A80036; stroke-width: 1.0;\"/><path d=\"M132.281,153 C142.242,153 152.203,153 162.164,153 \" fill=\"none\" style=\"stroke: #A80036; stroke-width: 1.0;\"/><polygon fill=\"#A80036\" points=\"167.373,153,158.373,149,162.373,153,158.373,157,167.373,153\" style=\"stroke: #A80036; stroke-width: 1.0;\"/></g></svg>"
      ],
      "text/plain": [
       "<IPython.core.display.SVG object>"
      ]
     },
     "execution_count": 8,
     "metadata": {},
     "output_type": "execute_result"
    }
   ],
   "source": [
    "%%plantuml\n",
    "@startuml\n",
    "Creator <|-- ConcreteCreator\n",
    "Product <|-- ConcreteProduct\n",
    "class Creator {\n",
    "  factoryMethod()\n",
    "}\n",
    "ConcreteCreator -right-> ConcreteProduct\n",
    "@enduml"
   ]
  },
  {
   "cell_type": "markdown",
   "metadata": {
    "slideshow": {
     "slide_type": "slide"
    }
   },
   "source": [
    "# 5. after\n",
    "\n",
    "* DIP\n",
    "* 3가지 factory"
   ]
  },
  {
   "cell_type": "markdown",
   "metadata": {
    "slideshow": {
     "slide_type": "slide"
    }
   },
   "source": [
    "## 5.1. simple factory\n",
    "\n",
    "* p.115 - if문으로 어느 객체를 생성할지 판단, 클라이언트에게 맞는 객체 반환\n",
    "* 클라이언트PizzaStore는 직접 new하지 않고 객체를 사용."
   ]
  },
  {
   "cell_type": "code",
   "execution_count": 9,
   "metadata": {
    "collapsed": false,
    "slideshow": {
     "slide_type": "slide"
    }
   },
   "outputs": [
    {
     "data": {
      "image/svg+xml": [
       "<svg height=\"210px\" style=\"width:523px;height:210px;\" version=\"1.1\" viewBox=\"0 0 523 210\" width=\"523px\" xmlns=\"http://www.w3.org/2000/svg\" xmlns:xlink=\"http://www.w3.org/1999/xlink\"><defs><filter height=\"300%\" id=\"f1\" width=\"300%\" x=\"-1\" y=\"-1\"><feGaussianBlur result=\"blurOut\" stdDeviation=\"2.0\"/><feColorMatrix in=\"blurOut\" result=\"blurOut2\" type=\"matrix\" values=\"0 0 0 0 0 0 0 0 0 0 0 0 0 0 0 0 0 0 .4 0\"/><feOffset dx=\"4.0\" dy=\"4.0\" in=\"blurOut2\" result=\"blurOut3\"/><feBlend in=\"SourceGraphic\" in2=\"blurOut3\" mode=\"normal\"/></filter></defs><g><rect fill=\"#FEFECE\" filter=\"url(#f1)\" height=\"60.9551\" style=\"stroke: #A80036; stroke-width: 1.5;\" width=\"204\" x=\"6\" y=\"74.5\"/><ellipse cx=\"48.9\" cy=\"90.5\" fill=\"#ADD1B2\" rx=\"11\" ry=\"11\" style=\"stroke: #A80036; stroke-width: 1.0;\"/><path d=\"M51.8731,96.1431 Q51.2921,96.4419 50.6529,96.5913 Q50.0138,96.7407 49.3082,96.7407 Q46.8014,96.7407 45.4815,95.0889 Q44.1617,93.437 44.1617,90.3159 Q44.1617,87.1865 45.4815,85.5347 Q46.8014,83.8828 49.3082,83.8828 Q50.0138,83.8828 50.6612,84.0322 Q51.3087,84.1816 51.8731,84.4805 L51.8731,87.2031 Q51.2423,86.6221 50.6488,86.3523 Q50.0553,86.0825 49.4244,86.0825 Q48.0797,86.0825 47.3949,87.1492 Q46.7101,88.2158 46.7101,90.3159 Q46.7101,92.4077 47.3949,93.4744 Q48.0797,94.541 49.4244,94.541 Q50.0553,94.541 50.6488,94.2712 Q51.2423,94.0015 51.8731,93.4204 Z \"/><text fill=\"#000000\" font-family=\"sans-serif\" font-size=\"12\" lengthAdjust=\"spacingAndGlyphs\" textLength=\"110\" x=\"69.1\" y=\"95.0352\">SimplePizzaFactory</text><line style=\"stroke: #A80036; stroke-width: 1.5;\" x1=\"7\" x2=\"209\" y1=\"106.5\" y2=\"106.5\"/><line style=\"stroke: #A80036; stroke-width: 1.5;\" x1=\"7\" x2=\"209\" y1=\"114.5\" y2=\"114.5\"/><text fill=\"#000000\" font-family=\"sans-serif\" font-size=\"11\" lengthAdjust=\"spacingAndGlyphs\" textLength=\"192\" x=\"12\" y=\"129.1348\">public Pizza createPizza(String type)</text><polygon fill=\"#FBFB77\" filter=\"url(#f1)\" points=\"245.5,8,245.5,201.7266,514.5,201.7266,514.5,18,504.5,8,245.5,8\" style=\"stroke: #A80036; stroke-width: 1.0;\"/><polygon fill=\"#FBFB77\" points=\"245.5,8,245.5,101,210.266,105,245.5,109,245.5,201.7266,514.5,201.7266,514.5,18,504.5,8,245.5,8\" style=\"stroke: #A80036; stroke-width: 1.0;\"/><line style=\"stroke: #A80036; stroke-width: 1.0;\" x1=\"504.5\" x2=\"504.5\" y1=\"8\" y2=\"18\"/><line style=\"stroke: #A80036; stroke-width: 1.0;\" x1=\"514.5\" x2=\"504.5\" y1=\"18\" y2=\"18\"/><text fill=\"#000000\" font-family=\"sans-serif\" font-size=\"13\" lengthAdjust=\"spacingAndGlyphs\" textLength=\"248\" x=\"251.5\" y=\"25.5684\">&quot;&quot;&quot;public Pizza createPizza(String type) {</text><text fill=\"#000000\" font-family=\"sans-serif\" font-size=\"13\" lengthAdjust=\"spacingAndGlyphs\" textLength=\"107\" x=\"267.5\" y=\"40.8789\">Pizza pizza=null;</text><text fill=\"#000000\" font-family=\"sans-serif\" font-size=\"13\" lengthAdjust=\"spacingAndGlyphs\" textLength=\"150\" x=\"267.5\" y=\"56.1895\">if(type.equals(&quot;cheese&quot;))</text><text fill=\"#000000\" font-family=\"sans-serif\" font-size=\"13\" lengthAdjust=\"spacingAndGlyphs\" textLength=\"161\" x=\"283.5\" y=\"71.5\">pizza=new CheesePizza();</text><text fill=\"#000000\" font-family=\"sans-serif\" font-size=\"13\" lengthAdjust=\"spacingAndGlyphs\" textLength=\"199\" x=\"267.5\" y=\"86.8105\">else if(type.equals(&quot;pepperoni&quot;))</text><text fill=\"#000000\" font-family=\"sans-serif\" font-size=\"13\" lengthAdjust=\"spacingAndGlyphs\" textLength=\"178\" x=\"283.5\" y=\"102.1211\">pizza=new PepperoniPizza();</text><text fill=\"#000000\" font-family=\"sans-serif\" font-size=\"13\" lengthAdjust=\"spacingAndGlyphs\" textLength=\"166\" x=\"267.5\" y=\"117.4316\">else if(type.equals(&quot;clam&quot;))</text><text fill=\"#000000\" font-family=\"sans-serif\" font-size=\"13\" lengthAdjust=\"spacingAndGlyphs\" textLength=\"148\" x=\"283.5\" y=\"132.7422\">pizza=new ClamPizza();</text><text fill=\"#000000\" font-family=\"sans-serif\" font-size=\"13\" lengthAdjust=\"spacingAndGlyphs\" textLength=\"177\" x=\"267.5\" y=\"148.0527\">else if(type.equals(&quot;veggie&quot;))</text><text fill=\"#000000\" font-family=\"sans-serif\" font-size=\"13\" lengthAdjust=\"spacingAndGlyphs\" textLength=\"158\" x=\"283.5\" y=\"163.3633\">pizza=new VeggiePizza();</text><text fill=\"#000000\" font-family=\"sans-serif\" font-size=\"13\" lengthAdjust=\"spacingAndGlyphs\" textLength=\"75\" x=\"267.5\" y=\"178.6738\">return pizza</text><text fill=\"#000000\" font-family=\"sans-serif\" font-size=\"13\" lengthAdjust=\"spacingAndGlyphs\" textLength=\"19\" x=\"251.5\" y=\"193.9844\">}&quot;&quot;&quot;</text></g></svg>"
      ],
      "text/plain": [
       "<IPython.core.display.SVG object>"
      ]
     },
     "execution_count": 9,
     "metadata": {},
     "output_type": "execute_result"
    }
   ],
   "source": [
    "%%plantuml\n",
    "@startuml\n",
    "\n",
    "class SimplePizzaFactory {\n",
    "    public Pizza createPizza(String type)\n",
    "}\n",
    "\n",
    "note right\n",
    "\"\"\"public Pizza createPizza(String type) {\n",
    "    Pizza pizza=null;\n",
    "    if(type.equals(\"cheese\"))\n",
    "        pizza=new CheesePizza();\n",
    "    else if(type.equals(\"pepperoni\"))\n",
    "        pizza=new PepperoniPizza();\n",
    "    else if(type.equals(\"clam\"))\n",
    "        pizza=new ClamPizza();\n",
    "    else if(type.equals(\"veggie\"))\n",
    "        pizza=new VeggiePizza();\n",
    "    return pizza\n",
    "}\"\"\"\n",
    "end note\n",
    "@enduml"
   ]
  },
  {
   "cell_type": "code",
   "execution_count": 10,
   "metadata": {
    "collapsed": false,
    "slideshow": {
     "slide_type": "slide"
    }
   },
   "outputs": [
    {
     "data": {
      "image/svg+xml": [
       "<svg height=\"225px\" style=\"width:621px;height:225px;\" version=\"1.1\" viewBox=\"0 0 621 225\" width=\"621px\" xmlns=\"http://www.w3.org/2000/svg\" xmlns:xlink=\"http://www.w3.org/1999/xlink\"><defs><filter height=\"300%\" id=\"f1\" width=\"300%\" x=\"-1\" y=\"-1\"><feGaussianBlur result=\"blurOut\" stdDeviation=\"2.0\"/><feColorMatrix in=\"blurOut\" result=\"blurOut2\" type=\"matrix\" values=\"0 0 0 0 0 0 0 0 0 0 0 0 0 0 0 0 0 0 .4 0\"/><feOffset dx=\"4.0\" dy=\"4.0\" in=\"blurOut2\" result=\"blurOut3\"/><feBlend in=\"SourceGraphic\" in2=\"blurOut3\" mode=\"normal\"/></filter></defs><g><rect fill=\"#FEFECE\" filter=\"url(#f1)\" height=\"60.9551\" style=\"stroke: #A80036; stroke-width: 1.5;\" width=\"92\" x=\"6\" y=\"27.5\"/><ellipse cx=\"21\" cy=\"43.5\" fill=\"#ADD1B2\" rx=\"11\" ry=\"11\" style=\"stroke: #A80036; stroke-width: 1.0;\"/><path d=\"M23.9731,49.1431 Q23.3921,49.4419 22.7529,49.5913 Q22.1138,49.7407 21.4082,49.7407 Q18.9014,49.7407 17.5815,48.0889 Q16.2617,46.437 16.2617,43.3159 Q16.2617,40.1865 17.5815,38.5347 Q18.9014,36.8828 21.4082,36.8828 Q22.1138,36.8828 22.7612,37.0322 Q23.4087,37.1816 23.9731,37.4805 L23.9731,40.2031 Q23.3423,39.6221 22.7488,39.3523 Q22.1553,39.0825 21.5244,39.0825 Q20.1797,39.0825 19.4949,40.1492 Q18.8101,41.2158 18.8101,43.3159 Q18.8101,45.4077 19.4949,46.4744 Q20.1797,47.541 21.5244,47.541 Q22.1553,47.541 22.7488,47.2712 Q23.3423,47.0015 23.9731,46.4204 Z \"/><text fill=\"#000000\" font-family=\"sans-serif\" font-size=\"12\" lengthAdjust=\"spacingAndGlyphs\" textLength=\"60\" x=\"35\" y=\"48.0352\">PizzaStore</text><line style=\"stroke: #A80036; stroke-width: 1.5;\" x1=\"7\" x2=\"97\" y1=\"59.5\" y2=\"59.5\"/><line style=\"stroke: #A80036; stroke-width: 1.5;\" x1=\"7\" x2=\"97\" y1=\"67.5\" y2=\"67.5\"/><text fill=\"#000000\" font-family=\"sans-serif\" font-size=\"11\" lengthAdjust=\"spacingAndGlyphs\" textLength=\"65\" x=\"12\" y=\"82.1348\">orderPizza()</text><rect fill=\"#FEFECE\" filter=\"url(#f1)\" height=\"60.9551\" style=\"stroke: #A80036; stroke-width: 1.5;\" width=\"142\" x=\"133\" y=\"27.5\"/><ellipse cx=\"148\" cy=\"43.5\" fill=\"#ADD1B2\" rx=\"11\" ry=\"11\" style=\"stroke: #A80036; stroke-width: 1.0;\"/><path d=\"M150.9731,49.1431 Q150.3921,49.4419 149.7529,49.5913 Q149.1138,49.7407 148.4082,49.7407 Q145.9014,49.7407 144.5815,48.0889 Q143.2617,46.437 143.2617,43.3159 Q143.2617,40.1865 144.5815,38.5347 Q145.9014,36.8828 148.4082,36.8828 Q149.1138,36.8828 149.7612,37.0322 Q150.4087,37.1816 150.9731,37.4805 L150.9731,40.2031 Q150.3423,39.6221 149.7488,39.3523 Q149.1553,39.0825 148.5244,39.0825 Q147.1797,39.0825 146.4949,40.1492 Q145.8101,41.2158 145.8101,43.3159 Q145.8101,45.4077 146.4949,46.4744 Q147.1797,47.541 148.5244,47.541 Q149.1553,47.541 149.7488,47.2712 Q150.3423,47.0015 150.9731,46.4204 Z \"/><text fill=\"#000000\" font-family=\"sans-serif\" font-size=\"12\" lengthAdjust=\"spacingAndGlyphs\" textLength=\"110\" x=\"162\" y=\"48.0352\">SimplePizzaFactory</text><line style=\"stroke: #A80036; stroke-width: 1.5;\" x1=\"134\" x2=\"274\" y1=\"59.5\" y2=\"59.5\"/><line style=\"stroke: #A80036; stroke-width: 1.5;\" x1=\"134\" x2=\"274\" y1=\"67.5\" y2=\"67.5\"/><text fill=\"#000000\" font-family=\"sans-serif\" font-size=\"11\" lengthAdjust=\"spacingAndGlyphs\" textLength=\"68\" x=\"139\" y=\"82.1348\">createPizza()</text><rect fill=\"#FEFECE\" filter=\"url(#f1)\" height=\"99.8203\" style=\"stroke: #A80036; stroke-width: 1.5;\" width=\"66\" x=\"310\" y=\"8\"/><ellipse cx=\"326.35\" cy=\"24\" fill=\"#ADD1B2\" rx=\"11\" ry=\"11\" style=\"stroke: #A80036; stroke-width: 1.0;\"/><path d=\"M329.3231,29.6431 Q328.7421,29.9419 328.1029,30.0913 Q327.4638,30.2407 326.7582,30.2407 Q324.2514,30.2407 322.9315,28.5889 Q321.6117,26.937 321.6117,23.8159 Q321.6117,20.6865 322.9315,19.0347 Q324.2514,17.3828 326.7582,17.3828 Q327.4638,17.3828 328.1112,17.5322 Q328.7587,17.6816 329.3231,17.9805 L329.3231,20.7031 Q328.6923,20.1221 328.0988,19.8523 Q327.5053,19.5825 326.8744,19.5825 Q325.5297,19.5825 324.8449,20.6492 Q324.1601,21.7158 324.1601,23.8159 Q324.1601,25.9077 324.8449,26.9744 Q325.5297,28.041 326.8744,28.041 Q327.5053,28.041 328.0988,27.7712 Q328.6923,27.5015 329.3231,26.9204 Z \"/><text fill=\"#000000\" font-family=\"sans-serif\" font-size=\"12\" lengthAdjust=\"spacingAndGlyphs\" textLength=\"31\" x=\"340.65\" y=\"28.5352\">Pizza</text><line style=\"stroke: #A80036; stroke-width: 1.5;\" x1=\"311\" x2=\"375\" y1=\"40\" y2=\"40\"/><line style=\"stroke: #A80036; stroke-width: 1.5;\" x1=\"311\" x2=\"375\" y1=\"48\" y2=\"48\"/><text fill=\"#000000\" font-family=\"sans-serif\" font-size=\"11\" lengthAdjust=\"spacingAndGlyphs\" textLength=\"54\" x=\"316\" y=\"62.6348\">preparte()</text><text fill=\"#000000\" font-family=\"sans-serif\" font-size=\"11\" lengthAdjust=\"spacingAndGlyphs\" textLength=\"33\" x=\"316\" y=\"75.5898\">bake()</text><text fill=\"#000000\" font-family=\"sans-serif\" font-size=\"11\" lengthAdjust=\"spacingAndGlyphs\" textLength=\"25\" x=\"316\" y=\"88.5449\">cut()</text><text fill=\"#000000\" font-family=\"sans-serif\" font-size=\"11\" lengthAdjust=\"spacingAndGlyphs\" textLength=\"29\" x=\"316\" y=\"101.5\">box()</text><rect fill=\"#FEFECE\" filter=\"url(#f1)\" height=\"48\" style=\"stroke: #A80036; stroke-width: 1.5;\" width=\"105\" x=\"85.5\" y=\"168\"/><ellipse cx=\"100.5\" cy=\"184\" fill=\"#ADD1B2\" rx=\"11\" ry=\"11\" style=\"stroke: #A80036; stroke-width: 1.0;\"/><path d=\"M103.4731,189.6431 Q102.8921,189.9419 102.2529,190.0913 Q101.6138,190.2407 100.9082,190.2407 Q98.4014,190.2407 97.0815,188.5889 Q95.7617,186.937 95.7617,183.8159 Q95.7617,180.6865 97.0815,179.0347 Q98.4014,177.3828 100.9082,177.3828 Q101.6138,177.3828 102.2612,177.5322 Q102.9087,177.6816 103.4731,177.9805 L103.4731,180.7031 Q102.8423,180.1221 102.2488,179.8523 Q101.6553,179.5825 101.0244,179.5825 Q99.6797,179.5825 98.9949,180.6492 Q98.3101,181.7158 98.3101,183.8159 Q98.3101,185.9077 98.9949,186.9744 Q99.6797,188.041 101.0244,188.041 Q101.6553,188.041 102.2488,187.7712 Q102.8423,187.5015 103.4731,186.9204 Z \"/><text fill=\"#000000\" font-family=\"sans-serif\" font-size=\"12\" lengthAdjust=\"spacingAndGlyphs\" textLength=\"73\" x=\"114.5\" y=\"188.5352\">CheesePizza</text><line style=\"stroke: #A80036; stroke-width: 1.5;\" x1=\"86.5\" x2=\"189.5\" y1=\"200\" y2=\"200\"/><line style=\"stroke: #A80036; stroke-width: 1.5;\" x1=\"86.5\" x2=\"189.5\" y1=\"208\" y2=\"208\"/><rect fill=\"#FEFECE\" filter=\"url(#f1)\" height=\"48\" style=\"stroke: #A80036; stroke-width: 1.5;\" width=\"102\" x=\"226\" y=\"168\"/><ellipse cx=\"241\" cy=\"184\" fill=\"#ADD1B2\" rx=\"11\" ry=\"11\" style=\"stroke: #A80036; stroke-width: 1.0;\"/><path d=\"M243.9731,189.6431 Q243.3921,189.9419 242.7529,190.0913 Q242.1138,190.2407 241.4082,190.2407 Q238.9014,190.2407 237.5815,188.5889 Q236.2617,186.937 236.2617,183.8159 Q236.2617,180.6865 237.5815,179.0347 Q238.9014,177.3828 241.4082,177.3828 Q242.1138,177.3828 242.7612,177.5322 Q243.4087,177.6816 243.9731,177.9805 L243.9731,180.7031 Q243.3423,180.1221 242.7488,179.8523 Q242.1553,179.5825 241.5244,179.5825 Q240.1797,179.5825 239.4949,180.6492 Q238.8101,181.7158 238.8101,183.8159 Q238.8101,185.9077 239.4949,186.9744 Q240.1797,188.041 241.5244,188.041 Q242.1553,188.041 242.7488,187.7712 Q243.3423,187.5015 243.9731,186.9204 Z \"/><text fill=\"#000000\" font-family=\"sans-serif\" font-size=\"12\" lengthAdjust=\"spacingAndGlyphs\" textLength=\"70\" x=\"255\" y=\"188.5352\">VeggiePizza</text><line style=\"stroke: #A80036; stroke-width: 1.5;\" x1=\"227\" x2=\"327\" y1=\"200\" y2=\"200\"/><line style=\"stroke: #A80036; stroke-width: 1.5;\" x1=\"227\" x2=\"327\" y1=\"208\" y2=\"208\"/><rect fill=\"#FEFECE\" filter=\"url(#f1)\" height=\"48\" style=\"stroke: #A80036; stroke-width: 1.5;\" width=\"92\" x=\"363\" y=\"168\"/><ellipse cx=\"378\" cy=\"184\" fill=\"#ADD1B2\" rx=\"11\" ry=\"11\" style=\"stroke: #A80036; stroke-width: 1.0;\"/><path d=\"M380.9731,189.6431 Q380.3921,189.9419 379.7529,190.0913 Q379.1138,190.2407 378.4082,190.2407 Q375.9014,190.2407 374.5815,188.5889 Q373.2617,186.937 373.2617,183.8159 Q373.2617,180.6865 374.5815,179.0347 Q375.9014,177.3828 378.4082,177.3828 Q379.1138,177.3828 379.7612,177.5322 Q380.4087,177.6816 380.9731,177.9805 L380.9731,180.7031 Q380.3423,180.1221 379.7488,179.8523 Q379.1553,179.5825 378.5244,179.5825 Q377.1797,179.5825 376.4949,180.6492 Q375.8101,181.7158 375.8101,183.8159 Q375.8101,185.9077 376.4949,186.9744 Q377.1797,188.041 378.5244,188.041 Q379.1553,188.041 379.7488,187.7712 Q380.3423,187.5015 380.9731,186.9204 Z \"/><text fill=\"#000000\" font-family=\"sans-serif\" font-size=\"12\" lengthAdjust=\"spacingAndGlyphs\" textLength=\"60\" x=\"392\" y=\"188.5352\">ClamPizza</text><line style=\"stroke: #A80036; stroke-width: 1.5;\" x1=\"364\" x2=\"454\" y1=\"200\" y2=\"200\"/><line style=\"stroke: #A80036; stroke-width: 1.5;\" x1=\"364\" x2=\"454\" y1=\"208\" y2=\"208\"/><rect fill=\"#FEFECE\" filter=\"url(#f1)\" height=\"48\" style=\"stroke: #A80036; stroke-width: 1.5;\" width=\"122\" x=\"490\" y=\"168\"/><ellipse cx=\"505\" cy=\"184\" fill=\"#ADD1B2\" rx=\"11\" ry=\"11\" style=\"stroke: #A80036; stroke-width: 1.0;\"/><path d=\"M507.9731,189.6431 Q507.3921,189.9419 506.7529,190.0913 Q506.1138,190.2407 505.4082,190.2407 Q502.9014,190.2407 501.5815,188.5889 Q500.2617,186.937 500.2617,183.8159 Q500.2617,180.6865 501.5815,179.0347 Q502.9014,177.3828 505.4082,177.3828 Q506.1138,177.3828 506.7612,177.5322 Q507.4087,177.6816 507.9731,177.9805 L507.9731,180.7031 Q507.3423,180.1221 506.7488,179.8523 Q506.1553,179.5825 505.5244,179.5825 Q504.1797,179.5825 503.4949,180.6492 Q502.8101,181.7158 502.8101,183.8159 Q502.8101,185.9077 503.4949,186.9744 Q504.1797,188.041 505.5244,188.041 Q506.1553,188.041 506.7488,187.7712 Q507.3423,187.5015 507.9731,186.9204 Z \"/><text fill=\"#000000\" font-family=\"sans-serif\" font-size=\"12\" lengthAdjust=\"spacingAndGlyphs\" textLength=\"90\" x=\"519\" y=\"188.5352\">PepperoniPizza</text><line style=\"stroke: #A80036; stroke-width: 1.5;\" x1=\"491\" x2=\"611\" y1=\"200\" y2=\"200\"/><line style=\"stroke: #A80036; stroke-width: 1.5;\" x1=\"491\" x2=\"611\" y1=\"208\" y2=\"208\"/><path d=\"M98.0156,58 C107.887,58 117.758,58 127.63,58 \" fill=\"none\" style=\"stroke: #A80036; stroke-width: 1.0;\"/><polygon fill=\"#A80036\" points=\"132.792,58,123.792,54,127.792,58,123.792,62,132.792,58\" style=\"stroke: #A80036; stroke-width: 1.0;\"/><path d=\"M275.129,58 C284.987,58 294.846,58 304.704,58 \" fill=\"none\" style=\"stroke: #A80036; stroke-width: 1.0;\"/><polygon fill=\"#A80036\" points=\"309.86,58,300.86,54,304.86,58,300.86,62,309.86,58\" style=\"stroke: #A80036; stroke-width: 1.0;\"/><path d=\"M294.331,107.011 C293.888,107.344 293.444,107.674 293,108 C260.771,131.6703 220.938,152.8496 189.724,167.8891 \" fill=\"none\" style=\"stroke: #A80036; stroke-width: 1.0;\"/><polygon fill=\"none\" points=\"289.907,101.585,309.733,94.106,298.899,112.316,289.907,101.585\" style=\"stroke: #A80036; stroke-width: 1.0;\"/><path d=\"M309.403,126.1932 C301.94,141.119 294.518,155.9635 288.664,167.6717 \" fill=\"none\" style=\"stroke: #A80036; stroke-width: 1.0;\"/><polygon fill=\"none\" points=\"303.219,122.91,318.424,108.152,315.741,129.171,303.219,122.91\" style=\"stroke: #A80036; stroke-width: 1.0;\"/><path d=\"M376.597,126.1932 C384.06,141.119 391.482,155.9635 397.336,167.6717 \" fill=\"none\" style=\"stroke: #A80036; stroke-width: 1.0;\"/><polygon fill=\"none\" points=\"370.259,129.171,367.576,108.152,382.781,122.91,370.259,129.171\" style=\"stroke: #A80036; stroke-width: 1.0;\"/><path d=\"M393.372,90.967 C430.776,114.704 480.921,146.5267 514.514,167.8457 \" fill=\"none\" style=\"stroke: #A80036; stroke-width: 1.0;\"/><polygon fill=\"none\" points=\"389.555,96.835,376.419,80.208,397.056,85.014,389.555,96.835\" style=\"stroke: #A80036; stroke-width: 1.0;\"/></g></svg>"
      ],
      "text/plain": [
       "<IPython.core.display.SVG object>"
      ]
     },
     "execution_count": 10,
     "metadata": {},
     "output_type": "execute_result"
    }
   ],
   "source": [
    "%%plantuml\n",
    "@startuml\n",
    "class PizzaStore {\n",
    "  orderPizza()\n",
    "}\n",
    "class SimplePizzaFactory {\n",
    "  createPizza()\n",
    "}\n",
    "class Pizza {\n",
    "  preparte()\n",
    "  bake()\n",
    "  cut()\n",
    "  box()\n",
    "}\n",
    "PizzaStore -> SimplePizzaFactory\n",
    "SimplePizzaFactory -> Pizza\n",
    "Pizza <|-- CheesePizza\n",
    "Pizza <|-- VeggiePizza\n",
    "Pizza <|-- ClamPizza\n",
    "Pizza <|-- PepperoniPizza\n",
    "\n",
    "@enduml"
   ]
  },
  {
   "cell_type": "code",
   "execution_count": 11,
   "metadata": {
    "collapsed": false,
    "slideshow": {
     "slide_type": "slide"
    }
   },
   "outputs": [
    {
     "data": {
      "image/svg+xml": [
       "<svg height=\"331px\" style=\"width:463px;height:331px;\" version=\"1.1\" viewBox=\"0 0 463 331\" width=\"463px\" xmlns=\"http://www.w3.org/2000/svg\" xmlns:xlink=\"http://www.w3.org/1999/xlink\"><defs><filter height=\"300%\" id=\"f1\" width=\"300%\" x=\"-1\" y=\"-1\"><feGaussianBlur result=\"blurOut\" stdDeviation=\"2.0\"/><feColorMatrix in=\"blurOut\" result=\"blurOut2\" type=\"matrix\" values=\"0 0 0 0 0 0 0 0 0 0 0 0 0 0 0 0 0 0 .4 0\"/><feOffset dx=\"4.0\" dy=\"4.0\" in=\"blurOut2\" result=\"blurOut3\"/><feBlend in=\"SourceGraphic\" in2=\"blurOut3\" mode=\"normal\"/></filter></defs><g><line style=\"stroke: #A80036; stroke-width: 1.0; stroke-dasharray: 5.0,5.0;\" x1=\"37\" x2=\"37\" y1=\"38.4883\" y2=\"292.9727\"/><line style=\"stroke: #A80036; stroke-width: 1.0; stroke-dasharray: 5.0,5.0;\" x1=\"151\" x2=\"151\" y1=\"38.4883\" y2=\"292.9727\"/><line style=\"stroke: #A80036; stroke-width: 1.0; stroke-dasharray: 5.0,5.0;\" x1=\"349\" x2=\"349\" y1=\"38.4883\" y2=\"292.9727\"/><line style=\"stroke: #A80036; stroke-width: 1.0; stroke-dasharray: 5.0,5.0;\" x1=\"431\" x2=\"431\" y1=\"38.4883\" y2=\"292.9727\"/><rect fill=\"#FEFECE\" filter=\"url(#f1)\" height=\"30.4883\" style=\"stroke: #A80036; stroke-width: 1.5;\" width=\"54\" x=\"8\" y=\"3\"/><text fill=\"#000000\" font-family=\"sans-serif\" font-size=\"14\" lengthAdjust=\"spacingAndGlyphs\" textLength=\"40\" x=\"15\" y=\"23.5352\">Client</text><rect fill=\"#FEFECE\" filter=\"url(#f1)\" height=\"30.4883\" style=\"stroke: #A80036; stroke-width: 1.5;\" width=\"54\" x=\"8\" y=\"291.9727\"/><text fill=\"#000000\" font-family=\"sans-serif\" font-size=\"14\" lengthAdjust=\"spacingAndGlyphs\" textLength=\"40\" x=\"15\" y=\"312.5078\">Client</text><rect fill=\"#FEFECE\" filter=\"url(#f1)\" height=\"30.4883\" style=\"stroke: #A80036; stroke-width: 1.5;\" width=\"146\" x=\"76\" y=\"3\"/><text fill=\"#000000\" font-family=\"sans-serif\" font-size=\"14\" lengthAdjust=\"spacingAndGlyphs\" textLength=\"132\" x=\"83\" y=\"23.5352\">SimplePizzaFactory</text><rect fill=\"#FEFECE\" filter=\"url(#f1)\" height=\"30.4883\" style=\"stroke: #A80036; stroke-width: 1.5;\" width=\"146\" x=\"76\" y=\"291.9727\"/><text fill=\"#000000\" font-family=\"sans-serif\" font-size=\"14\" lengthAdjust=\"spacingAndGlyphs\" textLength=\"132\" x=\"83\" y=\"312.5078\">SimplePizzaFactory</text><rect fill=\"#FEFECE\" filter=\"url(#f1)\" height=\"30.4883\" style=\"stroke: #A80036; stroke-width: 1.5;\" width=\"86\" x=\"304\" y=\"3\"/><text fill=\"#000000\" font-family=\"sans-serif\" font-size=\"14\" lengthAdjust=\"spacingAndGlyphs\" textLength=\"72\" x=\"311\" y=\"23.5352\">PizzaStore</text><rect fill=\"#FEFECE\" filter=\"url(#f1)\" height=\"30.4883\" style=\"stroke: #A80036; stroke-width: 1.5;\" width=\"86\" x=\"304\" y=\"291.9727\"/><text fill=\"#000000\" font-family=\"sans-serif\" font-size=\"14\" lengthAdjust=\"spacingAndGlyphs\" textLength=\"72\" x=\"311\" y=\"312.5078\">PizzaStore</text><rect fill=\"#FEFECE\" filter=\"url(#f1)\" height=\"30.4883\" style=\"stroke: #A80036; stroke-width: 1.5;\" width=\"50\" x=\"404\" y=\"3\"/><text fill=\"#000000\" font-family=\"sans-serif\" font-size=\"14\" lengthAdjust=\"spacingAndGlyphs\" textLength=\"36\" x=\"411\" y=\"23.5352\">Pizza</text><rect fill=\"#FEFECE\" filter=\"url(#f1)\" height=\"30.4883\" style=\"stroke: #A80036; stroke-width: 1.5;\" width=\"50\" x=\"404\" y=\"291.9727\"/><text fill=\"#000000\" font-family=\"sans-serif\" font-size=\"14\" lengthAdjust=\"spacingAndGlyphs\" textLength=\"36\" x=\"411\" y=\"312.5078\">Pizza</text><polygon fill=\"#A80036\" points=\"139,65.4883,149,69.4883,139,73.4883,143,69.4883\" style=\"stroke: #A80036; stroke-width: 1.0;\"/><line style=\"stroke: #A80036; stroke-width: 1.0;\" x1=\"37\" x2=\"145\" y1=\"69.4883\" y2=\"69.4883\"/><text fill=\"#000000\" font-family=\"sans-serif\" font-size=\"13\" lengthAdjust=\"spacingAndGlyphs\" textLength=\"87\" x=\"44\" y=\"65.0566\">factory=new()</text><polygon fill=\"#A80036\" points=\"337,94.7988,347,98.7988,337,102.7988,341,98.7988\" style=\"stroke: #A80036; stroke-width: 1.0;\"/><line style=\"stroke: #A80036; stroke-width: 1.0;\" x1=\"37\" x2=\"343\" y1=\"98.7988\" y2=\"98.7988\"/><text fill=\"#000000\" font-family=\"sans-serif\" font-size=\"13\" lengthAdjust=\"spacingAndGlyphs\" textLength=\"77\" x=\"44\" y=\"94.3672\">new(factory)</text><polygon fill=\"#A80036\" points=\"337,124.1094,347,128.1094,337,132.1094,341,128.1094\" style=\"stroke: #A80036; stroke-width: 1.0;\"/><line style=\"stroke: #A80036; stroke-width: 1.0;\" x1=\"37\" x2=\"343\" y1=\"128.1094\" y2=\"128.1094\"/><text fill=\"#000000\" font-family=\"sans-serif\" font-size=\"13\" lengthAdjust=\"spacingAndGlyphs\" textLength=\"126\" x=\"44\" y=\"123.6777\">orderPizza(&quot;cheese&quot;)</text><polygon fill=\"#A80036\" points=\"162,153.4199,152,157.4199,162,161.4199,158,157.4199\" style=\"stroke: #A80036; stroke-width: 1.0;\"/><line style=\"stroke: #A80036; stroke-width: 1.0;\" x1=\"156\" x2=\"348\" y1=\"157.4199\" y2=\"157.4199\"/><text fill=\"#000000\" font-family=\"sans-serif\" font-size=\"13\" lengthAdjust=\"spacingAndGlyphs\" textLength=\"174\" x=\"168\" y=\"152.9883\">pizza=createPizza(&quot;cheese&quot;)</text><polygon fill=\"#A80036\" points=\"419,182.7305,429,186.7305,419,190.7305,423,186.7305\" style=\"stroke: #A80036; stroke-width: 1.0;\"/><line style=\"stroke: #A80036; stroke-width: 1.0;\" x1=\"349\" x2=\"425\" y1=\"186.7305\" y2=\"186.7305\"/><text fill=\"#000000\" font-family=\"sans-serif\" font-size=\"13\" lengthAdjust=\"spacingAndGlyphs\" textLength=\"55\" x=\"356\" y=\"182.2988\">prepare()</text><polygon fill=\"#A80036\" points=\"419,212.041,429,216.041,419,220.041,423,216.041\" style=\"stroke: #A80036; stroke-width: 1.0;\"/><line style=\"stroke: #A80036; stroke-width: 1.0;\" x1=\"349\" x2=\"425\" y1=\"216.041\" y2=\"216.041\"/><text fill=\"#000000\" font-family=\"sans-serif\" font-size=\"13\" lengthAdjust=\"spacingAndGlyphs\" textLength=\"38\" x=\"356\" y=\"211.6094\">bake()</text><polygon fill=\"#A80036\" points=\"419,241.3516,429,245.3516,419,249.3516,423,245.3516\" style=\"stroke: #A80036; stroke-width: 1.0;\"/><line style=\"stroke: #A80036; stroke-width: 1.0;\" x1=\"349\" x2=\"425\" y1=\"245.3516\" y2=\"245.3516\"/><text fill=\"#000000\" font-family=\"sans-serif\" font-size=\"13\" lengthAdjust=\"spacingAndGlyphs\" textLength=\"28\" x=\"356\" y=\"240.9199\">cut()</text><polygon fill=\"#A80036\" points=\"419,270.6621,429,274.6621,419,278.6621,423,274.6621\" style=\"stroke: #A80036; stroke-width: 1.0;\"/><line style=\"stroke: #A80036; stroke-width: 1.0;\" x1=\"349\" x2=\"425\" y1=\"274.6621\" y2=\"274.6621\"/><text fill=\"#000000\" font-family=\"sans-serif\" font-size=\"13\" lengthAdjust=\"spacingAndGlyphs\" textLength=\"32\" x=\"356\" y=\"270.2305\">box()</text></g></svg>"
      ],
      "text/plain": [
       "<IPython.core.display.SVG object>"
      ]
     },
     "execution_count": 11,
     "metadata": {},
     "output_type": "execute_result"
    }
   ],
   "source": [
    "%%plantuml\n",
    "@startuml\n",
    "Client -> SimplePizzaFactory:factory=new()\n",
    "Client -> PizzaStore:new(factory)\n",
    "Client -> PizzaStore:orderPizza(\"cheese\")\n",
    "PizzaStore -> SimplePizzaFactory:pizza=createPizza(\"cheese\")\n",
    "PizzaStore -> Pizza:prepare()\n",
    "PizzaStore -> Pizza:bake()\n",
    "PizzaStore -> Pizza:cut()\n",
    "PizzaStore -> Pizza:box()\n",
    "@enduml"
   ]
  },
  {
   "cell_type": "markdown",
   "metadata": {
    "slideshow": {
     "slide_type": "slide"
    }
   },
   "source": [
    "## 5.2 factory method\n",
    "\n",
    "* PizzaStore에 abstract Pizza createPizza(String type) 추상함수 넣음. 이를 factory method라고 함.\n",
    "* PizzaStore에 상속구조로 실제 사용할 클래스를 늦춰 런타임에 결정.\n",
    "    * orderPizza()를 호출할 때, createPizza()가 실행되면서 그 시점에 실제 사용할 클래스를 생성."
   ]
  },
  {
   "cell_type": "code",
   "execution_count": 16,
   "metadata": {
    "collapsed": false
   },
   "outputs": [
    {
     "data": {
      "image/svg+xml": [
       "<svg height=\"471px\" style=\"width:1054px;height:471px;\" version=\"1.1\" viewBox=\"0 0 1054 471\" width=\"1054px\" xmlns=\"http://www.w3.org/2000/svg\" xmlns:xlink=\"http://www.w3.org/1999/xlink\"><defs><filter height=\"300%\" id=\"f1\" width=\"300%\" x=\"-1\" y=\"-1\"><feGaussianBlur result=\"blurOut\" stdDeviation=\"2.0\"/><feColorMatrix in=\"blurOut\" result=\"blurOut2\" type=\"matrix\" values=\"0 0 0 0 0 0 0 0 0 0 0 0 0 0 0 0 0 0 .4 0\"/><feOffset dx=\"4.0\" dy=\"4.0\" in=\"blurOut2\" result=\"blurOut3\"/><feBlend in=\"SourceGraphic\" in2=\"blurOut3\" mode=\"normal\"/></filter></defs><g><rect fill=\"#FEFECE\" filter=\"url(#f1)\" height=\"73.9102\" style=\"stroke: #A80036; stroke-width: 1.5;\" width=\"156\" x=\"305\" y=\"45\"/><ellipse cx=\"348.8\" cy=\"61\" fill=\"#A9DCDF\" rx=\"11\" ry=\"11\" style=\"stroke: #A80036; stroke-width: 1.0;\"/><path d=\"M348.9133,56.3481 L347.7595,61.4199 L350.0754,61.4199 Z M347.4191,54.1069 L350.4157,54.1069 L353.7609,66.5 L351.3122,66.5 L350.5485,63.437 L347.2697,63.437 L346.5227,66.5 L344.0739,66.5 Z \"/><text fill=\"#000000\" font-family=\"sans-serif\" font-size=\"12\" font-style=\"italic\" lengthAdjust=\"spacingAndGlyphs\" textLength=\"60\" x=\"369.2\" y=\"65.5352\">PizzaStore</text><line style=\"stroke: #A80036; stroke-width: 1.5;\" x1=\"306\" x2=\"460\" y1=\"77\" y2=\"77\"/><line style=\"stroke: #A80036; stroke-width: 1.5;\" x1=\"306\" x2=\"460\" y1=\"85\" y2=\"85\"/><ellipse cx=\"316\" cy=\"96.9775\" fill=\"#84BE84\" rx=\"3\" ry=\"3\" style=\"stroke: #038048; stroke-width: 1.0;\"/><text fill=\"#000000\" font-family=\"sans-serif\" font-size=\"11\" lengthAdjust=\"spacingAndGlyphs\" textLength=\"127\" x=\"325\" y=\"99.6348\">orderPizza(String):Pizza</text><rect fill=\"#F24D5C\" height=\"6\" style=\"stroke: #C82930; stroke-width: 1.0;\" width=\"6\" x=\"313\" y=\"106.9326\"/><text fill=\"#000000\" font-family=\"sans-serif\" font-size=\"11\" font-style=\"italic\" lengthAdjust=\"spacingAndGlyphs\" textLength=\"130\" x=\"325\" y=\"112.5898\">createPizza(String):Pizza</text><rect fill=\"#FEFECE\" filter=\"url(#f1)\" height=\"48\" style=\"stroke: #A80036; stroke-width: 1.5;\" width=\"108\" x=\"85\" y=\"258\"/><ellipse cx=\"100\" cy=\"274\" fill=\"#ADD1B2\" rx=\"11\" ry=\"11\" style=\"stroke: #A80036; stroke-width: 1.0;\"/><path d=\"M102.9731,279.6431 Q102.3921,279.9419 101.7529,280.0913 Q101.1138,280.2407 100.4082,280.2407 Q97.9014,280.2407 96.5815,278.5889 Q95.2617,276.937 95.2617,273.8159 Q95.2617,270.6865 96.5815,269.0347 Q97.9014,267.3828 100.4082,267.3828 Q101.1138,267.3828 101.7612,267.5322 Q102.4087,267.6816 102.9731,267.9805 L102.9731,270.7031 Q102.3423,270.1221 101.7488,269.8523 Q101.1553,269.5825 100.5244,269.5825 Q99.1797,269.5825 98.4949,270.6492 Q97.8101,271.7158 97.8101,273.8159 Q97.8101,275.9077 98.4949,276.9744 Q99.1797,278.041 100.5244,278.041 Q101.1553,278.041 101.7488,277.7712 Q102.3423,277.5015 102.9731,276.9204 Z \"/><text fill=\"#000000\" font-family=\"sans-serif\" font-size=\"12\" lengthAdjust=\"spacingAndGlyphs\" textLength=\"76\" x=\"114\" y=\"278.5352\">NYPizzaStore</text><line style=\"stroke: #A80036; stroke-width: 1.5;\" x1=\"86\" x2=\"192\" y1=\"290\" y2=\"290\"/><line style=\"stroke: #A80036; stroke-width: 1.5;\" x1=\"86\" x2=\"192\" y1=\"298\" y2=\"298\"/><rect fill=\"#FEFECE\" filter=\"url(#f1)\" height=\"48\" style=\"stroke: #A80036; stroke-width: 1.5;\" width=\"137\" x=\"558.5\" y=\"258\"/><ellipse cx=\"573.5\" cy=\"274\" fill=\"#ADD1B2\" rx=\"11\" ry=\"11\" style=\"stroke: #A80036; stroke-width: 1.0;\"/><path d=\"M576.4731,279.6431 Q575.8921,279.9419 575.2529,280.0913 Q574.6138,280.2407 573.9082,280.2407 Q571.4014,280.2407 570.0815,278.5889 Q568.7617,276.937 568.7617,273.8159 Q568.7617,270.6865 570.0815,269.0347 Q571.4014,267.3828 573.9082,267.3828 Q574.6138,267.3828 575.2612,267.5322 Q575.9087,267.6816 576.4731,267.9805 L576.4731,270.7031 Q575.8423,270.1221 575.2488,269.8523 Q574.6553,269.5825 574.0244,269.5825 Q572.6797,269.5825 571.9949,270.6492 Q571.3101,271.7158 571.3101,273.8159 Q571.3101,275.9077 571.9949,276.9744 Q572.6797,278.041 574.0244,278.041 Q574.6553,278.041 575.2488,277.7712 Q575.8423,277.5015 576.4731,276.9204 Z \"/><text fill=\"#000000\" font-family=\"sans-serif\" font-size=\"12\" lengthAdjust=\"spacingAndGlyphs\" textLength=\"105\" x=\"587.5\" y=\"278.5352\">ChicagoPizzaStore</text><line style=\"stroke: #A80036; stroke-width: 1.5;\" x1=\"559.5\" x2=\"694.5\" y1=\"290\" y2=\"290\"/><line style=\"stroke: #A80036; stroke-width: 1.5;\" x1=\"559.5\" x2=\"694.5\" y1=\"298\" y2=\"298\"/><rect fill=\"#FEFECE\" filter=\"url(#f1)\" height=\"48\" style=\"stroke: #A80036; stroke-width: 1.5;\" width=\"63\" x=\"822.5\" y=\"58\"/><ellipse cx=\"837.5\" cy=\"74\" fill=\"#ADD1B2\" rx=\"11\" ry=\"11\" style=\"stroke: #A80036; stroke-width: 1.0;\"/><path d=\"M840.4731,79.6431 Q839.8921,79.9419 839.2529,80.0913 Q838.6138,80.2407 837.9082,80.2407 Q835.4014,80.2407 834.0815,78.5889 Q832.7617,76.937 832.7617,73.8159 Q832.7617,70.6865 834.0815,69.0347 Q835.4014,67.3828 837.9082,67.3828 Q838.6138,67.3828 839.2612,67.5322 Q839.9087,67.6816 840.4731,67.9805 L840.4731,70.7031 Q839.8423,70.1221 839.2488,69.8523 Q838.6553,69.5825 838.0244,69.5825 Q836.6797,69.5825 835.9949,70.6492 Q835.3101,71.7158 835.3101,73.8159 Q835.3101,75.9077 835.9949,76.9744 Q836.6797,78.041 838.0244,78.041 Q838.6553,78.041 839.2488,77.7712 Q839.8423,77.5015 840.4731,76.9204 Z \"/><text fill=\"#000000\" font-family=\"sans-serif\" font-size=\"12\" lengthAdjust=\"spacingAndGlyphs\" textLength=\"31\" x=\"851.5\" y=\"78.5352\">Pizza</text><line style=\"stroke: #A80036; stroke-width: 1.5;\" x1=\"823.5\" x2=\"884.5\" y1=\"90\" y2=\"90\"/><line style=\"stroke: #A80036; stroke-width: 1.5;\" x1=\"823.5\" x2=\"884.5\" y1=\"98\" y2=\"98\"/><rect fill=\"#FEFECE\" filter=\"url(#f1)\" height=\"54.2656\" style=\"stroke: #A80036; stroke-width: 1.5;\" width=\"103\" x=\"730.5\" y=\"255\"/><ellipse cx=\"745.5\" cy=\"274.1328\" fill=\"#ADD1B2\" rx=\"11\" ry=\"11\" style=\"stroke: #A80036; stroke-width: 1.0;\"/><path d=\"M748.4731,279.7759 Q747.8921,280.0747 747.2529,280.2241 Q746.6138,280.3735 745.9082,280.3735 Q743.4014,280.3735 742.0815,278.7217 Q740.7617,277.0698 740.7617,273.9487 Q740.7617,270.8193 742.0815,269.1675 Q743.4014,267.5156 745.9082,267.5156 Q746.6138,267.5156 747.2612,267.665 Q747.9087,267.8145 748.4731,268.1133 L748.4731,270.8359 Q747.8423,270.2549 747.2488,269.9851 Q746.6553,269.7153 746.0244,269.7153 Q744.6797,269.7153 743.9949,270.782 Q743.3101,271.8486 743.3101,273.9487 Q743.3101,276.0405 743.9949,277.1072 Q744.6797,278.1738 746.0244,278.1738 Q746.6553,278.1738 747.2488,277.9041 Q747.8423,277.6343 748.4731,277.0532 Z \"/><text fill=\"#000000\" font-family=\"sans-serif\" font-size=\"12\" lengthAdjust=\"spacingAndGlyphs\" textLength=\"71\" x=\"759.5\" y=\"271.6016\">ChicagoStyle</text><text fill=\"#000000\" font-family=\"sans-serif\" font-size=\"12\" lengthAdjust=\"spacingAndGlyphs\" textLength=\"31\" x=\"779.5\" y=\"285.7344\">Pizza</text><line style=\"stroke: #A80036; stroke-width: 1.5;\" x1=\"731.5\" x2=\"832.5\" y1=\"293.2656\" y2=\"293.2656\"/><line style=\"stroke: #A80036; stroke-width: 1.5;\" x1=\"731.5\" x2=\"832.5\" y1=\"301.2656\" y2=\"301.2656\"/><rect fill=\"#FEFECE\" filter=\"url(#f1)\" height=\"54.2656\" style=\"stroke: #A80036; stroke-width: 1.5;\" width=\"116\" x=\"869\" y=\"255\"/><ellipse cx=\"884\" cy=\"274.1328\" fill=\"#ADD1B2\" rx=\"11\" ry=\"11\" style=\"stroke: #A80036; stroke-width: 1.0;\"/><path d=\"M886.9731,279.7759 Q886.3921,280.0747 885.7529,280.2241 Q885.1138,280.3735 884.4082,280.3735 Q881.9014,280.3735 880.5815,278.7217 Q879.2617,277.0698 879.2617,273.9487 Q879.2617,270.8193 880.5815,269.1675 Q881.9014,267.5156 884.4082,267.5156 Q885.1138,267.5156 885.7612,267.665 Q886.4087,267.8145 886.9731,268.1133 L886.9731,270.8359 Q886.3423,270.2549 885.7488,269.9851 Q885.1553,269.7153 884.5244,269.7153 Q883.1797,269.7153 882.4949,270.782 Q881.8101,271.8486 881.8101,273.9487 Q881.8101,276.0405 882.4949,277.1072 Q883.1797,278.1738 884.5244,278.1738 Q885.1553,278.1738 885.7488,277.9041 Q886.3423,277.6343 886.9731,277.0532 Z \"/><text fill=\"#000000\" font-family=\"sans-serif\" font-size=\"12\" lengthAdjust=\"spacingAndGlyphs\" textLength=\"84\" x=\"898\" y=\"271.6016\">NYStyleCheese</text><text fill=\"#000000\" font-family=\"sans-serif\" font-size=\"12\" lengthAdjust=\"spacingAndGlyphs\" textLength=\"31\" x=\"924.5\" y=\"285.7344\">Pizza</text><line style=\"stroke: #A80036; stroke-width: 1.5;\" x1=\"870\" x2=\"984\" y1=\"293.2656\" y2=\"293.2656\"/><line style=\"stroke: #A80036; stroke-width: 1.5;\" x1=\"870\" x2=\"984\" y1=\"301.2656\" y2=\"301.2656\"/><rect fill=\"#FEFECE\" filter=\"url(#f1)\" height=\"54.2656\" style=\"stroke: #A80036; stroke-width: 1.5;\" width=\"105\" x=\"506.5\" y=\"408\"/><ellipse cx=\"521.5\" cy=\"427.1328\" fill=\"#ADD1B2\" rx=\"11\" ry=\"11\" style=\"stroke: #A80036; stroke-width: 1.0;\"/><path d=\"M524.4731,432.7759 Q523.8921,433.0747 523.2529,433.2241 Q522.6138,433.3735 521.9082,433.3735 Q519.4014,433.3735 518.0815,431.7217 Q516.7617,430.0698 516.7617,426.9487 Q516.7617,423.8193 518.0815,422.1675 Q519.4014,420.5156 521.9082,420.5156 Q522.6138,420.5156 523.2612,420.665 Q523.9087,420.8145 524.4731,421.1133 L524.4731,423.8359 Q523.8423,423.2549 523.2488,422.9851 Q522.6553,422.7153 522.0244,422.7153 Q520.6797,422.7153 519.9949,423.782 Q519.3101,424.8486 519.3101,426.9487 Q519.3101,429.0405 519.9949,430.1072 Q520.6797,431.1738 522.0244,431.1738 Q522.6553,431.1738 523.2488,430.9041 Q523.8423,430.6343 524.4731,430.0532 Z \"/><text fill=\"#000000\" font-family=\"sans-serif\" font-size=\"12\" lengthAdjust=\"spacingAndGlyphs\" textLength=\"71\" x=\"536.5\" y=\"424.6016\">ChicagoStyle</text><text fill=\"#000000\" font-family=\"sans-serif\" font-size=\"12\" lengthAdjust=\"spacingAndGlyphs\" textLength=\"73\" x=\"535.5\" y=\"438.7344\">CheesePizza</text><line style=\"stroke: #A80036; stroke-width: 1.5;\" x1=\"507.5\" x2=\"610.5\" y1=\"446.2656\" y2=\"446.2656\"/><line style=\"stroke: #A80036; stroke-width: 1.5;\" x1=\"507.5\" x2=\"610.5\" y1=\"454.2656\" y2=\"454.2656\"/><rect fill=\"#FEFECE\" filter=\"url(#f1)\" height=\"54.2656\" style=\"stroke: #A80036; stroke-width: 1.5;\" width=\"122\" x=\"647\" y=\"408\"/><ellipse cx=\"662\" cy=\"427.1328\" fill=\"#ADD1B2\" rx=\"11\" ry=\"11\" style=\"stroke: #A80036; stroke-width: 1.0;\"/><path d=\"M664.9731,432.7759 Q664.3921,433.0747 663.7529,433.2241 Q663.1138,433.3735 662.4082,433.3735 Q659.9014,433.3735 658.5815,431.7217 Q657.2617,430.0698 657.2617,426.9487 Q657.2617,423.8193 658.5815,422.1675 Q659.9014,420.5156 662.4082,420.5156 Q663.1138,420.5156 663.7612,420.665 Q664.4087,420.8145 664.9731,421.1133 L664.9731,423.8359 Q664.3423,423.2549 663.7488,422.9851 Q663.1553,422.7153 662.5244,422.7153 Q661.1797,422.7153 660.4949,423.782 Q659.8101,424.8486 659.8101,426.9487 Q659.8101,429.0405 660.4949,430.1072 Q661.1797,431.1738 662.5244,431.1738 Q663.1553,431.1738 663.7488,430.9041 Q664.3423,430.6343 664.9731,430.0532 Z \"/><text fill=\"#000000\" font-family=\"sans-serif\" font-size=\"12\" lengthAdjust=\"spacingAndGlyphs\" textLength=\"71\" x=\"685.5\" y=\"424.6016\">ChicagoStyle</text><text fill=\"#000000\" font-family=\"sans-serif\" font-size=\"12\" lengthAdjust=\"spacingAndGlyphs\" textLength=\"90\" x=\"676\" y=\"438.7344\">PepperoniPizza</text><line style=\"stroke: #A80036; stroke-width: 1.5;\" x1=\"648\" x2=\"768\" y1=\"446.2656\" y2=\"446.2656\"/><line style=\"stroke: #A80036; stroke-width: 1.5;\" x1=\"648\" x2=\"768\" y1=\"454.2656\" y2=\"454.2656\"/><rect fill=\"#FEFECE\" filter=\"url(#f1)\" height=\"54.2656\" style=\"stroke: #A80036; stroke-width: 1.5;\" width=\"103\" x=\"804.5\" y=\"408\"/><ellipse cx=\"819.5\" cy=\"427.1328\" fill=\"#ADD1B2\" rx=\"11\" ry=\"11\" style=\"stroke: #A80036; stroke-width: 1.0;\"/><path d=\"M822.4731,432.7759 Q821.8921,433.0747 821.2529,433.2241 Q820.6138,433.3735 819.9082,433.3735 Q817.4014,433.3735 816.0815,431.7217 Q814.7617,430.0698 814.7617,426.9487 Q814.7617,423.8193 816.0815,422.1675 Q817.4014,420.5156 819.9082,420.5156 Q820.6138,420.5156 821.2612,420.665 Q821.9087,420.8145 822.4731,421.1133 L822.4731,423.8359 Q821.8423,423.2549 821.2488,422.9851 Q820.6553,422.7153 820.0244,422.7153 Q818.6797,422.7153 817.9949,423.782 Q817.3101,424.8486 817.3101,426.9487 Q817.3101,429.0405 817.9949,430.1072 Q818.6797,431.1738 820.0244,431.1738 Q820.6553,431.1738 821.2488,430.9041 Q821.8423,430.6343 822.4731,430.0532 Z \"/><text fill=\"#000000\" font-family=\"sans-serif\" font-size=\"12\" lengthAdjust=\"spacingAndGlyphs\" textLength=\"71\" x=\"833.5\" y=\"424.6016\">ChicagoStyle</text><text fill=\"#000000\" font-family=\"sans-serif\" font-size=\"12\" lengthAdjust=\"spacingAndGlyphs\" textLength=\"60\" x=\"839\" y=\"438.7344\">ClamPizza</text><line style=\"stroke: #A80036; stroke-width: 1.5;\" x1=\"805.5\" x2=\"906.5\" y1=\"446.2656\" y2=\"446.2656\"/><line style=\"stroke: #A80036; stroke-width: 1.5;\" x1=\"805.5\" x2=\"906.5\" y1=\"454.2656\" y2=\"454.2656\"/><rect fill=\"#FEFECE\" filter=\"url(#f1)\" height=\"54.2656\" style=\"stroke: #A80036; stroke-width: 1.5;\" width=\"103\" x=\"942.5\" y=\"408\"/><ellipse cx=\"957.5\" cy=\"427.1328\" fill=\"#ADD1B2\" rx=\"11\" ry=\"11\" style=\"stroke: #A80036; stroke-width: 1.0;\"/><path d=\"M960.4731,432.7759 Q959.8921,433.0747 959.2529,433.2241 Q958.6138,433.3735 957.9082,433.3735 Q955.4014,433.3735 954.0815,431.7217 Q952.7617,430.0698 952.7617,426.9487 Q952.7617,423.8193 954.0815,422.1675 Q955.4014,420.5156 957.9082,420.5156 Q958.6138,420.5156 959.2612,420.665 Q959.9087,420.8145 960.4731,421.1133 L960.4731,423.8359 Q959.8423,423.2549 959.2488,422.9851 Q958.6553,422.7153 958.0244,422.7153 Q956.6797,422.7153 955.9949,423.782 Q955.3101,424.8486 955.3101,426.9487 Q955.3101,429.0405 955.9949,430.1072 Q956.6797,431.1738 958.0244,431.1738 Q958.6553,431.1738 959.2488,430.9041 Q959.8423,430.6343 960.4731,430.0532 Z \"/><text fill=\"#000000\" font-family=\"sans-serif\" font-size=\"12\" lengthAdjust=\"spacingAndGlyphs\" textLength=\"71\" x=\"971.5\" y=\"424.6016\">ChicagoStyle</text><text fill=\"#000000\" font-family=\"sans-serif\" font-size=\"12\" lengthAdjust=\"spacingAndGlyphs\" textLength=\"70\" x=\"972\" y=\"438.7344\">VeggiePizza</text><line style=\"stroke: #A80036; stroke-width: 1.5;\" x1=\"943.5\" x2=\"1044.5\" y1=\"446.2656\" y2=\"446.2656\"/><line style=\"stroke: #A80036; stroke-width: 1.5;\" x1=\"943.5\" x2=\"1044.5\" y1=\"454.2656\" y2=\"454.2656\"/><polygon fill=\"#FBFB77\" filter=\"url(#f1)\" points=\"6,8,6,155.7949,270,155.7949,270,18,260,8,6,8\" style=\"stroke: #A80036; stroke-width: 1.0;\"/><polygon fill=\"#FBFB77\" points=\"6,8,6,155.7949,270,155.7949,270,86,304.92,82,270,78,270,18,260,8,6,8\" style=\"stroke: #A80036; stroke-width: 1.0;\"/><line style=\"stroke: #A80036; stroke-width: 1.0;\" x1=\"260\" x2=\"260\" y1=\"8\" y2=\"18\"/><line style=\"stroke: #A80036; stroke-width: 1.0;\" x1=\"270\" x2=\"260\" y1=\"18\" y2=\"18\"/><text fill=\"#000000\" font-family=\"sans-serif\" font-size=\"13\" lengthAdjust=\"spacingAndGlyphs\" textLength=\"243\" x=\"12\" y=\"25.5684\">&quot;&quot;&quot;public Pizza orderPizza(String type) {</text><text fill=\"#000000\" font-family=\"sans-serif\" font-size=\"13\" lengthAdjust=\"spacingAndGlyphs\" textLength=\"73\" x=\"28\" y=\"40.8789\">Pizza pizza;</text><text fill=\"#000000\" font-family=\"sans-serif\" font-size=\"13\" lengthAdjust=\"spacingAndGlyphs\" textLength=\"152\" x=\"28\" y=\"56.1895\">pizza=createPizza(type);</text><text fill=\"#000000\" font-family=\"sans-serif\" font-size=\"13\" lengthAdjust=\"spacingAndGlyphs\" textLength=\"96\" x=\"28\" y=\"71.5\">pizza.prepare();</text><text fill=\"#000000\" font-family=\"sans-serif\" font-size=\"13\" lengthAdjust=\"spacingAndGlyphs\" textLength=\"79\" x=\"28\" y=\"86.8105\">pizza.bake();</text><text fill=\"#000000\" font-family=\"sans-serif\" font-size=\"13\" lengthAdjust=\"spacingAndGlyphs\" textLength=\"69\" x=\"28\" y=\"102.1211\">pizza.cut();</text><text fill=\"#000000\" font-family=\"sans-serif\" font-size=\"13\" lengthAdjust=\"spacingAndGlyphs\" textLength=\"73\" x=\"28\" y=\"117.4316\">pizza.box();</text><text fill=\"#000000\" font-family=\"sans-serif\" font-size=\"13\" lengthAdjust=\"spacingAndGlyphs\" textLength=\"79\" x=\"28\" y=\"132.7422\">return pizza;</text><text fill=\"#000000\" font-family=\"sans-serif\" font-size=\"13\" lengthAdjust=\"spacingAndGlyphs\" textLength=\"19\" x=\"12\" y=\"148.0527\">}&quot;&quot;&quot;</text><polygon fill=\"#FBFB77\" filter=\"url(#f1)\" points=\"228.5,216,228.5,348.4844,523.5,348.4844,523.5,226,513.5,216,228.5,216\" style=\"stroke: #A80036; stroke-width: 1.0;\"/><polygon fill=\"#FBFB77\" points=\"228.5,216,228.5,348.4844,523.5,348.4844,523.5,286,558.31,282,523.5,278,523.5,226,513.5,216,228.5,216\" style=\"stroke: #A80036; stroke-width: 1.0;\"/><line style=\"stroke: #A80036; stroke-width: 1.0;\" x1=\"513.5\" x2=\"513.5\" y1=\"216\" y2=\"226\"/><line style=\"stroke: #A80036; stroke-width: 1.0;\" x1=\"523.5\" x2=\"513.5\" y1=\"226\" y2=\"226\"/><text fill=\"#000000\" font-family=\"sans-serif\" font-size=\"13\" lengthAdjust=\"spacingAndGlyphs\" textLength=\"15\" x=\"234.5\" y=\"233.5684\">&quot;&quot;&quot;</text><text fill=\"#000000\" font-family=\"sans-serif\" font-size=\"13\" font-weight=\"bold\" lengthAdjust=\"spacingAndGlyphs\" textLength=\"103\" x=\"249.5\" y=\"233.5684\">factory method</text><text fill=\"#000000\" font-family=\"sans-serif\" font-size=\"13\" lengthAdjust=\"spacingAndGlyphs\" textLength=\"190\" x=\"234.5\" y=\"248.8789\">Pizza createPizza(String type) {</text><text fill=\"#000000\" font-family=\"sans-serif\" font-size=\"13\" lengthAdjust=\"spacingAndGlyphs\" textLength=\"107\" x=\"250.5\" y=\"264.1895\">Pizza pizza=null;</text><text fill=\"#000000\" font-family=\"sans-serif\" font-size=\"13\" lengthAdjust=\"spacingAndGlyphs\" textLength=\"150\" x=\"250.5\" y=\"279.5\">if(type.equals(&quot;cheese&quot;))</text><text fill=\"#000000\" font-family=\"sans-serif\" font-size=\"13\" lengthAdjust=\"spacingAndGlyphs\" textLength=\"242\" x=\"266.5\" y=\"294.8105\">pizza=new ChicagoStyleCheesePizza();</text><text fill=\"#000000\" font-family=\"sans-serif\" font-size=\"13\" lengthAdjust=\"spacingAndGlyphs\" textLength=\"20\" x=\"250.5\" y=\"310.1211\">.....</text><text fill=\"#000000\" font-family=\"sans-serif\" font-size=\"13\" lengthAdjust=\"spacingAndGlyphs\" textLength=\"75\" x=\"250.5\" y=\"325.4316\">return pizza</text><text fill=\"#000000\" font-family=\"sans-serif\" font-size=\"13\" lengthAdjust=\"spacingAndGlyphs\" textLength=\"19\" x=\"234.5\" y=\"340.7422\">}&quot;&quot;&quot;</text><path d=\"M319.896,131.617 C273.042,167.742 216.359,211.52 211,216 C194.85,229.501 177.305,245.315 163.578,257.964 \" fill=\"none\" style=\"stroke: #A80036; stroke-width: 1.0;\"/><polygon fill=\"none\" points=\"315.844,125.901,335.958,119.235,324.392,136.989,315.844,125.901\" style=\"stroke: #A80036; stroke-width: 1.0;\"/><path d=\"M443.148,131.809 C492.628,171.96 560.563,227.088 598.47,257.848 \" fill=\"none\" style=\"stroke: #A80036; stroke-width: 1.0;\"/><polygon fill=\"none\" points=\"438.589,137.124,427.47,119.086,447.411,126.253,438.589,137.124\" style=\"stroke: #A80036; stroke-width: 1.0;\"/><path d=\"M838.715,125.033 C824.42,164.346 803.518,221.825 791.486,254.915 \" fill=\"none\" style=\"stroke: #A80036; stroke-width: 1.0;\"/><polygon fill=\"none\" points=\"832.186,122.504,845.6,106.101,845.343,127.289,832.186,122.504\" style=\"stroke: #A80036; stroke-width: 1.0;\"/><path d=\"M869.497,125.033 C883.991,164.346 905.183,221.825 917.383,254.915 \" fill=\"none\" style=\"stroke: #A80036; stroke-width: 1.0;\"/><polygon fill=\"none\" points=\"862.868,127.287,862.517,106.101,876.003,122.444,862.868,127.287\" style=\"stroke: #A80036; stroke-width: 1.0;\"/><path d=\"M742.446,323.388 C733.16,331.968 723.035,340.646 713,348 C681.137,371.3505 642.282,393.0053 611.572,408.7442 \" fill=\"none\" style=\"stroke: #A80036; stroke-width: 1.0;\"/><polygon fill=\"none\" points=\"737.847,318.1,757.12,309.294,747.545,328.197,737.847,318.1\" style=\"stroke: #A80036; stroke-width: 1.0;\"/><path d=\"M760.2,327.483 C747.364,353.676 731.574,385.897 720.742,407.9992 \" fill=\"none\" style=\"stroke: #A80036; stroke-width: 1.0;\"/><polygon fill=\"none\" points=\"754.023,324.181,769.11,309.302,766.595,330.342,754.023,324.181\" style=\"stroke: #A80036; stroke-width: 1.0;\"/><path d=\"M803.8,327.483 C816.636,353.676 832.426,385.897 843.258,407.9992 \" fill=\"none\" style=\"stroke: #A80036; stroke-width: 1.0;\"/><polygon fill=\"none\" points=\"797.405,330.342,794.89,309.302,809.977,324.181,797.405,330.342\" style=\"stroke: #A80036; stroke-width: 1.0;\"/><path d=\"M822.041,322.779 C831.543,331.475 841.871,340.356 852,348 C881.563,370.3091 917.225,391.8903 945.415,407.8533 \" fill=\"none\" style=\"stroke: #A80036; stroke-width: 1.0;\"/><polygon fill=\"none\" points=\"817.211,327.846,807.476,309.025,826.823,317.667,817.211,327.846\" style=\"stroke: #A80036; stroke-width: 1.0;\"/></g></svg>"
      ],
      "text/plain": [
       "<IPython.core.display.SVG object>"
      ]
     },
     "execution_count": 16,
     "metadata": {},
     "output_type": "execute_result"
    }
   ],
   "source": [
    "%%plantuml\n",
    "@startuml\n",
    "PizzaStore <|-- NYPizzaStore\n",
    "PizzaStore <|-- ChicagoPizzaStore\n",
    "Pizza <|-- \"ChicagoStyle\\nPizza\"\n",
    "Pizza <|-- \"NYStyleCheese\\nPizza\"\n",
    "\"ChicagoStyle\\nPizza\" <|-- \"ChicagoStyle\\nCheesePizza\"\n",
    "\"ChicagoStyle\\nPizza\" <|-- \"ChicagoStyle\\nPepperoniPizza\"\n",
    "\"ChicagoStyle\\nPizza\" <|-- \"ChicagoStyle\\nClamPizza\"\n",
    "\"ChicagoStyle\\nPizza\" <|-- \"ChicagoStyle\\nVeggiePizza\"\n",
    "\n",
    "abstract class PizzaStore {\n",
    "  +orderPizza(String):Pizza\n",
    "  {abstract}-createPizza(String):Pizza\n",
    "}\n",
    "note left of PizzaStore\n",
    "\"\"\"public Pizza orderPizza(String type) {\n",
    "    Pizza pizza;\n",
    "    pizza=createPizza(type);\n",
    "    pizza.prepare();\n",
    "    pizza.bake();\n",
    "    pizza.cut();\n",
    "    pizza.box();\n",
    "    return pizza;\n",
    "}\"\"\"\n",
    "end note\n",
    "note left of ChicagoPizzaStore\n",
    "\"\"\"<b>factory method</b>\n",
    "Pizza createPizza(String type) {\n",
    "    Pizza pizza=null;\n",
    "    if(type.equals(\"cheese\"))\n",
    "        pizza=new ChicagoStyleCheesePizza();\n",
    "    .....\n",
    "    return pizza\n",
    "}\"\"\"\n",
    "end note\n",
    "@enduml"
   ]
  },
  {
   "cell_type": "markdown",
   "metadata": {},
   "source": [
    "## 5.3 Abstract Factory\n",
    "\n",
    "* product families\n",
    "* DIP - 상속을 통해 "
   ]
  },
  {
   "cell_type": "code",
   "execution_count": 17,
   "metadata": {
    "collapsed": true
   },
   "outputs": [],
   "source": [
    "%load_ext gvmagic"
   ]
  },
  {
   "cell_type": "code",
   "execution_count": 18,
   "metadata": {
    "collapsed": false
   },
   "outputs": [
    {
     "data": {
      "image/svg+xml": [
       "<?xml version=\"1.0\" encoding=\"UTF-8\" standalone=\"no\"?>\n",
       "<!DOCTYPE svg PUBLIC \"-//W3C//DTD SVG 1.1//EN\"\n",
       " \"http://www.w3.org/Graphics/SVG/1.1/DTD/svg11.dtd\">\n",
       "<!-- Generated by graphviz version 2.38.0 (20140413.2041)\n",
       " -->\n",
       "<!-- Title: G Pages: 1 -->\n",
       "<svg width=\"134pt\" height=\"204pt\"\n",
       " viewBox=\"0.00 0.00 134.00 204.00\" xmlns=\"http://www.w3.org/2000/svg\" xmlns:xlink=\"http://www.w3.org/1999/xlink\">\n",
       "<g id=\"graph0\" class=\"graph\" transform=\"scale(1 1) rotate(0) translate(4 200)\">\n",
       "<title>G</title>\n",
       "<polygon fill=\"white\" stroke=\"none\" points=\"-4,4 -4,-200 130,-200 130,4 -4,4\"/>\n",
       "<!-- a -->\n",
       "<g id=\"node1\" class=\"node\"><title>a</title>\n",
       "<ellipse fill=\"none\" stroke=\"black\" cx=\"63\" cy=\"-178\" rx=\"27\" ry=\"18\"/>\n",
       "<text text-anchor=\"middle\" x=\"63\" y=\"-174.3\" font-family=\"Times,serif\" font-size=\"14.00\">a</text>\n",
       "</g>\n",
       "<!-- b -->\n",
       "<g id=\"node2\" class=\"node\"><title>b</title>\n",
       "<ellipse fill=\"none\" stroke=\"black\" cx=\"63\" cy=\"-105\" rx=\"27\" ry=\"18\"/>\n",
       "<text text-anchor=\"middle\" x=\"63\" y=\"-101.3\" font-family=\"Times,serif\" font-size=\"14.00\">b</text>\n",
       "</g>\n",
       "<!-- a&#45;&gt;b -->\n",
       "<g id=\"edge1\" class=\"edge\"><title>a&#45;&gt;b</title>\n",
       "<path fill=\"none\" stroke=\"black\" d=\"M63,-159.813C63,-151.789 63,-142.047 63,-133.069\"/>\n",
       "<polygon fill=\"black\" stroke=\"black\" points=\"66.5001,-133.029 63,-123.029 59.5001,-133.029 66.5001,-133.029\"/>\n",
       "</g>\n",
       "<!-- c -->\n",
       "<g id=\"node3\" class=\"node\"><title>c</title>\n",
       "<ellipse fill=\"none\" stroke=\"black\" cx=\"27\" cy=\"-18\" rx=\"27\" ry=\"18\"/>\n",
       "<text text-anchor=\"middle\" x=\"27\" y=\"-14.3\" font-family=\"Times,serif\" font-size=\"14.00\">c</text>\n",
       "</g>\n",
       "<!-- b&#45;&gt;c -->\n",
       "<g id=\"edge2\" class=\"edge\"><title>b&#45;&gt;c</title>\n",
       "<path fill=\"none\" stroke=\"black\" d=\"M50.7082,-88.6965C46.4829,-82.8183 42.0528,-75.8671 39,-69 35.8088,-61.8215 33.3936,-53.6701 31.598,-46.0628\"/>\n",
       "<polygon fill=\"black\" stroke=\"black\" points=\"35.0006,-45.2353 29.5187,-36.169 28.1503,-46.675 35.0006,-45.2353\"/>\n",
       "<text text-anchor=\"middle\" x=\"62\" y=\"-57.8\" font-family=\"Times,serif\" font-size=\"14.00\">depends</text>\n",
       "</g>\n",
       "<!-- d -->\n",
       "<g id=\"node4\" class=\"node\"><title>d</title>\n",
       "<ellipse fill=\"none\" stroke=\"black\" cx=\"99\" cy=\"-18\" rx=\"27\" ry=\"18\"/>\n",
       "<text text-anchor=\"middle\" x=\"99\" y=\"-14.3\" font-family=\"Times,serif\" font-size=\"14.00\">d</text>\n",
       "</g>\n",
       "<!-- b&#45;&gt;d -->\n",
       "<g id=\"edge3\" class=\"edge\"><title>b&#45;&gt;d</title>\n",
       "<path fill=\"none\" stroke=\"black\" d=\"M74.0859,-88.5075C77.9395,-82.6089 82.0344,-75.6931 85,-69 88.2135,-61.7474 90.872,-53.5727 92.9774,-45.9669\"/>\n",
       "<polygon fill=\"black\" stroke=\"black\" points=\"96.417,-46.6436 95.5057,-36.088 89.6355,-44.908 96.417,-46.6436\"/>\n",
       "</g>\n",
       "</g>\n",
       "</svg>\n"
      ]
     },
     "metadata": {},
     "output_type": "display_data"
    }
   ],
   "source": [
    "%%dot digraph G {\n",
    "    rankdir=TB;\n",
    "    a -> b;\n",
    "    b -> c[label=depends];\n",
    "    b -> d;\n",
    "}"
   ]
  },
  {
   "cell_type": "code",
   "execution_count": 19,
   "metadata": {
    "collapsed": false
   },
   "outputs": [
    {
     "data": {
      "image/svg+xml": [
       "<?xml version=\"1.0\" encoding=\"UTF-8\" standalone=\"no\"?>\n",
       "<!DOCTYPE svg PUBLIC \"-//W3C//DTD SVG 1.1//EN\"\n",
       " \"http://www.w3.org/Graphics/SVG/1.1/DTD/svg11.dtd\">\n",
       "<!-- Generated by graphviz version 2.38.0 (20140413.2041)\n",
       " -->\n",
       "<!-- Title: G Pages: 1 -->\n",
       "<svg width=\"134pt\" height=\"219pt\"\n",
       " viewBox=\"0.00 0.00 134.00 219.00\" xmlns=\"http://www.w3.org/2000/svg\" xmlns:xlink=\"http://www.w3.org/1999/xlink\">\n",
       "<g id=\"graph0\" class=\"graph\" transform=\"scale(1 1) rotate(0) translate(4 215)\">\n",
       "<title>G</title>\n",
       "<polygon fill=\"white\" stroke=\"none\" points=\"-4,4 -4,-215 130,-215 130,4 -4,4\"/>\n",
       "<!-- a -->\n",
       "<g id=\"node1\" class=\"node\"><title>a</title>\n",
       "<ellipse fill=\"none\" stroke=\"black\" cx=\"63\" cy=\"-193\" rx=\"27\" ry=\"18\"/>\n",
       "<text text-anchor=\"middle\" x=\"63\" y=\"-189.3\" font-family=\"Times,serif\" font-size=\"14.00\">a</text>\n",
       "</g>\n",
       "<!-- b -->\n",
       "<g id=\"node2\" class=\"node\"><title>b</title>\n",
       "<ellipse fill=\"none\" stroke=\"black\" cx=\"63\" cy=\"-120\" rx=\"27\" ry=\"18\"/>\n",
       "<text text-anchor=\"middle\" x=\"63\" y=\"-116.3\" font-family=\"Times,serif\" font-size=\"14.00\">b</text>\n",
       "</g>\n",
       "<!-- a&#45;&gt;b -->\n",
       "<g id=\"edge1\" class=\"edge\"><title>a&#45;&gt;b</title>\n",
       "<path fill=\"none\" stroke=\"black\" d=\"M63,-174.813C63,-166.789 63,-157.047 63,-148.069\"/>\n",
       "<polygon fill=\"black\" stroke=\"black\" points=\"66.5001,-148.029 63,-138.029 59.5001,-148.029 66.5001,-148.029\"/>\n",
       "</g>\n",
       "<!-- c -->\n",
       "<g id=\"node3\" class=\"node\"><title>c</title>\n",
       "<ellipse fill=\"none\" stroke=\"black\" cx=\"27\" cy=\"-18\" rx=\"27\" ry=\"18\"/>\n",
       "<text text-anchor=\"middle\" x=\"27\" y=\"-14.3\" font-family=\"Times,serif\" font-size=\"14.00\">c</text>\n",
       "</g>\n",
       "<!-- b&#45;&gt;c -->\n",
       "<g id=\"edge2\" class=\"edge\"><title>b&#45;&gt;c</title>\n",
       "<path fill=\"none\" stroke=\"black\" d=\"M39.2525,-98.4582C35.5352,-94.0762 32.2007,-89.1899 30,-84 23.5171,-68.7115 23.4902,-49.5486 24.6426,-36.0019\"/>\n",
       "<polygon fill=\"black\" stroke=\"black\" points=\"36.7672,-100.924 46.1949,-105.758 41.8395,-96.0997 36.7672,-100.924\"/>\n",
       "<text text-anchor=\"middle\" x=\"57.5\" y=\"-72.8\" font-family=\"Times,serif\" font-size=\"14.00\">depends</text>\n",
       "<text text-anchor=\"middle\" x=\"57.5\" y=\"-57.8\" font-family=\"Times,serif\" font-size=\"14.00\">in reverse</text>\n",
       "</g>\n",
       "<!-- d -->\n",
       "<g id=\"node4\" class=\"node\"><title>d</title>\n",
       "<ellipse fill=\"none\" stroke=\"black\" cx=\"99\" cy=\"-18\" rx=\"27\" ry=\"18\"/>\n",
       "<text text-anchor=\"middle\" x=\"99\" y=\"-14.3\" font-family=\"Times,serif\" font-size=\"14.00\">d</text>\n",
       "</g>\n",
       "<!-- b&#45;&gt;d -->\n",
       "<g id=\"edge3\" class=\"edge\"><title>b&#45;&gt;d</title>\n",
       "<path fill=\"none\" stroke=\"black\" d=\"M79.5513,-95.0653C81.594,-91.4617 83.4903,-87.7079 85,-84 91.3553,-68.3907 95.0152,-49.4441 96.987,-36.0438\"/>\n",
       "<polygon fill=\"black\" stroke=\"black\" points=\"76.5594,-93.2491 74.3085,-103.602 82.5243,-96.9124 76.5594,-93.2491\"/>\n",
       "</g>\n",
       "</g>\n",
       "</svg>\n"
      ]
     },
     "metadata": {},
     "output_type": "display_data"
    }
   ],
   "source": [
    "%%dot digraph G {\n",
    "    rankdir=TB;\n",
    "    a -> b;\n",
    "    b -> c [dir=back][label = \"depends\\nin reverse\"];\n",
    "    b -> d [dir=back];\n",
    "}"
   ]
  },
  {
   "cell_type": "markdown",
   "metadata": {
    "slideshow": {
     "slide_type": "slide"
    }
   },
   "source": [
    "# 6. Case Implementation\n",
    "\n",
    "## 6.1 Pizza\n",
    "* 교재 HFDP Ch4 'Pizza'"
   ]
  },
  {
   "cell_type": "markdown",
   "metadata": {
    "slideshow": {
     "slide_type": "slide"
    }
   },
   "source": [
    "### 6.1.1 simple factory"
   ]
  },
  {
   "cell_type": "code",
   "execution_count": 20,
   "metadata": {
    "collapsed": false,
    "slideshow": {
     "slide_type": "slide"
    }
   },
   "outputs": [
    {
     "data": {
      "image/svg+xml": [
       "<svg height=\"377px\" style=\"width:424px;height:377px;\" version=\"1.1\" viewBox=\"0 0 424 377\" width=\"424px\" xmlns=\"http://www.w3.org/2000/svg\" xmlns:xlink=\"http://www.w3.org/1999/xlink\"><defs><filter height=\"300%\" id=\"f1\" width=\"300%\" x=\"-1\" y=\"-1\"><feGaussianBlur result=\"blurOut\" stdDeviation=\"2.0\"/><feColorMatrix in=\"blurOut\" result=\"blurOut2\" type=\"matrix\" values=\"0 0 0 0 0 0 0 0 0 0 0 0 0 0 0 0 0 0 .4 0\"/><feOffset dx=\"4.0\" dy=\"4.0\" in=\"blurOut2\" result=\"blurOut3\"/><feBlend in=\"SourceGraphic\" in2=\"blurOut3\" mode=\"normal\"/></filter></defs><g><rect fill=\"#FFFFFF\" filter=\"url(#f1)\" height=\"208.1289\" style=\"stroke: #000000; stroke-width: 2.0;\" width=\"402\" x=\"13\" y=\"114.1094\"/><rect fill=\"#FFFFFF\" height=\"102.8867\" style=\"stroke: none; stroke-width: 1.0;\" width=\"402\" x=\"13\" y=\"219.3516\"/><line style=\"stroke: #A80036; stroke-width: 1.0; stroke-dasharray: 5.0,5.0;\" x1=\"52\" x2=\"52\" y1=\"38.4883\" y2=\"339.2383\"/><line style=\"stroke: #A80036; stroke-width: 1.0; stroke-dasharray: 5.0,5.0;\" x1=\"166\" x2=\"166\" y1=\"38.4883\" y2=\"339.2383\"/><line style=\"stroke: #A80036; stroke-width: 1.0; stroke-dasharray: 5.0,5.0;\" x1=\"296\" x2=\"296\" y1=\"38.4883\" y2=\"339.2383\"/><line style=\"stroke: #A80036; stroke-width: 1.0; stroke-dasharray: 5.0,5.0;\" x1=\"378\" x2=\"378\" y1=\"38.4883\" y2=\"339.2383\"/><rect fill=\"#FEFECE\" filter=\"url(#f1)\" height=\"30.4883\" style=\"stroke: #A80036; stroke-width: 1.5;\" width=\"54\" x=\"23\" y=\"3\"/><text fill=\"#000000\" font-family=\"sans-serif\" font-size=\"14\" lengthAdjust=\"spacingAndGlyphs\" textLength=\"40\" x=\"30\" y=\"23.5352\">Client</text><rect fill=\"#FEFECE\" filter=\"url(#f1)\" height=\"30.4883\" style=\"stroke: #A80036; stroke-width: 1.5;\" width=\"54\" x=\"23\" y=\"338.2383\"/><text fill=\"#000000\" font-family=\"sans-serif\" font-size=\"14\" lengthAdjust=\"spacingAndGlyphs\" textLength=\"40\" x=\"30\" y=\"358.7734\">Client</text><rect fill=\"#FEFECE\" filter=\"url(#f1)\" height=\"30.4883\" style=\"stroke: #A80036; stroke-width: 1.5;\" width=\"146\" x=\"91\" y=\"3\"/><text fill=\"#000000\" font-family=\"sans-serif\" font-size=\"14\" lengthAdjust=\"spacingAndGlyphs\" textLength=\"132\" x=\"98\" y=\"23.5352\">SimplePizzaFactory</text><rect fill=\"#FEFECE\" filter=\"url(#f1)\" height=\"30.4883\" style=\"stroke: #A80036; stroke-width: 1.5;\" width=\"146\" x=\"91\" y=\"338.2383\"/><text fill=\"#000000\" font-family=\"sans-serif\" font-size=\"14\" lengthAdjust=\"spacingAndGlyphs\" textLength=\"132\" x=\"98\" y=\"358.7734\">SimplePizzaFactory</text><rect fill=\"#FEFECE\" filter=\"url(#f1)\" height=\"30.4883\" style=\"stroke: #A80036; stroke-width: 1.5;\" width=\"86\" x=\"251\" y=\"3\"/><text fill=\"#000000\" font-family=\"sans-serif\" font-size=\"14\" lengthAdjust=\"spacingAndGlyphs\" textLength=\"72\" x=\"258\" y=\"23.5352\">PizzaStore</text><rect fill=\"#FEFECE\" filter=\"url(#f1)\" height=\"30.4883\" style=\"stroke: #A80036; stroke-width: 1.5;\" width=\"86\" x=\"251\" y=\"338.2383\"/><text fill=\"#000000\" font-family=\"sans-serif\" font-size=\"14\" lengthAdjust=\"spacingAndGlyphs\" textLength=\"72\" x=\"258\" y=\"358.7734\">PizzaStore</text><rect fill=\"#FEFECE\" filter=\"url(#f1)\" height=\"30.4883\" style=\"stroke: #A80036; stroke-width: 1.5;\" width=\"50\" x=\"351\" y=\"3\"/><text fill=\"#000000\" font-family=\"sans-serif\" font-size=\"14\" lengthAdjust=\"spacingAndGlyphs\" textLength=\"36\" x=\"358\" y=\"23.5352\">Pizza</text><rect fill=\"#FEFECE\" filter=\"url(#f1)\" height=\"30.4883\" style=\"stroke: #A80036; stroke-width: 1.5;\" width=\"50\" x=\"351\" y=\"338.2383\"/><text fill=\"#000000\" font-family=\"sans-serif\" font-size=\"14\" lengthAdjust=\"spacingAndGlyphs\" textLength=\"36\" x=\"358\" y=\"358.7734\">Pizza</text><polygon fill=\"#A80036\" points=\"154,65.4883,164,69.4883,154,73.4883,158,69.4883\" style=\"stroke: #A80036; stroke-width: 1.0;\"/><line style=\"stroke: #A80036; stroke-width: 1.0;\" x1=\"52\" x2=\"160\" y1=\"69.4883\" y2=\"69.4883\"/><text fill=\"#000000\" font-family=\"sans-serif\" font-size=\"13\" lengthAdjust=\"spacingAndGlyphs\" textLength=\"87\" x=\"59\" y=\"65.0566\">factory=new()</text><polygon fill=\"#A80036\" points=\"284,94.7988,294,98.7988,284,102.7988,288,98.7988\" style=\"stroke: #A80036; stroke-width: 1.0;\"/><line style=\"stroke: #A80036; stroke-width: 1.0;\" x1=\"52\" x2=\"290\" y1=\"98.7988\" y2=\"98.7988\"/><text fill=\"#000000\" font-family=\"sans-serif\" font-size=\"13\" lengthAdjust=\"spacingAndGlyphs\" textLength=\"119\" x=\"59\" y=\"94.3672\">store=new(factory)</text><rect fill=\"none\" height=\"208.1289\" style=\"stroke: #000000; stroke-width: 2.0;\" width=\"402\" x=\"13\" y=\"114.1094\"/><polygon fill=\"#EEEEEE\" points=\"13,114.1094,75,114.1094,75,121.1094,65,131.1094,13,131.1094,13,114.1094\" style=\"stroke: #000000; stroke-width: 2.0;\"/><text fill=\"#000000\" font-family=\"sans-serif\" font-size=\"13\" font-weight=\"bold\" lengthAdjust=\"spacingAndGlyphs\" textLength=\"17\" x=\"28\" y=\"127.6777\">alt</text><text fill=\"#000000\" font-family=\"sans-serif\" font-size=\"11\" font-weight=\"bold\" lengthAdjust=\"spacingAndGlyphs\" textLength=\"45\" x=\"90\" y=\"126.7441\">[cheese]</text><polygon fill=\"#A80036\" points=\"284,148.4199,294,152.4199,284,156.4199,288,152.4199\" style=\"stroke: #A80036; stroke-width: 1.0;\"/><line style=\"stroke: #A80036; stroke-width: 1.0;\" x1=\"52\" x2=\"290\" y1=\"152.4199\" y2=\"152.4199\"/><text fill=\"#000000\" font-family=\"sans-serif\" font-size=\"13\" lengthAdjust=\"spacingAndGlyphs\" textLength=\"122\" x=\"59\" y=\"147.9883\">orderPizza('cheese')</text><polygon fill=\"#A80036\" points=\"366,177.7305,376,181.7305,366,185.7305,370,181.7305\" style=\"stroke: #A80036; stroke-width: 1.0;\"/><line style=\"stroke: #A80036; stroke-width: 1.0;\" x1=\"296\" x2=\"372\" y1=\"181.7305\" y2=\"181.7305\"/><text fill=\"#000000\" font-family=\"sans-serif\" font-size=\"13\" lengthAdjust=\"spacingAndGlyphs\" textLength=\"33\" x=\"303\" y=\"177.2988\">new()</text><polygon fill=\"#A80036\" points=\"366,207.041,376,211.041,366,215.041,370,211.041\" style=\"stroke: #A80036; stroke-width: 1.0;\"/><line style=\"stroke: #A80036; stroke-width: 1.0;\" x1=\"52\" x2=\"372\" y1=\"211.041\" y2=\"211.041\"/><text fill=\"#000000\" font-family=\"sans-serif\" font-size=\"13\" lengthAdjust=\"spacingAndGlyphs\" textLength=\"64\" x=\"59\" y=\"206.6094\">getName()</text><line style=\"stroke: #000000; stroke-width: 1.0; stroke-dasharray: 2.0,2.0;\" x1=\"13\" x2=\"415\" y1=\"220.3516\" y2=\"220.3516\"/><text fill=\"#000000\" font-family=\"sans-serif\" font-size=\"11\" font-weight=\"bold\" lengthAdjust=\"spacingAndGlyphs\" textLength=\"45\" x=\"18\" y=\"230.9863\">[veggie]</text><polygon fill=\"#A80036\" points=\"284,251.3066,294,255.3066,284,259.3066,288,255.3066\" style=\"stroke: #A80036; stroke-width: 1.0;\"/><line style=\"stroke: #A80036; stroke-width: 1.0;\" x1=\"52\" x2=\"290\" y1=\"255.3066\" y2=\"255.3066\"/><text fill=\"#000000\" font-family=\"sans-serif\" font-size=\"13\" lengthAdjust=\"spacingAndGlyphs\" textLength=\"120\" x=\"59\" y=\"250.875\">orderPizza('veggie')</text><polygon fill=\"#A80036\" points=\"366,280.6172,376,284.6172,366,288.6172,370,284.6172\" style=\"stroke: #A80036; stroke-width: 1.0;\"/><line style=\"stroke: #A80036; stroke-width: 1.0;\" x1=\"296\" x2=\"372\" y1=\"284.6172\" y2=\"284.6172\"/><text fill=\"#000000\" font-family=\"sans-serif\" font-size=\"13\" lengthAdjust=\"spacingAndGlyphs\" textLength=\"33\" x=\"303\" y=\"280.1855\">new()</text><polygon fill=\"#A80036\" points=\"366,309.9277,376,313.9277,366,317.9277,370,313.9277\" style=\"stroke: #A80036; stroke-width: 1.0;\"/><line style=\"stroke: #A80036; stroke-width: 1.0;\" x1=\"52\" x2=\"372\" y1=\"313.9277\" y2=\"313.9277\"/><text fill=\"#000000\" font-family=\"sans-serif\" font-size=\"13\" lengthAdjust=\"spacingAndGlyphs\" textLength=\"64\" x=\"59\" y=\"309.4961\">getName()</text></g></svg>"
      ],
      "text/plain": [
       "<IPython.core.display.SVG object>"
      ]
     },
     "execution_count": 20,
     "metadata": {},
     "output_type": "execute_result"
    }
   ],
   "source": [
    "%%plantuml\n",
    "@startuml\n",
    "Client -> SimplePizzaFactory:factory=new()\n",
    "Client -> PizzaStore:store=new(factory)\n",
    "alt cheese\n",
    "    Client -> PizzaStore:orderPizza('cheese')\n",
    "    PizzaStore -> Pizza:new()\n",
    "    Client -> Pizza:getName()\n",
    "else veggie\n",
    "    Client -> PizzaStore:orderPizza('veggie')\n",
    "    PizzaStore -> Pizza:new()\n",
    "    Client -> Pizza:getName()\n",
    "end\n",
    "@enduml"
   ]
  },
  {
   "cell_type": "code",
   "execution_count": null,
   "metadata": {
    "collapsed": true,
    "slideshow": {
     "slide_type": "slide"
    }
   },
   "outputs": [],
   "source": [
    "# %load ./src/headfirst/factory/pizzas/PizzaTestDrive.java\n",
    "package headfirst.factory.pizzas;\n",
    "\n",
    "public class PizzaTestDrive {\n",
    " \n",
    "\tpublic static void main(String[] args) {\n",
    "\t\tSimplePizzaFactory factory = new SimplePizzaFactory();\n",
    "\t\tPizzaStore store = new PizzaStore(factory);\n",
    "\n",
    "\t\tPizza pizza = store.orderPizza(\"cheese\");\n",
    "\t\tSystem.out.println(\"We ordered a \" + pizza.getName() + \"\\n\");\n",
    " \n",
    "\t\tpizza = store.orderPizza(\"veggie\");\n",
    "\t\tSystem.out.println(\"We ordered a \" + pizza.getName() + \"\\n\");\n",
    "\t}\n",
    "}\n"
   ]
  },
  {
   "cell_type": "code",
   "execution_count": null,
   "metadata": {
    "collapsed": true,
    "slideshow": {
     "slide_type": "slide"
    }
   },
   "outputs": [],
   "source": [
    "# %load ./src/headfirst/factory/pizzas/SimplePizzaFactory.java\n",
    "package headfirst.factory.pizzas;\n",
    "\n",
    "public class SimplePizzaFactory {\n",
    "\tpublic Pizza createPizza(String type) {\n",
    "\t\tPizza pizza = null;\n",
    "\t\tif (type.equals(\"cheese\")) {\n",
    "\t\t\tpizza = new CheesePizza();\n",
    "\t\t} else if (type.equals(\"pepperoni\")) {\n",
    "\t\t\tpizza = new PepperoniPizza();\n",
    "\t\t} else if (type.equals(\"clam\")) {\n",
    "\t\t\tpizza = new ClamPizza();\n",
    "\t\t} else if (type.equals(\"veggie\")) {\n",
    "\t\t\tpizza = new VeggiePizza();\n",
    "\t\t}\n",
    "\t\treturn pizza;\n",
    "\t}\n",
    "}\n"
   ]
  },
  {
   "cell_type": "code",
   "execution_count": null,
   "metadata": {
    "collapsed": true,
    "slideshow": {
     "slide_type": "slide"
    }
   },
   "outputs": [],
   "source": [
    "# %load ./src/headfirst/factory/pizzas/PizzaStore.java\n",
    "package headfirst.factory.pizzas;\n",
    "\n",
    "public class PizzaStore {\n",
    "\tSimplePizzaFactory factory;\n",
    "\tpublic PizzaStore(SimplePizzaFactory factory) { \n",
    "\t\tthis.factory = factory;\n",
    "\t}\n",
    "\tpublic Pizza orderPizza(String type) {\n",
    "\t\tPizza pizza;\n",
    "\t\tpizza = factory.createPizza(type); \n",
    "\t\tpizza.prepare();\n",
    "\t\tpizza.bake();\n",
    "\t\tpizza.cut();\n",
    "\t\tpizza.box();\n",
    "\t\treturn pizza;\n",
    "\t}\n",
    "}\n"
   ]
  },
  {
   "cell_type": "code",
   "execution_count": null,
   "metadata": {
    "collapsed": true,
    "slideshow": {
     "slide_type": "slide"
    }
   },
   "outputs": [],
   "source": [
    "# %load ./src/headfirst/factory/pizzas/Pizza.java\n",
    "package headfirst.factory.pizzas;\n",
    "\n",
    "import java.util.ArrayList;\n",
    "\n",
    "abstract public class Pizza {\n",
    "\tString name;\n",
    "\tString dough;\n",
    "\tString sauce;\n",
    "\tArrayList toppings = new ArrayList();\n",
    "\n",
    "\tpublic String getName() {\n",
    "\t\treturn name;\n",
    "\t}\n",
    "\tpublic void prepare() {\n",
    "\t\tSystem.out.println(\"Preparing \" + name);\n",
    "\t}\n",
    "\tpublic void bake() {\n",
    "\t\tSystem.out.println(\"Baking \" + name);\n",
    "\t}\n",
    "\tpublic void cut() {\n",
    "\t\tSystem.out.println(\"Cutting \" + name);\n",
    "\t}\n",
    "\tpublic void box() {\n",
    "\t\tSystem.out.println(\"Boxing \" + name);\n",
    "\t}\n",
    "\tpublic String toString() {\n",
    "\t\t// code to display pizza name and ingredients\n",
    "\t\tStringBuffer display = new StringBuffer();\n",
    "\t\tdisplay.append(\"---- \" + name + \" ----\\n\");\n",
    "\t\tdisplay.append(dough + \"\\n\");\n",
    "\t\tdisplay.append(sauce + \"\\n\");\n",
    "\t\tfor (int i = 0; i < toppings.size(); i++) {\n",
    "\t\t\tdisplay.append((String )toppings.get(i) + \"\\n\");\n",
    "\t\t}\n",
    "\t\treturn display.toString();\n",
    "\t}\n",
    "}\n"
   ]
  },
  {
   "cell_type": "code",
   "execution_count": null,
   "metadata": {
    "collapsed": true,
    "slideshow": {
     "slide_type": "slide"
    }
   },
   "outputs": [],
   "source": [
    "# %load ./src/headfirst/factory/pizzas/CheesePizza.java\n",
    "package headfirst.factory.pizzas;\n",
    "\n",
    "public class CheesePizza extends Pizza {\n",
    "\tpublic CheesePizza() {\n",
    "\t\tname = \"Cheese Pizza\";\n",
    "\t\tdough = \"Regular Crust\";\n",
    "\t\tsauce = \"Marinara Pizza Sauce\";\n",
    "\t\ttoppings.add(\"Fresh Mozzarella\");\n",
    "\t\ttoppings.add(\"Parmesan\");\n",
    "\t}\n",
    "}\n"
   ]
  },
  {
   "cell_type": "markdown",
   "metadata": {
    "slideshow": {
     "slide_type": "slide"
    }
   },
   "source": [
    "### 6.1.2 factory method"
   ]
  },
  {
   "cell_type": "code",
   "execution_count": 21,
   "metadata": {
    "collapsed": false,
    "slideshow": {
     "slide_type": "slide"
    }
   },
   "outputs": [
    {
     "data": {
      "image/svg+xml": [
       "<svg height=\"436px\" style=\"width:560px;height:436px;\" version=\"1.1\" viewBox=\"0 0 560 436\" width=\"560px\" xmlns=\"http://www.w3.org/2000/svg\" xmlns:xlink=\"http://www.w3.org/1999/xlink\"><defs><filter height=\"300%\" id=\"f1\" width=\"300%\" x=\"-1\" y=\"-1\"><feGaussianBlur result=\"blurOut\" stdDeviation=\"2.0\"/><feColorMatrix in=\"blurOut\" result=\"blurOut2\" type=\"matrix\" values=\"0 0 0 0 0 0 0 0 0 0 0 0 0 0 0 0 0 0 .4 0\"/><feOffset dx=\"4.0\" dy=\"4.0\" in=\"blurOut2\" result=\"blurOut3\"/><feBlend in=\"SourceGraphic\" in2=\"blurOut3\" mode=\"normal\"/></filter></defs><g><rect fill=\"#FFFFFF\" filter=\"url(#f1)\" height=\"325.3711\" style=\"stroke: #000000; stroke-width: 2.0;\" width=\"538\" x=\"13\" y=\"55.4883\"/><rect fill=\"#FFFFFF\" height=\"161.5078\" style=\"stroke: none; stroke-width: 1.0;\" width=\"538\" x=\"13\" y=\"219.3516\"/><line style=\"stroke: #A80036; stroke-width: 1.0; stroke-dasharray: 5.0,5.0;\" x1=\"52\" x2=\"52\" y1=\"38.4883\" y2=\"397.8594\"/><line style=\"stroke: #A80036; stroke-width: 1.0; stroke-dasharray: 5.0,5.0;\" x1=\"157\" x2=\"157\" y1=\"38.4883\" y2=\"397.8594\"/><line style=\"stroke: #A80036; stroke-width: 1.0; stroke-dasharray: 5.0,5.0;\" x1=\"266\" x2=\"266\" y1=\"38.4883\" y2=\"397.8594\"/><line style=\"stroke: #A80036; stroke-width: 1.0; stroke-dasharray: 5.0,5.0;\" x1=\"358\" x2=\"358\" y1=\"38.4883\" y2=\"397.8594\"/><line style=\"stroke: #A80036; stroke-width: 1.0; stroke-dasharray: 5.0,5.0;\" x1=\"468\" x2=\"468\" y1=\"38.4883\" y2=\"397.8594\"/><rect fill=\"#FEFECE\" filter=\"url(#f1)\" height=\"30.4883\" style=\"stroke: #A80036; stroke-width: 1.5;\" width=\"54\" x=\"23\" y=\"3\"/><text fill=\"#000000\" font-family=\"sans-serif\" font-size=\"14\" lengthAdjust=\"spacingAndGlyphs\" textLength=\"40\" x=\"30\" y=\"23.5352\">Client</text><rect fill=\"#FEFECE\" filter=\"url(#f1)\" height=\"30.4883\" style=\"stroke: #A80036; stroke-width: 1.5;\" width=\"54\" x=\"23\" y=\"396.8594\"/><text fill=\"#000000\" font-family=\"sans-serif\" font-size=\"14\" lengthAdjust=\"spacingAndGlyphs\" textLength=\"40\" x=\"30\" y=\"417.3945\">Client</text><rect fill=\"#FEFECE\" filter=\"url(#f1)\" height=\"30.4883\" style=\"stroke: #A80036; stroke-width: 1.5;\" width=\"86\" x=\"112\" y=\"3\"/><text fill=\"#000000\" font-family=\"sans-serif\" font-size=\"14\" lengthAdjust=\"spacingAndGlyphs\" textLength=\"72\" x=\"119\" y=\"23.5352\">PizzaStore</text><rect fill=\"#FEFECE\" filter=\"url(#f1)\" height=\"30.4883\" style=\"stroke: #A80036; stroke-width: 1.5;\" width=\"86\" x=\"112\" y=\"396.8594\"/><text fill=\"#000000\" font-family=\"sans-serif\" font-size=\"14\" lengthAdjust=\"spacingAndGlyphs\" textLength=\"72\" x=\"119\" y=\"417.3945\">PizzaStore</text><rect fill=\"#FEFECE\" filter=\"url(#f1)\" height=\"30.4883\" style=\"stroke: #A80036; stroke-width: 1.5;\" width=\"105\" x=\"212\" y=\"3\"/><text fill=\"#000000\" font-family=\"sans-serif\" font-size=\"14\" lengthAdjust=\"spacingAndGlyphs\" textLength=\"91\" x=\"219\" y=\"23.5352\">NYPizzaStore</text><rect fill=\"#FEFECE\" filter=\"url(#f1)\" height=\"30.4883\" style=\"stroke: #A80036; stroke-width: 1.5;\" width=\"105\" x=\"212\" y=\"396.8594\"/><text fill=\"#000000\" font-family=\"sans-serif\" font-size=\"14\" lengthAdjust=\"spacingAndGlyphs\" textLength=\"91\" x=\"219\" y=\"417.3945\">NYPizzaStore</text><rect fill=\"#FEFECE\" filter=\"url(#f1)\" height=\"30.4883\" style=\"stroke: #A80036; stroke-width: 1.5;\" width=\"50\" x=\"331\" y=\"3\"/><text fill=\"#000000\" font-family=\"sans-serif\" font-size=\"14\" lengthAdjust=\"spacingAndGlyphs\" textLength=\"36\" x=\"338\" y=\"23.5352\">Pizza</text><rect fill=\"#FEFECE\" filter=\"url(#f1)\" height=\"30.4883\" style=\"stroke: #A80036; stroke-width: 1.5;\" width=\"50\" x=\"331\" y=\"396.8594\"/><text fill=\"#000000\" font-family=\"sans-serif\" font-size=\"14\" lengthAdjust=\"spacingAndGlyphs\" textLength=\"36\" x=\"338\" y=\"417.3945\">Pizza</text><rect fill=\"#FEFECE\" filter=\"url(#f1)\" height=\"30.4883\" style=\"stroke: #A80036; stroke-width: 1.5;\" width=\"142\" x=\"395\" y=\"3\"/><text fill=\"#000000\" font-family=\"sans-serif\" font-size=\"14\" lengthAdjust=\"spacingAndGlyphs\" textLength=\"128\" x=\"402\" y=\"23.5352\">ChicagoPizzaStore</text><rect fill=\"#FEFECE\" filter=\"url(#f1)\" height=\"30.4883\" style=\"stroke: #A80036; stroke-width: 1.5;\" width=\"142\" x=\"395\" y=\"396.8594\"/><text fill=\"#000000\" font-family=\"sans-serif\" font-size=\"14\" lengthAdjust=\"spacingAndGlyphs\" textLength=\"128\" x=\"402\" y=\"417.3945\">ChicagoPizzaStore</text><rect fill=\"none\" height=\"325.3711\" style=\"stroke: #000000; stroke-width: 2.0;\" width=\"538\" x=\"13\" y=\"55.4883\"/><polygon fill=\"#EEEEEE\" points=\"13,55.4883,75,55.4883,75,62.4883,65,72.4883,13,72.4883,13,55.4883\" style=\"stroke: #000000; stroke-width: 2.0;\"/><text fill=\"#000000\" font-family=\"sans-serif\" font-size=\"13\" font-weight=\"bold\" lengthAdjust=\"spacingAndGlyphs\" textLength=\"17\" x=\"28\" y=\"69.0566\">alt</text><text fill=\"#000000\" font-family=\"sans-serif\" font-size=\"11\" font-weight=\"bold\" lengthAdjust=\"spacingAndGlyphs\" textLength=\"98\" x=\"90\" y=\"68.123\">['ny style cheese']</text><polygon fill=\"#A80036\" points=\"145,89.7988,155,93.7988,145,97.7988,149,93.7988\" style=\"stroke: #A80036; stroke-width: 1.0;\"/><line style=\"stroke: #A80036; stroke-width: 1.0;\" x1=\"52\" x2=\"151\" y1=\"93.7988\" y2=\"93.7988\"/><text fill=\"#000000\" font-family=\"sans-serif\" font-size=\"13\" lengthAdjust=\"spacingAndGlyphs\" textLength=\"47\" x=\"59\" y=\"89.3672\">nyStore</text><polygon fill=\"#A80036\" points=\"254.5,119.1094,264.5,123.1094,254.5,127.1094,258.5,123.1094\" style=\"stroke: #A80036; stroke-width: 1.0;\"/><line style=\"stroke: #A80036; stroke-width: 1.0;\" x1=\"157\" x2=\"260.5\" y1=\"123.1094\" y2=\"123.1094\"/><text fill=\"#000000\" font-family=\"sans-serif\" font-size=\"13\" lengthAdjust=\"spacingAndGlyphs\" textLength=\"33\" x=\"164\" y=\"118.6777\">new()</text><polygon fill=\"#A80036\" points=\"254.5,148.4199,264.5,152.4199,254.5,156.4199,258.5,152.4199\" style=\"stroke: #A80036; stroke-width: 1.0;\"/><line style=\"stroke: #A80036; stroke-width: 1.0;\" x1=\"52\" x2=\"260.5\" y1=\"152.4199\" y2=\"152.4199\"/><text fill=\"#000000\" font-family=\"sans-serif\" font-size=\"13\" lengthAdjust=\"spacingAndGlyphs\" textLength=\"122\" x=\"59\" y=\"147.9883\">orderPizza('cheese')</text><polygon fill=\"#A80036\" points=\"346,177.7305,356,181.7305,346,185.7305,350,181.7305\" style=\"stroke: #A80036; stroke-width: 1.0;\"/><line style=\"stroke: #A80036; stroke-width: 1.0;\" x1=\"266.5\" x2=\"352\" y1=\"181.7305\" y2=\"181.7305\"/><text fill=\"#000000\" font-family=\"sans-serif\" font-size=\"13\" lengthAdjust=\"spacingAndGlyphs\" textLength=\"33\" x=\"273.5\" y=\"177.2988\">new()</text><polygon fill=\"#A80036\" points=\"346,207.041,356,211.041,346,215.041,350,211.041\" style=\"stroke: #A80036; stroke-width: 1.0;\"/><line style=\"stroke: #A80036; stroke-width: 1.0;\" x1=\"52\" x2=\"352\" y1=\"211.041\" y2=\"211.041\"/><text fill=\"#000000\" font-family=\"sans-serif\" font-size=\"13\" lengthAdjust=\"spacingAndGlyphs\" textLength=\"64\" x=\"59\" y=\"206.6094\">getName()</text><line style=\"stroke: #000000; stroke-width: 1.0; stroke-dasharray: 2.0,2.0;\" x1=\"13\" x2=\"551\" y1=\"220.3516\" y2=\"220.3516\"/><text fill=\"#000000\" font-family=\"sans-serif\" font-size=\"11\" font-weight=\"bold\" lengthAdjust=\"spacingAndGlyphs\" textLength=\"128\" x=\"18\" y=\"230.9863\">['chicago style cheese']</text><polygon fill=\"#A80036\" points=\"145,251.3066,155,255.3066,145,259.3066,149,255.3066\" style=\"stroke: #A80036; stroke-width: 1.0;\"/><line style=\"stroke: #A80036; stroke-width: 1.0;\" x1=\"52\" x2=\"151\" y1=\"255.3066\" y2=\"255.3066\"/><text fill=\"#000000\" font-family=\"sans-serif\" font-size=\"13\" lengthAdjust=\"spacingAndGlyphs\" textLength=\"81\" x=\"59\" y=\"250.875\">chicagoStore</text><polygon fill=\"#A80036\" points=\"456,280.6172,466,284.6172,456,288.6172,460,284.6172\" style=\"stroke: #A80036; stroke-width: 1.0;\"/><line style=\"stroke: #A80036; stroke-width: 1.0;\" x1=\"157\" x2=\"462\" y1=\"284.6172\" y2=\"284.6172\"/><text fill=\"#000000\" font-family=\"sans-serif\" font-size=\"13\" lengthAdjust=\"spacingAndGlyphs\" textLength=\"33\" x=\"164\" y=\"280.1855\">new()</text><polygon fill=\"#A80036\" points=\"456,309.9277,466,313.9277,456,317.9277,460,313.9277\" style=\"stroke: #A80036; stroke-width: 1.0;\"/><line style=\"stroke: #A80036; stroke-width: 1.0;\" x1=\"52\" x2=\"462\" y1=\"313.9277\" y2=\"313.9277\"/><text fill=\"#000000\" font-family=\"sans-serif\" font-size=\"13\" lengthAdjust=\"spacingAndGlyphs\" textLength=\"122\" x=\"59\" y=\"309.4961\">orderPizza('cheese')</text><polygon fill=\"#A80036\" points=\"369,339.2383,359,343.2383,369,347.2383,365,343.2383\" style=\"stroke: #A80036; stroke-width: 1.0;\"/><line style=\"stroke: #A80036; stroke-width: 1.0;\" x1=\"363\" x2=\"467\" y1=\"343.2383\" y2=\"343.2383\"/><text fill=\"#000000\" font-family=\"sans-serif\" font-size=\"13\" lengthAdjust=\"spacingAndGlyphs\" textLength=\"33\" x=\"375\" y=\"338.8066\">new()</text><polygon fill=\"#A80036\" points=\"346,368.5488,356,372.5488,346,376.5488,350,372.5488\" style=\"stroke: #A80036; stroke-width: 1.0;\"/><line style=\"stroke: #A80036; stroke-width: 1.0;\" x1=\"52\" x2=\"352\" y1=\"372.5488\" y2=\"372.5488\"/><text fill=\"#000000\" font-family=\"sans-serif\" font-size=\"13\" lengthAdjust=\"spacingAndGlyphs\" textLength=\"64\" x=\"59\" y=\"368.1172\">getName()</text></g></svg>"
      ],
      "text/plain": [
       "<IPython.core.display.SVG object>"
      ]
     },
     "execution_count": 21,
     "metadata": {},
     "output_type": "execute_result"
    }
   ],
   "source": [
    "%%plantuml\n",
    "@startuml\n",
    "alt 'ny style cheese'\n",
    "Client -> PizzaStore:nyStore\n",
    "PizzaStore -> NYPizzaStore:new()\n",
    "Client -> NYPizzaStore:orderPizza('cheese')\n",
    "NYPizzaStore -> Pizza:new()\n",
    "Client -> Pizza:getName()\n",
    "else 'chicago style cheese'\n",
    "Client -> PizzaStore:chicagoStore\n",
    "PizzaStore -> ChicagoPizzaStore:new()\n",
    "Client -> ChicagoPizzaStore:orderPizza('cheese')\n",
    "ChicagoPizzaStore -> Pizza:new()\n",
    "Client -> Pizza:getName()\n",
    "end\n",
    "@enduml"
   ]
  },
  {
   "cell_type": "code",
   "execution_count": null,
   "metadata": {
    "collapsed": true,
    "slideshow": {
     "slide_type": "slide"
    }
   },
   "outputs": [],
   "source": [
    "# %load ./src/headfirst/factory/pizzafm/PizzaTestDrive.java\n",
    "package headfirst.factory.pizzafm;\n",
    "\n",
    "public class PizzaTestDrive { \n",
    "\tpublic static void main(String[] args) {\n",
    "\t\tPizzaStore nyStore = new NYPizzaStore();\n",
    "\t\tPizzaStore chicagoStore = new ChicagoPizzaStore();\n",
    "\t\tPizza pizza = nyStore.orderPizza(\"cheese\");\n",
    "\t\tSystem.out.println(\"Ethan ordered a \" + pizza.getName() + \"\\n\");\n",
    "\t\tpizza = chicagoStore.orderPizza(\"cheese\");\n",
    "\t\tSystem.out.println(\"Joel ordered a \" + pizza.getName() + \"\\n\");\n",
    "\t\tpizza = nyStore.orderPizza(\"clam\");\n",
    "\t\tSystem.out.println(\"Ethan ordered a \" + pizza.getName() + \"\\n\");\n",
    "\t\tpizza = chicagoStore.orderPizza(\"clam\");\n",
    "\t\tSystem.out.println(\"Joel ordered a \" + pizza.getName() + \"\\n\");\n",
    "\t\tpizza = nyStore.orderPizza(\"pepperoni\");\n",
    "\t\tSystem.out.println(\"Ethan ordered a \" + pizza.getName() + \"\\n\");\n",
    "\t\tpizza = chicagoStore.orderPizza(\"pepperoni\");\n",
    "\t\tSystem.out.println(\"Joel ordered a \" + pizza.getName() + \"\\n\");\n",
    "\t\tpizza = nyStore.orderPizza(\"veggie\");\n",
    "\t\tSystem.out.println(\"Ethan ordered a \" + pizza.getName() + \"\\n\");\n",
    "\t\tpizza = chicagoStore.orderPizza(\"veggie\");\n",
    "\t\tSystem.out.println(\"Joel ordered a \" + pizza.getName() + \"\\n\");\n",
    "\t}\n",
    "}\n"
   ]
  },
  {
   "cell_type": "code",
   "execution_count": null,
   "metadata": {
    "collapsed": true,
    "slideshow": {
     "slide_type": "slide"
    }
   },
   "outputs": [],
   "source": [
    "# %load ./src/headfirst/factory/pizzas/PizzaStore.java\n",
    "package headfirst.factory.pizzas;\n",
    "\n",
    "public class PizzaStore {\n",
    "\tSimplePizzaFactory factory;\n",
    " \n",
    "\tpublic PizzaStore(SimplePizzaFactory factory) { \n",
    "\t\tthis.factory = factory;\n",
    "\t}\n",
    "\tpublic Pizza orderPizza(String type) {\n",
    "\t\tPizza pizza;\n",
    "\t\tpizza = factory.createPizza(type);\n",
    "\t\tpizza.prepare();\n",
    "\t\tpizza.bake();\n",
    "\t\tpizza.cut();\n",
    "\t\tpizza.box();\n",
    "\t\treturn pizza;\n",
    "\t}\n",
    "}\n"
   ]
  },
  {
   "cell_type": "code",
   "execution_count": null,
   "metadata": {
    "collapsed": true,
    "slideshow": {
     "slide_type": "slide"
    }
   },
   "outputs": [],
   "source": [
    "# %load ./src/headfirst/factory/pizzafm/NYPizzaStore.java\n",
    "package headfirst.factory.pizzafm;\n",
    "\n",
    "public class NYPizzaStore extends PizzaStore {\n",
    "\tPizza createPizza(String item) {\n",
    "\t\tif (item.equals(\"cheese\")) {\n",
    "\t\t\treturn new NYStyleCheesePizza();\n",
    "\t\t} else if (item.equals(\"veggie\")) {\n",
    "\t\t\treturn new NYStyleVeggiePizza();\n",
    "\t\t} else if (item.equals(\"clam\")) {\n",
    "\t\t\treturn new NYStyleClamPizza();\n",
    "\t\t} else if (item.equals(\"pepperoni\")) {\n",
    "\t\t\treturn new NYStylePepperoniPizza();\n",
    "\t\t} else return null;\n",
    "\t}\n",
    "}\n"
   ]
  },
  {
   "cell_type": "code",
   "execution_count": null,
   "metadata": {
    "collapsed": true,
    "slideshow": {
     "slide_type": "slide"
    }
   },
   "outputs": [],
   "source": [
    "# %load ./src/headfirst/factory/pizzafm/Pizza.java\n",
    "package headfirst.factory.pizzafm;\n",
    "\n",
    "import java.util.ArrayList;\n",
    "\n",
    "public abstract class Pizza {\n",
    "\tString name;\n",
    "\tString dough;\n",
    "\tString sauce;\n",
    "\tArrayList toppings = new ArrayList();\n",
    "\tvoid prepare() {\n",
    "\t\tSystem.out.println(\"Preparing \" + name);\n",
    "\t\tSystem.out.println(\"Tossing dough...\");\n",
    "\t\tSystem.out.println(\"Adding sauce...\");\n",
    "\t\tSystem.out.println(\"Adding toppings: \");\n",
    "\t\tfor (int i = 0; i < toppings.size(); i++) {\n",
    "\t\t\tSystem.out.println(\"   \" + toppings.get(i));\n",
    "\t\t}\n",
    "\t}\n",
    "\tvoid bake() {\n",
    "\t\tSystem.out.println(\"Bake for 25 minutes at 350\");\n",
    "\t}\n",
    "\tvoid cut() {\n",
    "\t\tSystem.out.println(\"Cutting the pizza into diagonal slices\");\n",
    "\t}\n",
    "\tvoid box() {\n",
    "\t\tSystem.out.println(\"Place pizza in official PizzaStore box\");\n",
    "\t}\n",
    "\tpublic String getName() {\n",
    "\t\treturn name;\n",
    "\t}\n",
    "\tpublic String toString() {\n",
    "\t\tStringBuffer display = new StringBuffer();\n",
    "\t\tdisplay.append(\"---- \" + name + \" ----\\n\");\n",
    "\t\tdisplay.append(dough + \"\\n\");\n",
    "\t\tdisplay.append(sauce + \"\\n\");\n",
    "\t\tfor (int i = 0; i < toppings.size(); i++) {\n",
    "\t\t\tdisplay.append((String )toppings.get(i) + \"\\n\");\n",
    "\t\t}\n",
    "\t\treturn display.toString();\n",
    "\t}\n",
    "}\n"
   ]
  },
  {
   "cell_type": "code",
   "execution_count": null,
   "metadata": {
    "collapsed": true,
    "slideshow": {
     "slide_type": "slide"
    }
   },
   "outputs": [],
   "source": [
    "# %load ./src/headfirst/factory/pizzafm/NYStyleCheesePizza.java\n",
    "package headfirst.factory.pizzafm;\n",
    "\n",
    "public class NYStyleCheesePizza extends Pizza {\n",
    "\n",
    "\tpublic NYStyleCheesePizza() { \n",
    "\t\tname = \"NY Style Sauce and Cheese Pizza\";\n",
    "\t\tdough = \"Thin Crust Dough\";\n",
    "\t\tsauce = \"Marinara Sauce\";\n",
    " \n",
    "\t\ttoppings.add(\"Grated Reggiano Cheese\");\n",
    "\t}\n",
    "}\n"
   ]
  },
  {
   "cell_type": "code",
   "execution_count": 43,
   "metadata": {
    "collapsed": false,
    "slideshow": {
     "slide_type": "slide"
    }
   },
   "outputs": [
    {
     "name": "stdout",
     "output_type": "stream",
     "text": [
      "Picked up JAVA_TOOL_OPTIONS: -javaagent:/usr/share/java/jayatanaag.jar \n",
      "warning: Supported source version 'RELEASE_6' from annotation processor 'org.sonatype.guice.bean.scanners.index.SisuIndexAPT6' less than -source '1.7'\n",
      "Note: Some input files use unchecked or unsafe operations.\n",
      "Note: Recompile with -Xlint:unchecked for details.\n",
      "1 warning\n"
     ]
    }
   ],
   "source": [
    "!javac -d classes/ -sourcepath src/ src/headfirst/factory/pizzafm/*.java"
   ]
  },
  {
   "cell_type": "code",
   "execution_count": 44,
   "metadata": {
    "collapsed": false,
    "slideshow": {
     "slide_type": "slide"
    }
   },
   "outputs": [
    {
     "name": "stdout",
     "output_type": "stream",
     "text": [
      "Picked up JAVA_TOOL_OPTIONS: -javaagent:/usr/share/java/jayatanaag.jar \n",
      "--- Making a NY Style Sauce and Cheese Pizza ---\n",
      "Preparing NY Style Sauce and Cheese Pizza\n",
      "Tossing dough...\n",
      "Adding sauce...\n",
      "Adding toppings: \n",
      "   Grated Reggiano Cheese\n",
      "Bake for 25 minutes at 350\n",
      "Cutting the pizza into diagonal slices\n",
      "Place pizza in official PizzaStore box\n",
      "Ethan ordered a NY Style Sauce and Cheese Pizza\n",
      "\n",
      "--- Making a Chicago Style Deep Dish Cheese Pizza ---\n",
      "Preparing Chicago Style Deep Dish Cheese Pizza\n",
      "Tossing dough...\n",
      "Adding sauce...\n",
      "Adding toppings: \n",
      "   Shredded Mozzarella Cheese\n",
      "Bake for 25 minutes at 350\n",
      "Cutting the pizza into square slices\n",
      "Place pizza in official PizzaStore box\n",
      "Joel ordered a Chicago Style Deep Dish Cheese Pizza\n",
      "\n",
      "--- Making a NY Style Clam Pizza ---\n",
      "Preparing NY Style Clam Pizza\n",
      "Tossing dough...\n",
      "Adding sauce...\n",
      "Adding toppings: \n",
      "   Grated Reggiano Cheese\n",
      "   Fresh Clams from Long Island Sound\n",
      "Bake for 25 minutes at 350\n",
      "Cutting the pizza into diagonal slices\n",
      "Place pizza in official PizzaStore box\n",
      "Ethan ordered a NY Style Clam Pizza\n",
      "\n",
      "--- Making a Chicago Style Clam Pizza ---\n",
      "Preparing Chicago Style Clam Pizza\n",
      "Tossing dough...\n",
      "Adding sauce...\n",
      "Adding toppings: \n",
      "   Shredded Mozzarella Cheese\n",
      "   Frozen Clams from Chesapeake Bay\n",
      "Bake for 25 minutes at 350\n",
      "Cutting the pizza into square slices\n",
      "Place pizza in official PizzaStore box\n",
      "Joel ordered a Chicago Style Clam Pizza\n",
      "\n",
      "--- Making a NY Style Pepperoni Pizza ---\n",
      "Preparing NY Style Pepperoni Pizza\n",
      "Tossing dough...\n",
      "Adding sauce...\n",
      "Adding toppings: \n",
      "   Grated Reggiano Cheese\n",
      "   Sliced Pepperoni\n",
      "   Garlic\n",
      "   Onion\n",
      "   Mushrooms\n",
      "   Red Pepper\n",
      "Bake for 25 minutes at 350\n",
      "Cutting the pizza into diagonal slices\n",
      "Place pizza in official PizzaStore box\n",
      "Ethan ordered a NY Style Pepperoni Pizza\n",
      "\n",
      "--- Making a Chicago Style Pepperoni Pizza ---\n",
      "Preparing Chicago Style Pepperoni Pizza\n",
      "Tossing dough...\n",
      "Adding sauce...\n",
      "Adding toppings: \n",
      "   Shredded Mozzarella Cheese\n",
      "   Black Olives\n",
      "   Spinach\n",
      "   Eggplant\n",
      "   Sliced Pepperoni\n",
      "Bake for 25 minutes at 350\n",
      "Cutting the pizza into square slices\n",
      "Place pizza in official PizzaStore box\n",
      "Joel ordered a Chicago Style Pepperoni Pizza\n",
      "\n",
      "--- Making a NY Style Veggie Pizza ---\n",
      "Preparing NY Style Veggie Pizza\n",
      "Tossing dough...\n",
      "Adding sauce...\n",
      "Adding toppings: \n",
      "   Grated Reggiano Cheese\n",
      "   Garlic\n",
      "   Onion\n",
      "   Mushrooms\n",
      "   Red Pepper\n",
      "Bake for 25 minutes at 350\n",
      "Cutting the pizza into diagonal slices\n",
      "Place pizza in official PizzaStore box\n",
      "Ethan ordered a NY Style Veggie Pizza\n",
      "\n",
      "--- Making a Chicago Deep Dish Veggie Pizza ---\n",
      "Preparing Chicago Deep Dish Veggie Pizza\n",
      "Tossing dough...\n",
      "Adding sauce...\n",
      "Adding toppings: \n",
      "   Shredded Mozzarella Cheese\n",
      "   Black Olives\n",
      "   Spinach\n",
      "   Eggplant\n",
      "Bake for 25 minutes at 350\n",
      "Cutting the pizza into square slices\n",
      "Place pizza in official PizzaStore box\n",
      "Joel ordered a Chicago Deep Dish Veggie Pizza\n",
      "\n"
     ]
    }
   ],
   "source": [
    "!java -cp classes/ headfirst/factory/pizzafm/PizzaTestDrive"
   ]
  },
  {
   "cell_type": "markdown",
   "metadata": {
    "slideshow": {
     "slide_type": "slide"
    }
   },
   "source": [
    "### 6.1.3 abstract factory"
   ]
  },
  {
   "cell_type": "code",
   "execution_count": 30,
   "metadata": {
    "collapsed": false,
    "slideshow": {
     "slide_type": "slide"
    }
   },
   "outputs": [
    {
     "data": {
      "image/svg+xml": [
       "<svg height=\"819px\" style=\"width:736px;height:819px;\" version=\"1.1\" viewBox=\"0 0 736 819\" width=\"736px\" xmlns=\"http://www.w3.org/2000/svg\" xmlns:xlink=\"http://www.w3.org/1999/xlink\"><defs><filter height=\"300%\" id=\"f1\" width=\"300%\" x=\"-1\" y=\"-1\"><feGaussianBlur result=\"blurOut\" stdDeviation=\"2.0\"/><feColorMatrix in=\"blurOut\" result=\"blurOut2\" type=\"matrix\" values=\"0 0 0 0 0 0 0 0 0 0 0 0 0 0 0 0 0 0 .4 0\"/><feOffset dx=\"4.0\" dy=\"4.0\" in=\"blurOut2\" result=\"blurOut3\"/><feBlend in=\"SourceGraphic\" in2=\"blurOut3\" mode=\"normal\"/></filter></defs><g><rect fill=\"#FEFECE\" filter=\"url(#f1)\" height=\"60.9551\" style=\"stroke: #A80036; stroke-width: 1.5;\" width=\"112\" x=\"446.682\" y=\"641\"/><ellipse cx=\"478.782\" cy=\"657\" fill=\"#B4A7E5\" rx=\"11\" ry=\"11\" style=\"stroke: #A80036; stroke-width: 1.0;\"/><path d=\"M474.7097,652.7651 L474.7097,650.6069 L482.0891,650.6069 L482.0891,652.7651 L479.6238,652.7651 L479.6238,660.8418 L482.0891,660.8418 L482.0891,663 L474.7097,663 L474.7097,660.8418 L477.1751,660.8418 L477.1751,652.7651 Z \"/><text fill=\"#000000\" font-family=\"sans-serif\" font-size=\"12\" font-style=\"italic\" lengthAdjust=\"spacingAndGlyphs\" textLength=\"42\" x=\"496.582\" y=\"661.5352\">Cheese</text><line style=\"stroke: #A80036; stroke-width: 1.5;\" x1=\"447.682\" x2=\"557.682\" y1=\"673\" y2=\"673\"/><line style=\"stroke: #A80036; stroke-width: 1.5;\" x1=\"447.682\" x2=\"557.682\" y1=\"681\" y2=\"681\"/><ellipse cx=\"457.682\" cy=\"692.9775\" fill=\"#84BE84\" rx=\"3\" ry=\"3\" style=\"stroke: #038048; stroke-width: 1.0;\"/><text fill=\"#000000\" font-family=\"sans-serif\" font-size=\"11\" lengthAdjust=\"spacingAndGlyphs\" textLength=\"86\" x=\"466.682\" y=\"695.6348\">toString():String</text><rect fill=\"#FEFECE\" filter=\"url(#f1)\" height=\"60.9551\" style=\"stroke: #A80036; stroke-width: 1.5;\" width=\"115\" x=\"80.1823\" y=\"641\"/><ellipse cx=\"115.8823\" cy=\"657\" fill=\"#B4A7E5\" rx=\"11\" ry=\"11\" style=\"stroke: #A80036; stroke-width: 1.0;\"/><path d=\"M111.81,652.7651 L111.81,650.6069 L119.1894,650.6069 L119.1894,652.7651 L116.7241,652.7651 L116.7241,660.8418 L119.1894,660.8418 L119.1894,663 L111.81,663 L111.81,660.8418 L114.2754,660.8418 L114.2754,652.7651 Z \"/><text fill=\"#000000\" font-family=\"sans-serif\" font-size=\"12\" font-style=\"italic\" lengthAdjust=\"spacingAndGlyphs\" textLength=\"37\" x=\"134.4823\" y=\"661.5352\">Dough</text><line style=\"stroke: #A80036; stroke-width: 1.5;\" x1=\"81.1823\" x2=\"194.1823\" y1=\"673\" y2=\"673\"/><line style=\"stroke: #A80036; stroke-width: 1.5;\" x1=\"81.1823\" x2=\"194.1823\" y1=\"681\" y2=\"681\"/><ellipse cx=\"91.1823\" cy=\"692.9775\" fill=\"#84BE84\" rx=\"3\" ry=\"3\" style=\"stroke: #038048; stroke-width: 1.0;\"/><text fill=\"#000000\" font-family=\"sans-serif\" font-size=\"11\" lengthAdjust=\"spacingAndGlyphs\" textLength=\"89\" x=\"100.1823\" y=\"695.6348\">String toString();</text><rect fill=\"#FEFECE\" filter=\"url(#f1)\" height=\"177.5508\" style=\"stroke: #A80036; stroke-width: 1.5;\" width=\"170\" x=\"499.682\" y=\"8\"/><ellipse cx=\"564.932\" cy=\"24\" fill=\"#A9DCDF\" rx=\"11\" ry=\"11\" style=\"stroke: #A80036; stroke-width: 1.0;\"/><path d=\"M565.0453,19.3481 L563.8915,24.4199 L566.2074,24.4199 Z M563.5511,17.1069 L566.5477,17.1069 L569.8929,29.5 L567.4442,29.5 L566.6805,26.437 L563.4017,26.437 L562.6547,29.5 L560.2059,29.5 Z \"/><text fill=\"#000000\" font-family=\"sans-serif\" font-size=\"12\" font-style=\"italic\" lengthAdjust=\"spacingAndGlyphs\" textLength=\"31\" x=\"585.432\" y=\"28.5352\">Pizza</text><line style=\"stroke: #A80036; stroke-width: 1.5;\" x1=\"500.682\" x2=\"668.682\" y1=\"40\" y2=\"40\"/><text fill=\"#000000\" font-family=\"sans-serif\" font-size=\"11\" lengthAdjust=\"spacingAndGlyphs\" textLength=\"67\" x=\"505.682\" y=\"54.6348\">String name;</text><text fill=\"#000000\" font-family=\"sans-serif\" font-size=\"11\" lengthAdjust=\"spacingAndGlyphs\" textLength=\"77\" x=\"505.682\" y=\"67.5898\">Dough dough;</text><text fill=\"#000000\" font-family=\"sans-serif\" font-size=\"11\" lengthAdjust=\"spacingAndGlyphs\" textLength=\"82\" x=\"505.682\" y=\"80.5449\">Cheese cheese;</text><line style=\"stroke: #A80036; stroke-width: 1.5;\" x1=\"500.682\" x2=\"668.682\" y1=\"86.8652\" y2=\"86.8652\"/><text fill=\"#000000\" font-family=\"sans-serif\" font-size=\"11\" lengthAdjust=\"spacingAndGlyphs\" textLength=\"126\" x=\"519.682\" y=\"101.5\">abstract void prepare();</text><text fill=\"#000000\" font-family=\"sans-serif\" font-size=\"11\" lengthAdjust=\"spacingAndGlyphs\" textLength=\"59\" x=\"519.682\" y=\"114.4551\">void bake()</text><text fill=\"#000000\" font-family=\"sans-serif\" font-size=\"11\" lengthAdjust=\"spacingAndGlyphs\" textLength=\"51\" x=\"519.682\" y=\"127.4102\">void cut()</text><text fill=\"#000000\" font-family=\"sans-serif\" font-size=\"11\" lengthAdjust=\"spacingAndGlyphs\" textLength=\"55\" x=\"519.682\" y=\"140.3652\">void box()</text><text fill=\"#000000\" font-family=\"sans-serif\" font-size=\"11\" lengthAdjust=\"spacingAndGlyphs\" textLength=\"144\" x=\"519.682\" y=\"153.3203\">void setName(String name)</text><text fill=\"#000000\" font-family=\"sans-serif\" font-size=\"11\" lengthAdjust=\"spacingAndGlyphs\" textLength=\"90\" x=\"519.682\" y=\"166.2754\">String getName()</text><ellipse cx=\"510.682\" cy=\"176.5732\" fill=\"#84BE84\" rx=\"3\" ry=\"3\" style=\"stroke: #038048; stroke-width: 1.0;\"/><text fill=\"#000000\" font-family=\"sans-serif\" font-size=\"11\" lengthAdjust=\"spacingAndGlyphs\" textLength=\"86\" x=\"519.682\" y=\"179.2305\">String toString()</text><rect fill=\"#FEFECE\" filter=\"url(#f1)\" height=\"86.8652\" style=\"stroke: #A80036; stroke-width: 1.5;\" width=\"232\" x=\"471.682\" y=\"246\"/><ellipse cx=\"546.932\" cy=\"262\" fill=\"#ADD1B2\" rx=\"11\" ry=\"11\" style=\"stroke: #A80036; stroke-width: 1.0;\"/><path d=\"M549.9051,267.6431 Q549.3241,267.9419 548.6849,268.0913 Q548.0458,268.2407 547.3402,268.2407 Q544.8334,268.2407 543.5135,266.5889 Q542.1937,264.937 542.1937,261.8159 Q542.1937,258.6865 543.5135,257.0347 Q544.8334,255.3828 547.3402,255.3828 Q548.0458,255.3828 548.6932,255.5322 Q549.3407,255.6816 549.9051,255.9805 L549.9051,258.7031 Q549.2743,258.1221 548.6808,257.8523 Q548.0873,257.5825 547.4564,257.5825 Q546.1117,257.5825 545.4269,258.6492 Q544.7421,259.7158 544.7421,261.8159 Q544.7421,263.9077 545.4269,264.9744 Q546.1117,266.041 547.4564,266.041 Q548.0873,266.041 548.6808,265.7712 Q549.2743,265.5015 549.9051,264.9204 Z \"/><text fill=\"#000000\" font-family=\"sans-serif\" font-size=\"12\" lengthAdjust=\"spacingAndGlyphs\" textLength=\"73\" x=\"567.432\" y=\"266.5352\">CheesePizza</text><line style=\"stroke: #A80036; stroke-width: 1.5;\" x1=\"472.682\" x2=\"702.682\" y1=\"278\" y2=\"278\"/><text fill=\"#000000\" font-family=\"sans-serif\" font-size=\"11\" lengthAdjust=\"spacingAndGlyphs\" textLength=\"220\" x=\"477.682\" y=\"292.6348\">PizzaIngredientFactory ingredientFactory</text><line style=\"stroke: #A80036; stroke-width: 1.5;\" x1=\"472.682\" x2=\"702.682\" y1=\"298.9551\" y2=\"298.9551\"/><ellipse cx=\"482.682\" cy=\"310.9326\" fill=\"#84BE84\" rx=\"3\" ry=\"3\" style=\"stroke: #038048; stroke-width: 1.0;\"/><text fill=\"#000000\" font-family=\"sans-serif\" font-size=\"11\" lengthAdjust=\"spacingAndGlyphs\" textLength=\"196\" x=\"491.682\" y=\"313.5898\">CheesePizza(PizzaIngredientFactory)</text><text fill=\"#000000\" font-family=\"sans-serif\" font-size=\"11\" lengthAdjust=\"spacingAndGlyphs\" textLength=\"76\" x=\"491.682\" y=\"326.5449\">void prepare()</text><rect fill=\"#FEFECE\" filter=\"url(#f1)\" height=\"73.9102\" style=\"stroke: #A80036; stroke-width: 1.5;\" width=\"162\" x=\"192.682\" y=\"393\"/><ellipse cx=\"207.682\" cy=\"409\" fill=\"#B4A7E5\" rx=\"11\" ry=\"11\" style=\"stroke: #A80036; stroke-width: 1.0;\"/><path d=\"M203.6097,404.7651 L203.6097,402.6069 L210.9891,402.6069 L210.9891,404.7651 L208.5238,404.7651 L208.5238,412.8418 L210.9891,412.8418 L210.9891,415 L203.6097,415 L203.6097,412.8418 L206.0751,412.8418 L206.0751,404.7651 Z \"/><text fill=\"#000000\" font-family=\"sans-serif\" font-size=\"12\" font-style=\"italic\" lengthAdjust=\"spacingAndGlyphs\" textLength=\"130\" x=\"221.682\" y=\"413.5352\">PizzaIngredientFactory</text><line style=\"stroke: #A80036; stroke-width: 1.5;\" x1=\"193.682\" x2=\"353.682\" y1=\"425\" y2=\"425\"/><line style=\"stroke: #A80036; stroke-width: 1.5;\" x1=\"193.682\" x2=\"353.682\" y1=\"433\" y2=\"433\"/><ellipse cx=\"203.682\" cy=\"444.9775\" fill=\"#84BE84\" rx=\"3\" ry=\"3\" style=\"stroke: #038048; stroke-width: 1.0;\"/><text fill=\"#000000\" font-family=\"sans-serif\" font-size=\"11\" lengthAdjust=\"spacingAndGlyphs\" textLength=\"116\" x=\"212.682\" y=\"447.6348\">Dough createDough()</text><ellipse cx=\"203.682\" cy=\"457.9326\" fill=\"#84BE84\" rx=\"3\" ry=\"3\" style=\"stroke: #038048; stroke-width: 1.0;\"/><text fill=\"#000000\" font-family=\"sans-serif\" font-size=\"11\" lengthAdjust=\"spacingAndGlyphs\" textLength=\"122\" x=\"212.682\" y=\"460.5898\">Cheese createCheese()</text><rect fill=\"#FEFECE\" filter=\"url(#f1)\" height=\"73.9102\" style=\"stroke: #A80036; stroke-width: 1.5;\" width=\"232\" x=\"229.682\" y=\"60\"/><ellipse cx=\"311.432\" cy=\"76\" fill=\"#A9DCDF\" rx=\"11\" ry=\"11\" style=\"stroke: #A80036; stroke-width: 1.0;\"/><path d=\"M311.5453,71.3481 L310.3915,76.4199 L312.7074,76.4199 Z M310.0511,69.1069 L313.0477,69.1069 L316.3929,81.5 L313.9442,81.5 L313.1805,78.437 L309.9017,78.437 L309.1547,81.5 L306.7059,81.5 Z \"/><text fill=\"#000000\" font-family=\"sans-serif\" font-size=\"12\" font-style=\"italic\" lengthAdjust=\"spacingAndGlyphs\" textLength=\"60\" x=\"331.932\" y=\"80.5352\">PizzaStore</text><line style=\"stroke: #A80036; stroke-width: 1.5;\" x1=\"230.682\" x2=\"460.682\" y1=\"92\" y2=\"92\"/><line style=\"stroke: #A80036; stroke-width: 1.5;\" x1=\"230.682\" x2=\"460.682\" y1=\"100\" y2=\"100\"/><polygon fill=\"#FFFF44\" points=\"240.682,106.9775,244.682,110.9775,240.682,114.9775,236.682,110.9775\" style=\"stroke: #B38D22; stroke-width: 1.0;\"/><text fill=\"#000000\" font-family=\"sans-serif\" font-size=\"11\" lengthAdjust=\"spacingAndGlyphs\" textLength=\"206\" x=\"249.682\" y=\"114.6348\">abstract Pizza createPizza(String item);</text><ellipse cx=\"240.682\" cy=\"124.9326\" fill=\"#84BE84\" rx=\"3\" ry=\"3\" style=\"stroke: #038048; stroke-width: 1.0;\"/><text fill=\"#000000\" font-family=\"sans-serif\" font-size=\"11\" lengthAdjust=\"spacingAndGlyphs\" textLength=\"153\" x=\"249.682\" y=\"127.5898\">Pizza orderPizza(String type)</text><rect fill=\"#FEFECE\" filter=\"url(#f1)\" height=\"60.9551\" style=\"stroke: #A80036; stroke-width: 1.5;\" width=\"156\" x=\"63.6823\" y=\"259\"/><ellipse cx=\"87.2323\" cy=\"275\" fill=\"#ADD1B2\" rx=\"11\" ry=\"11\" style=\"stroke: #A80036; stroke-width: 1.0;\"/><path d=\"M90.2054,280.6431 Q89.6244,280.9419 88.9852,281.0913 Q88.3461,281.2407 87.6405,281.2407 Q85.1337,281.2407 83.8138,279.5889 Q82.494,277.937 82.494,274.8159 Q82.494,271.6865 83.8138,270.0347 Q85.1337,268.3828 87.6405,268.3828 Q88.3461,268.3828 88.9935,268.5322 Q89.641,268.6816 90.2054,268.9805 L90.2054,271.7031 Q89.5746,271.1221 88.9811,270.8523 Q88.3876,270.5825 87.7567,270.5825 Q86.412,270.5825 85.7272,271.6492 Q85.0424,272.7158 85.0424,274.8159 Q85.0424,276.9077 85.7272,277.9744 Q86.412,279.041 87.7567,279.041 Q88.3876,279.041 88.9811,278.7712 Q89.5746,278.5015 90.2054,277.9204 Z \"/><text fill=\"#000000\" font-family=\"sans-serif\" font-size=\"12\" lengthAdjust=\"spacingAndGlyphs\" textLength=\"105\" x=\"103.1323\" y=\"279.5352\">ChicagoPizzaStore</text><line style=\"stroke: #A80036; stroke-width: 1.5;\" x1=\"64.6823\" x2=\"218.6823\" y1=\"291\" y2=\"291\"/><line style=\"stroke: #A80036; stroke-width: 1.5;\" x1=\"64.6823\" x2=\"218.6823\" y1=\"299\" y2=\"299\"/><polygon fill=\"#FFFF44\" points=\"74.6823,305.9775,78.6823,309.9775,74.6823,313.9775,70.6823,309.9775\" style=\"stroke: #B38D22; stroke-width: 1.0;\"/><text fill=\"#000000\" font-family=\"sans-serif\" font-size=\"11\" lengthAdjust=\"spacingAndGlyphs\" textLength=\"130\" x=\"83.6823\" y=\"313.6348\">Pizza createPizza(String)</text><rect fill=\"#FEFECE\" filter=\"url(#f1)\" height=\"60.9551\" style=\"stroke: #A80036; stroke-width: 1.5;\" width=\"182\" x=\"254.682\" y=\"259\"/><ellipse cx=\"303.432\" cy=\"275\" fill=\"#ADD1B2\" rx=\"11\" ry=\"11\" style=\"stroke: #A80036; stroke-width: 1.0;\"/><path d=\"M306.4051,280.6431 Q305.8241,280.9419 305.1849,281.0913 Q304.5458,281.2407 303.8402,281.2407 Q301.3334,281.2407 300.0135,279.5889 Q298.6937,277.937 298.6937,274.8159 Q298.6937,271.6865 300.0135,270.0347 Q301.3334,268.3828 303.8402,268.3828 Q304.5458,268.3828 305.1932,268.5322 Q305.8407,268.6816 306.4051,268.9805 L306.4051,271.7031 Q305.7743,271.1221 305.1808,270.8523 Q304.5873,270.5825 303.9564,270.5825 Q302.6117,270.5825 301.9269,271.6492 Q301.2421,272.7158 301.2421,274.8159 Q301.2421,276.9077 301.9269,277.9744 Q302.6117,279.041 303.9564,279.041 Q304.5873,279.041 305.1808,278.7712 Q305.7743,278.5015 306.4051,277.9204 Z \"/><text fill=\"#000000\" font-family=\"sans-serif\" font-size=\"12\" lengthAdjust=\"spacingAndGlyphs\" textLength=\"76\" x=\"323.932\" y=\"279.5352\">NYPizzaStore</text><line style=\"stroke: #A80036; stroke-width: 1.5;\" x1=\"255.682\" x2=\"435.682\" y1=\"291\" y2=\"291\"/><line style=\"stroke: #A80036; stroke-width: 1.5;\" x1=\"255.682\" x2=\"435.682\" y1=\"299\" y2=\"299\"/><polygon fill=\"#FFFF44\" points=\"265.682,305.9775,269.682,309.9775,265.682,313.9775,261.682,309.9775\" style=\"stroke: #B38D22; stroke-width: 1.0;\"/><text fill=\"#000000\" font-family=\"sans-serif\" font-size=\"11\" lengthAdjust=\"spacingAndGlyphs\" textLength=\"156\" x=\"274.682\" y=\"313.6348\">Pizza createPizza(String item)</text><rect fill=\"#FEFECE\" filter=\"url(#f1)\" height=\"54.2656\" style=\"stroke: #A80036; stroke-width: 1.5;\" width=\"131\" x=\"172.182\" y=\"527\"/><ellipse cx=\"187.182\" cy=\"546.1328\" fill=\"#ADD1B2\" rx=\"11\" ry=\"11\" style=\"stroke: #A80036; stroke-width: 1.0;\"/><path d=\"M190.1551,551.7759 Q189.5741,552.0747 188.9349,552.2241 Q188.2958,552.3735 187.5902,552.3735 Q185.0834,552.3735 183.7635,550.7217 Q182.4437,549.0698 182.4437,545.9487 Q182.4437,542.8193 183.7635,541.1675 Q185.0834,539.5156 187.5902,539.5156 Q188.2958,539.5156 188.9432,539.665 Q189.5907,539.8145 190.1551,540.1133 L190.1551,542.8359 Q189.5243,542.2549 188.9308,541.9851 Q188.3373,541.7153 187.7064,541.7153 Q186.3617,541.7153 185.6769,542.782 Q184.9921,543.8486 184.9921,545.9487 Q184.9921,548.0405 185.6769,549.1072 Q186.3617,550.1738 187.7064,550.1738 Q188.3373,550.1738 188.9308,549.9041 Q189.5243,549.6343 190.1551,549.0532 Z \"/><text fill=\"#000000\" font-family=\"sans-serif\" font-size=\"12\" lengthAdjust=\"spacingAndGlyphs\" textLength=\"76\" x=\"212.682\" y=\"543.6016\">ChicagoPizza</text><text fill=\"#000000\" font-family=\"sans-serif\" font-size=\"12\" lengthAdjust=\"spacingAndGlyphs\" textLength=\"99\" x=\"201.182\" y=\"557.7344\">IngredientFactory</text><line style=\"stroke: #A80036; stroke-width: 1.5;\" x1=\"173.182\" x2=\"302.182\" y1=\"565.2656\" y2=\"565.2656\"/><line style=\"stroke: #A80036; stroke-width: 1.5;\" x1=\"173.182\" x2=\"302.182\" y1=\"573.2656\" y2=\"573.2656\"/><rect fill=\"#FEFECE\" filter=\"url(#f1)\" height=\"54.2656\" style=\"stroke: #A80036; stroke-width: 1.5;\" width=\"131\" x=\"338.182\" y=\"527\"/><ellipse cx=\"353.182\" cy=\"546.1328\" fill=\"#ADD1B2\" rx=\"11\" ry=\"11\" style=\"stroke: #A80036; stroke-width: 1.0;\"/><path d=\"M356.1551,551.7759 Q355.5741,552.0747 354.9349,552.2241 Q354.2958,552.3735 353.5902,552.3735 Q351.0834,552.3735 349.7635,550.7217 Q348.4437,549.0698 348.4437,545.9487 Q348.4437,542.8193 349.7635,541.1675 Q351.0834,539.5156 353.5902,539.5156 Q354.2958,539.5156 354.9432,539.665 Q355.5907,539.8145 356.1551,540.1133 L356.1551,542.8359 Q355.5243,542.2549 354.9308,541.9851 Q354.3373,541.7153 353.7064,541.7153 Q352.3617,541.7153 351.6769,542.782 Q350.9921,543.8486 350.9921,545.9487 Q350.9921,548.0405 351.6769,549.1072 Q352.3617,550.1738 353.7064,550.1738 Q354.3373,550.1738 354.9308,549.9041 Q355.5243,549.6343 356.1551,549.0532 Z \"/><text fill=\"#000000\" font-family=\"sans-serif\" font-size=\"12\" lengthAdjust=\"spacingAndGlyphs\" textLength=\"47\" x=\"393.182\" y=\"543.6016\">NYPizza</text><text fill=\"#000000\" font-family=\"sans-serif\" font-size=\"12\" lengthAdjust=\"spacingAndGlyphs\" textLength=\"99\" x=\"367.182\" y=\"557.7344\">IngredientFactory</text><line style=\"stroke: #A80036; stroke-width: 1.5;\" x1=\"339.182\" x2=\"468.182\" y1=\"565.2656\" y2=\"565.2656\"/><line style=\"stroke: #A80036; stroke-width: 1.5;\" x1=\"339.182\" x2=\"468.182\" y1=\"573.2656\" y2=\"573.2656\"/><rect fill=\"#FEFECE\" filter=\"url(#f1)\" height=\"48\" style=\"stroke: #A80036; stroke-width: 1.5;\" width=\"137\" x=\"396.182\" y=\"762\"/><ellipse cx=\"411.182\" cy=\"778\" fill=\"#ADD1B2\" rx=\"11\" ry=\"11\" style=\"stroke: #A80036; stroke-width: 1.0;\"/><path d=\"M414.1551,783.6431 Q413.5741,783.9419 412.9349,784.0913 Q412.2958,784.2407 411.5902,784.2407 Q409.0834,784.2407 407.7635,782.5889 Q406.4437,780.937 406.4437,777.8159 Q406.4437,774.6865 407.7635,773.0347 Q409.0834,771.3828 411.5902,771.3828 Q412.2958,771.3828 412.9432,771.5322 Q413.5907,771.6816 414.1551,771.9805 L414.1551,774.7031 Q413.5243,774.1221 412.9308,773.8523 Q412.3373,773.5825 411.7064,773.5825 Q410.3617,773.5825 409.6769,774.6492 Q408.9921,775.7158 408.9921,777.8159 Q408.9921,779.9077 409.6769,780.9744 Q410.3617,782.041 411.7064,782.041 Q412.3373,782.041 412.9308,781.7712 Q413.5243,781.5015 414.1551,780.9204 Z \"/><text fill=\"#000000\" font-family=\"sans-serif\" font-size=\"12\" lengthAdjust=\"spacingAndGlyphs\" textLength=\"105\" x=\"425.182\" y=\"782.5352\">MozzarellaCheese</text><line style=\"stroke: #A80036; stroke-width: 1.5;\" x1=\"397.182\" x2=\"532.182\" y1=\"794\" y2=\"794\"/><line style=\"stroke: #A80036; stroke-width: 1.5;\" x1=\"397.182\" x2=\"532.182\" y1=\"802\" y2=\"802\"/><rect fill=\"#FEFECE\" filter=\"url(#f1)\" height=\"48\" style=\"stroke: #A80036; stroke-width: 1.5;\" width=\"127\" x=\"568.182\" y=\"762\"/><ellipse cx=\"583.182\" cy=\"778\" fill=\"#ADD1B2\" rx=\"11\" ry=\"11\" style=\"stroke: #A80036; stroke-width: 1.0;\"/><path d=\"M586.1551,783.6431 Q585.5741,783.9419 584.9349,784.0913 Q584.2958,784.2407 583.5902,784.2407 Q581.0834,784.2407 579.7635,782.5889 Q578.4437,780.937 578.4437,777.8159 Q578.4437,774.6865 579.7635,773.0347 Q581.0834,771.3828 583.5902,771.3828 Q584.2958,771.3828 584.9432,771.5322 Q585.5907,771.6816 586.1551,771.9805 L586.1551,774.7031 Q585.5243,774.1221 584.9308,773.8523 Q584.3373,773.5825 583.7064,773.5825 Q582.3617,773.5825 581.6769,774.6492 Q580.9921,775.7158 580.9921,777.8159 Q580.9921,779.9077 581.6769,780.9744 Q582.3617,782.041 583.7064,782.041 Q584.3373,782.041 584.9308,781.7712 Q585.5243,781.5015 586.1551,780.9204 Z \"/><text fill=\"#000000\" font-family=\"sans-serif\" font-size=\"12\" lengthAdjust=\"spacingAndGlyphs\" textLength=\"95\" x=\"597.182\" y=\"782.5352\">ReggianoCheese</text><line style=\"stroke: #A80036; stroke-width: 1.5;\" x1=\"569.182\" x2=\"694.182\" y1=\"794\" y2=\"794\"/><line style=\"stroke: #A80036; stroke-width: 1.5;\" x1=\"569.182\" x2=\"694.182\" y1=\"802\" y2=\"802\"/><rect fill=\"#FEFECE\" filter=\"url(#f1)\" height=\"48\" style=\"stroke: #A80036; stroke-width: 1.5;\" width=\"130\" x=\"32.6823\" y=\"762\"/><ellipse cx=\"47.6823\" cy=\"778\" fill=\"#ADD1B2\" rx=\"11\" ry=\"11\" style=\"stroke: #A80036; stroke-width: 1.0;\"/><path d=\"M50.6554,783.6431 Q50.0744,783.9419 49.4352,784.0913 Q48.7961,784.2407 48.0905,784.2407 Q45.5837,784.2407 44.2638,782.5889 Q42.944,780.937 42.944,777.8159 Q42.944,774.6865 44.2638,773.0347 Q45.5837,771.3828 48.0905,771.3828 Q48.7961,771.3828 49.4435,771.5322 Q50.091,771.6816 50.6554,771.9805 L50.6554,774.7031 Q50.0246,774.1221 49.4311,773.8523 Q48.8376,773.5825 48.2067,773.5825 Q46.862,773.5825 46.1772,774.6492 Q45.4924,775.7158 45.4924,777.8159 Q45.4924,779.9077 46.1772,780.9744 Q46.862,782.041 48.2067,782.041 Q48.8376,782.041 49.4311,781.7712 Q50.0246,781.5015 50.6554,780.9204 Z \"/><text fill=\"#000000\" font-family=\"sans-serif\" font-size=\"12\" lengthAdjust=\"spacingAndGlyphs\" textLength=\"98\" x=\"61.6823\" y=\"782.5352\">ThickCrustDough</text><line style=\"stroke: #A80036; stroke-width: 1.5;\" x1=\"33.6823\" x2=\"161.6823\" y1=\"794\" y2=\"794\"/><line style=\"stroke: #A80036; stroke-width: 1.5;\" x1=\"33.6823\" x2=\"161.6823\" y1=\"802\" y2=\"802\"/><rect fill=\"#FEFECE\" filter=\"url(#f1)\" height=\"48\" style=\"stroke: #A80036; stroke-width: 1.5;\" width=\"124\" x=\"197.682\" y=\"762\"/><ellipse cx=\"212.682\" cy=\"778\" fill=\"#ADD1B2\" rx=\"11\" ry=\"11\" style=\"stroke: #A80036; stroke-width: 1.0;\"/><path d=\"M215.6551,783.6431 Q215.0741,783.9419 214.4349,784.0913 Q213.7958,784.2407 213.0902,784.2407 Q210.5834,784.2407 209.2635,782.5889 Q207.9437,780.937 207.9437,777.8159 Q207.9437,774.6865 209.2635,773.0347 Q210.5834,771.3828 213.0902,771.3828 Q213.7958,771.3828 214.4432,771.5322 Q215.0907,771.6816 215.6551,771.9805 L215.6551,774.7031 Q215.0243,774.1221 214.4308,773.8523 Q213.8373,773.5825 213.2064,773.5825 Q211.8617,773.5825 211.1769,774.6492 Q210.4921,775.7158 210.4921,777.8159 Q210.4921,779.9077 211.1769,780.9744 Q211.8617,782.041 213.2064,782.041 Q213.8373,782.041 214.4308,781.7712 Q215.0243,781.5015 215.6551,780.9204 Z \"/><text fill=\"#000000\" font-family=\"sans-serif\" font-size=\"12\" lengthAdjust=\"spacingAndGlyphs\" textLength=\"92\" x=\"226.682\" y=\"782.5352\">ThinCrustDough</text><line style=\"stroke: #A80036; stroke-width: 1.5;\" x1=\"198.682\" x2=\"320.682\" y1=\"794\" y2=\"794\"/><line style=\"stroke: #A80036; stroke-width: 1.5;\" x1=\"198.682\" x2=\"320.682\" y1=\"802\" y2=\"802\"/><path d=\"M586.384,206.06 C586.606,220.161 586.822,233.882 587.012,245.954 \" fill=\"none\" style=\"stroke: #A80036; stroke-width: 1.0;\"/><polygon fill=\"none\" points=\"579.384,206.109,586.068,186.001,593.382,205.888,579.384,206.109\" style=\"stroke: #A80036; stroke-width: 1.0;\"/><path d=\"M257.3,486.518 C253.164,500.535 248.913,514.941 245.43,526.744 \" fill=\"none\" style=\"stroke: #A80036; stroke-width: 1.0; stroke-dasharray: 7.0,7.0;\"/><polygon fill=\"none\" points=\"250.604,484.475,262.979,467.274,264.032,488.437,250.604,484.475\" style=\"stroke: #A80036; stroke-width: 1.0;\"/><path d=\"M326.947,480.987 C343.67,496.681 361.465,513.381 375.704,526.744 \" fill=\"none\" style=\"stroke: #A80036; stroke-width: 1.0; stroke-dasharray: 7.0,7.0;\"/><polygon fill=\"none\" points=\"322.128,486.064,312.335,467.274,331.709,475.856,322.128,486.064\" style=\"stroke: #A80036; stroke-width: 1.0;\"/><path d=\"M343.655,581.064 C300.78,599.681 243.252,624.66 199.892,643.488 \" fill=\"none\" style=\"stroke: #A80036; stroke-width: 1.0; stroke-dasharray: 7.0,7.0;\"/><polygon fill=\"#A80036\" points=\"195.21,645.521,205.0585,645.6061,199.7964,643.5299,201.8727,638.2678,195.21,645.521\" style=\"stroke: #A80036; stroke-width: 1.0;\"/><path d=\"M426.147,581.209 C440.255,597.668 458.59,619.059 473.777,636.777 \" fill=\"none\" style=\"stroke: #A80036; stroke-width: 1.0; stroke-dasharray: 7.0,7.0;\"/><polygon fill=\"#A80036\" points=\"477.165,640.73,474.3437,631.2939,473.9106,636.9341,468.2703,636.501,477.165,640.73\" style=\"stroke: #A80036; stroke-width: 1.0;\"/><path d=\"M214.991,581.209 C200.74,597.668 182.22,619.059 166.88,636.777 \" fill=\"none\" style=\"stroke: #A80036; stroke-width: 1.0; stroke-dasharray: 7.0,7.0;\"/><polygon fill=\"#A80036\" points=\"163.457,640.73,172.3712,636.5424,166.729,636.9493,166.3221,631.3071,163.457,640.73\" style=\"stroke: #A80036; stroke-width: 1.0;\"/><path d=\"M297.484,581.064 C340.492,599.809 398.3,625.005 441.599,643.877 \" fill=\"none\" style=\"stroke: #A80036; stroke-width: 1.0; stroke-dasharray: 7.0,7.0;\"/><polygon fill=\"#A80036\" points=\"446.272,645.914,439.6194,638.6516,441.6883,643.9165,436.4234,645.9854,446.272,645.914\" style=\"stroke: #A80036; stroke-width: 1.0;\"/><path d=\"M211.457,467.015 C189.968,482.661 167.973,502.955 154.682,527 C136.154,560.521 133.679,605.096 134.699,635.619 \" fill=\"none\" style=\"stroke: #A80036; stroke-width: 1.0;\"/><polygon fill=\"#A80036\" points=\"134.909,640.77,138.5379,631.6141,134.7047,635.7742,130.5446,631.9409,134.909,640.77\" style=\"stroke: #A80036; stroke-width: 1.0;\"/><path d=\"M354.869,446.815 C400.999,460.186 455.591,484.286 486.682,527 C509.483,558.325 510.584,604.132 507.877,635.516 \" fill=\"none\" style=\"stroke: #A80036; stroke-width: 1.0;\"/><polygon fill=\"#A80036\" points=\"507.372,640.813,512.2075,632.2329,507.8462,635.8355,504.2436,631.4742,507.372,640.813\" style=\"stroke: #A80036; stroke-width: 1.0;\"/><path d=\"M292.209,147.935 C254.428,183.215 205.066,229.311 173.362,258.916 \" fill=\"none\" style=\"stroke: #A80036; stroke-width: 1.0;\"/><polygon fill=\"none\" points=\"287.436,142.814,306.831,134.28,296.991,153.046,287.436,142.814\" style=\"stroke: #A80036; stroke-width: 1.0;\"/><path d=\"M345.682,154.381 C345.682,188.675 345.682,231.083 345.682,258.916 \" fill=\"none\" style=\"stroke: #A80036; stroke-width: 1.0;\"/><polygon fill=\"none\" points=\"338.682,154.28,345.682,134.28,352.682,154.28,338.682,154.28\" style=\"stroke: #A80036; stroke-width: 1.0;\"/><path d=\"M330.236,320.212 C319.898,340.099 306.158,366.529 294.811,388.357 \" fill=\"none\" style=\"stroke: #A80036; stroke-width: 1.0; stroke-dasharray: 7.0,7.0;\"/><polygon fill=\"#A80036\" points=\"292.428,392.941,300.1273,386.7993,294.7335,388.5043,293.0285,383.1105,292.428,392.941\" style=\"stroke: #A80036; stroke-width: 1.0;\"/><path d=\"M170,320.212 C189.191,340.349 214.776,367.193 235.728,389.177 \" fill=\"none\" style=\"stroke: #A80036; stroke-width: 1.0; stroke-dasharray: 7.0,7.0;\"/><polygon fill=\"#A80036\" points=\"239.316,392.941,236.0025,383.6663,235.8665,389.3215,230.2113,389.1855,239.316,392.941\" style=\"stroke: #A80036; stroke-width: 1.0;\"/><path d=\"M461.915,97 C472.63,97 483.345,97 494.06,97 \" fill=\"none\" style=\"stroke: #A80036; stroke-width: 1.0;\"/><polygon fill=\"#A80036\" points=\"499.32,97,490.32,93,494.32,97,490.32,101,499.32,97\" style=\"stroke: #A80036; stroke-width: 1.0;\"/><path d=\"M499.638,174.934 C492.81,179.106 485.795,182.864 478.682,186 C389.798,225.192 109.484,172.748 45.6823,246 C-53.9878,360.434 59.8946,557.275 113.174,636.249 \" fill=\"none\" style=\"stroke: #A80036; stroke-width: 1.0;\"/><polygon fill=\"#A80036\" points=\"116.284,640.826,114.5346,631.1338,113.474,636.6903,107.9175,635.6297,116.284,640.826\" style=\"stroke: #A80036; stroke-width: 1.0;\"/><path d=\"M669.725,168.493 C690.742,190.858 710.442,217.312 721.682,246 C735.788,282.002 732.657,295.924 721.682,333 C684.799,457.598 585.87,579.337 534.55,636.572 \" fill=\"none\" style=\"stroke: #A80036; stroke-width: 1.0;\"/><polygon fill=\"#A80036\" points=\"530.938,640.581,539.9336,636.571,534.2844,636.866,533.9895,631.2168,530.938,640.581\" style=\"stroke: #A80036; stroke-width: 1.0;\"/><path d=\"M486.254,721.1357 C481.503,735.2015 476.533,749.9145 472.563,761.6686 \" fill=\"none\" style=\"stroke: #A80036; stroke-width: 1.0; stroke-dasharray: 7.0,7.0;\"/><polygon fill=\"none\" points=\"479.666,718.7662,492.698,702.058,492.93,723.2464,479.666,718.7662\" style=\"stroke: #A80036; stroke-width: 1.0;\"/><path d=\"M551.83,715.3617 C569.861,731.0865 589.592,748.2932 604.929,761.6686 \" fill=\"none\" style=\"stroke: #A80036; stroke-width: 1.0; stroke-dasharray: 7.0,7.0;\"/><polygon fill=\"none\" points=\"547.048,720.479,536.576,702.058,556.25,709.928,547.048,720.479\" style=\"stroke: #A80036; stroke-width: 1.0;\"/><path d=\"M120.39,721.1357 C115.388,735.2015 110.157,749.9145 105.9779,761.6686 \" fill=\"none\" style=\"stroke: #A80036; stroke-width: 1.0; stroke-dasharray: 7.0,7.0;\"/><polygon fill=\"none\" points=\"113.877,718.5573,127.173,702.058,127.068,723.2474,113.877,718.5573\" style=\"stroke: #A80036; stroke-width: 1.0;\"/><path d=\"M184.681,715.8387 C201.593,731.4337 220.022,748.4283 234.381,761.6686 \" fill=\"none\" style=\"stroke: #A80036; stroke-width: 1.0; stroke-dasharray: 7.0,7.0;\"/><polygon fill=\"none\" points=\"179.694,720.7622,169.736,702.058,189.185,710.4701,179.694,720.7622\" style=\"stroke: #A80036; stroke-width: 1.0;\"/></g></svg>"
      ],
      "text/plain": [
       "<IPython.core.display.SVG object>"
      ]
     },
     "execution_count": 30,
     "metadata": {},
     "output_type": "execute_result"
    }
   ],
   "source": [
    "%%plantuml\n",
    "@startuml\n",
    "interface Cheese {\n",
    "    +toString():String\n",
    "}\n",
    "interface Dough {\n",
    "    +String toString();\n",
    "}\n",
    "abstract class Pizza {\n",
    "    String name; \n",
    "    Dough dough;\n",
    "    Cheese cheese;\n",
    "\n",
    "    abstract void prepare();\n",
    "    void bake()\n",
    "    void cut()\n",
    "    void box()\n",
    "    void setName(String name)\n",
    "    String getName()\n",
    "    +String toString()\n",
    "}\n",
    "\n",
    "class CheesePizza {\n",
    "    PizzaIngredientFactory ingredientFactory\n",
    "    +CheesePizza(PizzaIngredientFactory)\n",
    "    void prepare()\n",
    "}\n",
    "interface PizzaIngredientFactory {\n",
    "    +Dough createDough()\n",
    "    +Cheese createCheese()\n",
    "}\n",
    "\n",
    "abstract class PizzaStore {\n",
    "    #abstract Pizza createPizza(String item);\n",
    "    +Pizza orderPizza(String type)\n",
    "}   \n",
    "class ChicagoPizzaStore {\n",
    "    #Pizza createPizza(String)\n",
    "}\n",
    "class NYPizzaStore {\n",
    "    #Pizza createPizza(String item)\n",
    "}\n",
    "\n",
    "Pizza <|-- CheesePizza\n",
    "PizzaIngredientFactory <|.. \"ChicagoPizza\\nIngredientFactory\"\n",
    "PizzaIngredientFactory <|.. \"NYPizza\\nIngredientFactory\"\n",
    "\"NYPizza\\nIngredientFactory\" ..> Dough\n",
    "\"NYPizza\\nIngredientFactory\" ..> Cheese\n",
    "\"ChicagoPizza\\nIngredientFactory\" ..> Dough\n",
    "\"ChicagoPizza\\nIngredientFactory\" ..> Cheese\n",
    "PizzaIngredientFactory --> Dough\n",
    "PizzaIngredientFactory --> Cheese\n",
    "PizzaStore <|-- ChicagoPizzaStore\n",
    "PizzaStore <|-- NYPizzaStore\n",
    "NYPizzaStore ..> PizzaIngredientFactory\n",
    "ChicagoPizzaStore ..> PizzaIngredientFactory\n",
    "PizzaStore -right-> Pizza\n",
    "Pizza --> Dough\n",
    "Pizza --> Cheese\n",
    "Cheese <|.. MozzarellaCheese\n",
    "Cheese <|.. ReggianoCheese\n",
    "Dough <|.. ThickCrustDough\n",
    "Dough <|.. ThinCrustDough\n",
    "@enduml"
   ]
  },
  {
   "cell_type": "code",
   "execution_count": 33,
   "metadata": {
    "collapsed": false,
    "slideshow": {
     "slide_type": "slide"
    }
   },
   "outputs": [
    {
     "data": {
      "image/svg+xml": [
       "<svg height=\"527px\" style=\"width:852px;height:527px;\" version=\"1.1\" viewBox=\"0 0 852 527\" width=\"852px\" xmlns=\"http://www.w3.org/2000/svg\" xmlns:xlink=\"http://www.w3.org/1999/xlink\"><defs><filter height=\"300%\" id=\"f1\" width=\"300%\" x=\"-1\" y=\"-1\"><feGaussianBlur result=\"blurOut\" stdDeviation=\"2.0\"/><feColorMatrix in=\"blurOut\" result=\"blurOut2\" type=\"matrix\" values=\"0 0 0 0 0 0 0 0 0 0 0 0 0 0 0 0 0 0 .4 0\"/><feOffset dx=\"4.0\" dy=\"4.0\" in=\"blurOut2\" result=\"blurOut3\"/><feBlend in=\"SourceGraphic\" in2=\"blurOut3\" mode=\"normal\"/></filter></defs><g><rect fill=\"#FFFFFF\" filter=\"url(#f1)\" height=\"383.9922\" style=\"stroke: #000000; stroke-width: 2.0;\" width=\"830\" x=\"13\" y=\"71.9766\"/><rect fill=\"#FFFFFF\" height=\"190.8184\" style=\"stroke: none; stroke-width: 1.0;\" width=\"830\" x=\"13\" y=\"265.1504\"/><line style=\"stroke: #A80036; stroke-width: 1.0; stroke-dasharray: 5.0,5.0;\" x1=\"52\" x2=\"52\" y1=\"54.9766\" y2=\"472.9688\"/><line style=\"stroke: #A80036; stroke-width: 1.0; stroke-dasharray: 5.0,5.0;\" x1=\"157\" x2=\"157\" y1=\"54.9766\" y2=\"472.9688\"/><line style=\"stroke: #A80036; stroke-width: 1.0; stroke-dasharray: 5.0,5.0;\" x1=\"266\" x2=\"266\" y1=\"54.9766\" y2=\"472.9688\"/><line style=\"stroke: #A80036; stroke-width: 1.0; stroke-dasharray: 5.0,5.0;\" x1=\"400\" x2=\"400\" y1=\"54.9766\" y2=\"472.9688\"/><line style=\"stroke: #A80036; stroke-width: 1.0; stroke-dasharray: 5.0,5.0;\" x1=\"532\" x2=\"532\" y1=\"54.9766\" y2=\"472.9688\"/><line style=\"stroke: #A80036; stroke-width: 1.0; stroke-dasharray: 5.0,5.0;\" x1=\"639\" x2=\"639\" y1=\"54.9766\" y2=\"472.9688\"/><line style=\"stroke: #A80036; stroke-width: 1.0; stroke-dasharray: 5.0,5.0;\" x1=\"763\" x2=\"763\" y1=\"54.9766\" y2=\"472.9688\"/><rect fill=\"#FEFECE\" filter=\"url(#f1)\" height=\"30.4883\" style=\"stroke: #A80036; stroke-width: 1.5;\" width=\"54\" x=\"23\" y=\"19.4883\"/><text fill=\"#000000\" font-family=\"sans-serif\" font-size=\"14\" lengthAdjust=\"spacingAndGlyphs\" textLength=\"40\" x=\"30\" y=\"40.0234\">Client</text><rect fill=\"#FEFECE\" filter=\"url(#f1)\" height=\"30.4883\" style=\"stroke: #A80036; stroke-width: 1.5;\" width=\"54\" x=\"23\" y=\"471.9688\"/><text fill=\"#000000\" font-family=\"sans-serif\" font-size=\"14\" lengthAdjust=\"spacingAndGlyphs\" textLength=\"40\" x=\"30\" y=\"492.5039\">Client</text><rect fill=\"#FEFECE\" filter=\"url(#f1)\" height=\"30.4883\" style=\"stroke: #A80036; stroke-width: 1.5;\" width=\"86\" x=\"112\" y=\"19.4883\"/><text fill=\"#000000\" font-family=\"sans-serif\" font-size=\"14\" lengthAdjust=\"spacingAndGlyphs\" textLength=\"72\" x=\"119\" y=\"40.0234\">PizzaStore</text><rect fill=\"#FEFECE\" filter=\"url(#f1)\" height=\"30.4883\" style=\"stroke: #A80036; stroke-width: 1.5;\" width=\"86\" x=\"112\" y=\"471.9688\"/><text fill=\"#000000\" font-family=\"sans-serif\" font-size=\"14\" lengthAdjust=\"spacingAndGlyphs\" textLength=\"72\" x=\"119\" y=\"492.5039\">PizzaStore</text><rect fill=\"#FEFECE\" filter=\"url(#f1)\" height=\"30.4883\" style=\"stroke: #A80036; stroke-width: 1.5;\" width=\"105\" x=\"212\" y=\"19.4883\"/><text fill=\"#000000\" font-family=\"sans-serif\" font-size=\"14\" lengthAdjust=\"spacingAndGlyphs\" textLength=\"91\" x=\"219\" y=\"40.0234\">NYPizzaStore</text><rect fill=\"#FEFECE\" filter=\"url(#f1)\" height=\"30.4883\" style=\"stroke: #A80036; stroke-width: 1.5;\" width=\"105\" x=\"212\" y=\"471.9688\"/><text fill=\"#000000\" font-family=\"sans-serif\" font-size=\"14\" lengthAdjust=\"spacingAndGlyphs\" textLength=\"91\" x=\"219\" y=\"492.5039\">NYPizzaStore</text><rect fill=\"#FEFECE\" filter=\"url(#f1)\" height=\"46.9766\" style=\"stroke: #A80036; stroke-width: 1.5;\" width=\"135\" x=\"331\" y=\"3\"/><text fill=\"#000000\" font-family=\"sans-serif\" font-size=\"14\" lengthAdjust=\"spacingAndGlyphs\" textLength=\"55\" x=\"371\" y=\"23.5352\">NYPizza</text><text fill=\"#000000\" font-family=\"sans-serif\" font-size=\"14\" lengthAdjust=\"spacingAndGlyphs\" textLength=\"121\" x=\"338\" y=\"40.0234\">IngredientFactory</text><rect fill=\"#FEFECE\" filter=\"url(#f1)\" height=\"46.9766\" style=\"stroke: #A80036; stroke-width: 1.5;\" width=\"135\" x=\"331\" y=\"471.9688\"/><text fill=\"#000000\" font-family=\"sans-serif\" font-size=\"14\" lengthAdjust=\"spacingAndGlyphs\" textLength=\"55\" x=\"371\" y=\"492.5039\">NYPizza</text><text fill=\"#000000\" font-family=\"sans-serif\" font-size=\"14\" lengthAdjust=\"spacingAndGlyphs\" textLength=\"121\" x=\"338\" y=\"508.9922\">IngredientFactory</text><rect fill=\"#FEFECE\" filter=\"url(#f1)\" height=\"30.4883\" style=\"stroke: #A80036; stroke-width: 1.5;\" width=\"100\" x=\"480\" y=\"19.4883\"/><text fill=\"#000000\" font-family=\"sans-serif\" font-size=\"14\" lengthAdjust=\"spacingAndGlyphs\" textLength=\"86\" x=\"487\" y=\"40.0234\">CheesePizza</text><rect fill=\"#FEFECE\" filter=\"url(#f1)\" height=\"30.4883\" style=\"stroke: #A80036; stroke-width: 1.5;\" width=\"100\" x=\"480\" y=\"471.9688\"/><text fill=\"#000000\" font-family=\"sans-serif\" font-size=\"14\" lengthAdjust=\"spacingAndGlyphs\" textLength=\"86\" x=\"487\" y=\"492.5039\">CheesePizza</text><rect fill=\"#FEFECE\" filter=\"url(#f1)\" height=\"46.9766\" style=\"stroke: #A80036; stroke-width: 1.5;\" width=\"86\" x=\"594\" y=\"3\"/><text fill=\"#000000\" font-family=\"sans-serif\" font-size=\"14\" lengthAdjust=\"spacingAndGlyphs\" textLength=\"56\" x=\"609\" y=\"23.5352\">Chicago</text><text fill=\"#000000\" font-family=\"sans-serif\" font-size=\"14\" lengthAdjust=\"spacingAndGlyphs\" textLength=\"72\" x=\"601\" y=\"40.0234\">PizzaStore</text><rect fill=\"#FEFECE\" filter=\"url(#f1)\" height=\"46.9766\" style=\"stroke: #A80036; stroke-width: 1.5;\" width=\"86\" x=\"594\" y=\"471.9688\"/><text fill=\"#000000\" font-family=\"sans-serif\" font-size=\"14\" lengthAdjust=\"spacingAndGlyphs\" textLength=\"56\" x=\"609\" y=\"492.5039\">Chicago</text><text fill=\"#000000\" font-family=\"sans-serif\" font-size=\"14\" lengthAdjust=\"spacingAndGlyphs\" textLength=\"72\" x=\"601\" y=\"508.9922\">PizzaStore</text><rect fill=\"#FEFECE\" filter=\"url(#f1)\" height=\"46.9766\" style=\"stroke: #A80036; stroke-width: 1.5;\" width=\"135\" x=\"694\" y=\"3\"/><text fill=\"#000000\" font-family=\"sans-serif\" font-size=\"14\" lengthAdjust=\"spacingAndGlyphs\" textLength=\"92\" x=\"715.5\" y=\"23.5352\">ChicagoPizza</text><text fill=\"#000000\" font-family=\"sans-serif\" font-size=\"14\" lengthAdjust=\"spacingAndGlyphs\" textLength=\"121\" x=\"701\" y=\"40.0234\">IngredientFactory</text><rect fill=\"#FEFECE\" filter=\"url(#f1)\" height=\"46.9766\" style=\"stroke: #A80036; stroke-width: 1.5;\" width=\"135\" x=\"694\" y=\"471.9688\"/><text fill=\"#000000\" font-family=\"sans-serif\" font-size=\"14\" lengthAdjust=\"spacingAndGlyphs\" textLength=\"92\" x=\"715.5\" y=\"492.5039\">ChicagoPizza</text><text fill=\"#000000\" font-family=\"sans-serif\" font-size=\"14\" lengthAdjust=\"spacingAndGlyphs\" textLength=\"121\" x=\"701\" y=\"508.9922\">IngredientFactory</text><rect fill=\"none\" height=\"383.9922\" style=\"stroke: #000000; stroke-width: 2.0;\" width=\"830\" x=\"13\" y=\"71.9766\"/><polygon fill=\"#EEEEEE\" points=\"13,71.9766,75,71.9766,75,78.9766,65,88.9766,13,88.9766,13,71.9766\" style=\"stroke: #000000; stroke-width: 2.0;\"/><text fill=\"#000000\" font-family=\"sans-serif\" font-size=\"13\" font-weight=\"bold\" lengthAdjust=\"spacingAndGlyphs\" textLength=\"17\" x=\"28\" y=\"85.5449\">alt</text><text fill=\"#000000\" font-family=\"sans-serif\" font-size=\"11\" font-weight=\"bold\" lengthAdjust=\"spacingAndGlyphs\" textLength=\"98\" x=\"90\" y=\"84.6113\">['ny style cheese']</text><polygon fill=\"#A80036\" points=\"145,106.2871,155,110.2871,145,114.2871,149,110.2871\" style=\"stroke: #A80036; stroke-width: 1.0;\"/><line style=\"stroke: #A80036; stroke-width: 1.0;\" x1=\"52\" x2=\"151\" y1=\"110.2871\" y2=\"110.2871\"/><text fill=\"#000000\" font-family=\"sans-serif\" font-size=\"13\" lengthAdjust=\"spacingAndGlyphs\" textLength=\"47\" x=\"59\" y=\"105.8555\">nyStore</text><polygon fill=\"#A80036\" points=\"254.5,135.5977,264.5,139.5977,254.5,143.5977,258.5,139.5977\" style=\"stroke: #A80036; stroke-width: 1.0;\"/><line style=\"stroke: #A80036; stroke-width: 1.0;\" x1=\"157\" x2=\"260.5\" y1=\"139.5977\" y2=\"139.5977\"/><text fill=\"#000000\" font-family=\"sans-serif\" font-size=\"13\" lengthAdjust=\"spacingAndGlyphs\" textLength=\"33\" x=\"164\" y=\"135.166\">new()</text><polygon fill=\"#A80036\" points=\"254.5,164.9082,264.5,168.9082,254.5,172.9082,258.5,168.9082\" style=\"stroke: #A80036; stroke-width: 1.0;\"/><line style=\"stroke: #A80036; stroke-width: 1.0;\" x1=\"52\" x2=\"260.5\" y1=\"168.9082\" y2=\"168.9082\"/><text fill=\"#000000\" font-family=\"sans-serif\" font-size=\"13\" lengthAdjust=\"spacingAndGlyphs\" textLength=\"122\" x=\"59\" y=\"164.4766\">orderPizza('cheese')</text><polygon fill=\"#A80036\" points=\"388.5,194.2188,398.5,198.2188,388.5,202.2188,392.5,198.2188\" style=\"stroke: #A80036; stroke-width: 1.0;\"/><line style=\"stroke: #A80036; stroke-width: 1.0;\" x1=\"266.5\" x2=\"394.5\" y1=\"198.2188\" y2=\"198.2188\"/><text fill=\"#000000\" font-family=\"sans-serif\" font-size=\"13\" lengthAdjust=\"spacingAndGlyphs\" textLength=\"66\" x=\"273.5\" y=\"193.7871\">ifac=new()</text><polygon fill=\"#A80036\" points=\"520,223.5293,530,227.5293,520,231.5293,524,227.5293\" style=\"stroke: #A80036; stroke-width: 1.0;\"/><line style=\"stroke: #A80036; stroke-width: 1.0;\" x1=\"400.5\" x2=\"526\" y1=\"227.5293\" y2=\"227.5293\"/><text fill=\"#000000\" font-family=\"sans-serif\" font-size=\"13\" lengthAdjust=\"spacingAndGlyphs\" textLength=\"56\" x=\"407.5\" y=\"223.0977\">new(ifac)</text><polygon fill=\"#A80036\" points=\"520,252.8398,530,256.8398,520,260.8398,524,256.8398\" style=\"stroke: #A80036; stroke-width: 1.0;\"/><line style=\"stroke: #A80036; stroke-width: 1.0;\" x1=\"52\" x2=\"526\" y1=\"256.8398\" y2=\"256.8398\"/><text fill=\"#000000\" font-family=\"sans-serif\" font-size=\"13\" lengthAdjust=\"spacingAndGlyphs\" textLength=\"64\" x=\"59\" y=\"252.4082\">getName()</text><line style=\"stroke: #000000; stroke-width: 1.0; stroke-dasharray: 2.0,2.0;\" x1=\"13\" x2=\"843\" y1=\"266.1504\" y2=\"266.1504\"/><text fill=\"#000000\" font-family=\"sans-serif\" font-size=\"11\" font-weight=\"bold\" lengthAdjust=\"spacingAndGlyphs\" textLength=\"128\" x=\"18\" y=\"276.7852\">['chicago style cheese']</text><polygon fill=\"#A80036\" points=\"145,297.1055,155,301.1055,145,305.1055,149,301.1055\" style=\"stroke: #A80036; stroke-width: 1.0;\"/><line style=\"stroke: #A80036; stroke-width: 1.0;\" x1=\"52\" x2=\"151\" y1=\"301.1055\" y2=\"301.1055\"/><text fill=\"#000000\" font-family=\"sans-serif\" font-size=\"13\" lengthAdjust=\"spacingAndGlyphs\" textLength=\"81\" x=\"59\" y=\"296.6738\">chicagoStore</text><polygon fill=\"#A80036\" points=\"627,326.416,637,330.416,627,334.416,631,330.416\" style=\"stroke: #A80036; stroke-width: 1.0;\"/><line style=\"stroke: #A80036; stroke-width: 1.0;\" x1=\"157\" x2=\"633\" y1=\"330.416\" y2=\"330.416\"/><text fill=\"#000000\" font-family=\"sans-serif\" font-size=\"13\" lengthAdjust=\"spacingAndGlyphs\" textLength=\"33\" x=\"164\" y=\"325.9844\">new()</text><polygon fill=\"#A80036\" points=\"627,355.7266,637,359.7266,627,363.7266,631,359.7266\" style=\"stroke: #A80036; stroke-width: 1.0;\"/><line style=\"stroke: #A80036; stroke-width: 1.0;\" x1=\"52\" x2=\"633\" y1=\"359.7266\" y2=\"359.7266\"/><text fill=\"#000000\" font-family=\"sans-serif\" font-size=\"13\" lengthAdjust=\"spacingAndGlyphs\" textLength=\"122\" x=\"59\" y=\"355.2949\">orderPizza('cheese')</text><polygon fill=\"#A80036\" points=\"751.5,385.0371,761.5,389.0371,751.5,393.0371,755.5,389.0371\" style=\"stroke: #A80036; stroke-width: 1.0;\"/><line style=\"stroke: #A80036; stroke-width: 1.0;\" x1=\"639\" x2=\"757.5\" y1=\"389.0371\" y2=\"389.0371\"/><text fill=\"#000000\" font-family=\"sans-serif\" font-size=\"13\" lengthAdjust=\"spacingAndGlyphs\" textLength=\"66\" x=\"646\" y=\"384.6055\">ifac=new()</text><polygon fill=\"#A80036\" points=\"543,414.3477,533,418.3477,543,422.3477,539,418.3477\" style=\"stroke: #A80036; stroke-width: 1.0;\"/><line style=\"stroke: #A80036; stroke-width: 1.0;\" x1=\"537\" x2=\"762.5\" y1=\"418.3477\" y2=\"418.3477\"/><text fill=\"#000000\" font-family=\"sans-serif\" font-size=\"13\" lengthAdjust=\"spacingAndGlyphs\" textLength=\"56\" x=\"549\" y=\"413.916\">new(ifac)</text><polygon fill=\"#A80036\" points=\"520,443.6582,530,447.6582,520,451.6582,524,447.6582\" style=\"stroke: #A80036; stroke-width: 1.0;\"/><line style=\"stroke: #A80036; stroke-width: 1.0;\" x1=\"52\" x2=\"526\" y1=\"447.6582\" y2=\"447.6582\"/><text fill=\"#000000\" font-family=\"sans-serif\" font-size=\"13\" lengthAdjust=\"spacingAndGlyphs\" textLength=\"64\" x=\"59\" y=\"443.2266\">getName()</text></g></svg>"
      ],
      "text/plain": [
       "<IPython.core.display.SVG object>"
      ]
     },
     "execution_count": 33,
     "metadata": {},
     "output_type": "execute_result"
    }
   ],
   "source": [
    "%%plantuml\n",
    "@startuml\n",
    "alt 'ny style cheese'\n",
    "Client -> PizzaStore:nyStore\n",
    "PizzaStore -> NYPizzaStore:new()\n",
    "Client -> NYPizzaStore:orderPizza('cheese')\n",
    "NYPizzaStore -> \"NYPizza\\nIngredientFactory\":ifac=new()\n",
    "\"NYPizza\\nIngredientFactory\"->CheesePizza:new(ifac)\n",
    "Client -> CheesePizza:getName()\n",
    "else 'chicago style cheese'\n",
    "Client -> PizzaStore:chicagoStore\n",
    "PizzaStore -> \"Chicago\\nPizzaStore\":new()\n",
    "Client -> \"Chicago\\nPizzaStore\":orderPizza('cheese')\n",
    "\"Chicago\\nPizzaStore\" -> \"ChicagoPizza\\nIngredientFactory\":ifac=new()\n",
    "\"ChicagoPizza\\nIngredientFactory\"->CheesePizza:new(ifac)\n",
    "Client -> CheesePizza:getName()\n",
    "end\n",
    "@enduml"
   ]
  },
  {
   "cell_type": "code",
   "execution_count": null,
   "metadata": {
    "collapsed": true,
    "slideshow": {
     "slide_type": "slide"
    }
   },
   "outputs": [],
   "source": [
    "# %load ./src/headfirst/factory/pizzaaf/small/PizzaTestDrive.java\n",
    "package headfirst.factory.pizzaaf.small;\n",
    "\n",
    "public class PizzaTestDrive {\n",
    "    public static void main(String[] args) {\n",
    "        PizzaStore nyStore = new NYPizzaStore();\n",
    "        PizzaStore chicagoStore = new ChicagoPizzaStore();\n",
    " \n",
    "        Pizza pizza = nyStore.orderPizza(\"cheese\");\n",
    "        System.out.println(\"Ethan ordered a \" + pizza + \"\\n\");\n",
    " \n",
    "        pizza = chicagoStore.orderPizza(\"cheese\");\n",
    "        System.out.println(\"Joel ordered a \" + pizza + \"\\n\");\n",
    "\t}\n",
    "}"
   ]
  },
  {
   "cell_type": "code",
   "execution_count": null,
   "metadata": {
    "collapsed": true,
    "slideshow": {
     "slide_type": "slide"
    }
   },
   "outputs": [],
   "source": [
    "# %load ./src/headfirst/factory/pizzaaf/small/PizzaStore.java\n",
    "package headfirst.factory.pizzaaf.small;\n",
    "\n",
    "public abstract class PizzaStore {\n",
    " \n",
    "    protected abstract Pizza createPizza(String item);\n",
    " \n",
    "    public Pizza orderPizza(String type) {\n",
    "        Pizza pizza = createPizza(type);\n",
    "        System.out.println(\"--- Making a \" + pizza.getName() + \" ---\");\n",
    "        pizza.prepare();\n",
    "        pizza.bake();\n",
    "        pizza.cut();\n",
    "        pizza.box();\n",
    "        return pizza;\n",
    "    }\n",
    "}\n"
   ]
  },
  {
   "cell_type": "code",
   "execution_count": null,
   "metadata": {
    "collapsed": true,
    "slideshow": {
     "slide_type": "slide"
    }
   },
   "outputs": [],
   "source": [
    "# %load ./src/headfirst/factory/pizzaaf/small/NYPizzaStore.java\n",
    "package headfirst.factory.pizzaaf.small;\n",
    "\n",
    "public class NYPizzaStore extends PizzaStore {\n",
    "    protected Pizza createPizza(String item) {\n",
    "        Pizza pizza = null;\n",
    "        PizzaIngredientFactory ingredientFactory=new NYPizzaIngredientFactory();\n",
    " \n",
    "        if (item.equals(\"cheese\")) {\n",
    "  \n",
    "            pizza = new CheesePizza(ingredientFactory);\n",
    "            pizza.setName(\"New York Style Cheese Pizza\");\n",
    "  \n",
    "        }\n",
    "        return pizza;\n",
    "    }\n",
    "}\n"
   ]
  },
  {
   "cell_type": "code",
   "execution_count": null,
   "metadata": {
    "collapsed": true,
    "slideshow": {
     "slide_type": "slide"
    }
   },
   "outputs": [],
   "source": [
    "# %load ./src/headfirst/factory/pizzaaf/small/ChicagoPizzaStore.java\n",
    "package headfirst.factory.pizzaaf.small;\n",
    "\n",
    "public class ChicagoPizzaStore extends PizzaStore {\n",
    "    protected Pizza createPizza(String item) {\n",
    "        Pizza pizza = null;\n",
    "        PizzaIngredientFactory ingredientFactory=new ChicagoPizzaIngredientFactory();\n",
    "        if (item.equals(\"cheese\")) {\n",
    "            pizza = new CheesePizza(ingredientFactory);\n",
    "            pizza.setName(\"Chicago Style Cheese Pizza\");\n",
    "        }\n",
    "        return pizza;\n",
    "    }\n",
    "}\n"
   ]
  },
  {
   "cell_type": "code",
   "execution_count": null,
   "metadata": {
    "collapsed": true,
    "slideshow": {
     "slide_type": "slide"
    }
   },
   "outputs": [],
   "source": [
    "# %load ./src/headfirst/factory/pizzaaf/small/Pizza.java\n",
    "package headfirst.factory.pizzaaf.small;\n",
    "\n",
    "public abstract class Pizza {\n",
    "    String name;\n",
    "    Dough dough;\n",
    "    Cheese cheese;\n",
    "\n",
    "    abstract void prepare();\n",
    "    void bake() {\n",
    "        System.out.println(\"Bake for 25 minutes at 350\");\n",
    "    }\n",
    "    void cut() {\n",
    "        System.out.println(\"Cutting the pizza into diagonal slices\");\n",
    "    }\n",
    "    void box() {\n",
    "        System.out.println(\"Place pizza in official PizzaStore box\");\n",
    "    }\n",
    "    void setName(String name) {\n",
    "        this.name = name;\n",
    "    }\n",
    "    String getName() {\n",
    "        return name;\n",
    "    }\n",
    "    public String toString() {\n",
    "        StringBuffer result = new StringBuffer();\n",
    "        result.append(\"---- \" + name + \" ----\\n\");\n",
    "        if (dough != null) {\n",
    "            result.append(dough);\n",
    "            result.append(\"\\n\");\n",
    "        }\n",
    "        if (cheese != null) {\n",
    "            result.append(cheese);\n",
    "            result.append(\"\\n\");\n",
    "        }\n",
    "        return result.toString();\n",
    "    }\n",
    "}\n"
   ]
  },
  {
   "cell_type": "code",
   "execution_count": null,
   "metadata": {
    "collapsed": true,
    "slideshow": {
     "slide_type": "slide"
    }
   },
   "outputs": [],
   "source": [
    "# %load ./src/headfirst/factory/pizzaaf/small/CheesePizza.java\n",
    "package headfirst.factory.pizzaaf.small;\n",
    "\n",
    "public class CheesePizza extends Pizza {\n",
    "    PizzaIngredientFactory ingredientFactory;\n",
    " \n",
    "    public CheesePizza(PizzaIngredientFactory ingredientFactory) {\n",
    "        this.ingredientFactory = ingredientFactory;\n",
    "    }\n",
    "    void prepare() {\n",
    "        System.out.println(\"Preparing \" + name);\n",
    "        dough = ingredientFactory.createDough();\n",
    "        cheese = ingredientFactory.createCheese();\n",
    "    }\n",
    "}\n"
   ]
  },
  {
   "cell_type": "code",
   "execution_count": null,
   "metadata": {
    "collapsed": true,
    "slideshow": {
     "slide_type": "slide"
    }
   },
   "outputs": [],
   "source": [
    "# %load ./src/headfirst/factory/pizzaaf/small/PizzaIngredientFactory.java\n",
    "package headfirst.factory.pizzaaf.small;\n",
    "\n",
    "public interface PizzaIngredientFactory {\n",
    "    public Dough createDough();\n",
    "    public Cheese createCheese();\n",
    "}\n"
   ]
  },
  {
   "cell_type": "code",
   "execution_count": null,
   "metadata": {
    "collapsed": true,
    "slideshow": {
     "slide_type": "slide"
    }
   },
   "outputs": [],
   "source": [
    "# %load ./src/headfirst/factory/pizzaaf/small/NYPizzaIngredientFactory.java\n",
    "package headfirst.factory.pizzaaf.small;\n",
    "\n",
    "public class NYPizzaIngredientFactory implements PizzaIngredientFactory {\n",
    "    public Dough createDough() {\n",
    "        return new ThinCrustDough();\n",
    "    }\n",
    "    public Cheese createCheese() {\n",
    "        return new ReggianoCheese();\n",
    "    }\n",
    "}\n"
   ]
  },
  {
   "cell_type": "code",
   "execution_count": null,
   "metadata": {
    "collapsed": true,
    "slideshow": {
     "slide_type": "slide"
    }
   },
   "outputs": [],
   "source": [
    "# %load ./src/headfirst/factory/pizzaaf/small/ChicagoPizzaIngredientFactory.java\n",
    "package headfirst.factory.pizzaaf.small;\n",
    "\n",
    "public class ChicagoPizzaIngredientFactory implements PizzaIngredientFactory {\n",
    "    public Dough createDough() {\n",
    "        return new ThickCrustDough();\n",
    "    }\n",
    "    public Cheese createCheese() {\n",
    "        return new MozzarellaCheese();\n",
    "    }\n",
    "}\n"
   ]
  },
  {
   "cell_type": "code",
   "execution_count": null,
   "metadata": {
    "collapsed": true,
    "slideshow": {
     "slide_type": "slide"
    }
   },
   "outputs": [],
   "source": [
    "# %load ./src/headfirst/factory/pizzaaf/small/Dough.java\n",
    "package headfirst.factory.pizzaaf.small;\n",
    "\n",
    "public interface Dough {\n",
    "    public String toString();\n",
    "}\n"
   ]
  },
  {
   "cell_type": "code",
   "execution_count": null,
   "metadata": {
    "collapsed": true,
    "slideshow": {
     "slide_type": "slide"
    }
   },
   "outputs": [],
   "source": [
    "# %load ./src/headfirst/factory/pizzaaf/small/Cheese.java\n",
    "package headfirst.factory.pizzaaf.small;\n",
    "\n",
    "public interface Cheese {\n",
    "    public String toString();\n",
    "}\n"
   ]
  },
  {
   "cell_type": "code",
   "execution_count": null,
   "metadata": {
    "collapsed": true,
    "slideshow": {
     "slide_type": "slide"
    }
   },
   "outputs": [],
   "source": [
    "# %load ./src/headfirst/factory/pizzaaf/small/ThinCrustDough.java\n",
    "package headfirst.factory.pizzaaf.small;\n",
    "\n",
    "public class ThinCrustDough implements Dough {\n",
    "    public String toString() {\n",
    "        return \"Thin Crust Dough\";\n",
    "    }\n",
    "}\n"
   ]
  },
  {
   "cell_type": "code",
   "execution_count": null,
   "metadata": {
    "collapsed": true,
    "slideshow": {
     "slide_type": "slide"
    }
   },
   "outputs": [],
   "source": [
    "# %load ./src/headfirst/factory/pizzaaf/small/ThickCrustDough.java\n",
    "package headfirst.factory.pizzaaf.small;\n",
    "\n",
    "public class ThickCrustDough implements Dough {\n",
    "    public String toString() {\n",
    "        return \"ThickCrust style extra thick crust dough\";\n",
    "    }\n",
    "}\n"
   ]
  },
  {
   "cell_type": "code",
   "execution_count": null,
   "metadata": {
    "collapsed": true,
    "slideshow": {
     "slide_type": "slide"
    }
   },
   "outputs": [],
   "source": [
    "# %load ./src/headfirst/factory/pizzaaf/small/MozzarellaCheese.java\n",
    "package headfirst.factory.pizzaaf.small;\n",
    "\n",
    "public class MozzarellaCheese implements Cheese {\n",
    "    public String toString() {\n",
    "        return \"Shredded Mozzarella\";\n",
    "    }\n",
    "}\n"
   ]
  },
  {
   "cell_type": "code",
   "execution_count": null,
   "metadata": {
    "collapsed": true,
    "slideshow": {
     "slide_type": "slide"
    }
   },
   "outputs": [],
   "source": [
    "# %load ./src/headfirst/factory/pizzaaf/small/ReggianoCheese.java\n",
    "package headfirst.factory.pizzaaf.small;\n",
    "\n",
    "public class ReggianoCheese implements Cheese {\n",
    "    public String toString() {\n",
    "        return \"Reggiano Cheese\";\n",
    "    }\n",
    "}\n"
   ]
  },
  {
   "cell_type": "code",
   "execution_count": 41,
   "metadata": {
    "collapsed": false,
    "slideshow": {
     "slide_type": "slide"
    }
   },
   "outputs": [
    {
     "name": "stdout",
     "output_type": "stream",
     "text": [
      "Picked up JAVA_TOOL_OPTIONS: -javaagent:/usr/share/java/jayatanaag.jar \n",
      "warning: Supported source version 'RELEASE_6' from annotation processor 'org.sonatype.guice.bean.scanners.index.SisuIndexAPT6' less than -source '1.7'\n",
      "1 warning\n"
     ]
    }
   ],
   "source": [
    "!javac -d classes/ -sourcepath src/ src/headfirst/factory/pizzaaf/small/*.java"
   ]
  },
  {
   "cell_type": "code",
   "execution_count": 42,
   "metadata": {
    "collapsed": false,
    "slideshow": {
     "slide_type": "slide"
    }
   },
   "outputs": [
    {
     "name": "stdout",
     "output_type": "stream",
     "text": [
      "Picked up JAVA_TOOL_OPTIONS: -javaagent:/usr/share/java/jayatanaag.jar \n",
      "--- Making a New York Style Cheese Pizza ---\n",
      "Preparing New York Style Cheese Pizza\n",
      "Bake for 25 minutes at 350\n",
      "Cutting the pizza into diagonal slices\n",
      "Place pizza in official PizzaStore box\n",
      "Ethan ordered a ---- New York Style Cheese Pizza ----\n",
      "Thin Crust Dough\n",
      "Reggiano Cheese\n",
      "\n",
      "\n",
      "--- Making a Chicago Style Cheese Pizza ---\n",
      "Preparing Chicago Style Cheese Pizza\n",
      "Bake for 25 minutes at 350\n",
      "Cutting the pizza into diagonal slices\n",
      "Place pizza in official PizzaStore box\n",
      "Joel ordered a ---- Chicago Style Cheese Pizza ----\n",
      "ThickCrust style extra thick crust dough\n",
      "Shredded Mozzarella\n",
      "\n",
      "\n"
     ]
    }
   ],
   "source": [
    "!java -cp classes/ headfirst.factory.pizzaaf.small.PizzaTestDrive"
   ]
  }
 ],
 "metadata": {
  "celltoolbar": "Slideshow",
  "kernelspec": {
   "display_name": "Python 2",
   "language": "python",
   "name": "python2"
  },
  "language_info": {
   "codemirror_mode": {
    "name": "ipython",
    "version": 2
   },
   "file_extension": ".py",
   "mimetype": "text/x-python",
   "name": "python",
   "nbconvert_exporter": "python",
   "pygments_lexer": "ipython2",
   "version": "2.7.10"
  }
 },
 "nbformat": 4,
 "nbformat_minor": 0
}
