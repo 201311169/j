{
 "cells": [
  {
   "cell_type": "markdown",
   "metadata": {
    "slideshow": {
     "slide_type": "slide"
    }
   },
   "source": [
    "# Factory 패턴\n",
    "\n",
    "## F.1 소개\n",
    "\n",
    "* Factory 패턴은 Creational Design Pattern, 객체를 생성하는 방식을 정의한다.\n",
    "* Client는 실제 사용하는 객체를 명시할 필요 없다. 팩토리가 생성해서 반환하는 객체를 사용한다.\n",
    "* 사용할 객체가 많거나 객체를 생성하는 방법이 변경되어도, 클라이언트 측의 변경이 적어진다."
   ]
  },
  {
   "cell_type": "markdown",
   "metadata": {
    "slideshow": {
     "slide_type": "subslide"
    }
   },
   "source": [
    "* 디자인패턴 요소\n",
    "\n",
    "요소 | 설명\n",
    "---|---\n",
    "name | Factory\n",
    "problem | 생성한 구체클래스의 변경에 따른 연쇄 수정.\n",
    "solution | 생성을 감춤 (단순 factory, factory method, abstract factory\n",
    "consequence | 확장성"
   ]
  },
  {
   "cell_type": "markdown",
   "metadata": {
    "slideshow": {
     "slide_type": "subslide"
    }
   },
   "source": [
    "* 프로그래밍 예제\n",
    "    * 'Pizza' (HFDP Ch4)\n",
    "    * java valueOf(), getInstance(), newInstance()\n",
    "    * HotDraw shape    \n",
    "    * 과제\n",
    "        * case extension\n",
    "            * simple factory - potato pizza\n",
    "            * factory method - SMstyle potato pizza\n",
    "            * abstract factory - potato (mashed, sliced)\n",
    "        * new case -  도형"
   ]
  },
  {
   "cell_type": "markdown",
   "metadata": {
    "slideshow": {
     "slide_type": "slide"
    }
   },
   "source": [
    "## F.2 문제\n",
    "\n",
    "* 객체를 생성하는 'new'의 문제\n",
    "    * 'new'는 인터페이스가 아니라 구체클래스를 생성.\n",
    "    * 'new'를 호출. 구체클래스를 생성. DecoyDuck, MallardDuck, RubberDuck.\n",
    "    * not closed for modification (생성할 객체가 늘어나면 클라이언트 수정량 많아짐)\n",
    "    * 구체 클래스가 많아지거나, 변경되면 클라이언트 측의 변경이 뒤 따른다.\n",
    "* 상속 또는 인터페이스를 사용하면 새로운 클래스가 추가되거나, 변경에도 많은 수정이 필요없다.\n"
   ]
  },
  {
   "cell_type": "code",
   "execution_count": 1,
   "metadata": {
    "collapsed": true,
    "slideshow": {
     "slide_type": "subslide"
    }
   },
   "outputs": [],
   "source": [
    "import iplantuml"
   ]
  },
  {
   "cell_type": "code",
   "execution_count": 7,
   "metadata": {
    "collapsed": false,
    "slideshow": {
     "slide_type": "-"
    }
   },
   "outputs": [
    {
     "data": {
      "image/svg+xml": [
       "<svg height=\"315px\" style=\"width:265px;height:315px;\" version=\"1.1\" viewBox=\"0 0 265 315\" width=\"265px\" xmlns=\"http://www.w3.org/2000/svg\" xmlns:xlink=\"http://www.w3.org/1999/xlink\"><defs><filter height=\"300%\" id=\"f1\" width=\"300%\" x=\"-1\" y=\"-1\"><feGaussianBlur result=\"blurOut\" stdDeviation=\"2.0\"/><feColorMatrix in=\"blurOut\" result=\"blurOut2\" type=\"matrix\" values=\"0 0 0 0 0 0 0 0 0 0 0 0 0 0 0 0 0 0 .4 0\"/><feOffset dx=\"4.0\" dy=\"4.0\" in=\"blurOut2\" result=\"blurOut3\"/><feBlend in=\"SourceGraphic\" in2=\"blurOut3\" mode=\"normal\"/></filter></defs><g><rect fill=\"#FEFECE\" filter=\"url(#f1)\" height=\"48\" style=\"stroke: #A80036; stroke-width: 1.5;\" width=\"64\" x=\"26\" y=\"133\"/><ellipse cx=\"41\" cy=\"149\" fill=\"#ADD1B2\" rx=\"11\" ry=\"11\" style=\"stroke: #A80036; stroke-width: 1.0;\"/><path d=\"M43.9731,154.6431 Q43.3921,154.9419 42.7529,155.0913 Q42.1138,155.2407 41.4082,155.2407 Q38.9014,155.2407 37.5815,153.5889 Q36.2617,151.937 36.2617,148.8159 Q36.2617,145.6865 37.5815,144.0347 Q38.9014,142.3828 41.4082,142.3828 Q42.1138,142.3828 42.7612,142.5322 Q43.4087,142.6816 43.9731,142.9805 L43.9731,145.7031 Q43.3423,145.1221 42.7488,144.8523 Q42.1553,144.5825 41.5244,144.5825 Q40.1797,144.5825 39.4949,145.6492 Q38.8101,146.7158 38.8101,148.8159 Q38.8101,150.9077 39.4949,151.9744 Q40.1797,153.041 41.5244,153.041 Q42.1553,153.041 42.7488,152.7712 Q43.3423,152.5015 43.9731,151.9204 Z \"/><text fill=\"#000000\" font-family=\"sans-serif\" font-size=\"12\" lengthAdjust=\"spacingAndGlyphs\" textLength=\"32\" x=\"55\" y=\"153.5352\">Client</text><line style=\"stroke: #A80036; stroke-width: 1.5;\" x1=\"27\" x2=\"89\" y1=\"165\" y2=\"165\"/><line style=\"stroke: #A80036; stroke-width: 1.5;\" x1=\"27\" x2=\"89\" y1=\"173\" y2=\"173\"/><rect fill=\"#FEFECE\" filter=\"url(#f1)\" height=\"48\" style=\"stroke: #A80036; stroke-width: 1.5;\" width=\"104\" x=\"6\" y=\"8\"/><ellipse cx=\"21\" cy=\"24\" fill=\"#ADD1B2\" rx=\"11\" ry=\"11\" style=\"stroke: #A80036; stroke-width: 1.0;\"/><path d=\"M23.9731,29.6431 Q23.3921,29.9419 22.7529,30.0913 Q22.1138,30.2407 21.4082,30.2407 Q18.9014,30.2407 17.5815,28.5889 Q16.2617,26.937 16.2617,23.8159 Q16.2617,20.6865 17.5815,19.0347 Q18.9014,17.3828 21.4082,17.3828 Q22.1138,17.3828 22.7612,17.5322 Q23.4087,17.6816 23.9731,17.9805 L23.9731,20.7031 Q23.3423,20.1221 22.7488,19.8523 Q22.1553,19.5825 21.5244,19.5825 Q20.1797,19.5825 19.4949,20.6492 Q18.8101,21.7158 18.8101,23.8159 Q18.8101,25.9077 19.4949,26.9744 Q20.1797,28.041 21.5244,28.041 Q22.1553,28.041 22.7488,27.7712 Q23.3423,27.5015 23.9731,26.9204 Z \"/><text fill=\"#000000\" font-family=\"sans-serif\" font-size=\"12\" lengthAdjust=\"spacingAndGlyphs\" textLength=\"72\" x=\"35\" y=\"28.5352\">MallardDuck</text><line style=\"stroke: #A80036; stroke-width: 1.5;\" x1=\"7\" x2=\"109\" y1=\"40\" y2=\"40\"/><line style=\"stroke: #A80036; stroke-width: 1.5;\" x1=\"7\" x2=\"109\" y1=\"48\" y2=\"48\"/><rect fill=\"#FEFECE\" filter=\"url(#f1)\" height=\"48\" style=\"stroke: #A80036; stroke-width: 1.5;\" width=\"96\" x=\"160\" y=\"133\"/><ellipse cx=\"175\" cy=\"149\" fill=\"#ADD1B2\" rx=\"11\" ry=\"11\" style=\"stroke: #A80036; stroke-width: 1.0;\"/><path d=\"M177.9731,154.6431 Q177.3921,154.9419 176.7529,155.0913 Q176.1138,155.2407 175.4082,155.2407 Q172.9014,155.2407 171.5815,153.5889 Q170.2617,151.937 170.2617,148.8159 Q170.2617,145.6865 171.5815,144.0347 Q172.9014,142.3828 175.4082,142.3828 Q176.1138,142.3828 176.7612,142.5322 Q177.4087,142.6816 177.9731,142.9805 L177.9731,145.7031 Q177.3423,145.1221 176.7488,144.8523 Q176.1553,144.5825 175.5244,144.5825 Q174.1797,144.5825 173.4949,145.6492 Q172.8101,146.7158 172.8101,148.8159 Q172.8101,150.9077 173.4949,151.9744 Q174.1797,153.041 175.5244,153.041 Q176.1553,153.041 176.7488,152.7712 Q177.3423,152.5015 177.9731,151.9204 Z \"/><text fill=\"#000000\" font-family=\"sans-serif\" font-size=\"12\" lengthAdjust=\"spacingAndGlyphs\" textLength=\"64\" x=\"189\" y=\"153.5352\">DecoyDuck</text><line style=\"stroke: #A80036; stroke-width: 1.5;\" x1=\"161\" x2=\"255\" y1=\"165\" y2=\"165\"/><line style=\"stroke: #A80036; stroke-width: 1.5;\" x1=\"161\" x2=\"255\" y1=\"173\" y2=\"173\"/><rect fill=\"#FEFECE\" filter=\"url(#f1)\" height=\"48\" style=\"stroke: #A80036; stroke-width: 1.5;\" width=\"104\" x=\"6\" y=\"258\"/><ellipse cx=\"21\" cy=\"274\" fill=\"#ADD1B2\" rx=\"11\" ry=\"11\" style=\"stroke: #A80036; stroke-width: 1.0;\"/><path d=\"M23.9731,279.6431 Q23.3921,279.9419 22.7529,280.0913 Q22.1138,280.2407 21.4082,280.2407 Q18.9014,280.2407 17.5815,278.5889 Q16.2617,276.937 16.2617,273.8159 Q16.2617,270.6865 17.5815,269.0347 Q18.9014,267.3828 21.4082,267.3828 Q22.1138,267.3828 22.7612,267.5322 Q23.4087,267.6816 23.9731,267.9805 L23.9731,270.7031 Q23.3423,270.1221 22.7488,269.8523 Q22.1553,269.5825 21.5244,269.5825 Q20.1797,269.5825 19.4949,270.6492 Q18.8101,271.7158 18.8101,273.8159 Q18.8101,275.9077 19.4949,276.9744 Q20.1797,278.041 21.5244,278.041 Q22.1553,278.041 22.7488,277.7712 Q23.3423,277.5015 23.9731,276.9204 Z \"/><text fill=\"#000000\" font-family=\"sans-serif\" font-size=\"12\" lengthAdjust=\"spacingAndGlyphs\" textLength=\"72\" x=\"35\" y=\"278.5352\">RubberDuck</text><line style=\"stroke: #A80036; stroke-width: 1.5;\" x1=\"7\" x2=\"109\" y1=\"290\" y2=\"290\"/><line style=\"stroke: #A80036; stroke-width: 1.5;\" x1=\"7\" x2=\"109\" y1=\"298\" y2=\"298\"/><path d=\"M58,61.203 C58,82.947 58,112.642 58,132.968 \" fill=\"none\" style=\"stroke: #A80036; stroke-width: 1.0;\"/><polygon fill=\"#A80036\" points=\"58,56.135,54,65.135,58,61.135,62,65.135,58,56.135\" style=\"stroke: #A80036; stroke-width: 1.0;\"/><text fill=\"#000000\" font-family=\"sans-serif\" font-size=\"13\" lengthAdjust=\"spacingAndGlyphs\" textLength=\"33\" x=\"59\" y=\"99.5684\">new()</text><path d=\"M90.1788,157 C108.987,157 133.198,157 154.776,157 \" fill=\"none\" style=\"stroke: #A80036; stroke-width: 1.0;\"/><polygon fill=\"#A80036\" points=\"159.91,157,150.91,153,154.91,157,150.91,161,159.91,157\" style=\"stroke: #A80036; stroke-width: 1.0;\"/><text fill=\"#000000\" font-family=\"sans-serif\" font-size=\"13\" lengthAdjust=\"spacingAndGlyphs\" textLength=\"33\" x=\"108.5\" y=\"150.5684\">new()</text><path d=\"M58,181.135 C58,201.494 58,231.1907 58,252.908 \" fill=\"none\" style=\"stroke: #A80036; stroke-width: 1.0;\"/><polygon fill=\"#A80036\" points=\"58,257.9684,62,248.9684,58,252.9684,54,248.9684,58,257.9684\" style=\"stroke: #A80036; stroke-width: 1.0;\"/><text fill=\"#000000\" font-family=\"sans-serif\" font-size=\"13\" lengthAdjust=\"spacingAndGlyphs\" textLength=\"33\" x=\"59\" y=\"224.5684\">new()</text></g></svg>"
      ],
      "text/plain": [
       "<IPython.core.display.SVG object>"
      ]
     },
     "execution_count": 7,
     "metadata": {},
     "output_type": "execute_result"
    }
   ],
   "source": [
    "%%plantuml\n",
    "@startuml\n",
    "class Client\n",
    "class MallardDuck\n",
    "class DecoyDuck\n",
    "class RubberDuck\n",
    "Client -up-> MallardDuck:new()\n",
    "Client -> DecoyDuck:new()\n",
    "Client -down-> RubberDuck:new()\n",
    "@enduml"
   ]
  },
  {
   "cell_type": "markdown",
   "metadata": {
    "slideshow": {
     "slide_type": "slide"
    }
   },
   "source": [
    "## F.3 설계\n",
    "\n",
    "* 상속\n",
    "    * 컴파일시점에 supertype을 사용 -> 사용할 객체 타잎만 결정하고 (추상화)\n",
    "    * 런타임에 실제 사용할 객체(subtype)를 결정"
   ]
  },
  {
   "cell_type": "markdown",
   "metadata": {
    "slideshow": {
     "slide_type": "subslide"
    }
   },
   "source": [
    "* DIP (Dependency Inversion Principle) (p.143)\n",
    "    * 구체클래스를 참조하지 않음 -> no variable should hold a ref to a concrete class\n",
    "    * 구체클래스를 상속받지말 것! -> No class should derive from a concrete class\n",
    "    * 부모클래스가 구현한 함수를 재정의하지 말 것! No method should override an implemented method of any of its base classes"
   ]
  },
  {
   "cell_type": "markdown",
   "metadata": {
    "slideshow": {
     "slide_type": "subslide"
    }
   },
   "source": [
    "* Factory의 종류\n",
    "    * simple factory\n",
    "        * encapsulate instantiation. 객체생성을 클래스에게 맡기지 않고 팩토리 클래스가 담당한다.\n",
    "        * 팩토리 클래스의 구조가 단순하고, 경우에 따라 생성할 클래스를 결정하는 역할을 하게 된다.\n",
    "        * 클래스를 생성하는 로직이 한 곳에 모여있어, 생성하는 방식이 변경되어도 단순팩토리만 수정하게 된다.\n",
    "    * factory method\n",
    "        * 단순팩토리에서의 클래스 생성기능을 가지고 있다는 점은 같다.\n",
    "        * 그러나, 팩토리함수는 상속구조를 가지고 있다는 점이 다르다.\n",
    "        * defer instantiation to subclasses. 객체생성을 하위클래스에게 위임한다.\n",
    "        * GoF \"Define an interface for creating an object, but let the classes which implement the interface decide which class to instantiate. The Factory method lets a class defer instantiation to subclasses\"\n",
    "    * abstract factory\n",
    "        * 실제클래스가 아니라, 추상팩토리에게 클래스 생성기능을 맡긴다는 점에서 차이가 있다.\n",
    "        * GoF \"to provide an interface for creating families of related or dependent objects without specifying their concrete classes.\""
   ]
  },
  {
   "cell_type": "markdown",
   "metadata": {
    "slideshow": {
     "slide_type": "subslide"
    }
   },
   "source": [
    "Factory의 종류 | 구현 방법\n",
    "----------|----------\n",
    "Simple Factory | if문으로 사용객체의 new()를 결정.\n",
    "Factory Method | Creator - abstract factory method (자식 클래스가 factory method를 재정의해 실제 사용할 객체 반환.<br>Product - factory에 대응\n",
    "Abstract Factory | Creator - abstract factory<br>Product - product families"
   ]
  },
  {
   "cell_type": "code",
   "execution_count": 8,
   "metadata": {
    "collapsed": false,
    "slideshow": {
     "slide_type": "slide"
    }
   },
   "outputs": [
    {
     "data": {
      "image/svg+xml": [
       "<svg height=\"186px\" style=\"width:303px;height:186px;\" version=\"1.1\" viewBox=\"0 0 303 186\" width=\"303px\" xmlns=\"http://www.w3.org/2000/svg\" xmlns:xlink=\"http://www.w3.org/1999/xlink\"><defs><filter height=\"300%\" id=\"f1\" width=\"300%\" x=\"-1\" y=\"-1\"><feGaussianBlur result=\"blurOut\" stdDeviation=\"2.0\"/><feColorMatrix in=\"blurOut\" result=\"blurOut2\" type=\"matrix\" values=\"0 0 0 0 0 0 0 0 0 0 0 0 0 0 0 0 0 0 .4 0\"/><feOffset dx=\"4.0\" dy=\"4.0\" in=\"blurOut2\" result=\"blurOut3\"/><feBlend in=\"SourceGraphic\" in2=\"blurOut3\" mode=\"normal\"/></filter></defs><g><rect fill=\"#FEFECE\" filter=\"url(#f1)\" height=\"60.9551\" style=\"stroke: #A80036; stroke-width: 1.5;\" width=\"98\" x=\"20\" y=\"8\"/><ellipse cx=\"45.35\" cy=\"24\" fill=\"#ADD1B2\" rx=\"11\" ry=\"11\" style=\"stroke: #A80036; stroke-width: 1.0;\"/><path d=\"M48.3231,29.6431 Q47.7421,29.9419 47.1029,30.0913 Q46.4638,30.2407 45.7582,30.2407 Q43.2514,30.2407 41.9315,28.5889 Q40.6117,26.937 40.6117,23.8159 Q40.6117,20.6865 41.9315,19.0347 Q43.2514,17.3828 45.7582,17.3828 Q46.4638,17.3828 47.1112,17.5322 Q47.7587,17.6816 48.3231,17.9805 L48.3231,20.7031 Q47.6923,20.1221 47.0988,19.8523 Q46.5053,19.5825 45.8744,19.5825 Q44.5297,19.5825 43.8449,20.6492 Q43.1601,21.7158 43.1601,23.8159 Q43.1601,25.9077 43.8449,26.9744 Q44.5297,28.041 45.8744,28.041 Q46.5053,28.041 47.0988,27.7712 Q47.6923,27.5015 48.3231,26.9204 Z \"/><text fill=\"#000000\" font-family=\"sans-serif\" font-size=\"12\" lengthAdjust=\"spacingAndGlyphs\" textLength=\"43\" x=\"61.65\" y=\"28.5352\">Creator</text><line style=\"stroke: #A80036; stroke-width: 1.5;\" x1=\"21\" x2=\"117\" y1=\"40\" y2=\"40\"/><line style=\"stroke: #A80036; stroke-width: 1.5;\" x1=\"21\" x2=\"117\" y1=\"48\" y2=\"48\"/><text fill=\"#000000\" font-family=\"sans-serif\" font-size=\"11\" lengthAdjust=\"spacingAndGlyphs\" textLength=\"86\" x=\"26\" y=\"62.6348\">factoryMethod()</text><rect fill=\"#FEFECE\" filter=\"url(#f1)\" height=\"48\" style=\"stroke: #A80036; stroke-width: 1.5;\" width=\"126\" x=\"6\" y=\"129\"/><ellipse cx=\"21\" cy=\"145\" fill=\"#ADD1B2\" rx=\"11\" ry=\"11\" style=\"stroke: #A80036; stroke-width: 1.0;\"/><path d=\"M23.9731,150.6431 Q23.3921,150.9419 22.7529,151.0913 Q22.1138,151.2407 21.4082,151.2407 Q18.9014,151.2407 17.5815,149.5889 Q16.2617,147.937 16.2617,144.8159 Q16.2617,141.6865 17.5815,140.0347 Q18.9014,138.3828 21.4082,138.3828 Q22.1138,138.3828 22.7612,138.5322 Q23.4087,138.6816 23.9731,138.9805 L23.9731,141.7031 Q23.3423,141.1221 22.7488,140.8523 Q22.1553,140.5825 21.5244,140.5825 Q20.1797,140.5825 19.4949,141.6492 Q18.8101,142.7158 18.8101,144.8159 Q18.8101,146.9077 19.4949,147.9744 Q20.1797,149.041 21.5244,149.041 Q22.1553,149.041 22.7488,148.7712 Q23.3423,148.5015 23.9731,147.9204 Z \"/><text fill=\"#000000\" font-family=\"sans-serif\" font-size=\"12\" lengthAdjust=\"spacingAndGlyphs\" textLength=\"94\" x=\"35\" y=\"149.5352\">ConcreteCreator</text><line style=\"stroke: #A80036; stroke-width: 1.5;\" x1=\"7\" x2=\"131\" y1=\"161\" y2=\"161\"/><line style=\"stroke: #A80036; stroke-width: 1.5;\" x1=\"7\" x2=\"131\" y1=\"169\" y2=\"169\"/><rect fill=\"#FEFECE\" filter=\"url(#f1)\" height=\"48\" style=\"stroke: #A80036; stroke-width: 1.5;\" width=\"76\" x=\"193\" y=\"14.5\"/><ellipse cx=\"208\" cy=\"30.5\" fill=\"#ADD1B2\" rx=\"11\" ry=\"11\" style=\"stroke: #A80036; stroke-width: 1.0;\"/><path d=\"M210.9731,36.1431 Q210.3921,36.4419 209.7529,36.5913 Q209.1138,36.7407 208.4082,36.7407 Q205.9014,36.7407 204.5815,35.0889 Q203.2617,33.437 203.2617,30.3159 Q203.2617,27.1865 204.5815,25.5347 Q205.9014,23.8828 208.4082,23.8828 Q209.1138,23.8828 209.7612,24.0322 Q210.4087,24.1816 210.9731,24.4805 L210.9731,27.2031 Q210.3423,26.6221 209.7488,26.3523 Q209.1553,26.0825 208.5244,26.0825 Q207.1797,26.0825 206.4949,27.1492 Q205.8101,28.2158 205.8101,30.3159 Q205.8101,32.4077 206.4949,33.4744 Q207.1797,34.541 208.5244,34.541 Q209.1553,34.541 209.7488,34.2712 Q210.3423,34.0015 210.9731,33.4204 Z \"/><text fill=\"#000000\" font-family=\"sans-serif\" font-size=\"12\" lengthAdjust=\"spacingAndGlyphs\" textLength=\"44\" x=\"222\" y=\"35.0352\">Product</text><line style=\"stroke: #A80036; stroke-width: 1.5;\" x1=\"194\" x2=\"268\" y1=\"46.5\" y2=\"46.5\"/><line style=\"stroke: #A80036; stroke-width: 1.5;\" x1=\"194\" x2=\"268\" y1=\"54.5\" y2=\"54.5\"/><rect fill=\"#FEFECE\" filter=\"url(#f1)\" height=\"48\" style=\"stroke: #A80036; stroke-width: 1.5;\" width=\"127\" x=\"167.5\" y=\"129\"/><ellipse cx=\"182.5\" cy=\"145\" fill=\"#ADD1B2\" rx=\"11\" ry=\"11\" style=\"stroke: #A80036; stroke-width: 1.0;\"/><path d=\"M185.4731,150.6431 Q184.8921,150.9419 184.2529,151.0913 Q183.6138,151.2407 182.9082,151.2407 Q180.4014,151.2407 179.0815,149.5889 Q177.7617,147.937 177.7617,144.8159 Q177.7617,141.6865 179.0815,140.0347 Q180.4014,138.3828 182.9082,138.3828 Q183.6138,138.3828 184.2612,138.5322 Q184.9087,138.6816 185.4731,138.9805 L185.4731,141.7031 Q184.8423,141.1221 184.2488,140.8523 Q183.6553,140.5825 183.0244,140.5825 Q181.6797,140.5825 180.9949,141.6492 Q180.3101,142.7158 180.3101,144.8159 Q180.3101,146.9077 180.9949,147.9744 Q181.6797,149.041 183.0244,149.041 Q183.6553,149.041 184.2488,148.7712 Q184.8423,148.5015 185.4731,147.9204 Z \"/><text fill=\"#000000\" font-family=\"sans-serif\" font-size=\"12\" lengthAdjust=\"spacingAndGlyphs\" textLength=\"95\" x=\"196.5\" y=\"149.5352\">ConcreteProduct</text><line style=\"stroke: #A80036; stroke-width: 1.5;\" x1=\"168.5\" x2=\"293.5\" y1=\"161\" y2=\"161\"/><line style=\"stroke: #A80036; stroke-width: 1.5;\" x1=\"168.5\" x2=\"293.5\" y1=\"169\" y2=\"169\"/><path d=\"M69,89.1067 C69,102.8764 69,117.1847 69,128.6686 \" fill=\"none\" style=\"stroke: #A80036; stroke-width: 1.0;\"/><polygon fill=\"none\" points=\"62.0001,89.0581,69,69.058,76.0001,89.058,62.0001,89.0581\" style=\"stroke: #A80036; stroke-width: 1.0;\"/><path d=\"M231,82.6449 C231,98.4205 231,115.6523 231,128.9933 \" fill=\"none\" style=\"stroke: #A80036; stroke-width: 1.0;\"/><polygon fill=\"none\" points=\"224,82.5376,231,62.538,238,82.5375,224,82.5376\" style=\"stroke: #A80036; stroke-width: 1.0;\"/><path d=\"M132.281,153 C142.242,153 152.203,153 162.164,153 \" fill=\"none\" style=\"stroke: #A80036; stroke-width: 1.0;\"/><polygon fill=\"#A80036\" points=\"167.373,153,158.373,149,162.373,153,158.373,157,167.373,153\" style=\"stroke: #A80036; stroke-width: 1.0;\"/></g></svg>"
      ],
      "text/plain": [
       "<IPython.core.display.SVG object>"
      ]
     },
     "execution_count": 8,
     "metadata": {},
     "output_type": "execute_result"
    }
   ],
   "source": [
    "%%plantuml\n",
    "@startuml\n",
    "Creator <|-- ConcreteCreator\n",
    "Product <|-- ConcreteProduct\n",
    "class Creator {\n",
    "  factoryMethod()\n",
    "}\n",
    "ConcreteCreator -right-> ConcreteProduct\n",
    "@enduml"
   ]
  },
  {
   "cell_type": "markdown",
   "metadata": {
    "slideshow": {
     "slide_type": "slide"
    }
   },
   "source": [
    "### F.3.1 simple factory\n",
    "\n",
    "* Simple Factory가 어느 객체를 생성할지 판단하고, 사용자측에 맞는 객체를 반환한다.\n",
    "    * 보통 'if' 문에서 문자열에 따라 생성할 객체를 결정한다.\n",
    "    * 'if' 문을 사용하는 것이 'bad smell'이 난다.\n",
    "    * Creator와 Product를 1:1로 하면 'if' 문이 제거될 수 있다. (참조: factory method에서 1:1 구조를 사용할 수 있다.)\n",
    "* 클라이언트 PizzaStore는 직접 new()를 사용하지 않는다."
   ]
  },
  {
   "cell_type": "code",
   "execution_count": 2,
   "metadata": {
    "collapsed": false,
    "slideshow": {
     "slide_type": "slide"
    }
   },
   "outputs": [
    {
     "data": {
      "image/svg+xml": [
       "<svg height=\"208px\" style=\"width:520px;height:208px;\" version=\"1.1\" viewBox=\"0 0 520 208\" width=\"520px\" xmlns=\"http://www.w3.org/2000/svg\" xmlns:xlink=\"http://www.w3.org/1999/xlink\"><defs><filter height=\"300%\" id=\"f1\" width=\"300%\" x=\"-1\" y=\"-1\"><feGaussianBlur result=\"blurOut\" stdDeviation=\"2.0\"/><feColorMatrix in=\"blurOut\" result=\"blurOut2\" type=\"matrix\" values=\"0 0 0 0 0 0 0 0 0 0 0 0 0 0 0 0 0 0 .4 0\"/><feOffset dx=\"4.0\" dy=\"4.0\" in=\"blurOut2\" result=\"blurOut3\"/><feBlend in=\"SourceGraphic\" in2=\"blurOut3\" mode=\"normal\"/></filter></defs><g><rect fill=\"#FEFECE\" filter=\"url(#f1)\" height=\"60.8047\" style=\"stroke: #A80036; stroke-width: 1.5;\" width=\"190\" x=\"6\" y=\"73.5\"/><ellipse cx=\"39.9\" cy=\"89.5\" fill=\"#ADD1B2\" rx=\"11\" ry=\"11\" style=\"stroke: #A80036; stroke-width: 1.0;\"/><path d=\"M42.8688,95.1406 Q42.2906,95.4375 41.65,95.5859 Q41.0094,95.7344 40.3063,95.7344 Q37.8063,95.7344 36.4859,94.0859 Q35.1656,92.4375 35.1656,89.3125 Q35.1656,86.1875 36.4859,84.5313 Q37.8063,82.875 40.3063,82.875 Q41.0094,82.875 41.6578,83.0313 Q42.3063,83.1875 42.8688,83.4844 L42.8688,86.2031 Q42.2438,85.625 41.65,85.3516 Q41.0563,85.0781 40.4313,85.0781 Q39.0875,85.0781 38.4,86.1484 Q37.7125,87.2188 37.7125,89.3125 Q37.7125,91.4063 38.4,92.4766 Q39.0875,93.5469 40.4313,93.5469 Q41.0563,93.5469 41.65,93.2734 Q42.2438,93 42.8688,92.4219 L42.8688,95.1406 Z \"/><text fill=\"#000000\" font-family=\"sans-serif\" font-size=\"12\" lengthAdjust=\"spacingAndGlyphs\" textLength=\"116\" x=\"58.1\" y=\"93.6543\">SimplePizzaFactory</text><line style=\"stroke: #A80036; stroke-width: 1.5;\" x1=\"7\" x2=\"195\" y1=\"105.5\" y2=\"105.5\"/><line style=\"stroke: #A80036; stroke-width: 1.5;\" x1=\"7\" x2=\"195\" y1=\"113.5\" y2=\"113.5\"/><ellipse cx=\"17\" cy=\"125.4023\" fill=\"#84BE84\" rx=\"3\" ry=\"3\" style=\"stroke: #038048; stroke-width: 1.0;\"/><text fill=\"#000000\" font-family=\"sans-serif\" font-size=\"11\" lengthAdjust=\"spacingAndGlyphs\" textLength=\"164\" x=\"26\" y=\"127.7104\">createPizza(type:String):Pizza</text><polygon fill=\"#FBFB77\" filter=\"url(#f1)\" points=\"231,8,231,199.5938,511,199.5938,511,18,501,8,231,8\" style=\"stroke: #A80036; stroke-width: 1.0;\"/><polygon fill=\"#FBFB77\" points=\"231,8,231,100,196.186,104,231,108,231,199.5938,511,199.5938,511,18,501,8,231,8\" style=\"stroke: #A80036; stroke-width: 1.0;\"/><line style=\"stroke: #A80036; stroke-width: 1.0;\" x1=\"501\" x2=\"501\" y1=\"8\" y2=\"18\"/><line style=\"stroke: #A80036; stroke-width: 1.0;\" x1=\"511\" x2=\"501\" y1=\"18\" y2=\"18\"/><text fill=\"#000000\" font-family=\"sans-serif\" font-size=\"13\" lengthAdjust=\"spacingAndGlyphs\" textLength=\"259\" x=\"237\" y=\"25.0669\">&quot;&quot;&quot;public Pizza createPizza(String type) {</text><text fill=\"#000000\" font-family=\"sans-serif\" font-size=\"13\" lengthAdjust=\"spacingAndGlyphs\" textLength=\"107\" x=\"253\" y=\"40.1997\">Pizza pizza=null;</text><text fill=\"#000000\" font-family=\"sans-serif\" font-size=\"13\" lengthAdjust=\"spacingAndGlyphs\" textLength=\"157\" x=\"253\" y=\"55.3325\">if(type.equals(&quot;cheese&quot;))</text><text fill=\"#000000\" font-family=\"sans-serif\" font-size=\"13\" lengthAdjust=\"spacingAndGlyphs\" textLength=\"168\" x=\"269\" y=\"70.4653\">pizza=new CheesePizza();</text><text fill=\"#000000\" font-family=\"sans-serif\" font-size=\"13\" lengthAdjust=\"spacingAndGlyphs\" textLength=\"205\" x=\"253\" y=\"85.5981\">else if(type.equals(&quot;pepperoni&quot;))</text><text fill=\"#000000\" font-family=\"sans-serif\" font-size=\"13\" lengthAdjust=\"spacingAndGlyphs\" textLength=\"184\" x=\"269\" y=\"100.731\">pizza=new PepperoniPizza();</text><text fill=\"#000000\" font-family=\"sans-serif\" font-size=\"13\" lengthAdjust=\"spacingAndGlyphs\" textLength=\"172\" x=\"253\" y=\"115.8638\">else if(type.equals(&quot;clam&quot;))</text><text fill=\"#000000\" font-family=\"sans-serif\" font-size=\"13\" lengthAdjust=\"spacingAndGlyphs\" textLength=\"153\" x=\"269\" y=\"130.9966\">pizza=new ClamPizza();</text><text fill=\"#000000\" font-family=\"sans-serif\" font-size=\"13\" lengthAdjust=\"spacingAndGlyphs\" textLength=\"183\" x=\"253\" y=\"146.1294\">else if(type.equals(&quot;veggie&quot;))</text><text fill=\"#000000\" font-family=\"sans-serif\" font-size=\"13\" lengthAdjust=\"spacingAndGlyphs\" textLength=\"164\" x=\"269\" y=\"161.2622\">pizza=new VeggiePizza();</text><text fill=\"#000000\" font-family=\"sans-serif\" font-size=\"13\" lengthAdjust=\"spacingAndGlyphs\" textLength=\"76\" x=\"253\" y=\"176.395\">return pizza</text><text fill=\"#000000\" font-family=\"sans-serif\" font-size=\"13\" lengthAdjust=\"spacingAndGlyphs\" textLength=\"23\" x=\"237\" y=\"191.5278\">}&quot;&quot;&quot;</text></g></svg>"
      ],
      "text/plain": [
       "<IPython.core.display.SVG object>"
      ]
     },
     "execution_count": 2,
     "metadata": {},
     "output_type": "execute_result"
    }
   ],
   "source": [
    "%%plantuml\n",
    "@startuml\n",
    "\n",
    "class SimplePizzaFactory {\n",
    "    +createPizza(type:String):Pizza\n",
    "}\n",
    "\n",
    "note right\n",
    "\"\"\"public Pizza createPizza(String type) {\n",
    "    Pizza pizza=null;\n",
    "    if(type.equals(\"cheese\"))\n",
    "        pizza=new CheesePizza();\n",
    "    else if(type.equals(\"pepperoni\"))\n",
    "        pizza=new PepperoniPizza();\n",
    "    else if(type.equals(\"clam\"))\n",
    "        pizza=new ClamPizza();\n",
    "    else if(type.equals(\"veggie\"))\n",
    "        pizza=new VeggiePizza();\n",
    "    return pizza\n",
    "}\"\"\"\n",
    "end note\n",
    "@enduml"
   ]
  },
  {
   "cell_type": "markdown",
   "metadata": {
    "slideshow": {
     "slide_type": "subslide"
    }
   },
   "source": [
    "* PizzaStore는 SimplePizzaFactory를 가지고, 이를 통해서 pizza를 생성한다."
   ]
  },
  {
   "cell_type": "code",
   "execution_count": 3,
   "metadata": {
    "collapsed": false,
    "slideshow": {
     "slide_type": "-"
    }
   },
   "outputs": [
    {
     "data": {
      "image/svg+xml": [
       "<svg height=\"224px\" style=\"width:789px;height:224px;\" version=\"1.1\" viewBox=\"0 0 789 224\" width=\"789px\" xmlns=\"http://www.w3.org/2000/svg\" xmlns:xlink=\"http://www.w3.org/1999/xlink\"><defs><filter height=\"300%\" id=\"f1\" width=\"300%\" x=\"-1\" y=\"-1\"><feGaussianBlur result=\"blurOut\" stdDeviation=\"2.0\"/><feColorMatrix in=\"blurOut\" result=\"blurOut2\" type=\"matrix\" values=\"0 0 0 0 0 0 0 0 0 0 0 0 0 0 0 0 0 0 .4 0\"/><feOffset dx=\"4.0\" dy=\"4.0\" in=\"blurOut2\" result=\"blurOut3\"/><feBlend in=\"SourceGraphic\" in2=\"blurOut3\" mode=\"normal\"/></filter></defs><g><rect fill=\"#FEFECE\" filter=\"url(#f1)\" height=\"86.4141\" style=\"stroke: #A80036; stroke-width: 1.5;\" width=\"207\" x=\"6\" y=\"14.5\"/><ellipse cx=\"73.75\" cy=\"30.5\" fill=\"#ADD1B2\" rx=\"11\" ry=\"11\" style=\"stroke: #A80036; stroke-width: 1.0;\"/><path d=\"M76.7188,36.1406 Q76.1406,36.4375 75.5,36.5859 Q74.8594,36.7344 74.1563,36.7344 Q71.6563,36.7344 70.3359,35.0859 Q69.0156,33.4375 69.0156,30.3125 Q69.0156,27.1875 70.3359,25.5313 Q71.6563,23.875 74.1563,23.875 Q74.8594,23.875 75.5078,24.0313 Q76.1563,24.1875 76.7188,24.4844 L76.7188,27.2031 Q76.0938,26.625 75.5,26.3516 Q74.9063,26.0781 74.2813,26.0781 Q72.9375,26.0781 72.25,27.1484 Q71.5625,28.2188 71.5625,30.3125 Q71.5625,32.4063 72.25,33.4766 Q72.9375,34.5469 74.2813,34.5469 Q74.9063,34.5469 75.5,34.2734 Q76.0938,34 76.7188,33.4219 L76.7188,36.1406 Z \"/><text fill=\"#000000\" font-family=\"sans-serif\" font-size=\"12\" lengthAdjust=\"spacingAndGlyphs\" textLength=\"63\" x=\"94.25\" y=\"34.6543\">PizzaStore</text><line style=\"stroke: #A80036; stroke-width: 1.5;\" x1=\"7\" x2=\"212\" y1=\"46.5\" y2=\"46.5\"/><rect fill=\"none\" height=\"6\" style=\"stroke: #C82930; stroke-width: 1.0;\" width=\"6\" x=\"14\" y=\"55.4023\"/><text fill=\"#000000\" font-family=\"sans-serif\" font-size=\"11\" lengthAdjust=\"spacingAndGlyphs\" textLength=\"150\" x=\"26\" y=\"60.7104\">factory:SimplePizzaFactory</text><line style=\"stroke: #A80036; stroke-width: 1.5;\" x1=\"7\" x2=\"212\" y1=\"67.3047\" y2=\"67.3047\"/><ellipse cx=\"17\" cy=\"79.207\" fill=\"#84BE84\" rx=\"3\" ry=\"3\" style=\"stroke: #038048; stroke-width: 1.0;\"/><text fill=\"#000000\" font-family=\"sans-serif\" font-size=\"11\" lengthAdjust=\"spacingAndGlyphs\" textLength=\"181\" x=\"26\" y=\"81.5151\">PIzzaStore(f:SimplePizzaFactory)</text><ellipse cx=\"17\" cy=\"92.0117\" fill=\"#84BE84\" rx=\"3\" ry=\"3\" style=\"stroke: #038048; stroke-width: 1.0;\"/><text fill=\"#000000\" font-family=\"sans-serif\" font-size=\"11\" lengthAdjust=\"spacingAndGlyphs\" textLength=\"131\" x=\"26\" y=\"94.3198\">orderPizza(String):Pizza</text><rect fill=\"#FEFECE\" filter=\"url(#f1)\" height=\"60.8047\" style=\"stroke: #A80036; stroke-width: 1.5;\" width=\"190\" x=\"248.5\" y=\"27\"/><ellipse cx=\"282.4\" cy=\"43\" fill=\"#ADD1B2\" rx=\"11\" ry=\"11\" style=\"stroke: #A80036; stroke-width: 1.0;\"/><path d=\"M285.3688,48.6406 Q284.7906,48.9375 284.15,49.0859 Q283.5094,49.2344 282.8063,49.2344 Q280.3063,49.2344 278.9859,47.5859 Q277.6656,45.9375 277.6656,42.8125 Q277.6656,39.6875 278.9859,38.0313 Q280.3063,36.375 282.8063,36.375 Q283.5094,36.375 284.1578,36.5313 Q284.8063,36.6875 285.3688,36.9844 L285.3688,39.7031 Q284.7438,39.125 284.15,38.8516 Q283.5563,38.5781 282.9313,38.5781 Q281.5875,38.5781 280.9,39.6484 Q280.2125,40.7188 280.2125,42.8125 Q280.2125,44.9063 280.9,45.9766 Q281.5875,47.0469 282.9313,47.0469 Q283.5563,47.0469 284.15,46.7734 Q284.7438,46.5 285.3688,45.9219 L285.3688,48.6406 Z \"/><text fill=\"#000000\" font-family=\"sans-serif\" font-size=\"12\" lengthAdjust=\"spacingAndGlyphs\" textLength=\"116\" x=\"300.6\" y=\"47.1543\">SimplePizzaFactory</text><line style=\"stroke: #A80036; stroke-width: 1.5;\" x1=\"249.5\" x2=\"437.5\" y1=\"59\" y2=\"59\"/><line style=\"stroke: #A80036; stroke-width: 1.5;\" x1=\"249.5\" x2=\"437.5\" y1=\"67\" y2=\"67\"/><ellipse cx=\"259.5\" cy=\"78.9023\" fill=\"#84BE84\" rx=\"3\" ry=\"3\" style=\"stroke: #038048; stroke-width: 1.0;\"/><text fill=\"#000000\" font-family=\"sans-serif\" font-size=\"11\" lengthAdjust=\"spacingAndGlyphs\" textLength=\"164\" x=\"268.5\" y=\"81.2104\">createPizza(type:String):Pizza</text><rect fill=\"#FEFECE\" filter=\"url(#f1)\" height=\"99.2188\" style=\"stroke: #A80036; stroke-width: 1.5;\" width=\"69\" x=\"474\" y=\"8\"/><ellipse cx=\"492.6\" cy=\"24\" fill=\"#ADD1B2\" rx=\"11\" ry=\"11\" style=\"stroke: #A80036; stroke-width: 1.0;\"/><path d=\"M495.5688,29.6406 Q494.9906,29.9375 494.35,30.0859 Q493.7094,30.2344 493.0063,30.2344 Q490.5063,30.2344 489.1859,28.5859 Q487.8656,26.9375 487.8656,23.8125 Q487.8656,20.6875 489.1859,19.0313 Q490.5063,17.375 493.0063,17.375 Q493.7094,17.375 494.3578,17.5313 Q495.0063,17.6875 495.5688,17.9844 L495.5688,20.7031 Q494.9438,20.125 494.35,19.8516 Q493.7563,19.5781 493.1313,19.5781 Q491.7875,19.5781 491.1,20.6484 Q490.4125,21.7188 490.4125,23.8125 Q490.4125,25.9063 491.1,26.9766 Q491.7875,28.0469 493.1313,28.0469 Q493.7563,28.0469 494.35,27.7734 Q494.9438,27.5 495.5688,26.9219 L495.5688,29.6406 Z \"/><text fill=\"#000000\" font-family=\"sans-serif\" font-size=\"12\" lengthAdjust=\"spacingAndGlyphs\" textLength=\"29\" x=\"507.4\" y=\"28.1543\">Pizza</text><line style=\"stroke: #A80036; stroke-width: 1.5;\" x1=\"475\" x2=\"542\" y1=\"40\" y2=\"40\"/><line style=\"stroke: #A80036; stroke-width: 1.5;\" x1=\"475\" x2=\"542\" y1=\"48\" y2=\"48\"/><text fill=\"#000000\" font-family=\"sans-serif\" font-size=\"11\" lengthAdjust=\"spacingAndGlyphs\" textLength=\"57\" x=\"480\" y=\"62.2104\">preparte()</text><text fill=\"#000000\" font-family=\"sans-serif\" font-size=\"11\" lengthAdjust=\"spacingAndGlyphs\" textLength=\"35\" x=\"480\" y=\"75.0151\">bake()</text><text fill=\"#000000\" font-family=\"sans-serif\" font-size=\"11\" lengthAdjust=\"spacingAndGlyphs\" textLength=\"25\" x=\"480\" y=\"87.8198\">cut()</text><text fill=\"#000000\" font-family=\"sans-serif\" font-size=\"11\" lengthAdjust=\"spacingAndGlyphs\" textLength=\"28\" x=\"480\" y=\"100.6245\">box()</text><rect fill=\"#FEFECE\" filter=\"url(#f1)\" height=\"48\" style=\"stroke: #A80036; stroke-width: 1.5;\" width=\"108\" x=\"246.5\" y=\"167\"/><ellipse cx=\"261.5\" cy=\"183\" fill=\"#ADD1B2\" rx=\"11\" ry=\"11\" style=\"stroke: #A80036; stroke-width: 1.0;\"/><path d=\"M264.4688,188.6406 Q263.8906,188.9375 263.25,189.0859 Q262.6094,189.2344 261.9063,189.2344 Q259.4063,189.2344 258.0859,187.5859 Q256.7656,185.9375 256.7656,182.8125 Q256.7656,179.6875 258.0859,178.0313 Q259.4063,176.375 261.9063,176.375 Q262.6094,176.375 263.2578,176.5313 Q263.9063,176.6875 264.4688,176.9844 L264.4688,179.7031 Q263.8438,179.125 263.25,178.8516 Q262.6563,178.5781 262.0313,178.5781 Q260.6875,178.5781 260,179.6484 Q259.3125,180.7188 259.3125,182.8125 Q259.3125,184.9063 260,185.9766 Q260.6875,187.0469 262.0313,187.0469 Q262.6563,187.0469 263.25,186.7734 Q263.8438,186.5 264.4688,185.9219 L264.4688,188.6406 Z \"/><text fill=\"#000000\" font-family=\"sans-serif\" font-size=\"12\" lengthAdjust=\"spacingAndGlyphs\" textLength=\"76\" x=\"275.5\" y=\"187.1543\">CheesePizza</text><line style=\"stroke: #A80036; stroke-width: 1.5;\" x1=\"247.5\" x2=\"353.5\" y1=\"199\" y2=\"199\"/><line style=\"stroke: #A80036; stroke-width: 1.5;\" x1=\"247.5\" x2=\"353.5\" y1=\"207\" y2=\"207\"/><rect fill=\"#FEFECE\" filter=\"url(#f1)\" height=\"48\" style=\"stroke: #A80036; stroke-width: 1.5;\" width=\"104\" x=\"389.5\" y=\"167\"/><ellipse cx=\"404.5\" cy=\"183\" fill=\"#ADD1B2\" rx=\"11\" ry=\"11\" style=\"stroke: #A80036; stroke-width: 1.0;\"/><path d=\"M407.4688,188.6406 Q406.8906,188.9375 406.25,189.0859 Q405.6094,189.2344 404.9063,189.2344 Q402.4063,189.2344 401.0859,187.5859 Q399.7656,185.9375 399.7656,182.8125 Q399.7656,179.6875 401.0859,178.0313 Q402.4063,176.375 404.9063,176.375 Q405.6094,176.375 406.2578,176.5313 Q406.9063,176.6875 407.4688,176.9844 L407.4688,179.7031 Q406.8438,179.125 406.25,178.8516 Q405.6563,178.5781 405.0313,178.5781 Q403.6875,178.5781 403,179.6484 Q402.3125,180.7188 402.3125,182.8125 Q402.3125,184.9063 403,185.9766 Q403.6875,187.0469 405.0313,187.0469 Q405.6563,187.0469 406.25,186.7734 Q406.8438,186.5 407.4688,185.9219 L407.4688,188.6406 Z \"/><text fill=\"#000000\" font-family=\"sans-serif\" font-size=\"12\" lengthAdjust=\"spacingAndGlyphs\" textLength=\"72\" x=\"418.5\" y=\"187.1543\">VeggiePizza</text><line style=\"stroke: #A80036; stroke-width: 1.5;\" x1=\"390.5\" x2=\"492.5\" y1=\"199\" y2=\"199\"/><line style=\"stroke: #A80036; stroke-width: 1.5;\" x1=\"390.5\" x2=\"492.5\" y1=\"207\" y2=\"207\"/><rect fill=\"#FEFECE\" filter=\"url(#f1)\" height=\"48\" style=\"stroke: #A80036; stroke-width: 1.5;\" width=\"91\" x=\"529\" y=\"167\"/><ellipse cx=\"544\" cy=\"183\" fill=\"#ADD1B2\" rx=\"11\" ry=\"11\" style=\"stroke: #A80036; stroke-width: 1.0;\"/><path d=\"M546.9688,188.6406 Q546.3906,188.9375 545.75,189.0859 Q545.1094,189.2344 544.4063,189.2344 Q541.9063,189.2344 540.5859,187.5859 Q539.2656,185.9375 539.2656,182.8125 Q539.2656,179.6875 540.5859,178.0313 Q541.9063,176.375 544.4063,176.375 Q545.1094,176.375 545.7578,176.5313 Q546.4063,176.6875 546.9688,176.9844 L546.9688,179.7031 Q546.3438,179.125 545.75,178.8516 Q545.1563,178.5781 544.5313,178.5781 Q543.1875,178.5781 542.5,179.6484 Q541.8125,180.7188 541.8125,182.8125 Q541.8125,184.9063 542.5,185.9766 Q543.1875,187.0469 544.5313,187.0469 Q545.1563,187.0469 545.75,186.7734 Q546.3438,186.5 546.9688,185.9219 L546.9688,188.6406 Z \"/><text fill=\"#000000\" font-family=\"sans-serif\" font-size=\"12\" lengthAdjust=\"spacingAndGlyphs\" textLength=\"59\" x=\"558\" y=\"187.1543\">ClamPizza</text><line style=\"stroke: #A80036; stroke-width: 1.5;\" x1=\"530\" x2=\"619\" y1=\"199\" y2=\"199\"/><line style=\"stroke: #A80036; stroke-width: 1.5;\" x1=\"530\" x2=\"619\" y1=\"207\" y2=\"207\"/><rect fill=\"#FEFECE\" filter=\"url(#f1)\" height=\"48\" style=\"stroke: #A80036; stroke-width: 1.5;\" width=\"125\" x=\"655\" y=\"167\"/><ellipse cx=\"670\" cy=\"183\" fill=\"#ADD1B2\" rx=\"11\" ry=\"11\" style=\"stroke: #A80036; stroke-width: 1.0;\"/><path d=\"M672.9688,188.6406 Q672.3906,188.9375 671.75,189.0859 Q671.1094,189.2344 670.4063,189.2344 Q667.9063,189.2344 666.5859,187.5859 Q665.2656,185.9375 665.2656,182.8125 Q665.2656,179.6875 666.5859,178.0313 Q667.9063,176.375 670.4063,176.375 Q671.1094,176.375 671.7578,176.5313 Q672.4063,176.6875 672.9688,176.9844 L672.9688,179.7031 Q672.3438,179.125 671.75,178.8516 Q671.1563,178.5781 670.5313,178.5781 Q669.1875,178.5781 668.5,179.6484 Q667.8125,180.7188 667.8125,182.8125 Q667.8125,184.9063 668.5,185.9766 Q669.1875,187.0469 670.5313,187.0469 Q671.1563,187.0469 671.75,186.7734 Q672.3438,186.5 672.9688,185.9219 L672.9688,188.6406 Z \"/><text fill=\"#000000\" font-family=\"sans-serif\" font-size=\"12\" lengthAdjust=\"spacingAndGlyphs\" textLength=\"93\" x=\"684\" y=\"187.1543\">PepperoniPizza</text><line style=\"stroke: #A80036; stroke-width: 1.5;\" x1=\"656\" x2=\"779\" y1=\"199\" y2=\"199\"/><line style=\"stroke: #A80036; stroke-width: 1.5;\" x1=\"656\" x2=\"779\" y1=\"207\" y2=\"207\"/><path d=\"M213.246,57.5 C223.212,57.5 233.177,57.5 243.142,57.5 \" fill=\"none\" style=\"stroke: #A80036; stroke-width: 1.0;\"/><polygon fill=\"#A80036\" points=\"248.354,57.5,239.354,53.5,243.354,57.5,239.354,61.5,248.354,57.5\" style=\"stroke: #A80036; stroke-width: 1.0;\"/><path d=\"M438.568,57.5 C448.571,57.5 458.574,57.5 468.577,57.5 \" fill=\"none\" style=\"stroke: #A80036; stroke-width: 1.0;\"/><polygon fill=\"#A80036\" points=\"473.807,57.5,464.807,53.5,468.807,57.5,464.807,61.5,473.807,57.5\" style=\"stroke: #A80036; stroke-width: 1.0;\"/><path d=\"M458.14,105.815 C457.593,106.215 457.046,106.61 456.5,107 C423.661,130.4325 383.397,151.692 352.001,166.8281 \" fill=\"none\" style=\"stroke: #A80036; stroke-width: 1.0;\"/><polygon fill=\"none\" points=\"453.802,100.32,473.758,93.196,462.6,111.21,453.802,100.32\" style=\"stroke: #A80036; stroke-width: 1.0;\"/><path d=\"M474.493,125.2448 C466.837,140.2717 459.216,155.2292 453.23,166.9769 \" fill=\"none\" style=\"stroke: #A80036; stroke-width: 1.0;\"/><polygon fill=\"none\" points=\"468.425,121.7346,483.742,107.092,480.9,128.0903,468.425,121.7346\" style=\"stroke: #A80036; stroke-width: 1.0;\"/><path d=\"M541.999,125.2448 C549.541,140.2717 557.049,155.2292 562.945,166.9769 \" fill=\"none\" style=\"stroke: #A80036; stroke-width: 1.0;\"/><polygon fill=\"none\" points=\"535.604,128.1071,532.888,107.092,548.116,121.827,535.604,128.1071\" style=\"stroke: #A80036; stroke-width: 1.0;\"/><path d=\"M560.033,90.924 C597.511,114.505 647.345,145.8597 680.826,166.9251 \" fill=\"none\" style=\"stroke: #A80036; stroke-width: 1.0;\"/><polygon fill=\"none\" points=\"556.212,96.79,543.012,80.215,563.668,84.941,556.212,96.79\" style=\"stroke: #A80036; stroke-width: 1.0;\"/></g></svg>"
      ],
      "text/plain": [
       "<IPython.core.display.SVG object>"
      ]
     },
     "execution_count": 3,
     "metadata": {},
     "output_type": "execute_result"
    }
   ],
   "source": [
    "%%plantuml\n",
    "@startuml\n",
    "class PizzaStore {\n",
    "    -factory:SimplePizzaFactory\n",
    "    +PIzzaStore(f:SimplePizzaFactory)\n",
    "    +orderPizza(type:String):Pizza\n",
    "}\n",
    "class SimplePizzaFactory {\n",
    "  +createPizza(type:String):Pizza\n",
    "}\n",
    "class Pizza {\n",
    "  preparte()\n",
    "  bake()\n",
    "  cut()\n",
    "  box()\n",
    "}\n",
    "PizzaStore -> SimplePizzaFactory\n",
    "SimplePizzaFactory -> Pizza\n",
    "Pizza <|-- CheesePizza\n",
    "Pizza <|-- VeggiePizza\n",
    "Pizza <|-- ClamPizza\n",
    "Pizza <|-- PepperoniPizza\n",
    "\n",
    "@enduml"
   ]
  },
  {
   "cell_type": "code",
   "execution_count": 4,
   "metadata": {
    "collapsed": false,
    "slideshow": {
     "slide_type": "slide"
    }
   },
   "outputs": [
    {
     "data": {
      "image/svg+xml": [
       "<svg height=\"329px\" style=\"width:474px;height:329px;\" version=\"1.1\" viewBox=\"0 0 474 329\" width=\"474px\" xmlns=\"http://www.w3.org/2000/svg\" xmlns:xlink=\"http://www.w3.org/1999/xlink\"><defs><filter height=\"300%\" id=\"f1\" width=\"300%\" x=\"-1\" y=\"-1\"><feGaussianBlur result=\"blurOut\" stdDeviation=\"2.0\"/><feColorMatrix in=\"blurOut\" result=\"blurOut2\" type=\"matrix\" values=\"0 0 0 0 0 0 0 0 0 0 0 0 0 0 0 0 0 0 .4 0\"/><feOffset dx=\"4.0\" dy=\"4.0\" in=\"blurOut2\" result=\"blurOut3\"/><feBlend in=\"SourceGraphic\" in2=\"blurOut3\" mode=\"normal\"/></filter></defs><g><line style=\"stroke: #A80036; stroke-width: 1.0; stroke-dasharray: 5.0,5.0;\" x1=\"36\" x2=\"36\" y1=\"38.2969\" y2=\"291.3594\"/><line style=\"stroke: #A80036; stroke-width: 1.0; stroke-dasharray: 5.0,5.0;\" x1=\"150.5\" x2=\"150.5\" y1=\"38.2969\" y2=\"291.3594\"/><line style=\"stroke: #A80036; stroke-width: 1.0; stroke-dasharray: 5.0,5.0;\" x1=\"358\" x2=\"358\" y1=\"38.2969\" y2=\"291.3594\"/><line style=\"stroke: #A80036; stroke-width: 1.0; stroke-dasharray: 5.0,5.0;\" x1=\"442.5\" x2=\"442.5\" y1=\"38.2969\" y2=\"291.3594\"/><rect fill=\"#FEFECE\" filter=\"url(#f1)\" height=\"30.2969\" style=\"stroke: #A80036; stroke-width: 1.5;\" width=\"53\" x=\"8\" y=\"3\"/><text fill=\"#000000\" font-family=\"sans-serif\" font-size=\"14\" lengthAdjust=\"spacingAndGlyphs\" textLength=\"39\" x=\"15\" y=\"22.9951\">Client</text><rect fill=\"#FEFECE\" filter=\"url(#f1)\" height=\"30.2969\" style=\"stroke: #A80036; stroke-width: 1.5;\" width=\"53\" x=\"8\" y=\"290.3594\"/><text fill=\"#000000\" font-family=\"sans-serif\" font-size=\"14\" lengthAdjust=\"spacingAndGlyphs\" textLength=\"39\" x=\"15\" y=\"310.3545\">Client</text><rect fill=\"#FEFECE\" filter=\"url(#f1)\" height=\"30.2969\" style=\"stroke: #A80036; stroke-width: 1.5;\" width=\"146\" x=\"75.5\" y=\"3\"/><text fill=\"#000000\" font-family=\"sans-serif\" font-size=\"14\" lengthAdjust=\"spacingAndGlyphs\" textLength=\"132\" x=\"82.5\" y=\"22.9951\">SimplePizzaFactory</text><rect fill=\"#FEFECE\" filter=\"url(#f1)\" height=\"30.2969\" style=\"stroke: #A80036; stroke-width: 1.5;\" width=\"146\" x=\"75.5\" y=\"290.3594\"/><text fill=\"#000000\" font-family=\"sans-serif\" font-size=\"14\" lengthAdjust=\"spacingAndGlyphs\" textLength=\"132\" x=\"82.5\" y=\"310.3545\">SimplePizzaFactory</text><rect fill=\"#FEFECE\" filter=\"url(#f1)\" height=\"30.2969\" style=\"stroke: #A80036; stroke-width: 1.5;\" width=\"87\" x=\"313\" y=\"3\"/><text fill=\"#000000\" font-family=\"sans-serif\" font-size=\"14\" lengthAdjust=\"spacingAndGlyphs\" textLength=\"73\" x=\"320\" y=\"22.9951\">PizzaStore</text><rect fill=\"#FEFECE\" filter=\"url(#f1)\" height=\"30.2969\" style=\"stroke: #A80036; stroke-width: 1.5;\" width=\"87\" x=\"313\" y=\"290.3594\"/><text fill=\"#000000\" font-family=\"sans-serif\" font-size=\"14\" lengthAdjust=\"spacingAndGlyphs\" textLength=\"73\" x=\"320\" y=\"310.3545\">PizzaStore</text><rect fill=\"#FEFECE\" filter=\"url(#f1)\" height=\"30.2969\" style=\"stroke: #A80036; stroke-width: 1.5;\" width=\"50\" x=\"415.5\" y=\"3\"/><text fill=\"#000000\" font-family=\"sans-serif\" font-size=\"14\" lengthAdjust=\"spacingAndGlyphs\" textLength=\"36\" x=\"422.5\" y=\"22.9951\">Pizza</text><rect fill=\"#FEFECE\" filter=\"url(#f1)\" height=\"30.2969\" style=\"stroke: #A80036; stroke-width: 1.5;\" width=\"50\" x=\"415.5\" y=\"290.3594\"/><text fill=\"#000000\" font-family=\"sans-serif\" font-size=\"14\" lengthAdjust=\"spacingAndGlyphs\" textLength=\"36\" x=\"422.5\" y=\"310.3545\">Pizza</text><polygon fill=\"#A80036\" points=\"138.5,65.2969,148.5,69.2969,138.5,73.2969,142.5,69.2969\" style=\"stroke: #A80036; stroke-width: 1.0;\"/><line style=\"stroke: #A80036; stroke-width: 1.0;\" x1=\"36.5\" x2=\"144.5\" y1=\"69.2969\" y2=\"69.2969\"/><text fill=\"#000000\" font-family=\"sans-serif\" font-size=\"13\" lengthAdjust=\"spacingAndGlyphs\" textLength=\"90\" x=\"43.5\" y=\"64.3638\">factory=new()</text><polygon fill=\"#A80036\" points=\"346.5,94.4297,356.5,98.4297,346.5,102.4297,350.5,98.4297\" style=\"stroke: #A80036; stroke-width: 1.0;\"/><line style=\"stroke: #A80036; stroke-width: 1.0;\" x1=\"36.5\" x2=\"352.5\" y1=\"98.4297\" y2=\"98.4297\"/><text fill=\"#000000\" font-family=\"sans-serif\" font-size=\"13\" lengthAdjust=\"spacingAndGlyphs\" textLength=\"79\" x=\"43.5\" y=\"93.4966\">new(factory)</text><polygon fill=\"#A80036\" points=\"346.5,123.5625,356.5,127.5625,346.5,131.5625,350.5,127.5625\" style=\"stroke: #A80036; stroke-width: 1.0;\"/><line style=\"stroke: #A80036; stroke-width: 1.0;\" x1=\"36.5\" x2=\"352.5\" y1=\"127.5625\" y2=\"127.5625\"/><text fill=\"#000000\" font-family=\"sans-serif\" font-size=\"13\" lengthAdjust=\"spacingAndGlyphs\" textLength=\"133\" x=\"43.5\" y=\"122.6294\">orderPizza(&quot;cheese&quot;)</text><polygon fill=\"#A80036\" points=\"161.5,152.6953,151.5,156.6953,161.5,160.6953,157.5,156.6953\" style=\"stroke: #A80036; stroke-width: 1.0;\"/><line style=\"stroke: #A80036; stroke-width: 1.0;\" x1=\"155.5\" x2=\"357.5\" y1=\"156.6953\" y2=\"156.6953\"/><text fill=\"#000000\" font-family=\"sans-serif\" font-size=\"13\" lengthAdjust=\"spacingAndGlyphs\" textLength=\"184\" x=\"167.5\" y=\"151.7622\">pizza=createPizza(&quot;cheese&quot;)</text><polygon fill=\"#A80036\" points=\"430.5,181.8281,440.5,185.8281,430.5,189.8281,434.5,185.8281\" style=\"stroke: #A80036; stroke-width: 1.0;\"/><line style=\"stroke: #A80036; stroke-width: 1.0;\" x1=\"358.5\" x2=\"436.5\" y1=\"185.8281\" y2=\"185.8281\"/><text fill=\"#000000\" font-family=\"sans-serif\" font-size=\"13\" lengthAdjust=\"spacingAndGlyphs\" textLength=\"60\" x=\"365.5\" y=\"180.895\">prepare()</text><polygon fill=\"#A80036\" points=\"430.5,210.9609,440.5,214.9609,430.5,218.9609,434.5,214.9609\" style=\"stroke: #A80036; stroke-width: 1.0;\"/><line style=\"stroke: #A80036; stroke-width: 1.0;\" x1=\"358.5\" x2=\"436.5\" y1=\"214.9609\" y2=\"214.9609\"/><text fill=\"#000000\" font-family=\"sans-serif\" font-size=\"13\" lengthAdjust=\"spacingAndGlyphs\" textLength=\"41\" x=\"365.5\" y=\"210.0278\">bake()</text><polygon fill=\"#A80036\" points=\"430.5,240.0938,440.5,244.0938,430.5,248.0938,434.5,244.0938\" style=\"stroke: #A80036; stroke-width: 1.0;\"/><line style=\"stroke: #A80036; stroke-width: 1.0;\" x1=\"358.5\" x2=\"436.5\" y1=\"244.0938\" y2=\"244.0938\"/><text fill=\"#000000\" font-family=\"sans-serif\" font-size=\"13\" lengthAdjust=\"spacingAndGlyphs\" textLength=\"30\" x=\"365.5\" y=\"239.1606\">cut()</text><polygon fill=\"#A80036\" points=\"430.5,269.2266,440.5,273.2266,430.5,277.2266,434.5,273.2266\" style=\"stroke: #A80036; stroke-width: 1.0;\"/><line style=\"stroke: #A80036; stroke-width: 1.0;\" x1=\"358.5\" x2=\"436.5\" y1=\"273.2266\" y2=\"273.2266\"/><text fill=\"#000000\" font-family=\"sans-serif\" font-size=\"13\" lengthAdjust=\"spacingAndGlyphs\" textLength=\"33\" x=\"365.5\" y=\"268.2935\">box()</text></g></svg>"
      ],
      "text/plain": [
       "<IPython.core.display.SVG object>"
      ]
     },
     "execution_count": 4,
     "metadata": {},
     "output_type": "execute_result"
    }
   ],
   "source": [
    "%%plantuml\n",
    "@startuml\n",
    "Client -> SimplePizzaFactory:factory=new()\n",
    "Client -> PizzaStore:new(factory)\n",
    "Client -> PizzaStore:orderPizza(\"cheese\")\n",
    "PizzaStore -> SimplePizzaFactory:pizza=createPizza(\"cheese\")\n",
    "PizzaStore -> Pizza:prepare()\n",
    "PizzaStore -> Pizza:bake()\n",
    "PizzaStore -> Pizza:cut()\n",
    "PizzaStore -> Pizza:box()\n",
    "@enduml"
   ]
  },
  {
   "cell_type": "markdown",
   "metadata": {
    "slideshow": {
     "slide_type": "slide"
    }
   },
   "source": [
    "### F.3.2 factory method\n",
    "\n",
    "* PizzaStore가 pizza를 생성하는 추상함수를 가진다. 이를 factory method라고 한다.\n",
    "```\n",
    "abstract Pizza createPizza(String type)\n",
    "```\n",
    "\n",
    "* factory method는 추상함수라서 실제 product이 실행시점에 결정된다.\n",
    "    * PizzaStore에서 상속을 받아, 자식클래스가 실제 사용할 product 클래스를 생성한다.\n",
    "    * 주문이 발생하는 orderPizza()가 호출되는 시점에 pizza가 createPizza()를 통해 실제 만들 product 클래스가 생성된다."
   ]
  },
  {
   "cell_type": "code",
   "execution_count": 5,
   "metadata": {
    "collapsed": false,
    "slideshow": {
     "slide_type": "subslide"
    }
   },
   "outputs": [
    {
     "data": {
      "image/svg+xml": [
       "<svg height=\"467px\" style=\"width:1100px;height:467px;\" version=\"1.1\" viewBox=\"0 0 1100 467\" width=\"1100px\" xmlns=\"http://www.w3.org/2000/svg\" xmlns:xlink=\"http://www.w3.org/1999/xlink\"><defs><filter height=\"300%\" id=\"f1\" width=\"300%\" x=\"-1\" y=\"-1\"><feGaussianBlur result=\"blurOut\" stdDeviation=\"2.0\"/><feColorMatrix in=\"blurOut\" result=\"blurOut2\" type=\"matrix\" values=\"0 0 0 0 0 0 0 0 0 0 0 0 0 0 0 0 0 0 .4 0\"/><feOffset dx=\"4.0\" dy=\"4.0\" in=\"blurOut2\" result=\"blurOut3\"/><feBlend in=\"SourceGraphic\" in2=\"blurOut3\" mode=\"normal\"/></filter></defs><g><rect fill=\"#FEFECE\" filter=\"url(#f1)\" height=\"73.6094\" style=\"stroke: #A80036; stroke-width: 1.5;\" width=\"165\" x=\"314\" y=\"44\"/><ellipse cx=\"360.25\" cy=\"60\" fill=\"#A9DCDF\" rx=\"11\" ry=\"11\" style=\"stroke: #A80036; stroke-width: 1.0;\"/><path d=\"M360.3594,55.3438 L359.2031,60.4219 L361.5313,60.4219 L360.3594,55.3438 Z M358.875,53.1094 L361.8594,53.1094 L365.2188,65.5 L362.7656,65.5 L362,62.4375 L358.7188,62.4375 L357.9688,65.5 L355.5313,65.5 L358.875,53.1094 Z \"/><text fill=\"#000000\" font-family=\"sans-serif\" font-size=\"12\" font-style=\"italic\" lengthAdjust=\"spacingAndGlyphs\" textLength=\"64\" x=\"380.75\" y=\"64.1543\">PizzaStore</text><line style=\"stroke: #A80036; stroke-width: 1.5;\" x1=\"315\" x2=\"478\" y1=\"76\" y2=\"76\"/><line style=\"stroke: #A80036; stroke-width: 1.5;\" x1=\"315\" x2=\"478\" y1=\"84\" y2=\"84\"/><rect fill=\"#F24D5C\" height=\"6\" style=\"stroke: #C82930; stroke-width: 1.0;\" width=\"6\" x=\"322\" y=\"92.9023\"/><text fill=\"#000000\" font-family=\"sans-serif\" font-size=\"11\" font-style=\"italic\" lengthAdjust=\"spacingAndGlyphs\" textLength=\"139\" x=\"334\" y=\"98.2104\">createPizza(String):Pizza</text><ellipse cx=\"325\" cy=\"108.707\" fill=\"#84BE84\" rx=\"3\" ry=\"3\" style=\"stroke: #038048; stroke-width: 1.0;\"/><text fill=\"#000000\" font-family=\"sans-serif\" font-size=\"11\" lengthAdjust=\"spacingAndGlyphs\" textLength=\"131\" x=\"334\" y=\"111.0151\">orderPizza(String):Pizza</text><rect fill=\"#FEFECE\" filter=\"url(#f1)\" height=\"48\" style=\"stroke: #A80036; stroke-width: 1.5;\" width=\"111\" x=\"89\" y=\"255.5\"/><ellipse cx=\"104\" cy=\"271.5\" fill=\"#ADD1B2\" rx=\"11\" ry=\"11\" style=\"stroke: #A80036; stroke-width: 1.0;\"/><path d=\"M106.9688,277.1406 Q106.3906,277.4375 105.75,277.5859 Q105.1094,277.7344 104.4063,277.7344 Q101.9063,277.7344 100.5859,276.0859 Q99.2656,274.4375 99.2656,271.3125 Q99.2656,268.1875 100.5859,266.5313 Q101.9063,264.875 104.4063,264.875 Q105.1094,264.875 105.7578,265.0313 Q106.4063,265.1875 106.9688,265.4844 L106.9688,268.2031 Q106.3438,267.625 105.75,267.3516 Q105.1563,267.0781 104.5313,267.0781 Q103.1875,267.0781 102.5,268.1484 Q101.8125,269.2188 101.8125,271.3125 Q101.8125,273.4063 102.5,274.4766 Q103.1875,275.5469 104.5313,275.5469 Q105.1563,275.5469 105.75,275.2734 Q106.3438,275 106.9688,274.4219 L106.9688,277.1406 Z \"/><text fill=\"#000000\" font-family=\"sans-serif\" font-size=\"12\" lengthAdjust=\"spacingAndGlyphs\" textLength=\"79\" x=\"118\" y=\"275.6543\">NYPizzaStore</text><line style=\"stroke: #A80036; stroke-width: 1.5;\" x1=\"90\" x2=\"199\" y1=\"287.5\" y2=\"287.5\"/><line style=\"stroke: #A80036; stroke-width: 1.5;\" x1=\"90\" x2=\"199\" y1=\"295.5\" y2=\"295.5\"/><rect fill=\"#FEFECE\" filter=\"url(#f1)\" height=\"48\" style=\"stroke: #A80036; stroke-width: 1.5;\" width=\"145\" x=\"575\" y=\"255.5\"/><ellipse cx=\"590\" cy=\"271.5\" fill=\"#ADD1B2\" rx=\"11\" ry=\"11\" style=\"stroke: #A80036; stroke-width: 1.0;\"/><path d=\"M592.9688,277.1406 Q592.3906,277.4375 591.75,277.5859 Q591.1094,277.7344 590.4063,277.7344 Q587.9063,277.7344 586.5859,276.0859 Q585.2656,274.4375 585.2656,271.3125 Q585.2656,268.1875 586.5859,266.5313 Q587.9063,264.875 590.4063,264.875 Q591.1094,264.875 591.7578,265.0313 Q592.4063,265.1875 592.9688,265.4844 L592.9688,268.2031 Q592.3438,267.625 591.75,267.3516 Q591.1563,267.0781 590.5313,267.0781 Q589.1875,267.0781 588.5,268.1484 Q587.8125,269.2188 587.8125,271.3125 Q587.8125,273.4063 588.5,274.4766 Q589.1875,275.5469 590.5313,275.5469 Q591.1563,275.5469 591.75,275.2734 Q592.3438,275 592.9688,274.4219 L592.9688,277.1406 Z \"/><text fill=\"#000000\" font-family=\"sans-serif\" font-size=\"12\" lengthAdjust=\"spacingAndGlyphs\" textLength=\"113\" x=\"604\" y=\"275.6543\">ChicagoPizzaStore</text><line style=\"stroke: #A80036; stroke-width: 1.5;\" x1=\"576\" x2=\"719\" y1=\"287.5\" y2=\"287.5\"/><line style=\"stroke: #A80036; stroke-width: 1.5;\" x1=\"576\" x2=\"719\" y1=\"295.5\" y2=\"295.5\"/><rect fill=\"#FEFECE\" filter=\"url(#f1)\" height=\"48\" style=\"stroke: #A80036; stroke-width: 1.5;\" width=\"61\" x=\"858\" y=\"57\"/><ellipse cx=\"873\" cy=\"73\" fill=\"#ADD1B2\" rx=\"11\" ry=\"11\" style=\"stroke: #A80036; stroke-width: 1.0;\"/><path d=\"M875.9688,78.6406 Q875.3906,78.9375 874.75,79.0859 Q874.1094,79.2344 873.4063,79.2344 Q870.9063,79.2344 869.5859,77.5859 Q868.2656,75.9375 868.2656,72.8125 Q868.2656,69.6875 869.5859,68.0313 Q870.9063,66.375 873.4063,66.375 Q874.1094,66.375 874.7578,66.5313 Q875.4063,66.6875 875.9688,66.9844 L875.9688,69.7031 Q875.3438,69.125 874.75,68.8516 Q874.1563,68.5781 873.5313,68.5781 Q872.1875,68.5781 871.5,69.6484 Q870.8125,70.7188 870.8125,72.8125 Q870.8125,74.9063 871.5,75.9766 Q872.1875,77.0469 873.5313,77.0469 Q874.1563,77.0469 874.75,76.7734 Q875.3438,76.5 875.9688,75.9219 L875.9688,78.6406 Z \"/><text fill=\"#000000\" font-family=\"sans-serif\" font-size=\"12\" lengthAdjust=\"spacingAndGlyphs\" textLength=\"29\" x=\"887\" y=\"77.1543\">Pizza</text><line style=\"stroke: #A80036; stroke-width: 1.5;\" x1=\"859\" x2=\"918\" y1=\"89\" y2=\"89\"/><line style=\"stroke: #A80036; stroke-width: 1.5;\" x1=\"859\" x2=\"918\" y1=\"97\" y2=\"97\"/><rect fill=\"#FEFECE\" filter=\"url(#f1)\" height=\"53.9375\" style=\"stroke: #A80036; stroke-width: 1.5;\" width=\"112\" x=\"755.5\" y=\"252.5\"/><ellipse cx=\"770.5\" cy=\"271.4688\" fill=\"#ADD1B2\" rx=\"11\" ry=\"11\" style=\"stroke: #A80036; stroke-width: 1.0;\"/><path d=\"M773.4688,277.1094 Q772.8906,277.4063 772.25,277.5547 Q771.6094,277.7031 770.9063,277.7031 Q768.4063,277.7031 767.0859,276.0547 Q765.7656,274.4063 765.7656,271.2813 Q765.7656,268.1563 767.0859,266.5 Q768.4063,264.8438 770.9063,264.8438 Q771.6094,264.8438 772.2578,265 Q772.9063,265.1563 773.4688,265.4531 L773.4688,268.1719 Q772.8438,267.5938 772.25,267.3203 Q771.6563,267.0469 771.0313,267.0469 Q769.6875,267.0469 769,268.1172 Q768.3125,269.1875 768.3125,271.2813 Q768.3125,273.375 769,274.4453 Q769.6875,275.5156 771.0313,275.5156 Q771.6563,275.5156 772.25,275.2422 Q772.8438,274.9688 773.4688,274.3906 L773.4688,277.1094 Z \"/><text fill=\"#000000\" font-family=\"sans-serif\" font-size=\"12\" lengthAdjust=\"spacingAndGlyphs\" textLength=\"80\" x=\"784.5\" y=\"268.6387\">ChicagoStyle</text><text fill=\"#000000\" font-family=\"sans-serif\" font-size=\"12\" lengthAdjust=\"spacingAndGlyphs\" textLength=\"29\" x=\"810\" y=\"282.6074\">Pizza</text><line style=\"stroke: #A80036; stroke-width: 1.5;\" x1=\"756.5\" x2=\"866.5\" y1=\"290.4375\" y2=\"290.4375\"/><line style=\"stroke: #A80036; stroke-width: 1.5;\" x1=\"756.5\" x2=\"866.5\" y1=\"298.4375\" y2=\"298.4375\"/><rect fill=\"#FEFECE\" filter=\"url(#f1)\" height=\"53.9375\" style=\"stroke: #A80036; stroke-width: 1.5;\" width=\"125\" x=\"903\" y=\"252.5\"/><ellipse cx=\"918\" cy=\"271.4688\" fill=\"#ADD1B2\" rx=\"11\" ry=\"11\" style=\"stroke: #A80036; stroke-width: 1.0;\"/><path d=\"M920.9688,277.1094 Q920.3906,277.4063 919.75,277.5547 Q919.1094,277.7031 918.4063,277.7031 Q915.9063,277.7031 914.5859,276.0547 Q913.2656,274.4063 913.2656,271.2813 Q913.2656,268.1563 914.5859,266.5 Q915.9063,264.8438 918.4063,264.8438 Q919.1094,264.8438 919.7578,265 Q920.4063,265.1563 920.9688,265.4531 L920.9688,268.1719 Q920.3438,267.5938 919.75,267.3203 Q919.1563,267.0469 918.5313,267.0469 Q917.1875,267.0469 916.5,268.1172 Q915.8125,269.1875 915.8125,271.2813 Q915.8125,273.375 916.5,274.4453 Q917.1875,275.5156 918.5313,275.5156 Q919.1563,275.5156 919.75,275.2422 Q920.3438,274.9688 920.9688,274.3906 L920.9688,277.1094 Z \"/><text fill=\"#000000\" font-family=\"sans-serif\" font-size=\"12\" lengthAdjust=\"spacingAndGlyphs\" textLength=\"93\" x=\"932\" y=\"268.6387\">NYStyleCheese</text><text fill=\"#000000\" font-family=\"sans-serif\" font-size=\"12\" lengthAdjust=\"spacingAndGlyphs\" textLength=\"29\" x=\"964\" y=\"282.6074\">Pizza</text><line style=\"stroke: #A80036; stroke-width: 1.5;\" x1=\"904\" x2=\"1027\" y1=\"290.4375\" y2=\"290.4375\"/><line style=\"stroke: #A80036; stroke-width: 1.5;\" x1=\"904\" x2=\"1027\" y1=\"298.4375\" y2=\"298.4375\"/><rect fill=\"#FEFECE\" filter=\"url(#f1)\" height=\"53.9375\" style=\"stroke: #A80036; stroke-width: 1.5;\" width=\"112\" x=\"524.5\" y=\"405\"/><ellipse cx=\"539.5\" cy=\"423.9688\" fill=\"#ADD1B2\" rx=\"11\" ry=\"11\" style=\"stroke: #A80036; stroke-width: 1.0;\"/><path d=\"M542.4688,429.6094 Q541.8906,429.9063 541.25,430.0547 Q540.6094,430.2031 539.9063,430.2031 Q537.4063,430.2031 536.0859,428.5547 Q534.7656,426.9063 534.7656,423.7813 Q534.7656,420.6563 536.0859,419 Q537.4063,417.3438 539.9063,417.3438 Q540.6094,417.3438 541.2578,417.5 Q541.9063,417.6563 542.4688,417.9531 L542.4688,420.6719 Q541.8438,420.0938 541.25,419.8203 Q540.6563,419.5469 540.0313,419.5469 Q538.6875,419.5469 538,420.6172 Q537.3125,421.6875 537.3125,423.7813 Q537.3125,425.875 538,426.9453 Q538.6875,428.0156 540.0313,428.0156 Q540.6563,428.0156 541.25,427.7422 Q541.8438,427.4688 542.4688,426.8906 L542.4688,429.6094 Z \"/><text fill=\"#000000\" font-family=\"sans-serif\" font-size=\"12\" lengthAdjust=\"spacingAndGlyphs\" textLength=\"80\" x=\"553.5\" y=\"421.1387\">ChicagoStyle</text><text fill=\"#000000\" font-family=\"sans-serif\" font-size=\"12\" lengthAdjust=\"spacingAndGlyphs\" textLength=\"76\" x=\"555.5\" y=\"435.1074\">CheesePizza</text><line style=\"stroke: #A80036; stroke-width: 1.5;\" x1=\"525.5\" x2=\"635.5\" y1=\"442.9375\" y2=\"442.9375\"/><line style=\"stroke: #A80036; stroke-width: 1.5;\" x1=\"525.5\" x2=\"635.5\" y1=\"450.9375\" y2=\"450.9375\"/><rect fill=\"#FEFECE\" filter=\"url(#f1)\" height=\"53.9375\" style=\"stroke: #A80036; stroke-width: 1.5;\" width=\"125\" x=\"672\" y=\"405\"/><ellipse cx=\"687\" cy=\"423.9688\" fill=\"#ADD1B2\" rx=\"11\" ry=\"11\" style=\"stroke: #A80036; stroke-width: 1.0;\"/><path d=\"M689.9688,429.6094 Q689.3906,429.9063 688.75,430.0547 Q688.1094,430.2031 687.4063,430.2031 Q684.9063,430.2031 683.5859,428.5547 Q682.2656,426.9063 682.2656,423.7813 Q682.2656,420.6563 683.5859,419 Q684.9063,417.3438 687.4063,417.3438 Q688.1094,417.3438 688.7578,417.5 Q689.4063,417.6563 689.9688,417.9531 L689.9688,420.6719 Q689.3438,420.0938 688.75,419.8203 Q688.1563,419.5469 687.5313,419.5469 Q686.1875,419.5469 685.5,420.6172 Q684.8125,421.6875 684.8125,423.7813 Q684.8125,425.875 685.5,426.9453 Q686.1875,428.0156 687.5313,428.0156 Q688.1563,428.0156 688.75,427.7422 Q689.3438,427.4688 689.9688,426.8906 L689.9688,429.6094 Z \"/><text fill=\"#000000\" font-family=\"sans-serif\" font-size=\"12\" lengthAdjust=\"spacingAndGlyphs\" textLength=\"80\" x=\"707.5\" y=\"421.1387\">ChicagoStyle</text><text fill=\"#000000\" font-family=\"sans-serif\" font-size=\"12\" lengthAdjust=\"spacingAndGlyphs\" textLength=\"93\" x=\"701\" y=\"435.1074\">PepperoniPizza</text><line style=\"stroke: #A80036; stroke-width: 1.5;\" x1=\"673\" x2=\"796\" y1=\"442.9375\" y2=\"442.9375\"/><line style=\"stroke: #A80036; stroke-width: 1.5;\" x1=\"673\" x2=\"796\" y1=\"450.9375\" y2=\"450.9375\"/><rect fill=\"#FEFECE\" filter=\"url(#f1)\" height=\"53.9375\" style=\"stroke: #A80036; stroke-width: 1.5;\" width=\"112\" x=\"832.5\" y=\"405\"/><ellipse cx=\"847.5\" cy=\"423.9688\" fill=\"#ADD1B2\" rx=\"11\" ry=\"11\" style=\"stroke: #A80036; stroke-width: 1.0;\"/><path d=\"M850.4688,429.6094 Q849.8906,429.9063 849.25,430.0547 Q848.6094,430.2031 847.9063,430.2031 Q845.4063,430.2031 844.0859,428.5547 Q842.7656,426.9063 842.7656,423.7813 Q842.7656,420.6563 844.0859,419 Q845.4063,417.3438 847.9063,417.3438 Q848.6094,417.3438 849.2578,417.5 Q849.9063,417.6563 850.4688,417.9531 L850.4688,420.6719 Q849.8438,420.0938 849.25,419.8203 Q848.6563,419.5469 848.0313,419.5469 Q846.6875,419.5469 846,420.6172 Q845.3125,421.6875 845.3125,423.7813 Q845.3125,425.875 846,426.9453 Q846.6875,428.0156 848.0313,428.0156 Q848.6563,428.0156 849.25,427.7422 Q849.8438,427.4688 850.4688,426.8906 L850.4688,429.6094 Z \"/><text fill=\"#000000\" font-family=\"sans-serif\" font-size=\"12\" lengthAdjust=\"spacingAndGlyphs\" textLength=\"80\" x=\"861.5\" y=\"421.1387\">ChicagoStyle</text><text fill=\"#000000\" font-family=\"sans-serif\" font-size=\"12\" lengthAdjust=\"spacingAndGlyphs\" textLength=\"59\" x=\"872\" y=\"435.1074\">ClamPizza</text><line style=\"stroke: #A80036; stroke-width: 1.5;\" x1=\"833.5\" x2=\"943.5\" y1=\"442.9375\" y2=\"442.9375\"/><line style=\"stroke: #A80036; stroke-width: 1.5;\" x1=\"833.5\" x2=\"943.5\" y1=\"450.9375\" y2=\"450.9375\"/><rect fill=\"#FEFECE\" filter=\"url(#f1)\" height=\"53.9375\" style=\"stroke: #A80036; stroke-width: 1.5;\" width=\"112\" x=\"979.5\" y=\"405\"/><ellipse cx=\"994.5\" cy=\"423.9688\" fill=\"#ADD1B2\" rx=\"11\" ry=\"11\" style=\"stroke: #A80036; stroke-width: 1.0;\"/><path d=\"M997.4688,429.6094 Q996.8906,429.9063 996.25,430.0547 Q995.6094,430.2031 994.9063,430.2031 Q992.4063,430.2031 991.0859,428.5547 Q989.7656,426.9063 989.7656,423.7813 Q989.7656,420.6563 991.0859,419 Q992.4063,417.3438 994.9063,417.3438 Q995.6094,417.3438 996.2578,417.5 Q996.9063,417.6563 997.4688,417.9531 L997.4688,420.6719 Q996.8438,420.0938 996.25,419.8203 Q995.6563,419.5469 995.0313,419.5469 Q993.6875,419.5469 993,420.6172 Q992.3125,421.6875 992.3125,423.7813 Q992.3125,425.875 993,426.9453 Q993.6875,428.0156 995.0313,428.0156 Q995.6563,428.0156 996.25,427.7422 Q996.8438,427.4688 997.4688,426.8906 L997.4688,429.6094 Z \"/><text fill=\"#000000\" font-family=\"sans-serif\" font-size=\"12\" lengthAdjust=\"spacingAndGlyphs\" textLength=\"80\" x=\"1008.5\" y=\"421.1387\">ChicagoStyle</text><text fill=\"#000000\" font-family=\"sans-serif\" font-size=\"12\" lengthAdjust=\"spacingAndGlyphs\" textLength=\"72\" x=\"1012.5\" y=\"435.1074\">VeggiePizza</text><line style=\"stroke: #A80036; stroke-width: 1.5;\" x1=\"980.5\" x2=\"1090.5\" y1=\"442.9375\" y2=\"442.9375\"/><line style=\"stroke: #A80036; stroke-width: 1.5;\" x1=\"980.5\" x2=\"1090.5\" y1=\"450.9375\" y2=\"450.9375\"/><polygon fill=\"#FBFB77\" filter=\"url(#f1)\" points=\"6,8,6,154.1953,279,154.1953,279,18,269,8,6,8\" style=\"stroke: #A80036; stroke-width: 1.0;\"/><polygon fill=\"#FBFB77\" points=\"6,8,6,154.1953,279,154.1953,279,85,313.722,81,279,77,279,18,269,8,6,8\" style=\"stroke: #A80036; stroke-width: 1.0;\"/><line style=\"stroke: #A80036; stroke-width: 1.0;\" x1=\"269\" x2=\"269\" y1=\"8\" y2=\"18\"/><line style=\"stroke: #A80036; stroke-width: 1.0;\" x1=\"279\" x2=\"269\" y1=\"18\" y2=\"18\"/><text fill=\"#000000\" font-family=\"sans-serif\" font-size=\"13\" lengthAdjust=\"spacingAndGlyphs\" textLength=\"252\" x=\"12\" y=\"25.0669\">&quot;&quot;&quot;public Pizza orderPizza(String type) {</text><text fill=\"#000000\" font-family=\"sans-serif\" font-size=\"13\" lengthAdjust=\"spacingAndGlyphs\" textLength=\"74\" x=\"28\" y=\"40.1997\">Pizza pizza;</text><text fill=\"#000000\" font-family=\"sans-serif\" font-size=\"13\" lengthAdjust=\"spacingAndGlyphs\" textLength=\"160\" x=\"28\" y=\"55.3325\">pizza=createPizza(type);</text><text fill=\"#000000\" font-family=\"sans-serif\" font-size=\"13\" lengthAdjust=\"spacingAndGlyphs\" textLength=\"101\" x=\"28\" y=\"70.4653\">pizza.prepare();</text><text fill=\"#000000\" font-family=\"sans-serif\" font-size=\"13\" lengthAdjust=\"spacingAndGlyphs\" textLength=\"82\" x=\"28\" y=\"85.5981\">pizza.bake();</text><text fill=\"#000000\" font-family=\"sans-serif\" font-size=\"13\" lengthAdjust=\"spacingAndGlyphs\" textLength=\"71\" x=\"28\" y=\"100.731\">pizza.cut();</text><text fill=\"#000000\" font-family=\"sans-serif\" font-size=\"13\" lengthAdjust=\"spacingAndGlyphs\" textLength=\"74\" x=\"28\" y=\"115.8638\">pizza.box();</text><text fill=\"#000000\" font-family=\"sans-serif\" font-size=\"13\" lengthAdjust=\"spacingAndGlyphs\" textLength=\"80\" x=\"28\" y=\"130.9966\">return pizza;</text><text fill=\"#000000\" font-family=\"sans-serif\" font-size=\"13\" lengthAdjust=\"spacingAndGlyphs\" textLength=\"23\" x=\"12\" y=\"146.1294\">}&quot;&quot;&quot;</text><polygon fill=\"#FBFB77\" filter=\"url(#f1)\" points=\"235.5,214,235.5,345.0625,539.5,345.0625,539.5,224,529.5,214,235.5,214\" style=\"stroke: #A80036; stroke-width: 1.0;\"/><polygon fill=\"#FBFB77\" points=\"235.5,214,235.5,345.0625,539.5,345.0625,539.5,283.5,574.998,279.5,539.5,275.5,539.5,224,529.5,214,235.5,214\" style=\"stroke: #A80036; stroke-width: 1.0;\"/><line style=\"stroke: #A80036; stroke-width: 1.0;\" x1=\"529.5\" x2=\"529.5\" y1=\"214\" y2=\"224\"/><line style=\"stroke: #A80036; stroke-width: 1.0;\" x1=\"539.5\" x2=\"529.5\" y1=\"224\" y2=\"224\"/><text fill=\"#000000\" font-family=\"sans-serif\" font-size=\"13\" lengthAdjust=\"spacingAndGlyphs\" textLength=\"15\" x=\"241.5\" y=\"231.0669\">&quot;&quot;&quot;</text><text fill=\"#000000\" font-family=\"sans-serif\" font-size=\"13\" font-weight=\"bold\" lengthAdjust=\"spacingAndGlyphs\" textLength=\"114\" x=\"256.5\" y=\"231.0669\">factory method</text><text fill=\"#000000\" font-family=\"sans-serif\" font-size=\"13\" lengthAdjust=\"spacingAndGlyphs\" textLength=\"203\" x=\"241.5\" y=\"246.1997\">Pizza createPizza(String type) {</text><text fill=\"#000000\" font-family=\"sans-serif\" font-size=\"13\" lengthAdjust=\"spacingAndGlyphs\" textLength=\"107\" x=\"257.5\" y=\"261.3325\">Pizza pizza=null;</text><text fill=\"#000000\" font-family=\"sans-serif\" font-size=\"13\" lengthAdjust=\"spacingAndGlyphs\" textLength=\"157\" x=\"257.5\" y=\"276.4653\">if(type.equals(&quot;cheese&quot;))</text><text fill=\"#000000\" font-family=\"sans-serif\" font-size=\"13\" lengthAdjust=\"spacingAndGlyphs\" textLength=\"251\" x=\"273.5\" y=\"291.5981\">pizza=new ChicagoStyleCheesePizza();</text><text fill=\"#000000\" font-family=\"sans-serif\" font-size=\"13\" lengthAdjust=\"spacingAndGlyphs\" textLength=\"20\" x=\"257.5\" y=\"306.731\">.....</text><text fill=\"#000000\" font-family=\"sans-serif\" font-size=\"13\" lengthAdjust=\"spacingAndGlyphs\" textLength=\"76\" x=\"257.5\" y=\"321.8638\">return pizza</text><text fill=\"#000000\" font-family=\"sans-serif\" font-size=\"13\" lengthAdjust=\"spacingAndGlyphs\" textLength=\"23\" x=\"241.5\" y=\"336.9966\">}&quot;&quot;&quot;</text><path d=\"M330.419,129.797 C288.415,160.358 238.182,197.291 217.5,214 C201.188,227.179 183.551,242.723 169.699,255.25 \" fill=\"none\" style=\"stroke: #A80036; stroke-width: 1.0;\"/><polygon fill=\"none\" points=\"326.328,124.117,346.623,118.025,334.556,135.443,326.328,124.117\" style=\"stroke: #A80036; stroke-width: 1.0;\"/><path d=\"M458.296,130.378 C509.078,170.134 578.795,224.713 617.865,255.299 \" fill=\"none\" style=\"stroke: #A80036; stroke-width: 1.0;\"/><polygon fill=\"none\" points=\"453.97,135.882,442.537,118.041,462.6,124.858,453.97,135.882\" style=\"stroke: #A80036; stroke-width: 1.0;\"/><path d=\"M872.007,124.088 C856.754,163.013 834.563,219.646 821.723,252.411 \" fill=\"none\" style=\"stroke: #A80036; stroke-width: 1.0;\"/><polygon fill=\"none\" points=\"865.55,121.38,879.365,105.313,878.585,126.488,865.55,121.38\" style=\"stroke: #A80036; stroke-width: 1.0;\"/><path d=\"M904.993,124.088 C920.246,163.013 942.437,219.646 955.277,252.411 \" fill=\"none\" style=\"stroke: #A80036; stroke-width: 1.0;\"/><polygon fill=\"none\" points=\"898.415,126.488,897.635,105.313,911.45,121.38,898.415,126.488\" style=\"stroke: #A80036; stroke-width: 1.0;\"/><path d=\"M768.897,320.377 C758.923,328.926 748.105,337.603 737.5,345 C704.999,367.668 665.928,389.0889 634.894,404.8821 \" fill=\"none\" style=\"stroke: #A80036; stroke-width: 1.0;\"/><polygon fill=\"none\" points=\"764.596,314.835,784.207,306.808,773.882,325.312,764.596,314.835\" style=\"stroke: #A80036; stroke-width: 1.0;\"/><path d=\"M788.847,324.776 C775.536,350.794 759.163,382.7951 747.888,404.8333 \" fill=\"none\" style=\"stroke: #A80036; stroke-width: 1.0;\"/><polygon fill=\"none\" points=\"782.746,321.332,798.088,306.715,795.21,327.708,782.746,321.332\" style=\"stroke: #A80036; stroke-width: 1.0;\"/><path d=\"M834.153,324.776 C847.464,350.794 863.837,382.7951 875.112,404.8333 \" fill=\"none\" style=\"stroke: #A80036; stroke-width: 1.0;\"/><polygon fill=\"none\" points=\"827.79,327.708,824.912,306.715,840.254,321.332,827.79,327.708\" style=\"stroke: #A80036; stroke-width: 1.0;\"/><path d=\"M854.21,320.224 C864.178,328.781 874.967,337.501 885.5,345 C916.922,367.3731 954.593,388.954 984.322,404.901 \" fill=\"none\" style=\"stroke: #A80036; stroke-width: 1.0;\"/><polygon fill=\"none\" points=\"849.23,325.165,838.892,306.668,858.508,314.68,849.23,325.165\" style=\"stroke: #A80036; stroke-width: 1.0;\"/></g></svg>"
      ],
      "text/plain": [
       "<IPython.core.display.SVG object>"
      ]
     },
     "execution_count": 5,
     "metadata": {},
     "output_type": "execute_result"
    }
   ],
   "source": [
    "%%plantuml\n",
    "@startuml\n",
    "PizzaStore <|-- NYPizzaStore\n",
    "PizzaStore <|-- ChicagoPizzaStore\n",
    "Pizza <|-- \"ChicagoStyle\\nPizza\"\n",
    "Pizza <|-- \"NYStyleCheese\\nPizza\"\n",
    "\"ChicagoStyle\\nPizza\" <|-- \"ChicagoStyle\\nCheesePizza\"\n",
    "\"ChicagoStyle\\nPizza\" <|-- \"ChicagoStyle\\nPepperoniPizza\"\n",
    "\"ChicagoStyle\\nPizza\" <|-- \"ChicagoStyle\\nClamPizza\"\n",
    "\"ChicagoStyle\\nPizza\" <|-- \"ChicagoStyle\\nVeggiePizza\"\n",
    "\n",
    "abstract class PizzaStore {\n",
    "  -{abstract}createPizza(String):Pizza\n",
    "  +orderPizza(String):Pizza\n",
    "}\n",
    "note left of PizzaStore\n",
    "\"\"\"public Pizza orderPizza(String type) {\n",
    "    Pizza pizza;\n",
    "    pizza=createPizza(type);\n",
    "    pizza.prepare();\n",
    "    pizza.bake();\n",
    "    pizza.cut();\n",
    "    pizza.box();\n",
    "    return pizza;\n",
    "}\"\"\"\n",
    "end note\n",
    "note left of ChicagoPizzaStore\n",
    "\"\"\"<b>factory method</b>\n",
    "Pizza createPizza(String type) {\n",
    "    Pizza pizza=null;\n",
    "    if(type.equals(\"cheese\"))\n",
    "        pizza=new ChicagoStyleCheesePizza();\n",
    "    .....\n",
    "    return pizza\n",
    "}\"\"\"\n",
    "end note\n",
    "@enduml"
   ]
  },
  {
   "cell_type": "markdown",
   "metadata": {
    "slideshow": {
     "slide_type": "slide"
    }
   },
   "source": [
    "### F.3.3 Abstract Factory\n",
    "\n",
    "* creator\n",
    "    * abstract factory를 사용한다. \n",
    "    * creator는 구체적인 product를 사용하지 않는다.\n",
    "    * creator는 추상적인 product를 사용한다. \n",
    "* product\n",
    "    * 보통 인터페이스로 family of products를 구현한다.\n",
    "* creator생성\n",
    "    * PizzaStore에서 맡는다. PizzaStore에서 factory를 만든다.\n",
    "\n",
    "comparison | abstract factory | factory method\n",
    "---|---|---\n",
    "creator | abstract factory | abstract factory method\n",
    "product | family | 1:1\n",
    "\n",
    "* DIP\n",
    "    * 상속 관계를 만든다.\n",
    "    * 상속을 통해 구체클래스에 대한 의존을 줄인다."
   ]
  },
  {
   "cell_type": "markdown",
   "metadata": {
    "collapsed": true
   },
   "source": [
    "%load_ext gvmagic"
   ]
  },
  {
   "cell_type": "code",
   "execution_count": 4,
   "metadata": {
    "collapsed": false
   },
   "outputs": [
    {
     "name": "stderr",
     "output_type": "stream",
     "text": [
      "ERROR:root:Cell magic `%%dot` not found.\n"
     ]
    }
   ],
   "source": [
    "%%dot digraph G {\n",
    "    rankdir=TB;\n",
    "    a -> b;\n",
    "    b -> c[label=depends];\n",
    "    b -> d;\n",
    "}"
   ]
  },
  {
   "cell_type": "code",
   "execution_count": 19,
   "metadata": {
    "collapsed": false
   },
   "outputs": [
    {
     "data": {
      "image/svg+xml": [
       "<?xml version=\"1.0\" encoding=\"UTF-8\" standalone=\"no\"?>\n",
       "<!DOCTYPE svg PUBLIC \"-//W3C//DTD SVG 1.1//EN\"\n",
       " \"http://www.w3.org/Graphics/SVG/1.1/DTD/svg11.dtd\">\n",
       "<!-- Generated by graphviz version 2.38.0 (20140413.2041)\n",
       " -->\n",
       "<!-- Title: G Pages: 1 -->\n",
       "<svg width=\"134pt\" height=\"219pt\"\n",
       " viewBox=\"0.00 0.00 134.00 219.00\" xmlns=\"http://www.w3.org/2000/svg\" xmlns:xlink=\"http://www.w3.org/1999/xlink\">\n",
       "<g id=\"graph0\" class=\"graph\" transform=\"scale(1 1) rotate(0) translate(4 215)\">\n",
       "<title>G</title>\n",
       "<polygon fill=\"white\" stroke=\"none\" points=\"-4,4 -4,-215 130,-215 130,4 -4,4\"/>\n",
       "<!-- a -->\n",
       "<g id=\"node1\" class=\"node\"><title>a</title>\n",
       "<ellipse fill=\"none\" stroke=\"black\" cx=\"63\" cy=\"-193\" rx=\"27\" ry=\"18\"/>\n",
       "<text text-anchor=\"middle\" x=\"63\" y=\"-189.3\" font-family=\"Times,serif\" font-size=\"14.00\">a</text>\n",
       "</g>\n",
       "<!-- b -->\n",
       "<g id=\"node2\" class=\"node\"><title>b</title>\n",
       "<ellipse fill=\"none\" stroke=\"black\" cx=\"63\" cy=\"-120\" rx=\"27\" ry=\"18\"/>\n",
       "<text text-anchor=\"middle\" x=\"63\" y=\"-116.3\" font-family=\"Times,serif\" font-size=\"14.00\">b</text>\n",
       "</g>\n",
       "<!-- a&#45;&gt;b -->\n",
       "<g id=\"edge1\" class=\"edge\"><title>a&#45;&gt;b</title>\n",
       "<path fill=\"none\" stroke=\"black\" d=\"M63,-174.813C63,-166.789 63,-157.047 63,-148.069\"/>\n",
       "<polygon fill=\"black\" stroke=\"black\" points=\"66.5001,-148.029 63,-138.029 59.5001,-148.029 66.5001,-148.029\"/>\n",
       "</g>\n",
       "<!-- c -->\n",
       "<g id=\"node3\" class=\"node\"><title>c</title>\n",
       "<ellipse fill=\"none\" stroke=\"black\" cx=\"27\" cy=\"-18\" rx=\"27\" ry=\"18\"/>\n",
       "<text text-anchor=\"middle\" x=\"27\" y=\"-14.3\" font-family=\"Times,serif\" font-size=\"14.00\">c</text>\n",
       "</g>\n",
       "<!-- b&#45;&gt;c -->\n",
       "<g id=\"edge2\" class=\"edge\"><title>b&#45;&gt;c</title>\n",
       "<path fill=\"none\" stroke=\"black\" d=\"M39.2525,-98.4582C35.5352,-94.0762 32.2007,-89.1899 30,-84 23.5171,-68.7115 23.4902,-49.5486 24.6426,-36.0019\"/>\n",
       "<polygon fill=\"black\" stroke=\"black\" points=\"36.7672,-100.924 46.1949,-105.758 41.8395,-96.0997 36.7672,-100.924\"/>\n",
       "<text text-anchor=\"middle\" x=\"57.5\" y=\"-72.8\" font-family=\"Times,serif\" font-size=\"14.00\">depends</text>\n",
       "<text text-anchor=\"middle\" x=\"57.5\" y=\"-57.8\" font-family=\"Times,serif\" font-size=\"14.00\">in reverse</text>\n",
       "</g>\n",
       "<!-- d -->\n",
       "<g id=\"node4\" class=\"node\"><title>d</title>\n",
       "<ellipse fill=\"none\" stroke=\"black\" cx=\"99\" cy=\"-18\" rx=\"27\" ry=\"18\"/>\n",
       "<text text-anchor=\"middle\" x=\"99\" y=\"-14.3\" font-family=\"Times,serif\" font-size=\"14.00\">d</text>\n",
       "</g>\n",
       "<!-- b&#45;&gt;d -->\n",
       "<g id=\"edge3\" class=\"edge\"><title>b&#45;&gt;d</title>\n",
       "<path fill=\"none\" stroke=\"black\" d=\"M79.5513,-95.0653C81.594,-91.4617 83.4903,-87.7079 85,-84 91.3553,-68.3907 95.0152,-49.4441 96.987,-36.0438\"/>\n",
       "<polygon fill=\"black\" stroke=\"black\" points=\"76.5594,-93.2491 74.3085,-103.602 82.5243,-96.9124 76.5594,-93.2491\"/>\n",
       "</g>\n",
       "</g>\n",
       "</svg>\n"
      ]
     },
     "metadata": {},
     "output_type": "display_data"
    }
   ],
   "source": [
    "%%dot digraph G {\n",
    "    rankdir=TB;\n",
    "    a -> b;\n",
    "    b -> c [dir=back][label = \"depends\\nin reverse\"];\n",
    "    b -> d [dir=back];\n",
    "}"
   ]
  },
  {
   "cell_type": "markdown",
   "metadata": {
    "slideshow": {
     "slide_type": "slide"
    }
   },
   "source": [
    "## F.4 사례\n",
    "\n",
    "### F.4.1 Pizza\n",
    "* 교재 HFDP Ch4 'Pizza'"
   ]
  },
  {
   "cell_type": "markdown",
   "metadata": {
    "slideshow": {
     "slide_type": "slide"
    }
   },
   "source": [
    "#### F.4.1.1 simple factory"
   ]
  },
  {
   "cell_type": "code",
   "execution_count": 20,
   "metadata": {
    "collapsed": false,
    "slideshow": {
     "slide_type": "subslide"
    }
   },
   "outputs": [
    {
     "data": {
      "image/svg+xml": [
       "<svg height=\"377px\" style=\"width:424px;height:377px;\" version=\"1.1\" viewBox=\"0 0 424 377\" width=\"424px\" xmlns=\"http://www.w3.org/2000/svg\" xmlns:xlink=\"http://www.w3.org/1999/xlink\"><defs><filter height=\"300%\" id=\"f1\" width=\"300%\" x=\"-1\" y=\"-1\"><feGaussianBlur result=\"blurOut\" stdDeviation=\"2.0\"/><feColorMatrix in=\"blurOut\" result=\"blurOut2\" type=\"matrix\" values=\"0 0 0 0 0 0 0 0 0 0 0 0 0 0 0 0 0 0 .4 0\"/><feOffset dx=\"4.0\" dy=\"4.0\" in=\"blurOut2\" result=\"blurOut3\"/><feBlend in=\"SourceGraphic\" in2=\"blurOut3\" mode=\"normal\"/></filter></defs><g><rect fill=\"#FFFFFF\" filter=\"url(#f1)\" height=\"208.1289\" style=\"stroke: #000000; stroke-width: 2.0;\" width=\"402\" x=\"13\" y=\"114.1094\"/><rect fill=\"#FFFFFF\" height=\"102.8867\" style=\"stroke: none; stroke-width: 1.0;\" width=\"402\" x=\"13\" y=\"219.3516\"/><line style=\"stroke: #A80036; stroke-width: 1.0; stroke-dasharray: 5.0,5.0;\" x1=\"52\" x2=\"52\" y1=\"38.4883\" y2=\"339.2383\"/><line style=\"stroke: #A80036; stroke-width: 1.0; stroke-dasharray: 5.0,5.0;\" x1=\"166\" x2=\"166\" y1=\"38.4883\" y2=\"339.2383\"/><line style=\"stroke: #A80036; stroke-width: 1.0; stroke-dasharray: 5.0,5.0;\" x1=\"296\" x2=\"296\" y1=\"38.4883\" y2=\"339.2383\"/><line style=\"stroke: #A80036; stroke-width: 1.0; stroke-dasharray: 5.0,5.0;\" x1=\"378\" x2=\"378\" y1=\"38.4883\" y2=\"339.2383\"/><rect fill=\"#FEFECE\" filter=\"url(#f1)\" height=\"30.4883\" style=\"stroke: #A80036; stroke-width: 1.5;\" width=\"54\" x=\"23\" y=\"3\"/><text fill=\"#000000\" font-family=\"sans-serif\" font-size=\"14\" lengthAdjust=\"spacingAndGlyphs\" textLength=\"40\" x=\"30\" y=\"23.5352\">Client</text><rect fill=\"#FEFECE\" filter=\"url(#f1)\" height=\"30.4883\" style=\"stroke: #A80036; stroke-width: 1.5;\" width=\"54\" x=\"23\" y=\"338.2383\"/><text fill=\"#000000\" font-family=\"sans-serif\" font-size=\"14\" lengthAdjust=\"spacingAndGlyphs\" textLength=\"40\" x=\"30\" y=\"358.7734\">Client</text><rect fill=\"#FEFECE\" filter=\"url(#f1)\" height=\"30.4883\" style=\"stroke: #A80036; stroke-width: 1.5;\" width=\"146\" x=\"91\" y=\"3\"/><text fill=\"#000000\" font-family=\"sans-serif\" font-size=\"14\" lengthAdjust=\"spacingAndGlyphs\" textLength=\"132\" x=\"98\" y=\"23.5352\">SimplePizzaFactory</text><rect fill=\"#FEFECE\" filter=\"url(#f1)\" height=\"30.4883\" style=\"stroke: #A80036; stroke-width: 1.5;\" width=\"146\" x=\"91\" y=\"338.2383\"/><text fill=\"#000000\" font-family=\"sans-serif\" font-size=\"14\" lengthAdjust=\"spacingAndGlyphs\" textLength=\"132\" x=\"98\" y=\"358.7734\">SimplePizzaFactory</text><rect fill=\"#FEFECE\" filter=\"url(#f1)\" height=\"30.4883\" style=\"stroke: #A80036; stroke-width: 1.5;\" width=\"86\" x=\"251\" y=\"3\"/><text fill=\"#000000\" font-family=\"sans-serif\" font-size=\"14\" lengthAdjust=\"spacingAndGlyphs\" textLength=\"72\" x=\"258\" y=\"23.5352\">PizzaStore</text><rect fill=\"#FEFECE\" filter=\"url(#f1)\" height=\"30.4883\" style=\"stroke: #A80036; stroke-width: 1.5;\" width=\"86\" x=\"251\" y=\"338.2383\"/><text fill=\"#000000\" font-family=\"sans-serif\" font-size=\"14\" lengthAdjust=\"spacingAndGlyphs\" textLength=\"72\" x=\"258\" y=\"358.7734\">PizzaStore</text><rect fill=\"#FEFECE\" filter=\"url(#f1)\" height=\"30.4883\" style=\"stroke: #A80036; stroke-width: 1.5;\" width=\"50\" x=\"351\" y=\"3\"/><text fill=\"#000000\" font-family=\"sans-serif\" font-size=\"14\" lengthAdjust=\"spacingAndGlyphs\" textLength=\"36\" x=\"358\" y=\"23.5352\">Pizza</text><rect fill=\"#FEFECE\" filter=\"url(#f1)\" height=\"30.4883\" style=\"stroke: #A80036; stroke-width: 1.5;\" width=\"50\" x=\"351\" y=\"338.2383\"/><text fill=\"#000000\" font-family=\"sans-serif\" font-size=\"14\" lengthAdjust=\"spacingAndGlyphs\" textLength=\"36\" x=\"358\" y=\"358.7734\">Pizza</text><polygon fill=\"#A80036\" points=\"154,65.4883,164,69.4883,154,73.4883,158,69.4883\" style=\"stroke: #A80036; stroke-width: 1.0;\"/><line style=\"stroke: #A80036; stroke-width: 1.0;\" x1=\"52\" x2=\"160\" y1=\"69.4883\" y2=\"69.4883\"/><text fill=\"#000000\" font-family=\"sans-serif\" font-size=\"13\" lengthAdjust=\"spacingAndGlyphs\" textLength=\"87\" x=\"59\" y=\"65.0566\">factory=new()</text><polygon fill=\"#A80036\" points=\"284,94.7988,294,98.7988,284,102.7988,288,98.7988\" style=\"stroke: #A80036; stroke-width: 1.0;\"/><line style=\"stroke: #A80036; stroke-width: 1.0;\" x1=\"52\" x2=\"290\" y1=\"98.7988\" y2=\"98.7988\"/><text fill=\"#000000\" font-family=\"sans-serif\" font-size=\"13\" lengthAdjust=\"spacingAndGlyphs\" textLength=\"119\" x=\"59\" y=\"94.3672\">store=new(factory)</text><rect fill=\"none\" height=\"208.1289\" style=\"stroke: #000000; stroke-width: 2.0;\" width=\"402\" x=\"13\" y=\"114.1094\"/><polygon fill=\"#EEEEEE\" points=\"13,114.1094,75,114.1094,75,121.1094,65,131.1094,13,131.1094,13,114.1094\" style=\"stroke: #000000; stroke-width: 2.0;\"/><text fill=\"#000000\" font-family=\"sans-serif\" font-size=\"13\" font-weight=\"bold\" lengthAdjust=\"spacingAndGlyphs\" textLength=\"17\" x=\"28\" y=\"127.6777\">alt</text><text fill=\"#000000\" font-family=\"sans-serif\" font-size=\"11\" font-weight=\"bold\" lengthAdjust=\"spacingAndGlyphs\" textLength=\"45\" x=\"90\" y=\"126.7441\">[cheese]</text><polygon fill=\"#A80036\" points=\"284,148.4199,294,152.4199,284,156.4199,288,152.4199\" style=\"stroke: #A80036; stroke-width: 1.0;\"/><line style=\"stroke: #A80036; stroke-width: 1.0;\" x1=\"52\" x2=\"290\" y1=\"152.4199\" y2=\"152.4199\"/><text fill=\"#000000\" font-family=\"sans-serif\" font-size=\"13\" lengthAdjust=\"spacingAndGlyphs\" textLength=\"122\" x=\"59\" y=\"147.9883\">orderPizza('cheese')</text><polygon fill=\"#A80036\" points=\"366,177.7305,376,181.7305,366,185.7305,370,181.7305\" style=\"stroke: #A80036; stroke-width: 1.0;\"/><line style=\"stroke: #A80036; stroke-width: 1.0;\" x1=\"296\" x2=\"372\" y1=\"181.7305\" y2=\"181.7305\"/><text fill=\"#000000\" font-family=\"sans-serif\" font-size=\"13\" lengthAdjust=\"spacingAndGlyphs\" textLength=\"33\" x=\"303\" y=\"177.2988\">new()</text><polygon fill=\"#A80036\" points=\"366,207.041,376,211.041,366,215.041,370,211.041\" style=\"stroke: #A80036; stroke-width: 1.0;\"/><line style=\"stroke: #A80036; stroke-width: 1.0;\" x1=\"52\" x2=\"372\" y1=\"211.041\" y2=\"211.041\"/><text fill=\"#000000\" font-family=\"sans-serif\" font-size=\"13\" lengthAdjust=\"spacingAndGlyphs\" textLength=\"64\" x=\"59\" y=\"206.6094\">getName()</text><line style=\"stroke: #000000; stroke-width: 1.0; stroke-dasharray: 2.0,2.0;\" x1=\"13\" x2=\"415\" y1=\"220.3516\" y2=\"220.3516\"/><text fill=\"#000000\" font-family=\"sans-serif\" font-size=\"11\" font-weight=\"bold\" lengthAdjust=\"spacingAndGlyphs\" textLength=\"45\" x=\"18\" y=\"230.9863\">[veggie]</text><polygon fill=\"#A80036\" points=\"284,251.3066,294,255.3066,284,259.3066,288,255.3066\" style=\"stroke: #A80036; stroke-width: 1.0;\"/><line style=\"stroke: #A80036; stroke-width: 1.0;\" x1=\"52\" x2=\"290\" y1=\"255.3066\" y2=\"255.3066\"/><text fill=\"#000000\" font-family=\"sans-serif\" font-size=\"13\" lengthAdjust=\"spacingAndGlyphs\" textLength=\"120\" x=\"59\" y=\"250.875\">orderPizza('veggie')</text><polygon fill=\"#A80036\" points=\"366,280.6172,376,284.6172,366,288.6172,370,284.6172\" style=\"stroke: #A80036; stroke-width: 1.0;\"/><line style=\"stroke: #A80036; stroke-width: 1.0;\" x1=\"296\" x2=\"372\" y1=\"284.6172\" y2=\"284.6172\"/><text fill=\"#000000\" font-family=\"sans-serif\" font-size=\"13\" lengthAdjust=\"spacingAndGlyphs\" textLength=\"33\" x=\"303\" y=\"280.1855\">new()</text><polygon fill=\"#A80036\" points=\"366,309.9277,376,313.9277,366,317.9277,370,313.9277\" style=\"stroke: #A80036; stroke-width: 1.0;\"/><line style=\"stroke: #A80036; stroke-width: 1.0;\" x1=\"52\" x2=\"372\" y1=\"313.9277\" y2=\"313.9277\"/><text fill=\"#000000\" font-family=\"sans-serif\" font-size=\"13\" lengthAdjust=\"spacingAndGlyphs\" textLength=\"64\" x=\"59\" y=\"309.4961\">getName()</text></g></svg>"
      ],
      "text/plain": [
       "<IPython.core.display.SVG object>"
      ]
     },
     "execution_count": 20,
     "metadata": {},
     "output_type": "execute_result"
    }
   ],
   "source": [
    "%%plantuml\n",
    "@startuml\n",
    "Client -> SimplePizzaFactory:factory=new()\n",
    "Client -> PizzaStore:store=new(factory)\n",
    "alt cheese\n",
    "    Client -> PizzaStore:orderPizza('cheese')\n",
    "    PizzaStore -> Pizza:new()\n",
    "    Client -> Pizza:getName()\n",
    "else veggie\n",
    "    Client -> PizzaStore:orderPizza('veggie')\n",
    "    PizzaStore -> Pizza:new()\n",
    "    Client -> Pizza:getName()\n",
    "end\n",
    "@enduml"
   ]
  },
  {
   "cell_type": "code",
   "execution_count": null,
   "metadata": {
    "collapsed": true,
    "slideshow": {
     "slide_type": "slide"
    }
   },
   "outputs": [],
   "source": [
    "# %load ./src/headfirst/factory/pizzas/PizzaTestDrive.java\n",
    "package headfirst.factory.pizzas;\n",
    "\n",
    "public class PizzaTestDrive {\n",
    " \n",
    "\tpublic static void main(String[] args) {\n",
    "\t\tSimplePizzaFactory factory = new SimplePizzaFactory();\n",
    "\t\tPizzaStore store = new PizzaStore(factory);\n",
    "\n",
    "\t\tPizza pizza = store.orderPizza(\"cheese\");\n",
    "\t\tSystem.out.println(\"We ordered a \" + pizza.getName() + \"\\n\");\n",
    " \n",
    "\t\tpizza = store.orderPizza(\"veggie\");\n",
    "\t\tSystem.out.println(\"We ordered a \" + pizza.getName() + \"\\n\");\n",
    "\t}\n",
    "}\n"
   ]
  },
  {
   "cell_type": "code",
   "execution_count": null,
   "metadata": {
    "collapsed": true,
    "slideshow": {
     "slide_type": "slide"
    }
   },
   "outputs": [],
   "source": [
    "# %load ./src/headfirst/factory/pizzas/SimplePizzaFactory.java\n",
    "package headfirst.factory.pizzas;\n",
    "\n",
    "public class SimplePizzaFactory {\n",
    "\tpublic Pizza createPizza(String type) {\n",
    "\t\tPizza pizza = null;\n",
    "\t\tif (type.equals(\"cheese\")) {\n",
    "\t\t\tpizza = new CheesePizza();\n",
    "\t\t} else if (type.equals(\"pepperoni\")) {\n",
    "\t\t\tpizza = new PepperoniPizza();\n",
    "\t\t} else if (type.equals(\"clam\")) {\n",
    "\t\t\tpizza = new ClamPizza();\n",
    "\t\t} else if (type.equals(\"veggie\")) {\n",
    "\t\t\tpizza = new VeggiePizza();\n",
    "\t\t}\n",
    "\t\treturn pizza;\n",
    "\t}\n",
    "}\n"
   ]
  },
  {
   "cell_type": "code",
   "execution_count": null,
   "metadata": {
    "collapsed": true,
    "slideshow": {
     "slide_type": "slide"
    }
   },
   "outputs": [],
   "source": [
    "# %load ./src/headfirst/factory/pizzas/PizzaStore.java\n",
    "package headfirst.factory.pizzas;\n",
    "\n",
    "public class PizzaStore {\n",
    "\tSimplePizzaFactory factory;\n",
    "\tpublic PizzaStore(SimplePizzaFactory factory) { \n",
    "\t\tthis.factory = factory;\n",
    "\t}\n",
    "\tpublic Pizza orderPizza(String type) {\n",
    "\t\tPizza pizza;\n",
    "\t\tpizza = factory.createPizza(type); \n",
    "\t\tpizza.prepare();\n",
    "\t\tpizza.bake();\n",
    "\t\tpizza.cut();\n",
    "\t\tpizza.box();\n",
    "\t\treturn pizza;\n",
    "\t}\n",
    "}\n"
   ]
  },
  {
   "cell_type": "code",
   "execution_count": null,
   "metadata": {
    "collapsed": true,
    "slideshow": {
     "slide_type": "slide"
    }
   },
   "outputs": [],
   "source": [
    "# %load ./src/headfirst/factory/pizzas/Pizza.java\n",
    "package headfirst.factory.pizzas;\n",
    "\n",
    "import java.util.ArrayList;\n",
    "\n",
    "abstract public class Pizza {\n",
    "\tString name;\n",
    "\tString dough;\n",
    "\tString sauce;\n",
    "\tArrayList toppings = new ArrayList();\n",
    "\n",
    "\tpublic String getName() {\n",
    "\t\treturn name;\n",
    "\t}\n",
    "\tpublic void prepare() {\n",
    "\t\tSystem.out.println(\"Preparing \" + name);\n",
    "\t}\n",
    "\tpublic void bake() {\n",
    "\t\tSystem.out.println(\"Baking \" + name);\n",
    "\t}\n",
    "\tpublic void cut() {\n",
    "\t\tSystem.out.println(\"Cutting \" + name);\n",
    "\t}\n",
    "\tpublic void box() {\n",
    "\t\tSystem.out.println(\"Boxing \" + name);\n",
    "\t}\n",
    "\tpublic String toString() {\n",
    "\t\t// code to display pizza name and ingredients\n",
    "\t\tStringBuffer display = new StringBuffer();\n",
    "\t\tdisplay.append(\"---- \" + name + \" ----\\n\");\n",
    "\t\tdisplay.append(dough + \"\\n\");\n",
    "\t\tdisplay.append(sauce + \"\\n\");\n",
    "\t\tfor (int i = 0; i < toppings.size(); i++) {\n",
    "\t\t\tdisplay.append((String )toppings.get(i) + \"\\n\");\n",
    "\t\t}\n",
    "\t\treturn display.toString();\n",
    "\t}\n",
    "}\n"
   ]
  },
  {
   "cell_type": "code",
   "execution_count": null,
   "metadata": {
    "collapsed": true,
    "slideshow": {
     "slide_type": "slide"
    }
   },
   "outputs": [],
   "source": [
    "# %load ./src/headfirst/factory/pizzas/CheesePizza.java\n",
    "package headfirst.factory.pizzas;\n",
    "\n",
    "public class CheesePizza extends Pizza {\n",
    "\tpublic CheesePizza() {\n",
    "\t\tname = \"Cheese Pizza\";\n",
    "\t\tdough = \"Regular Crust\";\n",
    "\t\tsauce = \"Marinara Pizza Sauce\";\n",
    "\t\ttoppings.add(\"Fresh Mozzarella\");\n",
    "\t\ttoppings.add(\"Parmesan\");\n",
    "\t}\n",
    "}\n"
   ]
  },
  {
   "cell_type": "markdown",
   "metadata": {
    "slideshow": {
     "slide_type": "slide"
    }
   },
   "source": [
    "#### F.4.1.2 factory method"
   ]
  },
  {
   "cell_type": "code",
   "execution_count": 21,
   "metadata": {
    "collapsed": false,
    "slideshow": {
     "slide_type": "slide"
    }
   },
   "outputs": [
    {
     "data": {
      "image/svg+xml": [
       "<svg height=\"436px\" style=\"width:560px;height:436px;\" version=\"1.1\" viewBox=\"0 0 560 436\" width=\"560px\" xmlns=\"http://www.w3.org/2000/svg\" xmlns:xlink=\"http://www.w3.org/1999/xlink\"><defs><filter height=\"300%\" id=\"f1\" width=\"300%\" x=\"-1\" y=\"-1\"><feGaussianBlur result=\"blurOut\" stdDeviation=\"2.0\"/><feColorMatrix in=\"blurOut\" result=\"blurOut2\" type=\"matrix\" values=\"0 0 0 0 0 0 0 0 0 0 0 0 0 0 0 0 0 0 .4 0\"/><feOffset dx=\"4.0\" dy=\"4.0\" in=\"blurOut2\" result=\"blurOut3\"/><feBlend in=\"SourceGraphic\" in2=\"blurOut3\" mode=\"normal\"/></filter></defs><g><rect fill=\"#FFFFFF\" filter=\"url(#f1)\" height=\"325.3711\" style=\"stroke: #000000; stroke-width: 2.0;\" width=\"538\" x=\"13\" y=\"55.4883\"/><rect fill=\"#FFFFFF\" height=\"161.5078\" style=\"stroke: none; stroke-width: 1.0;\" width=\"538\" x=\"13\" y=\"219.3516\"/><line style=\"stroke: #A80036; stroke-width: 1.0; stroke-dasharray: 5.0,5.0;\" x1=\"52\" x2=\"52\" y1=\"38.4883\" y2=\"397.8594\"/><line style=\"stroke: #A80036; stroke-width: 1.0; stroke-dasharray: 5.0,5.0;\" x1=\"157\" x2=\"157\" y1=\"38.4883\" y2=\"397.8594\"/><line style=\"stroke: #A80036; stroke-width: 1.0; stroke-dasharray: 5.0,5.0;\" x1=\"266\" x2=\"266\" y1=\"38.4883\" y2=\"397.8594\"/><line style=\"stroke: #A80036; stroke-width: 1.0; stroke-dasharray: 5.0,5.0;\" x1=\"358\" x2=\"358\" y1=\"38.4883\" y2=\"397.8594\"/><line style=\"stroke: #A80036; stroke-width: 1.0; stroke-dasharray: 5.0,5.0;\" x1=\"468\" x2=\"468\" y1=\"38.4883\" y2=\"397.8594\"/><rect fill=\"#FEFECE\" filter=\"url(#f1)\" height=\"30.4883\" style=\"stroke: #A80036; stroke-width: 1.5;\" width=\"54\" x=\"23\" y=\"3\"/><text fill=\"#000000\" font-family=\"sans-serif\" font-size=\"14\" lengthAdjust=\"spacingAndGlyphs\" textLength=\"40\" x=\"30\" y=\"23.5352\">Client</text><rect fill=\"#FEFECE\" filter=\"url(#f1)\" height=\"30.4883\" style=\"stroke: #A80036; stroke-width: 1.5;\" width=\"54\" x=\"23\" y=\"396.8594\"/><text fill=\"#000000\" font-family=\"sans-serif\" font-size=\"14\" lengthAdjust=\"spacingAndGlyphs\" textLength=\"40\" x=\"30\" y=\"417.3945\">Client</text><rect fill=\"#FEFECE\" filter=\"url(#f1)\" height=\"30.4883\" style=\"stroke: #A80036; stroke-width: 1.5;\" width=\"86\" x=\"112\" y=\"3\"/><text fill=\"#000000\" font-family=\"sans-serif\" font-size=\"14\" lengthAdjust=\"spacingAndGlyphs\" textLength=\"72\" x=\"119\" y=\"23.5352\">PizzaStore</text><rect fill=\"#FEFECE\" filter=\"url(#f1)\" height=\"30.4883\" style=\"stroke: #A80036; stroke-width: 1.5;\" width=\"86\" x=\"112\" y=\"396.8594\"/><text fill=\"#000000\" font-family=\"sans-serif\" font-size=\"14\" lengthAdjust=\"spacingAndGlyphs\" textLength=\"72\" x=\"119\" y=\"417.3945\">PizzaStore</text><rect fill=\"#FEFECE\" filter=\"url(#f1)\" height=\"30.4883\" style=\"stroke: #A80036; stroke-width: 1.5;\" width=\"105\" x=\"212\" y=\"3\"/><text fill=\"#000000\" font-family=\"sans-serif\" font-size=\"14\" lengthAdjust=\"spacingAndGlyphs\" textLength=\"91\" x=\"219\" y=\"23.5352\">NYPizzaStore</text><rect fill=\"#FEFECE\" filter=\"url(#f1)\" height=\"30.4883\" style=\"stroke: #A80036; stroke-width: 1.5;\" width=\"105\" x=\"212\" y=\"396.8594\"/><text fill=\"#000000\" font-family=\"sans-serif\" font-size=\"14\" lengthAdjust=\"spacingAndGlyphs\" textLength=\"91\" x=\"219\" y=\"417.3945\">NYPizzaStore</text><rect fill=\"#FEFECE\" filter=\"url(#f1)\" height=\"30.4883\" style=\"stroke: #A80036; stroke-width: 1.5;\" width=\"50\" x=\"331\" y=\"3\"/><text fill=\"#000000\" font-family=\"sans-serif\" font-size=\"14\" lengthAdjust=\"spacingAndGlyphs\" textLength=\"36\" x=\"338\" y=\"23.5352\">Pizza</text><rect fill=\"#FEFECE\" filter=\"url(#f1)\" height=\"30.4883\" style=\"stroke: #A80036; stroke-width: 1.5;\" width=\"50\" x=\"331\" y=\"396.8594\"/><text fill=\"#000000\" font-family=\"sans-serif\" font-size=\"14\" lengthAdjust=\"spacingAndGlyphs\" textLength=\"36\" x=\"338\" y=\"417.3945\">Pizza</text><rect fill=\"#FEFECE\" filter=\"url(#f1)\" height=\"30.4883\" style=\"stroke: #A80036; stroke-width: 1.5;\" width=\"142\" x=\"395\" y=\"3\"/><text fill=\"#000000\" font-family=\"sans-serif\" font-size=\"14\" lengthAdjust=\"spacingAndGlyphs\" textLength=\"128\" x=\"402\" y=\"23.5352\">ChicagoPizzaStore</text><rect fill=\"#FEFECE\" filter=\"url(#f1)\" height=\"30.4883\" style=\"stroke: #A80036; stroke-width: 1.5;\" width=\"142\" x=\"395\" y=\"396.8594\"/><text fill=\"#000000\" font-family=\"sans-serif\" font-size=\"14\" lengthAdjust=\"spacingAndGlyphs\" textLength=\"128\" x=\"402\" y=\"417.3945\">ChicagoPizzaStore</text><rect fill=\"none\" height=\"325.3711\" style=\"stroke: #000000; stroke-width: 2.0;\" width=\"538\" x=\"13\" y=\"55.4883\"/><polygon fill=\"#EEEEEE\" points=\"13,55.4883,75,55.4883,75,62.4883,65,72.4883,13,72.4883,13,55.4883\" style=\"stroke: #000000; stroke-width: 2.0;\"/><text fill=\"#000000\" font-family=\"sans-serif\" font-size=\"13\" font-weight=\"bold\" lengthAdjust=\"spacingAndGlyphs\" textLength=\"17\" x=\"28\" y=\"69.0566\">alt</text><text fill=\"#000000\" font-family=\"sans-serif\" font-size=\"11\" font-weight=\"bold\" lengthAdjust=\"spacingAndGlyphs\" textLength=\"98\" x=\"90\" y=\"68.123\">['ny style cheese']</text><polygon fill=\"#A80036\" points=\"145,89.7988,155,93.7988,145,97.7988,149,93.7988\" style=\"stroke: #A80036; stroke-width: 1.0;\"/><line style=\"stroke: #A80036; stroke-width: 1.0;\" x1=\"52\" x2=\"151\" y1=\"93.7988\" y2=\"93.7988\"/><text fill=\"#000000\" font-family=\"sans-serif\" font-size=\"13\" lengthAdjust=\"spacingAndGlyphs\" textLength=\"47\" x=\"59\" y=\"89.3672\">nyStore</text><polygon fill=\"#A80036\" points=\"254.5,119.1094,264.5,123.1094,254.5,127.1094,258.5,123.1094\" style=\"stroke: #A80036; stroke-width: 1.0;\"/><line style=\"stroke: #A80036; stroke-width: 1.0;\" x1=\"157\" x2=\"260.5\" y1=\"123.1094\" y2=\"123.1094\"/><text fill=\"#000000\" font-family=\"sans-serif\" font-size=\"13\" lengthAdjust=\"spacingAndGlyphs\" textLength=\"33\" x=\"164\" y=\"118.6777\">new()</text><polygon fill=\"#A80036\" points=\"254.5,148.4199,264.5,152.4199,254.5,156.4199,258.5,152.4199\" style=\"stroke: #A80036; stroke-width: 1.0;\"/><line style=\"stroke: #A80036; stroke-width: 1.0;\" x1=\"52\" x2=\"260.5\" y1=\"152.4199\" y2=\"152.4199\"/><text fill=\"#000000\" font-family=\"sans-serif\" font-size=\"13\" lengthAdjust=\"spacingAndGlyphs\" textLength=\"122\" x=\"59\" y=\"147.9883\">orderPizza('cheese')</text><polygon fill=\"#A80036\" points=\"346,177.7305,356,181.7305,346,185.7305,350,181.7305\" style=\"stroke: #A80036; stroke-width: 1.0;\"/><line style=\"stroke: #A80036; stroke-width: 1.0;\" x1=\"266.5\" x2=\"352\" y1=\"181.7305\" y2=\"181.7305\"/><text fill=\"#000000\" font-family=\"sans-serif\" font-size=\"13\" lengthAdjust=\"spacingAndGlyphs\" textLength=\"33\" x=\"273.5\" y=\"177.2988\">new()</text><polygon fill=\"#A80036\" points=\"346,207.041,356,211.041,346,215.041,350,211.041\" style=\"stroke: #A80036; stroke-width: 1.0;\"/><line style=\"stroke: #A80036; stroke-width: 1.0;\" x1=\"52\" x2=\"352\" y1=\"211.041\" y2=\"211.041\"/><text fill=\"#000000\" font-family=\"sans-serif\" font-size=\"13\" lengthAdjust=\"spacingAndGlyphs\" textLength=\"64\" x=\"59\" y=\"206.6094\">getName()</text><line style=\"stroke: #000000; stroke-width: 1.0; stroke-dasharray: 2.0,2.0;\" x1=\"13\" x2=\"551\" y1=\"220.3516\" y2=\"220.3516\"/><text fill=\"#000000\" font-family=\"sans-serif\" font-size=\"11\" font-weight=\"bold\" lengthAdjust=\"spacingAndGlyphs\" textLength=\"128\" x=\"18\" y=\"230.9863\">['chicago style cheese']</text><polygon fill=\"#A80036\" points=\"145,251.3066,155,255.3066,145,259.3066,149,255.3066\" style=\"stroke: #A80036; stroke-width: 1.0;\"/><line style=\"stroke: #A80036; stroke-width: 1.0;\" x1=\"52\" x2=\"151\" y1=\"255.3066\" y2=\"255.3066\"/><text fill=\"#000000\" font-family=\"sans-serif\" font-size=\"13\" lengthAdjust=\"spacingAndGlyphs\" textLength=\"81\" x=\"59\" y=\"250.875\">chicagoStore</text><polygon fill=\"#A80036\" points=\"456,280.6172,466,284.6172,456,288.6172,460,284.6172\" style=\"stroke: #A80036; stroke-width: 1.0;\"/><line style=\"stroke: #A80036; stroke-width: 1.0;\" x1=\"157\" x2=\"462\" y1=\"284.6172\" y2=\"284.6172\"/><text fill=\"#000000\" font-family=\"sans-serif\" font-size=\"13\" lengthAdjust=\"spacingAndGlyphs\" textLength=\"33\" x=\"164\" y=\"280.1855\">new()</text><polygon fill=\"#A80036\" points=\"456,309.9277,466,313.9277,456,317.9277,460,313.9277\" style=\"stroke: #A80036; stroke-width: 1.0;\"/><line style=\"stroke: #A80036; stroke-width: 1.0;\" x1=\"52\" x2=\"462\" y1=\"313.9277\" y2=\"313.9277\"/><text fill=\"#000000\" font-family=\"sans-serif\" font-size=\"13\" lengthAdjust=\"spacingAndGlyphs\" textLength=\"122\" x=\"59\" y=\"309.4961\">orderPizza('cheese')</text><polygon fill=\"#A80036\" points=\"369,339.2383,359,343.2383,369,347.2383,365,343.2383\" style=\"stroke: #A80036; stroke-width: 1.0;\"/><line style=\"stroke: #A80036; stroke-width: 1.0;\" x1=\"363\" x2=\"467\" y1=\"343.2383\" y2=\"343.2383\"/><text fill=\"#000000\" font-family=\"sans-serif\" font-size=\"13\" lengthAdjust=\"spacingAndGlyphs\" textLength=\"33\" x=\"375\" y=\"338.8066\">new()</text><polygon fill=\"#A80036\" points=\"346,368.5488,356,372.5488,346,376.5488,350,372.5488\" style=\"stroke: #A80036; stroke-width: 1.0;\"/><line style=\"stroke: #A80036; stroke-width: 1.0;\" x1=\"52\" x2=\"352\" y1=\"372.5488\" y2=\"372.5488\"/><text fill=\"#000000\" font-family=\"sans-serif\" font-size=\"13\" lengthAdjust=\"spacingAndGlyphs\" textLength=\"64\" x=\"59\" y=\"368.1172\">getName()</text></g></svg>"
      ],
      "text/plain": [
       "<IPython.core.display.SVG object>"
      ]
     },
     "execution_count": 21,
     "metadata": {},
     "output_type": "execute_result"
    }
   ],
   "source": [
    "%%plantuml\n",
    "@startuml\n",
    "alt 'ny style cheese'\n",
    "Client -> PizzaStore:nyStore\n",
    "PizzaStore -> NYPizzaStore:new()\n",
    "Client -> NYPizzaStore:orderPizza('cheese')\n",
    "NYPizzaStore -> Pizza:new()\n",
    "Client -> Pizza:getName()\n",
    "else 'chicago style cheese'\n",
    "Client -> PizzaStore:chicagoStore\n",
    "PizzaStore -> ChicagoPizzaStore:new()\n",
    "Client -> ChicagoPizzaStore:orderPizza('cheese')\n",
    "ChicagoPizzaStore -> Pizza:new()\n",
    "Client -> Pizza:getName()\n",
    "end\n",
    "@enduml"
   ]
  },
  {
   "cell_type": "code",
   "execution_count": null,
   "metadata": {
    "collapsed": true,
    "slideshow": {
     "slide_type": "slide"
    }
   },
   "outputs": [],
   "source": [
    "# %load ./src/headfirst/factory/pizzafm/PizzaTestDrive.java\n",
    "package headfirst.factory.pizzafm;\n",
    "\n",
    "public class PizzaTestDrive { \n",
    "\tpublic static void main(String[] args) {\n",
    "\t\tPizzaStore nyStore = new NYPizzaStore();\n",
    "\t\tPizzaStore chicagoStore = new ChicagoPizzaStore();\n",
    "\t\tPizza pizza = nyStore.orderPizza(\"cheese\");\n",
    "\t\tSystem.out.println(\"Ethan ordered a \" + pizza.getName() + \"\\n\");\n",
    "\t\tpizza = chicagoStore.orderPizza(\"cheese\");\n",
    "\t\tSystem.out.println(\"Joel ordered a \" + pizza.getName() + \"\\n\");\n",
    "\t\tpizza = nyStore.orderPizza(\"clam\");\n",
    "\t\tSystem.out.println(\"Ethan ordered a \" + pizza.getName() + \"\\n\");\n",
    "\t\tpizza = chicagoStore.orderPizza(\"clam\");\n",
    "\t\tSystem.out.println(\"Joel ordered a \" + pizza.getName() + \"\\n\");\n",
    "\t\tpizza = nyStore.orderPizza(\"pepperoni\");\n",
    "\t\tSystem.out.println(\"Ethan ordered a \" + pizza.getName() + \"\\n\");\n",
    "\t\tpizza = chicagoStore.orderPizza(\"pepperoni\");\n",
    "\t\tSystem.out.println(\"Joel ordered a \" + pizza.getName() + \"\\n\");\n",
    "\t\tpizza = nyStore.orderPizza(\"veggie\");\n",
    "\t\tSystem.out.println(\"Ethan ordered a \" + pizza.getName() + \"\\n\");\n",
    "\t\tpizza = chicagoStore.orderPizza(\"veggie\");\n",
    "\t\tSystem.out.println(\"Joel ordered a \" + pizza.getName() + \"\\n\");\n",
    "\t}\n",
    "}\n"
   ]
  },
  {
   "cell_type": "code",
   "execution_count": null,
   "metadata": {
    "collapsed": true,
    "slideshow": {
     "slide_type": "slide"
    }
   },
   "outputs": [],
   "source": [
    "# %load ./src/headfirst/factory/pizzas/PizzaStore.java\n",
    "package headfirst.factory.pizzas;\n",
    "\n",
    "public class PizzaStore {\n",
    "\tSimplePizzaFactory factory;\n",
    " \n",
    "\tpublic PizzaStore(SimplePizzaFactory factory) { \n",
    "\t\tthis.factory = factory;\n",
    "\t}\n",
    "\tpublic Pizza orderPizza(String type) {\n",
    "\t\tPizza pizza;\n",
    "\t\tpizza = factory.createPizza(type);\n",
    "\t\tpizza.prepare();\n",
    "\t\tpizza.bake();\n",
    "\t\tpizza.cut();\n",
    "\t\tpizza.box();\n",
    "\t\treturn pizza;\n",
    "\t}\n",
    "}\n"
   ]
  },
  {
   "cell_type": "code",
   "execution_count": null,
   "metadata": {
    "collapsed": true,
    "slideshow": {
     "slide_type": "slide"
    }
   },
   "outputs": [],
   "source": [
    "# %load ./src/headfirst/factory/pizzafm/NYPizzaStore.java\n",
    "package headfirst.factory.pizzafm;\n",
    "\n",
    "public class NYPizzaStore extends PizzaStore {\n",
    "\tPizza createPizza(String item) {\n",
    "\t\tif (item.equals(\"cheese\")) {\n",
    "\t\t\treturn new NYStyleCheesePizza();\n",
    "\t\t} else if (item.equals(\"veggie\")) {\n",
    "\t\t\treturn new NYStyleVeggiePizza();\n",
    "\t\t} else if (item.equals(\"clam\")) {\n",
    "\t\t\treturn new NYStyleClamPizza();\n",
    "\t\t} else if (item.equals(\"pepperoni\")) {\n",
    "\t\t\treturn new NYStylePepperoniPizza();\n",
    "\t\t} else return null;\n",
    "\t}\n",
    "}\n"
   ]
  },
  {
   "cell_type": "code",
   "execution_count": null,
   "metadata": {
    "collapsed": true,
    "slideshow": {
     "slide_type": "slide"
    }
   },
   "outputs": [],
   "source": [
    "# %load ./src/headfirst/factory/pizzafm/Pizza.java\n",
    "package headfirst.factory.pizzafm;\n",
    "\n",
    "import java.util.ArrayList;\n",
    "\n",
    "public abstract class Pizza {\n",
    "\tString name;\n",
    "\tString dough;\n",
    "\tString sauce;\n",
    "\tArrayList toppings = new ArrayList();\n",
    "\tvoid prepare() {\n",
    "\t\tSystem.out.println(\"Preparing \" + name);\n",
    "\t\tSystem.out.println(\"Tossing dough...\");\n",
    "\t\tSystem.out.println(\"Adding sauce...\");\n",
    "\t\tSystem.out.println(\"Adding toppings: \");\n",
    "\t\tfor (int i = 0; i < toppings.size(); i++) {\n",
    "\t\t\tSystem.out.println(\"   \" + toppings.get(i));\n",
    "\t\t}\n",
    "\t}\n",
    "\tvoid bake() {\n",
    "\t\tSystem.out.println(\"Bake for 25 minutes at 350\");\n",
    "\t}\n",
    "\tvoid cut() {\n",
    "\t\tSystem.out.println(\"Cutting the pizza into diagonal slices\");\n",
    "\t}\n",
    "\tvoid box() {\n",
    "\t\tSystem.out.println(\"Place pizza in official PizzaStore box\");\n",
    "\t}\n",
    "\tpublic String getName() {\n",
    "\t\treturn name;\n",
    "\t}\n",
    "\tpublic String toString() {\n",
    "\t\tStringBuffer display = new StringBuffer();\n",
    "\t\tdisplay.append(\"---- \" + name + \" ----\\n\");\n",
    "\t\tdisplay.append(dough + \"\\n\");\n",
    "\t\tdisplay.append(sauce + \"\\n\");\n",
    "\t\tfor (int i = 0; i < toppings.size(); i++) {\n",
    "\t\t\tdisplay.append((String )toppings.get(i) + \"\\n\");\n",
    "\t\t}\n",
    "\t\treturn display.toString();\n",
    "\t}\n",
    "}\n"
   ]
  },
  {
   "cell_type": "code",
   "execution_count": null,
   "metadata": {
    "collapsed": true,
    "slideshow": {
     "slide_type": "slide"
    }
   },
   "outputs": [],
   "source": [
    "# %load ./src/headfirst/factory/pizzafm/NYStyleCheesePizza.java\n",
    "package headfirst.factory.pizzafm;\n",
    "\n",
    "public class NYStyleCheesePizza extends Pizza {\n",
    "\n",
    "\tpublic NYStyleCheesePizza() { \n",
    "\t\tname = \"NY Style Sauce and Cheese Pizza\";\n",
    "\t\tdough = \"Thin Crust Dough\";\n",
    "\t\tsauce = \"Marinara Sauce\";\n",
    " \n",
    "\t\ttoppings.add(\"Grated Reggiano Cheese\");\n",
    "\t}\n",
    "}\n"
   ]
  },
  {
   "cell_type": "code",
   "execution_count": 43,
   "metadata": {
    "collapsed": false,
    "slideshow": {
     "slide_type": "slide"
    }
   },
   "outputs": [
    {
     "name": "stdout",
     "output_type": "stream",
     "text": [
      "Picked up JAVA_TOOL_OPTIONS: -javaagent:/usr/share/java/jayatanaag.jar \n",
      "warning: Supported source version 'RELEASE_6' from annotation processor 'org.sonatype.guice.bean.scanners.index.SisuIndexAPT6' less than -source '1.7'\n",
      "Note: Some input files use unchecked or unsafe operations.\n",
      "Note: Recompile with -Xlint:unchecked for details.\n",
      "1 warning\n"
     ]
    }
   ],
   "source": [
    "!javac -d classes/ -sourcepath src/ src/headfirst/factory/pizzafm/*.java"
   ]
  },
  {
   "cell_type": "code",
   "execution_count": 44,
   "metadata": {
    "collapsed": false,
    "slideshow": {
     "slide_type": "slide"
    }
   },
   "outputs": [
    {
     "name": "stdout",
     "output_type": "stream",
     "text": [
      "Picked up JAVA_TOOL_OPTIONS: -javaagent:/usr/share/java/jayatanaag.jar \n",
      "--- Making a NY Style Sauce and Cheese Pizza ---\n",
      "Preparing NY Style Sauce and Cheese Pizza\n",
      "Tossing dough...\n",
      "Adding sauce...\n",
      "Adding toppings: \n",
      "   Grated Reggiano Cheese\n",
      "Bake for 25 minutes at 350\n",
      "Cutting the pizza into diagonal slices\n",
      "Place pizza in official PizzaStore box\n",
      "Ethan ordered a NY Style Sauce and Cheese Pizza\n",
      "\n",
      "--- Making a Chicago Style Deep Dish Cheese Pizza ---\n",
      "Preparing Chicago Style Deep Dish Cheese Pizza\n",
      "Tossing dough...\n",
      "Adding sauce...\n",
      "Adding toppings: \n",
      "   Shredded Mozzarella Cheese\n",
      "Bake for 25 minutes at 350\n",
      "Cutting the pizza into square slices\n",
      "Place pizza in official PizzaStore box\n",
      "Joel ordered a Chicago Style Deep Dish Cheese Pizza\n",
      "\n",
      "--- Making a NY Style Clam Pizza ---\n",
      "Preparing NY Style Clam Pizza\n",
      "Tossing dough...\n",
      "Adding sauce...\n",
      "Adding toppings: \n",
      "   Grated Reggiano Cheese\n",
      "   Fresh Clams from Long Island Sound\n",
      "Bake for 25 minutes at 350\n",
      "Cutting the pizza into diagonal slices\n",
      "Place pizza in official PizzaStore box\n",
      "Ethan ordered a NY Style Clam Pizza\n",
      "\n",
      "--- Making a Chicago Style Clam Pizza ---\n",
      "Preparing Chicago Style Clam Pizza\n",
      "Tossing dough...\n",
      "Adding sauce...\n",
      "Adding toppings: \n",
      "   Shredded Mozzarella Cheese\n",
      "   Frozen Clams from Chesapeake Bay\n",
      "Bake for 25 minutes at 350\n",
      "Cutting the pizza into square slices\n",
      "Place pizza in official PizzaStore box\n",
      "Joel ordered a Chicago Style Clam Pizza\n",
      "\n",
      "--- Making a NY Style Pepperoni Pizza ---\n",
      "Preparing NY Style Pepperoni Pizza\n",
      "Tossing dough...\n",
      "Adding sauce...\n",
      "Adding toppings: \n",
      "   Grated Reggiano Cheese\n",
      "   Sliced Pepperoni\n",
      "   Garlic\n",
      "   Onion\n",
      "   Mushrooms\n",
      "   Red Pepper\n",
      "Bake for 25 minutes at 350\n",
      "Cutting the pizza into diagonal slices\n",
      "Place pizza in official PizzaStore box\n",
      "Ethan ordered a NY Style Pepperoni Pizza\n",
      "\n",
      "--- Making a Chicago Style Pepperoni Pizza ---\n",
      "Preparing Chicago Style Pepperoni Pizza\n",
      "Tossing dough...\n",
      "Adding sauce...\n",
      "Adding toppings: \n",
      "   Shredded Mozzarella Cheese\n",
      "   Black Olives\n",
      "   Spinach\n",
      "   Eggplant\n",
      "   Sliced Pepperoni\n",
      "Bake for 25 minutes at 350\n",
      "Cutting the pizza into square slices\n",
      "Place pizza in official PizzaStore box\n",
      "Joel ordered a Chicago Style Pepperoni Pizza\n",
      "\n",
      "--- Making a NY Style Veggie Pizza ---\n",
      "Preparing NY Style Veggie Pizza\n",
      "Tossing dough...\n",
      "Adding sauce...\n",
      "Adding toppings: \n",
      "   Grated Reggiano Cheese\n",
      "   Garlic\n",
      "   Onion\n",
      "   Mushrooms\n",
      "   Red Pepper\n",
      "Bake for 25 minutes at 350\n",
      "Cutting the pizza into diagonal slices\n",
      "Place pizza in official PizzaStore box\n",
      "Ethan ordered a NY Style Veggie Pizza\n",
      "\n",
      "--- Making a Chicago Deep Dish Veggie Pizza ---\n",
      "Preparing Chicago Deep Dish Veggie Pizza\n",
      "Tossing dough...\n",
      "Adding sauce...\n",
      "Adding toppings: \n",
      "   Shredded Mozzarella Cheese\n",
      "   Black Olives\n",
      "   Spinach\n",
      "   Eggplant\n",
      "Bake for 25 minutes at 350\n",
      "Cutting the pizza into square slices\n",
      "Place pizza in official PizzaStore box\n",
      "Joel ordered a Chicago Deep Dish Veggie Pizza\n",
      "\n"
     ]
    }
   ],
   "source": [
    "!java -cp classes/ headfirst/factory/pizzafm/PizzaTestDrive"
   ]
  },
  {
   "cell_type": "markdown",
   "metadata": {
    "slideshow": {
     "slide_type": "slide"
    }
   },
   "source": [
    "#### F.4.1.3 abstract factory\n",
    "\n",
    "* Pizza absract factory\n",
    "    * PizzaStore에서 creator(factory)를 생성해서 Pizza에 전달\n",
    "    * Pizza는 creator를 이용해 재료를 넣어 product을 완성\n",
    "    * creator\n",
    "        * abstract factory구조\n",
    "            * PizzaIngredientFactory <|-- NYPizzaIngredientFactory, ChicagoPizzaIngredientFactory\n",
    "    * product\n",
    "        * interface를 사용해 family of products를 제공함\n",
    "            * Dough <|.. Thick, Thin\n",
    "            * Source <|.. PlumTomato, Marinara\n",
    "            * Cheese <|.. Mozzarella, Reggiano\n",
    "            * Clams <|.. Frozen, Fresh\n",
    "* Shape abstract factory (6.2 Shape)\n",
    "    * creator\n",
    "        * abstract factory구조\n",
    "            * DrawingAbstractFactory <|-- ColorFactory, ShapeFactory\n",
    "    * product\n",
    "        * interface를 사용해 family of products를 제공함\n",
    "            * Color <|.. Red, Green, Blue\n",
    "            * Shape <|.. Rectangle, Square"
   ]
  },
  {
   "cell_type": "code",
   "execution_count": 15,
   "metadata": {
    "collapsed": false,
    "slideshow": {
     "slide_type": "slide"
    }
   },
   "outputs": [
    {
     "data": {
      "image/svg+xml": [
       "<svg height=\"408px\" style=\"width:638px;height:408px;\" version=\"1.1\" viewBox=\"0 0 638 408\" width=\"638px\" xmlns=\"http://www.w3.org/2000/svg\" xmlns:xlink=\"http://www.w3.org/1999/xlink\"><defs><filter height=\"300%\" id=\"f1\" width=\"300%\" x=\"-1\" y=\"-1\"><feGaussianBlur result=\"blurOut\" stdDeviation=\"2.0\"/><feColorMatrix in=\"blurOut\" result=\"blurOut2\" type=\"matrix\" values=\"0 0 0 0 0 0 0 0 0 0 0 0 0 0 0 0 0 0 .4 0\"/><feOffset dx=\"4.0\" dy=\"4.0\" in=\"blurOut2\" result=\"blurOut3\"/><feBlend in=\"SourceGraphic\" in2=\"blurOut3\" mode=\"normal\"/></filter></defs><g><rect fill=\"#FEFECE\" filter=\"url(#f1)\" height=\"48\" style=\"stroke: #A80036; stroke-width: 1.5;\" width=\"162\" x=\"235\" y=\"8\"/><ellipse cx=\"250\" cy=\"24\" fill=\"#ADD1B2\" rx=\"11\" ry=\"11\" style=\"stroke: #A80036; stroke-width: 1.0;\"/><path d=\"M252.9731,29.6431 Q252.3921,29.9419 251.7529,30.0913 Q251.1138,30.2407 250.4082,30.2407 Q247.9014,30.2407 246.5815,28.5889 Q245.2617,26.937 245.2617,23.8159 Q245.2617,20.6865 246.5815,19.0347 Q247.9014,17.3828 250.4082,17.3828 Q251.1138,17.3828 251.7612,17.5322 Q252.4087,17.6816 252.9731,17.9805 L252.9731,20.7031 Q252.3423,20.1221 251.7488,19.8523 Q251.1553,19.5825 250.5244,19.5825 Q249.1797,19.5825 248.4949,20.6492 Q247.8101,21.7158 247.8101,23.8159 Q247.8101,25.9077 248.4949,26.9744 Q249.1797,28.041 250.5244,28.041 Q251.1553,28.041 251.7488,27.7712 Q252.3423,27.5015 252.9731,26.9204 Z \"/><text fill=\"#000000\" font-family=\"sans-serif\" font-size=\"12\" lengthAdjust=\"spacingAndGlyphs\" textLength=\"130\" x=\"264\" y=\"28.5352\">PizzaIngredientFactory</text><line style=\"stroke: #A80036; stroke-width: 1.5;\" x1=\"236\" x2=\"396\" y1=\"40\" y2=\"40\"/><line style=\"stroke: #A80036; stroke-width: 1.5;\" x1=\"236\" x2=\"396\" y1=\"48\" y2=\"48\"/><rect fill=\"#FEFECE\" filter=\"url(#f1)\" height=\"54.2656\" style=\"stroke: #A80036; stroke-width: 1.5;\" width=\"131\" x=\"167.5\" y=\"116\"/><ellipse cx=\"182.5\" cy=\"135.1328\" fill=\"#ADD1B2\" rx=\"11\" ry=\"11\" style=\"stroke: #A80036; stroke-width: 1.0;\"/><path d=\"M185.4731,140.7759 Q184.8921,141.0747 184.2529,141.2241 Q183.6138,141.3735 182.9082,141.3735 Q180.4014,141.3735 179.0815,139.7217 Q177.7617,138.0698 177.7617,134.9487 Q177.7617,131.8193 179.0815,130.1675 Q180.4014,128.5156 182.9082,128.5156 Q183.6138,128.5156 184.2612,128.665 Q184.9087,128.8145 185.4731,129.1133 L185.4731,131.8359 Q184.8423,131.2549 184.2488,130.9851 Q183.6553,130.7153 183.0244,130.7153 Q181.6797,130.7153 180.9949,131.782 Q180.3101,132.8486 180.3101,134.9487 Q180.3101,137.0405 180.9949,138.1072 Q181.6797,139.1738 183.0244,139.1738 Q183.6553,139.1738 184.2488,138.9041 Q184.8423,138.6343 185.4731,138.0532 Z \"/><text fill=\"#000000\" font-family=\"sans-serif\" font-size=\"12\" lengthAdjust=\"spacingAndGlyphs\" textLength=\"76\" x=\"208\" y=\"132.6016\">ChicagoPizza</text><text fill=\"#000000\" font-family=\"sans-serif\" font-size=\"12\" lengthAdjust=\"spacingAndGlyphs\" textLength=\"99\" x=\"196.5\" y=\"146.7344\">IngredientFactory</text><line style=\"stroke: #A80036; stroke-width: 1.5;\" x1=\"168.5\" x2=\"297.5\" y1=\"154.2656\" y2=\"154.2656\"/><line style=\"stroke: #A80036; stroke-width: 1.5;\" x1=\"168.5\" x2=\"297.5\" y1=\"162.2656\" y2=\"162.2656\"/><rect fill=\"#FEFECE\" filter=\"url(#f1)\" height=\"54.2656\" style=\"stroke: #A80036; stroke-width: 1.5;\" width=\"131\" x=\"333.5\" y=\"116\"/><ellipse cx=\"348.5\" cy=\"135.1328\" fill=\"#ADD1B2\" rx=\"11\" ry=\"11\" style=\"stroke: #A80036; stroke-width: 1.0;\"/><path d=\"M351.4731,140.7759 Q350.8921,141.0747 350.2529,141.2241 Q349.6138,141.3735 348.9082,141.3735 Q346.4014,141.3735 345.0815,139.7217 Q343.7617,138.0698 343.7617,134.9487 Q343.7617,131.8193 345.0815,130.1675 Q346.4014,128.5156 348.9082,128.5156 Q349.6138,128.5156 350.2612,128.665 Q350.9087,128.8145 351.4731,129.1133 L351.4731,131.8359 Q350.8423,131.2549 350.2488,130.9851 Q349.6553,130.7153 349.0244,130.7153 Q347.6797,130.7153 346.9949,131.782 Q346.3101,132.8486 346.3101,134.9487 Q346.3101,137.0405 346.9949,138.1072 Q347.6797,139.1738 349.0244,139.1738 Q349.6553,139.1738 350.2488,138.9041 Q350.8423,138.6343 351.4731,138.0532 Z \"/><text fill=\"#000000\" font-family=\"sans-serif\" font-size=\"12\" lengthAdjust=\"spacingAndGlyphs\" textLength=\"47\" x=\"388.5\" y=\"132.6016\">NYPizza</text><text fill=\"#000000\" font-family=\"sans-serif\" font-size=\"12\" lengthAdjust=\"spacingAndGlyphs\" textLength=\"99\" x=\"362.5\" y=\"146.7344\">IngredientFactory</text><line style=\"stroke: #A80036; stroke-width: 1.5;\" x1=\"334.5\" x2=\"463.5\" y1=\"154.2656\" y2=\"154.2656\"/><line style=\"stroke: #A80036; stroke-width: 1.5;\" x1=\"334.5\" x2=\"463.5\" y1=\"162.2656\" y2=\"162.2656\"/><rect fill=\"#FEFECE\" filter=\"url(#f1)\" height=\"60.9551\" style=\"stroke: #A80036; stroke-width: 1.5;\" width=\"115\" x=\"175.5\" y=\"230\"/><ellipse cx=\"211.2\" cy=\"246\" fill=\"#B4A7E5\" rx=\"11\" ry=\"11\" style=\"stroke: #A80036; stroke-width: 1.0;\"/><path d=\"M207.1277,241.7651 L207.1277,239.6069 L214.5071,239.6069 L214.5071,241.7651 L212.0418,241.7651 L212.0418,249.8418 L214.5071,249.8418 L214.5071,252 L207.1277,252 L207.1277,249.8418 L209.5931,249.8418 L209.5931,241.7651 Z \"/><text fill=\"#000000\" font-family=\"sans-serif\" font-size=\"12\" font-style=\"italic\" lengthAdjust=\"spacingAndGlyphs\" textLength=\"37\" x=\"229.8\" y=\"250.5352\">Dough</text><line style=\"stroke: #A80036; stroke-width: 1.5;\" x1=\"176.5\" x2=\"289.5\" y1=\"262\" y2=\"262\"/><line style=\"stroke: #A80036; stroke-width: 1.5;\" x1=\"176.5\" x2=\"289.5\" y1=\"270\" y2=\"270\"/><ellipse cx=\"186.5\" cy=\"281.9775\" fill=\"#84BE84\" rx=\"3\" ry=\"3\" style=\"stroke: #038048; stroke-width: 1.0;\"/><text fill=\"#000000\" font-family=\"sans-serif\" font-size=\"11\" lengthAdjust=\"spacingAndGlyphs\" textLength=\"89\" x=\"195.5\" y=\"284.6348\">String toString();</text><rect fill=\"#FEFECE\" filter=\"url(#f1)\" height=\"60.9551\" style=\"stroke: #A80036; stroke-width: 1.5;\" width=\"112\" x=\"343\" y=\"230\"/><ellipse cx=\"375.1\" cy=\"246\" fill=\"#B4A7E5\" rx=\"11\" ry=\"11\" style=\"stroke: #A80036; stroke-width: 1.0;\"/><path d=\"M371.0277,241.7651 L371.0277,239.6069 L378.4071,239.6069 L378.4071,241.7651 L375.9418,241.7651 L375.9418,249.8418 L378.4071,249.8418 L378.4071,252 L371.0277,252 L371.0277,249.8418 L373.4931,249.8418 L373.4931,241.7651 Z \"/><text fill=\"#000000\" font-family=\"sans-serif\" font-size=\"12\" font-style=\"italic\" lengthAdjust=\"spacingAndGlyphs\" textLength=\"42\" x=\"392.9\" y=\"250.5352\">Cheese</text><line style=\"stroke: #A80036; stroke-width: 1.5;\" x1=\"344\" x2=\"454\" y1=\"262\" y2=\"262\"/><line style=\"stroke: #A80036; stroke-width: 1.5;\" x1=\"344\" x2=\"454\" y1=\"270\" y2=\"270\"/><ellipse cx=\"354\" cy=\"281.9775\" fill=\"#84BE84\" rx=\"3\" ry=\"3\" style=\"stroke: #038048; stroke-width: 1.0;\"/><text fill=\"#000000\" font-family=\"sans-serif\" font-size=\"11\" lengthAdjust=\"spacingAndGlyphs\" textLength=\"86\" x=\"363\" y=\"284.6348\">toString():String</text><rect fill=\"#FEFECE\" filter=\"url(#f1)\" height=\"48\" style=\"stroke: #A80036; stroke-width: 1.5;\" width=\"137\" x=\"330.5\" y=\"351\"/><ellipse cx=\"345.5\" cy=\"367\" fill=\"#ADD1B2\" rx=\"11\" ry=\"11\" style=\"stroke: #A80036; stroke-width: 1.0;\"/><path d=\"M348.4731,372.6431 Q347.8921,372.9419 347.2529,373.0913 Q346.6138,373.2407 345.9082,373.2407 Q343.4014,373.2407 342.0815,371.5889 Q340.7617,369.937 340.7617,366.8159 Q340.7617,363.6865 342.0815,362.0347 Q343.4014,360.3828 345.9082,360.3828 Q346.6138,360.3828 347.2612,360.5322 Q347.9087,360.6816 348.4731,360.9805 L348.4731,363.7031 Q347.8423,363.1221 347.2488,362.8523 Q346.6553,362.5825 346.0244,362.5825 Q344.6797,362.5825 343.9949,363.6492 Q343.3101,364.7158 343.3101,366.8159 Q343.3101,368.9077 343.9949,369.9744 Q344.6797,371.041 346.0244,371.041 Q346.6553,371.041 347.2488,370.7712 Q347.8423,370.5015 348.4731,369.9204 Z \"/><text fill=\"#000000\" font-family=\"sans-serif\" font-size=\"12\" lengthAdjust=\"spacingAndGlyphs\" textLength=\"105\" x=\"359.5\" y=\"371.5352\">MozzarellaCheese</text><line style=\"stroke: #A80036; stroke-width: 1.5;\" x1=\"331.5\" x2=\"466.5\" y1=\"383\" y2=\"383\"/><line style=\"stroke: #A80036; stroke-width: 1.5;\" x1=\"331.5\" x2=\"466.5\" y1=\"391\" y2=\"391\"/><rect fill=\"#FEFECE\" filter=\"url(#f1)\" height=\"48\" style=\"stroke: #A80036; stroke-width: 1.5;\" width=\"127\" x=\"502.5\" y=\"351\"/><ellipse cx=\"517.5\" cy=\"367\" fill=\"#ADD1B2\" rx=\"11\" ry=\"11\" style=\"stroke: #A80036; stroke-width: 1.0;\"/><path d=\"M520.4731,372.6431 Q519.8921,372.9419 519.2529,373.0913 Q518.6138,373.2407 517.9082,373.2407 Q515.4014,373.2407 514.0815,371.5889 Q512.7617,369.937 512.7617,366.8159 Q512.7617,363.6865 514.0815,362.0347 Q515.4014,360.3828 517.9082,360.3828 Q518.6138,360.3828 519.2612,360.5322 Q519.9087,360.6816 520.4731,360.9805 L520.4731,363.7031 Q519.8423,363.1221 519.2488,362.8523 Q518.6553,362.5825 518.0244,362.5825 Q516.6797,362.5825 515.9949,363.6492 Q515.3101,364.7158 515.3101,366.8159 Q515.3101,368.9077 515.9949,369.9744 Q516.6797,371.041 518.0244,371.041 Q518.6553,371.041 519.2488,370.7712 Q519.8423,370.5015 520.4731,369.9204 Z \"/><text fill=\"#000000\" font-family=\"sans-serif\" font-size=\"12\" lengthAdjust=\"spacingAndGlyphs\" textLength=\"95\" x=\"531.5\" y=\"371.5352\">ReggianoCheese</text><line style=\"stroke: #A80036; stroke-width: 1.5;\" x1=\"503.5\" x2=\"628.5\" y1=\"383\" y2=\"383\"/><line style=\"stroke: #A80036; stroke-width: 1.5;\" x1=\"503.5\" x2=\"628.5\" y1=\"391\" y2=\"391\"/><rect fill=\"#FEFECE\" filter=\"url(#f1)\" height=\"48\" style=\"stroke: #A80036; stroke-width: 1.5;\" width=\"130\" x=\"6\" y=\"351\"/><ellipse cx=\"21\" cy=\"367\" fill=\"#ADD1B2\" rx=\"11\" ry=\"11\" style=\"stroke: #A80036; stroke-width: 1.0;\"/><path d=\"M23.9731,372.6431 Q23.3921,372.9419 22.7529,373.0913 Q22.1138,373.2407 21.4082,373.2407 Q18.9014,373.2407 17.5815,371.5889 Q16.2617,369.937 16.2617,366.8159 Q16.2617,363.6865 17.5815,362.0347 Q18.9014,360.3828 21.4082,360.3828 Q22.1138,360.3828 22.7612,360.5322 Q23.4087,360.6816 23.9731,360.9805 L23.9731,363.7031 Q23.3423,363.1221 22.7488,362.8523 Q22.1553,362.5825 21.5244,362.5825 Q20.1797,362.5825 19.4949,363.6492 Q18.8101,364.7158 18.8101,366.8159 Q18.8101,368.9077 19.4949,369.9744 Q20.1797,371.041 21.5244,371.041 Q22.1553,371.041 22.7488,370.7712 Q23.3423,370.5015 23.9731,369.9204 Z \"/><text fill=\"#000000\" font-family=\"sans-serif\" font-size=\"12\" lengthAdjust=\"spacingAndGlyphs\" textLength=\"98\" x=\"35\" y=\"371.5352\">ThickCrustDough</text><line style=\"stroke: #A80036; stroke-width: 1.5;\" x1=\"7\" x2=\"135\" y1=\"383\" y2=\"383\"/><line style=\"stroke: #A80036; stroke-width: 1.5;\" x1=\"7\" x2=\"135\" y1=\"391\" y2=\"391\"/><rect fill=\"#FEFECE\" filter=\"url(#f1)\" height=\"48\" style=\"stroke: #A80036; stroke-width: 1.5;\" width=\"124\" x=\"171\" y=\"351\"/><ellipse cx=\"186\" cy=\"367\" fill=\"#ADD1B2\" rx=\"11\" ry=\"11\" style=\"stroke: #A80036; stroke-width: 1.0;\"/><path d=\"M188.9731,372.6431 Q188.3921,372.9419 187.7529,373.0913 Q187.1138,373.2407 186.4082,373.2407 Q183.9014,373.2407 182.5815,371.5889 Q181.2617,369.937 181.2617,366.8159 Q181.2617,363.6865 182.5815,362.0347 Q183.9014,360.3828 186.4082,360.3828 Q187.1138,360.3828 187.7612,360.5322 Q188.4087,360.6816 188.9731,360.9805 L188.9731,363.7031 Q188.3423,363.1221 187.7488,362.8523 Q187.1553,362.5825 186.5244,362.5825 Q185.1797,362.5825 184.4949,363.6492 Q183.8101,364.7158 183.8101,366.8159 Q183.8101,368.9077 184.4949,369.9744 Q185.1797,371.041 186.5244,371.041 Q187.1553,371.041 187.7488,370.7712 Q188.3423,370.5015 188.9731,369.9204 Z \"/><text fill=\"#000000\" font-family=\"sans-serif\" font-size=\"12\" lengthAdjust=\"spacingAndGlyphs\" textLength=\"92\" x=\"200\" y=\"371.5352\">ThinCrustDough</text><line style=\"stroke: #A80036; stroke-width: 1.5;\" x1=\"172\" x2=\"294\" y1=\"383\" y2=\"383\"/><line style=\"stroke: #A80036; stroke-width: 1.5;\" x1=\"172\" x2=\"294\" y1=\"391\" y2=\"391\"/><path d=\"M286.183,72.158 C275.127,86.677 262.867,102.777 252.907,115.857 \" fill=\"none\" style=\"stroke: #A80036; stroke-width: 1.0; stroke-dasharray: 7.0,7.0;\"/><polygon fill=\"none\" points=\"280.712,67.787,298.398,56.116,291.851,76.269,280.712,67.787\" style=\"stroke: #A80036; stroke-width: 1.0;\"/><path d=\"M345.817,72.158 C356.873,86.677 369.133,102.777 379.093,115.857 \" fill=\"none\" style=\"stroke: #A80036; stroke-width: 1.0; stroke-dasharray: 7.0,7.0;\"/><polygon fill=\"none\" points=\"340.149,76.269,333.602,56.116,351.288,67.787,340.149,76.269\" style=\"stroke: #A80036; stroke-width: 1.0;\"/><path d=\"M361.332,170.209 C337.188,187.008 305.662,208.943 279.899,226.868 \" fill=\"none\" style=\"stroke: #A80036; stroke-width: 1.0; stroke-dasharray: 7.0,7.0;\"/><polygon fill=\"#A80036\" points=\"275.488,229.937,285.1602,228.0802,279.5923,227.0813,280.5911,221.5133,275.488,229.937\" style=\"stroke: #A80036; stroke-width: 1.0;\"/><path d=\"M399,170.209 C399,186.253 399,206.983 399,224.43 \" fill=\"none\" style=\"stroke: #A80036; stroke-width: 1.0; stroke-dasharray: 7.0,7.0;\"/><polygon fill=\"#A80036\" points=\"399,229.73,403,220.73,399,224.73,395,220.73,399,229.73\" style=\"stroke: #A80036; stroke-width: 1.0;\"/><path d=\"M233,170.209 C233,186.253 233,206.983 233,224.43 \" fill=\"none\" style=\"stroke: #A80036; stroke-width: 1.0; stroke-dasharray: 7.0,7.0;\"/><polygon fill=\"#A80036\" points=\"233,229.73,237,220.73,233,224.73,229,220.73,233,229.73\" style=\"stroke: #A80036; stroke-width: 1.0;\"/><path d=\"M270.668,170.209 C294.812,187.008 326.338,208.943 352.101,226.868 \" fill=\"none\" style=\"stroke: #A80036; stroke-width: 1.0; stroke-dasharray: 7.0,7.0;\"/><polygon fill=\"#A80036\" points=\"356.512,229.937,351.4089,221.5133,352.4077,227.0813,346.8398,228.0802,356.512,229.937\" style=\"stroke: #A80036; stroke-width: 1.0;\"/><path d=\"M399,311.1067 C399,324.8764 399,339.1847 399,350.6686 \" fill=\"none\" style=\"stroke: #A80036; stroke-width: 1.0; stroke-dasharray: 7.0,7.0;\"/><polygon fill=\"none\" points=\"392,311.0581,399,291.058,406,311.058,392,311.0581\" style=\"stroke: #A80036; stroke-width: 1.0;\"/><path d=\"M459.517,302.2676 C483.784,318.6148 510.859,336.854 531.635,350.8498 \" fill=\"none\" style=\"stroke: #A80036; stroke-width: 1.0; stroke-dasharray: 7.0,7.0;\"/><polygon fill=\"none\" points=\"455.554,308.0378,442.877,291.058,463.376,296.427,455.554,308.0378\" style=\"stroke: #A80036; stroke-width: 1.0;\"/><path d=\"M173.953,302.5046 C150.501,318.791 124.393,336.9216 104.3364,350.8498 \" fill=\"none\" style=\"stroke: #A80036; stroke-width: 1.0; stroke-dasharray: 7.0,7.0;\"/><polygon fill=\"none\" points=\"170.016,296.716,190.436,291.058,178.002,308.2156,170.016,296.716\" style=\"stroke: #A80036; stroke-width: 1.0;\"/><path d=\"M233,311.1067 C233,324.8764 233,339.1847 233,350.6686 \" fill=\"none\" style=\"stroke: #A80036; stroke-width: 1.0; stroke-dasharray: 7.0,7.0;\"/><polygon fill=\"none\" points=\"226,311.0581,233,291.058,240,311.058,226,311.0581\" style=\"stroke: #A80036; stroke-width: 1.0;\"/></g></svg>"
      ],
      "text/plain": [
       "<IPython.core.display.SVG object>"
      ]
     },
     "execution_count": 15,
     "metadata": {},
     "output_type": "execute_result"
    }
   ],
   "source": [
    "%%plantuml\n",
    "@startuml\n",
    "\n",
    "PizzaIngredientFactory <|.. \"ChicagoPizza\\nIngredientFactory\"\n",
    "PizzaIngredientFactory <|.. \"NYPizza\\nIngredientFactory\"\n",
    "\"NYPizza\\nIngredientFactory\" ..> Dough\n",
    "\"NYPizza\\nIngredientFactory\" ..> Cheese\n",
    "\"ChicagoPizza\\nIngredientFactory\" ..> Dough\n",
    "\"ChicagoPizza\\nIngredientFactory\" ..> Cheese\n",
    "\n",
    "interface Cheese {\n",
    "    +toString():String\n",
    "}\n",
    "interface Dough {\n",
    "    +String toString();\n",
    "}\n",
    "Cheese <|.. MozzarellaCheese\n",
    "Cheese <|.. ReggianoCheese\n",
    "Dough <|.. ThickCrustDough\n",
    "Dough <|.. ThinCrustDough\n",
    "@enduml"
   ]
  },
  {
   "cell_type": "code",
   "execution_count": 18,
   "metadata": {
    "collapsed": false,
    "slideshow": {
     "slide_type": "slide"
    }
   },
   "outputs": [
    {
     "data": {
      "image/svg+xml": [
       "<svg height=\"819px\" style=\"width:670px;height:819px;\" version=\"1.1\" viewBox=\"0 0 670 819\" width=\"670px\" xmlns=\"http://www.w3.org/2000/svg\" xmlns:xlink=\"http://www.w3.org/1999/xlink\"><defs><filter height=\"300%\" id=\"f1\" width=\"300%\" x=\"-1\" y=\"-1\"><feGaussianBlur result=\"blurOut\" stdDeviation=\"2.0\"/><feColorMatrix in=\"blurOut\" result=\"blurOut2\" type=\"matrix\" values=\"0 0 0 0 0 0 0 0 0 0 0 0 0 0 0 0 0 0 .4 0\"/><feOffset dx=\"4.0\" dy=\"4.0\" in=\"blurOut2\" result=\"blurOut3\"/><feBlend in=\"SourceGraphic\" in2=\"blurOut3\" mode=\"normal\"/></filter></defs><g><rect fill=\"#FEFECE\" filter=\"url(#f1)\" height=\"177.5508\" style=\"stroke: #A80036; stroke-width: 1.5;\" width=\"170\" x=\"460\" y=\"8\"/><ellipse cx=\"525.25\" cy=\"24\" fill=\"#A9DCDF\" rx=\"11\" ry=\"11\" style=\"stroke: #A80036; stroke-width: 1.0;\"/><path d=\"M525.3633,19.3481 L524.2095,24.4199 L526.5254,24.4199 Z M523.8691,17.1069 L526.8657,17.1069 L530.2109,29.5 L527.7622,29.5 L526.9985,26.437 L523.7197,26.437 L522.9727,29.5 L520.5239,29.5 Z \"/><text fill=\"#000000\" font-family=\"sans-serif\" font-size=\"12\" font-style=\"italic\" lengthAdjust=\"spacingAndGlyphs\" textLength=\"31\" x=\"545.75\" y=\"28.5352\">Pizza</text><line style=\"stroke: #A80036; stroke-width: 1.5;\" x1=\"461\" x2=\"629\" y1=\"40\" y2=\"40\"/><text fill=\"#000000\" font-family=\"sans-serif\" font-size=\"11\" lengthAdjust=\"spacingAndGlyphs\" textLength=\"67\" x=\"466\" y=\"54.6348\">String name;</text><text fill=\"#000000\" font-family=\"sans-serif\" font-size=\"11\" lengthAdjust=\"spacingAndGlyphs\" textLength=\"77\" x=\"466\" y=\"67.5898\">Dough dough;</text><text fill=\"#000000\" font-family=\"sans-serif\" font-size=\"11\" lengthAdjust=\"spacingAndGlyphs\" textLength=\"82\" x=\"466\" y=\"80.5449\">Cheese cheese;</text><line style=\"stroke: #A80036; stroke-width: 1.5;\" x1=\"461\" x2=\"629\" y1=\"86.8652\" y2=\"86.8652\"/><text fill=\"#000000\" font-family=\"sans-serif\" font-size=\"11\" lengthAdjust=\"spacingAndGlyphs\" textLength=\"126\" x=\"480\" y=\"101.5\">abstract void prepare();</text><text fill=\"#000000\" font-family=\"sans-serif\" font-size=\"11\" lengthAdjust=\"spacingAndGlyphs\" textLength=\"59\" x=\"480\" y=\"114.4551\">void bake()</text><text fill=\"#000000\" font-family=\"sans-serif\" font-size=\"11\" lengthAdjust=\"spacingAndGlyphs\" textLength=\"51\" x=\"480\" y=\"127.4102\">void cut()</text><text fill=\"#000000\" font-family=\"sans-serif\" font-size=\"11\" lengthAdjust=\"spacingAndGlyphs\" textLength=\"55\" x=\"480\" y=\"140.3652\">void box()</text><text fill=\"#000000\" font-family=\"sans-serif\" font-size=\"11\" lengthAdjust=\"spacingAndGlyphs\" textLength=\"144\" x=\"480\" y=\"153.3203\">void setName(String name)</text><text fill=\"#000000\" font-family=\"sans-serif\" font-size=\"11\" lengthAdjust=\"spacingAndGlyphs\" textLength=\"90\" x=\"480\" y=\"166.2754\">String getName()</text><ellipse cx=\"471\" cy=\"176.5732\" fill=\"#84BE84\" rx=\"3\" ry=\"3\" style=\"stroke: #038048; stroke-width: 1.0;\"/><text fill=\"#000000\" font-family=\"sans-serif\" font-size=\"11\" lengthAdjust=\"spacingAndGlyphs\" textLength=\"86\" x=\"480\" y=\"179.2305\">String toString()</text><rect fill=\"#FEFECE\" filter=\"url(#f1)\" height=\"86.8652\" style=\"stroke: #A80036; stroke-width: 1.5;\" width=\"232\" x=\"429\" y=\"246\"/><ellipse cx=\"504.25\" cy=\"262\" fill=\"#ADD1B2\" rx=\"11\" ry=\"11\" style=\"stroke: #A80036; stroke-width: 1.0;\"/><path d=\"M507.2231,267.6431 Q506.6421,267.9419 506.0029,268.0913 Q505.3638,268.2407 504.6582,268.2407 Q502.1514,268.2407 500.8315,266.5889 Q499.5117,264.937 499.5117,261.8159 Q499.5117,258.6865 500.8315,257.0347 Q502.1514,255.3828 504.6582,255.3828 Q505.3638,255.3828 506.0112,255.5322 Q506.6587,255.6816 507.2231,255.9805 L507.2231,258.7031 Q506.5923,258.1221 505.9988,257.8523 Q505.4053,257.5825 504.7744,257.5825 Q503.4297,257.5825 502.7449,258.6492 Q502.0601,259.7158 502.0601,261.8159 Q502.0601,263.9077 502.7449,264.9744 Q503.4297,266.041 504.7744,266.041 Q505.4053,266.041 505.9988,265.7712 Q506.5923,265.5015 507.2231,264.9204 Z \"/><text fill=\"#000000\" font-family=\"sans-serif\" font-size=\"12\" lengthAdjust=\"spacingAndGlyphs\" textLength=\"73\" x=\"524.75\" y=\"266.5352\">CheesePizza</text><line style=\"stroke: #A80036; stroke-width: 1.5;\" x1=\"430\" x2=\"660\" y1=\"278\" y2=\"278\"/><text fill=\"#000000\" font-family=\"sans-serif\" font-size=\"11\" lengthAdjust=\"spacingAndGlyphs\" textLength=\"220\" x=\"435\" y=\"292.6348\">PizzaIngredientFactory ingredientFactory</text><line style=\"stroke: #A80036; stroke-width: 1.5;\" x1=\"430\" x2=\"660\" y1=\"298.9551\" y2=\"298.9551\"/><ellipse cx=\"440\" cy=\"310.9326\" fill=\"#84BE84\" rx=\"3\" ry=\"3\" style=\"stroke: #038048; stroke-width: 1.0;\"/><text fill=\"#000000\" font-family=\"sans-serif\" font-size=\"11\" lengthAdjust=\"spacingAndGlyphs\" textLength=\"196\" x=\"449\" y=\"313.5898\">CheesePizza(PizzaIngredientFactory)</text><text fill=\"#000000\" font-family=\"sans-serif\" font-size=\"11\" lengthAdjust=\"spacingAndGlyphs\" textLength=\"76\" x=\"449\" y=\"326.5449\">void prepare()</text><rect fill=\"#FEFECE\" filter=\"url(#f1)\" height=\"73.9102\" style=\"stroke: #A80036; stroke-width: 1.5;\" width=\"232\" x=\"94\" y=\"60\"/><ellipse cx=\"175.75\" cy=\"76\" fill=\"#A9DCDF\" rx=\"11\" ry=\"11\" style=\"stroke: #A80036; stroke-width: 1.0;\"/><path d=\"M175.8633,71.3481 L174.7095,76.4199 L177.0254,76.4199 Z M174.3691,69.1069 L177.3657,69.1069 L180.7109,81.5 L178.2622,81.5 L177.4985,78.437 L174.2197,78.437 L173.4727,81.5 L171.0239,81.5 Z \"/><text fill=\"#000000\" font-family=\"sans-serif\" font-size=\"12\" font-style=\"italic\" lengthAdjust=\"spacingAndGlyphs\" textLength=\"60\" x=\"196.25\" y=\"80.5352\">PizzaStore</text><line style=\"stroke: #A80036; stroke-width: 1.5;\" x1=\"95\" x2=\"325\" y1=\"92\" y2=\"92\"/><line style=\"stroke: #A80036; stroke-width: 1.5;\" x1=\"95\" x2=\"325\" y1=\"100\" y2=\"100\"/><polygon fill=\"#FFFF44\" points=\"105,106.9775,109,110.9775,105,114.9775,101,110.9775\" style=\"stroke: #B38D22; stroke-width: 1.0;\"/><text fill=\"#000000\" font-family=\"sans-serif\" font-size=\"11\" lengthAdjust=\"spacingAndGlyphs\" textLength=\"206\" x=\"114\" y=\"114.6348\">abstract Pizza createPizza(String item);</text><ellipse cx=\"105\" cy=\"124.9326\" fill=\"#84BE84\" rx=\"3\" ry=\"3\" style=\"stroke: #038048; stroke-width: 1.0;\"/><text fill=\"#000000\" font-family=\"sans-serif\" font-size=\"11\" lengthAdjust=\"spacingAndGlyphs\" textLength=\"153\" x=\"114\" y=\"127.5898\">Pizza orderPizza(String type)</text><rect fill=\"#FEFECE\" filter=\"url(#f1)\" height=\"60.9551\" style=\"stroke: #A80036; stroke-width: 1.5;\" width=\"156\" x=\"238\" y=\"259\"/><ellipse cx=\"261.55\" cy=\"275\" fill=\"#ADD1B2\" rx=\"11\" ry=\"11\" style=\"stroke: #A80036; stroke-width: 1.0;\"/><path d=\"M264.5231,280.6431 Q263.9421,280.9419 263.3029,281.0913 Q262.6638,281.2407 261.9582,281.2407 Q259.4514,281.2407 258.1315,279.5889 Q256.8117,277.937 256.8117,274.8159 Q256.8117,271.6865 258.1315,270.0347 Q259.4514,268.3828 261.9582,268.3828 Q262.6638,268.3828 263.3112,268.5322 Q263.9587,268.6816 264.5231,268.9805 L264.5231,271.7031 Q263.8923,271.1221 263.2988,270.8523 Q262.7053,270.5825 262.0744,270.5825 Q260.7297,270.5825 260.0449,271.6492 Q259.3601,272.7158 259.3601,274.8159 Q259.3601,276.9077 260.0449,277.9744 Q260.7297,279.041 262.0744,279.041 Q262.7053,279.041 263.2988,278.7712 Q263.8923,278.5015 264.5231,277.9204 Z \"/><text fill=\"#000000\" font-family=\"sans-serif\" font-size=\"12\" lengthAdjust=\"spacingAndGlyphs\" textLength=\"105\" x=\"277.45\" y=\"279.5352\">ChicagoPizzaStore</text><line style=\"stroke: #A80036; stroke-width: 1.5;\" x1=\"239\" x2=\"393\" y1=\"291\" y2=\"291\"/><line style=\"stroke: #A80036; stroke-width: 1.5;\" x1=\"239\" x2=\"393\" y1=\"299\" y2=\"299\"/><polygon fill=\"#FFFF44\" points=\"249,305.9775,253,309.9775,249,313.9775,245,309.9775\" style=\"stroke: #B38D22; stroke-width: 1.0;\"/><text fill=\"#000000\" font-family=\"sans-serif\" font-size=\"11\" lengthAdjust=\"spacingAndGlyphs\" textLength=\"130\" x=\"258\" y=\"313.6348\">Pizza createPizza(String)</text><rect fill=\"#FEFECE\" filter=\"url(#f1)\" height=\"60.9551\" style=\"stroke: #A80036; stroke-width: 1.5;\" width=\"182\" x=\"21\" y=\"259\"/><ellipse cx=\"69.75\" cy=\"275\" fill=\"#ADD1B2\" rx=\"11\" ry=\"11\" style=\"stroke: #A80036; stroke-width: 1.0;\"/><path d=\"M72.7231,280.6431 Q72.1421,280.9419 71.5029,281.0913 Q70.8638,281.2407 70.1582,281.2407 Q67.6514,281.2407 66.3315,279.5889 Q65.0117,277.937 65.0117,274.8159 Q65.0117,271.6865 66.3315,270.0347 Q67.6514,268.3828 70.1582,268.3828 Q70.8638,268.3828 71.5112,268.5322 Q72.1587,268.6816 72.7231,268.9805 L72.7231,271.7031 Q72.0923,271.1221 71.4988,270.8523 Q70.9053,270.5825 70.2744,270.5825 Q68.9297,270.5825 68.2449,271.6492 Q67.5601,272.7158 67.5601,274.8159 Q67.5601,276.9077 68.2449,277.9744 Q68.9297,279.041 70.2744,279.041 Q70.9053,279.041 71.4988,278.7712 Q72.0923,278.5015 72.7231,277.9204 Z \"/><text fill=\"#000000\" font-family=\"sans-serif\" font-size=\"12\" lengthAdjust=\"spacingAndGlyphs\" textLength=\"76\" x=\"90.25\" y=\"279.5352\">NYPizzaStore</text><line style=\"stroke: #A80036; stroke-width: 1.5;\" x1=\"22\" x2=\"202\" y1=\"291\" y2=\"291\"/><line style=\"stroke: #A80036; stroke-width: 1.5;\" x1=\"22\" x2=\"202\" y1=\"299\" y2=\"299\"/><polygon fill=\"#FFFF44\" points=\"32,305.9775,36,309.9775,32,313.9775,28,309.9775\" style=\"stroke: #B38D22; stroke-width: 1.0;\"/><text fill=\"#000000\" font-family=\"sans-serif\" font-size=\"11\" lengthAdjust=\"spacingAndGlyphs\" textLength=\"156\" x=\"41\" y=\"313.6348\">Pizza createPizza(String item)</text><rect fill=\"#FEFECE\" filter=\"url(#f1)\" height=\"73.9102\" style=\"stroke: #A80036; stroke-width: 1.5;\" width=\"162\" x=\"235\" y=\"393\"/><ellipse cx=\"250\" cy=\"409\" fill=\"#B4A7E5\" rx=\"11\" ry=\"11\" style=\"stroke: #A80036; stroke-width: 1.0;\"/><path d=\"M245.9277,404.7651 L245.9277,402.6069 L253.3071,402.6069 L253.3071,404.7651 L250.8418,404.7651 L250.8418,412.8418 L253.3071,412.8418 L253.3071,415 L245.9277,415 L245.9277,412.8418 L248.3931,412.8418 L248.3931,404.7651 Z \"/><text fill=\"#000000\" font-family=\"sans-serif\" font-size=\"12\" font-style=\"italic\" lengthAdjust=\"spacingAndGlyphs\" textLength=\"130\" x=\"264\" y=\"413.5352\">PizzaIngredientFactory</text><line style=\"stroke: #A80036; stroke-width: 1.5;\" x1=\"236\" x2=\"396\" y1=\"425\" y2=\"425\"/><line style=\"stroke: #A80036; stroke-width: 1.5;\" x1=\"236\" x2=\"396\" y1=\"433\" y2=\"433\"/><ellipse cx=\"246\" cy=\"444.9775\" fill=\"#84BE84\" rx=\"3\" ry=\"3\" style=\"stroke: #038048; stroke-width: 1.0;\"/><text fill=\"#000000\" font-family=\"sans-serif\" font-size=\"11\" lengthAdjust=\"spacingAndGlyphs\" textLength=\"116\" x=\"255\" y=\"447.6348\">Dough createDough()</text><ellipse cx=\"246\" cy=\"457.9326\" fill=\"#84BE84\" rx=\"3\" ry=\"3\" style=\"stroke: #038048; stroke-width: 1.0;\"/><text fill=\"#000000\" font-family=\"sans-serif\" font-size=\"11\" lengthAdjust=\"spacingAndGlyphs\" textLength=\"122\" x=\"255\" y=\"460.5898\">Cheese createCheese()</text><rect fill=\"#FEFECE\" filter=\"url(#f1)\" height=\"54.2656\" style=\"stroke: #A80036; stroke-width: 1.5;\" width=\"131\" x=\"167.5\" y=\"527\"/><ellipse cx=\"182.5\" cy=\"546.1328\" fill=\"#ADD1B2\" rx=\"11\" ry=\"11\" style=\"stroke: #A80036; stroke-width: 1.0;\"/><path d=\"M185.4731,551.7759 Q184.8921,552.0747 184.2529,552.2241 Q183.6138,552.3735 182.9082,552.3735 Q180.4014,552.3735 179.0815,550.7217 Q177.7617,549.0698 177.7617,545.9487 Q177.7617,542.8193 179.0815,541.1675 Q180.4014,539.5156 182.9082,539.5156 Q183.6138,539.5156 184.2612,539.665 Q184.9087,539.8145 185.4731,540.1133 L185.4731,542.8359 Q184.8423,542.2549 184.2488,541.9851 Q183.6553,541.7153 183.0244,541.7153 Q181.6797,541.7153 180.9949,542.782 Q180.3101,543.8486 180.3101,545.9487 Q180.3101,548.0405 180.9949,549.1072 Q181.6797,550.1738 183.0244,550.1738 Q183.6553,550.1738 184.2488,549.9041 Q184.8423,549.6343 185.4731,549.0532 Z \"/><text fill=\"#000000\" font-family=\"sans-serif\" font-size=\"12\" lengthAdjust=\"spacingAndGlyphs\" textLength=\"76\" x=\"208\" y=\"543.6016\">ChicagoPizza</text><text fill=\"#000000\" font-family=\"sans-serif\" font-size=\"12\" lengthAdjust=\"spacingAndGlyphs\" textLength=\"99\" x=\"196.5\" y=\"557.7344\">IngredientFactory</text><line style=\"stroke: #A80036; stroke-width: 1.5;\" x1=\"168.5\" x2=\"297.5\" y1=\"565.2656\" y2=\"565.2656\"/><line style=\"stroke: #A80036; stroke-width: 1.5;\" x1=\"168.5\" x2=\"297.5\" y1=\"573.2656\" y2=\"573.2656\"/><rect fill=\"#FEFECE\" filter=\"url(#f1)\" height=\"54.2656\" style=\"stroke: #A80036; stroke-width: 1.5;\" width=\"131\" x=\"333.5\" y=\"527\"/><ellipse cx=\"348.5\" cy=\"546.1328\" fill=\"#ADD1B2\" rx=\"11\" ry=\"11\" style=\"stroke: #A80036; stroke-width: 1.0;\"/><path d=\"M351.4731,551.7759 Q350.8921,552.0747 350.2529,552.2241 Q349.6138,552.3735 348.9082,552.3735 Q346.4014,552.3735 345.0815,550.7217 Q343.7617,549.0698 343.7617,545.9487 Q343.7617,542.8193 345.0815,541.1675 Q346.4014,539.5156 348.9082,539.5156 Q349.6138,539.5156 350.2612,539.665 Q350.9087,539.8145 351.4731,540.1133 L351.4731,542.8359 Q350.8423,542.2549 350.2488,541.9851 Q349.6553,541.7153 349.0244,541.7153 Q347.6797,541.7153 346.9949,542.782 Q346.3101,543.8486 346.3101,545.9487 Q346.3101,548.0405 346.9949,549.1072 Q347.6797,550.1738 349.0244,550.1738 Q349.6553,550.1738 350.2488,549.9041 Q350.8423,549.6343 351.4731,549.0532 Z \"/><text fill=\"#000000\" font-family=\"sans-serif\" font-size=\"12\" lengthAdjust=\"spacingAndGlyphs\" textLength=\"47\" x=\"388.5\" y=\"543.6016\">NYPizza</text><text fill=\"#000000\" font-family=\"sans-serif\" font-size=\"12\" lengthAdjust=\"spacingAndGlyphs\" textLength=\"99\" x=\"362.5\" y=\"557.7344\">IngredientFactory</text><line style=\"stroke: #A80036; stroke-width: 1.5;\" x1=\"334.5\" x2=\"463.5\" y1=\"565.2656\" y2=\"565.2656\"/><line style=\"stroke: #A80036; stroke-width: 1.5;\" x1=\"334.5\" x2=\"463.5\" y1=\"573.2656\" y2=\"573.2656\"/><rect fill=\"#FEFECE\" filter=\"url(#f1)\" height=\"60.9551\" style=\"stroke: #A80036; stroke-width: 1.5;\" width=\"115\" x=\"175.5\" y=\"641\"/><ellipse cx=\"211.2\" cy=\"657\" fill=\"#B4A7E5\" rx=\"11\" ry=\"11\" style=\"stroke: #A80036; stroke-width: 1.0;\"/><path d=\"M207.1277,652.7651 L207.1277,650.6069 L214.5071,650.6069 L214.5071,652.7651 L212.0418,652.7651 L212.0418,660.8418 L214.5071,660.8418 L214.5071,663 L207.1277,663 L207.1277,660.8418 L209.5931,660.8418 L209.5931,652.7651 Z \"/><text fill=\"#000000\" font-family=\"sans-serif\" font-size=\"12\" font-style=\"italic\" lengthAdjust=\"spacingAndGlyphs\" textLength=\"37\" x=\"229.8\" y=\"661.5352\">Dough</text><line style=\"stroke: #A80036; stroke-width: 1.5;\" x1=\"176.5\" x2=\"289.5\" y1=\"673\" y2=\"673\"/><line style=\"stroke: #A80036; stroke-width: 1.5;\" x1=\"176.5\" x2=\"289.5\" y1=\"681\" y2=\"681\"/><ellipse cx=\"186.5\" cy=\"692.9775\" fill=\"#84BE84\" rx=\"3\" ry=\"3\" style=\"stroke: #038048; stroke-width: 1.0;\"/><text fill=\"#000000\" font-family=\"sans-serif\" font-size=\"11\" lengthAdjust=\"spacingAndGlyphs\" textLength=\"89\" x=\"195.5\" y=\"695.6348\">String toString();</text><rect fill=\"#FEFECE\" filter=\"url(#f1)\" height=\"60.9551\" style=\"stroke: #A80036; stroke-width: 1.5;\" width=\"112\" x=\"343\" y=\"641\"/><ellipse cx=\"375.1\" cy=\"657\" fill=\"#B4A7E5\" rx=\"11\" ry=\"11\" style=\"stroke: #A80036; stroke-width: 1.0;\"/><path d=\"M371.0277,652.7651 L371.0277,650.6069 L378.4071,650.6069 L378.4071,652.7651 L375.9418,652.7651 L375.9418,660.8418 L378.4071,660.8418 L378.4071,663 L371.0277,663 L371.0277,660.8418 L373.4931,660.8418 L373.4931,652.7651 Z \"/><text fill=\"#000000\" font-family=\"sans-serif\" font-size=\"12\" font-style=\"italic\" lengthAdjust=\"spacingAndGlyphs\" textLength=\"42\" x=\"392.9\" y=\"661.5352\">Cheese</text><line style=\"stroke: #A80036; stroke-width: 1.5;\" x1=\"344\" x2=\"454\" y1=\"673\" y2=\"673\"/><line style=\"stroke: #A80036; stroke-width: 1.5;\" x1=\"344\" x2=\"454\" y1=\"681\" y2=\"681\"/><ellipse cx=\"354\" cy=\"692.9775\" fill=\"#84BE84\" rx=\"3\" ry=\"3\" style=\"stroke: #038048; stroke-width: 1.0;\"/><text fill=\"#000000\" font-family=\"sans-serif\" font-size=\"11\" lengthAdjust=\"spacingAndGlyphs\" textLength=\"86\" x=\"363\" y=\"695.6348\">toString():String</text><rect fill=\"#FEFECE\" filter=\"url(#f1)\" height=\"48\" style=\"stroke: #A80036; stroke-width: 1.5;\" width=\"137\" x=\"330.5\" y=\"762\"/><ellipse cx=\"345.5\" cy=\"778\" fill=\"#ADD1B2\" rx=\"11\" ry=\"11\" style=\"stroke: #A80036; stroke-width: 1.0;\"/><path d=\"M348.4731,783.6431 Q347.8921,783.9419 347.2529,784.0913 Q346.6138,784.2407 345.9082,784.2407 Q343.4014,784.2407 342.0815,782.5889 Q340.7617,780.937 340.7617,777.8159 Q340.7617,774.6865 342.0815,773.0347 Q343.4014,771.3828 345.9082,771.3828 Q346.6138,771.3828 347.2612,771.5322 Q347.9087,771.6816 348.4731,771.9805 L348.4731,774.7031 Q347.8423,774.1221 347.2488,773.8523 Q346.6553,773.5825 346.0244,773.5825 Q344.6797,773.5825 343.9949,774.6492 Q343.3101,775.7158 343.3101,777.8159 Q343.3101,779.9077 343.9949,780.9744 Q344.6797,782.041 346.0244,782.041 Q346.6553,782.041 347.2488,781.7712 Q347.8423,781.5015 348.4731,780.9204 Z \"/><text fill=\"#000000\" font-family=\"sans-serif\" font-size=\"12\" lengthAdjust=\"spacingAndGlyphs\" textLength=\"105\" x=\"359.5\" y=\"782.5352\">MozzarellaCheese</text><line style=\"stroke: #A80036; stroke-width: 1.5;\" x1=\"331.5\" x2=\"466.5\" y1=\"794\" y2=\"794\"/><line style=\"stroke: #A80036; stroke-width: 1.5;\" x1=\"331.5\" x2=\"466.5\" y1=\"802\" y2=\"802\"/><rect fill=\"#FEFECE\" filter=\"url(#f1)\" height=\"48\" style=\"stroke: #A80036; stroke-width: 1.5;\" width=\"127\" x=\"502.5\" y=\"762\"/><ellipse cx=\"517.5\" cy=\"778\" fill=\"#ADD1B2\" rx=\"11\" ry=\"11\" style=\"stroke: #A80036; stroke-width: 1.0;\"/><path d=\"M520.4731,783.6431 Q519.8921,783.9419 519.2529,784.0913 Q518.6138,784.2407 517.9082,784.2407 Q515.4014,784.2407 514.0815,782.5889 Q512.7617,780.937 512.7617,777.8159 Q512.7617,774.6865 514.0815,773.0347 Q515.4014,771.3828 517.9082,771.3828 Q518.6138,771.3828 519.2612,771.5322 Q519.9087,771.6816 520.4731,771.9805 L520.4731,774.7031 Q519.8423,774.1221 519.2488,773.8523 Q518.6553,773.5825 518.0244,773.5825 Q516.6797,773.5825 515.9949,774.6492 Q515.3101,775.7158 515.3101,777.8159 Q515.3101,779.9077 515.9949,780.9744 Q516.6797,782.041 518.0244,782.041 Q518.6553,782.041 519.2488,781.7712 Q519.8423,781.5015 520.4731,780.9204 Z \"/><text fill=\"#000000\" font-family=\"sans-serif\" font-size=\"12\" lengthAdjust=\"spacingAndGlyphs\" textLength=\"95\" x=\"531.5\" y=\"782.5352\">ReggianoCheese</text><line style=\"stroke: #A80036; stroke-width: 1.5;\" x1=\"503.5\" x2=\"628.5\" y1=\"794\" y2=\"794\"/><line style=\"stroke: #A80036; stroke-width: 1.5;\" x1=\"503.5\" x2=\"628.5\" y1=\"802\" y2=\"802\"/><rect fill=\"#FEFECE\" filter=\"url(#f1)\" height=\"48\" style=\"stroke: #A80036; stroke-width: 1.5;\" width=\"130\" x=\"6\" y=\"762\"/><ellipse cx=\"21\" cy=\"778\" fill=\"#ADD1B2\" rx=\"11\" ry=\"11\" style=\"stroke: #A80036; stroke-width: 1.0;\"/><path d=\"M23.9731,783.6431 Q23.3921,783.9419 22.7529,784.0913 Q22.1138,784.2407 21.4082,784.2407 Q18.9014,784.2407 17.5815,782.5889 Q16.2617,780.937 16.2617,777.8159 Q16.2617,774.6865 17.5815,773.0347 Q18.9014,771.3828 21.4082,771.3828 Q22.1138,771.3828 22.7612,771.5322 Q23.4087,771.6816 23.9731,771.9805 L23.9731,774.7031 Q23.3423,774.1221 22.7488,773.8523 Q22.1553,773.5825 21.5244,773.5825 Q20.1797,773.5825 19.4949,774.6492 Q18.8101,775.7158 18.8101,777.8159 Q18.8101,779.9077 19.4949,780.9744 Q20.1797,782.041 21.5244,782.041 Q22.1553,782.041 22.7488,781.7712 Q23.3423,781.5015 23.9731,780.9204 Z \"/><text fill=\"#000000\" font-family=\"sans-serif\" font-size=\"12\" lengthAdjust=\"spacingAndGlyphs\" textLength=\"98\" x=\"35\" y=\"782.5352\">ThickCrustDough</text><line style=\"stroke: #A80036; stroke-width: 1.5;\" x1=\"7\" x2=\"135\" y1=\"794\" y2=\"794\"/><line style=\"stroke: #A80036; stroke-width: 1.5;\" x1=\"7\" x2=\"135\" y1=\"802\" y2=\"802\"/><rect fill=\"#FEFECE\" filter=\"url(#f1)\" height=\"48\" style=\"stroke: #A80036; stroke-width: 1.5;\" width=\"124\" x=\"171\" y=\"762\"/><ellipse cx=\"186\" cy=\"778\" fill=\"#ADD1B2\" rx=\"11\" ry=\"11\" style=\"stroke: #A80036; stroke-width: 1.0;\"/><path d=\"M188.9731,783.6431 Q188.3921,783.9419 187.7529,784.0913 Q187.1138,784.2407 186.4082,784.2407 Q183.9014,784.2407 182.5815,782.5889 Q181.2617,780.937 181.2617,777.8159 Q181.2617,774.6865 182.5815,773.0347 Q183.9014,771.3828 186.4082,771.3828 Q187.1138,771.3828 187.7612,771.5322 Q188.4087,771.6816 188.9731,771.9805 L188.9731,774.7031 Q188.3423,774.1221 187.7488,773.8523 Q187.1553,773.5825 186.5244,773.5825 Q185.1797,773.5825 184.4949,774.6492 Q183.8101,775.7158 183.8101,777.8159 Q183.8101,779.9077 184.4949,780.9744 Q185.1797,782.041 186.5244,782.041 Q187.1553,782.041 187.7488,781.7712 Q188.3423,781.5015 188.9731,780.9204 Z \"/><text fill=\"#000000\" font-family=\"sans-serif\" font-size=\"12\" lengthAdjust=\"spacingAndGlyphs\" textLength=\"92\" x=\"200\" y=\"782.5352\">ThinCrustDough</text><line style=\"stroke: #A80036; stroke-width: 1.5;\" x1=\"172\" x2=\"294\" y1=\"794\" y2=\"794\"/><line style=\"stroke: #A80036; stroke-width: 1.5;\" x1=\"172\" x2=\"294\" y1=\"802\" y2=\"802\"/><path d=\"M545,206.06 C545,220.161 545,233.882 545,245.954 \" fill=\"none\" style=\"stroke: #A80036; stroke-width: 1.0;\"/><polygon fill=\"none\" points=\"538,206.001,545,186.001,552,206.001,538,206.001\" style=\"stroke: #A80036; stroke-width: 1.0;\"/><path d=\"M240.03,151.969 C259.337,186.667 283.686,230.427 299.539,258.916 \" fill=\"none\" style=\"stroke: #A80036; stroke-width: 1.0;\"/><polygon fill=\"none\" points=\"233.795,155.16,230.187,134.28,246.029,148.353,233.795,155.16\" style=\"stroke: #A80036; stroke-width: 1.0;\"/><path d=\"M181.989,152.449 C164.179,187.07 141.807,230.558 127.219,258.916 \" fill=\"none\" style=\"stroke: #A80036; stroke-width: 1.0;\"/><polygon fill=\"none\" points=\"175.963,148.862,191.336,134.28,188.412,155.267,175.963,148.862\" style=\"stroke: #A80036; stroke-width: 1.0;\"/><path d=\"M155.513,320.042 C185.526,340.418 225.743,367.722 258.409,389.9 \" fill=\"none\" style=\"stroke: #A80036; stroke-width: 1.0; stroke-dasharray: 7.0,7.0;\"/><polygon fill=\"#A80036\" points=\"262.761,392.855,257.5614,384.4905,258.6242,390.0467,253.0681,391.1094,262.761,392.855\" style=\"stroke: #A80036; stroke-width: 1.0;\"/><path d=\"M316,320.212 C316,339.932 316,366.087 316,387.808 \" fill=\"none\" style=\"stroke: #A80036; stroke-width: 1.0; stroke-dasharray: 7.0,7.0;\"/><polygon fill=\"#A80036\" points=\"316,392.941,320,383.941,316,387.941,312,383.941,316,392.941\" style=\"stroke: #A80036; stroke-width: 1.0;\"/><path d=\"M151.632,258.906 C175.178,242.693 206.429,224.429 237.5,216 C304.415,197.847 325.927,200.474 393.5,216 C418.608,221.769 444.383,232.276 467.39,243.575 \" fill=\"none\" style=\"stroke: #A80036; stroke-width: 1.0; stroke-dasharray: 7.0,7.0;\"/><polygon fill=\"#A80036\" points=\"471.953,245.845,465.6745,238.2568,467.4757,243.6192,462.1133,245.4204,471.953,245.845\" style=\"stroke: #A80036; stroke-width: 1.0;\"/><path d=\"M474.424,333.185 C444.237,351.442 409.249,372.603 379.844,390.387 \" fill=\"none\" style=\"stroke: #A80036; stroke-width: 1.0;\"/><polygon fill=\"#A80036\" points=\"375.547,392.986,385.3182,391.752,379.8256,390.3988,381.1788,384.9062,375.547,392.986\" style=\"stroke: #A80036; stroke-width: 1.0;\"/><path d=\"M279.871,484.106 C269.826,498.87 259.354,514.263 250.863,526.744 \" fill=\"none\" style=\"stroke: #A80036; stroke-width: 1.0; stroke-dasharray: 7.0,7.0;\"/><polygon fill=\"none\" points=\"274.284,479.872,291.322,467.274,285.86,487.747,274.284,479.872\" style=\"stroke: #A80036; stroke-width: 1.0;\"/><path d=\"M352.129,484.106 C362.174,498.87 372.646,514.263 381.137,526.744 \" fill=\"none\" style=\"stroke: #A80036; stroke-width: 1.0; stroke-dasharray: 7.0,7.0;\"/><polygon fill=\"none\" points=\"346.14,487.747,340.678,467.274,357.716,479.872,346.14,487.747\" style=\"stroke: #A80036; stroke-width: 1.0;\"/><path d=\"M361.332,581.209 C337.188,598.008 305.662,619.943 279.899,637.868 \" fill=\"none\" style=\"stroke: #A80036; stroke-width: 1.0; stroke-dasharray: 7.0,7.0;\"/><polygon fill=\"#A80036\" points=\"275.488,640.937,285.1602,639.0802,279.5923,638.0813,280.5911,632.5133,275.488,640.937\" style=\"stroke: #A80036; stroke-width: 1.0;\"/><path d=\"M399,581.209 C399,597.253 399,617.983 399,635.43 \" fill=\"none\" style=\"stroke: #A80036; stroke-width: 1.0; stroke-dasharray: 7.0,7.0;\"/><polygon fill=\"#A80036\" points=\"399,640.73,403,631.73,399,635.73,395,631.73,399,640.73\" style=\"stroke: #A80036; stroke-width: 1.0;\"/><path d=\"M233,581.209 C233,597.253 233,617.983 233,635.43 \" fill=\"none\" style=\"stroke: #A80036; stroke-width: 1.0; stroke-dasharray: 7.0,7.0;\"/><polygon fill=\"#A80036\" points=\"233,640.73,237,631.73,233,635.73,229,631.73,233,640.73\" style=\"stroke: #A80036; stroke-width: 1.0;\"/><path d=\"M270.668,581.209 C294.812,598.008 326.338,619.943 352.101,637.868 \" fill=\"none\" style=\"stroke: #A80036; stroke-width: 1.0; stroke-dasharray: 7.0,7.0;\"/><polygon fill=\"#A80036\" points=\"356.512,640.937,351.4089,632.5133,352.4077,638.0813,346.8398,639.0802,356.512,640.937\" style=\"stroke: #A80036; stroke-width: 1.0;\"/><path d=\"M399,722.1067 C399,735.8764 399,750.1847 399,761.6686 \" fill=\"none\" style=\"stroke: #A80036; stroke-width: 1.0; stroke-dasharray: 7.0,7.0;\"/><polygon fill=\"none\" points=\"392,722.0581,399,702.058,406,722.058,392,722.0581\" style=\"stroke: #A80036; stroke-width: 1.0;\"/><path d=\"M459.517,713.2676 C483.784,729.6148 510.859,747.854 531.635,761.8498 \" fill=\"none\" style=\"stroke: #A80036; stroke-width: 1.0; stroke-dasharray: 7.0,7.0;\"/><polygon fill=\"none\" points=\"455.554,719.0378,442.877,702.058,463.376,707.427,455.554,719.0378\" style=\"stroke: #A80036; stroke-width: 1.0;\"/><path d=\"M173.953,713.5046 C150.501,729.791 124.393,747.9216 104.3364,761.8498 \" fill=\"none\" style=\"stroke: #A80036; stroke-width: 1.0; stroke-dasharray: 7.0,7.0;\"/><polygon fill=\"none\" points=\"170.016,707.716,190.436,702.058,178.002,719.2156,170.016,707.716\" style=\"stroke: #A80036; stroke-width: 1.0;\"/><path d=\"M233,722.1067 C233,735.8764 233,750.1847 233,761.6686 \" fill=\"none\" style=\"stroke: #A80036; stroke-width: 1.0; stroke-dasharray: 7.0,7.0;\"/><polygon fill=\"none\" points=\"226,722.0581,233,702.058,240,722.058,226,722.0581\" style=\"stroke: #A80036; stroke-width: 1.0;\"/></g></svg>"
      ],
      "text/plain": [
       "<IPython.core.display.SVG object>"
      ]
     },
     "execution_count": 18,
     "metadata": {},
     "output_type": "execute_result"
    }
   ],
   "source": [
    "%%plantuml\n",
    "@startuml\n",
    "\n",
    "abstract class Pizza {\n",
    "    String name; \n",
    "    Dough dough;\n",
    "    Cheese cheese;\n",
    "\n",
    "    abstract void prepare();\n",
    "    void bake()\n",
    "    void cut()\n",
    "    void box()\n",
    "    void setName(String name)\n",
    "    String getName()\n",
    "    +String toString()\n",
    "}\n",
    "\n",
    "class CheesePizza {\n",
    "    PizzaIngredientFactory ingredientFactory\n",
    "    +CheesePizza(PizzaIngredientFactory)\n",
    "    void prepare()\n",
    "}\n",
    "\n",
    "Pizza <|-- CheesePizza\n",
    "\n",
    "abstract class PizzaStore {\n",
    "    #abstract Pizza createPizza(String item);\n",
    "    +Pizza orderPizza(String type)\n",
    "}   \n",
    "class ChicagoPizzaStore {\n",
    "    #Pizza createPizza(String)\n",
    "}\n",
    "class NYPizzaStore {\n",
    "    #Pizza createPizza(String item)\n",
    "}\n",
    "\n",
    "PizzaStore <|-- ChicagoPizzaStore\n",
    "PizzaStore <|-- NYPizzaStore\n",
    "NYPizzaStore ..> PizzaIngredientFactory\n",
    "ChicagoPizzaStore ..> PizzaIngredientFactory\n",
    "NYPizzaStore .right.> CheesePizza\n",
    "CheesePizza --> PizzaIngredientFactory \n",
    "\n",
    "interface PizzaIngredientFactory {\n",
    "    +Dough createDough()\n",
    "    +Cheese createCheese()\n",
    "}\n",
    "PizzaIngredientFactory <|.. \"ChicagoPizza\\nIngredientFactory\"\n",
    "PizzaIngredientFactory <|.. \"NYPizza\\nIngredientFactory\"\n",
    "\"NYPizza\\nIngredientFactory\" ..> Dough\n",
    "\"NYPizza\\nIngredientFactory\" ..> Cheese\n",
    "\"ChicagoPizza\\nIngredientFactory\" ..> Dough\n",
    "\"ChicagoPizza\\nIngredientFactory\" ..> Cheese\n",
    "\n",
    "interface Cheese {\n",
    "    +toString():String\n",
    "}\n",
    "interface Dough {\n",
    "    +String toString();\n",
    "}\n",
    "Cheese <|.. MozzarellaCheese\n",
    "Cheese <|.. ReggianoCheese\n",
    "Dough <|.. ThickCrustDough\n",
    "Dough <|.. ThinCrustDough\n",
    "@enduml"
   ]
  },
  {
   "cell_type": "code",
   "execution_count": 33,
   "metadata": {
    "collapsed": false,
    "slideshow": {
     "slide_type": "slide"
    }
   },
   "outputs": [
    {
     "data": {
      "image/svg+xml": [
       "<svg height=\"527px\" style=\"width:852px;height:527px;\" version=\"1.1\" viewBox=\"0 0 852 527\" width=\"852px\" xmlns=\"http://www.w3.org/2000/svg\" xmlns:xlink=\"http://www.w3.org/1999/xlink\"><defs><filter height=\"300%\" id=\"f1\" width=\"300%\" x=\"-1\" y=\"-1\"><feGaussianBlur result=\"blurOut\" stdDeviation=\"2.0\"/><feColorMatrix in=\"blurOut\" result=\"blurOut2\" type=\"matrix\" values=\"0 0 0 0 0 0 0 0 0 0 0 0 0 0 0 0 0 0 .4 0\"/><feOffset dx=\"4.0\" dy=\"4.0\" in=\"blurOut2\" result=\"blurOut3\"/><feBlend in=\"SourceGraphic\" in2=\"blurOut3\" mode=\"normal\"/></filter></defs><g><rect fill=\"#FFFFFF\" filter=\"url(#f1)\" height=\"383.9922\" style=\"stroke: #000000; stroke-width: 2.0;\" width=\"830\" x=\"13\" y=\"71.9766\"/><rect fill=\"#FFFFFF\" height=\"190.8184\" style=\"stroke: none; stroke-width: 1.0;\" width=\"830\" x=\"13\" y=\"265.1504\"/><line style=\"stroke: #A80036; stroke-width: 1.0; stroke-dasharray: 5.0,5.0;\" x1=\"52\" x2=\"52\" y1=\"54.9766\" y2=\"472.9688\"/><line style=\"stroke: #A80036; stroke-width: 1.0; stroke-dasharray: 5.0,5.0;\" x1=\"157\" x2=\"157\" y1=\"54.9766\" y2=\"472.9688\"/><line style=\"stroke: #A80036; stroke-width: 1.0; stroke-dasharray: 5.0,5.0;\" x1=\"266\" x2=\"266\" y1=\"54.9766\" y2=\"472.9688\"/><line style=\"stroke: #A80036; stroke-width: 1.0; stroke-dasharray: 5.0,5.0;\" x1=\"400\" x2=\"400\" y1=\"54.9766\" y2=\"472.9688\"/><line style=\"stroke: #A80036; stroke-width: 1.0; stroke-dasharray: 5.0,5.0;\" x1=\"532\" x2=\"532\" y1=\"54.9766\" y2=\"472.9688\"/><line style=\"stroke: #A80036; stroke-width: 1.0; stroke-dasharray: 5.0,5.0;\" x1=\"639\" x2=\"639\" y1=\"54.9766\" y2=\"472.9688\"/><line style=\"stroke: #A80036; stroke-width: 1.0; stroke-dasharray: 5.0,5.0;\" x1=\"763\" x2=\"763\" y1=\"54.9766\" y2=\"472.9688\"/><rect fill=\"#FEFECE\" filter=\"url(#f1)\" height=\"30.4883\" style=\"stroke: #A80036; stroke-width: 1.5;\" width=\"54\" x=\"23\" y=\"19.4883\"/><text fill=\"#000000\" font-family=\"sans-serif\" font-size=\"14\" lengthAdjust=\"spacingAndGlyphs\" textLength=\"40\" x=\"30\" y=\"40.0234\">Client</text><rect fill=\"#FEFECE\" filter=\"url(#f1)\" height=\"30.4883\" style=\"stroke: #A80036; stroke-width: 1.5;\" width=\"54\" x=\"23\" y=\"471.9688\"/><text fill=\"#000000\" font-family=\"sans-serif\" font-size=\"14\" lengthAdjust=\"spacingAndGlyphs\" textLength=\"40\" x=\"30\" y=\"492.5039\">Client</text><rect fill=\"#FEFECE\" filter=\"url(#f1)\" height=\"30.4883\" style=\"stroke: #A80036; stroke-width: 1.5;\" width=\"86\" x=\"112\" y=\"19.4883\"/><text fill=\"#000000\" font-family=\"sans-serif\" font-size=\"14\" lengthAdjust=\"spacingAndGlyphs\" textLength=\"72\" x=\"119\" y=\"40.0234\">PizzaStore</text><rect fill=\"#FEFECE\" filter=\"url(#f1)\" height=\"30.4883\" style=\"stroke: #A80036; stroke-width: 1.5;\" width=\"86\" x=\"112\" y=\"471.9688\"/><text fill=\"#000000\" font-family=\"sans-serif\" font-size=\"14\" lengthAdjust=\"spacingAndGlyphs\" textLength=\"72\" x=\"119\" y=\"492.5039\">PizzaStore</text><rect fill=\"#FEFECE\" filter=\"url(#f1)\" height=\"30.4883\" style=\"stroke: #A80036; stroke-width: 1.5;\" width=\"105\" x=\"212\" y=\"19.4883\"/><text fill=\"#000000\" font-family=\"sans-serif\" font-size=\"14\" lengthAdjust=\"spacingAndGlyphs\" textLength=\"91\" x=\"219\" y=\"40.0234\">NYPizzaStore</text><rect fill=\"#FEFECE\" filter=\"url(#f1)\" height=\"30.4883\" style=\"stroke: #A80036; stroke-width: 1.5;\" width=\"105\" x=\"212\" y=\"471.9688\"/><text fill=\"#000000\" font-family=\"sans-serif\" font-size=\"14\" lengthAdjust=\"spacingAndGlyphs\" textLength=\"91\" x=\"219\" y=\"492.5039\">NYPizzaStore</text><rect fill=\"#FEFECE\" filter=\"url(#f1)\" height=\"46.9766\" style=\"stroke: #A80036; stroke-width: 1.5;\" width=\"135\" x=\"331\" y=\"3\"/><text fill=\"#000000\" font-family=\"sans-serif\" font-size=\"14\" lengthAdjust=\"spacingAndGlyphs\" textLength=\"55\" x=\"371\" y=\"23.5352\">NYPizza</text><text fill=\"#000000\" font-family=\"sans-serif\" font-size=\"14\" lengthAdjust=\"spacingAndGlyphs\" textLength=\"121\" x=\"338\" y=\"40.0234\">IngredientFactory</text><rect fill=\"#FEFECE\" filter=\"url(#f1)\" height=\"46.9766\" style=\"stroke: #A80036; stroke-width: 1.5;\" width=\"135\" x=\"331\" y=\"471.9688\"/><text fill=\"#000000\" font-family=\"sans-serif\" font-size=\"14\" lengthAdjust=\"spacingAndGlyphs\" textLength=\"55\" x=\"371\" y=\"492.5039\">NYPizza</text><text fill=\"#000000\" font-family=\"sans-serif\" font-size=\"14\" lengthAdjust=\"spacingAndGlyphs\" textLength=\"121\" x=\"338\" y=\"508.9922\">IngredientFactory</text><rect fill=\"#FEFECE\" filter=\"url(#f1)\" height=\"30.4883\" style=\"stroke: #A80036; stroke-width: 1.5;\" width=\"100\" x=\"480\" y=\"19.4883\"/><text fill=\"#000000\" font-family=\"sans-serif\" font-size=\"14\" lengthAdjust=\"spacingAndGlyphs\" textLength=\"86\" x=\"487\" y=\"40.0234\">CheesePizza</text><rect fill=\"#FEFECE\" filter=\"url(#f1)\" height=\"30.4883\" style=\"stroke: #A80036; stroke-width: 1.5;\" width=\"100\" x=\"480\" y=\"471.9688\"/><text fill=\"#000000\" font-family=\"sans-serif\" font-size=\"14\" lengthAdjust=\"spacingAndGlyphs\" textLength=\"86\" x=\"487\" y=\"492.5039\">CheesePizza</text><rect fill=\"#FEFECE\" filter=\"url(#f1)\" height=\"46.9766\" style=\"stroke: #A80036; stroke-width: 1.5;\" width=\"86\" x=\"594\" y=\"3\"/><text fill=\"#000000\" font-family=\"sans-serif\" font-size=\"14\" lengthAdjust=\"spacingAndGlyphs\" textLength=\"56\" x=\"609\" y=\"23.5352\">Chicago</text><text fill=\"#000000\" font-family=\"sans-serif\" font-size=\"14\" lengthAdjust=\"spacingAndGlyphs\" textLength=\"72\" x=\"601\" y=\"40.0234\">PizzaStore</text><rect fill=\"#FEFECE\" filter=\"url(#f1)\" height=\"46.9766\" style=\"stroke: #A80036; stroke-width: 1.5;\" width=\"86\" x=\"594\" y=\"471.9688\"/><text fill=\"#000000\" font-family=\"sans-serif\" font-size=\"14\" lengthAdjust=\"spacingAndGlyphs\" textLength=\"56\" x=\"609\" y=\"492.5039\">Chicago</text><text fill=\"#000000\" font-family=\"sans-serif\" font-size=\"14\" lengthAdjust=\"spacingAndGlyphs\" textLength=\"72\" x=\"601\" y=\"508.9922\">PizzaStore</text><rect fill=\"#FEFECE\" filter=\"url(#f1)\" height=\"46.9766\" style=\"stroke: #A80036; stroke-width: 1.5;\" width=\"135\" x=\"694\" y=\"3\"/><text fill=\"#000000\" font-family=\"sans-serif\" font-size=\"14\" lengthAdjust=\"spacingAndGlyphs\" textLength=\"92\" x=\"715.5\" y=\"23.5352\">ChicagoPizza</text><text fill=\"#000000\" font-family=\"sans-serif\" font-size=\"14\" lengthAdjust=\"spacingAndGlyphs\" textLength=\"121\" x=\"701\" y=\"40.0234\">IngredientFactory</text><rect fill=\"#FEFECE\" filter=\"url(#f1)\" height=\"46.9766\" style=\"stroke: #A80036; stroke-width: 1.5;\" width=\"135\" x=\"694\" y=\"471.9688\"/><text fill=\"#000000\" font-family=\"sans-serif\" font-size=\"14\" lengthAdjust=\"spacingAndGlyphs\" textLength=\"92\" x=\"715.5\" y=\"492.5039\">ChicagoPizza</text><text fill=\"#000000\" font-family=\"sans-serif\" font-size=\"14\" lengthAdjust=\"spacingAndGlyphs\" textLength=\"121\" x=\"701\" y=\"508.9922\">IngredientFactory</text><rect fill=\"none\" height=\"383.9922\" style=\"stroke: #000000; stroke-width: 2.0;\" width=\"830\" x=\"13\" y=\"71.9766\"/><polygon fill=\"#EEEEEE\" points=\"13,71.9766,75,71.9766,75,78.9766,65,88.9766,13,88.9766,13,71.9766\" style=\"stroke: #000000; stroke-width: 2.0;\"/><text fill=\"#000000\" font-family=\"sans-serif\" font-size=\"13\" font-weight=\"bold\" lengthAdjust=\"spacingAndGlyphs\" textLength=\"17\" x=\"28\" y=\"85.5449\">alt</text><text fill=\"#000000\" font-family=\"sans-serif\" font-size=\"11\" font-weight=\"bold\" lengthAdjust=\"spacingAndGlyphs\" textLength=\"98\" x=\"90\" y=\"84.6113\">['ny style cheese']</text><polygon fill=\"#A80036\" points=\"145,106.2871,155,110.2871,145,114.2871,149,110.2871\" style=\"stroke: #A80036; stroke-width: 1.0;\"/><line style=\"stroke: #A80036; stroke-width: 1.0;\" x1=\"52\" x2=\"151\" y1=\"110.2871\" y2=\"110.2871\"/><text fill=\"#000000\" font-family=\"sans-serif\" font-size=\"13\" lengthAdjust=\"spacingAndGlyphs\" textLength=\"47\" x=\"59\" y=\"105.8555\">nyStore</text><polygon fill=\"#A80036\" points=\"254.5,135.5977,264.5,139.5977,254.5,143.5977,258.5,139.5977\" style=\"stroke: #A80036; stroke-width: 1.0;\"/><line style=\"stroke: #A80036; stroke-width: 1.0;\" x1=\"157\" x2=\"260.5\" y1=\"139.5977\" y2=\"139.5977\"/><text fill=\"#000000\" font-family=\"sans-serif\" font-size=\"13\" lengthAdjust=\"spacingAndGlyphs\" textLength=\"33\" x=\"164\" y=\"135.166\">new()</text><polygon fill=\"#A80036\" points=\"254.5,164.9082,264.5,168.9082,254.5,172.9082,258.5,168.9082\" style=\"stroke: #A80036; stroke-width: 1.0;\"/><line style=\"stroke: #A80036; stroke-width: 1.0;\" x1=\"52\" x2=\"260.5\" y1=\"168.9082\" y2=\"168.9082\"/><text fill=\"#000000\" font-family=\"sans-serif\" font-size=\"13\" lengthAdjust=\"spacingAndGlyphs\" textLength=\"122\" x=\"59\" y=\"164.4766\">orderPizza('cheese')</text><polygon fill=\"#A80036\" points=\"388.5,194.2188,398.5,198.2188,388.5,202.2188,392.5,198.2188\" style=\"stroke: #A80036; stroke-width: 1.0;\"/><line style=\"stroke: #A80036; stroke-width: 1.0;\" x1=\"266.5\" x2=\"394.5\" y1=\"198.2188\" y2=\"198.2188\"/><text fill=\"#000000\" font-family=\"sans-serif\" font-size=\"13\" lengthAdjust=\"spacingAndGlyphs\" textLength=\"66\" x=\"273.5\" y=\"193.7871\">ifac=new()</text><polygon fill=\"#A80036\" points=\"520,223.5293,530,227.5293,520,231.5293,524,227.5293\" style=\"stroke: #A80036; stroke-width: 1.0;\"/><line style=\"stroke: #A80036; stroke-width: 1.0;\" x1=\"400.5\" x2=\"526\" y1=\"227.5293\" y2=\"227.5293\"/><text fill=\"#000000\" font-family=\"sans-serif\" font-size=\"13\" lengthAdjust=\"spacingAndGlyphs\" textLength=\"56\" x=\"407.5\" y=\"223.0977\">new(ifac)</text><polygon fill=\"#A80036\" points=\"520,252.8398,530,256.8398,520,260.8398,524,256.8398\" style=\"stroke: #A80036; stroke-width: 1.0;\"/><line style=\"stroke: #A80036; stroke-width: 1.0;\" x1=\"52\" x2=\"526\" y1=\"256.8398\" y2=\"256.8398\"/><text fill=\"#000000\" font-family=\"sans-serif\" font-size=\"13\" lengthAdjust=\"spacingAndGlyphs\" textLength=\"64\" x=\"59\" y=\"252.4082\">getName()</text><line style=\"stroke: #000000; stroke-width: 1.0; stroke-dasharray: 2.0,2.0;\" x1=\"13\" x2=\"843\" y1=\"266.1504\" y2=\"266.1504\"/><text fill=\"#000000\" font-family=\"sans-serif\" font-size=\"11\" font-weight=\"bold\" lengthAdjust=\"spacingAndGlyphs\" textLength=\"128\" x=\"18\" y=\"276.7852\">['chicago style cheese']</text><polygon fill=\"#A80036\" points=\"145,297.1055,155,301.1055,145,305.1055,149,301.1055\" style=\"stroke: #A80036; stroke-width: 1.0;\"/><line style=\"stroke: #A80036; stroke-width: 1.0;\" x1=\"52\" x2=\"151\" y1=\"301.1055\" y2=\"301.1055\"/><text fill=\"#000000\" font-family=\"sans-serif\" font-size=\"13\" lengthAdjust=\"spacingAndGlyphs\" textLength=\"81\" x=\"59\" y=\"296.6738\">chicagoStore</text><polygon fill=\"#A80036\" points=\"627,326.416,637,330.416,627,334.416,631,330.416\" style=\"stroke: #A80036; stroke-width: 1.0;\"/><line style=\"stroke: #A80036; stroke-width: 1.0;\" x1=\"157\" x2=\"633\" y1=\"330.416\" y2=\"330.416\"/><text fill=\"#000000\" font-family=\"sans-serif\" font-size=\"13\" lengthAdjust=\"spacingAndGlyphs\" textLength=\"33\" x=\"164\" y=\"325.9844\">new()</text><polygon fill=\"#A80036\" points=\"627,355.7266,637,359.7266,627,363.7266,631,359.7266\" style=\"stroke: #A80036; stroke-width: 1.0;\"/><line style=\"stroke: #A80036; stroke-width: 1.0;\" x1=\"52\" x2=\"633\" y1=\"359.7266\" y2=\"359.7266\"/><text fill=\"#000000\" font-family=\"sans-serif\" font-size=\"13\" lengthAdjust=\"spacingAndGlyphs\" textLength=\"122\" x=\"59\" y=\"355.2949\">orderPizza('cheese')</text><polygon fill=\"#A80036\" points=\"751.5,385.0371,761.5,389.0371,751.5,393.0371,755.5,389.0371\" style=\"stroke: #A80036; stroke-width: 1.0;\"/><line style=\"stroke: #A80036; stroke-width: 1.0;\" x1=\"639\" x2=\"757.5\" y1=\"389.0371\" y2=\"389.0371\"/><text fill=\"#000000\" font-family=\"sans-serif\" font-size=\"13\" lengthAdjust=\"spacingAndGlyphs\" textLength=\"66\" x=\"646\" y=\"384.6055\">ifac=new()</text><polygon fill=\"#A80036\" points=\"543,414.3477,533,418.3477,543,422.3477,539,418.3477\" style=\"stroke: #A80036; stroke-width: 1.0;\"/><line style=\"stroke: #A80036; stroke-width: 1.0;\" x1=\"537\" x2=\"762.5\" y1=\"418.3477\" y2=\"418.3477\"/><text fill=\"#000000\" font-family=\"sans-serif\" font-size=\"13\" lengthAdjust=\"spacingAndGlyphs\" textLength=\"56\" x=\"549\" y=\"413.916\">new(ifac)</text><polygon fill=\"#A80036\" points=\"520,443.6582,530,447.6582,520,451.6582,524,447.6582\" style=\"stroke: #A80036; stroke-width: 1.0;\"/><line style=\"stroke: #A80036; stroke-width: 1.0;\" x1=\"52\" x2=\"526\" y1=\"447.6582\" y2=\"447.6582\"/><text fill=\"#000000\" font-family=\"sans-serif\" font-size=\"13\" lengthAdjust=\"spacingAndGlyphs\" textLength=\"64\" x=\"59\" y=\"443.2266\">getName()</text></g></svg>"
      ],
      "text/plain": [
       "<IPython.core.display.SVG object>"
      ]
     },
     "execution_count": 33,
     "metadata": {},
     "output_type": "execute_result"
    }
   ],
   "source": [
    "%%plantuml\n",
    "@startuml\n",
    "alt 'ny style cheese'\n",
    "Client -> PizzaStore:nyStore\n",
    "PizzaStore -> NYPizzaStore:new()\n",
    "Client -> NYPizzaStore:orderPizza('cheese')\n",
    "NYPizzaStore -> \"NYPizza\\nIngredientFactory\":ifac=new()\n",
    "\"NYPizza\\nIngredientFactory\"->CheesePizza:new(ifac)\n",
    "Client -> CheesePizza:getName()\n",
    "else 'chicago style cheese'\n",
    "Client -> PizzaStore:chicagoStore\n",
    "PizzaStore -> \"Chicago\\nPizzaStore\":new()\n",
    "Client -> \"Chicago\\nPizzaStore\":orderPizza('cheese')\n",
    "\"Chicago\\nPizzaStore\" -> \"ChicagoPizza\\nIngredientFactory\":ifac=new()\n",
    "\"ChicagoPizza\\nIngredientFactory\"->CheesePizza:new(ifac)\n",
    "Client -> CheesePizza:getName()\n",
    "end\n",
    "@enduml"
   ]
  },
  {
   "cell_type": "code",
   "execution_count": null,
   "metadata": {
    "collapsed": true,
    "slideshow": {
     "slide_type": "slide"
    }
   },
   "outputs": [],
   "source": [
    "# %load ./src/headfirst/factory/pizzaaf/small/PizzaTestDrive.java\n",
    "package headfirst.factory.pizzaaf.small;\n",
    "\n",
    "public class PizzaTestDrive {\n",
    "    public static void main(String[] args) {\n",
    "        PizzaStore nyStore = new NYPizzaStore();\n",
    "        PizzaStore chicagoStore = new ChicagoPizzaStore();\n",
    " \n",
    "        Pizza pizza = nyStore.orderPizza(\"cheese\");\n",
    "        System.out.println(\"Ethan ordered a \" + pizza + \"\\n\");\n",
    " \n",
    "        pizza = chicagoStore.orderPizza(\"cheese\");\n",
    "        System.out.println(\"Joel ordered a \" + pizza + \"\\n\");\n",
    "\t}\n",
    "}"
   ]
  },
  {
   "cell_type": "code",
   "execution_count": null,
   "metadata": {
    "collapsed": true,
    "slideshow": {
     "slide_type": "slide"
    }
   },
   "outputs": [],
   "source": [
    "# %load ./src/headfirst/factory/pizzaaf/small/PizzaStore.java\n",
    "package headfirst.factory.pizzaaf.small;\n",
    "\n",
    "public abstract class PizzaStore {\n",
    " \n",
    "    protected abstract Pizza createPizza(String item);\n",
    " \n",
    "    public Pizza orderPizza(String type) {\n",
    "        Pizza pizza = createPizza(type);\n",
    "        System.out.println(\"--- Making a \" + pizza.getName() + \" ---\");\n",
    "        pizza.prepare();\n",
    "        pizza.bake();\n",
    "        pizza.cut();\n",
    "        pizza.box();\n",
    "        return pizza;\n",
    "    }\n",
    "}\n"
   ]
  },
  {
   "cell_type": "code",
   "execution_count": null,
   "metadata": {
    "collapsed": true,
    "slideshow": {
     "slide_type": "slide"
    }
   },
   "outputs": [],
   "source": [
    "# %load ./src/headfirst/factory/pizzaaf/small/NYPizzaStore.java\n",
    "package headfirst.factory.pizzaaf.small;\n",
    "\n",
    "public class NYPizzaStore extends PizzaStore {\n",
    "    protected Pizza createPizza(String item) {\n",
    "        Pizza pizza = null;\n",
    "        PizzaIngredientFactory ingredientFactory=new NYPizzaIngredientFactory();\n",
    " \n",
    "        if (item.equals(\"cheese\")) {\n",
    "  \n",
    "            pizza = new CheesePizza(ingredientFactory);\n",
    "            pizza.setName(\"New York Style Cheese Pizza\");\n",
    "  \n",
    "        }\n",
    "        return pizza;\n",
    "    }\n",
    "}\n"
   ]
  },
  {
   "cell_type": "code",
   "execution_count": null,
   "metadata": {
    "collapsed": true,
    "slideshow": {
     "slide_type": "slide"
    }
   },
   "outputs": [],
   "source": [
    "# %load ./src/headfirst/factory/pizzaaf/small/ChicagoPizzaStore.java\n",
    "package headfirst.factory.pizzaaf.small;\n",
    "\n",
    "public class ChicagoPizzaStore extends PizzaStore {\n",
    "    protected Pizza createPizza(String item) {\n",
    "        Pizza pizza = null;\n",
    "        PizzaIngredientFactory ingredientFactory=new ChicagoPizzaIngredientFactory();\n",
    "        if (item.equals(\"cheese\")) {\n",
    "            pizza = new CheesePizza(ingredientFactory);\n",
    "            pizza.setName(\"Chicago Style Cheese Pizza\");\n",
    "        }\n",
    "        return pizza;\n",
    "    }\n",
    "}\n"
   ]
  },
  {
   "cell_type": "code",
   "execution_count": null,
   "metadata": {
    "collapsed": true,
    "slideshow": {
     "slide_type": "slide"
    }
   },
   "outputs": [],
   "source": [
    "# %load ./src/headfirst/factory/pizzaaf/small/Pizza.java\n",
    "package headfirst.factory.pizzaaf.small;\n",
    "\n",
    "public abstract class Pizza {\n",
    "    String name;\n",
    "    Dough dough;\n",
    "    Cheese cheese;\n",
    "\n",
    "    abstract void prepare();\n",
    "    void bake() {\n",
    "        System.out.println(\"Bake for 25 minutes at 350\");\n",
    "    }\n",
    "    void cut() {\n",
    "        System.out.println(\"Cutting the pizza into diagonal slices\");\n",
    "    }\n",
    "    void box() {\n",
    "        System.out.println(\"Place pizza in official PizzaStore box\");\n",
    "    }\n",
    "    void setName(String name) {\n",
    "        this.name = name;\n",
    "    }\n",
    "    String getName() {\n",
    "        return name;\n",
    "    }\n",
    "    public String toString() {\n",
    "        StringBuffer result = new StringBuffer();\n",
    "        result.append(\"---- \" + name + \" ----\\n\");\n",
    "        if (dough != null) {\n",
    "            result.append(dough);\n",
    "            result.append(\"\\n\");\n",
    "        }\n",
    "        if (cheese != null) {\n",
    "            result.append(cheese);\n",
    "            result.append(\"\\n\");\n",
    "        }\n",
    "        return result.toString();\n",
    "    }\n",
    "}\n"
   ]
  },
  {
   "cell_type": "code",
   "execution_count": null,
   "metadata": {
    "collapsed": true,
    "slideshow": {
     "slide_type": "slide"
    }
   },
   "outputs": [],
   "source": [
    "# %load ./src/headfirst/factory/pizzaaf/small/CheesePizza.java\n",
    "package headfirst.factory.pizzaaf.small;\n",
    "\n",
    "public class CheesePizza extends Pizza {\n",
    "    PizzaIngredientFactory ingredientFactory;\n",
    " \n",
    "    public CheesePizza(PizzaIngredientFactory ingredientFactory) {\n",
    "        this.ingredientFactory = ingredientFactory;\n",
    "    }\n",
    "    void prepare() {\n",
    "        System.out.println(\"Preparing \" + name);\n",
    "        dough = ingredientFactory.createDough();\n",
    "        cheese = ingredientFactory.createCheese();\n",
    "    }\n",
    "}\n"
   ]
  },
  {
   "cell_type": "code",
   "execution_count": null,
   "metadata": {
    "collapsed": true,
    "slideshow": {
     "slide_type": "slide"
    }
   },
   "outputs": [],
   "source": [
    "# %load ./src/headfirst/factory/pizzaaf/small/PizzaIngredientFactory.java\n",
    "package headfirst.factory.pizzaaf.small;\n",
    "\n",
    "public interface PizzaIngredientFactory {\n",
    "    public Dough createDough();\n",
    "    public Cheese createCheese();\n",
    "}\n"
   ]
  },
  {
   "cell_type": "code",
   "execution_count": null,
   "metadata": {
    "collapsed": true,
    "slideshow": {
     "slide_type": "slide"
    }
   },
   "outputs": [],
   "source": [
    "# %load ./src/headfirst/factory/pizzaaf/small/NYPizzaIngredientFactory.java\n",
    "package headfirst.factory.pizzaaf.small;\n",
    "\n",
    "public class NYPizzaIngredientFactory implements PizzaIngredientFactory {\n",
    "    public Dough createDough() {\n",
    "        return new ThinCrustDough();\n",
    "    }\n",
    "    public Cheese createCheese() {\n",
    "        return new ReggianoCheese();\n",
    "    }\n",
    "}\n"
   ]
  },
  {
   "cell_type": "code",
   "execution_count": null,
   "metadata": {
    "collapsed": true,
    "slideshow": {
     "slide_type": "slide"
    }
   },
   "outputs": [],
   "source": [
    "# %load ./src/headfirst/factory/pizzaaf/small/ChicagoPizzaIngredientFactory.java\n",
    "package headfirst.factory.pizzaaf.small;\n",
    "\n",
    "public class ChicagoPizzaIngredientFactory implements PizzaIngredientFactory {\n",
    "    public Dough createDough() {\n",
    "        return new ThickCrustDough();\n",
    "    }\n",
    "    public Cheese createCheese() {\n",
    "        return new MozzarellaCheese();\n",
    "    }\n",
    "}\n"
   ]
  },
  {
   "cell_type": "code",
   "execution_count": null,
   "metadata": {
    "collapsed": true,
    "slideshow": {
     "slide_type": "slide"
    }
   },
   "outputs": [],
   "source": [
    "# %load ./src/headfirst/factory/pizzaaf/small/Dough.java\n",
    "package headfirst.factory.pizzaaf.small;\n",
    "\n",
    "public interface Dough {\n",
    "    public String toString();\n",
    "}\n"
   ]
  },
  {
   "cell_type": "code",
   "execution_count": null,
   "metadata": {
    "collapsed": true,
    "slideshow": {
     "slide_type": "slide"
    }
   },
   "outputs": [],
   "source": [
    "# %load ./src/headfirst/factory/pizzaaf/small/Cheese.java\n",
    "package headfirst.factory.pizzaaf.small;\n",
    "\n",
    "public interface Cheese {\n",
    "    public String toString();\n",
    "}\n"
   ]
  },
  {
   "cell_type": "code",
   "execution_count": null,
   "metadata": {
    "collapsed": true,
    "slideshow": {
     "slide_type": "slide"
    }
   },
   "outputs": [],
   "source": [
    "# %load ./src/headfirst/factory/pizzaaf/small/ThinCrustDough.java\n",
    "package headfirst.factory.pizzaaf.small;\n",
    "\n",
    "public class ThinCrustDough implements Dough {\n",
    "    public String toString() {\n",
    "        return \"Thin Crust Dough\";\n",
    "    }\n",
    "}\n"
   ]
  },
  {
   "cell_type": "code",
   "execution_count": null,
   "metadata": {
    "collapsed": true,
    "slideshow": {
     "slide_type": "slide"
    }
   },
   "outputs": [],
   "source": [
    "# %load ./src/headfirst/factory/pizzaaf/small/ThickCrustDough.java\n",
    "package headfirst.factory.pizzaaf.small;\n",
    "\n",
    "public class ThickCrustDough implements Dough {\n",
    "    public String toString() {\n",
    "        return \"ThickCrust style extra thick crust dough\";\n",
    "    }\n",
    "}\n"
   ]
  },
  {
   "cell_type": "code",
   "execution_count": null,
   "metadata": {
    "collapsed": true,
    "slideshow": {
     "slide_type": "slide"
    }
   },
   "outputs": [],
   "source": [
    "# %load ./src/headfirst/factory/pizzaaf/small/MozzarellaCheese.java\n",
    "package headfirst.factory.pizzaaf.small;\n",
    "\n",
    "public class MozzarellaCheese implements Cheese {\n",
    "    public String toString() {\n",
    "        return \"Shredded Mozzarella\";\n",
    "    }\n",
    "}\n"
   ]
  },
  {
   "cell_type": "code",
   "execution_count": null,
   "metadata": {
    "collapsed": true,
    "slideshow": {
     "slide_type": "slide"
    }
   },
   "outputs": [],
   "source": [
    "# %load ./src/headfirst/factory/pizzaaf/small/ReggianoCheese.java\n",
    "package headfirst.factory.pizzaaf.small;\n",
    "\n",
    "public class ReggianoCheese implements Cheese {\n",
    "    public String toString() {\n",
    "        return \"Reggiano Cheese\";\n",
    "    }\n",
    "}\n"
   ]
  },
  {
   "cell_type": "code",
   "execution_count": 41,
   "metadata": {
    "collapsed": false,
    "slideshow": {
     "slide_type": "slide"
    }
   },
   "outputs": [
    {
     "name": "stdout",
     "output_type": "stream",
     "text": [
      "Picked up JAVA_TOOL_OPTIONS: -javaagent:/usr/share/java/jayatanaag.jar \n",
      "warning: Supported source version 'RELEASE_6' from annotation processor 'org.sonatype.guice.bean.scanners.index.SisuIndexAPT6' less than -source '1.7'\n",
      "1 warning\n"
     ]
    }
   ],
   "source": [
    "!javac -d classes/ -sourcepath src/ src/headfirst/factory/pizzaaf/small/*.java"
   ]
  },
  {
   "cell_type": "code",
   "execution_count": 42,
   "metadata": {
    "collapsed": false,
    "scrolled": false,
    "slideshow": {
     "slide_type": "slide"
    }
   },
   "outputs": [
    {
     "name": "stdout",
     "output_type": "stream",
     "text": [
      "Picked up JAVA_TOOL_OPTIONS: -javaagent:/usr/share/java/jayatanaag.jar \n",
      "--- Making a New York Style Cheese Pizza ---\n",
      "Preparing New York Style Cheese Pizza\n",
      "Bake for 25 minutes at 350\n",
      "Cutting the pizza into diagonal slices\n",
      "Place pizza in official PizzaStore box\n",
      "Ethan ordered a ---- New York Style Cheese Pizza ----\n",
      "Thin Crust Dough\n",
      "Reggiano Cheese\n",
      "\n",
      "\n",
      "--- Making a Chicago Style Cheese Pizza ---\n",
      "Preparing Chicago Style Cheese Pizza\n",
      "Bake for 25 minutes at 350\n",
      "Cutting the pizza into diagonal slices\n",
      "Place pizza in official PizzaStore box\n",
      "Joel ordered a ---- Chicago Style Cheese Pizza ----\n",
      "ThickCrust style extra thick crust dough\n",
      "Shredded Mozzarella\n",
      "\n",
      "\n"
     ]
    }
   ],
   "source": [
    "!java -cp classes/ headfirst.factory.pizzaaf.small.PizzaTestDrive"
   ]
  },
  {
   "cell_type": "markdown",
   "metadata": {
    "slideshow": {
     "slide_type": "slide"
    }
   },
   "source": [
    "### F.4.2 Shape"
   ]
  },
  {
   "cell_type": "code",
   "execution_count": 14,
   "metadata": {
    "collapsed": false
   },
   "outputs": [
    {
     "data": {
      "image/svg+xml": [
       "<svg height=\"428px\" style=\"width:406px;height:428px;\" version=\"1.1\" viewBox=\"0 0 406 428\" width=\"406px\" xmlns=\"http://www.w3.org/2000/svg\" xmlns:xlink=\"http://www.w3.org/1999/xlink\"><defs><filter height=\"300%\" id=\"f1\" width=\"300%\" x=\"-1\" y=\"-1\"><feGaussianBlur result=\"blurOut\" stdDeviation=\"2.0\"/><feColorMatrix in=\"blurOut\" result=\"blurOut2\" type=\"matrix\" values=\"0 0 0 0 0 0 0 0 0 0 0 0 0 0 0 0 0 0 .4 0\"/><feOffset dx=\"4.0\" dy=\"4.0\" in=\"blurOut2\" result=\"blurOut3\"/><feBlend in=\"SourceGraphic\" in2=\"blurOut3\" mode=\"normal\"/></filter></defs><g><rect fill=\"#FEFECE\" filter=\"url(#f1)\" height=\"73.9102\" style=\"stroke: #A80036; stroke-width: 1.5;\" width=\"218\" x=\"85.5\" y=\"8\"/><ellipse cx=\"123\" cy=\"24\" fill=\"#A9DCDF\" rx=\"11\" ry=\"11\" style=\"stroke: #A80036; stroke-width: 1.0;\"/><path d=\"M123.1133,19.3481 L121.9595,24.4199 L124.2754,24.4199 Z M121.6191,17.1069 L124.6157,17.1069 L127.9609,29.5 L125.5122,29.5 L124.7485,26.437 L121.4697,26.437 L120.7227,29.5 L118.2739,29.5 Z \"/><text fill=\"#000000\" font-family=\"sans-serif\" font-size=\"12\" font-style=\"italic\" lengthAdjust=\"spacingAndGlyphs\" textLength=\"136\" x=\"142\" y=\"28.5352\">DrawingAbstractFactory</text><line style=\"stroke: #A80036; stroke-width: 1.5;\" x1=\"86.5\" x2=\"302.5\" y1=\"40\" y2=\"40\"/><line style=\"stroke: #A80036; stroke-width: 1.5;\" x1=\"86.5\" x2=\"302.5\" y1=\"48\" y2=\"48\"/><text fill=\"#000000\" font-family=\"sans-serif\" font-size=\"11\" lengthAdjust=\"spacingAndGlyphs\" textLength=\"198\" x=\"91.5\" y=\"62.6348\">abstract getColor(color:String):Color</text><text fill=\"#000000\" font-family=\"sans-serif\" font-size=\"11\" lengthAdjust=\"spacingAndGlyphs\" textLength=\"206\" x=\"91.5\" y=\"75.5898\">abstract getShape(shape:String):Shape</text><rect fill=\"#FEFECE\" filter=\"url(#f1)\" height=\"48\" style=\"stroke: #A80036; stroke-width: 1.5;\" width=\"103\" x=\"73\" y=\"142\"/><ellipse cx=\"88\" cy=\"158\" fill=\"#ADD1B2\" rx=\"11\" ry=\"11\" style=\"stroke: #A80036; stroke-width: 1.0;\"/><path d=\"M90.9731,163.6431 Q90.3921,163.9419 89.7529,164.0913 Q89.1138,164.2407 88.4082,164.2407 Q85.9014,164.2407 84.5815,162.5889 Q83.2617,160.937 83.2617,157.8159 Q83.2617,154.6865 84.5815,153.0347 Q85.9014,151.3828 88.4082,151.3828 Q89.1138,151.3828 89.7612,151.5322 Q90.4087,151.6816 90.9731,151.9805 L90.9731,154.7031 Q90.3423,154.1221 89.7488,153.8523 Q89.1553,153.5825 88.5244,153.5825 Q87.1797,153.5825 86.4949,154.6492 Q85.8101,155.7158 85.8101,157.8159 Q85.8101,159.9077 86.4949,160.9744 Q87.1797,162.041 88.5244,162.041 Q89.1553,162.041 89.7488,161.7712 Q90.3423,161.5015 90.9731,160.9204 Z \"/><text fill=\"#000000\" font-family=\"sans-serif\" font-size=\"12\" lengthAdjust=\"spacingAndGlyphs\" textLength=\"71\" x=\"102\" y=\"162.5352\">ColorFactory</text><line style=\"stroke: #A80036; stroke-width: 1.5;\" x1=\"74\" x2=\"175\" y1=\"174\" y2=\"174\"/><line style=\"stroke: #A80036; stroke-width: 1.5;\" x1=\"74\" x2=\"175\" y1=\"182\" y2=\"182\"/><rect fill=\"#FEFECE\" filter=\"url(#f1)\" height=\"48\" style=\"stroke: #A80036; stroke-width: 1.5;\" width=\"62\" x=\"101.5\" y=\"256.5\"/><ellipse cx=\"116.5\" cy=\"272.5\" fill=\"#B4A7E5\" rx=\"11\" ry=\"11\" style=\"stroke: #A80036; stroke-width: 1.0;\"/><path d=\"M112.4277,268.2651 L112.4277,266.1069 L119.8071,266.1069 L119.8071,268.2651 L117.3418,268.2651 L117.3418,276.3418 L119.8071,276.3418 L119.8071,278.5 L112.4277,278.5 L112.4277,276.3418 L114.8931,276.3418 L114.8931,268.2651 Z \"/><text fill=\"#000000\" font-family=\"sans-serif\" font-size=\"12\" font-style=\"italic\" lengthAdjust=\"spacingAndGlyphs\" textLength=\"30\" x=\"130.5\" y=\"277.0352\">Color</text><line style=\"stroke: #A80036; stroke-width: 1.5;\" x1=\"102.5\" x2=\"162.5\" y1=\"288.5\" y2=\"288.5\"/><line style=\"stroke: #A80036; stroke-width: 1.5;\" x1=\"102.5\" x2=\"162.5\" y1=\"296.5\" y2=\"296.5\"/><rect fill=\"#FEFECE\" filter=\"url(#f1)\" height=\"48\" style=\"stroke: #A80036; stroke-width: 1.5;\" width=\"67\" x=\"6\" y=\"371\"/><ellipse cx=\"21\" cy=\"387\" fill=\"#ADD1B2\" rx=\"11\" ry=\"11\" style=\"stroke: #A80036; stroke-width: 1.0;\"/><path d=\"M23.9731,392.6431 Q23.3921,392.9419 22.7529,393.0913 Q22.1138,393.2407 21.4082,393.2407 Q18.9014,393.2407 17.5815,391.5889 Q16.2617,389.937 16.2617,386.8159 Q16.2617,383.6865 17.5815,382.0347 Q18.9014,380.3828 21.4082,380.3828 Q22.1138,380.3828 22.7612,380.5322 Q23.4087,380.6816 23.9731,380.9805 L23.9731,383.7031 Q23.3423,383.1221 22.7488,382.8523 Q22.1553,382.5825 21.5244,382.5825 Q20.1797,382.5825 19.4949,383.6492 Q18.8101,384.7158 18.8101,386.8159 Q18.8101,388.9077 19.4949,389.9744 Q20.1797,391.041 21.5244,391.041 Q22.1553,391.041 22.7488,390.7712 Q23.3423,390.5015 23.9731,389.9204 Z \"/><text fill=\"#000000\" font-family=\"sans-serif\" font-size=\"12\" lengthAdjust=\"spacingAndGlyphs\" textLength=\"35\" x=\"35\" y=\"391.5352\">Green</text><line style=\"stroke: #A80036; stroke-width: 1.5;\" x1=\"7\" x2=\"72\" y1=\"403\" y2=\"403\"/><line style=\"stroke: #A80036; stroke-width: 1.5;\" x1=\"7\" x2=\"72\" y1=\"411\" y2=\"411\"/><rect fill=\"#FEFECE\" filter=\"url(#f1)\" height=\"48\" style=\"stroke: #A80036; stroke-width: 1.5;\" width=\"55\" x=\"108\" y=\"371\"/><ellipse cx=\"123\" cy=\"387\" fill=\"#ADD1B2\" rx=\"11\" ry=\"11\" style=\"stroke: #A80036; stroke-width: 1.0;\"/><path d=\"M125.9731,392.6431 Q125.3921,392.9419 124.7529,393.0913 Q124.1138,393.2407 123.4082,393.2407 Q120.9014,393.2407 119.5815,391.5889 Q118.2617,389.937 118.2617,386.8159 Q118.2617,383.6865 119.5815,382.0347 Q120.9014,380.3828 123.4082,380.3828 Q124.1138,380.3828 124.7612,380.5322 Q125.4087,380.6816 125.9731,380.9805 L125.9731,383.7031 Q125.3423,383.1221 124.7488,382.8523 Q124.1553,382.5825 123.5244,382.5825 Q122.1797,382.5825 121.4949,383.6492 Q120.8101,384.7158 120.8101,386.8159 Q120.8101,388.9077 121.4949,389.9744 Q122.1797,391.041 123.5244,391.041 Q124.1553,391.041 124.7488,390.7712 Q125.3423,390.5015 125.9731,389.9204 Z \"/><text fill=\"#000000\" font-family=\"sans-serif\" font-size=\"12\" lengthAdjust=\"spacingAndGlyphs\" textLength=\"23\" x=\"137\" y=\"391.5352\">Red</text><line style=\"stroke: #A80036; stroke-width: 1.5;\" x1=\"109\" x2=\"162\" y1=\"403\" y2=\"403\"/><line style=\"stroke: #A80036; stroke-width: 1.5;\" x1=\"109\" x2=\"162\" y1=\"411\" y2=\"411\"/><rect fill=\"#FEFECE\" filter=\"url(#f1)\" height=\"48\" style=\"stroke: #A80036; stroke-width: 1.5;\" width=\"108\" x=\"211.5\" y=\"142\"/><ellipse cx=\"226.5\" cy=\"158\" fill=\"#ADD1B2\" rx=\"11\" ry=\"11\" style=\"stroke: #A80036; stroke-width: 1.0;\"/><path d=\"M229.4731,163.6431 Q228.8921,163.9419 228.2529,164.0913 Q227.6138,164.2407 226.9082,164.2407 Q224.4014,164.2407 223.0815,162.5889 Q221.7617,160.937 221.7617,157.8159 Q221.7617,154.6865 223.0815,153.0347 Q224.4014,151.3828 226.9082,151.3828 Q227.6138,151.3828 228.2612,151.5322 Q228.9087,151.6816 229.4731,151.9805 L229.4731,154.7031 Q228.8423,154.1221 228.2488,153.8523 Q227.6553,153.5825 227.0244,153.5825 Q225.6797,153.5825 224.9949,154.6492 Q224.3101,155.7158 224.3101,157.8159 Q224.3101,159.9077 224.9949,160.9744 Q225.6797,162.041 227.0244,162.041 Q227.6553,162.041 228.2488,161.7712 Q228.8423,161.5015 229.4731,160.9204 Z \"/><text fill=\"#000000\" font-family=\"sans-serif\" font-size=\"12\" lengthAdjust=\"spacingAndGlyphs\" textLength=\"76\" x=\"240.5\" y=\"162.5352\">ShapeFactory</text><line style=\"stroke: #A80036; stroke-width: 1.5;\" x1=\"212.5\" x2=\"318.5\" y1=\"174\" y2=\"174\"/><line style=\"stroke: #A80036; stroke-width: 1.5;\" x1=\"212.5\" x2=\"318.5\" y1=\"182\" y2=\"182\"/><rect fill=\"#FEFECE\" filter=\"url(#f1)\" height=\"60.9551\" style=\"stroke: #A80036; stroke-width: 1.5;\" width=\"67\" x=\"215\" y=\"250\"/><ellipse cx=\"230\" cy=\"266\" fill=\"#B4A7E5\" rx=\"11\" ry=\"11\" style=\"stroke: #A80036; stroke-width: 1.0;\"/><path d=\"M225.9277,261.7651 L225.9277,259.6069 L233.3071,259.6069 L233.3071,261.7651 L230.8418,261.7651 L230.8418,269.8418 L233.3071,269.8418 L233.3071,272 L225.9277,272 L225.9277,269.8418 L228.3931,269.8418 L228.3931,261.7651 Z \"/><text fill=\"#000000\" font-family=\"sans-serif\" font-size=\"12\" font-style=\"italic\" lengthAdjust=\"spacingAndGlyphs\" textLength=\"35\" x=\"244\" y=\"270.5352\">Shape</text><line style=\"stroke: #A80036; stroke-width: 1.5;\" x1=\"216\" x2=\"281\" y1=\"282\" y2=\"282\"/><line style=\"stroke: #A80036; stroke-width: 1.5;\" x1=\"216\" x2=\"281\" y1=\"290\" y2=\"290\"/><text fill=\"#000000\" font-family=\"sans-serif\" font-size=\"11\" lengthAdjust=\"spacingAndGlyphs\" textLength=\"36\" x=\"221\" y=\"304.6348\">show()</text><rect fill=\"#FEFECE\" filter=\"url(#f1)\" height=\"48\" style=\"stroke: #A80036; stroke-width: 1.5;\" width=\"88\" x=\"202.5\" y=\"371\"/><ellipse cx=\"217.5\" cy=\"387\" fill=\"#ADD1B2\" rx=\"11\" ry=\"11\" style=\"stroke: #A80036; stroke-width: 1.0;\"/><path d=\"M220.4731,392.6431 Q219.8921,392.9419 219.2529,393.0913 Q218.6138,393.2407 217.9082,393.2407 Q215.4014,393.2407 214.0815,391.5889 Q212.7617,389.937 212.7617,386.8159 Q212.7617,383.6865 214.0815,382.0347 Q215.4014,380.3828 217.9082,380.3828 Q218.6138,380.3828 219.2612,380.5322 Q219.9087,380.6816 220.4731,380.9805 L220.4731,383.7031 Q219.8423,383.1221 219.2488,382.8523 Q218.6553,382.5825 218.0244,382.5825 Q216.6797,382.5825 215.9949,383.6492 Q215.3101,384.7158 215.3101,386.8159 Q215.3101,388.9077 215.9949,389.9744 Q216.6797,391.041 218.0244,391.041 Q218.6553,391.041 219.2488,390.7712 Q219.8423,390.5015 220.4731,389.9204 Z \"/><text fill=\"#000000\" font-family=\"sans-serif\" font-size=\"12\" lengthAdjust=\"spacingAndGlyphs\" textLength=\"56\" x=\"231.5\" y=\"391.5352\">Rectangle</text><line style=\"stroke: #A80036; stroke-width: 1.5;\" x1=\"203.5\" x2=\"289.5\" y1=\"403\" y2=\"403\"/><line style=\"stroke: #A80036; stroke-width: 1.5;\" x1=\"203.5\" x2=\"289.5\" y1=\"411\" y2=\"411\"/><rect fill=\"#FEFECE\" filter=\"url(#f1)\" height=\"48\" style=\"stroke: #A80036; stroke-width: 1.5;\" width=\"72\" x=\"325.5\" y=\"371\"/><ellipse cx=\"340.5\" cy=\"387\" fill=\"#ADD1B2\" rx=\"11\" ry=\"11\" style=\"stroke: #A80036; stroke-width: 1.0;\"/><path d=\"M343.4731,392.6431 Q342.8921,392.9419 342.2529,393.0913 Q341.6138,393.2407 340.9082,393.2407 Q338.4014,393.2407 337.0815,391.5889 Q335.7617,389.937 335.7617,386.8159 Q335.7617,383.6865 337.0815,382.0347 Q338.4014,380.3828 340.9082,380.3828 Q341.6138,380.3828 342.2612,380.5322 Q342.9087,380.6816 343.4731,380.9805 L343.4731,383.7031 Q342.8423,383.1221 342.2488,382.8523 Q341.6553,382.5825 341.0244,382.5825 Q339.6797,382.5825 338.9949,383.6492 Q338.3101,384.7158 338.3101,386.8159 Q338.3101,388.9077 338.9949,389.9744 Q339.6797,391.041 341.0244,391.041 Q341.6553,391.041 342.2488,390.7712 Q342.8423,390.5015 343.4731,389.9204 Z \"/><text fill=\"#000000\" font-family=\"sans-serif\" font-size=\"12\" lengthAdjust=\"spacingAndGlyphs\" textLength=\"40\" x=\"354.5\" y=\"391.5352\">Square</text><line style=\"stroke: #A80036; stroke-width: 1.5;\" x1=\"326.5\" x2=\"396.5\" y1=\"403\" y2=\"403\"/><line style=\"stroke: #A80036; stroke-width: 1.5;\" x1=\"326.5\" x2=\"396.5\" y1=\"411\" y2=\"411\"/><path d=\"M162.959,99.62 C154.236,114.449 145.223,129.77 138.117,141.85 \" fill=\"none\" style=\"stroke: #A80036; stroke-width: 1.0;\"/><polygon fill=\"none\" points=\"157.134,95.716,173.308,82.027,169.201,102.815,157.134,95.716\" style=\"stroke: #A80036; stroke-width: 1.0;\"/><path d=\"M100.5749,320.1191 C86.5743,337.0553 70.6127,356.3637 58.5189,370.9933 \" fill=\"none\" style=\"stroke: #A80036; stroke-width: 1.0; stroke-dasharray: 7.0,7.0;\"/><polygon fill=\"none\" points=\"95.3175,315.492,113.456,304.538,106.108,324.4124,95.3175,315.492\" style=\"stroke: #A80036; stroke-width: 1.0;\"/><path d=\"M133.651,324.6449 C134.071,340.4205 134.531,357.6523 134.886,370.9933 \" fill=\"none\" style=\"stroke: #A80036; stroke-width: 1.0; stroke-dasharray: 7.0,7.0;\"/><polygon fill=\"none\" points=\"126.65,324.7171,133.114,304.538,140.645,324.3438,126.65,324.7171\" style=\"stroke: #A80036; stroke-width: 1.0;\"/><path d=\"M226.492,99.62 C235.34,114.449 244.481,129.77 251.688,141.85 \" fill=\"none\" style=\"stroke: #A80036; stroke-width: 1.0;\"/><polygon fill=\"none\" points=\"220.231,102.789,215.995,82.027,232.254,95.616,220.231,102.789\" style=\"stroke: #A80036; stroke-width: 1.0;\"/><path d=\"M247.618,331.1067 C247.373,344.8764 247.119,359.1847 246.915,370.6686 \" fill=\"none\" style=\"stroke: #A80036; stroke-width: 1.0; stroke-dasharray: 7.0,7.0;\"/><polygon fill=\"none\" points=\"240.62,330.9304,247.975,311.058,254.618,331.1793,240.62,330.9304\" style=\"stroke: #A80036; stroke-width: 1.0;\"/><path d=\"M292.511,325.3165 C308.044,340.7801 324.902,357.5635 338.065,370.6686 \" fill=\"none\" style=\"stroke: #A80036; stroke-width: 1.0; stroke-dasharray: 7.0,7.0;\"/><polygon fill=\"none\" points=\"287.424,330.1295,278.189,311.058,297.302,320.2081,287.424,330.1295\" style=\"stroke: #A80036; stroke-width: 1.0;\"/><path d=\"M126.138,190.038 C127.4,207.783 129.151,232.399 130.496,251.318 \" fill=\"none\" style=\"stroke: #A80036; stroke-width: 1.0; stroke-dasharray: 7.0,7.0;\"/><polygon fill=\"#A80036\" points=\"130.864,256.493,134.2162,247.2322,130.5097,251.5056,126.2363,247.7991,130.864,256.493\" style=\"stroke: #A80036; stroke-width: 1.0;\"/><path d=\"M149.892,190.038 C167.695,206.189 191.771,228.032 211.676,246.091 \" fill=\"none\" style=\"stroke: #A80036; stroke-width: 1.0; stroke-dasharray: 7.0,7.0;\"/><polygon fill=\"#A80036\" points=\"215.598,249.65,211.6209,240.6398,211.8952,246.2901,206.245,246.5643,215.598,249.65\" style=\"stroke: #A80036; stroke-width: 1.0;\"/><path d=\"M238.265,190.038 C216.568,208.39 186.185,234.09 163.547,253.238 \" fill=\"none\" style=\"stroke: #A80036; stroke-width: 1.0; stroke-dasharray: 7.0,7.0;\"/><polygon fill=\"#A80036\" points=\"159.699,256.493,169.1532,253.7329,163.5159,253.2632,163.9856,247.6259,159.699,256.493\" style=\"stroke: #A80036; stroke-width: 1.0;\"/><path d=\"M262.019,190.038 C259.659,205.65 256.496,226.582 253.823,244.273 \" fill=\"none\" style=\"stroke: #A80036; stroke-width: 1.0; stroke-dasharray: 7.0,7.0;\"/><polygon fill=\"#A80036\" points=\"253.011,249.65,258.3112,241.3489,253.7583,244.7062,250.4011,240.1533,253.011,249.65\" style=\"stroke: #A80036; stroke-width: 1.0;\"/></g></svg>"
      ],
      "text/plain": [
       "<IPython.core.display.SVG object>"
      ]
     },
     "execution_count": 14,
     "metadata": {},
     "output_type": "execute_result"
    }
   ],
   "source": [
    "%%plantuml\n",
    "@startuml\n",
    "abstract class DrawingAbstractFactory {\n",
    "    abstract getColor(color:String):Color\n",
    "    abstract getShape(shape:String):Shape\n",
    "}\n",
    "DrawingAbstractFactory <|-- ColorFactory\n",
    "\n",
    "interface Color\n",
    "Color <|.. Green\n",
    "Color <|.. Red\n",
    "\n",
    "DrawingAbstractFactory <|-- ShapeFactory\n",
    "interface Shape {\n",
    "    show()\n",
    "}\n",
    "Shape <|.. Rectangle\n",
    "Shape <|.. Square\n",
    "\n",
    "ColorFactory ..> Color\n",
    "ColorFactory ..> Shape\n",
    "ShapeFactory ..> Color\n",
    "ShapeFactory ..> Shape\n",
    "@enduml"
   ]
  },
  {
   "cell_type": "code",
   "execution_count": 11,
   "metadata": {
    "collapsed": false
   },
   "outputs": [
    {
     "data": {
      "image/svg+xml": [
       "<svg height=\"228px\" style=\"width:635px;height:228px;\" version=\"1.1\" viewBox=\"0 0 635 228\" width=\"635px\" xmlns=\"http://www.w3.org/2000/svg\" xmlns:xlink=\"http://www.w3.org/1999/xlink\"><defs><filter height=\"300%\" id=\"f1\" width=\"300%\" x=\"-1\" y=\"-1\"><feGaussianBlur result=\"blurOut\" stdDeviation=\"2.0\"/><feColorMatrix in=\"blurOut\" result=\"blurOut2\" type=\"matrix\" values=\"0 0 0 0 0 0 0 0 0 0 0 0 0 0 0 0 0 0 .4 0\"/><feOffset dx=\"4.0\" dy=\"4.0\" in=\"blurOut2\" result=\"blurOut3\"/><feBlend in=\"SourceGraphic\" in2=\"blurOut3\" mode=\"normal\"/></filter></defs><g><line style=\"stroke: #A80036; stroke-width: 1.0; stroke-dasharray: 5.0,5.0;\" x1=\"37\" x2=\"37\" y1=\"38.4883\" y2=\"189.7305\"/><line style=\"stroke: #A80036; stroke-width: 1.0; stroke-dasharray: 5.0,5.0;\" x1=\"167\" x2=\"167\" y1=\"38.4883\" y2=\"189.7305\"/><line style=\"stroke: #A80036; stroke-width: 1.0; stroke-dasharray: 5.0,5.0;\" x1=\"323\" x2=\"323\" y1=\"38.4883\" y2=\"189.7305\"/><line style=\"stroke: #A80036; stroke-width: 1.0; stroke-dasharray: 5.0,5.0;\" x1=\"418\" x2=\"418\" y1=\"38.4883\" y2=\"189.7305\"/><line style=\"stroke: #A80036; stroke-width: 1.0; stroke-dasharray: 5.0,5.0;\" x1=\"511\" x2=\"511\" y1=\"38.4883\" y2=\"189.7305\"/><line style=\"stroke: #A80036; stroke-width: 1.0; stroke-dasharray: 5.0,5.0;\" x1=\"602\" x2=\"602\" y1=\"38.4883\" y2=\"189.7305\"/><rect fill=\"#FEFECE\" filter=\"url(#f1)\" height=\"30.4883\" style=\"stroke: #A80036; stroke-width: 1.5;\" width=\"54\" x=\"8\" y=\"3\"/><text fill=\"#000000\" font-family=\"sans-serif\" font-size=\"14\" lengthAdjust=\"spacingAndGlyphs\" textLength=\"40\" x=\"15\" y=\"23.5352\">Client</text><rect fill=\"#FEFECE\" filter=\"url(#f1)\" height=\"30.4883\" style=\"stroke: #A80036; stroke-width: 1.5;\" width=\"54\" x=\"8\" y=\"188.7305\"/><text fill=\"#000000\" font-family=\"sans-serif\" font-size=\"14\" lengthAdjust=\"spacingAndGlyphs\" textLength=\"40\" x=\"15\" y=\"209.2656\">Client</text><rect fill=\"#FEFECE\" filter=\"url(#f1)\" height=\"30.4883\" style=\"stroke: #A80036; stroke-width: 1.5;\" width=\"178\" x=\"76\" y=\"3\"/><text fill=\"#000000\" font-family=\"sans-serif\" font-size=\"14\" lengthAdjust=\"spacingAndGlyphs\" textLength=\"164\" x=\"83\" y=\"23.5352\">DrawingAbstractFactory</text><rect fill=\"#FEFECE\" filter=\"url(#f1)\" height=\"30.4883\" style=\"stroke: #A80036; stroke-width: 1.5;\" width=\"178\" x=\"76\" y=\"188.7305\"/><text fill=\"#000000\" font-family=\"sans-serif\" font-size=\"14\" lengthAdjust=\"spacingAndGlyphs\" textLength=\"164\" x=\"83\" y=\"209.2656\">DrawingAbstractFactory</text><rect fill=\"#FEFECE\" filter=\"url(#f1)\" height=\"30.4883\" style=\"stroke: #A80036; stroke-width: 1.5;\" width=\"106\" x=\"268\" y=\"3\"/><text fill=\"#000000\" font-family=\"sans-serif\" font-size=\"14\" lengthAdjust=\"spacingAndGlyphs\" textLength=\"92\" x=\"275\" y=\"23.5352\">ShapeFactory</text><rect fill=\"#FEFECE\" filter=\"url(#f1)\" height=\"30.4883\" style=\"stroke: #A80036; stroke-width: 1.5;\" width=\"106\" x=\"268\" y=\"188.7305\"/><text fill=\"#000000\" font-family=\"sans-serif\" font-size=\"14\" lengthAdjust=\"spacingAndGlyphs\" textLength=\"92\" x=\"275\" y=\"209.2656\">ShapeFactory</text><rect fill=\"#FEFECE\" filter=\"url(#f1)\" height=\"30.4883\" style=\"stroke: #A80036; stroke-width: 1.5;\" width=\"56\" x=\"388\" y=\"3\"/><text fill=\"#000000\" font-family=\"sans-serif\" font-size=\"14\" lengthAdjust=\"spacingAndGlyphs\" textLength=\"42\" x=\"395\" y=\"23.5352\">Shape</text><rect fill=\"#FEFECE\" filter=\"url(#f1)\" height=\"30.4883\" style=\"stroke: #A80036; stroke-width: 1.5;\" width=\"56\" x=\"388\" y=\"188.7305\"/><text fill=\"#000000\" font-family=\"sans-serif\" font-size=\"14\" lengthAdjust=\"spacingAndGlyphs\" textLength=\"42\" x=\"395\" y=\"209.2656\">Shape</text><rect fill=\"#FEFECE\" filter=\"url(#f1)\" height=\"30.4883\" style=\"stroke: #A80036; stroke-width: 1.5;\" width=\"102\" x=\"458\" y=\"3\"/><text fill=\"#000000\" font-family=\"sans-serif\" font-size=\"14\" lengthAdjust=\"spacingAndGlyphs\" textLength=\"88\" x=\"465\" y=\"23.5352\">ColorFactory</text><rect fill=\"#FEFECE\" filter=\"url(#f1)\" height=\"30.4883\" style=\"stroke: #A80036; stroke-width: 1.5;\" width=\"102\" x=\"458\" y=\"188.7305\"/><text fill=\"#000000\" font-family=\"sans-serif\" font-size=\"14\" lengthAdjust=\"spacingAndGlyphs\" textLength=\"88\" x=\"465\" y=\"209.2656\">ColorFactory</text><rect fill=\"#FEFECE\" filter=\"url(#f1)\" height=\"30.4883\" style=\"stroke: #A80036; stroke-width: 1.5;\" width=\"52\" x=\"574\" y=\"3\"/><text fill=\"#000000\" font-family=\"sans-serif\" font-size=\"14\" lengthAdjust=\"spacingAndGlyphs\" textLength=\"38\" x=\"581\" y=\"23.5352\">Color</text><rect fill=\"#FEFECE\" filter=\"url(#f1)\" height=\"30.4883\" style=\"stroke: #A80036; stroke-width: 1.5;\" width=\"52\" x=\"574\" y=\"188.7305\"/><text fill=\"#000000\" font-family=\"sans-serif\" font-size=\"14\" lengthAdjust=\"spacingAndGlyphs\" textLength=\"38\" x=\"581\" y=\"209.2656\">Color</text><polygon fill=\"#A80036\" points=\"155,50.4883,165,54.4883,155,58.4883,159,54.4883\" style=\"stroke: #A80036; stroke-width: 1.0;\"/><line style=\"stroke: #A80036; stroke-width: 1.0;\" x1=\"37\" x2=\"161\" y1=\"54.4883\" y2=\"54.4883\"/><polygon fill=\"#A80036\" points=\"311,79.4883,321,83.4883,311,87.4883,315,83.4883\" style=\"stroke: #A80036; stroke-width: 1.0;\"/><line style=\"stroke: #A80036; stroke-width: 1.0;\" x1=\"37\" x2=\"317\" y1=\"83.4883\" y2=\"83.4883\"/><text fill=\"#000000\" font-family=\"sans-serif\" font-size=\"13\" lengthAdjust=\"spacingAndGlyphs\" textLength=\"65\" x=\"44\" y=\"79.0566\">getShape()</text><polygon fill=\"#A80036\" points=\"406,108.7988,416,112.7988,406,116.7988,410,112.7988\" style=\"stroke: #A80036; stroke-width: 1.0;\"/><line style=\"stroke: #A80036; stroke-width: 1.0;\" x1=\"37\" x2=\"412\" y1=\"112.7988\" y2=\"112.7988\"/><text fill=\"#000000\" font-family=\"sans-serif\" font-size=\"13\" lengthAdjust=\"spacingAndGlyphs\" textLength=\"41\" x=\"44\" y=\"108.3672\">show()</text><polygon fill=\"#A80036\" points=\"499,138.1094,509,142.1094,499,146.1094,503,142.1094\" style=\"stroke: #A80036; stroke-width: 1.0;\"/><line style=\"stroke: #A80036; stroke-width: 1.0;\" x1=\"37\" x2=\"505\" y1=\"142.1094\" y2=\"142.1094\"/><text fill=\"#000000\" font-family=\"sans-serif\" font-size=\"13\" lengthAdjust=\"spacingAndGlyphs\" textLength=\"64\" x=\"44\" y=\"137.6777\">getCOlor()</text><polygon fill=\"#A80036\" points=\"590,167.4199,600,171.4199,590,175.4199,594,171.4199\" style=\"stroke: #A80036; stroke-width: 1.0;\"/><line style=\"stroke: #A80036; stroke-width: 1.0;\" x1=\"37\" x2=\"596\" y1=\"171.4199\" y2=\"171.4199\"/><text fill=\"#000000\" font-family=\"sans-serif\" font-size=\"13\" lengthAdjust=\"spacingAndGlyphs\" textLength=\"25\" x=\"44\" y=\"166.9883\">fill()</text></g></svg>"
      ],
      "text/plain": [
       "<IPython.core.display.SVG object>"
      ]
     },
     "execution_count": 11,
     "metadata": {},
     "output_type": "execute_result"
    }
   ],
   "source": [
    "%%plantuml\n",
    "@startuml\n",
    "Client -> DrawingAbstractFactory\n",
    "Client -> ShapeFactory:getShape()\n",
    "Client -> Shape:show()\n",
    "Client -> ColorFactory:getCOlor()\n",
    "Client -> Color:fill()\n",
    "@enduml"
   ]
  }
 ],
 "metadata": {
  "celltoolbar": "Slideshow",
  "kernelspec": {
   "display_name": "Python 2",
   "language": "python",
   "name": "python2"
  },
  "language_info": {
   "codemirror_mode": {
    "name": "ipython",
    "version": 2
   },
   "file_extension": ".py",
   "mimetype": "text/x-python",
   "name": "python",
   "nbconvert_exporter": "python",
   "pygments_lexer": "ipython2",
   "version": "2.7.12"
  }
 },
 "nbformat": 4,
 "nbformat_minor": 0
}
