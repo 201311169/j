{
 "cells": [
  {
   "cell_type": "markdown",
   "metadata": {
    "slideshow": {
     "slide_type": "slide"
    }
   },
   "source": [
    "# 강의내용\n",
    "\n",
    "* 교재 4장 HFDP Ch4\n",
    "* Factory 패턴 (Creational Design Pattern)\n",
    "* 프로그래밍 'Pizza' (HFDP Ch4)\n",
    "* TOC\n",
    "    * intro\n",
    "    * problems\n",
    "    * before\n",
    "    * design\n",
    "    * after\n",
    "    * case implementation\n",
    "    * exercise (by Sat to git: 50% for 1 day late deadline) \n",
    "        * case extension\n",
    "            * simple factory - potato pizza\n",
    "            * factory method - SMstyle potato pizza\n",
    "            * abstract factory - potato (mashed, sliced)\n",
    "        * new case -  도형"
   ]
  },
  {
   "cell_type": "markdown",
   "metadata": {
    "slideshow": {
     "slide_type": "slide"
    }
   },
   "source": [
    "# 1. Factory 패턴\n",
    "\n",
    "\n",
    "* Client - 생성할 구체클래스를 명시할 필요 없다. 팩토리가 생성해서 반환하는 객체를 사용함.\n",
    "* 객체종류가 늘어나도 클라이언트 소스 변경 정도 적다.\n",
    "* 구분\n",
    "    * simple factory\n",
    "        * encapsulate instantiation. 객체생성을 클래스에게 맡기지 않고 팩토리 클래스가 담당한다.\n",
    "        * 팩토리 클래스의 구조가 단순하고, 경우에 따라 생성할 클래스를 결정하는 역할을 하게 된다.\n",
    "        * 클래스를 생성하는 로직이 한 곳에 모여있어, 생성하는 방식이 변경되어도 단순팩토리만 수정하게 된다.\n",
    "    * factory method\n",
    "        * 단순팩토리에서의 클래스 생성기능을 가지고 있다는 점은 같다.\n",
    "        * 그러나, 팩토리함수는 상속구조를 가지고 있다는 점이 다르다.\n",
    "        * defer instantiation to subclasses. 객체생성을 하위클래스에게 위임한다.\n",
    "        * GoF \"Define an interface for creating an object, but let the classes which implement the interface decide which class to instantiate. The Factory method lets a class defer instantiation to subclasses\"\n",
    "    * abstract factory\n",
    "        * 실제클래스가 아니라, 추상팩토리에게 클래스 생성기능을 맡긴다는 점에서 차이가 있다.\n",
    "        * GoF \"to provide an interface for creating families of related or dependent objects without specifying their concrete classes.\"\n",
    "\n",
    "* cases\n",
    "    * HFDP Pizza\n",
    "    * java valueOf(), getInstance(), newInstance()\n",
    "    * HotDraw shape\n",
    "\n",
    "* 디자인패턴 요소\n",
    "\n",
    "요소 | 설명\n",
    "---|---\n",
    "name | Factory\n",
    "problem | 생성한 구체클래스의 변경에 따른 연쇄 수정.\n",
    "solution | 생성을 감춤 (단순 factory, factory method, abstract factory\n",
    "consequence | 확장성"
   ]
  },
  {
   "cell_type": "markdown",
   "metadata": {
    "slideshow": {
     "slide_type": "slide"
    }
   },
   "source": [
    "# 2. 문제\n",
    "\n",
    "* new의 문제\n",
    "    * new()는 인터페이스가 아니라 구체클래스를 생성.\n",
    "    * 구체 클래스가 많아지거나, 변경되면?\n",
    "* 인터페이스를 사용하면 새로운 클래스가 추가되거나, 변경에도 많은 수정이 필요없슴.\n",
    "* 인터페이스란 자바에서 'implements'하는 인터페이스만을 뜻하는 것이 아니라, 슈퍼타잎(클래스 또는 인터페이스)을 구현하는 것을 말함 (p.117)"
   ]
  },
  {
   "cell_type": "code",
   "execution_count": 1,
   "metadata": {
    "collapsed": false
   },
   "outputs": [
    {
     "name": "stdout",
     "output_type": "stream",
     "text": [
      "/Users/media/Code/git/sd/lib\n",
      "The environment variable GRAPHVIZ_DOT has been set to /opt/local/bin/dot\n",
      "Dot executable is /opt/local/bin/dot\n",
      "Dot version: dot - graphviz version 2.38.0 (20140413.2041)\n",
      "Installation seems OK. File generation OK\n"
     ]
    }
   ],
   "source": [
    "import os\n",
    "import glob\n",
    "\n",
    "mywd=%pwd\n",
    "myplantdir=os.path.join(mywd,'lib')\n",
    "mydotdir=!which dot\n",
    "mydot=mydotdir[0]\n",
    "\n",
    "%cd {myplantdir}\n",
    "glob.glob(r'./*.jar')\n",
    "os.environ['GRAPHVIZ_DOT']=mydot\n",
    "!java -jar {myplantdir}/plantuml.jar -testdot"
   ]
  },
  {
   "cell_type": "code",
   "execution_count": 2,
   "metadata": {
    "collapsed": false,
    "slideshow": {
     "slide_type": "slide"
    }
   },
   "outputs": [
    {
     "name": "stdout",
     "output_type": "stream",
     "text": [
      "Installed plantuml_magics.py. To use it, type:\n",
      "  %load_ext plantuml_magics\n"
     ]
    }
   ],
   "source": [
    "%install_ext https://raw.githubusercontent.com/sberke/ipython-plantuml/master/plantuml_magics.py"
   ]
  },
  {
   "cell_type": "code",
   "execution_count": 3,
   "metadata": {
    "collapsed": false,
    "slideshow": {
     "slide_type": "slide"
    }
   },
   "outputs": [],
   "source": [
    "%load_ext plantuml_magics"
   ]
  },
  {
   "cell_type": "markdown",
   "metadata": {
    "slideshow": {
     "slide_type": "slide"
    }
   },
   "source": [
    "# 3. before\n",
    "\n",
    "* new()를 호출. 구체클래스를 생성. DecoyDuck, MallardDuck, RubberDuck.\n",
    "* not closed for modification (생성할 객체가 늘어나면 클라이언트 수정량 많아짐)"
   ]
  },
  {
   "cell_type": "code",
   "execution_count": 7,
   "metadata": {
    "collapsed": false,
    "slideshow": {
     "slide_type": "slide"
    }
   },
   "outputs": [
    {
     "data": {
      "image/svg+xml": [
       "<svg height=\"315px\" style=\"width:265px;height:315px;\" version=\"1.1\" viewBox=\"0 0 265 315\" width=\"265px\" xmlns=\"http://www.w3.org/2000/svg\" xmlns:xlink=\"http://www.w3.org/1999/xlink\"><defs><filter height=\"300%\" id=\"f1\" width=\"300%\" x=\"-1\" y=\"-1\"><feGaussianBlur result=\"blurOut\" stdDeviation=\"2.0\"/><feColorMatrix in=\"blurOut\" result=\"blurOut2\" type=\"matrix\" values=\"0 0 0 0 0 0 0 0 0 0 0 0 0 0 0 0 0 0 .4 0\"/><feOffset dx=\"4.0\" dy=\"4.0\" in=\"blurOut2\" result=\"blurOut3\"/><feBlend in=\"SourceGraphic\" in2=\"blurOut3\" mode=\"normal\"/></filter></defs><g><rect fill=\"#FEFECE\" filter=\"url(#f1)\" height=\"48\" style=\"stroke: #A80036; stroke-width: 1.5;\" width=\"64\" x=\"26\" y=\"133\"/><ellipse cx=\"41\" cy=\"149\" fill=\"#ADD1B2\" rx=\"11\" ry=\"11\" style=\"stroke: #A80036; stroke-width: 1.0;\"/><path d=\"M43.9731,154.6431 Q43.3921,154.9419 42.7529,155.0913 Q42.1138,155.2407 41.4082,155.2407 Q38.9014,155.2407 37.5815,153.5889 Q36.2617,151.937 36.2617,148.8159 Q36.2617,145.6865 37.5815,144.0347 Q38.9014,142.3828 41.4082,142.3828 Q42.1138,142.3828 42.7612,142.5322 Q43.4087,142.6816 43.9731,142.9805 L43.9731,145.7031 Q43.3423,145.1221 42.7488,144.8523 Q42.1553,144.5825 41.5244,144.5825 Q40.1797,144.5825 39.4949,145.6492 Q38.8101,146.7158 38.8101,148.8159 Q38.8101,150.9077 39.4949,151.9744 Q40.1797,153.041 41.5244,153.041 Q42.1553,153.041 42.7488,152.7712 Q43.3423,152.5015 43.9731,151.9204 Z \"/><text fill=\"#000000\" font-family=\"sans-serif\" font-size=\"12\" lengthAdjust=\"spacingAndGlyphs\" textLength=\"32\" x=\"55\" y=\"153.5352\">Client</text><line style=\"stroke: #A80036; stroke-width: 1.5;\" x1=\"27\" x2=\"89\" y1=\"165\" y2=\"165\"/><line style=\"stroke: #A80036; stroke-width: 1.5;\" x1=\"27\" x2=\"89\" y1=\"173\" y2=\"173\"/><rect fill=\"#FEFECE\" filter=\"url(#f1)\" height=\"48\" style=\"stroke: #A80036; stroke-width: 1.5;\" width=\"104\" x=\"6\" y=\"8\"/><ellipse cx=\"21\" cy=\"24\" fill=\"#ADD1B2\" rx=\"11\" ry=\"11\" style=\"stroke: #A80036; stroke-width: 1.0;\"/><path d=\"M23.9731,29.6431 Q23.3921,29.9419 22.7529,30.0913 Q22.1138,30.2407 21.4082,30.2407 Q18.9014,30.2407 17.5815,28.5889 Q16.2617,26.937 16.2617,23.8159 Q16.2617,20.6865 17.5815,19.0347 Q18.9014,17.3828 21.4082,17.3828 Q22.1138,17.3828 22.7612,17.5322 Q23.4087,17.6816 23.9731,17.9805 L23.9731,20.7031 Q23.3423,20.1221 22.7488,19.8523 Q22.1553,19.5825 21.5244,19.5825 Q20.1797,19.5825 19.4949,20.6492 Q18.8101,21.7158 18.8101,23.8159 Q18.8101,25.9077 19.4949,26.9744 Q20.1797,28.041 21.5244,28.041 Q22.1553,28.041 22.7488,27.7712 Q23.3423,27.5015 23.9731,26.9204 Z \"/><text fill=\"#000000\" font-family=\"sans-serif\" font-size=\"12\" lengthAdjust=\"spacingAndGlyphs\" textLength=\"72\" x=\"35\" y=\"28.5352\">MallardDuck</text><line style=\"stroke: #A80036; stroke-width: 1.5;\" x1=\"7\" x2=\"109\" y1=\"40\" y2=\"40\"/><line style=\"stroke: #A80036; stroke-width: 1.5;\" x1=\"7\" x2=\"109\" y1=\"48\" y2=\"48\"/><rect fill=\"#FEFECE\" filter=\"url(#f1)\" height=\"48\" style=\"stroke: #A80036; stroke-width: 1.5;\" width=\"96\" x=\"160\" y=\"133\"/><ellipse cx=\"175\" cy=\"149\" fill=\"#ADD1B2\" rx=\"11\" ry=\"11\" style=\"stroke: #A80036; stroke-width: 1.0;\"/><path d=\"M177.9731,154.6431 Q177.3921,154.9419 176.7529,155.0913 Q176.1138,155.2407 175.4082,155.2407 Q172.9014,155.2407 171.5815,153.5889 Q170.2617,151.937 170.2617,148.8159 Q170.2617,145.6865 171.5815,144.0347 Q172.9014,142.3828 175.4082,142.3828 Q176.1138,142.3828 176.7612,142.5322 Q177.4087,142.6816 177.9731,142.9805 L177.9731,145.7031 Q177.3423,145.1221 176.7488,144.8523 Q176.1553,144.5825 175.5244,144.5825 Q174.1797,144.5825 173.4949,145.6492 Q172.8101,146.7158 172.8101,148.8159 Q172.8101,150.9077 173.4949,151.9744 Q174.1797,153.041 175.5244,153.041 Q176.1553,153.041 176.7488,152.7712 Q177.3423,152.5015 177.9731,151.9204 Z \"/><text fill=\"#000000\" font-family=\"sans-serif\" font-size=\"12\" lengthAdjust=\"spacingAndGlyphs\" textLength=\"64\" x=\"189\" y=\"153.5352\">DecoyDuck</text><line style=\"stroke: #A80036; stroke-width: 1.5;\" x1=\"161\" x2=\"255\" y1=\"165\" y2=\"165\"/><line style=\"stroke: #A80036; stroke-width: 1.5;\" x1=\"161\" x2=\"255\" y1=\"173\" y2=\"173\"/><rect fill=\"#FEFECE\" filter=\"url(#f1)\" height=\"48\" style=\"stroke: #A80036; stroke-width: 1.5;\" width=\"104\" x=\"6\" y=\"258\"/><ellipse cx=\"21\" cy=\"274\" fill=\"#ADD1B2\" rx=\"11\" ry=\"11\" style=\"stroke: #A80036; stroke-width: 1.0;\"/><path d=\"M23.9731,279.6431 Q23.3921,279.9419 22.7529,280.0913 Q22.1138,280.2407 21.4082,280.2407 Q18.9014,280.2407 17.5815,278.5889 Q16.2617,276.937 16.2617,273.8159 Q16.2617,270.6865 17.5815,269.0347 Q18.9014,267.3828 21.4082,267.3828 Q22.1138,267.3828 22.7612,267.5322 Q23.4087,267.6816 23.9731,267.9805 L23.9731,270.7031 Q23.3423,270.1221 22.7488,269.8523 Q22.1553,269.5825 21.5244,269.5825 Q20.1797,269.5825 19.4949,270.6492 Q18.8101,271.7158 18.8101,273.8159 Q18.8101,275.9077 19.4949,276.9744 Q20.1797,278.041 21.5244,278.041 Q22.1553,278.041 22.7488,277.7712 Q23.3423,277.5015 23.9731,276.9204 Z \"/><text fill=\"#000000\" font-family=\"sans-serif\" font-size=\"12\" lengthAdjust=\"spacingAndGlyphs\" textLength=\"72\" x=\"35\" y=\"278.5352\">RubberDuck</text><line style=\"stroke: #A80036; stroke-width: 1.5;\" x1=\"7\" x2=\"109\" y1=\"290\" y2=\"290\"/><line style=\"stroke: #A80036; stroke-width: 1.5;\" x1=\"7\" x2=\"109\" y1=\"298\" y2=\"298\"/><path d=\"M58,61.203 C58,82.947 58,112.642 58,132.968 \" fill=\"none\" style=\"stroke: #A80036; stroke-width: 1.0;\"/><polygon fill=\"#A80036\" points=\"58,56.135,54,65.135,58,61.135,62,65.135,58,56.135\" style=\"stroke: #A80036; stroke-width: 1.0;\"/><text fill=\"#000000\" font-family=\"sans-serif\" font-size=\"13\" lengthAdjust=\"spacingAndGlyphs\" textLength=\"33\" x=\"59\" y=\"99.5684\">new()</text><path d=\"M90.1788,157 C108.987,157 133.198,157 154.776,157 \" fill=\"none\" style=\"stroke: #A80036; stroke-width: 1.0;\"/><polygon fill=\"#A80036\" points=\"159.91,157,150.91,153,154.91,157,150.91,161,159.91,157\" style=\"stroke: #A80036; stroke-width: 1.0;\"/><text fill=\"#000000\" font-family=\"sans-serif\" font-size=\"13\" lengthAdjust=\"spacingAndGlyphs\" textLength=\"33\" x=\"108.5\" y=\"150.5684\">new()</text><path d=\"M58,181.135 C58,201.494 58,231.1907 58,252.908 \" fill=\"none\" style=\"stroke: #A80036; stroke-width: 1.0;\"/><polygon fill=\"#A80036\" points=\"58,257.9684,62,248.9684,58,252.9684,54,248.9684,58,257.9684\" style=\"stroke: #A80036; stroke-width: 1.0;\"/><text fill=\"#000000\" font-family=\"sans-serif\" font-size=\"13\" lengthAdjust=\"spacingAndGlyphs\" textLength=\"33\" x=\"59\" y=\"224.5684\">new()</text></g></svg>"
      ],
      "text/plain": [
       "<IPython.core.display.SVG object>"
      ]
     },
     "execution_count": 7,
     "metadata": {},
     "output_type": "execute_result"
    }
   ],
   "source": [
    "%%plantuml\n",
    "@startuml\n",
    "class Client\n",
    "class MallardDuck\n",
    "class DecoyDuck\n",
    "class RubberDuck\n",
    "Client -up-> MallardDuck:new()\n",
    "Client -> DecoyDuck:new()\n",
    "Client -down-> RubberDuck:new()\n",
    "@enduml"
   ]
  },
  {
   "cell_type": "markdown",
   "metadata": {},
   "source": [
    "# 4. 설계\n",
    "\n",
    "* 상속\n",
    "    * 컴파일시점에 supertype을 사용 -> 사용할 객체 타잎만 결정하고 (추상화)\n",
    "    * 런타임에 실제 사용할 객체(subtype)를 결정\n",
    "* DIP (Dependency Inversion Principle) (p.143)\n",
    "    * 구체클래스를 참조하지 않음 -> no variable should hold a ref to a concrete class\n",
    "    * 구체클래스를 상속받지말 것! -> No class should derive from a concrete class\n",
    "    * 부모클래스가 구현한 함수를 재정의하지 말 것! No method should override an implemented method of any of its base classes"
   ]
  },
  {
   "cell_type": "markdown",
   "metadata": {
    "slideshow": {
     "slide_type": "slide"
    }
   },
   "source": [
    "* Simple Factory\n",
    "    * if문으로 사용객체의 new()를 결정.\n",
    "* Factory Method\n",
    "    * Creator (Factory)\n",
    "        * 인터페이스/(추상)클래스로 구현.\n",
    "        * factory method 갖고, child클래스가 재정의함.\n",
    "        * factory method가 사용할 객체 반환\n",
    "    * Product - factory에 대응\n",
    "* Abstract Factory\n",
    "    * Creator - factory method\n",
    "    * Product - product families"
   ]
  },
  {
   "cell_type": "code",
   "execution_count": 8,
   "metadata": {
    "collapsed": false,
    "slideshow": {
     "slide_type": "slide"
    }
   },
   "outputs": [
    {
     "data": {
      "image/svg+xml": [
       "<svg height=\"186px\" style=\"width:303px;height:186px;\" version=\"1.1\" viewBox=\"0 0 303 186\" width=\"303px\" xmlns=\"http://www.w3.org/2000/svg\" xmlns:xlink=\"http://www.w3.org/1999/xlink\"><defs><filter height=\"300%\" id=\"f1\" width=\"300%\" x=\"-1\" y=\"-1\"><feGaussianBlur result=\"blurOut\" stdDeviation=\"2.0\"/><feColorMatrix in=\"blurOut\" result=\"blurOut2\" type=\"matrix\" values=\"0 0 0 0 0 0 0 0 0 0 0 0 0 0 0 0 0 0 .4 0\"/><feOffset dx=\"4.0\" dy=\"4.0\" in=\"blurOut2\" result=\"blurOut3\"/><feBlend in=\"SourceGraphic\" in2=\"blurOut3\" mode=\"normal\"/></filter></defs><g><rect fill=\"#FEFECE\" filter=\"url(#f1)\" height=\"60.9551\" style=\"stroke: #A80036; stroke-width: 1.5;\" width=\"98\" x=\"20\" y=\"8\"/><ellipse cx=\"45.35\" cy=\"24\" fill=\"#ADD1B2\" rx=\"11\" ry=\"11\" style=\"stroke: #A80036; stroke-width: 1.0;\"/><path d=\"M48.3231,29.6431 Q47.7421,29.9419 47.1029,30.0913 Q46.4638,30.2407 45.7582,30.2407 Q43.2514,30.2407 41.9315,28.5889 Q40.6117,26.937 40.6117,23.8159 Q40.6117,20.6865 41.9315,19.0347 Q43.2514,17.3828 45.7582,17.3828 Q46.4638,17.3828 47.1112,17.5322 Q47.7587,17.6816 48.3231,17.9805 L48.3231,20.7031 Q47.6923,20.1221 47.0988,19.8523 Q46.5053,19.5825 45.8744,19.5825 Q44.5297,19.5825 43.8449,20.6492 Q43.1601,21.7158 43.1601,23.8159 Q43.1601,25.9077 43.8449,26.9744 Q44.5297,28.041 45.8744,28.041 Q46.5053,28.041 47.0988,27.7712 Q47.6923,27.5015 48.3231,26.9204 Z \"/><text fill=\"#000000\" font-family=\"sans-serif\" font-size=\"12\" lengthAdjust=\"spacingAndGlyphs\" textLength=\"43\" x=\"61.65\" y=\"28.5352\">Creator</text><line style=\"stroke: #A80036; stroke-width: 1.5;\" x1=\"21\" x2=\"117\" y1=\"40\" y2=\"40\"/><line style=\"stroke: #A80036; stroke-width: 1.5;\" x1=\"21\" x2=\"117\" y1=\"48\" y2=\"48\"/><text fill=\"#000000\" font-family=\"sans-serif\" font-size=\"11\" lengthAdjust=\"spacingAndGlyphs\" textLength=\"86\" x=\"26\" y=\"62.6348\">factoryMethod()</text><rect fill=\"#FEFECE\" filter=\"url(#f1)\" height=\"48\" style=\"stroke: #A80036; stroke-width: 1.5;\" width=\"126\" x=\"6\" y=\"129\"/><ellipse cx=\"21\" cy=\"145\" fill=\"#ADD1B2\" rx=\"11\" ry=\"11\" style=\"stroke: #A80036; stroke-width: 1.0;\"/><path d=\"M23.9731,150.6431 Q23.3921,150.9419 22.7529,151.0913 Q22.1138,151.2407 21.4082,151.2407 Q18.9014,151.2407 17.5815,149.5889 Q16.2617,147.937 16.2617,144.8159 Q16.2617,141.6865 17.5815,140.0347 Q18.9014,138.3828 21.4082,138.3828 Q22.1138,138.3828 22.7612,138.5322 Q23.4087,138.6816 23.9731,138.9805 L23.9731,141.7031 Q23.3423,141.1221 22.7488,140.8523 Q22.1553,140.5825 21.5244,140.5825 Q20.1797,140.5825 19.4949,141.6492 Q18.8101,142.7158 18.8101,144.8159 Q18.8101,146.9077 19.4949,147.9744 Q20.1797,149.041 21.5244,149.041 Q22.1553,149.041 22.7488,148.7712 Q23.3423,148.5015 23.9731,147.9204 Z \"/><text fill=\"#000000\" font-family=\"sans-serif\" font-size=\"12\" lengthAdjust=\"spacingAndGlyphs\" textLength=\"94\" x=\"35\" y=\"149.5352\">ConcreteCreator</text><line style=\"stroke: #A80036; stroke-width: 1.5;\" x1=\"7\" x2=\"131\" y1=\"161\" y2=\"161\"/><line style=\"stroke: #A80036; stroke-width: 1.5;\" x1=\"7\" x2=\"131\" y1=\"169\" y2=\"169\"/><rect fill=\"#FEFECE\" filter=\"url(#f1)\" height=\"48\" style=\"stroke: #A80036; stroke-width: 1.5;\" width=\"76\" x=\"193\" y=\"14.5\"/><ellipse cx=\"208\" cy=\"30.5\" fill=\"#ADD1B2\" rx=\"11\" ry=\"11\" style=\"stroke: #A80036; stroke-width: 1.0;\"/><path d=\"M210.9731,36.1431 Q210.3921,36.4419 209.7529,36.5913 Q209.1138,36.7407 208.4082,36.7407 Q205.9014,36.7407 204.5815,35.0889 Q203.2617,33.437 203.2617,30.3159 Q203.2617,27.1865 204.5815,25.5347 Q205.9014,23.8828 208.4082,23.8828 Q209.1138,23.8828 209.7612,24.0322 Q210.4087,24.1816 210.9731,24.4805 L210.9731,27.2031 Q210.3423,26.6221 209.7488,26.3523 Q209.1553,26.0825 208.5244,26.0825 Q207.1797,26.0825 206.4949,27.1492 Q205.8101,28.2158 205.8101,30.3159 Q205.8101,32.4077 206.4949,33.4744 Q207.1797,34.541 208.5244,34.541 Q209.1553,34.541 209.7488,34.2712 Q210.3423,34.0015 210.9731,33.4204 Z \"/><text fill=\"#000000\" font-family=\"sans-serif\" font-size=\"12\" lengthAdjust=\"spacingAndGlyphs\" textLength=\"44\" x=\"222\" y=\"35.0352\">Product</text><line style=\"stroke: #A80036; stroke-width: 1.5;\" x1=\"194\" x2=\"268\" y1=\"46.5\" y2=\"46.5\"/><line style=\"stroke: #A80036; stroke-width: 1.5;\" x1=\"194\" x2=\"268\" y1=\"54.5\" y2=\"54.5\"/><rect fill=\"#FEFECE\" filter=\"url(#f1)\" height=\"48\" style=\"stroke: #A80036; stroke-width: 1.5;\" width=\"127\" x=\"167.5\" y=\"129\"/><ellipse cx=\"182.5\" cy=\"145\" fill=\"#ADD1B2\" rx=\"11\" ry=\"11\" style=\"stroke: #A80036; stroke-width: 1.0;\"/><path d=\"M185.4731,150.6431 Q184.8921,150.9419 184.2529,151.0913 Q183.6138,151.2407 182.9082,151.2407 Q180.4014,151.2407 179.0815,149.5889 Q177.7617,147.937 177.7617,144.8159 Q177.7617,141.6865 179.0815,140.0347 Q180.4014,138.3828 182.9082,138.3828 Q183.6138,138.3828 184.2612,138.5322 Q184.9087,138.6816 185.4731,138.9805 L185.4731,141.7031 Q184.8423,141.1221 184.2488,140.8523 Q183.6553,140.5825 183.0244,140.5825 Q181.6797,140.5825 180.9949,141.6492 Q180.3101,142.7158 180.3101,144.8159 Q180.3101,146.9077 180.9949,147.9744 Q181.6797,149.041 183.0244,149.041 Q183.6553,149.041 184.2488,148.7712 Q184.8423,148.5015 185.4731,147.9204 Z \"/><text fill=\"#000000\" font-family=\"sans-serif\" font-size=\"12\" lengthAdjust=\"spacingAndGlyphs\" textLength=\"95\" x=\"196.5\" y=\"149.5352\">ConcreteProduct</text><line style=\"stroke: #A80036; stroke-width: 1.5;\" x1=\"168.5\" x2=\"293.5\" y1=\"161\" y2=\"161\"/><line style=\"stroke: #A80036; stroke-width: 1.5;\" x1=\"168.5\" x2=\"293.5\" y1=\"169\" y2=\"169\"/><path d=\"M69,89.1067 C69,102.8764 69,117.1847 69,128.6686 \" fill=\"none\" style=\"stroke: #A80036; stroke-width: 1.0;\"/><polygon fill=\"none\" points=\"62.0001,89.0581,69,69.058,76.0001,89.058,62.0001,89.0581\" style=\"stroke: #A80036; stroke-width: 1.0;\"/><path d=\"M231,82.6449 C231,98.4205 231,115.6523 231,128.9933 \" fill=\"none\" style=\"stroke: #A80036; stroke-width: 1.0;\"/><polygon fill=\"none\" points=\"224,82.5376,231,62.538,238,82.5375,224,82.5376\" style=\"stroke: #A80036; stroke-width: 1.0;\"/><path d=\"M132.281,153 C142.242,153 152.203,153 162.164,153 \" fill=\"none\" style=\"stroke: #A80036; stroke-width: 1.0;\"/><polygon fill=\"#A80036\" points=\"167.373,153,158.373,149,162.373,153,158.373,157,167.373,153\" style=\"stroke: #A80036; stroke-width: 1.0;\"/></g></svg>"
      ],
      "text/plain": [
       "<IPython.core.display.SVG object>"
      ]
     },
     "execution_count": 8,
     "metadata": {},
     "output_type": "execute_result"
    }
   ],
   "source": [
    "%%plantuml\n",
    "@startuml\n",
    "Creator <|-- ConcreteCreator\n",
    "Product <|-- ConcreteProduct\n",
    "class Creator {\n",
    "  factoryMethod()\n",
    "}\n",
    "ConcreteCreator -right-> ConcreteProduct\n",
    "@enduml"
   ]
  },
  {
   "cell_type": "markdown",
   "metadata": {
    "slideshow": {
     "slide_type": "slide"
    }
   },
   "source": [
    "# 5. after\n",
    "\n",
    "* DIP\n",
    "* 3가지 factory"
   ]
  },
  {
   "cell_type": "markdown",
   "metadata": {
    "slideshow": {
     "slide_type": "slide"
    }
   },
   "source": [
    "## 5.1. simple factory\n",
    "\n",
    "* p.115 - if문으로 어느 객체를 생성할지 판단, 클라이언트에게 맞는 객체 반환\n",
    "* 클라이언트PizzaStore는 직접 new하지 않고 객체를 사용."
   ]
  },
  {
   "cell_type": "code",
   "execution_count": 4,
   "metadata": {
    "collapsed": false,
    "slideshow": {
     "slide_type": "slide"
    }
   },
   "outputs": [
    {
     "data": {
      "image/svg+xml": [
       "<svg height=\"210px\" style=\"width:501px;height:210px;\" version=\"1.1\" viewBox=\"0 0 501 210\" width=\"501px\" xmlns=\"http://www.w3.org/2000/svg\" xmlns:xlink=\"http://www.w3.org/1999/xlink\"><defs><filter height=\"300%\" id=\"f1\" width=\"300%\" x=\"-1\" y=\"-1\"><feGaussianBlur result=\"blurOut\" stdDeviation=\"2.0\"/><feColorMatrix in=\"blurOut\" result=\"blurOut2\" type=\"matrix\" values=\"0 0 0 0 0 0 0 0 0 0 0 0 0 0 0 0 0 0 .4 0\"/><feOffset dx=\"4.0\" dy=\"4.0\" in=\"blurOut2\" result=\"blurOut3\"/><feBlend in=\"SourceGraphic\" in2=\"blurOut3\" mode=\"normal\"/></filter></defs><g><rect fill=\"#FEFECE\" filter=\"url(#f1)\" height=\"60.9551\" style=\"stroke: #A80036; stroke-width: 1.5;\" width=\"182\" x=\"6\" y=\"74.5\"/><ellipse cx=\"39\" cy=\"90.5\" fill=\"#ADD1B2\" rx=\"11\" ry=\"11\" style=\"stroke: #A80036; stroke-width: 1.0;\"/><path d=\"M41.9731,96.1431 Q41.3921,96.4419 40.7529,96.5913 Q40.1138,96.7407 39.4082,96.7407 Q36.9014,96.7407 35.5815,95.0889 Q34.2617,93.437 34.2617,90.3159 Q34.2617,87.1865 35.5815,85.5347 Q36.9014,83.8828 39.4082,83.8828 Q40.1138,83.8828 40.7612,84.0322 Q41.4087,84.1816 41.9731,84.4805 L41.9731,87.2031 Q41.3423,86.6221 40.7488,86.3523 Q40.1553,86.0825 39.5244,86.0825 Q38.1797,86.0825 37.4949,87.1492 Q36.8101,88.2158 36.8101,90.3159 Q36.8101,92.4077 37.4949,93.4744 Q38.1797,94.541 39.5244,94.541 Q40.1553,94.541 40.7488,94.2712 Q41.3423,94.0015 41.9731,93.4204 Z \"/><text fill=\"#000000\" font-family=\"sans-serif\" font-size=\"12\" lengthAdjust=\"spacingAndGlyphs\" textLength=\"110\" x=\"57\" y=\"95.0352\">SimplePizzaFactory</text><line style=\"stroke: #A80036; stroke-width: 1.5;\" x1=\"7\" x2=\"187\" y1=\"106.5\" y2=\"106.5\"/><line style=\"stroke: #A80036; stroke-width: 1.5;\" x1=\"7\" x2=\"187\" y1=\"114.5\" y2=\"114.5\"/><ellipse cx=\"17\" cy=\"126.4775\" fill=\"#84BE84\" rx=\"3\" ry=\"3\" style=\"stroke: #038048; stroke-width: 1.0;\"/><text fill=\"#000000\" font-family=\"sans-serif\" font-size=\"11\" lengthAdjust=\"spacingAndGlyphs\" textLength=\"156\" x=\"26\" y=\"129.1348\">createPizza(type:String):Pizza</text><polygon fill=\"#FBFB77\" filter=\"url(#f1)\" points=\"223.5,8,223.5,201.7266,492.5,201.7266,492.5,18,482.5,8,223.5,8\" style=\"stroke: #A80036; stroke-width: 1.0;\"/><polygon fill=\"#FBFB77\" points=\"223.5,8,223.5,101,188.248,105,223.5,109,223.5,201.7266,492.5,201.7266,492.5,18,482.5,8,223.5,8\" style=\"stroke: #A80036; stroke-width: 1.0;\"/><line style=\"stroke: #A80036; stroke-width: 1.0;\" x1=\"482.5\" x2=\"482.5\" y1=\"8\" y2=\"18\"/><line style=\"stroke: #A80036; stroke-width: 1.0;\" x1=\"492.5\" x2=\"482.5\" y1=\"18\" y2=\"18\"/><text fill=\"#000000\" font-family=\"sans-serif\" font-size=\"13\" lengthAdjust=\"spacingAndGlyphs\" textLength=\"248\" x=\"229.5\" y=\"25.5684\">&quot;&quot;&quot;public Pizza createPizza(String type) {</text><text fill=\"#000000\" font-family=\"sans-serif\" font-size=\"13\" lengthAdjust=\"spacingAndGlyphs\" textLength=\"107\" x=\"245.5\" y=\"40.8789\">Pizza pizza=null;</text><text fill=\"#000000\" font-family=\"sans-serif\" font-size=\"13\" lengthAdjust=\"spacingAndGlyphs\" textLength=\"150\" x=\"245.5\" y=\"56.1895\">if(type.equals(&quot;cheese&quot;))</text><text fill=\"#000000\" font-family=\"sans-serif\" font-size=\"13\" lengthAdjust=\"spacingAndGlyphs\" textLength=\"161\" x=\"261.5\" y=\"71.5\">pizza=new CheesePizza();</text><text fill=\"#000000\" font-family=\"sans-serif\" font-size=\"13\" lengthAdjust=\"spacingAndGlyphs\" textLength=\"199\" x=\"245.5\" y=\"86.8105\">else if(type.equals(&quot;pepperoni&quot;))</text><text fill=\"#000000\" font-family=\"sans-serif\" font-size=\"13\" lengthAdjust=\"spacingAndGlyphs\" textLength=\"178\" x=\"261.5\" y=\"102.1211\">pizza=new PepperoniPizza();</text><text fill=\"#000000\" font-family=\"sans-serif\" font-size=\"13\" lengthAdjust=\"spacingAndGlyphs\" textLength=\"166\" x=\"245.5\" y=\"117.4316\">else if(type.equals(&quot;clam&quot;))</text><text fill=\"#000000\" font-family=\"sans-serif\" font-size=\"13\" lengthAdjust=\"spacingAndGlyphs\" textLength=\"148\" x=\"261.5\" y=\"132.7422\">pizza=new ClamPizza();</text><text fill=\"#000000\" font-family=\"sans-serif\" font-size=\"13\" lengthAdjust=\"spacingAndGlyphs\" textLength=\"177\" x=\"245.5\" y=\"148.0527\">else if(type.equals(&quot;veggie&quot;))</text><text fill=\"#000000\" font-family=\"sans-serif\" font-size=\"13\" lengthAdjust=\"spacingAndGlyphs\" textLength=\"158\" x=\"261.5\" y=\"163.3633\">pizza=new VeggiePizza();</text><text fill=\"#000000\" font-family=\"sans-serif\" font-size=\"13\" lengthAdjust=\"spacingAndGlyphs\" textLength=\"75\" x=\"245.5\" y=\"178.6738\">return pizza</text><text fill=\"#000000\" font-family=\"sans-serif\" font-size=\"13\" lengthAdjust=\"spacingAndGlyphs\" textLength=\"19\" x=\"229.5\" y=\"193.9844\">}&quot;&quot;&quot;</text></g></svg>"
      ],
      "text/plain": [
       "<IPython.core.display.SVG object>"
      ]
     },
     "execution_count": 4,
     "metadata": {},
     "output_type": "execute_result"
    }
   ],
   "source": [
    "%%plantuml\n",
    "@startuml\n",
    "\n",
    "class SimplePizzaFactory {\n",
    "    +createPizza(type:String):Pizza\n",
    "}\n",
    "\n",
    "note right\n",
    "\"\"\"public Pizza createPizza(String type) {\n",
    "    Pizza pizza=null;\n",
    "    if(type.equals(\"cheese\"))\n",
    "        pizza=new CheesePizza();\n",
    "    else if(type.equals(\"pepperoni\"))\n",
    "        pizza=new PepperoniPizza();\n",
    "    else if(type.equals(\"clam\"))\n",
    "        pizza=new ClamPizza();\n",
    "    else if(type.equals(\"veggie\"))\n",
    "        pizza=new VeggiePizza();\n",
    "    return pizza\n",
    "}\"\"\"\n",
    "end note\n",
    "@enduml"
   ]
  },
  {
   "cell_type": "code",
   "execution_count": 10,
   "metadata": {
    "collapsed": false,
    "slideshow": {
     "slide_type": "slide"
    }
   },
   "outputs": [
    {
     "data": {
      "image/svg+xml": [
       "<svg height=\"225px\" style=\"width:621px;height:225px;\" version=\"1.1\" viewBox=\"0 0 621 225\" width=\"621px\" xmlns=\"http://www.w3.org/2000/svg\" xmlns:xlink=\"http://www.w3.org/1999/xlink\"><defs><filter height=\"300%\" id=\"f1\" width=\"300%\" x=\"-1\" y=\"-1\"><feGaussianBlur result=\"blurOut\" stdDeviation=\"2.0\"/><feColorMatrix in=\"blurOut\" result=\"blurOut2\" type=\"matrix\" values=\"0 0 0 0 0 0 0 0 0 0 0 0 0 0 0 0 0 0 .4 0\"/><feOffset dx=\"4.0\" dy=\"4.0\" in=\"blurOut2\" result=\"blurOut3\"/><feBlend in=\"SourceGraphic\" in2=\"blurOut3\" mode=\"normal\"/></filter></defs><g><rect fill=\"#FEFECE\" filter=\"url(#f1)\" height=\"60.9551\" style=\"stroke: #A80036; stroke-width: 1.5;\" width=\"92\" x=\"6\" y=\"27.5\"/><ellipse cx=\"21\" cy=\"43.5\" fill=\"#ADD1B2\" rx=\"11\" ry=\"11\" style=\"stroke: #A80036; stroke-width: 1.0;\"/><path d=\"M23.9731,49.1431 Q23.3921,49.4419 22.7529,49.5913 Q22.1138,49.7407 21.4082,49.7407 Q18.9014,49.7407 17.5815,48.0889 Q16.2617,46.437 16.2617,43.3159 Q16.2617,40.1865 17.5815,38.5347 Q18.9014,36.8828 21.4082,36.8828 Q22.1138,36.8828 22.7612,37.0322 Q23.4087,37.1816 23.9731,37.4805 L23.9731,40.2031 Q23.3423,39.6221 22.7488,39.3523 Q22.1553,39.0825 21.5244,39.0825 Q20.1797,39.0825 19.4949,40.1492 Q18.8101,41.2158 18.8101,43.3159 Q18.8101,45.4077 19.4949,46.4744 Q20.1797,47.541 21.5244,47.541 Q22.1553,47.541 22.7488,47.2712 Q23.3423,47.0015 23.9731,46.4204 Z \"/><text fill=\"#000000\" font-family=\"sans-serif\" font-size=\"12\" lengthAdjust=\"spacingAndGlyphs\" textLength=\"60\" x=\"35\" y=\"48.0352\">PizzaStore</text><line style=\"stroke: #A80036; stroke-width: 1.5;\" x1=\"7\" x2=\"97\" y1=\"59.5\" y2=\"59.5\"/><line style=\"stroke: #A80036; stroke-width: 1.5;\" x1=\"7\" x2=\"97\" y1=\"67.5\" y2=\"67.5\"/><text fill=\"#000000\" font-family=\"sans-serif\" font-size=\"11\" lengthAdjust=\"spacingAndGlyphs\" textLength=\"65\" x=\"12\" y=\"82.1348\">orderPizza()</text><rect fill=\"#FEFECE\" filter=\"url(#f1)\" height=\"60.9551\" style=\"stroke: #A80036; stroke-width: 1.5;\" width=\"142\" x=\"133\" y=\"27.5\"/><ellipse cx=\"148\" cy=\"43.5\" fill=\"#ADD1B2\" rx=\"11\" ry=\"11\" style=\"stroke: #A80036; stroke-width: 1.0;\"/><path d=\"M150.9731,49.1431 Q150.3921,49.4419 149.7529,49.5913 Q149.1138,49.7407 148.4082,49.7407 Q145.9014,49.7407 144.5815,48.0889 Q143.2617,46.437 143.2617,43.3159 Q143.2617,40.1865 144.5815,38.5347 Q145.9014,36.8828 148.4082,36.8828 Q149.1138,36.8828 149.7612,37.0322 Q150.4087,37.1816 150.9731,37.4805 L150.9731,40.2031 Q150.3423,39.6221 149.7488,39.3523 Q149.1553,39.0825 148.5244,39.0825 Q147.1797,39.0825 146.4949,40.1492 Q145.8101,41.2158 145.8101,43.3159 Q145.8101,45.4077 146.4949,46.4744 Q147.1797,47.541 148.5244,47.541 Q149.1553,47.541 149.7488,47.2712 Q150.3423,47.0015 150.9731,46.4204 Z \"/><text fill=\"#000000\" font-family=\"sans-serif\" font-size=\"12\" lengthAdjust=\"spacingAndGlyphs\" textLength=\"110\" x=\"162\" y=\"48.0352\">SimplePizzaFactory</text><line style=\"stroke: #A80036; stroke-width: 1.5;\" x1=\"134\" x2=\"274\" y1=\"59.5\" y2=\"59.5\"/><line style=\"stroke: #A80036; stroke-width: 1.5;\" x1=\"134\" x2=\"274\" y1=\"67.5\" y2=\"67.5\"/><text fill=\"#000000\" font-family=\"sans-serif\" font-size=\"11\" lengthAdjust=\"spacingAndGlyphs\" textLength=\"68\" x=\"139\" y=\"82.1348\">createPizza()</text><rect fill=\"#FEFECE\" filter=\"url(#f1)\" height=\"99.8203\" style=\"stroke: #A80036; stroke-width: 1.5;\" width=\"66\" x=\"310\" y=\"8\"/><ellipse cx=\"326.35\" cy=\"24\" fill=\"#ADD1B2\" rx=\"11\" ry=\"11\" style=\"stroke: #A80036; stroke-width: 1.0;\"/><path d=\"M329.3231,29.6431 Q328.7421,29.9419 328.1029,30.0913 Q327.4638,30.2407 326.7582,30.2407 Q324.2514,30.2407 322.9315,28.5889 Q321.6117,26.937 321.6117,23.8159 Q321.6117,20.6865 322.9315,19.0347 Q324.2514,17.3828 326.7582,17.3828 Q327.4638,17.3828 328.1112,17.5322 Q328.7587,17.6816 329.3231,17.9805 L329.3231,20.7031 Q328.6923,20.1221 328.0988,19.8523 Q327.5053,19.5825 326.8744,19.5825 Q325.5297,19.5825 324.8449,20.6492 Q324.1601,21.7158 324.1601,23.8159 Q324.1601,25.9077 324.8449,26.9744 Q325.5297,28.041 326.8744,28.041 Q327.5053,28.041 328.0988,27.7712 Q328.6923,27.5015 329.3231,26.9204 Z \"/><text fill=\"#000000\" font-family=\"sans-serif\" font-size=\"12\" lengthAdjust=\"spacingAndGlyphs\" textLength=\"31\" x=\"340.65\" y=\"28.5352\">Pizza</text><line style=\"stroke: #A80036; stroke-width: 1.5;\" x1=\"311\" x2=\"375\" y1=\"40\" y2=\"40\"/><line style=\"stroke: #A80036; stroke-width: 1.5;\" x1=\"311\" x2=\"375\" y1=\"48\" y2=\"48\"/><text fill=\"#000000\" font-family=\"sans-serif\" font-size=\"11\" lengthAdjust=\"spacingAndGlyphs\" textLength=\"54\" x=\"316\" y=\"62.6348\">preparte()</text><text fill=\"#000000\" font-family=\"sans-serif\" font-size=\"11\" lengthAdjust=\"spacingAndGlyphs\" textLength=\"33\" x=\"316\" y=\"75.5898\">bake()</text><text fill=\"#000000\" font-family=\"sans-serif\" font-size=\"11\" lengthAdjust=\"spacingAndGlyphs\" textLength=\"25\" x=\"316\" y=\"88.5449\">cut()</text><text fill=\"#000000\" font-family=\"sans-serif\" font-size=\"11\" lengthAdjust=\"spacingAndGlyphs\" textLength=\"29\" x=\"316\" y=\"101.5\">box()</text><rect fill=\"#FEFECE\" filter=\"url(#f1)\" height=\"48\" style=\"stroke: #A80036; stroke-width: 1.5;\" width=\"105\" x=\"85.5\" y=\"168\"/><ellipse cx=\"100.5\" cy=\"184\" fill=\"#ADD1B2\" rx=\"11\" ry=\"11\" style=\"stroke: #A80036; stroke-width: 1.0;\"/><path d=\"M103.4731,189.6431 Q102.8921,189.9419 102.2529,190.0913 Q101.6138,190.2407 100.9082,190.2407 Q98.4014,190.2407 97.0815,188.5889 Q95.7617,186.937 95.7617,183.8159 Q95.7617,180.6865 97.0815,179.0347 Q98.4014,177.3828 100.9082,177.3828 Q101.6138,177.3828 102.2612,177.5322 Q102.9087,177.6816 103.4731,177.9805 L103.4731,180.7031 Q102.8423,180.1221 102.2488,179.8523 Q101.6553,179.5825 101.0244,179.5825 Q99.6797,179.5825 98.9949,180.6492 Q98.3101,181.7158 98.3101,183.8159 Q98.3101,185.9077 98.9949,186.9744 Q99.6797,188.041 101.0244,188.041 Q101.6553,188.041 102.2488,187.7712 Q102.8423,187.5015 103.4731,186.9204 Z \"/><text fill=\"#000000\" font-family=\"sans-serif\" font-size=\"12\" lengthAdjust=\"spacingAndGlyphs\" textLength=\"73\" x=\"114.5\" y=\"188.5352\">CheesePizza</text><line style=\"stroke: #A80036; stroke-width: 1.5;\" x1=\"86.5\" x2=\"189.5\" y1=\"200\" y2=\"200\"/><line style=\"stroke: #A80036; stroke-width: 1.5;\" x1=\"86.5\" x2=\"189.5\" y1=\"208\" y2=\"208\"/><rect fill=\"#FEFECE\" filter=\"url(#f1)\" height=\"48\" style=\"stroke: #A80036; stroke-width: 1.5;\" width=\"102\" x=\"226\" y=\"168\"/><ellipse cx=\"241\" cy=\"184\" fill=\"#ADD1B2\" rx=\"11\" ry=\"11\" style=\"stroke: #A80036; stroke-width: 1.0;\"/><path d=\"M243.9731,189.6431 Q243.3921,189.9419 242.7529,190.0913 Q242.1138,190.2407 241.4082,190.2407 Q238.9014,190.2407 237.5815,188.5889 Q236.2617,186.937 236.2617,183.8159 Q236.2617,180.6865 237.5815,179.0347 Q238.9014,177.3828 241.4082,177.3828 Q242.1138,177.3828 242.7612,177.5322 Q243.4087,177.6816 243.9731,177.9805 L243.9731,180.7031 Q243.3423,180.1221 242.7488,179.8523 Q242.1553,179.5825 241.5244,179.5825 Q240.1797,179.5825 239.4949,180.6492 Q238.8101,181.7158 238.8101,183.8159 Q238.8101,185.9077 239.4949,186.9744 Q240.1797,188.041 241.5244,188.041 Q242.1553,188.041 242.7488,187.7712 Q243.3423,187.5015 243.9731,186.9204 Z \"/><text fill=\"#000000\" font-family=\"sans-serif\" font-size=\"12\" lengthAdjust=\"spacingAndGlyphs\" textLength=\"70\" x=\"255\" y=\"188.5352\">VeggiePizza</text><line style=\"stroke: #A80036; stroke-width: 1.5;\" x1=\"227\" x2=\"327\" y1=\"200\" y2=\"200\"/><line style=\"stroke: #A80036; stroke-width: 1.5;\" x1=\"227\" x2=\"327\" y1=\"208\" y2=\"208\"/><rect fill=\"#FEFECE\" filter=\"url(#f1)\" height=\"48\" style=\"stroke: #A80036; stroke-width: 1.5;\" width=\"92\" x=\"363\" y=\"168\"/><ellipse cx=\"378\" cy=\"184\" fill=\"#ADD1B2\" rx=\"11\" ry=\"11\" style=\"stroke: #A80036; stroke-width: 1.0;\"/><path d=\"M380.9731,189.6431 Q380.3921,189.9419 379.7529,190.0913 Q379.1138,190.2407 378.4082,190.2407 Q375.9014,190.2407 374.5815,188.5889 Q373.2617,186.937 373.2617,183.8159 Q373.2617,180.6865 374.5815,179.0347 Q375.9014,177.3828 378.4082,177.3828 Q379.1138,177.3828 379.7612,177.5322 Q380.4087,177.6816 380.9731,177.9805 L380.9731,180.7031 Q380.3423,180.1221 379.7488,179.8523 Q379.1553,179.5825 378.5244,179.5825 Q377.1797,179.5825 376.4949,180.6492 Q375.8101,181.7158 375.8101,183.8159 Q375.8101,185.9077 376.4949,186.9744 Q377.1797,188.041 378.5244,188.041 Q379.1553,188.041 379.7488,187.7712 Q380.3423,187.5015 380.9731,186.9204 Z \"/><text fill=\"#000000\" font-family=\"sans-serif\" font-size=\"12\" lengthAdjust=\"spacingAndGlyphs\" textLength=\"60\" x=\"392\" y=\"188.5352\">ClamPizza</text><line style=\"stroke: #A80036; stroke-width: 1.5;\" x1=\"364\" x2=\"454\" y1=\"200\" y2=\"200\"/><line style=\"stroke: #A80036; stroke-width: 1.5;\" x1=\"364\" x2=\"454\" y1=\"208\" y2=\"208\"/><rect fill=\"#FEFECE\" filter=\"url(#f1)\" height=\"48\" style=\"stroke: #A80036; stroke-width: 1.5;\" width=\"122\" x=\"490\" y=\"168\"/><ellipse cx=\"505\" cy=\"184\" fill=\"#ADD1B2\" rx=\"11\" ry=\"11\" style=\"stroke: #A80036; stroke-width: 1.0;\"/><path d=\"M507.9731,189.6431 Q507.3921,189.9419 506.7529,190.0913 Q506.1138,190.2407 505.4082,190.2407 Q502.9014,190.2407 501.5815,188.5889 Q500.2617,186.937 500.2617,183.8159 Q500.2617,180.6865 501.5815,179.0347 Q502.9014,177.3828 505.4082,177.3828 Q506.1138,177.3828 506.7612,177.5322 Q507.4087,177.6816 507.9731,177.9805 L507.9731,180.7031 Q507.3423,180.1221 506.7488,179.8523 Q506.1553,179.5825 505.5244,179.5825 Q504.1797,179.5825 503.4949,180.6492 Q502.8101,181.7158 502.8101,183.8159 Q502.8101,185.9077 503.4949,186.9744 Q504.1797,188.041 505.5244,188.041 Q506.1553,188.041 506.7488,187.7712 Q507.3423,187.5015 507.9731,186.9204 Z \"/><text fill=\"#000000\" font-family=\"sans-serif\" font-size=\"12\" lengthAdjust=\"spacingAndGlyphs\" textLength=\"90\" x=\"519\" y=\"188.5352\">PepperoniPizza</text><line style=\"stroke: #A80036; stroke-width: 1.5;\" x1=\"491\" x2=\"611\" y1=\"200\" y2=\"200\"/><line style=\"stroke: #A80036; stroke-width: 1.5;\" x1=\"491\" x2=\"611\" y1=\"208\" y2=\"208\"/><path d=\"M98.0156,58 C107.887,58 117.758,58 127.63,58 \" fill=\"none\" style=\"stroke: #A80036; stroke-width: 1.0;\"/><polygon fill=\"#A80036\" points=\"132.792,58,123.792,54,127.792,58,123.792,62,132.792,58\" style=\"stroke: #A80036; stroke-width: 1.0;\"/><path d=\"M275.129,58 C284.987,58 294.846,58 304.704,58 \" fill=\"none\" style=\"stroke: #A80036; stroke-width: 1.0;\"/><polygon fill=\"#A80036\" points=\"309.86,58,300.86,54,304.86,58,300.86,62,309.86,58\" style=\"stroke: #A80036; stroke-width: 1.0;\"/><path d=\"M294.331,107.011 C293.888,107.344 293.444,107.674 293,108 C260.771,131.6703 220.938,152.8496 189.724,167.8891 \" fill=\"none\" style=\"stroke: #A80036; stroke-width: 1.0;\"/><polygon fill=\"none\" points=\"289.907,101.585,309.733,94.106,298.899,112.316,289.907,101.585\" style=\"stroke: #A80036; stroke-width: 1.0;\"/><path d=\"M309.403,126.1932 C301.94,141.119 294.518,155.9635 288.664,167.6717 \" fill=\"none\" style=\"stroke: #A80036; stroke-width: 1.0;\"/><polygon fill=\"none\" points=\"303.219,122.91,318.424,108.152,315.741,129.171,303.219,122.91\" style=\"stroke: #A80036; stroke-width: 1.0;\"/><path d=\"M376.597,126.1932 C384.06,141.119 391.482,155.9635 397.336,167.6717 \" fill=\"none\" style=\"stroke: #A80036; stroke-width: 1.0;\"/><polygon fill=\"none\" points=\"370.259,129.171,367.576,108.152,382.781,122.91,370.259,129.171\" style=\"stroke: #A80036; stroke-width: 1.0;\"/><path d=\"M393.372,90.967 C430.776,114.704 480.921,146.5267 514.514,167.8457 \" fill=\"none\" style=\"stroke: #A80036; stroke-width: 1.0;\"/><polygon fill=\"none\" points=\"389.555,96.835,376.419,80.208,397.056,85.014,389.555,96.835\" style=\"stroke: #A80036; stroke-width: 1.0;\"/></g></svg>"
      ],
      "text/plain": [
       "<IPython.core.display.SVG object>"
      ]
     },
     "execution_count": 10,
     "metadata": {},
     "output_type": "execute_result"
    }
   ],
   "source": [
    "%%plantuml\n",
    "@startuml\n",
    "class PizzaStore {\n",
    "  +orderPizza(String):Pizza\n",
    "}\n",
    "class SimplePizzaFactory {\n",
    "  +createPizza(String):Pizza\n",
    "}\n",
    "class Pizza {\n",
    "  preparte()\n",
    "  bake()\n",
    "  cut()\n",
    "  box()\n",
    "}\n",
    "PizzaStore -> SimplePizzaFactory\n",
    "SimplePizzaFactory -> Pizza\n",
    "Pizza <|-- CheesePizza\n",
    "Pizza <|-- VeggiePizza\n",
    "Pizza <|-- ClamPizza\n",
    "Pizza <|-- PepperoniPizza\n",
    "\n",
    "@enduml"
   ]
  },
  {
   "cell_type": "code",
   "execution_count": 11,
   "metadata": {
    "collapsed": false,
    "slideshow": {
     "slide_type": "slide"
    }
   },
   "outputs": [
    {
     "data": {
      "image/svg+xml": [
       "<svg height=\"331px\" style=\"width:463px;height:331px;\" version=\"1.1\" viewBox=\"0 0 463 331\" width=\"463px\" xmlns=\"http://www.w3.org/2000/svg\" xmlns:xlink=\"http://www.w3.org/1999/xlink\"><defs><filter height=\"300%\" id=\"f1\" width=\"300%\" x=\"-1\" y=\"-1\"><feGaussianBlur result=\"blurOut\" stdDeviation=\"2.0\"/><feColorMatrix in=\"blurOut\" result=\"blurOut2\" type=\"matrix\" values=\"0 0 0 0 0 0 0 0 0 0 0 0 0 0 0 0 0 0 .4 0\"/><feOffset dx=\"4.0\" dy=\"4.0\" in=\"blurOut2\" result=\"blurOut3\"/><feBlend in=\"SourceGraphic\" in2=\"blurOut3\" mode=\"normal\"/></filter></defs><g><line style=\"stroke: #A80036; stroke-width: 1.0; stroke-dasharray: 5.0,5.0;\" x1=\"37\" x2=\"37\" y1=\"38.4883\" y2=\"292.9727\"/><line style=\"stroke: #A80036; stroke-width: 1.0; stroke-dasharray: 5.0,5.0;\" x1=\"151\" x2=\"151\" y1=\"38.4883\" y2=\"292.9727\"/><line style=\"stroke: #A80036; stroke-width: 1.0; stroke-dasharray: 5.0,5.0;\" x1=\"349\" x2=\"349\" y1=\"38.4883\" y2=\"292.9727\"/><line style=\"stroke: #A80036; stroke-width: 1.0; stroke-dasharray: 5.0,5.0;\" x1=\"431\" x2=\"431\" y1=\"38.4883\" y2=\"292.9727\"/><rect fill=\"#FEFECE\" filter=\"url(#f1)\" height=\"30.4883\" style=\"stroke: #A80036; stroke-width: 1.5;\" width=\"54\" x=\"8\" y=\"3\"/><text fill=\"#000000\" font-family=\"sans-serif\" font-size=\"14\" lengthAdjust=\"spacingAndGlyphs\" textLength=\"40\" x=\"15\" y=\"23.5352\">Client</text><rect fill=\"#FEFECE\" filter=\"url(#f1)\" height=\"30.4883\" style=\"stroke: #A80036; stroke-width: 1.5;\" width=\"54\" x=\"8\" y=\"291.9727\"/><text fill=\"#000000\" font-family=\"sans-serif\" font-size=\"14\" lengthAdjust=\"spacingAndGlyphs\" textLength=\"40\" x=\"15\" y=\"312.5078\">Client</text><rect fill=\"#FEFECE\" filter=\"url(#f1)\" height=\"30.4883\" style=\"stroke: #A80036; stroke-width: 1.5;\" width=\"146\" x=\"76\" y=\"3\"/><text fill=\"#000000\" font-family=\"sans-serif\" font-size=\"14\" lengthAdjust=\"spacingAndGlyphs\" textLength=\"132\" x=\"83\" y=\"23.5352\">SimplePizzaFactory</text><rect fill=\"#FEFECE\" filter=\"url(#f1)\" height=\"30.4883\" style=\"stroke: #A80036; stroke-width: 1.5;\" width=\"146\" x=\"76\" y=\"291.9727\"/><text fill=\"#000000\" font-family=\"sans-serif\" font-size=\"14\" lengthAdjust=\"spacingAndGlyphs\" textLength=\"132\" x=\"83\" y=\"312.5078\">SimplePizzaFactory</text><rect fill=\"#FEFECE\" filter=\"url(#f1)\" height=\"30.4883\" style=\"stroke: #A80036; stroke-width: 1.5;\" width=\"86\" x=\"304\" y=\"3\"/><text fill=\"#000000\" font-family=\"sans-serif\" font-size=\"14\" lengthAdjust=\"spacingAndGlyphs\" textLength=\"72\" x=\"311\" y=\"23.5352\">PizzaStore</text><rect fill=\"#FEFECE\" filter=\"url(#f1)\" height=\"30.4883\" style=\"stroke: #A80036; stroke-width: 1.5;\" width=\"86\" x=\"304\" y=\"291.9727\"/><text fill=\"#000000\" font-family=\"sans-serif\" font-size=\"14\" lengthAdjust=\"spacingAndGlyphs\" textLength=\"72\" x=\"311\" y=\"312.5078\">PizzaStore</text><rect fill=\"#FEFECE\" filter=\"url(#f1)\" height=\"30.4883\" style=\"stroke: #A80036; stroke-width: 1.5;\" width=\"50\" x=\"404\" y=\"3\"/><text fill=\"#000000\" font-family=\"sans-serif\" font-size=\"14\" lengthAdjust=\"spacingAndGlyphs\" textLength=\"36\" x=\"411\" y=\"23.5352\">Pizza</text><rect fill=\"#FEFECE\" filter=\"url(#f1)\" height=\"30.4883\" style=\"stroke: #A80036; stroke-width: 1.5;\" width=\"50\" x=\"404\" y=\"291.9727\"/><text fill=\"#000000\" font-family=\"sans-serif\" font-size=\"14\" lengthAdjust=\"spacingAndGlyphs\" textLength=\"36\" x=\"411\" y=\"312.5078\">Pizza</text><polygon fill=\"#A80036\" points=\"139,65.4883,149,69.4883,139,73.4883,143,69.4883\" style=\"stroke: #A80036; stroke-width: 1.0;\"/><line style=\"stroke: #A80036; stroke-width: 1.0;\" x1=\"37\" x2=\"145\" y1=\"69.4883\" y2=\"69.4883\"/><text fill=\"#000000\" font-family=\"sans-serif\" font-size=\"13\" lengthAdjust=\"spacingAndGlyphs\" textLength=\"87\" x=\"44\" y=\"65.0566\">factory=new()</text><polygon fill=\"#A80036\" points=\"337,94.7988,347,98.7988,337,102.7988,341,98.7988\" style=\"stroke: #A80036; stroke-width: 1.0;\"/><line style=\"stroke: #A80036; stroke-width: 1.0;\" x1=\"37\" x2=\"343\" y1=\"98.7988\" y2=\"98.7988\"/><text fill=\"#000000\" font-family=\"sans-serif\" font-size=\"13\" lengthAdjust=\"spacingAndGlyphs\" textLength=\"77\" x=\"44\" y=\"94.3672\">new(factory)</text><polygon fill=\"#A80036\" points=\"337,124.1094,347,128.1094,337,132.1094,341,128.1094\" style=\"stroke: #A80036; stroke-width: 1.0;\"/><line style=\"stroke: #A80036; stroke-width: 1.0;\" x1=\"37\" x2=\"343\" y1=\"128.1094\" y2=\"128.1094\"/><text fill=\"#000000\" font-family=\"sans-serif\" font-size=\"13\" lengthAdjust=\"spacingAndGlyphs\" textLength=\"126\" x=\"44\" y=\"123.6777\">orderPizza(&quot;cheese&quot;)</text><polygon fill=\"#A80036\" points=\"162,153.4199,152,157.4199,162,161.4199,158,157.4199\" style=\"stroke: #A80036; stroke-width: 1.0;\"/><line style=\"stroke: #A80036; stroke-width: 1.0;\" x1=\"156\" x2=\"348\" y1=\"157.4199\" y2=\"157.4199\"/><text fill=\"#000000\" font-family=\"sans-serif\" font-size=\"13\" lengthAdjust=\"spacingAndGlyphs\" textLength=\"174\" x=\"168\" y=\"152.9883\">pizza=createPizza(&quot;cheese&quot;)</text><polygon fill=\"#A80036\" points=\"419,182.7305,429,186.7305,419,190.7305,423,186.7305\" style=\"stroke: #A80036; stroke-width: 1.0;\"/><line style=\"stroke: #A80036; stroke-width: 1.0;\" x1=\"349\" x2=\"425\" y1=\"186.7305\" y2=\"186.7305\"/><text fill=\"#000000\" font-family=\"sans-serif\" font-size=\"13\" lengthAdjust=\"spacingAndGlyphs\" textLength=\"55\" x=\"356\" y=\"182.2988\">prepare()</text><polygon fill=\"#A80036\" points=\"419,212.041,429,216.041,419,220.041,423,216.041\" style=\"stroke: #A80036; stroke-width: 1.0;\"/><line style=\"stroke: #A80036; stroke-width: 1.0;\" x1=\"349\" x2=\"425\" y1=\"216.041\" y2=\"216.041\"/><text fill=\"#000000\" font-family=\"sans-serif\" font-size=\"13\" lengthAdjust=\"spacingAndGlyphs\" textLength=\"38\" x=\"356\" y=\"211.6094\">bake()</text><polygon fill=\"#A80036\" points=\"419,241.3516,429,245.3516,419,249.3516,423,245.3516\" style=\"stroke: #A80036; stroke-width: 1.0;\"/><line style=\"stroke: #A80036; stroke-width: 1.0;\" x1=\"349\" x2=\"425\" y1=\"245.3516\" y2=\"245.3516\"/><text fill=\"#000000\" font-family=\"sans-serif\" font-size=\"13\" lengthAdjust=\"spacingAndGlyphs\" textLength=\"28\" x=\"356\" y=\"240.9199\">cut()</text><polygon fill=\"#A80036\" points=\"419,270.6621,429,274.6621,419,278.6621,423,274.6621\" style=\"stroke: #A80036; stroke-width: 1.0;\"/><line style=\"stroke: #A80036; stroke-width: 1.0;\" x1=\"349\" x2=\"425\" y1=\"274.6621\" y2=\"274.6621\"/><text fill=\"#000000\" font-family=\"sans-serif\" font-size=\"13\" lengthAdjust=\"spacingAndGlyphs\" textLength=\"32\" x=\"356\" y=\"270.2305\">box()</text></g></svg>"
      ],
      "text/plain": [
       "<IPython.core.display.SVG object>"
      ]
     },
     "execution_count": 11,
     "metadata": {},
     "output_type": "execute_result"
    }
   ],
   "source": [
    "%%plantuml\n",
    "@startuml\n",
    "Client -> SimplePizzaFactory:factory=new()\n",
    "Client -> PizzaStore:new(factory)\n",
    "Client -> PizzaStore:orderPizza(\"cheese\")\n",
    "PizzaStore -> SimplePizzaFactory:pizza=createPizza(\"cheese\")\n",
    "PizzaStore -> Pizza:prepare()\n",
    "PizzaStore -> Pizza:bake()\n",
    "PizzaStore -> Pizza:cut()\n",
    "PizzaStore -> Pizza:box()\n",
    "@enduml"
   ]
  },
  {
   "cell_type": "markdown",
   "metadata": {
    "slideshow": {
     "slide_type": "slide"
    }
   },
   "source": [
    "## 5.2 factory method\n",
    "\n",
    "* PizzaStore에 abstract Pizza createPizza(String type) 추상함수 넣음. 이를 factory method라고 함.\n",
    "* PizzaStore에 상속구조로 실제 사용할 클래스를 늦춰 런타임에 결정.\n",
    "    * orderPizza()를 호출할 때, createPizza()가 실행되면서 그 시점에 실제 사용할 클래스를 생성."
   ]
  },
  {
   "cell_type": "code",
   "execution_count": 5,
   "metadata": {
    "collapsed": false
   },
   "outputs": [
    {
     "data": {
      "image/svg+xml": [
       "<svg height=\"471px\" style=\"width:1054px;height:471px;\" version=\"1.1\" viewBox=\"0 0 1054 471\" width=\"1054px\" xmlns=\"http://www.w3.org/2000/svg\" xmlns:xlink=\"http://www.w3.org/1999/xlink\"><defs><filter height=\"300%\" id=\"f1\" width=\"300%\" x=\"-1\" y=\"-1\"><feGaussianBlur result=\"blurOut\" stdDeviation=\"2.0\"/><feColorMatrix in=\"blurOut\" result=\"blurOut2\" type=\"matrix\" values=\"0 0 0 0 0 0 0 0 0 0 0 0 0 0 0 0 0 0 .4 0\"/><feOffset dx=\"4.0\" dy=\"4.0\" in=\"blurOut2\" result=\"blurOut3\"/><feBlend in=\"SourceGraphic\" in2=\"blurOut3\" mode=\"normal\"/></filter></defs><g><rect fill=\"#FEFECE\" filter=\"url(#f1)\" height=\"73.9102\" style=\"stroke: #A80036; stroke-width: 1.5;\" width=\"156\" x=\"305\" y=\"45\"/><ellipse cx=\"348.8\" cy=\"61\" fill=\"#A9DCDF\" rx=\"11\" ry=\"11\" style=\"stroke: #A80036; stroke-width: 1.0;\"/><path d=\"M348.9133,56.3481 L347.7595,61.4199 L350.0754,61.4199 Z M347.4191,54.1069 L350.4157,54.1069 L353.7609,66.5 L351.3122,66.5 L350.5485,63.437 L347.2697,63.437 L346.5227,66.5 L344.0739,66.5 Z \"/><text fill=\"#000000\" font-family=\"sans-serif\" font-size=\"12\" font-style=\"italic\" lengthAdjust=\"spacingAndGlyphs\" textLength=\"60\" x=\"369.2\" y=\"65.5352\">PizzaStore</text><line style=\"stroke: #A80036; stroke-width: 1.5;\" x1=\"306\" x2=\"460\" y1=\"77\" y2=\"77\"/><line style=\"stroke: #A80036; stroke-width: 1.5;\" x1=\"306\" x2=\"460\" y1=\"85\" y2=\"85\"/><ellipse cx=\"316\" cy=\"96.9775\" fill=\"#84BE84\" rx=\"3\" ry=\"3\" style=\"stroke: #038048; stroke-width: 1.0;\"/><text fill=\"#000000\" font-family=\"sans-serif\" font-size=\"11\" lengthAdjust=\"spacingAndGlyphs\" textLength=\"127\" x=\"325\" y=\"99.6348\">orderPizza(String):Pizza</text><rect fill=\"#F24D5C\" height=\"6\" style=\"stroke: #C82930; stroke-width: 1.0;\" width=\"6\" x=\"313\" y=\"106.9326\"/><text fill=\"#000000\" font-family=\"sans-serif\" font-size=\"11\" font-style=\"italic\" lengthAdjust=\"spacingAndGlyphs\" textLength=\"130\" x=\"325\" y=\"112.5898\">createPizza(String):Pizza</text><rect fill=\"#FEFECE\" filter=\"url(#f1)\" height=\"48\" style=\"stroke: #A80036; stroke-width: 1.5;\" width=\"108\" x=\"85\" y=\"258\"/><ellipse cx=\"100\" cy=\"274\" fill=\"#ADD1B2\" rx=\"11\" ry=\"11\" style=\"stroke: #A80036; stroke-width: 1.0;\"/><path d=\"M102.9731,279.6431 Q102.3921,279.9419 101.7529,280.0913 Q101.1138,280.2407 100.4082,280.2407 Q97.9014,280.2407 96.5815,278.5889 Q95.2617,276.937 95.2617,273.8159 Q95.2617,270.6865 96.5815,269.0347 Q97.9014,267.3828 100.4082,267.3828 Q101.1138,267.3828 101.7612,267.5322 Q102.4087,267.6816 102.9731,267.9805 L102.9731,270.7031 Q102.3423,270.1221 101.7488,269.8523 Q101.1553,269.5825 100.5244,269.5825 Q99.1797,269.5825 98.4949,270.6492 Q97.8101,271.7158 97.8101,273.8159 Q97.8101,275.9077 98.4949,276.9744 Q99.1797,278.041 100.5244,278.041 Q101.1553,278.041 101.7488,277.7712 Q102.3423,277.5015 102.9731,276.9204 Z \"/><text fill=\"#000000\" font-family=\"sans-serif\" font-size=\"12\" lengthAdjust=\"spacingAndGlyphs\" textLength=\"76\" x=\"114\" y=\"278.5352\">NYPizzaStore</text><line style=\"stroke: #A80036; stroke-width: 1.5;\" x1=\"86\" x2=\"192\" y1=\"290\" y2=\"290\"/><line style=\"stroke: #A80036; stroke-width: 1.5;\" x1=\"86\" x2=\"192\" y1=\"298\" y2=\"298\"/><rect fill=\"#FEFECE\" filter=\"url(#f1)\" height=\"48\" style=\"stroke: #A80036; stroke-width: 1.5;\" width=\"137\" x=\"558.5\" y=\"258\"/><ellipse cx=\"573.5\" cy=\"274\" fill=\"#ADD1B2\" rx=\"11\" ry=\"11\" style=\"stroke: #A80036; stroke-width: 1.0;\"/><path d=\"M576.4731,279.6431 Q575.8921,279.9419 575.2529,280.0913 Q574.6138,280.2407 573.9082,280.2407 Q571.4014,280.2407 570.0815,278.5889 Q568.7617,276.937 568.7617,273.8159 Q568.7617,270.6865 570.0815,269.0347 Q571.4014,267.3828 573.9082,267.3828 Q574.6138,267.3828 575.2612,267.5322 Q575.9087,267.6816 576.4731,267.9805 L576.4731,270.7031 Q575.8423,270.1221 575.2488,269.8523 Q574.6553,269.5825 574.0244,269.5825 Q572.6797,269.5825 571.9949,270.6492 Q571.3101,271.7158 571.3101,273.8159 Q571.3101,275.9077 571.9949,276.9744 Q572.6797,278.041 574.0244,278.041 Q574.6553,278.041 575.2488,277.7712 Q575.8423,277.5015 576.4731,276.9204 Z \"/><text fill=\"#000000\" font-family=\"sans-serif\" font-size=\"12\" lengthAdjust=\"spacingAndGlyphs\" textLength=\"105\" x=\"587.5\" y=\"278.5352\">ChicagoPizzaStore</text><line style=\"stroke: #A80036; stroke-width: 1.5;\" x1=\"559.5\" x2=\"694.5\" y1=\"290\" y2=\"290\"/><line style=\"stroke: #A80036; stroke-width: 1.5;\" x1=\"559.5\" x2=\"694.5\" y1=\"298\" y2=\"298\"/><rect fill=\"#FEFECE\" filter=\"url(#f1)\" height=\"48\" style=\"stroke: #A80036; stroke-width: 1.5;\" width=\"63\" x=\"822.5\" y=\"58\"/><ellipse cx=\"837.5\" cy=\"74\" fill=\"#ADD1B2\" rx=\"11\" ry=\"11\" style=\"stroke: #A80036; stroke-width: 1.0;\"/><path d=\"M840.4731,79.6431 Q839.8921,79.9419 839.2529,80.0913 Q838.6138,80.2407 837.9082,80.2407 Q835.4014,80.2407 834.0815,78.5889 Q832.7617,76.937 832.7617,73.8159 Q832.7617,70.6865 834.0815,69.0347 Q835.4014,67.3828 837.9082,67.3828 Q838.6138,67.3828 839.2612,67.5322 Q839.9087,67.6816 840.4731,67.9805 L840.4731,70.7031 Q839.8423,70.1221 839.2488,69.8523 Q838.6553,69.5825 838.0244,69.5825 Q836.6797,69.5825 835.9949,70.6492 Q835.3101,71.7158 835.3101,73.8159 Q835.3101,75.9077 835.9949,76.9744 Q836.6797,78.041 838.0244,78.041 Q838.6553,78.041 839.2488,77.7712 Q839.8423,77.5015 840.4731,76.9204 Z \"/><text fill=\"#000000\" font-family=\"sans-serif\" font-size=\"12\" lengthAdjust=\"spacingAndGlyphs\" textLength=\"31\" x=\"851.5\" y=\"78.5352\">Pizza</text><line style=\"stroke: #A80036; stroke-width: 1.5;\" x1=\"823.5\" x2=\"884.5\" y1=\"90\" y2=\"90\"/><line style=\"stroke: #A80036; stroke-width: 1.5;\" x1=\"823.5\" x2=\"884.5\" y1=\"98\" y2=\"98\"/><rect fill=\"#FEFECE\" filter=\"url(#f1)\" height=\"54.2656\" style=\"stroke: #A80036; stroke-width: 1.5;\" width=\"103\" x=\"730.5\" y=\"255\"/><ellipse cx=\"745.5\" cy=\"274.1328\" fill=\"#ADD1B2\" rx=\"11\" ry=\"11\" style=\"stroke: #A80036; stroke-width: 1.0;\"/><path d=\"M748.4731,279.7759 Q747.8921,280.0747 747.2529,280.2241 Q746.6138,280.3735 745.9082,280.3735 Q743.4014,280.3735 742.0815,278.7217 Q740.7617,277.0698 740.7617,273.9487 Q740.7617,270.8193 742.0815,269.1675 Q743.4014,267.5156 745.9082,267.5156 Q746.6138,267.5156 747.2612,267.665 Q747.9087,267.8145 748.4731,268.1133 L748.4731,270.8359 Q747.8423,270.2549 747.2488,269.9851 Q746.6553,269.7153 746.0244,269.7153 Q744.6797,269.7153 743.9949,270.782 Q743.3101,271.8486 743.3101,273.9487 Q743.3101,276.0405 743.9949,277.1072 Q744.6797,278.1738 746.0244,278.1738 Q746.6553,278.1738 747.2488,277.9041 Q747.8423,277.6343 748.4731,277.0532 Z \"/><text fill=\"#000000\" font-family=\"sans-serif\" font-size=\"12\" lengthAdjust=\"spacingAndGlyphs\" textLength=\"71\" x=\"759.5\" y=\"271.6016\">ChicagoStyle</text><text fill=\"#000000\" font-family=\"sans-serif\" font-size=\"12\" lengthAdjust=\"spacingAndGlyphs\" textLength=\"31\" x=\"779.5\" y=\"285.7344\">Pizza</text><line style=\"stroke: #A80036; stroke-width: 1.5;\" x1=\"731.5\" x2=\"832.5\" y1=\"293.2656\" y2=\"293.2656\"/><line style=\"stroke: #A80036; stroke-width: 1.5;\" x1=\"731.5\" x2=\"832.5\" y1=\"301.2656\" y2=\"301.2656\"/><rect fill=\"#FEFECE\" filter=\"url(#f1)\" height=\"54.2656\" style=\"stroke: #A80036; stroke-width: 1.5;\" width=\"116\" x=\"869\" y=\"255\"/><ellipse cx=\"884\" cy=\"274.1328\" fill=\"#ADD1B2\" rx=\"11\" ry=\"11\" style=\"stroke: #A80036; stroke-width: 1.0;\"/><path d=\"M886.9731,279.7759 Q886.3921,280.0747 885.7529,280.2241 Q885.1138,280.3735 884.4082,280.3735 Q881.9014,280.3735 880.5815,278.7217 Q879.2617,277.0698 879.2617,273.9487 Q879.2617,270.8193 880.5815,269.1675 Q881.9014,267.5156 884.4082,267.5156 Q885.1138,267.5156 885.7612,267.665 Q886.4087,267.8145 886.9731,268.1133 L886.9731,270.8359 Q886.3423,270.2549 885.7488,269.9851 Q885.1553,269.7153 884.5244,269.7153 Q883.1797,269.7153 882.4949,270.782 Q881.8101,271.8486 881.8101,273.9487 Q881.8101,276.0405 882.4949,277.1072 Q883.1797,278.1738 884.5244,278.1738 Q885.1553,278.1738 885.7488,277.9041 Q886.3423,277.6343 886.9731,277.0532 Z \"/><text fill=\"#000000\" font-family=\"sans-serif\" font-size=\"12\" lengthAdjust=\"spacingAndGlyphs\" textLength=\"84\" x=\"898\" y=\"271.6016\">NYStyleCheese</text><text fill=\"#000000\" font-family=\"sans-serif\" font-size=\"12\" lengthAdjust=\"spacingAndGlyphs\" textLength=\"31\" x=\"924.5\" y=\"285.7344\">Pizza</text><line style=\"stroke: #A80036; stroke-width: 1.5;\" x1=\"870\" x2=\"984\" y1=\"293.2656\" y2=\"293.2656\"/><line style=\"stroke: #A80036; stroke-width: 1.5;\" x1=\"870\" x2=\"984\" y1=\"301.2656\" y2=\"301.2656\"/><rect fill=\"#FEFECE\" filter=\"url(#f1)\" height=\"54.2656\" style=\"stroke: #A80036; stroke-width: 1.5;\" width=\"105\" x=\"506.5\" y=\"408\"/><ellipse cx=\"521.5\" cy=\"427.1328\" fill=\"#ADD1B2\" rx=\"11\" ry=\"11\" style=\"stroke: #A80036; stroke-width: 1.0;\"/><path d=\"M524.4731,432.7759 Q523.8921,433.0747 523.2529,433.2241 Q522.6138,433.3735 521.9082,433.3735 Q519.4014,433.3735 518.0815,431.7217 Q516.7617,430.0698 516.7617,426.9487 Q516.7617,423.8193 518.0815,422.1675 Q519.4014,420.5156 521.9082,420.5156 Q522.6138,420.5156 523.2612,420.665 Q523.9087,420.8145 524.4731,421.1133 L524.4731,423.8359 Q523.8423,423.2549 523.2488,422.9851 Q522.6553,422.7153 522.0244,422.7153 Q520.6797,422.7153 519.9949,423.782 Q519.3101,424.8486 519.3101,426.9487 Q519.3101,429.0405 519.9949,430.1072 Q520.6797,431.1738 522.0244,431.1738 Q522.6553,431.1738 523.2488,430.9041 Q523.8423,430.6343 524.4731,430.0532 Z \"/><text fill=\"#000000\" font-family=\"sans-serif\" font-size=\"12\" lengthAdjust=\"spacingAndGlyphs\" textLength=\"71\" x=\"536.5\" y=\"424.6016\">ChicagoStyle</text><text fill=\"#000000\" font-family=\"sans-serif\" font-size=\"12\" lengthAdjust=\"spacingAndGlyphs\" textLength=\"73\" x=\"535.5\" y=\"438.7344\">CheesePizza</text><line style=\"stroke: #A80036; stroke-width: 1.5;\" x1=\"507.5\" x2=\"610.5\" y1=\"446.2656\" y2=\"446.2656\"/><line style=\"stroke: #A80036; stroke-width: 1.5;\" x1=\"507.5\" x2=\"610.5\" y1=\"454.2656\" y2=\"454.2656\"/><rect fill=\"#FEFECE\" filter=\"url(#f1)\" height=\"54.2656\" style=\"stroke: #A80036; stroke-width: 1.5;\" width=\"122\" x=\"647\" y=\"408\"/><ellipse cx=\"662\" cy=\"427.1328\" fill=\"#ADD1B2\" rx=\"11\" ry=\"11\" style=\"stroke: #A80036; stroke-width: 1.0;\"/><path d=\"M664.9731,432.7759 Q664.3921,433.0747 663.7529,433.2241 Q663.1138,433.3735 662.4082,433.3735 Q659.9014,433.3735 658.5815,431.7217 Q657.2617,430.0698 657.2617,426.9487 Q657.2617,423.8193 658.5815,422.1675 Q659.9014,420.5156 662.4082,420.5156 Q663.1138,420.5156 663.7612,420.665 Q664.4087,420.8145 664.9731,421.1133 L664.9731,423.8359 Q664.3423,423.2549 663.7488,422.9851 Q663.1553,422.7153 662.5244,422.7153 Q661.1797,422.7153 660.4949,423.782 Q659.8101,424.8486 659.8101,426.9487 Q659.8101,429.0405 660.4949,430.1072 Q661.1797,431.1738 662.5244,431.1738 Q663.1553,431.1738 663.7488,430.9041 Q664.3423,430.6343 664.9731,430.0532 Z \"/><text fill=\"#000000\" font-family=\"sans-serif\" font-size=\"12\" lengthAdjust=\"spacingAndGlyphs\" textLength=\"71\" x=\"685.5\" y=\"424.6016\">ChicagoStyle</text><text fill=\"#000000\" font-family=\"sans-serif\" font-size=\"12\" lengthAdjust=\"spacingAndGlyphs\" textLength=\"90\" x=\"676\" y=\"438.7344\">PepperoniPizza</text><line style=\"stroke: #A80036; stroke-width: 1.5;\" x1=\"648\" x2=\"768\" y1=\"446.2656\" y2=\"446.2656\"/><line style=\"stroke: #A80036; stroke-width: 1.5;\" x1=\"648\" x2=\"768\" y1=\"454.2656\" y2=\"454.2656\"/><rect fill=\"#FEFECE\" filter=\"url(#f1)\" height=\"54.2656\" style=\"stroke: #A80036; stroke-width: 1.5;\" width=\"103\" x=\"804.5\" y=\"408\"/><ellipse cx=\"819.5\" cy=\"427.1328\" fill=\"#ADD1B2\" rx=\"11\" ry=\"11\" style=\"stroke: #A80036; stroke-width: 1.0;\"/><path d=\"M822.4731,432.7759 Q821.8921,433.0747 821.2529,433.2241 Q820.6138,433.3735 819.9082,433.3735 Q817.4014,433.3735 816.0815,431.7217 Q814.7617,430.0698 814.7617,426.9487 Q814.7617,423.8193 816.0815,422.1675 Q817.4014,420.5156 819.9082,420.5156 Q820.6138,420.5156 821.2612,420.665 Q821.9087,420.8145 822.4731,421.1133 L822.4731,423.8359 Q821.8423,423.2549 821.2488,422.9851 Q820.6553,422.7153 820.0244,422.7153 Q818.6797,422.7153 817.9949,423.782 Q817.3101,424.8486 817.3101,426.9487 Q817.3101,429.0405 817.9949,430.1072 Q818.6797,431.1738 820.0244,431.1738 Q820.6553,431.1738 821.2488,430.9041 Q821.8423,430.6343 822.4731,430.0532 Z \"/><text fill=\"#000000\" font-family=\"sans-serif\" font-size=\"12\" lengthAdjust=\"spacingAndGlyphs\" textLength=\"71\" x=\"833.5\" y=\"424.6016\">ChicagoStyle</text><text fill=\"#000000\" font-family=\"sans-serif\" font-size=\"12\" lengthAdjust=\"spacingAndGlyphs\" textLength=\"60\" x=\"839\" y=\"438.7344\">ClamPizza</text><line style=\"stroke: #A80036; stroke-width: 1.5;\" x1=\"805.5\" x2=\"906.5\" y1=\"446.2656\" y2=\"446.2656\"/><line style=\"stroke: #A80036; stroke-width: 1.5;\" x1=\"805.5\" x2=\"906.5\" y1=\"454.2656\" y2=\"454.2656\"/><rect fill=\"#FEFECE\" filter=\"url(#f1)\" height=\"54.2656\" style=\"stroke: #A80036; stroke-width: 1.5;\" width=\"103\" x=\"942.5\" y=\"408\"/><ellipse cx=\"957.5\" cy=\"427.1328\" fill=\"#ADD1B2\" rx=\"11\" ry=\"11\" style=\"stroke: #A80036; stroke-width: 1.0;\"/><path d=\"M960.4731,432.7759 Q959.8921,433.0747 959.2529,433.2241 Q958.6138,433.3735 957.9082,433.3735 Q955.4014,433.3735 954.0815,431.7217 Q952.7617,430.0698 952.7617,426.9487 Q952.7617,423.8193 954.0815,422.1675 Q955.4014,420.5156 957.9082,420.5156 Q958.6138,420.5156 959.2612,420.665 Q959.9087,420.8145 960.4731,421.1133 L960.4731,423.8359 Q959.8423,423.2549 959.2488,422.9851 Q958.6553,422.7153 958.0244,422.7153 Q956.6797,422.7153 955.9949,423.782 Q955.3101,424.8486 955.3101,426.9487 Q955.3101,429.0405 955.9949,430.1072 Q956.6797,431.1738 958.0244,431.1738 Q958.6553,431.1738 959.2488,430.9041 Q959.8423,430.6343 960.4731,430.0532 Z \"/><text fill=\"#000000\" font-family=\"sans-serif\" font-size=\"12\" lengthAdjust=\"spacingAndGlyphs\" textLength=\"71\" x=\"971.5\" y=\"424.6016\">ChicagoStyle</text><text fill=\"#000000\" font-family=\"sans-serif\" font-size=\"12\" lengthAdjust=\"spacingAndGlyphs\" textLength=\"70\" x=\"972\" y=\"438.7344\">VeggiePizza</text><line style=\"stroke: #A80036; stroke-width: 1.5;\" x1=\"943.5\" x2=\"1044.5\" y1=\"446.2656\" y2=\"446.2656\"/><line style=\"stroke: #A80036; stroke-width: 1.5;\" x1=\"943.5\" x2=\"1044.5\" y1=\"454.2656\" y2=\"454.2656\"/><polygon fill=\"#FBFB77\" filter=\"url(#f1)\" points=\"6,8,6,155.7949,270,155.7949,270,18,260,8,6,8\" style=\"stroke: #A80036; stroke-width: 1.0;\"/><polygon fill=\"#FBFB77\" points=\"6,8,6,155.7949,270,155.7949,270,86,304.92,82,270,78,270,18,260,8,6,8\" style=\"stroke: #A80036; stroke-width: 1.0;\"/><line style=\"stroke: #A80036; stroke-width: 1.0;\" x1=\"260\" x2=\"260\" y1=\"8\" y2=\"18\"/><line style=\"stroke: #A80036; stroke-width: 1.0;\" x1=\"270\" x2=\"260\" y1=\"18\" y2=\"18\"/><text fill=\"#000000\" font-family=\"sans-serif\" font-size=\"13\" lengthAdjust=\"spacingAndGlyphs\" textLength=\"243\" x=\"12\" y=\"25.5684\">&quot;&quot;&quot;public Pizza orderPizza(String type) {</text><text fill=\"#000000\" font-family=\"sans-serif\" font-size=\"13\" lengthAdjust=\"spacingAndGlyphs\" textLength=\"73\" x=\"28\" y=\"40.8789\">Pizza pizza;</text><text fill=\"#000000\" font-family=\"sans-serif\" font-size=\"13\" lengthAdjust=\"spacingAndGlyphs\" textLength=\"152\" x=\"28\" y=\"56.1895\">pizza=createPizza(type);</text><text fill=\"#000000\" font-family=\"sans-serif\" font-size=\"13\" lengthAdjust=\"spacingAndGlyphs\" textLength=\"96\" x=\"28\" y=\"71.5\">pizza.prepare();</text><text fill=\"#000000\" font-family=\"sans-serif\" font-size=\"13\" lengthAdjust=\"spacingAndGlyphs\" textLength=\"79\" x=\"28\" y=\"86.8105\">pizza.bake();</text><text fill=\"#000000\" font-family=\"sans-serif\" font-size=\"13\" lengthAdjust=\"spacingAndGlyphs\" textLength=\"69\" x=\"28\" y=\"102.1211\">pizza.cut();</text><text fill=\"#000000\" font-family=\"sans-serif\" font-size=\"13\" lengthAdjust=\"spacingAndGlyphs\" textLength=\"73\" x=\"28\" y=\"117.4316\">pizza.box();</text><text fill=\"#000000\" font-family=\"sans-serif\" font-size=\"13\" lengthAdjust=\"spacingAndGlyphs\" textLength=\"79\" x=\"28\" y=\"132.7422\">return pizza;</text><text fill=\"#000000\" font-family=\"sans-serif\" font-size=\"13\" lengthAdjust=\"spacingAndGlyphs\" textLength=\"19\" x=\"12\" y=\"148.0527\">}&quot;&quot;&quot;</text><polygon fill=\"#FBFB77\" filter=\"url(#f1)\" points=\"228.5,216,228.5,348.4844,523.5,348.4844,523.5,226,513.5,216,228.5,216\" style=\"stroke: #A80036; stroke-width: 1.0;\"/><polygon fill=\"#FBFB77\" points=\"228.5,216,228.5,348.4844,523.5,348.4844,523.5,286,558.31,282,523.5,278,523.5,226,513.5,216,228.5,216\" style=\"stroke: #A80036; stroke-width: 1.0;\"/><line style=\"stroke: #A80036; stroke-width: 1.0;\" x1=\"513.5\" x2=\"513.5\" y1=\"216\" y2=\"226\"/><line style=\"stroke: #A80036; stroke-width: 1.0;\" x1=\"523.5\" x2=\"513.5\" y1=\"226\" y2=\"226\"/><text fill=\"#000000\" font-family=\"sans-serif\" font-size=\"13\" lengthAdjust=\"spacingAndGlyphs\" textLength=\"15\" x=\"234.5\" y=\"233.5684\">&quot;&quot;&quot;</text><text fill=\"#000000\" font-family=\"sans-serif\" font-size=\"13\" font-weight=\"bold\" lengthAdjust=\"spacingAndGlyphs\" textLength=\"103\" x=\"249.5\" y=\"233.5684\">factory method</text><text fill=\"#000000\" font-family=\"sans-serif\" font-size=\"13\" lengthAdjust=\"spacingAndGlyphs\" textLength=\"190\" x=\"234.5\" y=\"248.8789\">Pizza createPizza(String type) {</text><text fill=\"#000000\" font-family=\"sans-serif\" font-size=\"13\" lengthAdjust=\"spacingAndGlyphs\" textLength=\"107\" x=\"250.5\" y=\"264.1895\">Pizza pizza=null;</text><text fill=\"#000000\" font-family=\"sans-serif\" font-size=\"13\" lengthAdjust=\"spacingAndGlyphs\" textLength=\"150\" x=\"250.5\" y=\"279.5\">if(type.equals(&quot;cheese&quot;))</text><text fill=\"#000000\" font-family=\"sans-serif\" font-size=\"13\" lengthAdjust=\"spacingAndGlyphs\" textLength=\"242\" x=\"266.5\" y=\"294.8105\">pizza=new ChicagoStyleCheesePizza();</text><text fill=\"#000000\" font-family=\"sans-serif\" font-size=\"13\" lengthAdjust=\"spacingAndGlyphs\" textLength=\"20\" x=\"250.5\" y=\"310.1211\">.....</text><text fill=\"#000000\" font-family=\"sans-serif\" font-size=\"13\" lengthAdjust=\"spacingAndGlyphs\" textLength=\"75\" x=\"250.5\" y=\"325.4316\">return pizza</text><text fill=\"#000000\" font-family=\"sans-serif\" font-size=\"13\" lengthAdjust=\"spacingAndGlyphs\" textLength=\"19\" x=\"234.5\" y=\"340.7422\">}&quot;&quot;&quot;</text><path d=\"M319.896,131.617 C273.042,167.742 216.359,211.52 211,216 C194.85,229.501 177.305,245.315 163.578,257.964 \" fill=\"none\" style=\"stroke: #A80036; stroke-width: 1.0;\"/><polygon fill=\"none\" points=\"315.844,125.901,335.958,119.235,324.392,136.989,315.844,125.901\" style=\"stroke: #A80036; stroke-width: 1.0;\"/><path d=\"M443.148,131.809 C492.628,171.96 560.563,227.088 598.47,257.848 \" fill=\"none\" style=\"stroke: #A80036; stroke-width: 1.0;\"/><polygon fill=\"none\" points=\"438.589,137.124,427.47,119.086,447.411,126.253,438.589,137.124\" style=\"stroke: #A80036; stroke-width: 1.0;\"/><path d=\"M838.715,125.033 C824.42,164.346 803.518,221.825 791.486,254.915 \" fill=\"none\" style=\"stroke: #A80036; stroke-width: 1.0;\"/><polygon fill=\"none\" points=\"832.186,122.504,845.6,106.101,845.343,127.289,832.186,122.504\" style=\"stroke: #A80036; stroke-width: 1.0;\"/><path d=\"M869.497,125.033 C883.991,164.346 905.183,221.825 917.383,254.915 \" fill=\"none\" style=\"stroke: #A80036; stroke-width: 1.0;\"/><polygon fill=\"none\" points=\"862.868,127.287,862.517,106.101,876.003,122.444,862.868,127.287\" style=\"stroke: #A80036; stroke-width: 1.0;\"/><path d=\"M742.446,323.388 C733.16,331.968 723.035,340.646 713,348 C681.137,371.3505 642.282,393.0053 611.572,408.7442 \" fill=\"none\" style=\"stroke: #A80036; stroke-width: 1.0;\"/><polygon fill=\"none\" points=\"737.847,318.1,757.12,309.294,747.545,328.197,737.847,318.1\" style=\"stroke: #A80036; stroke-width: 1.0;\"/><path d=\"M760.2,327.483 C747.364,353.676 731.574,385.897 720.742,407.9992 \" fill=\"none\" style=\"stroke: #A80036; stroke-width: 1.0;\"/><polygon fill=\"none\" points=\"754.023,324.181,769.11,309.302,766.595,330.342,754.023,324.181\" style=\"stroke: #A80036; stroke-width: 1.0;\"/><path d=\"M803.8,327.483 C816.636,353.676 832.426,385.897 843.258,407.9992 \" fill=\"none\" style=\"stroke: #A80036; stroke-width: 1.0;\"/><polygon fill=\"none\" points=\"797.405,330.342,794.89,309.302,809.977,324.181,797.405,330.342\" style=\"stroke: #A80036; stroke-width: 1.0;\"/><path d=\"M822.041,322.779 C831.543,331.475 841.871,340.356 852,348 C881.563,370.3091 917.225,391.8903 945.415,407.8533 \" fill=\"none\" style=\"stroke: #A80036; stroke-width: 1.0;\"/><polygon fill=\"none\" points=\"817.211,327.846,807.476,309.025,826.823,317.667,817.211,327.846\" style=\"stroke: #A80036; stroke-width: 1.0;\"/></g></svg>"
      ],
      "text/plain": [
       "<IPython.core.display.SVG object>"
      ]
     },
     "execution_count": 5,
     "metadata": {},
     "output_type": "execute_result"
    }
   ],
   "source": [
    "%%plantuml\n",
    "@startuml\n",
    "PizzaStore <|-- NYPizzaStore\n",
    "PizzaStore <|-- ChicagoPizzaStore\n",
    "Pizza <|-- \"ChicagoStyle\\nPizza\"\n",
    "Pizza <|-- \"NYStyleCheese\\nPizza\"\n",
    "\"ChicagoStyle\\nPizza\" <|-- \"ChicagoStyle\\nCheesePizza\"\n",
    "\"ChicagoStyle\\nPizza\" <|-- \"ChicagoStyle\\nPepperoniPizza\"\n",
    "\"ChicagoStyle\\nPizza\" <|-- \"ChicagoStyle\\nClamPizza\"\n",
    "\"ChicagoStyle\\nPizza\" <|-- \"ChicagoStyle\\nVeggiePizza\"\n",
    "\n",
    "abstract class PizzaStore {\n",
    "  +orderPizza(String):Pizza\n",
    "  -{abstract}createPizza(String):Pizza\n",
    "}\n",
    "note left of PizzaStore\n",
    "\"\"\"public Pizza orderPizza(String type) {\n",
    "    Pizza pizza;\n",
    "    pizza=createPizza(type);\n",
    "    pizza.prepare();\n",
    "    pizza.bake();\n",
    "    pizza.cut();\n",
    "    pizza.box();\n",
    "    return pizza;\n",
    "}\"\"\"\n",
    "end note\n",
    "note left of ChicagoPizzaStore\n",
    "\"\"\"<b>factory method</b>\n",
    "Pizza createPizza(String type) {\n",
    "    Pizza pizza=null;\n",
    "    if(type.equals(\"cheese\"))\n",
    "        pizza=new ChicagoStyleCheesePizza();\n",
    "    .....\n",
    "    return pizza\n",
    "}\"\"\"\n",
    "end note\n",
    "@enduml"
   ]
  },
  {
   "cell_type": "markdown",
   "metadata": {},
   "source": [
    "## 5.3 Abstract Factory\n",
    "\n",
    "* creator\n",
    "    * abstract factory를 사용한다. \n",
    "    * creator는 구체적인 product를 사용하지 않는다.\n",
    "    * creator는 추상적인 product를 사용한다. \n",
    "* product\n",
    "    * 보통 인터페이스로 family of products를 구현한다.\n",
    "* creator생성\n",
    "    * PizzaStore에서 맡는다. PizzaStore에서 factory를 만든다.\n",
    "\n",
    "comparison | abstract factory | factory method\n",
    "---|---|---\n",
    "creator | abstract factory | abstract factory\n",
    "product | family | 1:1\n",
    "\n",
    "* DIP\n",
    "    * 상속 관계를 만든다.\n",
    "    * 상속을 통해 구체클래스에 대한 의존을 줄인다."
   ]
  },
  {
   "cell_type": "code",
   "execution_count": 17,
   "metadata": {
    "collapsed": true
   },
   "outputs": [],
   "source": [
    "%load_ext gvmagic"
   ]
  },
  {
   "cell_type": "code",
   "execution_count": 18,
   "metadata": {
    "collapsed": false
   },
   "outputs": [
    {
     "data": {
      "image/svg+xml": [
       "<?xml version=\"1.0\" encoding=\"UTF-8\" standalone=\"no\"?>\n",
       "<!DOCTYPE svg PUBLIC \"-//W3C//DTD SVG 1.1//EN\"\n",
       " \"http://www.w3.org/Graphics/SVG/1.1/DTD/svg11.dtd\">\n",
       "<!-- Generated by graphviz version 2.38.0 (20140413.2041)\n",
       " -->\n",
       "<!-- Title: G Pages: 1 -->\n",
       "<svg width=\"134pt\" height=\"204pt\"\n",
       " viewBox=\"0.00 0.00 134.00 204.00\" xmlns=\"http://www.w3.org/2000/svg\" xmlns:xlink=\"http://www.w3.org/1999/xlink\">\n",
       "<g id=\"graph0\" class=\"graph\" transform=\"scale(1 1) rotate(0) translate(4 200)\">\n",
       "<title>G</title>\n",
       "<polygon fill=\"white\" stroke=\"none\" points=\"-4,4 -4,-200 130,-200 130,4 -4,4\"/>\n",
       "<!-- a -->\n",
       "<g id=\"node1\" class=\"node\"><title>a</title>\n",
       "<ellipse fill=\"none\" stroke=\"black\" cx=\"63\" cy=\"-178\" rx=\"27\" ry=\"18\"/>\n",
       "<text text-anchor=\"middle\" x=\"63\" y=\"-174.3\" font-family=\"Times,serif\" font-size=\"14.00\">a</text>\n",
       "</g>\n",
       "<!-- b -->\n",
       "<g id=\"node2\" class=\"node\"><title>b</title>\n",
       "<ellipse fill=\"none\" stroke=\"black\" cx=\"63\" cy=\"-105\" rx=\"27\" ry=\"18\"/>\n",
       "<text text-anchor=\"middle\" x=\"63\" y=\"-101.3\" font-family=\"Times,serif\" font-size=\"14.00\">b</text>\n",
       "</g>\n",
       "<!-- a&#45;&gt;b -->\n",
       "<g id=\"edge1\" class=\"edge\"><title>a&#45;&gt;b</title>\n",
       "<path fill=\"none\" stroke=\"black\" d=\"M63,-159.813C63,-151.789 63,-142.047 63,-133.069\"/>\n",
       "<polygon fill=\"black\" stroke=\"black\" points=\"66.5001,-133.029 63,-123.029 59.5001,-133.029 66.5001,-133.029\"/>\n",
       "</g>\n",
       "<!-- c -->\n",
       "<g id=\"node3\" class=\"node\"><title>c</title>\n",
       "<ellipse fill=\"none\" stroke=\"black\" cx=\"27\" cy=\"-18\" rx=\"27\" ry=\"18\"/>\n",
       "<text text-anchor=\"middle\" x=\"27\" y=\"-14.3\" font-family=\"Times,serif\" font-size=\"14.00\">c</text>\n",
       "</g>\n",
       "<!-- b&#45;&gt;c -->\n",
       "<g id=\"edge2\" class=\"edge\"><title>b&#45;&gt;c</title>\n",
       "<path fill=\"none\" stroke=\"black\" d=\"M50.7082,-88.6965C46.4829,-82.8183 42.0528,-75.8671 39,-69 35.8088,-61.8215 33.3936,-53.6701 31.598,-46.0628\"/>\n",
       "<polygon fill=\"black\" stroke=\"black\" points=\"35.0006,-45.2353 29.5187,-36.169 28.1503,-46.675 35.0006,-45.2353\"/>\n",
       "<text text-anchor=\"middle\" x=\"62\" y=\"-57.8\" font-family=\"Times,serif\" font-size=\"14.00\">depends</text>\n",
       "</g>\n",
       "<!-- d -->\n",
       "<g id=\"node4\" class=\"node\"><title>d</title>\n",
       "<ellipse fill=\"none\" stroke=\"black\" cx=\"99\" cy=\"-18\" rx=\"27\" ry=\"18\"/>\n",
       "<text text-anchor=\"middle\" x=\"99\" y=\"-14.3\" font-family=\"Times,serif\" font-size=\"14.00\">d</text>\n",
       "</g>\n",
       "<!-- b&#45;&gt;d -->\n",
       "<g id=\"edge3\" class=\"edge\"><title>b&#45;&gt;d</title>\n",
       "<path fill=\"none\" stroke=\"black\" d=\"M74.0859,-88.5075C77.9395,-82.6089 82.0344,-75.6931 85,-69 88.2135,-61.7474 90.872,-53.5727 92.9774,-45.9669\"/>\n",
       "<polygon fill=\"black\" stroke=\"black\" points=\"96.417,-46.6436 95.5057,-36.088 89.6355,-44.908 96.417,-46.6436\"/>\n",
       "</g>\n",
       "</g>\n",
       "</svg>\n"
      ]
     },
     "metadata": {},
     "output_type": "display_data"
    }
   ],
   "source": [
    "%%dot digraph G {\n",
    "    rankdir=TB;\n",
    "    a -> b;\n",
    "    b -> c[label=depends];\n",
    "    b -> d;\n",
    "}"
   ]
  },
  {
   "cell_type": "code",
   "execution_count": 19,
   "metadata": {
    "collapsed": false
   },
   "outputs": [
    {
     "data": {
      "image/svg+xml": [
       "<?xml version=\"1.0\" encoding=\"UTF-8\" standalone=\"no\"?>\n",
       "<!DOCTYPE svg PUBLIC \"-//W3C//DTD SVG 1.1//EN\"\n",
       " \"http://www.w3.org/Graphics/SVG/1.1/DTD/svg11.dtd\">\n",
       "<!-- Generated by graphviz version 2.38.0 (20140413.2041)\n",
       " -->\n",
       "<!-- Title: G Pages: 1 -->\n",
       "<svg width=\"134pt\" height=\"219pt\"\n",
       " viewBox=\"0.00 0.00 134.00 219.00\" xmlns=\"http://www.w3.org/2000/svg\" xmlns:xlink=\"http://www.w3.org/1999/xlink\">\n",
       "<g id=\"graph0\" class=\"graph\" transform=\"scale(1 1) rotate(0) translate(4 215)\">\n",
       "<title>G</title>\n",
       "<polygon fill=\"white\" stroke=\"none\" points=\"-4,4 -4,-215 130,-215 130,4 -4,4\"/>\n",
       "<!-- a -->\n",
       "<g id=\"node1\" class=\"node\"><title>a</title>\n",
       "<ellipse fill=\"none\" stroke=\"black\" cx=\"63\" cy=\"-193\" rx=\"27\" ry=\"18\"/>\n",
       "<text text-anchor=\"middle\" x=\"63\" y=\"-189.3\" font-family=\"Times,serif\" font-size=\"14.00\">a</text>\n",
       "</g>\n",
       "<!-- b -->\n",
       "<g id=\"node2\" class=\"node\"><title>b</title>\n",
       "<ellipse fill=\"none\" stroke=\"black\" cx=\"63\" cy=\"-120\" rx=\"27\" ry=\"18\"/>\n",
       "<text text-anchor=\"middle\" x=\"63\" y=\"-116.3\" font-family=\"Times,serif\" font-size=\"14.00\">b</text>\n",
       "</g>\n",
       "<!-- a&#45;&gt;b -->\n",
       "<g id=\"edge1\" class=\"edge\"><title>a&#45;&gt;b</title>\n",
       "<path fill=\"none\" stroke=\"black\" d=\"M63,-174.813C63,-166.789 63,-157.047 63,-148.069\"/>\n",
       "<polygon fill=\"black\" stroke=\"black\" points=\"66.5001,-148.029 63,-138.029 59.5001,-148.029 66.5001,-148.029\"/>\n",
       "</g>\n",
       "<!-- c -->\n",
       "<g id=\"node3\" class=\"node\"><title>c</title>\n",
       "<ellipse fill=\"none\" stroke=\"black\" cx=\"27\" cy=\"-18\" rx=\"27\" ry=\"18\"/>\n",
       "<text text-anchor=\"middle\" x=\"27\" y=\"-14.3\" font-family=\"Times,serif\" font-size=\"14.00\">c</text>\n",
       "</g>\n",
       "<!-- b&#45;&gt;c -->\n",
       "<g id=\"edge2\" class=\"edge\"><title>b&#45;&gt;c</title>\n",
       "<path fill=\"none\" stroke=\"black\" d=\"M39.2525,-98.4582C35.5352,-94.0762 32.2007,-89.1899 30,-84 23.5171,-68.7115 23.4902,-49.5486 24.6426,-36.0019\"/>\n",
       "<polygon fill=\"black\" stroke=\"black\" points=\"36.7672,-100.924 46.1949,-105.758 41.8395,-96.0997 36.7672,-100.924\"/>\n",
       "<text text-anchor=\"middle\" x=\"57.5\" y=\"-72.8\" font-family=\"Times,serif\" font-size=\"14.00\">depends</text>\n",
       "<text text-anchor=\"middle\" x=\"57.5\" y=\"-57.8\" font-family=\"Times,serif\" font-size=\"14.00\">in reverse</text>\n",
       "</g>\n",
       "<!-- d -->\n",
       "<g id=\"node4\" class=\"node\"><title>d</title>\n",
       "<ellipse fill=\"none\" stroke=\"black\" cx=\"99\" cy=\"-18\" rx=\"27\" ry=\"18\"/>\n",
       "<text text-anchor=\"middle\" x=\"99\" y=\"-14.3\" font-family=\"Times,serif\" font-size=\"14.00\">d</text>\n",
       "</g>\n",
       "<!-- b&#45;&gt;d -->\n",
       "<g id=\"edge3\" class=\"edge\"><title>b&#45;&gt;d</title>\n",
       "<path fill=\"none\" stroke=\"black\" d=\"M79.5513,-95.0653C81.594,-91.4617 83.4903,-87.7079 85,-84 91.3553,-68.3907 95.0152,-49.4441 96.987,-36.0438\"/>\n",
       "<polygon fill=\"black\" stroke=\"black\" points=\"76.5594,-93.2491 74.3085,-103.602 82.5243,-96.9124 76.5594,-93.2491\"/>\n",
       "</g>\n",
       "</g>\n",
       "</svg>\n"
      ]
     },
     "metadata": {},
     "output_type": "display_data"
    }
   ],
   "source": [
    "%%dot digraph G {\n",
    "    rankdir=TB;\n",
    "    a -> b;\n",
    "    b -> c [dir=back][label = \"depends\\nin reverse\"];\n",
    "    b -> d [dir=back];\n",
    "}"
   ]
  },
  {
   "cell_type": "markdown",
   "metadata": {
    "slideshow": {
     "slide_type": "slide"
    }
   },
   "source": [
    "# 6. Case Implementation\n",
    "\n",
    "## 6.1 Pizza\n",
    "* 교재 HFDP Ch4 'Pizza'\n",
    "\n",
    "## 6.2 Shape"
   ]
  },
  {
   "cell_type": "markdown",
   "metadata": {
    "slideshow": {
     "slide_type": "slide"
    }
   },
   "source": [
    "### 6.1.1 simple factory"
   ]
  },
  {
   "cell_type": "code",
   "execution_count": 20,
   "metadata": {
    "collapsed": false,
    "slideshow": {
     "slide_type": "slide"
    }
   },
   "outputs": [
    {
     "data": {
      "image/svg+xml": [
       "<svg height=\"377px\" style=\"width:424px;height:377px;\" version=\"1.1\" viewBox=\"0 0 424 377\" width=\"424px\" xmlns=\"http://www.w3.org/2000/svg\" xmlns:xlink=\"http://www.w3.org/1999/xlink\"><defs><filter height=\"300%\" id=\"f1\" width=\"300%\" x=\"-1\" y=\"-1\"><feGaussianBlur result=\"blurOut\" stdDeviation=\"2.0\"/><feColorMatrix in=\"blurOut\" result=\"blurOut2\" type=\"matrix\" values=\"0 0 0 0 0 0 0 0 0 0 0 0 0 0 0 0 0 0 .4 0\"/><feOffset dx=\"4.0\" dy=\"4.0\" in=\"blurOut2\" result=\"blurOut3\"/><feBlend in=\"SourceGraphic\" in2=\"blurOut3\" mode=\"normal\"/></filter></defs><g><rect fill=\"#FFFFFF\" filter=\"url(#f1)\" height=\"208.1289\" style=\"stroke: #000000; stroke-width: 2.0;\" width=\"402\" x=\"13\" y=\"114.1094\"/><rect fill=\"#FFFFFF\" height=\"102.8867\" style=\"stroke: none; stroke-width: 1.0;\" width=\"402\" x=\"13\" y=\"219.3516\"/><line style=\"stroke: #A80036; stroke-width: 1.0; stroke-dasharray: 5.0,5.0;\" x1=\"52\" x2=\"52\" y1=\"38.4883\" y2=\"339.2383\"/><line style=\"stroke: #A80036; stroke-width: 1.0; stroke-dasharray: 5.0,5.0;\" x1=\"166\" x2=\"166\" y1=\"38.4883\" y2=\"339.2383\"/><line style=\"stroke: #A80036; stroke-width: 1.0; stroke-dasharray: 5.0,5.0;\" x1=\"296\" x2=\"296\" y1=\"38.4883\" y2=\"339.2383\"/><line style=\"stroke: #A80036; stroke-width: 1.0; stroke-dasharray: 5.0,5.0;\" x1=\"378\" x2=\"378\" y1=\"38.4883\" y2=\"339.2383\"/><rect fill=\"#FEFECE\" filter=\"url(#f1)\" height=\"30.4883\" style=\"stroke: #A80036; stroke-width: 1.5;\" width=\"54\" x=\"23\" y=\"3\"/><text fill=\"#000000\" font-family=\"sans-serif\" font-size=\"14\" lengthAdjust=\"spacingAndGlyphs\" textLength=\"40\" x=\"30\" y=\"23.5352\">Client</text><rect fill=\"#FEFECE\" filter=\"url(#f1)\" height=\"30.4883\" style=\"stroke: #A80036; stroke-width: 1.5;\" width=\"54\" x=\"23\" y=\"338.2383\"/><text fill=\"#000000\" font-family=\"sans-serif\" font-size=\"14\" lengthAdjust=\"spacingAndGlyphs\" textLength=\"40\" x=\"30\" y=\"358.7734\">Client</text><rect fill=\"#FEFECE\" filter=\"url(#f1)\" height=\"30.4883\" style=\"stroke: #A80036; stroke-width: 1.5;\" width=\"146\" x=\"91\" y=\"3\"/><text fill=\"#000000\" font-family=\"sans-serif\" font-size=\"14\" lengthAdjust=\"spacingAndGlyphs\" textLength=\"132\" x=\"98\" y=\"23.5352\">SimplePizzaFactory</text><rect fill=\"#FEFECE\" filter=\"url(#f1)\" height=\"30.4883\" style=\"stroke: #A80036; stroke-width: 1.5;\" width=\"146\" x=\"91\" y=\"338.2383\"/><text fill=\"#000000\" font-family=\"sans-serif\" font-size=\"14\" lengthAdjust=\"spacingAndGlyphs\" textLength=\"132\" x=\"98\" y=\"358.7734\">SimplePizzaFactory</text><rect fill=\"#FEFECE\" filter=\"url(#f1)\" height=\"30.4883\" style=\"stroke: #A80036; stroke-width: 1.5;\" width=\"86\" x=\"251\" y=\"3\"/><text fill=\"#000000\" font-family=\"sans-serif\" font-size=\"14\" lengthAdjust=\"spacingAndGlyphs\" textLength=\"72\" x=\"258\" y=\"23.5352\">PizzaStore</text><rect fill=\"#FEFECE\" filter=\"url(#f1)\" height=\"30.4883\" style=\"stroke: #A80036; stroke-width: 1.5;\" width=\"86\" x=\"251\" y=\"338.2383\"/><text fill=\"#000000\" font-family=\"sans-serif\" font-size=\"14\" lengthAdjust=\"spacingAndGlyphs\" textLength=\"72\" x=\"258\" y=\"358.7734\">PizzaStore</text><rect fill=\"#FEFECE\" filter=\"url(#f1)\" height=\"30.4883\" style=\"stroke: #A80036; stroke-width: 1.5;\" width=\"50\" x=\"351\" y=\"3\"/><text fill=\"#000000\" font-family=\"sans-serif\" font-size=\"14\" lengthAdjust=\"spacingAndGlyphs\" textLength=\"36\" x=\"358\" y=\"23.5352\">Pizza</text><rect fill=\"#FEFECE\" filter=\"url(#f1)\" height=\"30.4883\" style=\"stroke: #A80036; stroke-width: 1.5;\" width=\"50\" x=\"351\" y=\"338.2383\"/><text fill=\"#000000\" font-family=\"sans-serif\" font-size=\"14\" lengthAdjust=\"spacingAndGlyphs\" textLength=\"36\" x=\"358\" y=\"358.7734\">Pizza</text><polygon fill=\"#A80036\" points=\"154,65.4883,164,69.4883,154,73.4883,158,69.4883\" style=\"stroke: #A80036; stroke-width: 1.0;\"/><line style=\"stroke: #A80036; stroke-width: 1.0;\" x1=\"52\" x2=\"160\" y1=\"69.4883\" y2=\"69.4883\"/><text fill=\"#000000\" font-family=\"sans-serif\" font-size=\"13\" lengthAdjust=\"spacingAndGlyphs\" textLength=\"87\" x=\"59\" y=\"65.0566\">factory=new()</text><polygon fill=\"#A80036\" points=\"284,94.7988,294,98.7988,284,102.7988,288,98.7988\" style=\"stroke: #A80036; stroke-width: 1.0;\"/><line style=\"stroke: #A80036; stroke-width: 1.0;\" x1=\"52\" x2=\"290\" y1=\"98.7988\" y2=\"98.7988\"/><text fill=\"#000000\" font-family=\"sans-serif\" font-size=\"13\" lengthAdjust=\"spacingAndGlyphs\" textLength=\"119\" x=\"59\" y=\"94.3672\">store=new(factory)</text><rect fill=\"none\" height=\"208.1289\" style=\"stroke: #000000; stroke-width: 2.0;\" width=\"402\" x=\"13\" y=\"114.1094\"/><polygon fill=\"#EEEEEE\" points=\"13,114.1094,75,114.1094,75,121.1094,65,131.1094,13,131.1094,13,114.1094\" style=\"stroke: #000000; stroke-width: 2.0;\"/><text fill=\"#000000\" font-family=\"sans-serif\" font-size=\"13\" font-weight=\"bold\" lengthAdjust=\"spacingAndGlyphs\" textLength=\"17\" x=\"28\" y=\"127.6777\">alt</text><text fill=\"#000000\" font-family=\"sans-serif\" font-size=\"11\" font-weight=\"bold\" lengthAdjust=\"spacingAndGlyphs\" textLength=\"45\" x=\"90\" y=\"126.7441\">[cheese]</text><polygon fill=\"#A80036\" points=\"284,148.4199,294,152.4199,284,156.4199,288,152.4199\" style=\"stroke: #A80036; stroke-width: 1.0;\"/><line style=\"stroke: #A80036; stroke-width: 1.0;\" x1=\"52\" x2=\"290\" y1=\"152.4199\" y2=\"152.4199\"/><text fill=\"#000000\" font-family=\"sans-serif\" font-size=\"13\" lengthAdjust=\"spacingAndGlyphs\" textLength=\"122\" x=\"59\" y=\"147.9883\">orderPizza('cheese')</text><polygon fill=\"#A80036\" points=\"366,177.7305,376,181.7305,366,185.7305,370,181.7305\" style=\"stroke: #A80036; stroke-width: 1.0;\"/><line style=\"stroke: #A80036; stroke-width: 1.0;\" x1=\"296\" x2=\"372\" y1=\"181.7305\" y2=\"181.7305\"/><text fill=\"#000000\" font-family=\"sans-serif\" font-size=\"13\" lengthAdjust=\"spacingAndGlyphs\" textLength=\"33\" x=\"303\" y=\"177.2988\">new()</text><polygon fill=\"#A80036\" points=\"366,207.041,376,211.041,366,215.041,370,211.041\" style=\"stroke: #A80036; stroke-width: 1.0;\"/><line style=\"stroke: #A80036; stroke-width: 1.0;\" x1=\"52\" x2=\"372\" y1=\"211.041\" y2=\"211.041\"/><text fill=\"#000000\" font-family=\"sans-serif\" font-size=\"13\" lengthAdjust=\"spacingAndGlyphs\" textLength=\"64\" x=\"59\" y=\"206.6094\">getName()</text><line style=\"stroke: #000000; stroke-width: 1.0; stroke-dasharray: 2.0,2.0;\" x1=\"13\" x2=\"415\" y1=\"220.3516\" y2=\"220.3516\"/><text fill=\"#000000\" font-family=\"sans-serif\" font-size=\"11\" font-weight=\"bold\" lengthAdjust=\"spacingAndGlyphs\" textLength=\"45\" x=\"18\" y=\"230.9863\">[veggie]</text><polygon fill=\"#A80036\" points=\"284,251.3066,294,255.3066,284,259.3066,288,255.3066\" style=\"stroke: #A80036; stroke-width: 1.0;\"/><line style=\"stroke: #A80036; stroke-width: 1.0;\" x1=\"52\" x2=\"290\" y1=\"255.3066\" y2=\"255.3066\"/><text fill=\"#000000\" font-family=\"sans-serif\" font-size=\"13\" lengthAdjust=\"spacingAndGlyphs\" textLength=\"120\" x=\"59\" y=\"250.875\">orderPizza('veggie')</text><polygon fill=\"#A80036\" points=\"366,280.6172,376,284.6172,366,288.6172,370,284.6172\" style=\"stroke: #A80036; stroke-width: 1.0;\"/><line style=\"stroke: #A80036; stroke-width: 1.0;\" x1=\"296\" x2=\"372\" y1=\"284.6172\" y2=\"284.6172\"/><text fill=\"#000000\" font-family=\"sans-serif\" font-size=\"13\" lengthAdjust=\"spacingAndGlyphs\" textLength=\"33\" x=\"303\" y=\"280.1855\">new()</text><polygon fill=\"#A80036\" points=\"366,309.9277,376,313.9277,366,317.9277,370,313.9277\" style=\"stroke: #A80036; stroke-width: 1.0;\"/><line style=\"stroke: #A80036; stroke-width: 1.0;\" x1=\"52\" x2=\"372\" y1=\"313.9277\" y2=\"313.9277\"/><text fill=\"#000000\" font-family=\"sans-serif\" font-size=\"13\" lengthAdjust=\"spacingAndGlyphs\" textLength=\"64\" x=\"59\" y=\"309.4961\">getName()</text></g></svg>"
      ],
      "text/plain": [
       "<IPython.core.display.SVG object>"
      ]
     },
     "execution_count": 20,
     "metadata": {},
     "output_type": "execute_result"
    }
   ],
   "source": [
    "%%plantuml\n",
    "@startuml\n",
    "Client -> SimplePizzaFactory:factory=new()\n",
    "Client -> PizzaStore:store=new(factory)\n",
    "alt cheese\n",
    "    Client -> PizzaStore:orderPizza('cheese')\n",
    "    PizzaStore -> Pizza:new()\n",
    "    Client -> Pizza:getName()\n",
    "else veggie\n",
    "    Client -> PizzaStore:orderPizza('veggie')\n",
    "    PizzaStore -> Pizza:new()\n",
    "    Client -> Pizza:getName()\n",
    "end\n",
    "@enduml"
   ]
  },
  {
   "cell_type": "code",
   "execution_count": null,
   "metadata": {
    "collapsed": true,
    "slideshow": {
     "slide_type": "slide"
    }
   },
   "outputs": [],
   "source": [
    "# %load ./src/headfirst/factory/pizzas/PizzaTestDrive.java\n",
    "package headfirst.factory.pizzas;\n",
    "\n",
    "public class PizzaTestDrive {\n",
    " \n",
    "\tpublic static void main(String[] args) {\n",
    "\t\tSimplePizzaFactory factory = new SimplePizzaFactory();\n",
    "\t\tPizzaStore store = new PizzaStore(factory);\n",
    "\n",
    "\t\tPizza pizza = store.orderPizza(\"cheese\");\n",
    "\t\tSystem.out.println(\"We ordered a \" + pizza.getName() + \"\\n\");\n",
    " \n",
    "\t\tpizza = store.orderPizza(\"veggie\");\n",
    "\t\tSystem.out.println(\"We ordered a \" + pizza.getName() + \"\\n\");\n",
    "\t}\n",
    "}\n"
   ]
  },
  {
   "cell_type": "code",
   "execution_count": null,
   "metadata": {
    "collapsed": true,
    "slideshow": {
     "slide_type": "slide"
    }
   },
   "outputs": [],
   "source": [
    "# %load ./src/headfirst/factory/pizzas/SimplePizzaFactory.java\n",
    "package headfirst.factory.pizzas;\n",
    "\n",
    "public class SimplePizzaFactory {\n",
    "\tpublic Pizza createPizza(String type) {\n",
    "\t\tPizza pizza = null;\n",
    "\t\tif (type.equals(\"cheese\")) {\n",
    "\t\t\tpizza = new CheesePizza();\n",
    "\t\t} else if (type.equals(\"pepperoni\")) {\n",
    "\t\t\tpizza = new PepperoniPizza();\n",
    "\t\t} else if (type.equals(\"clam\")) {\n",
    "\t\t\tpizza = new ClamPizza();\n",
    "\t\t} else if (type.equals(\"veggie\")) {\n",
    "\t\t\tpizza = new VeggiePizza();\n",
    "\t\t}\n",
    "\t\treturn pizza;\n",
    "\t}\n",
    "}\n"
   ]
  },
  {
   "cell_type": "code",
   "execution_count": null,
   "metadata": {
    "collapsed": true,
    "slideshow": {
     "slide_type": "slide"
    }
   },
   "outputs": [],
   "source": [
    "# %load ./src/headfirst/factory/pizzas/PizzaStore.java\n",
    "package headfirst.factory.pizzas;\n",
    "\n",
    "public class PizzaStore {\n",
    "\tSimplePizzaFactory factory;\n",
    "\tpublic PizzaStore(SimplePizzaFactory factory) { \n",
    "\t\tthis.factory = factory;\n",
    "\t}\n",
    "\tpublic Pizza orderPizza(String type) {\n",
    "\t\tPizza pizza;\n",
    "\t\tpizza = factory.createPizza(type); \n",
    "\t\tpizza.prepare();\n",
    "\t\tpizza.bake();\n",
    "\t\tpizza.cut();\n",
    "\t\tpizza.box();\n",
    "\t\treturn pizza;\n",
    "\t}\n",
    "}\n"
   ]
  },
  {
   "cell_type": "code",
   "execution_count": null,
   "metadata": {
    "collapsed": true,
    "slideshow": {
     "slide_type": "slide"
    }
   },
   "outputs": [],
   "source": [
    "# %load ./src/headfirst/factory/pizzas/Pizza.java\n",
    "package headfirst.factory.pizzas;\n",
    "\n",
    "import java.util.ArrayList;\n",
    "\n",
    "abstract public class Pizza {\n",
    "\tString name;\n",
    "\tString dough;\n",
    "\tString sauce;\n",
    "\tArrayList toppings = new ArrayList();\n",
    "\n",
    "\tpublic String getName() {\n",
    "\t\treturn name;\n",
    "\t}\n",
    "\tpublic void prepare() {\n",
    "\t\tSystem.out.println(\"Preparing \" + name);\n",
    "\t}\n",
    "\tpublic void bake() {\n",
    "\t\tSystem.out.println(\"Baking \" + name);\n",
    "\t}\n",
    "\tpublic void cut() {\n",
    "\t\tSystem.out.println(\"Cutting \" + name);\n",
    "\t}\n",
    "\tpublic void box() {\n",
    "\t\tSystem.out.println(\"Boxing \" + name);\n",
    "\t}\n",
    "\tpublic String toString() {\n",
    "\t\t// code to display pizza name and ingredients\n",
    "\t\tStringBuffer display = new StringBuffer();\n",
    "\t\tdisplay.append(\"---- \" + name + \" ----\\n\");\n",
    "\t\tdisplay.append(dough + \"\\n\");\n",
    "\t\tdisplay.append(sauce + \"\\n\");\n",
    "\t\tfor (int i = 0; i < toppings.size(); i++) {\n",
    "\t\t\tdisplay.append((String )toppings.get(i) + \"\\n\");\n",
    "\t\t}\n",
    "\t\treturn display.toString();\n",
    "\t}\n",
    "}\n"
   ]
  },
  {
   "cell_type": "code",
   "execution_count": null,
   "metadata": {
    "collapsed": true,
    "slideshow": {
     "slide_type": "slide"
    }
   },
   "outputs": [],
   "source": [
    "# %load ./src/headfirst/factory/pizzas/CheesePizza.java\n",
    "package headfirst.factory.pizzas;\n",
    "\n",
    "public class CheesePizza extends Pizza {\n",
    "\tpublic CheesePizza() {\n",
    "\t\tname = \"Cheese Pizza\";\n",
    "\t\tdough = \"Regular Crust\";\n",
    "\t\tsauce = \"Marinara Pizza Sauce\";\n",
    "\t\ttoppings.add(\"Fresh Mozzarella\");\n",
    "\t\ttoppings.add(\"Parmesan\");\n",
    "\t}\n",
    "}\n"
   ]
  },
  {
   "cell_type": "markdown",
   "metadata": {
    "slideshow": {
     "slide_type": "slide"
    }
   },
   "source": [
    "### 6.1.2 factory method"
   ]
  },
  {
   "cell_type": "code",
   "execution_count": 21,
   "metadata": {
    "collapsed": false,
    "slideshow": {
     "slide_type": "slide"
    }
   },
   "outputs": [
    {
     "data": {
      "image/svg+xml": [
       "<svg height=\"436px\" style=\"width:560px;height:436px;\" version=\"1.1\" viewBox=\"0 0 560 436\" width=\"560px\" xmlns=\"http://www.w3.org/2000/svg\" xmlns:xlink=\"http://www.w3.org/1999/xlink\"><defs><filter height=\"300%\" id=\"f1\" width=\"300%\" x=\"-1\" y=\"-1\"><feGaussianBlur result=\"blurOut\" stdDeviation=\"2.0\"/><feColorMatrix in=\"blurOut\" result=\"blurOut2\" type=\"matrix\" values=\"0 0 0 0 0 0 0 0 0 0 0 0 0 0 0 0 0 0 .4 0\"/><feOffset dx=\"4.0\" dy=\"4.0\" in=\"blurOut2\" result=\"blurOut3\"/><feBlend in=\"SourceGraphic\" in2=\"blurOut3\" mode=\"normal\"/></filter></defs><g><rect fill=\"#FFFFFF\" filter=\"url(#f1)\" height=\"325.3711\" style=\"stroke: #000000; stroke-width: 2.0;\" width=\"538\" x=\"13\" y=\"55.4883\"/><rect fill=\"#FFFFFF\" height=\"161.5078\" style=\"stroke: none; stroke-width: 1.0;\" width=\"538\" x=\"13\" y=\"219.3516\"/><line style=\"stroke: #A80036; stroke-width: 1.0; stroke-dasharray: 5.0,5.0;\" x1=\"52\" x2=\"52\" y1=\"38.4883\" y2=\"397.8594\"/><line style=\"stroke: #A80036; stroke-width: 1.0; stroke-dasharray: 5.0,5.0;\" x1=\"157\" x2=\"157\" y1=\"38.4883\" y2=\"397.8594\"/><line style=\"stroke: #A80036; stroke-width: 1.0; stroke-dasharray: 5.0,5.0;\" x1=\"266\" x2=\"266\" y1=\"38.4883\" y2=\"397.8594\"/><line style=\"stroke: #A80036; stroke-width: 1.0; stroke-dasharray: 5.0,5.0;\" x1=\"358\" x2=\"358\" y1=\"38.4883\" y2=\"397.8594\"/><line style=\"stroke: #A80036; stroke-width: 1.0; stroke-dasharray: 5.0,5.0;\" x1=\"468\" x2=\"468\" y1=\"38.4883\" y2=\"397.8594\"/><rect fill=\"#FEFECE\" filter=\"url(#f1)\" height=\"30.4883\" style=\"stroke: #A80036; stroke-width: 1.5;\" width=\"54\" x=\"23\" y=\"3\"/><text fill=\"#000000\" font-family=\"sans-serif\" font-size=\"14\" lengthAdjust=\"spacingAndGlyphs\" textLength=\"40\" x=\"30\" y=\"23.5352\">Client</text><rect fill=\"#FEFECE\" filter=\"url(#f1)\" height=\"30.4883\" style=\"stroke: #A80036; stroke-width: 1.5;\" width=\"54\" x=\"23\" y=\"396.8594\"/><text fill=\"#000000\" font-family=\"sans-serif\" font-size=\"14\" lengthAdjust=\"spacingAndGlyphs\" textLength=\"40\" x=\"30\" y=\"417.3945\">Client</text><rect fill=\"#FEFECE\" filter=\"url(#f1)\" height=\"30.4883\" style=\"stroke: #A80036; stroke-width: 1.5;\" width=\"86\" x=\"112\" y=\"3\"/><text fill=\"#000000\" font-family=\"sans-serif\" font-size=\"14\" lengthAdjust=\"spacingAndGlyphs\" textLength=\"72\" x=\"119\" y=\"23.5352\">PizzaStore</text><rect fill=\"#FEFECE\" filter=\"url(#f1)\" height=\"30.4883\" style=\"stroke: #A80036; stroke-width: 1.5;\" width=\"86\" x=\"112\" y=\"396.8594\"/><text fill=\"#000000\" font-family=\"sans-serif\" font-size=\"14\" lengthAdjust=\"spacingAndGlyphs\" textLength=\"72\" x=\"119\" y=\"417.3945\">PizzaStore</text><rect fill=\"#FEFECE\" filter=\"url(#f1)\" height=\"30.4883\" style=\"stroke: #A80036; stroke-width: 1.5;\" width=\"105\" x=\"212\" y=\"3\"/><text fill=\"#000000\" font-family=\"sans-serif\" font-size=\"14\" lengthAdjust=\"spacingAndGlyphs\" textLength=\"91\" x=\"219\" y=\"23.5352\">NYPizzaStore</text><rect fill=\"#FEFECE\" filter=\"url(#f1)\" height=\"30.4883\" style=\"stroke: #A80036; stroke-width: 1.5;\" width=\"105\" x=\"212\" y=\"396.8594\"/><text fill=\"#000000\" font-family=\"sans-serif\" font-size=\"14\" lengthAdjust=\"spacingAndGlyphs\" textLength=\"91\" x=\"219\" y=\"417.3945\">NYPizzaStore</text><rect fill=\"#FEFECE\" filter=\"url(#f1)\" height=\"30.4883\" style=\"stroke: #A80036; stroke-width: 1.5;\" width=\"50\" x=\"331\" y=\"3\"/><text fill=\"#000000\" font-family=\"sans-serif\" font-size=\"14\" lengthAdjust=\"spacingAndGlyphs\" textLength=\"36\" x=\"338\" y=\"23.5352\">Pizza</text><rect fill=\"#FEFECE\" filter=\"url(#f1)\" height=\"30.4883\" style=\"stroke: #A80036; stroke-width: 1.5;\" width=\"50\" x=\"331\" y=\"396.8594\"/><text fill=\"#000000\" font-family=\"sans-serif\" font-size=\"14\" lengthAdjust=\"spacingAndGlyphs\" textLength=\"36\" x=\"338\" y=\"417.3945\">Pizza</text><rect fill=\"#FEFECE\" filter=\"url(#f1)\" height=\"30.4883\" style=\"stroke: #A80036; stroke-width: 1.5;\" width=\"142\" x=\"395\" y=\"3\"/><text fill=\"#000000\" font-family=\"sans-serif\" font-size=\"14\" lengthAdjust=\"spacingAndGlyphs\" textLength=\"128\" x=\"402\" y=\"23.5352\">ChicagoPizzaStore</text><rect fill=\"#FEFECE\" filter=\"url(#f1)\" height=\"30.4883\" style=\"stroke: #A80036; stroke-width: 1.5;\" width=\"142\" x=\"395\" y=\"396.8594\"/><text fill=\"#000000\" font-family=\"sans-serif\" font-size=\"14\" lengthAdjust=\"spacingAndGlyphs\" textLength=\"128\" x=\"402\" y=\"417.3945\">ChicagoPizzaStore</text><rect fill=\"none\" height=\"325.3711\" style=\"stroke: #000000; stroke-width: 2.0;\" width=\"538\" x=\"13\" y=\"55.4883\"/><polygon fill=\"#EEEEEE\" points=\"13,55.4883,75,55.4883,75,62.4883,65,72.4883,13,72.4883,13,55.4883\" style=\"stroke: #000000; stroke-width: 2.0;\"/><text fill=\"#000000\" font-family=\"sans-serif\" font-size=\"13\" font-weight=\"bold\" lengthAdjust=\"spacingAndGlyphs\" textLength=\"17\" x=\"28\" y=\"69.0566\">alt</text><text fill=\"#000000\" font-family=\"sans-serif\" font-size=\"11\" font-weight=\"bold\" lengthAdjust=\"spacingAndGlyphs\" textLength=\"98\" x=\"90\" y=\"68.123\">['ny style cheese']</text><polygon fill=\"#A80036\" points=\"145,89.7988,155,93.7988,145,97.7988,149,93.7988\" style=\"stroke: #A80036; stroke-width: 1.0;\"/><line style=\"stroke: #A80036; stroke-width: 1.0;\" x1=\"52\" x2=\"151\" y1=\"93.7988\" y2=\"93.7988\"/><text fill=\"#000000\" font-family=\"sans-serif\" font-size=\"13\" lengthAdjust=\"spacingAndGlyphs\" textLength=\"47\" x=\"59\" y=\"89.3672\">nyStore</text><polygon fill=\"#A80036\" points=\"254.5,119.1094,264.5,123.1094,254.5,127.1094,258.5,123.1094\" style=\"stroke: #A80036; stroke-width: 1.0;\"/><line style=\"stroke: #A80036; stroke-width: 1.0;\" x1=\"157\" x2=\"260.5\" y1=\"123.1094\" y2=\"123.1094\"/><text fill=\"#000000\" font-family=\"sans-serif\" font-size=\"13\" lengthAdjust=\"spacingAndGlyphs\" textLength=\"33\" x=\"164\" y=\"118.6777\">new()</text><polygon fill=\"#A80036\" points=\"254.5,148.4199,264.5,152.4199,254.5,156.4199,258.5,152.4199\" style=\"stroke: #A80036; stroke-width: 1.0;\"/><line style=\"stroke: #A80036; stroke-width: 1.0;\" x1=\"52\" x2=\"260.5\" y1=\"152.4199\" y2=\"152.4199\"/><text fill=\"#000000\" font-family=\"sans-serif\" font-size=\"13\" lengthAdjust=\"spacingAndGlyphs\" textLength=\"122\" x=\"59\" y=\"147.9883\">orderPizza('cheese')</text><polygon fill=\"#A80036\" points=\"346,177.7305,356,181.7305,346,185.7305,350,181.7305\" style=\"stroke: #A80036; stroke-width: 1.0;\"/><line style=\"stroke: #A80036; stroke-width: 1.0;\" x1=\"266.5\" x2=\"352\" y1=\"181.7305\" y2=\"181.7305\"/><text fill=\"#000000\" font-family=\"sans-serif\" font-size=\"13\" lengthAdjust=\"spacingAndGlyphs\" textLength=\"33\" x=\"273.5\" y=\"177.2988\">new()</text><polygon fill=\"#A80036\" points=\"346,207.041,356,211.041,346,215.041,350,211.041\" style=\"stroke: #A80036; stroke-width: 1.0;\"/><line style=\"stroke: #A80036; stroke-width: 1.0;\" x1=\"52\" x2=\"352\" y1=\"211.041\" y2=\"211.041\"/><text fill=\"#000000\" font-family=\"sans-serif\" font-size=\"13\" lengthAdjust=\"spacingAndGlyphs\" textLength=\"64\" x=\"59\" y=\"206.6094\">getName()</text><line style=\"stroke: #000000; stroke-width: 1.0; stroke-dasharray: 2.0,2.0;\" x1=\"13\" x2=\"551\" y1=\"220.3516\" y2=\"220.3516\"/><text fill=\"#000000\" font-family=\"sans-serif\" font-size=\"11\" font-weight=\"bold\" lengthAdjust=\"spacingAndGlyphs\" textLength=\"128\" x=\"18\" y=\"230.9863\">['chicago style cheese']</text><polygon fill=\"#A80036\" points=\"145,251.3066,155,255.3066,145,259.3066,149,255.3066\" style=\"stroke: #A80036; stroke-width: 1.0;\"/><line style=\"stroke: #A80036; stroke-width: 1.0;\" x1=\"52\" x2=\"151\" y1=\"255.3066\" y2=\"255.3066\"/><text fill=\"#000000\" font-family=\"sans-serif\" font-size=\"13\" lengthAdjust=\"spacingAndGlyphs\" textLength=\"81\" x=\"59\" y=\"250.875\">chicagoStore</text><polygon fill=\"#A80036\" points=\"456,280.6172,466,284.6172,456,288.6172,460,284.6172\" style=\"stroke: #A80036; stroke-width: 1.0;\"/><line style=\"stroke: #A80036; stroke-width: 1.0;\" x1=\"157\" x2=\"462\" y1=\"284.6172\" y2=\"284.6172\"/><text fill=\"#000000\" font-family=\"sans-serif\" font-size=\"13\" lengthAdjust=\"spacingAndGlyphs\" textLength=\"33\" x=\"164\" y=\"280.1855\">new()</text><polygon fill=\"#A80036\" points=\"456,309.9277,466,313.9277,456,317.9277,460,313.9277\" style=\"stroke: #A80036; stroke-width: 1.0;\"/><line style=\"stroke: #A80036; stroke-width: 1.0;\" x1=\"52\" x2=\"462\" y1=\"313.9277\" y2=\"313.9277\"/><text fill=\"#000000\" font-family=\"sans-serif\" font-size=\"13\" lengthAdjust=\"spacingAndGlyphs\" textLength=\"122\" x=\"59\" y=\"309.4961\">orderPizza('cheese')</text><polygon fill=\"#A80036\" points=\"369,339.2383,359,343.2383,369,347.2383,365,343.2383\" style=\"stroke: #A80036; stroke-width: 1.0;\"/><line style=\"stroke: #A80036; stroke-width: 1.0;\" x1=\"363\" x2=\"467\" y1=\"343.2383\" y2=\"343.2383\"/><text fill=\"#000000\" font-family=\"sans-serif\" font-size=\"13\" lengthAdjust=\"spacingAndGlyphs\" textLength=\"33\" x=\"375\" y=\"338.8066\">new()</text><polygon fill=\"#A80036\" points=\"346,368.5488,356,372.5488,346,376.5488,350,372.5488\" style=\"stroke: #A80036; stroke-width: 1.0;\"/><line style=\"stroke: #A80036; stroke-width: 1.0;\" x1=\"52\" x2=\"352\" y1=\"372.5488\" y2=\"372.5488\"/><text fill=\"#000000\" font-family=\"sans-serif\" font-size=\"13\" lengthAdjust=\"spacingAndGlyphs\" textLength=\"64\" x=\"59\" y=\"368.1172\">getName()</text></g></svg>"
      ],
      "text/plain": [
       "<IPython.core.display.SVG object>"
      ]
     },
     "execution_count": 21,
     "metadata": {},
     "output_type": "execute_result"
    }
   ],
   "source": [
    "%%plantuml\n",
    "@startuml\n",
    "alt 'ny style cheese'\n",
    "Client -> PizzaStore:nyStore\n",
    "PizzaStore -> NYPizzaStore:new()\n",
    "Client -> NYPizzaStore:orderPizza('cheese')\n",
    "NYPizzaStore -> Pizza:new()\n",
    "Client -> Pizza:getName()\n",
    "else 'chicago style cheese'\n",
    "Client -> PizzaStore:chicagoStore\n",
    "PizzaStore -> ChicagoPizzaStore:new()\n",
    "Client -> ChicagoPizzaStore:orderPizza('cheese')\n",
    "ChicagoPizzaStore -> Pizza:new()\n",
    "Client -> Pizza:getName()\n",
    "end\n",
    "@enduml"
   ]
  },
  {
   "cell_type": "code",
   "execution_count": null,
   "metadata": {
    "collapsed": true,
    "slideshow": {
     "slide_type": "slide"
    }
   },
   "outputs": [],
   "source": [
    "# %load ./src/headfirst/factory/pizzafm/PizzaTestDrive.java\n",
    "package headfirst.factory.pizzafm;\n",
    "\n",
    "public class PizzaTestDrive { \n",
    "\tpublic static void main(String[] args) {\n",
    "\t\tPizzaStore nyStore = new NYPizzaStore();\n",
    "\t\tPizzaStore chicagoStore = new ChicagoPizzaStore();\n",
    "\t\tPizza pizza = nyStore.orderPizza(\"cheese\");\n",
    "\t\tSystem.out.println(\"Ethan ordered a \" + pizza.getName() + \"\\n\");\n",
    "\t\tpizza = chicagoStore.orderPizza(\"cheese\");\n",
    "\t\tSystem.out.println(\"Joel ordered a \" + pizza.getName() + \"\\n\");\n",
    "\t\tpizza = nyStore.orderPizza(\"clam\");\n",
    "\t\tSystem.out.println(\"Ethan ordered a \" + pizza.getName() + \"\\n\");\n",
    "\t\tpizza = chicagoStore.orderPizza(\"clam\");\n",
    "\t\tSystem.out.println(\"Joel ordered a \" + pizza.getName() + \"\\n\");\n",
    "\t\tpizza = nyStore.orderPizza(\"pepperoni\");\n",
    "\t\tSystem.out.println(\"Ethan ordered a \" + pizza.getName() + \"\\n\");\n",
    "\t\tpizza = chicagoStore.orderPizza(\"pepperoni\");\n",
    "\t\tSystem.out.println(\"Joel ordered a \" + pizza.getName() + \"\\n\");\n",
    "\t\tpizza = nyStore.orderPizza(\"veggie\");\n",
    "\t\tSystem.out.println(\"Ethan ordered a \" + pizza.getName() + \"\\n\");\n",
    "\t\tpizza = chicagoStore.orderPizza(\"veggie\");\n",
    "\t\tSystem.out.println(\"Joel ordered a \" + pizza.getName() + \"\\n\");\n",
    "\t}\n",
    "}\n"
   ]
  },
  {
   "cell_type": "code",
   "execution_count": null,
   "metadata": {
    "collapsed": true,
    "slideshow": {
     "slide_type": "slide"
    }
   },
   "outputs": [],
   "source": [
    "# %load ./src/headfirst/factory/pizzas/PizzaStore.java\n",
    "package headfirst.factory.pizzas;\n",
    "\n",
    "public class PizzaStore {\n",
    "\tSimplePizzaFactory factory;\n",
    " \n",
    "\tpublic PizzaStore(SimplePizzaFactory factory) { \n",
    "\t\tthis.factory = factory;\n",
    "\t}\n",
    "\tpublic Pizza orderPizza(String type) {\n",
    "\t\tPizza pizza;\n",
    "\t\tpizza = factory.createPizza(type);\n",
    "\t\tpizza.prepare();\n",
    "\t\tpizza.bake();\n",
    "\t\tpizza.cut();\n",
    "\t\tpizza.box();\n",
    "\t\treturn pizza;\n",
    "\t}\n",
    "}\n"
   ]
  },
  {
   "cell_type": "code",
   "execution_count": null,
   "metadata": {
    "collapsed": true,
    "slideshow": {
     "slide_type": "slide"
    }
   },
   "outputs": [],
   "source": [
    "# %load ./src/headfirst/factory/pizzafm/NYPizzaStore.java\n",
    "package headfirst.factory.pizzafm;\n",
    "\n",
    "public class NYPizzaStore extends PizzaStore {\n",
    "\tPizza createPizza(String item) {\n",
    "\t\tif (item.equals(\"cheese\")) {\n",
    "\t\t\treturn new NYStyleCheesePizza();\n",
    "\t\t} else if (item.equals(\"veggie\")) {\n",
    "\t\t\treturn new NYStyleVeggiePizza();\n",
    "\t\t} else if (item.equals(\"clam\")) {\n",
    "\t\t\treturn new NYStyleClamPizza();\n",
    "\t\t} else if (item.equals(\"pepperoni\")) {\n",
    "\t\t\treturn new NYStylePepperoniPizza();\n",
    "\t\t} else return null;\n",
    "\t}\n",
    "}\n"
   ]
  },
  {
   "cell_type": "code",
   "execution_count": null,
   "metadata": {
    "collapsed": true,
    "slideshow": {
     "slide_type": "slide"
    }
   },
   "outputs": [],
   "source": [
    "# %load ./src/headfirst/factory/pizzafm/Pizza.java\n",
    "package headfirst.factory.pizzafm;\n",
    "\n",
    "import java.util.ArrayList;\n",
    "\n",
    "public abstract class Pizza {\n",
    "\tString name;\n",
    "\tString dough;\n",
    "\tString sauce;\n",
    "\tArrayList toppings = new ArrayList();\n",
    "\tvoid prepare() {\n",
    "\t\tSystem.out.println(\"Preparing \" + name);\n",
    "\t\tSystem.out.println(\"Tossing dough...\");\n",
    "\t\tSystem.out.println(\"Adding sauce...\");\n",
    "\t\tSystem.out.println(\"Adding toppings: \");\n",
    "\t\tfor (int i = 0; i < toppings.size(); i++) {\n",
    "\t\t\tSystem.out.println(\"   \" + toppings.get(i));\n",
    "\t\t}\n",
    "\t}\n",
    "\tvoid bake() {\n",
    "\t\tSystem.out.println(\"Bake for 25 minutes at 350\");\n",
    "\t}\n",
    "\tvoid cut() {\n",
    "\t\tSystem.out.println(\"Cutting the pizza into diagonal slices\");\n",
    "\t}\n",
    "\tvoid box() {\n",
    "\t\tSystem.out.println(\"Place pizza in official PizzaStore box\");\n",
    "\t}\n",
    "\tpublic String getName() {\n",
    "\t\treturn name;\n",
    "\t}\n",
    "\tpublic String toString() {\n",
    "\t\tStringBuffer display = new StringBuffer();\n",
    "\t\tdisplay.append(\"---- \" + name + \" ----\\n\");\n",
    "\t\tdisplay.append(dough + \"\\n\");\n",
    "\t\tdisplay.append(sauce + \"\\n\");\n",
    "\t\tfor (int i = 0; i < toppings.size(); i++) {\n",
    "\t\t\tdisplay.append((String )toppings.get(i) + \"\\n\");\n",
    "\t\t}\n",
    "\t\treturn display.toString();\n",
    "\t}\n",
    "}\n"
   ]
  },
  {
   "cell_type": "code",
   "execution_count": null,
   "metadata": {
    "collapsed": true,
    "slideshow": {
     "slide_type": "slide"
    }
   },
   "outputs": [],
   "source": [
    "# %load ./src/headfirst/factory/pizzafm/NYStyleCheesePizza.java\n",
    "package headfirst.factory.pizzafm;\n",
    "\n",
    "public class NYStyleCheesePizza extends Pizza {\n",
    "\n",
    "\tpublic NYStyleCheesePizza() { \n",
    "\t\tname = \"NY Style Sauce and Cheese Pizza\";\n",
    "\t\tdough = \"Thin Crust Dough\";\n",
    "\t\tsauce = \"Marinara Sauce\";\n",
    " \n",
    "\t\ttoppings.add(\"Grated Reggiano Cheese\");\n",
    "\t}\n",
    "}\n"
   ]
  },
  {
   "cell_type": "code",
   "execution_count": 43,
   "metadata": {
    "collapsed": false,
    "slideshow": {
     "slide_type": "slide"
    }
   },
   "outputs": [
    {
     "name": "stdout",
     "output_type": "stream",
     "text": [
      "Picked up JAVA_TOOL_OPTIONS: -javaagent:/usr/share/java/jayatanaag.jar \n",
      "warning: Supported source version 'RELEASE_6' from annotation processor 'org.sonatype.guice.bean.scanners.index.SisuIndexAPT6' less than -source '1.7'\n",
      "Note: Some input files use unchecked or unsafe operations.\n",
      "Note: Recompile with -Xlint:unchecked for details.\n",
      "1 warning\n"
     ]
    }
   ],
   "source": [
    "!javac -d classes/ -sourcepath src/ src/headfirst/factory/pizzafm/*.java"
   ]
  },
  {
   "cell_type": "code",
   "execution_count": 44,
   "metadata": {
    "collapsed": false,
    "slideshow": {
     "slide_type": "slide"
    }
   },
   "outputs": [
    {
     "name": "stdout",
     "output_type": "stream",
     "text": [
      "Picked up JAVA_TOOL_OPTIONS: -javaagent:/usr/share/java/jayatanaag.jar \n",
      "--- Making a NY Style Sauce and Cheese Pizza ---\n",
      "Preparing NY Style Sauce and Cheese Pizza\n",
      "Tossing dough...\n",
      "Adding sauce...\n",
      "Adding toppings: \n",
      "   Grated Reggiano Cheese\n",
      "Bake for 25 minutes at 350\n",
      "Cutting the pizza into diagonal slices\n",
      "Place pizza in official PizzaStore box\n",
      "Ethan ordered a NY Style Sauce and Cheese Pizza\n",
      "\n",
      "--- Making a Chicago Style Deep Dish Cheese Pizza ---\n",
      "Preparing Chicago Style Deep Dish Cheese Pizza\n",
      "Tossing dough...\n",
      "Adding sauce...\n",
      "Adding toppings: \n",
      "   Shredded Mozzarella Cheese\n",
      "Bake for 25 minutes at 350\n",
      "Cutting the pizza into square slices\n",
      "Place pizza in official PizzaStore box\n",
      "Joel ordered a Chicago Style Deep Dish Cheese Pizza\n",
      "\n",
      "--- Making a NY Style Clam Pizza ---\n",
      "Preparing NY Style Clam Pizza\n",
      "Tossing dough...\n",
      "Adding sauce...\n",
      "Adding toppings: \n",
      "   Grated Reggiano Cheese\n",
      "   Fresh Clams from Long Island Sound\n",
      "Bake for 25 minutes at 350\n",
      "Cutting the pizza into diagonal slices\n",
      "Place pizza in official PizzaStore box\n",
      "Ethan ordered a NY Style Clam Pizza\n",
      "\n",
      "--- Making a Chicago Style Clam Pizza ---\n",
      "Preparing Chicago Style Clam Pizza\n",
      "Tossing dough...\n",
      "Adding sauce...\n",
      "Adding toppings: \n",
      "   Shredded Mozzarella Cheese\n",
      "   Frozen Clams from Chesapeake Bay\n",
      "Bake for 25 minutes at 350\n",
      "Cutting the pizza into square slices\n",
      "Place pizza in official PizzaStore box\n",
      "Joel ordered a Chicago Style Clam Pizza\n",
      "\n",
      "--- Making a NY Style Pepperoni Pizza ---\n",
      "Preparing NY Style Pepperoni Pizza\n",
      "Tossing dough...\n",
      "Adding sauce...\n",
      "Adding toppings: \n",
      "   Grated Reggiano Cheese\n",
      "   Sliced Pepperoni\n",
      "   Garlic\n",
      "   Onion\n",
      "   Mushrooms\n",
      "   Red Pepper\n",
      "Bake for 25 minutes at 350\n",
      "Cutting the pizza into diagonal slices\n",
      "Place pizza in official PizzaStore box\n",
      "Ethan ordered a NY Style Pepperoni Pizza\n",
      "\n",
      "--- Making a Chicago Style Pepperoni Pizza ---\n",
      "Preparing Chicago Style Pepperoni Pizza\n",
      "Tossing dough...\n",
      "Adding sauce...\n",
      "Adding toppings: \n",
      "   Shredded Mozzarella Cheese\n",
      "   Black Olives\n",
      "   Spinach\n",
      "   Eggplant\n",
      "   Sliced Pepperoni\n",
      "Bake for 25 minutes at 350\n",
      "Cutting the pizza into square slices\n",
      "Place pizza in official PizzaStore box\n",
      "Joel ordered a Chicago Style Pepperoni Pizza\n",
      "\n",
      "--- Making a NY Style Veggie Pizza ---\n",
      "Preparing NY Style Veggie Pizza\n",
      "Tossing dough...\n",
      "Adding sauce...\n",
      "Adding toppings: \n",
      "   Grated Reggiano Cheese\n",
      "   Garlic\n",
      "   Onion\n",
      "   Mushrooms\n",
      "   Red Pepper\n",
      "Bake for 25 minutes at 350\n",
      "Cutting the pizza into diagonal slices\n",
      "Place pizza in official PizzaStore box\n",
      "Ethan ordered a NY Style Veggie Pizza\n",
      "\n",
      "--- Making a Chicago Deep Dish Veggie Pizza ---\n",
      "Preparing Chicago Deep Dish Veggie Pizza\n",
      "Tossing dough...\n",
      "Adding sauce...\n",
      "Adding toppings: \n",
      "   Shredded Mozzarella Cheese\n",
      "   Black Olives\n",
      "   Spinach\n",
      "   Eggplant\n",
      "Bake for 25 minutes at 350\n",
      "Cutting the pizza into square slices\n",
      "Place pizza in official PizzaStore box\n",
      "Joel ordered a Chicago Deep Dish Veggie Pizza\n",
      "\n"
     ]
    }
   ],
   "source": [
    "!java -cp classes/ headfirst/factory/pizzafm/PizzaTestDrive"
   ]
  },
  {
   "cell_type": "markdown",
   "metadata": {
    "slideshow": {
     "slide_type": "slide"
    }
   },
   "source": [
    "### 6.1.3 abstract factory\n",
    "\n",
    "* Pizza absract factory\n",
    "    * PizzaStore에서 creator(factory)를 생성해서 Pizza에 전달\n",
    "    * Pizza는 creator를 이용해 재료를 넣어 product을 완성\n",
    "    * creator\n",
    "        * abstract factory구조\n",
    "            * PizzaIngredientFactory <|-- NYPizzaIngredientFactory, ChicagoPizzaIngredientFactory\n",
    "    * product\n",
    "        * interface를 사용해 family of products를 제공함\n",
    "            * Dough <|.. Thick, Thin\n",
    "            * Source <|.. PlumTomato, Marinara\n",
    "            * Cheese <|.. Mozzarella, Reggiano\n",
    "            * Clams <|.. Frozen, Fresh\n",
    "* Shape abstract factory (6.2 Shape)\n",
    "    * creator\n",
    "        * abstract factory구조\n",
    "            * DrawingAbstractFactory <|-- ColorFactory, ShapeFactory\n",
    "    * product\n",
    "        * interface를 사용해 family of products를 제공함\n",
    "            * Color <|.. Red, Green, Blue\n",
    "            * Shape <|.. Rectangle, Square"
   ]
  },
  {
   "cell_type": "code",
   "execution_count": 15,
   "metadata": {
    "collapsed": false,
    "slideshow": {
     "slide_type": "slide"
    }
   },
   "outputs": [
    {
     "data": {
      "image/svg+xml": [
       "<svg height=\"408px\" style=\"width:638px;height:408px;\" version=\"1.1\" viewBox=\"0 0 638 408\" width=\"638px\" xmlns=\"http://www.w3.org/2000/svg\" xmlns:xlink=\"http://www.w3.org/1999/xlink\"><defs><filter height=\"300%\" id=\"f1\" width=\"300%\" x=\"-1\" y=\"-1\"><feGaussianBlur result=\"blurOut\" stdDeviation=\"2.0\"/><feColorMatrix in=\"blurOut\" result=\"blurOut2\" type=\"matrix\" values=\"0 0 0 0 0 0 0 0 0 0 0 0 0 0 0 0 0 0 .4 0\"/><feOffset dx=\"4.0\" dy=\"4.0\" in=\"blurOut2\" result=\"blurOut3\"/><feBlend in=\"SourceGraphic\" in2=\"blurOut3\" mode=\"normal\"/></filter></defs><g><rect fill=\"#FEFECE\" filter=\"url(#f1)\" height=\"48\" style=\"stroke: #A80036; stroke-width: 1.5;\" width=\"162\" x=\"235\" y=\"8\"/><ellipse cx=\"250\" cy=\"24\" fill=\"#ADD1B2\" rx=\"11\" ry=\"11\" style=\"stroke: #A80036; stroke-width: 1.0;\"/><path d=\"M252.9731,29.6431 Q252.3921,29.9419 251.7529,30.0913 Q251.1138,30.2407 250.4082,30.2407 Q247.9014,30.2407 246.5815,28.5889 Q245.2617,26.937 245.2617,23.8159 Q245.2617,20.6865 246.5815,19.0347 Q247.9014,17.3828 250.4082,17.3828 Q251.1138,17.3828 251.7612,17.5322 Q252.4087,17.6816 252.9731,17.9805 L252.9731,20.7031 Q252.3423,20.1221 251.7488,19.8523 Q251.1553,19.5825 250.5244,19.5825 Q249.1797,19.5825 248.4949,20.6492 Q247.8101,21.7158 247.8101,23.8159 Q247.8101,25.9077 248.4949,26.9744 Q249.1797,28.041 250.5244,28.041 Q251.1553,28.041 251.7488,27.7712 Q252.3423,27.5015 252.9731,26.9204 Z \"/><text fill=\"#000000\" font-family=\"sans-serif\" font-size=\"12\" lengthAdjust=\"spacingAndGlyphs\" textLength=\"130\" x=\"264\" y=\"28.5352\">PizzaIngredientFactory</text><line style=\"stroke: #A80036; stroke-width: 1.5;\" x1=\"236\" x2=\"396\" y1=\"40\" y2=\"40\"/><line style=\"stroke: #A80036; stroke-width: 1.5;\" x1=\"236\" x2=\"396\" y1=\"48\" y2=\"48\"/><rect fill=\"#FEFECE\" filter=\"url(#f1)\" height=\"54.2656\" style=\"stroke: #A80036; stroke-width: 1.5;\" width=\"131\" x=\"167.5\" y=\"116\"/><ellipse cx=\"182.5\" cy=\"135.1328\" fill=\"#ADD1B2\" rx=\"11\" ry=\"11\" style=\"stroke: #A80036; stroke-width: 1.0;\"/><path d=\"M185.4731,140.7759 Q184.8921,141.0747 184.2529,141.2241 Q183.6138,141.3735 182.9082,141.3735 Q180.4014,141.3735 179.0815,139.7217 Q177.7617,138.0698 177.7617,134.9487 Q177.7617,131.8193 179.0815,130.1675 Q180.4014,128.5156 182.9082,128.5156 Q183.6138,128.5156 184.2612,128.665 Q184.9087,128.8145 185.4731,129.1133 L185.4731,131.8359 Q184.8423,131.2549 184.2488,130.9851 Q183.6553,130.7153 183.0244,130.7153 Q181.6797,130.7153 180.9949,131.782 Q180.3101,132.8486 180.3101,134.9487 Q180.3101,137.0405 180.9949,138.1072 Q181.6797,139.1738 183.0244,139.1738 Q183.6553,139.1738 184.2488,138.9041 Q184.8423,138.6343 185.4731,138.0532 Z \"/><text fill=\"#000000\" font-family=\"sans-serif\" font-size=\"12\" lengthAdjust=\"spacingAndGlyphs\" textLength=\"76\" x=\"208\" y=\"132.6016\">ChicagoPizza</text><text fill=\"#000000\" font-family=\"sans-serif\" font-size=\"12\" lengthAdjust=\"spacingAndGlyphs\" textLength=\"99\" x=\"196.5\" y=\"146.7344\">IngredientFactory</text><line style=\"stroke: #A80036; stroke-width: 1.5;\" x1=\"168.5\" x2=\"297.5\" y1=\"154.2656\" y2=\"154.2656\"/><line style=\"stroke: #A80036; stroke-width: 1.5;\" x1=\"168.5\" x2=\"297.5\" y1=\"162.2656\" y2=\"162.2656\"/><rect fill=\"#FEFECE\" filter=\"url(#f1)\" height=\"54.2656\" style=\"stroke: #A80036; stroke-width: 1.5;\" width=\"131\" x=\"333.5\" y=\"116\"/><ellipse cx=\"348.5\" cy=\"135.1328\" fill=\"#ADD1B2\" rx=\"11\" ry=\"11\" style=\"stroke: #A80036; stroke-width: 1.0;\"/><path d=\"M351.4731,140.7759 Q350.8921,141.0747 350.2529,141.2241 Q349.6138,141.3735 348.9082,141.3735 Q346.4014,141.3735 345.0815,139.7217 Q343.7617,138.0698 343.7617,134.9487 Q343.7617,131.8193 345.0815,130.1675 Q346.4014,128.5156 348.9082,128.5156 Q349.6138,128.5156 350.2612,128.665 Q350.9087,128.8145 351.4731,129.1133 L351.4731,131.8359 Q350.8423,131.2549 350.2488,130.9851 Q349.6553,130.7153 349.0244,130.7153 Q347.6797,130.7153 346.9949,131.782 Q346.3101,132.8486 346.3101,134.9487 Q346.3101,137.0405 346.9949,138.1072 Q347.6797,139.1738 349.0244,139.1738 Q349.6553,139.1738 350.2488,138.9041 Q350.8423,138.6343 351.4731,138.0532 Z \"/><text fill=\"#000000\" font-family=\"sans-serif\" font-size=\"12\" lengthAdjust=\"spacingAndGlyphs\" textLength=\"47\" x=\"388.5\" y=\"132.6016\">NYPizza</text><text fill=\"#000000\" font-family=\"sans-serif\" font-size=\"12\" lengthAdjust=\"spacingAndGlyphs\" textLength=\"99\" x=\"362.5\" y=\"146.7344\">IngredientFactory</text><line style=\"stroke: #A80036; stroke-width: 1.5;\" x1=\"334.5\" x2=\"463.5\" y1=\"154.2656\" y2=\"154.2656\"/><line style=\"stroke: #A80036; stroke-width: 1.5;\" x1=\"334.5\" x2=\"463.5\" y1=\"162.2656\" y2=\"162.2656\"/><rect fill=\"#FEFECE\" filter=\"url(#f1)\" height=\"60.9551\" style=\"stroke: #A80036; stroke-width: 1.5;\" width=\"115\" x=\"175.5\" y=\"230\"/><ellipse cx=\"211.2\" cy=\"246\" fill=\"#B4A7E5\" rx=\"11\" ry=\"11\" style=\"stroke: #A80036; stroke-width: 1.0;\"/><path d=\"M207.1277,241.7651 L207.1277,239.6069 L214.5071,239.6069 L214.5071,241.7651 L212.0418,241.7651 L212.0418,249.8418 L214.5071,249.8418 L214.5071,252 L207.1277,252 L207.1277,249.8418 L209.5931,249.8418 L209.5931,241.7651 Z \"/><text fill=\"#000000\" font-family=\"sans-serif\" font-size=\"12\" font-style=\"italic\" lengthAdjust=\"spacingAndGlyphs\" textLength=\"37\" x=\"229.8\" y=\"250.5352\">Dough</text><line style=\"stroke: #A80036; stroke-width: 1.5;\" x1=\"176.5\" x2=\"289.5\" y1=\"262\" y2=\"262\"/><line style=\"stroke: #A80036; stroke-width: 1.5;\" x1=\"176.5\" x2=\"289.5\" y1=\"270\" y2=\"270\"/><ellipse cx=\"186.5\" cy=\"281.9775\" fill=\"#84BE84\" rx=\"3\" ry=\"3\" style=\"stroke: #038048; stroke-width: 1.0;\"/><text fill=\"#000000\" font-family=\"sans-serif\" font-size=\"11\" lengthAdjust=\"spacingAndGlyphs\" textLength=\"89\" x=\"195.5\" y=\"284.6348\">String toString();</text><rect fill=\"#FEFECE\" filter=\"url(#f1)\" height=\"60.9551\" style=\"stroke: #A80036; stroke-width: 1.5;\" width=\"112\" x=\"343\" y=\"230\"/><ellipse cx=\"375.1\" cy=\"246\" fill=\"#B4A7E5\" rx=\"11\" ry=\"11\" style=\"stroke: #A80036; stroke-width: 1.0;\"/><path d=\"M371.0277,241.7651 L371.0277,239.6069 L378.4071,239.6069 L378.4071,241.7651 L375.9418,241.7651 L375.9418,249.8418 L378.4071,249.8418 L378.4071,252 L371.0277,252 L371.0277,249.8418 L373.4931,249.8418 L373.4931,241.7651 Z \"/><text fill=\"#000000\" font-family=\"sans-serif\" font-size=\"12\" font-style=\"italic\" lengthAdjust=\"spacingAndGlyphs\" textLength=\"42\" x=\"392.9\" y=\"250.5352\">Cheese</text><line style=\"stroke: #A80036; stroke-width: 1.5;\" x1=\"344\" x2=\"454\" y1=\"262\" y2=\"262\"/><line style=\"stroke: #A80036; stroke-width: 1.5;\" x1=\"344\" x2=\"454\" y1=\"270\" y2=\"270\"/><ellipse cx=\"354\" cy=\"281.9775\" fill=\"#84BE84\" rx=\"3\" ry=\"3\" style=\"stroke: #038048; stroke-width: 1.0;\"/><text fill=\"#000000\" font-family=\"sans-serif\" font-size=\"11\" lengthAdjust=\"spacingAndGlyphs\" textLength=\"86\" x=\"363\" y=\"284.6348\">toString():String</text><rect fill=\"#FEFECE\" filter=\"url(#f1)\" height=\"48\" style=\"stroke: #A80036; stroke-width: 1.5;\" width=\"137\" x=\"330.5\" y=\"351\"/><ellipse cx=\"345.5\" cy=\"367\" fill=\"#ADD1B2\" rx=\"11\" ry=\"11\" style=\"stroke: #A80036; stroke-width: 1.0;\"/><path d=\"M348.4731,372.6431 Q347.8921,372.9419 347.2529,373.0913 Q346.6138,373.2407 345.9082,373.2407 Q343.4014,373.2407 342.0815,371.5889 Q340.7617,369.937 340.7617,366.8159 Q340.7617,363.6865 342.0815,362.0347 Q343.4014,360.3828 345.9082,360.3828 Q346.6138,360.3828 347.2612,360.5322 Q347.9087,360.6816 348.4731,360.9805 L348.4731,363.7031 Q347.8423,363.1221 347.2488,362.8523 Q346.6553,362.5825 346.0244,362.5825 Q344.6797,362.5825 343.9949,363.6492 Q343.3101,364.7158 343.3101,366.8159 Q343.3101,368.9077 343.9949,369.9744 Q344.6797,371.041 346.0244,371.041 Q346.6553,371.041 347.2488,370.7712 Q347.8423,370.5015 348.4731,369.9204 Z \"/><text fill=\"#000000\" font-family=\"sans-serif\" font-size=\"12\" lengthAdjust=\"spacingAndGlyphs\" textLength=\"105\" x=\"359.5\" y=\"371.5352\">MozzarellaCheese</text><line style=\"stroke: #A80036; stroke-width: 1.5;\" x1=\"331.5\" x2=\"466.5\" y1=\"383\" y2=\"383\"/><line style=\"stroke: #A80036; stroke-width: 1.5;\" x1=\"331.5\" x2=\"466.5\" y1=\"391\" y2=\"391\"/><rect fill=\"#FEFECE\" filter=\"url(#f1)\" height=\"48\" style=\"stroke: #A80036; stroke-width: 1.5;\" width=\"127\" x=\"502.5\" y=\"351\"/><ellipse cx=\"517.5\" cy=\"367\" fill=\"#ADD1B2\" rx=\"11\" ry=\"11\" style=\"stroke: #A80036; stroke-width: 1.0;\"/><path d=\"M520.4731,372.6431 Q519.8921,372.9419 519.2529,373.0913 Q518.6138,373.2407 517.9082,373.2407 Q515.4014,373.2407 514.0815,371.5889 Q512.7617,369.937 512.7617,366.8159 Q512.7617,363.6865 514.0815,362.0347 Q515.4014,360.3828 517.9082,360.3828 Q518.6138,360.3828 519.2612,360.5322 Q519.9087,360.6816 520.4731,360.9805 L520.4731,363.7031 Q519.8423,363.1221 519.2488,362.8523 Q518.6553,362.5825 518.0244,362.5825 Q516.6797,362.5825 515.9949,363.6492 Q515.3101,364.7158 515.3101,366.8159 Q515.3101,368.9077 515.9949,369.9744 Q516.6797,371.041 518.0244,371.041 Q518.6553,371.041 519.2488,370.7712 Q519.8423,370.5015 520.4731,369.9204 Z \"/><text fill=\"#000000\" font-family=\"sans-serif\" font-size=\"12\" lengthAdjust=\"spacingAndGlyphs\" textLength=\"95\" x=\"531.5\" y=\"371.5352\">ReggianoCheese</text><line style=\"stroke: #A80036; stroke-width: 1.5;\" x1=\"503.5\" x2=\"628.5\" y1=\"383\" y2=\"383\"/><line style=\"stroke: #A80036; stroke-width: 1.5;\" x1=\"503.5\" x2=\"628.5\" y1=\"391\" y2=\"391\"/><rect fill=\"#FEFECE\" filter=\"url(#f1)\" height=\"48\" style=\"stroke: #A80036; stroke-width: 1.5;\" width=\"130\" x=\"6\" y=\"351\"/><ellipse cx=\"21\" cy=\"367\" fill=\"#ADD1B2\" rx=\"11\" ry=\"11\" style=\"stroke: #A80036; stroke-width: 1.0;\"/><path d=\"M23.9731,372.6431 Q23.3921,372.9419 22.7529,373.0913 Q22.1138,373.2407 21.4082,373.2407 Q18.9014,373.2407 17.5815,371.5889 Q16.2617,369.937 16.2617,366.8159 Q16.2617,363.6865 17.5815,362.0347 Q18.9014,360.3828 21.4082,360.3828 Q22.1138,360.3828 22.7612,360.5322 Q23.4087,360.6816 23.9731,360.9805 L23.9731,363.7031 Q23.3423,363.1221 22.7488,362.8523 Q22.1553,362.5825 21.5244,362.5825 Q20.1797,362.5825 19.4949,363.6492 Q18.8101,364.7158 18.8101,366.8159 Q18.8101,368.9077 19.4949,369.9744 Q20.1797,371.041 21.5244,371.041 Q22.1553,371.041 22.7488,370.7712 Q23.3423,370.5015 23.9731,369.9204 Z \"/><text fill=\"#000000\" font-family=\"sans-serif\" font-size=\"12\" lengthAdjust=\"spacingAndGlyphs\" textLength=\"98\" x=\"35\" y=\"371.5352\">ThickCrustDough</text><line style=\"stroke: #A80036; stroke-width: 1.5;\" x1=\"7\" x2=\"135\" y1=\"383\" y2=\"383\"/><line style=\"stroke: #A80036; stroke-width: 1.5;\" x1=\"7\" x2=\"135\" y1=\"391\" y2=\"391\"/><rect fill=\"#FEFECE\" filter=\"url(#f1)\" height=\"48\" style=\"stroke: #A80036; stroke-width: 1.5;\" width=\"124\" x=\"171\" y=\"351\"/><ellipse cx=\"186\" cy=\"367\" fill=\"#ADD1B2\" rx=\"11\" ry=\"11\" style=\"stroke: #A80036; stroke-width: 1.0;\"/><path d=\"M188.9731,372.6431 Q188.3921,372.9419 187.7529,373.0913 Q187.1138,373.2407 186.4082,373.2407 Q183.9014,373.2407 182.5815,371.5889 Q181.2617,369.937 181.2617,366.8159 Q181.2617,363.6865 182.5815,362.0347 Q183.9014,360.3828 186.4082,360.3828 Q187.1138,360.3828 187.7612,360.5322 Q188.4087,360.6816 188.9731,360.9805 L188.9731,363.7031 Q188.3423,363.1221 187.7488,362.8523 Q187.1553,362.5825 186.5244,362.5825 Q185.1797,362.5825 184.4949,363.6492 Q183.8101,364.7158 183.8101,366.8159 Q183.8101,368.9077 184.4949,369.9744 Q185.1797,371.041 186.5244,371.041 Q187.1553,371.041 187.7488,370.7712 Q188.3423,370.5015 188.9731,369.9204 Z \"/><text fill=\"#000000\" font-family=\"sans-serif\" font-size=\"12\" lengthAdjust=\"spacingAndGlyphs\" textLength=\"92\" x=\"200\" y=\"371.5352\">ThinCrustDough</text><line style=\"stroke: #A80036; stroke-width: 1.5;\" x1=\"172\" x2=\"294\" y1=\"383\" y2=\"383\"/><line style=\"stroke: #A80036; stroke-width: 1.5;\" x1=\"172\" x2=\"294\" y1=\"391\" y2=\"391\"/><path d=\"M286.183,72.158 C275.127,86.677 262.867,102.777 252.907,115.857 \" fill=\"none\" style=\"stroke: #A80036; stroke-width: 1.0; stroke-dasharray: 7.0,7.0;\"/><polygon fill=\"none\" points=\"280.712,67.787,298.398,56.116,291.851,76.269,280.712,67.787\" style=\"stroke: #A80036; stroke-width: 1.0;\"/><path d=\"M345.817,72.158 C356.873,86.677 369.133,102.777 379.093,115.857 \" fill=\"none\" style=\"stroke: #A80036; stroke-width: 1.0; stroke-dasharray: 7.0,7.0;\"/><polygon fill=\"none\" points=\"340.149,76.269,333.602,56.116,351.288,67.787,340.149,76.269\" style=\"stroke: #A80036; stroke-width: 1.0;\"/><path d=\"M361.332,170.209 C337.188,187.008 305.662,208.943 279.899,226.868 \" fill=\"none\" style=\"stroke: #A80036; stroke-width: 1.0; stroke-dasharray: 7.0,7.0;\"/><polygon fill=\"#A80036\" points=\"275.488,229.937,285.1602,228.0802,279.5923,227.0813,280.5911,221.5133,275.488,229.937\" style=\"stroke: #A80036; stroke-width: 1.0;\"/><path d=\"M399,170.209 C399,186.253 399,206.983 399,224.43 \" fill=\"none\" style=\"stroke: #A80036; stroke-width: 1.0; stroke-dasharray: 7.0,7.0;\"/><polygon fill=\"#A80036\" points=\"399,229.73,403,220.73,399,224.73,395,220.73,399,229.73\" style=\"stroke: #A80036; stroke-width: 1.0;\"/><path d=\"M233,170.209 C233,186.253 233,206.983 233,224.43 \" fill=\"none\" style=\"stroke: #A80036; stroke-width: 1.0; stroke-dasharray: 7.0,7.0;\"/><polygon fill=\"#A80036\" points=\"233,229.73,237,220.73,233,224.73,229,220.73,233,229.73\" style=\"stroke: #A80036; stroke-width: 1.0;\"/><path d=\"M270.668,170.209 C294.812,187.008 326.338,208.943 352.101,226.868 \" fill=\"none\" style=\"stroke: #A80036; stroke-width: 1.0; stroke-dasharray: 7.0,7.0;\"/><polygon fill=\"#A80036\" points=\"356.512,229.937,351.4089,221.5133,352.4077,227.0813,346.8398,228.0802,356.512,229.937\" style=\"stroke: #A80036; stroke-width: 1.0;\"/><path d=\"M399,311.1067 C399,324.8764 399,339.1847 399,350.6686 \" fill=\"none\" style=\"stroke: #A80036; stroke-width: 1.0; stroke-dasharray: 7.0,7.0;\"/><polygon fill=\"none\" points=\"392,311.0581,399,291.058,406,311.058,392,311.0581\" style=\"stroke: #A80036; stroke-width: 1.0;\"/><path d=\"M459.517,302.2676 C483.784,318.6148 510.859,336.854 531.635,350.8498 \" fill=\"none\" style=\"stroke: #A80036; stroke-width: 1.0; stroke-dasharray: 7.0,7.0;\"/><polygon fill=\"none\" points=\"455.554,308.0378,442.877,291.058,463.376,296.427,455.554,308.0378\" style=\"stroke: #A80036; stroke-width: 1.0;\"/><path d=\"M173.953,302.5046 C150.501,318.791 124.393,336.9216 104.3364,350.8498 \" fill=\"none\" style=\"stroke: #A80036; stroke-width: 1.0; stroke-dasharray: 7.0,7.0;\"/><polygon fill=\"none\" points=\"170.016,296.716,190.436,291.058,178.002,308.2156,170.016,296.716\" style=\"stroke: #A80036; stroke-width: 1.0;\"/><path d=\"M233,311.1067 C233,324.8764 233,339.1847 233,350.6686 \" fill=\"none\" style=\"stroke: #A80036; stroke-width: 1.0; stroke-dasharray: 7.0,7.0;\"/><polygon fill=\"none\" points=\"226,311.0581,233,291.058,240,311.058,226,311.0581\" style=\"stroke: #A80036; stroke-width: 1.0;\"/></g></svg>"
      ],
      "text/plain": [
       "<IPython.core.display.SVG object>"
      ]
     },
     "execution_count": 15,
     "metadata": {},
     "output_type": "execute_result"
    }
   ],
   "source": [
    "%%plantuml\n",
    "@startuml\n",
    "\n",
    "PizzaIngredientFactory <|.. \"ChicagoPizza\\nIngredientFactory\"\n",
    "PizzaIngredientFactory <|.. \"NYPizza\\nIngredientFactory\"\n",
    "\"NYPizza\\nIngredientFactory\" ..> Dough\n",
    "\"NYPizza\\nIngredientFactory\" ..> Cheese\n",
    "\"ChicagoPizza\\nIngredientFactory\" ..> Dough\n",
    "\"ChicagoPizza\\nIngredientFactory\" ..> Cheese\n",
    "\n",
    "interface Cheese {\n",
    "    +toString():String\n",
    "}\n",
    "interface Dough {\n",
    "    +String toString();\n",
    "}\n",
    "Cheese <|.. MozzarellaCheese\n",
    "Cheese <|.. ReggianoCheese\n",
    "Dough <|.. ThickCrustDough\n",
    "Dough <|.. ThinCrustDough\n",
    "@enduml"
   ]
  },
  {
   "cell_type": "code",
   "execution_count": 18,
   "metadata": {
    "collapsed": false,
    "slideshow": {
     "slide_type": "slide"
    }
   },
   "outputs": [
    {
     "data": {
      "image/svg+xml": [
       "<svg height=\"819px\" style=\"width:670px;height:819px;\" version=\"1.1\" viewBox=\"0 0 670 819\" width=\"670px\" xmlns=\"http://www.w3.org/2000/svg\" xmlns:xlink=\"http://www.w3.org/1999/xlink\"><defs><filter height=\"300%\" id=\"f1\" width=\"300%\" x=\"-1\" y=\"-1\"><feGaussianBlur result=\"blurOut\" stdDeviation=\"2.0\"/><feColorMatrix in=\"blurOut\" result=\"blurOut2\" type=\"matrix\" values=\"0 0 0 0 0 0 0 0 0 0 0 0 0 0 0 0 0 0 .4 0\"/><feOffset dx=\"4.0\" dy=\"4.0\" in=\"blurOut2\" result=\"blurOut3\"/><feBlend in=\"SourceGraphic\" in2=\"blurOut3\" mode=\"normal\"/></filter></defs><g><rect fill=\"#FEFECE\" filter=\"url(#f1)\" height=\"177.5508\" style=\"stroke: #A80036; stroke-width: 1.5;\" width=\"170\" x=\"460\" y=\"8\"/><ellipse cx=\"525.25\" cy=\"24\" fill=\"#A9DCDF\" rx=\"11\" ry=\"11\" style=\"stroke: #A80036; stroke-width: 1.0;\"/><path d=\"M525.3633,19.3481 L524.2095,24.4199 L526.5254,24.4199 Z M523.8691,17.1069 L526.8657,17.1069 L530.2109,29.5 L527.7622,29.5 L526.9985,26.437 L523.7197,26.437 L522.9727,29.5 L520.5239,29.5 Z \"/><text fill=\"#000000\" font-family=\"sans-serif\" font-size=\"12\" font-style=\"italic\" lengthAdjust=\"spacingAndGlyphs\" textLength=\"31\" x=\"545.75\" y=\"28.5352\">Pizza</text><line style=\"stroke: #A80036; stroke-width: 1.5;\" x1=\"461\" x2=\"629\" y1=\"40\" y2=\"40\"/><text fill=\"#000000\" font-family=\"sans-serif\" font-size=\"11\" lengthAdjust=\"spacingAndGlyphs\" textLength=\"67\" x=\"466\" y=\"54.6348\">String name;</text><text fill=\"#000000\" font-family=\"sans-serif\" font-size=\"11\" lengthAdjust=\"spacingAndGlyphs\" textLength=\"77\" x=\"466\" y=\"67.5898\">Dough dough;</text><text fill=\"#000000\" font-family=\"sans-serif\" font-size=\"11\" lengthAdjust=\"spacingAndGlyphs\" textLength=\"82\" x=\"466\" y=\"80.5449\">Cheese cheese;</text><line style=\"stroke: #A80036; stroke-width: 1.5;\" x1=\"461\" x2=\"629\" y1=\"86.8652\" y2=\"86.8652\"/><text fill=\"#000000\" font-family=\"sans-serif\" font-size=\"11\" lengthAdjust=\"spacingAndGlyphs\" textLength=\"126\" x=\"480\" y=\"101.5\">abstract void prepare();</text><text fill=\"#000000\" font-family=\"sans-serif\" font-size=\"11\" lengthAdjust=\"spacingAndGlyphs\" textLength=\"59\" x=\"480\" y=\"114.4551\">void bake()</text><text fill=\"#000000\" font-family=\"sans-serif\" font-size=\"11\" lengthAdjust=\"spacingAndGlyphs\" textLength=\"51\" x=\"480\" y=\"127.4102\">void cut()</text><text fill=\"#000000\" font-family=\"sans-serif\" font-size=\"11\" lengthAdjust=\"spacingAndGlyphs\" textLength=\"55\" x=\"480\" y=\"140.3652\">void box()</text><text fill=\"#000000\" font-family=\"sans-serif\" font-size=\"11\" lengthAdjust=\"spacingAndGlyphs\" textLength=\"144\" x=\"480\" y=\"153.3203\">void setName(String name)</text><text fill=\"#000000\" font-family=\"sans-serif\" font-size=\"11\" lengthAdjust=\"spacingAndGlyphs\" textLength=\"90\" x=\"480\" y=\"166.2754\">String getName()</text><ellipse cx=\"471\" cy=\"176.5732\" fill=\"#84BE84\" rx=\"3\" ry=\"3\" style=\"stroke: #038048; stroke-width: 1.0;\"/><text fill=\"#000000\" font-family=\"sans-serif\" font-size=\"11\" lengthAdjust=\"spacingAndGlyphs\" textLength=\"86\" x=\"480\" y=\"179.2305\">String toString()</text><rect fill=\"#FEFECE\" filter=\"url(#f1)\" height=\"86.8652\" style=\"stroke: #A80036; stroke-width: 1.5;\" width=\"232\" x=\"429\" y=\"246\"/><ellipse cx=\"504.25\" cy=\"262\" fill=\"#ADD1B2\" rx=\"11\" ry=\"11\" style=\"stroke: #A80036; stroke-width: 1.0;\"/><path d=\"M507.2231,267.6431 Q506.6421,267.9419 506.0029,268.0913 Q505.3638,268.2407 504.6582,268.2407 Q502.1514,268.2407 500.8315,266.5889 Q499.5117,264.937 499.5117,261.8159 Q499.5117,258.6865 500.8315,257.0347 Q502.1514,255.3828 504.6582,255.3828 Q505.3638,255.3828 506.0112,255.5322 Q506.6587,255.6816 507.2231,255.9805 L507.2231,258.7031 Q506.5923,258.1221 505.9988,257.8523 Q505.4053,257.5825 504.7744,257.5825 Q503.4297,257.5825 502.7449,258.6492 Q502.0601,259.7158 502.0601,261.8159 Q502.0601,263.9077 502.7449,264.9744 Q503.4297,266.041 504.7744,266.041 Q505.4053,266.041 505.9988,265.7712 Q506.5923,265.5015 507.2231,264.9204 Z \"/><text fill=\"#000000\" font-family=\"sans-serif\" font-size=\"12\" lengthAdjust=\"spacingAndGlyphs\" textLength=\"73\" x=\"524.75\" y=\"266.5352\">CheesePizza</text><line style=\"stroke: #A80036; stroke-width: 1.5;\" x1=\"430\" x2=\"660\" y1=\"278\" y2=\"278\"/><text fill=\"#000000\" font-family=\"sans-serif\" font-size=\"11\" lengthAdjust=\"spacingAndGlyphs\" textLength=\"220\" x=\"435\" y=\"292.6348\">PizzaIngredientFactory ingredientFactory</text><line style=\"stroke: #A80036; stroke-width: 1.5;\" x1=\"430\" x2=\"660\" y1=\"298.9551\" y2=\"298.9551\"/><ellipse cx=\"440\" cy=\"310.9326\" fill=\"#84BE84\" rx=\"3\" ry=\"3\" style=\"stroke: #038048; stroke-width: 1.0;\"/><text fill=\"#000000\" font-family=\"sans-serif\" font-size=\"11\" lengthAdjust=\"spacingAndGlyphs\" textLength=\"196\" x=\"449\" y=\"313.5898\">CheesePizza(PizzaIngredientFactory)</text><text fill=\"#000000\" font-family=\"sans-serif\" font-size=\"11\" lengthAdjust=\"spacingAndGlyphs\" textLength=\"76\" x=\"449\" y=\"326.5449\">void prepare()</text><rect fill=\"#FEFECE\" filter=\"url(#f1)\" height=\"73.9102\" style=\"stroke: #A80036; stroke-width: 1.5;\" width=\"232\" x=\"94\" y=\"60\"/><ellipse cx=\"175.75\" cy=\"76\" fill=\"#A9DCDF\" rx=\"11\" ry=\"11\" style=\"stroke: #A80036; stroke-width: 1.0;\"/><path d=\"M175.8633,71.3481 L174.7095,76.4199 L177.0254,76.4199 Z M174.3691,69.1069 L177.3657,69.1069 L180.7109,81.5 L178.2622,81.5 L177.4985,78.437 L174.2197,78.437 L173.4727,81.5 L171.0239,81.5 Z \"/><text fill=\"#000000\" font-family=\"sans-serif\" font-size=\"12\" font-style=\"italic\" lengthAdjust=\"spacingAndGlyphs\" textLength=\"60\" x=\"196.25\" y=\"80.5352\">PizzaStore</text><line style=\"stroke: #A80036; stroke-width: 1.5;\" x1=\"95\" x2=\"325\" y1=\"92\" y2=\"92\"/><line style=\"stroke: #A80036; stroke-width: 1.5;\" x1=\"95\" x2=\"325\" y1=\"100\" y2=\"100\"/><polygon fill=\"#FFFF44\" points=\"105,106.9775,109,110.9775,105,114.9775,101,110.9775\" style=\"stroke: #B38D22; stroke-width: 1.0;\"/><text fill=\"#000000\" font-family=\"sans-serif\" font-size=\"11\" lengthAdjust=\"spacingAndGlyphs\" textLength=\"206\" x=\"114\" y=\"114.6348\">abstract Pizza createPizza(String item);</text><ellipse cx=\"105\" cy=\"124.9326\" fill=\"#84BE84\" rx=\"3\" ry=\"3\" style=\"stroke: #038048; stroke-width: 1.0;\"/><text fill=\"#000000\" font-family=\"sans-serif\" font-size=\"11\" lengthAdjust=\"spacingAndGlyphs\" textLength=\"153\" x=\"114\" y=\"127.5898\">Pizza orderPizza(String type)</text><rect fill=\"#FEFECE\" filter=\"url(#f1)\" height=\"60.9551\" style=\"stroke: #A80036; stroke-width: 1.5;\" width=\"156\" x=\"238\" y=\"259\"/><ellipse cx=\"261.55\" cy=\"275\" fill=\"#ADD1B2\" rx=\"11\" ry=\"11\" style=\"stroke: #A80036; stroke-width: 1.0;\"/><path d=\"M264.5231,280.6431 Q263.9421,280.9419 263.3029,281.0913 Q262.6638,281.2407 261.9582,281.2407 Q259.4514,281.2407 258.1315,279.5889 Q256.8117,277.937 256.8117,274.8159 Q256.8117,271.6865 258.1315,270.0347 Q259.4514,268.3828 261.9582,268.3828 Q262.6638,268.3828 263.3112,268.5322 Q263.9587,268.6816 264.5231,268.9805 L264.5231,271.7031 Q263.8923,271.1221 263.2988,270.8523 Q262.7053,270.5825 262.0744,270.5825 Q260.7297,270.5825 260.0449,271.6492 Q259.3601,272.7158 259.3601,274.8159 Q259.3601,276.9077 260.0449,277.9744 Q260.7297,279.041 262.0744,279.041 Q262.7053,279.041 263.2988,278.7712 Q263.8923,278.5015 264.5231,277.9204 Z \"/><text fill=\"#000000\" font-family=\"sans-serif\" font-size=\"12\" lengthAdjust=\"spacingAndGlyphs\" textLength=\"105\" x=\"277.45\" y=\"279.5352\">ChicagoPizzaStore</text><line style=\"stroke: #A80036; stroke-width: 1.5;\" x1=\"239\" x2=\"393\" y1=\"291\" y2=\"291\"/><line style=\"stroke: #A80036; stroke-width: 1.5;\" x1=\"239\" x2=\"393\" y1=\"299\" y2=\"299\"/><polygon fill=\"#FFFF44\" points=\"249,305.9775,253,309.9775,249,313.9775,245,309.9775\" style=\"stroke: #B38D22; stroke-width: 1.0;\"/><text fill=\"#000000\" font-family=\"sans-serif\" font-size=\"11\" lengthAdjust=\"spacingAndGlyphs\" textLength=\"130\" x=\"258\" y=\"313.6348\">Pizza createPizza(String)</text><rect fill=\"#FEFECE\" filter=\"url(#f1)\" height=\"60.9551\" style=\"stroke: #A80036; stroke-width: 1.5;\" width=\"182\" x=\"21\" y=\"259\"/><ellipse cx=\"69.75\" cy=\"275\" fill=\"#ADD1B2\" rx=\"11\" ry=\"11\" style=\"stroke: #A80036; stroke-width: 1.0;\"/><path d=\"M72.7231,280.6431 Q72.1421,280.9419 71.5029,281.0913 Q70.8638,281.2407 70.1582,281.2407 Q67.6514,281.2407 66.3315,279.5889 Q65.0117,277.937 65.0117,274.8159 Q65.0117,271.6865 66.3315,270.0347 Q67.6514,268.3828 70.1582,268.3828 Q70.8638,268.3828 71.5112,268.5322 Q72.1587,268.6816 72.7231,268.9805 L72.7231,271.7031 Q72.0923,271.1221 71.4988,270.8523 Q70.9053,270.5825 70.2744,270.5825 Q68.9297,270.5825 68.2449,271.6492 Q67.5601,272.7158 67.5601,274.8159 Q67.5601,276.9077 68.2449,277.9744 Q68.9297,279.041 70.2744,279.041 Q70.9053,279.041 71.4988,278.7712 Q72.0923,278.5015 72.7231,277.9204 Z \"/><text fill=\"#000000\" font-family=\"sans-serif\" font-size=\"12\" lengthAdjust=\"spacingAndGlyphs\" textLength=\"76\" x=\"90.25\" y=\"279.5352\">NYPizzaStore</text><line style=\"stroke: #A80036; stroke-width: 1.5;\" x1=\"22\" x2=\"202\" y1=\"291\" y2=\"291\"/><line style=\"stroke: #A80036; stroke-width: 1.5;\" x1=\"22\" x2=\"202\" y1=\"299\" y2=\"299\"/><polygon fill=\"#FFFF44\" points=\"32,305.9775,36,309.9775,32,313.9775,28,309.9775\" style=\"stroke: #B38D22; stroke-width: 1.0;\"/><text fill=\"#000000\" font-family=\"sans-serif\" font-size=\"11\" lengthAdjust=\"spacingAndGlyphs\" textLength=\"156\" x=\"41\" y=\"313.6348\">Pizza createPizza(String item)</text><rect fill=\"#FEFECE\" filter=\"url(#f1)\" height=\"73.9102\" style=\"stroke: #A80036; stroke-width: 1.5;\" width=\"162\" x=\"235\" y=\"393\"/><ellipse cx=\"250\" cy=\"409\" fill=\"#B4A7E5\" rx=\"11\" ry=\"11\" style=\"stroke: #A80036; stroke-width: 1.0;\"/><path d=\"M245.9277,404.7651 L245.9277,402.6069 L253.3071,402.6069 L253.3071,404.7651 L250.8418,404.7651 L250.8418,412.8418 L253.3071,412.8418 L253.3071,415 L245.9277,415 L245.9277,412.8418 L248.3931,412.8418 L248.3931,404.7651 Z \"/><text fill=\"#000000\" font-family=\"sans-serif\" font-size=\"12\" font-style=\"italic\" lengthAdjust=\"spacingAndGlyphs\" textLength=\"130\" x=\"264\" y=\"413.5352\">PizzaIngredientFactory</text><line style=\"stroke: #A80036; stroke-width: 1.5;\" x1=\"236\" x2=\"396\" y1=\"425\" y2=\"425\"/><line style=\"stroke: #A80036; stroke-width: 1.5;\" x1=\"236\" x2=\"396\" y1=\"433\" y2=\"433\"/><ellipse cx=\"246\" cy=\"444.9775\" fill=\"#84BE84\" rx=\"3\" ry=\"3\" style=\"stroke: #038048; stroke-width: 1.0;\"/><text fill=\"#000000\" font-family=\"sans-serif\" font-size=\"11\" lengthAdjust=\"spacingAndGlyphs\" textLength=\"116\" x=\"255\" y=\"447.6348\">Dough createDough()</text><ellipse cx=\"246\" cy=\"457.9326\" fill=\"#84BE84\" rx=\"3\" ry=\"3\" style=\"stroke: #038048; stroke-width: 1.0;\"/><text fill=\"#000000\" font-family=\"sans-serif\" font-size=\"11\" lengthAdjust=\"spacingAndGlyphs\" textLength=\"122\" x=\"255\" y=\"460.5898\">Cheese createCheese()</text><rect fill=\"#FEFECE\" filter=\"url(#f1)\" height=\"54.2656\" style=\"stroke: #A80036; stroke-width: 1.5;\" width=\"131\" x=\"167.5\" y=\"527\"/><ellipse cx=\"182.5\" cy=\"546.1328\" fill=\"#ADD1B2\" rx=\"11\" ry=\"11\" style=\"stroke: #A80036; stroke-width: 1.0;\"/><path d=\"M185.4731,551.7759 Q184.8921,552.0747 184.2529,552.2241 Q183.6138,552.3735 182.9082,552.3735 Q180.4014,552.3735 179.0815,550.7217 Q177.7617,549.0698 177.7617,545.9487 Q177.7617,542.8193 179.0815,541.1675 Q180.4014,539.5156 182.9082,539.5156 Q183.6138,539.5156 184.2612,539.665 Q184.9087,539.8145 185.4731,540.1133 L185.4731,542.8359 Q184.8423,542.2549 184.2488,541.9851 Q183.6553,541.7153 183.0244,541.7153 Q181.6797,541.7153 180.9949,542.782 Q180.3101,543.8486 180.3101,545.9487 Q180.3101,548.0405 180.9949,549.1072 Q181.6797,550.1738 183.0244,550.1738 Q183.6553,550.1738 184.2488,549.9041 Q184.8423,549.6343 185.4731,549.0532 Z \"/><text fill=\"#000000\" font-family=\"sans-serif\" font-size=\"12\" lengthAdjust=\"spacingAndGlyphs\" textLength=\"76\" x=\"208\" y=\"543.6016\">ChicagoPizza</text><text fill=\"#000000\" font-family=\"sans-serif\" font-size=\"12\" lengthAdjust=\"spacingAndGlyphs\" textLength=\"99\" x=\"196.5\" y=\"557.7344\">IngredientFactory</text><line style=\"stroke: #A80036; stroke-width: 1.5;\" x1=\"168.5\" x2=\"297.5\" y1=\"565.2656\" y2=\"565.2656\"/><line style=\"stroke: #A80036; stroke-width: 1.5;\" x1=\"168.5\" x2=\"297.5\" y1=\"573.2656\" y2=\"573.2656\"/><rect fill=\"#FEFECE\" filter=\"url(#f1)\" height=\"54.2656\" style=\"stroke: #A80036; stroke-width: 1.5;\" width=\"131\" x=\"333.5\" y=\"527\"/><ellipse cx=\"348.5\" cy=\"546.1328\" fill=\"#ADD1B2\" rx=\"11\" ry=\"11\" style=\"stroke: #A80036; stroke-width: 1.0;\"/><path d=\"M351.4731,551.7759 Q350.8921,552.0747 350.2529,552.2241 Q349.6138,552.3735 348.9082,552.3735 Q346.4014,552.3735 345.0815,550.7217 Q343.7617,549.0698 343.7617,545.9487 Q343.7617,542.8193 345.0815,541.1675 Q346.4014,539.5156 348.9082,539.5156 Q349.6138,539.5156 350.2612,539.665 Q350.9087,539.8145 351.4731,540.1133 L351.4731,542.8359 Q350.8423,542.2549 350.2488,541.9851 Q349.6553,541.7153 349.0244,541.7153 Q347.6797,541.7153 346.9949,542.782 Q346.3101,543.8486 346.3101,545.9487 Q346.3101,548.0405 346.9949,549.1072 Q347.6797,550.1738 349.0244,550.1738 Q349.6553,550.1738 350.2488,549.9041 Q350.8423,549.6343 351.4731,549.0532 Z \"/><text fill=\"#000000\" font-family=\"sans-serif\" font-size=\"12\" lengthAdjust=\"spacingAndGlyphs\" textLength=\"47\" x=\"388.5\" y=\"543.6016\">NYPizza</text><text fill=\"#000000\" font-family=\"sans-serif\" font-size=\"12\" lengthAdjust=\"spacingAndGlyphs\" textLength=\"99\" x=\"362.5\" y=\"557.7344\">IngredientFactory</text><line style=\"stroke: #A80036; stroke-width: 1.5;\" x1=\"334.5\" x2=\"463.5\" y1=\"565.2656\" y2=\"565.2656\"/><line style=\"stroke: #A80036; stroke-width: 1.5;\" x1=\"334.5\" x2=\"463.5\" y1=\"573.2656\" y2=\"573.2656\"/><rect fill=\"#FEFECE\" filter=\"url(#f1)\" height=\"60.9551\" style=\"stroke: #A80036; stroke-width: 1.5;\" width=\"115\" x=\"175.5\" y=\"641\"/><ellipse cx=\"211.2\" cy=\"657\" fill=\"#B4A7E5\" rx=\"11\" ry=\"11\" style=\"stroke: #A80036; stroke-width: 1.0;\"/><path d=\"M207.1277,652.7651 L207.1277,650.6069 L214.5071,650.6069 L214.5071,652.7651 L212.0418,652.7651 L212.0418,660.8418 L214.5071,660.8418 L214.5071,663 L207.1277,663 L207.1277,660.8418 L209.5931,660.8418 L209.5931,652.7651 Z \"/><text fill=\"#000000\" font-family=\"sans-serif\" font-size=\"12\" font-style=\"italic\" lengthAdjust=\"spacingAndGlyphs\" textLength=\"37\" x=\"229.8\" y=\"661.5352\">Dough</text><line style=\"stroke: #A80036; stroke-width: 1.5;\" x1=\"176.5\" x2=\"289.5\" y1=\"673\" y2=\"673\"/><line style=\"stroke: #A80036; stroke-width: 1.5;\" x1=\"176.5\" x2=\"289.5\" y1=\"681\" y2=\"681\"/><ellipse cx=\"186.5\" cy=\"692.9775\" fill=\"#84BE84\" rx=\"3\" ry=\"3\" style=\"stroke: #038048; stroke-width: 1.0;\"/><text fill=\"#000000\" font-family=\"sans-serif\" font-size=\"11\" lengthAdjust=\"spacingAndGlyphs\" textLength=\"89\" x=\"195.5\" y=\"695.6348\">String toString();</text><rect fill=\"#FEFECE\" filter=\"url(#f1)\" height=\"60.9551\" style=\"stroke: #A80036; stroke-width: 1.5;\" width=\"112\" x=\"343\" y=\"641\"/><ellipse cx=\"375.1\" cy=\"657\" fill=\"#B4A7E5\" rx=\"11\" ry=\"11\" style=\"stroke: #A80036; stroke-width: 1.0;\"/><path d=\"M371.0277,652.7651 L371.0277,650.6069 L378.4071,650.6069 L378.4071,652.7651 L375.9418,652.7651 L375.9418,660.8418 L378.4071,660.8418 L378.4071,663 L371.0277,663 L371.0277,660.8418 L373.4931,660.8418 L373.4931,652.7651 Z \"/><text fill=\"#000000\" font-family=\"sans-serif\" font-size=\"12\" font-style=\"italic\" lengthAdjust=\"spacingAndGlyphs\" textLength=\"42\" x=\"392.9\" y=\"661.5352\">Cheese</text><line style=\"stroke: #A80036; stroke-width: 1.5;\" x1=\"344\" x2=\"454\" y1=\"673\" y2=\"673\"/><line style=\"stroke: #A80036; stroke-width: 1.5;\" x1=\"344\" x2=\"454\" y1=\"681\" y2=\"681\"/><ellipse cx=\"354\" cy=\"692.9775\" fill=\"#84BE84\" rx=\"3\" ry=\"3\" style=\"stroke: #038048; stroke-width: 1.0;\"/><text fill=\"#000000\" font-family=\"sans-serif\" font-size=\"11\" lengthAdjust=\"spacingAndGlyphs\" textLength=\"86\" x=\"363\" y=\"695.6348\">toString():String</text><rect fill=\"#FEFECE\" filter=\"url(#f1)\" height=\"48\" style=\"stroke: #A80036; stroke-width: 1.5;\" width=\"137\" x=\"330.5\" y=\"762\"/><ellipse cx=\"345.5\" cy=\"778\" fill=\"#ADD1B2\" rx=\"11\" ry=\"11\" style=\"stroke: #A80036; stroke-width: 1.0;\"/><path d=\"M348.4731,783.6431 Q347.8921,783.9419 347.2529,784.0913 Q346.6138,784.2407 345.9082,784.2407 Q343.4014,784.2407 342.0815,782.5889 Q340.7617,780.937 340.7617,777.8159 Q340.7617,774.6865 342.0815,773.0347 Q343.4014,771.3828 345.9082,771.3828 Q346.6138,771.3828 347.2612,771.5322 Q347.9087,771.6816 348.4731,771.9805 L348.4731,774.7031 Q347.8423,774.1221 347.2488,773.8523 Q346.6553,773.5825 346.0244,773.5825 Q344.6797,773.5825 343.9949,774.6492 Q343.3101,775.7158 343.3101,777.8159 Q343.3101,779.9077 343.9949,780.9744 Q344.6797,782.041 346.0244,782.041 Q346.6553,782.041 347.2488,781.7712 Q347.8423,781.5015 348.4731,780.9204 Z \"/><text fill=\"#000000\" font-family=\"sans-serif\" font-size=\"12\" lengthAdjust=\"spacingAndGlyphs\" textLength=\"105\" x=\"359.5\" y=\"782.5352\">MozzarellaCheese</text><line style=\"stroke: #A80036; stroke-width: 1.5;\" x1=\"331.5\" x2=\"466.5\" y1=\"794\" y2=\"794\"/><line style=\"stroke: #A80036; stroke-width: 1.5;\" x1=\"331.5\" x2=\"466.5\" y1=\"802\" y2=\"802\"/><rect fill=\"#FEFECE\" filter=\"url(#f1)\" height=\"48\" style=\"stroke: #A80036; stroke-width: 1.5;\" width=\"127\" x=\"502.5\" y=\"762\"/><ellipse cx=\"517.5\" cy=\"778\" fill=\"#ADD1B2\" rx=\"11\" ry=\"11\" style=\"stroke: #A80036; stroke-width: 1.0;\"/><path d=\"M520.4731,783.6431 Q519.8921,783.9419 519.2529,784.0913 Q518.6138,784.2407 517.9082,784.2407 Q515.4014,784.2407 514.0815,782.5889 Q512.7617,780.937 512.7617,777.8159 Q512.7617,774.6865 514.0815,773.0347 Q515.4014,771.3828 517.9082,771.3828 Q518.6138,771.3828 519.2612,771.5322 Q519.9087,771.6816 520.4731,771.9805 L520.4731,774.7031 Q519.8423,774.1221 519.2488,773.8523 Q518.6553,773.5825 518.0244,773.5825 Q516.6797,773.5825 515.9949,774.6492 Q515.3101,775.7158 515.3101,777.8159 Q515.3101,779.9077 515.9949,780.9744 Q516.6797,782.041 518.0244,782.041 Q518.6553,782.041 519.2488,781.7712 Q519.8423,781.5015 520.4731,780.9204 Z \"/><text fill=\"#000000\" font-family=\"sans-serif\" font-size=\"12\" lengthAdjust=\"spacingAndGlyphs\" textLength=\"95\" x=\"531.5\" y=\"782.5352\">ReggianoCheese</text><line style=\"stroke: #A80036; stroke-width: 1.5;\" x1=\"503.5\" x2=\"628.5\" y1=\"794\" y2=\"794\"/><line style=\"stroke: #A80036; stroke-width: 1.5;\" x1=\"503.5\" x2=\"628.5\" y1=\"802\" y2=\"802\"/><rect fill=\"#FEFECE\" filter=\"url(#f1)\" height=\"48\" style=\"stroke: #A80036; stroke-width: 1.5;\" width=\"130\" x=\"6\" y=\"762\"/><ellipse cx=\"21\" cy=\"778\" fill=\"#ADD1B2\" rx=\"11\" ry=\"11\" style=\"stroke: #A80036; stroke-width: 1.0;\"/><path d=\"M23.9731,783.6431 Q23.3921,783.9419 22.7529,784.0913 Q22.1138,784.2407 21.4082,784.2407 Q18.9014,784.2407 17.5815,782.5889 Q16.2617,780.937 16.2617,777.8159 Q16.2617,774.6865 17.5815,773.0347 Q18.9014,771.3828 21.4082,771.3828 Q22.1138,771.3828 22.7612,771.5322 Q23.4087,771.6816 23.9731,771.9805 L23.9731,774.7031 Q23.3423,774.1221 22.7488,773.8523 Q22.1553,773.5825 21.5244,773.5825 Q20.1797,773.5825 19.4949,774.6492 Q18.8101,775.7158 18.8101,777.8159 Q18.8101,779.9077 19.4949,780.9744 Q20.1797,782.041 21.5244,782.041 Q22.1553,782.041 22.7488,781.7712 Q23.3423,781.5015 23.9731,780.9204 Z \"/><text fill=\"#000000\" font-family=\"sans-serif\" font-size=\"12\" lengthAdjust=\"spacingAndGlyphs\" textLength=\"98\" x=\"35\" y=\"782.5352\">ThickCrustDough</text><line style=\"stroke: #A80036; stroke-width: 1.5;\" x1=\"7\" x2=\"135\" y1=\"794\" y2=\"794\"/><line style=\"stroke: #A80036; stroke-width: 1.5;\" x1=\"7\" x2=\"135\" y1=\"802\" y2=\"802\"/><rect fill=\"#FEFECE\" filter=\"url(#f1)\" height=\"48\" style=\"stroke: #A80036; stroke-width: 1.5;\" width=\"124\" x=\"171\" y=\"762\"/><ellipse cx=\"186\" cy=\"778\" fill=\"#ADD1B2\" rx=\"11\" ry=\"11\" style=\"stroke: #A80036; stroke-width: 1.0;\"/><path d=\"M188.9731,783.6431 Q188.3921,783.9419 187.7529,784.0913 Q187.1138,784.2407 186.4082,784.2407 Q183.9014,784.2407 182.5815,782.5889 Q181.2617,780.937 181.2617,777.8159 Q181.2617,774.6865 182.5815,773.0347 Q183.9014,771.3828 186.4082,771.3828 Q187.1138,771.3828 187.7612,771.5322 Q188.4087,771.6816 188.9731,771.9805 L188.9731,774.7031 Q188.3423,774.1221 187.7488,773.8523 Q187.1553,773.5825 186.5244,773.5825 Q185.1797,773.5825 184.4949,774.6492 Q183.8101,775.7158 183.8101,777.8159 Q183.8101,779.9077 184.4949,780.9744 Q185.1797,782.041 186.5244,782.041 Q187.1553,782.041 187.7488,781.7712 Q188.3423,781.5015 188.9731,780.9204 Z \"/><text fill=\"#000000\" font-family=\"sans-serif\" font-size=\"12\" lengthAdjust=\"spacingAndGlyphs\" textLength=\"92\" x=\"200\" y=\"782.5352\">ThinCrustDough</text><line style=\"stroke: #A80036; stroke-width: 1.5;\" x1=\"172\" x2=\"294\" y1=\"794\" y2=\"794\"/><line style=\"stroke: #A80036; stroke-width: 1.5;\" x1=\"172\" x2=\"294\" y1=\"802\" y2=\"802\"/><path d=\"M545,206.06 C545,220.161 545,233.882 545,245.954 \" fill=\"none\" style=\"stroke: #A80036; stroke-width: 1.0;\"/><polygon fill=\"none\" points=\"538,206.001,545,186.001,552,206.001,538,206.001\" style=\"stroke: #A80036; stroke-width: 1.0;\"/><path d=\"M240.03,151.969 C259.337,186.667 283.686,230.427 299.539,258.916 \" fill=\"none\" style=\"stroke: #A80036; stroke-width: 1.0;\"/><polygon fill=\"none\" points=\"233.795,155.16,230.187,134.28,246.029,148.353,233.795,155.16\" style=\"stroke: #A80036; stroke-width: 1.0;\"/><path d=\"M181.989,152.449 C164.179,187.07 141.807,230.558 127.219,258.916 \" fill=\"none\" style=\"stroke: #A80036; stroke-width: 1.0;\"/><polygon fill=\"none\" points=\"175.963,148.862,191.336,134.28,188.412,155.267,175.963,148.862\" style=\"stroke: #A80036; stroke-width: 1.0;\"/><path d=\"M155.513,320.042 C185.526,340.418 225.743,367.722 258.409,389.9 \" fill=\"none\" style=\"stroke: #A80036; stroke-width: 1.0; stroke-dasharray: 7.0,7.0;\"/><polygon fill=\"#A80036\" points=\"262.761,392.855,257.5614,384.4905,258.6242,390.0467,253.0681,391.1094,262.761,392.855\" style=\"stroke: #A80036; stroke-width: 1.0;\"/><path d=\"M316,320.212 C316,339.932 316,366.087 316,387.808 \" fill=\"none\" style=\"stroke: #A80036; stroke-width: 1.0; stroke-dasharray: 7.0,7.0;\"/><polygon fill=\"#A80036\" points=\"316,392.941,320,383.941,316,387.941,312,383.941,316,392.941\" style=\"stroke: #A80036; stroke-width: 1.0;\"/><path d=\"M151.632,258.906 C175.178,242.693 206.429,224.429 237.5,216 C304.415,197.847 325.927,200.474 393.5,216 C418.608,221.769 444.383,232.276 467.39,243.575 \" fill=\"none\" style=\"stroke: #A80036; stroke-width: 1.0; stroke-dasharray: 7.0,7.0;\"/><polygon fill=\"#A80036\" points=\"471.953,245.845,465.6745,238.2568,467.4757,243.6192,462.1133,245.4204,471.953,245.845\" style=\"stroke: #A80036; stroke-width: 1.0;\"/><path d=\"M474.424,333.185 C444.237,351.442 409.249,372.603 379.844,390.387 \" fill=\"none\" style=\"stroke: #A80036; stroke-width: 1.0;\"/><polygon fill=\"#A80036\" points=\"375.547,392.986,385.3182,391.752,379.8256,390.3988,381.1788,384.9062,375.547,392.986\" style=\"stroke: #A80036; stroke-width: 1.0;\"/><path d=\"M279.871,484.106 C269.826,498.87 259.354,514.263 250.863,526.744 \" fill=\"none\" style=\"stroke: #A80036; stroke-width: 1.0; stroke-dasharray: 7.0,7.0;\"/><polygon fill=\"none\" points=\"274.284,479.872,291.322,467.274,285.86,487.747,274.284,479.872\" style=\"stroke: #A80036; stroke-width: 1.0;\"/><path d=\"M352.129,484.106 C362.174,498.87 372.646,514.263 381.137,526.744 \" fill=\"none\" style=\"stroke: #A80036; stroke-width: 1.0; stroke-dasharray: 7.0,7.0;\"/><polygon fill=\"none\" points=\"346.14,487.747,340.678,467.274,357.716,479.872,346.14,487.747\" style=\"stroke: #A80036; stroke-width: 1.0;\"/><path d=\"M361.332,581.209 C337.188,598.008 305.662,619.943 279.899,637.868 \" fill=\"none\" style=\"stroke: #A80036; stroke-width: 1.0; stroke-dasharray: 7.0,7.0;\"/><polygon fill=\"#A80036\" points=\"275.488,640.937,285.1602,639.0802,279.5923,638.0813,280.5911,632.5133,275.488,640.937\" style=\"stroke: #A80036; stroke-width: 1.0;\"/><path d=\"M399,581.209 C399,597.253 399,617.983 399,635.43 \" fill=\"none\" style=\"stroke: #A80036; stroke-width: 1.0; stroke-dasharray: 7.0,7.0;\"/><polygon fill=\"#A80036\" points=\"399,640.73,403,631.73,399,635.73,395,631.73,399,640.73\" style=\"stroke: #A80036; stroke-width: 1.0;\"/><path d=\"M233,581.209 C233,597.253 233,617.983 233,635.43 \" fill=\"none\" style=\"stroke: #A80036; stroke-width: 1.0; stroke-dasharray: 7.0,7.0;\"/><polygon fill=\"#A80036\" points=\"233,640.73,237,631.73,233,635.73,229,631.73,233,640.73\" style=\"stroke: #A80036; stroke-width: 1.0;\"/><path d=\"M270.668,581.209 C294.812,598.008 326.338,619.943 352.101,637.868 \" fill=\"none\" style=\"stroke: #A80036; stroke-width: 1.0; stroke-dasharray: 7.0,7.0;\"/><polygon fill=\"#A80036\" points=\"356.512,640.937,351.4089,632.5133,352.4077,638.0813,346.8398,639.0802,356.512,640.937\" style=\"stroke: #A80036; stroke-width: 1.0;\"/><path d=\"M399,722.1067 C399,735.8764 399,750.1847 399,761.6686 \" fill=\"none\" style=\"stroke: #A80036; stroke-width: 1.0; stroke-dasharray: 7.0,7.0;\"/><polygon fill=\"none\" points=\"392,722.0581,399,702.058,406,722.058,392,722.0581\" style=\"stroke: #A80036; stroke-width: 1.0;\"/><path d=\"M459.517,713.2676 C483.784,729.6148 510.859,747.854 531.635,761.8498 \" fill=\"none\" style=\"stroke: #A80036; stroke-width: 1.0; stroke-dasharray: 7.0,7.0;\"/><polygon fill=\"none\" points=\"455.554,719.0378,442.877,702.058,463.376,707.427,455.554,719.0378\" style=\"stroke: #A80036; stroke-width: 1.0;\"/><path d=\"M173.953,713.5046 C150.501,729.791 124.393,747.9216 104.3364,761.8498 \" fill=\"none\" style=\"stroke: #A80036; stroke-width: 1.0; stroke-dasharray: 7.0,7.0;\"/><polygon fill=\"none\" points=\"170.016,707.716,190.436,702.058,178.002,719.2156,170.016,707.716\" style=\"stroke: #A80036; stroke-width: 1.0;\"/><path d=\"M233,722.1067 C233,735.8764 233,750.1847 233,761.6686 \" fill=\"none\" style=\"stroke: #A80036; stroke-width: 1.0; stroke-dasharray: 7.0,7.0;\"/><polygon fill=\"none\" points=\"226,722.0581,233,702.058,240,722.058,226,722.0581\" style=\"stroke: #A80036; stroke-width: 1.0;\"/></g></svg>"
      ],
      "text/plain": [
       "<IPython.core.display.SVG object>"
      ]
     },
     "execution_count": 18,
     "metadata": {},
     "output_type": "execute_result"
    }
   ],
   "source": [
    "%%plantuml\n",
    "@startuml\n",
    "\n",
    "abstract class Pizza {\n",
    "    String name; \n",
    "    Dough dough;\n",
    "    Cheese cheese;\n",
    "\n",
    "    abstract void prepare();\n",
    "    void bake()\n",
    "    void cut()\n",
    "    void box()\n",
    "    void setName(String name)\n",
    "    String getName()\n",
    "    +String toString()\n",
    "}\n",
    "\n",
    "class CheesePizza {\n",
    "    PizzaIngredientFactory ingredientFactory\n",
    "    +CheesePizza(PizzaIngredientFactory)\n",
    "    void prepare()\n",
    "}\n",
    "\n",
    "Pizza <|-- CheesePizza\n",
    "\n",
    "abstract class PizzaStore {\n",
    "    #abstract Pizza createPizza(String item);\n",
    "    +Pizza orderPizza(String type)\n",
    "}   \n",
    "class ChicagoPizzaStore {\n",
    "    #Pizza createPizza(String)\n",
    "}\n",
    "class NYPizzaStore {\n",
    "    #Pizza createPizza(String item)\n",
    "}\n",
    "\n",
    "PizzaStore <|-- ChicagoPizzaStore\n",
    "PizzaStore <|-- NYPizzaStore\n",
    "NYPizzaStore ..> PizzaIngredientFactory\n",
    "ChicagoPizzaStore ..> PizzaIngredientFactory\n",
    "NYPizzaStore .right.> CheesePizza\n",
    "CheesePizza --> PizzaIngredientFactory \n",
    "\n",
    "interface PizzaIngredientFactory {\n",
    "    +Dough createDough()\n",
    "    +Cheese createCheese()\n",
    "}\n",
    "PizzaIngredientFactory <|.. \"ChicagoPizza\\nIngredientFactory\"\n",
    "PizzaIngredientFactory <|.. \"NYPizza\\nIngredientFactory\"\n",
    "\"NYPizza\\nIngredientFactory\" ..> Dough\n",
    "\"NYPizza\\nIngredientFactory\" ..> Cheese\n",
    "\"ChicagoPizza\\nIngredientFactory\" ..> Dough\n",
    "\"ChicagoPizza\\nIngredientFactory\" ..> Cheese\n",
    "\n",
    "interface Cheese {\n",
    "    +toString():String\n",
    "}\n",
    "interface Dough {\n",
    "    +String toString();\n",
    "}\n",
    "Cheese <|.. MozzarellaCheese\n",
    "Cheese <|.. ReggianoCheese\n",
    "Dough <|.. ThickCrustDough\n",
    "Dough <|.. ThinCrustDough\n",
    "@enduml"
   ]
  },
  {
   "cell_type": "code",
   "execution_count": 33,
   "metadata": {
    "collapsed": false,
    "slideshow": {
     "slide_type": "slide"
    }
   },
   "outputs": [
    {
     "data": {
      "image/svg+xml": [
       "<svg height=\"527px\" style=\"width:852px;height:527px;\" version=\"1.1\" viewBox=\"0 0 852 527\" width=\"852px\" xmlns=\"http://www.w3.org/2000/svg\" xmlns:xlink=\"http://www.w3.org/1999/xlink\"><defs><filter height=\"300%\" id=\"f1\" width=\"300%\" x=\"-1\" y=\"-1\"><feGaussianBlur result=\"blurOut\" stdDeviation=\"2.0\"/><feColorMatrix in=\"blurOut\" result=\"blurOut2\" type=\"matrix\" values=\"0 0 0 0 0 0 0 0 0 0 0 0 0 0 0 0 0 0 .4 0\"/><feOffset dx=\"4.0\" dy=\"4.0\" in=\"blurOut2\" result=\"blurOut3\"/><feBlend in=\"SourceGraphic\" in2=\"blurOut3\" mode=\"normal\"/></filter></defs><g><rect fill=\"#FFFFFF\" filter=\"url(#f1)\" height=\"383.9922\" style=\"stroke: #000000; stroke-width: 2.0;\" width=\"830\" x=\"13\" y=\"71.9766\"/><rect fill=\"#FFFFFF\" height=\"190.8184\" style=\"stroke: none; stroke-width: 1.0;\" width=\"830\" x=\"13\" y=\"265.1504\"/><line style=\"stroke: #A80036; stroke-width: 1.0; stroke-dasharray: 5.0,5.0;\" x1=\"52\" x2=\"52\" y1=\"54.9766\" y2=\"472.9688\"/><line style=\"stroke: #A80036; stroke-width: 1.0; stroke-dasharray: 5.0,5.0;\" x1=\"157\" x2=\"157\" y1=\"54.9766\" y2=\"472.9688\"/><line style=\"stroke: #A80036; stroke-width: 1.0; stroke-dasharray: 5.0,5.0;\" x1=\"266\" x2=\"266\" y1=\"54.9766\" y2=\"472.9688\"/><line style=\"stroke: #A80036; stroke-width: 1.0; stroke-dasharray: 5.0,5.0;\" x1=\"400\" x2=\"400\" y1=\"54.9766\" y2=\"472.9688\"/><line style=\"stroke: #A80036; stroke-width: 1.0; stroke-dasharray: 5.0,5.0;\" x1=\"532\" x2=\"532\" y1=\"54.9766\" y2=\"472.9688\"/><line style=\"stroke: #A80036; stroke-width: 1.0; stroke-dasharray: 5.0,5.0;\" x1=\"639\" x2=\"639\" y1=\"54.9766\" y2=\"472.9688\"/><line style=\"stroke: #A80036; stroke-width: 1.0; stroke-dasharray: 5.0,5.0;\" x1=\"763\" x2=\"763\" y1=\"54.9766\" y2=\"472.9688\"/><rect fill=\"#FEFECE\" filter=\"url(#f1)\" height=\"30.4883\" style=\"stroke: #A80036; stroke-width: 1.5;\" width=\"54\" x=\"23\" y=\"19.4883\"/><text fill=\"#000000\" font-family=\"sans-serif\" font-size=\"14\" lengthAdjust=\"spacingAndGlyphs\" textLength=\"40\" x=\"30\" y=\"40.0234\">Client</text><rect fill=\"#FEFECE\" filter=\"url(#f1)\" height=\"30.4883\" style=\"stroke: #A80036; stroke-width: 1.5;\" width=\"54\" x=\"23\" y=\"471.9688\"/><text fill=\"#000000\" font-family=\"sans-serif\" font-size=\"14\" lengthAdjust=\"spacingAndGlyphs\" textLength=\"40\" x=\"30\" y=\"492.5039\">Client</text><rect fill=\"#FEFECE\" filter=\"url(#f1)\" height=\"30.4883\" style=\"stroke: #A80036; stroke-width: 1.5;\" width=\"86\" x=\"112\" y=\"19.4883\"/><text fill=\"#000000\" font-family=\"sans-serif\" font-size=\"14\" lengthAdjust=\"spacingAndGlyphs\" textLength=\"72\" x=\"119\" y=\"40.0234\">PizzaStore</text><rect fill=\"#FEFECE\" filter=\"url(#f1)\" height=\"30.4883\" style=\"stroke: #A80036; stroke-width: 1.5;\" width=\"86\" x=\"112\" y=\"471.9688\"/><text fill=\"#000000\" font-family=\"sans-serif\" font-size=\"14\" lengthAdjust=\"spacingAndGlyphs\" textLength=\"72\" x=\"119\" y=\"492.5039\">PizzaStore</text><rect fill=\"#FEFECE\" filter=\"url(#f1)\" height=\"30.4883\" style=\"stroke: #A80036; stroke-width: 1.5;\" width=\"105\" x=\"212\" y=\"19.4883\"/><text fill=\"#000000\" font-family=\"sans-serif\" font-size=\"14\" lengthAdjust=\"spacingAndGlyphs\" textLength=\"91\" x=\"219\" y=\"40.0234\">NYPizzaStore</text><rect fill=\"#FEFECE\" filter=\"url(#f1)\" height=\"30.4883\" style=\"stroke: #A80036; stroke-width: 1.5;\" width=\"105\" x=\"212\" y=\"471.9688\"/><text fill=\"#000000\" font-family=\"sans-serif\" font-size=\"14\" lengthAdjust=\"spacingAndGlyphs\" textLength=\"91\" x=\"219\" y=\"492.5039\">NYPizzaStore</text><rect fill=\"#FEFECE\" filter=\"url(#f1)\" height=\"46.9766\" style=\"stroke: #A80036; stroke-width: 1.5;\" width=\"135\" x=\"331\" y=\"3\"/><text fill=\"#000000\" font-family=\"sans-serif\" font-size=\"14\" lengthAdjust=\"spacingAndGlyphs\" textLength=\"55\" x=\"371\" y=\"23.5352\">NYPizza</text><text fill=\"#000000\" font-family=\"sans-serif\" font-size=\"14\" lengthAdjust=\"spacingAndGlyphs\" textLength=\"121\" x=\"338\" y=\"40.0234\">IngredientFactory</text><rect fill=\"#FEFECE\" filter=\"url(#f1)\" height=\"46.9766\" style=\"stroke: #A80036; stroke-width: 1.5;\" width=\"135\" x=\"331\" y=\"471.9688\"/><text fill=\"#000000\" font-family=\"sans-serif\" font-size=\"14\" lengthAdjust=\"spacingAndGlyphs\" textLength=\"55\" x=\"371\" y=\"492.5039\">NYPizza</text><text fill=\"#000000\" font-family=\"sans-serif\" font-size=\"14\" lengthAdjust=\"spacingAndGlyphs\" textLength=\"121\" x=\"338\" y=\"508.9922\">IngredientFactory</text><rect fill=\"#FEFECE\" filter=\"url(#f1)\" height=\"30.4883\" style=\"stroke: #A80036; stroke-width: 1.5;\" width=\"100\" x=\"480\" y=\"19.4883\"/><text fill=\"#000000\" font-family=\"sans-serif\" font-size=\"14\" lengthAdjust=\"spacingAndGlyphs\" textLength=\"86\" x=\"487\" y=\"40.0234\">CheesePizza</text><rect fill=\"#FEFECE\" filter=\"url(#f1)\" height=\"30.4883\" style=\"stroke: #A80036; stroke-width: 1.5;\" width=\"100\" x=\"480\" y=\"471.9688\"/><text fill=\"#000000\" font-family=\"sans-serif\" font-size=\"14\" lengthAdjust=\"spacingAndGlyphs\" textLength=\"86\" x=\"487\" y=\"492.5039\">CheesePizza</text><rect fill=\"#FEFECE\" filter=\"url(#f1)\" height=\"46.9766\" style=\"stroke: #A80036; stroke-width: 1.5;\" width=\"86\" x=\"594\" y=\"3\"/><text fill=\"#000000\" font-family=\"sans-serif\" font-size=\"14\" lengthAdjust=\"spacingAndGlyphs\" textLength=\"56\" x=\"609\" y=\"23.5352\">Chicago</text><text fill=\"#000000\" font-family=\"sans-serif\" font-size=\"14\" lengthAdjust=\"spacingAndGlyphs\" textLength=\"72\" x=\"601\" y=\"40.0234\">PizzaStore</text><rect fill=\"#FEFECE\" filter=\"url(#f1)\" height=\"46.9766\" style=\"stroke: #A80036; stroke-width: 1.5;\" width=\"86\" x=\"594\" y=\"471.9688\"/><text fill=\"#000000\" font-family=\"sans-serif\" font-size=\"14\" lengthAdjust=\"spacingAndGlyphs\" textLength=\"56\" x=\"609\" y=\"492.5039\">Chicago</text><text fill=\"#000000\" font-family=\"sans-serif\" font-size=\"14\" lengthAdjust=\"spacingAndGlyphs\" textLength=\"72\" x=\"601\" y=\"508.9922\">PizzaStore</text><rect fill=\"#FEFECE\" filter=\"url(#f1)\" height=\"46.9766\" style=\"stroke: #A80036; stroke-width: 1.5;\" width=\"135\" x=\"694\" y=\"3\"/><text fill=\"#000000\" font-family=\"sans-serif\" font-size=\"14\" lengthAdjust=\"spacingAndGlyphs\" textLength=\"92\" x=\"715.5\" y=\"23.5352\">ChicagoPizza</text><text fill=\"#000000\" font-family=\"sans-serif\" font-size=\"14\" lengthAdjust=\"spacingAndGlyphs\" textLength=\"121\" x=\"701\" y=\"40.0234\">IngredientFactory</text><rect fill=\"#FEFECE\" filter=\"url(#f1)\" height=\"46.9766\" style=\"stroke: #A80036; stroke-width: 1.5;\" width=\"135\" x=\"694\" y=\"471.9688\"/><text fill=\"#000000\" font-family=\"sans-serif\" font-size=\"14\" lengthAdjust=\"spacingAndGlyphs\" textLength=\"92\" x=\"715.5\" y=\"492.5039\">ChicagoPizza</text><text fill=\"#000000\" font-family=\"sans-serif\" font-size=\"14\" lengthAdjust=\"spacingAndGlyphs\" textLength=\"121\" x=\"701\" y=\"508.9922\">IngredientFactory</text><rect fill=\"none\" height=\"383.9922\" style=\"stroke: #000000; stroke-width: 2.0;\" width=\"830\" x=\"13\" y=\"71.9766\"/><polygon fill=\"#EEEEEE\" points=\"13,71.9766,75,71.9766,75,78.9766,65,88.9766,13,88.9766,13,71.9766\" style=\"stroke: #000000; stroke-width: 2.0;\"/><text fill=\"#000000\" font-family=\"sans-serif\" font-size=\"13\" font-weight=\"bold\" lengthAdjust=\"spacingAndGlyphs\" textLength=\"17\" x=\"28\" y=\"85.5449\">alt</text><text fill=\"#000000\" font-family=\"sans-serif\" font-size=\"11\" font-weight=\"bold\" lengthAdjust=\"spacingAndGlyphs\" textLength=\"98\" x=\"90\" y=\"84.6113\">['ny style cheese']</text><polygon fill=\"#A80036\" points=\"145,106.2871,155,110.2871,145,114.2871,149,110.2871\" style=\"stroke: #A80036; stroke-width: 1.0;\"/><line style=\"stroke: #A80036; stroke-width: 1.0;\" x1=\"52\" x2=\"151\" y1=\"110.2871\" y2=\"110.2871\"/><text fill=\"#000000\" font-family=\"sans-serif\" font-size=\"13\" lengthAdjust=\"spacingAndGlyphs\" textLength=\"47\" x=\"59\" y=\"105.8555\">nyStore</text><polygon fill=\"#A80036\" points=\"254.5,135.5977,264.5,139.5977,254.5,143.5977,258.5,139.5977\" style=\"stroke: #A80036; stroke-width: 1.0;\"/><line style=\"stroke: #A80036; stroke-width: 1.0;\" x1=\"157\" x2=\"260.5\" y1=\"139.5977\" y2=\"139.5977\"/><text fill=\"#000000\" font-family=\"sans-serif\" font-size=\"13\" lengthAdjust=\"spacingAndGlyphs\" textLength=\"33\" x=\"164\" y=\"135.166\">new()</text><polygon fill=\"#A80036\" points=\"254.5,164.9082,264.5,168.9082,254.5,172.9082,258.5,168.9082\" style=\"stroke: #A80036; stroke-width: 1.0;\"/><line style=\"stroke: #A80036; stroke-width: 1.0;\" x1=\"52\" x2=\"260.5\" y1=\"168.9082\" y2=\"168.9082\"/><text fill=\"#000000\" font-family=\"sans-serif\" font-size=\"13\" lengthAdjust=\"spacingAndGlyphs\" textLength=\"122\" x=\"59\" y=\"164.4766\">orderPizza('cheese')</text><polygon fill=\"#A80036\" points=\"388.5,194.2188,398.5,198.2188,388.5,202.2188,392.5,198.2188\" style=\"stroke: #A80036; stroke-width: 1.0;\"/><line style=\"stroke: #A80036; stroke-width: 1.0;\" x1=\"266.5\" x2=\"394.5\" y1=\"198.2188\" y2=\"198.2188\"/><text fill=\"#000000\" font-family=\"sans-serif\" font-size=\"13\" lengthAdjust=\"spacingAndGlyphs\" textLength=\"66\" x=\"273.5\" y=\"193.7871\">ifac=new()</text><polygon fill=\"#A80036\" points=\"520,223.5293,530,227.5293,520,231.5293,524,227.5293\" style=\"stroke: #A80036; stroke-width: 1.0;\"/><line style=\"stroke: #A80036; stroke-width: 1.0;\" x1=\"400.5\" x2=\"526\" y1=\"227.5293\" y2=\"227.5293\"/><text fill=\"#000000\" font-family=\"sans-serif\" font-size=\"13\" lengthAdjust=\"spacingAndGlyphs\" textLength=\"56\" x=\"407.5\" y=\"223.0977\">new(ifac)</text><polygon fill=\"#A80036\" points=\"520,252.8398,530,256.8398,520,260.8398,524,256.8398\" style=\"stroke: #A80036; stroke-width: 1.0;\"/><line style=\"stroke: #A80036; stroke-width: 1.0;\" x1=\"52\" x2=\"526\" y1=\"256.8398\" y2=\"256.8398\"/><text fill=\"#000000\" font-family=\"sans-serif\" font-size=\"13\" lengthAdjust=\"spacingAndGlyphs\" textLength=\"64\" x=\"59\" y=\"252.4082\">getName()</text><line style=\"stroke: #000000; stroke-width: 1.0; stroke-dasharray: 2.0,2.0;\" x1=\"13\" x2=\"843\" y1=\"266.1504\" y2=\"266.1504\"/><text fill=\"#000000\" font-family=\"sans-serif\" font-size=\"11\" font-weight=\"bold\" lengthAdjust=\"spacingAndGlyphs\" textLength=\"128\" x=\"18\" y=\"276.7852\">['chicago style cheese']</text><polygon fill=\"#A80036\" points=\"145,297.1055,155,301.1055,145,305.1055,149,301.1055\" style=\"stroke: #A80036; stroke-width: 1.0;\"/><line style=\"stroke: #A80036; stroke-width: 1.0;\" x1=\"52\" x2=\"151\" y1=\"301.1055\" y2=\"301.1055\"/><text fill=\"#000000\" font-family=\"sans-serif\" font-size=\"13\" lengthAdjust=\"spacingAndGlyphs\" textLength=\"81\" x=\"59\" y=\"296.6738\">chicagoStore</text><polygon fill=\"#A80036\" points=\"627,326.416,637,330.416,627,334.416,631,330.416\" style=\"stroke: #A80036; stroke-width: 1.0;\"/><line style=\"stroke: #A80036; stroke-width: 1.0;\" x1=\"157\" x2=\"633\" y1=\"330.416\" y2=\"330.416\"/><text fill=\"#000000\" font-family=\"sans-serif\" font-size=\"13\" lengthAdjust=\"spacingAndGlyphs\" textLength=\"33\" x=\"164\" y=\"325.9844\">new()</text><polygon fill=\"#A80036\" points=\"627,355.7266,637,359.7266,627,363.7266,631,359.7266\" style=\"stroke: #A80036; stroke-width: 1.0;\"/><line style=\"stroke: #A80036; stroke-width: 1.0;\" x1=\"52\" x2=\"633\" y1=\"359.7266\" y2=\"359.7266\"/><text fill=\"#000000\" font-family=\"sans-serif\" font-size=\"13\" lengthAdjust=\"spacingAndGlyphs\" textLength=\"122\" x=\"59\" y=\"355.2949\">orderPizza('cheese')</text><polygon fill=\"#A80036\" points=\"751.5,385.0371,761.5,389.0371,751.5,393.0371,755.5,389.0371\" style=\"stroke: #A80036; stroke-width: 1.0;\"/><line style=\"stroke: #A80036; stroke-width: 1.0;\" x1=\"639\" x2=\"757.5\" y1=\"389.0371\" y2=\"389.0371\"/><text fill=\"#000000\" font-family=\"sans-serif\" font-size=\"13\" lengthAdjust=\"spacingAndGlyphs\" textLength=\"66\" x=\"646\" y=\"384.6055\">ifac=new()</text><polygon fill=\"#A80036\" points=\"543,414.3477,533,418.3477,543,422.3477,539,418.3477\" style=\"stroke: #A80036; stroke-width: 1.0;\"/><line style=\"stroke: #A80036; stroke-width: 1.0;\" x1=\"537\" x2=\"762.5\" y1=\"418.3477\" y2=\"418.3477\"/><text fill=\"#000000\" font-family=\"sans-serif\" font-size=\"13\" lengthAdjust=\"spacingAndGlyphs\" textLength=\"56\" x=\"549\" y=\"413.916\">new(ifac)</text><polygon fill=\"#A80036\" points=\"520,443.6582,530,447.6582,520,451.6582,524,447.6582\" style=\"stroke: #A80036; stroke-width: 1.0;\"/><line style=\"stroke: #A80036; stroke-width: 1.0;\" x1=\"52\" x2=\"526\" y1=\"447.6582\" y2=\"447.6582\"/><text fill=\"#000000\" font-family=\"sans-serif\" font-size=\"13\" lengthAdjust=\"spacingAndGlyphs\" textLength=\"64\" x=\"59\" y=\"443.2266\">getName()</text></g></svg>"
      ],
      "text/plain": [
       "<IPython.core.display.SVG object>"
      ]
     },
     "execution_count": 33,
     "metadata": {},
     "output_type": "execute_result"
    }
   ],
   "source": [
    "%%plantuml\n",
    "@startuml\n",
    "alt 'ny style cheese'\n",
    "Client -> PizzaStore:nyStore\n",
    "PizzaStore -> NYPizzaStore:new()\n",
    "Client -> NYPizzaStore:orderPizza('cheese')\n",
    "NYPizzaStore -> \"NYPizza\\nIngredientFactory\":ifac=new()\n",
    "\"NYPizza\\nIngredientFactory\"->CheesePizza:new(ifac)\n",
    "Client -> CheesePizza:getName()\n",
    "else 'chicago style cheese'\n",
    "Client -> PizzaStore:chicagoStore\n",
    "PizzaStore -> \"Chicago\\nPizzaStore\":new()\n",
    "Client -> \"Chicago\\nPizzaStore\":orderPizza('cheese')\n",
    "\"Chicago\\nPizzaStore\" -> \"ChicagoPizza\\nIngredientFactory\":ifac=new()\n",
    "\"ChicagoPizza\\nIngredientFactory\"->CheesePizza:new(ifac)\n",
    "Client -> CheesePizza:getName()\n",
    "end\n",
    "@enduml"
   ]
  },
  {
   "cell_type": "code",
   "execution_count": null,
   "metadata": {
    "collapsed": true,
    "slideshow": {
     "slide_type": "slide"
    }
   },
   "outputs": [],
   "source": [
    "# %load ./src/headfirst/factory/pizzaaf/small/PizzaTestDrive.java\n",
    "package headfirst.factory.pizzaaf.small;\n",
    "\n",
    "public class PizzaTestDrive {\n",
    "    public static void main(String[] args) {\n",
    "        PizzaStore nyStore = new NYPizzaStore();\n",
    "        PizzaStore chicagoStore = new ChicagoPizzaStore();\n",
    " \n",
    "        Pizza pizza = nyStore.orderPizza(\"cheese\");\n",
    "        System.out.println(\"Ethan ordered a \" + pizza + \"\\n\");\n",
    " \n",
    "        pizza = chicagoStore.orderPizza(\"cheese\");\n",
    "        System.out.println(\"Joel ordered a \" + pizza + \"\\n\");\n",
    "\t}\n",
    "}"
   ]
  },
  {
   "cell_type": "code",
   "execution_count": null,
   "metadata": {
    "collapsed": true,
    "slideshow": {
     "slide_type": "slide"
    }
   },
   "outputs": [],
   "source": [
    "# %load ./src/headfirst/factory/pizzaaf/small/PizzaStore.java\n",
    "package headfirst.factory.pizzaaf.small;\n",
    "\n",
    "public abstract class PizzaStore {\n",
    " \n",
    "    protected abstract Pizza createPizza(String item);\n",
    " \n",
    "    public Pizza orderPizza(String type) {\n",
    "        Pizza pizza = createPizza(type);\n",
    "        System.out.println(\"--- Making a \" + pizza.getName() + \" ---\");\n",
    "        pizza.prepare();\n",
    "        pizza.bake();\n",
    "        pizza.cut();\n",
    "        pizza.box();\n",
    "        return pizza;\n",
    "    }\n",
    "}\n"
   ]
  },
  {
   "cell_type": "code",
   "execution_count": null,
   "metadata": {
    "collapsed": true,
    "slideshow": {
     "slide_type": "slide"
    }
   },
   "outputs": [],
   "source": [
    "# %load ./src/headfirst/factory/pizzaaf/small/NYPizzaStore.java\n",
    "package headfirst.factory.pizzaaf.small;\n",
    "\n",
    "public class NYPizzaStore extends PizzaStore {\n",
    "    protected Pizza createPizza(String item) {\n",
    "        Pizza pizza = null;\n",
    "        PizzaIngredientFactory ingredientFactory=new NYPizzaIngredientFactory();\n",
    " \n",
    "        if (item.equals(\"cheese\")) {\n",
    "  \n",
    "            pizza = new CheesePizza(ingredientFactory);\n",
    "            pizza.setName(\"New York Style Cheese Pizza\");\n",
    "  \n",
    "        }\n",
    "        return pizza;\n",
    "    }\n",
    "}\n"
   ]
  },
  {
   "cell_type": "code",
   "execution_count": null,
   "metadata": {
    "collapsed": true,
    "slideshow": {
     "slide_type": "slide"
    }
   },
   "outputs": [],
   "source": [
    "# %load ./src/headfirst/factory/pizzaaf/small/ChicagoPizzaStore.java\n",
    "package headfirst.factory.pizzaaf.small;\n",
    "\n",
    "public class ChicagoPizzaStore extends PizzaStore {\n",
    "    protected Pizza createPizza(String item) {\n",
    "        Pizza pizza = null;\n",
    "        PizzaIngredientFactory ingredientFactory=new ChicagoPizzaIngredientFactory();\n",
    "        if (item.equals(\"cheese\")) {\n",
    "            pizza = new CheesePizza(ingredientFactory);\n",
    "            pizza.setName(\"Chicago Style Cheese Pizza\");\n",
    "        }\n",
    "        return pizza;\n",
    "    }\n",
    "}\n"
   ]
  },
  {
   "cell_type": "code",
   "execution_count": null,
   "metadata": {
    "collapsed": true,
    "slideshow": {
     "slide_type": "slide"
    }
   },
   "outputs": [],
   "source": [
    "# %load ./src/headfirst/factory/pizzaaf/small/Pizza.java\n",
    "package headfirst.factory.pizzaaf.small;\n",
    "\n",
    "public abstract class Pizza {\n",
    "    String name;\n",
    "    Dough dough;\n",
    "    Cheese cheese;\n",
    "\n",
    "    abstract void prepare();\n",
    "    void bake() {\n",
    "        System.out.println(\"Bake for 25 minutes at 350\");\n",
    "    }\n",
    "    void cut() {\n",
    "        System.out.println(\"Cutting the pizza into diagonal slices\");\n",
    "    }\n",
    "    void box() {\n",
    "        System.out.println(\"Place pizza in official PizzaStore box\");\n",
    "    }\n",
    "    void setName(String name) {\n",
    "        this.name = name;\n",
    "    }\n",
    "    String getName() {\n",
    "        return name;\n",
    "    }\n",
    "    public String toString() {\n",
    "        StringBuffer result = new StringBuffer();\n",
    "        result.append(\"---- \" + name + \" ----\\n\");\n",
    "        if (dough != null) {\n",
    "            result.append(dough);\n",
    "            result.append(\"\\n\");\n",
    "        }\n",
    "        if (cheese != null) {\n",
    "            result.append(cheese);\n",
    "            result.append(\"\\n\");\n",
    "        }\n",
    "        return result.toString();\n",
    "    }\n",
    "}\n"
   ]
  },
  {
   "cell_type": "code",
   "execution_count": null,
   "metadata": {
    "collapsed": true,
    "slideshow": {
     "slide_type": "slide"
    }
   },
   "outputs": [],
   "source": [
    "# %load ./src/headfirst/factory/pizzaaf/small/CheesePizza.java\n",
    "package headfirst.factory.pizzaaf.small;\n",
    "\n",
    "public class CheesePizza extends Pizza {\n",
    "    PizzaIngredientFactory ingredientFactory;\n",
    " \n",
    "    public CheesePizza(PizzaIngredientFactory ingredientFactory) {\n",
    "        this.ingredientFactory = ingredientFactory;\n",
    "    }\n",
    "    void prepare() {\n",
    "        System.out.println(\"Preparing \" + name);\n",
    "        dough = ingredientFactory.createDough();\n",
    "        cheese = ingredientFactory.createCheese();\n",
    "    }\n",
    "}\n"
   ]
  },
  {
   "cell_type": "code",
   "execution_count": null,
   "metadata": {
    "collapsed": true,
    "slideshow": {
     "slide_type": "slide"
    }
   },
   "outputs": [],
   "source": [
    "# %load ./src/headfirst/factory/pizzaaf/small/PizzaIngredientFactory.java\n",
    "package headfirst.factory.pizzaaf.small;\n",
    "\n",
    "public interface PizzaIngredientFactory {\n",
    "    public Dough createDough();\n",
    "    public Cheese createCheese();\n",
    "}\n"
   ]
  },
  {
   "cell_type": "code",
   "execution_count": null,
   "metadata": {
    "collapsed": true,
    "slideshow": {
     "slide_type": "slide"
    }
   },
   "outputs": [],
   "source": [
    "# %load ./src/headfirst/factory/pizzaaf/small/NYPizzaIngredientFactory.java\n",
    "package headfirst.factory.pizzaaf.small;\n",
    "\n",
    "public class NYPizzaIngredientFactory implements PizzaIngredientFactory {\n",
    "    public Dough createDough() {\n",
    "        return new ThinCrustDough();\n",
    "    }\n",
    "    public Cheese createCheese() {\n",
    "        return new ReggianoCheese();\n",
    "    }\n",
    "}\n"
   ]
  },
  {
   "cell_type": "code",
   "execution_count": null,
   "metadata": {
    "collapsed": true,
    "slideshow": {
     "slide_type": "slide"
    }
   },
   "outputs": [],
   "source": [
    "# %load ./src/headfirst/factory/pizzaaf/small/ChicagoPizzaIngredientFactory.java\n",
    "package headfirst.factory.pizzaaf.small;\n",
    "\n",
    "public class ChicagoPizzaIngredientFactory implements PizzaIngredientFactory {\n",
    "    public Dough createDough() {\n",
    "        return new ThickCrustDough();\n",
    "    }\n",
    "    public Cheese createCheese() {\n",
    "        return new MozzarellaCheese();\n",
    "    }\n",
    "}\n"
   ]
  },
  {
   "cell_type": "code",
   "execution_count": null,
   "metadata": {
    "collapsed": true,
    "slideshow": {
     "slide_type": "slide"
    }
   },
   "outputs": [],
   "source": [
    "# %load ./src/headfirst/factory/pizzaaf/small/Dough.java\n",
    "package headfirst.factory.pizzaaf.small;\n",
    "\n",
    "public interface Dough {\n",
    "    public String toString();\n",
    "}\n"
   ]
  },
  {
   "cell_type": "code",
   "execution_count": null,
   "metadata": {
    "collapsed": true,
    "slideshow": {
     "slide_type": "slide"
    }
   },
   "outputs": [],
   "source": [
    "# %load ./src/headfirst/factory/pizzaaf/small/Cheese.java\n",
    "package headfirst.factory.pizzaaf.small;\n",
    "\n",
    "public interface Cheese {\n",
    "    public String toString();\n",
    "}\n"
   ]
  },
  {
   "cell_type": "code",
   "execution_count": null,
   "metadata": {
    "collapsed": true,
    "slideshow": {
     "slide_type": "slide"
    }
   },
   "outputs": [],
   "source": [
    "# %load ./src/headfirst/factory/pizzaaf/small/ThinCrustDough.java\n",
    "package headfirst.factory.pizzaaf.small;\n",
    "\n",
    "public class ThinCrustDough implements Dough {\n",
    "    public String toString() {\n",
    "        return \"Thin Crust Dough\";\n",
    "    }\n",
    "}\n"
   ]
  },
  {
   "cell_type": "code",
   "execution_count": null,
   "metadata": {
    "collapsed": true,
    "slideshow": {
     "slide_type": "slide"
    }
   },
   "outputs": [],
   "source": [
    "# %load ./src/headfirst/factory/pizzaaf/small/ThickCrustDough.java\n",
    "package headfirst.factory.pizzaaf.small;\n",
    "\n",
    "public class ThickCrustDough implements Dough {\n",
    "    public String toString() {\n",
    "        return \"ThickCrust style extra thick crust dough\";\n",
    "    }\n",
    "}\n"
   ]
  },
  {
   "cell_type": "code",
   "execution_count": null,
   "metadata": {
    "collapsed": true,
    "slideshow": {
     "slide_type": "slide"
    }
   },
   "outputs": [],
   "source": [
    "# %load ./src/headfirst/factory/pizzaaf/small/MozzarellaCheese.java\n",
    "package headfirst.factory.pizzaaf.small;\n",
    "\n",
    "public class MozzarellaCheese implements Cheese {\n",
    "    public String toString() {\n",
    "        return \"Shredded Mozzarella\";\n",
    "    }\n",
    "}\n"
   ]
  },
  {
   "cell_type": "code",
   "execution_count": null,
   "metadata": {
    "collapsed": true,
    "slideshow": {
     "slide_type": "slide"
    }
   },
   "outputs": [],
   "source": [
    "# %load ./src/headfirst/factory/pizzaaf/small/ReggianoCheese.java\n",
    "package headfirst.factory.pizzaaf.small;\n",
    "\n",
    "public class ReggianoCheese implements Cheese {\n",
    "    public String toString() {\n",
    "        return \"Reggiano Cheese\";\n",
    "    }\n",
    "}\n"
   ]
  },
  {
   "cell_type": "code",
   "execution_count": 41,
   "metadata": {
    "collapsed": false,
    "slideshow": {
     "slide_type": "slide"
    }
   },
   "outputs": [
    {
     "name": "stdout",
     "output_type": "stream",
     "text": [
      "Picked up JAVA_TOOL_OPTIONS: -javaagent:/usr/share/java/jayatanaag.jar \n",
      "warning: Supported source version 'RELEASE_6' from annotation processor 'org.sonatype.guice.bean.scanners.index.SisuIndexAPT6' less than -source '1.7'\n",
      "1 warning\n"
     ]
    }
   ],
   "source": [
    "!javac -d classes/ -sourcepath src/ src/headfirst/factory/pizzaaf/small/*.java"
   ]
  },
  {
   "cell_type": "code",
   "execution_count": 42,
   "metadata": {
    "collapsed": false,
    "scrolled": true,
    "slideshow": {
     "slide_type": "slide"
    }
   },
   "outputs": [
    {
     "name": "stdout",
     "output_type": "stream",
     "text": [
      "Picked up JAVA_TOOL_OPTIONS: -javaagent:/usr/share/java/jayatanaag.jar \n",
      "--- Making a New York Style Cheese Pizza ---\n",
      "Preparing New York Style Cheese Pizza\n",
      "Bake for 25 minutes at 350\n",
      "Cutting the pizza into diagonal slices\n",
      "Place pizza in official PizzaStore box\n",
      "Ethan ordered a ---- New York Style Cheese Pizza ----\n",
      "Thin Crust Dough\n",
      "Reggiano Cheese\n",
      "\n",
      "\n",
      "--- Making a Chicago Style Cheese Pizza ---\n",
      "Preparing Chicago Style Cheese Pizza\n",
      "Bake for 25 minutes at 350\n",
      "Cutting the pizza into diagonal slices\n",
      "Place pizza in official PizzaStore box\n",
      "Joel ordered a ---- Chicago Style Cheese Pizza ----\n",
      "ThickCrust style extra thick crust dough\n",
      "Shredded Mozzarella\n",
      "\n",
      "\n"
     ]
    }
   ],
   "source": [
    "!java -cp classes/ headfirst.factory.pizzaaf.small.PizzaTestDrive"
   ]
  },
  {
   "cell_type": "markdown",
   "metadata": {},
   "source": [
    "## 6.2 Shape"
   ]
  },
  {
   "cell_type": "code",
   "execution_count": 14,
   "metadata": {
    "collapsed": false
   },
   "outputs": [
    {
     "data": {
      "image/svg+xml": [
       "<svg height=\"428px\" style=\"width:406px;height:428px;\" version=\"1.1\" viewBox=\"0 0 406 428\" width=\"406px\" xmlns=\"http://www.w3.org/2000/svg\" xmlns:xlink=\"http://www.w3.org/1999/xlink\"><defs><filter height=\"300%\" id=\"f1\" width=\"300%\" x=\"-1\" y=\"-1\"><feGaussianBlur result=\"blurOut\" stdDeviation=\"2.0\"/><feColorMatrix in=\"blurOut\" result=\"blurOut2\" type=\"matrix\" values=\"0 0 0 0 0 0 0 0 0 0 0 0 0 0 0 0 0 0 .4 0\"/><feOffset dx=\"4.0\" dy=\"4.0\" in=\"blurOut2\" result=\"blurOut3\"/><feBlend in=\"SourceGraphic\" in2=\"blurOut3\" mode=\"normal\"/></filter></defs><g><rect fill=\"#FEFECE\" filter=\"url(#f1)\" height=\"73.9102\" style=\"stroke: #A80036; stroke-width: 1.5;\" width=\"218\" x=\"85.5\" y=\"8\"/><ellipse cx=\"123\" cy=\"24\" fill=\"#A9DCDF\" rx=\"11\" ry=\"11\" style=\"stroke: #A80036; stroke-width: 1.0;\"/><path d=\"M123.1133,19.3481 L121.9595,24.4199 L124.2754,24.4199 Z M121.6191,17.1069 L124.6157,17.1069 L127.9609,29.5 L125.5122,29.5 L124.7485,26.437 L121.4697,26.437 L120.7227,29.5 L118.2739,29.5 Z \"/><text fill=\"#000000\" font-family=\"sans-serif\" font-size=\"12\" font-style=\"italic\" lengthAdjust=\"spacingAndGlyphs\" textLength=\"136\" x=\"142\" y=\"28.5352\">DrawingAbstractFactory</text><line style=\"stroke: #A80036; stroke-width: 1.5;\" x1=\"86.5\" x2=\"302.5\" y1=\"40\" y2=\"40\"/><line style=\"stroke: #A80036; stroke-width: 1.5;\" x1=\"86.5\" x2=\"302.5\" y1=\"48\" y2=\"48\"/><text fill=\"#000000\" font-family=\"sans-serif\" font-size=\"11\" lengthAdjust=\"spacingAndGlyphs\" textLength=\"198\" x=\"91.5\" y=\"62.6348\">abstract getColor(color:String):Color</text><text fill=\"#000000\" font-family=\"sans-serif\" font-size=\"11\" lengthAdjust=\"spacingAndGlyphs\" textLength=\"206\" x=\"91.5\" y=\"75.5898\">abstract getShape(shape:String):Shape</text><rect fill=\"#FEFECE\" filter=\"url(#f1)\" height=\"48\" style=\"stroke: #A80036; stroke-width: 1.5;\" width=\"103\" x=\"73\" y=\"142\"/><ellipse cx=\"88\" cy=\"158\" fill=\"#ADD1B2\" rx=\"11\" ry=\"11\" style=\"stroke: #A80036; stroke-width: 1.0;\"/><path d=\"M90.9731,163.6431 Q90.3921,163.9419 89.7529,164.0913 Q89.1138,164.2407 88.4082,164.2407 Q85.9014,164.2407 84.5815,162.5889 Q83.2617,160.937 83.2617,157.8159 Q83.2617,154.6865 84.5815,153.0347 Q85.9014,151.3828 88.4082,151.3828 Q89.1138,151.3828 89.7612,151.5322 Q90.4087,151.6816 90.9731,151.9805 L90.9731,154.7031 Q90.3423,154.1221 89.7488,153.8523 Q89.1553,153.5825 88.5244,153.5825 Q87.1797,153.5825 86.4949,154.6492 Q85.8101,155.7158 85.8101,157.8159 Q85.8101,159.9077 86.4949,160.9744 Q87.1797,162.041 88.5244,162.041 Q89.1553,162.041 89.7488,161.7712 Q90.3423,161.5015 90.9731,160.9204 Z \"/><text fill=\"#000000\" font-family=\"sans-serif\" font-size=\"12\" lengthAdjust=\"spacingAndGlyphs\" textLength=\"71\" x=\"102\" y=\"162.5352\">ColorFactory</text><line style=\"stroke: #A80036; stroke-width: 1.5;\" x1=\"74\" x2=\"175\" y1=\"174\" y2=\"174\"/><line style=\"stroke: #A80036; stroke-width: 1.5;\" x1=\"74\" x2=\"175\" y1=\"182\" y2=\"182\"/><rect fill=\"#FEFECE\" filter=\"url(#f1)\" height=\"48\" style=\"stroke: #A80036; stroke-width: 1.5;\" width=\"62\" x=\"101.5\" y=\"256.5\"/><ellipse cx=\"116.5\" cy=\"272.5\" fill=\"#B4A7E5\" rx=\"11\" ry=\"11\" style=\"stroke: #A80036; stroke-width: 1.0;\"/><path d=\"M112.4277,268.2651 L112.4277,266.1069 L119.8071,266.1069 L119.8071,268.2651 L117.3418,268.2651 L117.3418,276.3418 L119.8071,276.3418 L119.8071,278.5 L112.4277,278.5 L112.4277,276.3418 L114.8931,276.3418 L114.8931,268.2651 Z \"/><text fill=\"#000000\" font-family=\"sans-serif\" font-size=\"12\" font-style=\"italic\" lengthAdjust=\"spacingAndGlyphs\" textLength=\"30\" x=\"130.5\" y=\"277.0352\">Color</text><line style=\"stroke: #A80036; stroke-width: 1.5;\" x1=\"102.5\" x2=\"162.5\" y1=\"288.5\" y2=\"288.5\"/><line style=\"stroke: #A80036; stroke-width: 1.5;\" x1=\"102.5\" x2=\"162.5\" y1=\"296.5\" y2=\"296.5\"/><rect fill=\"#FEFECE\" filter=\"url(#f1)\" height=\"48\" style=\"stroke: #A80036; stroke-width: 1.5;\" width=\"67\" x=\"6\" y=\"371\"/><ellipse cx=\"21\" cy=\"387\" fill=\"#ADD1B2\" rx=\"11\" ry=\"11\" style=\"stroke: #A80036; stroke-width: 1.0;\"/><path d=\"M23.9731,392.6431 Q23.3921,392.9419 22.7529,393.0913 Q22.1138,393.2407 21.4082,393.2407 Q18.9014,393.2407 17.5815,391.5889 Q16.2617,389.937 16.2617,386.8159 Q16.2617,383.6865 17.5815,382.0347 Q18.9014,380.3828 21.4082,380.3828 Q22.1138,380.3828 22.7612,380.5322 Q23.4087,380.6816 23.9731,380.9805 L23.9731,383.7031 Q23.3423,383.1221 22.7488,382.8523 Q22.1553,382.5825 21.5244,382.5825 Q20.1797,382.5825 19.4949,383.6492 Q18.8101,384.7158 18.8101,386.8159 Q18.8101,388.9077 19.4949,389.9744 Q20.1797,391.041 21.5244,391.041 Q22.1553,391.041 22.7488,390.7712 Q23.3423,390.5015 23.9731,389.9204 Z \"/><text fill=\"#000000\" font-family=\"sans-serif\" font-size=\"12\" lengthAdjust=\"spacingAndGlyphs\" textLength=\"35\" x=\"35\" y=\"391.5352\">Green</text><line style=\"stroke: #A80036; stroke-width: 1.5;\" x1=\"7\" x2=\"72\" y1=\"403\" y2=\"403\"/><line style=\"stroke: #A80036; stroke-width: 1.5;\" x1=\"7\" x2=\"72\" y1=\"411\" y2=\"411\"/><rect fill=\"#FEFECE\" filter=\"url(#f1)\" height=\"48\" style=\"stroke: #A80036; stroke-width: 1.5;\" width=\"55\" x=\"108\" y=\"371\"/><ellipse cx=\"123\" cy=\"387\" fill=\"#ADD1B2\" rx=\"11\" ry=\"11\" style=\"stroke: #A80036; stroke-width: 1.0;\"/><path d=\"M125.9731,392.6431 Q125.3921,392.9419 124.7529,393.0913 Q124.1138,393.2407 123.4082,393.2407 Q120.9014,393.2407 119.5815,391.5889 Q118.2617,389.937 118.2617,386.8159 Q118.2617,383.6865 119.5815,382.0347 Q120.9014,380.3828 123.4082,380.3828 Q124.1138,380.3828 124.7612,380.5322 Q125.4087,380.6816 125.9731,380.9805 L125.9731,383.7031 Q125.3423,383.1221 124.7488,382.8523 Q124.1553,382.5825 123.5244,382.5825 Q122.1797,382.5825 121.4949,383.6492 Q120.8101,384.7158 120.8101,386.8159 Q120.8101,388.9077 121.4949,389.9744 Q122.1797,391.041 123.5244,391.041 Q124.1553,391.041 124.7488,390.7712 Q125.3423,390.5015 125.9731,389.9204 Z \"/><text fill=\"#000000\" font-family=\"sans-serif\" font-size=\"12\" lengthAdjust=\"spacingAndGlyphs\" textLength=\"23\" x=\"137\" y=\"391.5352\">Red</text><line style=\"stroke: #A80036; stroke-width: 1.5;\" x1=\"109\" x2=\"162\" y1=\"403\" y2=\"403\"/><line style=\"stroke: #A80036; stroke-width: 1.5;\" x1=\"109\" x2=\"162\" y1=\"411\" y2=\"411\"/><rect fill=\"#FEFECE\" filter=\"url(#f1)\" height=\"48\" style=\"stroke: #A80036; stroke-width: 1.5;\" width=\"108\" x=\"211.5\" y=\"142\"/><ellipse cx=\"226.5\" cy=\"158\" fill=\"#ADD1B2\" rx=\"11\" ry=\"11\" style=\"stroke: #A80036; stroke-width: 1.0;\"/><path d=\"M229.4731,163.6431 Q228.8921,163.9419 228.2529,164.0913 Q227.6138,164.2407 226.9082,164.2407 Q224.4014,164.2407 223.0815,162.5889 Q221.7617,160.937 221.7617,157.8159 Q221.7617,154.6865 223.0815,153.0347 Q224.4014,151.3828 226.9082,151.3828 Q227.6138,151.3828 228.2612,151.5322 Q228.9087,151.6816 229.4731,151.9805 L229.4731,154.7031 Q228.8423,154.1221 228.2488,153.8523 Q227.6553,153.5825 227.0244,153.5825 Q225.6797,153.5825 224.9949,154.6492 Q224.3101,155.7158 224.3101,157.8159 Q224.3101,159.9077 224.9949,160.9744 Q225.6797,162.041 227.0244,162.041 Q227.6553,162.041 228.2488,161.7712 Q228.8423,161.5015 229.4731,160.9204 Z \"/><text fill=\"#000000\" font-family=\"sans-serif\" font-size=\"12\" lengthAdjust=\"spacingAndGlyphs\" textLength=\"76\" x=\"240.5\" y=\"162.5352\">ShapeFactory</text><line style=\"stroke: #A80036; stroke-width: 1.5;\" x1=\"212.5\" x2=\"318.5\" y1=\"174\" y2=\"174\"/><line style=\"stroke: #A80036; stroke-width: 1.5;\" x1=\"212.5\" x2=\"318.5\" y1=\"182\" y2=\"182\"/><rect fill=\"#FEFECE\" filter=\"url(#f1)\" height=\"60.9551\" style=\"stroke: #A80036; stroke-width: 1.5;\" width=\"67\" x=\"215\" y=\"250\"/><ellipse cx=\"230\" cy=\"266\" fill=\"#B4A7E5\" rx=\"11\" ry=\"11\" style=\"stroke: #A80036; stroke-width: 1.0;\"/><path d=\"M225.9277,261.7651 L225.9277,259.6069 L233.3071,259.6069 L233.3071,261.7651 L230.8418,261.7651 L230.8418,269.8418 L233.3071,269.8418 L233.3071,272 L225.9277,272 L225.9277,269.8418 L228.3931,269.8418 L228.3931,261.7651 Z \"/><text fill=\"#000000\" font-family=\"sans-serif\" font-size=\"12\" font-style=\"italic\" lengthAdjust=\"spacingAndGlyphs\" textLength=\"35\" x=\"244\" y=\"270.5352\">Shape</text><line style=\"stroke: #A80036; stroke-width: 1.5;\" x1=\"216\" x2=\"281\" y1=\"282\" y2=\"282\"/><line style=\"stroke: #A80036; stroke-width: 1.5;\" x1=\"216\" x2=\"281\" y1=\"290\" y2=\"290\"/><text fill=\"#000000\" font-family=\"sans-serif\" font-size=\"11\" lengthAdjust=\"spacingAndGlyphs\" textLength=\"36\" x=\"221\" y=\"304.6348\">show()</text><rect fill=\"#FEFECE\" filter=\"url(#f1)\" height=\"48\" style=\"stroke: #A80036; stroke-width: 1.5;\" width=\"88\" x=\"202.5\" y=\"371\"/><ellipse cx=\"217.5\" cy=\"387\" fill=\"#ADD1B2\" rx=\"11\" ry=\"11\" style=\"stroke: #A80036; stroke-width: 1.0;\"/><path d=\"M220.4731,392.6431 Q219.8921,392.9419 219.2529,393.0913 Q218.6138,393.2407 217.9082,393.2407 Q215.4014,393.2407 214.0815,391.5889 Q212.7617,389.937 212.7617,386.8159 Q212.7617,383.6865 214.0815,382.0347 Q215.4014,380.3828 217.9082,380.3828 Q218.6138,380.3828 219.2612,380.5322 Q219.9087,380.6816 220.4731,380.9805 L220.4731,383.7031 Q219.8423,383.1221 219.2488,382.8523 Q218.6553,382.5825 218.0244,382.5825 Q216.6797,382.5825 215.9949,383.6492 Q215.3101,384.7158 215.3101,386.8159 Q215.3101,388.9077 215.9949,389.9744 Q216.6797,391.041 218.0244,391.041 Q218.6553,391.041 219.2488,390.7712 Q219.8423,390.5015 220.4731,389.9204 Z \"/><text fill=\"#000000\" font-family=\"sans-serif\" font-size=\"12\" lengthAdjust=\"spacingAndGlyphs\" textLength=\"56\" x=\"231.5\" y=\"391.5352\">Rectangle</text><line style=\"stroke: #A80036; stroke-width: 1.5;\" x1=\"203.5\" x2=\"289.5\" y1=\"403\" y2=\"403\"/><line style=\"stroke: #A80036; stroke-width: 1.5;\" x1=\"203.5\" x2=\"289.5\" y1=\"411\" y2=\"411\"/><rect fill=\"#FEFECE\" filter=\"url(#f1)\" height=\"48\" style=\"stroke: #A80036; stroke-width: 1.5;\" width=\"72\" x=\"325.5\" y=\"371\"/><ellipse cx=\"340.5\" cy=\"387\" fill=\"#ADD1B2\" rx=\"11\" ry=\"11\" style=\"stroke: #A80036; stroke-width: 1.0;\"/><path d=\"M343.4731,392.6431 Q342.8921,392.9419 342.2529,393.0913 Q341.6138,393.2407 340.9082,393.2407 Q338.4014,393.2407 337.0815,391.5889 Q335.7617,389.937 335.7617,386.8159 Q335.7617,383.6865 337.0815,382.0347 Q338.4014,380.3828 340.9082,380.3828 Q341.6138,380.3828 342.2612,380.5322 Q342.9087,380.6816 343.4731,380.9805 L343.4731,383.7031 Q342.8423,383.1221 342.2488,382.8523 Q341.6553,382.5825 341.0244,382.5825 Q339.6797,382.5825 338.9949,383.6492 Q338.3101,384.7158 338.3101,386.8159 Q338.3101,388.9077 338.9949,389.9744 Q339.6797,391.041 341.0244,391.041 Q341.6553,391.041 342.2488,390.7712 Q342.8423,390.5015 343.4731,389.9204 Z \"/><text fill=\"#000000\" font-family=\"sans-serif\" font-size=\"12\" lengthAdjust=\"spacingAndGlyphs\" textLength=\"40\" x=\"354.5\" y=\"391.5352\">Square</text><line style=\"stroke: #A80036; stroke-width: 1.5;\" x1=\"326.5\" x2=\"396.5\" y1=\"403\" y2=\"403\"/><line style=\"stroke: #A80036; stroke-width: 1.5;\" x1=\"326.5\" x2=\"396.5\" y1=\"411\" y2=\"411\"/><path d=\"M162.959,99.62 C154.236,114.449 145.223,129.77 138.117,141.85 \" fill=\"none\" style=\"stroke: #A80036; stroke-width: 1.0;\"/><polygon fill=\"none\" points=\"157.134,95.716,173.308,82.027,169.201,102.815,157.134,95.716\" style=\"stroke: #A80036; stroke-width: 1.0;\"/><path d=\"M100.5749,320.1191 C86.5743,337.0553 70.6127,356.3637 58.5189,370.9933 \" fill=\"none\" style=\"stroke: #A80036; stroke-width: 1.0; stroke-dasharray: 7.0,7.0;\"/><polygon fill=\"none\" points=\"95.3175,315.492,113.456,304.538,106.108,324.4124,95.3175,315.492\" style=\"stroke: #A80036; stroke-width: 1.0;\"/><path d=\"M133.651,324.6449 C134.071,340.4205 134.531,357.6523 134.886,370.9933 \" fill=\"none\" style=\"stroke: #A80036; stroke-width: 1.0; stroke-dasharray: 7.0,7.0;\"/><polygon fill=\"none\" points=\"126.65,324.7171,133.114,304.538,140.645,324.3438,126.65,324.7171\" style=\"stroke: #A80036; stroke-width: 1.0;\"/><path d=\"M226.492,99.62 C235.34,114.449 244.481,129.77 251.688,141.85 \" fill=\"none\" style=\"stroke: #A80036; stroke-width: 1.0;\"/><polygon fill=\"none\" points=\"220.231,102.789,215.995,82.027,232.254,95.616,220.231,102.789\" style=\"stroke: #A80036; stroke-width: 1.0;\"/><path d=\"M247.618,331.1067 C247.373,344.8764 247.119,359.1847 246.915,370.6686 \" fill=\"none\" style=\"stroke: #A80036; stroke-width: 1.0; stroke-dasharray: 7.0,7.0;\"/><polygon fill=\"none\" points=\"240.62,330.9304,247.975,311.058,254.618,331.1793,240.62,330.9304\" style=\"stroke: #A80036; stroke-width: 1.0;\"/><path d=\"M292.511,325.3165 C308.044,340.7801 324.902,357.5635 338.065,370.6686 \" fill=\"none\" style=\"stroke: #A80036; stroke-width: 1.0; stroke-dasharray: 7.0,7.0;\"/><polygon fill=\"none\" points=\"287.424,330.1295,278.189,311.058,297.302,320.2081,287.424,330.1295\" style=\"stroke: #A80036; stroke-width: 1.0;\"/><path d=\"M126.138,190.038 C127.4,207.783 129.151,232.399 130.496,251.318 \" fill=\"none\" style=\"stroke: #A80036; stroke-width: 1.0; stroke-dasharray: 7.0,7.0;\"/><polygon fill=\"#A80036\" points=\"130.864,256.493,134.2162,247.2322,130.5097,251.5056,126.2363,247.7991,130.864,256.493\" style=\"stroke: #A80036; stroke-width: 1.0;\"/><path d=\"M149.892,190.038 C167.695,206.189 191.771,228.032 211.676,246.091 \" fill=\"none\" style=\"stroke: #A80036; stroke-width: 1.0; stroke-dasharray: 7.0,7.0;\"/><polygon fill=\"#A80036\" points=\"215.598,249.65,211.6209,240.6398,211.8952,246.2901,206.245,246.5643,215.598,249.65\" style=\"stroke: #A80036; stroke-width: 1.0;\"/><path d=\"M238.265,190.038 C216.568,208.39 186.185,234.09 163.547,253.238 \" fill=\"none\" style=\"stroke: #A80036; stroke-width: 1.0; stroke-dasharray: 7.0,7.0;\"/><polygon fill=\"#A80036\" points=\"159.699,256.493,169.1532,253.7329,163.5159,253.2632,163.9856,247.6259,159.699,256.493\" style=\"stroke: #A80036; stroke-width: 1.0;\"/><path d=\"M262.019,190.038 C259.659,205.65 256.496,226.582 253.823,244.273 \" fill=\"none\" style=\"stroke: #A80036; stroke-width: 1.0; stroke-dasharray: 7.0,7.0;\"/><polygon fill=\"#A80036\" points=\"253.011,249.65,258.3112,241.3489,253.7583,244.7062,250.4011,240.1533,253.011,249.65\" style=\"stroke: #A80036; stroke-width: 1.0;\"/></g></svg>"
      ],
      "text/plain": [
       "<IPython.core.display.SVG object>"
      ]
     },
     "execution_count": 14,
     "metadata": {},
     "output_type": "execute_result"
    }
   ],
   "source": [
    "%%plantuml\n",
    "@startuml\n",
    "abstract class DrawingAbstractFactory {\n",
    "    abstract getColor(color:String):Color\n",
    "    abstract getShape(shape:String):Shape\n",
    "}\n",
    "DrawingAbstractFactory <|-- ColorFactory\n",
    "\n",
    "interface Color\n",
    "Color <|.. Green\n",
    "Color <|.. Red\n",
    "\n",
    "DrawingAbstractFactory <|-- ShapeFactory\n",
    "interface Shape {\n",
    "    show()\n",
    "}\n",
    "Shape <|.. Rectangle\n",
    "Shape <|.. Square\n",
    "\n",
    "ColorFactory ..> Color\n",
    "ColorFactory ..> Shape\n",
    "ShapeFactory ..> Color\n",
    "ShapeFactory ..> Shape\n",
    "@enduml"
   ]
  },
  {
   "cell_type": "code",
   "execution_count": 11,
   "metadata": {
    "collapsed": false
   },
   "outputs": [
    {
     "data": {
      "image/svg+xml": [
       "<svg height=\"228px\" style=\"width:635px;height:228px;\" version=\"1.1\" viewBox=\"0 0 635 228\" width=\"635px\" xmlns=\"http://www.w3.org/2000/svg\" xmlns:xlink=\"http://www.w3.org/1999/xlink\"><defs><filter height=\"300%\" id=\"f1\" width=\"300%\" x=\"-1\" y=\"-1\"><feGaussianBlur result=\"blurOut\" stdDeviation=\"2.0\"/><feColorMatrix in=\"blurOut\" result=\"blurOut2\" type=\"matrix\" values=\"0 0 0 0 0 0 0 0 0 0 0 0 0 0 0 0 0 0 .4 0\"/><feOffset dx=\"4.0\" dy=\"4.0\" in=\"blurOut2\" result=\"blurOut3\"/><feBlend in=\"SourceGraphic\" in2=\"blurOut3\" mode=\"normal\"/></filter></defs><g><line style=\"stroke: #A80036; stroke-width: 1.0; stroke-dasharray: 5.0,5.0;\" x1=\"37\" x2=\"37\" y1=\"38.4883\" y2=\"189.7305\"/><line style=\"stroke: #A80036; stroke-width: 1.0; stroke-dasharray: 5.0,5.0;\" x1=\"167\" x2=\"167\" y1=\"38.4883\" y2=\"189.7305\"/><line style=\"stroke: #A80036; stroke-width: 1.0; stroke-dasharray: 5.0,5.0;\" x1=\"323\" x2=\"323\" y1=\"38.4883\" y2=\"189.7305\"/><line style=\"stroke: #A80036; stroke-width: 1.0; stroke-dasharray: 5.0,5.0;\" x1=\"418\" x2=\"418\" y1=\"38.4883\" y2=\"189.7305\"/><line style=\"stroke: #A80036; stroke-width: 1.0; stroke-dasharray: 5.0,5.0;\" x1=\"511\" x2=\"511\" y1=\"38.4883\" y2=\"189.7305\"/><line style=\"stroke: #A80036; stroke-width: 1.0; stroke-dasharray: 5.0,5.0;\" x1=\"602\" x2=\"602\" y1=\"38.4883\" y2=\"189.7305\"/><rect fill=\"#FEFECE\" filter=\"url(#f1)\" height=\"30.4883\" style=\"stroke: #A80036; stroke-width: 1.5;\" width=\"54\" x=\"8\" y=\"3\"/><text fill=\"#000000\" font-family=\"sans-serif\" font-size=\"14\" lengthAdjust=\"spacingAndGlyphs\" textLength=\"40\" x=\"15\" y=\"23.5352\">Client</text><rect fill=\"#FEFECE\" filter=\"url(#f1)\" height=\"30.4883\" style=\"stroke: #A80036; stroke-width: 1.5;\" width=\"54\" x=\"8\" y=\"188.7305\"/><text fill=\"#000000\" font-family=\"sans-serif\" font-size=\"14\" lengthAdjust=\"spacingAndGlyphs\" textLength=\"40\" x=\"15\" y=\"209.2656\">Client</text><rect fill=\"#FEFECE\" filter=\"url(#f1)\" height=\"30.4883\" style=\"stroke: #A80036; stroke-width: 1.5;\" width=\"178\" x=\"76\" y=\"3\"/><text fill=\"#000000\" font-family=\"sans-serif\" font-size=\"14\" lengthAdjust=\"spacingAndGlyphs\" textLength=\"164\" x=\"83\" y=\"23.5352\">DrawingAbstractFactory</text><rect fill=\"#FEFECE\" filter=\"url(#f1)\" height=\"30.4883\" style=\"stroke: #A80036; stroke-width: 1.5;\" width=\"178\" x=\"76\" y=\"188.7305\"/><text fill=\"#000000\" font-family=\"sans-serif\" font-size=\"14\" lengthAdjust=\"spacingAndGlyphs\" textLength=\"164\" x=\"83\" y=\"209.2656\">DrawingAbstractFactory</text><rect fill=\"#FEFECE\" filter=\"url(#f1)\" height=\"30.4883\" style=\"stroke: #A80036; stroke-width: 1.5;\" width=\"106\" x=\"268\" y=\"3\"/><text fill=\"#000000\" font-family=\"sans-serif\" font-size=\"14\" lengthAdjust=\"spacingAndGlyphs\" textLength=\"92\" x=\"275\" y=\"23.5352\">ShapeFactory</text><rect fill=\"#FEFECE\" filter=\"url(#f1)\" height=\"30.4883\" style=\"stroke: #A80036; stroke-width: 1.5;\" width=\"106\" x=\"268\" y=\"188.7305\"/><text fill=\"#000000\" font-family=\"sans-serif\" font-size=\"14\" lengthAdjust=\"spacingAndGlyphs\" textLength=\"92\" x=\"275\" y=\"209.2656\">ShapeFactory</text><rect fill=\"#FEFECE\" filter=\"url(#f1)\" height=\"30.4883\" style=\"stroke: #A80036; stroke-width: 1.5;\" width=\"56\" x=\"388\" y=\"3\"/><text fill=\"#000000\" font-family=\"sans-serif\" font-size=\"14\" lengthAdjust=\"spacingAndGlyphs\" textLength=\"42\" x=\"395\" y=\"23.5352\">Shape</text><rect fill=\"#FEFECE\" filter=\"url(#f1)\" height=\"30.4883\" style=\"stroke: #A80036; stroke-width: 1.5;\" width=\"56\" x=\"388\" y=\"188.7305\"/><text fill=\"#000000\" font-family=\"sans-serif\" font-size=\"14\" lengthAdjust=\"spacingAndGlyphs\" textLength=\"42\" x=\"395\" y=\"209.2656\">Shape</text><rect fill=\"#FEFECE\" filter=\"url(#f1)\" height=\"30.4883\" style=\"stroke: #A80036; stroke-width: 1.5;\" width=\"102\" x=\"458\" y=\"3\"/><text fill=\"#000000\" font-family=\"sans-serif\" font-size=\"14\" lengthAdjust=\"spacingAndGlyphs\" textLength=\"88\" x=\"465\" y=\"23.5352\">ColorFactory</text><rect fill=\"#FEFECE\" filter=\"url(#f1)\" height=\"30.4883\" style=\"stroke: #A80036; stroke-width: 1.5;\" width=\"102\" x=\"458\" y=\"188.7305\"/><text fill=\"#000000\" font-family=\"sans-serif\" font-size=\"14\" lengthAdjust=\"spacingAndGlyphs\" textLength=\"88\" x=\"465\" y=\"209.2656\">ColorFactory</text><rect fill=\"#FEFECE\" filter=\"url(#f1)\" height=\"30.4883\" style=\"stroke: #A80036; stroke-width: 1.5;\" width=\"52\" x=\"574\" y=\"3\"/><text fill=\"#000000\" font-family=\"sans-serif\" font-size=\"14\" lengthAdjust=\"spacingAndGlyphs\" textLength=\"38\" x=\"581\" y=\"23.5352\">Color</text><rect fill=\"#FEFECE\" filter=\"url(#f1)\" height=\"30.4883\" style=\"stroke: #A80036; stroke-width: 1.5;\" width=\"52\" x=\"574\" y=\"188.7305\"/><text fill=\"#000000\" font-family=\"sans-serif\" font-size=\"14\" lengthAdjust=\"spacingAndGlyphs\" textLength=\"38\" x=\"581\" y=\"209.2656\">Color</text><polygon fill=\"#A80036\" points=\"155,50.4883,165,54.4883,155,58.4883,159,54.4883\" style=\"stroke: #A80036; stroke-width: 1.0;\"/><line style=\"stroke: #A80036; stroke-width: 1.0;\" x1=\"37\" x2=\"161\" y1=\"54.4883\" y2=\"54.4883\"/><polygon fill=\"#A80036\" points=\"311,79.4883,321,83.4883,311,87.4883,315,83.4883\" style=\"stroke: #A80036; stroke-width: 1.0;\"/><line style=\"stroke: #A80036; stroke-width: 1.0;\" x1=\"37\" x2=\"317\" y1=\"83.4883\" y2=\"83.4883\"/><text fill=\"#000000\" font-family=\"sans-serif\" font-size=\"13\" lengthAdjust=\"spacingAndGlyphs\" textLength=\"65\" x=\"44\" y=\"79.0566\">getShape()</text><polygon fill=\"#A80036\" points=\"406,108.7988,416,112.7988,406,116.7988,410,112.7988\" style=\"stroke: #A80036; stroke-width: 1.0;\"/><line style=\"stroke: #A80036; stroke-width: 1.0;\" x1=\"37\" x2=\"412\" y1=\"112.7988\" y2=\"112.7988\"/><text fill=\"#000000\" font-family=\"sans-serif\" font-size=\"13\" lengthAdjust=\"spacingAndGlyphs\" textLength=\"41\" x=\"44\" y=\"108.3672\">show()</text><polygon fill=\"#A80036\" points=\"499,138.1094,509,142.1094,499,146.1094,503,142.1094\" style=\"stroke: #A80036; stroke-width: 1.0;\"/><line style=\"stroke: #A80036; stroke-width: 1.0;\" x1=\"37\" x2=\"505\" y1=\"142.1094\" y2=\"142.1094\"/><text fill=\"#000000\" font-family=\"sans-serif\" font-size=\"13\" lengthAdjust=\"spacingAndGlyphs\" textLength=\"64\" x=\"44\" y=\"137.6777\">getCOlor()</text><polygon fill=\"#A80036\" points=\"590,167.4199,600,171.4199,590,175.4199,594,171.4199\" style=\"stroke: #A80036; stroke-width: 1.0;\"/><line style=\"stroke: #A80036; stroke-width: 1.0;\" x1=\"37\" x2=\"596\" y1=\"171.4199\" y2=\"171.4199\"/><text fill=\"#000000\" font-family=\"sans-serif\" font-size=\"13\" lengthAdjust=\"spacingAndGlyphs\" textLength=\"25\" x=\"44\" y=\"166.9883\">fill()</text></g></svg>"
      ],
      "text/plain": [
       "<IPython.core.display.SVG object>"
      ]
     },
     "execution_count": 11,
     "metadata": {},
     "output_type": "execute_result"
    }
   ],
   "source": [
    "%%plantuml\n",
    "@startuml\n",
    "Client -> DrawingAbstractFactory\n",
    "Client -> ShapeFactory:getShape()\n",
    "Client -> Shape:show()\n",
    "Client -> ColorFactory:getCOlor()\n",
    "Client -> Color:fill()\n",
    "@enduml"
   ]
  }
 ],
 "metadata": {
  "celltoolbar": "Slideshow",
  "kernelspec": {
   "display_name": "Python 2",
   "language": "python",
   "name": "python2"
  },
  "language_info": {
   "codemirror_mode": {
    "name": "ipython",
    "version": 2
   },
   "file_extension": ".py",
   "mimetype": "text/x-python",
   "name": "python",
   "nbconvert_exporter": "python",
   "pygments_lexer": "ipython2",
   "version": "2.7.12"
  }
 },
 "nbformat": 4,
 "nbformat_minor": 0
}
