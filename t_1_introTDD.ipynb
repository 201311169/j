{
 "cells": [
  {
   "cell_type": "markdown",
   "metadata": {
    "slideshow": {
     "slide_type": "slide"
    }
   },
   "source": [
    "# 1. 소프트웨어 개발\n",
    "\n",
    "## 1.1 학습내용\n",
    "\n",
    "### 1.1.1 강의목표\n",
    "\n",
    "* SW는 개인이 만드는 것으로 생각하기 쉽다. SW는 규모가 커지면 (큰 건물처럼), 혼자서 만들 수 없다. \n",
    "* 공동작업을 하려면 규칙이 필요하다. '누가' '언제' '무엇을' '어떻게' 할 것인지 작업절차 및 산출물, 즉 개발방법을 정해야 한다.\n",
    "* 강의에서는 개발방법으로 TDD를 배운다. (아파트 단지를 '주먹구구식'으로 짓는다면... 사건사고가 끊이지 않을 것이다)\n",
    "* TDD를 사용하면, 분할하여 구현하고, 테스트가 성공했다는 게임과 같은 재미를 느낄 수 있다.\n",
    "* 강의 목표를 요약하면:\n",
    "    * 개발방법으로 TDD를 배우는 것\n",
    "    * TDD를 통해 프로그래밍의 '재미'와 '할 수 있다'는 경험을 가지는 것."
   ]
  },
  {
   "cell_type": "markdown",
   "metadata": {
    "slideshow": {
     "slide_type": "subslide"
    }
   },
   "source": [
    "### 1.1.1 목표\n",
    "\n",
    "* 소프트웨어를 개발하는 방법을 이해하고, 어떤 상황에 적용하는 것이 타당한지 알 수 있다.\n",
    "* Test Driven Development를 사용하여 소프트웨어를 개발하는 방법을 이해한다.\n",
    "\n",
    "### 1.1.3 문제\n",
    "\n",
    "* 문제 1-1: Red-Green-Refactor 단계에서 Red를 설명.\n",
    "* 문제 1-2: TDD가 소프트웨어 설계라고 하는 의미를 설명."
   ]
  },
  {
   "cell_type": "markdown",
   "metadata": {
    "slideshow": {
     "slide_type": "subslide"
    }
   },
   "source": [
    "## 1.2 소프트웨어 개발이 어려워요...\n",
    "\n",
    "### 전공을 해도 프로그램을 못한다\n",
    "\n",
    "* 온라인 신문 기사, 자녀의 대학입학을 앞둔 부모의 걱정 '전공을 뭣을 해야 취업이 되것어?'\n",
    "* 컴퓨터를 전공한다고 해도 프로그래밍을 못한다는 기사. 결국 '뭣이 중헌디? 전공이 중허냐고?'\n",
    "    * [조선일보 2016년 10월 4일 \"컴퓨터공학과 출신이 프로그래밍도 못해… 황당할 뿐\"](http://news.chosun.com/site/data/html_dir/2016/10/04/2016100400332.html)\n",
    "    * [매일경제 2015년 6월 16일 컴퓨터공학과 나와도 코딩 '쩔쩔'](http://news.mk.co.kr/newsRead.php?year=2015&no=574273)\n",
    "    * [ZDNet Korea, 2015년 1월 30일 컴공 전공자가 왜 SW 개발을 못하나](http://www.zdnet.co.kr/news/news_view.asp?artice_id=20150130172152)"
   ]
  },
  {
   "cell_type": "markdown",
   "metadata": {
    "slideshow": {
     "slide_type": "subslide"
    }
   },
   "source": [
    "### 전공은 하지만 코딩은 하기 싫다\n",
    "\n",
    "* 인터넷에 '컴공' 입력하면 연관 검색어 '코딩'\n",
    "    * \"컴공인데 코딩이 하기 싫어요...\", \"점수 맞춰 왔어요...\", \"다른 애들이 하는 걸 보면 기죽어요...\"\n",
    "    * 컴퓨터 전공을 하는 많은 학생들의 관심은 취업하려면 어떻게 해야 하나\n",
    "    * '스스로 뭔가를 만들어 보라'는 선배들의 조언. 실제 많은 사람이 사용하는 소프트웨어를 만들어 보라."
   ]
  },
  {
   "cell_type": "markdown",
   "metadata": {
    "slideshow": {
     "slide_type": "subslide"
    }
   },
   "source": [
    "### 우리나라의 컴퓨터 관련 직업 현실\n",
    "\n",
    "* 6개월 교육을 받으면, 대체가 가능한 단순한 코딩\n",
    "* 소프트웨어에 대한 정부의 국가적 과제로서의 인식과 체계적 인력양성 정책 부재\n",
    "* 개발자의 3D, '코딩노예'\n",
    "* 컴퓨터 관련학과의 엄격하지 못한 학사관리 - 코딩을 못해도 졸업할 수 있다."
   ]
  },
  {
   "cell_type": "markdown",
   "metadata": {
    "slideshow": {
     "slide_type": "subslide"
    }
   },
   "source": [
    "### 그러나 미래는 밝다.\n",
    "\n",
    "* 선진국에서는 컴퓨터 관련 학과의 선호가 높다. 연봉 순위도 높은 편이다.\n",
    "* 입시성적 상향, 복수 전공 신청 증가, 정부의 정책변화\n",
    "* [한국경제 2015년 5월 26일 부활하는 컴퓨터학과…대입 합격선 자연계 최상위권 '수직상승'](http://news.hankyung.com/article/2015052630831)\n",
    "* [조선일보 2016년 2월 11 '굴뚝+SW 시대'… 소프트웨어 학과 부활](http://biz.chosun.com/site/data/html_dir/2016/02/10/2016021002194.html)\n",
    "* [베리타스알파, 2016년 9월 2일 2018‘SW특기자’ 도입, ‘특기자 부활의 신호탄?’](http://www.veritas-a.com/news/articleView.html?idxno=62809)"
   ]
  },
  {
   "cell_type": "markdown",
   "metadata": {
    "slideshow": {
     "slide_type": "subslide"
    }
   },
   "source": [
    "## 1.3 소프트웨어를 만드는 것이 왜 어려울까\n",
    "\n",
    "* '눈에 보이지 않는 것'을 만드는 것은 '눈에 보이는 것'을 만드는 것보다 어렵다. 몰타 수도 발레타를 그려본다면...\n",
    "* '여러 사람이 쓰는 것'을 만드는 것은 '혼자 쓰는 것'을 만드는 것보다 어렵다. 나 혼자 먹는 음식을 손님에게...\n",
    "* 만들기 어려우면서 '왜 만들어야 하는지' 모르면서 만들게 되면 포기하기 쉽다. 월급도 받지 않고 직장에 나가면..."
   ]
  },
  {
   "cell_type": "markdown",
   "metadata": {
    "slideshow": {
     "slide_type": "subslide"
    }
   },
   "source": [
    "## 1.3 왜 소프트웨어를 만들지..?\n",
    "\n",
    "### Job vs Enjoy\n",
    "\n",
    "* DZone에 올라온 2010년의 한 질문 **What Makes You Passionate About Software Development?**에 대한 답글\n",
    "    * 소프트웨어는 1) 직업으로 만드는 경우, 2) 직업이 아니더라도 그냥 개발이 즐거워서 하는 경우로 답글이 달려 있다.\n",
    "    * 직업으로 프로그래밍을 하는 경우, 직업이니까 퇴근하면 하지 않으려고 해... some people are programmers just because pay is good, and/or there are (were?) many job opportunities, without being too exhausting... Beside the office, they wouldn't touch a compiler/interpreter/IDE with a 10ft pole!\n",
    "    * 프로그래밍이 그냥 즐겁고 나를 열정적으로 만들어. 집에서라도 시간만 나면 개인프로젝트를 만들어 뭔가를 하지. 그래서 그렇게 많은 무료 오픈소스가 만들어지는 이유이기도 하지! Others, probably a vast majority of DZone readers, just enjoy programming, or are passionate about it, and if time permits code at home on personal projects.That's how we get so many freewares, open source or not, from IrfanView to 7-Zip.\n",
    "    * 나는 도전을 해. 문제가 해결되거나 뭔가 쓸만한 것을 만들고 나면 짜릿함을 느껴! I am on the latter category. Beside being a geek, enjoying technology, new, shiny things (softwares, libraries, languages...), I mostly code just for the thrill, for the intellectual challenge, to solve problems and make useful things: for example I edit with a text editor I contributed to, fixing things that annoyed me, adding features that I wanted... Giving useful things to the community (and getting them) is also rewarding."
   ]
  },
  {
   "cell_type": "markdown",
   "metadata": {
    "slideshow": {
     "slide_type": "subslide"
    }
   },
   "source": [
    "### '지식'과 '열정' 사이... 'HOW' vs 'WHY'\n",
    "\n",
    "* 학교에서 '어떻게'는 배울 수 있다.\n",
    "* '왜'는 가르쳐 줄 수 없다.\n",
    "* 내가 왜 이걸 배워야 할까...? 대답은 스스로 해야 한다. \n",
    "* '만들고 싶은 소프트웨어가 있다' '재미있다' passionate enthusiastic motivated\n",
    "* 열정은 어떻게 생겨나는 것일까\n",
    "    * '이것을 하겠다' 목적\n",
    "    * '해냈다' 성취\n",
    "    * '어떻게 하는지 알아' 적용\n",
    "\n",
    "질문 | 소프트웨어를 **어떻게** 만들까 | 소프트웨어를 **왜** 만들어야 할까\n",
    "-----|-----|-----\n",
    "가능한 답 | SE, 언어, 도구, 자료구조, 알고리즘 | 학점, 취업 전망, 공모전...\n",
    "대답을 하지 못할 경우 | \"강의를 들어야겠군.\"<br>\"자료를 찾아봐야겠군.\"  | \"지루하다...\"<br>\"어려워서 못하겠다...\"<br>\"코딩을 하기 싫다. 안 할 수 있을까...\"<br>\"디자인으로 취업하자...\"\n",
    "대답을 할 수 있는 경우 | 취업 면접에 '좔좔좔' 막힘없이 | \"프로그램으로 취업해야지!\"<br>\"해보니 재미있네...\"<br>\"아는만큼 재미있다.\""
   ]
  },
  {
   "cell_type": "markdown",
   "metadata": {
    "slideshow": {
     "slide_type": "subslide"
    }
   },
   "source": [
    "### 왜 만드는지는 알 수 있다고 해! '그렇지만... 내가 할 수 있을까...'\n",
    "\n",
    "* '내가 할 수 있을까?' '내가 소프트웨어를 만들 수 있을까?'라는 질문의 답은:\n",
    "    * 아는만큼 할 수 있다. 아는만큼 재미있다.\n",
    "* 소프트웨어, 프로그래밍의 출발은 '재미'가 있어야 한다!!!\n",
    "    * '내가' 만들고 싶은 것이 있어야 한다.\n",
    "    * 실제 쓰여야 한다."
   ]
  },
  {
   "cell_type": "markdown",
   "metadata": {
    "slideshow": {
     "slide_type": "subslide"
    }
   },
   "source": [
    "## 1.4 소프트웨어를 과학적으로 개발\n",
    "\n",
    "* 소프트웨어는 첨단 산업이지만, '주먹구구식'으로 만들어지고 있다.\n",
    "    * 개발하는 방법이 없다. 일단 개발을 하고 본다. 요구사항을 분석하지 않는다. 명세가 없다.\n",
    "    * 개발 소스코드는 관리되고 있지 않고 있다. 형상관리를 하지 않는다.\n",
    "    * 개발 기한을 지키지 못한다. 구현될 때까지 개발한다...\n",
    "* 소프트웨어는:\n",
    "    * 요구사항을 정확하고, 완전하게 받아서, 실행할 수 있는 시스템으로 변환하는 것\n",
    "    * 품질이 좋은, 주어진 비용과 자원으로, 기간 내에 생산하는 것\n",
    "* 과학적으로 만든다는 것은\n",
    "    * 소프트웨어를 잘 만드는 방법을 알고 있다.\n",
    "    * 재현가능성 reproducibility\n",
    "        * 그 방법으로 하면 항상 소프트웨어를 잘 만든다."
   ]
  },
  {
   "cell_type": "markdown",
   "metadata": {
    "slideshow": {
     "slide_type": "subslide"
    }
   },
   "source": [
    "## 1.5 소프트웨어를 더 잘 만드려면\n",
    "\n",
    "* 소프트웨어를 정량적으로 만든다. 품질, 일정, 예산 관련 목표를 정한다.\n",
    "    * 품질을 측정한다.\n",
    "    * 투입시간을 측정한다.\n",
    "    * 일정을 측정한다.\n",
    "\n",
    "* 측정의 예\n",
    "    * 투입공수 Man-Hour\n",
    "    * 크기 Lines of Code\n",
    "    * 오류 Number of Bugs, Test Coverage\n",
    "\n",
    "측정 | 측정 식\n",
    "-----|-----\n",
    "품질 | 오류의 수 / 크기\n",
    "생산성 | 크기 / 투입공수\n",
    "비용 | 비용 / 크기\n",
    "문서화 | 페이지 / 크기\n"
   ]
  },
  {
   "cell_type": "markdown",
   "metadata": {
    "slideshow": {
     "slide_type": "subslide"
    }
   },
   "source": [
    "## 1.6 소프트웨어 개발 방법\n",
    "\n",
    "년도 | 구분 | 대표적 방법론\n",
    "-----|-----|-----\n",
    "1980 | 구조적 방법론 | Royce,1970. Boehm, 1986\n",
    "1990 | 객체지향 방법론 | RUP, 1999\n",
    "2000 | 경량방법론 | Beck, K. et al., 2001\n",
    "\n",
    "* Royce, W. W., 1970, Managing the development of large software systems, Proceedings of IEEE Wescon, pp.382-338.\n",
    "* Boehm B, \"A Spiral Model of Software Development and Enhancement\", ACM SIGSOFT Software Engineering Notes, ACM, 11(4):14-24, August 1986\n",
    "* Ivar Jacobson, Grady Booch, and James Rumbaugh (1999). The Unified Software Development Process\n",
    "* Kent Beck, James Grenning, Robert C. Martin, Mike Beedle, Jim Highsmith, Steve Mellor, Arie van Bennekum, Andrew Hunt, Ken Schwaber, Alistair Cockburn, Ron Jeffries, Jeff Sutherland, Ward Cunningham, Jon Kern, Dave Thomas, Martin Fowler, Brian Marick (2001). \"Manifesto for Agile Software Development\". Agile Alliance."
   ]
  },
  {
   "cell_type": "markdown",
   "metadata": {
    "slideshow": {
     "slide_type": "subslide"
    }
   },
   "source": [
    "* '뜨는' 개발방법\n",
    "    * XP\n",
    "    * Scrum\n",
    "    * Kanban\n",
    "    * DevOp"
   ]
  },
  {
   "cell_type": "markdown",
   "metadata": {
    "slideshow": {
     "slide_type": "subslide"
    }
   },
   "source": [
    "## 1.7 Software Development Life Cycle\n",
    "\n",
    "* 계획\n",
    "* 요구사항\n",
    "* 분석\n",
    "* 설계\n",
    "* 구현\n",
    "* 테스트\n",
    "* 배포\n",
    "* 유지보수\n",
    "* 폐기"
   ]
  },
  {
   "cell_type": "markdown",
   "metadata": {
    "slideshow": {
     "slide_type": "subslide"
    }
   },
   "source": [
    "### 1.8 TDD\n",
    "\n",
    "#### 왜 테스트를 해야 하는가\n",
    "\n",
    "* 실제 소프트웨어 개발에서 테스트는 무시되는 경향이 있다.\n",
    "    * 주먹구구식 개발. 개발부터 하고 본다.\n",
    "    * 시간이 없다, 급하다.\n",
    "    * 테스트를 안하는 것이 절약이다.\n",
    "\n",
    "* Kent Beck\n",
    "    * 코딩하려고 하지만 테스트를 만들 수 없다면, 코딩을 하려고 생각조차 하지 말아야 한다!\n",
    "    \"...If you can’t write a test for what you are about to code, then you shouldn’t even be thinking about coding...\"\n",
    "\n",
    "* TDD는 Extreme Programming으로 유명\n",
    "* 테스트하는 방법이 아니라, 소프트웨어를 구현하는 방법"
   ]
  },
  {
   "cell_type": "markdown",
   "metadata": {
    "slideshow": {
     "slide_type": "subslide"
    }
   },
   "source": [
    "#### Test First vs Test Last\n",
    "\n",
    "구분 | 설명\n",
    "-----|-----\n",
    "Test First | 테스트를 먼저 하고, 구현을 나중에\n",
    "Test Last | 전통적인 방식. 구현을 먼저하고 테스트를 나중에 한다.\n",
    "\n",
    "* test last는 구현하고 테스트를 하기 때문에\n",
    "    * 자신의 코드를 파괴하는 것은 피하려고 한다.\n",
    "        * 구현하지 않은 것, 실패할 것은 제외하려고\n",
    "        * 테스트를 아예 하려고 하지 않는다.\n",
    "* test first extreme programming\n",
    "    * 구현을 하기 전 테스트를 먼저 작성한다."
   ]
  },
  {
   "cell_type": "markdown",
   "metadata": {
    "slideshow": {
     "slide_type": "subslide"
    }
   },
   "source": [
    "#### Red-Green-Refactor\n",
    "\n",
    "* 테스트 쓰고\n",
    "* 테스트를 실행\n",
    "* 실제 코딩\n",
    "* 테스트 실행\n",
    "* refactor\n",
    "* 테스트"
   ]
  }
 ],
 "metadata": {
  "celltoolbar": "Slideshow",
  "kernelspec": {
   "display_name": "Python 2",
   "language": "python",
   "name": "python2"
  },
  "language_info": {
   "codemirror_mode": {
    "name": "ipython",
    "version": 2
   },
   "file_extension": ".py",
   "mimetype": "text/x-python",
   "name": "python",
   "nbconvert_exporter": "python",
   "pygments_lexer": "ipython2",
   "version": "2.7.12"
  }
 },
 "nbformat": 4,
 "nbformat_minor": 0
}
