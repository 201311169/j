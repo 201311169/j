{
 "cells": [
  {
   "cell_type": "markdown",
   "metadata": {
    "slideshow": {
     "slide_type": "slide"
    }
   },
   "source": [
    "# Good Software\n",
    "\n",
    "## 1.1 강의내용\n",
    "\n",
    "* 좋은 소프트웨어란? 사람(개발자) 중심의 프로그래밍.\n",
    "* 디자인패턴이란? 사람(개발자)이 사용하기 쉽게 문제를 풀어 놓은 것.\n",
    "    * 디자인패턴 요소\n",
    "    * 디자인패턴 종류\n",
    "* 설계원칙\n",
    "    * 프로그램의 소스코드가 중복된다는 것은 재사용된다는 것 -> 분리 -> 상속? 연관?\n",
    "    * 변하는 부분을 고정부분과 분리함 -> 상속? 연관?\n",
    "    * SOLID (Martin, R.C., 2000)\n",
    "* 참조 HFDP Ch1\n",
    "* 프로그래밍\n",
    "    * 'Duck' (HFDP Ch1)\n",
    "    * Sort\n",
    "* Code Conventions for the Java Programming Language \n",
    "http://www.oracle.com/technetwork/java/javase/documentation/codeconvtoc-136057.html"
   ]
  },
  {
   "cell_type": "markdown",
   "metadata": {},
   "source": [
    "## 1.2 SW 왜 문제인가?\n",
    "\n",
    "### 1.2.1 SW Crisis\n",
    "\n",
    "- 소프트웨어 위기는 1968년 독일에서 열린 NATO 소프트웨어공학 학회에서 처음 사용된 말.\n",
    "- HW비용에 비해 SW비용이 상대적으로 높아짐.\n",
    "- 위기의 원인\n",
    "    * HW에 있지 않고 SW에 있다.\n",
    "    * SW개발 속도가 HW개발을 따라가지 못함.\n",
    "        * 계획된 SW납기를 맞추지 못한다.\n",
    "        * 계획된 SW인력보다 많이 필요해서 밤샘을 해야 한다.\n",
    "        * SW품질을 맞추지 못한다.\n",
    "\n",
    "### 1.2.2 SW 품질\n",
    "\n",
    "#### 1.2.2.1 건축에 비유\n",
    "\n",
    "- 집을 건축한다고 하자. 어떻게 그 품질을 판단하는가?\n",
    "- 방을 계획보다 1개 적게 만들었다?\n",
    "- 이사할 일자를 맞추지 못한다?\n",
    "- 계획한 예산보다 비용이 많이 들었다?\n",
    "- 설계와 같이 잘 만들었어도, 납기 및 비용도 중요하다.\n",
    "\n",
    "#### 1.2.2.2 SW로 돌아와서\n",
    "\n",
    "- ISO/IEC 9126\n",
    "- SW품질의 문제는 -> 정해진 시간에, 정해진 노력으로, 정해진 요구사항을 해결하지 못함.\n",
    "    * 정해진 시간에? 아무리 잘 만들어도 시간이 초과되지 말아야 함.\n",
    "    * 정해진 노력으로? 인건비는 비용. 또한 시간. 인건비는 증가하기 힘들다.\n",
    "        * 노력은 Man-Month로 측정. 시간과 동일하면서 비용이기도 함.\n",
    "        * 정해진 노력으로 하지 못하면 밤을 새워야 한다.\n",
    "    * 정해진 요구사항?\n",
    "        * 사용자가 원하는 기능을 말한다. 개발자가 원하는 기능이 아니다!\n",
    "- 건축은 눈으로 보이지만, SW는 보이지 않는 제품이라 '좋은지?' 판단하기 더욱 어려운 문제이다.\n",
    "\n",
    "### 1.2.3 SW 심각성\n",
    "\n",
    "- SW가 대형화하면서 더욱 위기가 심각\n",
    "    * 대기업 프로그램을 10,000,000 LOC라고 하면 700권\n",
    "        * 1 페이지에 50문장이라면, 20만 페이지\n",
    "        * 책 한 권을 300페이지라면, 약 700권\n",
    "        * 프로그램 700권! 방의 온 벽면을 채우고도 남을 분량!\n",
    "    * 개발비용은 1 LOC에 3만원이라고 하면 3천억원\n",
    "        * 단순 한 줄 프로그래밍이 아니라 + 요구분석 + 설계 + 테스트 + 문서화 + 인수 모두 포함\n",
    "- SW대형화로 인한 문제\n",
    "    * SW 대형화로 인한 협업의 문제\n",
    "        * 설계의 중요성.\n",
    "        * 대형 SW를 분할, 나누어 개발하고, 통합.\n",
    "    * SW 대형화로 인한 요구사항의 문제\n",
    "        * 요구사항과 개발의 비유 - 요구사항을 배에 실어서 강을 안전하게 (개발해서) 건너기\n",
    "        * 요구사항이 늘어나면 배가 가라 앉고, 배에 탄 승객도 불편하다.\n",
    "        * 배에 타려는 사용자는 늘어나게 마련이고, 승선인원은 정해져 있다.\n",
    "- SW 오류의 심각성\n",
    "    * SW는 눈에 보이지 않아서 그 오류의 심각성을 중하게 생각하지 않는 경향이 있다.\n",
    "    * 그러나, SW오류로 인해 의료/국방분야에서는 생명의 손실이 발생할 수 있고,\n",
    "    * 금융/재무분야에서는 금전적인 경제손실이 발생할 수 있다 (mission critical)"
   ]
  },
  {
   "cell_type": "markdown",
   "metadata": {
    "slideshow": {
     "slide_type": "slide"
    }
   },
   "source": [
    "## 1.3  Good SW\n",
    "\n",
    "### 1.3.1 Good SW란 무엇인가?\n",
    "\n",
    "- 좋은 차가 무엇인가?\n",
    "    * 가격? 색상? 엔진?\n",
    "    * 좋은 차는 눈에 보이는 것을 판단하므로 비교적 쉽다.\n",
    "- 좋은 사람은? 좋은 SW? 눈에 보이지 않는 특성.\n",
    "- 좋은 SW는 **사람중심**\n",
    "    - 좋은 SW란? 기능성, 효율성뿐만 아니라 유지보수성, 재사용성, 가독성 등이 중요하다.\n",
    "    - 좋은 SW는 그 기능을 다하는 것도 중요하지만 (여기서도 사용자가 원하는 기능이 중요),\n",
    "    - 그에 못지 않게 고치기 쉽고, 추상성을 높여 재사용을 하기 쉽게 하고, 읽기 좋게 해야 한다\n",
    "    - SW는 기계가 컴파일하고 실행하지만, 고치는 몫은 사람이다.\n",
    "    - 읽기 쉽게 만들지 않으면 인건비 및 유지보수 비용이 늘어나게 된다.\n",
    "- 재사용에 초점\n",
    "    * SW위기의 핵심은 HW가 아니라 SW!\n",
    "    * 신규개발과 유지보수\n",
    "        * SW도 수명이 있다. 보통 10살을 살기 힘들다. 강아지보다 짧은 수명을 가진다.\n",
    "        * 수명을 짧게 하는 이유는 (사람이) 고치기 힘든 소스코드. HW를 힘들게 하는 소스코드 때문이 아니다!\n",
    "            * 중복\n",
    "            * 전역변수의 사용\n",
    "            * 죽은 소스코드.\n",
    "    * 좋은 SW는 만들어 놓으면\n",
    "        * 중복이 없고, 수정하기 쉽고\n",
    "        * 이해하기 쉬어서, 수정하기 쉽고\n",
    "        * 다른 사람이 가져다 쓰기 편리하고\n",
    "\n",
    "### 1.3.2 Good SW의 설계\n",
    "\n",
    "* Simon 모델\n",
    "    * Newell, A., and Simon, H. Human problem solving, Prentice-Hall, Inc., 1972.\n",
    "    * Plan do see cycle (계획을 하지 않는 agile방식도 있다.)\n",
    "        * 기준을 정하고, 설계를 하고, 평가기준에 따라 해결되었는지?\n",
    "* 보통 SW는 기능, 효율성에 초점을 맞추어 개발.\n",
    "* 좋은 SW는 문제가 무엇이지? 어떻게 해결하지? 무엇이 좋아지는가? 3단계 질문 필요\n",
    "    1. 문제 - Smell? 좋은 SW관점에서 바라볼 때 문제가 될 수 있는지 따져보고\n",
    "    2. 대안 - 문제를 해결할 수 있는 방법은 무엇인지\n",
    "    3. 평가 - 문제가 얼마나 해결되는지\n",
    "    4. 선택 - 평가에 따라 문제를 해결하는 방법을 선택\n",
    "\n",
    "### 1.3.3 좋은 생각에서 출발\n",
    "\n",
    "* 좋은 SW가 시장에서 비싼 가격으로 팔리지 않을 수 있다. 눈에 보이지 않는 제품의 특성.\n",
    "* 악화가 양화를 구축한다.\n",
    "    * 좋은 SW는 시장에서 평가를 받지 못하고, 나쁜 SW가 유통되는 현상.\n",
    "* 프로의식을 가지고 좋은 SW를 만든다.\n",
    "    * 자신이 만든 SW를 오픈소스로 공개해도, 좋다는 평가를 받도록 하자."
   ]
  },
  {
   "cell_type": "markdown",
   "metadata": {},
   "source": [
    "## 1.4 상속\n",
    "\n",
    "* 왜 객체지향?\n",
    "    * SW Crisis를 해결하는 방안으로 패러다임이 변화\n",
    "    * SW비용을 줄이려는 방법은 개발자가 빠르게, 보다 잘 할 수 있게 -> 객체지향으로의 패러다임 변화\n",
    "* 객체지향 특징을 이해해야 한다.\n",
    "    * 비객체지향과 비교해서 무엇이 다른지? 즉 어떤 점이 프로그래밍을 향상하는지 이해.\n",
    "    * 무엇보다, 상속을 깊이 이해해야 한다.\n",
    "        * 언제 사용하는지?\n",
    "        * 언제 사용해서는 안되는지?\n",
    "    \n",
    "* 상속\n",
    "    * specialization/generalization (Animal - Dog, Cat)\n",
    "    * 상속의 경우\n",
    "        * 클래스 상속 (보통 클래스, 추상클래스)\n",
    "        * 인터페이스 상속\n",
    "    * Interface와 Abstract Class차이?\n",
    "        * interface는 marker 역할. 구현할 클래스의 시그니처만 정해 놓는다.\n",
    "        * abstract class는 구현하지 않는 함수를 가지게 된다.\n",
    "\n",
    "* overriding vs overloading\n",
    "    * 상속을 사용하면 superclass의 함수를 overriding하게 된다.\n",
    "    * 이 때 overloading과의 차이를 식별해야 한다.\n",
    "\n",
    "* 다형성\n",
    "    * 동적함수호출 DMI(Dynamic Method Invocation)\n",
    "    * 객체지향프로그래밍을 한다는 것은 상속을 쓰겠다는 것이고,\n",
    "    * 비객체지향에서 구현하기 어려운 다형성을 활용하겠다는 말이다.\n",
    "    * 다형성이란 컴파일시점에 선언된 클래스와 다른 객체를 실행시점에\n",
    "    사용하는 것으로 매우 재미있는 객체지향 프로그램을 만들 수 있게 된다\n",
    "        * 일반적으로 함수호출은 컴파일시점(compile time)에 결정.\n",
    "        * 그러나 다형성을 사용하면,\n",
    "            그 다형적 함수의 호출은 실행시점(run time)으로 결정이 늦춰짐.\n",
    "        * 이러한 특징을 late binding 또는 dynamic binding이라고 함.\n",
    "    * 예제 아래 auto변수(객체)는 Sedan Miniva Sportscar 어느 변수(객체)나\n",
    "        참조가능. 따라서 실행시점에 다형적 함수를 결정해서 호출함\n",
    "        (overriding한 함수)\n",
    "\n",
    "        ```\n",
    "        Automobile auto = new Sedan(Color.black);\n",
    "        ```\n",
    "\n",
    "        * 컴파일타임 (선언type으로) (overloading함수에 대해)\n",
    "            * auto.equals(autoObject)의 경우, equals(Object)을 실행\n",
    "        * 런타임 (실제type에 따라).\n",
    "            * autoObject.equals의 경우 automobile.equals\n",
    "            단 upcasting의 경우 (선언 obj <- 실제 auto),\n",
    "            * subclass 함수는 hidden.\n",
    "            * 따라서 argument는 감안하지 않음 (p.38)"
   ]
  },
  {
   "cell_type": "markdown",
   "metadata": {},
   "source": [
    "## 예제 upcasting and downcasting\n",
    "\n",
    "### 예제 목적\n",
    "\n",
    "* 상속을 사용하면 casting을 하게 된다.\n",
    "* 예제의 목적은 상속의 casting이해하는 것이다.\n",
    "* 거북이 사례의 이해\n",
    "    * 부모 Turtle -> 자식 WeightTurtle\n",
    "    * WeightTurtle은 무게를 가진다."
   ]
  },
  {
   "cell_type": "markdown",
   "metadata": {},
   "source": [
    "### 예제 클래스 다이어그램\n",
    "\n",
    "#### 환경 확인\n",
    "\n",
    "* plantuml을 ipython에서 사용하려면, plantuml.ja가 있는 디렉토리에 있어야 한다.\n",
    "* graphviz 경로가 설정되어야 한다.\n",
    "* 시스템에서 설정한 디렉토리가 아니면 (/usr/lib/) 설정해 준다.\n",
    "\n",
    "#### 온라인 도구\n",
    "\n",
    "* 환경설정이 여의치 않으면, 온라인 도구를 사용한다.\n",
    "    * http://www.planttext.com\n",
    "    * http://plantuml.com"
   ]
  },
  {
   "cell_type": "code",
   "execution_count": 2,
   "metadata": {
    "collapsed": false
   },
   "outputs": [
    {
     "name": "stdout",
     "output_type": "stream",
     "text": [
      "/Users/media/Code/git/sd/lib\n"
     ]
    }
   ],
   "source": [
    "%cd ~/Code/git/sd/lib"
   ]
  },
  {
   "cell_type": "code",
   "execution_count": 3,
   "metadata": {
    "collapsed": false
   },
   "outputs": [
    {
     "name": "stdout",
     "output_type": "stream",
     "text": [
      "-rw-r--r--@ 1 media  staff  3557460  8 22  2015 plantuml.jar\r\n"
     ]
    }
   ],
   "source": [
    "!ls -l plantuml.jar"
   ]
  },
  {
   "cell_type": "code",
   "execution_count": 6,
   "metadata": {
    "collapsed": false
   },
   "outputs": [
    {
     "name": "stdout",
     "output_type": "stream",
     "text": [
      "/opt/local/bin/dot\r\n"
     ]
    }
   ],
   "source": [
    "!which dot"
   ]
  },
  {
   "cell_type": "code",
   "execution_count": 7,
   "metadata": {
    "collapsed": false
   },
   "outputs": [
    {
     "name": "stdout",
     "output_type": "stream",
     "text": [
      "/opt/local/bin/dot\n"
     ]
    }
   ],
   "source": [
    "import os\n",
    "os.environ['GRAPHVIZ_DOT']='/opt/local/bin/dot'\n",
    "print os.environ['GRAPHVIZ_DOT']"
   ]
  },
  {
   "cell_type": "code",
   "execution_count": 8,
   "metadata": {
    "collapsed": false
   },
   "outputs": [
    {
     "name": "stdout",
     "output_type": "stream",
     "text": [
      "The environment variable GRAPHVIZ_DOT has been set to /opt/local/bin/dot\r\n",
      "Dot executable is /opt/local/bin/dot\r\n",
      "Dot version: dot - graphviz version 2.38.0 (20140413.2041)\r\n",
      "Installation seems OK. File generation OK\r\n"
     ]
    }
   ],
   "source": [
    "# 모두 되었으면 test명령어가 문제 없이 실행되어야 한다.\n",
    "!java -jar plantuml.jar -testdot"
   ]
  },
  {
   "cell_type": "markdown",
   "metadata": {},
   "source": [
    "#### 클래스 다이어그램 그려보기\n",
    "\n",
    "* Turtle은 \"Turtle Graphics with Java\" 검색해서 library 설치\n",
    "    * 1_hello_java.ipynb참조"
   ]
  },
  {
   "cell_type": "code",
   "execution_count": 4,
   "metadata": {
    "collapsed": false
   },
   "outputs": [
    {
     "name": "stdout",
     "output_type": "stream",
     "text": [
      "Installed plantuml_magics.py. To use it, type:\n",
      "  %load_ext plantuml_magics\n"
     ]
    }
   ],
   "source": [
    "%install_ext https://raw.githubusercontent.com/sberke/ipython-plantuml/master/plantuml_magics.py\n",
    "%load_ext plantuml_magics"
   ]
  },
  {
   "cell_type": "code",
   "execution_count": 22,
   "metadata": {
    "collapsed": false
   },
   "outputs": [
    {
     "name": "stdout",
     "output_type": "stream",
     "text": [
      "/Users/media/Code/git/sd/lib\n"
     ]
    }
   ],
   "source": [
    "%cd ~/Code/git/sd/lib"
   ]
  },
  {
   "cell_type": "code",
   "execution_count": 25,
   "metadata": {
    "collapsed": false
   },
   "outputs": [
    {
     "data": {
      "image/svg+xml": [
       "<svg height=\"276px\" style=\"width:119px;height:276px;\" version=\"1.1\" viewBox=\"0 0 119 276\" width=\"119px\" xmlns=\"http://www.w3.org/2000/svg\" xmlns:xlink=\"http://www.w3.org/1999/xlink\"><defs><filter height=\"300%\" id=\"f1\" width=\"300%\" x=\"-1\" y=\"-1\"><feGaussianBlur result=\"blurOut\" stdDeviation=\"2.0\"/><feColorMatrix in=\"blurOut\" result=\"blurOut2\" type=\"matrix\" values=\"0 0 0 0 0 0 0 0 0 0 0 0 0 0 0 0 0 0 .4 0\"/><feOffset dx=\"4.0\" dy=\"4.0\" in=\"blurOut2\" result=\"blurOut3\"/><feBlend in=\"SourceGraphic\" in2=\"blurOut3\" mode=\"normal\"/></filter></defs><g><rect fill=\"#FEFECE\" filter=\"url(#f1)\" height=\"125.7305\" style=\"stroke: #A80036; stroke-width: 1.5;\" width=\"84\" x=\"16\" y=\"8\"/><ellipse cx=\"39.1\" cy=\"24\" fill=\"#ADD1B2\" rx=\"11\" ry=\"11\" style=\"stroke: #A80036; stroke-width: 1.0;\"/><path d=\"M42.0731,29.6431 Q41.4921,29.9419 40.8529,30.0913 Q40.2138,30.2407 39.5082,30.2407 Q37.0014,30.2407 35.6815,28.5889 Q34.3617,26.937 34.3617,23.8159 Q34.3617,20.6865 35.6815,19.0347 Q37.0014,17.3828 39.5082,17.3828 Q40.2138,17.3828 40.8612,17.5322 Q41.5087,17.6816 42.0731,17.9805 L42.0731,20.7031 Q41.4423,20.1221 40.8488,19.8523 Q40.2553,19.5825 39.6244,19.5825 Q38.2797,19.5825 37.5949,20.6492 Q36.9101,21.7158 36.9101,23.8159 Q36.9101,25.9077 37.5949,26.9744 Q38.2797,28.041 39.6244,28.041 Q40.2553,28.041 40.8488,27.7712 Q41.4423,27.5015 42.0731,26.9204 Z \"/><text fill=\"#000000\" font-family=\"sans-serif\" font-size=\"12\" lengthAdjust=\"spacingAndGlyphs\" textLength=\"34\" x=\"54.9\" y=\"28.5352\">Turtle</text><line style=\"stroke: #A80036; stroke-width: 1.5;\" x1=\"17\" x2=\"99\" y1=\"40\" y2=\"40\"/><line style=\"stroke: #A80036; stroke-width: 1.5;\" x1=\"17\" x2=\"99\" y1=\"48\" y2=\"48\"/><ellipse cx=\"27\" cy=\"59.9775\" fill=\"#84BE84\" rx=\"3\" ry=\"3\" style=\"stroke: #038048; stroke-width: 1.0;\"/><text fill=\"#000000\" font-family=\"sans-serif\" font-size=\"11\" lengthAdjust=\"spacingAndGlyphs\" textLength=\"21\" x=\"36\" y=\"62.6348\">bk()</text><ellipse cx=\"27\" cy=\"72.9326\" fill=\"#84BE84\" rx=\"3\" ry=\"3\" style=\"stroke: #038048; stroke-width: 1.0;\"/><text fill=\"#000000\" font-family=\"sans-serif\" font-size=\"11\" lengthAdjust=\"spacingAndGlyphs\" textLength=\"19\" x=\"36\" y=\"75.5898\">fd()</text><ellipse cx=\"27\" cy=\"85.8877\" fill=\"#84BE84\" rx=\"3\" ry=\"3\" style=\"stroke: #038048; stroke-width: 1.0;\"/><text fill=\"#000000\" font-family=\"sans-serif\" font-size=\"11\" lengthAdjust=\"spacingAndGlyphs\" textLength=\"25\" x=\"36\" y=\"88.5449\">left()</text><ellipse cx=\"27\" cy=\"98.8428\" fill=\"#84BE84\" rx=\"3\" ry=\"3\" style=\"stroke: #038048; stroke-width: 1.0;\"/><text fill=\"#000000\" font-family=\"sans-serif\" font-size=\"11\" lengthAdjust=\"spacingAndGlyphs\" textLength=\"34\" x=\"36\" y=\"101.5\">right()</text><ellipse cx=\"27\" cy=\"111.7979\" fill=\"#84BE84\" rx=\"3\" ry=\"3\" style=\"stroke: #038048; stroke-width: 1.0;\"/><text fill=\"#000000\" font-family=\"sans-serif\" font-size=\"11\" lengthAdjust=\"spacingAndGlyphs\" textLength=\"43\" x=\"36\" y=\"114.4551\">penUp()</text><ellipse cx=\"27\" cy=\"124.7529\" fill=\"#84BE84\" rx=\"3\" ry=\"3\" style=\"stroke: #038048; stroke-width: 1.0;\"/><text fill=\"#000000\" font-family=\"sans-serif\" font-size=\"11\" lengthAdjust=\"spacingAndGlyphs\" textLength=\"58\" x=\"36\" y=\"127.4102\">penDown()</text><rect fill=\"#FEFECE\" filter=\"url(#f1)\" height=\"73.9102\" style=\"stroke: #A80036; stroke-width: 1.5;\" width=\"104\" x=\"6\" y=\"194\"/><ellipse cx=\"21\" cy=\"210\" fill=\"#ADD1B2\" rx=\"11\" ry=\"11\" style=\"stroke: #A80036; stroke-width: 1.0;\"/><path d=\"M23.9731,215.6431 Q23.3921,215.9419 22.7529,216.0913 Q22.1138,216.2407 21.4082,216.2407 Q18.9014,216.2407 17.5815,214.5889 Q16.2617,212.937 16.2617,209.8159 Q16.2617,206.6865 17.5815,205.0347 Q18.9014,203.3828 21.4082,203.3828 Q22.1138,203.3828 22.7612,203.5322 Q23.4087,203.6816 23.9731,203.9805 L23.9731,206.7031 Q23.3423,206.1221 22.7488,205.8523 Q22.1553,205.5825 21.5244,205.5825 Q20.1797,205.5825 19.4949,206.6492 Q18.8101,207.7158 18.8101,209.8159 Q18.8101,211.9077 19.4949,212.9744 Q20.1797,214.041 21.5244,214.041 Q22.1553,214.041 22.7488,213.7712 Q23.3423,213.5015 23.9731,212.9204 Z \"/><text fill=\"#000000\" font-family=\"sans-serif\" font-size=\"12\" lengthAdjust=\"spacingAndGlyphs\" textLength=\"72\" x=\"35\" y=\"214.5352\">WeightTurtle</text><line style=\"stroke: #A80036; stroke-width: 1.5;\" x1=\"7\" x2=\"109\" y1=\"226\" y2=\"226\"/><polygon fill=\"none\" points=\"17,232.9775,21,236.9775,17,240.9775,13,236.9775\" style=\"stroke: #B38D22; stroke-width: 1.0;\"/><text fill=\"#000000\" font-family=\"sans-serif\" font-size=\"11\" lengthAdjust=\"spacingAndGlyphs\" textLength=\"52\" x=\"26\" y=\"240.6348\">weight:int</text><line style=\"stroke: #A80036; stroke-width: 1.5;\" x1=\"7\" x2=\"109\" y1=\"246.9551\" y2=\"246.9551\"/><ellipse cx=\"17\" cy=\"258.9326\" fill=\"#84BE84\" rx=\"3\" ry=\"3\" style=\"stroke: #038048; stroke-width: 1.0;\"/><text fill=\"#000000\" font-family=\"sans-serif\" font-size=\"11\" lengthAdjust=\"spacingAndGlyphs\" textLength=\"78\" x=\"26\" y=\"261.5898\">getWeight():int</text><path d=\"M58,154.604 C58,168.4265 58,182.1011 58,193.9311 \" fill=\"none\" style=\"stroke: #A80036; stroke-width: 1.0;\"/><polygon fill=\"none\" points=\"51.0001,154.446,58,134.446,65.0001,154.446,51.0001,154.446\" style=\"stroke: #A80036; stroke-width: 1.0;\"/></g></svg>"
      ],
      "text/plain": [
       "<IPython.core.display.SVG object>"
      ]
     },
     "execution_count": 25,
     "metadata": {},
     "output_type": "execute_result"
    }
   ],
   "source": [
    "%%plantuml\n",
    "\n",
    "@startuml\n",
    "Turtle <|-- WeightTurtle\n",
    "class Turtle {\n",
    "    +bk()\n",
    "    +fd()\n",
    "    +left()\n",
    "    +right()\n",
    "    +penUp()\n",
    "    +penDown()\n",
    "}\n",
    "class WeightTurtle {\n",
    "  #weight:int\n",
    "  +getWeight():int\n",
    "}\n",
    "@enduml"
   ]
  },
  {
   "cell_type": "code",
   "execution_count": null,
   "metadata": {
    "collapsed": true
   },
   "outputs": [],
   "source": [
    "# %load /Users/media/Code/git/sd/src/com/sd/turtle/WeightTurtle.java\n",
    "/*\n",
    " * @author jsl\n",
    " * @since 20160312\n",
    " */\n",
    "package com.sd.turtle;\n",
    "\n",
    "import java.awt.Color;\n",
    "import ch.aplu.turtle.*;\n",
    "\n",
    "public class WeightTurtle extends Turtle {\n",
    "    protected int weight;\n",
    "    public WeightTurtle(int w) {\n",
    "        weight=w;\n",
    "        setColor(Color.red);\n",
    "        setPenColor(Color.red);\n",
    "    }\n",
    "    public int getWeight() {\n",
    "        return weight;\n",
    "    }\n",
    "}\n"
   ]
  },
  {
   "cell_type": "code",
   "execution_count": null,
   "metadata": {
    "collapsed": true
   },
   "outputs": [],
   "source": [
    "# %load /Users/media/Code/git/sd/src/com/sd/turtle/WeightTurtleMain.java\n",
    "package com.sd.turtle;\n",
    "\n",
    "import java.awt.Color;\n",
    "import ch.aplu.turtle.*;\n",
    "\n",
    "public class WeightTurtleMain {\n",
    "    public static void main(String[] args) {\n",
    "        WeightTurtle wt=new WeightTurtle(10);\n",
    "        System.out.println(\"Hello weight turtle\");\n",
    "        wt.addStatusBar(30);\n",
    "        String msg=\"Hello I weigh \"+wt.getWeight()+\" kg.\";\n",
    "        wt.setStatusText(msg);\n",
    "    }\n",
    "}"
   ]
  },
  {
   "cell_type": "code",
   "execution_count": 16,
   "metadata": {
    "collapsed": false
   },
   "outputs": [
    {
     "data": {
      "text/plain": [
       "u'/Users/media/Code/git/sd'"
      ]
     },
     "execution_count": 16,
     "metadata": {},
     "output_type": "execute_result"
    }
   ],
   "source": [
    "%pwd"
   ]
  },
  {
   "cell_type": "code",
   "execution_count": 17,
   "metadata": {
    "collapsed": false
   },
   "outputs": [
    {
     "name": "stdout",
     "output_type": "stream",
     "text": [
      "Hello weight turtle\r\n"
     ]
    }
   ],
   "source": [
    "!javac -d classes/ -cp lib/aplu5.jar -sourcepath src/ src/com/sd/turtle/WeightTurtleMain.java \n",
    "!java -cp ./classes/:./lib/aplu5.jar com.sd.turtle.WeightTurtleMain"
   ]
  },
  {
   "cell_type": "markdown",
   "metadata": {},
   "source": [
    "## 예제 계속\n",
    "* downcasting\n",
    "    * superclass에서 -> subclass로 변환\n",
    "    * 수동으로 casting해주어야 한다.\n",
    "    \n",
    "* upcasting\n",
    "    * subclass에서 -> superclass로 변환\n",
    "    * upcasting은 자동으로 되므로, 별도의 casting은 불필요하다.\n",
    "    * upcasting은 superclass의 함수, 속성만 쓸 수 있다\n",
    "        * supclass 고유의 함수, 속성은 잃어 버리게 된다\n",
    "        \n",
    "* upcasting -> downcasting\n",
    "    * 2-way downcasting after upcasting is ok\n",
    "    * 상속관계에서 컴파일시점에 upcasting을 해 놓고, 실행시점에 그에 맞는\n",
    "downcasting을 하게 되면 재미 있는 다형적 행태를 보게 된다.\n",
    "\n",
    "\n",
    "* 예제 automatic upcasting (but downcasting must be manual)\n",
    "    \n",
    "    ```\n",
    "    > import com.sd.turtle.WeightTurtle\n",
    "    > import ch.aplu.turtle.*    \n",
    "    > Turtle tOFwt=new WeightTurtle(10)\n",
    "    ```\n",
    "    \n",
    "* 예제 upcasting drops all submethods and subfields e.g., getHeight -> superclass's\n",
    "    * 자식을 부모클래스로 바꾸었다가 다시 자식으로 변환해도 좋다\n",
    "    * 자식WeightTurtle이 부모Turtle로 바꾸었다가, 다시 내려 getWeight() 호출가능.\n",
    "\n",
    "    ```\n",
    "    > tOFwt.getWeight()\n",
    "    Static Error: No method in Turtle has name 'getWeight'\n",
    "    > ((WeightTurtle)tOFwt).getWeight()\n",
    "    10\n",
    "    ```\n",
    "\n",
    "* 예제 downcasting\n",
    "    ```\n",
    "    > WeightTurtle wt1=new Turtle()\n",
    "    Static Error: Bad types in assignment: from Turtle to WeightTurtle\n",
    "    > WeightTurtle wt1=(WeightTurtle)new Turtle()\n",
    "    java.lang.ClassCastException: From ch.aplu.turtle.Turtle to com.sd.turtle.WeightTurtle\n",
    "    ```\n",
    "\n",
    "* 예제 up and down polymorphic with casting\n",
    "    ```\n",
    "    > public void myPrint(Turtle t) {\n",
    "         System.out.println(\"This is \"+t);\n",
    "    }\n",
    "    > myPrint(wt)\n",
    "    This is Turtle(Position=(0,0), Heading=0)\n",
    "    > myPrint(t)\n",
    "    This is Turtle(Position=(0,0), Heading=0)\n",
    "    > \n",
    "    ```"
   ]
  },
  {
   "cell_type": "markdown",
   "metadata": {
    "slideshow": {
     "slide_type": "slide"
    }
   },
   "source": [
    "## 1.5 디자인패턴 소개\n",
    "\n",
    "* 1977년 Christopher Alexander 반복해서 발생하는 문제에 대해 패턴을 적용하여, 같은 작업을 다시 작업해야 하는 노력을 줄이는 것이 필요\n",
    "* 1994년 디자인패턴 출간, 4명의 저자를 줄여서 GoF (Gang of Four)\n",
    "    * VGamma, E., Helm, R., Johnson, R., & Vlissides, J. (1994). Design patterns: elements of reusable object-oriented software. Pearson Education.\n",
    "* 디자인패턴이란 자주 발생하는 설계문제에 대한 해답 \"A proven solution to a common problem in a specified context\"\n",
    "\n",
    "* 디자인패턴 요소\n",
    "\n",
    "요소 | 설명\n",
    "---|---\n",
    "name | 디자인패턴의 이름\n",
    "problem | 문제와 그런 문제가 발생하는 상황\n",
    "solution | 문제에 대한 구조설계와 구현\n",
    "consequence | 디자인 패턴의 적용 결과\n",
    "\n",
    "* 어떤 디자인패턴이 있는가? (Catalog of Design Patterns)\n",
    "\n",
    "종류 | 디자인패턴\n",
    "---|---\n",
    "creational | 객체를 생성하여 문제를 푸는 패턴. factory, builder,singleton, prototype\n",
    "stuctural | 객체 구조 패턴. adapter, composite, proxy, flyweight, bridge, decorator\n",
    "behavioral | 객체끼리 서로 상호작용하는 패턴. template method, mediator, chain of responsibility, observer, strategy, command, state"
   ]
  },
  {
   "cell_type": "markdown",
   "metadata": {
    "slideshow": {
     "slide_type": "slide"
    }
   },
   "source": [
    "## 1.6 설계원칙\n",
    "\n",
    "* 설계는 변하는 부분을 분리시키고, 재사용(중복)을 늘리는 것!\n",
    "\n",
    "* GRASP (Larman, C. ,2005, Applying UML and patterns: an introduction to object-oriented analysis and design and iterative development. Pearson)\n",
    "    * Creator, information expert, low coupling, controller, high cohesion, indirection, polymorphism, protected variations, pure fabrication\n",
    "* Key design practices (Microsoft Application Architecture Guide, 2nd Ed., Microsoft Press)\n",
    "    * separation of concerns. 기능이 명확하게 구분되도록 설계. high cohesion and low coupling.\n",
    "    * signle responsibility principle. 단일 기능을 수행하도록 설계.\n",
    "    * principle of least knowledge. 내부적으로 구현된 내용을 서로 알지 못하게 설계. Low of Demeter (LoD)\n",
    "    * don't repeat yourself (DRY). 특정기능이 중복되게 사용되지 않게 설계.\n",
    "    * minimize upfront design - 요구사항이 불분명할 경우 처음부터 'big design'으로 하지 말고, 가볍게 반복적으로 설계 (agile method). YAGNI ('You ain't gonna need it!')이라고도 함.\n",
    "* SOLID (Martin, R. C., \"Design principles and design patterns\",2000, objectmentor.com)\n",
    "    * SRP Single Responsibility Principle\n",
    "    * OCP Open Closed Principle\n",
    "    * LSP Liskov Substitution Principle\n",
    "    * ISP Interface Segregation Principle\n",
    "    * DIP Dependency Inversion Principle\n",
    "* 즉, coupling and cohesion, inheritance, interface, and polymorphism, delegation, aggregation을 사용하여 Good Design"
   ]
  },
  {
   "cell_type": "markdown",
   "metadata": {
    "slideshow": {
     "slide_type": "slide"
    }
   },
   "source": [
    "### 1.6.1 OCP\n",
    "\n",
    "기능을 확장할 경우, 수정이 없도록 (최소화)\n",
    "\n",
    "* 변동부분의 분리\n",
    "    * 모든 함수를 갖고 있는 클래스를 구현 (Duck: fly, quack)\n",
    "    * 다른 하위클래스는 구현된 구체적인 클래스를 사용하게 되면\n",
    "    * 어떤 클래스가 추가가 될 경우 (fly/quack를 다 할 수 없는 클래스)\n",
    "    * 고치기 어려움.\n",
    "    * 따라서 변동할 수 있는 fly/quack\n",
    "* 인터페이스를 보고 프로그래밍"
   ]
  },
  {
   "cell_type": "markdown",
   "metadata": {
    "slideshow": {
     "slide_type": "slide"
    }
   },
   "source": [
    "### 1.6.1 OCP 계속\n",
    "\n",
    "* 문제\n",
    "    * 문을 여는 경우, 다른 종류의 문 (확장)을 여는 경우 수정해야 할 부분이 많음 (클라이언트 + 새로운 문)\n",
    "    * 또한 다른 종류의 문을 if문으로 분기처리\n",
    "* 설계대안 - 상속\n",
    "    * 상속으로 처리하면, 새로운 문은 간단하게 부모-자식관계.\n",
    "    * 클라이언트는 수정 없슴. 부모클래스(Door)만 사용.\n",
    "    * 새로운 문은 실행시점 Late binding."
   ]
  },
  {
   "cell_type": "code",
   "execution_count": 17,
   "metadata": {
    "collapsed": false,
    "slideshow": {
     "slide_type": "slide"
    }
   },
   "outputs": [
    {
     "data": {
      "image/svg+xml": [
       "<svg height=\"190px\" style=\"width:626px;height:190px;\" version=\"1.1\" viewBox=\"0 0 626 190\" width=\"626px\" xmlns=\"http://www.w3.org/2000/svg\" xmlns:xlink=\"http://www.w3.org/1999/xlink\"><defs><filter height=\"300%\" id=\"f1\" width=\"300%\" x=\"-1\" y=\"-1\"><feGaussianBlur result=\"blurOut\" stdDeviation=\"2.0\"/><feColorMatrix in=\"blurOut\" result=\"blurOut2\" type=\"matrix\" values=\"0 0 0 0 0 0 0 0 0 0 0 0 0 0 0 0 0 0 .4 0\"/><feOffset dx=\"4.0\" dy=\"4.0\" in=\"blurOut2\" result=\"blurOut3\"/><feBlend in=\"SourceGraphic\" in2=\"blurOut3\" mode=\"normal\"/></filter></defs><g><rect fill=\"#FEFECE\" filter=\"url(#f1)\" height=\"48\" style=\"stroke: #A80036; stroke-width: 1.5;\" width=\"64\" x=\"324.5\" y=\"8\"/><ellipse cx=\"339.5\" cy=\"24\" fill=\"#ADD1B2\" rx=\"11\" ry=\"11\" style=\"stroke: #A80036; stroke-width: 1.0;\"/><path d=\"M342.4731,29.6431 Q341.8921,29.9419 341.2529,30.0913 Q340.6138,30.2407 339.9082,30.2407 Q337.4014,30.2407 336.0815,28.5889 Q334.7617,26.937 334.7617,23.8159 Q334.7617,20.6865 336.0815,19.0347 Q337.4014,17.3828 339.9082,17.3828 Q340.6138,17.3828 341.2612,17.5322 Q341.9087,17.6816 342.4731,17.9805 L342.4731,20.7031 Q341.8423,20.1221 341.2488,19.8523 Q340.6553,19.5825 340.0244,19.5825 Q338.6797,19.5825 337.9949,20.6492 Q337.3101,21.7158 337.3101,23.8159 Q337.3101,25.9077 337.9949,26.9744 Q338.6797,28.041 340.0244,28.041 Q340.6553,28.041 341.2488,27.7712 Q341.8423,27.5015 342.4731,26.9204 Z \"/><text fill=\"#000000\" font-family=\"sans-serif\" font-size=\"12\" lengthAdjust=\"spacingAndGlyphs\" textLength=\"32\" x=\"353.5\" y=\"28.5352\">Client</text><line style=\"stroke: #A80036; stroke-width: 1.5;\" x1=\"325.5\" x2=\"387.5\" y1=\"40\" y2=\"40\"/><line style=\"stroke: #A80036; stroke-width: 1.5;\" x1=\"325.5\" x2=\"387.5\" y1=\"48\" y2=\"48\"/><rect fill=\"#FEFECE\" filter=\"url(#f1)\" height=\"48\" style=\"stroke: #A80036; stroke-width: 1.5;\" width=\"117\" x=\"500\" y=\"8\"/><ellipse cx=\"515\" cy=\"24\" fill=\"#ADD1B2\" rx=\"11\" ry=\"11\" style=\"stroke: #A80036; stroke-width: 1.0;\"/><path d=\"M517.9731,29.6431 Q517.3921,29.9419 516.7529,30.0913 Q516.1138,30.2407 515.4082,30.2407 Q512.9014,30.2407 511.5815,28.5889 Q510.2617,26.937 510.2617,23.8159 Q510.2617,20.6865 511.5815,19.0347 Q512.9014,17.3828 515.4082,17.3828 Q516.1138,17.3828 516.7612,17.5322 Q517.4087,17.6816 517.9731,17.9805 L517.9731,20.7031 Q517.3423,20.1221 516.7488,19.8523 Q516.1553,19.5825 515.5244,19.5825 Q514.1797,19.5825 513.4949,20.6492 Q512.8101,21.7158 512.8101,23.8159 Q512.8101,25.9077 513.4949,26.9744 Q514.1797,28.041 515.5244,28.041 Q516.1553,28.041 516.7488,27.7712 Q517.3423,27.5015 517.9731,26.9204 Z \"/><text fill=\"#000000\" font-family=\"sans-serif\" font-size=\"12\" lengthAdjust=\"spacingAndGlyphs\" textLength=\"85\" x=\"529\" y=\"28.5352\">AutomaticDoor</text><line style=\"stroke: #A80036; stroke-width: 1.5;\" x1=\"501\" x2=\"616\" y1=\"40\" y2=\"40\"/><line style=\"stroke: #A80036; stroke-width: 1.5;\" x1=\"501\" x2=\"616\" y1=\"48\" y2=\"48\"/><rect fill=\"#FEFECE\" filter=\"url(#f1)\" height=\"48\" style=\"stroke: #A80036; stroke-width: 1.5;\" width=\"90\" x=\"246.5\" y=\"133\"/><ellipse cx=\"261.5\" cy=\"149\" fill=\"#ADD1B2\" rx=\"11\" ry=\"11\" style=\"stroke: #A80036; stroke-width: 1.0;\"/><path d=\"M264.4731,154.6431 Q263.8921,154.9419 263.2529,155.0913 Q262.6138,155.2407 261.9082,155.2407 Q259.4014,155.2407 258.0815,153.5889 Q256.7617,151.937 256.7617,148.8159 Q256.7617,145.6865 258.0815,144.0347 Q259.4014,142.3828 261.9082,142.3828 Q262.6138,142.3828 263.2612,142.5322 Q263.9087,142.6816 264.4731,142.9805 L264.4731,145.7031 Q263.8423,145.1221 263.2488,144.8523 Q262.6553,144.5825 262.0244,144.5825 Q260.6797,144.5825 259.9949,145.6492 Q259.3101,146.7158 259.3101,148.8159 Q259.3101,150.9077 259.9949,151.9744 Q260.6797,153.041 262.0244,153.041 Q262.6553,153.041 263.2488,152.7712 Q263.8423,152.5015 264.4731,151.9204 Z \"/><text fill=\"#000000\" font-family=\"sans-serif\" font-size=\"12\" lengthAdjust=\"spacingAndGlyphs\" textLength=\"58\" x=\"275.5\" y=\"153.5352\">KnobDoor</text><line style=\"stroke: #A80036; stroke-width: 1.5;\" x1=\"247.5\" x2=\"335.5\" y1=\"165\" y2=\"165\"/><line style=\"stroke: #A80036; stroke-width: 1.5;\" x1=\"247.5\" x2=\"335.5\" y1=\"173\" y2=\"173\"/><rect fill=\"#FEFECE\" filter=\"url(#f1)\" height=\"48\" style=\"stroke: #A80036; stroke-width: 1.5;\" width=\"97\" x=\"372\" y=\"133\"/><ellipse cx=\"387\" cy=\"149\" fill=\"#ADD1B2\" rx=\"11\" ry=\"11\" style=\"stroke: #A80036; stroke-width: 1.0;\"/><path d=\"M389.9731,154.6431 Q389.3921,154.9419 388.7529,155.0913 Q388.1138,155.2407 387.4082,155.2407 Q384.9014,155.2407 383.5815,153.5889 Q382.2617,151.937 382.2617,148.8159 Q382.2617,145.6865 383.5815,144.0347 Q384.9014,142.3828 387.4082,142.3828 Q388.1138,142.3828 388.7612,142.5322 Q389.4087,142.6816 389.9731,142.9805 L389.9731,145.7031 Q389.3423,145.1221 388.7488,144.8523 Q388.1553,144.5825 387.5244,144.5825 Q386.1797,144.5825 385.4949,145.6492 Q384.8101,146.7158 384.8101,148.8159 Q384.8101,150.9077 385.4949,151.9744 Q386.1797,153.041 387.5244,153.041 Q388.1553,153.041 388.7488,152.7712 Q389.3423,152.5015 389.9731,151.9204 Z \"/><text fill=\"#000000\" font-family=\"sans-serif\" font-size=\"12\" lengthAdjust=\"spacingAndGlyphs\" textLength=\"65\" x=\"401\" y=\"153.5352\">SlidingDoor</text><line style=\"stroke: #A80036; stroke-width: 1.5;\" x1=\"373\" x2=\"468\" y1=\"165\" y2=\"165\"/><line style=\"stroke: #A80036; stroke-width: 1.5;\" x1=\"373\" x2=\"468\" y1=\"173\" y2=\"173\"/><polygon fill=\"#FBFB77\" filter=\"url(#f1)\" points=\"6,19.5,6,44.8105,255,44.8105,255,29.5,245,19.5,6,19.5\" style=\"stroke: #A80036; stroke-width: 1.0;\"/><polygon fill=\"#FBFB77\" points=\"6,19.5,6,44.8105,255,44.8105,255,37.5,324.122,32,255,29.5,255,29.5,245,19.5,6,19.5\" style=\"stroke: #A80036; stroke-width: 1.0;\"/><line style=\"stroke: #A80036; stroke-width: 1.0;\" x1=\"245\" x2=\"245\" y1=\"19.5\" y2=\"29.5\"/><line style=\"stroke: #A80036; stroke-width: 1.0;\" x1=\"255\" x2=\"245\" y1=\"29.5\" y2=\"29.5\"/><text fill=\"#000000\" font-family=\"sans-serif\" font-size=\"13\" lengthAdjust=\"spacingAndGlyphs\" textLength=\"228\" x=\"12\" y=\"37.0684\">all different methods to open a door</text><path d=\"M388.508,32 C416.924,32 459.298,32 494.63,32 \" fill=\"none\" style=\"stroke: #A80036; stroke-width: 1.0;\"/><polygon fill=\"#A80036\" points=\"499.789,32,490.789,28,494.789,32,490.789,36,499.789,32\" style=\"stroke: #A80036; stroke-width: 1.0;\"/><text fill=\"#000000\" font-family=\"sans-serif\" font-size=\"13\" lengthAdjust=\"spacingAndGlyphs\" textLength=\"75\" x=\"406.75\" y=\"25.5684\">pressOpen()</text><path d=\"M326.349,56.091 C317.307,64.531 308.271,74.787 302.5,86 C295.94,98.7465 293.073,114.3931 291.896,127.6584 \" fill=\"none\" style=\"stroke: #A80036; stroke-width: 1.0;\"/><polygon fill=\"#A80036\" points=\"291.512,132.8028,296.1711,124.1256,291.8843,127.8167,288.1933,123.5299,291.512,132.8028\" style=\"stroke: #A80036; stroke-width: 1.0;\"/><text fill=\"#000000\" font-family=\"sans-serif\" font-size=\"13\" lengthAdjust=\"spacingAndGlyphs\" textLength=\"72\" x=\"303.5\" y=\"99.5684\">twistOpen()</text><path d=\"M368.538,56.135 C379.22,76.666 394.844,106.6926 406.168,128.4561 \" fill=\"none\" style=\"stroke: #A80036; stroke-width: 1.0;\"/><polygon fill=\"#A80036\" points=\"408.516,132.9684,407.9102,123.1382,406.2081,128.5329,400.8134,126.8308,408.516,132.9684\" style=\"stroke: #A80036; stroke-width: 1.0;\"/><text fill=\"#000000\" font-family=\"sans-serif\" font-size=\"13\" lengthAdjust=\"spacingAndGlyphs\" textLength=\"71\" x=\"392.5\" y=\"99.5684\">slideOpen()</text></g></svg>"
      ],
      "text/plain": [
       "<IPython.core.display.SVG object>"
      ]
     },
     "execution_count": 17,
     "metadata": {},
     "output_type": "execute_result"
    }
   ],
   "source": [
    "%%plantuml\n",
    "\n",
    "@startuml\n",
    "\n",
    "Client -right-> AutomaticDoor: pressOpen()\n",
    "Client --> KnobDoor: twistOpen()\n",
    "Client --> SlidingDoor: slideOpen()\n",
    "note left of Client\n",
    "    all different methods to open a door\n",
    "end note\n",
    "@enduml"
   ]
  },
  {
   "cell_type": "code",
   "execution_count": 18,
   "metadata": {
    "collapsed": false,
    "slideshow": {
     "slide_type": "slide"
    }
   },
   "outputs": [
    {
     "data": {
      "image/svg+xml": [
       "<svg height=\"199px\" style=\"width:613px;height:199px;\" version=\"1.1\" viewBox=\"0 0 613 199\" width=\"613px\" xmlns=\"http://www.w3.org/2000/svg\" xmlns:xlink=\"http://www.w3.org/1999/xlink\"><defs><filter height=\"300%\" id=\"f1\" width=\"300%\" x=\"-1\" y=\"-1\"><feGaussianBlur result=\"blurOut\" stdDeviation=\"2.0\"/><feColorMatrix in=\"blurOut\" result=\"blurOut2\" type=\"matrix\" values=\"0 0 0 0 0 0 0 0 0 0 0 0 0 0 0 0 0 0 .4 0\"/><feOffset dx=\"4.0\" dy=\"4.0\" in=\"blurOut2\" result=\"blurOut3\"/><feBlend in=\"SourceGraphic\" in2=\"blurOut3\" mode=\"normal\"/></filter></defs><g><rect fill=\"#FEFECE\" filter=\"url(#f1)\" height=\"48\" style=\"stroke: #A80036; stroke-width: 1.5;\" width=\"64\" x=\"72.5\" y=\"21\"/><ellipse cx=\"87.5\" cy=\"37\" fill=\"#ADD1B2\" rx=\"11\" ry=\"11\" style=\"stroke: #A80036; stroke-width: 1.0;\"/><path d=\"M90.4731,42.6431 Q89.8921,42.9419 89.2529,43.0913 Q88.6138,43.2407 87.9082,43.2407 Q85.4014,43.2407 84.0815,41.5889 Q82.7617,39.937 82.7617,36.8159 Q82.7617,33.6865 84.0815,32.0347 Q85.4014,30.3828 87.9082,30.3828 Q88.6138,30.3828 89.2612,30.5322 Q89.9087,30.6816 90.4731,30.9805 L90.4731,33.7031 Q89.8423,33.1221 89.2488,32.8523 Q88.6553,32.5825 88.0244,32.5825 Q86.6797,32.5825 85.9949,33.6492 Q85.3101,34.7158 85.3101,36.8159 Q85.3101,38.9077 85.9949,39.9744 Q86.6797,41.041 88.0244,41.041 Q88.6553,41.041 89.2488,40.7712 Q89.8423,40.5015 90.4731,39.9204 Z \"/><text fill=\"#000000\" font-family=\"sans-serif\" font-size=\"12\" lengthAdjust=\"spacingAndGlyphs\" textLength=\"32\" x=\"101.5\" y=\"41.5352\">Client</text><line style=\"stroke: #A80036; stroke-width: 1.5;\" x1=\"73.5\" x2=\"135.5\" y1=\"53\" y2=\"53\"/><line style=\"stroke: #A80036; stroke-width: 1.5;\" x1=\"73.5\" x2=\"135.5\" y1=\"61\" y2=\"61\"/><rect fill=\"#FEFECE\" filter=\"url(#f1)\" height=\"73.9102\" style=\"stroke: #A80036; stroke-width: 1.5;\" width=\"64\" x=\"171.5\" y=\"8\"/><ellipse cx=\"188.3\" cy=\"24\" fill=\"#ADD1B2\" rx=\"11\" ry=\"11\" style=\"stroke: #A80036; stroke-width: 1.0;\"/><path d=\"M191.2731,29.6431 Q190.6921,29.9419 190.0529,30.0913 Q189.4138,30.2407 188.7082,30.2407 Q186.2014,30.2407 184.8815,28.5889 Q183.5617,26.937 183.5617,23.8159 Q183.5617,20.6865 184.8815,19.0347 Q186.2014,17.3828 188.7082,17.3828 Q189.4138,17.3828 190.0612,17.5322 Q190.7087,17.6816 191.2731,17.9805 L191.2731,20.7031 Q190.6423,20.1221 190.0488,19.8523 Q189.4553,19.5825 188.8244,19.5825 Q187.4797,19.5825 186.7949,20.6492 Q186.1101,21.7158 186.1101,23.8159 Q186.1101,25.9077 186.7949,26.9744 Q187.4797,28.041 188.8244,28.041 Q189.4553,28.041 190.0488,27.7712 Q190.6423,27.5015 191.2731,26.9204 Z \"/><text fill=\"#000000\" font-family=\"sans-serif\" font-size=\"12\" lengthAdjust=\"spacingAndGlyphs\" textLength=\"28\" x=\"202.7\" y=\"28.5352\">Door</text><line style=\"stroke: #A80036; stroke-width: 1.5;\" x1=\"172.5\" x2=\"234.5\" y1=\"40\" y2=\"40\"/><rect fill=\"none\" height=\"6\" style=\"stroke: #C82930; stroke-width: 1.0;\" width=\"6\" x=\"179.5\" y=\"48.9775\"/><text fill=\"#000000\" font-family=\"sans-serif\" font-size=\"11\" lengthAdjust=\"spacingAndGlyphs\" textLength=\"38\" x=\"191.5\" y=\"54.6348\">isOpen</text><line style=\"stroke: #A80036; stroke-width: 1.5;\" x1=\"172.5\" x2=\"234.5\" y1=\"60.9551\" y2=\"60.9551\"/><ellipse cx=\"182.5\" cy=\"72.9326\" fill=\"#84BE84\" rx=\"3\" ry=\"3\" style=\"stroke: #038048; stroke-width: 1.0;\"/><text fill=\"#000000\" font-family=\"sans-serif\" font-size=\"11\" lengthAdjust=\"spacingAndGlyphs\" textLength=\"35\" x=\"191.5\" y=\"75.5898\">open()</text><rect fill=\"#FEFECE\" filter=\"url(#f1)\" height=\"48\" style=\"stroke: #A80036; stroke-width: 1.5;\" width=\"117\" x=\"6\" y=\"142\"/><ellipse cx=\"21\" cy=\"158\" fill=\"#ADD1B2\" rx=\"11\" ry=\"11\" style=\"stroke: #A80036; stroke-width: 1.0;\"/><path d=\"M23.9731,163.6431 Q23.3921,163.9419 22.7529,164.0913 Q22.1138,164.2407 21.4082,164.2407 Q18.9014,164.2407 17.5815,162.5889 Q16.2617,160.937 16.2617,157.8159 Q16.2617,154.6865 17.5815,153.0347 Q18.9014,151.3828 21.4082,151.3828 Q22.1138,151.3828 22.7612,151.5322 Q23.4087,151.6816 23.9731,151.9805 L23.9731,154.7031 Q23.3423,154.1221 22.7488,153.8523 Q22.1553,153.5825 21.5244,153.5825 Q20.1797,153.5825 19.4949,154.6492 Q18.8101,155.7158 18.8101,157.8159 Q18.8101,159.9077 19.4949,160.9744 Q20.1797,162.041 21.5244,162.041 Q22.1553,162.041 22.7488,161.7712 Q23.3423,161.5015 23.9731,160.9204 Z \"/><text fill=\"#000000\" font-family=\"sans-serif\" font-size=\"12\" lengthAdjust=\"spacingAndGlyphs\" textLength=\"85\" x=\"35\" y=\"162.5352\">AutomaticDoor</text><line style=\"stroke: #A80036; stroke-width: 1.5;\" x1=\"7\" x2=\"122\" y1=\"174\" y2=\"174\"/><line style=\"stroke: #A80036; stroke-width: 1.5;\" x1=\"7\" x2=\"122\" y1=\"182\" y2=\"182\"/><rect fill=\"#FEFECE\" filter=\"url(#f1)\" height=\"48\" style=\"stroke: #A80036; stroke-width: 1.5;\" width=\"90\" x=\"158.5\" y=\"142\"/><ellipse cx=\"173.5\" cy=\"158\" fill=\"#ADD1B2\" rx=\"11\" ry=\"11\" style=\"stroke: #A80036; stroke-width: 1.0;\"/><path d=\"M176.4731,163.6431 Q175.8921,163.9419 175.2529,164.0913 Q174.6138,164.2407 173.9082,164.2407 Q171.4014,164.2407 170.0815,162.5889 Q168.7617,160.937 168.7617,157.8159 Q168.7617,154.6865 170.0815,153.0347 Q171.4014,151.3828 173.9082,151.3828 Q174.6138,151.3828 175.2612,151.5322 Q175.9087,151.6816 176.4731,151.9805 L176.4731,154.7031 Q175.8423,154.1221 175.2488,153.8523 Q174.6553,153.5825 174.0244,153.5825 Q172.6797,153.5825 171.9949,154.6492 Q171.3101,155.7158 171.3101,157.8159 Q171.3101,159.9077 171.9949,160.9744 Q172.6797,162.041 174.0244,162.041 Q174.6553,162.041 175.2488,161.7712 Q175.8423,161.5015 176.4731,160.9204 Z \"/><text fill=\"#000000\" font-family=\"sans-serif\" font-size=\"12\" lengthAdjust=\"spacingAndGlyphs\" textLength=\"58\" x=\"187.5\" y=\"162.5352\">KnobDoor</text><line style=\"stroke: #A80036; stroke-width: 1.5;\" x1=\"159.5\" x2=\"247.5\" y1=\"174\" y2=\"174\"/><line style=\"stroke: #A80036; stroke-width: 1.5;\" x1=\"159.5\" x2=\"247.5\" y1=\"182\" y2=\"182\"/><rect fill=\"#FEFECE\" filter=\"url(#f1)\" height=\"48\" style=\"stroke: #A80036; stroke-width: 1.5;\" width=\"97\" x=\"284\" y=\"142\"/><ellipse cx=\"299\" cy=\"158\" fill=\"#ADD1B2\" rx=\"11\" ry=\"11\" style=\"stroke: #A80036; stroke-width: 1.0;\"/><path d=\"M301.9731,163.6431 Q301.3921,163.9419 300.7529,164.0913 Q300.1138,164.2407 299.4082,164.2407 Q296.9014,164.2407 295.5815,162.5889 Q294.2617,160.937 294.2617,157.8159 Q294.2617,154.6865 295.5815,153.0347 Q296.9014,151.3828 299.4082,151.3828 Q300.1138,151.3828 300.7612,151.5322 Q301.4087,151.6816 301.9731,151.9805 L301.9731,154.7031 Q301.3423,154.1221 300.7488,153.8523 Q300.1553,153.5825 299.5244,153.5825 Q298.1797,153.5825 297.4949,154.6492 Q296.8101,155.7158 296.8101,157.8159 Q296.8101,159.9077 297.4949,160.9744 Q298.1797,162.041 299.5244,162.041 Q300.1553,162.041 300.7488,161.7712 Q301.3423,161.5015 301.9731,160.9204 Z \"/><text fill=\"#000000\" font-family=\"sans-serif\" font-size=\"12\" lengthAdjust=\"spacingAndGlyphs\" textLength=\"65\" x=\"313\" y=\"162.5352\">SlidingDoor</text><line style=\"stroke: #A80036; stroke-width: 1.5;\" x1=\"285\" x2=\"380\" y1=\"174\" y2=\"174\"/><line style=\"stroke: #A80036; stroke-width: 1.5;\" x1=\"285\" x2=\"380\" y1=\"182\" y2=\"182\"/><polygon fill=\"#FBFB77\" filter=\"url(#f1)\" points=\"271,24.5,271,65.1211,604,65.1211,604,34.5,594,24.5,271,24.5\" style=\"stroke: #A80036; stroke-width: 1.0;\"/><polygon fill=\"#FBFB77\" points=\"271,24.5,271,41,235.949,45,271,49,271,65.1211,604,65.1211,604,34.5,594,24.5,271,24.5\" style=\"stroke: #A80036; stroke-width: 1.0;\"/><line style=\"stroke: #A80036; stroke-width: 1.0;\" x1=\"594\" x2=\"594\" y1=\"24.5\" y2=\"34.5\"/><line style=\"stroke: #A80036; stroke-width: 1.0;\" x1=\"604\" x2=\"594\" y1=\"34.5\" y2=\"34.5\"/><text fill=\"#000000\" font-family=\"sans-serif\" font-size=\"13\" lengthAdjust=\"spacingAndGlyphs\" textLength=\"312\" x=\"277\" y=\"42.0684\">inheritance made useless of all different methods</text><text fill=\"#000000\" font-family=\"sans-serif\" font-size=\"13\" lengthAdjust=\"spacingAndGlyphs\" textLength=\"245\" x=\"277\" y=\"57.3789\">and a single method open() is provided</text><path d=\"M136.598,45 C148.184,45 159.77,45 171.356,45 \" fill=\"none\" style=\"stroke: #A80036; stroke-width: 1.0;\"/><path d=\"M155.912,86.741 C134.371,105.1823 109.702,126.3018 91.4242,141.9498 \" fill=\"none\" style=\"stroke: #A80036; stroke-width: 1.0;\"/><polygon fill=\"none\" points=\"151.516,81.289,171.261,73.6,160.621,91.9245,151.516,81.289\" style=\"stroke: #A80036; stroke-width: 1.0;\"/><path d=\"M203.5,102.0684 C203.5,116.1232 203.5,130.4342 203.5,141.8505 \" fill=\"none\" style=\"stroke: #A80036; stroke-width: 1.0;\"/><polygon fill=\"none\" points=\"196.5,102.0269,203.5,82.027,210.5,102.0268,196.5,102.0269\" style=\"stroke: #A80036; stroke-width: 1.0;\"/><path d=\"M250.567,89.418 C269.865,107.2202 291.413,127.0983 307.567,141.9994 \" fill=\"none\" style=\"stroke: #A80036; stroke-width: 1.0;\"/><polygon fill=\"none\" points=\"245.674,94.4278,235.719,75.722,255.166,84.137,245.674,94.4278\" style=\"stroke: #A80036; stroke-width: 1.0;\"/></g></svg>"
      ],
      "text/plain": [
       "<IPython.core.display.SVG object>"
      ]
     },
     "execution_count": 18,
     "metadata": {},
     "output_type": "execute_result"
    }
   ],
   "source": [
    "%%plantuml\n",
    "\n",
    "@startuml\n",
    "\n",
    "Client -right- Door\n",
    "Door <|-- AutomaticDoor\n",
    "Door <|-- KnobDoor\n",
    "Door <|-- SlidingDoor\n",
    "\n",
    "class Door {\n",
    "  -isOpen\n",
    "  +open()\n",
    "}\n",
    "note right of Door\n",
    "    inheritance made useless of all different methods\n",
    "    and a single method open() is provided\n",
    "end note\n",
    "@enduml"
   ]
  },
  {
   "cell_type": "markdown",
   "metadata": {},
   "source": [
    "### 1.6.2 LSP\n",
    "\n",
    "* 자식클래스는 부모클래스를 대체할 수 있어야 함. Subclasses should be substitutable for their base classes.\n",
    "* 원과 타원의 문제 The Circle/Ellipse Dilemma\n",
    "* 정사각형과 직사각형의 문제 Rectangle\n",
    "- 도형으로 정사각형은 사각형이지만, 상속으로 보면 정사각형은 사각형이 아니다.\n",
    "- 정사각형, 직사각형은 크기를 늘리면 다르게 반응한다. 정사각형은 가로,\n",
    "세로가 같아서 대각선으로 커진다. 반면 직사각형은 가로, 세로를 따로\n",
    "크게할 수 있다. 이런 경우, 상속으로 정사각형을 정의하는 것이 맞지\n",
    "않다.\n",
    "- 즉 is-a라고 해서 상속을 사용하면 안됨."
   ]
  },
  {
   "cell_type": "markdown",
   "metadata": {},
   "source": [
    "### 1.6.3 Dependency Inversion Principle\n",
    "\n",
    "* Depend upon Abstractions. Do not depend upon concretions\n",
    "* 인터페이스, 추상클래스, 추상메소드를 사용. 구현클래스를 사용하지 말 것.\n",
    "* 문의 경우 클라이언트는 추상클래스(base class)를 사용했슴. 구체클래스를 사용하지 않았슴."
   ]
  },
  {
   "cell_type": "code",
   "execution_count": 19,
   "metadata": {
    "collapsed": false
   },
   "outputs": [
    {
     "data": {
      "image/svg+xml": [
       "<svg height=\"307px\" style=\"width:583px;height:307px;\" version=\"1.1\" viewBox=\"0 0 583 307\" width=\"583px\" xmlns=\"http://www.w3.org/2000/svg\" xmlns:xlink=\"http://www.w3.org/1999/xlink\"><defs><filter height=\"300%\" id=\"f1\" width=\"300%\" x=\"-1\" y=\"-1\"><feGaussianBlur result=\"blurOut\" stdDeviation=\"2.0\"/><feColorMatrix in=\"blurOut\" result=\"blurOut2\" type=\"matrix\" values=\"0 0 0 0 0 0 0 0 0 0 0 0 0 0 0 0 0 0 .4 0\"/><feOffset dx=\"4.0\" dy=\"4.0\" in=\"blurOut2\" result=\"blurOut3\"/><feBlend in=\"SourceGraphic\" in2=\"blurOut3\" mode=\"normal\"/></filter></defs><g><rect fill=\"#FEFECE\" filter=\"url(#f1)\" height=\"48\" style=\"stroke: #A80036; stroke-width: 1.5;\" width=\"64\" x=\"171.5\" y=\"8\"/><ellipse cx=\"186.5\" cy=\"24\" fill=\"#ADD1B2\" rx=\"11\" ry=\"11\" style=\"stroke: #A80036; stroke-width: 1.0;\"/><path d=\"M189.4731,29.6431 Q188.8921,29.9419 188.2529,30.0913 Q187.6138,30.2407 186.9082,30.2407 Q184.4014,30.2407 183.0815,28.5889 Q181.7617,26.937 181.7617,23.8159 Q181.7617,20.6865 183.0815,19.0347 Q184.4014,17.3828 186.9082,17.3828 Q187.6138,17.3828 188.2612,17.5322 Q188.9087,17.6816 189.4731,17.9805 L189.4731,20.7031 Q188.8423,20.1221 188.2488,19.8523 Q187.6553,19.5825 187.0244,19.5825 Q185.6797,19.5825 184.9949,20.6492 Q184.3101,21.7158 184.3101,23.8159 Q184.3101,25.9077 184.9949,26.9744 Q185.6797,28.041 187.0244,28.041 Q187.6553,28.041 188.2488,27.7712 Q188.8423,27.5015 189.4731,26.9204 Z \"/><text fill=\"#000000\" font-family=\"sans-serif\" font-size=\"12\" lengthAdjust=\"spacingAndGlyphs\" textLength=\"32\" x=\"200.5\" y=\"28.5352\">Client</text><line style=\"stroke: #A80036; stroke-width: 1.5;\" x1=\"172.5\" x2=\"234.5\" y1=\"40\" y2=\"40\"/><line style=\"stroke: #A80036; stroke-width: 1.5;\" x1=\"172.5\" x2=\"234.5\" y1=\"48\" y2=\"48\"/><rect fill=\"#FEFECE\" filter=\"url(#f1)\" height=\"73.9102\" style=\"stroke: #A80036; stroke-width: 1.5;\" width=\"64\" x=\"171.5\" y=\"116\"/><ellipse cx=\"188.3\" cy=\"132\" fill=\"#ADD1B2\" rx=\"11\" ry=\"11\" style=\"stroke: #A80036; stroke-width: 1.0;\"/><path d=\"M191.2731,137.6431 Q190.6921,137.9419 190.0529,138.0913 Q189.4138,138.2407 188.7082,138.2407 Q186.2014,138.2407 184.8815,136.5889 Q183.5617,134.937 183.5617,131.8159 Q183.5617,128.6865 184.8815,127.0347 Q186.2014,125.3828 188.7082,125.3828 Q189.4138,125.3828 190.0612,125.5322 Q190.7087,125.6816 191.2731,125.9805 L191.2731,128.7031 Q190.6423,128.1221 190.0488,127.8523 Q189.4553,127.5825 188.8244,127.5825 Q187.4797,127.5825 186.7949,128.6492 Q186.1101,129.7158 186.1101,131.8159 Q186.1101,133.9077 186.7949,134.9744 Q187.4797,136.041 188.8244,136.041 Q189.4553,136.041 190.0488,135.7712 Q190.6423,135.5015 191.2731,134.9204 Z \"/><text fill=\"#000000\" font-family=\"sans-serif\" font-size=\"12\" lengthAdjust=\"spacingAndGlyphs\" textLength=\"28\" x=\"202.7\" y=\"136.5352\">Door</text><line style=\"stroke: #A80036; stroke-width: 1.5;\" x1=\"172.5\" x2=\"234.5\" y1=\"148\" y2=\"148\"/><rect fill=\"none\" height=\"6\" style=\"stroke: #C82930; stroke-width: 1.0;\" width=\"6\" x=\"179.5\" y=\"156.9775\"/><text fill=\"#000000\" font-family=\"sans-serif\" font-size=\"11\" lengthAdjust=\"spacingAndGlyphs\" textLength=\"38\" x=\"191.5\" y=\"162.6348\">isOpen</text><line style=\"stroke: #A80036; stroke-width: 1.5;\" x1=\"172.5\" x2=\"234.5\" y1=\"168.9551\" y2=\"168.9551\"/><ellipse cx=\"182.5\" cy=\"180.9326\" fill=\"#84BE84\" rx=\"3\" ry=\"3\" style=\"stroke: #038048; stroke-width: 1.0;\"/><text fill=\"#000000\" font-family=\"sans-serif\" font-size=\"11\" lengthAdjust=\"spacingAndGlyphs\" textLength=\"35\" x=\"191.5\" y=\"183.5898\">open()</text><rect fill=\"#FEFECE\" filter=\"url(#f1)\" height=\"48\" style=\"stroke: #A80036; stroke-width: 1.5;\" width=\"117\" x=\"6\" y=\"250\"/><ellipse cx=\"21\" cy=\"266\" fill=\"#ADD1B2\" rx=\"11\" ry=\"11\" style=\"stroke: #A80036; stroke-width: 1.0;\"/><path d=\"M23.9731,271.6431 Q23.3921,271.9419 22.7529,272.0913 Q22.1138,272.2407 21.4082,272.2407 Q18.9014,272.2407 17.5815,270.5889 Q16.2617,268.937 16.2617,265.8159 Q16.2617,262.6865 17.5815,261.0347 Q18.9014,259.3828 21.4082,259.3828 Q22.1138,259.3828 22.7612,259.5322 Q23.4087,259.6816 23.9731,259.9805 L23.9731,262.7031 Q23.3423,262.1221 22.7488,261.8523 Q22.1553,261.5825 21.5244,261.5825 Q20.1797,261.5825 19.4949,262.6492 Q18.8101,263.7158 18.8101,265.8159 Q18.8101,267.9077 19.4949,268.9744 Q20.1797,270.041 21.5244,270.041 Q22.1553,270.041 22.7488,269.7712 Q23.3423,269.5015 23.9731,268.9204 Z \"/><text fill=\"#000000\" font-family=\"sans-serif\" font-size=\"12\" lengthAdjust=\"spacingAndGlyphs\" textLength=\"85\" x=\"35\" y=\"270.5352\">AutomaticDoor</text><line style=\"stroke: #A80036; stroke-width: 1.5;\" x1=\"7\" x2=\"122\" y1=\"282\" y2=\"282\"/><line style=\"stroke: #A80036; stroke-width: 1.5;\" x1=\"7\" x2=\"122\" y1=\"290\" y2=\"290\"/><rect fill=\"#FEFECE\" filter=\"url(#f1)\" height=\"48\" style=\"stroke: #A80036; stroke-width: 1.5;\" width=\"90\" x=\"158.5\" y=\"250\"/><ellipse cx=\"173.5\" cy=\"266\" fill=\"#ADD1B2\" rx=\"11\" ry=\"11\" style=\"stroke: #A80036; stroke-width: 1.0;\"/><path d=\"M176.4731,271.6431 Q175.8921,271.9419 175.2529,272.0913 Q174.6138,272.2407 173.9082,272.2407 Q171.4014,272.2407 170.0815,270.5889 Q168.7617,268.937 168.7617,265.8159 Q168.7617,262.6865 170.0815,261.0347 Q171.4014,259.3828 173.9082,259.3828 Q174.6138,259.3828 175.2612,259.5322 Q175.9087,259.6816 176.4731,259.9805 L176.4731,262.7031 Q175.8423,262.1221 175.2488,261.8523 Q174.6553,261.5825 174.0244,261.5825 Q172.6797,261.5825 171.9949,262.6492 Q171.3101,263.7158 171.3101,265.8159 Q171.3101,267.9077 171.9949,268.9744 Q172.6797,270.041 174.0244,270.041 Q174.6553,270.041 175.2488,269.7712 Q175.8423,269.5015 176.4731,268.9204 Z \"/><text fill=\"#000000\" font-family=\"sans-serif\" font-size=\"12\" lengthAdjust=\"spacingAndGlyphs\" textLength=\"58\" x=\"187.5\" y=\"270.5352\">KnobDoor</text><line style=\"stroke: #A80036; stroke-width: 1.5;\" x1=\"159.5\" x2=\"247.5\" y1=\"282\" y2=\"282\"/><line style=\"stroke: #A80036; stroke-width: 1.5;\" x1=\"159.5\" x2=\"247.5\" y1=\"290\" y2=\"290\"/><rect fill=\"#FEFECE\" filter=\"url(#f1)\" height=\"48\" style=\"stroke: #A80036; stroke-width: 1.5;\" width=\"97\" x=\"284\" y=\"250\"/><ellipse cx=\"299\" cy=\"266\" fill=\"#ADD1B2\" rx=\"11\" ry=\"11\" style=\"stroke: #A80036; stroke-width: 1.0;\"/><path d=\"M301.9731,271.6431 Q301.3921,271.9419 300.7529,272.0913 Q300.1138,272.2407 299.4082,272.2407 Q296.9014,272.2407 295.5815,270.5889 Q294.2617,268.937 294.2617,265.8159 Q294.2617,262.6865 295.5815,261.0347 Q296.9014,259.3828 299.4082,259.3828 Q300.1138,259.3828 300.7612,259.5322 Q301.4087,259.6816 301.9731,259.9805 L301.9731,262.7031 Q301.3423,262.1221 300.7488,261.8523 Q300.1553,261.5825 299.5244,261.5825 Q298.1797,261.5825 297.4949,262.6492 Q296.8101,263.7158 296.8101,265.8159 Q296.8101,267.9077 297.4949,268.9744 Q298.1797,270.041 299.5244,270.041 Q300.1553,270.041 300.7488,269.7712 Q301.3423,269.5015 301.9731,268.9204 Z \"/><text fill=\"#000000\" font-family=\"sans-serif\" font-size=\"12\" lengthAdjust=\"spacingAndGlyphs\" textLength=\"65\" x=\"313\" y=\"270.5352\">SlidingDoor</text><line style=\"stroke: #A80036; stroke-width: 1.5;\" x1=\"285\" x2=\"380\" y1=\"282\" y2=\"282\"/><line style=\"stroke: #A80036; stroke-width: 1.5;\" x1=\"285\" x2=\"380\" y1=\"290\" y2=\"290\"/><polygon fill=\"#FBFB77\" filter=\"url(#f1)\" points=\"271,11.5,271,52.1211,574,52.1211,574,21.5,564,11.5,271,11.5\" style=\"stroke: #A80036; stroke-width: 1.0;\"/><polygon fill=\"#FBFB77\" points=\"271,11.5,271,28,235.58,32,271,36,271,52.1211,574,52.1211,574,21.5,564,11.5,271,11.5\" style=\"stroke: #A80036; stroke-width: 1.0;\"/><line style=\"stroke: #A80036; stroke-width: 1.0;\" x1=\"564\" x2=\"564\" y1=\"11.5\" y2=\"21.5\"/><line style=\"stroke: #A80036; stroke-width: 1.0;\" x1=\"574\" x2=\"564\" y1=\"21.5\" y2=\"21.5\"/><text fill=\"#000000\" font-family=\"sans-serif\" font-size=\"13\" lengthAdjust=\"spacingAndGlyphs\" textLength=\"282\" x=\"277\" y=\"29.0684\">Client uses(depends) an abstract class 'Door'</text><text fill=\"#000000\" font-family=\"sans-serif\" font-size=\"13\" lengthAdjust=\"spacingAndGlyphs\" textLength=\"270\" x=\"277\" y=\"44.3789\">Previously, it depends on concrete classes.</text><path d=\"M203.5,56.227 C203.5,73.137 203.5,96.367 203.5,115.714 \" fill=\"none\" style=\"stroke: #A80036; stroke-width: 1.0;\"/><path d=\"M155.912,194.741 C134.371,213.1823 109.702,234.3018 91.4242,249.9498 \" fill=\"none\" style=\"stroke: #A80036; stroke-width: 1.0;\"/><polygon fill=\"none\" points=\"151.516,189.289,171.261,181.6,160.621,199.9245,151.516,189.289\" style=\"stroke: #A80036; stroke-width: 1.0;\"/><path d=\"M203.5,210.0684 C203.5,224.1232 203.5,238.4342 203.5,249.8505 \" fill=\"none\" style=\"stroke: #A80036; stroke-width: 1.0;\"/><polygon fill=\"none\" points=\"196.5,210.0269,203.5,190.027,210.5,210.0268,196.5,210.0269\" style=\"stroke: #A80036; stroke-width: 1.0;\"/><path d=\"M250.567,197.418 C269.865,215.2202 291.413,235.0983 307.567,249.9994 \" fill=\"none\" style=\"stroke: #A80036; stroke-width: 1.0;\"/><polygon fill=\"none\" points=\"245.674,202.4278,235.719,183.722,255.166,192.137,245.674,202.4278\" style=\"stroke: #A80036; stroke-width: 1.0;\"/></g></svg>"
      ],
      "text/plain": [
       "<IPython.core.display.SVG object>"
      ]
     },
     "execution_count": 19,
     "metadata": {},
     "output_type": "execute_result"
    }
   ],
   "source": [
    "%%plantuml\n",
    "\n",
    "@startuml\n",
    "\n",
    "Client -- Door\n",
    "Door <|-- AutomaticDoor\n",
    "Door <|-- KnobDoor\n",
    "Door <|-- SlidingDoor\n",
    "\n",
    "class Door {\n",
    "  -isOpen\n",
    "  +open()\n",
    "}\n",
    "\n",
    "note right of Client\n",
    "    Client uses(depends) an abstract class 'Door'\n",
    "    Previously, it depends on concrete classes.\n",
    "end note\n",
    "@enduml"
   ]
  },
  {
   "cell_type": "markdown",
   "metadata": {},
   "source": [
    "### 1.6.4 Interface Segregation Principle\n",
    "\n",
    "* 객체에서 나누어지는 서로 다른 기능이 있는 경우, 인터페이스로 분리\n",
    "* 교재 HFDP Ch1 'Duck'"
   ]
  },
  {
   "cell_type": "markdown",
   "metadata": {},
   "source": [
    "## 1.7 사례\n",
    "\n",
    "### 1.7.1 단순\n",
    "\n",
    "* Simple SimDuck\n",
    "* 오리를 날게 fly()\n"
   ]
  },
  {
   "cell_type": "code",
   "execution_count": 17,
   "metadata": {
    "collapsed": false,
    "slideshow": {
     "slide_type": "slide"
    }
   },
   "outputs": [
    {
     "data": {
      "image/svg+xml": [
       "<svg height=\"212px\" style=\"width:696px;height:212px;\" version=\"1.1\" viewBox=\"0 0 696 212\" width=\"696px\" xmlns=\"http://www.w3.org/2000/svg\" xmlns:xlink=\"http://www.w3.org/1999/xlink\"><defs><filter height=\"300%\" id=\"f1\" width=\"300%\" x=\"-1\" y=\"-1\"><feGaussianBlur result=\"blurOut\" stdDeviation=\"2.0\"/><feColorMatrix in=\"blurOut\" result=\"blurOut2\" type=\"matrix\" values=\"0 0 0 0 0 0 0 0 0 0 0 0 0 0 0 0 0 0 .4 0\"/><feOffset dx=\"4.0\" dy=\"4.0\" in=\"blurOut2\" result=\"blurOut3\"/><feBlend in=\"SourceGraphic\" in2=\"blurOut3\" mode=\"normal\"/></filter></defs><g><rect fill=\"#FEFECE\" filter=\"url(#f1)\" height=\"86.8652\" style=\"stroke: #A80036; stroke-width: 1.5;\" width=\"72\" x=\"444.5\" y=\"8\"/><ellipse cx=\"464.45\" cy=\"24\" fill=\"#ADD1B2\" rx=\"11\" ry=\"11\" style=\"stroke: #A80036; stroke-width: 1.0;\"/><path d=\"M467.4231,29.6431 Q466.8421,29.9419 466.2029,30.0913 Q465.5638,30.2407 464.8582,30.2407 Q462.3514,30.2407 461.0315,28.5889 Q459.7117,26.937 459.7117,23.8159 Q459.7117,20.6865 461.0315,19.0347 Q462.3514,17.3828 464.8582,17.3828 Q465.5638,17.3828 466.2112,17.5322 Q466.8587,17.6816 467.4231,17.9805 L467.4231,20.7031 Q466.7923,20.1221 466.1988,19.8523 Q465.6053,19.5825 464.9744,19.5825 Q463.6297,19.5825 462.9449,20.6492 Q462.2601,21.7158 462.2601,23.8159 Q462.2601,25.9077 462.9449,26.9744 Q463.6297,28.041 464.9744,28.041 Q465.6053,28.041 466.1988,27.7712 Q466.7923,27.5015 467.4231,26.9204 Z \"/><text fill=\"#000000\" font-family=\"sans-serif\" font-size=\"12\" lengthAdjust=\"spacingAndGlyphs\" textLength=\"29\" x=\"479.55\" y=\"28.5352\">Duck</text><line style=\"stroke: #A80036; stroke-width: 1.5;\" x1=\"445.5\" x2=\"515.5\" y1=\"40\" y2=\"40\"/><rect fill=\"none\" height=\"6\" style=\"stroke: #C82930; stroke-width: 1.0;\" width=\"6\" x=\"452.5\" y=\"48.9775\"/><text fill=\"#000000\" font-family=\"sans-serif\" font-size=\"11\" lengthAdjust=\"spacingAndGlyphs\" textLength=\"30\" x=\"464.5\" y=\"54.6348\">field1</text><line style=\"stroke: #A80036; stroke-width: 1.5;\" x1=\"445.5\" x2=\"515.5\" y1=\"60.9551\" y2=\"60.9551\"/><ellipse cx=\"455.5\" cy=\"72.9326\" fill=\"#84BE84\" rx=\"3\" ry=\"3\" style=\"stroke: #038048; stroke-width: 1.0;\"/><text fill=\"#000000\" font-family=\"sans-serif\" font-size=\"11\" lengthAdjust=\"spacingAndGlyphs\" textLength=\"35\" x=\"464.5\" y=\"75.5898\">swim()</text><ellipse cx=\"455.5\" cy=\"85.8877\" fill=\"#84BE84\" rx=\"3\" ry=\"3\" style=\"stroke: #038048; stroke-width: 1.0;\"/><text fill=\"#000000\" font-family=\"sans-serif\" font-size=\"11\" lengthAdjust=\"spacingAndGlyphs\" textLength=\"46\" x=\"464.5\" y=\"88.5449\">display()</text><rect fill=\"#FEFECE\" filter=\"url(#f1)\" height=\"48\" style=\"stroke: #A80036; stroke-width: 1.5;\" width=\"104\" x=\"156.5\" y=\"155\"/><ellipse cx=\"171.5\" cy=\"171\" fill=\"#ADD1B2\" rx=\"11\" ry=\"11\" style=\"stroke: #A80036; stroke-width: 1.0;\"/><path d=\"M174.4731,176.6431 Q173.8921,176.9419 173.2529,177.0913 Q172.6138,177.2407 171.9082,177.2407 Q169.4014,177.2407 168.0815,175.5889 Q166.7617,173.937 166.7617,170.8159 Q166.7617,167.6865 168.0815,166.0347 Q169.4014,164.3828 171.9082,164.3828 Q172.6138,164.3828 173.2612,164.5322 Q173.9087,164.6816 174.4731,164.9805 L174.4731,167.7031 Q173.8423,167.1221 173.2488,166.8523 Q172.6553,166.5825 172.0244,166.5825 Q170.6797,166.5825 169.9949,167.6492 Q169.3101,168.7158 169.3101,170.8159 Q169.3101,172.9077 169.9949,173.9744 Q170.6797,175.041 172.0244,175.041 Q172.6553,175.041 173.2488,174.7712 Q173.8423,174.5015 174.4731,173.9204 Z \"/><text fill=\"#000000\" font-family=\"sans-serif\" font-size=\"12\" lengthAdjust=\"spacingAndGlyphs\" textLength=\"72\" x=\"185.5\" y=\"175.5352\">MallardDuck</text><line style=\"stroke: #A80036; stroke-width: 1.5;\" x1=\"157.5\" x2=\"259.5\" y1=\"187\" y2=\"187\"/><line style=\"stroke: #A80036; stroke-width: 1.5;\" x1=\"157.5\" x2=\"259.5\" y1=\"195\" y2=\"195\"/><rect fill=\"#FEFECE\" filter=\"url(#f1)\" height=\"48\" style=\"stroke: #A80036; stroke-width: 1.5;\" width=\"122\" x=\"434.5\" y=\"155\"/><ellipse cx=\"449.5\" cy=\"171\" fill=\"#ADD1B2\" rx=\"11\" ry=\"11\" style=\"stroke: #A80036; stroke-width: 1.0;\"/><path d=\"M452.4731,176.6431 Q451.8921,176.9419 451.2529,177.0913 Q450.6138,177.2407 449.9082,177.2407 Q447.4014,177.2407 446.0815,175.5889 Q444.7617,173.937 444.7617,170.8159 Q444.7617,167.6865 446.0815,166.0347 Q447.4014,164.3828 449.9082,164.3828 Q450.6138,164.3828 451.2612,164.5322 Q451.9087,164.6816 452.4731,164.9805 L452.4731,167.7031 Q451.8423,167.1221 451.2488,166.8523 Q450.6553,166.5825 450.0244,166.5825 Q448.6797,166.5825 447.9949,167.6492 Q447.3101,168.7158 447.3101,170.8159 Q447.3101,172.9077 447.9949,173.9744 Q448.6797,175.041 450.0244,175.041 Q450.6553,175.041 451.2488,174.7712 Q451.8423,174.5015 452.4731,173.9204 Z \"/><text fill=\"#000000\" font-family=\"sans-serif\" font-size=\"12\" lengthAdjust=\"spacingAndGlyphs\" textLength=\"90\" x=\"463.5\" y=\"175.5352\">ReadHeadDuck</text><line style=\"stroke: #A80036; stroke-width: 1.5;\" x1=\"435.5\" x2=\"555.5\" y1=\"187\" y2=\"187\"/><line style=\"stroke: #A80036; stroke-width: 1.5;\" x1=\"435.5\" x2=\"555.5\" y1=\"195\" y2=\"195\"/><rect fill=\"#FEFECE\" filter=\"url(#f1)\" height=\"48\" style=\"stroke: #A80036; stroke-width: 1.5;\" width=\"104\" x=\"295.5\" y=\"155\"/><ellipse cx=\"310.5\" cy=\"171\" fill=\"#ADD1B2\" rx=\"11\" ry=\"11\" style=\"stroke: #A80036; stroke-width: 1.0;\"/><path d=\"M313.4731,176.6431 Q312.8921,176.9419 312.2529,177.0913 Q311.6138,177.2407 310.9082,177.2407 Q308.4014,177.2407 307.0815,175.5889 Q305.7617,173.937 305.7617,170.8159 Q305.7617,167.6865 307.0815,166.0347 Q308.4014,164.3828 310.9082,164.3828 Q311.6138,164.3828 312.2612,164.5322 Q312.9087,164.6816 313.4731,164.9805 L313.4731,167.7031 Q312.8423,167.1221 312.2488,166.8523 Q311.6553,166.5825 311.0244,166.5825 Q309.6797,166.5825 308.9949,167.6492 Q308.3101,168.7158 308.3101,170.8159 Q308.3101,172.9077 308.9949,173.9744 Q309.6797,175.041 311.0244,175.041 Q311.6553,175.041 312.2488,174.7712 Q312.8423,174.5015 313.4731,173.9204 Z \"/><text fill=\"#000000\" font-family=\"sans-serif\" font-size=\"12\" lengthAdjust=\"spacingAndGlyphs\" textLength=\"72\" x=\"324.5\" y=\"175.5352\">RubberDuck</text><line style=\"stroke: #A80036; stroke-width: 1.5;\" x1=\"296.5\" x2=\"398.5\" y1=\"187\" y2=\"187\"/><line style=\"stroke: #A80036; stroke-width: 1.5;\" x1=\"296.5\" x2=\"398.5\" y1=\"195\" y2=\"195\"/><rect fill=\"#FEFECE\" filter=\"url(#f1)\" height=\"48\" style=\"stroke: #A80036; stroke-width: 1.5;\" width=\"96\" x=\"591.5\" y=\"155\"/><ellipse cx=\"606.5\" cy=\"171\" fill=\"#ADD1B2\" rx=\"11\" ry=\"11\" style=\"stroke: #A80036; stroke-width: 1.0;\"/><path d=\"M609.4731,176.6431 Q608.8921,176.9419 608.2529,177.0913 Q607.6138,177.2407 606.9082,177.2407 Q604.4014,177.2407 603.0815,175.5889 Q601.7617,173.937 601.7617,170.8159 Q601.7617,167.6865 603.0815,166.0347 Q604.4014,164.3828 606.9082,164.3828 Q607.6138,164.3828 608.2612,164.5322 Q608.9087,164.6816 609.4731,164.9805 L609.4731,167.7031 Q608.8423,167.1221 608.2488,166.8523 Q607.6553,166.5825 607.0244,166.5825 Q605.6797,166.5825 604.9949,167.6492 Q604.3101,168.7158 604.3101,170.8159 Q604.3101,172.9077 604.9949,173.9744 Q605.6797,175.041 607.0244,175.041 Q607.6553,175.041 608.2488,174.7712 Q608.8423,174.5015 609.4731,173.9204 Z \"/><text fill=\"#000000\" font-family=\"sans-serif\" font-size=\"12\" lengthAdjust=\"spacingAndGlyphs\" textLength=\"64\" x=\"620.5\" y=\"175.5352\">DecoyDuck</text><line style=\"stroke: #A80036; stroke-width: 1.5;\" x1=\"592.5\" x2=\"686.5\" y1=\"187\" y2=\"187\"/><line style=\"stroke: #A80036; stroke-width: 1.5;\" x1=\"592.5\" x2=\"686.5\" y1=\"195\" y2=\"195\"/><rect fill=\"#FEFECE\" filter=\"url(#f1)\" height=\"60.9551\" style=\"stroke: #A80036; stroke-width: 1.5;\" width=\"72\" x=\"99.5\" y=\"21\"/><ellipse cx=\"114.5\" cy=\"37\" fill=\"#B4A7E5\" rx=\"11\" ry=\"11\" style=\"stroke: #A80036; stroke-width: 1.0;\"/><path d=\"M110.4277,32.7651 L110.4277,30.6069 L117.8071,30.6069 L117.8071,32.7651 L115.3418,32.7651 L115.3418,40.8418 L117.8071,40.8418 L117.8071,43 L110.4277,43 L110.4277,40.8418 L112.8931,40.8418 L112.8931,32.7651 Z \"/><text fill=\"#000000\" font-family=\"sans-serif\" font-size=\"12\" font-style=\"italic\" lengthAdjust=\"spacingAndGlyphs\" textLength=\"40\" x=\"128.5\" y=\"41.5352\">Flyable</text><line style=\"stroke: #A80036; stroke-width: 1.5;\" x1=\"100.5\" x2=\"170.5\" y1=\"53\" y2=\"53\"/><line style=\"stroke: #A80036; stroke-width: 1.5;\" x1=\"100.5\" x2=\"170.5\" y1=\"61\" y2=\"61\"/><ellipse cx=\"110.5\" cy=\"72.9775\" fill=\"#84BE84\" rx=\"3\" ry=\"3\" style=\"stroke: #038048; stroke-width: 1.0;\"/><text fill=\"#000000\" font-family=\"sans-serif\" font-size=\"11\" lengthAdjust=\"spacingAndGlyphs\" textLength=\"21\" x=\"119.5\" y=\"75.6348\">fly()</text><rect fill=\"#FEFECE\" filter=\"url(#f1)\" height=\"48\" style=\"stroke: #A80036; stroke-width: 1.5;\" width=\"115\" x=\"6\" y=\"155\"/><ellipse cx=\"21\" cy=\"171\" fill=\"#ADD1B2\" rx=\"11\" ry=\"11\" style=\"stroke: #A80036; stroke-width: 1.0;\"/><path d=\"M23.9731,176.6431 Q23.3921,176.9419 22.7529,177.0913 Q22.1138,177.2407 21.4082,177.2407 Q18.9014,177.2407 17.5815,175.5889 Q16.2617,173.937 16.2617,170.8159 Q16.2617,167.6865 17.5815,166.0347 Q18.9014,164.3828 21.4082,164.3828 Q22.1138,164.3828 22.7612,164.5322 Q23.4087,164.6816 23.9731,164.9805 L23.9731,167.7031 Q23.3423,167.1221 22.7488,166.8523 Q22.1553,166.5825 21.5244,166.5825 Q20.1797,166.5825 19.4949,167.6492 Q18.8101,168.7158 18.8101,170.8159 Q18.8101,172.9077 19.4949,173.9744 Q20.1797,175.041 21.5244,175.041 Q22.1553,175.041 22.7488,174.7712 Q23.3423,174.5015 23.9731,173.9204 Z \"/><text fill=\"#000000\" font-family=\"sans-serif\" font-size=\"12\" lengthAdjust=\"spacingAndGlyphs\" textLength=\"83\" x=\"35\" y=\"175.5352\">RedHeadDuck</text><line style=\"stroke: #A80036; stroke-width: 1.5;\" x1=\"7\" x2=\"120\" y1=\"187\" y2=\"187\"/><line style=\"stroke: #A80036; stroke-width: 1.5;\" x1=\"7\" x2=\"120\" y1=\"195\" y2=\"195\"/><rect fill=\"#FEFECE\" filter=\"url(#f1)\" height=\"60.9551\" style=\"stroke: #A80036; stroke-width: 1.5;\" width=\"93\" x=\"301\" y=\"21\"/><ellipse cx=\"316\" cy=\"37\" fill=\"#B4A7E5\" rx=\"11\" ry=\"11\" style=\"stroke: #A80036; stroke-width: 1.0;\"/><path d=\"M311.9277,32.7651 L311.9277,30.6069 L319.3071,30.6069 L319.3071,32.7651 L316.8418,32.7651 L316.8418,40.8418 L319.3071,40.8418 L319.3071,43 L311.9277,43 L311.9277,40.8418 L314.3931,40.8418 L314.3931,32.7651 Z \"/><text fill=\"#000000\" font-family=\"sans-serif\" font-size=\"12\" font-style=\"italic\" lengthAdjust=\"spacingAndGlyphs\" textLength=\"61\" x=\"330\" y=\"41.5352\">Quackable</text><line style=\"stroke: #A80036; stroke-width: 1.5;\" x1=\"302\" x2=\"393\" y1=\"53\" y2=\"53\"/><line style=\"stroke: #A80036; stroke-width: 1.5;\" x1=\"302\" x2=\"393\" y1=\"61\" y2=\"61\"/><ellipse cx=\"312\" cy=\"72.9775\" fill=\"#84BE84\" rx=\"3\" ry=\"3\" style=\"stroke: #038048; stroke-width: 1.0;\"/><text fill=\"#000000\" font-family=\"sans-serif\" font-size=\"11\" lengthAdjust=\"spacingAndGlyphs\" textLength=\"40\" x=\"321\" y=\"75.6348\">quack()</text><path d=\"M427.041,86.597 C421.852,89.552 416.615,92.401 411.5,95 C361.771,120.2666 302.478,143.7963 260.853,159.3025 \" fill=\"none\" style=\"stroke: #A80036; stroke-width: 1.0;\"/><polygon fill=\"none\" points=\"423.489,80.565,444.258,76.362,430.644,92.599,423.489,80.565\" style=\"stroke: #A80036; stroke-width: 1.0;\"/><path d=\"M488.035,115.5467 C489.709,129.5515 491.381,143.5365 492.717,154.7115 \" fill=\"none\" style=\"stroke: #A80036; stroke-width: 1.0;\"/><polygon fill=\"none\" points=\"481.043,116.0284,485.62,95.339,494.944,114.3669,481.043,116.0284\" style=\"stroke: #A80036; stroke-width: 1.0;\"/><path d=\"M429.564,100.564 C409.824,119.1902 388.146,139.646 372.03,154.8534 \" fill=\"none\" style=\"stroke: #A80036; stroke-width: 1.0;\"/><polygon fill=\"none\" points=\"424.807,95.428,444.157,86.793,434.415,105.6107,424.807,95.428\" style=\"stroke: #A80036; stroke-width: 1.0;\"/><path d=\"M532.367,93.439 C558.184,113.8169 588.443,137.7001 610.205,154.8774 \" fill=\"none\" style=\"stroke: #A80036; stroke-width: 1.0;\"/><polygon fill=\"none\" points=\"527.942,98.864,516.58,80.978,536.615,87.875,527.942,98.864\" style=\"stroke: #A80036; stroke-width: 1.0;\"/><path d=\"M162.99,99.759 C173.922,118.5539 186.004,139.326 194.971,154.7412 \" fill=\"none\" style=\"stroke: #A80036; stroke-width: 1.0; stroke-dasharray: 7.0,7.0;\"/><polygon fill=\"none\" points=\"156.805,103.0494,152.8,82.242,168.907,96.01,156.805,103.0494\" style=\"stroke: #A80036; stroke-width: 1.0;\"/><path d=\"M108.387,99.759 C97.6046,118.5539 85.6875,139.326 76.8437,154.7412 \" fill=\"none\" style=\"stroke: #A80036; stroke-width: 1.0; stroke-dasharray: 7.0,7.0;\"/><polygon fill=\"none\" points=\"102.4127,96.106,118.437,82.242,114.556,103.073,102.4127,96.106\" style=\"stroke: #A80036; stroke-width: 1.0;\"/><path d=\"M299.649,95.703 C277.71,115.5121 252.573,138.2078 234.261,154.7412 \" fill=\"none\" style=\"stroke: #A80036; stroke-width: 1.0; stroke-dasharray: 7.0,7.0;\"/><polygon fill=\"none\" points=\"295.023,90.449,314.559,82.242,304.405,100.84,295.023,90.449\" style=\"stroke: #A80036; stroke-width: 1.0;\"/><path d=\"M398.111,95.417 C421.55,115.2927 448.48,138.1279 468.071,154.7412 \" fill=\"none\" style=\"stroke: #A80036; stroke-width: 1.0; stroke-dasharray: 7.0,7.0;\"/><polygon fill=\"none\" points=\"393.301,100.516,382.574,82.242,402.355,89.838,393.301,100.516\" style=\"stroke: #A80036; stroke-width: 1.0;\"/><path d=\"M347.5,102.401 C347.5,120.4795 347.5,140.0449 347.5,154.7412 \" fill=\"none\" style=\"stroke: #A80036; stroke-width: 1.0; stroke-dasharray: 7.0,7.0;\"/><polygon fill=\"none\" points=\"340.5,102.242,347.5,82.242,354.5,102.242,340.5,102.242\" style=\"stroke: #A80036; stroke-width: 1.0;\"/></g></svg>"
      ],
      "text/plain": [
       "<IPython.core.display.SVG object>"
      ]
     },
     "execution_count": 17,
     "metadata": {},
     "output_type": "execute_result"
    }
   ],
   "source": [
    "%%plantuml\n",
    "\n",
    "@startuml\n",
    "\n",
    "Duck <|-- MallardDuck\n",
    "Duck <|-- ReadHeadDuck\n",
    "Duck <|-- RubberDuck\n",
    "Duck <|-- DecoyDuck\n",
    "\n",
    "Flyable <|.. MallardDuck\n",
    "Flyable <|.. RedHeadDuck\n",
    "\n",
    "Quackable <|.. MallardDuck\n",
    "Quackable <|.. ReadHeadDuck\n",
    "Quackable <|.. RubberDuck\n",
    "\n",
    "class Duck {\n",
    "  -field1\n",
    "  +swim()\n",
    "  +display()\n",
    "}\n",
    "\n",
    "Interface Flyable {\n",
    "    +fly()\n",
    "}\n",
    "\n",
    "Interface Quackable {\n",
    "    +quack()\n",
    "}\n",
    "\n",
    "@enduml"
   ]
  },
  {
   "cell_type": "code",
   "execution_count": 18,
   "metadata": {
    "collapsed": false
   },
   "outputs": [
    {
     "data": {
      "image/svg+xml": [
       "<svg height=\"322px\" style=\"width:698px;height:322px;\" version=\"1.1\" viewBox=\"0 0 698 322\" width=\"698px\" xmlns=\"http://www.w3.org/2000/svg\" xmlns:xlink=\"http://www.w3.org/1999/xlink\"><defs><filter height=\"300%\" id=\"f1\" width=\"300%\" x=\"-1\" y=\"-1\"><feGaussianBlur result=\"blurOut\" stdDeviation=\"2.0\"/><feColorMatrix in=\"blurOut\" result=\"blurOut2\" type=\"matrix\" values=\"0 0 0 0 0 0 0 0 0 0 0 0 0 0 0 0 0 0 .4 0\"/><feOffset dx=\"4.0\" dy=\"4.0\" in=\"blurOut2\" result=\"blurOut3\"/><feBlend in=\"SourceGraphic\" in2=\"blurOut3\" mode=\"normal\"/></filter></defs><g><rect fill=\"#FEFECE\" filter=\"url(#f1)\" height=\"151.6406\" style=\"stroke: #A80036; stroke-width: 1.5;\" width=\"187\" x=\"62.5\" y=\"53\"/><ellipse cx=\"137.25\" cy=\"69\" fill=\"#ADD1B2\" rx=\"11\" ry=\"11\" style=\"stroke: #A80036; stroke-width: 1.0;\"/><path d=\"M140.2231,74.6431 Q139.6421,74.9419 139.0029,75.0913 Q138.3638,75.2407 137.6582,75.2407 Q135.1514,75.2407 133.8315,73.5889 Q132.5117,71.937 132.5117,68.8159 Q132.5117,65.6865 133.8315,64.0347 Q135.1514,62.3828 137.6582,62.3828 Q138.3638,62.3828 139.0112,62.5322 Q139.6587,62.6816 140.2231,62.9805 L140.2231,65.7031 Q139.5923,65.1221 138.9988,64.8523 Q138.4053,64.5825 137.7744,64.5825 Q136.4297,64.5825 135.7449,65.6492 Q135.0601,66.7158 135.0601,68.8159 Q135.0601,70.9077 135.7449,71.9744 Q136.4297,73.041 137.7744,73.041 Q138.4053,73.041 138.9988,72.7712 Q139.5923,72.5015 140.2231,71.9204 Z \"/><text fill=\"#000000\" font-family=\"sans-serif\" font-size=\"12\" lengthAdjust=\"spacingAndGlyphs\" textLength=\"29\" x=\"157.75\" y=\"73.5352\">Duck</text><line style=\"stroke: #A80036; stroke-width: 1.5;\" x1=\"63.5\" x2=\"248.5\" y1=\"85\" y2=\"85\"/><rect fill=\"none\" height=\"6\" style=\"stroke: #C82930; stroke-width: 1.0;\" width=\"6\" x=\"70.5\" y=\"93.9775\"/><text fill=\"#000000\" font-family=\"sans-serif\" font-size=\"11\" lengthAdjust=\"spacingAndGlyphs\" textLength=\"123\" x=\"82.5\" y=\"99.6348\">flyBehavior:FlyBehavior</text><rect fill=\"none\" height=\"6\" style=\"stroke: #C82930; stroke-width: 1.0;\" width=\"6\" x=\"70.5\" y=\"106.9326\"/><text fill=\"#000000\" font-family=\"sans-serif\" font-size=\"11\" lengthAdjust=\"spacingAndGlyphs\" textLength=\"161\" x=\"82.5\" y=\"112.5898\">quackBehavior:QuackBehavior</text><line style=\"stroke: #A80036; stroke-width: 1.5;\" x1=\"63.5\" x2=\"248.5\" y1=\"118.9102\" y2=\"118.9102\"/><ellipse cx=\"73.5\" cy=\"130.8877\" fill=\"#84BE84\" rx=\"3\" ry=\"3\" style=\"stroke: #038048; stroke-width: 1.0;\"/><text fill=\"#000000\" font-family=\"sans-serif\" font-size=\"11\" lengthAdjust=\"spacingAndGlyphs\" textLength=\"35\" x=\"82.5\" y=\"133.5449\">swim()</text><ellipse cx=\"73.5\" cy=\"143.8428\" fill=\"#84BE84\" rx=\"3\" ry=\"3\" style=\"stroke: #038048; stroke-width: 1.0;\"/><text fill=\"#000000\" font-family=\"sans-serif\" font-size=\"11\" lengthAdjust=\"spacingAndGlyphs\" textLength=\"46\" x=\"82.5\" y=\"146.5\">display()</text><ellipse cx=\"73.5\" cy=\"156.7979\" fill=\"#84BE84\" rx=\"3\" ry=\"3\" style=\"stroke: #038048; stroke-width: 1.0;\"/><text fill=\"#000000\" font-family=\"sans-serif\" font-size=\"11\" lengthAdjust=\"spacingAndGlyphs\" textLength=\"86\" x=\"82.5\" y=\"159.4551\">performQuack()</text><ellipse cx=\"73.5\" cy=\"169.7529\" fill=\"#84BE84\" rx=\"3\" ry=\"3\" style=\"stroke: #038048; stroke-width: 1.0;\"/><text fill=\"#000000\" font-family=\"sans-serif\" font-size=\"11\" lengthAdjust=\"spacingAndGlyphs\" textLength=\"67\" x=\"82.5\" y=\"172.4102\">performFly()</text><ellipse cx=\"73.5\" cy=\"182.708\" fill=\"#84BE84\" rx=\"3\" ry=\"3\" style=\"stroke: #038048; stroke-width: 1.0;\"/><text fill=\"#000000\" font-family=\"sans-serif\" font-size=\"11\" lengthAdjust=\"spacingAndGlyphs\" textLength=\"85\" x=\"82.5\" y=\"185.3652\">setFlyBehavior()</text><ellipse cx=\"73.5\" cy=\"195.6631\" fill=\"#84BE84\" rx=\"3\" ry=\"3\" style=\"stroke: #038048; stroke-width: 1.0;\"/><text fill=\"#000000\" font-family=\"sans-serif\" font-size=\"11\" lengthAdjust=\"spacingAndGlyphs\" textLength=\"104\" x=\"82.5\" y=\"198.3203\">setQuackBehavior()</text><rect fill=\"#FEFECE\" filter=\"url(#f1)\" height=\"48\" style=\"stroke: #A80036; stroke-width: 1.5;\" width=\"104\" x=\"137\" y=\"265\"/><ellipse cx=\"152\" cy=\"281\" fill=\"#ADD1B2\" rx=\"11\" ry=\"11\" style=\"stroke: #A80036; stroke-width: 1.0;\"/><path d=\"M154.9731,286.6431 Q154.3921,286.9419 153.7529,287.0913 Q153.1138,287.2407 152.4082,287.2407 Q149.9014,287.2407 148.5815,285.5889 Q147.2617,283.937 147.2617,280.8159 Q147.2617,277.6865 148.5815,276.0347 Q149.9014,274.3828 152.4082,274.3828 Q153.1138,274.3828 153.7612,274.5322 Q154.4087,274.6816 154.9731,274.9805 L154.9731,277.7031 Q154.3423,277.1221 153.7488,276.8523 Q153.1553,276.5825 152.5244,276.5825 Q151.1797,276.5825 150.4949,277.6492 Q149.8101,278.7158 149.8101,280.8159 Q149.8101,282.9077 150.4949,283.9744 Q151.1797,285.041 152.5244,285.041 Q153.1553,285.041 153.7488,284.7712 Q154.3423,284.5015 154.9731,283.9204 Z \"/><text fill=\"#000000\" font-family=\"sans-serif\" font-size=\"12\" lengthAdjust=\"spacingAndGlyphs\" textLength=\"72\" x=\"166\" y=\"285.5352\">MallardDuck</text><line style=\"stroke: #A80036; stroke-width: 1.5;\" x1=\"138\" x2=\"240\" y1=\"297\" y2=\"297\"/><line style=\"stroke: #A80036; stroke-width: 1.5;\" x1=\"138\" x2=\"240\" y1=\"305\" y2=\"305\"/><rect fill=\"#FEFECE\" filter=\"url(#f1)\" height=\"48\" style=\"stroke: #A80036; stroke-width: 1.5;\" width=\"96\" x=\"6\" y=\"265\"/><ellipse cx=\"21\" cy=\"281\" fill=\"#ADD1B2\" rx=\"11\" ry=\"11\" style=\"stroke: #A80036; stroke-width: 1.0;\"/><path d=\"M23.9731,286.6431 Q23.3921,286.9419 22.7529,287.0913 Q22.1138,287.2407 21.4082,287.2407 Q18.9014,287.2407 17.5815,285.5889 Q16.2617,283.937 16.2617,280.8159 Q16.2617,277.6865 17.5815,276.0347 Q18.9014,274.3828 21.4082,274.3828 Q22.1138,274.3828 22.7612,274.5322 Q23.4087,274.6816 23.9731,274.9805 L23.9731,277.7031 Q23.3423,277.1221 22.7488,276.8523 Q22.1553,276.5825 21.5244,276.5825 Q20.1797,276.5825 19.4949,277.6492 Q18.8101,278.7158 18.8101,280.8159 Q18.8101,282.9077 19.4949,283.9744 Q20.1797,285.041 21.5244,285.041 Q22.1553,285.041 22.7488,284.7712 Q23.3423,284.5015 23.9731,283.9204 Z \"/><text fill=\"#000000\" font-family=\"sans-serif\" font-size=\"12\" lengthAdjust=\"spacingAndGlyphs\" textLength=\"64\" x=\"35\" y=\"285.5352\">ModelDuck</text><line style=\"stroke: #A80036; stroke-width: 1.5;\" x1=\"7\" x2=\"101\" y1=\"297\" y2=\"297\"/><line style=\"stroke: #A80036; stroke-width: 1.5;\" x1=\"7\" x2=\"101\" y1=\"305\" y2=\"305\"/><rect fill=\"#FEFECE\" filter=\"url(#f1)\" height=\"60.9551\" style=\"stroke: #A80036; stroke-width: 1.5;\" width=\"96\" x=\"437\" y=\"98.5\"/><ellipse cx=\"452\" cy=\"114.5\" fill=\"#B4A7E5\" rx=\"11\" ry=\"11\" style=\"stroke: #A80036; stroke-width: 1.0;\"/><path d=\"M447.9277,110.2651 L447.9277,108.1069 L455.3071,108.1069 L455.3071,110.2651 L452.8418,110.2651 L452.8418,118.3418 L455.3071,118.3418 L455.3071,120.5 L447.9277,120.5 L447.9277,118.3418 L450.3931,118.3418 L450.3931,110.2651 Z \"/><text fill=\"#000000\" font-family=\"sans-serif\" font-size=\"12\" font-style=\"italic\" lengthAdjust=\"spacingAndGlyphs\" textLength=\"64\" x=\"466\" y=\"119.0352\">FlyBehavior</text><line style=\"stroke: #A80036; stroke-width: 1.5;\" x1=\"438\" x2=\"532\" y1=\"130.5\" y2=\"130.5\"/><line style=\"stroke: #A80036; stroke-width: 1.5;\" x1=\"438\" x2=\"532\" y1=\"138.5\" y2=\"138.5\"/><ellipse cx=\"448\" cy=\"150.4775\" fill=\"#84BE84\" rx=\"3\" ry=\"3\" style=\"stroke: #038048; stroke-width: 1.0;\"/><text fill=\"#000000\" font-family=\"sans-serif\" font-size=\"11\" lengthAdjust=\"spacingAndGlyphs\" textLength=\"21\" x=\"457\" y=\"153.1348\">fly()</text><rect fill=\"#FEFECE\" filter=\"url(#f1)\" height=\"48\" style=\"stroke: #A80036; stroke-width: 1.5;\" width=\"104\" x=\"585\" y=\"265\"/><ellipse cx=\"600\" cy=\"281\" fill=\"#ADD1B2\" rx=\"11\" ry=\"11\" style=\"stroke: #A80036; stroke-width: 1.0;\"/><path d=\"M602.9731,286.6431 Q602.3921,286.9419 601.7529,287.0913 Q601.1138,287.2407 600.4082,287.2407 Q597.9014,287.2407 596.5815,285.5889 Q595.2617,283.937 595.2617,280.8159 Q595.2617,277.6865 596.5815,276.0347 Q597.9014,274.3828 600.4082,274.3828 Q601.1138,274.3828 601.7612,274.5322 Q602.4087,274.6816 602.9731,274.9805 L602.9731,277.7031 Q602.3423,277.1221 601.7488,276.8523 Q601.1553,276.5825 600.5244,276.5825 Q599.1797,276.5825 598.4949,277.6492 Q597.8101,278.7158 597.8101,280.8159 Q597.8101,282.9077 598.4949,283.9744 Q599.1797,285.041 600.5244,285.041 Q601.1553,285.041 601.7488,284.7712 Q602.3423,284.5015 602.9731,283.9204 Z \"/><text fill=\"#000000\" font-family=\"sans-serif\" font-size=\"12\" lengthAdjust=\"spacingAndGlyphs\" textLength=\"72\" x=\"614\" y=\"285.5352\">FlyWithWings</text><line style=\"stroke: #A80036; stroke-width: 1.5;\" x1=\"586\" x2=\"688\" y1=\"297\" y2=\"297\"/><line style=\"stroke: #A80036; stroke-width: 1.5;\" x1=\"586\" x2=\"688\" y1=\"305\" y2=\"305\"/><rect fill=\"#FEFECE\" filter=\"url(#f1)\" height=\"48\" style=\"stroke: #A80036; stroke-width: 1.5;\" width=\"136\" x=\"414\" y=\"265\"/><ellipse cx=\"429\" cy=\"281\" fill=\"#ADD1B2\" rx=\"11\" ry=\"11\" style=\"stroke: #A80036; stroke-width: 1.0;\"/><path d=\"M431.9731,286.6431 Q431.3921,286.9419 430.7529,287.0913 Q430.1138,287.2407 429.4082,287.2407 Q426.9014,287.2407 425.5815,285.5889 Q424.2617,283.937 424.2617,280.8159 Q424.2617,277.6865 425.5815,276.0347 Q426.9014,274.3828 429.4082,274.3828 Q430.1138,274.3828 430.7612,274.5322 Q431.4087,274.6816 431.9731,274.9805 L431.9731,277.7031 Q431.3423,277.1221 430.7488,276.8523 Q430.1553,276.5825 429.5244,276.5825 Q428.1797,276.5825 427.4949,277.6492 Q426.8101,278.7158 426.8101,280.8159 Q426.8101,282.9077 427.4949,283.9744 Q428.1797,285.041 429.5244,285.041 Q430.1553,285.041 430.7488,284.7712 Q431.3423,284.5015 431.9731,283.9204 Z \"/><text fill=\"#000000\" font-family=\"sans-serif\" font-size=\"12\" lengthAdjust=\"spacingAndGlyphs\" textLength=\"104\" x=\"443\" y=\"285.5352\">FlyRocketPowered</text><line style=\"stroke: #A80036; stroke-width: 1.5;\" x1=\"415\" x2=\"549\" y1=\"297\" y2=\"297\"/><line style=\"stroke: #A80036; stroke-width: 1.5;\" x1=\"415\" x2=\"549\" y1=\"305\" y2=\"305\"/><rect fill=\"#FEFECE\" filter=\"url(#f1)\" height=\"60.9551\" style=\"stroke: #A80036; stroke-width: 1.5;\" width=\"117\" x=\"284.5\" y=\"98.5\"/><ellipse cx=\"299.5\" cy=\"114.5\" fill=\"#B4A7E5\" rx=\"11\" ry=\"11\" style=\"stroke: #A80036; stroke-width: 1.0;\"/><path d=\"M295.4277,110.2651 L295.4277,108.1069 L302.8071,108.1069 L302.8071,110.2651 L300.3418,110.2651 L300.3418,118.3418 L302.8071,118.3418 L302.8071,120.5 L295.4277,120.5 L295.4277,118.3418 L297.8931,118.3418 L297.8931,110.2651 Z \"/><text fill=\"#000000\" font-family=\"sans-serif\" font-size=\"12\" font-style=\"italic\" lengthAdjust=\"spacingAndGlyphs\" textLength=\"85\" x=\"313.5\" y=\"119.0352\">QuackBehavior</text><line style=\"stroke: #A80036; stroke-width: 1.5;\" x1=\"285.5\" x2=\"400.5\" y1=\"130.5\" y2=\"130.5\"/><line style=\"stroke: #A80036; stroke-width: 1.5;\" x1=\"285.5\" x2=\"400.5\" y1=\"138.5\" y2=\"138.5\"/><ellipse cx=\"295.5\" cy=\"150.4775\" fill=\"#84BE84\" rx=\"3\" ry=\"3\" style=\"stroke: #038048; stroke-width: 1.0;\"/><text fill=\"#000000\" font-family=\"sans-serif\" font-size=\"11\" lengthAdjust=\"spacingAndGlyphs\" textLength=\"40\" x=\"304.5\" y=\"153.1348\">quack()</text><rect fill=\"#FEFECE\" filter=\"url(#f1)\" height=\"48\" style=\"stroke: #A80036; stroke-width: 1.5;\" width=\"68\" x=\"309\" y=\"265\"/><ellipse cx=\"324\" cy=\"281\" fill=\"#ADD1B2\" rx=\"11\" ry=\"11\" style=\"stroke: #A80036; stroke-width: 1.0;\"/><path d=\"M326.9731,286.6431 Q326.3921,286.9419 325.7529,287.0913 Q325.1138,287.2407 324.4082,287.2407 Q321.9014,287.2407 320.5815,285.5889 Q319.2617,283.937 319.2617,280.8159 Q319.2617,277.6865 320.5815,276.0347 Q321.9014,274.3828 324.4082,274.3828 Q325.1138,274.3828 325.7612,274.5322 Q326.4087,274.6816 326.9731,274.9805 L326.9731,277.7031 Q326.3423,277.1221 325.7488,276.8523 Q325.1553,276.5825 324.5244,276.5825 Q323.1797,276.5825 322.4949,277.6492 Q321.8101,278.7158 321.8101,280.8159 Q321.8101,282.9077 322.4949,283.9744 Q323.1797,285.041 324.5244,285.041 Q325.1553,285.041 325.7488,284.7712 Q326.3423,284.5015 326.9731,283.9204 Z \"/><text fill=\"#000000\" font-family=\"sans-serif\" font-size=\"12\" lengthAdjust=\"spacingAndGlyphs\" textLength=\"36\" x=\"338\" y=\"285.5352\">Quack</text><line style=\"stroke: #A80036; stroke-width: 1.5;\" x1=\"310\" x2=\"376\" y1=\"297\" y2=\"297\"/><line style=\"stroke: #A80036; stroke-width: 1.5;\" x1=\"310\" x2=\"376\" y1=\"305\" y2=\"305\"/><path d=\"M175.837,224.9787 C178.922,239.7484 181.845,253.7404 184.148,264.7715 \" fill=\"none\" style=\"stroke: #A80036; stroke-width: 1.0;\"/><polygon fill=\"none\" points=\"168.964,226.3068,171.727,205.298,182.668,223.4445,168.964,226.3068\" style=\"stroke: #A80036; stroke-width: 1.0;\"/><path d=\"M96.4578,222.2321 C86.2735,238.0077 76.557,253.0587 68.9956,264.7715 \" fill=\"none\" style=\"stroke: #A80036; stroke-width: 1.0;\"/><polygon fill=\"none\" points=\"90.6614,218.3043,107.39,205.298,102.4234,225.8975,90.6614,218.3043\" style=\"stroke: #A80036; stroke-width: 1.0;\"/><path d=\"M527.531,174.21 C555.74,203.533 591.637,240.8465 614.475,264.5856 \" fill=\"none\" style=\"stroke: #A80036; stroke-width: 1.0; stroke-dasharray: 7.0,7.0;\"/><polygon fill=\"none\" points=\"522.411,178.985,513.59,159.719,532.501,169.279,522.411,178.985\" style=\"stroke: #A80036; stroke-width: 1.0;\"/><path d=\"M484.052,179.952 C483.514,208.269 482.866,242.371 482.445,264.5856 \" fill=\"none\" style=\"stroke: #A80036; stroke-width: 1.0; stroke-dasharray: 7.0,7.0;\"/><polygon fill=\"none\" points=\"477.057,179.582,484.436,159.719,491.055,179.848,477.057,179.582\" style=\"stroke: #A80036; stroke-width: 1.0;\"/><path d=\"M343,179.952 C343,208.269 343,242.371 343,264.5856 \" fill=\"none\" style=\"stroke: #A80036; stroke-width: 1.0; stroke-dasharray: 7.0,7.0;\"/><polygon fill=\"none\" points=\"336,179.719,343,159.719,350,179.719,336,179.719\" style=\"stroke: #A80036; stroke-width: 1.0;\"/><path d=\"M231.465,52.75 C247.729,40.556 265.72,29.746 284.5,23 C333.438,5.42 354.717,0.298 401.5,23 C431.659,37.635 454.191,69.027 468.2,93.871 \" fill=\"none\" style=\"stroke: #A80036; stroke-width: 1.0;\"/><polygon fill=\"#A80036\" points=\"470.716,98.429,469.8669,88.6168,468.299,94.052,462.8637,92.4841,470.716,98.429\" style=\"stroke: #A80036; stroke-width: 1.0;\"/><path d=\"M249.865,129 C259.676,129 269.486,129 279.297,129 \" fill=\"none\" style=\"stroke: #A80036; stroke-width: 1.0;\"/><polygon fill=\"#A80036\" points=\"284.427,129,275.427,125,279.427,129,275.427,133,284.427,129\" style=\"stroke: #A80036; stroke-width: 1.0;\"/></g></svg>"
      ],
      "text/plain": [
       "<IPython.core.display.SVG object>"
      ]
     },
     "execution_count": 18,
     "metadata": {},
     "output_type": "execute_result"
    }
   ],
   "source": [
    "%%plantuml\n",
    "@startuml\n",
    "Duck <|-- MallardDuck\n",
    "Duck <|-- ModelDuck\n",
    "FlyBehavior <|.. FlyWithWings\n",
    "FlyBehavior <|.. FlyRocketPowered\n",
    "QuackBehavior <|.. Quack\n",
    "Duck -> FlyBehavior\n",
    "Duck -> QuackBehavior\n",
    "class Duck {\n",
    "    -flyBehavior:FlyBehavior\n",
    "    -quackBehavior:QuackBehavior\n",
    "    +swim()\n",
    "    +display()\n",
    "    +performQuack()\n",
    "    +performFly()\n",
    "    +setFlyBehavior()\n",
    "    +setQuackBehavior()\n",
    "}\n",
    "Interface QuackBehavior {\n",
    "    +quack()\n",
    "}\n",
    "Interface FlyBehavior {\n",
    "    +fly()\n",
    "}\n",
    "@enduml"
   ]
  },
  {
   "cell_type": "code",
   "execution_count": 19,
   "metadata": {
    "collapsed": false
   },
   "outputs": [
    {
     "data": {
      "image/svg+xml": [
       "<svg height=\"382px\" style=\"width:686px;height:382px;\" version=\"1.1\" viewBox=\"0 0 686 382\" width=\"686px\" xmlns=\"http://www.w3.org/2000/svg\" xmlns:xlink=\"http://www.w3.org/1999/xlink\"><defs><filter height=\"300%\" id=\"f1\" width=\"300%\" x=\"-1\" y=\"-1\"><feGaussianBlur result=\"blurOut\" stdDeviation=\"2.0\"/><feColorMatrix in=\"blurOut\" result=\"blurOut2\" type=\"matrix\" values=\"0 0 0 0 0 0 0 0 0 0 0 0 0 0 0 0 0 0 .4 0\"/><feOffset dx=\"4.0\" dy=\"4.0\" in=\"blurOut2\" result=\"blurOut3\"/><feBlend in=\"SourceGraphic\" in2=\"blurOut3\" mode=\"normal\"/></filter></defs><g><line style=\"stroke: #A80036; stroke-width: 1.0; stroke-dasharray: 5.0,5.0;\" x1=\"86\" x2=\"86\" y1=\"38.4883\" y2=\"343.5938\"/><line style=\"stroke: #A80036; stroke-width: 1.0; stroke-dasharray: 5.0,5.0;\" x1=\"258.5\" x2=\"258.5\" y1=\"38.4883\" y2=\"343.5938\"/><line style=\"stroke: #A80036; stroke-width: 1.0; stroke-dasharray: 5.0,5.0;\" x1=\"367.5\" x2=\"367.5\" y1=\"38.4883\" y2=\"343.5938\"/><line style=\"stroke: #A80036; stroke-width: 1.0; stroke-dasharray: 5.0,5.0;\" x1=\"495.5\" x2=\"495.5\" y1=\"38.4883\" y2=\"343.5938\"/><rect fill=\"#FEFECE\" filter=\"url(#f1)\" height=\"30.4883\" style=\"stroke: #A80036; stroke-width: 1.5;\" width=\"152\" x=\"8\" y=\"3\"/><text fill=\"#000000\" font-family=\"sans-serif\" font-size=\"14\" lengthAdjust=\"spacingAndGlyphs\" textLength=\"138\" x=\"15\" y=\"23.5352\">MiniDuckSimulator1</text><rect fill=\"#FEFECE\" filter=\"url(#f1)\" height=\"30.4883\" style=\"stroke: #A80036; stroke-width: 1.5;\" width=\"152\" x=\"8\" y=\"342.5938\"/><text fill=\"#000000\" font-family=\"sans-serif\" font-size=\"14\" lengthAdjust=\"spacingAndGlyphs\" textLength=\"138\" x=\"15\" y=\"363.1289\">MiniDuckSimulator1</text><rect fill=\"#FEFECE\" filter=\"url(#f1)\" height=\"30.4883\" style=\"stroke: #A80036; stroke-width: 1.5;\" width=\"99\" x=\"207.5\" y=\"3\"/><text fill=\"#000000\" font-family=\"sans-serif\" font-size=\"14\" lengthAdjust=\"spacingAndGlyphs\" textLength=\"85\" x=\"214.5\" y=\"23.5352\">MallardDuck</text><rect fill=\"#FEFECE\" filter=\"url(#f1)\" height=\"30.4883\" style=\"stroke: #A80036; stroke-width: 1.5;\" width=\"99\" x=\"207.5\" y=\"342.5938\"/><text fill=\"#000000\" font-family=\"sans-serif\" font-size=\"14\" lengthAdjust=\"spacingAndGlyphs\" textLength=\"85\" x=\"214.5\" y=\"363.1289\">MallardDuck</text><rect fill=\"#FEFECE\" filter=\"url(#f1)\" height=\"30.4883\" style=\"stroke: #A80036; stroke-width: 1.5;\" width=\"90\" x=\"320.5\" y=\"3\"/><text fill=\"#000000\" font-family=\"sans-serif\" font-size=\"14\" lengthAdjust=\"spacingAndGlyphs\" textLength=\"76\" x=\"327.5\" y=\"23.5352\">ModelDuck</text><rect fill=\"#FEFECE\" filter=\"url(#f1)\" height=\"30.4883\" style=\"stroke: #A80036; stroke-width: 1.5;\" width=\"90\" x=\"320.5\" y=\"342.5938\"/><text fill=\"#000000\" font-family=\"sans-serif\" font-size=\"14\" lengthAdjust=\"spacingAndGlyphs\" textLength=\"76\" x=\"327.5\" y=\"363.1289\">ModelDuck</text><rect fill=\"#FEFECE\" filter=\"url(#f1)\" height=\"30.4883\" style=\"stroke: #A80036; stroke-width: 1.5;\" width=\"138\" x=\"424.5\" y=\"3\"/><text fill=\"#000000\" font-family=\"sans-serif\" font-size=\"14\" lengthAdjust=\"spacingAndGlyphs\" textLength=\"124\" x=\"431.5\" y=\"23.5352\">FlyRocketPowered</text><rect fill=\"#FEFECE\" filter=\"url(#f1)\" height=\"30.4883\" style=\"stroke: #A80036; stroke-width: 1.5;\" width=\"138\" x=\"424.5\" y=\"342.5938\"/><text fill=\"#000000\" font-family=\"sans-serif\" font-size=\"14\" lengthAdjust=\"spacingAndGlyphs\" textLength=\"124\" x=\"431.5\" y=\"363.1289\">FlyRocketPowered</text><polygon fill=\"#A80036\" points=\"247,65.4883,257,69.4883,247,73.4883,251,69.4883\" style=\"stroke: #A80036; stroke-width: 1.0;\"/><line style=\"stroke: #A80036; stroke-width: 1.0;\" x1=\"86\" x2=\"253\" y1=\"69.4883\" y2=\"69.4883\"/><text fill=\"#000000\" font-family=\"sans-serif\" font-size=\"13\" lengthAdjust=\"spacingAndGlyphs\" textLength=\"90\" x=\"93\" y=\"65.0566\">mallard=new()</text><polygon fill=\"#A80036\" points=\"247,94.7988,257,98.7988,247,102.7988,251,98.7988\" style=\"stroke: #A80036; stroke-width: 1.0;\"/><line style=\"stroke: #A80036; stroke-width: 1.0;\" x1=\"86\" x2=\"253\" y1=\"98.7988\" y2=\"98.7988\"/><text fill=\"#000000\" font-family=\"sans-serif\" font-size=\"13\" lengthAdjust=\"spacingAndGlyphs\" textLength=\"149\" x=\"93\" y=\"94.3672\">mallard.performQuack()</text><polygon fill=\"#A80036\" points=\"247,136.7646,257,140.7646,247,144.7646,251,140.7646\" style=\"stroke: #A80036; stroke-width: 1.0;\"/><line style=\"stroke: #A80036; stroke-width: 1.0;\" x1=\"86\" x2=\"253\" y1=\"140.7646\" y2=\"140.7646\"/><text fill=\"#000000\" font-family=\"sans-serif\" font-size=\"13\" lengthAdjust=\"spacingAndGlyphs\" textLength=\"127\" x=\"93\" y=\"136.333\">mallard.performFly()</text><polygon fill=\"#FBFB77\" filter=\"url(#f1)\" points=\"264,112.1094,264,152.1094,530,152.1094,530,122.1094,520,112.1094,264,112.1094\" style=\"stroke: #A80036; stroke-width: 1.0;\"/><line style=\"stroke: #A80036; stroke-width: 1.0;\" x1=\"520\" x2=\"520\" y1=\"112.1094\" y2=\"122.1094\"/><line style=\"stroke: #A80036; stroke-width: 1.0;\" x1=\"530\" x2=\"520\" y1=\"122.1094\" y2=\"122.1094\"/><text fill=\"#000000\" font-family=\"sans-serif\" font-size=\"13\" lengthAdjust=\"spacingAndGlyphs\" textLength=\"245\" x=\"270\" y=\"129.6777\">use quack() of Interface QuackBehavior</text><text fill=\"#000000\" font-family=\"sans-serif\" font-size=\"13\" lengthAdjust=\"spacingAndGlyphs\" textLength=\"201\" x=\"270\" y=\"144.9883\">use fly() of Interface FlyBehavior</text><polygon fill=\"#A80036\" points=\"355.5,178.7305,365.5,182.7305,355.5,186.7305,359.5,182.7305\" style=\"stroke: #A80036; stroke-width: 1.0;\"/><line style=\"stroke: #A80036; stroke-width: 1.0;\" x1=\"86\" x2=\"361.5\" y1=\"182.7305\" y2=\"182.7305\"/><text fill=\"#000000\" font-family=\"sans-serif\" font-size=\"13\" lengthAdjust=\"spacingAndGlyphs\" textLength=\"76\" x=\"93\" y=\"178.2988\">model:new()</text><polygon fill=\"#A80036\" points=\"355.5,208.041,365.5,212.041,355.5,216.041,359.5,212.041\" style=\"stroke: #A80036; stroke-width: 1.0;\"/><line style=\"stroke: #A80036; stroke-width: 1.0;\" x1=\"86\" x2=\"361.5\" y1=\"212.041\" y2=\"212.041\"/><text fill=\"#000000\" font-family=\"sans-serif\" font-size=\"13\" lengthAdjust=\"spacingAndGlyphs\" textLength=\"123\" x=\"93\" y=\"207.6094\">model.performFly();</text><polygon fill=\"#A80036\" points=\"483.5,237.3516,493.5,241.3516,483.5,245.3516,487.5,241.3516\" style=\"stroke: #A80036; stroke-width: 1.0;\"/><line style=\"stroke: #A80036; stroke-width: 1.0;\" x1=\"86\" x2=\"489.5\" y1=\"241.3516\" y2=\"241.3516\"/><text fill=\"#000000\" font-family=\"sans-serif\" font-size=\"13\" lengthAdjust=\"spacingAndGlyphs\" textLength=\"61\" x=\"93\" y=\"236.9199\">frp=new()</text><polygon fill=\"#A80036\" points=\"355.5,266.6621,365.5,270.6621,355.5,274.6621,359.5,270.6621\" style=\"stroke: #A80036; stroke-width: 1.0;\"/><line style=\"stroke: #A80036; stroke-width: 1.0;\" x1=\"86\" x2=\"361.5\" y1=\"270.6621\" y2=\"270.6621\"/><text fill=\"#000000\" font-family=\"sans-serif\" font-size=\"13\" lengthAdjust=\"spacingAndGlyphs\" textLength=\"163\" x=\"93\" y=\"266.2305\">model.setFlyBehavior(frp);</text><polygon fill=\"#A80036\" points=\"355.5,308.6279,365.5,312.6279,355.5,316.6279,359.5,312.6279\" style=\"stroke: #A80036; stroke-width: 1.0;\"/><line style=\"stroke: #A80036; stroke-width: 1.0;\" x1=\"86\" x2=\"361.5\" y1=\"312.6279\" y2=\"312.6279\"/><text fill=\"#000000\" font-family=\"sans-serif\" font-size=\"13\" lengthAdjust=\"spacingAndGlyphs\" textLength=\"123\" x=\"93\" y=\"308.1963\">model.performFly();</text><polygon fill=\"#FBFB77\" filter=\"url(#f1)\" points=\"372,283.9727,372,323.9727,677,323.9727,677,293.9727,667,283.9727,372,283.9727\" style=\"stroke: #A80036; stroke-width: 1.0;\"/><line style=\"stroke: #A80036; stroke-width: 1.0;\" x1=\"667\" x2=\"667\" y1=\"283.9727\" y2=\"293.9727\"/><line style=\"stroke: #A80036; stroke-width: 1.0;\" x1=\"677\" x2=\"667\" y1=\"293.9727\" y2=\"293.9727\"/><text fill=\"#000000\" font-family=\"sans-serif\" font-size=\"13\" lengthAdjust=\"spacingAndGlyphs\" textLength=\"245\" x=\"378\" y=\"301.541\">use quack() of Interface QuackBehavior</text><text fill=\"#000000\" font-family=\"sans-serif\" font-size=\"13\" lengthAdjust=\"spacingAndGlyphs\" textLength=\"284\" x=\"378\" y=\"316.8516\">setFlyBehavior() with Class FlyRocketPowered</text></g></svg>"
      ],
      "text/plain": [
       "<IPython.core.display.SVG object>"
      ]
     },
     "execution_count": 19,
     "metadata": {},
     "output_type": "execute_result"
    }
   ],
   "source": [
    "%%plantuml\n",
    "@startuml\n",
    "MiniDuckSimulator1 -> MallardDuck:mallard=new()\n",
    "MiniDuckSimulator1 -> MallardDuck:mallard.performQuack()\n",
    "MiniDuckSimulator1 -> MallardDuck:mallard.performFly()\n",
    "note right\n",
    "    use quack() of Interface QuackBehavior\n",
    "    use fly() of Interface FlyBehavior\n",
    "end note\n",
    "\n",
    "MiniDuckSimulator1 -> ModelDuck:model:new()\n",
    "MiniDuckSimulator1 -> ModelDuck:model.performFly();\n",
    "MiniDuckSimulator1 -> FlyRocketPowered:frp=new()\n",
    "MiniDuckSimulator1 -> ModelDuck:model.setFlyBehavior(frp);\n",
    "MiniDuckSimulator1 -> ModelDuck:model.performFly();\n",
    "note right\n",
    "    use quack() of Interface QuackBehavior\n",
    "    setFlyBehavior() with Class FlyRocketPowered\n",
    "end note\n",
    "\n",
    "@enduml"
   ]
  },
  {
   "cell_type": "code",
   "execution_count": null,
   "metadata": {
    "collapsed": true
   },
   "outputs": [],
   "source": [
    "# %load /Users/media/Code/git/sd/src/headfirst/strategy/MiniDuckSimulator1.java\n",
    "package headfirst.strategy;\n",
    "\n",
    "public class MiniDuckSimulator1 {\n",
    " \n",
    "\tpublic static void main(String[] args) {\n",
    " \n",
    "\t\tDuck mallard = new MallardDuck();\n",
    "\t\tmallard.performQuack();\n",
    "\t\tmallard.performFly();\n",
    "   \n",
    "\t\tDuck model = new ModelDuck();\n",
    "\t\tmodel.performFly();\n",
    "\t\tmodel.setFlyBehavior(new FlyRocketPowered());\n",
    "\t\tmodel.performFly();\n",
    "\t}\n",
    "}"
   ]
  },
  {
   "cell_type": "code",
   "execution_count": null,
   "metadata": {
    "collapsed": true
   },
   "outputs": [],
   "source": [
    "# %load /Users/media/Code/git/sd/src/headfirst/strategy/Duck.java\n",
    "package headfirst.strategy;\n",
    "\n",
    "public abstract class Duck {\n",
    "\tFlyBehavior flyBehavior;\n",
    "\tQuackBehavior quackBehavior;\n",
    " \n",
    "\tpublic Duck() {\n",
    "\t}\n",
    " \n",
    "\tpublic void setFlyBehavior (FlyBehavior fb) {\n",
    "\t\tflyBehavior = fb;\n",
    "\t}\n",
    " \n",
    "\tpublic void setQuackBehavior(QuackBehavior qb) {\n",
    "\t\tquackBehavior = qb;\n",
    "\t}\n",
    " \n",
    "\tabstract void display();\n",
    " \n",
    "\tpublic void performFly() {\n",
    "\t\tflyBehavior.fly();\n",
    "\t}\n",
    " \n",
    "\tpublic void performQuack() {\n",
    "\t\tquackBehavior.quack();\n",
    "\t}\n",
    " \n",
    "\tpublic void swim() {\n",
    "\t\tSystem.out.println(\"All ducks float, even decoys!\");\n",
    "\t}\n",
    "}\n"
   ]
  },
  {
   "cell_type": "code",
   "execution_count": null,
   "metadata": {
    "collapsed": false,
    "slideshow": {
     "slide_type": "slide"
    }
   },
   "outputs": [],
   "source": [
    "# %load /Users/media/Code/git/sd/src/headfirst/strategy/MallardDuck.java\n",
    "package headfirst.strategy;\n",
    "\n",
    "public class MallardDuck extends Duck {\n",
    " \n",
    "\tpublic MallardDuck() {\n",
    " \n",
    "\t\tquackBehavior = new Quack();\n",
    "        flyBehavior = new FlyWithWings();\n",
    "\t}\n",
    " \n",
    "\tpublic void display() {\n",
    "\t\tSystem.out.println(\"I'm a real Mallard duck\");\n",
    "\t}\n",
    "}\n"
   ]
  },
  {
   "cell_type": "code",
   "execution_count": null,
   "metadata": {
    "collapsed": true
   },
   "outputs": [],
   "source": [
    "# %load /Users/media/Code/git/sd/src/headfirst/strategy/ModelDuck.java\n",
    "package headfirst.strategy;\n",
    "\n",
    "public class ModelDuck extends Duck {\n",
    "\tpublic ModelDuck() {\n",
    "\t\tflyBehavior = new FlyNoWay();\n",
    "\t\tquackBehavior = new Quack();\n",
    "\t}\n",
    "\n",
    "\tpublic void display() {\n",
    "\t\tSystem.out.println(\"I'm a model duck\");\n",
    "\t}\n",
    "}\n"
   ]
  },
  {
   "cell_type": "code",
   "execution_count": null,
   "metadata": {
    "collapsed": true
   },
   "outputs": [],
   "source": [
    "# %load /Users/media/Code/git/sd/src/headfirst/strategy/QuackBehavior.java\n",
    "package headfirst.strategy;\n",
    "\n",
    "public interface QuackBehavior {\n",
    "\tpublic void quack();\n",
    "}\n"
   ]
  },
  {
   "cell_type": "code",
   "execution_count": null,
   "metadata": {
    "collapsed": true
   },
   "outputs": [],
   "source": [
    "# %load /Users/media/Code/git/sd/src/headfirst/strategy/Quack.java\n",
    "package headfirst.strategy;\n",
    "\n",
    "public class Quack implements QuackBehavior {\n",
    "\tpublic void quack() {\n",
    "\t\tSystem.out.println(\"Quack\");\n",
    "\t}\n",
    "}\n"
   ]
  },
  {
   "cell_type": "code",
   "execution_count": null,
   "metadata": {
    "collapsed": true
   },
   "outputs": [],
   "source": [
    "# %load /Users/media/Code/git/sd/src/headfirst/strategy/FlyBehavior.java\n",
    "package headfirst.strategy;\n",
    "\n",
    "public interface FlyBehavior {\n",
    "\tpublic void fly();\n",
    "}\n"
   ]
  },
  {
   "cell_type": "code",
   "execution_count": null,
   "metadata": {
    "collapsed": true,
    "slideshow": {
     "slide_type": "slide"
    }
   },
   "outputs": [],
   "source": [
    "# %load /Users/media/Code/git/sd/src/headfirst/strategy/FlyWithWings.java\n",
    "package headfirst.strategy;\n",
    "\n",
    "public class FlyWithWings implements FlyBehavior {\n",
    "\tpublic void fly() {\n",
    "\t\tSystem.out.println(\"I'm flying!!\");\n",
    "\t}\n",
    "}\n"
   ]
  },
  {
   "cell_type": "code",
   "execution_count": null,
   "metadata": {
    "collapsed": true,
    "slideshow": {
     "slide_type": "slide"
    }
   },
   "outputs": [],
   "source": [
    "# %load /Users/media/Code/git/sd/src/headfirst/strategy/FlyRocketPowered.java\n",
    "package headfirst.strategy;\n",
    "\n",
    "public class FlyRocketPowered implements FlyBehavior {\n",
    "\tpublic void fly() {\n",
    "\t\tSystem.out.println(\"I'm flying with a rocket\");\n",
    "\t}\n",
    "}\n"
   ]
  },
  {
   "cell_type": "code",
   "execution_count": 10,
   "metadata": {
    "collapsed": false,
    "slideshow": {
     "slide_type": "slide"
    }
   },
   "outputs": [
    {
     "data": {
      "text/plain": [
       "u'/Users/media/Dropbox/Me/toCopy/smu'"
      ]
     },
     "execution_count": 10,
     "metadata": {},
     "output_type": "execute_result"
    }
   ],
   "source": [
    "%pwd"
   ]
  },
  {
   "cell_type": "code",
   "execution_count": null,
   "metadata": {
    "collapsed": true,
    "slideshow": {
     "slide_type": "slide"
    }
   },
   "outputs": [],
   "source": [
    "# change to the root directory\n",
    "!javac -d classes/ -sourcepath src/ src/headfirst/strategy/*.java\n",
    "!java -cp classes/ headfirst.strategy.MiniDuckSimulator1"
   ]
  },
  {
   "cell_type": "markdown",
   "metadata": {},
   "source": [
    "### 1.7.2 정렬"
   ]
  },
  {
   "cell_type": "markdown",
   "metadata": {
    "slideshow": {
     "slide_type": "slide"
    }
   },
   "source": [
    "* /*출처 -r 50-75 caseSort.md*/\n",
    "* Good Software 좋은 SW만드는 방법 -> 문제를 알고, 문제를 해결하는 대안을 고려하고, 평가하고\n",
    "* 무엇이 문제인가? 중복되는가? 재사용할 수 있는가? 변하는 부분이 어떤 부분인가?\n",
    "    * 문제는 sort가 중복 -> v0에서 재현\n",
    "* v0\n",
    "    * sort를 overloading -> sort 알고리즘이 중복되는 문제\n",
    "    * 정수, 문자에 따라 비교 방식만 다르고 나머지 중복\n",
    "* v1\n",
    "    * v0 중복을 분석해서, 다른 부분이 무엇인지 확인\n",
    "    * 정수, 문자, 객체마다 비교하는 알고리즘이 다름\n",
    "        * 정수는 단순히 빼주면 됨\n",
    "        * 문자는 String.compareTo()를 사용\n",
    "        * 객체는 비교하려는 대상에 따라 다름\n",
    "    * 문제해결\n",
    "        * Comparable interface 구현\n",
    "            * compareTo() 만들고, sort()에서 호출해서 해결 (template pattern)\n",
    "        * 라이브러리 sort이용\n",
    "            * Arrays.sort()\n",
    "            * Collections.sort()\n",
    "            * compareTo()를 호출 (template pattern)\n",
    "* v2 comparator comparable\n",
    "    * v0 문제를 다른 방식으로 해결\n",
    "    * v1는 implements comparable -> template pattern -> compareTo()\n",
    "    * v2는 implements comparator -> strategy pattern -> compare()\n",
    "        * comparator 인터페이스를 구현하고, sorter를 구현\n",
    "        * 문제를 strategy pattern으로 해결\n",
    "        * 다형적으로 argument에 실시간으로 맞는 comparator를 넣어줌."
   ]
  },
  {
   "cell_type": "markdown",
   "metadata": {
    "slideshow": {
     "slide_type": "slide"
    }
   },
   "source": [
    "##### v0\n"
   ]
  },
  {
   "cell_type": "code",
   "execution_count": 26,
   "metadata": {
    "collapsed": false,
    "slideshow": {
     "slide_type": "slide"
    }
   },
   "outputs": [
    {
     "data": {
      "image/svg+xml": [
       "<svg height=\"90px\" style=\"width:143px;height:90px;\" version=\"1.1\" viewBox=\"0 0 143 90\" width=\"143px\" xmlns=\"http://www.w3.org/2000/svg\" xmlns:xlink=\"http://www.w3.org/1999/xlink\"><defs><filter height=\"300%\" id=\"f1\" width=\"300%\" x=\"-1\" y=\"-1\"><feGaussianBlur result=\"blurOut\" stdDeviation=\"2.0\"/><feColorMatrix in=\"blurOut\" result=\"blurOut2\" type=\"matrix\" values=\"0 0 0 0 0 0 0 0 0 0 0 0 0 0 0 0 0 0 .4 0\"/><feOffset dx=\"4.0\" dy=\"4.0\" in=\"blurOut2\" result=\"blurOut3\"/><feBlend in=\"SourceGraphic\" in2=\"blurOut3\" mode=\"normal\"/></filter></defs><g><rect fill=\"#FEFECE\" filter=\"url(#f1)\" height=\"73.9102\" style=\"stroke: #A80036; stroke-width: 1.5;\" width=\"128\" x=\"6\" y=\"8\"/><ellipse cx=\"48.9\" cy=\"24\" fill=\"#ADD1B2\" rx=\"11\" ry=\"11\" style=\"stroke: #A80036; stroke-width: 1.0;\"/><path d=\"M51.8731,29.6431 Q51.2921,29.9419 50.6529,30.0913 Q50.0138,30.2407 49.3082,30.2407 Q46.8014,30.2407 45.4815,28.5889 Q44.1617,26.937 44.1617,23.8159 Q44.1617,20.6865 45.4815,19.0347 Q46.8014,17.3828 49.3082,17.3828 Q50.0138,17.3828 50.6612,17.5322 Q51.3087,17.6816 51.8731,17.9805 L51.8731,20.7031 Q51.2423,20.1221 50.6488,19.8523 Q50.0553,19.5825 49.4244,19.5825 Q48.0797,19.5825 47.3949,20.6492 Q46.7101,21.7158 46.7101,23.8159 Q46.7101,25.9077 47.3949,26.9744 Q48.0797,28.041 49.4244,28.041 Q50.0553,28.041 50.6488,27.7712 Q51.2423,27.5015 51.8731,26.9204 Z \"/><text fill=\"#000000\" font-family=\"sans-serif\" font-size=\"12\" lengthAdjust=\"spacingAndGlyphs\" textLength=\"34\" x=\"69.1\" y=\"28.5352\">Sorter</text><line style=\"stroke: #A80036; stroke-width: 1.5;\" x1=\"7\" x2=\"133\" y1=\"40\" y2=\"40\"/><line style=\"stroke: #A80036; stroke-width: 1.5;\" x1=\"7\" x2=\"133\" y1=\"48\" y2=\"48\"/><ellipse cx=\"17\" cy=\"59.9775\" fill=\"#84BE84\" rx=\"3\" ry=\"3\" style=\"stroke: #038048; stroke-width: 1.0;\"/><text fill=\"#000000\" font-family=\"sans-serif\" font-size=\"11\" lengthAdjust=\"spacingAndGlyphs\" textLength=\"102\" x=\"26\" y=\"62.6348\">sort(Integer[]):void</text><ellipse cx=\"17\" cy=\"72.9326\" fill=\"#84BE84\" rx=\"3\" ry=\"3\" style=\"stroke: #038048; stroke-width: 1.0;\"/><text fill=\"#000000\" font-family=\"sans-serif\" font-size=\"11\" lengthAdjust=\"spacingAndGlyphs\" textLength=\"96\" x=\"26\" y=\"75.5898\">sort(String[]):void</text></g></svg>"
      ],
      "text/plain": [
       "<IPython.core.display.SVG object>"
      ]
     },
     "execution_count": 26,
     "metadata": {},
     "output_type": "execute_result"
    }
   ],
   "source": [
    "%%plantuml\n",
    "@startuml\n",
    "class Sorter {\n",
    "    +sort(Integer[]):void\n",
    "    +sort(String[]):void\n",
    "}\n",
    "@enduml"
   ]
  },
  {
   "cell_type": "markdown",
   "metadata": {},
   "source": [
    "#### v1"
   ]
  },
  {
   "cell_type": "code",
   "execution_count": 29,
   "metadata": {
    "collapsed": false,
    "slideshow": {
     "slide_type": "slide"
    }
   },
   "outputs": [
    {
     "data": {
      "image/svg+xml": [
       "<svg height=\"320px\" style=\"width:276px;height:320px;\" version=\"1.1\" viewBox=\"0 0 276 320\" width=\"276px\" xmlns=\"http://www.w3.org/2000/svg\" xmlns:xlink=\"http://www.w3.org/1999/xlink\"><defs><filter height=\"300%\" id=\"f1\" width=\"300%\" x=\"-1\" y=\"-1\"><feGaussianBlur result=\"blurOut\" stdDeviation=\"2.0\"/><feColorMatrix in=\"blurOut\" result=\"blurOut2\" type=\"matrix\" values=\"0 0 0 0 0 0 0 0 0 0 0 0 0 0 0 0 0 0 .4 0\"/><feOffset dx=\"4.0\" dy=\"4.0\" in=\"blurOut2\" result=\"blurOut3\"/><feBlend in=\"SourceGraphic\" in2=\"blurOut3\" mode=\"normal\"/></filter></defs><g><rect fill=\"#FEFECE\" filter=\"url(#f1)\" height=\"60.9551\" style=\"stroke: #A80036; stroke-width: 1.5;\" width=\"157\" x=\"110\" y=\"8\"/><ellipse cx=\"149.3\" cy=\"24\" fill=\"#B4A7E5\" rx=\"11\" ry=\"11\" style=\"stroke: #A80036; stroke-width: 1.0;\"/><path d=\"M145.2277,19.7651 L145.2277,17.6069 L152.6071,17.6069 L152.6071,19.7651 L150.1418,19.7651 L150.1418,27.8418 L152.6071,27.8418 L152.6071,30 L145.2277,30 L145.2277,27.8418 L147.6931,27.8418 L147.6931,19.7651 Z \"/><text fill=\"#000000\" font-family=\"sans-serif\" font-size=\"12\" font-style=\"italic\" lengthAdjust=\"spacingAndGlyphs\" textLength=\"71\" x=\"168.7\" y=\"28.5352\">Comparable</text><line style=\"stroke: #A80036; stroke-width: 1.5;\" x1=\"111\" x2=\"266\" y1=\"40\" y2=\"40\"/><line style=\"stroke: #A80036; stroke-width: 1.5;\" x1=\"111\" x2=\"266\" y1=\"48\" y2=\"48\"/><ellipse cx=\"121\" cy=\"59.9775\" fill=\"#84BE84\" rx=\"3\" ry=\"3\" style=\"stroke: #038048; stroke-width: 1.0;\"/><text fill=\"#000000\" font-family=\"sans-serif\" font-size=\"11\" lengthAdjust=\"spacingAndGlyphs\" textLength=\"131\" x=\"130\" y=\"62.6348\">compareTo(Object o):int</text><rect fill=\"#FEFECE\" filter=\"url(#f1)\" height=\"73.9102\" style=\"stroke: #A80036; stroke-width: 1.5;\" width=\"157\" x=\"110\" y=\"129\"/><ellipse cx=\"165.25\" cy=\"145\" fill=\"#ADD1B2\" rx=\"11\" ry=\"11\" style=\"stroke: #A80036; stroke-width: 1.0;\"/><path d=\"M168.2231,150.6431 Q167.6421,150.9419 167.0029,151.0913 Q166.3638,151.2407 165.6582,151.2407 Q163.1514,151.2407 161.8315,149.5889 Q160.5117,147.937 160.5117,144.8159 Q160.5117,141.6865 161.8315,140.0347 Q163.1514,138.3828 165.6582,138.3828 Q166.3638,138.3828 167.0112,138.5322 Q167.6587,138.6816 168.2231,138.9805 L168.2231,141.7031 Q167.5923,141.1221 166.9988,140.8523 Q166.4053,140.5825 165.7744,140.5825 Q164.4297,140.5825 163.7449,141.6492 Q163.0601,142.7158 163.0601,144.8159 Q163.0601,146.9077 163.7449,147.9744 Q164.4297,149.041 165.7744,149.041 Q166.4053,149.041 166.9988,148.7712 Q167.5923,148.5015 168.2231,147.9204 Z \"/><text fill=\"#000000\" font-family=\"sans-serif\" font-size=\"12\" lengthAdjust=\"spacingAndGlyphs\" textLength=\"38\" x=\"185.75\" y=\"149.5352\">Weight</text><line style=\"stroke: #A80036; stroke-width: 1.5;\" x1=\"111\" x2=\"266\" y1=\"161\" y2=\"161\"/><rect fill=\"none\" height=\"6\" style=\"stroke: #C82930; stroke-width: 1.0;\" width=\"6\" x=\"118\" y=\"169.9775\"/><text fill=\"#000000\" font-family=\"sans-serif\" font-size=\"11\" lengthAdjust=\"spacingAndGlyphs\" textLength=\"36\" x=\"130\" y=\"175.6348\">kilo:int</text><line style=\"stroke: #A80036; stroke-width: 1.5;\" x1=\"111\" x2=\"266\" y1=\"181.9551\" y2=\"181.9551\"/><ellipse cx=\"121\" cy=\"193.9326\" fill=\"#84BE84\" rx=\"3\" ry=\"3\" style=\"stroke: #038048; stroke-width: 1.0;\"/><text fill=\"#000000\" font-family=\"sans-serif\" font-size=\"11\" lengthAdjust=\"spacingAndGlyphs\" textLength=\"131\" x=\"130\" y=\"196.5898\">compareTo(Object o):int</text><rect fill=\"#FEFECE\" filter=\"url(#f1)\" height=\"48\" style=\"stroke: #A80036; stroke-width: 1.5;\" width=\"66\" x=\"81.5\" y=\"263\"/><ellipse cx=\"96.5\" cy=\"279\" fill=\"#ADD1B2\" rx=\"11\" ry=\"11\" style=\"stroke: #A80036; stroke-width: 1.0;\"/><path d=\"M99.4731,284.6431 Q98.8921,284.9419 98.2529,285.0913 Q97.6138,285.2407 96.9082,285.2407 Q94.4014,285.2407 93.0815,283.5889 Q91.7617,281.937 91.7617,278.8159 Q91.7617,275.6865 93.0815,274.0347 Q94.4014,272.3828 96.9082,272.3828 Q97.6138,272.3828 98.2612,272.5322 Q98.9087,272.6816 99.4731,272.9805 L99.4731,275.7031 Q98.8423,275.1221 98.2488,274.8523 Q97.6553,274.5825 97.0244,274.5825 Q95.6797,274.5825 94.9949,275.6492 Q94.3101,276.7158 94.3101,278.8159 Q94.3101,280.9077 94.9949,281.9744 Q95.6797,283.041 97.0244,283.041 Q97.6553,283.041 98.2488,282.7712 Q98.8423,282.5015 99.4731,281.9204 Z \"/><text fill=\"#000000\" font-family=\"sans-serif\" font-size=\"12\" lengthAdjust=\"spacingAndGlyphs\" textLength=\"34\" x=\"110.5\" y=\"283.5352\">Sorter</text><line style=\"stroke: #A80036; stroke-width: 1.5;\" x1=\"82.5\" x2=\"146.5\" y1=\"295\" y2=\"295\"/><line style=\"stroke: #A80036; stroke-width: 1.5;\" x1=\"82.5\" x2=\"146.5\" y1=\"303\" y2=\"303\"/><rect fill=\"#FEFECE\" filter=\"url(#f1)\" height=\"48\" style=\"stroke: #A80036; stroke-width: 1.5;\" width=\"69\" x=\"6\" y=\"142\"/><ellipse cx=\"21\" cy=\"158\" fill=\"#ADD1B2\" rx=\"11\" ry=\"11\" style=\"stroke: #A80036; stroke-width: 1.0;\"/><path d=\"M23.9731,163.6431 Q23.3921,163.9419 22.7529,164.0913 Q22.1138,164.2407 21.4082,164.2407 Q18.9014,164.2407 17.5815,162.5889 Q16.2617,160.937 16.2617,157.8159 Q16.2617,154.6865 17.5815,153.0347 Q18.9014,151.3828 21.4082,151.3828 Q22.1138,151.3828 22.7612,151.5322 Q23.4087,151.6816 23.9731,151.9805 L23.9731,154.7031 Q23.3423,154.1221 22.7488,153.8523 Q22.1553,153.5825 21.5244,153.5825 Q20.1797,153.5825 19.4949,154.6492 Q18.8101,155.7158 18.8101,157.8159 Q18.8101,159.9077 19.4949,160.9744 Q20.1797,162.041 21.5244,162.041 Q22.1553,162.041 22.7488,161.7712 Q23.3423,161.5015 23.9731,160.9204 Z \"/><text fill=\"#000000\" font-family=\"sans-serif\" font-size=\"12\" lengthAdjust=\"spacingAndGlyphs\" textLength=\"37\" x=\"35\" y=\"162.5352\">Arrays</text><line style=\"stroke: #A80036; stroke-width: 1.5;\" x1=\"7\" x2=\"74\" y1=\"174\" y2=\"174\"/><line style=\"stroke: #A80036; stroke-width: 1.5;\" x1=\"7\" x2=\"74\" y1=\"182\" y2=\"182\"/><path d=\"M188.5,89.505 C188.5,102.621 188.5,116.513 188.5,128.755 \" fill=\"none\" style=\"stroke: #A80036; stroke-width: 1.0;\"/><polygon fill=\"none\" points=\"181.5,89.242,188.5,69.242,195.5,89.242,181.5,89.242\" style=\"stroke: #A80036; stroke-width: 1.0;\"/><path d=\"M163.223,207.648 C151.766,226.0724 138.636,247.1863 128.896,262.8505 \" fill=\"none\" style=\"stroke: #A80036; stroke-width: 1.0; stroke-dasharray: 7.0,7.0;\"/><polygon fill=\"#A80036\" points=\"166.097,203.027,157.9477,208.5578,163.4568,207.2731,164.7415,212.7821,166.097,203.027\" style=\"stroke: #A80036; stroke-width: 1.0;\"/><path d=\"M57.6176,194.527 C70.4903,215.2276 87.9302,243.2729 100.0928,262.8317 \" fill=\"none\" style=\"stroke: #A80036; stroke-width: 1.0; stroke-dasharray: 7.0,7.0;\"/><polygon fill=\"#A80036\" points=\"54.9436,190.227,56.2989,199.9822,57.5837,194.4732,63.0927,195.758,54.9436,190.227\" style=\"stroke: #A80036; stroke-width: 1.0;\"/></g></svg>"
      ],
      "text/plain": [
       "<IPython.core.display.SVG object>"
      ]
     },
     "execution_count": 29,
     "metadata": {},
     "output_type": "execute_result"
    }
   ],
   "source": [
    "%%plantuml\n",
    "@startuml\n",
    "interface Comparable {\n",
    "    +compareTo(Object o):int\n",
    "}\n",
    "class Weight {\n",
    "    -kilo:int\n",
    "    +compareTo(Object o):int\n",
    "}\n",
    "Comparable <|-- Weight\n",
    "Sorter .up.> Weight\n",
    "Sorter .up.> Arrays\n",
    "@enduml"
   ]
  },
  {
   "cell_type": "markdown",
   "metadata": {},
   "source": [
    "#### v2"
   ]
  },
  {
   "cell_type": "code",
   "execution_count": 31,
   "metadata": {
    "collapsed": false
   },
   "outputs": [
    {
     "data": {
      "image/svg+xml": [
       "<svg height=\"307px\" style=\"width:421px;height:307px;\" version=\"1.1\" viewBox=\"0 0 421 307\" width=\"421px\" xmlns=\"http://www.w3.org/2000/svg\" xmlns:xlink=\"http://www.w3.org/1999/xlink\"><defs><filter height=\"300%\" id=\"f1\" width=\"300%\" x=\"-1\" y=\"-1\"><feGaussianBlur result=\"blurOut\" stdDeviation=\"2.0\"/><feColorMatrix in=\"blurOut\" result=\"blurOut2\" type=\"matrix\" values=\"0 0 0 0 0 0 0 0 0 0 0 0 0 0 0 0 0 0 .4 0\"/><feOffset dx=\"4.0\" dy=\"4.0\" in=\"blurOut2\" result=\"blurOut3\"/><feBlend in=\"SourceGraphic\" in2=\"blurOut3\" mode=\"normal\"/></filter></defs><g><rect fill=\"#FEFECE\" filter=\"url(#f1)\" height=\"60.9551\" style=\"stroke: #A80036; stroke-width: 1.5;\" width=\"208\" x=\"204\" y=\"8\"/><ellipse cx=\"269.25\" cy=\"24\" fill=\"#B4A7E5\" rx=\"11\" ry=\"11\" style=\"stroke: #A80036; stroke-width: 1.0;\"/><path d=\"M265.1777,19.7651 L265.1777,17.6069 L272.5571,17.6069 L272.5571,19.7651 L270.0918,19.7651 L270.0918,27.8418 L272.5571,27.8418 L272.5571,30 L265.1777,30 L265.1777,27.8418 L267.6431,27.8418 L267.6431,19.7651 Z \"/><text fill=\"#000000\" font-family=\"sans-serif\" font-size=\"12\" font-style=\"italic\" lengthAdjust=\"spacingAndGlyphs\" textLength=\"69\" x=\"289.75\" y=\"28.5352\">Comparator</text><line style=\"stroke: #A80036; stroke-width: 1.5;\" x1=\"205\" x2=\"411\" y1=\"40\" y2=\"40\"/><line style=\"stroke: #A80036; stroke-width: 1.5;\" x1=\"205\" x2=\"411\" y1=\"48\" y2=\"48\"/><ellipse cx=\"215\" cy=\"59.9775\" fill=\"#84BE84\" rx=\"3\" ry=\"3\" style=\"stroke: #038048; stroke-width: 1.0;\"/><text fill=\"#000000\" font-family=\"sans-serif\" font-size=\"11\" lengthAdjust=\"spacingAndGlyphs\" textLength=\"182\" x=\"224\" y=\"62.6348\">compare(Object o1, Object o2):int</text><rect fill=\"#FEFECE\" filter=\"url(#f1)\" height=\"60.9551\" style=\"stroke: #A80036; stroke-width: 1.5;\" width=\"196\" x=\"6\" y=\"129\"/><ellipse cx=\"82.75\" cy=\"145\" fill=\"#ADD1B2\" rx=\"11\" ry=\"11\" style=\"stroke: #A80036; stroke-width: 1.0;\"/><path d=\"M85.7231,150.6431 Q85.1421,150.9419 84.5029,151.0913 Q83.8638,151.2407 83.1582,151.2407 Q80.6514,151.2407 79.3315,149.5889 Q78.0117,147.937 78.0117,144.8159 Q78.0117,141.6865 79.3315,140.0347 Q80.6514,138.3828 83.1582,138.3828 Q83.8638,138.3828 84.5112,138.5322 Q85.1587,138.6816 85.7231,138.9805 L85.7231,141.7031 Q85.0923,141.1221 84.4988,140.8523 Q83.9053,140.5825 83.2744,140.5825 Q81.9297,140.5825 81.2449,141.6492 Q80.5601,142.7158 80.5601,144.8159 Q80.5601,146.9077 81.2449,147.9744 Q81.9297,149.041 83.2744,149.041 Q83.9053,149.041 84.4988,148.7712 Q85.0923,148.5015 85.7231,147.9204 Z \"/><text fill=\"#000000\" font-family=\"sans-serif\" font-size=\"12\" lengthAdjust=\"spacingAndGlyphs\" textLength=\"34\" x=\"103.25\" y=\"149.5352\">Sorter</text><line style=\"stroke: #A80036; stroke-width: 1.5;\" x1=\"7\" x2=\"201\" y1=\"161\" y2=\"161\"/><line style=\"stroke: #A80036; stroke-width: 1.5;\" x1=\"7\" x2=\"201\" y1=\"169\" y2=\"169\"/><ellipse cx=\"17\" cy=\"180.9775\" fill=\"#84BE84\" rx=\"3\" ry=\"3\" style=\"stroke: #038048; stroke-width: 1.0;\"/><text fill=\"#000000\" font-family=\"sans-serif\" font-size=\"11\" lengthAdjust=\"spacingAndGlyphs\" textLength=\"170\" x=\"26\" y=\"183.6348\">sort(Object[], Comparator):void</text><rect fill=\"#FEFECE\" filter=\"url(#f1)\" height=\"48\" style=\"stroke: #A80036; stroke-width: 1.5;\" width=\"141\" x=\"237.5\" y=\"135.5\"/><ellipse cx=\"252.5\" cy=\"151.5\" fill=\"#ADD1B2\" rx=\"11\" ry=\"11\" style=\"stroke: #A80036; stroke-width: 1.0;\"/><path d=\"M255.4731,157.1431 Q254.8921,157.4419 254.2529,157.5913 Q253.6138,157.7407 252.9082,157.7407 Q250.4014,157.7407 249.0815,156.0889 Q247.7617,154.437 247.7617,151.3159 Q247.7617,148.1865 249.0815,146.5347 Q250.4014,144.8828 252.9082,144.8828 Q253.6138,144.8828 254.2612,145.0322 Q254.9087,145.1816 255.4731,145.4805 L255.4731,148.2031 Q254.8423,147.6221 254.2488,147.3523 Q253.6553,147.0825 253.0244,147.0825 Q251.6797,147.0825 250.9949,148.1492 Q250.3101,149.2158 250.3101,151.3159 Q250.3101,153.4077 250.9949,154.4744 Q251.6797,155.541 253.0244,155.541 Q253.6553,155.541 254.2488,155.2712 Q254.8423,155.0015 255.4731,154.4204 Z \"/><text fill=\"#000000\" font-family=\"sans-serif\" font-size=\"12\" lengthAdjust=\"spacingAndGlyphs\" textLength=\"109\" x=\"266.5\" y=\"156.0352\">IntegerComparater</text><line style=\"stroke: #A80036; stroke-width: 1.5;\" x1=\"238.5\" x2=\"377.5\" y1=\"167.5\" y2=\"167.5\"/><line style=\"stroke: #A80036; stroke-width: 1.5;\" x1=\"238.5\" x2=\"377.5\" y1=\"175.5\" y2=\"175.5\"/><rect fill=\"#FEFECE\" filter=\"url(#f1)\" height=\"48\" style=\"stroke: #A80036; stroke-width: 1.5;\" width=\"93\" x=\"221.5\" y=\"250\"/><ellipse cx=\"236.5\" cy=\"266\" fill=\"#ADD1B2\" rx=\"11\" ry=\"11\" style=\"stroke: #A80036; stroke-width: 1.0;\"/><path d=\"M239.4731,271.6431 Q238.8921,271.9419 238.2529,272.0913 Q237.6138,272.2407 236.9082,272.2407 Q234.4014,272.2407 233.0815,270.5889 Q231.7617,268.937 231.7617,265.8159 Q231.7617,262.6865 233.0815,261.0347 Q234.4014,259.3828 236.9082,259.3828 Q237.6138,259.3828 238.2612,259.5322 Q238.9087,259.6816 239.4731,259.9805 L239.4731,262.7031 Q238.8423,262.1221 238.2488,261.8523 Q237.6553,261.5825 237.0244,261.5825 Q235.6797,261.5825 234.9949,262.6492 Q234.3101,263.7158 234.3101,265.8159 Q234.3101,267.9077 234.9949,268.9744 Q235.6797,270.041 237.0244,270.041 Q237.6553,270.041 238.2488,269.7712 Q238.8423,269.5015 239.4731,268.9204 Z \"/><text fill=\"#000000\" font-family=\"sans-serif\" font-size=\"12\" lengthAdjust=\"spacingAndGlyphs\" textLength=\"61\" x=\"250.5\" y=\"270.5352\">SorterMain</text><line style=\"stroke: #A80036; stroke-width: 1.5;\" x1=\"222.5\" x2=\"313.5\" y1=\"282\" y2=\"282\"/><line style=\"stroke: #A80036; stroke-width: 1.5;\" x1=\"222.5\" x2=\"313.5\" y1=\"290\" y2=\"290\"/><path d=\"M308,89.34 C308,105.373 308,122.369 308,135.499 \" fill=\"none\" style=\"stroke: #A80036; stroke-width: 1.0; stroke-dasharray: 7.0,7.0;\"/><polygon fill=\"none\" points=\"301,89.222,308,69.222,315,89.222,301,89.222\" style=\"stroke: #A80036; stroke-width: 1.0;\"/><path d=\"M252.858,71.666 C222.312,89.485 184.603,111.482 154.782,128.877 \" fill=\"none\" style=\"stroke: #A80036; stroke-width: 1.0; stroke-dasharray: 7.0,7.0;\"/><polygon fill=\"#A80036\" points=\"257.311,69.069,247.5215,70.1487,252.9921,71.5884,251.5525,77.059,257.311,69.069\" style=\"stroke: #A80036; stroke-width: 1.0;\"/><path d=\"M352.931,72.491 C369.786,87.61 387.022,107.063 396,129 C406.269,154.091 408.944,166.179 396,190 C378.802,221.649 343.752,243.0958 314.671,256.248 \" fill=\"none\" style=\"stroke: #A80036; stroke-width: 1.0; stroke-dasharray: 7.0,7.0;\"/><polygon fill=\"#A80036\" points=\"349.117,69.135,353.2321,78.0829,352.871,72.4376,358.5163,72.0765,349.117,69.135\" style=\"stroke: #A80036; stroke-width: 1.0;\"/><path d=\"M151.294,192.942 C177.825,211.1424 210.301,233.42 234.252,249.8498 \" fill=\"none\" style=\"stroke: #A80036; stroke-width: 1.0; stroke-dasharray: 7.0,7.0;\"/><polygon fill=\"#A80036\" points=\"147.089,190.058,152.2488,198.4471,151.2124,192.886,156.7735,191.8496,147.089,190.058\" style=\"stroke: #A80036; stroke-width: 1.0;\"/></g></svg>"
      ],
      "text/plain": [
       "<IPython.core.display.SVG object>"
      ]
     },
     "execution_count": 31,
     "metadata": {},
     "output_type": "execute_result"
    }
   ],
   "source": [
    "%%plantuml\n",
    "@startuml\n",
    "interface Comparator {\n",
    "    +compare(Object o1, Object o2):int\n",
    "}\n",
    "\n",
    "class Sorter {\n",
    "    +sort(Object[], Comparator):void\n",
    "}\n",
    "Comparator <|.. IntegerComparater\n",
    "Comparator <.. Sorter\n",
    "SorterMain .up.> Comparator\n",
    "SorterMain .up.> Sorter\n",
    "@enduml"
   ]
  },
  {
   "cell_type": "code",
   "execution_count": null,
   "metadata": {
    "collapsed": true
   },
   "outputs": [],
   "source": [
    "# %load /Users/media/Code/git/sd/src/com/sd/sort/v2/SorterMainV2.java\n",
    "/*\n",
    " * @author js\n",
    " * @since 20160312\n",
    " * to show v2 strategy pattern using interface Comparator\n",
    " * run\n",
    " * javac -d classes/ -cp lib/aplu5.jar -sourcepath src/ src/com/sd/sort/v2/SorterMainV2.java \n",
    " * java -cp classes/:lib/aplu5.jar com.sd.sort.v2.SorterMainV2\n",
    " * cases\n",
    " * 1) Integer\n",
    " * 2) String\n",
    " * 3) Turtle\n",
    " *      TurtleComparator did not implement java.util.Comparator\n",
    " *      see separately saved TurtleComparator.java\n",
    "\n",
    "> com.sd.sort.v2.Sorter s = new com.sd.sort.v2.Sorter()\n",
    "> com.sd.sort.v2.Comparator stringComp = new com.sd.sort.v2.StringComparator()\n",
    "> String[] B={\"John\", \"Adam\", \"Skrien\", \"Smith\", \"Jones\"};\n",
    "> s.sort(B,stringComp)\n",
    "> B\n",
    "{ Adam, John, Jones, Skrien, Smith }\n",
    "> Integer[] C = {new Integer(3), new Integer(1), new Integer(4), new Integer(2)};\n",
    "> com.sd.sort.v2.Comparator integerComp=new com.sd.sort.v2.IntegerComparator();\n",
    "> s.sort(C,integerComp)\n",
    "> C\n",
    "{ 1, 2, 3, 4 }\n",
    "> java com.sd.sort.v2.SorterMainV2\n",
    "B[0]=Adam\n",
    "B[1]=John\n",
    "B[2]=Jones\n",
    "B[3]=Skrien\n",
    "B[4]=Smith\n",
    "C[0]=1\n",
    "C[1]=2\n",
    "C[2]=3\n",
    "C[3]=4\n",
    "  *\n",
    "  */\n",
    "\n",
    "package com.sd.sort.v2;\n",
    "import java.util.Date;\n",
    "import com.sd.turtle.WeightTurtle;\n",
    "\n",
    "public class SorterMainV2 {\n",
    "    public static void main(String[] args) {\n",
    "        String[] B={\"John\", \"Adam\", \"Skrien\", \"Smith\", \"Jones\"};\n",
    "        Comparator stringComp=new StringComparator();\n",
    "        Sorter.sort(B, stringComp);\n",
    "\n",
    "        Integer[] C = {new Integer(3), new Integer(1), new Integer(4), new Integer(2)};\n",
    "        Comparator integerComp=new IntegerComparator();\n",
    "        Sorter.sort(C, integerComp);\n",
    "\n",
    "        for(int i=0; i<B.length; i++)\n",
    "            System.out.println(\"B[\"+i+\"]=\"+B[i]);\n",
    "        for(int i=0; i<C.length; i++)\n",
    "            System.out.println(\"C[\"+i+\"]=\"+C[i]);\n",
    "\n",
    "        WeightTurtle wt30 = new WeightTurtle(30);\n",
    "        WeightTurtle wt10 = new WeightTurtle(10);\n",
    "        WeightTurtle wt20 = new WeightTurtle(20);\n",
    "        WeightTurtle[] wts={wt30, wt10, wt20};\n",
    "        Comparator turtleComp=new TurtleComparator();\n",
    "        Sorter.sort(wts, turtleComp);\n",
    "\n",
    "        for(int i=0; i<wts.length; i++)\n",
    "            System.out.println(\"WeightTurtleArray[\"+i+\"]=\"+wts[i].getWeight());\n",
    "    }\n",
    "}\n",
    "\n",
    "class Sorter {\n",
    "  public Sorter() {}\n",
    "    public static void sort(Object[] data, Comparator comp) {\n",
    "        for(int i=data.length-1; i>=1; i--) {\n",
    "            int indexOfMax=0;\n",
    "            for(int j=1; j<=i; j++) {\n",
    "                if(comp.compare(data[j], data[indexOfMax]) > 0)\n",
    "                    indexOfMax=j;\n",
    "                }\n",
    "                Object temp=data[i];\n",
    "                data[i]=data[indexOfMax];\n",
    "                data[indexOfMax]=temp;\n",
    "        }\n",
    "    }\n",
    "}\n",
    "\n",
    "// declare my own, also possible to use java.util.Comparator\n",
    "interface Comparator {\n",
    "    public int compare(Object o1, Object o2);\n",
    "    public boolean equals(Object o);\n",
    "}\n",
    "\n",
    "class IntegerComparator implements Comparator {\n",
    "    public IntegerComparator() {}\n",
    "    public int compare(Object o1, Object o2) {\n",
    "        return (Integer)o1 - (Integer)o2;\n",
    "    }\n",
    "}\n",
    "\n",
    "class StringComparator implements Comparator {\n",
    "    public StringComparator() {}\n",
    "    public int compare(Object o1, Object o2) {\n",
    "        String s1=(String)o1;\n",
    "        String s2=(String)o2;\n",
    "        return s1.compareTo(s2);\n",
    "        //return Integer.parseInt((String) o1) -\n",
    "        //   Integer.parseInt((String) o2);\n",
    "    }\n",
    "}\n",
    "\n",
    "class TurtleComparator implements Comparator {\n",
    "    public int compare(Object t1, Object t2) {\n",
    "        return ((WeightTurtle)t1).getWeight()-((WeightTurtle)t2).getWeight();\n",
    "    }\n",
    "}\n"
   ]
  },
  {
   "cell_type": "code",
   "execution_count": 37,
   "metadata": {
    "collapsed": false
   },
   "outputs": [
    {
     "name": "stdout",
     "output_type": "stream",
     "text": [
      "B[0]=Adam\n",
      "B[1]=John\n",
      "B[2]=Jones\n",
      "B[3]=Skrien\n",
      "B[4]=Smith\n",
      "C[0]=1\n",
      "C[1]=2\n",
      "C[2]=3\n",
      "C[3]=4\n",
      "WeightTurtleArray[0]=10\n",
      "WeightTurtleArray[1]=20\n",
      "WeightTurtleArray[2]=30\n"
     ]
    }
   ],
   "source": [
    "!javac -d classes/ -cp lib/aplu5.jar -sourcepath src/ src/com/sd/sort/v2/SorterMainV2.java \n",
    "!java -cp classes/:lib/aplu5.jar com.sd.sort.v2.SorterMainV2\n"
   ]
  },
  {
   "cell_type": "markdown",
   "metadata": {},
   "source": [
    "## 시작-1 java.util.Comparator를 이용해 구현\n",
    "\n",
    "* 수요일까지 제출 (git)\n",
    "* 1-2는 보고서로 제출\n",
    "\n",
    "### 1-1 클래스다이어그램을 그리기\n",
    "* plantuml로 그려서 script를 model에 저장\n",
    "* DataComparator, ReverseComparator를 포함\n",
    "\n",
    "### 1-2  SOLID원칙이 어떻게 적용되었는지 설명\n",
    "\n",
    "* 원칙이 적용된 부분을 설명\n",
    "\n",
    "### 1-3  구현\n",
    "* 거북이를 정렬하는 TurtleComparator를 구현\n",
    "* 일자를 정렬하는 DataComparator를 구현\n",
    "* 문자를 역정렬하는 ReverseComparator를 구현\n",
    "\n",
    "### 1-4 drjava 인터랙션을 이용해서 결과를 보기\n",
    "\n",
    "* 거북이를 정렬"
   ]
  }
 ],
 "metadata": {
  "celltoolbar": "Slideshow",
  "kernelspec": {
   "display_name": "Python 2",
   "language": "python",
   "name": "python2"
  },
  "language_info": {
   "codemirror_mode": {
    "name": "ipython",
    "version": 2
   },
   "file_extension": ".py",
   "mimetype": "text/x-python",
   "name": "python",
   "nbconvert_exporter": "python",
   "pygments_lexer": "ipython2",
   "version": "2.7.10"
  }
 },
 "nbformat": 4,
 "nbformat_minor": 0
}
