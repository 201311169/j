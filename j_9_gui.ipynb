{
 "cells": [
  {
   "cell_type": "markdown",
   "metadata": {},
   "source": [
    "# 8. GUI\n",
    "\n",
    "## 8.1 학습내용\n",
    "\n",
    "### 8.1.1 목표\n",
    "\n",
    "* 화면을 만들 수 있다.\n",
    "* 화면의 이벤트 처리할 수 있다.\n",
    "* 그림을 그릴 수 있다.\n",
    "\n",
    "### 8.1.2 문제\n",
    "\n",
    "* 문제 gui-1: 원 면적을 계산하는 화면을 만든다. \n",
    "* 문제 gui-2: 원 면적을 계산버튼을 누르면 면적을 계산한다."
   ]
  },
  {
   "cell_type": "markdown",
   "metadata": {},
   "source": [
    "## 8.2 GUI  소개\n",
    "\n",
    "### 8.2.1 GUI란?\n",
    "\n",
    "* GUI는 컴퓨터를 사용하는 환경으로, '그림'으로 제공된다. 그림의 위치가 의미가 있어 마우스로 동작을 하면 그 위치와 연결된 메뉴, 버튼, 스크롤과 같은 기능을 사용할 수 있다.\n",
    "\n",
    "구분 | GUI | CUI\n",
    "-----|-----|-----\n",
    "약어 | Graphical User Interface | Character UI\n",
    "명령어 입력 | 주로 마우스 입력 | 주로 키보드 입력\n",
    "예 | 윈도우 | DOS, Terminal"
   ]
  },
  {
   "cell_type": "markdown",
   "metadata": {},
   "source": [
    "### 8.2.2 GUI 구성\n",
    "\n",
    "* 자바는 2개의 패키지로 GUI를 만든다.\n",
    "* 초기에는 AWT 패키지로 만들었고, 다음에 Swing 패키지를 추가했다.\n",
    "    * AWT (Abstract Widget Toolkit)\n",
    "    * Swing (AWT기반으로 만들어졌다) (클래스 앞에 J를 붙인다.)\n",
    "\n",
    "* Swing GUI는 Swing container를 만들고 그 안에 GUI components를 넣는다.\n",
    "* Swing containers의 종류\n",
    "    1. JFrame\n",
    "        * GUI 윈도우\n",
    "        * JFrame은 JRootPane이 최상위에 있고 그 안에 (1) glass pane, (2) layered pane, (3) content pane, (4) optional menu bar를 가지고 있다.\n",
    "    2. 다른 containers의 예\n",
    "\n",
    "Swing containers | 설명 | 예\n",
    "----------|----------|----------\n",
    "javax.swing.JPanel | 자체로 윈도우가 될 수 없다. components를 구성해서 JFrame로 add | \n",
    "javax.swing.JDialog | 대화 창을 만듦 | JOptionPane\n",
    "javax.swing.JScrollPane | 스크롤바 추가 | \n",
    "\n",
    "\n",
    "* AWT, Swing에서 사용할 수 있는 관련 클래스\n",
    "\n",
    "awt,swing 요소 | 설명\n",
    "----------|----------\n",
    "Component | awt 그림 객체 (button, checkboxes, scrollbars)\n",
    "Container | awt container.  awt components를 가질 수 있다.\n",
    "Window | 최상위 윈도우. 제목과 테두리가 없다.\n",
    "Frame | 최상위 윈도우. 제목과 테두리가 있다.\n",
    "JFrame | 윈도우 창. swing을 사용할 수 있게 Frame 확장. getContentPane()으로 container를 만들어 사용.\n",
    "JComponent | 모든 swing components (JFrame, JDialog, JApplet과 같은 container제외)\n",
    "JPanel | 가벼운 container. JFrame과 달리 그 자체로 존재할 수 없다.\n",
    "LayoutManager | setLayout()"
   ]
  },
  {
   "cell_type": "markdown",
   "metadata": {},
   "source": [
    "* 아래 GUI 관련 클래스를 나타낸 GUI에서, Component, JComponent의 paint(), repaint() 함수를 주의한다.\n",
    "    * paintComponent()는 Swing JComponent에 있다.\n",
    "    * paint(), repaint()는 Component에 있고, JComponent가 상속받는다.\n",
    "    * repaint()는 인자가 생략되었다.\n"
   ]
  },
  {
   "cell_type": "code",
   "execution_count": 3,
   "metadata": {
    "collapsed": true
   },
   "outputs": [],
   "source": [
    "import iplantuml"
   ]
  },
  {
   "cell_type": "code",
   "execution_count": 14,
   "metadata": {
    "collapsed": false
   },
   "outputs": [
    {
     "data": {
      "image/svg+xml": [
       "<svg height=\"519px\" style=\"width:853px;height:519px;\" version=\"1.1\" viewBox=\"0 0 853 519\" width=\"853px\" xmlns=\"http://www.w3.org/2000/svg\" xmlns:xlink=\"http://www.w3.org/1999/xlink\"><defs><filter height=\"300%\" id=\"f1\" width=\"300%\" x=\"-1\" y=\"-1\"><feGaussianBlur result=\"blurOut\" stdDeviation=\"2.0\"/><feColorMatrix in=\"blurOut\" result=\"blurOut2\" type=\"matrix\" values=\"0 0 0 0 0 0 0 0 0 0 0 0 0 0 0 0 0 0 .4 0\"/><feOffset dx=\"4.0\" dy=\"4.0\" in=\"blurOut2\" result=\"blurOut3\"/><feBlend in=\"SourceGraphic\" in2=\"blurOut3\" mode=\"normal\"/></filter></defs><g><polygon fill=\"#FFFFFF\" filter=\"url(#f1)\" points=\"22,24,93,24,100,46.2969,295,46.2969,295,512,22,512,22,24\" style=\"stroke: #000000; stroke-width: 2.0;\"/><line style=\"stroke: #000000; stroke-width: 2.0;\" x1=\"22\" x2=\"100\" y1=\"46.2969\" y2=\"46.2969\"/><text fill=\"#000000\" font-family=\"sans-serif\" font-size=\"14\" font-weight=\"bold\" lengthAdjust=\"spacingAndGlyphs\" textLength=\"65\" x=\"26\" y=\"38.9951\">java.awt</text><polygon fill=\"#FFFFFF\" filter=\"url(#f1)\" points=\"319,279,417,279,424,301.2969,846,301.2969,846,512,319,512,319,279\" style=\"stroke: #000000; stroke-width: 2.0;\"/><line style=\"stroke: #000000; stroke-width: 2.0;\" x1=\"319\" x2=\"424\" y1=\"301.2969\" y2=\"301.2969\"/><text fill=\"#000000\" font-family=\"sans-serif\" font-size=\"14\" font-weight=\"bold\" lengthAdjust=\"spacingAndGlyphs\" textLength=\"92\" x=\"323\" y=\"293.9951\">javax.swing</text><rect fill=\"#FEFECE\" filter=\"url(#f1)\" height=\"73.6094\" style=\"stroke: #A80036; stroke-width: 1.5;\" width=\"137\" x=\"91.5\" y=\"59\"/><ellipse cx=\"121.35\" cy=\"75\" fill=\"#ADD1B2\" rx=\"11\" ry=\"11\" style=\"stroke: #A80036; stroke-width: 1.0;\"/><path d=\"M124.3188,80.6406 Q123.7406,80.9375 123.1,81.0859 Q122.4594,81.2344 121.7563,81.2344 Q119.2563,81.2344 117.9359,79.5859 Q116.6156,77.9375 116.6156,74.8125 Q116.6156,71.6875 117.9359,70.0313 Q119.2563,68.375 121.7563,68.375 Q122.4594,68.375 123.1078,68.5313 Q123.7563,68.6875 124.3188,68.9844 L124.3188,71.7031 Q123.6938,71.125 123.1,70.8516 Q122.5063,70.5781 121.8813,70.5781 Q120.5375,70.5781 119.85,71.6484 Q119.1625,72.7188 119.1625,74.8125 Q119.1625,76.9063 119.85,77.9766 Q120.5375,79.0469 121.8813,79.0469 Q122.5063,79.0469 123.1,78.7734 Q123.6938,78.5 124.3188,77.9219 L124.3188,80.6406 Z \"/><text fill=\"#000000\" font-family=\"sans-serif\" font-size=\"12\" lengthAdjust=\"spacingAndGlyphs\" textLength=\"72\" x=\"138.65\" y=\"79.1543\">Component</text><line style=\"stroke: #A80036; stroke-width: 1.5;\" x1=\"92.5\" x2=\"227.5\" y1=\"91\" y2=\"91\"/><line style=\"stroke: #A80036; stroke-width: 1.5;\" x1=\"92.5\" x2=\"227.5\" y1=\"99\" y2=\"99\"/><text fill=\"#000000\" font-family=\"sans-serif\" font-size=\"11\" lengthAdjust=\"spacingAndGlyphs\" textLength=\"125\" x=\"97.5\" y=\"113.2104\">paint(g:Graphics):void</text><text fill=\"#000000\" font-family=\"sans-serif\" font-size=\"11\" lengthAdjust=\"spacingAndGlyphs\" textLength=\"75\" x=\"97.5\" y=\"126.0151\">repaint():void</text><rect fill=\"#FEFECE\" filter=\"url(#f1)\" height=\"60.8047\" style=\"stroke: #A80036; stroke-width: 1.5;\" width=\"238\" x=\"41\" y=\"193\"/><ellipse cx=\"125.25\" cy=\"209\" fill=\"#ADD1B2\" rx=\"11\" ry=\"11\" style=\"stroke: #A80036; stroke-width: 1.0;\"/><path d=\"M128.2188,214.6406 Q127.6406,214.9375 127,215.0859 Q126.3594,215.2344 125.6563,215.2344 Q123.1563,215.2344 121.8359,213.5859 Q120.5156,211.9375 120.5156,208.8125 Q120.5156,205.6875 121.8359,204.0313 Q123.1563,202.375 125.6563,202.375 Q126.3594,202.375 127.0078,202.5313 Q127.6563,202.6875 128.2188,202.9844 L128.2188,205.7031 Q127.5938,205.125 127,204.8516 Q126.4063,204.5781 125.7813,204.5781 Q124.4375,204.5781 123.75,205.6484 Q123.0625,206.7188 123.0625,208.8125 Q123.0625,210.9063 123.75,211.9766 Q124.4375,213.0469 125.7813,213.0469 Q126.4063,213.0469 127,212.7734 Q127.5938,212.5 128.2188,211.9219 L128.2188,214.6406 Z \"/><text fill=\"#000000\" font-family=\"sans-serif\" font-size=\"12\" lengthAdjust=\"spacingAndGlyphs\" textLength=\"61\" x=\"145.75\" y=\"213.1543\">Container</text><line style=\"stroke: #A80036; stroke-width: 1.5;\" x1=\"42\" x2=\"278\" y1=\"225\" y2=\"225\"/><line style=\"stroke: #A80036; stroke-width: 1.5;\" x1=\"42\" x2=\"278\" y1=\"233\" y2=\"233\"/><text fill=\"#000000\" font-family=\"sans-serif\" font-size=\"11\" lengthAdjust=\"spacingAndGlyphs\" textLength=\"198\" x=\"47\" y=\"247.2104\">add(comp:Component):Component</text><rect fill=\"#FEFECE\" filter=\"url(#f1)\" height=\"48\" style=\"stroke: #A80036; stroke-width: 1.5;\" width=\"79\" x=\"200.5\" y=\"327\"/><ellipse cx=\"215.5\" cy=\"343\" fill=\"#ADD1B2\" rx=\"11\" ry=\"11\" style=\"stroke: #A80036; stroke-width: 1.0;\"/><path d=\"M218.4688,348.6406 Q217.8906,348.9375 217.25,349.0859 Q216.6094,349.2344 215.9063,349.2344 Q213.4063,349.2344 212.0859,347.5859 Q210.7656,345.9375 210.7656,342.8125 Q210.7656,339.6875 212.0859,338.0313 Q213.4063,336.375 215.9063,336.375 Q216.6094,336.375 217.2578,336.5313 Q217.9063,336.6875 218.4688,336.9844 L218.4688,339.7031 Q217.8438,339.125 217.25,338.8516 Q216.6563,338.5781 216.0313,338.5781 Q214.6875,338.5781 214,339.6484 Q213.3125,340.7188 213.3125,342.8125 Q213.3125,344.9063 214,345.9766 Q214.6875,347.0469 216.0313,347.0469 Q216.6563,347.0469 217.25,346.7734 Q217.8438,346.5 218.4688,345.9219 L218.4688,348.6406 Z \"/><text fill=\"#000000\" font-family=\"sans-serif\" font-size=\"12\" lengthAdjust=\"spacingAndGlyphs\" textLength=\"47\" x=\"229.5\" y=\"347.1543\">Window</text><line style=\"stroke: #A80036; stroke-width: 1.5;\" x1=\"201.5\" x2=\"278.5\" y1=\"359\" y2=\"359\"/><line style=\"stroke: #A80036; stroke-width: 1.5;\" x1=\"201.5\" x2=\"278.5\" y1=\"367\" y2=\"367\"/><rect fill=\"#FEFECE\" filter=\"url(#f1)\" height=\"48\" style=\"stroke: #A80036; stroke-width: 1.5;\" width=\"71\" x=\"204.5\" y=\"448\"/><ellipse cx=\"219.5\" cy=\"464\" fill=\"#ADD1B2\" rx=\"11\" ry=\"11\" style=\"stroke: #A80036; stroke-width: 1.0;\"/><path d=\"M222.4688,469.6406 Q221.8906,469.9375 221.25,470.0859 Q220.6094,470.2344 219.9063,470.2344 Q217.4063,470.2344 216.0859,468.5859 Q214.7656,466.9375 214.7656,463.8125 Q214.7656,460.6875 216.0859,459.0313 Q217.4063,457.375 219.9063,457.375 Q220.6094,457.375 221.2578,457.5313 Q221.9063,457.6875 222.4688,457.9844 L222.4688,460.7031 Q221.8438,460.125 221.25,459.8516 Q220.6563,459.5781 220.0313,459.5781 Q218.6875,459.5781 218,460.6484 Q217.3125,461.7188 217.3125,463.8125 Q217.3125,465.9063 218,466.9766 Q218.6875,468.0469 220.0313,468.0469 Q220.6563,468.0469 221.25,467.7734 Q221.8438,467.5 222.4688,466.9219 L222.4688,469.6406 Z \"/><text fill=\"#000000\" font-family=\"sans-serif\" font-size=\"12\" lengthAdjust=\"spacingAndGlyphs\" textLength=\"39\" x=\"233.5\" y=\"468.1543\">Frame</text><line style=\"stroke: #A80036; stroke-width: 1.5;\" x1=\"205.5\" x2=\"274.5\" y1=\"480\" y2=\"480\"/><line style=\"stroke: #A80036; stroke-width: 1.5;\" x1=\"205.5\" x2=\"274.5\" y1=\"488\" y2=\"488\"/><rect fill=\"#FEFECE\" filter=\"url(#f1)\" height=\"48\" style=\"stroke: #A80036; stroke-width: 1.5;\" width=\"127\" x=\"38.5\" y=\"327\"/><ellipse cx=\"53.5\" cy=\"343\" fill=\"#B4A7E5\" rx=\"11\" ry=\"11\" style=\"stroke: #A80036; stroke-width: 1.0;\"/><path d=\"M49.4219,338.7656 L49.4219,336.6094 L56.8125,336.6094 L56.8125,338.7656 L54.3438,338.7656 L54.3438,346.8438 L56.8125,346.8438 L56.8125,349 L49.4219,349 L49.4219,346.8438 L51.8906,346.8438 L51.8906,338.7656 L49.4219,338.7656 Z \"/><text fill=\"#000000\" font-family=\"sans-serif\" font-size=\"12\" font-style=\"italic\" lengthAdjust=\"spacingAndGlyphs\" textLength=\"95\" x=\"67.5\" y=\"347.1543\">MenuContainer</text><line style=\"stroke: #A80036; stroke-width: 1.5;\" x1=\"39.5\" x2=\"164.5\" y1=\"359\" y2=\"359\"/><line style=\"stroke: #A80036; stroke-width: 1.5;\" x1=\"39.5\" x2=\"164.5\" y1=\"367\" y2=\"367\"/><rect fill=\"#FEFECE\" filter=\"url(#f1)\" height=\"73.6094\" style=\"stroke: #A80036; stroke-width: 1.5;\" width=\"243\" x=\"335.5\" y=\"314\"/><ellipse cx=\"431.75\" cy=\"330\" fill=\"#ADD1B2\" rx=\"11\" ry=\"11\" style=\"stroke: #A80036; stroke-width: 1.0;\"/><path d=\"M434.7188,335.6406 Q434.1406,335.9375 433.5,336.0859 Q432.8594,336.2344 432.1563,336.2344 Q429.6563,336.2344 428.3359,334.5859 Q427.0156,332.9375 427.0156,329.8125 Q427.0156,326.6875 428.3359,325.0313 Q429.6563,323.375 432.1563,323.375 Q432.8594,323.375 433.5078,323.5313 Q434.1563,323.6875 434.7188,323.9844 L434.7188,326.7031 Q434.0938,326.125 433.5,325.8516 Q432.9063,325.5781 432.2813,325.5781 Q430.9375,325.5781 430.25,326.6484 Q429.5625,327.7188 429.5625,329.8125 Q429.5625,331.9063 430.25,332.9766 Q430.9375,334.0469 432.2813,334.0469 Q432.9063,334.0469 433.5,333.7734 Q434.0938,333.5 434.7188,332.9219 L434.7188,335.6406 Z \"/><text fill=\"#000000\" font-family=\"sans-serif\" font-size=\"12\" lengthAdjust=\"spacingAndGlyphs\" textLength=\"42\" x=\"452.25\" y=\"334.1543\">JFrame</text><line style=\"stroke: #A80036; stroke-width: 1.5;\" x1=\"336.5\" x2=\"577.5\" y1=\"346\" y2=\"346\"/><line style=\"stroke: #A80036; stroke-width: 1.5;\" x1=\"336.5\" x2=\"577.5\" y1=\"354\" y2=\"354\"/><text fill=\"#000000\" font-family=\"sans-serif\" font-size=\"11\" lengthAdjust=\"spacingAndGlyphs\" textLength=\"157\" x=\"341.5\" y=\"368.2104\">getContentPane():Container</text><text fill=\"#000000\" font-family=\"sans-serif\" font-size=\"11\" lengthAdjust=\"spacingAndGlyphs\" textLength=\"231\" x=\"341.5\" y=\"381.0151\">setLayout(manager:LayoutManager):void</text><rect fill=\"#FEFECE\" filter=\"url(#f1)\" height=\"60.8047\" style=\"stroke: #A80036; stroke-width: 1.5;\" width=\"216\" x=\"614\" y=\"320.5\"/><ellipse cx=\"680.25\" cy=\"336.5\" fill=\"#ADD1B2\" rx=\"11\" ry=\"11\" style=\"stroke: #A80036; stroke-width: 1.0;\"/><path d=\"M683.2188,342.1406 Q682.6406,342.4375 682,342.5859 Q681.3594,342.7344 680.6563,342.7344 Q678.1563,342.7344 676.8359,341.0859 Q675.5156,339.4375 675.5156,336.3125 Q675.5156,333.1875 676.8359,331.5313 Q678.1563,329.875 680.6563,329.875 Q681.3594,329.875 682.0078,330.0313 Q682.6563,330.1875 683.2188,330.4844 L683.2188,333.2031 Q682.5938,332.625 682,332.3516 Q681.4063,332.0781 680.7813,332.0781 Q679.4375,332.0781 678.75,333.1484 Q678.0625,334.2188 678.0625,336.3125 Q678.0625,338.4063 678.75,339.4766 Q679.4375,340.5469 680.7813,340.5469 Q681.4063,340.5469 682,340.2734 Q682.5938,340 683.2188,339.4219 L683.2188,342.1406 Z \"/><text fill=\"#000000\" font-family=\"sans-serif\" font-size=\"12\" lengthAdjust=\"spacingAndGlyphs\" textLength=\"75\" x=\"700.75\" y=\"340.6543\">JComponent</text><line style=\"stroke: #A80036; stroke-width: 1.5;\" x1=\"615\" x2=\"829\" y1=\"352.5\" y2=\"352.5\"/><line style=\"stroke: #A80036; stroke-width: 1.5;\" x1=\"615\" x2=\"829\" y1=\"360.5\" y2=\"360.5\"/><polygon fill=\"#FFFF44\" points=\"625,367.4023,629,371.4023,625,375.4023,621,371.4023\" style=\"stroke: #B38D22; stroke-width: 1.0;\"/><text fill=\"#000000\" font-family=\"sans-serif\" font-size=\"11\" lengthAdjust=\"spacingAndGlyphs\" textLength=\"190\" x=\"634\" y=\"374.7104\">paintComponent(g:Graphics):void</text><rect fill=\"#FEFECE\" filter=\"url(#f1)\" height=\"48\" style=\"stroke: #A80036; stroke-width: 1.5;\" width=\"70\" x=\"492\" y=\"448\"/><ellipse cx=\"507\" cy=\"464\" fill=\"#ADD1B2\" rx=\"11\" ry=\"11\" style=\"stroke: #A80036; stroke-width: 1.0;\"/><path d=\"M509.9688,469.6406 Q509.3906,469.9375 508.75,470.0859 Q508.1094,470.2344 507.4063,470.2344 Q504.9063,470.2344 503.5859,468.5859 Q502.2656,466.9375 502.2656,463.8125 Q502.2656,460.6875 503.5859,459.0313 Q504.9063,457.375 507.4063,457.375 Q508.1094,457.375 508.7578,457.5313 Q509.4063,457.6875 509.9688,457.9844 L509.9688,460.7031 Q509.3438,460.125 508.75,459.8516 Q508.1563,459.5781 507.5313,459.5781 Q506.1875,459.5781 505.5,460.6484 Q504.8125,461.7188 504.8125,463.8125 Q504.8125,465.9063 505.5,466.9766 Q506.1875,468.0469 507.5313,468.0469 Q508.1563,468.0469 508.75,467.7734 Q509.3438,467.5 509.9688,466.9219 L509.9688,469.6406 Z \"/><text fill=\"#000000\" font-family=\"sans-serif\" font-size=\"12\" lengthAdjust=\"spacingAndGlyphs\" textLength=\"38\" x=\"521\" y=\"468.1543\">JPanel</text><line style=\"stroke: #A80036; stroke-width: 1.5;\" x1=\"493\" x2=\"561\" y1=\"480\" y2=\"480\"/><line style=\"stroke: #A80036; stroke-width: 1.5;\" x1=\"493\" x2=\"561\" y1=\"488\" y2=\"488\"/><rect fill=\"#FEFECE\" filter=\"url(#f1)\" height=\"48\" style=\"stroke: #A80036; stroke-width: 1.5;\" width=\"68\" x=\"597\" y=\"448\"/><ellipse cx=\"612\" cy=\"464\" fill=\"#ADD1B2\" rx=\"11\" ry=\"11\" style=\"stroke: #A80036; stroke-width: 1.0;\"/><path d=\"M614.9688,469.6406 Q614.3906,469.9375 613.75,470.0859 Q613.1094,470.2344 612.4063,470.2344 Q609.9063,470.2344 608.5859,468.5859 Q607.2656,466.9375 607.2656,463.8125 Q607.2656,460.6875 608.5859,459.0313 Q609.9063,457.375 612.4063,457.375 Q613.1094,457.375 613.7578,457.5313 Q614.4063,457.6875 614.9688,457.9844 L614.9688,460.7031 Q614.3438,460.125 613.75,459.8516 Q613.1563,459.5781 612.5313,459.5781 Q611.1875,459.5781 610.5,460.6484 Q609.8125,461.7188 609.8125,463.8125 Q609.8125,465.9063 610.5,466.9766 Q611.1875,468.0469 612.5313,468.0469 Q613.1563,468.0469 613.75,467.7734 Q614.3438,467.5 614.9688,466.9219 L614.9688,469.6406 Z \"/><text fill=\"#000000\" font-family=\"sans-serif\" font-size=\"12\" lengthAdjust=\"spacingAndGlyphs\" textLength=\"36\" x=\"626\" y=\"468.1543\">JLabel</text><line style=\"stroke: #A80036; stroke-width: 1.5;\" x1=\"598\" x2=\"664\" y1=\"480\" y2=\"480\"/><line style=\"stroke: #A80036; stroke-width: 1.5;\" x1=\"598\" x2=\"664\" y1=\"488\" y2=\"488\"/><rect fill=\"#FEFECE\" filter=\"url(#f1)\" height=\"48\" style=\"stroke: #A80036; stroke-width: 1.5;\" width=\"130\" x=\"700\" y=\"448\"/><ellipse cx=\"715\" cy=\"464\" fill=\"#ADD1B2\" rx=\"11\" ry=\"11\" style=\"stroke: #A80036; stroke-width: 1.0;\"/><path d=\"M717.9688,469.6406 Q717.3906,469.9375 716.75,470.0859 Q716.1094,470.2344 715.4063,470.2344 Q712.9063,470.2344 711.5859,468.5859 Q710.2656,466.9375 710.2656,463.8125 Q710.2656,460.6875 711.5859,459.0313 Q712.9063,457.375 715.4063,457.375 Q716.1094,457.375 716.7578,457.5313 Q717.4063,457.6875 717.9688,457.9844 L717.9688,460.7031 Q717.3438,460.125 716.75,459.8516 Q716.1563,459.5781 715.5313,459.5781 Q714.1875,459.5781 713.5,460.6484 Q712.8125,461.7188 712.8125,463.8125 Q712.8125,465.9063 713.5,466.9766 Q714.1875,468.0469 715.5313,468.0469 Q716.1563,468.0469 716.75,467.7734 Q717.3438,467.5 717.9688,466.9219 L717.9688,469.6406 Z \"/><text fill=\"#000000\" font-family=\"sans-serif\" font-size=\"12\" lengthAdjust=\"spacingAndGlyphs\" textLength=\"98\" x=\"729\" y=\"468.1543\">JAbstractButton</text><line style=\"stroke: #A80036; stroke-width: 1.5;\" x1=\"701\" x2=\"829\" y1=\"480\" y2=\"480\"/><line style=\"stroke: #A80036; stroke-width: 1.5;\" x1=\"701\" x2=\"829\" y1=\"488\" y2=\"488\"/><path d=\"M147.302,153.73 C147.068,167.153 147.619,180.947 148.954,192.624 \" fill=\"none\" style=\"stroke: #A80036; stroke-width: 1.0;\"/><polygon fill=\"none\" points=\"140.333,152.929,148.315,133.3,154.316,153.622,140.333,152.929\" style=\"stroke: #A80036; stroke-width: 1.0;\"/><path d=\"M173.233,146.589 C173.678,157.415 173.567,168.789 172.897,179.341 \" fill=\"none\" style=\"stroke: #A80036; stroke-width: 1.0;\"/><polygon fill=\"none\" points=\"171.696,192.624,176.2204,187.0088,172.7773,180.6728,168.2529,186.288,171.696,192.624\" style=\"stroke: #A80036; stroke-width: 1.0;\"/><polygon fill=\"#A80036\" points=\"172.372,133.3,168.9619,142.5397,172.6951,138.2896,176.9452,142.0227,172.372,133.3\" style=\"stroke: #A80036; stroke-width: 1.0;\"/><line style=\"stroke: #A80036; stroke-width: 1.0;\" x1=\"172.6951\" x2=\"173.2125\" y1=\"138.2896\" y2=\"146.273\"/><path d=\"M189.753,271.176 C201.831,290.123 215.245,311.166 225.174,326.741 \" fill=\"none\" style=\"stroke: #A80036; stroke-width: 1.0;\"/><polygon fill=\"none\" points=\"183.807,274.869,178.959,254.242,195.612,267.344,183.807,274.869\" style=\"stroke: #A80036; stroke-width: 1.0;\"/><path d=\"M240,395.376 C240,413.122 240,432.9376 240,447.8317 \" fill=\"none\" style=\"stroke: #A80036; stroke-width: 1.0;\"/><polygon fill=\"none\" points=\"233,395.227,240,375.227,247,395.227,233,395.227\" style=\"stroke: #A80036; stroke-width: 1.0;\"/><path d=\"M144.305,388.48 C166.721,407.811 193.583,430.9735 213.133,447.8317 \" fill=\"none\" style=\"stroke: #A80036; stroke-width: 1.0; stroke-dasharray: 7.0,7.0;\"/><polygon fill=\"none\" points=\"139.51,393.589,128.935,375.227,148.653,382.987,139.51,393.589\" style=\"stroke: #A80036; stroke-width: 1.0;\"/><path d=\"M391.304,388.027 C359.945,405.224 322.905,425.536 293.322,441.7588 \" fill=\"none\" style=\"stroke: #A80036; stroke-width: 1.0;\"/><polygon fill=\"none\" points=\"296.442,448.0314,275.54,451.5104,289.71,435.756,296.442,448.0314\" style=\"stroke: #A80036; stroke-width: 1.0;\"/><path d=\"M299.23,232.533 C405.645,239.942 542.821,252.598 596,271 C628.329,282.187 660.947,302.957 684.893,320.393 \" fill=\"none\" style=\"stroke: #A80036; stroke-width: 1.0;\"/><polygon fill=\"none\" points=\"298.549,239.503,279.069,231.165,299.497,225.535,298.549,239.503\" style=\"stroke: #A80036; stroke-width: 1.0;\"/><path d=\"M656.157,392.181 C624.628,411.422 588.146,433.6855 562.013,449.6331 \" fill=\"none\" style=\"stroke: #A80036; stroke-width: 1.0;\"/><polygon fill=\"none\" points=\"652.829,386.012,673.547,381.569,660.122,397.962,652.829,386.012\" style=\"stroke: #A80036; stroke-width: 1.0;\"/><path d=\"M686.969,397.81 C673.838,414.982 659.476,433.7622 648.589,447.9994 \" fill=\"none\" style=\"stroke: #A80036; stroke-width: 1.0;\"/><polygon fill=\"none\" points=\"681.562,393.357,699.272,381.722,692.683,401.861,681.562,393.357\" style=\"stroke: #A80036; stroke-width: 1.0;\"/><path d=\"M739.619,400.76 C745.526,417.108 751.838,434.5736 756.689,447.9994 \" fill=\"none\" style=\"stroke: #A80036; stroke-width: 1.0;\"/><polygon fill=\"none\" points=\"732.953,402.91,732.74,381.722,746.12,398.153,732.953,402.91\" style=\"stroke: #A80036; stroke-width: 1.0;\"/></g></svg>"
      ],
      "text/plain": [
       "<IPython.core.display.SVG object>"
      ]
     },
     "execution_count": 14,
     "metadata": {},
     "output_type": "execute_result"
    }
   ],
   "source": [
    "%%plantuml\n",
    "@startuml\n",
    "package java.awt {\n",
    "    class Component {\n",
    "        paint(g:Graphics):void\n",
    "        repaint():void\n",
    "    }\n",
    "    class Container {\n",
    "        add(comp:Component):Component       \n",
    "    }\n",
    "    class Window\n",
    "    class Frame\n",
    "    interface MenuContainer\n",
    "    Component <|-- Container\n",
    "    Container o-up->Component\n",
    "    Container <|-- Window\n",
    "    Window <|-- Frame\n",
    "    MenuContainer <|.. Frame\n",
    "    Frame <|-left- javax.swing.JFrame\n",
    "    Container <|-- javax.swing.JComponent\n",
    "}\n",
    "package javax.swing {\n",
    "    class JFrame{\n",
    "        getContentPane():Container\n",
    "        setLayout(manager:LayoutManager):void\n",
    "    }\n",
    "    class JPanel\n",
    "    class JLabel\n",
    "    class JAbstractButton\n",
    "    class JComponent {\n",
    "        #paintComponent(g:Graphics):void\n",
    "    }\n",
    "    JComponent <|-- JPanel\n",
    "    JComponent <|-- JLabel\n",
    "    JComponent <|-- JAbstractButton\n",
    "}\n",
    "@enduml\n"
   ]
  },
  {
   "cell_type": "markdown",
   "metadata": {},
   "source": [
    "* GUI를 만드는 일반적인 절차\n",
    "    * 윈도우 창을 띄운다. 창은 그 안에 화면요소를 가지고 있다.\n",
    "    * 이벤트를 기다리고 처리한다.\n",
    "        * 사용자의 키보드 또는 마우스 이벤트를 대기한다.\n",
    "        * 이벤트가 발생하면 핸들러가 처리한다.\n",
    "\n",
    "단계 | 작업 | 요소 | 예\n",
    "-------|-------|-------|-------\n",
    "1 | 창을 띄운다. | Window | JFrame\n",
    "2 | GUI 요소를 넣을 가상의 공간을 만든다. | Container | JFrame.getContentPane() 또는 JPanel\n",
    "3 | GUI 요소를 만든다 | GUI Components | JButton\n",
    "4 | GUI 요소를 넣을 위치를 잡는다 | Layout | FlowLayout\n",
    "5 | GUI 요소를 넣는다 | Container에 add() | add(new Panel())\n",
    "6 | GUI 요소에 이벤트 핸들러를 넣는다. | | MouseListener\n",
    "\n",
    "\n",
    "* Layout managers\n",
    "    * FlowLayout\n",
    "    * GridLayyout\n",
    "    * BorderLayout\n",
    "    * CardLayout\n",
    "\n",
    "* Event Handling\n",
    "\n",
    "Interface | Methods\n",
    "----------|----------\n",
    "java.awt.event.MouseListener | public void mouseClicked(MouseEvent e);<br>public void mousePressed(MouseEvent e);<br>public void mouseReleased(MouseEvent e);<br>public void mouseEntered(MouseEvent e);<br>public void mouseExited(MouseEvent e);\n",
    "java.awt.event.MouseWheelListener | public void mouseWheelMoved(MouseWheelEvent e);\n",
    "java.awt.event.MouseMotionListener | public void mouseDragged(MouseEvent e);<br>public void mouseMoved(MouseEvent e);"
   ]
  },
  {
   "cell_type": "markdown",
   "metadata": {},
   "source": [
    "## 8.1 Simple Window\n",
    "\n",
    "* 윈도우 창은 JFrame으로 만든다.\n",
    "    ```\n",
    "    JFrame frame=new JFrame();\n",
    "    ```\n",
    "\n",
    "* JFrame을 띄운다.\n",
    "    ```\n",
    "    frame.setVisible(true);\n",
    "    ```\n",
    "\n",
    "* JFrame의 크기를 정의한다.\n",
    "\n",
    "    ```\n",
    "    frame.setSize(100,200);\n",
    "    ```"
   ]
  },
  {
   "cell_type": "markdown",
   "metadata": {},
   "source": [
    "### jshell session\n",
    "\n",
    "* 단순한 창"
   ]
  },
  {
   "cell_type": "code",
   "execution_count": null,
   "metadata": {
    "collapsed": true
   },
   "outputs": [],
   "source": [
    "import javax.swing.JFrame;\n",
    "JFrame frame=new JFrame();\n",
    "frame.setSize(100,200);\n",
    "frame.setVisible(true);"
   ]
  },
  {
   "cell_type": "markdown",
   "metadata": {},
   "source": [
    "* 속성변경하기"
   ]
  },
  {
   "cell_type": "code",
   "execution_count": null,
   "metadata": {
    "collapsed": true
   },
   "outputs": [],
   "source": [
    "frame.setTitle(\"Hello\");"
   ]
  },
  {
   "cell_type": "markdown",
   "metadata": {
    "collapsed": true
   },
   "source": [
    "### 매우 단순한 윈도우"
   ]
  },
  {
   "cell_type": "code",
   "execution_count": 7,
   "metadata": {
    "collapsed": false
   },
   "outputs": [
    {
     "data": {
      "image/svg+xml": [
       "<svg height=\"224px\" style=\"width:137px;height:224px;\" version=\"1.1\" viewBox=\"0 0 137 224\" width=\"137px\" xmlns=\"http://www.w3.org/2000/svg\" xmlns:xlink=\"http://www.w3.org/1999/xlink\"><defs><filter height=\"300%\" id=\"f1\" width=\"300%\" x=\"-1\" y=\"-1\"><feGaussianBlur result=\"blurOut\" stdDeviation=\"2.0\"/><feColorMatrix in=\"blurOut\" result=\"blurOut2\" type=\"matrix\" values=\"0 0 0 0 0 0 0 0 0 0 0 0 0 0 0 0 0 0 .4 0\"/><feOffset dx=\"4.0\" dy=\"4.0\" in=\"blurOut2\" result=\"blurOut3\"/><feBlend in=\"SourceGraphic\" in2=\"blurOut3\" mode=\"normal\"/></filter></defs><g><polygon fill=\"#FFFFFF\" filter=\"url(#f1)\" points=\"22,24,120,24,127,46.2969,130,46.2969,130,123,22,123,22,24\" style=\"stroke: #000000; stroke-width: 2.0;\"/><line style=\"stroke: #000000; stroke-width: 2.0;\" x1=\"22\" x2=\"127\" y1=\"46.2969\" y2=\"46.2969\"/><text fill=\"#000000\" font-family=\"sans-serif\" font-size=\"14\" font-weight=\"bold\" lengthAdjust=\"spacingAndGlyphs\" textLength=\"92\" x=\"26\" y=\"38.9951\">javax.swing</text><rect fill=\"#FEFECE\" filter=\"url(#f1)\" height=\"48\" style=\"stroke: #A80036; stroke-width: 1.5;\" width=\"74\" x=\"39\" y=\"59\"/><ellipse cx=\"54\" cy=\"75\" fill=\"#ADD1B2\" rx=\"11\" ry=\"11\" style=\"stroke: #A80036; stroke-width: 1.0;\"/><path d=\"M56.9688,80.6406 Q56.3906,80.9375 55.75,81.0859 Q55.1094,81.2344 54.4063,81.2344 Q51.9063,81.2344 50.5859,79.5859 Q49.2656,77.9375 49.2656,74.8125 Q49.2656,71.6875 50.5859,70.0313 Q51.9063,68.375 54.4063,68.375 Q55.1094,68.375 55.7578,68.5313 Q56.4063,68.6875 56.9688,68.9844 L56.9688,71.7031 Q56.3438,71.125 55.75,70.8516 Q55.1563,70.5781 54.5313,70.5781 Q53.1875,70.5781 52.5,71.6484 Q51.8125,72.7188 51.8125,74.8125 Q51.8125,76.9063 52.5,77.9766 Q53.1875,79.0469 54.5313,79.0469 Q55.1563,79.0469 55.75,78.7734 Q56.3438,78.5 56.9688,77.9219 L56.9688,80.6406 Z \"/><text fill=\"#000000\" font-family=\"sans-serif\" font-size=\"12\" lengthAdjust=\"spacingAndGlyphs\" textLength=\"42\" x=\"68\" y=\"79.1543\">JFrame</text><line style=\"stroke: #A80036; stroke-width: 1.5;\" x1=\"40\" x2=\"112\" y1=\"91\" y2=\"91\"/><line style=\"stroke: #A80036; stroke-width: 1.5;\" x1=\"40\" x2=\"112\" y1=\"99\" y2=\"99\"/><rect fill=\"#FEFECE\" filter=\"url(#f1)\" height=\"48\" style=\"stroke: #A80036; stroke-width: 1.5;\" width=\"99\" x=\"26.5\" y=\"167\"/><ellipse cx=\"41.5\" cy=\"183\" fill=\"#ADD1B2\" rx=\"11\" ry=\"11\" style=\"stroke: #A80036; stroke-width: 1.0;\"/><path d=\"M44.4688,188.6406 Q43.8906,188.9375 43.25,189.0859 Q42.6094,189.2344 41.9063,189.2344 Q39.4063,189.2344 38.0859,187.5859 Q36.7656,185.9375 36.7656,182.8125 Q36.7656,179.6875 38.0859,178.0313 Q39.4063,176.375 41.9063,176.375 Q42.6094,176.375 43.2578,176.5313 Q43.9063,176.6875 44.4688,176.9844 L44.4688,179.7031 Q43.8438,179.125 43.25,178.8516 Q42.6563,178.5781 42.0313,178.5781 Q40.6875,178.5781 40,179.6484 Q39.3125,180.7188 39.3125,182.8125 Q39.3125,184.9063 40,185.9766 Q40.6875,187.0469 42.0313,187.0469 Q42.6563,187.0469 43.25,186.7734 Q43.8438,186.5 44.4688,185.9219 L44.4688,188.6406 Z \"/><text fill=\"#000000\" font-family=\"sans-serif\" font-size=\"12\" lengthAdjust=\"spacingAndGlyphs\" textLength=\"67\" x=\"55.5\" y=\"187.1543\">HelloSwing</text><line style=\"stroke: #A80036; stroke-width: 1.5;\" x1=\"27.5\" x2=\"124.5\" y1=\"199\" y2=\"199\"/><line style=\"stroke: #A80036; stroke-width: 1.5;\" x1=\"27.5\" x2=\"124.5\" y1=\"207\" y2=\"207\"/><path d=\"M76,127.0236 C76,140.5792 76,155.0381 76,166.6784 \" fill=\"none\" style=\"stroke: #A80036; stroke-width: 1.0;\"/><polygon fill=\"none\" points=\"69.0001,127.0005,76,107,83.0001,127.0004,69.0001,127.0005\" style=\"stroke: #A80036; stroke-width: 1.0;\"/></g></svg>"
      ],
      "text/plain": [
       "<IPython.core.display.SVG object>"
      ]
     },
     "execution_count": 7,
     "metadata": {},
     "output_type": "execute_result"
    }
   ],
   "source": [
    "%%plantuml\n",
    "@startuml\n",
    "class javax.swing.JFrame\n",
    "class HelloSwing\n",
    "javax.swing.JFrame <|-- HelloSwing\n",
    "@enduml"
   ]
  },
  {
   "cell_type": "markdown",
   "metadata": {},
   "source": [
    "* HelloSwing 창을 JFrame에서 상속받아서 생성한다.\n",
    "* 앞서 JFrame의 객체를 생성해서 사용하는 것과 다른 방식이다."
   ]
  },
  {
   "cell_type": "code",
   "execution_count": 13,
   "metadata": {
    "collapsed": false
   },
   "outputs": [
    {
     "name": "stdout",
     "output_type": "stream",
     "text": [
      " import javax.swing.JFrame;\r\n",
      "\r\n",
      " class HelloSwing extends JFrame {\r\n",
      "     public HelloSwing() {\r\n",
      "         setTitle(\"Hello\");\r\n",
      "         setSize(400, 400);\r\n",
      "     }\r\n",
      " }\r\n",
      "|  Replaced class HelloSwing\r\n",
      "|    Update replaced variable hello which cannot be referenced until this error is corrected: \r\n",
      "|      constructor HelloSwing in class HelloSwing cannot be applied to given types;\r\n",
      "|        required: no arguments\r\n",
      "|        found: java.lang.String\r\n",
      "|        reason: actual and formal argument lists differ in length\r\n",
      "|      HelloSwing hello=new HelloSwing(\"Hello\");\r\n",
      "|                       ^---------------------^\r\n",
      "|    Update overwrote class HelloSwing\r\n",
      "\r\n"
     ]
    }
   ],
   "source": [
    "import javax.swing.JFrame;\n",
    "class HelloSwing extends JFrame {\n",
    "    public HelloSwing() {\n",
    "        setTitle(\"Hello\");\n",
    "        setSize(400, 400);\n",
    "        setVisible(true);\n",
    "    }\n",
    "}"
   ]
  },
  {
   "cell_type": "code",
   "execution_count": 14,
   "metadata": {
    "collapsed": false
   },
   "outputs": [
    {
     "name": "stdout",
     "output_type": "stream",
     "text": [
      " HelloSwing hello=new HelloSwing();\r\n",
      "|  Replaced variable hello of type HelloSwing with initial value HelloSwing[frame2,0,24,400x400,invalid,hidden,layout=java.awt.BorderLayout,title=Hello,resizable,normal,defaultCloseOperation=HIDE_ON_CLOSE,rootPane=javax.swing.JRootPane[,0,0,0x0,invalid,layout=javax.swing.JRootPane$RootLayout,alignmentX=0.0,alignmentY=0.0,border=,flags=16777673,maximumSize=,minimumSize=,preferredSize=],rootPaneCheckingEnabled=true]\r\n",
      "|    Update overwrote variable hello\r\n",
      "\r\n",
      " hello.show();\r\n",
      "\r\n"
     ]
    }
   ],
   "source": [
    "HelloSwing hello=new HelloSwing();\n",
    "hello.show();"
   ]
  },
  {
   "cell_type": "markdown",
   "metadata": {},
   "source": [
    "### 조금 진화한 윈도우\n",
    "\n",
    "* JFrame 창을 만든다.    \n",
    "```\n",
    "JFrame frame=new JFrame();    \n",
    "```\n",
    "\n",
    "* JFrame안에 container를 만든다.\n",
    "```\n",
    "frame.getContentPane();\n",
    "```\n",
    "\n",
    "* 버튼을 만들어 넣는다.\n",
    "```\n",
    "JButton button=new JButton(\"hello\");\n",
    "add(button);\n",
    "```\n",
    "\n",
    "* 위치를 잡는다.\n",
    "```\n",
    "setLayout(new GroupLayout(pane));\n",
    "```\n",
    "\n",
    "* 디스플레이\n",
    "```\n",
    "frame.setSize(100,100);\n",
    "frame.setVisible(true);\n",
    "```"
   ]
  },
  {
   "cell_type": "code",
   "execution_count": 12,
   "metadata": {
    "collapsed": false
   },
   "outputs": [
    {
     "data": {
      "image/svg+xml": [
       "<svg height=\"224px\" style=\"width:137px;height:224px;\" version=\"1.1\" viewBox=\"0 0 137 224\" width=\"137px\" xmlns=\"http://www.w3.org/2000/svg\" xmlns:xlink=\"http://www.w3.org/1999/xlink\"><defs><filter height=\"300%\" id=\"f1\" width=\"300%\" x=\"-1\" y=\"-1\"><feGaussianBlur result=\"blurOut\" stdDeviation=\"2.0\"/><feColorMatrix in=\"blurOut\" result=\"blurOut2\" type=\"matrix\" values=\"0 0 0 0 0 0 0 0 0 0 0 0 0 0 0 0 0 0 .4 0\"/><feOffset dx=\"4.0\" dy=\"4.0\" in=\"blurOut2\" result=\"blurOut3\"/><feBlend in=\"SourceGraphic\" in2=\"blurOut3\" mode=\"normal\"/></filter></defs><g><polygon fill=\"#FFFFFF\" filter=\"url(#f1)\" points=\"22,24,120,24,127,46.2969,130,46.2969,130,123,22,123,22,24\" style=\"stroke: #000000; stroke-width: 2.0;\"/><line style=\"stroke: #000000; stroke-width: 2.0;\" x1=\"22\" x2=\"127\" y1=\"46.2969\" y2=\"46.2969\"/><text fill=\"#000000\" font-family=\"sans-serif\" font-size=\"14\" font-weight=\"bold\" lengthAdjust=\"spacingAndGlyphs\" textLength=\"92\" x=\"26\" y=\"38.9951\">javax.swing</text><rect fill=\"#FEFECE\" filter=\"url(#f1)\" height=\"48\" style=\"stroke: #A80036; stroke-width: 1.5;\" width=\"74\" x=\"39\" y=\"59\"/><ellipse cx=\"54\" cy=\"75\" fill=\"#ADD1B2\" rx=\"11\" ry=\"11\" style=\"stroke: #A80036; stroke-width: 1.0;\"/><path d=\"M56.9688,80.6406 Q56.3906,80.9375 55.75,81.0859 Q55.1094,81.2344 54.4063,81.2344 Q51.9063,81.2344 50.5859,79.5859 Q49.2656,77.9375 49.2656,74.8125 Q49.2656,71.6875 50.5859,70.0313 Q51.9063,68.375 54.4063,68.375 Q55.1094,68.375 55.7578,68.5313 Q56.4063,68.6875 56.9688,68.9844 L56.9688,71.7031 Q56.3438,71.125 55.75,70.8516 Q55.1563,70.5781 54.5313,70.5781 Q53.1875,70.5781 52.5,71.6484 Q51.8125,72.7188 51.8125,74.8125 Q51.8125,76.9063 52.5,77.9766 Q53.1875,79.0469 54.5313,79.0469 Q55.1563,79.0469 55.75,78.7734 Q56.3438,78.5 56.9688,77.9219 L56.9688,80.6406 Z \"/><text fill=\"#000000\" font-family=\"sans-serif\" font-size=\"12\" lengthAdjust=\"spacingAndGlyphs\" textLength=\"42\" x=\"68\" y=\"79.1543\">JFrame</text><line style=\"stroke: #A80036; stroke-width: 1.5;\" x1=\"40\" x2=\"112\" y1=\"91\" y2=\"91\"/><line style=\"stroke: #A80036; stroke-width: 1.5;\" x1=\"40\" x2=\"112\" y1=\"99\" y2=\"99\"/><rect fill=\"#FEFECE\" filter=\"url(#f1)\" height=\"48\" style=\"stroke: #A80036; stroke-width: 1.5;\" width=\"94\" x=\"29\" y=\"167\"/><ellipse cx=\"44\" cy=\"183\" fill=\"#ADD1B2\" rx=\"11\" ry=\"11\" style=\"stroke: #A80036; stroke-width: 1.0;\"/><path d=\"M46.9688,188.6406 Q46.3906,188.9375 45.75,189.0859 Q45.1094,189.2344 44.4063,189.2344 Q41.9063,189.2344 40.5859,187.5859 Q39.2656,185.9375 39.2656,182.8125 Q39.2656,179.6875 40.5859,178.0313 Q41.9063,176.375 44.4063,176.375 Q45.1094,176.375 45.7578,176.5313 Q46.4063,176.6875 46.9688,176.9844 L46.9688,179.7031 Q46.3438,179.125 45.75,178.8516 Q45.1563,178.5781 44.5313,178.5781 Q43.1875,178.5781 42.5,179.6484 Q41.8125,180.7188 41.8125,182.8125 Q41.8125,184.9063 42.5,185.9766 Q43.1875,187.0469 44.5313,187.0469 Q45.1563,187.0469 45.75,186.7734 Q46.3438,186.5 46.9688,185.9219 L46.9688,188.6406 Z \"/><text fill=\"#000000\" font-family=\"sans-serif\" font-size=\"12\" lengthAdjust=\"spacingAndGlyphs\" textLength=\"62\" x=\"58\" y=\"187.1543\">SimpleGUI</text><line style=\"stroke: #A80036; stroke-width: 1.5;\" x1=\"30\" x2=\"122\" y1=\"199\" y2=\"199\"/><line style=\"stroke: #A80036; stroke-width: 1.5;\" x1=\"30\" x2=\"122\" y1=\"207\" y2=\"207\"/><path d=\"M76,112.131 C76,129.1538 76,150.6037 76,166.6784 \" fill=\"none\" style=\"stroke: #A80036; stroke-width: 1.0; stroke-dasharray: 7.0,7.0;\"/><polygon fill=\"#A80036\" points=\"76,107,72,116,76,112,80,116,76,107\" style=\"stroke: #A80036; stroke-width: 1.0;\"/></g></svg>"
      ],
      "text/plain": [
       "<IPython.core.display.SVG object>"
      ]
     },
     "execution_count": 12,
     "metadata": {},
     "output_type": "execute_result"
    }
   ],
   "source": [
    "%%plantuml\n",
    "@startuml\n",
    "class javax.swing.JFrame\n",
    "class SimpleGUI\n",
    "SimpleGUI .up.>javax.swing.JFrame\n",
    "@enduml"
   ]
  },
  {
   "cell_type": "code",
   "execution_count": null,
   "metadata": {
    "collapsed": true
   },
   "outputs": [],
   "source": [
    "# %load src/com/sd/gui/SimpleGUI.java\n",
    "package com.sd.gui;\n",
    "\n",
    "import javax.swing.JFrame;\n",
    "import javax.swing.JButton;\n",
    "import java.awt.Container;\n",
    "\n",
    "class SimpleGUI {\n",
    "    public void sayHello() {\n",
    "        JFrame frame=new JFrame();\n",
    "        JButton button=new JButton(\"hello\");\n",
    "        frame.setDefaultCloseOperation(JFrame.EXIT_ON_CLOSE);\n",
    "        //frame.getContentPane().add(button);\n",
    "        Container pane=frame.getContentPane();\n",
    "        pane.add(button);\n",
    "        //GroupLayout gl = new GroupLayout(pane);\n",
    "        //pane.setLayout(gl);\n",
    "        frame.setSize(100,100);\n",
    "        frame.setVisible(true);\n",
    "    }\n",
    "}\n"
   ]
  },
  {
   "cell_type": "code",
   "execution_count": null,
   "metadata": {
    "collapsed": true
   },
   "outputs": [],
   "source": [
    "!javac -d classes/ -sourcepath src/ src/com/sd/gui/SimpleGUI.java"
   ]
  },
  {
   "cell_type": "code",
   "execution_count": 11,
   "metadata": {
    "collapsed": false
   },
   "outputs": [
    {
     "name": "stdout",
     "output_type": "stream",
     "text": [
      " /classpath ./classes\r\n",
      "|  Path './classes' added to classpath\r\n",
      "\r\n"
     ]
    }
   ],
   "source": [
    "/classpath ./classes"
   ]
  },
  {
   "cell_type": "code",
   "execution_count": 12,
   "metadata": {
    "collapsed": false
   },
   "outputs": [
    {
     "name": "stdout",
     "output_type": "stream",
     "text": [
      " import com.sd.gui.SimpleGUI;\r\n",
      "|  Error:\r\n",
      "|  com.sd.gui.SimpleGUI is not public in com.sd.gui; cannot be accessed from outside package\r\n",
      "|  import com.sd.gui.SimpleGUI;\r\n",
      "|         ^------------------^\r\n",
      "\r\n"
     ]
    }
   ],
   "source": [
    "import com.sd.gui.SimpleGUI;"
   ]
  },
  {
   "cell_type": "code",
   "execution_count": 13,
   "metadata": {
    "collapsed": false
   },
   "outputs": [
    {
     "name": "stdout",
     "output_type": "stream",
     "text": [
      " SimpleGUI gui=new SimpleGUI();\r\n",
      "|  Error:\r\n",
      "|  cannot find symbol\r\n",
      "|    symbol:   class SimpleGUI\r\n",
      "|  SimpleGUI gui=new SimpleGUI();\r\n",
      "|  ^-------^\r\n",
      "|  Error:\r\n",
      "|  cannot find symbol\r\n",
      "|    symbol:   class SimpleGUI\r\n",
      "|  SimpleGUI gui=new SimpleGUI();\r\n",
      "|                    ^-------^\r\n",
      "\r\n"
     ]
    }
   ],
   "source": [
    "SimpleGUI gui=new SimpleGUI();"
   ]
  },
  {
   "cell_type": "code",
   "execution_count": 3,
   "metadata": {
    "collapsed": false
   },
   "outputs": [
    {
     "name": "stdout",
     "output_type": "stream",
     "text": [
      " gui.sayHello();\r\n",
      "\r\n"
     ]
    }
   ],
   "source": [
    "gui.sayHello();"
   ]
  },
  {
   "cell_type": "markdown",
   "metadata": {},
   "source": [
    "## 문제 gui-1: 원 면적을 계산하는 화면을 만든다. \n",
    "\n",
    "* 반지름, 면적을 입력하는 화면을 만든다.\n",
    "* 계산, 취소 버튼을 만든다.\n",
    "* 버튼을 눌러도 아직 실행되는 기능은 없다."
   ]
  },
  {
   "cell_type": "code",
   "execution_count": 3,
   "metadata": {
    "collapsed": false
   },
   "outputs": [
    {
     "data": {
      "image/svg+xml": [
       "<svg height=\"66px\" style=\"width:172px;height:66px;\" version=\"1.1\" viewBox=\"0 0 172 66\" width=\"172px\" xmlns=\"http://www.w3.org/2000/svg\" xmlns:xlink=\"http://www.w3.org/1999/xlink\"><defs/><g><text fill=\"#000000\" font-family=\"Default\" font-size=\"12\" lengthAdjust=\"spacingAndGlyphs\" textLength=\"42\" x=\"6\" y=\"17.1387\">Radius</text><text fill=\"#000000\" font-family=\"Default\" font-size=\"12\" lengthAdjust=\"spacingAndGlyphs\" textLength=\"8\" x=\"76\" y=\"17.1387\">5</text><line style=\"stroke: #000000; stroke-width: 1.0;\" x1=\"74\" x2=\"109\" y1=\"19.9688\" y2=\"19.9688\"/><line style=\"stroke: #000000; stroke-width: 1.0;\" x1=\"74\" x2=\"74\" y1=\"16.9688\" y2=\"18.9688\"/><line style=\"stroke: #000000; stroke-width: 1.0;\" x1=\"109\" x2=\"109\" y1=\"16.9688\" y2=\"18.9688\"/><text fill=\"#000000\" font-family=\"Default\" font-size=\"12\" lengthAdjust=\"spacingAndGlyphs\" textLength=\"29\" x=\"6\" y=\"35.1074\">Area</text><text fill=\"#000000\" font-family=\"Default\" font-size=\"12\" lengthAdjust=\"spacingAndGlyphs\" textLength=\"0\" x=\"80\" y=\"35.1074\"/><line style=\"stroke: #000000; stroke-width: 1.0;\" x1=\"74\" x2=\"117\" y1=\"37.9375\" y2=\"37.9375\"/><line style=\"stroke: #000000; stroke-width: 1.0;\" x1=\"74\" x2=\"74\" y1=\"34.9375\" y2=\"36.9375\"/><line style=\"stroke: #000000; stroke-width: 1.0;\" x1=\"117\" x2=\"117\" y1=\"34.9375\" y2=\"36.9375\"/><rect fill=\"#EEEEEE\" height=\"17.9688\" rx=\"5\" ry=\"5\" style=\"stroke: #000000; stroke-width: 2.5;\" width=\"60\" x=\"8.5\" y=\"44.4375\"/><text fill=\"#000000\" font-family=\"Default\" font-size=\"12\" lengthAdjust=\"spacingAndGlyphs\" textLength=\"56\" x=\"10.5\" y=\"57.5762\">Compute</text><rect fill=\"#EEEEEE\" height=\"17.9688\" rx=\"5\" ry=\"5\" style=\"stroke: #000000; stroke-width: 2.5;\" width=\"92\" x=\"75.5\" y=\"44.4375\"/><text fill=\"#000000\" font-family=\"Default\" font-size=\"12\" lengthAdjust=\"spacingAndGlyphs\" textLength=\"42\" x=\"100.5\" y=\"57.5762\">Cancel</text><line style=\"stroke: #000000; stroke-width: 1.0;\" x1=\"5\" x2=\"72\" y1=\"5\" y2=\"5\"/><line style=\"stroke: #000000; stroke-width: 1.0;\" x1=\"72\" x2=\"171\" y1=\"5\" y2=\"5\"/><line style=\"stroke: #000000; stroke-width: 1.0;\" x1=\"5\" x2=\"72\" y1=\"65.9063\" y2=\"65.9063\"/><line style=\"stroke: #000000; stroke-width: 1.0;\" x1=\"72\" x2=\"171\" y1=\"65.9063\" y2=\"65.9063\"/><line style=\"stroke: #000000; stroke-width: 1.0;\" x1=\"5\" x2=\"5\" y1=\"5\" y2=\"22.9688\"/><line style=\"stroke: #000000; stroke-width: 1.0;\" x1=\"171\" x2=\"171\" y1=\"40.9375\" y2=\"65.9063\"/><line style=\"stroke: #000000; stroke-width: 1.0;\" x1=\"171\" x2=\"171\" y1=\"22.9688\" y2=\"40.9375\"/><line style=\"stroke: #000000; stroke-width: 1.0;\" x1=\"171\" x2=\"171\" y1=\"5\" y2=\"22.9688\"/><line style=\"stroke: #000000; stroke-width: 1.0;\" x1=\"5\" x2=\"5\" y1=\"40.9375\" y2=\"65.9063\"/><line style=\"stroke: #000000; stroke-width: 1.0;\" x1=\"5\" x2=\"5\" y1=\"22.9688\" y2=\"40.9375\"/></g></svg>"
      ],
      "text/plain": [
       "<IPython.core.display.SVG object>"
      ]
     },
     "execution_count": 3,
     "metadata": {},
     "output_type": "execute_result"
    }
   ],
   "source": [
    "%%plantuml\n",
    "@startsalt\n",
    "{+\n",
    "  Radius    | \"5   \"\n",
    "  Area      | \"     \"\n",
    "  [Compute] | [  Cancel   ]\n",
    "}\n",
    "@endsalt"
   ]
  },
  {
   "cell_type": "markdown",
   "metadata": {},
   "source": [
    "## 8.2 Event and Listener\n",
    "\n",
    "* 버튼을 Listener에 추가한다.\n",
    "    ```\n",
    "    b1.addActionListener(new MyListener());\n",
    "    ```\n",
    "\n",
    "* Mouse의 event가 발생하면 ActionListener의 actionPerformed를 호출.\n",
    "    ```\n",
    "    actionPerformed(ActionEvent e)\n",
    "    ```"
   ]
  },
  {
   "cell_type": "code",
   "execution_count": 6,
   "metadata": {
    "collapsed": false
   },
   "outputs": [
    {
     "data": {
      "image/svg+xml": [
       "<svg height=\"266px\" style=\"width:279px;height:266px;\" version=\"1.1\" viewBox=\"0 0 279 266\" width=\"279px\" xmlns=\"http://www.w3.org/2000/svg\" xmlns:xlink=\"http://www.w3.org/1999/xlink\"><defs><filter height=\"300%\" id=\"f1\" width=\"300%\" x=\"-1\" y=\"-1\"><feGaussianBlur result=\"blurOut\" stdDeviation=\"2.0\"/><feColorMatrix in=\"blurOut\" result=\"blurOut2\" type=\"matrix\" values=\"0 0 0 0 0 0 0 0 0 0 0 0 0 0 0 0 0 0 .4 0\"/><feOffset dx=\"4.0\" dy=\"4.0\" in=\"blurOut2\" result=\"blurOut3\"/><feBlend in=\"SourceGraphic\" in2=\"blurOut3\" mode=\"normal\"/></filter></defs><g><polygon fill=\"#FFFFFF\" filter=\"url(#f1)\" points=\"72,24,138,24,145,46.2969,222,46.2969,222,123,72,123,72,24\" style=\"stroke: #000000; stroke-width: 2.0;\"/><line style=\"stroke: #000000; stroke-width: 2.0;\" x1=\"72\" x2=\"145\" y1=\"46.2969\" y2=\"46.2969\"/><text fill=\"#000000\" font-family=\"sans-serif\" font-size=\"14\" font-weight=\"bold\" lengthAdjust=\"spacingAndGlyphs\" textLength=\"60\" x=\"76\" y=\"38.9951\">java.util</text><polygon fill=\"#FFFFFF\" filter=\"url(#f1)\" points=\"22,147,143,147,150,169.2969,272,169.2969,272,259,22,259,22,147\" style=\"stroke: #000000; stroke-width: 2.0;\"/><line style=\"stroke: #000000; stroke-width: 2.0;\" x1=\"22\" x2=\"150\" y1=\"169.2969\" y2=\"169.2969\"/><text fill=\"#000000\" font-family=\"sans-serif\" font-size=\"14\" font-weight=\"bold\" lengthAdjust=\"spacingAndGlyphs\" textLength=\"115\" x=\"26\" y=\"161.9951\">java.awt.event</text><rect fill=\"#FEFECE\" filter=\"url(#f1)\" height=\"48\" style=\"stroke: #A80036; stroke-width: 1.5;\" width=\"117\" x=\"88.5\" y=\"59\"/><ellipse cx=\"103.5\" cy=\"75\" fill=\"#B4A7E5\" rx=\"11\" ry=\"11\" style=\"stroke: #A80036; stroke-width: 1.0;\"/><path d=\"M99.4219,70.7656 L99.4219,68.6094 L106.8125,68.6094 L106.8125,70.7656 L104.3438,70.7656 L104.3438,78.8438 L106.8125,78.8438 L106.8125,81 L99.4219,81 L99.4219,78.8438 L101.8906,78.8438 L101.8906,70.7656 L99.4219,70.7656 Z \"/><text fill=\"#000000\" font-family=\"sans-serif\" font-size=\"12\" font-style=\"italic\" lengthAdjust=\"spacingAndGlyphs\" textLength=\"85\" x=\"117.5\" y=\"79.1543\">EventListener</text><line style=\"stroke: #A80036; stroke-width: 1.5;\" x1=\"89.5\" x2=\"204.5\" y1=\"91\" y2=\"91\"/><line style=\"stroke: #A80036; stroke-width: 1.5;\" x1=\"89.5\" x2=\"204.5\" y1=\"99\" y2=\"99\"/><rect fill=\"#FEFECE\" filter=\"url(#f1)\" height=\"60.8047\" style=\"stroke: #A80036; stroke-width: 1.5;\" width=\"217\" x=\"38.5\" y=\"182\"/><ellipse cx=\"98.25\" cy=\"198\" fill=\"#B4A7E5\" rx=\"11\" ry=\"11\" style=\"stroke: #A80036; stroke-width: 1.0;\"/><path d=\"M94.1719,193.7656 L94.1719,191.6094 L101.5625,191.6094 L101.5625,193.7656 L99.0938,193.7656 L99.0938,201.8438 L101.5625,201.8438 L101.5625,204 L94.1719,204 L94.1719,201.8438 L96.6406,201.8438 L96.6406,193.7656 L94.1719,193.7656 Z \"/><text fill=\"#000000\" font-family=\"sans-serif\" font-size=\"12\" font-style=\"italic\" lengthAdjust=\"spacingAndGlyphs\" textLength=\"89\" x=\"118.75\" y=\"202.1543\">ActionListener</text><line style=\"stroke: #A80036; stroke-width: 1.5;\" x1=\"39.5\" x2=\"254.5\" y1=\"214\" y2=\"214\"/><line style=\"stroke: #A80036; stroke-width: 1.5;\" x1=\"39.5\" x2=\"254.5\" y1=\"222\" y2=\"222\"/><text fill=\"#000000\" font-family=\"sans-serif\" font-size=\"11\" lengthAdjust=\"spacingAndGlyphs\" textLength=\"205\" x=\"44.5\" y=\"236.2104\">actionPerformed(e:ActionEvent):void</text><path d=\"M147,127.34 C147,145.286 147,165.643 147,181.8407 \" fill=\"none\" style=\"stroke: #A80036; stroke-width: 1.0;\"/><polygon fill=\"none\" points=\"140,127.089,147,107.089,154,127.089,140,127.089\" style=\"stroke: #A80036; stroke-width: 1.0;\"/></g></svg>"
      ],
      "text/plain": [
       "<IPython.core.display.SVG object>"
      ]
     },
     "execution_count": 6,
     "metadata": {},
     "output_type": "execute_result"
    }
   ],
   "source": [
    "%%plantuml\n",
    "@startuml\n",
    "\n",
    "interface java.util.EventListener\n",
    "interface java.awt.event.ActionListener {\n",
    "    actionPerformed(e:ActionEvent):void\n",
    "}\n",
    "java.util.EventListener <|-- java.awt.event.ActionListener\n",
    "@enduml\n"
   ]
  },
  {
   "cell_type": "code",
   "execution_count": 11,
   "metadata": {
    "collapsed": false,
    "scrolled": true
   },
   "outputs": [
    {
     "data": {
      "image/svg+xml": [
       "<svg height=\"356px\" style=\"width:470px;height:356px;\" version=\"1.1\" viewBox=\"0 0 470 356\" width=\"470px\" xmlns=\"http://www.w3.org/2000/svg\" xmlns:xlink=\"http://www.w3.org/1999/xlink\"><defs><filter height=\"300%\" id=\"f1\" width=\"300%\" x=\"-1\" y=\"-1\"><feGaussianBlur result=\"blurOut\" stdDeviation=\"2.0\"/><feColorMatrix in=\"blurOut\" result=\"blurOut2\" type=\"matrix\" values=\"0 0 0 0 0 0 0 0 0 0 0 0 0 0 0 0 0 0 .4 0\"/><feOffset dx=\"4.0\" dy=\"4.0\" in=\"blurOut2\" result=\"blurOut3\"/><feBlend in=\"SourceGraphic\" in2=\"blurOut3\" mode=\"normal\"/></filter></defs><g><ellipse cx=\"254.5\" cy=\"20\" fill=\"#000000\" filter=\"url(#f1)\" rx=\"10\" ry=\"10\" style=\"stroke: none; stroke-width: 1.0;\"/><rect fill=\"#FEFECE\" filter=\"url(#f1)\" height=\"33.9688\" rx=\"12.5\" ry=\"12.5\" style=\"stroke: #A80036; stroke-width: 1.5;\" width=\"121\" x=\"194\" y=\"50\"/><text fill=\"#000000\" font-family=\"sans-serif\" font-size=\"12\" lengthAdjust=\"spacingAndGlyphs\" textLength=\"101\" x=\"204\" y=\"71.1387\">display a button</text><rect fill=\"#FEFECE\" filter=\"url(#f1)\" height=\"33.9688\" rx=\"12.5\" ry=\"12.5\" style=\"stroke: #A80036; stroke-width: 1.5;\" width=\"417\" x=\"46\" y=\"103.9688\"/><text fill=\"#000000\" font-family=\"sans-serif\" font-size=\"12\" lengthAdjust=\"spacingAndGlyphs\" textLength=\"397\" x=\"56\" y=\"125.1074\">add (addActionListener) function (ActionListener) to the button</text><rect fill=\"#FEFECE\" filter=\"url(#f1)\" height=\"33.9688\" rx=\"12.5\" ry=\"12.5\" style=\"stroke: #A80036; stroke-width: 1.5;\" width=\"45\" x=\"232\" y=\"157.9375\"/><text fill=\"#000000\" font-family=\"sans-serif\" font-size=\"12\" lengthAdjust=\"spacingAndGlyphs\" textLength=\"25\" x=\"242\" y=\"179.0762\">wait</text><polygon fill=\"#FEFECE\" filter=\"url(#f1)\" points=\"151.5,211.9063,357.5,211.9063,369.5,223.9063,357.5,235.9063,151.5,235.9063,139.5,223.9063,151.5,211.9063\" style=\"stroke: #A80036; stroke-width: 1.5;\"/><text fill=\"#000000\" font-family=\"sans-serif\" font-size=\"11\" lengthAdjust=\"spacingAndGlyphs\" textLength=\"206\" x=\"151.5\" y=\"227.7144\">the mouse is pressed on the button</text><text fill=\"#000000\" font-family=\"sans-serif\" font-size=\"11\" lengthAdjust=\"spacingAndGlyphs\" textLength=\"20\" x=\"119.5\" y=\"221.312\">yes</text><text fill=\"#000000\" font-family=\"sans-serif\" font-size=\"11\" lengthAdjust=\"spacingAndGlyphs\" textLength=\"14\" x=\"369.5\" y=\"221.312\">no</text><rect fill=\"#FEFECE\" filter=\"url(#f1)\" height=\"33.9688\" rx=\"12.5\" ry=\"12.5\" style=\"stroke: #A80036; stroke-width: 1.5;\" width=\"239\" x=\"10\" y=\"245.9063\"/><text fill=\"#000000\" font-family=\"sans-serif\" font-size=\"12\" lengthAdjust=\"spacingAndGlyphs\" textLength=\"219\" x=\"20\" y=\"267.0449\">call the function (actionPerformed)</text><rect fill=\"#FEFECE\" filter=\"url(#f1)\" height=\"33.9688\" rx=\"12.5\" ry=\"12.5\" style=\"stroke: #A80036; stroke-width: 1.5;\" width=\"45\" x=\"357\" y=\"245.9063\"/><text fill=\"#000000\" font-family=\"sans-serif\" font-size=\"12\" lengthAdjust=\"spacingAndGlyphs\" textLength=\"25\" x=\"367\" y=\"267.0449\">wait</text><polygon fill=\"#FEFECE\" filter=\"url(#f1)\" points=\"254.5,285.875,266.5,297.875,254.5,309.875,242.5,297.875,254.5,285.875\" style=\"stroke: #A80036; stroke-width: 1.5;\"/><ellipse cx=\"254.5\" cy=\"339.875\" fill=\"none\" filter=\"url(#f1)\" rx=\"10\" ry=\"10\" style=\"stroke: #000000; stroke-width: 1.0;\"/><ellipse cx=\"255\" cy=\"340.375\" fill=\"#000000\" filter=\"url(#f1)\" rx=\"6\" ry=\"6\" style=\"stroke: none; stroke-width: 1.0;\"/><line style=\"stroke: #A80036; stroke-width: 1.5;\" x1=\"254.5\" x2=\"254.5\" y1=\"30\" y2=\"50\"/><polygon fill=\"#A80036\" points=\"250.5,40,254.5,50,258.5,40,254.5,44\" style=\"stroke: #A80036; stroke-width: 1.0;\"/><line style=\"stroke: #A80036; stroke-width: 1.5;\" x1=\"254.5\" x2=\"254.5\" y1=\"83.9688\" y2=\"103.9688\"/><polygon fill=\"#A80036\" points=\"250.5,93.9688,254.5,103.9688,258.5,93.9688,254.5,97.9688\" style=\"stroke: #A80036; stroke-width: 1.0;\"/><line style=\"stroke: #A80036; stroke-width: 1.5;\" x1=\"254.5\" x2=\"254.5\" y1=\"137.9375\" y2=\"157.9375\"/><polygon fill=\"#A80036\" points=\"250.5,147.9375,254.5,157.9375,258.5,147.9375,254.5,151.9375\" style=\"stroke: #A80036; stroke-width: 1.0;\"/><line style=\"stroke: #A80036; stroke-width: 1.5;\" x1=\"139.5\" x2=\"129.5\" y1=\"223.9063\" y2=\"223.9063\"/><line style=\"stroke: #A80036; stroke-width: 1.5;\" x1=\"129.5\" x2=\"129.5\" y1=\"223.9063\" y2=\"245.9063\"/><polygon fill=\"#A80036\" points=\"125.5,235.9063,129.5,245.9063,133.5,235.9063,129.5,239.9063\" style=\"stroke: #A80036; stroke-width: 1.0;\"/><line style=\"stroke: #A80036; stroke-width: 1.5;\" x1=\"369.5\" x2=\"379.5\" y1=\"223.9063\" y2=\"223.9063\"/><line style=\"stroke: #A80036; stroke-width: 1.5;\" x1=\"379.5\" x2=\"379.5\" y1=\"223.9063\" y2=\"245.9063\"/><polygon fill=\"#A80036\" points=\"375.5,235.9063,379.5,245.9063,383.5,235.9063,379.5,239.9063\" style=\"stroke: #A80036; stroke-width: 1.0;\"/><line style=\"stroke: #A80036; stroke-width: 1.5;\" x1=\"129.5\" x2=\"129.5\" y1=\"279.875\" y2=\"297.875\"/><line style=\"stroke: #A80036; stroke-width: 1.5;\" x1=\"129.5\" x2=\"242.5\" y1=\"297.875\" y2=\"297.875\"/><polygon fill=\"#A80036\" points=\"232.5,293.875,242.5,297.875,232.5,301.875,236.5,297.875\" style=\"stroke: #A80036; stroke-width: 1.0;\"/><line style=\"stroke: #A80036; stroke-width: 1.5;\" x1=\"379.5\" x2=\"379.5\" y1=\"279.875\" y2=\"297.875\"/><line style=\"stroke: #A80036; stroke-width: 1.5;\" x1=\"379.5\" x2=\"266.5\" y1=\"297.875\" y2=\"297.875\"/><polygon fill=\"#A80036\" points=\"276.5,293.875,266.5,297.875,276.5,301.875,272.5,297.875\" style=\"stroke: #A80036; stroke-width: 1.0;\"/><line style=\"stroke: #A80036; stroke-width: 1.5;\" x1=\"254.5\" x2=\"254.5\" y1=\"191.9063\" y2=\"211.9063\"/><polygon fill=\"#A80036\" points=\"250.5,201.9063,254.5,211.9063,258.5,201.9063,254.5,205.9063\" style=\"stroke: #A80036; stroke-width: 1.0;\"/><line style=\"stroke: #A80036; stroke-width: 1.5;\" x1=\"254.5\" x2=\"254.5\" y1=\"309.875\" y2=\"329.875\"/><polygon fill=\"#A80036\" points=\"250.5,319.875,254.5,329.875,258.5,319.875,254.5,323.875\" style=\"stroke: #A80036; stroke-width: 1.0;\"/></g></svg>"
      ],
      "text/plain": [
       "<IPython.core.display.SVG object>"
      ]
     },
     "execution_count": 11,
     "metadata": {},
     "output_type": "execute_result"
    }
   ],
   "source": [
    "%%plantuml\n",
    "@startuml\n",
    "start\n",
    ":display a button;\n",
    ":add (addActionListener) function (ActionListener) to the button;\n",
    ":wait;\n",
    "if (the mouse is pressed on the button) then (yes)\n",
    "    :call the function (actionPerformed);\n",
    "else (no)\n",
    "    :wait;\n",
    "endif\n",
    "stop\n",
    "@enduml"
   ]
  },
  {
   "cell_type": "markdown",
   "metadata": {},
   "source": [
    "## 문제 gui-2:  원 면적을 계산버튼을 누르면 면적을 계산한다.\n",
    "\n",
    "* 계산 버튼을 누르면 면적을 계산한다.\n",
    "    * 버튼에 '면적을 계산'하는 기능을 묶는다. 버튼과 기능을 binding한다는 의미로 묶는다.\n",
    "    * 버튼에 마우스를 가져가 누르면, 그 이벤트를 인식한다.\n",
    "    * 앞서 매단 '면적을 계산'하는 기능을 실행한다.\n",
    "* '취소'버튼을 누르면 반지름을 지운다."
   ]
  },
  {
   "cell_type": "markdown",
   "metadata": {},
   "source": [
    "## 8.3 Simple Drawing\n",
    "\n",
    "* 윈도우에는 그림을 그릴 수 있다.\n",
    "    * AWT 최상위 클래스 Component의 paint(), repaint()를 사용한다.\n",
    "    * paint()함수\n",
    "        * 처음 frame을 그릴 때 (setVisible(True)) 사용한다.\n",
    "        * frame이 변경될 때 사용한다.\n",
    "    * paint()함수는 자동으로 호출되므로, 호출하지 않는다. 호출하면 오류가 발생한다. 대신 repaint()를 호출한다.\n",
    "    * repaint()함수는 update()와 paint()를 순차적으로 호출한다.\n",
    "        ```\n",
    "        void\tpaint(Graphics g)\n",
    "        void\trepaint()\n",
    "        ```\n",
    "\n",
    "* Swing 그리기는 AWT와 유사하지만, paintCompoent()함수가 있다.\n",
    "    * Swing에 JComponent, JPanel 클래스 등이 해당된다.\n",
    "    * paint()함수는 paintComponent()를 호출한다.\n",
    "        * 실제로는 paintBorder(), paintComponent(), paintChildren()를 모두 호출한다.\n",
    "        * paint()함수를 재정의하지 않는다. 대신 paintComponent()에 그리는 프로그램을 넣으면 된다.\n",
    "            ```\n",
    "            paintComponent(Graphics g)\n",
    "            repaint()\n",
    "            ```\n"
   ]
  }
 ],
 "metadata": {
  "kernelspec": {
   "display_name": "Python 2",
   "language": "python",
   "name": "python2"
  },
  "language_info": {
   "codemirror_mode": {
    "name": "ipython",
    "version": 2
   },
   "file_extension": ".py",
   "mimetype": "text/x-python",
   "name": "python",
   "nbconvert_exporter": "python",
   "pygments_lexer": "ipython2",
   "version": "2.7.12"
  }
 },
 "nbformat": 4,
 "nbformat_minor": 0
}
