{
 "cells": [
  {
   "cell_type": "markdown",
   "metadata": {
    "slideshow": {
     "slide_type": "slide"
    }
   },
   "source": [
    "# 6. 데이터구조\n",
    "\n",
    "## 6.1 학습내용\n",
    "\n",
    "### 6.1.1 목표\n",
    "\n",
    "* 문제에 맞는 데이터구조를 선택하여 사용할 수 있다.\n",
    "* 데이터구조를 함수에 전달하여 사용할 수 있다.\n",
    "    * copying - shallow vs deep\n",
    "* generic 타잎을 사용할 수 있다.\n",
    "* 데이터구조에서 원하는 데이터를 찾을 수 있다 (iterator).\n",
    "* 데이터구조를 정렬할 수 있다 (compareTo)\n",
    "* 배열에 객체를 저장하여 호출할 수 있다.\n",
    "\n",
    "### 6.1.2 문제\n",
    "\n",
    "* 데이터구조-1: 4로 나누어지고 5로 나누어지지 않는 수 골라서 배열에 넣기 (Arrays, ArrayList)\n",
    "* 데이터구조-2: 거북이 트랙을 저장하기 (Arrays, ArrayList)\n",
    "* 데이터구조-3: 도형을 데이터로 저장하기\n",
    "* 데이터구조-4: 거북이가 걸어간 트랙을 다시 걷게 하기\n",
    "* 데이터구조-5: 문자열에서 문자를 세기 (Map)\n",
    "* 데이터구조-6: 문자열 'hello' 뒤집기\n",
    "* 데이터구조-7: 문자열에 포함된 문자와 숫자의 개수 세기 (Map)\n",
    "* 데이터구조-8: 자신과 친구의 방에 있는 가전제품을 10개 이상 나열해서, 차이 구하기. (Set)\n",
    "* 데이터구조-9: 광화문 반경에서 가까운 역 찾기.\n",
    "* 데이터구조-10: 서울에 거주하는 남녀의 구별 합계와 평균구하기 (2차원 데이터)\n",
    "* 데이터구조-11: 커피에 Milk를 추가하는 비율 구하기 (2차원 데이터)\n",
    "* 데이터구조-12: 성적 평균, 합계 구하기.\n",
    "* 데이터구조-13: 비틀즈 랫잇비 가사에 자주 등장하는 단어 구하기.\n",
    "    * variable length of 2d arrays\n",
    "* 데이터구조-14: '학생' 객체를 정렬하기\n",
    "    * compuareTo\n",
    "* 데이터구조-15: 객체를 배열로 저장해서, sayHello()\n",
    "\n",
    "### 6.1.3 연습문제\n",
    "\n",
    "* 서울 학교생활 만족도 평균 구하기.\n",
    "* 대통령 연설에서 자주 등장하는 단어 차이 분석하기. 단어빈도 그래프 그리기.\n",
    "* (자습) 이메일 자주 보내는 사람 찾기.\n",
    "* mini: **heroku**"
   ]
  },
  {
   "cell_type": "markdown",
   "metadata": {},
   "source": [
    "## 6.2 데이터구조란?\n",
    "\n",
    "### 6.2.1 왜 필요할까?\n",
    "\n",
    "* 데이터구조는 2개 이상의 연관된 값을 저장하기 위해서 사용한다.\n",
    "    * 변수는 2개 이상의 값을 동시에 저장하지 못한다. 데이터구조는 같은 변수명으로 2개 이상을 저장할 수 있다.\n",
    "    * 변수를 사용하면, 데이터 수만큼 변수가 필요하다."
   ]
  },
  {
   "cell_type": "markdown",
   "metadata": {
    "collapsed": true
   },
   "source": [
    "* 데이터구조를 사용하지 않고, 1~5까지 값을 출력해 본다.\n",
    "* for문을 사용하면 2줄이면 된다."
   ]
  },
  {
   "cell_type": "code",
   "execution_count": 2,
   "metadata": {
    "collapsed": false
   },
   "outputs": [
    {
     "name": "stdout",
     "output_type": "stream",
     "text": [
      " for(int i=0;i<5;i++)\r\n",
      "     System.out.print(i+1);\r\n",
      "12345\r\n"
     ]
    }
   ],
   "source": [
    "for(int i=0;i<5;i++)\n",
    "    System.out.print(i+1);"
   ]
  },
  {
   "cell_type": "markdown",
   "metadata": {},
   "source": [
    "* 1~5까지의 숫자를 저장해서 다시 사용한다고 생각해보자.\n",
    "* 어떻게 저장할 것인가?\n",
    "* 앞서 배웠던 변수를 사용해보자. 그렇다면 5개의 변수가 필요하다.\n",
    "* 변수를 선언해서 저장하는 수만큼 즉 5줄의 명령문이 필요하다."
   ]
  },
  {
   "cell_type": "code",
   "execution_count": 4,
   "metadata": {
    "collapsed": false
   },
   "outputs": [
    {
     "name": "stdout",
     "output_type": "stream",
     "text": [
      " int i0=0;\r\n",
      "|  Added variable i0 of type int with initial value 0\r\n",
      "\r\n",
      " int i1=1;\r\n",
      "|  Added variable i1 of type int with initial value 1\r\n",
      "\r\n",
      " int i2=2;\r\n",
      "|  Added variable i2 of type int with initial value 2\r\n",
      "\r\n",
      " int i3=3;\r\n",
      "|  Added variable i3 of type int with initial value 3\r\n",
      "\r\n",
      " int i4=4;\r\n",
      "|  Added variable i4 of type int with initial value 4\r\n",
      "\r\n"
     ]
    }
   ],
   "source": [
    "int i0=0;\n",
    "int i1=1;\n",
    "int i2=2;\n",
    "int i3=3;\n",
    "int i4=4;"
   ]
  },
  {
   "cell_type": "markdown",
   "metadata": {},
   "source": [
    "* i0 ~ i4, 5개의 변수를 이용해서 숫자를 저장했다.\n",
    "* 출력은 어떻게 할 것인가? 하나씩 한다면 모두 5줄의 명령어가 필요하다.\n",
    "* 아래는 하나만 출력한 것이다. for문을 사용하여 줄 수를 줄이기도 어렵다.\n",
    "* 중복이 많아서 낭비적이다. 중복을 줄이는 방법이 있을까? 데이터구조를 이용하면 해결할 수 있다."
   ]
  },
  {
   "cell_type": "code",
   "execution_count": 3,
   "metadata": {
    "collapsed": false
   },
   "outputs": [
    {
     "name": "stdout",
     "output_type": "stream",
     "text": [
      " System.out.print(i0);\r\n",
      "0\r\n"
     ]
    }
   ],
   "source": [
    "System.out.print(i0);"
   ]
  },
  {
   "cell_type": "markdown",
   "metadata": {},
   "source": [
    "### 6.2.2 데이터 구조를 사용하기\n",
    "\n",
    "* Arrays 데이터구조를 사용해보자.\n",
    "* 사용하기 전에 자료형을 선언하는 것이 필요하다.\n",
    "    ```\n",
    "    int[] x=new int[10]\n",
    "    ```\n",
    "    \n",
    "    * 좌측 'int[] x'는 선언이다. 변수 x는 배열[] 구조를 가지며, int만을 저장할 수 있다.\n",
    "    * 우측 'new int[10]'은 실제 int를 10개 넣겠다고 명시한다.\n",
    "    * 호텔 예약에 비유하면, 좌측은 객실의 종류를, 우측은 몇 개나 필요한지 명시하는 것이다."
   ]
  },
  {
   "cell_type": "code",
   "execution_count": 3,
   "metadata": {
    "collapsed": false,
    "scrolled": true
   },
   "outputs": [
    {
     "name": "stdout",
     "output_type": "stream",
     "text": [
      " int[] i = new int[5];\r\n",
      "|  Added variable i of type int[] with initial value [I@3abbfa04\r\n",
      "\r\n",
      " i[0]=0;i[1]=1;i[2]=2;i[3]=3;i[4]=4;\r\n",
      "|  Expression value is: 0\r\n",
      "|    assigned to temporary variable $4 of type int\r\n",
      "|  Expression value is: 1\r\n",
      "|    assigned to temporary variable $5 of type int\r\n",
      "|  Expression value is: 2\r\n",
      "|    assigned to temporary variable $6 of type int\r\n",
      "|  Expression value is: 3\r\n",
      "|    assigned to temporary variable $7 of type int\r\n",
      "|  Expression value is: 4\r\n",
      "|    assigned to temporary variable $8 of type int\r\n",
      "\r\n"
     ]
    }
   ],
   "source": [
    "int[] i = new int[5];\n",
    "i[0]=0;i[1]=1;i[2]=2;i[3]=3;i[4]=4;"
   ]
  },
  {
   "cell_type": "markdown",
   "metadata": {},
   "source": [
    "* 동일한 변수명으로 연관된 값을 묶어 저장하는 것은 만족스럽지만, 아직 10줄이나 반복하는 것은 문제이다.\n",
    "* 이 때 숫자를 하나씩 증가하여 저장하는 패턴을 볼 수 있다. 반복문을 사용하여 중복을 제거할 수 있다."
   ]
  },
  {
   "cell_type": "code",
   "execution_count": 4,
   "metadata": {
    "collapsed": false,
    "scrolled": true
   },
   "outputs": [
    {
     "name": "stdout",
     "output_type": "stream",
     "text": [
      " int[] x=new int[5];\r\n",
      "|  Added variable x of type int[] with initial value [I@589838eb\r\n",
      "\r\n",
      " for(int i=0; i<5; i++)\r\n",
      "     x[i]=i;\r\n",
      "\r\n"
     ]
    }
   ],
   "source": [
    "int[] x=new int[5];\n",
    "for(int i=0; i<5; i++)\n",
    "    x[i]=i;"
   ]
  },
  {
   "cell_type": "markdown",
   "metadata": {},
   "source": [
    "* 데이터구조는 변수와 무엇이 다른가?\n",
    "    * 변수x는 1개 값만 저장. 1~10 값을 모두 저장하려면 변수로는 불가능.\n",
    "    * 변수는 값을 1개만 갖는다.\n",
    "    * 변수에 1 ~ 10의 값은 저장할 수 없슴. 저장공간이 1개이기 때문에, 가능하지 못함.\n",
    "    * 새로운 값을 저장하면, 이전의 값은 없어짐.\n",
    "    * 이런 경우 배열을 이용하면, 동일한 변수명으로 여러 값을 묶어서 저장할 수 있슴."
   ]
  },
  {
   "cell_type": "markdown",
   "metadata": {},
   "source": [
    "## 6.3 많이 사용하는 데이터구조\n",
    "\n",
    "* Java의 Collection Framework.\n",
    "    * Collection은 객체를 가지고 있는 데이터 구조를 말한다.\n",
    "    * 모든 Collection은 Iterable 인터페이스와 상속관계를 가지고 있다.\n",
    "    * Collection은 List, Queue, Set으로 분류한다.\n",
    "    * Collection은 객체를 요소로 가지는 데이터구조이다\n",
    "        * 원시타잎은 가질 수 없다.\n",
    "        * 배열 Arrays는 Collection이 아니다 (원시타잎을 가질 수 있다).\n",
    "\n",
    "구분 | Collection | Arrays\n",
    "----------|----------|----------\n",
    "원시타잎 | 원시타잎을 가질 수 없다. 객체만 가진다.  | 원시타잎과 객체 모두 가질 수 있다.\n",
    "크기 | 늘어날 수 있다. | 미리 정해야 한다. 정하면 변경할 수 없다.\n",
    "사용성 | 편리하다. | 불편하다. toString, sort, iterator를 사용할 수 없다.\n",
    " \n",
    "* Java Collection과 Collections\n",
    "    * Collection과 달리 Collections는 static함수로 편리한 기능을 제공한다.\n",
    "    \n",
    "구분 | Collection | Collections\n",
    "----------|----------|----------\n",
    "클래스 타잎 | 인터페이스 | 클래스\n",
    "주요 역할 | List, Queue, Map 등을 상속한다.  | min, max, sort와 같은 유틸리티 기능 (static)\n"
   ]
  },
  {
   "cell_type": "code",
   "execution_count": 1,
   "metadata": {
    "collapsed": false
   },
   "outputs": [],
   "source": [
    "import iplantuml"
   ]
  },
  {
   "cell_type": "code",
   "execution_count": 2,
   "metadata": {
    "collapsed": false
   },
   "outputs": [
    {
     "data": {
      "image/svg+xml": [
       "<svg height=\"389px\" style=\"width:473px;height:389px;\" version=\"1.1\" viewBox=\"0 0 473 389\" width=\"473px\" xmlns=\"http://www.w3.org/2000/svg\" xmlns:xlink=\"http://www.w3.org/1999/xlink\"><defs><filter height=\"300%\" id=\"f1\" width=\"300%\" x=\"-1\" y=\"-1\"><feGaussianBlur result=\"blurOut\" stdDeviation=\"2.0\"/><feColorMatrix in=\"blurOut\" result=\"blurOut2\" type=\"matrix\" values=\"0 0 0 0 0 0 0 0 0 0 0 0 0 0 0 0 0 0 .4 0\"/><feOffset dx=\"4.0\" dy=\"4.0\" in=\"blurOut2\" result=\"blurOut3\"/><feBlend in=\"SourceGraphic\" in2=\"blurOut3\" mode=\"normal\"/></filter></defs><g><rect fill=\"#FEFECE\" filter=\"url(#f1)\" height=\"48\" style=\"stroke: #A80036; stroke-width: 1.5;\" width=\"81\" x=\"80\" y=\"8\"/><ellipse cx=\"95\" cy=\"24\" fill=\"#B4A7E5\" rx=\"11\" ry=\"11\" style=\"stroke: #A80036; stroke-width: 1.0;\"/><path d=\"M90.9219,19.7656 L90.9219,17.6094 L98.3125,17.6094 L98.3125,19.7656 L95.8438,19.7656 L95.8438,27.8438 L98.3125,27.8438 L98.3125,30 L90.9219,30 L90.9219,27.8438 L93.3906,27.8438 L93.3906,19.7656 L90.9219,19.7656 Z \"/><text fill=\"#000000\" font-family=\"sans-serif\" font-size=\"12\" font-style=\"italic\" lengthAdjust=\"spacingAndGlyphs\" textLength=\"49\" x=\"109\" y=\"28.1543\">Iterable</text><line style=\"stroke: #A80036; stroke-width: 1.5;\" x1=\"81\" x2=\"160\" y1=\"40\" y2=\"40\"/><line style=\"stroke: #A80036; stroke-width: 1.5;\" x1=\"81\" x2=\"160\" y1=\"48\" y2=\"48\"/><rect fill=\"#FEFECE\" filter=\"url(#f1)\" height=\"48\" style=\"stroke: #A80036; stroke-width: 1.5;\" width=\"93\" x=\"74\" y=\"116\"/><ellipse cx=\"89\" cy=\"132\" fill=\"#B4A7E5\" rx=\"11\" ry=\"11\" style=\"stroke: #A80036; stroke-width: 1.0;\"/><path d=\"M84.9219,127.7656 L84.9219,125.6094 L92.3125,125.6094 L92.3125,127.7656 L89.8438,127.7656 L89.8438,135.8438 L92.3125,135.8438 L92.3125,138 L84.9219,138 L84.9219,135.8438 L87.3906,135.8438 L87.3906,127.7656 L84.9219,127.7656 Z \"/><text fill=\"#000000\" font-family=\"sans-serif\" font-size=\"12\" font-style=\"italic\" lengthAdjust=\"spacingAndGlyphs\" textLength=\"61\" x=\"103\" y=\"136.1543\">Collection</text><line style=\"stroke: #A80036; stroke-width: 1.5;\" x1=\"75\" x2=\"166\" y1=\"148\" y2=\"148\"/><line style=\"stroke: #A80036; stroke-width: 1.5;\" x1=\"75\" x2=\"166\" y1=\"156\" y2=\"156\"/><rect fill=\"#FEFECE\" filter=\"url(#f1)\" height=\"48\" style=\"stroke: #A80036; stroke-width: 1.5;\" width=\"53\" x=\"6\" y=\"224\"/><ellipse cx=\"21\" cy=\"240\" fill=\"#B4A7E5\" rx=\"11\" ry=\"11\" style=\"stroke: #A80036; stroke-width: 1.0;\"/><path d=\"M16.9219,235.7656 L16.9219,233.6094 L24.3125,233.6094 L24.3125,235.7656 L21.8438,235.7656 L21.8438,243.8438 L24.3125,243.8438 L24.3125,246 L16.9219,246 L16.9219,243.8438 L19.3906,243.8438 L19.3906,235.7656 L16.9219,235.7656 Z \"/><text fill=\"#000000\" font-family=\"sans-serif\" font-size=\"12\" font-style=\"italic\" lengthAdjust=\"spacingAndGlyphs\" textLength=\"21\" x=\"35\" y=\"244.1543\">Set</text><line style=\"stroke: #A80036; stroke-width: 1.5;\" x1=\"7\" x2=\"58\" y1=\"256\" y2=\"256\"/><line style=\"stroke: #A80036; stroke-width: 1.5;\" x1=\"7\" x2=\"58\" y1=\"264\" y2=\"264\"/><rect fill=\"#FEFECE\" filter=\"url(#f1)\" height=\"48\" style=\"stroke: #A80036; stroke-width: 1.5;\" width=\"53\" x=\"94\" y=\"224\"/><ellipse cx=\"109\" cy=\"240\" fill=\"#B4A7E5\" rx=\"11\" ry=\"11\" style=\"stroke: #A80036; stroke-width: 1.0;\"/><path d=\"M104.9219,235.7656 L104.9219,233.6094 L112.3125,233.6094 L112.3125,235.7656 L109.8438,235.7656 L109.8438,243.8438 L112.3125,243.8438 L112.3125,246 L104.9219,246 L104.9219,243.8438 L107.3906,243.8438 L107.3906,235.7656 L104.9219,235.7656 Z \"/><text fill=\"#000000\" font-family=\"sans-serif\" font-size=\"12\" font-style=\"italic\" lengthAdjust=\"spacingAndGlyphs\" textLength=\"21\" x=\"123\" y=\"244.1543\">List</text><line style=\"stroke: #A80036; stroke-width: 1.5;\" x1=\"95\" x2=\"146\" y1=\"256\" y2=\"256\"/><line style=\"stroke: #A80036; stroke-width: 1.5;\" x1=\"95\" x2=\"146\" y1=\"264\" y2=\"264\"/><rect fill=\"#FEFECE\" filter=\"url(#f1)\" height=\"48\" style=\"stroke: #A80036; stroke-width: 1.5;\" width=\"58\" x=\"204.5\" y=\"8\"/><ellipse cx=\"219.5\" cy=\"24\" fill=\"#B4A7E5\" rx=\"11\" ry=\"11\" style=\"stroke: #A80036; stroke-width: 1.0;\"/><path d=\"M215.4219,19.7656 L215.4219,17.6094 L222.8125,17.6094 L222.8125,19.7656 L220.3438,19.7656 L220.3438,27.8438 L222.8125,27.8438 L222.8125,30 L215.4219,30 L215.4219,27.8438 L217.8906,27.8438 L217.8906,19.7656 L215.4219,19.7656 Z \"/><text fill=\"#000000\" font-family=\"sans-serif\" font-size=\"12\" font-style=\"italic\" lengthAdjust=\"spacingAndGlyphs\" textLength=\"26\" x=\"233.5\" y=\"28.1543\">Map</text><line style=\"stroke: #A80036; stroke-width: 1.5;\" x1=\"205.5\" x2=\"261.5\" y1=\"40\" y2=\"40\"/><line style=\"stroke: #A80036; stroke-width: 1.5;\" x1=\"205.5\" x2=\"261.5\" y1=\"48\" y2=\"48\"/><rect fill=\"#FEFECE\" filter=\"url(#f1)\" height=\"48\" style=\"stroke: #A80036; stroke-width: 1.5;\" width=\"85\" x=\"78\" y=\"332\"/><ellipse cx=\"93\" cy=\"348\" fill=\"#ADD1B2\" rx=\"11\" ry=\"11\" style=\"stroke: #A80036; stroke-width: 1.0;\"/><path d=\"M95.9688,353.6406 Q95.3906,353.9375 94.75,354.0859 Q94.1094,354.2344 93.4063,354.2344 Q90.9063,354.2344 89.5859,352.5859 Q88.2656,350.9375 88.2656,347.8125 Q88.2656,344.6875 89.5859,343.0313 Q90.9063,341.375 93.4063,341.375 Q94.1094,341.375 94.7578,341.5313 Q95.4063,341.6875 95.9688,341.9844 L95.9688,344.7031 Q95.3438,344.125 94.75,343.8516 Q94.1563,343.5781 93.5313,343.5781 Q92.1875,343.5781 91.5,344.6484 Q90.8125,345.7188 90.8125,347.8125 Q90.8125,349.9063 91.5,350.9766 Q92.1875,352.0469 93.5313,352.0469 Q94.1563,352.0469 94.75,351.7734 Q95.3438,351.5 95.9688,350.9219 L95.9688,353.6406 Z \"/><text fill=\"#000000\" font-family=\"sans-serif\" font-size=\"12\" lengthAdjust=\"spacingAndGlyphs\" textLength=\"53\" x=\"107\" y=\"352.1543\">ArrayList</text><line style=\"stroke: #A80036; stroke-width: 1.5;\" x1=\"79\" x2=\"162\" y1=\"364\" y2=\"364\"/><line style=\"stroke: #A80036; stroke-width: 1.5;\" x1=\"79\" x2=\"162\" y1=\"372\" y2=\"372\"/><rect fill=\"#FEFECE\" filter=\"url(#f1)\" height=\"48\" style=\"stroke: #A80036; stroke-width: 1.5;\" width=\"73\" x=\"182\" y=\"224\"/><ellipse cx=\"197\" cy=\"240\" fill=\"#ADD1B2\" rx=\"11\" ry=\"11\" style=\"stroke: #A80036; stroke-width: 1.0;\"/><path d=\"M199.9688,245.6406 Q199.3906,245.9375 198.75,246.0859 Q198.1094,246.2344 197.4063,246.2344 Q194.9063,246.2344 193.5859,244.5859 Q192.2656,242.9375 192.2656,239.8125 Q192.2656,236.6875 193.5859,235.0313 Q194.9063,233.375 197.4063,233.375 Q198.1094,233.375 198.7578,233.5313 Q199.4063,233.6875 199.9688,233.9844 L199.9688,236.7031 Q199.3438,236.125 198.75,235.8516 Q198.1563,235.5781 197.5313,235.5781 Q196.1875,235.5781 195.5,236.6484 Q194.8125,237.7188 194.8125,239.8125 Q194.8125,241.9063 195.5,242.9766 Q196.1875,244.0469 197.5313,244.0469 Q198.1563,244.0469 198.75,243.7734 Q199.3438,243.5 199.9688,242.9219 L199.9688,245.6406 Z \"/><text fill=\"#000000\" font-family=\"sans-serif\" font-size=\"12\" lengthAdjust=\"spacingAndGlyphs\" textLength=\"41\" x=\"211\" y=\"244.1543\">Queue</text><line style=\"stroke: #A80036; stroke-width: 1.5;\" x1=\"183\" x2=\"254\" y1=\"256\" y2=\"256\"/><line style=\"stroke: #A80036; stroke-width: 1.5;\" x1=\"183\" x2=\"254\" y1=\"264\" y2=\"264\"/><rect fill=\"#FEFECE\" filter=\"url(#f1)\" height=\"48\" style=\"stroke: #A80036; stroke-width: 1.5;\" width=\"72\" x=\"313.5\" y=\"8\"/><ellipse cx=\"328.5\" cy=\"24\" fill=\"#ADD1B2\" rx=\"11\" ry=\"11\" style=\"stroke: #A80036; stroke-width: 1.0;\"/><path d=\"M331.4688,29.6406 Q330.8906,29.9375 330.25,30.0859 Q329.6094,30.2344 328.9063,30.2344 Q326.4063,30.2344 325.0859,28.5859 Q323.7656,26.9375 323.7656,23.8125 Q323.7656,20.6875 325.0859,19.0313 Q326.4063,17.375 328.9063,17.375 Q329.6094,17.375 330.2578,17.5313 Q330.9063,17.6875 331.4688,17.9844 L331.4688,20.7031 Q330.8438,20.125 330.25,19.8516 Q329.6563,19.5781 329.0313,19.5781 Q327.6875,19.5781 327,20.6484 Q326.3125,21.7188 326.3125,23.8125 Q326.3125,25.9063 327,26.9766 Q327.6875,28.0469 329.0313,28.0469 Q329.6563,28.0469 330.25,27.7734 Q330.8438,27.5 331.4688,26.9219 L331.4688,29.6406 Z \"/><text fill=\"#000000\" font-family=\"sans-serif\" font-size=\"12\" lengthAdjust=\"spacingAndGlyphs\" textLength=\"40\" x=\"342.5\" y=\"28.1543\">Object</text><line style=\"stroke: #A80036; stroke-width: 1.5;\" x1=\"314.5\" x2=\"384.5\" y1=\"40\" y2=\"40\"/><line style=\"stroke: #A80036; stroke-width: 1.5;\" x1=\"314.5\" x2=\"384.5\" y1=\"48\" y2=\"48\"/><rect fill=\"#FEFECE\" filter=\"url(#f1)\" height=\"48\" style=\"stroke: #A80036; stroke-width: 1.5;\" width=\"71\" x=\"258\" y=\"116\"/><ellipse cx=\"273\" cy=\"132\" fill=\"#ADD1B2\" rx=\"11\" ry=\"11\" style=\"stroke: #A80036; stroke-width: 1.0;\"/><path d=\"M275.9688,137.6406 Q275.3906,137.9375 274.75,138.0859 Q274.1094,138.2344 273.4063,138.2344 Q270.9063,138.2344 269.5859,136.5859 Q268.2656,134.9375 268.2656,131.8125 Q268.2656,128.6875 269.5859,127.0313 Q270.9063,125.375 273.4063,125.375 Q274.1094,125.375 274.7578,125.5313 Q275.4063,125.6875 275.9688,125.9844 L275.9688,128.7031 Q275.3438,128.125 274.75,127.8516 Q274.1563,127.5781 273.5313,127.5781 Q272.1875,127.5781 271.5,128.6484 Q270.8125,129.7188 270.8125,131.8125 Q270.8125,133.9063 271.5,134.9766 Q272.1875,136.0469 273.5313,136.0469 Q274.1563,136.0469 274.75,135.7734 Q275.3438,135.5 275.9688,134.9219 L275.9688,137.6406 Z \"/><text fill=\"#000000\" font-family=\"sans-serif\" font-size=\"12\" lengthAdjust=\"spacingAndGlyphs\" textLength=\"39\" x=\"287\" y=\"136.1543\">Arrays</text><line style=\"stroke: #A80036; stroke-width: 1.5;\" x1=\"259\" x2=\"328\" y1=\"148\" y2=\"148\"/><line style=\"stroke: #A80036; stroke-width: 1.5;\" x1=\"259\" x2=\"328\" y1=\"156\" y2=\"156\"/><rect fill=\"#FEFECE\" filter=\"url(#f1)\" height=\"48\" style=\"stroke: #A80036; stroke-width: 1.5;\" width=\"100\" x=\"364.5\" y=\"116\"/><ellipse cx=\"379.5\" cy=\"132\" fill=\"#ADD1B2\" rx=\"11\" ry=\"11\" style=\"stroke: #A80036; stroke-width: 1.0;\"/><path d=\"M382.4688,137.6406 Q381.8906,137.9375 381.25,138.0859 Q380.6094,138.2344 379.9063,138.2344 Q377.4063,138.2344 376.0859,136.5859 Q374.7656,134.9375 374.7656,131.8125 Q374.7656,128.6875 376.0859,127.0313 Q377.4063,125.375 379.9063,125.375 Q380.6094,125.375 381.2578,125.5313 Q381.9063,125.6875 382.4688,125.9844 L382.4688,128.7031 Q381.8438,128.125 381.25,127.8516 Q380.6563,127.5781 380.0313,127.5781 Q378.6875,127.5781 378,128.6484 Q377.3125,129.7188 377.3125,131.8125 Q377.3125,133.9063 378,134.9766 Q378.6875,136.0469 380.0313,136.0469 Q380.6563,136.0469 381.25,135.7734 Q381.8438,135.5 382.4688,134.9219 L382.4688,137.6406 Z \"/><text fill=\"#000000\" font-family=\"sans-serif\" font-size=\"12\" lengthAdjust=\"spacingAndGlyphs\" textLength=\"68\" x=\"393.5\" y=\"136.1543\">Collections</text><line style=\"stroke: #A80036; stroke-width: 1.5;\" x1=\"365.5\" x2=\"463.5\" y1=\"148\" y2=\"148\"/><line style=\"stroke: #A80036; stroke-width: 1.5;\" x1=\"365.5\" x2=\"463.5\" y1=\"156\" y2=\"156\"/><path d=\"M120.5,76.024 C120.5,89.579 120.5,104.038 120.5,115.678 \" fill=\"none\" style=\"stroke: #A80036; stroke-width: 1.0;\"/><polygon fill=\"none\" points=\"113.5,76,120.5,56,127.5,76,113.5,76\" style=\"stroke: #A80036; stroke-width: 1.0;\"/><path d=\"M88.3699,179.702 C76.1277,194.448 62.5604,210.791 51.8613,223.678 \" fill=\"none\" style=\"stroke: #A80036; stroke-width: 1.0;\"/><polygon fill=\"none\" points=\"83.2443,174.917,101.4053,164,94.016,183.86,83.2443,174.917\" style=\"stroke: #A80036; stroke-width: 1.0;\"/><path d=\"M120.5,184.024 C120.5,197.579 120.5,212.038 120.5,223.678 \" fill=\"none\" style=\"stroke: #A80036; stroke-width: 1.0;\"/><polygon fill=\"none\" points=\"113.5,184,120.5,164,127.5,184,113.5,184\" style=\"stroke: #A80036; stroke-width: 1.0;\"/><path d=\"M120.5,292.0236 C120.5,305.5792 120.5,320.0381 120.5,331.6784 \" fill=\"none\" style=\"stroke: #A80036; stroke-width: 1.0; stroke-dasharray: 7.0,7.0;\"/><polygon fill=\"none\" points=\"113.5,292.0005,120.5,272,127.5,292.0004,113.5,292.0005\" style=\"stroke: #A80036; stroke-width: 1.0;\"/><path d=\"M155.404,178.753 C169.263,193.744 184.767,210.514 196.939,223.678 \" fill=\"none\" style=\"stroke: #A80036; stroke-width: 1.0;\"/><polygon fill=\"none\" points=\"150.202,183.438,141.765,164,160.482,173.934,150.202,183.438\" style=\"stroke: #A80036; stroke-width: 1.0;\"/><path d=\"M327.79,74.094 C320.34,88.196 312.263,103.484 305.821,115.678 \" fill=\"none\" style=\"stroke: #A80036; stroke-width: 1.0;\"/><polygon fill=\"none\" points=\"321.817,70.414,337.349,56,334.196,76.954,321.817,70.414\" style=\"stroke: #A80036; stroke-width: 1.0;\"/><path d=\"M374.11,73.134 C382.919,87.499 392.551,103.207 400.199,115.678 \" fill=\"none\" style=\"stroke: #A80036; stroke-width: 1.0;\"/><polygon fill=\"none\" points=\"368.092,76.709,363.604,56,380.026,69.391,368.092,76.709\" style=\"stroke: #A80036; stroke-width: 1.0;\"/></g></svg>"
      ],
      "text/plain": [
       "<IPython.core.display.SVG object>"
      ]
     },
     "execution_count": 2,
     "metadata": {},
     "output_type": "execute_result"
    }
   ],
   "source": [
    "%%plantuml\n",
    "@startuml\n",
    "interface Iterable\n",
    "interface Collection\n",
    "interface Set\n",
    "interface List\n",
    "interface Map\n",
    "Iterable <|-- Collection\n",
    "Collection <|-- Set\n",
    "Collection <|-- List\n",
    "List <|.. ArrayList\n",
    "Collection <|-- Queue\n",
    "class Object\n",
    "class Arrays\n",
    "class Collections\n",
    "Object <|-- Arrays\n",
    "Object <|-- Collections\n",
    "@enduml"
   ]
  },
  {
   "cell_type": "markdown",
   "metadata": {},
   "source": [
    "* 많이 사용하는 Collection 데이터구조의 특징\n",
    "\n",
    "데이터구조 | 종류 | 특징\n",
    "------|------|------\n",
    "ArrayList| ArrayList, LinkedList | ArrayList는 순서가 있어서, 정수 인덱스를 사용하여 읽거나, 수정할 수 있다.\n",
    "Queue | LinkedList | Queue는 FIFO 순위가 있어서 순서가 정해지면 수정할 수 없다.\n",
    "Set | HashSet, TreeSet, LinkedHashSet | Set은 순서가 없어 인덱스를 사용하지 못한다. 데이터중복이 없고 하나만 있다는 점에서 key와 같은 의미 (key로만 구성이 된 dictionary)\n",
    "Map | HashMap, TreeMap, LinkedHashMap | Map은 key-value가 1:1로 구성함. 특정 key가 어떤 값을 갖는지 사전식으로 저장.문자를 인덱스로 사용할 수 있다."
   ]
  },
  {
   "cell_type": "markdown",
   "metadata": {},
   "source": [
    "* Java Collections Framework (java.util)의 데이터 관련 기능\n",
    "    * 검색할 경우 Iterator를 사용할 수 있다 (Iterable을 상속하니까)\n",
    "    * 정렬하려면, comparable, comparator를 사용한다.\n",
    "\n",
    "데이터구조 | 입력 | 읽기 | 수정 | 삭제 | 크기\n",
    "-------|-------|-------|-------|-------|-------\n",
    "ArrayList | add() | get(index) | set(index, new value) | remove(index) | size()\n",
    "Queue | add(), offer() | peek() | 우선순위이기 때문에 remove and reinsert | poll(), remove() | size()\n",
    "Set | add() | 유일한 값이므로 순서대로 읽지 못함 | remove and insert | remove() | size()\n",
    "Map | put() | get(key), values() | put(key, new value) | remove(key) | size()"
   ]
  },
  {
   "cell_type": "markdown",
   "metadata": {},
   "source": [
    "* 다음은 Arrays와 Collection의 ArrayList, Queue, Map, Set을 소개한다."
   ]
  },
  {
   "cell_type": "markdown",
   "metadata": {},
   "source": [
    "### 6.3.1 Arrays\n",
    "\n",
    "* 데이터구조는 다른 데이터타잎과 마찬가지로, 선언부터 해야 한다.\n",
    "* 데이터구조의 선언은 여러 데이터를 저장하는 방식을 정하는 것이다.\n",
    "* 자료형 (data type)을 미리 선언하고, 필요한 메모리공간을 확보한다.\n",
    "* 데이터구조는 사용하기 전 선언을 해야 한다. 물론 변수도 선언을 한다.\n",
    "* Arrays는 인덱스 방식으로 사용한다.\n",
    "    ```\n",
    "    데이터타잎[] 변수명=new 데이터타잎[크기] 또는\n",
    "    데이터타잎[] 변수명=new 생성자\n",
    "    ```\n",
    "    \n",
    "    * 자료에 저장되는 데이터형을 명시한다.\n",
    "        ```\n",
    "        int[] arr;\n",
    "        ```\n",
    "        \n",
    "    * c방식은 int arr[]\n"
   ]
  },
  {
   "cell_type": "markdown",
   "metadata": {
    "collapsed": true
   },
   "source": [
    "* 선언 및 저장을 따로 하거나, 같이 할 수 있다."
   ]
  },
  {
   "cell_type": "code",
   "execution_count": 8,
   "metadata": {
    "collapsed": false
   },
   "outputs": [
    {
     "name": "stdout",
     "output_type": "stream",
     "text": [
      " int[] a=new int[4];\r\n",
      "|  Modified variable a of type int[] with initial value [I@1ce92674\r\n",
      "|    Update overwrote variable a\r\n",
      "\r\n"
     ]
    }
   ],
   "source": [
    "int[] a=new int[4];"
   ]
  },
  {
   "cell_type": "code",
   "execution_count": 10,
   "metadata": {
    "collapsed": false
   },
   "outputs": [
    {
     "name": "stdout",
     "output_type": "stream",
     "text": [
      " int[] a = {1, 2, 3, 4};\r\n",
      "|  Modified variable a of type int[] with initial value [I@6fd02e5\r\n",
      "|    Update overwrote variable a\r\n",
      "\r\n"
     ]
    }
   ],
   "source": [
    "int[] a = {1, 2, 3, 4};"
   ]
  },
  {
   "cell_type": "markdown",
   "metadata": {
    "collapsed": true
   },
   "source": [
    "* 저장된 갯수는 length로 알 수 있다. for문에 사용할 수 있다.\n",
    "* 인덱스를 이용하여 출력한다."
   ]
  },
  {
   "cell_type": "markdown",
   "metadata": {},
   "source": [
    "* 주의: 사람은 1부터 숫자를 세는 것이 보통이지만, 컴퓨터는 0부터 시작한다.\n",
    "* Arrays를 사용할 경우 대괄호에 들어가는 수를 인덱스 index라고 한다.\n",
    "* 인덱스는 정수 값. 0부터 시작!\n",
    "    * 음수는 사용하지 않는다.\n",
    "    * 소수도 사용하지 않는다.\n",
    "    * 일반적으로 문자를 사용하지 않는다."
   ]
  },
  {
   "cell_type": "code",
   "execution_count": 12,
   "metadata": {
    "collapsed": false
   },
   "outputs": [
    {
     "name": "stdout",
     "output_type": "stream",
     "text": [
      " for(int i=0;i<4;i++)\r\n",
      "     System.out.print(a[i]);\r\n",
      "1234\r\n"
     ]
    }
   ],
   "source": [
    "for(int i=0;i<4;i++)\n",
    "    System.out.print(a[i]);"
   ]
  },
  {
   "cell_type": "code",
   "execution_count": 13,
   "metadata": {
    "collapsed": false
   },
   "outputs": [
    {
     "name": "stdout",
     "output_type": "stream",
     "text": [
      " for(int i=0;i<a.length;i++)\r\n",
      "     System.out.print(a[i]);\r\n",
      "1234\r\n"
     ]
    }
   ],
   "source": [
    "for(int i=0;i<a.length;i++)\n",
    "    System.out.print(a[i]);"
   ]
  },
  {
   "cell_type": "markdown",
   "metadata": {},
   "source": [
    "* 인덱스가 저장된 범위를 넘어가면 오류가 발생한다. IndexOutOfBoundsException"
   ]
  },
  {
   "cell_type": "code",
   "execution_count": 14,
   "metadata": {
    "collapsed": false
   },
   "outputs": [
    {
     "name": "stdout",
     "output_type": "stream",
     "text": [
      " System.out.print(a[5]);\r\n",
      "|  java.lang.ArrayIndexOutOfBoundsException thrown: 5\r\n",
      "|        at (#26:1)\r\n",
      "\r\n"
     ]
    }
   ],
   "source": [
    "System.out.print(a[5]);"
   ]
  },
  {
   "cell_type": "markdown",
   "metadata": {
    "collapsed": true
   },
   "source": [
    "* 문자열 Arrays"
   ]
  },
  {
   "cell_type": "code",
   "execution_count": 15,
   "metadata": {
    "collapsed": false
   },
   "outputs": [
    {
     "name": "stdout",
     "output_type": "stream",
     "text": [
      " String[] strArr=new String[3];\r\n",
      "|  Added variable strArr of type String[] with initial value [Ljava.lang.String;@1e397ed7\r\n",
      "\r\n"
     ]
    }
   ],
   "source": [
    "String[] strArr=new String[3];"
   ]
  },
  {
   "cell_type": "code",
   "execution_count": 22,
   "metadata": {
    "collapsed": false
   },
   "outputs": [
    {
     "name": "stdout",
     "output_type": "stream",
     "text": [
      " String[] strArr={\"Seoul\", \"New York\", \"Tokyo\"};\r\n",
      "|  Added variable strArr of type String[] with initial value [Ljava.lang.String;@f6c48ac\r\n",
      "\r\n"
     ]
    }
   ],
   "source": [
    "String[] strArr={\"Seoul\", \"New York\", \"Tokyo\"};"
   ]
  },
  {
   "cell_type": "code",
   "execution_count": 23,
   "metadata": {
    "collapsed": false
   },
   "outputs": [
    {
     "name": "stdout",
     "output_type": "stream",
     "text": [
      " strArr.length\r\n",
      "|  Expression value is: 3\r\n",
      "|    assigned to temporary variable $2 of type int\r\n",
      "\r\n"
     ]
    }
   ],
   "source": [
    "strArr.length"
   ]
  },
  {
   "cell_type": "code",
   "execution_count": 26,
   "metadata": {
    "collapsed": false
   },
   "outputs": [
    {
     "name": "stdout",
     "output_type": "stream",
     "text": [
      " for(int i=0;i<strArr.length;i++) {\r\n",
      "     if(strArr[i].equals(\"Paris\")) {\r\n",
      "         System.out.printf(\"%d %s\\n\",i,strArr[i]);\r\n",
      "     } else {\r\n",
      "         System.out.printf(\"%d not found\\n\",i);\r\n",
      "     }\r\n",
      " }\r\n",
      "0 not found\r\n",
      "1 not found\r\n",
      "2 not found\r\n",
      "\r\n"
     ]
    }
   ],
   "source": [
    "for(int i=0;i<strArr.length;i++) {\n",
    "    if(strArr[i].equals(\"Paris\")) {\n",
    "        System.out.printf(\"%d %s\\n\",i,strArr[i]);\n",
    "    } else {\n",
    "        System.out.printf(\"%d not found\\n\",i);\n",
    "    }\n",
    "}"
   ]
  },
  {
   "cell_type": "code",
   "execution_count": 19,
   "metadata": {
    "collapsed": false,
    "scrolled": true
   },
   "outputs": [
    {
     "name": "stdout",
     "output_type": "stream",
     "text": [
      " for(String s:strArr) {\r\n",
      "     if(s.equals(\"Paris\")) {\r\n",
      "         System.out.println(s);\r\n",
      "     } else {\r\n",
      "         System.out.println(\"Not Found\");\r\n",
      "     }\r\n",
      " }\r\n",
      "Not Found\r\n",
      "Not Found\r\n",
      "Not Found\r\n",
      "\r\n"
     ]
    }
   ],
   "source": [
    "for(String s:strArr) {\n",
    "    if(s.equals(\"Paris\")) {\n",
    "        System.out.println(s);\n",
    "    } else {\n",
    "        System.out.println(\"Not Found\");\n",
    "    }\n",
    "}"
   ]
  },
  {
   "cell_type": "markdown",
   "metadata": {
    "collapsed": true
   },
   "source": [
    "* 다차원 배열\n",
    "    * 1차원, 2차원, n차원\n",
    "    * 차원의 반복이 필요하다."
   ]
  },
  {
   "cell_type": "code",
   "execution_count": null,
   "metadata": {
    "collapsed": true
   },
   "outputs": [],
   "source": [
    "int marks[][]={{50,60,55,67,70},{62,65,70,70,81},{72,66,77,80,69}};"
   ]
  },
  {
   "cell_type": "markdown",
   "metadata": {
    "collapsed": true
   },
   "source": [
    "* 연관배열 parallel array\n",
    "    * 서로 연관되어 있는 배열 2개를 말한다.\n",
    "    * 세계공항의 기온 [항공기상청 공항](http://amo.kma.go.kr/)\n",
    "\n",
    "공항 | 기온\n",
    "-------|-------\n",
    "도쿄국제공항 | 13\n",
    "베이징 수도 국제공항 | 06\n",
    "런던히드로공항 | 05\n",
    "시드니 공항 | 18\n",
    "존.F.케네디 | 17\n",
    "조모케냐타국제공항 | 17\n",
    "\n",
    "    * 공항명은 문자열, 온드는 정수이다. 서로 데이터 타잎이 다른 경우 사용할 수 있다.\n",
    "    * 연관배열은 동일한 인덱스를 가지고 연결될 수 있다.\n",
    "\n"
   ]
  },
  {
   "cell_type": "code",
   "execution_count": 6,
   "metadata": {
    "collapsed": false
   },
   "outputs": [
    {
     "name": "stdout",
     "output_type": "stream",
     "text": [
      " String[] names={\"동경국제공항\", \"베이징국제공항\",\"런던히드로공항\",\"시드니공항\",\"존.F.케네디\", \"조모케냐타국제공항\"} \r",
      ";\r\n",
      "|  Modified variable names of type String[] with initial value [Ljava.lang.String;@2f686d1f\r\n",
      "|    Update overwrote variable names\r\n",
      "\r\n",
      " int[] marks={13,6,5,18,17,17};\r\n",
      "|  Modified variable marks of type int[] with initial value [I@3fee9989\r\n",
      "|    Update overwrote variable marks\r\n",
      "\r\n"
     ]
    }
   ],
   "source": [
    "String[] names={\"동경국제공항\", \"베이징국제공항\",\"런던히드로공항\",\"시드니공항\",\"존.F.케네디\", \"조모케냐타국제공항\"};\n",
    "int[] marks={13,6,5,18,17,17};\n"
   ]
  },
  {
   "cell_type": "code",
   "execution_count": 8,
   "metadata": {
    "collapsed": false
   },
   "outputs": [
    {
     "name": "stdout",
     "output_type": "stream",
     "text": [
      " for(int i=0;i<names.length;i++)\r\n",
      "     System.out.printf(\"공항%s:\\t온도:%d\\n\",names[i],marks[i])\r\n",
      "공항동경국제공항:\t온도:13\r\n",
      "공항베이징국제공항:\t온도:6\r\n",
      "공항런던히드로공항:\t온도:5\r\n",
      "공항시드니공항:\t온도:18\r\n",
      "공항존.F.케네디:\t온도:17\r\n",
      "공항조모케냐타국제공항:\t온도:17\r\n",
      "\r\n"
     ]
    }
   ],
   "source": [
    "for(int i=0;i<names.length;i++)\n",
    "    System.out.printf(\"공항%s:\\t온도:%d\\n\",names[i],marks[i])"
   ]
  },
  {
   "cell_type": "markdown",
   "metadata": {},
   "source": [
    "### 6.3.2 ArrayList\n",
    "\n",
    "* 배열과 달리 크기를 정하지 않는다.\n",
    "* 다음과 같이 선언한다.\n",
    "\n",
    "    ```\n",
    "    import java.util.ArrayList;\n",
    "\n",
    "    ArrayList arr=new ArrayList();\n",
    "    ```\n",
    "\n",
    "    or\n",
    "\n",
    "    ```\n",
    "    java.util.ArrayList arr=new java.util.ArrayList();\n",
    "    ```\n",
    "\n",
    "* Arrays와 ArrayList의 비교\n",
    "\n",
    "ArrayList | Array\n",
    "-----|-----\n",
    "ArrayList<String> strList=ArrayList<String>();  | String[] strArr=new String[3];\n",
    "ArrayList는 크기를 변경할 수 있다 | Array는 크기 변경 불가\n",
    "ArrayList에는 Object만 넣을 수 있슴 | Array는 Primitives + Object모두 가능.\n",
    "ArrayList는 size(),  get(i) | Array는 length, [i] (인덱스방식) (p.323)"
   ]
  },
  {
   "cell_type": "markdown",
   "metadata": {},
   "source": [
    "* ArrayList에 데이터를 넣는다.\n",
    "    * 넣을 데이터 타잎을 정하지 않으면, 문제가 발생할 수 있다.\n",
    "* 크기는 size()로 알 수 있다.\n",
    "    ```\n",
    "    strList.add(\"Seoul\") -> error\n",
    "    strList.add(new String(\"Seoul\"))\n",
    "    ```\n",
    "\n",
    "* 데이터는 인덱스를 이용해서 get()한다."
   ]
  },
  {
   "cell_type": "code",
   "execution_count": 3,
   "metadata": {
    "collapsed": false
   },
   "outputs": [
    {
     "name": "stdout",
     "output_type": "stream",
     "text": [
      " ArrayList strList=new ArrayList();\r\n",
      "|  Added variable strList of type ArrayList with initial value []\r\n",
      "\r\n",
      " strList.add(new String(\"Seoul\"));\r\n",
      "|  Warning:\r\n",
      "|  unchecked call to add(E) as a member of the raw type java.util.ArrayList\r\n",
      "|  strList.add(new String(\"Seoul\"));\r\n",
      "|  ^------------------------------^\r\n",
      "|  Expression value is: true\r\n",
      "|    assigned to temporary variable $5 of type boolean\r\n",
      "\r\n",
      " strList.size();\r\n",
      "|  Expression value is: 1\r\n",
      "|    assigned to temporary variable $6 of type int\r\n",
      "\r\n"
     ]
    }
   ],
   "source": [
    "ArrayList strList=new ArrayList();\n",
    "strList.add(new String(\"Seoul\"));\n",
    "strList.size();"
   ]
  },
  {
   "cell_type": "code",
   "execution_count": 5,
   "metadata": {
    "collapsed": false
   },
   "outputs": [
    {
     "name": "stdout",
     "output_type": "stream",
     "text": [
      " strList.get(0);\r\n",
      "|  Expression value is: \"Seoul\"\r\n",
      "|    assigned to temporary variable $7 of type Object\r\n",
      "\r\n"
     ]
    }
   ],
   "source": [
    "strList.get(0);"
   ]
  },
  {
   "cell_type": "markdown",
   "metadata": {},
   "source": [
    "* Arrays 배열에 add()함수를 사용하기 (ArrayList를 흉내 내기)\n",
    "* Array를 add()에서 변경하고, 함수를 벗어나도 저장된 값을 유지한다."
   ]
  },
  {
   "cell_type": "code",
   "execution_count": 2,
   "metadata": {
    "collapsed": false
   },
   "outputs": [
    {
     "name": "stdout",
     "output_type": "stream",
     "text": [
      " String[] strArr=new String[3];\r\n",
      "|  Added variable strArr of type String[] with initial value [Ljava.lang.String;@3c0ecd4b\r\n",
      "\r\n",
      " int index=0;\r\n",
      "|  Added variable index of type int with initial value 0\r\n",
      "\r\n",
      " void add(String s) {\r\n",
      "     if(index<strArr.length) {\r\n",
      "         strArr[index]=s;\r\n",
      "         System.out.println(s+\" added\");\r\n",
      "         index++;\r\n",
      "     }\r\n",
      " }\r\n",
      "|  Added method add(String)\r\n",
      "\r\n",
      " \r\n",
      "\r\n",
      " add(new String(\"Seoul\"));\r\n",
      "Seoul added\r\n",
      "\r\n",
      " System.out.println(strArr)\r\n",
      "[Ljava.lang.String;@3c0ecd4b\r\n",
      "\r\n"
     ]
    }
   ],
   "source": [
    "String[] strArr=new String[3];\n",
    "int index=0;\n",
    "void add(String s) {\n",
    "    if(index<strArr.length) {\n",
    "        strArr[index]=s;\n",
    "        System.out.println(s+\" added\");\n",
    "        index++;\n",
    "    }\n",
    "}\n",
    "\n",
    "add(new String(\"Seoul\"));\n",
    "System.out.println(strArr)"
   ]
  },
  {
   "cell_type": "markdown",
   "metadata": {},
   "source": [
    "* ArrayList에 원시타잎을 넣으면 오류가 발생한다.\n",
    "* 사용할 데이터를 정할 수 있다. Generics라고 한다 (아래 설명)."
   ]
  },
  {
   "cell_type": "code",
   "execution_count": 4,
   "metadata": {
    "collapsed": false
   },
   "outputs": [
    {
     "name": "stdout",
     "output_type": "stream",
     "text": [
      " ArrayList<int> numlist=new ArrayList<int>();\r\n",
      "|  Error:\r\n",
      "|  unexpected type\r\n",
      "|    required: reference\r\n",
      "|    found:    int\r\n",
      "|  ArrayList<int> numlist=new ArrayList<int>();\r\n",
      "|            ^-^\r\n",
      "|  Error:\r\n",
      "|  unexpected type\r\n",
      "|    required: reference\r\n",
      "|    found:    int\r\n",
      "|  ArrayList<int> numlist=new ArrayList<int>();\r\n",
      "|                                       ^-^\r\n",
      "\r\n"
     ]
    }
   ],
   "source": [
    "ArrayList<int> numlist=new ArrayList<int>();"
   ]
  },
  {
   "cell_type": "markdown",
   "metadata": {},
   "source": [
    "* Autoboxing\n",
    "    * 원시타잎에서 해당클래스 (Wrapper class)로 자동 변환.\n",
    "    * 다이어몬드 표기 $\\lt$Integer$\\gt$로 선언하고, int를 넣어도 자동 변환한다."
   ]
  },
  {
   "cell_type": "code",
   "execution_count": 6,
   "metadata": {
    "collapsed": false
   },
   "outputs": [
    {
     "name": "stdout",
     "output_type": "stream",
     "text": [
      " ArrayList<Integer> numList=new ArrayList();\r\n",
      "|  Warning:\r\n",
      "|  unchecked conversion\r\n",
      "|    required: java.util.ArrayList<java.lang.Integer>\r\n",
      "|    found:    java.util.ArrayList\r\n",
      "|  ArrayList<Integer> numList=new ArrayList();\r\n",
      "|                             ^-------------^\r\n",
      "|  Modified variable numList of type ArrayList<Integer> with initial value [] this error is corrected: \r\n",
      "|      unchecked conversion\r\n",
      "|        required: java.util.ArrayList<java.lang.Integer>\r\n",
      "|        found:    java.util.ArrayList\r\n",
      "|      ArrayList<Integer> numList=new ArrayList();\r\n",
      "|                                 ^-------------^\r\n",
      "|    Update overwrote variable numList\r\n",
      "\r\n",
      " numList.add(1);\r\n",
      "|  Expression value is: true\r\n",
      "|    assigned to temporary variable $9 of type boolean\r\n",
      "\r\n"
     ]
    }
   ],
   "source": [
    "ArrayList<Integer> numList=new ArrayList();\n",
    "numList.add(1);"
   ]
  },
  {
   "cell_type": "markdown",
   "metadata": {
    "collapsed": true
   },
   "source": [
    "* 프로그래밍 원칙 \"program to an interface and not to implementations\"에 따라 부모 List를 선언할 수 있다.\n",
    "* 부모를 상속받는 하위클래스를 사용할 경우, 변경이 용이해 질 수 있다.\n",
    "\n",
    "선언을 넓게 | 선언을 좁게\n",
    "----------|----------\n",
    "List<E> list = new ArrayList<E>(); | ArrayList<E> list = new ArrayList<E>();\n",
    "Map<K, V> map = new HashMap<K, V>(); | HashMap<K, V> map = new HashMap<K, V>();\n"
   ]
  },
  {
   "cell_type": "code",
   "execution_count": 10,
   "metadata": {
    "collapsed": false
   },
   "outputs": [
    {
     "name": "stdout",
     "output_type": "stream",
     "text": [
      " List<Integer> list=new ArrayList();\r\n",
      "|  Warning:\r\n",
      "|  unchecked conversion\r\n",
      "|    required: java.util.List<java.lang.Integer>\r\n",
      "|    found:    java.util.ArrayList\r\n",
      "|  List<Integer> list=new ArrayList();\r\n",
      "|                     ^-------------^\r\n",
      "|  Modified variable list of type List<Integer> with initial value [] this error is corrected: \r\n",
      "|      unchecked conversion\r\n",
      "|        required: java.util.List<java.lang.Integer>\r\n",
      "|        found:    java.util.ArrayList\r\n",
      "|      List<Integer> list=new ArrayList();\r\n",
      "|                         ^-------------^\r\n",
      "|    Update overwrote variable list\r\n",
      "\r\n",
      " for(int i=0;i<10;i++)\r\n",
      "     list.add(i);\r\n",
      "\r\n",
      " System.out.println(list);\r\n",
      "[0, 1, 2, 3, 4, 5, 6, 7, 8, 9]\r\n",
      "\r\n"
     ]
    }
   ],
   "source": [
    "List<Integer> list=new ArrayList();\n",
    "for(int i=0;i<10;i++)\n",
    "    list.add(i);\n",
    "System.out.println(list);"
   ]
  },
  {
   "cell_type": "code",
   "execution_count": 29,
   "metadata": {
    "collapsed": false
   },
   "outputs": [
    {
     "name": "stdout",
     "output_type": "stream",
     "text": [
      " List<String> cities = new ArrayList<String>();\r\n",
      "|  Modified variable cities of type List<String> with initial value []\r\n",
      "|    Update overwrote variable cities\r\n",
      "\r\n",
      " cities.add(\"Seoul\");\r\n",
      "|  Expression value is: true\r\n",
      "|    assigned to temporary variable $9 of type boolean\r\n",
      "\r\n",
      " cities.add(\"NY\");\r\n",
      "|  Expression value is: true\r\n",
      "|    assigned to temporary variable $10 of type boolean\r\n",
      "\r\n",
      " cities.add(\"Sydney\");\r\n",
      "|  Expression value is: true\r\n",
      "|    assigned to temporary variable $11 of type boolean\r\n",
      "\r\n",
      " \r\n",
      "\r\n",
      " System.out.println(cities);\r\n",
      "[Seoul, NY, Sydney]\r\n",
      "\r\n"
     ]
    }
   ],
   "source": [
    "List<String> cities = new ArrayList<String>();\n",
    "cities.add(\"Seoul\");\n",
    "cities.add(\"NY\");\n",
    "cities.add(\"Sydney\");\n",
    "\n",
    "System.out.println(cities);"
   ]
  },
  {
   "cell_type": "markdown",
   "metadata": {
    "collapsed": true
   },
   "source": [
    "* Arrays로 변경할 수 있다."
   ]
  },
  {
   "cell_type": "code",
   "execution_count": 7,
   "metadata": {
    "collapsed": false
   },
   "outputs": [
    {
     "name": "stdout",
     "output_type": "stream",
     "text": [
      " Integer[] a={1,2,3};\r\n",
      "|  Added variable a of type Integer[] with initial value [Ljava.lang.Integer;@3f49dace\r\n",
      "\r\n",
      " List<Integer> aList=Arrays.asList(a);\r\n",
      "|  Added variable aList of type List<Integer> with initial value [1, 2, 3]\r\n",
      "\r\n"
     ]
    }
   ],
   "source": [
    "Integer[] a={1,2,3};\n",
    "List<Integer> aList=Arrays.asList(a);"
   ]
  },
  {
   "cell_type": "code",
   "execution_count": 8,
   "metadata": {
    "collapsed": false,
    "scrolled": true
   },
   "outputs": [
    {
     "name": "stdout",
     "output_type": "stream",
     "text": [
      " ArrayList arrList=new ArrayList(aList);\r\n",
      "|  Warning:\r\n",
      "|  unchecked call to ArrayList(java.util.Collection<? extends E>) as a member of the raw type java.util.ArrayList\r\n",
      "|  ArrayList arrList=new ArrayList(aList);\r\n",
      "|                    ^------------------^\r\n",
      "|  Added variable arrList of type ArrayList with initial value [1, 2, 3] this error is corrected: \r\n",
      "|      unchecked call to ArrayList(java.util.Collection<? extends E>) as a member of the raw type java.util.ArrayList\r\n",
      "|      ArrayList arrList=new ArrayList(aList);\r\n",
      "|                        ^------------------^\r\n",
      "\r\n"
     ]
    }
   ],
   "source": [
    "ArrayList arrList=new ArrayList(aList);"
   ]
  },
  {
   "cell_type": "markdown",
   "metadata": {
    "collapsed": true
   },
   "source": [
    "* 데이터 타잎을 정하지 않으면 오류가 발생한다 (Generics설명은 아래)"
   ]
  },
  {
   "cell_type": "code",
   "execution_count": 9,
   "metadata": {
    "collapsed": false,
    "scrolled": true
   },
   "outputs": [
    {
     "name": "stdout",
     "output_type": "stream",
     "text": [
      " for(Integer a:arrList)\r\n",
      "     System.out.print(a);\r\n",
      "|  Error:\r\n",
      "|  incompatible types: java.lang.Object cannot be converted to java.lang.Integer\r\n",
      "|  for(Integer a:arrList)\r\n",
      "|                ^-----^\r\n",
      "\r\n"
     ]
    }
   ],
   "source": [
    "for(Integer a:arrList)\n",
    "    System.out.print(a);"
   ]
  },
  {
   "cell_type": "code",
   "execution_count": 10,
   "metadata": {
    "collapsed": false,
    "scrolled": true
   },
   "outputs": [
    {
     "name": "stdout",
     "output_type": "stream",
     "text": [
      " ArrayList<Integer> arrList=new ArrayList(aList);\r\n",
      "|  Warning:\r\n",
      "|  unchecked call to ArrayList(java.util.Collection<? extends E>) as a member of the raw type java.util.ArrayList\r\n",
      "|  ArrayList<Integer> arrList=new ArrayList(aList);\r\n",
      "|                             ^------------------^\r\n",
      "|  Warning:\r\n",
      "|  unchecked conversion\r\n",
      "|    required: java.util.ArrayList<java.lang.Integer>\r\n",
      "|    found:    java.util.ArrayList\r\n",
      "|  ArrayList<Integer> arrList=new ArrayList(aList);\r\n",
      "|                             ^------------------^\r\n",
      "|  Modified variable arrList of type ArrayList<Integer> with initial value [1, 2, 3] these errors are corrected: \r\n",
      "|      unchecked call to ArrayList(java.util.Collection<? extends E>) as a member of the raw type java.util.ArrayList\r\n",
      "|      ArrayList<Integer> arrList=new ArrayList(aList);\r\n",
      "|                                 ^------------------^\r\n",
      "|      unchecked conversion\r\n",
      "|        required: java.util.ArrayList<java.lang.Integer>\r\n",
      "|        found:    java.util.ArrayList\r\n",
      "|      ArrayList<Integer> arrList=new ArrayList(aList);\r\n",
      "|                                 ^------------------^\r\n",
      "|    Update overwrote variable arrList\r\n",
      "\r\n"
     ]
    }
   ],
   "source": [
    "ArrayList<Integer> arrList=new ArrayList(aList);"
   ]
  },
  {
   "cell_type": "code",
   "execution_count": 11,
   "metadata": {
    "collapsed": false,
    "scrolled": true
   },
   "outputs": [
    {
     "name": "stdout",
     "output_type": "stream",
     "text": [
      " for(Integer a:arrList)\r\n",
      "     System.out.print(a);\r\n",
      "123\r\n"
     ]
    }
   ],
   "source": [
    "for(Integer a:arrList)\n",
    "    System.out.print(a);"
   ]
  },
  {
   "cell_type": "markdown",
   "metadata": {
    "collapsed": true
   },
   "source": [
    "* iterator를 사용할 수 있다.\n",
    "* next()는 Object를 반환한다. 캐스팅을 해야 한다."
   ]
  },
  {
   "cell_type": "code",
   "execution_count": 36,
   "metadata": {
    "collapsed": false
   },
   "outputs": [
    {
     "name": "stdout",
     "output_type": "stream",
     "text": [
      " Iterator iter = cities.iterator();\r\n",
      "|  Modified variable iter of type Iterator with initial value java.util.ArrayList$Itr@72d818d1\r\n",
      "|    Update overwrote variable iter\r\n",
      "\r\n",
      " while(iter.hasNext()) {\r\n",
      "     String s = (String)iter.next();\r\n",
      "     System.out.println(s);\r\n",
      " }\r\n",
      "Seoul\r\n",
      "NY\r\n",
      "Sydney\r\n",
      "\r\n"
     ]
    }
   ],
   "source": [
    "Iterator iter = cities.iterator();\n",
    "while(iter.hasNext()) {\n",
    "    String s = (String)iter.next();\n",
    "    System.out.println(s);\n",
    "}"
   ]
  },
  {
   "cell_type": "markdown",
   "metadata": {},
   "source": [
    "### 6.3.3 Queue\n",
    "\n",
    "* Queue는 인터페이스라서, 사용하려면 구현하는 클래스가 필요하다.\n",
    "* LinkedList로 구현한다 (singly linked list)\n",
    "* Stack은 Lifo, Queue는 Fifo\n",
    "* 들여다 보기\n",
    "    ```\n",
    "    E peek()\n",
    "    ```\n",
    "\n",
    "* 하나 꺼내기\n",
    "    ```\n",
    "    E poll()\n",
    "    ```"
   ]
  },
  {
   "cell_type": "code",
   "execution_count": 1,
   "metadata": {
    "collapsed": false
   },
   "outputs": [
    {
     "name": "stdout",
     "output_type": "stream",
     "text": [
      " import java.util.LinkedList;\r\n",
      "\r\n",
      " Queue cities = new LinkedList();\r\n",
      "|  Added variable cities of type Queue with initial value []\r\n",
      "\r\n",
      " \r\n",
      "\r\n",
      " cities.add(\"Seoul\");\r\n",
      "|  Warning:\r\n",
      "|  unchecked call to add(E) as a member of the raw type java.util.Queue\r\n",
      "|  cities.add(\"Seoul\");\r\n",
      "|  ^-----------------^\r\n",
      "|  Expression value is: true\r\n",
      "|    assigned to temporary variable $3 of type boolean\r\n",
      "\r\n",
      " cities.add(\"NY\");\r\n",
      "|  Warning:\r\n",
      "|  unchecked call to add(E) as a member of the raw type java.util.Queue\r\n",
      "|  cities.add(\"NY\");\r\n",
      "|  ^--------------^\r\n",
      "|  Expression value is: true\r\n",
      "|    assigned to temporary variable $4 of type boolean\r\n",
      "\r\n",
      " cities.add(\"Tokyo\");\r\n",
      "|  Warning:\r\n",
      "|  unchecked call to add(E) as a member of the raw type java.util.Queue\r\n",
      "|  cities.add(\"Tokyo\");\r\n",
      "|  ^-----------------^\r\n",
      "|  Expression value is: true\r\n",
      "|    assigned to temporary variable $5 of type boolean\r\n",
      "\r\n",
      " \r\n",
      "\r\n",
      " System.out.println(cities);\r\n",
      "[Seoul, NY, Tokyo]\r\n",
      "\r\n"
     ]
    }
   ],
   "source": [
    "import java.util.LinkedList;\n",
    "Queue cities = new LinkedList();\n",
    "\n",
    "cities.add(\"Seoul\");\n",
    "cities.add(\"NY\");\n",
    "cities.add(\"Tokyo\");\n",
    "\n",
    "System.out.println(cities);"
   ]
  },
  {
   "cell_type": "code",
   "execution_count": 4,
   "metadata": {
    "collapsed": false
   },
   "outputs": [
    {
     "name": "stdout",
     "output_type": "stream",
     "text": [
      " cities.peek();\r\n",
      "|  Expression value is: \"Seoul\"\r\n",
      "|    assigned to temporary variable $10 of type Object\r\n",
      "\r\n",
      " System.out.println(cities.poll());\r\n",
      "Seoul\r\n",
      "\r\n",
      " cities.peek();\r\n",
      "|  Expression value is: \"NY\"\r\n",
      "|    assigned to temporary variable $12 of type Object\r\n",
      "\r\n"
     ]
    }
   ],
   "source": [
    "cities.peek();\n",
    "System.out.println(cities.poll());\n",
    "cities.peek();\n"
   ]
  },
  {
   "cell_type": "markdown",
   "metadata": {},
   "source": [
    "### 6.3.4 Set\n",
    "\n",
    "* HashSet (or new TreeSet() will order the elements)\n",
    "* set은 데이터를 추가할 때는 add()를 사용한다.\n",
    "* 순서가 없기 때문에 add()를 사용한다.\n",
    "* set은 key값을 저장한다.\n",
    "* key값이란 unique, 중복 값이 존재하지 않는다."
   ]
  },
  {
   "cell_type": "code",
   "execution_count": 8,
   "metadata": {
    "collapsed": false
   },
   "outputs": [
    {
     "name": "stdout",
     "output_type": "stream",
     "text": [
      " Set<String> colors = new HashSet<String>(); // or new TreeSet() will order th \r",
      "e elements;\r\n",
      "|  Modified variable colors of type Set<String> with initial value []\r\n",
      "|    Update overwrote variable colors\r\n",
      "\r\n",
      " colors.add(\"red\");\r\n",
      "|  Expression value is: true\r\n",
      "|    assigned to temporary variable $35 of type boolean\r\n",
      "\r\n",
      " colors.add(\"green\");\r\n",
      "|  Expression value is: true\r\n",
      "|    assigned to temporary variable $36 of type boolean\r\n",
      "\r\n",
      " colors.add(\"red\");\r\n",
      "|  Expression value is: false\r\n",
      "|    assigned to temporary variable $37 of type boolean\r\n",
      "\r\n",
      " colors.add(\"blue\");\r\n",
      "|  Expression value is: true\r\n",
      "|    assigned to temporary variable $38 of type boolean\r\n",
      "\r\n",
      " colors.add(\"blue\");\r\n",
      "|  Expression value is: false\r\n",
      "|    assigned to temporary variable $39 of type boolean\r\n",
      "\r\n",
      " \r\n",
      "\r\n",
      " System.out.print(colors + \"-\"+colors.size());\r\n",
      "[red, green, blue]-3\r\n"
     ]
    }
   ],
   "source": [
    "Set<String> colors = new HashSet<String>();\n",
    "colors.add(\"red\");\n",
    "colors.add(\"green\");\n",
    "colors.add(\"red\");\n",
    "colors.add(\"blue\");\n",
    "colors.add(\"blue\");\n",
    "\n",
    "System.out.print(colors + \"-\"+colors.size());\n"
   ]
  },
  {
   "cell_type": "markdown",
   "metadata": {},
   "source": [
    "### 6.3.5 Map\n",
    "\n",
    "* 키와 값으로 구성한다.\n",
    "* json\n",
    "* 자바는 associative array를 지원하지 않는다. Map으로 흉내낼 수 있다."
   ]
  },
  {
   "cell_type": "markdown",
   "metadata": {},
   "source": [
    "HashMap | HashSet\n",
    "----------|----------\n",
    "Map interface | Set Interface\n",
    "key-value pair | objects\n",
    "put() | add()\n",
    "key 객체로 hash code생성 | 멤버 객체로 hash code 생성\n",
    "key가 있어서 빠름 | hash map보다 느림\n",
    "\n"
   ]
  },
  {
   "cell_type": "code",
   "execution_count": 39,
   "metadata": {
    "collapsed": false
   },
   "outputs": [
    {
     "name": "stdout",
     "output_type": "stream",
     "text": [
      " Map<String, String> m1 = new HashMap<String, String>(); // or new TreeMap() w \r",
      "ill order based on keys\r\n",
      "|  Added variable m1 of type Map<String, String> with initial value {}\r\n",
      "\r\n",
      " m1.put(\"Windows\", \"2000\");\r\n",
      "|  Expression value is: null\r\n",
      "|    assigned to temporary variable $38 of type String\r\n",
      "\r\n",
      " m1.put(\"Windows\", \"XP\");\r\n",
      "|  Expression value is: \"2000\"\r\n",
      "|    assigned to temporary variable $39 of type String\r\n",
      "\r\n",
      " m1.put(\"Language\", \"Java\");\r\n",
      "|  Expression value is: null\r\n",
      "|    assigned to temporary variable $40 of type String\r\n",
      "\r\n",
      " m1.put(\"Website\", \"programcreek.com\");\r\n",
      "|  Expression value is: null\r\n",
      "|    assigned to temporary variable $41 of type String\r\n",
      "\r\n",
      " System.out.println(\"Map Elements\");\r\n",
      "Map Elements\r\n",
      "\r\n",
      " System.out.print(\"\\t\" + m1);\r\n",
      "\t{Language=Java, Website=programcreek.com, Windows=XP}\r\n"
     ]
    }
   ],
   "source": [
    "Map<String, String> m1 = new HashMap<String, String>(); // or new TreeMap() will order based on keys\n",
    "m1.put(\"Windows\", \"2000\");\n",
    "m1.put(\"Windows\", \"XP\");\n",
    "m1.put(\"Language\", \"Java\");\n",
    "m1.put(\"Website\", \"programcreek.com\");\n",
    "System.out.println(\"Map Elements\");\n",
    "System.out.print(\"\\t\" + m1);"
   ]
  },
  {
   "cell_type": "markdown",
   "metadata": {},
   "source": [
    "## 6.4 Generic type\n",
    "\n",
    "* generic type은 데이터 타잎의 한 종류.\n",
    "* generic type에는 Box class를 사용해서 특정 데이터 타잎을 대신할 수 있다.\n",
    "* Box class의 변수는 한글자, 대문자로 표현한다.\n",
    "* 다이어몬드 <> 표기법을 사용해서 데이터 타잎을 생성할 수 있다.\n",
    "* Collection에도 generic을 사용할 수 있다.\n",
    "* Generics를 사용하면, 데이터 타잎을 제한해서 컴파일 오류를 줄일 수 있다.\n",
    "\n",
    "Box | 설명\n",
    "-----|-----\n",
    "E | Element\n",
    "K | Key\n",
    "N | Number\n",
    "T | Type\n",
    "V | Value\n"
   ]
  },
  {
   "cell_type": "code",
   "execution_count": 1,
   "metadata": {
    "collapsed": false,
    "scrolled": true
   },
   "outputs": [
    {
     "name": "stdout",
     "output_type": "stream",
     "text": [
      " <E> void printArr(E[] arr) {\r\n",
      "     for(E element:arr) {\r\n",
      "         System.out.printf(\"%s\\n\", element);\r\n",
      "     }\r\n",
      " }\r\n",
      "|  Added method printArr(E[])\r\n",
      "\r\n",
      " \r\n",
      "\r\n",
      " Integer[] numbers = {1, 2, 3};\r\n",
      "|  Added variable numbers of type Integer[] with initial value [Ljava.lang.Integer;@13deb50e\r\n",
      "\r\n",
      " Double[] temperatures = {11.2, 21.3, 31.4};\r\n",
      "|  Added variable temperatures of type Double[] with initial value [Ljava.lang.Double;@3c0ecd4b\r\n",
      "\r\n",
      " String[] cities={\"Seoul\",\"NY\",\"Tokyo\"};\r\n",
      "|  Added variable cities of type String[] with initial value [Ljava.lang.String;@5f341870\r\n",
      "\r\n",
      " \r\n",
      "\r\n",
      " printArr(numbers);\r\n",
      "1\r\n",
      "2\r\n",
      "3\r\n",
      "\r\n",
      " printArr(temperatures);\r\n",
      "11.2\r\n",
      "21.3\r\n",
      "31.4\r\n",
      "\r\n",
      " printArr(cities);\r\n",
      "Seoul\r\n",
      "NY\r\n",
      "Tokyo\r\n",
      "\r\n"
     ]
    }
   ],
   "source": [
    "<E> void printArr(E[] arr) {\n",
    "    for(E element:arr) {\n",
    "        System.out.printf(\"%s\\n\", element);\n",
    "    }\n",
    "}\n",
    "\n",
    "Integer[] numbers = {1, 2, 3};\n",
    "Double[] temperatures = {11.2, 21.3, 31.4};\n",
    "String[] cities={\"Seoul\",\"NY\",\"Tokyo\"};\n",
    "\n",
    "printArr(numbers);\n",
    "printArr(temperatures);\n",
    "printArr(cities);\n"
   ]
  },
  {
   "cell_type": "markdown",
   "metadata": {},
   "source": [
    "## 6.5 복사의 문제\n",
    "\n",
    "* shallow copy - 데이터 참조 값을 복사\n",
    "* deep copy - 데이터 값을 복사"
   ]
  },
  {
   "cell_type": "markdown",
   "metadata": {
    "collapsed": true
   },
   "source": [
    "* printArr() 테스트 용도"
   ]
  },
  {
   "cell_type": "code",
   "execution_count": null,
   "metadata": {
    "collapsed": true
   },
   "outputs": [],
   "source": [
    "void printArr(int[] n) {\n",
    "    for(int i:n)\n",
    "        System.out.print(i);\n",
    "}"
   ]
  },
  {
   "cell_type": "markdown",
   "metadata": {
    "collapsed": true
   },
   "source": [
    "* setArr0() 안에서 값을 변경하면 그 효과가 함수 밖에서도 지속된다."
   ]
  },
  {
   "cell_type": "code",
   "execution_count": 13,
   "metadata": {
    "collapsed": false
   },
   "outputs": [
    {
     "name": "stdout",
     "output_type": "stream",
     "text": [
      " int[] x={1,2,3};\r\n",
      "|  Modified variable x of type int[] with initial value [I@56ef9176\r\n",
      "|    Update overwrote variable x\r\n",
      "\r\n",
      " void setArr0(int[] n, int i) {\r\n",
      "     n[0]=i;\r\n",
      " }\r\n",
      "|  Modified method setArr0(int[],int)\r\n",
      "|    Update overwrote method setArr0(int[],int)\r\n",
      "\r\n",
      " setArr0(x,55);\r\n",
      "\r\n",
      " printArr(x);\r\n",
      "5523\r\n"
     ]
    }
   ],
   "source": [
    "int[] x={1,2,3};\n",
    "void setArr0(int[] n, int i) {\n",
    "    n[0]=i;\n",
    "}\n",
    "setArr0(x,55);\n",
    "printArr(x);"
   ]
  },
  {
   "cell_type": "markdown",
   "metadata": {
    "collapsed": true
   },
   "source": [
    "* 배열을 복사하면 값이 복사되는 것이 아니라, 'x'의 참조 값이 'y'로 복사된다.\n",
    "* 따라서 원본 'x'가 변경되면, 복사본 'y'도 변경된다."
   ]
  },
  {
   "cell_type": "code",
   "execution_count": 14,
   "metadata": {
    "collapsed": false
   },
   "outputs": [
    {
     "name": "stdout",
     "output_type": "stream",
     "text": [
      " int[] y;\r\n",
      "|  Modified variable y of type int[]\r\n",
      "|    Update overwrote variable y\r\n",
      "\r\n",
      " y=x;\r\n",
      "|  Variable y has been assigned the value [I@56ef9176\r\n",
      "\r\n",
      " printArr(y);\r\n",
      "5523\r\n",
      " setArr0(x,66);\r\n",
      "\r\n",
      " printArr(y);\r\n",
      "6623\r\n"
     ]
    }
   ],
   "source": [
    "int[] y;\n",
    "y=x;\n",
    "printArr(y);\n",
    "setArr0(x,66);\n",
    "printArr(y);"
   ]
  },
  {
   "cell_type": "markdown",
   "metadata": {},
   "source": [
    "## 데이터구조-1\n",
    "\n",
    "### 1-1. 배열 생성하기\n",
    "* 1 ~ 1000의 수 가운데 4로 나누어지고 5로 나누어지지 않는 수를 골라서 리스트에 넣기.\n",
    "\n",
    "### 1-2. 배열에 있는 수의 합계를 구하기\n",
    "\n",
    "* 1-1에서 만든 배열을 사용해서 합계를 구한다.\n",
    "* 1-2에서 반복문을 사용해서 문제를 푼다.\n",
    "\n",
    "* 프로그래밍 요소\n",
    "    * List\n",
    "    * 다른 구조와의 차이를 이해, 어느 경우 사용해야 좋은지 이해\n",
    "    * 함수는 재사용가능한 모듈인 합계만 만듦.\n",
    "* 주의\n",
    "    * 자료구조 형을 미리 선언해야 함.\n",
    "    * 배열요소를 입력할 경우, 없는 요소를 넣지 못함 (예: x=[]하면 비어 있는 List. 이 경우, x[0]=1하면 오류)"
   ]
  },
  {
   "cell_type": "code",
   "execution_count": 35,
   "metadata": {
    "collapsed": false
   },
   "outputs": [
    {
     "data": {
      "image/svg+xml": [
       "<svg height=\"893px\" style=\"width:274px;height:893px;\" version=\"1.1\" viewBox=\"0 0 274 893\" width=\"274px\" xmlns=\"http://www.w3.org/2000/svg\" xmlns:xlink=\"http://www.w3.org/1999/xlink\"><defs><filter height=\"300%\" id=\"f1\" width=\"300%\" x=\"-1\" y=\"-1\"><feGaussianBlur result=\"blurOut\" stdDeviation=\"2.0\"/><feColorMatrix in=\"blurOut\" result=\"blurOut2\" type=\"matrix\" values=\"0 0 0 0 0 0 0 0 0 0 0 0 0 0 0 0 0 0 .4 0\"/><feOffset dx=\"4.0\" dy=\"4.0\" in=\"blurOut2\" result=\"blurOut3\"/><feBlend in=\"SourceGraphic\" in2=\"blurOut3\" mode=\"normal\"/></filter></defs><g><ellipse cx=\"146\" cy=\"20\" fill=\"#000000\" filter=\"url(#f1)\" rx=\"10\" ry=\"10\" style=\"stroke: none; stroke-width: 1.0;\"/><rect fill=\"#FEFECE\" filter=\"url(#f1)\" height=\"34.1328\" rx=\"12.5\" ry=\"12.5\" style=\"stroke: #A80036; stroke-width: 1.5;\" width=\"62\" x=\"115\" y=\"50\"/><text fill=\"#000000\" font-family=\"sans-serif\" font-size=\"12\" lengthAdjust=\"spacingAndGlyphs\" textLength=\"42\" x=\"125\" y=\"71.6016\">set i=0</text><rect fill=\"#FEFECE\" filter=\"url(#f1)\" height=\"34.1328\" rx=\"12.5\" ry=\"12.5\" style=\"stroke: #A80036; stroke-width: 1.5;\" width=\"87\" x=\"102.5\" y=\"104.1328\"/><text fill=\"#000000\" font-family=\"sans-serif\" font-size=\"12\" lengthAdjust=\"spacingAndGlyphs\" textLength=\"67\" x=\"112.5\" y=\"125.7344\">initialize list</text><polygon fill=\"#FEFECE\" filter=\"url(#f1)\" points=\"81.5,202.2656,210.5,202.2656,222.5,214.2656,210.5,226.2656,81.5,226.2656,69.5,214.2656,81.5,202.2656\" style=\"stroke: #A80036; stroke-width: 1.5;\"/><text fill=\"#000000\" font-family=\"sans-serif\" font-size=\"11\" lengthAdjust=\"spacingAndGlyphs\" textLength=\"129\" x=\"81.5\" y=\"218.4229\">i divisable by 4, not by 5</text><rect fill=\"#FEFECE\" filter=\"url(#f1)\" height=\"34.1328\" rx=\"12.5\" ry=\"12.5\" style=\"stroke: #A80036; stroke-width: 1.5;\" width=\"99\" x=\"10\" y=\"236.2656\"/><text fill=\"#000000\" font-family=\"sans-serif\" font-size=\"12\" lengthAdjust=\"spacingAndGlyphs\" textLength=\"79\" x=\"20\" y=\"257.8672\">add i to array</text><polygon fill=\"#FEFECE\" filter=\"url(#f1)\" points=\"146,276.3984,158,288.3984,146,300.3984,134,288.3984,146,276.3984\" style=\"stroke: #A80036; stroke-width: 1.5;\"/><rect fill=\"#FEFECE\" filter=\"url(#f1)\" height=\"34.1328\" rx=\"12.5\" ry=\"12.5\" style=\"stroke: #A80036; stroke-width: 1.5;\" width=\"77\" x=\"107.5\" y=\"335.3984\"/><text fill=\"#000000\" font-family=\"sans-serif\" font-size=\"12\" lengthAdjust=\"spacingAndGlyphs\" textLength=\"57\" x=\"117.5\" y=\"357\">add 1 to i</text><polygon fill=\"#FEFECE\" filter=\"url(#f1)\" points=\"146,158.2656,158,170.2656,146,182.2656,134,170.2656,146,158.2656\" style=\"stroke: #A80036; stroke-width: 1.5;\"/><polygon fill=\"#FEFECE\" filter=\"url(#f1)\" points=\"129.5,389.5313,162.5,389.5313,174.5,401.5313,162.5,413.5313,129.5,413.5313,117.5,401.5313,129.5,389.5313\" style=\"stroke: #A80036; stroke-width: 1.5;\"/><text fill=\"#000000\" font-family=\"sans-serif\" font-size=\"11\" lengthAdjust=\"spacingAndGlyphs\" textLength=\"33\" x=\"129.5\" y=\"405.6885\">i&lt;101</text><rect fill=\"#FEFECE\" filter=\"url(#f1)\" height=\"34.1328\" rx=\"12.5\" ry=\"12.5\" style=\"stroke: #A80036; stroke-width: 1.5;\" width=\"67\" x=\"112.5\" y=\"433.5313\"/><text fill=\"#000000\" font-family=\"sans-serif\" font-size=\"12\" lengthAdjust=\"spacingAndGlyphs\" textLength=\"47\" x=\"122.5\" y=\"455.1328\">print list</text><rect fill=\"#FFFFFF\" filter=\"url(#f1)\" height=\"367.5313\" style=\"stroke: #000000; stroke-width: 2.0;\" width=\"173.5\" x=\"54.5\" y=\"478.6641\"/><path d=\"M87.5,479.6641 L87.5,485.6641 L77.5,495.6641 L54.5,495.6641 \" fill=\"#FFFFFF\" style=\"stroke: #000000; stroke-width: 2.0;\"/><text fill=\"#000000\" font-family=\"Serif\" font-size=\"14\" lengthAdjust=\"spacingAndGlyphs\" textLength=\"23\" x=\"57.5\" y=\"490.1641\">sum</text><rect fill=\"#FEFECE\" filter=\"url(#f1)\" height=\"34.1328\" rx=\"12.5\" ry=\"12.5\" style=\"stroke: #A80036; stroke-width: 1.5;\" width=\"62\" x=\"115\" y=\"512.6641\"/><text fill=\"#000000\" font-family=\"sans-serif\" font-size=\"12\" lengthAdjust=\"spacingAndGlyphs\" textLength=\"42\" x=\"125\" y=\"534.2656\">sum=0</text><rect fill=\"#FEFECE\" filter=\"url(#f1)\" height=\"34.1328\" rx=\"12.5\" ry=\"12.5\" style=\"stroke: #A80036; stroke-width: 1.5;\" width=\"144\" x=\"74\" y=\"581.7969\"/><text fill=\"#000000\" font-family=\"sans-serif\" font-size=\"12\" lengthAdjust=\"spacingAndGlyphs\" textLength=\"124\" x=\"84\" y=\"603.3984\">maxiter=length of list</text><rect fill=\"#FEFECE\" filter=\"url(#f1)\" height=\"34.1328\" rx=\"12.5\" ry=\"12.5\" style=\"stroke: #A80036; stroke-width: 1.5;\" width=\"115\" x=\"88.5\" y=\"698.9297\"/><text fill=\"#000000\" font-family=\"sans-serif\" font-size=\"12\" lengthAdjust=\"spacingAndGlyphs\" textLength=\"95\" x=\"98.5\" y=\"720.5313\">sum=sum+list[i]</text><polygon fill=\"#FEFECE\" filter=\"url(#f1)\" points=\"119.5,650.9297,172.5,650.9297,184.5,662.9297,172.5,674.9297,119.5,674.9297,107.5,662.9297,119.5,650.9297\" style=\"stroke: #A80036; stroke-width: 1.5;\"/><text fill=\"#000000\" font-family=\"sans-serif\" font-size=\"11\" lengthAdjust=\"spacingAndGlyphs\" textLength=\"53\" x=\"119.5\" y=\"667.0869\">i&lt;maxiter</text><rect fill=\"#FEFECE\" filter=\"url(#f1)\" height=\"34.1328\" rx=\"12.5\" ry=\"12.5\" style=\"stroke: #A80036; stroke-width: 1.5;\" width=\"75\" x=\"108.5\" y=\"792.0625\"/><text fill=\"#000000\" font-family=\"sans-serif\" font-size=\"12\" lengthAdjust=\"spacingAndGlyphs\" textLength=\"55\" x=\"118.5\" y=\"813.6641\">print sum</text><ellipse cx=\"146\" cy=\"876.1953\" fill=\"none\" filter=\"url(#f1)\" rx=\"10\" ry=\"10\" style=\"stroke: #000000; stroke-width: 1.0;\"/><ellipse cx=\"146.5\" cy=\"876.6953\" fill=\"#000000\" filter=\"url(#f1)\" rx=\"6\" ry=\"6\" style=\"stroke: none; stroke-width: 1.0;\"/><line style=\"stroke: #A80036; stroke-width: 1.5;\" x1=\"146\" x2=\"146\" y1=\"30\" y2=\"50\"/><polygon fill=\"#A80036\" points=\"142,40,146,50,150,40,146,44\" style=\"stroke: #A80036; stroke-width: 1.0;\"/><line style=\"stroke: #A80036; stroke-width: 1.5;\" x1=\"146\" x2=\"146\" y1=\"84.1328\" y2=\"104.1328\"/><polygon fill=\"#A80036\" points=\"142,94.1328,146,104.1328,150,94.1328,146,98.1328\" style=\"stroke: #A80036; stroke-width: 1.0;\"/><line style=\"stroke: #A80036; stroke-width: 1.5;\" x1=\"69.5\" x2=\"59.5\" y1=\"214.2656\" y2=\"214.2656\"/><line style=\"stroke: #A80036; stroke-width: 1.5;\" x1=\"59.5\" x2=\"59.5\" y1=\"214.2656\" y2=\"236.2656\"/><polygon fill=\"#A80036\" points=\"55.5,226.2656,59.5,236.2656,63.5,226.2656,59.5,230.2656\" style=\"stroke: #A80036; stroke-width: 1.0;\"/><line style=\"stroke: #A80036; stroke-width: 1.5;\" x1=\"222.5\" x2=\"232.5\" y1=\"214.2656\" y2=\"214.2656\"/><polygon fill=\"#A80036\" points=\"228.5,241.332,232.5,251.332,236.5,241.332,232.5,245.332\" style=\"stroke: #A80036; stroke-width: 1.5;\"/><line style=\"stroke: #A80036; stroke-width: 1.5;\" x1=\"232.5\" x2=\"232.5\" y1=\"214.2656\" y2=\"288.3984\"/><line style=\"stroke: #A80036; stroke-width: 1.5;\" x1=\"232.5\" x2=\"158\" y1=\"288.3984\" y2=\"288.3984\"/><polygon fill=\"#A80036\" points=\"168,284.3984,158,288.3984,168,292.3984,164,288.3984\" style=\"stroke: #A80036; stroke-width: 1.0;\"/><line style=\"stroke: #A80036; stroke-width: 1.5;\" x1=\"59.5\" x2=\"59.5\" y1=\"270.3984\" y2=\"288.3984\"/><line style=\"stroke: #A80036; stroke-width: 1.5;\" x1=\"59.5\" x2=\"134\" y1=\"288.3984\" y2=\"288.3984\"/><polygon fill=\"#A80036\" points=\"124,284.3984,134,288.3984,124,292.3984,128,288.3984\" style=\"stroke: #A80036; stroke-width: 1.0;\"/><line style=\"stroke: #A80036; stroke-width: 1.5;\" x1=\"146\" x2=\"146\" y1=\"300.3984\" y2=\"335.3984\"/><polygon fill=\"#A80036\" points=\"142,325.3984,146,335.3984,150,325.3984,146,329.3984\" style=\"stroke: #A80036; stroke-width: 1.0;\"/><line style=\"stroke: #A80036; stroke-width: 1.5;\" x1=\"146\" x2=\"146\" y1=\"182.2656\" y2=\"202.2656\"/><polygon fill=\"#A80036\" points=\"142,192.2656,146,202.2656,150,192.2656,146,196.2656\" style=\"stroke: #A80036; stroke-width: 1.0;\"/><line style=\"stroke: #A80036; stroke-width: 1.5;\" x1=\"174.5\" x2=\"269.5\" y1=\"401.5313\" y2=\"401.5313\"/><polygon fill=\"#A80036\" points=\"265.5,319.8984,269.5,309.8984,273.5,319.8984,269.5,315.8984\" style=\"stroke: #A80036; stroke-width: 1.5;\"/><line style=\"stroke: #A80036; stroke-width: 1.5;\" x1=\"269.5\" x2=\"269.5\" y1=\"170.2656\" y2=\"401.5313\"/><line style=\"stroke: #A80036; stroke-width: 1.5;\" x1=\"269.5\" x2=\"158\" y1=\"170.2656\" y2=\"170.2656\"/><polygon fill=\"#A80036\" points=\"168,166.2656,158,170.2656,168,174.2656,164,170.2656\" style=\"stroke: #A80036; stroke-width: 1.0;\"/><line style=\"stroke: #A80036; stroke-width: 1.5;\" x1=\"146\" x2=\"146\" y1=\"369.5313\" y2=\"389.5313\"/><polygon fill=\"#A80036\" points=\"142,379.5313,146,389.5313,150,379.5313,146,383.5313\" style=\"stroke: #A80036; stroke-width: 1.0;\"/><line style=\"stroke: #A80036; stroke-width: 1.5;\" x1=\"146\" x2=\"146\" y1=\"138.2656\" y2=\"158.2656\"/><polygon fill=\"#A80036\" points=\"142,148.2656,146,158.2656,150,148.2656,146,152.2656\" style=\"stroke: #A80036; stroke-width: 1.0;\"/><line style=\"stroke: #A80036; stroke-width: 1.5;\" x1=\"146\" x2=\"146\" y1=\"413.5313\" y2=\"433.5313\"/><polygon fill=\"#A80036\" points=\"142,423.5313,146,433.5313,150,423.5313,146,427.5313\" style=\"stroke: #A80036; stroke-width: 1.0;\"/><line style=\"stroke: #A80036; stroke-width: 1.5;\" x1=\"146\" x2=\"146\" y1=\"546.7969\" y2=\"581.7969\"/><polygon fill=\"#A80036\" points=\"142,571.7969,146,581.7969,150,571.7969,146,575.7969\" style=\"stroke: #A80036; stroke-width: 1.0;\"/><line style=\"stroke: #A80036; stroke-width: 1.5;\" x1=\"146\" x2=\"146\" y1=\"674.9297\" y2=\"698.9297\"/><polygon fill=\"#A80036\" points=\"142,688.9297,146,698.9297,150,688.9297,146,692.9297\" style=\"stroke: #A80036; stroke-width: 1.0;\"/><line style=\"stroke: #A80036; stroke-width: 1.5;\" x1=\"146\" x2=\"146\" y1=\"733.0625\" y2=\"745.0625\"/><line style=\"stroke: #A80036; stroke-width: 1.5;\" x1=\"146\" x2=\"215.5\" y1=\"745.0625\" y2=\"745.0625\"/><polygon fill=\"#A80036\" points=\"211.5,713.9961,215.5,703.9961,219.5,713.9961,215.5,709.9961\" style=\"stroke: #A80036; stroke-width: 1.5;\"/><line style=\"stroke: #A80036; stroke-width: 1.5;\" x1=\"215.5\" x2=\"215.5\" y1=\"662.9297\" y2=\"745.0625\"/><line style=\"stroke: #A80036; stroke-width: 1.5;\" x1=\"215.5\" x2=\"184.5\" y1=\"662.9297\" y2=\"662.9297\"/><polygon fill=\"#A80036\" points=\"194.5,658.9297,184.5,662.9297,194.5,666.9297,190.5,662.9297\" style=\"stroke: #A80036; stroke-width: 1.0;\"/><line style=\"stroke: #A80036; stroke-width: 1.5;\" x1=\"107.5\" x2=\"76.5\" y1=\"662.9297\" y2=\"662.9297\"/><polygon fill=\"#A80036\" points=\"72.5,699.9961,76.5,709.9961,80.5,699.9961,76.5,703.9961\" style=\"stroke: #A80036; stroke-width: 1.5;\"/><line style=\"stroke: #A80036; stroke-width: 1.5;\" x1=\"76.5\" x2=\"76.5\" y1=\"662.9297\" y2=\"757.0625\"/><line style=\"stroke: #A80036; stroke-width: 1.5;\" x1=\"76.5\" x2=\"146\" y1=\"757.0625\" y2=\"757.0625\"/><line style=\"stroke: #A80036; stroke-width: 1.5;\" x1=\"146\" x2=\"146\" y1=\"757.0625\" y2=\"792.0625\"/><polygon fill=\"#A80036\" points=\"142,782.0625,146,792.0625,150,782.0625,146,786.0625\" style=\"stroke: #A80036; stroke-width: 1.0;\"/><line style=\"stroke: #A80036; stroke-width: 1.5;\" x1=\"146\" x2=\"146\" y1=\"615.9297\" y2=\"650.9297\"/><polygon fill=\"#A80036\" points=\"142,640.9297,146,650.9297,150,640.9297,146,644.9297\" style=\"stroke: #A80036; stroke-width: 1.0;\"/><line style=\"stroke: #A80036; stroke-width: 1.5;\" x1=\"146\" x2=\"146\" y1=\"467.6641\" y2=\"512.6641\"/><polygon fill=\"#A80036\" points=\"142,502.6641,146,512.6641,150,502.6641,146,506.6641\" style=\"stroke: #A80036; stroke-width: 1.0;\"/><line style=\"stroke: #A80036; stroke-width: 1.5;\" x1=\"146\" x2=\"146\" y1=\"826.1953\" y2=\"866.1953\"/><polygon fill=\"#A80036\" points=\"142,856.1953,146,866.1953,150,856.1953,146,860.1953\" style=\"stroke: #A80036; stroke-width: 1.0;\"/></g></svg>"
      ],
      "text/plain": [
       "<IPython.core.display.SVG object>"
      ]
     },
     "execution_count": 35,
     "metadata": {},
     "output_type": "execute_result"
    }
   ],
   "source": [
    "%%plantuml\n",
    "@startuml\n",
    "start\n",
    ":set i=0;\n",
    ":initialize list;\n",
    "repeat\n",
    "if(i divisable by 4, not by 5)\n",
    ":add i to array;\n",
    "endif\n",
    ":add 1 to i;\n",
    "repeat while(i<101)\n",
    ":print list;\n",
    "partition sum {\n",
    "    :sum=0;\n",
    "    :maxiter=length of list;\n",
    "    while(i<maxiter)\n",
    "    :sum=sum+list[i];\n",
    "    endwhile\n",
    "    :print sum;\n",
    "}\n",
    "stop\n",
    "@enduml"
   ]
  },
  {
   "cell_type": "markdown",
   "metadata": {},
   "source": [
    "* 조건에 맞는 x를 출력할 수 있다.\n",
    "* 그러나 print 명령문을 사용하면 출력만 하고, 값이 사라진다. 저장되지 않는다."
   ]
  },
  {
   "cell_type": "markdown",
   "metadata": {},
   "source": [
    "* mylist를 이용해서 값을 저장한다.\n",
    "* mylist는 리스트 데이터구조를 사용한다. 따라서 add()를 사용하여 값을 추가할 수 있다."
   ]
  },
  {
   "cell_type": "markdown",
   "metadata": {},
   "source": [
    "* 클래스 Integer로 선언하고, 원시타잎 int를 넣었다. autoboxing 된다."
   ]
  },
  {
   "cell_type": "markdown",
   "metadata": {},
   "source": [
    "* for문을 사용해서 저장된 값의 합계를 구한다.\n",
    "* 합계를 구하려면, 데이터구조에 몇 개의 자료가 있는지 알아야 한다.\n",
    "* 몇 개를 출력하나\n",
    "    ```\n",
    "    for(int j=0;j<??;j++)\n",
    "    ```\n",
    "* len()함수를 사용하면 데이터를 가지고 있는지, 몇 개 있는지 알 수 있다."
   ]
  },
  {
   "cell_type": "markdown",
   "metadata": {},
   "source": [
    "* 데이터를 가지고 있는지 확인할 수 있다. isEmpty()는 false, 데이터를 가지고 있다는 의미이다."
   ]
  },
  {
   "cell_type": "markdown",
   "metadata": {},
   "source": [
    "### 함수로\n",
    "\n",
    "* 가능한 오류 생각해보기 - 배열이 비어 있는 경우\n",
    "* len 길이로 확인하지만 더 간단한 표현으로 가능 (아래 참조)\n",
    "* 합계만 함수로 만듦 - 어느 List나 입력하면 합계 출력하는 기능.\n",
    "\n",
    "* 함수로 만들어 보기\n",
    "    * 함수이름 sumList\n",
    "    * 입력 ArrayList 리스트 - 부모 List로 argument를 넘겨 주어도 된다.\n",
    "    * 출력 int 합계값\n",
    "        ```\n",
    "        int sumList(ArrayList<Integer> aList)\n",
    "        ```"
   ]
  },
  {
   "cell_type": "markdown",
   "metadata": {},
   "source": [
    "* 클래스로 만들어 보기\n",
    "    * class명은 Numbers로 한다.\n",
    "    * default 생성자를 사용한다.\n",
    "    * setNumbers()는 학습을 위해 그대로 사용한다.\n",
    "    * sumList()는 setNumbers()에서 저장한 mylist를 사용한다. argument가 사라진다."
   ]
  },
  {
   "cell_type": "code",
   "execution_count": 2,
   "metadata": {
    "collapsed": true
   },
   "outputs": [],
   "source": [
    "import iplantuml"
   ]
  },
  {
   "cell_type": "code",
   "execution_count": 3,
   "metadata": {
    "collapsed": false
   },
   "outputs": [
    {
     "data": {
      "image/svg+xml": [
       "<svg height=\"103px\" style=\"width:173px;height:103px;\" version=\"1.1\" viewBox=\"0 0 173 103\" width=\"173px\" xmlns=\"http://www.w3.org/2000/svg\" xmlns:xlink=\"http://www.w3.org/1999/xlink\"><defs><filter height=\"300%\" id=\"f1\" width=\"300%\" x=\"-1\" y=\"-1\"><feGaussianBlur result=\"blurOut\" stdDeviation=\"2.0\"/><feColorMatrix in=\"blurOut\" result=\"blurOut2\" type=\"matrix\" values=\"0 0 0 0 0 0 0 0 0 0 0 0 0 0 0 0 0 0 .4 0\"/><feOffset dx=\"4.0\" dy=\"4.0\" in=\"blurOut2\" result=\"blurOut3\"/><feBlend in=\"SourceGraphic\" in2=\"blurOut3\" mode=\"normal\"/></filter></defs><g><rect fill=\"#FEFECE\" filter=\"url(#f1)\" height=\"86.4141\" style=\"stroke: #A80036; stroke-width: 1.5;\" width=\"158\" x=\"6\" y=\"8\"/><ellipse cx=\"52.75\" cy=\"24\" fill=\"#ADD1B2\" rx=\"11\" ry=\"11\" style=\"stroke: #A80036; stroke-width: 1.0;\"/><path d=\"M55.7188,29.6406 Q55.1406,29.9375 54.5,30.0859 Q53.8594,30.2344 53.1563,30.2344 Q50.6563,30.2344 49.3359,28.5859 Q48.0156,26.9375 48.0156,23.8125 Q48.0156,20.6875 49.3359,19.0313 Q50.6563,17.375 53.1563,17.375 Q53.8594,17.375 54.5078,17.5313 Q55.1563,17.6875 55.7188,17.9844 L55.7188,20.7031 Q55.0938,20.125 54.5,19.8516 Q53.9063,19.5781 53.2813,19.5781 Q51.9375,19.5781 51.25,20.6484 Q50.5625,21.7188 50.5625,23.8125 Q50.5625,25.9063 51.25,26.9766 Q51.9375,28.0469 53.2813,28.0469 Q53.9063,28.0469 54.5,27.7734 Q55.0938,27.5 55.7188,26.9219 L55.7188,29.6406 Z \"/><text fill=\"#000000\" font-family=\"sans-serif\" font-size=\"12\" lengthAdjust=\"spacingAndGlyphs\" textLength=\"56\" x=\"73.25\" y=\"28.1543\">Numbers</text><line style=\"stroke: #A80036; stroke-width: 1.5;\" x1=\"7\" x2=\"163\" y1=\"40\" y2=\"40\"/><text fill=\"#000000\" font-family=\"sans-serif\" font-size=\"11\" lengthAdjust=\"spacingAndGlyphs\" textLength=\"146\" x=\"12\" y=\"54.2104\">mylist:ArrayList&lt;Integer&gt;</text><line style=\"stroke: #A80036; stroke-width: 1.5;\" x1=\"7\" x2=\"163\" y1=\"60.8047\" y2=\"60.8047\"/><ellipse cx=\"17\" cy=\"72.707\" fill=\"#84BE84\" rx=\"3\" ry=\"3\" style=\"stroke: #038048; stroke-width: 1.0;\"/><text fill=\"#000000\" font-family=\"sans-serif\" font-size=\"11\" lengthAdjust=\"spacingAndGlyphs\" textLength=\"105\" x=\"26\" y=\"75.0151\">setNumbers():void</text><ellipse cx=\"17\" cy=\"85.5117\" fill=\"#84BE84\" rx=\"3\" ry=\"3\" style=\"stroke: #038048; stroke-width: 1.0;\"/><text fill=\"#000000\" font-family=\"sans-serif\" font-size=\"11\" lengthAdjust=\"spacingAndGlyphs\" textLength=\"71\" x=\"26\" y=\"87.8198\">sumList():int</text></g></svg>"
      ],
      "text/plain": [
       "<IPython.core.display.SVG object>"
      ]
     },
     "execution_count": 3,
     "metadata": {},
     "output_type": "execute_result"
    }
   ],
   "source": [
    "%%plantuml\n",
    "@startuml\n",
    "class Numbers {\n",
    "    mylist:ArrayList<Integer>\n",
    "    +setNumbers():void\n",
    "    +sumList():int\n",
    "}\n",
    "@enduml"
   ]
  },
  {
   "cell_type": "markdown",
   "metadata": {},
   "source": [
    "## 데이터구조-2: 거북이 트랙을 저장하기\n",
    "\n",
    "* 자신이 만들었던 drawSquareAt()을 수정해서, 사각형의 모서리 위치를 저장한다.\n",
    "* 함수\n",
    "    * 함수명 drawSquareAtSave()\n",
    "    * 입력\n",
    "        * 그림의 크기 size\n",
    "        * 위치 pos\n",
    "    * 출력 tracks\n",
    "\n",
    "* 프로그래밍 요소\n",
    "    * 사각형 모서리는 4개의 점을 가진다. 용도에 맞는 데이터구조를 선택한다.\n",
    "    * 자료는 모든 위치(x,y)를 가지고 있는 목록이다\n",
    "\n",
    "* 생각해보기\n",
    "    * tracks를 전역으로 할지, 지역으로 할지\n",
    "    * list를 반환하면 출력을 어떻게 하는지?\n"
   ]
  },
  {
   "cell_type": "markdown",
   "metadata": {},
   "source": [
    "### 프로그래밍 순서\n",
    "\n",
    "* 앞서 drawSquareAt()을 복사한다.\n",
    "* 먼저 어떤 데이터구조를 사용할지 결정\n",
    "    * 순서가 있는 구조이다. 사각형은 그리는 순서가 있다.\n",
    "    * 걸어간 위치는 하나씩 저장하면서, 자료목록이 늘어난다.\n",
    "    * 리스트는 자료가 추가되면서, 고무줄처럼 늘어날 수 있다.\n",
    "\n",
    "* 움직이고 나서 저장하면 맞을까?\n",
    "    * 사각형은 거북이가 사각형 모서리에 멈추는 때 저장한다.\n",
    "    * for문 다음 (line 5) 움직이기 전 (lin6)\n",
    "    * 거북이 위치는 pos()함수로 위치를 읽는다.\n",
    "        ```\n",
    "        tracks.add(t1.pos())\n",
    "        ```"
   ]
  },
  {
   "cell_type": "markdown",
   "metadata": {
    "collapsed": true
   },
   "source": [
    "* 앞 장에서 만들었던 함수를 가져와, 거북이가 간 위치를 저장하도록 수정한다."
   ]
  },
  {
   "cell_type": "code",
   "execution_count": 12,
   "metadata": {
    "collapsed": false
   },
   "outputs": [
    {
     "name": "stdout",
     "output_type": "stream",
     "text": [
      " /classpath lib/aplu5.jar\r\n",
      "|  Path 'lib/aplu5.jar' added to classpath\r\n",
      "\r\n"
     ]
    }
   ],
   "source": [
    "/classpath lib/aplu5.jar"
   ]
  },
  {
   "cell_type": "code",
   "execution_count": null,
   "metadata": {
    "collapsed": true
   },
   "outputs": [],
   "source": [
    "import ch.aplu.turtle.*;\n",
    "Turtle t1=new Turtle();"
   ]
  },
  {
   "cell_type": "markdown",
   "metadata": {
    "collapsed": true
   },
   "source": [
    "* 경로의 특성\n",
    "    * 좌표는 x,y로 구성된다.\n",
    "    * 경로는 좌표의 집합이다. 그 크기가 가변적이다.\n",
    "* 2차원 ArrayList로 경로를 저장한다."
   ]
  },
  {
   "cell_type": "markdown",
   "metadata": {
    "collapsed": true
   },
   "source": [
    "* 좌표 x,y를 구한다."
   ]
  },
  {
   "cell_type": "code",
   "execution_count": 2,
   "metadata": {
    "collapsed": false
   },
   "outputs": [
    {
     "name": "stdout",
     "output_type": "stream",
     "text": [
      " Double[] pos=new Double[2];\r\n",
      "|  Modified variable pos of type Double[] with initial value [Ljava.lang.Double;@31ef45e3\r\n",
      "|    Update overwrote variable pos\r\n",
      "\r\n",
      " //pos[0]=t1.getX();\r\n",
      "\r\n",
      " pos[0]=10.0;\r\n",
      "|  Expression value is: 10.0\r\n",
      "|    assigned to temporary variable $3 of type Double\r\n",
      "\r\n",
      " //pos[1]=t1.getY();\r\n",
      "\r\n",
      " pos[1]=20.0;\r\n",
      "|  Expression value is: 20.0\r\n",
      "|    assigned to temporary variable $4 of type Double\r\n",
      "\r\n"
     ]
    }
   ],
   "source": [
    "Double[] pos=new Double[2];\n",
    "//pos[0]=t1.getX();\n",
    "pos[0]=10.0;\n",
    "//pos[1]=t1.getY();\n",
    "pos[1]=20.0;"
   ]
  },
  {
   "cell_type": "markdown",
   "metadata": {
    "collapsed": true
   },
   "source": [
    "* 위치를 2차원 배열 ArrayList에 저장한다."
   ]
  },
  {
   "cell_type": "code",
   "execution_count": 3,
   "metadata": {
    "collapsed": false
   },
   "outputs": [
    {
     "name": "stdout",
     "output_type": "stream",
     "text": [
      " ArrayList<Double[]> posArr = new ArrayList<Double[]>();\r\n",
      "|  Added variable posArr of type ArrayList<Double[]> with initial value []\r\n",
      "\r\n",
      " \r\n",
      "\r\n",
      " posArr.add(pos);\r\n",
      "|  Expression value is: true\r\n",
      "|    assigned to temporary variable $6 of type boolean\r\n",
      "\r\n",
      " for(Double[] d:posArr)\r\n",
      "     System.out.printf(\"(%.1f,%.1f)\", d[0],d[1]);\r\n",
      "(10.0,20.0)\r\n"
     ]
    }
   ],
   "source": [
    "ArrayList<Double[]> posArr = new ArrayList<Double[]>();\n",
    "\n",
    "posArr.add(pos);\n",
    "for(Double[] d:posArr)\n",
    "    System.out.printf(\"(%.1f,%.1f)\", d[0],d[1]);"
   ]
  },
  {
   "cell_type": "code",
   "execution_count": 34,
   "metadata": {
    "collapsed": false
   },
   "outputs": [
    {
     "name": "stdout",
     "output_type": "stream",
     "text": [
      " for (int i=0;i<4;i++) {\r\n",
      "     pos[0]=t1.getX();\r\n",
      "     pos[1]=t1.getY();\r\n",
      "     posArr.add(pos);\r\n",
      "     t1.forward(100);\r\n",
      "     t1.right(90);\r\n",
      " }\r\n",
      "\r\n"
     ]
    }
   ],
   "source": [
    "for (int i=0;i<4;i++) {\n",
    "    pos[0]=t1.getX();\n",
    "    pos[1]=t1.getY();\n",
    "    posArr.add(pos);\n",
    "    t1.forward(100);\n",
    "    t1.right(90);\n",
    "}"
   ]
  },
  {
   "cell_type": "markdown",
   "metadata": {},
   "source": [
    "## 데이터구조-3: 도형을 데이터구조로 저장하고 그리기\n",
    "\n",
    "### 3-1 도형을 데이터구조로 저장하기\n",
    "* 자신이 사각형 위치를 임의로 데이터구조로 생성해서 저장한다.\n",
    "\n",
    "### 3-1 저장한 데이터구조를 사용해서 사각형을 그린다.\n",
    "* 사각형 위치가 저장된 데이터구조를 함수에 전달한다.\n",
    "* 함수\n",
    "    * 함수명 drawSquareFrom()\n",
    "    * 입력 argument\n",
    "        * 4점을 가지고 있는 구조 tracks\n",
    "    * 출력 none\n",
    "\n",
    "* 프로그래밍 요소\n",
    "    * 데이터구조를 생성할 수 있다.\n",
    "    * 데이터구조를 함수에 전달할 수 있다.\n",
    "    * 전달하는 값의 의미가 컴퓨터에서는 특별하다.\n",
    "    * 값이 전달되는 것인지, 값이 저장된 메모리 값이 전달되는지 구별한다. 지금은 자세한 설명을 생략한다.\n",
    "    * 값이 전달되는 것을 (pass by value), 메모리 값이 전달되는 것과 (pass by reference)와 구별한다.\n"
   ]
  },
  {
   "cell_type": "code",
   "execution_count": 4,
   "metadata": {
    "collapsed": false
   },
   "outputs": [
    {
     "name": "stdout",
     "output_type": "stream",
     "text": [
      " double tracks[][]={{100,100},{200,100},{200,200},{100,200},{100,100}};\r\n",
      "|  Added variable tracks of type double[][] with initial value [[D@490ab905\r\n",
      "\r\n"
     ]
    }
   ],
   "source": [
    "double tracks[][]={{100,100},{200,100},{200,200},{100,200},{100,100}};"
   ]
  },
  {
   "cell_type": "markdown",
   "metadata": {},
   "source": [
    "* tracks는 2차원 데이터구조를 사용하고 있다.\n",
    "* tracks를 출력해보자\n",
    "    * 객체를 사용하면, 시작-끝이 변해도 사용할 수 있다는 장점이 있다.\n",
    "    * 2차원 구조를 출력하려면, for문도 2개가 필요하다.\n"
   ]
  },
  {
   "cell_type": "code",
   "execution_count": 7,
   "metadata": {
    "collapsed": false,
    "scrolled": true
   },
   "outputs": [
    {
     "name": "stdout",
     "output_type": "stream",
     "text": [
      " for(double[] t:tracks)\r\n",
      "     System.out.println(t)\r\n",
      "[D@27c20538\r\n",
      "[D@72d818d1\r\n",
      "[D@6e06451e\r\n",
      "[D@59494225\r\n",
      "[D@6e1567f1\r\n",
      "\r\n"
     ]
    }
   ],
   "source": [
    "for(double[] t:tracks)\n",
    "    System.out.println(t)"
   ]
  },
  {
   "cell_type": "markdown",
   "metadata": {},
   "source": [
    "* 함수로 만들어 본다."
   ]
  },
  {
   "cell_type": "markdown",
   "metadata": {},
   "source": [
    "## 데이터구조-4: 거북이가 걸어간 트랙을 다시 걷게 하기\n",
    "\n",
    "### 4-1 거북이가 걸어간 트랙을 저장하기\n",
    "\n",
    "* wk2에 작성했던 myMaze.py의 위치를 모두 저장한다.\n",
    "* 함수\n",
    "    * 함수명 saveTracks()\n",
    "    * 입력 none\n",
    "    * 출력 tracks\n",
    "\n",
    "\n",
    "### 4-2 트랙을 자동으로 걷게 하기\n",
    "\n",
    "* 앞서 저장된 트랙을 걷게 한다.\n",
    "* 함수 replayTracks(tracks)\n",
    "    * 입력 mytracks\n",
    "    * 출력\n",
    "\n",
    "* 저장된 위치가 몇 개인지 어떻게 알 수 있을까?\n",
    "    * tracks라는 데이터 구조명을 사용한다."
   ]
  },
  {
   "cell_type": "markdown",
   "metadata": {},
   "source": [
    "* 함수로 구성할 경우 컴퓨터가 실행하는 순서를 살펴보자"
   ]
  },
  {
   "cell_type": "markdown",
   "metadata": {
    "slideshow": {
     "slide_type": "slide"
    }
   },
   "source": [
    "## 데이터구조-5: 문자열에서 문자를 세기\n",
    "\n",
    "* 데이터구조-5-1: 문자열을 입력 받아서, 각 문자의 갯수를 세기\n",
    "* 데이터구조-5-2: 문자의 갯수를 막대그래프로 그리기\n",
    "* 프로그래밍 요소\n",
    "    * dict\n",
    "    * 왜 list보다 dict가 보다 적합한 구조일까? list는 key가 없고, 정수인덱스로 값을 읽어 오는 특성.\n",
    "* 주의:\n",
    "    * 존재하지 않는 key의 값을 넣을 경우: +1은 불가능. 없는 값에 '더하기 1'은 안 된다."
   ]
  },
  {
   "cell_type": "code",
   "execution_count": 4,
   "metadata": {
    "collapsed": false,
    "slideshow": {
     "slide_type": "slide"
    }
   },
   "outputs": [
    {
     "data": {
      "image/svg+xml": [
       "<svg height=\"553px\" style=\"width:324px;height:553px;\" version=\"1.1\" viewBox=\"0 0 324 553\" width=\"324px\" xmlns=\"http://www.w3.org/2000/svg\" xmlns:xlink=\"http://www.w3.org/1999/xlink\"><defs><filter height=\"300%\" id=\"f1\" width=\"300%\" x=\"-1\" y=\"-1\"><feGaussianBlur result=\"blurOut\" stdDeviation=\"2.0\"/><feColorMatrix in=\"blurOut\" result=\"blurOut2\" type=\"matrix\" values=\"0 0 0 0 0 0 0 0 0 0 0 0 0 0 0 0 0 0 .4 0\"/><feOffset dx=\"4.0\" dy=\"4.0\" in=\"blurOut2\" result=\"blurOut3\"/><feBlend in=\"SourceGraphic\" in2=\"blurOut3\" mode=\"normal\"/></filter></defs><g><ellipse cx=\"141.5\" cy=\"20\" fill=\"#000000\" filter=\"url(#f1)\" rx=\"10\" ry=\"10\" style=\"stroke: none; stroke-width: 1.0;\"/><rect fill=\"#FEFECE\" filter=\"url(#f1)\" height=\"34.1328\" rx=\"12.5\" ry=\"12.5\" style=\"stroke: #A80036; stroke-width: 1.5;\" width=\"209\" x=\"37\" y=\"50\"/><text fill=\"#000000\" font-family=\"sans-serif\" font-size=\"12\" lengthAdjust=\"spacingAndGlyphs\" textLength=\"189\" x=\"47\" y=\"71.6016\">set word='sangmyung university'</text><rect fill=\"#FEFECE\" filter=\"url(#f1)\" height=\"34.1328\" rx=\"12.5\" ry=\"12.5\" style=\"stroke: #A80036; stroke-width: 1.5;\" width=\"127\" x=\"78\" y=\"104.1328\"/><text fill=\"#000000\" font-family=\"sans-serif\" font-size=\"12\" lengthAdjust=\"spacingAndGlyphs\" textLength=\"107\" x=\"88\" y=\"125.7344\">initialize dictionary</text><rect fill=\"#FEFECE\" filter=\"url(#f1)\" height=\"34.1328\" rx=\"12.5\" ry=\"12.5\" style=\"stroke: #A80036; stroke-width: 1.5;\" width=\"49\" x=\"117\" y=\"158.2656\"/><text fill=\"#000000\" font-family=\"sans-serif\" font-size=\"12\" lengthAdjust=\"spacingAndGlyphs\" textLength=\"29\" x=\"127\" y=\"179.8672\">i = 0</text><rect fill=\"#FEFECE\" filter=\"url(#f1)\" height=\"34.1328\" rx=\"12.5\" ry=\"12.5\" style=\"stroke: #A80036; stroke-width: 1.5;\" width=\"149\" x=\"67\" y=\"256.3984\"/><text fill=\"#000000\" font-family=\"sans-serif\" font-size=\"12\" lengthAdjust=\"spacingAndGlyphs\" textLength=\"129\" x=\"77\" y=\"278\">get ith char from word</text><polygon fill=\"#FEFECE\" filter=\"url(#f1)\" points=\"70,310.5313,213,310.5313,225,322.5313,213,334.5313,70,334.5313,58,322.5313,70,310.5313\" style=\"stroke: #A80036; stroke-width: 1.5;\"/><text fill=\"#000000\" font-family=\"sans-serif\" font-size=\"11\" lengthAdjust=\"spacingAndGlyphs\" textLength=\"143\" x=\"70\" y=\"326.6885\">char does not exist in keys</text><rect fill=\"#FEFECE\" filter=\"url(#f1)\" height=\"34.1328\" rx=\"12.5\" ry=\"12.5\" style=\"stroke: #A80036; stroke-width: 1.5;\" width=\"76\" x=\"10\" y=\"344.5313\"/><text fill=\"#000000\" font-family=\"sans-serif\" font-size=\"12\" lengthAdjust=\"spacingAndGlyphs\" textLength=\"56\" x=\"20\" y=\"366.1328\">value = 1</text><rect fill=\"#FEFECE\" filter=\"url(#f1)\" height=\"34.1328\" rx=\"12.5\" ry=\"12.5\" style=\"stroke: #A80036; stroke-width: 1.5;\" width=\"124\" x=\"173\" y=\"344.5313\"/><text fill=\"#000000\" font-family=\"sans-serif\" font-size=\"12\" lengthAdjust=\"spacingAndGlyphs\" textLength=\"104\" x=\"183\" y=\"366.1328\">value = value + 1</text><polygon fill=\"#FEFECE\" filter=\"url(#f1)\" points=\"141.5,384.6641,153.5,396.6641,141.5,408.6641,129.5,396.6641,141.5,384.6641\" style=\"stroke: #A80036; stroke-width: 1.5;\"/><rect fill=\"#FEFECE\" filter=\"url(#f1)\" height=\"34.1328\" rx=\"12.5\" ry=\"12.5\" style=\"stroke: #A80036; stroke-width: 1.5;\" width=\"77\" x=\"103\" y=\"428.6641\"/><text fill=\"#000000\" font-family=\"sans-serif\" font-size=\"12\" lengthAdjust=\"spacingAndGlyphs\" textLength=\"57\" x=\"113\" y=\"450.2656\">add 1 to i</text><polygon fill=\"#FEFECE\" filter=\"url(#f1)\" points=\"141.5,212.3984,153.5,224.3984,141.5,236.3984,129.5,224.3984,141.5,212.3984\" style=\"stroke: #A80036; stroke-width: 1.5;\"/><polygon fill=\"#FEFECE\" filter=\"url(#f1)\" points=\"83,482.7969,200,482.7969,212,494.7969,200,506.7969,83,506.7969,71,494.7969,83,482.7969\" style=\"stroke: #A80036; stroke-width: 1.5;\"/><text fill=\"#000000\" font-family=\"sans-serif\" font-size=\"11\" lengthAdjust=\"spacingAndGlyphs\" textLength=\"117\" x=\"83\" y=\"498.9541\">i &lt;= last char of word</text><ellipse cx=\"141.5\" cy=\"536.7969\" fill=\"none\" filter=\"url(#f1)\" rx=\"10\" ry=\"10\" style=\"stroke: #000000; stroke-width: 1.0;\"/><ellipse cx=\"142\" cy=\"537.2969\" fill=\"#000000\" filter=\"url(#f1)\" rx=\"6\" ry=\"6\" style=\"stroke: none; stroke-width: 1.0;\"/><line style=\"stroke: #A80036; stroke-width: 1.5;\" x1=\"141.5\" x2=\"141.5\" y1=\"30\" y2=\"50\"/><polygon fill=\"#A80036\" points=\"137.5,40,141.5,50,145.5,40,141.5,44\" style=\"stroke: #A80036; stroke-width: 1.0;\"/><line style=\"stroke: #A80036; stroke-width: 1.5;\" x1=\"141.5\" x2=\"141.5\" y1=\"84.1328\" y2=\"104.1328\"/><polygon fill=\"#A80036\" points=\"137.5,94.1328,141.5,104.1328,145.5,94.1328,141.5,98.1328\" style=\"stroke: #A80036; stroke-width: 1.0;\"/><line style=\"stroke: #A80036; stroke-width: 1.5;\" x1=\"141.5\" x2=\"141.5\" y1=\"138.2656\" y2=\"158.2656\"/><polygon fill=\"#A80036\" points=\"137.5,148.2656,141.5,158.2656,145.5,148.2656,141.5,152.2656\" style=\"stroke: #A80036; stroke-width: 1.0;\"/><line style=\"stroke: #A80036; stroke-width: 1.5;\" x1=\"58\" x2=\"48\" y1=\"322.5313\" y2=\"322.5313\"/><line style=\"stroke: #A80036; stroke-width: 1.5;\" x1=\"48\" x2=\"48\" y1=\"322.5313\" y2=\"344.5313\"/><polygon fill=\"#A80036\" points=\"44,334.5313,48,344.5313,52,334.5313,48,338.5313\" style=\"stroke: #A80036; stroke-width: 1.0;\"/><line style=\"stroke: #A80036; stroke-width: 1.5;\" x1=\"225\" x2=\"235\" y1=\"322.5313\" y2=\"322.5313\"/><line style=\"stroke: #A80036; stroke-width: 1.5;\" x1=\"235\" x2=\"235\" y1=\"322.5313\" y2=\"344.5313\"/><polygon fill=\"#A80036\" points=\"231,334.5313,235,344.5313,239,334.5313,235,338.5313\" style=\"stroke: #A80036; stroke-width: 1.0;\"/><line style=\"stroke: #A80036; stroke-width: 1.5;\" x1=\"48\" x2=\"48\" y1=\"378.6641\" y2=\"396.6641\"/><line style=\"stroke: #A80036; stroke-width: 1.5;\" x1=\"48\" x2=\"129.5\" y1=\"396.6641\" y2=\"396.6641\"/><polygon fill=\"#A80036\" points=\"119.5,392.6641,129.5,396.6641,119.5,400.6641,123.5,396.6641\" style=\"stroke: #A80036; stroke-width: 1.0;\"/><line style=\"stroke: #A80036; stroke-width: 1.5;\" x1=\"235\" x2=\"235\" y1=\"378.6641\" y2=\"396.6641\"/><line style=\"stroke: #A80036; stroke-width: 1.5;\" x1=\"235\" x2=\"153.5\" y1=\"396.6641\" y2=\"396.6641\"/><polygon fill=\"#A80036\" points=\"163.5,392.6641,153.5,396.6641,163.5,400.6641,159.5,396.6641\" style=\"stroke: #A80036; stroke-width: 1.0;\"/><line style=\"stroke: #A80036; stroke-width: 1.5;\" x1=\"141.5\" x2=\"141.5\" y1=\"290.5313\" y2=\"310.5313\"/><polygon fill=\"#A80036\" points=\"137.5,300.5313,141.5,310.5313,145.5,300.5313,141.5,304.5313\" style=\"stroke: #A80036; stroke-width: 1.0;\"/><line style=\"stroke: #A80036; stroke-width: 1.5;\" x1=\"141.5\" x2=\"141.5\" y1=\"408.6641\" y2=\"428.6641\"/><polygon fill=\"#A80036\" points=\"137.5,418.6641,141.5,428.6641,145.5,418.6641,141.5,422.6641\" style=\"stroke: #A80036; stroke-width: 1.0;\"/><line style=\"stroke: #A80036; stroke-width: 1.5;\" x1=\"141.5\" x2=\"141.5\" y1=\"236.3984\" y2=\"256.3984\"/><polygon fill=\"#A80036\" points=\"137.5,246.3984,141.5,256.3984,145.5,246.3984,141.5,250.3984\" style=\"stroke: #A80036; stroke-width: 1.0;\"/><line style=\"stroke: #A80036; stroke-width: 1.5;\" x1=\"212\" x2=\"319\" y1=\"494.7969\" y2=\"494.7969\"/><polygon fill=\"#A80036\" points=\"315,393.5977,319,383.5977,323,393.5977,319,389.5977\" style=\"stroke: #A80036; stroke-width: 1.5;\"/><line style=\"stroke: #A80036; stroke-width: 1.5;\" x1=\"319\" x2=\"319\" y1=\"224.3984\" y2=\"494.7969\"/><line style=\"stroke: #A80036; stroke-width: 1.5;\" x1=\"319\" x2=\"153.5\" y1=\"224.3984\" y2=\"224.3984\"/><polygon fill=\"#A80036\" points=\"163.5,220.3984,153.5,224.3984,163.5,228.3984,159.5,224.3984\" style=\"stroke: #A80036; stroke-width: 1.0;\"/><line style=\"stroke: #A80036; stroke-width: 1.5;\" x1=\"141.5\" x2=\"141.5\" y1=\"462.7969\" y2=\"482.7969\"/><polygon fill=\"#A80036\" points=\"137.5,472.7969,141.5,482.7969,145.5,472.7969,141.5,476.7969\" style=\"stroke: #A80036; stroke-width: 1.0;\"/><line style=\"stroke: #A80036; stroke-width: 1.5;\" x1=\"141.5\" x2=\"141.5\" y1=\"192.3984\" y2=\"212.3984\"/><polygon fill=\"#A80036\" points=\"137.5,202.3984,141.5,212.3984,145.5,202.3984,141.5,206.3984\" style=\"stroke: #A80036; stroke-width: 1.0;\"/><line style=\"stroke: #A80036; stroke-width: 1.5;\" x1=\"141.5\" x2=\"141.5\" y1=\"506.7969\" y2=\"526.7969\"/><polygon fill=\"#A80036\" points=\"137.5,516.7969,141.5,526.7969,145.5,516.7969,141.5,520.7969\" style=\"stroke: #A80036; stroke-width: 1.0;\"/></g></svg>"
      ],
      "text/plain": [
       "<IPython.core.display.SVG object>"
      ]
     },
     "execution_count": 4,
     "metadata": {},
     "output_type": "execute_result"
    }
   ],
   "source": [
    "%%plantuml\n",
    "@startuml\n",
    "start\n",
    ":set word='sangmyung university';\n",
    ":initialize dictionary;\n",
    ":i = 0;\n",
    "repeat\n",
    ":get ith char from word;\n",
    "if (char does not exist in keys)\n",
    ":value = 1;\n",
    "else\n",
    ":value = value + 1;\n",
    "endif\n",
    ":add 1 to i;\n",
    "repeat while(i <= last char of word)\n",
    "stop\n",
    "@enduml"
   ]
  },
  {
   "cell_type": "markdown",
   "metadata": {
    "slideshow": {
     "slide_type": "slide"
    }
   },
   "source": [
    "### Dictionary\n",
    "\n",
    "* 선언을 하고 사용.\n",
    "* key-value로 구성.\n",
    "* 사용하는 경우\n",
    "    * 자료가 필드, 값으로 구성된 경우\n",
    "        * 예: 이름-'홍길동'. key -> '이름', value -> '홍길동'. key-value는 수, 문자 모두 가능.\n",
    "    * 자료의 갯수를 세는 경우\n",
    "        * 데이터에 각 단어가 발생하는 빈도수를 세는 경우"
   ]
  },
  {
   "cell_type": "markdown",
   "metadata": {
    "collapsed": true
   },
   "source": [
    "* generic hash map 만들기"
   ]
  },
  {
   "cell_type": "markdown",
   "metadata": {},
   "source": [
    "### 문자열의 문자 갯수 세기\n",
    "\n",
    "* 문자 갯수를 세려면, 문자열을 문자로 분리한다.\n",
    "* 분리한 문자열의 문자갯수를 세기\n",
    "    * 문자를 키, 문자의 갯수를 값으로 저장하기"
   ]
  },
  {
   "cell_type": "markdown",
   "metadata": {},
   "source": [
    "* Map의 키는 원시 타잎을 사용할 수 없다. 내부적으로 객체를 사용하여 키를 생성하기 때문이다."
   ]
  },
  {
   "cell_type": "markdown",
   "metadata": {},
   "source": [
    "* 키가 있으면 현재 키 값에 +1, 없으면 1\n",
    "    * map의 containsKey(키), map의 get(키)를 사용한다."
   ]
  },
  {
   "cell_type": "markdown",
   "metadata": {},
   "source": [
    "* java 8\n",
    "```\n",
    "Map<String, Integer> words = new HashMap<>();\n",
    "words.put(\"hello\", 3);\n",
    "words.put(\"world\", 4);\n",
    "words.computeIfPresent(\"hello\", (k, v) -> v + 1);\n",
    "System.out.println(words.get(\"hello\"));\n",
    "```"
   ]
  },
  {
   "cell_type": "markdown",
   "metadata": {},
   "source": [
    "## 데이터구조-6: 문자열 'hello' 뒤집기"
   ]
  },
  {
   "cell_type": "markdown",
   "metadata": {
    "slideshow": {
     "slide_type": "slide"
    }
   },
   "source": [
    "## 데이터구조-7: 문자열에 포함된 문자와 숫자의 개수 세기\n",
    "\n",
    "* 문자열을 입력받고, 그 문자열에 포함된 숫자와 문자의 갯수를 세기\n",
    "\n",
    "* 프로그래밍 요소\n",
    "    * 컴퓨터가 문자를 식별하는 방식을 이해한다.\n",
    "    * key, value를 사용하여 빈도를 계산할 수 있다.\n",
    "* 함수\n",
    "    * 함수명 countDigitsLetters\n",
    "    * 입력 문자열 word\n",
    "    * 출력 HashMap"
   ]
  },
  {
   "cell_type": "markdown",
   "metadata": {
    "slideshow": {
     "slide_type": "slide"
    }
   },
   "source": [
    "### isDigit의 구현원리\n",
    "\n",
    "* ascii문자표의 숫자 영역(48-57)에 있는지 확인\n",
    "* space 코드 값은 32"
   ]
  },
  {
   "cell_type": "markdown",
   "metadata": {},
   "source": [
    "* 대소문자의 변환원리는 32를 더하거나 뺀다.\n",
    "* 소문자 'a'의 코드 값은 97, 대문자 'A'는 65이다.\n",
    "* ord, chr함수를 이용하면 코드 값을 확인할 수 있다."
   ]
  },
  {
   "cell_type": "markdown",
   "metadata": {
    "collapsed": true
   },
   "source": [
    "* 갯수를 알 수 없으므로, Arrays를 사용하지 않는다."
   ]
  },
  {
   "cell_type": "markdown",
   "metadata": {
    "collapsed": true
   },
   "source": [
    "* ArrayList에는 원시 타잎을 넣지 못한다."
   ]
  },
  {
   "cell_type": "markdown",
   "metadata": {},
   "source": [
    "* isDigit대신 ascii 값으로 분별한다. \n",
    "    * 48~57 수 (0~9)\n",
    "    * 65~90 대문자\n",
    "    * 97~122 소문자"
   ]
  },
  {
   "cell_type": "markdown",
   "metadata": {},
   "source": [
    "* 데이터 형 변환에 주의한다.\n",
    "\n",
    "구분 | 설명 | 예제\n",
    "-----|-----|-----|\n",
    "String -> char | 문자열을 문자로 변환 | \"hello\".toCharArray()\n",
    "char -> String | 문자를 문자열로 변환 | Character.toString('a')\n",
    "char -> int | '수' 문자를 '수'로 변환 | Character.getNumericValue('1')\n",
    "int -> Integer | 원시타잎을 클래스로 변환 | autoboxing 1 -> Integer(1)\n"
   ]
  },
  {
   "cell_type": "markdown",
   "metadata": {},
   "source": [
    "### 대소문자 판별\n",
    "\n",
    "* 문자의 대소문자를 판별한다.\n",
    "* 문자는 single quotation을 사용한다."
   ]
  },
  {
   "cell_type": "markdown",
   "metadata": {
    "collapsed": true
   },
   "source": [
    "* 주의: 문자열을 문자로 변환하면 '수'도 문자가 된다.\n",
    "* 문자열에 수가 있는지 isDigit()을 사용한다."
   ]
  },
  {
   "cell_type": "markdown",
   "metadata": {
    "collapsed": true
   },
   "source": [
    "* 왜 소문자가 16개 - '수'까지 포함??"
   ]
  },
  {
   "cell_type": "markdown",
   "metadata": {
    "slideshow": {
     "slide_type": "slide"
    }
   },
   "source": [
    "## 데이터구조-8: 우리 집에 없지만 친구집에 있는 가전제품 찾기.\n",
    "\n",
    "* 7-1 한 집에만 있는 제품을 나열하기\n",
    "* 7-2 모든 집에 같이 있는 제품 나열하기\n",
    "* 7-3 어느 집에라도 있는 제품을 나열하기\n",
    "* 7-4 모든 가전제품의 갯수를 세어보기 (집이 2개이므로, 갯수는 1 또는 2)\n",
    "\n",
    "* 자신의 방과 친구의 방에 있는 가전제품을 10개 이상 나열하여 자료구조로 만들기 (영어).\n",
    "    * 우리 집: TV, phone, camera, fridger, mixer, audio, cd player, light, computer, notebook, recorder\n",
    "    * 친구 집: coffee machine, radio, camera, running machine, ramp, computer, notebook, recorder\n",
    "\n",
    "\n",
    "* 주의\n",
    "    * 많은 학생이 list, compare를 사용하려고 함. 한 요소를 선택하고 다른 모든 요소와 비교해서 존재 여부를 확인.\n",
    "    * 이 방식은 중첩for문과 같은 비교횟수\n",
    "    * set은 인덱스가 없다.\n",
    "    * set의 합집합은 중복을 제외한다. 가전제품의 합집합은 두 집에 있는 가전제품의 갯수를 2로 표현하지 않는다."
   ]
  },
  {
   "cell_type": "markdown",
   "metadata": {
    "collapsed": true
   },
   "source": [
    "* Set에 하나씩 추가하기"
   ]
  },
  {
   "cell_type": "markdown",
   "metadata": {
    "collapsed": true
   },
   "source": [
    "* Set에 데이터 일괄 넣기\n",
    "    * 객체를 만들어 넣는다."
   ]
  },
  {
   "cell_type": "markdown",
   "metadata": {},
   "source": [
    "* Set에 데이터를 넣으면 중복된 항목이 제거된다.\n",
    "* removeAll()은 차이를 구한다.\n",
    "* retainAll()"
   ]
  },
  {
   "cell_type": "markdown",
   "metadata": {
    "collapsed": true
   },
   "source": [
    "* 양쪽에 적어도 하나씩 이상 있는 모든 기기"
   ]
  },
  {
   "cell_type": "markdown",
   "metadata": {
    "collapsed": true
   },
   "source": [
    "* 기기의 댓수를 세기"
   ]
  },
  {
   "cell_type": "markdown",
   "metadata": {},
   "source": [
    "## 데이터구조-9: 서울 경복궁 입구에서 제일 가까운 지하철 역 찾기\n",
    "\n",
    "* 지도에서 경복궁과 인근 지하철역 5개의 위치를 수집한다.\n",
    "* 거리 계산을 하여, 경복궁과 제일 가까운 역을 찾는다.\n",
    "\n",
    "* 프로그래밍 요소\n",
    "    * Tuple 데이터구조를 사용할 수 있다.\n",
    "    * 2차원 구조를 사용할 수 있다.\n",
    "        * list of tuples\n",
    "    * 거리 계산을 할 수 있다.\n",
    "    * 최소 값을 구할 수 있다.\n",
    "\n",
    "    * 자료구조를 처리할 때 python 방식으로 1줄로 처리할 수 있다.\n",
    "    * tuple\n",
    "        * 왜 list가 아니고, tuple을 사용할까?"
   ]
  },
  {
   "cell_type": "markdown",
   "metadata": {
    "slideshow": {
     "slide_type": "slide"
    }
   },
   "source": [
    "* 위치를 저장하려면, 어떤 데이터구조를 사용할 것인가?\n",
    "    * 위치는 수정불가능(immutable)\n",
    "    * 튜플은 왜 수정불가능하게 만들었을까?\n",
    "        * 성능\n",
    "        * 변경이 될 경우, 문제가 될 수 있는 경우 (예: dict에서 key값이 변경되면 어떻게 되나)\n",
    "\n",
    "* 좌표 구하기 - 구글 지도 > 마우스 오른쪽 버튼 > 화면 하단에 좌표 표시됨.\n",
    "    * 경복궁 ky 37.575869, 126.976637\n",
    "    * 안국역 ak 37.576549, 126.985520\n",
    "    * 광화문역 kw 37.571618, 126.976551\n",
    "    * 독립문역 37.574577, 126.957754"
   ]
  },
  {
   "cell_type": "markdown",
   "metadata": {},
   "source": [
    "* 2차원 구조의 이해\n",
    "    * 시간표와 같이 가로축, 세로축이 있는 2차원 데이터 구조\n",
    "    * 가로축과 세로축 인덱스를 사용하여 자료를 읽을 수 있다."
   ]
  },
  {
   "cell_type": "markdown",
   "metadata": {},
   "source": [
    "* 반복문을 이용하여 세로축 출력하기\n",
    "* 반복문은 파이프에 자료를 넣고 꺼내는 것으로 이해\n",
    "    * 첫째 반복문은 위치객체가 파이프에 차례로 들어간다\n",
    "        * 따라서 위치 (X,Y)의 각 값을 얻기 위해서 인덱스를 사용해야 한다.\n",
    "    * 두번째는 인덱스가 파이프에 들어가 있다고 생각하면 된다.\n",
    "        * 따라서 인덱스를 중첩해서 자료를 꺼내온다."
   ]
  },
  {
   "cell_type": "markdown",
   "metadata": {},
   "source": [
    "* i를 loc으로 변수명을 변경해서 사용할 수 있고, 그러면 이해하기 쉽다."
   ]
  },
  {
   "cell_type": "markdown",
   "metadata": {},
   "source": [
    "* distance between two points\n",
    "* distance between two gps points\n",
    "    * longitude\n",
    "    * latitude\n",
    "    * altitude"
   ]
  },
  {
   "cell_type": "markdown",
   "metadata": {},
   "source": [
    "* convertion degrees and radians\n",
    "    * 위경도는 0~360 값을 가진다.\n",
    "    * radian은 0~2$\\pi$"
   ]
  },
  {
   "cell_type": "markdown",
   "metadata": {},
   "source": [
    "## 데이터구조-10: 서울에 거주하는 남녀의 구별 합계와 평균구하기\n",
    "\n",
    "* 9-1 남자의 합계와 평균을 구하기\n",
    "* 9-2 여자의 합계와 평균을 구하기.\n",
    "* 9-3 구별 인구합계를 구하고, 그래프 그리기\n",
    "\n",
    "* 프로그래밍 요소\n",
    "    * 2차원 데이터 구조를 사용할 수 있다.\n",
    "        * 데이터 구조의 차원만큼 반복문을 사용하는 것이 좋다. 1차원은 for문 1개, 2차원은 for문 중첩.\n",
    "    * 데이터구조에 저장된 값을 사용하여 연산을 할 수 있다.\n",
    "\n",
    "* 자료\n",
    "    * 서울 열린데이터 광장 http://data.seoul.go.kr에서 가져온 서울시 주민등록 구별/성별 통계 (2015년 3월 30일)\n",
    "\n",
    "```\n",
    "구    남     여\n",
    "종로구  74,425 76,326\n",
    "중구    61,164 61,636\n",
    "용산구  109,688 115,744\n",
    "성동구  144,796 146,776\n",
    "광진구  174,996 181,676\n",
    "동대문구        177,841 177,434\n",
    "중랑구  204,630 205,980\n",
    "성북구  223,373 232,245\n",
    "강북구  161,055 166,130\n",
    "도봉구  171,576 176,735\n",
    "노원구  279,169 293,772\n",
    "은평구  239,450 251,066\n",
    "서대문구        148,690 156,510\n",
    "마포구  182,977 196,992\n",
    "양천구  237,792 242,641\n",
    "강서구  283,869 296,762\n",
    "구로구  209,344 210,282\n",
    "금천구  118,965 114,441\n",
    "영등포구        186,503 186,856\n",
    "동작구  195,734 203,014\n",
    "관악구  254,381 249,472\n",
    "서초구  212,401 229,111\n",
    "강남구  271,654 295,354\n",
    "송파구  319,197 335,045\n",
    "강동구  229,829 231,671\n",
    "```\n"
   ]
  },
  {
   "cell_type": "code",
   "execution_count": 54,
   "metadata": {
    "collapsed": false
   },
   "outputs": [
    {
     "name": "stdout",
     "output_type": "stream",
     "text": [
      " int[][] a={{1,1},{2,2}};\r\n",
      "|  Added variable a of type int[][] with initial value [[I@f6c48ac\r\n",
      "\r\n"
     ]
    }
   ],
   "source": [
    "int[][] a={{1,1},{2,2}};"
   ]
  },
  {
   "cell_type": "code",
   "execution_count": 87,
   "metadata": {
    "collapsed": false
   },
   "outputs": [
    {
     "name": "stdout",
     "output_type": "stream",
     "text": [
      " int[][] data={\r\n",
      "     {74425, 76326},\r\n",
      "     {61164, 61636},\r\n",
      "     {109688, 115744},\r\n",
      "     {144796, 146776},\r\n",
      "     {174996, 181676},\r\n",
      "     {177841, 177434},\r\n",
      "     {204630, 205980},\r\n",
      "     {223373, 232245},\r\n",
      "     {161055, 166130},\r\n",
      "     {171576, 176735},\r\n",
      "     {279169, 293772},\r\n",
      "     {239450, 251066},\r\n",
      "     {148690, 156510},\r\n",
      "     {182977, 196992},\r\n",
      "     {237792, 242641},\r\n",
      "     {283869, 296762},\r\n",
      "     {209344, 210282},\r\n",
      "     {118965, 114441},\r\n",
      "     {186503, 186856},\r\n",
      "     {195734, 203014},\r\n",
      "     {254381, 249472},\r\n",
      "     {212401, 229111},\r\n",
      "     {271654, 295354},\r\n",
      "     {319197, 335045},\r\n",
      "     {229829, 231671}\r\n",
      " };\r\n",
      "|  Added variable data of type int[][] with initial value [[I@f6c48ac\r\n",
      "\r\n"
     ]
    }
   ],
   "source": [
    "int[][] data={\n",
    "    {74425, 76326},\n",
    "    {61164, 61636},\n",
    "    {109688, 115744},\n",
    "    {144796, 146776},\n",
    "    {174996, 181676},\n",
    "    {177841, 177434},\n",
    "    {204630, 205980},\n",
    "    {223373, 232245},\n",
    "    {161055, 166130},\n",
    "    {171576, 176735},\n",
    "    {279169, 293772},\n",
    "    {239450, 251066},\n",
    "    {148690, 156510},\n",
    "    {182977, 196992},\n",
    "    {237792, 242641},\n",
    "    {283869, 296762},\n",
    "    {209344, 210282},\n",
    "    {118965, 114441},\n",
    "    {186503, 186856},\n",
    "    {195734, 203014},\n",
    "    {254381, 249472},\n",
    "    {212401, 229111},\n",
    "    {271654, 295354},\n",
    "    {319197, 335045},\n",
    "    {229829, 231671}\n",
    "};"
   ]
  },
  {
   "cell_type": "markdown",
   "metadata": {
    "collapsed": true
   },
   "source": [
    "* 2차원 데이터의 출력"
   ]
  },
  {
   "cell_type": "markdown",
   "metadata": {
    "slideshow": {
     "slide_type": "slide"
    }
   },
   "source": [
    "## 데이터구조-11: 커피에 Milk를 추가하는 비율 구하기\n",
    "\n",
    "* 문자로 구성된 2차원 데이터구조의 빈도를 세어서, 백분율을 구하기\n",
    "* 데이터\n",
    "    ```\n",
    "    \"Coffee\",\"Water\",\"Milk\",\"Icecream\"\n",
    "    \"Espresso\",\"No\",\"No\",\"No\"\n",
    "    \"Long Black\",\"Yes\",\"No\",\"No\"\n",
    "    \"Flat White\",\"No\",\"Yes\",\"No\"\n",
    "    \"Cappuccino\",\"No\",\"Yes - Frothy\",\"No\"\n",
    "    \"Affogato\",\"No\",\"No\",\"Yes\"\n",
    "    ```\n",
    "* 프로그래밍 요소\n",
    "    * 2차원 list\n",
    "    * 문자열 데이터의 평균은 빈도를 세어서 한다. 숫자 데이터는 합계를 갯수로 나누어서 구하는 것과 다르다.\n"
   ]
  },
  {
   "cell_type": "code",
   "execution_count": 3,
   "metadata": {
    "collapsed": false,
    "slideshow": {
     "slide_type": "slide"
    }
   },
   "outputs": [
    {
     "name": "stdout",
     "output_type": "stream",
     "text": [
      " String[][] allData={\r\n",
      "     {\"Coffee\",\"Water\",\"Milk\",\"Icecream\"},\r\n",
      "     {\"Espresso\",\"No\",\"No\",\"No\"},\r\n",
      "     {\"Long Black\",\"Yes\",\"No\",\"No\"},\r\n",
      "     {\"Flat White\",\"No\",\"Yes\",\"No\"},\r\n",
      "     {\"Cappuccino\",\"No\",\"Yes\",\"No\"},\r\n",
      "     {\"Affogato\",\"No\",\"No\",\"Yes\"}\r\n",
      " }\r\n",
      "|  Added variable allData of type String[][] with initial value [[Ljava.lang.String;@f6c48ac\r\n",
      "\r\n"
     ]
    }
   ],
   "source": [
    "String[][] allData={\n",
    "    {\"Coffee\",\"Water\",\"Milk\",\"Icecream\"},\n",
    "    {\"Espresso\",\"No\",\"No\",\"No\"},\n",
    "    {\"Long Black\",\"Yes\",\"No\",\"No\"},\n",
    "    {\"Flat White\",\"No\",\"Yes\",\"No\"},\n",
    "    {\"Cappuccino\",\"No\",\"Yes\",\"No\"},\n",
    "    {\"Affogato\",\"No\",\"No\",\"Yes\"}\n",
    "}"
   ]
  },
  {
   "cell_type": "markdown",
   "metadata": {
    "collapsed": true
   },
   "source": [
    "* 행과 열의 2차원\n",
    "* index는 0, length는 1부터 시작한다."
   ]
  },
  {
   "cell_type": "markdown",
   "metadata": {},
   "source": [
    "### 데이터 첫 행은 명칭을 가지고 있으므로 제거한다.\n",
    "\n",
    "* 인덱스를 이용하여 전체 데이터에서 첫째행만 제거하고 저장한다.\n",
    "* for문을 이용해서 저장할 수 있다.\n",
    "    * enumerate를 사용하면 몇 번째 데이터인지 추적할 수 있다."
   ]
  },
  {
   "cell_type": "markdown",
   "metadata": {
    "collapsed": true
   },
   "source": [
    "* 제목이 들어간 1행을 제외하고 복사한다. 행의 수는 6-1로 한다."
   ]
  },
  {
   "cell_type": "markdown",
   "metadata": {},
   "source": [
    "### 2차원 데이터 slicing\n",
    "\n",
    "* 정수 인덱스로 값을 읽음.\n",
    "* 인덱스 ':' 로 시작과 끝을 지정할 수 있슴. 없으면 처음부터 끝까지 읽음.\n",
    "* 2번째 배열인덱스를 고정하면 열데이터를 읽을 수 있슴\n",
    "* 1번째 배열인덱스를 고정하면 행데이터를 읽을 수 있슴."
   ]
  },
  {
   "cell_type": "markdown",
   "metadata": {},
   "source": [
    "* 커피 종류를 출력해 본다.\n",
    "    * 커피 종류는 첫째 열에 있다. 출력하려면 인덱스 0을 사용한다."
   ]
  },
  {
   "cell_type": "markdown",
   "metadata": {},
   "source": [
    "* 커피에 우유를 넣는지 확인해 본다.\n",
    "    * 우유를 넣는지는 2번째 열에 있다. Yes는 우유를 넣고, No는 넣지 않는다."
   ]
  },
  {
   "cell_type": "markdown",
   "metadata": {},
   "source": [
    "* 우유를 넣는 커피를 출력해 본다."
   ]
  },
  {
   "cell_type": "code",
   "execution_count": null,
   "metadata": {
    "collapsed": true
   },
   "outputs": [],
   "source": [
    "* 커피에 밀크를 추가하는 비율 구하기"
   ]
  },
  {
   "cell_type": "markdown",
   "metadata": {
    "slideshow": {
     "slide_type": "slide"
    }
   },
   "source": [
    "## 데이터구조-12: 성적데이터의 평균/합계를 구하기.\n",
    "\n",
    "    Subject,scores\n",
    "    English, 100\n",
    "    Math, 80\n",
    "    English, 70\n",
    "    Math, 100\n",
    "    English, 82.3\n",
    "    Math, 98.5\n",
    "\n",
    "* 프로그래밍 요소\n",
    "    * list\n",
    "    * 숫자와 문자가 혼합된 리스트\n",
    "    * 다음 주제인 파일 처리를 연습으로 해 봄.\n",
    "    * parallel array???"
   ]
  },
  {
   "cell_type": "code",
   "execution_count": 19,
   "metadata": {
    "collapsed": false
   },
   "outputs": [
    {
     "data": {
      "image/svg+xml": [
       "<svg height=\"668px\" style=\"width:351px;height:668px;\" version=\"1.1\" viewBox=\"0 0 351 668\" width=\"351px\" xmlns=\"http://www.w3.org/2000/svg\" xmlns:xlink=\"http://www.w3.org/1999/xlink\"><defs><filter height=\"300%\" id=\"f1\" width=\"300%\" x=\"-1\" y=\"-1\"><feGaussianBlur result=\"blurOut\" stdDeviation=\"2.0\"/><feColorMatrix in=\"blurOut\" result=\"blurOut2\" type=\"matrix\" values=\"0 0 0 0 0 0 0 0 0 0 0 0 0 0 0 0 0 0 .4 0\"/><feOffset dx=\"4.0\" dy=\"4.0\" in=\"blurOut2\" result=\"blurOut3\"/><feBlend in=\"SourceGraphic\" in2=\"blurOut3\" mode=\"normal\"/></filter></defs><g><rect fill=\"#FEFECE\" filter=\"url(#f1)\" height=\"34.1328\" rx=\"12.5\" ry=\"12.5\" style=\"stroke: #A80036; stroke-width: 1.5;\" width=\"77\" x=\"141.5\" y=\"10\"/><text fill=\"#000000\" font-family=\"sans-serif\" font-size=\"12\" lengthAdjust=\"spacingAndGlyphs\" textLength=\"57\" x=\"151.5\" y=\"31.6016\">read data</text><rect fill=\"#FEFECE\" filter=\"url(#f1)\" height=\"34.1328\" rx=\"12.5\" ry=\"12.5\" style=\"stroke: #A80036; stroke-width: 1.5;\" width=\"83\" x=\"138.5\" y=\"64.1328\"/><text fill=\"#000000\" font-family=\"sans-serif\" font-size=\"12\" lengthAdjust=\"spacingAndGlyphs\" textLength=\"63\" x=\"148.5\" y=\"85.7344\">engSum=0</text><rect fill=\"#FEFECE\" filter=\"url(#f1)\" height=\"34.1328\" rx=\"12.5\" ry=\"12.5\" style=\"stroke: #A80036; stroke-width: 1.5;\" width=\"91\" x=\"134.5\" y=\"118.2656\"/><text fill=\"#000000\" font-family=\"sans-serif\" font-size=\"12\" lengthAdjust=\"spacingAndGlyphs\" textLength=\"71\" x=\"144.5\" y=\"139.8672\">mathSum=0</text><rect fill=\"#FEFECE\" filter=\"url(#f1)\" height=\"34.1328\" rx=\"12.5\" ry=\"12.5\" style=\"stroke: #A80036; stroke-width: 1.5;\" width=\"78\" x=\"141\" y=\"172.3984\"/><text fill=\"#000000\" font-family=\"sans-serif\" font-size=\"12\" lengthAdjust=\"spacingAndGlyphs\" textLength=\"58\" x=\"151\" y=\"194\">engCnt=0</text><rect fill=\"#FEFECE\" filter=\"url(#f1)\" height=\"34.1328\" rx=\"12.5\" ry=\"12.5\" style=\"stroke: #A80036; stroke-width: 1.5;\" width=\"86\" x=\"137\" y=\"226.5313\"/><text fill=\"#000000\" font-family=\"sans-serif\" font-size=\"12\" lengthAdjust=\"spacingAndGlyphs\" textLength=\"66\" x=\"147\" y=\"248.1328\">mathCnt=0</text><rect fill=\"#FEFECE\" filter=\"url(#f1)\" height=\"34.1328\" rx=\"12.5\" ry=\"12.5\" style=\"stroke: #A80036; stroke-width: 1.5;\" width=\"82\" x=\"139\" y=\"324.6641\"/><text fill=\"#000000\" font-family=\"sans-serif\" font-size=\"12\" lengthAdjust=\"spacingAndGlyphs\" textLength=\"62\" x=\"149\" y=\"346.2656\">read a line</text><polygon fill=\"#FEFECE\" filter=\"url(#f1)\" points=\"71.5,378.7969,95.5,378.7969,107.5,390.7969,95.5,402.7969,71.5,402.7969,59.5,390.7969,71.5,378.7969\" style=\"stroke: #A80036; stroke-width: 1.5;\"/><text fill=\"#000000\" font-family=\"sans-serif\" font-size=\"11\" lengthAdjust=\"spacingAndGlyphs\" textLength=\"20\" x=\"73.5\" y=\"394.9541\">eng</text><rect fill=\"#FEFECE\" filter=\"url(#f1)\" height=\"34.1328\" rx=\"12.5\" ry=\"12.5\" style=\"stroke: #A80036; stroke-width: 1.5;\" width=\"115\" x=\"26\" y=\"422.7969\"/><text fill=\"#000000\" font-family=\"sans-serif\" font-size=\"12\" lengthAdjust=\"spacingAndGlyphs\" textLength=\"95\" x=\"36\" y=\"444.3984\">engSum+=mark</text><rect fill=\"#FEFECE\" filter=\"url(#f1)\" height=\"34.1328\" rx=\"12.5\" ry=\"12.5\" style=\"stroke: #A80036; stroke-width: 1.5;\" width=\"88\" x=\"39.5\" y=\"476.9297\"/><text fill=\"#000000\" font-family=\"sans-serif\" font-size=\"12\" lengthAdjust=\"spacingAndGlyphs\" textLength=\"68\" x=\"49.5\" y=\"498.5313\">engCnt+=1</text><polygon fill=\"#FEFECE\" filter=\"url(#f1)\" points=\"209,378.7969,236,378.7969,248,390.7969,236,402.7969,209,402.7969,197,390.7969,209,378.7969\" style=\"stroke: #A80036; stroke-width: 1.5;\"/><text fill=\"#000000\" font-family=\"sans-serif\" font-size=\"11\" lengthAdjust=\"spacingAndGlyphs\" textLength=\"27\" x=\"209\" y=\"394.9541\">math</text><rect fill=\"#FEFECE\" filter=\"url(#f1)\" height=\"34.1328\" rx=\"12.5\" ry=\"12.5\" style=\"stroke: #A80036; stroke-width: 1.5;\" width=\"123\" x=\"161\" y=\"422.7969\"/><text fill=\"#000000\" font-family=\"sans-serif\" font-size=\"12\" lengthAdjust=\"spacingAndGlyphs\" textLength=\"103\" x=\"171\" y=\"444.3984\">mathSum+=mark</text><rect fill=\"#FEFECE\" filter=\"url(#f1)\" height=\"34.1328\" rx=\"12.5\" ry=\"12.5\" style=\"stroke: #A80036; stroke-width: 1.5;\" width=\"96\" x=\"174.5\" y=\"476.9297\"/><text fill=\"#000000\" font-family=\"sans-serif\" font-size=\"12\" lengthAdjust=\"spacingAndGlyphs\" textLength=\"76\" x=\"184.5\" y=\"498.5313\">mathCnt+=1</text><polygon fill=\"#FEFECE\" filter=\"url(#f1)\" points=\"161,280.6641,199,280.6641,211,292.6641,199,304.6641,161,304.6641,149,292.6641,161,280.6641\" style=\"stroke: #A80036; stroke-width: 1.5;\"/><text fill=\"#000000\" font-family=\"sans-serif\" font-size=\"11\" lengthAdjust=\"spacingAndGlyphs\" textLength=\"38\" x=\"161\" y=\"296.8213\">i&lt;=eof</text><rect fill=\"#FEFECE\" filter=\"url(#f1)\" height=\"34.1328\" rx=\"12.5\" ry=\"12.5\" style=\"stroke: #A80036; stroke-width: 1.5;\" width=\"153\" x=\"103.5\" y=\"573.0625\"/><text fill=\"#000000\" font-family=\"sans-serif\" font-size=\"12\" lengthAdjust=\"spacingAndGlyphs\" textLength=\"133\" x=\"113.5\" y=\"594.6641\">print engSum,mathSum</text><rect fill=\"#FEFECE\" filter=\"url(#f1)\" height=\"34.1328\" rx=\"12.5\" ry=\"12.5\" style=\"stroke: #A80036; stroke-width: 1.5;\" width=\"253\" x=\"53.5\" y=\"627.1953\"/><text fill=\"#000000\" font-family=\"sans-serif\" font-size=\"12\" lengthAdjust=\"spacingAndGlyphs\" textLength=\"233\" x=\"63.5\" y=\"648.7969\">print engSum/engCnt,mathSum/mathCnt</text><line style=\"stroke: #A80036; stroke-width: 1.5;\" x1=\"180\" x2=\"180\" y1=\"44.1328\" y2=\"64.1328\"/><polygon fill=\"#A80036\" points=\"176,54.1328,180,64.1328,184,54.1328,180,58.1328\" style=\"stroke: #A80036; stroke-width: 1.0;\"/><line style=\"stroke: #A80036; stroke-width: 1.5;\" x1=\"180\" x2=\"180\" y1=\"98.2656\" y2=\"118.2656\"/><polygon fill=\"#A80036\" points=\"176,108.2656,180,118.2656,184,108.2656,180,112.2656\" style=\"stroke: #A80036; stroke-width: 1.0;\"/><line style=\"stroke: #A80036; stroke-width: 1.5;\" x1=\"180\" x2=\"180\" y1=\"152.3984\" y2=\"172.3984\"/><polygon fill=\"#A80036\" points=\"176,162.3984,180,172.3984,184,162.3984,180,166.3984\" style=\"stroke: #A80036; stroke-width: 1.0;\"/><line style=\"stroke: #A80036; stroke-width: 1.5;\" x1=\"180\" x2=\"180\" y1=\"206.5313\" y2=\"226.5313\"/><polygon fill=\"#A80036\" points=\"176,216.5313,180,226.5313,184,216.5313,180,220.5313\" style=\"stroke: #A80036; stroke-width: 1.0;\"/><line style=\"stroke: #A80036; stroke-width: 1.5;\" x1=\"83.5\" x2=\"83.5\" y1=\"456.9297\" y2=\"476.9297\"/><polygon fill=\"#A80036\" points=\"79.5,466.9297,83.5,476.9297,87.5,466.9297,83.5,470.9297\" style=\"stroke: #A80036; stroke-width: 1.0;\"/><line style=\"stroke: #A80036; stroke-width: 1.5;\" x1=\"222.5\" x2=\"222.5\" y1=\"456.9297\" y2=\"476.9297\"/><polygon fill=\"#A80036\" points=\"218.5,466.9297,222.5,476.9297,226.5,466.9297,222.5,470.9297\" style=\"stroke: #A80036; stroke-width: 1.0;\"/><line style=\"stroke: #A80036; stroke-width: 1.5;\" x1=\"83.5\" x2=\"83.5\" y1=\"402.7969\" y2=\"422.7969\"/><polygon fill=\"#A80036\" points=\"79.5,412.7969,83.5,422.7969,87.5,412.7969,83.5,416.7969\" style=\"stroke: #A80036; stroke-width: 1.0;\"/><line style=\"stroke: #A80036; stroke-width: 1.5;\" x1=\"83.5\" x2=\"83.5\" y1=\"511.0625\" y2=\"531.0625\"/><polygon fill=\"#A80036\" points=\"79.5,521.0625,83.5,531.0625,87.5,521.0625,83.5,525.0625\" style=\"stroke: #A80036; stroke-width: 1.0;\"/><line style=\"stroke: #A80036; stroke-width: 1.5;\" x1=\"222.5\" x2=\"222.5\" y1=\"402.7969\" y2=\"422.7969\"/><polygon fill=\"#A80036\" points=\"218.5,412.7969,222.5,422.7969,226.5,412.7969,222.5,416.7969\" style=\"stroke: #A80036; stroke-width: 1.0;\"/><line style=\"stroke: #A80036; stroke-width: 1.5;\" x1=\"222.5\" x2=\"222.5\" y1=\"511.0625\" y2=\"531.0625\"/><polygon fill=\"#A80036\" points=\"218.5,521.0625,222.5,531.0625,226.5,521.0625,222.5,525.0625\" style=\"stroke: #A80036; stroke-width: 1.0;\"/><line style=\"stroke: #A80036; stroke-width: 1.5;\" x1=\"107.5\" x2=\"197\" y1=\"390.7969\" y2=\"390.7969\"/><polygon fill=\"#A80036\" points=\"187,386.7969,197,390.7969,187,394.7969,191,390.7969\" style=\"stroke: #A80036; stroke-width: 1.0;\"/><line style=\"stroke: #A80036; stroke-width: 1.5;\" x1=\"180\" x2=\"180\" y1=\"358.7969\" y2=\"363.7969\"/><line style=\"stroke: #A80036; stroke-width: 1.5;\" x1=\"180\" x2=\"83.5\" y1=\"363.7969\" y2=\"363.7969\"/><line style=\"stroke: #A80036; stroke-width: 1.5;\" x1=\"83.5\" x2=\"83.5\" y1=\"363.7969\" y2=\"378.7969\"/><polygon fill=\"#A80036\" points=\"79.5,368.7969,83.5,378.7969,87.5,368.7969,83.5,372.7969\" style=\"stroke: #A80036; stroke-width: 1.0;\"/><line style=\"stroke: #A80036; stroke-width: 1.5;\" x1=\"248\" x2=\"319\" y1=\"390.7969\" y2=\"390.7969\"/><line style=\"stroke: #A80036; stroke-width: 1.5;\" x1=\"319\" x2=\"319\" y1=\"390.7969\" y2=\"531.0625\"/><polygon fill=\"#A80036\" points=\"315,521.0625,319,531.0625,323,521.0625,319,525.0625\" style=\"stroke: #A80036; stroke-width: 1.0;\"/><line style=\"stroke: #A80036; stroke-width: 1.5;\" x1=\"83.5\" x2=\"319\" y1=\"531.0625\" y2=\"531.0625\"/><line style=\"stroke: #A80036; stroke-width: 1.5;\" x1=\"180\" x2=\"180\" y1=\"304.6641\" y2=\"324.6641\"/><polygon fill=\"#A80036\" points=\"176,314.6641,180,324.6641,184,314.6641,180,318.6641\" style=\"stroke: #A80036; stroke-width: 1.0;\"/><line style=\"stroke: #A80036; stroke-width: 1.5;\" x1=\"180\" x2=\"180\" y1=\"531.0625\" y2=\"541.0625\"/><line style=\"stroke: #A80036; stroke-width: 1.5;\" x1=\"180\" x2=\"346\" y1=\"541.0625\" y2=\"541.0625\"/><polygon fill=\"#A80036\" points=\"342,440.8633,346,430.8633,350,440.8633,346,436.8633\" style=\"stroke: #A80036; stroke-width: 1.5;\"/><line style=\"stroke: #A80036; stroke-width: 1.5;\" x1=\"346\" x2=\"346\" y1=\"292.6641\" y2=\"541.0625\"/><line style=\"stroke: #A80036; stroke-width: 1.5;\" x1=\"346\" x2=\"211\" y1=\"292.6641\" y2=\"292.6641\"/><polygon fill=\"#A80036\" points=\"221,288.6641,211,292.6641,221,296.6641,217,292.6641\" style=\"stroke: #A80036; stroke-width: 1.0;\"/><line style=\"stroke: #A80036; stroke-width: 1.5;\" x1=\"149\" x2=\"14\" y1=\"292.6641\" y2=\"292.6641\"/><polygon fill=\"#A80036\" points=\"10,426.8633,14,436.8633,18,426.8633,14,430.8633\" style=\"stroke: #A80036; stroke-width: 1.5;\"/><line style=\"stroke: #A80036; stroke-width: 1.5;\" x1=\"14\" x2=\"14\" y1=\"292.6641\" y2=\"553.0625\"/><line style=\"stroke: #A80036; stroke-width: 1.5;\" x1=\"14\" x2=\"180\" y1=\"553.0625\" y2=\"553.0625\"/><line style=\"stroke: #A80036; stroke-width: 1.5;\" x1=\"180\" x2=\"180\" y1=\"553.0625\" y2=\"573.0625\"/><polygon fill=\"#A80036\" points=\"176,563.0625,180,573.0625,184,563.0625,180,567.0625\" style=\"stroke: #A80036; stroke-width: 1.0;\"/><line style=\"stroke: #A80036; stroke-width: 1.5;\" x1=\"180\" x2=\"180\" y1=\"260.6641\" y2=\"280.6641\"/><polygon fill=\"#A80036\" points=\"176,270.6641,180,280.6641,184,270.6641,180,274.6641\" style=\"stroke: #A80036; stroke-width: 1.0;\"/><line style=\"stroke: #A80036; stroke-width: 1.5;\" x1=\"180\" x2=\"180\" y1=\"607.1953\" y2=\"627.1953\"/><polygon fill=\"#A80036\" points=\"176,617.1953,180,627.1953,184,617.1953,180,621.1953\" style=\"stroke: #A80036; stroke-width: 1.0;\"/></g></svg>"
      ],
      "text/plain": [
       "<IPython.core.display.SVG object>"
      ]
     },
     "execution_count": 19,
     "metadata": {},
     "output_type": "execute_result"
    }
   ],
   "source": [
    "%%plantuml\n",
    "@startuml\n",
    ":read data;\n",
    ":engSum=0;\n",
    ":mathSum=0;\n",
    ":engCnt=0;\n",
    ":mathCnt=0;\n",
    "while(i<=eof)\n",
    ":read a line;\n",
    "if (eng)\n",
    ":engSum+=mark;\n",
    ":engCnt+=1;\n",
    "elseif (math)\n",
    ":mathSum+=mark;\n",
    ":mathCnt+=1;\n",
    "endif\n",
    "endwhile\n",
    ":print engSum,mathSum;\n",
    ":print engSum/engCnt,mathSum/mathCnt;\n",
    "@enduml"
   ]
  },
  {
   "cell_type": "code",
   "execution_count": 2,
   "metadata": {
    "collapsed": false
   },
   "outputs": [],
   "source": [
    "marks=[\n",
    "    ['Subject','scores'],\n",
    "    ['English', 100],\n",
    "    ['Math', 80],\n",
    "    ['English', 70],\n",
    "    ['Math', 100],\n",
    "    ['English', 82.3],\n",
    "    ['Math', 98.5]\n",
    "]"
   ]
  },
  {
   "cell_type": "markdown",
   "metadata": {
    "slideshow": {
     "slide_type": "slide"
    }
   },
   "source": [
    "## 데이터구조-13: The Beatles 'Let it be' 가사에 자주 등장하는 단어는?\n",
    "\n",
    "* 20번 이상 사용된 단어를 출력\n",
    "* 프로그래밍 요소\n",
    "    * dict, list\n",
    "* 주의\n",
    "    * 텍스트 처리: 단어 -> 문장 -> 문서"
   ]
  },
  {
   "cell_type": "code",
   "execution_count": 92,
   "metadata": {
    "collapsed": false,
    "slideshow": {
     "slide_type": "slide"
    }
   },
   "outputs": [
    {
     "data": {
      "image/svg+xml": [
       "<svg height=\"917px\" style=\"width:339px;height:917px;\" version=\"1.1\" viewBox=\"0 0 339 917\" width=\"339px\" xmlns=\"http://www.w3.org/2000/svg\" xmlns:xlink=\"http://www.w3.org/1999/xlink\"><defs><filter height=\"300%\" id=\"f1\" width=\"300%\" x=\"-1\" y=\"-1\"><feGaussianBlur result=\"blurOut\" stdDeviation=\"2.0\"/><feColorMatrix in=\"blurOut\" result=\"blurOut2\" type=\"matrix\" values=\"0 0 0 0 0 0 0 0 0 0 0 0 0 0 0 0 0 0 .4 0\"/><feOffset dx=\"4.0\" dy=\"4.0\" in=\"blurOut2\" result=\"blurOut3\"/><feBlend in=\"SourceGraphic\" in2=\"blurOut3\" mode=\"normal\"/></filter></defs><g><ellipse cx=\"181\" cy=\"20\" fill=\"#000000\" filter=\"url(#f1)\" rx=\"10\" ry=\"10\" style=\"stroke: none; stroke-width: 1.0;\"/><rect fill=\"#FEFECE\" filter=\"url(#f1)\" height=\"34.1328\" rx=\"12.5\" ry=\"12.5\" style=\"stroke: #A80036; stroke-width: 1.5;\" width=\"67\" x=\"147.5\" y=\"50\"/><text fill=\"#000000\" font-family=\"sans-serif\" font-size=\"12\" lengthAdjust=\"spacingAndGlyphs\" textLength=\"47\" x=\"157.5\" y=\"71.6016\">set data</text><rect fill=\"#FEFECE\" filter=\"url(#f1)\" height=\"34.1328\" rx=\"12.5\" ry=\"12.5\" style=\"stroke: #A80036; stroke-width: 1.5;\" width=\"139\" x=\"111.5\" y=\"104.1328\"/><text fill=\"#000000\" font-family=\"sans-serif\" font-size=\"12\" lengthAdjust=\"spacingAndGlyphs\" textLength=\"119\" x=\"121.5\" y=\"125.7344\">initialize dictionary d</text><rect fill=\"#FEFECE\" filter=\"url(#f1)\" height=\"34.1328\" rx=\"12.5\" ry=\"12.5\" style=\"stroke: #A80036; stroke-width: 1.5;\" width=\"134\" x=\"114\" y=\"202.2656\"/><text fill=\"#000000\" font-family=\"sans-serif\" font-size=\"12\" lengthAdjust=\"spacingAndGlyphs\" textLength=\"114\" x=\"124\" y=\"223.8672\">get a line from data</text><rect fill=\"#FEFECE\" filter=\"url(#f1)\" height=\"34.1328\" rx=\"12.5\" ry=\"12.5\" style=\"stroke: #A80036; stroke-width: 1.5;\" width=\"132\" x=\"115\" y=\"300.3984\"/><text fill=\"#000000\" font-family=\"sans-serif\" font-size=\"12\" lengthAdjust=\"spacingAndGlyphs\" textLength=\"112\" x=\"125\" y=\"322\">split line into words</text><polygon fill=\"#FEFECE\" filter=\"url(#f1)\" points=\"153,354.5313,209,354.5313,221,366.5313,209,378.5313,153,378.5313,141,366.5313,153,354.5313\" style=\"stroke: #A80036; stroke-width: 1.5;\"/><text fill=\"#000000\" font-family=\"sans-serif\" font-size=\"11\" lengthAdjust=\"spacingAndGlyphs\" textLength=\"56\" x=\"153\" y=\"370.6885\">words in d</text><text fill=\"#000000\" font-family=\"sans-serif\" font-size=\"11\" lengthAdjust=\"spacingAndGlyphs\" textLength=\"18\" x=\"123\" y=\"364.2109\">yes</text><text fill=\"#000000\" font-family=\"sans-serif\" font-size=\"11\" lengthAdjust=\"spacingAndGlyphs\" textLength=\"14\" x=\"221\" y=\"364.2109\">no</text><rect fill=\"#FEFECE\" filter=\"url(#f1)\" height=\"34.1328\" rx=\"12.5\" ry=\"12.5\" style=\"stroke: #A80036; stroke-width: 1.5;\" width=\"87\" x=\"87.5\" y=\"388.5313\"/><text fill=\"#000000\" font-family=\"sans-serif\" font-size=\"12\" lengthAdjust=\"spacingAndGlyphs\" textLength=\"67\" x=\"97.5\" y=\"410.1328\">count += 1</text><rect fill=\"#FEFECE\" filter=\"url(#f1)\" height=\"34.1328\" rx=\"12.5\" ry=\"12.5\" style=\"stroke: #A80036; stroke-width: 1.5;\" width=\"73\" x=\"194.5\" y=\"388.5313\"/><text fill=\"#000000\" font-family=\"sans-serif\" font-size=\"12\" lengthAdjust=\"spacingAndGlyphs\" textLength=\"53\" x=\"204.5\" y=\"410.1328\">count =1</text><polygon fill=\"#FEFECE\" filter=\"url(#f1)\" points=\"181,428.6641,193,440.6641,181,452.6641,169,440.6641,181,428.6641\" style=\"stroke: #A80036; stroke-width: 1.5;\"/><polygon fill=\"#FEFECE\" filter=\"url(#f1)\" points=\"169,256.3984,193,256.3984,205,268.3984,193,280.3984,169,280.3984,157,268.3984,169,256.3984\" style=\"stroke: #A80036; stroke-width: 1.5;\"/><text fill=\"#000000\" font-family=\"sans-serif\" font-size=\"11\" lengthAdjust=\"spacingAndGlyphs\" textLength=\"19\" x=\"171.5\" y=\"272.5557\">line</text><polygon fill=\"#FEFECE\" filter=\"url(#f1)\" points=\"169,158.2656,193,158.2656,205,170.2656,193,182.2656,169,182.2656,157,170.2656,169,158.2656\" style=\"stroke: #A80036; stroke-width: 1.5;\"/><text fill=\"#000000\" font-family=\"sans-serif\" font-size=\"11\" lengthAdjust=\"spacingAndGlyphs\" textLength=\"23\" x=\"169.5\" y=\"174.4229\">data</text><rect fill=\"#FFFFFF\" filter=\"url(#f1)\" height=\"362.3984\" style=\"stroke: #000000; stroke-width: 2.0;\" width=\"322\" x=\"10\" y=\"507.6641\"/><path d=\"M76,508.6641 L76,514.6641 L66,524.6641 L10,524.6641 \" fill=\"#FFFFFF\" style=\"stroke: #000000; stroke-width: 2.0;\"/><text fill=\"#000000\" font-family=\"Serif\" font-size=\"14\" lengthAdjust=\"spacingAndGlyphs\" textLength=\"56\" x=\"13\" y=\"519.1641\">frequency</text><rect fill=\"#FEFECE\" filter=\"url(#f1)\" height=\"34.1328\" rx=\"12.5\" ry=\"12.5\" style=\"stroke: #A80036; stroke-width: 1.5;\" width=\"81\" x=\"140.5\" y=\"541.6641\"/><text fill=\"#000000\" font-family=\"sans-serif\" font-size=\"12\" lengthAdjust=\"spacingAndGlyphs\" textLength=\"61\" x=\"150.5\" y=\"563.2656\">set criteria</text><rect fill=\"#FEFECE\" filter=\"url(#f1)\" height=\"34.1328\" rx=\"12.5\" ry=\"12.5\" style=\"stroke: #A80036; stroke-width: 1.5;\" width=\"99\" x=\"131.5\" y=\"658.7969\"/><text fill=\"#000000\" font-family=\"sans-serif\" font-size=\"12\" lengthAdjust=\"spacingAndGlyphs\" textLength=\"79\" x=\"141.5\" y=\"680.3984\">get frequency</text><polygon fill=\"#FEFECE\" filter=\"url(#f1)\" points=\"99,727.9297,263,727.9297,275,739.9297,263,751.9297,99,751.9297,87,739.9297,99,727.9297\" style=\"stroke: #A80036; stroke-width: 1.5;\"/><text fill=\"#000000\" font-family=\"sans-serif\" font-size=\"11\" lengthAdjust=\"spacingAndGlyphs\" textLength=\"164\" x=\"99\" y=\"744.0869\">frequency greater than criteria</text><rect fill=\"#FEFECE\" filter=\"url(#f1)\" height=\"34.1328\" rx=\"12.5\" ry=\"12.5\" style=\"stroke: #A80036; stroke-width: 1.5;\" width=\"46\" x=\"54\" y=\"761.9297\"/><text fill=\"#000000\" font-family=\"sans-serif\" font-size=\"12\" lengthAdjust=\"spacingAndGlyphs\" textLength=\"26\" x=\"64\" y=\"783.5313\">save</text><polygon fill=\"#FEFECE\" filter=\"url(#f1)\" points=\"181,802.0625,193,814.0625,181,826.0625,169,814.0625,181,802.0625\" style=\"stroke: #A80036; stroke-width: 1.5;\"/><polygon fill=\"#FEFECE\" filter=\"url(#f1)\" points=\"169,610.7969,193,610.7969,205,622.7969,193,634.7969,169,634.7969,157,622.7969,169,610.7969\" style=\"stroke: #A80036; stroke-width: 1.5;\"/><text fill=\"#000000\" font-family=\"sans-serif\" font-size=\"11\" lengthAdjust=\"spacingAndGlyphs\" textLength=\"7\" x=\"177.5\" y=\"626.9541\">d</text><ellipse cx=\"181\" cy=\"900.0625\" fill=\"none\" filter=\"url(#f1)\" rx=\"10\" ry=\"10\" style=\"stroke: #000000; stroke-width: 1.0;\"/><ellipse cx=\"181.5\" cy=\"900.5625\" fill=\"#000000\" filter=\"url(#f1)\" rx=\"6\" ry=\"6\" style=\"stroke: none; stroke-width: 1.0;\"/><line style=\"stroke: #A80036; stroke-width: 1.5;\" x1=\"181\" x2=\"181\" y1=\"30\" y2=\"50\"/><polygon fill=\"#A80036\" points=\"177,40,181,50,185,40,181,44\" style=\"stroke: #A80036; stroke-width: 1.0;\"/><line style=\"stroke: #A80036; stroke-width: 1.5;\" x1=\"181\" x2=\"181\" y1=\"84.1328\" y2=\"104.1328\"/><polygon fill=\"#A80036\" points=\"177,94.1328,181,104.1328,185,94.1328,181,98.1328\" style=\"stroke: #A80036; stroke-width: 1.0;\"/><line style=\"stroke: #A80036; stroke-width: 1.5;\" x1=\"141\" x2=\"131\" y1=\"366.5313\" y2=\"366.5313\"/><line style=\"stroke: #A80036; stroke-width: 1.5;\" x1=\"131\" x2=\"131\" y1=\"366.5313\" y2=\"388.5313\"/><polygon fill=\"#A80036\" points=\"127,378.5313,131,388.5313,135,378.5313,131,382.5313\" style=\"stroke: #A80036; stroke-width: 1.0;\"/><line style=\"stroke: #A80036; stroke-width: 1.5;\" x1=\"221\" x2=\"231\" y1=\"366.5313\" y2=\"366.5313\"/><line style=\"stroke: #A80036; stroke-width: 1.5;\" x1=\"231\" x2=\"231\" y1=\"366.5313\" y2=\"388.5313\"/><polygon fill=\"#A80036\" points=\"227,378.5313,231,388.5313,235,378.5313,231,382.5313\" style=\"stroke: #A80036; stroke-width: 1.0;\"/><line style=\"stroke: #A80036; stroke-width: 1.5;\" x1=\"131\" x2=\"131\" y1=\"422.6641\" y2=\"440.6641\"/><line style=\"stroke: #A80036; stroke-width: 1.5;\" x1=\"131\" x2=\"169\" y1=\"440.6641\" y2=\"440.6641\"/><polygon fill=\"#A80036\" points=\"159,436.6641,169,440.6641,159,444.6641,163,440.6641\" style=\"stroke: #A80036; stroke-width: 1.0;\"/><line style=\"stroke: #A80036; stroke-width: 1.5;\" x1=\"231\" x2=\"231\" y1=\"422.6641\" y2=\"440.6641\"/><line style=\"stroke: #A80036; stroke-width: 1.5;\" x1=\"231\" x2=\"193\" y1=\"440.6641\" y2=\"440.6641\"/><polygon fill=\"#A80036\" points=\"203,436.6641,193,440.6641,203,444.6641,199,440.6641\" style=\"stroke: #A80036; stroke-width: 1.0;\"/><line style=\"stroke: #A80036; stroke-width: 1.5;\" x1=\"181\" x2=\"181\" y1=\"334.5313\" y2=\"354.5313\"/><polygon fill=\"#A80036\" points=\"177,344.5313,181,354.5313,185,344.5313,181,348.5313\" style=\"stroke: #A80036; stroke-width: 1.0;\"/><line style=\"stroke: #A80036; stroke-width: 1.5;\" x1=\"181\" x2=\"181\" y1=\"280.3984\" y2=\"300.3984\"/><polygon fill=\"#A80036\" points=\"177,290.3984,181,300.3984,185,290.3984,181,294.3984\" style=\"stroke: #A80036; stroke-width: 1.0;\"/><line style=\"stroke: #A80036; stroke-width: 1.5;\" x1=\"181\" x2=\"181\" y1=\"452.6641\" y2=\"462.6641\"/><line style=\"stroke: #A80036; stroke-width: 1.5;\" x1=\"181\" x2=\"289.5\" y1=\"462.6641\" y2=\"462.6641\"/><polygon fill=\"#A80036\" points=\"285.5,367.0313,289.5,357.0313,293.5,367.0313,289.5,363.0313\" style=\"stroke: #A80036; stroke-width: 1.5;\"/><line style=\"stroke: #A80036; stroke-width: 1.5;\" x1=\"289.5\" x2=\"289.5\" y1=\"268.3984\" y2=\"462.6641\"/><line style=\"stroke: #A80036; stroke-width: 1.5;\" x1=\"289.5\" x2=\"205\" y1=\"268.3984\" y2=\"268.3984\"/><polygon fill=\"#A80036\" points=\"215,264.3984,205,268.3984,215,272.3984,211,268.3984\" style=\"stroke: #A80036; stroke-width: 1.0;\"/><line style=\"stroke: #A80036; stroke-width: 1.5;\" x1=\"157\" x2=\"65.5\" y1=\"268.3984\" y2=\"268.3984\"/><polygon fill=\"#A80036\" points=\"61.5,353.0313,65.5,363.0313,69.5,353.0313,65.5,357.0313\" style=\"stroke: #A80036; stroke-width: 1.5;\"/><line style=\"stroke: #A80036; stroke-width: 1.5;\" x1=\"65.5\" x2=\"65.5\" y1=\"268.3984\" y2=\"474.6641\"/><line style=\"stroke: #A80036; stroke-width: 1.5;\" x1=\"65.5\" x2=\"301.5\" y1=\"474.6641\" y2=\"474.6641\"/><line style=\"stroke: #A80036; stroke-width: 1.5;\" x1=\"301.5\" x2=\"301.5\" y1=\"170.2656\" y2=\"474.6641\"/><line style=\"stroke: #A80036; stroke-width: 1.5;\" x1=\"301.5\" x2=\"205\" y1=\"170.2656\" y2=\"170.2656\"/><polygon fill=\"#A80036\" points=\"215,166.2656,205,170.2656,215,174.2656,211,170.2656\" style=\"stroke: #A80036; stroke-width: 1.0;\"/><line style=\"stroke: #A80036; stroke-width: 1.5;\" x1=\"181\" x2=\"181\" y1=\"236.3984\" y2=\"256.3984\"/><polygon fill=\"#A80036\" points=\"177,246.3984,181,256.3984,185,246.3984,181,250.3984\" style=\"stroke: #A80036; stroke-width: 1.0;\"/><line style=\"stroke: #A80036; stroke-width: 1.5;\" x1=\"181\" x2=\"181\" y1=\"182.2656\" y2=\"202.2656\"/><polygon fill=\"#A80036\" points=\"177,192.2656,181,202.2656,185,192.2656,181,196.2656\" style=\"stroke: #A80036; stroke-width: 1.0;\"/><line style=\"stroke: #A80036; stroke-width: 1.5;\" x1=\"157\" x2=\"41.5\" y1=\"170.2656\" y2=\"170.2656\"/><polygon fill=\"#A80036\" points=\"37.5,321.4648,41.5,331.4648,45.5,321.4648,41.5,325.4648\" style=\"stroke: #A80036; stroke-width: 1.5;\"/><line style=\"stroke: #A80036; stroke-width: 1.5;\" x1=\"41.5\" x2=\"41.5\" y1=\"170.2656\" y2=\"496.6641\"/><line style=\"stroke: #A80036; stroke-width: 1.5;\" x1=\"41.5\" x2=\"181\" y1=\"496.6641\" y2=\"496.6641\"/><line style=\"stroke: #A80036; stroke-width: 1.5;\" x1=\"181\" x2=\"181\" y1=\"496.6641\" y2=\"541.6641\"/><polygon fill=\"#A80036\" points=\"177,531.6641,181,541.6641,185,531.6641,181,535.6641\" style=\"stroke: #A80036; stroke-width: 1.0;\"/><line style=\"stroke: #A80036; stroke-width: 1.5;\" x1=\"181\" x2=\"181\" y1=\"138.2656\" y2=\"158.2656\"/><polygon fill=\"#A80036\" points=\"177,148.2656,181,158.2656,185,148.2656,181,152.2656\" style=\"stroke: #A80036; stroke-width: 1.0;\"/><line style=\"stroke: #A80036; stroke-width: 1.5;\" x1=\"87\" x2=\"77\" y1=\"739.9297\" y2=\"739.9297\"/><line style=\"stroke: #A80036; stroke-width: 1.5;\" x1=\"77\" x2=\"77\" y1=\"739.9297\" y2=\"761.9297\"/><polygon fill=\"#A80036\" points=\"73,751.9297,77,761.9297,81,751.9297,77,755.9297\" style=\"stroke: #A80036; stroke-width: 1.0;\"/><line style=\"stroke: #A80036; stroke-width: 1.5;\" x1=\"275\" x2=\"285\" y1=\"739.9297\" y2=\"739.9297\"/><polygon fill=\"#A80036\" points=\"281,766.9961,285,776.9961,289,766.9961,285,770.9961\" style=\"stroke: #A80036; stroke-width: 1.5;\"/><line style=\"stroke: #A80036; stroke-width: 1.5;\" x1=\"285\" x2=\"285\" y1=\"739.9297\" y2=\"814.0625\"/><line style=\"stroke: #A80036; stroke-width: 1.5;\" x1=\"285\" x2=\"193\" y1=\"814.0625\" y2=\"814.0625\"/><polygon fill=\"#A80036\" points=\"203,810.0625,193,814.0625,203,818.0625,199,814.0625\" style=\"stroke: #A80036; stroke-width: 1.0;\"/><line style=\"stroke: #A80036; stroke-width: 1.5;\" x1=\"77\" x2=\"77\" y1=\"796.0625\" y2=\"814.0625\"/><line style=\"stroke: #A80036; stroke-width: 1.5;\" x1=\"77\" x2=\"169\" y1=\"814.0625\" y2=\"814.0625\"/><polygon fill=\"#A80036\" points=\"159,810.0625,169,814.0625,159,818.0625,163,814.0625\" style=\"stroke: #A80036; stroke-width: 1.0;\"/><line style=\"stroke: #A80036; stroke-width: 1.5;\" x1=\"181\" x2=\"181\" y1=\"692.9297\" y2=\"727.9297\"/><polygon fill=\"#A80036\" points=\"177,717.9297,181,727.9297,185,717.9297,181,721.9297\" style=\"stroke: #A80036; stroke-width: 1.0;\"/><line style=\"stroke: #A80036; stroke-width: 1.5;\" x1=\"181\" x2=\"181\" y1=\"634.7969\" y2=\"658.7969\"/><polygon fill=\"#A80036\" points=\"177,648.7969,181,658.7969,185,648.7969,181,652.7969\" style=\"stroke: #A80036; stroke-width: 1.0;\"/><line style=\"stroke: #A80036; stroke-width: 1.5;\" x1=\"181\" x2=\"181\" y1=\"826.0625\" y2=\"838.0625\"/><line style=\"stroke: #A80036; stroke-width: 1.5;\" x1=\"181\" x2=\"322\" y1=\"838.0625\" y2=\"838.0625\"/><polygon fill=\"#A80036\" points=\"318,740.4297,322,730.4297,326,740.4297,322,736.4297\" style=\"stroke: #A80036; stroke-width: 1.5;\"/><line style=\"stroke: #A80036; stroke-width: 1.5;\" x1=\"322\" x2=\"322\" y1=\"622.7969\" y2=\"838.0625\"/><line style=\"stroke: #A80036; stroke-width: 1.5;\" x1=\"322\" x2=\"205\" y1=\"622.7969\" y2=\"622.7969\"/><polygon fill=\"#A80036\" points=\"215,618.7969,205,622.7969,215,626.7969,211,622.7969\" style=\"stroke: #A80036; stroke-width: 1.0;\"/><line style=\"stroke: #A80036; stroke-width: 1.5;\" x1=\"157\" x2=\"32\" y1=\"622.7969\" y2=\"622.7969\"/><polygon fill=\"#A80036\" points=\"28,726.4297,32,736.4297,36,726.4297,32,730.4297\" style=\"stroke: #A80036; stroke-width: 1.5;\"/><line style=\"stroke: #A80036; stroke-width: 1.5;\" x1=\"32\" x2=\"32\" y1=\"622.7969\" y2=\"850.0625\"/><line style=\"stroke: #A80036; stroke-width: 1.5;\" x1=\"32\" x2=\"181\" y1=\"850.0625\" y2=\"850.0625\"/><line style=\"stroke: #A80036; stroke-width: 1.5;\" x1=\"181\" x2=\"181\" y1=\"850.0625\" y2=\"890.0625\"/><polygon fill=\"#A80036\" points=\"177,880.0625,181,890.0625,185,880.0625,181,884.0625\" style=\"stroke: #A80036; stroke-width: 1.0;\"/><line style=\"stroke: #A80036; stroke-width: 1.5;\" x1=\"181\" x2=\"181\" y1=\"575.7969\" y2=\"610.7969\"/><polygon fill=\"#A80036\" points=\"177,600.7969,181,610.7969,185,600.7969,181,604.7969\" style=\"stroke: #A80036; stroke-width: 1.0;\"/></g></svg>"
      ],
      "text/plain": [
       "<IPython.core.display.SVG object>"
      ]
     },
     "execution_count": 92,
     "metadata": {},
     "output_type": "execute_result"
    }
   ],
   "source": [
    "%%plantuml\n",
    "@startuml\n",
    "start\n",
    ":set data;\n",
    ":initialize dictionary d;\n",
    "while(data)\n",
    ":get a line from data;\n",
    "while(line)\n",
    ":split line into words;\n",
    "if (words in d) then(yes)\n",
    ":count += 1;\n",
    "else (no)\n",
    ":count =1;\n",
    "endif\n",
    "endwhile\n",
    "endwhile\n",
    "partition frequency {\n",
    "    :set criteria;\n",
    "    while(d)\n",
    "        :get frequency;\n",
    "        if(frequency greater than criteria)\n",
    "            :save;\n",
    "        endif\n",
    "    endwhile\n",
    "}\n",
    "stop\n",
    "@enduml"
   ]
  },
  {
   "cell_type": "markdown",
   "metadata": {},
   "source": [
    "* Let it be 가사"
   ]
  },
  {
   "cell_type": "code",
   "execution_count": 26,
   "metadata": {
    "collapsed": false
   },
   "outputs": [
    {
     "name": "stdout",
     "output_type": "stream",
     "text": [
      " String doc[]={\r\n",
      "     \"When I find myself in times of trouble\",\r\n",
      "     \"Mother Mary comes to me\",\r\n",
      "     \"Speaking words of wisdom, let it be\",\r\n",
      "     \"And in my hour of darkness\",\r\n",
      "     \"She is standing right in front of me\",\r\n",
      "     \"Speaking words of wisdom, let it be\",\r\n",
      "     \"Let it be\",\r\n",
      "     \"Let it be\",\r\n",
      "     \"Let it be\",\r\n",
      "     \"Let it be\",\r\n",
      "     \"Whisper words of wisdom, let it be\"\r\n",
      " }\r\n",
      "|  Added variable doc of type String[] with initial value [Ljava.lang.String;@148080bb\r\n",
      "\r\n"
     ]
    }
   ],
   "source": [
    "String doc[]={\n",
    "    \"When I find myself in times of trouble\",\n",
    "    \"Mother Mary comes to me\",\n",
    "    \"Speaking words of wisdom, let it be\",\n",
    "    \"And in my hour of darkness\",\n",
    "    \"She is standing right in front of me\",\n",
    "    \"Speaking words of wisdom, let it be\",\n",
    "    \"Let it be\",\n",
    "    \"Let it be\",\n",
    "    \"Let it be\",\n",
    "    \"Let it be\",\n",
    "    \"Whisper words of wisdom, let it be\"\n",
    "}"
   ]
  },
  {
   "cell_type": "markdown",
   "metadata": {
    "collapsed": true
   },
   "source": [
    "* 3회 이상 등장한 단어?\n",
    "    * 정렬하지 않고\n",
    "    ['be', 'it', 'in', 'wisdom,', 'Let', 'let', 'words', 'of']"
   ]
  },
  {
   "cell_type": "markdown",
   "metadata": {},
   "source": [
    "## 데이터구조-14: '학생' 객체를 정렬하기\n",
    "\n",
    "* 13-1. 학생 이름을 정렬\n",
    "* 13-2. 학생 이름을 객체지향 방식으로 정렬\n",
    "\n",
    "* 프로그래밍 요소\n",
    "    * ArrayList\n",
    "    * Generic\n",
    "    * 정렬하는 유틸리티 클래스 Collections.sort()\n",
    "    * compareTo()\n",
    "\n",
    "old | new\n",
    "------|-----\n",
    "ArrayList$\\lt$String$\\gt$ | ArrayList$\\lt$Student$\\gt$\n",
    "stduentNameList.add(student.getName()) | studentList.add(student)\n"
   ]
  },
  {
   "cell_type": "markdown",
   "metadata": {},
   "source": [
    "* 1-1 학생 객체 만들기"
   ]
  },
  {
   "cell_type": "markdown",
   "metadata": {},
   "source": [
    "* 1-2 학생 이름을 정렬하기\n"
   ]
  },
  {
   "cell_type": "markdown",
   "metadata": {
    "collapsed": true
   },
   "source": [
    "* ArrayList<Student>\n",
    "    * Collections.sort()는 compareTo()\n",
    "    * 인자가 T. 즉 Student 또는 Object로 해도 좋다.\n",
    "    ```\n",
    "    int\tcompareTo(T o)\n",
    "    ```"
   ]
  },
  {
   "cell_type": "markdown",
   "metadata": {
    "collapsed": true
   },
   "source": [
    "* 학생객체를 정렬하면 오류"
   ]
  },
  {
   "cell_type": "markdown",
   "metadata": {
    "collapsed": true
   },
   "source": [
    "* 학생객체를 정렬할 수 있게 수정한다."
   ]
  },
  {
   "cell_type": "markdown",
   "metadata": {},
   "source": [
    "## 데이터구조-15: 객체를 배열로 저장해서, sayHello 하기\n",
    "\n",
    "* Hello 객체를 배열로 저장해서, 모든 객체가 sayHello() 호출하기.\n",
    "* 앞서 만들었던 Hello 클래스를 사용한다.\n",
    "* 프로그래밍 요소\n",
    "    * 객체의 배열 - 배열은 원시 타잎, 객체 타잎 모두 저장할 수 있다.\n",
    "    * 다형성 - 객체의 함수를 반복문에서 일괄 호출할 수 있다.\n"
   ]
  },
  {
   "cell_type": "markdown",
   "metadata": {},
   "source": [
    "* 객체의 배열을 선언한다.\n",
    "* Array는 저장 갯수를 미리 정해야 한다. -> 갯수를 임의로 늘릴 수 없다."
   ]
  },
  {
   "cell_type": "markdown",
   "metadata": {},
   "source": [
    "* h를 출력하면 toString을 호출하게 됨. 객체의 hash code를 출력한다.\n",
    "* 저장된 객체가 없는 경우에는 null을 출력한다."
   ]
  },
  {
   "cell_type": "markdown",
   "metadata": {},
   "source": [
    "* 객체를 출력할 때는 함수명을 사용"
   ]
  },
  {
   "cell_type": "markdown",
   "metadata": {
    "collapsed": true
   },
   "source": [
    "* 객체를 출력하는 반복문이다."
   ]
  },
  {
   "cell_type": "markdown",
   "metadata": {
    "collapsed": true,
    "slideshow": {
     "slide_type": "slide"
    }
   },
   "source": [
    "## 과제\n",
    "\n",
    "* 1. '서울시 학교생활 만족도 통계' 평균을 구하는 프로그램 작성\n",
    "    * 서울열린데이터광장 data.seoul.go.kr > 검색 '통계학교생활'\n",
    "    * 매우만족+만족 평균, 불만족+매우불만족 평균\n",
    "\n",
    "* 2 . 대통령 연설 2개를 분석해서 빈번한 단어의 차이를 보여주는 프로그램 작성\n",
    "    * 미국대통령 취임연설 (한글처리가능하면 한국대통령 취임연설) 가운데 최근 것과 과거 것 1개씩 선택\n",
    "    * 가장 많이 등장하는 단어 10개씩을 추출하여 비교.\n",
    "    * http://www.infoplease.com/t/hist/inaugural/\n",
    "\n",
    "* 제출기한\n",
    "    * 금요일 오후 5시\n"
   ]
  }
 ],
 "metadata": {
  "celltoolbar": "Slideshow",
  "kernelspec": {
   "display_name": "Java 9",
   "language": "java",
   "name": "java"
  },
  "language_info": {
   "file_extension": ".class",
   "mimetype": "application/java-vm",
   "name": "java"
  }
 },
 "nbformat": 4,
 "nbformat_minor": 0
}
