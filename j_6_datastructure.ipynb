{
 "cells": [
  {
   "cell_type": "markdown",
   "metadata": {
    "slideshow": {
     "slide_type": "slide"
    }
   },
   "source": [
    "# 6. 데이터구조\n",
    "\n",
    "## 6.1 학습내용\n",
    "\n",
    "### 6.1.1 목표\n",
    "\n",
    "* 문제에 맞는 데이터구조를 선택하여 사용할 수 있다.\n",
    "* 데이터구조를 함수에 전달하여 사용할 수 있다.\n",
    "    * copying - shallow vs deep\n",
    "* generic 타잎을 사용할 수 있다.\n",
    "* 데이터구조에서 원하는 데이터를 찾을 수 있다 (iterator).\n",
    "* 데이터구조를 정렬할 수 있다 (compareTo)\n",
    "* 배열에 객체를 저장하여 호출할 수 있다.\n",
    "\n",
    "### 6.1.2 문제\n",
    "\n",
    "* 데이터구조-1: 4로 나누어지고 5로 나누어지지 않는 수 골라서 배열에 넣기 (Arrays, ArrayList)\n",
    "* 데이터구조-2: 거북이 트랙을 저장하기 (Arrays, ArrayList)\n",
    "* 데이터구조-3: 도형을 데이터로 저장하기\n",
    "* 데이터구조-4: 거북이가 걸어간 트랙을 다시 걷게 하기\n",
    "* 데이터구조-5: 문자열에서 문자를 세기 (Map)\n",
    "* 데이터구조-6: 문자열 'hello' 뒤집기\n",
    "* 데이터구조-7: 문자열에 포함된 문자와 숫자의 개수 세기 (Map)\n",
    "* 데이터구조-8: 자신과 친구의 방에 있는 가전제품을 10개 이상 나열해서, 차이 구하기. (Set)\n",
    "* 데이터구조-9: 광화문 반경에서 가까운 역 찾기.\n",
    "* 데이터구조-10: 서울에 거주하는 남녀의 구별 합계와 평균구하기 (2차원 데이터)\n",
    "* 데이터구조-11: 커피에 Milk를 추가하는 비율 구하기 (2차원 데이터)\n",
    "* 데이터구조-12: 성적 평균, 합계 구하기.\n",
    "* 데이터구조-13: 비틀즈 랫잇비 가사에 자주 등장하는 단어 구하기.\n",
    "    * variable length of 2d arrays\n",
    "* 데이터구조-14: '학생' 객체를 정렬하기\n",
    "    * compuareTo\n",
    "* 데이터구조-15: 객체를 배열로 저장해서, sayHello()\n",
    "\n",
    "### 6.1.3 연습문제\n",
    "\n",
    "* 서울 학교생활 만족도 평균 구하기.\n",
    "* 대통령 연설에서 자주 등장하는 단어 차이 분석하기. 단어빈도 그래프 그리기.\n",
    "* (자습) 이메일 자주 보내는 사람 찾기.\n",
    "* mini: **heroku**"
   ]
  },
  {
   "cell_type": "markdown",
   "metadata": {},
   "source": [
    "## 6.2 데이터구조란?\n",
    "\n",
    "### 6.2.1 왜 필요할까?\n",
    "\n",
    "* 데이터구조는 2개 이상의 연관된 값을 저장하기 위해서 사용한다.\n",
    "    * 변수는 2개 이상의 값을 동시에 저장하지 못한다. 데이터구조는 같은 변수명으로 2개 이상을 저장할 수 있다.\n",
    "    * 변수를 사용하면, 데이터 수만큼 변수가 필요하다."
   ]
  },
  {
   "cell_type": "markdown",
   "metadata": {
    "collapsed": true
   },
   "source": [
    "* 데이터구조를 사용하지 않고, 1~5까지 값을 출력해 본다.\n",
    "* for문을 사용하면 2줄이면 된다."
   ]
  },
  {
   "cell_type": "code",
   "execution_count": 2,
   "metadata": {
    "collapsed": false
   },
   "outputs": [
    {
     "name": "stdout",
     "output_type": "stream",
     "text": [
      " for(int i=0;i<5;i++)\r\n",
      "     System.out.print(i+1);\r\n",
      "12345\r\n"
     ]
    }
   ],
   "source": [
    "for(int i=0;i<5;i++)\n",
    "    System.out.print(i+1);"
   ]
  },
  {
   "cell_type": "markdown",
   "metadata": {},
   "source": [
    "* 1~5까지의 숫자를 저장해서 다시 사용한다고 생각해보자.\n",
    "* 어떻게 저장할 것인가?\n",
    "* 앞서 배웠던 변수를 사용해보자. 그렇다면 5개의 변수가 필요하다.\n",
    "* 변수를 선언해서 저장하는 수만큼 즉 5줄의 명령문이 필요하다."
   ]
  },
  {
   "cell_type": "code",
   "execution_count": 4,
   "metadata": {
    "collapsed": false
   },
   "outputs": [
    {
     "name": "stdout",
     "output_type": "stream",
     "text": [
      " int i0=0;\r\n",
      "|  Added variable i0 of type int with initial value 0\r\n",
      "\r\n",
      " int i1=1;\r\n",
      "|  Added variable i1 of type int with initial value 1\r\n",
      "\r\n",
      " int i2=2;\r\n",
      "|  Added variable i2 of type int with initial value 2\r\n",
      "\r\n",
      " int i3=3;\r\n",
      "|  Added variable i3 of type int with initial value 3\r\n",
      "\r\n",
      " int i4=4;\r\n",
      "|  Added variable i4 of type int with initial value 4\r\n",
      "\r\n"
     ]
    }
   ],
   "source": [
    "int i0=0;\n",
    "int i1=1;\n",
    "int i2=2;\n",
    "int i3=3;\n",
    "int i4=4;"
   ]
  },
  {
   "cell_type": "markdown",
   "metadata": {},
   "source": [
    "* i0 ~ i4, 5개의 변수를 이용해서 숫자를 저장했다.\n",
    "* 출력은 어떻게 할 것인가? 하나씩 한다면 모두 5줄의 명령어가 필요하다.\n",
    "* 아래는 하나만 출력한 것이다. for문을 사용하여 줄 수를 줄이기도 어렵다.\n",
    "* 중복이 많아서 낭비적이다. 중복을 줄이는 방법이 있을까? 데이터구조를 이용하면 해결할 수 있다."
   ]
  },
  {
   "cell_type": "code",
   "execution_count": 3,
   "metadata": {
    "collapsed": false
   },
   "outputs": [
    {
     "name": "stdout",
     "output_type": "stream",
     "text": [
      " System.out.print(i0);\r\n",
      "0\r\n"
     ]
    }
   ],
   "source": [
    "System.out.print(i0);"
   ]
  },
  {
   "cell_type": "markdown",
   "metadata": {},
   "source": [
    "### 6.2.2 데이터 구조를 사용하기\n",
    "\n",
    "* Arrays 데이터구조를 사용해보자.\n",
    "* 사용하기 전에 자료형을 선언하는 것이 필요하다.\n",
    "    ```\n",
    "    int[] x=new int[10]\n",
    "    ```\n",
    "    \n",
    "    * 좌측 'int[] x'는 선언이다. 변수 x는 배열[] 구조를 가지며, int만을 저장할 수 있다.\n",
    "    * 우측 'new int[10]'은 실제 int를 10개 넣겠다고 명시한다.\n",
    "    * 호텔 예약에 비유하면, 좌측은 객실의 종류를, 우측은 몇 개나 필요한지 명시하는 것이다."
   ]
  },
  {
   "cell_type": "code",
   "execution_count": 3,
   "metadata": {
    "collapsed": false,
    "scrolled": true
   },
   "outputs": [
    {
     "name": "stdout",
     "output_type": "stream",
     "text": [
      " int[] i = new int[5];\r\n",
      "|  Added variable i of type int[] with initial value [I@3abbfa04\r\n",
      "\r\n",
      " i[0]=0;i[1]=1;i[2]=2;i[3]=3;i[4]=4;\r\n",
      "|  Expression value is: 0\r\n",
      "|    assigned to temporary variable $4 of type int\r\n",
      "|  Expression value is: 1\r\n",
      "|    assigned to temporary variable $5 of type int\r\n",
      "|  Expression value is: 2\r\n",
      "|    assigned to temporary variable $6 of type int\r\n",
      "|  Expression value is: 3\r\n",
      "|    assigned to temporary variable $7 of type int\r\n",
      "|  Expression value is: 4\r\n",
      "|    assigned to temporary variable $8 of type int\r\n",
      "\r\n"
     ]
    }
   ],
   "source": [
    "int[] i = new int[5];\n",
    "i[0]=0;i[1]=1;i[2]=2;i[3]=3;i[4]=4;"
   ]
  },
  {
   "cell_type": "markdown",
   "metadata": {},
   "source": [
    "* 동일한 변수명으로 연관된 값을 묶어 저장하는 것은 만족스럽지만, 아직 10줄이나 반복하는 것은 문제이다.\n",
    "* 이 때 숫자를 하나씩 증가하여 저장하는 패턴을 볼 수 있다. 반복문을 사용하여 중복을 제거할 수 있다."
   ]
  },
  {
   "cell_type": "code",
   "execution_count": 4,
   "metadata": {
    "collapsed": false,
    "scrolled": true
   },
   "outputs": [
    {
     "name": "stdout",
     "output_type": "stream",
     "text": [
      " int[] x=new int[5];\r\n",
      "|  Added variable x of type int[] with initial value [I@589838eb\r\n",
      "\r\n",
      " for(int i=0; i<5; i++)\r\n",
      "     x[i]=i;\r\n",
      "\r\n"
     ]
    }
   ],
   "source": [
    "int[] x=new int[5];\n",
    "for(int i=0; i<5; i++)\n",
    "    x[i]=i;"
   ]
  },
  {
   "cell_type": "markdown",
   "metadata": {},
   "source": [
    "* 데이터구조는 변수와 무엇이 다른가?\n",
    "    * 변수x는 1개 값만 저장. 1~10 값을 모두 저장하려면 변수로는 불가능.\n",
    "    * 변수는 값을 1개만 갖는다.\n",
    "    * 변수에 1 ~ 10의 값은 저장할 수 없슴. 저장공간이 1개이기 때문에, 가능하지 못함.\n",
    "    * 새로운 값을 저장하면, 이전의 값은 없어짐.\n",
    "    * 이런 경우 배열을 이용하면, 동일한 변수명으로 여러 값을 묶어서 저장할 수 있슴."
   ]
  },
  {
   "cell_type": "markdown",
   "metadata": {},
   "source": [
    "## 6.3 많이 사용하는 데이터구조\n",
    "\n",
    "* Java의 Collection Framework.\n",
    "    * Collection은 Iterable 인터페이스와 상속관계를 가지고 있다.\n",
    "    * Collection은 List, Queue, Set으로 분류한다.\n",
    "    * Collection은 '객체'를 요소로 가지는 데이터구조이다.\n",
    "        * 원시타잎은 가질 수 없다. Arrays는 Collection이 아니다 (원시타잎을 가질 수 있다).\n",
    "\n",
    "구분 | Collection | Arrays\n",
    "----------|----------|----------\n",
    "원시타잎 | 원시타잎을 가질 수 없다. 객체만 가진다.  | 원시타잎과 객체 모두 가질 수 있다.\n",
    "크기 | 늘어날 수 있다. | 미리 정해야 한다. 정하면 변경할 수 없다.\n",
    "사용성 | 편리하다. | 불편하다. toString, sort, iterator를 사용할 수 없다.\n",
    " \n",
    "* Java Collection과 Collections\n",
    "    * Collection과 달리 Collections는 static함수로 편리한 기능을 제공한다.\n",
    "    \n",
    "구분 | Collection | Collections\n",
    "----------|----------|----------\n",
    "클래스 타잎 | 인터페이스 | 클래스\n",
    "주요 역할 | List, Queue, Map 등을 상속한다.  | min, max, sort와 같은 유틸리티 기능 (static)\n"
   ]
  },
  {
   "cell_type": "code",
   "execution_count": 1,
   "metadata": {
    "collapsed": false
   },
   "outputs": [],
   "source": [
    "import iplantuml"
   ]
  },
  {
   "cell_type": "code",
   "execution_count": 2,
   "metadata": {
    "collapsed": false
   },
   "outputs": [
    {
     "data": {
      "image/svg+xml": [
       "<svg height=\"389px\" style=\"width:583px;height:389px;\" version=\"1.1\" viewBox=\"0 0 583 389\" width=\"583px\" xmlns=\"http://www.w3.org/2000/svg\" xmlns:xlink=\"http://www.w3.org/1999/xlink\"><defs><filter height=\"300%\" id=\"f1\" width=\"300%\" x=\"-1\" y=\"-1\"><feGaussianBlur result=\"blurOut\" stdDeviation=\"2.0\"/><feColorMatrix in=\"blurOut\" result=\"blurOut2\" type=\"matrix\" values=\"0 0 0 0 0 0 0 0 0 0 0 0 0 0 0 0 0 0 .4 0\"/><feOffset dx=\"4.0\" dy=\"4.0\" in=\"blurOut2\" result=\"blurOut3\"/><feBlend in=\"SourceGraphic\" in2=\"blurOut3\" mode=\"normal\"/></filter></defs><g><rect fill=\"#FEFECE\" filter=\"url(#f1)\" height=\"48\" style=\"stroke: #A80036; stroke-width: 1.5;\" width=\"81\" x=\"120\" y=\"8\"/><ellipse cx=\"135\" cy=\"24\" fill=\"#B4A7E5\" rx=\"11\" ry=\"11\" style=\"stroke: #A80036; stroke-width: 1.0;\"/><path d=\"M130.9219,19.7656 L130.9219,17.6094 L138.3125,17.6094 L138.3125,19.7656 L135.8438,19.7656 L135.8438,27.8438 L138.3125,27.8438 L138.3125,30 L130.9219,30 L130.9219,27.8438 L133.3906,27.8438 L133.3906,19.7656 L130.9219,19.7656 Z \"/><text fill=\"#000000\" font-family=\"sans-serif\" font-size=\"12\" font-style=\"italic\" lengthAdjust=\"spacingAndGlyphs\" textLength=\"49\" x=\"149\" y=\"28.1543\">Iterable</text><line style=\"stroke: #A80036; stroke-width: 1.5;\" x1=\"121\" x2=\"200\" y1=\"40\" y2=\"40\"/><line style=\"stroke: #A80036; stroke-width: 1.5;\" x1=\"121\" x2=\"200\" y1=\"48\" y2=\"48\"/><rect fill=\"#FEFECE\" filter=\"url(#f1)\" height=\"48\" style=\"stroke: #A80036; stroke-width: 1.5;\" width=\"93\" x=\"114\" y=\"116\"/><ellipse cx=\"129\" cy=\"132\" fill=\"#B4A7E5\" rx=\"11\" ry=\"11\" style=\"stroke: #A80036; stroke-width: 1.0;\"/><path d=\"M124.9219,127.7656 L124.9219,125.6094 L132.3125,125.6094 L132.3125,127.7656 L129.8438,127.7656 L129.8438,135.8438 L132.3125,135.8438 L132.3125,138 L124.9219,138 L124.9219,135.8438 L127.3906,135.8438 L127.3906,127.7656 L124.9219,127.7656 Z \"/><text fill=\"#000000\" font-family=\"sans-serif\" font-size=\"12\" font-style=\"italic\" lengthAdjust=\"spacingAndGlyphs\" textLength=\"61\" x=\"143\" y=\"136.1543\">Collection</text><line style=\"stroke: #A80036; stroke-width: 1.5;\" x1=\"115\" x2=\"206\" y1=\"148\" y2=\"148\"/><line style=\"stroke: #A80036; stroke-width: 1.5;\" x1=\"115\" x2=\"206\" y1=\"156\" y2=\"156\"/><rect fill=\"#FEFECE\" filter=\"url(#f1)\" height=\"48\" style=\"stroke: #A80036; stroke-width: 1.5;\" width=\"53\" x=\"30\" y=\"224\"/><ellipse cx=\"45\" cy=\"240\" fill=\"#B4A7E5\" rx=\"11\" ry=\"11\" style=\"stroke: #A80036; stroke-width: 1.0;\"/><path d=\"M40.9219,235.7656 L40.9219,233.6094 L48.3125,233.6094 L48.3125,235.7656 L45.8438,235.7656 L45.8438,243.8438 L48.3125,243.8438 L48.3125,246 L40.9219,246 L40.9219,243.8438 L43.3906,243.8438 L43.3906,235.7656 L40.9219,235.7656 Z \"/><text fill=\"#000000\" font-family=\"sans-serif\" font-size=\"12\" font-style=\"italic\" lengthAdjust=\"spacingAndGlyphs\" textLength=\"21\" x=\"59\" y=\"244.1543\">Set</text><line style=\"stroke: #A80036; stroke-width: 1.5;\" x1=\"31\" x2=\"82\" y1=\"256\" y2=\"256\"/><line style=\"stroke: #A80036; stroke-width: 1.5;\" x1=\"31\" x2=\"82\" y1=\"264\" y2=\"264\"/><rect fill=\"#FEFECE\" filter=\"url(#f1)\" height=\"48\" style=\"stroke: #A80036; stroke-width: 1.5;\" width=\"53\" x=\"134\" y=\"224\"/><ellipse cx=\"149\" cy=\"240\" fill=\"#B4A7E5\" rx=\"11\" ry=\"11\" style=\"stroke: #A80036; stroke-width: 1.0;\"/><path d=\"M144.9219,235.7656 L144.9219,233.6094 L152.3125,233.6094 L152.3125,235.7656 L149.8438,235.7656 L149.8438,243.8438 L152.3125,243.8438 L152.3125,246 L144.9219,246 L144.9219,243.8438 L147.3906,243.8438 L147.3906,235.7656 L144.9219,235.7656 Z \"/><text fill=\"#000000\" font-family=\"sans-serif\" font-size=\"12\" font-style=\"italic\" lengthAdjust=\"spacingAndGlyphs\" textLength=\"21\" x=\"163\" y=\"244.1543\">List</text><line style=\"stroke: #A80036; stroke-width: 1.5;\" x1=\"135\" x2=\"186\" y1=\"256\" y2=\"256\"/><line style=\"stroke: #A80036; stroke-width: 1.5;\" x1=\"135\" x2=\"186\" y1=\"264\" y2=\"264\"/><rect fill=\"#FEFECE\" filter=\"url(#f1)\" height=\"48\" style=\"stroke: #A80036; stroke-width: 1.5;\" width=\"58\" x=\"258.5\" y=\"8\"/><ellipse cx=\"273.5\" cy=\"24\" fill=\"#B4A7E5\" rx=\"11\" ry=\"11\" style=\"stroke: #A80036; stroke-width: 1.0;\"/><path d=\"M269.4219,19.7656 L269.4219,17.6094 L276.8125,17.6094 L276.8125,19.7656 L274.3438,19.7656 L274.3438,27.8438 L276.8125,27.8438 L276.8125,30 L269.4219,30 L269.4219,27.8438 L271.8906,27.8438 L271.8906,19.7656 L269.4219,19.7656 Z \"/><text fill=\"#000000\" font-family=\"sans-serif\" font-size=\"12\" font-style=\"italic\" lengthAdjust=\"spacingAndGlyphs\" textLength=\"26\" x=\"287.5\" y=\"28.1543\">Map</text><line style=\"stroke: #A80036; stroke-width: 1.5;\" x1=\"259.5\" x2=\"315.5\" y1=\"40\" y2=\"40\"/><line style=\"stroke: #A80036; stroke-width: 1.5;\" x1=\"259.5\" x2=\"315.5\" y1=\"48\" y2=\"48\"/><rect fill=\"#FEFECE\" filter=\"url(#f1)\" height=\"48\" style=\"stroke: #A80036; stroke-width: 1.5;\" width=\"73\" x=\"222\" y=\"224\"/><ellipse cx=\"237\" cy=\"240\" fill=\"#ADD1B2\" rx=\"11\" ry=\"11\" style=\"stroke: #A80036; stroke-width: 1.0;\"/><path d=\"M239.9688,245.6406 Q239.3906,245.9375 238.75,246.0859 Q238.1094,246.2344 237.4063,246.2344 Q234.9063,246.2344 233.5859,244.5859 Q232.2656,242.9375 232.2656,239.8125 Q232.2656,236.6875 233.5859,235.0313 Q234.9063,233.375 237.4063,233.375 Q238.1094,233.375 238.7578,233.5313 Q239.4063,233.6875 239.9688,233.9844 L239.9688,236.7031 Q239.3438,236.125 238.75,235.8516 Q238.1563,235.5781 237.5313,235.5781 Q236.1875,235.5781 235.5,236.6484 Q234.8125,237.7188 234.8125,239.8125 Q234.8125,241.9063 235.5,242.9766 Q236.1875,244.0469 237.5313,244.0469 Q238.1563,244.0469 238.75,243.7734 Q239.3438,243.5 239.9688,242.9219 L239.9688,245.6406 Z \"/><text fill=\"#000000\" font-family=\"sans-serif\" font-size=\"12\" lengthAdjust=\"spacingAndGlyphs\" textLength=\"41\" x=\"251\" y=\"244.1543\">Queue</text><line style=\"stroke: #A80036; stroke-width: 1.5;\" x1=\"223\" x2=\"294\" y1=\"256\" y2=\"256\"/><line style=\"stroke: #A80036; stroke-width: 1.5;\" x1=\"223\" x2=\"294\" y1=\"264\" y2=\"264\"/><rect fill=\"#FEFECE\" filter=\"url(#f1)\" height=\"48\" style=\"stroke: #A80036; stroke-width: 1.5;\" width=\"85\" x=\"126\" y=\"332\"/><ellipse cx=\"141\" cy=\"348\" fill=\"#ADD1B2\" rx=\"11\" ry=\"11\" style=\"stroke: #A80036; stroke-width: 1.0;\"/><path d=\"M143.9688,353.6406 Q143.3906,353.9375 142.75,354.0859 Q142.1094,354.2344 141.4063,354.2344 Q138.9063,354.2344 137.5859,352.5859 Q136.2656,350.9375 136.2656,347.8125 Q136.2656,344.6875 137.5859,343.0313 Q138.9063,341.375 141.4063,341.375 Q142.1094,341.375 142.7578,341.5313 Q143.4063,341.6875 143.9688,341.9844 L143.9688,344.7031 Q143.3438,344.125 142.75,343.8516 Q142.1563,343.5781 141.5313,343.5781 Q140.1875,343.5781 139.5,344.6484 Q138.8125,345.7188 138.8125,347.8125 Q138.8125,349.9063 139.5,350.9766 Q140.1875,352.0469 141.5313,352.0469 Q142.1563,352.0469 142.75,351.7734 Q143.3438,351.5 143.9688,350.9219 L143.9688,353.6406 Z \"/><text fill=\"#000000\" font-family=\"sans-serif\" font-size=\"12\" lengthAdjust=\"spacingAndGlyphs\" textLength=\"53\" x=\"155\" y=\"352.1543\">ArrayList</text><line style=\"stroke: #A80036; stroke-width: 1.5;\" x1=\"127\" x2=\"210\" y1=\"364\" y2=\"364\"/><line style=\"stroke: #A80036; stroke-width: 1.5;\" x1=\"127\" x2=\"210\" y1=\"372\" y2=\"372\"/><rect fill=\"#FEFECE\" filter=\"url(#f1)\" height=\"48\" style=\"stroke: #A80036; stroke-width: 1.5;\" width=\"85\" x=\"6\" y=\"332\"/><ellipse cx=\"21\" cy=\"348\" fill=\"#ADD1B2\" rx=\"11\" ry=\"11\" style=\"stroke: #A80036; stroke-width: 1.0;\"/><path d=\"M23.9688,353.6406 Q23.3906,353.9375 22.75,354.0859 Q22.1094,354.2344 21.4063,354.2344 Q18.9063,354.2344 17.5859,352.5859 Q16.2656,350.9375 16.2656,347.8125 Q16.2656,344.6875 17.5859,343.0313 Q18.9063,341.375 21.4063,341.375 Q22.1094,341.375 22.7578,341.5313 Q23.4063,341.6875 23.9688,341.9844 L23.9688,344.7031 Q23.3438,344.125 22.75,343.8516 Q22.1563,343.5781 21.5313,343.5781 Q20.1875,343.5781 19.5,344.6484 Q18.8125,345.7188 18.8125,347.8125 Q18.8125,349.9063 19.5,350.9766 Q20.1875,352.0469 21.5313,352.0469 Q22.1563,352.0469 22.75,351.7734 Q23.3438,351.5 23.9688,350.9219 L23.9688,353.6406 Z \"/><text fill=\"#000000\" font-family=\"sans-serif\" font-size=\"12\" lengthAdjust=\"spacingAndGlyphs\" textLength=\"53\" x=\"35\" y=\"352.1543\">HashSet</text><line style=\"stroke: #A80036; stroke-width: 1.5;\" x1=\"7\" x2=\"90\" y1=\"364\" y2=\"364\"/><line style=\"stroke: #A80036; stroke-width: 1.5;\" x1=\"7\" x2=\"90\" y1=\"372\" y2=\"372\"/><rect fill=\"#FEFECE\" filter=\"url(#f1)\" height=\"48\" style=\"stroke: #A80036; stroke-width: 1.5;\" width=\"90\" x=\"242.5\" y=\"116\"/><ellipse cx=\"257.5\" cy=\"132\" fill=\"#ADD1B2\" rx=\"11\" ry=\"11\" style=\"stroke: #A80036; stroke-width: 1.0;\"/><path d=\"M260.4688,137.6406 Q259.8906,137.9375 259.25,138.0859 Q258.6094,138.2344 257.9063,138.2344 Q255.4063,138.2344 254.0859,136.5859 Q252.7656,134.9375 252.7656,131.8125 Q252.7656,128.6875 254.0859,127.0313 Q255.4063,125.375 257.9063,125.375 Q258.6094,125.375 259.2578,125.5313 Q259.9063,125.6875 260.4688,125.9844 L260.4688,128.7031 Q259.8438,128.125 259.25,127.8516 Q258.6563,127.5781 258.0313,127.5781 Q256.6875,127.5781 256,128.6484 Q255.3125,129.7188 255.3125,131.8125 Q255.3125,133.9063 256,134.9766 Q256.6875,136.0469 258.0313,136.0469 Q258.6563,136.0469 259.25,135.7734 Q259.8438,135.5 260.4688,134.9219 L260.4688,137.6406 Z \"/><text fill=\"#000000\" font-family=\"sans-serif\" font-size=\"12\" lengthAdjust=\"spacingAndGlyphs\" textLength=\"58\" x=\"271.5\" y=\"136.1543\">HashMap</text><line style=\"stroke: #A80036; stroke-width: 1.5;\" x1=\"243.5\" x2=\"331.5\" y1=\"148\" y2=\"148\"/><line style=\"stroke: #A80036; stroke-width: 1.5;\" x1=\"243.5\" x2=\"331.5\" y1=\"156\" y2=\"156\"/><rect fill=\"#FEFECE\" filter=\"url(#f1)\" height=\"48\" style=\"stroke: #A80036; stroke-width: 1.5;\" width=\"72\" x=\"427.5\" y=\"8\"/><ellipse cx=\"442.5\" cy=\"24\" fill=\"#ADD1B2\" rx=\"11\" ry=\"11\" style=\"stroke: #A80036; stroke-width: 1.0;\"/><path d=\"M445.4688,29.6406 Q444.8906,29.9375 444.25,30.0859 Q443.6094,30.2344 442.9063,30.2344 Q440.4063,30.2344 439.0859,28.5859 Q437.7656,26.9375 437.7656,23.8125 Q437.7656,20.6875 439.0859,19.0313 Q440.4063,17.375 442.9063,17.375 Q443.6094,17.375 444.2578,17.5313 Q444.9063,17.6875 445.4688,17.9844 L445.4688,20.7031 Q444.8438,20.125 444.25,19.8516 Q443.6563,19.5781 443.0313,19.5781 Q441.6875,19.5781 441,20.6484 Q440.3125,21.7188 440.3125,23.8125 Q440.3125,25.9063 441,26.9766 Q441.6875,28.0469 443.0313,28.0469 Q443.6563,28.0469 444.25,27.7734 Q444.8438,27.5 445.4688,26.9219 L445.4688,29.6406 Z \"/><text fill=\"#000000\" font-family=\"sans-serif\" font-size=\"12\" lengthAdjust=\"spacingAndGlyphs\" textLength=\"40\" x=\"456.5\" y=\"28.1543\">Object</text><line style=\"stroke: #A80036; stroke-width: 1.5;\" x1=\"428.5\" x2=\"498.5\" y1=\"40\" y2=\"40\"/><line style=\"stroke: #A80036; stroke-width: 1.5;\" x1=\"428.5\" x2=\"498.5\" y1=\"48\" y2=\"48\"/><rect fill=\"#FEFECE\" filter=\"url(#f1)\" height=\"48\" style=\"stroke: #A80036; stroke-width: 1.5;\" width=\"71\" x=\"368\" y=\"116\"/><ellipse cx=\"383\" cy=\"132\" fill=\"#ADD1B2\" rx=\"11\" ry=\"11\" style=\"stroke: #A80036; stroke-width: 1.0;\"/><path d=\"M385.9688,137.6406 Q385.3906,137.9375 384.75,138.0859 Q384.1094,138.2344 383.4063,138.2344 Q380.9063,138.2344 379.5859,136.5859 Q378.2656,134.9375 378.2656,131.8125 Q378.2656,128.6875 379.5859,127.0313 Q380.9063,125.375 383.4063,125.375 Q384.1094,125.375 384.7578,125.5313 Q385.4063,125.6875 385.9688,125.9844 L385.9688,128.7031 Q385.3438,128.125 384.75,127.8516 Q384.1563,127.5781 383.5313,127.5781 Q382.1875,127.5781 381.5,128.6484 Q380.8125,129.7188 380.8125,131.8125 Q380.8125,133.9063 381.5,134.9766 Q382.1875,136.0469 383.5313,136.0469 Q384.1563,136.0469 384.75,135.7734 Q385.3438,135.5 385.9688,134.9219 L385.9688,137.6406 Z \"/><text fill=\"#000000\" font-family=\"sans-serif\" font-size=\"12\" lengthAdjust=\"spacingAndGlyphs\" textLength=\"39\" x=\"397\" y=\"136.1543\">Arrays</text><line style=\"stroke: #A80036; stroke-width: 1.5;\" x1=\"369\" x2=\"438\" y1=\"148\" y2=\"148\"/><line style=\"stroke: #A80036; stroke-width: 1.5;\" x1=\"369\" x2=\"438\" y1=\"156\" y2=\"156\"/><rect fill=\"#FEFECE\" filter=\"url(#f1)\" height=\"48\" style=\"stroke: #A80036; stroke-width: 1.5;\" width=\"100\" x=\"474.5\" y=\"116\"/><ellipse cx=\"489.5\" cy=\"132\" fill=\"#ADD1B2\" rx=\"11\" ry=\"11\" style=\"stroke: #A80036; stroke-width: 1.0;\"/><path d=\"M492.4688,137.6406 Q491.8906,137.9375 491.25,138.0859 Q490.6094,138.2344 489.9063,138.2344 Q487.4063,138.2344 486.0859,136.5859 Q484.7656,134.9375 484.7656,131.8125 Q484.7656,128.6875 486.0859,127.0313 Q487.4063,125.375 489.9063,125.375 Q490.6094,125.375 491.2578,125.5313 Q491.9063,125.6875 492.4688,125.9844 L492.4688,128.7031 Q491.8438,128.125 491.25,127.8516 Q490.6563,127.5781 490.0313,127.5781 Q488.6875,127.5781 488,128.6484 Q487.3125,129.7188 487.3125,131.8125 Q487.3125,133.9063 488,134.9766 Q488.6875,136.0469 490.0313,136.0469 Q490.6563,136.0469 491.25,135.7734 Q491.8438,135.5 492.4688,134.9219 L492.4688,137.6406 Z \"/><text fill=\"#000000\" font-family=\"sans-serif\" font-size=\"12\" lengthAdjust=\"spacingAndGlyphs\" textLength=\"68\" x=\"503.5\" y=\"136.1543\">Collections</text><line style=\"stroke: #A80036; stroke-width: 1.5;\" x1=\"475.5\" x2=\"573.5\" y1=\"148\" y2=\"148\"/><line style=\"stroke: #A80036; stroke-width: 1.5;\" x1=\"475.5\" x2=\"573.5\" y1=\"156\" y2=\"156\"/><path d=\"M160.5,76.024 C160.5,89.579 160.5,104.038 160.5,115.678 \" fill=\"none\" style=\"stroke: #A80036; stroke-width: 1.0;\"/><polygon fill=\"none\" points=\"153.5,76,160.5,56,167.5,76,153.5,76\" style=\"stroke: #A80036; stroke-width: 1.0;\"/><path d=\"M123.923,178.28 C109.098,193.391 92.4338,210.375 79.3816,223.678 \" fill=\"none\" style=\"stroke: #A80036; stroke-width: 1.0;\"/><polygon fill=\"none\" points=\"118.93,173.374,137.934,164,128.923,183.179,118.93,173.374\" style=\"stroke: #A80036; stroke-width: 1.0;\"/><path d=\"M160.5,184.024 C160.5,197.579 160.5,212.038 160.5,223.678 \" fill=\"none\" style=\"stroke: #A80036; stroke-width: 1.0;\"/><polygon fill=\"none\" points=\"153.5,184,160.5,164,167.5,184,153.5,184\" style=\"stroke: #A80036; stroke-width: 1.0;\"/><path d=\"M195.404,178.753 C209.263,193.744 224.767,210.514 236.939,223.678 \" fill=\"none\" style=\"stroke: #A80036; stroke-width: 1.0;\"/><polygon fill=\"none\" points=\"190.202,183.438,181.765,164,200.482,173.934,190.202,183.438\" style=\"stroke: #A80036; stroke-width: 1.0;\"/><path d=\"M163.747,292.0236 C164.77,305.5792 165.861,320.0381 166.74,331.6784 \" fill=\"none\" style=\"stroke: #A80036; stroke-width: 1.0; stroke-dasharray: 7.0,7.0;\"/><polygon fill=\"none\" points=\"156.761,292.4705,162.236,272,170.721,291.4169,156.761,292.4705\" style=\"stroke: #A80036; stroke-width: 1.0;\"/><path d=\"M53.2529,292.0236 C52.2299,305.5792 51.1386,320.0381 50.2601,331.6784 \" fill=\"none\" style=\"stroke: #A80036; stroke-width: 1.0; stroke-dasharray: 7.0,7.0;\"/><polygon fill=\"none\" points=\"46.2787,291.4169,54.7641,272,60.239,292.4705,46.2787,291.4169\" style=\"stroke: #A80036; stroke-width: 1.0;\"/><path d=\"M287.5,76.024 C287.5,89.579 287.5,104.038 287.5,115.678 \" fill=\"none\" style=\"stroke: #A80036; stroke-width: 1.0; stroke-dasharray: 7.0,7.0;\"/><polygon fill=\"none\" points=\"280.5,76,287.5,56,294.5,76,280.5,76\" style=\"stroke: #A80036; stroke-width: 1.0;\"/><path d=\"M440.511,73.613 C432.454,87.848 423.682,103.345 416.701,115.678 \" fill=\"none\" style=\"stroke: #A80036; stroke-width: 1.0;\"/><polygon fill=\"none\" points=\"434.537,69.957,450.481,56,446.721,76.854,434.537,69.957\" style=\"stroke: #A80036; stroke-width: 1.0;\"/><path d=\"M486.872,73.613 C495.063,87.848 503.982,103.345 511.079,115.678 \" fill=\"none\" style=\"stroke: #A80036; stroke-width: 1.0;\"/><polygon fill=\"none\" points=\"480.645,76.826,476.736,56,492.779,69.844,480.645,76.826\" style=\"stroke: #A80036; stroke-width: 1.0;\"/></g></svg>"
      ],
      "text/plain": [
       "<IPython.core.display.SVG object>"
      ]
     },
     "execution_count": 2,
     "metadata": {},
     "output_type": "execute_result"
    }
   ],
   "source": [
    "%%plantuml\n",
    "@startuml\n",
    "interface Iterable\n",
    "interface Collection\n",
    "interface Set\n",
    "interface List\n",
    "interface Map\n",
    "Iterable <|-- Collection\n",
    "Collection <|-- Set\n",
    "Collection <|-- List\n",
    "Collection <|-- Queue\n",
    "List <|.. ArrayList\n",
    "Set <|.. HashSet\n",
    "Map <|.. HashMap\n",
    "class Object\n",
    "class Arrays\n",
    "class Collections\n",
    "Object <|-- Arrays\n",
    "Object <|-- Collections\n",
    "@enduml"
   ]
  },
  {
   "cell_type": "markdown",
   "metadata": {},
   "source": [
    "* 많이 사용하는 Collection 데이터구조의 특징\n",
    "\n",
    "데이터구조 | 종류 | 특징\n",
    "------|------|------\n",
    "ArrayList| ArrayList, LinkedList | ArrayList는 순서가 있어서, 정수 인덱스를 사용하여 읽거나, 수정할 수 있다.\n",
    "Queue | LinkedList | Queue는 FIFO 순위가 있어서 순서가 정해지면 수정할 수 없다.\n",
    "Set | HashSet, TreeSet, LinkedHashSet | Set은 순서가 없어 인덱스를 사용하지 못한다. 데이터중복이 없고 하나만 있다는 점에서 key와 같은 의미 (key로만 구성이 된 dictionary)\n",
    "Map | HashMap, TreeMap, LinkedHashMap | Map은 key-value가 1:1로 구성함. 특정 key가 어떤 값을 갖는지 사전식으로 저장.문자를 인덱스로 사용할 수 있다."
   ]
  },
  {
   "cell_type": "markdown",
   "metadata": {},
   "source": [
    "* Java Collections Framework (java.util)의 데이터 관련 기능\n",
    "    * 검색할 경우 Iterator를 사용할 수 있다 (Iterable을 상속하니까)\n",
    "    * 정렬하려면, comparable, comparator를 사용한다.\n",
    "\n",
    "데이터구조 | 입력 | 읽기 | 수정 | 삭제 | 크기\n",
    "-------|-------|-------|-------|-------|-------\n",
    "ArrayList | add() | get(index) | set(index, new value) | remove(index) | size()\n",
    "Queue | add(), offer() | peek() | 우선순위이기 때문에 remove and reinsert | poll(), remove() | size()\n",
    "Set | add() | 유일한 값이므로 순서대로 읽지 못함 | remove and insert | remove() | size()\n",
    "Map | put() | get(key), values() | put(key, new value) | remove(key) | size()"
   ]
  },
  {
   "cell_type": "markdown",
   "metadata": {},
   "source": [
    "* 다음은 Arrays와 Collection의 ArrayList, Queue, Map, Set을 소개한다."
   ]
  },
  {
   "cell_type": "markdown",
   "metadata": {},
   "source": [
    "### 6.3.1 Arrays\n",
    "\n",
    "* 데이터구조는 다른 데이터타잎과 마찬가지로, 선언부터 해야 한다.\n",
    "* 데이터구조의 선언은 여러 데이터를 저장하는 방식을 정하는 것이다.\n",
    "* 자료형 (data type)을 미리 선언하고, 필요한 메모리공간을 확보한다.\n",
    "* 데이터구조는 사용하기 전 선언을 해야 한다. 물론 변수도 선언을 한다.\n",
    "* Arrays는 인덱스 방식으로 사용한다.\n",
    "    ```\n",
    "    데이터타잎[] 변수명=new 데이터타잎[크기] 또는\n",
    "    데이터타잎[] 변수명=new 생성자\n",
    "    ```\n",
    "    \n",
    "    * 자료에 저장되는 데이터형을 명시한다.\n",
    "        ```\n",
    "        int[] arr;\n",
    "        ```\n",
    "        \n",
    "    * c방식은 int arr[]\n"
   ]
  },
  {
   "cell_type": "markdown",
   "metadata": {
    "collapsed": true
   },
   "source": [
    "* 선언 및 저장을 따로 하거나, 같이 할 수 있다."
   ]
  },
  {
   "cell_type": "code",
   "execution_count": 8,
   "metadata": {
    "collapsed": false
   },
   "outputs": [
    {
     "name": "stdout",
     "output_type": "stream",
     "text": [
      " int[] a=new int[4];\r\n",
      "|  Modified variable a of type int[] with initial value [I@1ce92674\r\n",
      "|    Update overwrote variable a\r\n",
      "\r\n"
     ]
    }
   ],
   "source": [
    "int[] a=new int[4];"
   ]
  },
  {
   "cell_type": "code",
   "execution_count": 10,
   "metadata": {
    "collapsed": false
   },
   "outputs": [
    {
     "name": "stdout",
     "output_type": "stream",
     "text": [
      " int[] a = {1, 2, 3, 4};\r\n",
      "|  Modified variable a of type int[] with initial value [I@6fd02e5\r\n",
      "|    Update overwrote variable a\r\n",
      "\r\n"
     ]
    }
   ],
   "source": [
    "int[] a = {1, 2, 3, 4};"
   ]
  },
  {
   "cell_type": "markdown",
   "metadata": {
    "collapsed": true
   },
   "source": [
    "* 저장된 갯수는 length로 알 수 있다. for문에 사용할 수 있다.\n",
    "* 인덱스를 이용하여 출력한다."
   ]
  },
  {
   "cell_type": "markdown",
   "metadata": {},
   "source": [
    "* 주의: 사람은 1부터 숫자를 세는 것이 보통이지만, 컴퓨터는 0부터 시작한다.\n",
    "* Arrays를 사용할 경우 대괄호에 들어가는 수를 인덱스 index라고 한다.\n",
    "* 인덱스는 정수 값. 0부터 시작!\n",
    "    * 음수는 사용하지 않는다.\n",
    "    * 소수도 사용하지 않는다.\n",
    "    * 일반적으로 문자를 사용하지 않는다."
   ]
  },
  {
   "cell_type": "code",
   "execution_count": 12,
   "metadata": {
    "collapsed": false
   },
   "outputs": [
    {
     "name": "stdout",
     "output_type": "stream",
     "text": [
      " for(int i=0;i<4;i++)\r\n",
      "     System.out.print(a[i]);\r\n",
      "1234\r\n"
     ]
    }
   ],
   "source": [
    "for(int i=0;i<4;i++)\n",
    "    System.out.print(a[i]);"
   ]
  },
  {
   "cell_type": "code",
   "execution_count": 13,
   "metadata": {
    "collapsed": false
   },
   "outputs": [
    {
     "name": "stdout",
     "output_type": "stream",
     "text": [
      " for(int i=0;i<a.length;i++)\r\n",
      "     System.out.print(a[i]);\r\n",
      "1234\r\n"
     ]
    }
   ],
   "source": [
    "for(int i=0;i<a.length;i++)\n",
    "    System.out.print(a[i]);"
   ]
  },
  {
   "cell_type": "markdown",
   "metadata": {},
   "source": [
    "* 인덱스가 저장된 범위를 넘어가면 오류가 발생한다. IndexOutOfBoundsException"
   ]
  },
  {
   "cell_type": "code",
   "execution_count": 14,
   "metadata": {
    "collapsed": false
   },
   "outputs": [
    {
     "name": "stdout",
     "output_type": "stream",
     "text": [
      " System.out.print(a[5]);\r\n",
      "|  java.lang.ArrayIndexOutOfBoundsException thrown: 5\r\n",
      "|        at (#26:1)\r\n",
      "\r\n"
     ]
    }
   ],
   "source": [
    "System.out.print(a[5]);"
   ]
  },
  {
   "cell_type": "markdown",
   "metadata": {
    "collapsed": true
   },
   "source": [
    "* 문자열 Arrays"
   ]
  },
  {
   "cell_type": "code",
   "execution_count": 15,
   "metadata": {
    "collapsed": false
   },
   "outputs": [
    {
     "name": "stdout",
     "output_type": "stream",
     "text": [
      " String[] strArr=new String[3];\r\n",
      "|  Added variable strArr of type String[] with initial value [Ljava.lang.String;@1e397ed7\r\n",
      "\r\n"
     ]
    }
   ],
   "source": [
    "String[] strArr=new String[3];"
   ]
  },
  {
   "cell_type": "code",
   "execution_count": 22,
   "metadata": {
    "collapsed": false
   },
   "outputs": [
    {
     "name": "stdout",
     "output_type": "stream",
     "text": [
      " String[] strArr={\"Seoul\", \"New York\", \"Tokyo\"};\r\n",
      "|  Added variable strArr of type String[] with initial value [Ljava.lang.String;@f6c48ac\r\n",
      "\r\n"
     ]
    }
   ],
   "source": [
    "String[] strArr={\"Seoul\", \"New York\", \"Tokyo\"};"
   ]
  },
  {
   "cell_type": "code",
   "execution_count": 23,
   "metadata": {
    "collapsed": false
   },
   "outputs": [
    {
     "name": "stdout",
     "output_type": "stream",
     "text": [
      " strArr.length\r\n",
      "|  Expression value is: 3\r\n",
      "|    assigned to temporary variable $2 of type int\r\n",
      "\r\n"
     ]
    }
   ],
   "source": [
    "strArr.length"
   ]
  },
  {
   "cell_type": "code",
   "execution_count": 26,
   "metadata": {
    "collapsed": false
   },
   "outputs": [
    {
     "name": "stdout",
     "output_type": "stream",
     "text": [
      " for(int i=0;i<strArr.length;i++) {\r\n",
      "     if(strArr[i].equals(\"Paris\")) {\r\n",
      "         System.out.printf(\"%d %s\\n\",i,strArr[i]);\r\n",
      "     } else {\r\n",
      "         System.out.printf(\"%d not found\\n\",i);\r\n",
      "     }\r\n",
      " }\r\n",
      "0 not found\r\n",
      "1 not found\r\n",
      "2 not found\r\n",
      "\r\n"
     ]
    }
   ],
   "source": [
    "for(int i=0;i<strArr.length;i++) {\n",
    "    if(strArr[i].equals(\"Paris\")) {\n",
    "        System.out.printf(\"%d %s\\n\",i,strArr[i]);\n",
    "    } else {\n",
    "        System.out.printf(\"%d not found\\n\",i);\n",
    "    }\n",
    "}"
   ]
  },
  {
   "cell_type": "code",
   "execution_count": 19,
   "metadata": {
    "collapsed": false,
    "scrolled": true
   },
   "outputs": [
    {
     "name": "stdout",
     "output_type": "stream",
     "text": [
      " for(String s:strArr) {\r\n",
      "     if(s.equals(\"Paris\")) {\r\n",
      "         System.out.println(s);\r\n",
      "     } else {\r\n",
      "         System.out.println(\"Not Found\");\r\n",
      "     }\r\n",
      " }\r\n",
      "Not Found\r\n",
      "Not Found\r\n",
      "Not Found\r\n",
      "\r\n"
     ]
    }
   ],
   "source": [
    "for(String s:strArr) {\n",
    "    if(s.equals(\"Paris\")) {\n",
    "        System.out.println(s);\n",
    "    } else {\n",
    "        System.out.println(\"Not Found\");\n",
    "    }\n",
    "}"
   ]
  },
  {
   "cell_type": "markdown",
   "metadata": {
    "collapsed": true
   },
   "source": [
    "* 다차원 배열\n",
    "    * 1차원, 2차원, n차원\n",
    "    * 차원의 반복이 필요하다."
   ]
  },
  {
   "cell_type": "code",
   "execution_count": null,
   "metadata": {
    "collapsed": true
   },
   "outputs": [],
   "source": [
    "int marks[][]={{50,60,55,67,70},{62,65,70,70,81},{72,66,77,80,69}};"
   ]
  },
  {
   "cell_type": "markdown",
   "metadata": {
    "collapsed": true
   },
   "source": [
    "* 연관배열 parallel array\n",
    "    * 서로 연관되어 있는 배열 2개를 말한다.\n",
    "    * 세계공항의 기온 [항공기상청 공항](http://amo.kma.go.kr/)\n",
    "\n",
    "공항 | 기온\n",
    "-------|-------\n",
    "도쿄국제공항 | 13\n",
    "베이징 수도 국제공항 | 06\n",
    "런던히드로공항 | 05\n",
    "시드니 공항 | 18\n",
    "존.F.케네디 | 17\n",
    "조모케냐타국제공항 | 17\n",
    "\n",
    "    * 공항명은 문자열, 온드는 정수이다. 서로 데이터 타잎이 다른 경우 사용할 수 있다.\n",
    "    * 연관배열은 동일한 인덱스를 가지고 연결될 수 있다.\n",
    "\n"
   ]
  },
  {
   "cell_type": "code",
   "execution_count": 6,
   "metadata": {
    "collapsed": false
   },
   "outputs": [
    {
     "name": "stdout",
     "output_type": "stream",
     "text": [
      " String[] names={\"동경국제공항\", \"베이징국제공항\",\"런던히드로공항\",\"시드니공항\",\"존.F.케네디\", \"조모케냐타국제공항\"} \r",
      ";\r\n",
      "|  Modified variable names of type String[] with initial value [Ljava.lang.String;@2f686d1f\r\n",
      "|    Update overwrote variable names\r\n",
      "\r\n",
      " int[] marks={13,6,5,18,17,17};\r\n",
      "|  Modified variable marks of type int[] with initial value [I@3fee9989\r\n",
      "|    Update overwrote variable marks\r\n",
      "\r\n"
     ]
    }
   ],
   "source": [
    "String[] names={\"동경국제공항\", \"베이징국제공항\",\"런던히드로공항\",\"시드니공항\",\"존.F.케네디\", \"조모케냐타국제공항\"};\n",
    "int[] marks={13,6,5,18,17,17};\n"
   ]
  },
  {
   "cell_type": "code",
   "execution_count": 8,
   "metadata": {
    "collapsed": false
   },
   "outputs": [
    {
     "name": "stdout",
     "output_type": "stream",
     "text": [
      " for(int i=0;i<names.length;i++)\r\n",
      "     System.out.printf(\"공항%s:\\t온도:%d\\n\",names[i],marks[i])\r\n",
      "공항동경국제공항:\t온도:13\r\n",
      "공항베이징국제공항:\t온도:6\r\n",
      "공항런던히드로공항:\t온도:5\r\n",
      "공항시드니공항:\t온도:18\r\n",
      "공항존.F.케네디:\t온도:17\r\n",
      "공항조모케냐타국제공항:\t온도:17\r\n",
      "\r\n"
     ]
    }
   ],
   "source": [
    "for(int i=0;i<names.length;i++)\n",
    "    System.out.printf(\"공항%s:\\t온도:%d\\n\",names[i],marks[i])"
   ]
  },
  {
   "cell_type": "markdown",
   "metadata": {},
   "source": [
    "### 6.3.2 ArrayList\n",
    "\n",
    "* 배열과 달리 크기를 정하지 않는다.\n",
    "* 다음과 같이 선언한다.\n",
    "\n",
    "    ```\n",
    "    import java.util.ArrayList;\n",
    "\n",
    "    ArrayList arr=new ArrayList();\n",
    "    ```\n",
    "\n",
    "    or\n",
    "\n",
    "    ```\n",
    "    java.util.ArrayList arr=new java.util.ArrayList();\n",
    "    ```\n",
    "\n",
    "* Arrays와 ArrayList의 비교\n",
    "\n",
    "ArrayList | Array\n",
    "-----|-----\n",
    "ArrayList<String> strList=ArrayList<String>();  | String[] strArr=new String[3];\n",
    "ArrayList는 크기를 변경할 수 있다 | Array는 크기 변경 불가\n",
    "ArrayList에는 Object만 넣을 수 있슴 | Array는 Primitives + Object모두 가능.\n",
    "ArrayList는 size(),  get(i) | Array는 length, [i] (인덱스방식) (p.323)"
   ]
  },
  {
   "cell_type": "markdown",
   "metadata": {},
   "source": [
    "* ArrayList에 데이터를 넣는다.\n",
    "    * 넣을 데이터 타잎을 정하지 않으면, 문제가 발생할 수 있다.\n",
    "* 크기는 size()로 알 수 있다.\n",
    "    ```\n",
    "    strList.add(\"Seoul\") -> error\n",
    "    strList.add(new String(\"Seoul\"))\n",
    "    ```\n",
    "\n",
    "* 데이터는 인덱스를 이용해서 get()한다."
   ]
  },
  {
   "cell_type": "code",
   "execution_count": 3,
   "metadata": {
    "collapsed": false
   },
   "outputs": [
    {
     "name": "stdout",
     "output_type": "stream",
     "text": [
      " ArrayList strList=new ArrayList();\r\n",
      "|  Added variable strList of type ArrayList with initial value []\r\n",
      "\r\n",
      " strList.add(new String(\"Seoul\"));\r\n",
      "|  Warning:\r\n",
      "|  unchecked call to add(E) as a member of the raw type java.util.ArrayList\r\n",
      "|  strList.add(new String(\"Seoul\"));\r\n",
      "|  ^------------------------------^\r\n",
      "|  Expression value is: true\r\n",
      "|    assigned to temporary variable $5 of type boolean\r\n",
      "\r\n",
      " strList.size();\r\n",
      "|  Expression value is: 1\r\n",
      "|    assigned to temporary variable $6 of type int\r\n",
      "\r\n"
     ]
    }
   ],
   "source": [
    "ArrayList strList=new ArrayList();\n",
    "strList.add(new String(\"Seoul\"));\n",
    "strList.size();"
   ]
  },
  {
   "cell_type": "code",
   "execution_count": 5,
   "metadata": {
    "collapsed": false
   },
   "outputs": [
    {
     "name": "stdout",
     "output_type": "stream",
     "text": [
      " strList.get(0);\r\n",
      "|  Expression value is: \"Seoul\"\r\n",
      "|    assigned to temporary variable $7 of type Object\r\n",
      "\r\n"
     ]
    }
   ],
   "source": [
    "strList.get(0);"
   ]
  },
  {
   "cell_type": "markdown",
   "metadata": {},
   "source": [
    "* Arrays 배열에 add()함수를 사용하기 (ArrayList를 흉내 내기)\n",
    "* Array를 add()에서 변경하고, 함수를 벗어나도 저장된 값을 유지한다."
   ]
  },
  {
   "cell_type": "code",
   "execution_count": 2,
   "metadata": {
    "collapsed": false
   },
   "outputs": [
    {
     "name": "stdout",
     "output_type": "stream",
     "text": [
      " String[] strArr=new String[3];\r\n",
      "|  Added variable strArr of type String[] with initial value [Ljava.lang.String;@3c0ecd4b\r\n",
      "\r\n",
      " int index=0;\r\n",
      "|  Added variable index of type int with initial value 0\r\n",
      "\r\n",
      " void add(String s) {\r\n",
      "     if(index<strArr.length) {\r\n",
      "         strArr[index]=s;\r\n",
      "         System.out.println(s+\" added\");\r\n",
      "         index++;\r\n",
      "     }\r\n",
      " }\r\n",
      "|  Added method add(String)\r\n",
      "\r\n",
      " \r\n",
      "\r\n",
      " add(new String(\"Seoul\"));\r\n",
      "Seoul added\r\n",
      "\r\n",
      " System.out.println(strArr)\r\n",
      "[Ljava.lang.String;@3c0ecd4b\r\n",
      "\r\n"
     ]
    }
   ],
   "source": [
    "String[] strArr=new String[3];\n",
    "int index=0;\n",
    "void add(String s) {\n",
    "    if(index<strArr.length) {\n",
    "        strArr[index]=s;\n",
    "        System.out.println(s+\" added\");\n",
    "        index++;\n",
    "    }\n",
    "}\n",
    "\n",
    "add(new String(\"Seoul\"));\n",
    "System.out.println(strArr)"
   ]
  },
  {
   "cell_type": "markdown",
   "metadata": {},
   "source": [
    "* ArrayList에 원시타잎을 넣으면 오류가 발생한다.\n",
    "* 사용할 데이터를 정할 수 있다. Generics라고 한다 (아래 설명)."
   ]
  },
  {
   "cell_type": "code",
   "execution_count": 4,
   "metadata": {
    "collapsed": false
   },
   "outputs": [
    {
     "name": "stdout",
     "output_type": "stream",
     "text": [
      " ArrayList<int> numlist=new ArrayList<int>();\r\n",
      "|  Error:\r\n",
      "|  unexpected type\r\n",
      "|    required: reference\r\n",
      "|    found:    int\r\n",
      "|  ArrayList<int> numlist=new ArrayList<int>();\r\n",
      "|            ^-^\r\n",
      "|  Error:\r\n",
      "|  unexpected type\r\n",
      "|    required: reference\r\n",
      "|    found:    int\r\n",
      "|  ArrayList<int> numlist=new ArrayList<int>();\r\n",
      "|                                       ^-^\r\n",
      "\r\n"
     ]
    }
   ],
   "source": [
    "ArrayList<int> numlist=new ArrayList<int>();"
   ]
  },
  {
   "cell_type": "markdown",
   "metadata": {},
   "source": [
    "* Autoboxing\n",
    "    * 원시타잎에서 해당클래스 (Wrapper class)로 자동 변환.\n",
    "    * 다이어몬드 표기 $\\lt$Integer$\\gt$로 선언하고, int를 넣어도 자동 변환한다."
   ]
  },
  {
   "cell_type": "code",
   "execution_count": 6,
   "metadata": {
    "collapsed": false
   },
   "outputs": [
    {
     "name": "stdout",
     "output_type": "stream",
     "text": [
      " ArrayList<Integer> numList=new ArrayList<Integer>();\r\n",
      "|  Modified variable numList of type ArrayList<Integer> with initial value []\r\n",
      "|    Update overwrote variable numList\r\n",
      "\r\n",
      " numList.add(1);\r\n",
      "|  Expression value is: true\r\n",
      "|    assigned to temporary variable $6 of type boolean\r\n",
      "\r\n"
     ]
    }
   ],
   "source": [
    "ArrayList<Integer> numList=new ArrayList<Integer>();\n",
    "numList.add(1);"
   ]
  },
  {
   "cell_type": "markdown",
   "metadata": {
    "collapsed": true
   },
   "source": [
    "* 프로그래밍 원칙 \"program to an interface and not to implementations\"에 따라 부모 List를 선언할 수 있다.\n",
    "* 부모를 상속받는 하위클래스를 사용할 경우, 변경이 용이해 질 수 있다.\n",
    "\n",
    "선언을 넓게 | 선언을 좁게\n",
    "----------|----------\n",
    "List<E> list = new ArrayList<E>(); | ArrayList<E> list = new ArrayList<E>();\n",
    "Map<K, V> map = new HashMap<K, V>(); | HashMap<K, V> map = new HashMap<K, V>();\n"
   ]
  },
  {
   "cell_type": "code",
   "execution_count": 8,
   "metadata": {
    "collapsed": false
   },
   "outputs": [
    {
     "name": "stdout",
     "output_type": "stream",
     "text": [
      " List<Integer> list=new ArrayList<Integer>();\r\n",
      "|  Modified variable list of type List<Integer> with initial value []\r\n",
      "|    Update overwrote variable list\r\n",
      "\r\n",
      " for(int i=0;i<10;i++)\r\n",
      "     list.add(i);\r\n",
      "\r\n",
      " System.out.println(list);\r\n",
      "[0, 1, 2, 3, 4, 5, 6, 7, 8, 9]\r\n",
      "\r\n"
     ]
    }
   ],
   "source": [
    "List<Integer> list=new ArrayList<Integer>();\n",
    "for(int i=0;i<10;i++)\n",
    "    list.add(i);\n",
    "System.out.println(list);"
   ]
  },
  {
   "cell_type": "code",
   "execution_count": 29,
   "metadata": {
    "collapsed": false
   },
   "outputs": [
    {
     "name": "stdout",
     "output_type": "stream",
     "text": [
      " List<String> cities = new ArrayList<String>();\r\n",
      "|  Modified variable cities of type List<String> with initial value []\r\n",
      "|    Update overwrote variable cities\r\n",
      "\r\n",
      " cities.add(\"Seoul\");\r\n",
      "|  Expression value is: true\r\n",
      "|    assigned to temporary variable $9 of type boolean\r\n",
      "\r\n",
      " cities.add(\"NY\");\r\n",
      "|  Expression value is: true\r\n",
      "|    assigned to temporary variable $10 of type boolean\r\n",
      "\r\n",
      " cities.add(\"Sydney\");\r\n",
      "|  Expression value is: true\r\n",
      "|    assigned to temporary variable $11 of type boolean\r\n",
      "\r\n",
      " \r\n",
      "\r\n",
      " System.out.println(cities);\r\n",
      "[Seoul, NY, Sydney]\r\n",
      "\r\n"
     ]
    }
   ],
   "source": [
    "List<String> cities = new ArrayList<String>();\n",
    "cities.add(\"Seoul\");\n",
    "cities.add(\"NY\");\n",
    "cities.add(\"Sydney\");\n",
    "\n",
    "System.out.println(cities);"
   ]
  },
  {
   "cell_type": "markdown",
   "metadata": {
    "collapsed": true
   },
   "source": [
    "* Arrays로 변경할 수 있다."
   ]
  },
  {
   "cell_type": "code",
   "execution_count": 9,
   "metadata": {
    "collapsed": false
   },
   "outputs": [
    {
     "name": "stdout",
     "output_type": "stream",
     "text": [
      " Integer[] a={1,2,3};\r\n",
      "|  Added variable a of type Integer[] with initial value [Ljava.lang.Integer;@589838eb\r\n",
      "\r\n",
      " List<Integer> aList=Arrays.asList(a);\r\n",
      "|  Added variable aList of type List<Integer> with initial value [1, 2, 3]\r\n",
      "\r\n"
     ]
    }
   ],
   "source": [
    "Integer[] a={1,2,3};\n",
    "List<Integer> aList=Arrays.asList(a);"
   ]
  },
  {
   "cell_type": "code",
   "execution_count": 10,
   "metadata": {
    "collapsed": false,
    "scrolled": true
   },
   "outputs": [
    {
     "name": "stdout",
     "output_type": "stream",
     "text": [
      " ArrayList arrList=new ArrayList(aList);\r\n",
      "|  Warning:\r\n",
      "|  unchecked call to ArrayList(java.util.Collection<? extends E>) as a member of the raw type java.util.ArrayList\r\n",
      "|  ArrayList arrList=new ArrayList(aList);\r\n",
      "|                    ^------------------^\r\n",
      "|  Added variable arrList of type ArrayList with initial value [1, 2, 3] this error is corrected: \r\n",
      "|      unchecked call to ArrayList(java.util.Collection<? extends E>) as a member of the raw type java.util.ArrayList\r\n",
      "|      ArrayList arrList=new ArrayList(aList);\r\n",
      "|                        ^------------------^\r\n",
      "\r\n"
     ]
    }
   ],
   "source": [
    "ArrayList arrList=new ArrayList(aList);"
   ]
  },
  {
   "cell_type": "markdown",
   "metadata": {
    "collapsed": true
   },
   "source": [
    "* 데이터 타잎을 정하지 않으면 오류가 발생한다 (Generics설명은 아래)"
   ]
  },
  {
   "cell_type": "code",
   "execution_count": 9,
   "metadata": {
    "collapsed": false,
    "scrolled": true
   },
   "outputs": [
    {
     "name": "stdout",
     "output_type": "stream",
     "text": [
      " for(Integer a:arrList)\r\n",
      "     System.out.print(a);\r\n",
      "|  Error:\r\n",
      "|  incompatible types: java.lang.Object cannot be converted to java.lang.Integer\r\n",
      "|  for(Integer a:arrList)\r\n",
      "|                ^-----^\r\n",
      "\r\n"
     ]
    }
   ],
   "source": [
    "for(Integer a:arrList)\n",
    "    System.out.print(a);"
   ]
  },
  {
   "cell_type": "code",
   "execution_count": 11,
   "metadata": {
    "collapsed": false,
    "scrolled": true
   },
   "outputs": [
    {
     "name": "stdout",
     "output_type": "stream",
     "text": [
      " ArrayList<Integer> arrList=new ArrayList<Integer>(aList);\r\n",
      "|  Modified variable arrList of type ArrayList<Integer> with initial value [1, 2, 3]\r\n",
      "|    Update overwrote variable arrList\r\n",
      "\r\n"
     ]
    }
   ],
   "source": [
    "ArrayList<Integer> arrList=new ArrayList<Integer>(aList);"
   ]
  },
  {
   "cell_type": "code",
   "execution_count": 11,
   "metadata": {
    "collapsed": false,
    "scrolled": true
   },
   "outputs": [
    {
     "name": "stdout",
     "output_type": "stream",
     "text": [
      " for(Integer a:arrList)\r\n",
      "     System.out.print(a);\r\n",
      "123\r\n"
     ]
    }
   ],
   "source": [
    "for(Integer a:arrList)\n",
    "    System.out.print(a);"
   ]
  },
  {
   "cell_type": "markdown",
   "metadata": {
    "collapsed": true
   },
   "source": [
    "* iterator를 사용할 수 있다.\n",
    "* next()는 Object를 반환한다. 캐스팅을 해야 한다."
   ]
  },
  {
   "cell_type": "code",
   "execution_count": 36,
   "metadata": {
    "collapsed": false
   },
   "outputs": [
    {
     "name": "stdout",
     "output_type": "stream",
     "text": [
      " Iterator iter = cities.iterator();\r\n",
      "|  Modified variable iter of type Iterator with initial value java.util.ArrayList$Itr@72d818d1\r\n",
      "|    Update overwrote variable iter\r\n",
      "\r\n",
      " while(iter.hasNext()) {\r\n",
      "     String s = (String)iter.next();\r\n",
      "     System.out.println(s);\r\n",
      " }\r\n",
      "Seoul\r\n",
      "NY\r\n",
      "Sydney\r\n",
      "\r\n"
     ]
    }
   ],
   "source": [
    "Iterator iter = cities.iterator();\n",
    "while(iter.hasNext()) {\n",
    "    String s = (String)iter.next();\n",
    "    System.out.println(s);\n",
    "}"
   ]
  },
  {
   "cell_type": "markdown",
   "metadata": {
    "collapsed": true
   },
   "source": [
    "* 다차원 ArrayList\n",
    "    * 위치는 x,y로 구성된 2차원 데이터이다.\n",
    "    * 경로는 위치의 집합으로, 위치를 연결하면 만들어 진다."
   ]
  },
  {
   "cell_type": "code",
   "execution_count": 1,
   "metadata": {
    "collapsed": false
   },
   "outputs": [
    {
     "name": "stdout",
     "output_type": "stream",
     "text": [
      " ArrayList<Double[]> tracks=new ArrayList<Double[]>();\r\n",
      "|  Added variable tracks of type ArrayList<Double[]> with initial value []\r\n",
      "\r\n",
      " Double[] pos={100.,100.};\r\n",
      "|  Added variable pos of type Double[] with initial value [Ljava.lang.Double;@31ef45e3\r\n",
      "\r\n",
      " tracks.add(pos);\r\n",
      "|  Expression value is: true\r\n",
      "|    assigned to temporary variable $3 of type boolean\r\n",
      "\r\n",
      " for(Double[] t:tracks)\r\n",
      "     for(Double p:t)\r\n",
      "         System.out.println(p);\r\n",
      "100.0\r\n",
      "100.0\r\n",
      "\r\n"
     ]
    }
   ],
   "source": [
    "ArrayList<Double[]> tracks=new ArrayList<Double[]>();\n",
    "Double[] pos={100.,100.};\n",
    "tracks.add(pos);\n",
    "for(Double[] t:tracks)\n",
    "    for(Double p:t)\n",
    "        System.out.println(p);"
   ]
  },
  {
   "cell_type": "markdown",
   "metadata": {},
   "source": [
    "### 6.3.3 Queue\n",
    "\n",
    "* Queue는 인터페이스라서, 사용하려면 구현하는 클래스가 필요하다.\n",
    "* LinkedList로 구현한다 (singly linked list)\n",
    "* Stack은 Lifo, Queue는 Fifo\n",
    "* 들여다 보기\n",
    "    ```\n",
    "    E peek()\n",
    "    ```\n",
    "\n",
    "* 하나 꺼내기\n",
    "    ```\n",
    "    E poll()\n",
    "    ```"
   ]
  },
  {
   "cell_type": "code",
   "execution_count": 1,
   "metadata": {
    "collapsed": false
   },
   "outputs": [
    {
     "name": "stdout",
     "output_type": "stream",
     "text": [
      " import java.util.LinkedList;\r\n",
      "\r\n",
      " Queue cities = new LinkedList();\r\n",
      "|  Added variable cities of type Queue with initial value []\r\n",
      "\r\n",
      " \r\n",
      "\r\n",
      " cities.add(\"Seoul\");\r\n",
      "|  Warning:\r\n",
      "|  unchecked call to add(E) as a member of the raw type java.util.Queue\r\n",
      "|  cities.add(\"Seoul\");\r\n",
      "|  ^-----------------^\r\n",
      "|  Expression value is: true\r\n",
      "|    assigned to temporary variable $3 of type boolean\r\n",
      "\r\n",
      " cities.add(\"NY\");\r\n",
      "|  Warning:\r\n",
      "|  unchecked call to add(E) as a member of the raw type java.util.Queue\r\n",
      "|  cities.add(\"NY\");\r\n",
      "|  ^--------------^\r\n",
      "|  Expression value is: true\r\n",
      "|    assigned to temporary variable $4 of type boolean\r\n",
      "\r\n",
      " cities.add(\"Tokyo\");\r\n",
      "|  Warning:\r\n",
      "|  unchecked call to add(E) as a member of the raw type java.util.Queue\r\n",
      "|  cities.add(\"Tokyo\");\r\n",
      "|  ^-----------------^\r\n",
      "|  Expression value is: true\r\n",
      "|    assigned to temporary variable $5 of type boolean\r\n",
      "\r\n",
      " \r\n",
      "\r\n",
      " System.out.println(cities);\r\n",
      "[Seoul, NY, Tokyo]\r\n",
      "\r\n"
     ]
    }
   ],
   "source": [
    "import java.util.LinkedList;\n",
    "Queue cities = new LinkedList();\n",
    "\n",
    "cities.add(\"Seoul\");\n",
    "cities.add(\"NY\");\n",
    "cities.add(\"Tokyo\");\n",
    "\n",
    "System.out.println(cities);"
   ]
  },
  {
   "cell_type": "code",
   "execution_count": 4,
   "metadata": {
    "collapsed": false
   },
   "outputs": [
    {
     "name": "stdout",
     "output_type": "stream",
     "text": [
      " cities.peek();\r\n",
      "|  Expression value is: \"Seoul\"\r\n",
      "|    assigned to temporary variable $10 of type Object\r\n",
      "\r\n",
      " System.out.println(cities.poll());\r\n",
      "Seoul\r\n",
      "\r\n",
      " cities.peek();\r\n",
      "|  Expression value is: \"NY\"\r\n",
      "|    assigned to temporary variable $12 of type Object\r\n",
      "\r\n"
     ]
    }
   ],
   "source": [
    "cities.peek();\n",
    "System.out.println(cities.poll());\n",
    "cities.peek();\n"
   ]
  },
  {
   "cell_type": "markdown",
   "metadata": {},
   "source": [
    "### 6.3.4 Set\n",
    "\n",
    "* HashSet (or new TreeSet() will order the elements)\n",
    "* set은 데이터를 추가할 때는 add()를 사용한다.\n",
    "* 순서가 없기 때문에 add()를 사용한다.\n",
    "* set은 key값을 저장한다.\n",
    "* key값이란 unique, 중복 값이 존재하지 않는다."
   ]
  },
  {
   "cell_type": "code",
   "execution_count": 8,
   "metadata": {
    "collapsed": false
   },
   "outputs": [
    {
     "name": "stdout",
     "output_type": "stream",
     "text": [
      " Set<String> colors = new HashSet<String>(); // or new TreeSet() will order th \r",
      "e elements;\r\n",
      "|  Modified variable colors of type Set<String> with initial value []\r\n",
      "|    Update overwrote variable colors\r\n",
      "\r\n",
      " colors.add(\"red\");\r\n",
      "|  Expression value is: true\r\n",
      "|    assigned to temporary variable $35 of type boolean\r\n",
      "\r\n",
      " colors.add(\"green\");\r\n",
      "|  Expression value is: true\r\n",
      "|    assigned to temporary variable $36 of type boolean\r\n",
      "\r\n",
      " colors.add(\"red\");\r\n",
      "|  Expression value is: false\r\n",
      "|    assigned to temporary variable $37 of type boolean\r\n",
      "\r\n",
      " colors.add(\"blue\");\r\n",
      "|  Expression value is: true\r\n",
      "|    assigned to temporary variable $38 of type boolean\r\n",
      "\r\n",
      " colors.add(\"blue\");\r\n",
      "|  Expression value is: false\r\n",
      "|    assigned to temporary variable $39 of type boolean\r\n",
      "\r\n",
      " \r\n",
      "\r\n",
      " System.out.print(colors + \"-\"+colors.size());\r\n",
      "[red, green, blue]-3\r\n"
     ]
    }
   ],
   "source": [
    "Set<String> colors = new HashSet<String>();\n",
    "colors.add(\"red\");\n",
    "colors.add(\"green\");\n",
    "colors.add(\"red\");\n",
    "colors.add(\"blue\");\n",
    "colors.add(\"blue\");\n",
    "\n",
    "System.out.print(colors + \"-\"+colors.size());\n"
   ]
  },
  {
   "cell_type": "markdown",
   "metadata": {},
   "source": [
    "### 6.3.5 Map\n",
    "\n",
    "* 키와 값으로 구성한다.\n",
    "* json\n",
    "* 자바는 associative array를 지원하지 않는다. Map으로 흉내낼 수 있다."
   ]
  },
  {
   "cell_type": "markdown",
   "metadata": {},
   "source": [
    "HashMap | HashSet\n",
    "----------|----------\n",
    "Map interface | Set Interface\n",
    "key-value pair | objects\n",
    "put() | add()\n",
    "key 객체로 hash code생성 | 멤버 객체로 hash code 생성\n",
    "key가 있어서 빠름 | hash map보다 느림\n",
    "\n"
   ]
  },
  {
   "cell_type": "code",
   "execution_count": 39,
   "metadata": {
    "collapsed": false
   },
   "outputs": [
    {
     "name": "stdout",
     "output_type": "stream",
     "text": [
      " Map<String, String> m1 = new HashMap<String, String>(); // or new TreeMap() w \r",
      "ill order based on keys\r\n",
      "|  Added variable m1 of type Map<String, String> with initial value {}\r\n",
      "\r\n",
      " m1.put(\"Windows\", \"2000\");\r\n",
      "|  Expression value is: null\r\n",
      "|    assigned to temporary variable $38 of type String\r\n",
      "\r\n",
      " m1.put(\"Windows\", \"XP\");\r\n",
      "|  Expression value is: \"2000\"\r\n",
      "|    assigned to temporary variable $39 of type String\r\n",
      "\r\n",
      " m1.put(\"Language\", \"Java\");\r\n",
      "|  Expression value is: null\r\n",
      "|    assigned to temporary variable $40 of type String\r\n",
      "\r\n",
      " m1.put(\"Website\", \"programcreek.com\");\r\n",
      "|  Expression value is: null\r\n",
      "|    assigned to temporary variable $41 of type String\r\n",
      "\r\n",
      " System.out.println(\"Map Elements\");\r\n",
      "Map Elements\r\n",
      "\r\n",
      " System.out.print(\"\\t\" + m1);\r\n",
      "\t{Language=Java, Website=programcreek.com, Windows=XP}\r\n"
     ]
    }
   ],
   "source": [
    "Map<String, String> m1 = new HashMap<String, String>(); // or new TreeMap() will order based on keys\n",
    "m1.put(\"Windows\", \"2000\");\n",
    "m1.put(\"Windows\", \"XP\");\n",
    "m1.put(\"Language\", \"Java\");\n",
    "m1.put(\"Website\", \"programcreek.com\");\n",
    "System.out.println(\"Map Elements\");\n",
    "System.out.print(\"\\t\" + m1);"
   ]
  },
  {
   "cell_type": "markdown",
   "metadata": {},
   "source": [
    "## 6.4 Generic type\n",
    "\n",
    "* generic type은 데이터 타잎의 한 종류.\n",
    "* generic type에는 Box class를 사용해서 특정 데이터 타잎을 대신할 수 있다.\n",
    "* Box class의 변수는 한글자, 대문자로 표현한다.\n",
    "* 다이어몬드 <> 표기법을 사용해서 데이터 타잎을 생성할 수 있다.\n",
    "* Collection에도 generic을 사용할 수 있다.\n",
    "* Generics를 사용하면, 데이터 타잎을 제한해서 컴파일 오류를 줄일 수 있다.\n",
    "\n",
    "Box | 설명\n",
    "-----|-----\n",
    "E | Element\n",
    "K | Key\n",
    "N | Number\n",
    "T | Type\n",
    "V | Value\n"
   ]
  },
  {
   "cell_type": "code",
   "execution_count": 13,
   "metadata": {
    "collapsed": false,
    "scrolled": true
   },
   "outputs": [
    {
     "name": "stdout",
     "output_type": "stream",
     "text": [
      " <E> void printArr(E[] arr) {\r\n",
      "     for(E element:arr) {\r\n",
      "         System.out.printf(\"%s\\n\", element);\r\n",
      "     }\r\n",
      " }\r\n",
      "|  Replaced method printArr(E[])\r\n",
      "|    Update overwrote method printArr(E[])\r\n",
      "\r\n",
      " \r\n",
      "\r\n",
      " Integer[] numbers = {1, 2, 3};\r\n",
      "|  Modified variable numbers of type Integer[] with initial value [Ljava.lang.Integer;@1ce92674\r\n",
      "|    Update overwrote variable numbers\r\n",
      "\r\n",
      " Double[] temperatures = {11.2, 21.3, 31.4};\r\n",
      "|  Modified variable temperatures of type Double[] with initial value [Ljava.lang.Double;@5700d6b1\r\n",
      "|    Update overwrote variable temperatures\r\n",
      "\r\n",
      " String[] cities={\"Seoul\",\"NY\",\"Tokyo\"};\r\n",
      "|  Modified variable cities of type String[] with initial value [Ljava.lang.String;@6fd02e5\r\n",
      "|    Update overwrote variable cities\r\n",
      "\r\n",
      " \r\n",
      "\r\n",
      " printArr(numbers);\r\n",
      "1\r\n",
      "2\r\n",
      "3\r\n",
      "\r\n",
      " printArr(temperatures);\r\n",
      "11.2\r\n",
      "21.3\r\n",
      "31.4\r\n",
      "\r\n",
      " printArr(cities);\r\n",
      "Seoul\r\n",
      "NY\r\n",
      "Tokyo\r\n",
      "\r\n"
     ]
    }
   ],
   "source": [
    "<E> void printArr(E[] arr) {\n",
    "    for(E element:arr) {\n",
    "        System.out.printf(\"%s\\n\", element);\n",
    "    }\n",
    "}\n",
    "\n",
    "Integer[] numbers = {1, 2, 3};\n",
    "Double[] temperatures = {11.2, 21.3, 31.4};\n",
    "String[] cities={\"Seoul\",\"NY\",\"Tokyo\"};\n",
    "\n",
    "printArr(numbers);\n",
    "printArr(temperatures);\n",
    "printArr(cities);\n"
   ]
  },
  {
   "cell_type": "markdown",
   "metadata": {},
   "source": [
    "## 6.5 복사의 문제\n",
    "\n",
    "* shallow copy - 데이터 참조 값을 복사\n",
    "* deep copy - 데이터 값을 복사"
   ]
  },
  {
   "cell_type": "markdown",
   "metadata": {
    "collapsed": true
   },
   "source": [
    "* printArr() 테스트 용도"
   ]
  },
  {
   "cell_type": "code",
   "execution_count": null,
   "metadata": {
    "collapsed": true
   },
   "outputs": [],
   "source": [
    "void printArr(int[] n) {\n",
    "    for(int i:n)\n",
    "        System.out.print(i);\n",
    "}"
   ]
  },
  {
   "cell_type": "markdown",
   "metadata": {
    "collapsed": true
   },
   "source": [
    "* setArr0() 안에서 값을 변경하면 그 효과가 함수 밖에서도 지속된다."
   ]
  },
  {
   "cell_type": "code",
   "execution_count": 13,
   "metadata": {
    "collapsed": false
   },
   "outputs": [
    {
     "name": "stdout",
     "output_type": "stream",
     "text": [
      " int[] x={1,2,3};\r\n",
      "|  Modified variable x of type int[] with initial value [I@56ef9176\r\n",
      "|    Update overwrote variable x\r\n",
      "\r\n",
      " void setArr0(int[] n, int i) {\r\n",
      "     n[0]=i;\r\n",
      " }\r\n",
      "|  Modified method setArr0(int[],int)\r\n",
      "|    Update overwrote method setArr0(int[],int)\r\n",
      "\r\n",
      " setArr0(x,55);\r\n",
      "\r\n",
      " printArr(x);\r\n",
      "5523\r\n"
     ]
    }
   ],
   "source": [
    "int[] x={1,2,3};\n",
    "void setArr0(int[] n, int i) {\n",
    "    n[0]=i;\n",
    "}\n",
    "setArr0(x,55);\n",
    "printArr(x);"
   ]
  },
  {
   "cell_type": "markdown",
   "metadata": {
    "collapsed": true
   },
   "source": [
    "* 배열을 복사하면 값이 복사되는 것이 아니라, 'x'의 참조 값이 'y'로 복사된다.\n",
    "* 따라서 원본 'x'가 변경되면, 복사본 'y'도 변경된다."
   ]
  },
  {
   "cell_type": "code",
   "execution_count": 14,
   "metadata": {
    "collapsed": false
   },
   "outputs": [
    {
     "name": "stdout",
     "output_type": "stream",
     "text": [
      " int[] y;\r\n",
      "|  Modified variable y of type int[]\r\n",
      "|    Update overwrote variable y\r\n",
      "\r\n",
      " y=x;\r\n",
      "|  Variable y has been assigned the value [I@56ef9176\r\n",
      "\r\n",
      " printArr(y);\r\n",
      "5523\r\n",
      " setArr0(x,66);\r\n",
      "\r\n",
      " printArr(y);\r\n",
      "6623\r\n"
     ]
    }
   ],
   "source": [
    "int[] y;\n",
    "y=x;\n",
    "printArr(y);\n",
    "setArr0(x,66);\n",
    "printArr(y);"
   ]
  },
  {
   "cell_type": "markdown",
   "metadata": {},
   "source": [
    "## 데이터구조-1\n",
    "\n",
    "### 1-1. 배열 생성하기\n",
    "* 1 ~ 1000의 수 가운데 4로 나누어지고 5로 나누어지지 않는 수를 골라서 리스트에 넣기.\n",
    "\n",
    "### 1-2. 배열에 있는 수의 합계를 구하기\n",
    "\n",
    "* 1-1에서 만든 배열을 사용해서 합계를 구한다.\n",
    "* 1-2에서 반복문을 사용해서 문제를 푼다.\n",
    "\n",
    "* 프로그래밍 요소\n",
    "    * ArrayList\n",
    "    * 다른 구조와의 차이를 이해, 어느 경우 사용해야 좋은지 이해\n",
    "    * 함수는 재사용가능한 모듈인 합계만 만듦.\n",
    "* 주의\n",
    "    * 자료구조 형을 미리 선언해야 함.\n"
   ]
  },
  {
   "cell_type": "code",
   "execution_count": 35,
   "metadata": {
    "collapsed": false
   },
   "outputs": [
    {
     "data": {
      "image/svg+xml": [
       "<svg height=\"893px\" style=\"width:274px;height:893px;\" version=\"1.1\" viewBox=\"0 0 274 893\" width=\"274px\" xmlns=\"http://www.w3.org/2000/svg\" xmlns:xlink=\"http://www.w3.org/1999/xlink\"><defs><filter height=\"300%\" id=\"f1\" width=\"300%\" x=\"-1\" y=\"-1\"><feGaussianBlur result=\"blurOut\" stdDeviation=\"2.0\"/><feColorMatrix in=\"blurOut\" result=\"blurOut2\" type=\"matrix\" values=\"0 0 0 0 0 0 0 0 0 0 0 0 0 0 0 0 0 0 .4 0\"/><feOffset dx=\"4.0\" dy=\"4.0\" in=\"blurOut2\" result=\"blurOut3\"/><feBlend in=\"SourceGraphic\" in2=\"blurOut3\" mode=\"normal\"/></filter></defs><g><ellipse cx=\"146\" cy=\"20\" fill=\"#000000\" filter=\"url(#f1)\" rx=\"10\" ry=\"10\" style=\"stroke: none; stroke-width: 1.0;\"/><rect fill=\"#FEFECE\" filter=\"url(#f1)\" height=\"34.1328\" rx=\"12.5\" ry=\"12.5\" style=\"stroke: #A80036; stroke-width: 1.5;\" width=\"62\" x=\"115\" y=\"50\"/><text fill=\"#000000\" font-family=\"sans-serif\" font-size=\"12\" lengthAdjust=\"spacingAndGlyphs\" textLength=\"42\" x=\"125\" y=\"71.6016\">set i=0</text><rect fill=\"#FEFECE\" filter=\"url(#f1)\" height=\"34.1328\" rx=\"12.5\" ry=\"12.5\" style=\"stroke: #A80036; stroke-width: 1.5;\" width=\"87\" x=\"102.5\" y=\"104.1328\"/><text fill=\"#000000\" font-family=\"sans-serif\" font-size=\"12\" lengthAdjust=\"spacingAndGlyphs\" textLength=\"67\" x=\"112.5\" y=\"125.7344\">initialize list</text><polygon fill=\"#FEFECE\" filter=\"url(#f1)\" points=\"81.5,202.2656,210.5,202.2656,222.5,214.2656,210.5,226.2656,81.5,226.2656,69.5,214.2656,81.5,202.2656\" style=\"stroke: #A80036; stroke-width: 1.5;\"/><text fill=\"#000000\" font-family=\"sans-serif\" font-size=\"11\" lengthAdjust=\"spacingAndGlyphs\" textLength=\"129\" x=\"81.5\" y=\"218.4229\">i divisable by 4, not by 5</text><rect fill=\"#FEFECE\" filter=\"url(#f1)\" height=\"34.1328\" rx=\"12.5\" ry=\"12.5\" style=\"stroke: #A80036; stroke-width: 1.5;\" width=\"99\" x=\"10\" y=\"236.2656\"/><text fill=\"#000000\" font-family=\"sans-serif\" font-size=\"12\" lengthAdjust=\"spacingAndGlyphs\" textLength=\"79\" x=\"20\" y=\"257.8672\">add i to array</text><polygon fill=\"#FEFECE\" filter=\"url(#f1)\" points=\"146,276.3984,158,288.3984,146,300.3984,134,288.3984,146,276.3984\" style=\"stroke: #A80036; stroke-width: 1.5;\"/><rect fill=\"#FEFECE\" filter=\"url(#f1)\" height=\"34.1328\" rx=\"12.5\" ry=\"12.5\" style=\"stroke: #A80036; stroke-width: 1.5;\" width=\"77\" x=\"107.5\" y=\"335.3984\"/><text fill=\"#000000\" font-family=\"sans-serif\" font-size=\"12\" lengthAdjust=\"spacingAndGlyphs\" textLength=\"57\" x=\"117.5\" y=\"357\">add 1 to i</text><polygon fill=\"#FEFECE\" filter=\"url(#f1)\" points=\"146,158.2656,158,170.2656,146,182.2656,134,170.2656,146,158.2656\" style=\"stroke: #A80036; stroke-width: 1.5;\"/><polygon fill=\"#FEFECE\" filter=\"url(#f1)\" points=\"129.5,389.5313,162.5,389.5313,174.5,401.5313,162.5,413.5313,129.5,413.5313,117.5,401.5313,129.5,389.5313\" style=\"stroke: #A80036; stroke-width: 1.5;\"/><text fill=\"#000000\" font-family=\"sans-serif\" font-size=\"11\" lengthAdjust=\"spacingAndGlyphs\" textLength=\"33\" x=\"129.5\" y=\"405.6885\">i&lt;101</text><rect fill=\"#FEFECE\" filter=\"url(#f1)\" height=\"34.1328\" rx=\"12.5\" ry=\"12.5\" style=\"stroke: #A80036; stroke-width: 1.5;\" width=\"67\" x=\"112.5\" y=\"433.5313\"/><text fill=\"#000000\" font-family=\"sans-serif\" font-size=\"12\" lengthAdjust=\"spacingAndGlyphs\" textLength=\"47\" x=\"122.5\" y=\"455.1328\">print list</text><rect fill=\"#FFFFFF\" filter=\"url(#f1)\" height=\"367.5313\" style=\"stroke: #000000; stroke-width: 2.0;\" width=\"173.5\" x=\"54.5\" y=\"478.6641\"/><path d=\"M87.5,479.6641 L87.5,485.6641 L77.5,495.6641 L54.5,495.6641 \" fill=\"#FFFFFF\" style=\"stroke: #000000; stroke-width: 2.0;\"/><text fill=\"#000000\" font-family=\"Serif\" font-size=\"14\" lengthAdjust=\"spacingAndGlyphs\" textLength=\"23\" x=\"57.5\" y=\"490.1641\">sum</text><rect fill=\"#FEFECE\" filter=\"url(#f1)\" height=\"34.1328\" rx=\"12.5\" ry=\"12.5\" style=\"stroke: #A80036; stroke-width: 1.5;\" width=\"62\" x=\"115\" y=\"512.6641\"/><text fill=\"#000000\" font-family=\"sans-serif\" font-size=\"12\" lengthAdjust=\"spacingAndGlyphs\" textLength=\"42\" x=\"125\" y=\"534.2656\">sum=0</text><rect fill=\"#FEFECE\" filter=\"url(#f1)\" height=\"34.1328\" rx=\"12.5\" ry=\"12.5\" style=\"stroke: #A80036; stroke-width: 1.5;\" width=\"144\" x=\"74\" y=\"581.7969\"/><text fill=\"#000000\" font-family=\"sans-serif\" font-size=\"12\" lengthAdjust=\"spacingAndGlyphs\" textLength=\"124\" x=\"84\" y=\"603.3984\">maxiter=length of list</text><rect fill=\"#FEFECE\" filter=\"url(#f1)\" height=\"34.1328\" rx=\"12.5\" ry=\"12.5\" style=\"stroke: #A80036; stroke-width: 1.5;\" width=\"115\" x=\"88.5\" y=\"698.9297\"/><text fill=\"#000000\" font-family=\"sans-serif\" font-size=\"12\" lengthAdjust=\"spacingAndGlyphs\" textLength=\"95\" x=\"98.5\" y=\"720.5313\">sum=sum+list[i]</text><polygon fill=\"#FEFECE\" filter=\"url(#f1)\" points=\"119.5,650.9297,172.5,650.9297,184.5,662.9297,172.5,674.9297,119.5,674.9297,107.5,662.9297,119.5,650.9297\" style=\"stroke: #A80036; stroke-width: 1.5;\"/><text fill=\"#000000\" font-family=\"sans-serif\" font-size=\"11\" lengthAdjust=\"spacingAndGlyphs\" textLength=\"53\" x=\"119.5\" y=\"667.0869\">i&lt;maxiter</text><rect fill=\"#FEFECE\" filter=\"url(#f1)\" height=\"34.1328\" rx=\"12.5\" ry=\"12.5\" style=\"stroke: #A80036; stroke-width: 1.5;\" width=\"75\" x=\"108.5\" y=\"792.0625\"/><text fill=\"#000000\" font-family=\"sans-serif\" font-size=\"12\" lengthAdjust=\"spacingAndGlyphs\" textLength=\"55\" x=\"118.5\" y=\"813.6641\">print sum</text><ellipse cx=\"146\" cy=\"876.1953\" fill=\"none\" filter=\"url(#f1)\" rx=\"10\" ry=\"10\" style=\"stroke: #000000; stroke-width: 1.0;\"/><ellipse cx=\"146.5\" cy=\"876.6953\" fill=\"#000000\" filter=\"url(#f1)\" rx=\"6\" ry=\"6\" style=\"stroke: none; stroke-width: 1.0;\"/><line style=\"stroke: #A80036; stroke-width: 1.5;\" x1=\"146\" x2=\"146\" y1=\"30\" y2=\"50\"/><polygon fill=\"#A80036\" points=\"142,40,146,50,150,40,146,44\" style=\"stroke: #A80036; stroke-width: 1.0;\"/><line style=\"stroke: #A80036; stroke-width: 1.5;\" x1=\"146\" x2=\"146\" y1=\"84.1328\" y2=\"104.1328\"/><polygon fill=\"#A80036\" points=\"142,94.1328,146,104.1328,150,94.1328,146,98.1328\" style=\"stroke: #A80036; stroke-width: 1.0;\"/><line style=\"stroke: #A80036; stroke-width: 1.5;\" x1=\"69.5\" x2=\"59.5\" y1=\"214.2656\" y2=\"214.2656\"/><line style=\"stroke: #A80036; stroke-width: 1.5;\" x1=\"59.5\" x2=\"59.5\" y1=\"214.2656\" y2=\"236.2656\"/><polygon fill=\"#A80036\" points=\"55.5,226.2656,59.5,236.2656,63.5,226.2656,59.5,230.2656\" style=\"stroke: #A80036; stroke-width: 1.0;\"/><line style=\"stroke: #A80036; stroke-width: 1.5;\" x1=\"222.5\" x2=\"232.5\" y1=\"214.2656\" y2=\"214.2656\"/><polygon fill=\"#A80036\" points=\"228.5,241.332,232.5,251.332,236.5,241.332,232.5,245.332\" style=\"stroke: #A80036; stroke-width: 1.5;\"/><line style=\"stroke: #A80036; stroke-width: 1.5;\" x1=\"232.5\" x2=\"232.5\" y1=\"214.2656\" y2=\"288.3984\"/><line style=\"stroke: #A80036; stroke-width: 1.5;\" x1=\"232.5\" x2=\"158\" y1=\"288.3984\" y2=\"288.3984\"/><polygon fill=\"#A80036\" points=\"168,284.3984,158,288.3984,168,292.3984,164,288.3984\" style=\"stroke: #A80036; stroke-width: 1.0;\"/><line style=\"stroke: #A80036; stroke-width: 1.5;\" x1=\"59.5\" x2=\"59.5\" y1=\"270.3984\" y2=\"288.3984\"/><line style=\"stroke: #A80036; stroke-width: 1.5;\" x1=\"59.5\" x2=\"134\" y1=\"288.3984\" y2=\"288.3984\"/><polygon fill=\"#A80036\" points=\"124,284.3984,134,288.3984,124,292.3984,128,288.3984\" style=\"stroke: #A80036; stroke-width: 1.0;\"/><line style=\"stroke: #A80036; stroke-width: 1.5;\" x1=\"146\" x2=\"146\" y1=\"300.3984\" y2=\"335.3984\"/><polygon fill=\"#A80036\" points=\"142,325.3984,146,335.3984,150,325.3984,146,329.3984\" style=\"stroke: #A80036; stroke-width: 1.0;\"/><line style=\"stroke: #A80036; stroke-width: 1.5;\" x1=\"146\" x2=\"146\" y1=\"182.2656\" y2=\"202.2656\"/><polygon fill=\"#A80036\" points=\"142,192.2656,146,202.2656,150,192.2656,146,196.2656\" style=\"stroke: #A80036; stroke-width: 1.0;\"/><line style=\"stroke: #A80036; stroke-width: 1.5;\" x1=\"174.5\" x2=\"269.5\" y1=\"401.5313\" y2=\"401.5313\"/><polygon fill=\"#A80036\" points=\"265.5,319.8984,269.5,309.8984,273.5,319.8984,269.5,315.8984\" style=\"stroke: #A80036; stroke-width: 1.5;\"/><line style=\"stroke: #A80036; stroke-width: 1.5;\" x1=\"269.5\" x2=\"269.5\" y1=\"170.2656\" y2=\"401.5313\"/><line style=\"stroke: #A80036; stroke-width: 1.5;\" x1=\"269.5\" x2=\"158\" y1=\"170.2656\" y2=\"170.2656\"/><polygon fill=\"#A80036\" points=\"168,166.2656,158,170.2656,168,174.2656,164,170.2656\" style=\"stroke: #A80036; stroke-width: 1.0;\"/><line style=\"stroke: #A80036; stroke-width: 1.5;\" x1=\"146\" x2=\"146\" y1=\"369.5313\" y2=\"389.5313\"/><polygon fill=\"#A80036\" points=\"142,379.5313,146,389.5313,150,379.5313,146,383.5313\" style=\"stroke: #A80036; stroke-width: 1.0;\"/><line style=\"stroke: #A80036; stroke-width: 1.5;\" x1=\"146\" x2=\"146\" y1=\"138.2656\" y2=\"158.2656\"/><polygon fill=\"#A80036\" points=\"142,148.2656,146,158.2656,150,148.2656,146,152.2656\" style=\"stroke: #A80036; stroke-width: 1.0;\"/><line style=\"stroke: #A80036; stroke-width: 1.5;\" x1=\"146\" x2=\"146\" y1=\"413.5313\" y2=\"433.5313\"/><polygon fill=\"#A80036\" points=\"142,423.5313,146,433.5313,150,423.5313,146,427.5313\" style=\"stroke: #A80036; stroke-width: 1.0;\"/><line style=\"stroke: #A80036; stroke-width: 1.5;\" x1=\"146\" x2=\"146\" y1=\"546.7969\" y2=\"581.7969\"/><polygon fill=\"#A80036\" points=\"142,571.7969,146,581.7969,150,571.7969,146,575.7969\" style=\"stroke: #A80036; stroke-width: 1.0;\"/><line style=\"stroke: #A80036; stroke-width: 1.5;\" x1=\"146\" x2=\"146\" y1=\"674.9297\" y2=\"698.9297\"/><polygon fill=\"#A80036\" points=\"142,688.9297,146,698.9297,150,688.9297,146,692.9297\" style=\"stroke: #A80036; stroke-width: 1.0;\"/><line style=\"stroke: #A80036; stroke-width: 1.5;\" x1=\"146\" x2=\"146\" y1=\"733.0625\" y2=\"745.0625\"/><line style=\"stroke: #A80036; stroke-width: 1.5;\" x1=\"146\" x2=\"215.5\" y1=\"745.0625\" y2=\"745.0625\"/><polygon fill=\"#A80036\" points=\"211.5,713.9961,215.5,703.9961,219.5,713.9961,215.5,709.9961\" style=\"stroke: #A80036; stroke-width: 1.5;\"/><line style=\"stroke: #A80036; stroke-width: 1.5;\" x1=\"215.5\" x2=\"215.5\" y1=\"662.9297\" y2=\"745.0625\"/><line style=\"stroke: #A80036; stroke-width: 1.5;\" x1=\"215.5\" x2=\"184.5\" y1=\"662.9297\" y2=\"662.9297\"/><polygon fill=\"#A80036\" points=\"194.5,658.9297,184.5,662.9297,194.5,666.9297,190.5,662.9297\" style=\"stroke: #A80036; stroke-width: 1.0;\"/><line style=\"stroke: #A80036; stroke-width: 1.5;\" x1=\"107.5\" x2=\"76.5\" y1=\"662.9297\" y2=\"662.9297\"/><polygon fill=\"#A80036\" points=\"72.5,699.9961,76.5,709.9961,80.5,699.9961,76.5,703.9961\" style=\"stroke: #A80036; stroke-width: 1.5;\"/><line style=\"stroke: #A80036; stroke-width: 1.5;\" x1=\"76.5\" x2=\"76.5\" y1=\"662.9297\" y2=\"757.0625\"/><line style=\"stroke: #A80036; stroke-width: 1.5;\" x1=\"76.5\" x2=\"146\" y1=\"757.0625\" y2=\"757.0625\"/><line style=\"stroke: #A80036; stroke-width: 1.5;\" x1=\"146\" x2=\"146\" y1=\"757.0625\" y2=\"792.0625\"/><polygon fill=\"#A80036\" points=\"142,782.0625,146,792.0625,150,782.0625,146,786.0625\" style=\"stroke: #A80036; stroke-width: 1.0;\"/><line style=\"stroke: #A80036; stroke-width: 1.5;\" x1=\"146\" x2=\"146\" y1=\"615.9297\" y2=\"650.9297\"/><polygon fill=\"#A80036\" points=\"142,640.9297,146,650.9297,150,640.9297,146,644.9297\" style=\"stroke: #A80036; stroke-width: 1.0;\"/><line style=\"stroke: #A80036; stroke-width: 1.5;\" x1=\"146\" x2=\"146\" y1=\"467.6641\" y2=\"512.6641\"/><polygon fill=\"#A80036\" points=\"142,502.6641,146,512.6641,150,502.6641,146,506.6641\" style=\"stroke: #A80036; stroke-width: 1.0;\"/><line style=\"stroke: #A80036; stroke-width: 1.5;\" x1=\"146\" x2=\"146\" y1=\"826.1953\" y2=\"866.1953\"/><polygon fill=\"#A80036\" points=\"142,856.1953,146,866.1953,150,856.1953,146,860.1953\" style=\"stroke: #A80036; stroke-width: 1.0;\"/></g></svg>"
      ],
      "text/plain": [
       "<IPython.core.display.SVG object>"
      ]
     },
     "execution_count": 35,
     "metadata": {},
     "output_type": "execute_result"
    }
   ],
   "source": [
    "%%plantuml\n",
    "@startuml\n",
    "start\n",
    ":set i=0;\n",
    ":initialize list;\n",
    "repeat\n",
    "if(i divisable by 4, not by 5)\n",
    ":add i to array;\n",
    "endif\n",
    ":add 1 to i;\n",
    "repeat while(i<101)\n",
    ":print list;\n",
    "partition sum {\n",
    "    :sum=0;\n",
    "    :maxiter=length of list;\n",
    "    while(i<maxiter)\n",
    "    :sum=sum+list[i];\n",
    "    endwhile\n",
    "    :print sum;\n",
    "}\n",
    "stop\n",
    "@enduml"
   ]
  },
  {
   "cell_type": "markdown",
   "metadata": {},
   "source": [
    "* 조건에 맞는 x를 출력할 수 있다.\n",
    "* 그러나 print 명령문을 사용하면 출력만 하고, 값이 사라진다. 저장되지 않는다."
   ]
  },
  {
   "cell_type": "code",
   "execution_count": 48,
   "metadata": {
    "collapsed": false
   },
   "outputs": [
    {
     "name": "stdout",
     "output_type": "stream",
     "text": [
      " for(int x=0; x<100;x++) {\r\n",
      "     if(x%4==0 && x%5!=0) {\r\n",
      "         System.out.printf(\"%d \",x);\r\n",
      "     }\r\n",
      " }\r\n",
      "4 8 12 16 24 28 32 36 44 48 52 56 64 68 72 76 84 88 92 96 \r\n"
     ]
    }
   ],
   "source": [
    "for(int x=0; x<100;x++) {\n",
    "    if(x%4==0 && x%5!=0) {\n",
    "        System.out.printf(\"%d \",x);\n",
    "    }\n",
    "}"
   ]
  },
  {
   "cell_type": "markdown",
   "metadata": {},
   "source": [
    "* mylist를 이용해서 값을 저장한다.\n",
    "* mylist는 리스트 데이터구조를 사용한다. 따라서 add()를 사용하여 값을 추가할 수 있다."
   ]
  },
  {
   "cell_type": "markdown",
   "metadata": {},
   "source": [
    "* 클래스 Integer로 선언하고, 원시타잎 int를 넣었다. autoboxing 된다."
   ]
  },
  {
   "cell_type": "code",
   "execution_count": 59,
   "metadata": {
    "collapsed": false,
    "scrolled": true
   },
   "outputs": [
    {
     "name": "stdout",
     "output_type": "stream",
     "text": [
      " ArrayList<Integer> mylist=new ArrayList<Integer>();\r\n",
      "|  Modified variable mylist of type ArrayList<Integer> with initial value []\r\n",
      "|    Update overwrote variable mylist\r\n",
      "\r\n",
      " for(int x=0; x<100;x++) {\r\n",
      "     if(x%4==0 && x%5!=0) {\r\n",
      "         mylist.add(x);\r\n",
      "     }\r\n",
      " }\r\n",
      "\r\n",
      " \r\n",
      "\r\n",
      " System.out.print(mylist);\r\n",
      "[4, 8, 12, 16, 24, 28, 32, 36, 44, 48, 52, 56, 64, 68, 72, 76, 84, 88, 92, 96]\r\n"
     ]
    }
   ],
   "source": [
    "ArrayList<Integer> mylist=new ArrayList<Integer>();\n",
    "for(int x=0; x<100;x++) {\n",
    "    if(x%4==0 && x%5!=0) {\n",
    "        mylist.add(x);\n",
    "    }\n",
    "}\n",
    "\n",
    "System.out.print(mylist);"
   ]
  },
  {
   "cell_type": "markdown",
   "metadata": {},
   "source": [
    "* for문을 사용해서 저장된 값의 합계를 구한다.\n",
    "* 합계를 구하려면, 데이터구조에 몇 개의 자료가 있는지 알아야 한다.\n",
    "* 몇 개를 출력하나\n",
    "    ```\n",
    "    for(int j=0;j<??;j++)\n",
    "    ```\n",
    "* len()함수를 사용하면 데이터를 가지고 있는지, 몇 개 있는지 알 수 있다."
   ]
  },
  {
   "cell_type": "markdown",
   "metadata": {},
   "source": [
    "* 데이터를 가지고 있는지 확인할 수 있다. isEmpty()는 false, 데이터를 가지고 있다는 의미이다."
   ]
  },
  {
   "cell_type": "code",
   "execution_count": 60,
   "metadata": {
    "collapsed": false,
    "scrolled": true
   },
   "outputs": [
    {
     "name": "stdout",
     "output_type": "stream",
     "text": [
      " mylist.isEmpty();\r\n",
      "|  Expression value is: false\r\n",
      "|    assigned to temporary variable $6 of type boolean\r\n",
      "\r\n"
     ]
    }
   ],
   "source": [
    "mylist.isEmpty();"
   ]
  },
  {
   "cell_type": "code",
   "execution_count": 62,
   "metadata": {
    "collapsed": false,
    "scrolled": true
   },
   "outputs": [
    {
     "name": "stdout",
     "output_type": "stream",
     "text": [
      " mylist.size()==0;\r\n",
      "|  Expression value is: false\r\n",
      "|    assigned to temporary variable $8 of type boolean\r\n",
      "\r\n"
     ]
    }
   ],
   "source": [
    "mylist.size()==0;"
   ]
  },
  {
   "cell_type": "markdown",
   "metadata": {},
   "source": [
    "* 학습을 위해 maxiter index를 사용."
   ]
  },
  {
   "cell_type": "code",
   "execution_count": 64,
   "metadata": {
    "collapsed": false
   },
   "outputs": [
    {
     "name": "stdout",
     "output_type": "stream",
     "text": [
      " int sum=0;\r\n",
      "|  Modified variable sum of type int with initial value 0\r\n",
      "|    Update overwrote variable sum\r\n",
      "\r\n",
      " int maxiter=mylist.size();\r\n",
      "|  Modified variable maxiter of type int with initial value 20\r\n",
      "|    Update overwrote variable maxiter\r\n",
      "\r\n",
      " \r\n",
      "\r\n",
      " for(int i=0;i<maxiter;i++)\r\n",
      "     sum=sum+mylist.get(i);\r\n",
      "\r\n",
      " \r\n",
      "\r\n",
      " System.out.print(sum);\r\n",
      "1000\r\n"
     ]
    }
   ],
   "source": [
    "int sum=0;\n",
    "int maxiter=mylist.size();\n",
    "\n",
    "for(int i=0;i<maxiter;i++)\n",
    "    sum=sum+mylist.get(i);\n",
    "\n",
    "System.out.print(sum);"
   ]
  },
  {
   "cell_type": "markdown",
   "metadata": {},
   "source": [
    "* 보다 간단하게. 길이를 별도로 세지 않음."
   ]
  },
  {
   "cell_type": "code",
   "execution_count": 65,
   "metadata": {
    "collapsed": false
   },
   "outputs": [
    {
     "name": "stdout",
     "output_type": "stream",
     "text": [
      " int sum=0;\r\n",
      "|  Modified variable sum of type int with initial value 0\r\n",
      "|    Update overwrote variable sum\r\n",
      "\r\n",
      " for(int i:mylist)\r\n",
      "     sum+=i;\r\n",
      "\r\n",
      " System.out.print(sum);\r\n",
      "1000\r\n"
     ]
    }
   ],
   "source": [
    "int sum=0;\n",
    "for(int i:mylist)\n",
    "    sum+=i;\n",
    "System.out.print(sum);"
   ]
  },
  {
   "cell_type": "markdown",
   "metadata": {},
   "source": [
    "### 함수로\n",
    "\n",
    "* 가능한 오류 생각해보기 - 배열이 비어 있는 경우\n",
    "* len 길이로 확인하지만 더 간단한 표현으로 가능 (아래 참조)\n",
    "* 합계만 함수로 만듦 - 어느 List나 입력하면 합계 출력하는 기능.\n",
    "\n",
    "* 함수로 만들어 보기\n",
    "    * 함수이름 sumList\n",
    "    * 입력 ArrayList 리스트 - 부모 List로 argument를 넘겨 주어도 된다.\n",
    "    * 출력 int 합계값\n",
    "        ```\n",
    "        int sumList(ArrayList<Integer> aList)\n",
    "        ```"
   ]
  },
  {
   "cell_type": "code",
   "execution_count": 71,
   "metadata": {
    "collapsed": false,
    "scrolled": true
   },
   "outputs": [
    {
     "name": "stdout",
     "output_type": "stream",
     "text": [
      " int sumList(List<Integer> aList) {\r\n",
      "     int sum=0;\r\n",
      "     for(int i:aList)\r\n",
      "         sum+=i;\r\n",
      "     return sum;\r\n",
      " }\r\n",
      "|  Modified method sumList(List<Integer>)\r\n",
      "|    Update overwrote method sumList(List<Integer>)\r\n",
      "\r\n",
      " \r\n",
      "\r\n",
      " System.out.print(sumList(mylist));\r\n",
      "1000\r\n"
     ]
    }
   ],
   "source": [
    "int sumList(List<Integer> aList) {\n",
    "    int sum=0;\n",
    "    for(int i:aList)\n",
    "        sum+=i;\n",
    "    return sum;\n",
    "}\n",
    "\n",
    "System.out.print(sumList(mylist));"
   ]
  },
  {
   "cell_type": "markdown",
   "metadata": {},
   "source": [
    "* 클래스로 만들어 보기\n",
    "    * class명은 Numbers로 한다.\n",
    "    * default 생성자를 사용한다.\n",
    "    * setNumbers()는 학습을 위해 그대로 사용한다.\n",
    "    * sumList()는 setNumbers()에서 저장한 mylist를 사용한다. argument가 사라진다."
   ]
  },
  {
   "cell_type": "code",
   "execution_count": 2,
   "metadata": {
    "collapsed": true
   },
   "outputs": [],
   "source": [
    "import iplantuml"
   ]
  },
  {
   "cell_type": "code",
   "execution_count": 3,
   "metadata": {
    "collapsed": false
   },
   "outputs": [
    {
     "data": {
      "image/svg+xml": [
       "<svg height=\"103px\" style=\"width:173px;height:103px;\" version=\"1.1\" viewBox=\"0 0 173 103\" width=\"173px\" xmlns=\"http://www.w3.org/2000/svg\" xmlns:xlink=\"http://www.w3.org/1999/xlink\"><defs><filter height=\"300%\" id=\"f1\" width=\"300%\" x=\"-1\" y=\"-1\"><feGaussianBlur result=\"blurOut\" stdDeviation=\"2.0\"/><feColorMatrix in=\"blurOut\" result=\"blurOut2\" type=\"matrix\" values=\"0 0 0 0 0 0 0 0 0 0 0 0 0 0 0 0 0 0 .4 0\"/><feOffset dx=\"4.0\" dy=\"4.0\" in=\"blurOut2\" result=\"blurOut3\"/><feBlend in=\"SourceGraphic\" in2=\"blurOut3\" mode=\"normal\"/></filter></defs><g><rect fill=\"#FEFECE\" filter=\"url(#f1)\" height=\"86.4141\" style=\"stroke: #A80036; stroke-width: 1.5;\" width=\"158\" x=\"6\" y=\"8\"/><ellipse cx=\"52.75\" cy=\"24\" fill=\"#ADD1B2\" rx=\"11\" ry=\"11\" style=\"stroke: #A80036; stroke-width: 1.0;\"/><path d=\"M55.7188,29.6406 Q55.1406,29.9375 54.5,30.0859 Q53.8594,30.2344 53.1563,30.2344 Q50.6563,30.2344 49.3359,28.5859 Q48.0156,26.9375 48.0156,23.8125 Q48.0156,20.6875 49.3359,19.0313 Q50.6563,17.375 53.1563,17.375 Q53.8594,17.375 54.5078,17.5313 Q55.1563,17.6875 55.7188,17.9844 L55.7188,20.7031 Q55.0938,20.125 54.5,19.8516 Q53.9063,19.5781 53.2813,19.5781 Q51.9375,19.5781 51.25,20.6484 Q50.5625,21.7188 50.5625,23.8125 Q50.5625,25.9063 51.25,26.9766 Q51.9375,28.0469 53.2813,28.0469 Q53.9063,28.0469 54.5,27.7734 Q55.0938,27.5 55.7188,26.9219 L55.7188,29.6406 Z \"/><text fill=\"#000000\" font-family=\"sans-serif\" font-size=\"12\" lengthAdjust=\"spacingAndGlyphs\" textLength=\"56\" x=\"73.25\" y=\"28.1543\">Numbers</text><line style=\"stroke: #A80036; stroke-width: 1.5;\" x1=\"7\" x2=\"163\" y1=\"40\" y2=\"40\"/><text fill=\"#000000\" font-family=\"sans-serif\" font-size=\"11\" lengthAdjust=\"spacingAndGlyphs\" textLength=\"146\" x=\"12\" y=\"54.2104\">mylist:ArrayList&lt;Integer&gt;</text><line style=\"stroke: #A80036; stroke-width: 1.5;\" x1=\"7\" x2=\"163\" y1=\"60.8047\" y2=\"60.8047\"/><ellipse cx=\"17\" cy=\"72.707\" fill=\"#84BE84\" rx=\"3\" ry=\"3\" style=\"stroke: #038048; stroke-width: 1.0;\"/><text fill=\"#000000\" font-family=\"sans-serif\" font-size=\"11\" lengthAdjust=\"spacingAndGlyphs\" textLength=\"105\" x=\"26\" y=\"75.0151\">setNumbers():void</text><ellipse cx=\"17\" cy=\"85.5117\" fill=\"#84BE84\" rx=\"3\" ry=\"3\" style=\"stroke: #038048; stroke-width: 1.0;\"/><text fill=\"#000000\" font-family=\"sans-serif\" font-size=\"11\" lengthAdjust=\"spacingAndGlyphs\" textLength=\"71\" x=\"26\" y=\"87.8198\">sumList():int</text></g></svg>"
      ],
      "text/plain": [
       "<IPython.core.display.SVG object>"
      ]
     },
     "execution_count": 3,
     "metadata": {},
     "output_type": "execute_result"
    }
   ],
   "source": [
    "%%plantuml\n",
    "@startuml\n",
    "class Numbers {\n",
    "    mylist:ArrayList<Integer>\n",
    "    +setNumbers():void\n",
    "    +sumList():int\n",
    "}\n",
    "@enduml"
   ]
  },
  {
   "cell_type": "code",
   "execution_count": 73,
   "metadata": {
    "collapsed": false
   },
   "outputs": [
    {
     "name": "stdout",
     "output_type": "stream",
     "text": [
      " class Numbers {\r\n",
      "     ArrayList<Integer> mylist=new ArrayList<Integer>();\r\n",
      "     public void setNumbers() {\r\n",
      "         for(int x=0; x<100;x++) {\r\n",
      "             if(x%4==0 && x%5!=0) {\r\n",
      "                 mylist.add(x);\r\n",
      "             }\r\n",
      "         }\r\n",
      "     }\r\n",
      "     public int sumList() {\r\n",
      "         int sum=0;\r\n",
      "         for(int i:mylist)\r\n",
      "             sum+=i;\r\n",
      "         return sum;\r\n",
      "     }\r\n",
      " }\r\n",
      "|  Modified class Numbers\r\n",
      "|    Update overwrote class Numbers\r\n",
      "\r\n"
     ]
    }
   ],
   "source": [
    "class Numbers {\n",
    "    ArrayList<Integer> mylist=new ArrayList<Integer>();\n",
    "    public void setNumbers() {\n",
    "        for(int x=0; x<100;x++) {\n",
    "            if(x%4==0 && x%5!=0) {\n",
    "                mylist.add(x);\n",
    "            }\n",
    "        }\n",
    "    }\n",
    "    public int sumList() {\n",
    "        int sum=0;\n",
    "        for(int i:mylist)\n",
    "            sum+=i;\n",
    "        return sum;\n",
    "    }\n",
    "}"
   ]
  },
  {
   "cell_type": "code",
   "execution_count": 74,
   "metadata": {
    "collapsed": false
   },
   "outputs": [
    {
     "name": "stdout",
     "output_type": "stream",
     "text": [
      " Numbers n=new Numbers();\r\n",
      "|  Added variable n of type Numbers with initial value Numbers@5bcab519\r\n",
      "\r\n",
      " n.setNumbers();\r\n",
      "\r\n",
      " System.out.print(n.sumList());\r\n",
      "1000\r\n"
     ]
    }
   ],
   "source": [
    "Numbers n=new Numbers();\n",
    "n.setNumbers();\n",
    "System.out.print(n.sumList());"
   ]
  },
  {
   "cell_type": "markdown",
   "metadata": {},
   "source": [
    "## 데이터구조-2: 거북이 트랙을 저장하기\n",
    "\n",
    "* 자신이 만들었던 drawSquareAt()을 수정해서, 사각형의 모서리 위치를 저장한다.\n",
    "* 함수\n",
    "    * 함수명 drawSquareAtSave()\n",
    "    * 입력\n",
    "        * 그림의 크기 size\n",
    "        * 위치 pos\n",
    "    * 출력 tracks\n",
    "\n",
    "* 프로그래밍 요소\n",
    "    * 사각형 모서리는 4개의 점을 가진다. 용도에 맞는 데이터구조를 선택한다.\n",
    "    * 자료는 모든 위치(x,y)를 가지고 있는 목록이다\n",
    "\n",
    "* 생각해보기\n",
    "    * tracks를 전역으로 할지, 지역으로 할지\n",
    "    * list를 반환하면 출력을 어떻게 하는지?\n"
   ]
  },
  {
   "cell_type": "markdown",
   "metadata": {},
   "source": [
    "### 프로그래밍 순서\n",
    "\n",
    "* 앞서 drawSquareAt()을 복사한다.\n",
    "* 먼저 어떤 데이터구조를 사용할지 결정\n",
    "    * 순서가 있는 구조이다. 사각형은 그리는 순서가 있다.\n",
    "    * 걸어간 위치는 하나씩 저장하면서, 자료목록이 늘어난다.\n",
    "    * 리스트는 자료가 추가되면서, 고무줄처럼 늘어날 수 있다.\n",
    "\n",
    "* 움직이고 나서 저장하면 맞을까?\n",
    "    * 사각형은 거북이가 사각형 모서리에 멈추는 때 저장한다.\n",
    "    * for문 다음 (line 5) 움직이기 전 (lin6)\n",
    "    * 거북이 위치는 pos()함수로 위치를 읽는다.\n",
    "        ```\n",
    "        tracks.add(t1.pos())\n",
    "        ```"
   ]
  },
  {
   "cell_type": "markdown",
   "metadata": {
    "collapsed": true
   },
   "source": [
    "* 앞 장에서 만들었던 함수를 가져와, 거북이가 간 위치를 저장하도록 수정한다."
   ]
  },
  {
   "cell_type": "code",
   "execution_count": 12,
   "metadata": {
    "collapsed": false,
    "scrolled": true
   },
   "outputs": [
    {
     "name": "stdout",
     "output_type": "stream",
     "text": [
      " /classpath lib/aplu5.jar\r\n",
      "|  Path 'lib/aplu5.jar' added to classpath\r\n",
      "\r\n"
     ]
    }
   ],
   "source": [
    "/classpath lib/aplu5.jar"
   ]
  },
  {
   "cell_type": "code",
   "execution_count": 13,
   "metadata": {
    "collapsed": false
   },
   "outputs": [
    {
     "name": "stdout",
     "output_type": "stream",
     "text": [
      " import ch.aplu.turtle.*;\r\n",
      "|    Update modified method savePos() which cannot be invoked until variable t1 is declared\r\n",
      "|    Update modified method printf(String,Object...)\r\n",
      "|    Update modified variable mytracks of type ArrayList<Double[]> with initial value \r\n",
      "|    Update modified variable d of type Double[] with initial value \r\n",
      "\r\n",
      " Turtle t1=new Turtle();\r\n",
      "|  Added variable t1 of type Turtle with initial value Turtle(Position=(0,0), Heading=0)\r\n",
      "|    Update modified method savePos()\r\n",
      "\r\n"
     ]
    }
   ],
   "source": [
    "import ch.aplu.turtle.*;\n",
    "Turtle t1=new Turtle();"
   ]
  },
  {
   "cell_type": "markdown",
   "metadata": {
    "collapsed": true
   },
   "source": [
    "* 경로의 특성\n",
    "    * 좌표는 x,y로 구성된다.\n",
    "    * 경로는 좌표의 집합이다. 그 크기가 가변적이다.\n",
    "* 2차원 ArrayList로 경로를 저장한다."
   ]
  },
  {
   "cell_type": "markdown",
   "metadata": {
    "collapsed": true
   },
   "source": [
    "* 좌표 x,y를 구한다."
   ]
  },
  {
   "cell_type": "code",
   "execution_count": 16,
   "metadata": {
    "collapsed": false
   },
   "outputs": [
    {
     "name": "stdout",
     "output_type": "stream",
     "text": [
      " Double[] pos=new Double[2];\r\n",
      "|  Added variable pos of type Double[] with initial value [Ljava.lang.Double;@20d28811\r\n",
      "\r\n",
      " pos[0]=t1.getX();\r\n",
      "|  Expression value is: 0.0\r\n",
      "|    assigned to temporary variable $31 of type Double\r\n",
      "\r\n",
      " //pos[0]=10.0;\r\n",
      "\r\n",
      " pos[1]=t1.getY();\r\n",
      "|  Expression value is: 0.0\r\n",
      "|    assigned to temporary variable $32 of type Double\r\n",
      "\r\n",
      " //pos[1]=20.0;\r\n",
      "\r\n"
     ]
    }
   ],
   "source": [
    "Double[] pos=new Double[2];\n",
    "pos[0]=t1.getX(); //pos[0]=10.0;\n",
    "pos[1]=t1.getY(); //pos[1]=20.0;"
   ]
  },
  {
   "cell_type": "markdown",
   "metadata": {
    "collapsed": true
   },
   "source": [
    "* 위치를 2차원 배열 ArrayList에 저장한다."
   ]
  },
  {
   "cell_type": "code",
   "execution_count": 17,
   "metadata": {
    "collapsed": false
   },
   "outputs": [
    {
     "name": "stdout",
     "output_type": "stream",
     "text": [
      " ArrayList<Double[]> posArr = new ArrayList<Double[]>();\r\n",
      "|  Added variable posArr of type ArrayList<Double[]> with initial value []\r\n",
      "\r\n",
      " \r\n",
      "\r\n",
      " for (int i=0;i<4;i++) {\r\n",
      "     pos[0]=t1.getX();\r\n",
      "     pos[1]=t1.getY();\r\n",
      "     posArr.add(pos);\r\n",
      "     t1.forward(100);\r\n",
      "     t1.right(90);\r\n",
      " }\r\n",
      "\r\n"
     ]
    }
   ],
   "source": [
    "ArrayList<Double[]> posArr = new ArrayList<Double[]>();\n",
    "\n",
    "for (int i=0;i<4;i++) {\n",
    "    pos[0]=t1.getX();\n",
    "    pos[1]=t1.getY();\n",
    "    posArr.add(pos);\n",
    "    t1.forward(100);\n",
    "    t1.right(90);\n",
    "}"
   ]
  },
  {
   "cell_type": "code",
   "execution_count": 18,
   "metadata": {
    "collapsed": false,
    "scrolled": true
   },
   "outputs": [
    {
     "name": "stdout",
     "output_type": "stream",
     "text": [
      " for(Double[] d:posArr)\r\n",
      "     System.out.printf(\"(%.1f,%.1f)\", d[0],d[1]);\r\n",
      "(100.0,0.0)(100.0,0.0)(100.0,0.0)(100.0,0.0)\r\n"
     ]
    }
   ],
   "source": [
    "for(Double[] d:posArr)\n",
    "    System.out.printf(\"(%.1f,%.1f)\", d[0],d[1]);"
   ]
  },
  {
   "cell_type": "markdown",
   "metadata": {
    "collapsed": true
   },
   "source": [
    "* 함수로 만들기"
   ]
  },
  {
   "cell_type": "code",
   "execution_count": 19,
   "metadata": {
    "collapsed": false
   },
   "outputs": [
    {
     "name": "stdout",
     "output_type": "stream",
     "text": [
      " ArrayList<Double[]> drawSquareAtAndSave(int size, double x, double y) {\r\n",
      "     t1.penUp();\r\n",
      "     t1.setPos(x,y);\r\n",
      "     t1.penDown();\r\n",
      "     ArrayList<Double[]> posArr = new ArrayList<Double[]>();\r\n",
      "     Double[] pos=new Double[2];\r\n",
      "     for (int i=0;i<4;i++) {\r\n",
      "         pos[0]=t1.getX();\r\n",
      "         pos[1]=t1.getY();\r\n",
      "         posArr.add(pos);\r\n",
      "         t1.forward(size);\r\n",
      "         t1.right(90);\r\n",
      "     }\r\n",
      "     return posArr;\r\n",
      " }\r\n",
      "|  Added method drawSquareAtAndSave(int,double,double)\r\n",
      "\r\n"
     ]
    }
   ],
   "source": [
    "ArrayList<Double[]> drawSquareAtAndSave(int size, double x, double y) {\n",
    "    t1.penUp();\n",
    "    t1.setPos(x,y);\n",
    "    t1.penDown();\n",
    "    ArrayList<Double[]> posArr = new ArrayList<Double[]>();\n",
    "    Double[] pos=new Double[2];\n",
    "    for (int i=0;i<4;i++) {\n",
    "        pos[0]=t1.getX();\n",
    "        pos[1]=t1.getY();\n",
    "        posArr.add(pos);\n",
    "        t1.forward(size);\n",
    "        t1.right(90);\n",
    "    }\n",
    "    return posArr;\n",
    "}"
   ]
  },
  {
   "cell_type": "code",
   "execution_count": 20,
   "metadata": {
    "collapsed": false
   },
   "outputs": [
    {
     "name": "stdout",
     "output_type": "stream",
     "text": [
      " ArrayList<Double[]> posArr=new ArrayList<Double[]>();\r\n",
      "|  Modified variable posArr of type ArrayList<Double[]> with initial value []\r\n",
      "|    Update overwrote variable posArr\r\n",
      "\r\n",
      " posArr=drawSquareAtAndSave(50, 10.0, 20.0);\r\n",
      "|  Variable posArr has been assigned the value [[Ljava.lang.Double;@363ee3a2, [Ljava.lang.Double;@363ee3a2, [Ljava.lang.Double;@363ee3a2, [Ljava.lang.Double;@363ee3a2]\r\n",
      "\r\n",
      " for(Double[] d:posArr)\r\n",
      "     System.out.printf(\"(%.1f,%.1f)\\n\", d[0],d[1]);\r\n",
      "(60.0,20.0)\r\n",
      "(60.0,20.0)\r\n",
      "(60.0,20.0)\r\n",
      "(60.0,20.0)\r\n",
      "\r\n"
     ]
    }
   ],
   "source": [
    "ArrayList<Double[]> posArr=new ArrayList<Double[]>();\n",
    "posArr=drawSquareAtAndSave(50, 10.0, 20.0);\n",
    "for(Double[] d:posArr)\n",
    "    System.out.printf(\"(%.1f,%.1f)\\n\", d[0],d[1]);"
   ]
  },
  {
   "cell_type": "markdown",
   "metadata": {},
   "source": [
    "## 데이터구조-3: 도형을 데이터구조로 저장하고 그리기\n",
    "\n",
    "### 3-1 도형을 데이터구조로 저장하기\n",
    "* 자신이 사각형 위치를 임의로 데이터구조로 생성해서 저장한다.\n",
    "\n",
    "### 3-1 저장한 데이터구조를 사용해서 사각형을 그린다.\n",
    "* 사각형 위치가 저장된 데이터구조를 함수에 전달한다.\n",
    "* 함수\n",
    "    * 함수명 drawSquareFrom()\n",
    "    * 입력 argument\n",
    "        * 4점을 가지고 있는 구조 tracks\n",
    "    * 출력 none\n",
    "\n",
    "* 프로그래밍 요소\n",
    "    * 데이터구조를 생성할 수 있다.\n",
    "    * 데이터구조를 함수에 전달할 수 있다.\n",
    "    * 전달하는 값의 의미가 컴퓨터에서는 특별하다.\n",
    "    * 값이 전달되는 것인지, 값이 저장된 메모리 값이 전달되는지 구별한다. 지금은 자세한 설명을 생략한다.\n",
    "    * 값이 전달되는 것을 (pass by value), 참조 값이 전달되는 것과 (pass by reference)와 구별한다.\n"
   ]
  },
  {
   "cell_type": "code",
   "execution_count": 1,
   "metadata": {
    "collapsed": false
   },
   "outputs": [
    {
     "name": "stdout",
     "output_type": "stream",
     "text": [
      " double[][] tracks={{100,100},{200,100},{200,200},{100,200},{100,100}};\r\n",
      "|  Added variable tracks of type double[][] with initial value [[D@f6c48ac\r\n",
      "\r\n"
     ]
    }
   ],
   "source": [
    "double[][] tracks={{100,100},{200,100},{200,200},{100,200},{100,100}};"
   ]
  },
  {
   "cell_type": "markdown",
   "metadata": {},
   "source": [
    "* tracks는 2차원 데이터구조를 사용하고 있다.\n",
    "* tracks를 출력해보자\n",
    "    * 객체를 사용하면, 시작-끝이 변해도 사용할 수 있다는 장점이 있다.\n",
    "    * 2차원 구조를 출력하려면, for문도 2개가 필요하다.\n"
   ]
  },
  {
   "cell_type": "code",
   "execution_count": 7,
   "metadata": {
    "collapsed": false,
    "scrolled": true
   },
   "outputs": [
    {
     "name": "stdout",
     "output_type": "stream",
     "text": [
      " for(double[] t:tracks)\r\n",
      "     System.out.println(t)\r\n",
      "[D@27c20538\r\n",
      "[D@72d818d1\r\n",
      "[D@6e06451e\r\n",
      "[D@59494225\r\n",
      "[D@6e1567f1\r\n",
      "\r\n"
     ]
    }
   ],
   "source": [
    "for(double[] t:tracks)\n",
    "    System.out.println(t)"
   ]
  },
  {
   "cell_type": "code",
   "execution_count": 13,
   "metadata": {
    "collapsed": false,
    "scrolled": true
   },
   "outputs": [
    {
     "name": "stdout",
     "output_type": "stream",
     "text": [
      " for(double[] t:tracks)\r\n",
      "     for(double p:t)\r\n",
      "         System.out.printf(\" %.1f \",p)\r\n",
      " 100.0  100.0  200.0  100.0  200.0  200.0  100.0  200.0  100.0  100.0 \r\n"
     ]
    }
   ],
   "source": [
    "for(double[] t:tracks)\n",
    "    for(double p:t)\n",
    "        System.out.printf(\" %.1f \",p)"
   ]
  },
  {
   "cell_type": "markdown",
   "metadata": {},
   "source": [
    "* 함수로 만들어 본다."
   ]
  },
  {
   "cell_type": "code",
   "execution_count": 26,
   "metadata": {
    "collapsed": false
   },
   "outputs": [
    {
     "name": "stdout",
     "output_type": "stream",
     "text": [
      " void drawSquareFrom(double[][] tracks) {\r\n",
      "     t1.penUp();\r\n",
      "     t1.penDown();\r\n",
      "     for(double[] t:tracks)\r\n",
      "         //for(double p:t)\r\n",
      "         //    System.out.printf(\" %.1f \",p);\r\n",
      "         t1.setPos(t[0],t[1]);\r\n",
      " }\r\n",
      "|  Added method drawSquareFrom(double[][])\r\n",
      "\r\n"
     ]
    }
   ],
   "source": [
    "void drawSquareFrom(double[][] tracks) {\n",
    "    t1.penUp();\n",
    "    t1.penDown();\n",
    "    for(double[] t:tracks) {\n",
    "        t1.moveTo(t[0],t[1]);\n",
    "        System.out.printf(\" %.1f %.1f\",t[0],t[1]);\n",
    "    }\n",
    "}"
   ]
  },
  {
   "cell_type": "code",
   "execution_count": 7,
   "metadata": {
    "collapsed": false
   },
   "outputs": [
    {
     "name": "stdout",
     "output_type": "stream",
     "text": [
      "Overwriting p3_TurtleTracksMain.java\n"
     ]
    }
   ],
   "source": [
    "%%writefile p3_TurtleTracksMain.java\n",
    "import ch.aplu.turtle.*;\n",
    "\n",
    "public class p3_TurtleTracksMain {\n",
    "    static Turtle t1=new Turtle();\n",
    "    static void drawSquareFrom(double[][] tracks) {\n",
    "        //t1.penDown();\n",
    "        for(double[] t:tracks) {\n",
    "            t1.moveTo(t[0],t[1]);\n",
    "            System.out.printf(\" %.1f %.1f\",t[0],t[1]);\n",
    "        }\n",
    "    }\n",
    "    public static void main(String[] args) {\n",
    "        double[][] tracks={{100,100},{200,100},{200,200},{100,200},{100,100}};\n",
    "        drawSquareFrom(tracks);\n",
    "    }\n",
    "}\n"
   ]
  },
  {
   "cell_type": "code",
   "execution_count": 8,
   "metadata": {
    "collapsed": false
   },
   "outputs": [],
   "source": [
    "!javac -classpath lib/aplu5.jar -d classes/ p3_TurtleTracksMain.java"
   ]
  },
  {
   "cell_type": "code",
   "execution_count": null,
   "metadata": {
    "collapsed": false
   },
   "outputs": [
    {
     "name": "stdout",
     "output_type": "stream",
     "text": [
      " 100.0 100.0 200.0 100.0 200.0 200.0 100.0 200.0 100.0 100.0"
     ]
    }
   ],
   "source": [
    "!java -classpath lib/aplu5.jar:./classes/ p3_TurtleTracksMain"
   ]
  },
  {
   "cell_type": "markdown",
   "metadata": {
    "slideshow": {
     "slide_type": "slide"
    }
   },
   "source": [
    "## 데이터구조-5: 문자열에서 문자를 세기\n",
    "\n",
    "* 데이터구조-5-1: 문자열을 입력 받아서, 각 문자의 갯수를 세기\n",
    "* 데이터구조-5-2: 문자의 갯수를 막대그래프로 그리기\n",
    "* 프로그래밍 요소\n",
    "    * map\n",
    "    * 왜 배열보다 map이 보다 적합한 구조일까? 배열은 key가 없고, 정수인덱스로 값을 읽어 오는 특성.\n",
    "* 주의:\n",
    "    * 존재하지 않는 key의 값을 넣을 경우: +1은 불가능. 없는 값에 '더하기 1'은 안 된다."
   ]
  },
  {
   "cell_type": "code",
   "execution_count": 4,
   "metadata": {
    "collapsed": false,
    "slideshow": {
     "slide_type": "slide"
    }
   },
   "outputs": [
    {
     "data": {
      "image/svg+xml": [
       "<svg height=\"553px\" style=\"width:324px;height:553px;\" version=\"1.1\" viewBox=\"0 0 324 553\" width=\"324px\" xmlns=\"http://www.w3.org/2000/svg\" xmlns:xlink=\"http://www.w3.org/1999/xlink\"><defs><filter height=\"300%\" id=\"f1\" width=\"300%\" x=\"-1\" y=\"-1\"><feGaussianBlur result=\"blurOut\" stdDeviation=\"2.0\"/><feColorMatrix in=\"blurOut\" result=\"blurOut2\" type=\"matrix\" values=\"0 0 0 0 0 0 0 0 0 0 0 0 0 0 0 0 0 0 .4 0\"/><feOffset dx=\"4.0\" dy=\"4.0\" in=\"blurOut2\" result=\"blurOut3\"/><feBlend in=\"SourceGraphic\" in2=\"blurOut3\" mode=\"normal\"/></filter></defs><g><ellipse cx=\"141.5\" cy=\"20\" fill=\"#000000\" filter=\"url(#f1)\" rx=\"10\" ry=\"10\" style=\"stroke: none; stroke-width: 1.0;\"/><rect fill=\"#FEFECE\" filter=\"url(#f1)\" height=\"34.1328\" rx=\"12.5\" ry=\"12.5\" style=\"stroke: #A80036; stroke-width: 1.5;\" width=\"209\" x=\"37\" y=\"50\"/><text fill=\"#000000\" font-family=\"sans-serif\" font-size=\"12\" lengthAdjust=\"spacingAndGlyphs\" textLength=\"189\" x=\"47\" y=\"71.6016\">set word='sangmyung university'</text><rect fill=\"#FEFECE\" filter=\"url(#f1)\" height=\"34.1328\" rx=\"12.5\" ry=\"12.5\" style=\"stroke: #A80036; stroke-width: 1.5;\" width=\"127\" x=\"78\" y=\"104.1328\"/><text fill=\"#000000\" font-family=\"sans-serif\" font-size=\"12\" lengthAdjust=\"spacingAndGlyphs\" textLength=\"107\" x=\"88\" y=\"125.7344\">initialize dictionary</text><rect fill=\"#FEFECE\" filter=\"url(#f1)\" height=\"34.1328\" rx=\"12.5\" ry=\"12.5\" style=\"stroke: #A80036; stroke-width: 1.5;\" width=\"49\" x=\"117\" y=\"158.2656\"/><text fill=\"#000000\" font-family=\"sans-serif\" font-size=\"12\" lengthAdjust=\"spacingAndGlyphs\" textLength=\"29\" x=\"127\" y=\"179.8672\">i = 0</text><rect fill=\"#FEFECE\" filter=\"url(#f1)\" height=\"34.1328\" rx=\"12.5\" ry=\"12.5\" style=\"stroke: #A80036; stroke-width: 1.5;\" width=\"149\" x=\"67\" y=\"256.3984\"/><text fill=\"#000000\" font-family=\"sans-serif\" font-size=\"12\" lengthAdjust=\"spacingAndGlyphs\" textLength=\"129\" x=\"77\" y=\"278\">get ith char from word</text><polygon fill=\"#FEFECE\" filter=\"url(#f1)\" points=\"70,310.5313,213,310.5313,225,322.5313,213,334.5313,70,334.5313,58,322.5313,70,310.5313\" style=\"stroke: #A80036; stroke-width: 1.5;\"/><text fill=\"#000000\" font-family=\"sans-serif\" font-size=\"11\" lengthAdjust=\"spacingAndGlyphs\" textLength=\"143\" x=\"70\" y=\"326.6885\">char does not exist in keys</text><rect fill=\"#FEFECE\" filter=\"url(#f1)\" height=\"34.1328\" rx=\"12.5\" ry=\"12.5\" style=\"stroke: #A80036; stroke-width: 1.5;\" width=\"76\" x=\"10\" y=\"344.5313\"/><text fill=\"#000000\" font-family=\"sans-serif\" font-size=\"12\" lengthAdjust=\"spacingAndGlyphs\" textLength=\"56\" x=\"20\" y=\"366.1328\">value = 1</text><rect fill=\"#FEFECE\" filter=\"url(#f1)\" height=\"34.1328\" rx=\"12.5\" ry=\"12.5\" style=\"stroke: #A80036; stroke-width: 1.5;\" width=\"124\" x=\"173\" y=\"344.5313\"/><text fill=\"#000000\" font-family=\"sans-serif\" font-size=\"12\" lengthAdjust=\"spacingAndGlyphs\" textLength=\"104\" x=\"183\" y=\"366.1328\">value = value + 1</text><polygon fill=\"#FEFECE\" filter=\"url(#f1)\" points=\"141.5,384.6641,153.5,396.6641,141.5,408.6641,129.5,396.6641,141.5,384.6641\" style=\"stroke: #A80036; stroke-width: 1.5;\"/><rect fill=\"#FEFECE\" filter=\"url(#f1)\" height=\"34.1328\" rx=\"12.5\" ry=\"12.5\" style=\"stroke: #A80036; stroke-width: 1.5;\" width=\"77\" x=\"103\" y=\"428.6641\"/><text fill=\"#000000\" font-family=\"sans-serif\" font-size=\"12\" lengthAdjust=\"spacingAndGlyphs\" textLength=\"57\" x=\"113\" y=\"450.2656\">add 1 to i</text><polygon fill=\"#FEFECE\" filter=\"url(#f1)\" points=\"141.5,212.3984,153.5,224.3984,141.5,236.3984,129.5,224.3984,141.5,212.3984\" style=\"stroke: #A80036; stroke-width: 1.5;\"/><polygon fill=\"#FEFECE\" filter=\"url(#f1)\" points=\"83,482.7969,200,482.7969,212,494.7969,200,506.7969,83,506.7969,71,494.7969,83,482.7969\" style=\"stroke: #A80036; stroke-width: 1.5;\"/><text fill=\"#000000\" font-family=\"sans-serif\" font-size=\"11\" lengthAdjust=\"spacingAndGlyphs\" textLength=\"117\" x=\"83\" y=\"498.9541\">i &lt;= last char of word</text><ellipse cx=\"141.5\" cy=\"536.7969\" fill=\"none\" filter=\"url(#f1)\" rx=\"10\" ry=\"10\" style=\"stroke: #000000; stroke-width: 1.0;\"/><ellipse cx=\"142\" cy=\"537.2969\" fill=\"#000000\" filter=\"url(#f1)\" rx=\"6\" ry=\"6\" style=\"stroke: none; stroke-width: 1.0;\"/><line style=\"stroke: #A80036; stroke-width: 1.5;\" x1=\"141.5\" x2=\"141.5\" y1=\"30\" y2=\"50\"/><polygon fill=\"#A80036\" points=\"137.5,40,141.5,50,145.5,40,141.5,44\" style=\"stroke: #A80036; stroke-width: 1.0;\"/><line style=\"stroke: #A80036; stroke-width: 1.5;\" x1=\"141.5\" x2=\"141.5\" y1=\"84.1328\" y2=\"104.1328\"/><polygon fill=\"#A80036\" points=\"137.5,94.1328,141.5,104.1328,145.5,94.1328,141.5,98.1328\" style=\"stroke: #A80036; stroke-width: 1.0;\"/><line style=\"stroke: #A80036; stroke-width: 1.5;\" x1=\"141.5\" x2=\"141.5\" y1=\"138.2656\" y2=\"158.2656\"/><polygon fill=\"#A80036\" points=\"137.5,148.2656,141.5,158.2656,145.5,148.2656,141.5,152.2656\" style=\"stroke: #A80036; stroke-width: 1.0;\"/><line style=\"stroke: #A80036; stroke-width: 1.5;\" x1=\"58\" x2=\"48\" y1=\"322.5313\" y2=\"322.5313\"/><line style=\"stroke: #A80036; stroke-width: 1.5;\" x1=\"48\" x2=\"48\" y1=\"322.5313\" y2=\"344.5313\"/><polygon fill=\"#A80036\" points=\"44,334.5313,48,344.5313,52,334.5313,48,338.5313\" style=\"stroke: #A80036; stroke-width: 1.0;\"/><line style=\"stroke: #A80036; stroke-width: 1.5;\" x1=\"225\" x2=\"235\" y1=\"322.5313\" y2=\"322.5313\"/><line style=\"stroke: #A80036; stroke-width: 1.5;\" x1=\"235\" x2=\"235\" y1=\"322.5313\" y2=\"344.5313\"/><polygon fill=\"#A80036\" points=\"231,334.5313,235,344.5313,239,334.5313,235,338.5313\" style=\"stroke: #A80036; stroke-width: 1.0;\"/><line style=\"stroke: #A80036; stroke-width: 1.5;\" x1=\"48\" x2=\"48\" y1=\"378.6641\" y2=\"396.6641\"/><line style=\"stroke: #A80036; stroke-width: 1.5;\" x1=\"48\" x2=\"129.5\" y1=\"396.6641\" y2=\"396.6641\"/><polygon fill=\"#A80036\" points=\"119.5,392.6641,129.5,396.6641,119.5,400.6641,123.5,396.6641\" style=\"stroke: #A80036; stroke-width: 1.0;\"/><line style=\"stroke: #A80036; stroke-width: 1.5;\" x1=\"235\" x2=\"235\" y1=\"378.6641\" y2=\"396.6641\"/><line style=\"stroke: #A80036; stroke-width: 1.5;\" x1=\"235\" x2=\"153.5\" y1=\"396.6641\" y2=\"396.6641\"/><polygon fill=\"#A80036\" points=\"163.5,392.6641,153.5,396.6641,163.5,400.6641,159.5,396.6641\" style=\"stroke: #A80036; stroke-width: 1.0;\"/><line style=\"stroke: #A80036; stroke-width: 1.5;\" x1=\"141.5\" x2=\"141.5\" y1=\"290.5313\" y2=\"310.5313\"/><polygon fill=\"#A80036\" points=\"137.5,300.5313,141.5,310.5313,145.5,300.5313,141.5,304.5313\" style=\"stroke: #A80036; stroke-width: 1.0;\"/><line style=\"stroke: #A80036; stroke-width: 1.5;\" x1=\"141.5\" x2=\"141.5\" y1=\"408.6641\" y2=\"428.6641\"/><polygon fill=\"#A80036\" points=\"137.5,418.6641,141.5,428.6641,145.5,418.6641,141.5,422.6641\" style=\"stroke: #A80036; stroke-width: 1.0;\"/><line style=\"stroke: #A80036; stroke-width: 1.5;\" x1=\"141.5\" x2=\"141.5\" y1=\"236.3984\" y2=\"256.3984\"/><polygon fill=\"#A80036\" points=\"137.5,246.3984,141.5,256.3984,145.5,246.3984,141.5,250.3984\" style=\"stroke: #A80036; stroke-width: 1.0;\"/><line style=\"stroke: #A80036; stroke-width: 1.5;\" x1=\"212\" x2=\"319\" y1=\"494.7969\" y2=\"494.7969\"/><polygon fill=\"#A80036\" points=\"315,393.5977,319,383.5977,323,393.5977,319,389.5977\" style=\"stroke: #A80036; stroke-width: 1.5;\"/><line style=\"stroke: #A80036; stroke-width: 1.5;\" x1=\"319\" x2=\"319\" y1=\"224.3984\" y2=\"494.7969\"/><line style=\"stroke: #A80036; stroke-width: 1.5;\" x1=\"319\" x2=\"153.5\" y1=\"224.3984\" y2=\"224.3984\"/><polygon fill=\"#A80036\" points=\"163.5,220.3984,153.5,224.3984,163.5,228.3984,159.5,224.3984\" style=\"stroke: #A80036; stroke-width: 1.0;\"/><line style=\"stroke: #A80036; stroke-width: 1.5;\" x1=\"141.5\" x2=\"141.5\" y1=\"462.7969\" y2=\"482.7969\"/><polygon fill=\"#A80036\" points=\"137.5,472.7969,141.5,482.7969,145.5,472.7969,141.5,476.7969\" style=\"stroke: #A80036; stroke-width: 1.0;\"/><line style=\"stroke: #A80036; stroke-width: 1.5;\" x1=\"141.5\" x2=\"141.5\" y1=\"192.3984\" y2=\"212.3984\"/><polygon fill=\"#A80036\" points=\"137.5,202.3984,141.5,212.3984,145.5,202.3984,141.5,206.3984\" style=\"stroke: #A80036; stroke-width: 1.0;\"/><line style=\"stroke: #A80036; stroke-width: 1.5;\" x1=\"141.5\" x2=\"141.5\" y1=\"506.7969\" y2=\"526.7969\"/><polygon fill=\"#A80036\" points=\"137.5,516.7969,141.5,526.7969,145.5,516.7969,141.5,520.7969\" style=\"stroke: #A80036; stroke-width: 1.0;\"/></g></svg>"
      ],
      "text/plain": [
       "<IPython.core.display.SVG object>"
      ]
     },
     "execution_count": 4,
     "metadata": {},
     "output_type": "execute_result"
    }
   ],
   "source": [
    "%%plantuml\n",
    "@startuml\n",
    "start\n",
    ":set word='sangmyung university';\n",
    ":initialize dictionary;\n",
    ":i = 0;\n",
    "repeat\n",
    ":get ith char from word;\n",
    "if (char does not exist in keys)\n",
    ":value = 1;\n",
    "else\n",
    ":value = value + 1;\n",
    "endif\n",
    ":add 1 to i;\n",
    "repeat while(i <= last char of word)\n",
    "stop\n",
    "@enduml"
   ]
  },
  {
   "cell_type": "markdown",
   "metadata": {
    "slideshow": {
     "slide_type": "slide"
    }
   },
   "source": [
    "### Map\n",
    "\n",
    "* 선언을 하고 사용.\n",
    "* key-value로 구성.\n",
    "* 사용하는 경우\n",
    "    * 자료가 필드, 값으로 구성된 경우\n",
    "        * 예: 이름-'홍길동'. key -> '이름', value -> '홍길동'. key-value는 수, 문자 모두 가능.\n",
    "    * 자료의 갯수를 세는 경우\n",
    "        * 데이터에 각 단어가 발생하는 빈도수를 세는 경우"
   ]
  },
  {
   "cell_type": "markdown",
   "metadata": {
    "collapsed": true
   },
   "source": [
    "* generic hash map 만들기"
   ]
  },
  {
   "cell_type": "code",
   "execution_count": 1,
   "metadata": {
    "collapsed": false
   },
   "outputs": [
    {
     "name": "stdout",
     "output_type": "stream",
     "text": [
      " Map<String, String> m = new HashMap<String, String>();\r\n",
      "|  Added variable m of type Map<String, String> with initial value {}\r\n",
      "\r\n"
     ]
    }
   ],
   "source": [
    "Map<String, String> m = new HashMap<String, String>();"
   ]
  },
  {
   "cell_type": "code",
   "execution_count": 2,
   "metadata": {
    "collapsed": false
   },
   "outputs": [
    {
     "name": "stdout",
     "output_type": "stream",
     "text": [
      " m.put(\"name\", \"jsl\");\r\n",
      "|  Expression value is: null\r\n",
      "|    assigned to temporary variable $2 of type String\r\n",
      "\r\n",
      " System.out.print(\"\\t\" + m);\r\n",
      "\t{name=jsl}\r\n"
     ]
    }
   ],
   "source": [
    "m.put(\"name\", \"jsl\");\n",
    "System.out.print(\"\\t\" + m);"
   ]
  },
  {
   "cell_type": "markdown",
   "metadata": {},
   "source": [
    "### 문자열의 문자 갯수 세기\n",
    "\n",
    "* 문자 갯수를 세려면, 문자열을 문자로 분리한다.\n",
    "* 분리한 문자열의 문자갯수를 세기\n",
    "    * 문자를 키, 문자의 갯수를 값으로 저장하기"
   ]
  },
  {
   "cell_type": "code",
   "execution_count": 3,
   "metadata": {
    "collapsed": false
   },
   "outputs": [
    {
     "name": "stdout",
     "output_type": "stream",
     "text": [
      " String[] words = \"He and his brother playing football.\".split(\"\\\\s+\");\r\n",
      "|  Added variable words of type String[] with initial value [Ljava.lang.String;@e45f292\r\n",
      "\r\n",
      " for (int i = 0, l = words.length; i + 1 < l; i++)\r\n",
      "         System.out.println(words[i] + \" \" + words[i + 1]);\r\n",
      "He and\r\n",
      "and his\r\n",
      "his brother\r\n",
      "brother playing\r\n",
      "playing football.\r\n",
      "\r\n"
     ]
    }
   ],
   "source": [
    "String[] words = \"He and his brother playing football.\".split(\"\\\\s+\");\n",
    "for (int i = 0, l = words.length; i + 1 < l; i++)\n",
    "        System.out.println(words[i] + \" \" + words[i + 1]);"
   ]
  },
  {
   "cell_type": "code",
   "execution_count": 5,
   "metadata": {
    "collapsed": false
   },
   "outputs": [
    {
     "name": "stdout",
     "output_type": "stream",
     "text": [
      " String[] words = \"Sangmyung university.\".split(\"\\\\s+\");\r\n",
      "|  Modified variable words of type String[] with initial value [Ljava.lang.String;@490ab905\r\n",
      "|    Update overwrote variable words\r\n",
      "\r\n",
      " for (int i = 0;i<words.length; i++)\r\n",
      "         System.out.println(words[i]);\r\n",
      "Sangmyung\r\n",
      "university.\r\n",
      "\r\n"
     ]
    }
   ],
   "source": [
    "String[] words = \"Sangmyung university.\".split(\"\\\\s+\");\n",
    "for (int i = 0;i<words.length; i++)\n",
    "        System.out.println(words[i]);"
   ]
  },
  {
   "cell_type": "code",
   "execution_count": 51,
   "metadata": {
    "collapsed": false
   },
   "outputs": [
    {
     "name": "stdout",
     "output_type": "stream",
     "text": [
      " char[] letters = \"sangmyung university\".toCharArray();\r\n",
      "|  Modified variable letters of type char[] with initial value [C@64bfbc86\r\n",
      "|    Update overwrote variable letters\r\n",
      "\r\n"
     ]
    }
   ],
   "source": [
    "char[] letters = \"sangmyung university\".toCharArray();"
   ]
  },
  {
   "cell_type": "code",
   "execution_count": 52,
   "metadata": {
    "collapsed": false
   },
   "outputs": [
    {
     "name": "stdout",
     "output_type": "stream",
     "text": [
      " for(char c:letters)\r\n",
      "     System.out.println(c);\r\n",
      "s\r\n",
      "a\r\n",
      "n\r\n",
      "g\r\n",
      "m\r\n",
      "y\r\n",
      "u\r\n",
      "n\r\n",
      "g\r\n",
      " \r\n",
      "u\r\n",
      "n\r\n",
      "i\r\n",
      "v\r\n",
      "e\r\n",
      "r\r\n",
      "s\r\n",
      "i\r\n",
      "t\r\n",
      "y\r\n",
      "\r\n"
     ]
    }
   ],
   "source": [
    "for(char c:letters)\n",
    "    System.out.println(c);"
   ]
  },
  {
   "cell_type": "markdown",
   "metadata": {},
   "source": [
    "* Map의 키는 원시 타잎을 사용할 수 없다. 내부적으로 객체를 사용하여 키를 생성하기 때문이다."
   ]
  },
  {
   "cell_type": "code",
   "execution_count": 12,
   "metadata": {
    "collapsed": false
   },
   "outputs": [
    {
     "name": "stdout",
     "output_type": "stream",
     "text": [
      " Map<char, int> m = new HashMap<char, int>();\r\n",
      "|  Error:\r\n",
      "|  unexpected type\r\n",
      "|    required: reference\r\n",
      "|    found:    char\r\n",
      "|  Map<char, int> m = new HashMap<char, int>();\r\n",
      "|      ^--^\r\n",
      "|  Error:\r\n",
      "|  unexpected type\r\n",
      "|    required: reference\r\n",
      "|    found:    int\r\n",
      "|  Map<char, int> m = new HashMap<char, int>();\r\n",
      "|            ^-^\r\n",
      "|  Error:\r\n",
      "|  unexpected type\r\n",
      "|    required: reference\r\n",
      "|    found:    char\r\n",
      "|  Map<char, int> m = new HashMap<char, int>();\r\n",
      "|                                 ^--^\r\n",
      "|  Error:\r\n",
      "|  unexpected type\r\n",
      "|    required: reference\r\n",
      "|    found:    int\r\n",
      "|  Map<char, int> m = new HashMap<char, int>();\r\n",
      "|                                       ^-^\r\n",
      "\r\n"
     ]
    }
   ],
   "source": [
    "Map<char, int> m = new HashMap<char, int>();"
   ]
  },
  {
   "cell_type": "code",
   "execution_count": 47,
   "metadata": {
    "collapsed": false
   },
   "outputs": [
    {
     "name": "stdout",
     "output_type": "stream",
     "text": [
      " Map<String, Integer> wc = new HashMap<String, Integer>();\r\n",
      "|  Modified variable wc of type Map<String, Integer> with initial value {}\r\n",
      "|    Update overwrote variable wc\r\n",
      "\r\n"
     ]
    }
   ],
   "source": [
    "Map<String, Integer> wc = new HashMap<String, Integer>();"
   ]
  },
  {
   "cell_type": "code",
   "execution_count": 48,
   "metadata": {
    "collapsed": false
   },
   "outputs": [
    {
     "name": "stdout",
     "output_type": "stream",
     "text": [
      " char[] letters = \"sangmyung unversity\".toCharArray();\r\n",
      "|  Modified variable letters of type char[] with initial value [C@5649fd9b\r\n",
      "|    Update overwrote variable letters\r\n",
      "\r\n",
      " String s;\r\n",
      "|  Modified variable s of type String\r\n",
      "|    Update overwrote variable s\r\n",
      "\r\n",
      " for(char c:letters) {\r\n",
      "     s=Character.toString(c);\r\n",
      "     //System.out.printf(\"%c %s\\n\",c,s);\r\n",
      "     if (s.equals(\"s\")) {\r\n",
      "         wc.put(s,1);\r\n",
      "         \r\n",
      "     } else if (s.equals(\"a\")) {\r\n",
      "         wc.put(s,1);\r\n",
      "     }\r\n",
      " }\r\n",
      "\r\n",
      " System.out.print(wc);\r\n",
      "{a=1, s=1}\r\n"
     ]
    }
   ],
   "source": [
    "char[] letters = \"sangmyung university\".toCharArray();\n",
    "String s;\n",
    "for(char c:letters) {\n",
    "    s=Character.toString(c);\n",
    "    //System.out.printf(\"%c %s\\n\",c,s);\n",
    "    if (s.equals(\"s\")) {\n",
    "        wc.put(s,1);\n",
    "        \n",
    "    } else if (s.equals(\"a\")) {\n",
    "        wc.put(s,1);\n",
    "    }\n",
    "}\n",
    "System.out.print(wc);"
   ]
  },
  {
   "cell_type": "markdown",
   "metadata": {},
   "source": [
    "* 키가 있으면 현재 키 값에 +1, 없으면 1\n",
    "    * map의 containsKey(키), map의 get(키)를 사용한다."
   ]
  },
  {
   "cell_type": "code",
   "execution_count": 49,
   "metadata": {
    "collapsed": false
   },
   "outputs": [
    {
     "name": "stdout",
     "output_type": "stream",
     "text": [
      " if (wc.containsKey(\"s\")) {\r\n",
      "     wc.put(\"s\",wc.get(\"s\")+1);\r\n",
      " }\r\n",
      "\r\n",
      " System.out.print(wc);\r\n",
      "{a=1, s=2}\r\n"
     ]
    }
   ],
   "source": [
    "if (wc.containsKey(\"s\")) {\n",
    "    wc.put(\"s\",wc.get(\"s\")+1);\n",
    "}\n",
    "System.out.print(wc);"
   ]
  },
  {
   "cell_type": "markdown",
   "metadata": {},
   "source": [
    "* java 8\n",
    "```\n",
    "Map<String, Integer> words = new HashMap<>();\n",
    "words.put(\"hello\", 3);\n",
    "words.put(\"world\", 4);\n",
    "words.computeIfPresent(\"hello\", (k, v) -> v + 1);\n",
    "System.out.println(words.get(\"hello\"));\n",
    "```"
   ]
  },
  {
   "cell_type": "code",
   "execution_count": 53,
   "metadata": {
    "collapsed": false,
    "scrolled": true
   },
   "outputs": [
    {
     "name": "stdout",
     "output_type": "stream",
     "text": [
      " Map<String, Integer> wc = new HashMap<String, Integer>();\r\n",
      "|  Modified variable wc of type Map<String, Integer> with initial value {}\r\n",
      "|    Update overwrote variable wc\r\n",
      "\r\n",
      " char[] letters = \"sangmyung university\".toCharArray();\r\n",
      "|  Modified variable letters of type char[] with initial value [C@55d56113\r\n",
      "|    Update overwrote variable letters\r\n",
      "\r\n",
      " String s;\r\n",
      "|  Modified variable s of type String\r\n",
      "|    Update overwrote variable s\r\n",
      "\r\n",
      " for(char c:letters) {\r\n",
      "     s=Character.toString(c);\r\n",
      "     //System.out.printf(\"%c %s\\n\",c,s);\r\n",
      "     if (wc.containsKey(s)) {\r\n",
      "         wc.put(s,wc.get(s)+1);\r\n",
      "     } else {\r\n",
      "         wc.put(s,1);\r\n",
      "     }\r\n",
      " }\r\n",
      "\r\n",
      " System.out.print(wc);\r\n",
      "{ =1, a=1, e=1, g=2, i=2, m=1, n=3, r=1, s=2, t=1, u=2, v=1, y=2}\r\n"
     ]
    }
   ],
   "source": [
    "Map<String, Integer> wc = new HashMap<String, Integer>();\n",
    "char[] letters = \"sangmyung university\".toCharArray();\n",
    "String s;\n",
    "for(char c:letters) {\n",
    "    s=Character.toString(c);\n",
    "    //System.out.printf(\"%c %s\\n\",c,s);\n",
    "    if (wc.containsKey(s)) {\n",
    "        wc.put(s,wc.get(s)+1);\n",
    "    } else {\n",
    "        wc.put(s,1);\n",
    "    }\n",
    "}\n",
    "System.out.print(wc);"
   ]
  },
  {
   "cell_type": "code",
   "execution_count": 55,
   "metadata": {
    "collapsed": false,
    "scrolled": true
   },
   "outputs": [
    {
     "name": "stdout",
     "output_type": "stream",
     "text": [
      " Map countChars(String str) {\r\n",
      "     Map<String, Integer> wc = new HashMap<String, Integer>();\r\n",
      "     char[] letters = str.toCharArray();\r\n",
      "     String s;\r\n",
      "     for(char c:letters) {\r\n",
      "         s=Character.toString(c);\r\n",
      "         //System.out.printf(\"%c %s\\n\",c,s);\r\n",
      "         if (wc.containsKey(s)) {\r\n",
      "             wc.put(s,wc.get(s)+1);\r\n",
      "         } else {\r\n",
      "             wc.put(s,1);\r\n",
      "         }\r\n",
      "     }\r\n",
      "     return wc;\r\n",
      " }\r\n",
      "|  Added method countChars(String)\r\n",
      "\r\n",
      " System.out.print(countChars(\"sangmyung university\"));\r\n",
      "{ =1, a=1, e=1, g=2, i=2, m=1, n=3, r=1, s=2, t=1, u=2, v=1, y=2}\r\n",
      " System.out.print(countChars(\"Seoul is so beautiful and lovely\"));\r\n",
      "{ =5, a=2, b=1, d=1, e=3, f=1, i=2, l=4, n=1, o=3, S=1, s=2, t=1, u=3, v=1, y=1}\r\n"
     ]
    }
   ],
   "source": [
    "Map countChars(String str) {\n",
    "    Map<String, Integer> wc = new HashMap<String, Integer>();\n",
    "    char[] letters = str.toCharArray();\n",
    "    String s;\n",
    "    for(char c:letters) {\n",
    "        s=Character.toString(c);\n",
    "        //System.out.printf(\"%c %s\\n\",c,s);\n",
    "        if (wc.containsKey(s)) {\n",
    "            wc.put(s,wc.get(s)+1);\n",
    "        } else {\n",
    "            wc.put(s,1);\n",
    "        }\n",
    "    }\n",
    "    return wc;\n",
    "}\n",
    "System.out.print(countChars(\"sangmyung university\"));\n",
    "System.out.print(countChars(\"Seoul is so beautiful and lovely\"));"
   ]
  },
  {
   "cell_type": "markdown",
   "metadata": {},
   "source": [
    "## 데이터구조-6: 문자열 'hello' 뒤집기"
   ]
  },
  {
   "cell_type": "code",
   "execution_count": 8,
   "metadata": {
    "collapsed": false
   },
   "outputs": [
    {
     "name": "stdout",
     "output_type": "stream",
     "text": [
      " String hello=\"hello\";\r\n",
      "|  Modified variable hello of type String with initial value \"hello\"\r\n",
      "|    Update overwrote variable hello\r\n",
      "\r\n",
      " char[] chArr=hello.toCharArray();\r\n",
      "|  Modified variable chArr of type char[] with initial value [C@56ef9176\r\n",
      "|    Update overwrote variable chArr\r\n",
      "\r\n",
      " StringBuilder olleh=new StringBuilder();\r\n",
      "|  Modified variable olleh of type StringBuilder with initial value \r\n",
      "|    Update overwrote variable olleh\r\n",
      "\r\n",
      " for(int i=chArr.length-1;i>=0;i--)\r\n",
      "     olleh.append(chArr[i])\r\n",
      "\r\n",
      " System.out.println(olleh);\r\n",
      "olleh\r\n",
      "\r\n"
     ]
    }
   ],
   "source": [
    "String hello=\"hello\";\n",
    "char[] chArr=hello.toCharArray();\n",
    "StringBuilder olleh=new StringBuilder();\n",
    "for(int i=chArr.length-1;i>=0;i--)\n",
    "    olleh.append(chArr[i])\n",
    "System.out.println(olleh);"
   ]
  },
  {
   "cell_type": "markdown",
   "metadata": {},
   "source": [
    "## 데이터구조-10: 서울에 거주하는 남녀의 구별 합계와 평균구하기\n",
    "\n",
    "* 9-1 남자의 합계와 평균을 구하기\n",
    "* 9-2 여자의 합계와 평균을 구하기.\n",
    "* 9-3 구별 인구합계를 구하고, 그래프 그리기\n",
    "\n",
    "* 프로그래밍 요소\n",
    "    * 2차원 데이터 구조를 사용할 수 있다.\n",
    "        * 데이터 구조의 차원만큼 반복문을 사용하는 것이 좋다. 1차원은 for문 1개, 2차원은 for문 중첩.\n",
    "    * 데이터구조에 저장된 값을 사용하여 연산을 할 수 있다.\n",
    "\n",
    "* 자료\n",
    "    * 서울 열린데이터 광장 http://data.seoul.go.kr에서 가져온 서울시 주민등록 구별/성별 통계 (2015년 3월 30일)\n",
    "\n",
    "```\n",
    "구    남     여\n",
    "종로구  74,425 76,326\n",
    "중구    61,164 61,636\n",
    "용산구  109,688 115,744\n",
    "성동구  144,796 146,776\n",
    "광진구  174,996 181,676\n",
    "동대문구        177,841 177,434\n",
    "중랑구  204,630 205,980\n",
    "성북구  223,373 232,245\n",
    "강북구  161,055 166,130\n",
    "도봉구  171,576 176,735\n",
    "노원구  279,169 293,772\n",
    "은평구  239,450 251,066\n",
    "서대문구        148,690 156,510\n",
    "마포구  182,977 196,992\n",
    "양천구  237,792 242,641\n",
    "강서구  283,869 296,762\n",
    "구로구  209,344 210,282\n",
    "금천구  118,965 114,441\n",
    "영등포구        186,503 186,856\n",
    "동작구  195,734 203,014\n",
    "관악구  254,381 249,472\n",
    "서초구  212,401 229,111\n",
    "강남구  271,654 295,354\n",
    "송파구  319,197 335,045\n",
    "강동구  229,829 231,671\n",
    "```\n"
   ]
  },
  {
   "cell_type": "code",
   "execution_count": 54,
   "metadata": {
    "collapsed": false
   },
   "outputs": [
    {
     "name": "stdout",
     "output_type": "stream",
     "text": [
      " int[][] a={{1,1},{2,2}};\r\n",
      "|  Added variable a of type int[][] with initial value [[I@f6c48ac\r\n",
      "\r\n"
     ]
    }
   ],
   "source": [
    "int[][] a={{1,1},{2,2}};"
   ]
  },
  {
   "cell_type": "code",
   "execution_count": 87,
   "metadata": {
    "collapsed": false
   },
   "outputs": [
    {
     "name": "stdout",
     "output_type": "stream",
     "text": [
      " int[][] data={\r\n",
      "     {74425, 76326},\r\n",
      "     {61164, 61636},\r\n",
      "     {109688, 115744},\r\n",
      "     {144796, 146776},\r\n",
      "     {174996, 181676},\r\n",
      "     {177841, 177434},\r\n",
      "     {204630, 205980},\r\n",
      "     {223373, 232245},\r\n",
      "     {161055, 166130},\r\n",
      "     {171576, 176735},\r\n",
      "     {279169, 293772},\r\n",
      "     {239450, 251066},\r\n",
      "     {148690, 156510},\r\n",
      "     {182977, 196992},\r\n",
      "     {237792, 242641},\r\n",
      "     {283869, 296762},\r\n",
      "     {209344, 210282},\r\n",
      "     {118965, 114441},\r\n",
      "     {186503, 186856},\r\n",
      "     {195734, 203014},\r\n",
      "     {254381, 249472},\r\n",
      "     {212401, 229111},\r\n",
      "     {271654, 295354},\r\n",
      "     {319197, 335045},\r\n",
      "     {229829, 231671}\r\n",
      " };\r\n",
      "|  Added variable data of type int[][] with initial value [[I@f6c48ac\r\n",
      "\r\n"
     ]
    }
   ],
   "source": [
    "int[][] data={\n",
    "    {74425, 76326},\n",
    "    {61164, 61636},\n",
    "    {109688, 115744},\n",
    "    {144796, 146776},\n",
    "    {174996, 181676},\n",
    "    {177841, 177434},\n",
    "    {204630, 205980},\n",
    "    {223373, 232245},\n",
    "    {161055, 166130},\n",
    "    {171576, 176735},\n",
    "    {279169, 293772},\n",
    "    {239450, 251066},\n",
    "    {148690, 156510},\n",
    "    {182977, 196992},\n",
    "    {237792, 242641},\n",
    "    {283869, 296762},\n",
    "    {209344, 210282},\n",
    "    {118965, 114441},\n",
    "    {186503, 186856},\n",
    "    {195734, 203014},\n",
    "    {254381, 249472},\n",
    "    {212401, 229111},\n",
    "    {271654, 295354},\n",
    "    {319197, 335045},\n",
    "    {229829, 231671}\n",
    "};"
   ]
  },
  {
   "cell_type": "markdown",
   "metadata": {
    "collapsed": true
   },
   "source": [
    "* 2차원 데이터의 출력"
   ]
  },
  {
   "cell_type": "code",
   "execution_count": 68,
   "metadata": {
    "collapsed": false
   },
   "outputs": [
    {
     "name": "stdout",
     "output_type": "stream",
     "text": [
      " for(int[] i:data)\r\n",
      "     for(int j:i)\r\n",
      "         System.out.print(j);\r\n",
      "74425763266116461636109688115744144796146776174996181676177841177434204630205980223373232245161055166130171576176735279169293772239450251066148690156510182977196992237792242641283869296762209344210282118965114441186503186856195734203014254381249472212401229111271654295354319197335045229829231671\r\n"
     ]
    }
   ],
   "source": [
    "for(int[] i:data)\n",
    "    for(int j:i)\n",
    "        System.out.print(j);"
   ]
  },
  {
   "cell_type": "code",
   "execution_count": 73,
   "metadata": {
    "collapsed": false
   },
   "outputs": [
    {
     "name": "stdout",
     "output_type": "stream",
     "text": [
      " data[0].length\r\n",
      "|  Expression value is: 2\r\n",
      "|    assigned to temporary variable $5 of type int\r\n",
      "\r\n"
     ]
    }
   ],
   "source": [
    "data[0].length"
   ]
  },
  {
   "cell_type": "code",
   "execution_count": 82,
   "metadata": {
    "collapsed": false
   },
   "outputs": [
    {
     "name": "stdout",
     "output_type": "stream",
     "text": [
      " data[0][1];\r\n",
      "|  Expression value is: 76326\r\n",
      "|    assigned to temporary variable $11 of type int\r\n",
      "\r\n"
     ]
    }
   ],
   "source": [
    "data[0][1];"
   ]
  },
  {
   "cell_type": "code",
   "execution_count": 81,
   "metadata": {
    "collapsed": false
   },
   "outputs": [
    {
     "name": "stdout",
     "output_type": "stream",
     "text": [
      " for(int i=0;i<data.length;i++) {\r\n",
      "     System.out.print(\"[\");\r\n",
      "     for(int j=0;j<data[i].length;j++) {\r\n",
      "         System.out.printf(\" %d \",data[i][j]);\r\n",
      "     }\r\n",
      "     System.out.print(\"]\\n\");\r\n",
      " }\r\n",
      "[ 74425  76326 ]\r\n",
      "[ 61164  61636 ]\r\n",
      "[ 109688  115744 ]\r\n",
      "[ 144796  146776 ]\r\n",
      "[ 174996  181676 ]\r\n",
      "[ 177841  177434 ]\r\n",
      "[ 204630  205980 ]\r\n",
      "[ 223373  232245 ]\r\n",
      "[ 161055  166130 ]\r\n",
      "[ 171576  176735 ]\r\n",
      "[ 279169  293772 ]\r\n",
      "[ 239450  251066 ]\r\n",
      "[ 148690  156510 ]\r\n",
      "[ 182977  196992 ]\r\n",
      "[ 237792  242641 ]\r\n",
      "[ 283869  296762 ]\r\n",
      "[ 209344  210282 ]\r\n",
      "[ 118965  114441 ]\r\n",
      "[ 186503  186856 ]\r\n",
      "[ 195734  203014 ]\r\n",
      "[ 254381  249472 ]\r\n",
      "[ 212401  229111 ]\r\n",
      "[ 271654  295354 ]\r\n",
      "[ 319197  335045 ]\r\n",
      "[ 229829  231671 ]\r\n",
      "\r\n"
     ]
    }
   ],
   "source": [
    "for(int i=0;i<data.length;i++) {\n",
    "    System.out.print(\"[\");\n",
    "    for(int j=0;j<data[i].length;j++) {\n",
    "        System.out.printf(\" %d \",data[i][j]);\n",
    "    }\n",
    "    System.out.print(\"]\\n\");\n",
    "}"
   ]
  },
  {
   "cell_type": "code",
   "execution_count": 89,
   "metadata": {
    "collapsed": false
   },
   "outputs": [
    {
     "name": "stdout",
     "output_type": "stream",
     "text": [
      " for(int gu=0;gu<data.length;gu++)\r\n",
      "     System.out.printf(\"(%d,%d)\\n\",data[gu][0], data[gu][1]);\r\n",
      "(74425,76326)\r\n",
      "(61164,61636)\r\n",
      "(109688,115744)\r\n",
      "(144796,146776)\r\n",
      "(174996,181676)\r\n",
      "(177841,177434)\r\n",
      "(204630,205980)\r\n",
      "(223373,232245)\r\n",
      "(161055,166130)\r\n",
      "(171576,176735)\r\n",
      "(279169,293772)\r\n",
      "(239450,251066)\r\n",
      "(148690,156510)\r\n",
      "(182977,196992)\r\n",
      "(237792,242641)\r\n",
      "(283869,296762)\r\n",
      "(209344,210282)\r\n",
      "(118965,114441)\r\n",
      "(186503,186856)\r\n",
      "(195734,203014)\r\n",
      "(254381,249472)\r\n",
      "(212401,229111)\r\n",
      "(271654,295354)\r\n",
      "(319197,335045)\r\n",
      "(229829,231671)\r\n",
      "\r\n"
     ]
    }
   ],
   "source": [
    "for(int gu=0;gu<data.length;gu++)\n",
    "    System.out.printf(\"(%d,%d)\\n\",data[gu][0], data[gu][1]);"
   ]
  },
  {
   "cell_type": "code",
   "execution_count": 90,
   "metadata": {
    "collapsed": false
   },
   "outputs": [
    {
     "name": "stdout",
     "output_type": "stream",
     "text": [
      " for(int[] gu:data)\r\n",
      "     System.out.printf(\"(%d,%d)\\n\",gu[0], gu[1]);\r\n",
      "(74425,76326)\r\n",
      "(61164,61636)\r\n",
      "(109688,115744)\r\n",
      "(144796,146776)\r\n",
      "(174996,181676)\r\n",
      "(177841,177434)\r\n",
      "(204630,205980)\r\n",
      "(223373,232245)\r\n",
      "(161055,166130)\r\n",
      "(171576,176735)\r\n",
      "(279169,293772)\r\n",
      "(239450,251066)\r\n",
      "(148690,156510)\r\n",
      "(182977,196992)\r\n",
      "(237792,242641)\r\n",
      "(283869,296762)\r\n",
      "(209344,210282)\r\n",
      "(118965,114441)\r\n",
      "(186503,186856)\r\n",
      "(195734,203014)\r\n",
      "(254381,249472)\r\n",
      "(212401,229111)\r\n",
      "(271654,295354)\r\n",
      "(319197,335045)\r\n",
      "(229829,231671)\r\n",
      "\r\n"
     ]
    }
   ],
   "source": [
    "for(int[] gu:data)\n",
    "    System.out.printf(\"(%d,%d)\\n\",gu[0], gu[1]);"
   ]
  },
  {
   "cell_type": "code",
   "execution_count": 93,
   "metadata": {
    "collapsed": false
   },
   "outputs": [
    {
     "name": "stdout",
     "output_type": "stream",
     "text": [
      " int sumM=0;\r\n",
      "|  Modified variable sumM of type int with initial value 0\r\n",
      "|    Update overwrote variable sumM\r\n",
      "\r\n",
      " int sumF=0;\r\n",
      "|  Modified variable sumF of type int with initial value 0\r\n",
      "|    Update overwrote variable sumF\r\n",
      "\r\n",
      " for(int[] gu:data) {\r\n",
      "     sumM+=gu[0];\r\n",
      "     sumF+=gu[1];\r\n",
      " }\r\n",
      "\r\n",
      " System.out.printf(\"sumM:%d, sumF:%d\",sumM,sumF);\r\n",
      "sumM:4873499, sumF:5033671|  Expression value is: java.io.PrintStream@7085bdee\r\n",
      "|    assigned to temporary variable $14 of type PrintStream\r\n",
      "\r\n"
     ]
    }
   ],
   "source": [
    "int sumM=0;\n",
    "int sumF=0;\n",
    "for(int[] gu:data) {\n",
    "    sumM+=gu[0];\n",
    "    sumF+=gu[1];\n",
    "}\n",
    "System.out.printf(\"sumM:%d, sumF:%d\",sumM,sumF);"
   ]
  }
 ],
 "metadata": {
  "celltoolbar": "Slideshow",
  "kernelspec": {
   "display_name": "Java 9",
   "language": "java",
   "name": "java"
  },
  "language_info": {
   "file_extension": ".class",
   "mimetype": "application/java-vm",
   "name": "java"
  }
 },
 "nbformat": 4,
 "nbformat_minor": 0
}
