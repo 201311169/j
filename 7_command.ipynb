{
 "cells": [
  {
   "cell_type": "markdown",
   "metadata": {
    "slideshow": {
     "slide_type": "slide"
    }
   },
   "source": [
    "# 강의내용\n",
    "\n",
    "* 교재 6장 HFDP Ch6\n",
    "* Command 패턴 (Behavioral Design Pattern)\n",
    "* 프로그래밍 'Remote Control' (HFDP Ch6)\n",
    "* TOC\n",
    "    * intro\n",
    "    * problems\n",
    "    * before\n",
    "    * design\n",
    "    * after\n",
    "    * case implementation\n",
    "    * exercise (by Sat to git: 50% for 1 day late deadline) \n",
    "        * case extension\n",
    "            * Remote Controller - DVD (undo)\n",
    "        * new case -  Macro"
   ]
  },
  {
   "cell_type": "markdown",
   "metadata": {
    "slideshow": {
     "slide_type": "slide"
    }
   },
   "source": [
    "# 1. Command 패턴\n",
    "\n",
    "\n",
    "* Encapsulating invocation 함수호출을 숨김.\n",
    "    * \"encapsulates a request as an object,\n",
    "    thereby letting you parameterize other objects with different requests, queue or log requests, and \n",
    "    support undoable operations\"\n",
    "    * 전등을 켜는 예를 들면\n",
    "        * 전등객체를 직접 이용해서 전등을 켜는 것이 아니라, 세부내용을 감추고 사용할 객체 없이 단순히 execute()함수만 호출.\n",
    "        * execute()함수를 호출할 때 사용할 객체를 밝히지 않음. 전등객체를 미리 연결해 놓아야 함.\n",
    "\n",
    "* 감추려고 하는 것들 (캡슐화라고 하는 것)\n",
    "    * 함수명 light.up() -> command.execute() 사용하는 함수 통일\n",
    "    * 함수를 갖고 있는 객체 -> light를 모르고 execute() 사용객체 없이 함수호출.\n",
    "    * 함수관련 값\n",
    "\n",
    "* cases\n",
    "    * HFDP Diner, Remote Control\n",
    "    * GUI buttons and menu items \n",
    "    * Macro recording - lambda\n",
    "\n",
    "* 디자인패턴 요소\n",
    "\n",
    "요소 | 설명\n",
    "---|---\n",
    "name | Command\n",
    "problem | 사용객체의 API가 서로 다름.\n",
    "solution | 실행과 요청을 분리.\n",
    "consequence | (작은) 클래스가 많아지지만, 객체사용에 필요한 복잡성을 제거하고 감춤 (함수 명 동일해짐)\n"
   ]
  },
  {
   "cell_type": "markdown",
   "metadata": {
    "slideshow": {
     "slide_type": "slide"
    }
   },
   "source": [
    "# 2. 문제\n",
    "\n",
    "* 사용하려는 객체가 많고, API가 서로 다름."
   ]
  },
  {
   "cell_type": "code",
   "execution_count": 5,
   "metadata": {
    "collapsed": false
   },
   "outputs": [
    {
     "name": "stdout",
     "output_type": "stream",
     "text": [
      "/Users/media/Code/git/sd/lib\n",
      "The environment variable GRAPHVIZ_DOT has been set to /opt/local/bin/dot\n",
      "Dot executable is /opt/local/bin/dot\n",
      "Dot version: dot - graphviz version 2.38.0 (20140413.2041)\n",
      "Installation seems OK. File generation OK\n"
     ]
    }
   ],
   "source": [
    "import os\n",
    "import glob\n",
    "\n",
    "mywd=%pwd\n",
    "myplantdir=os.path.join(mywd,'lib')\n",
    "mydotdir=!which dot\n",
    "mydot=mydotdir[0]\n",
    "# mydot=\"C:\\\\Program Files (x86)\\\\Graphviz2.38\\\\bin\\\\dot.exe\"\n",
    "\n",
    "# plantuml.jar파일이 존재하는지 확인한후, 테스트\n",
    "%cd {myplantdir}\n",
    "glob.glob(r'./*.jar')\n",
    "# dot 실행파일이 저장된 곳을 인식 못하는 경우, Python명령어를 이용해 환경변수를 설정할 수 있다.\n",
    "os.environ['GRAPHVIZ_DOT']=mydot\n",
    "# 리눅스 예: 앞 느낌표는 쉘 명령어. {myplantdir}는 쉘에서 변수값을 읽어오는 것.\n",
    "!java -jar {myplantdir}/plantuml.jar -testdot"
   ]
  },
  {
   "cell_type": "code",
   "execution_count": 6,
   "metadata": {
    "collapsed": false,
    "slideshow": {
     "slide_type": "slide"
    }
   },
   "outputs": [
    {
     "name": "stdout",
     "output_type": "stream",
     "text": [
      "Installed plantuml_magics.py. To use it, type:\n",
      "  %load_ext plantuml_magics\n"
     ]
    }
   ],
   "source": [
    "%install_ext https://raw.githubusercontent.com/sberke/ipython-plantuml/master/plantuml_magics.py"
   ]
  },
  {
   "cell_type": "code",
   "execution_count": 7,
   "metadata": {
    "collapsed": false,
    "slideshow": {
     "slide_type": "slide"
    }
   },
   "outputs": [
    {
     "name": "stdout",
     "output_type": "stream",
     "text": [
      "The plantuml_magics extension is already loaded. To reload it, use:\n",
      "  %reload_ext plantuml_magics\n"
     ]
    }
   ],
   "source": [
    "%load_ext plantuml_magics"
   ]
  },
  {
   "cell_type": "markdown",
   "metadata": {
    "slideshow": {
     "slide_type": "slide"
    }
   },
   "source": [
    "# 3. before\n",
    "\n",
    "* Remote Control의 경우, 사용하려는 객체가 차고, 전등, TV, Stereo, CeilingFan... 많음.\n",
    "* 사용객체, API가 서로 다름\n",
    "    * 차고문 up()\n",
    "    * 전등 on()\n",
    "    * TV pressOn()..."
   ]
  },
  {
   "cell_type": "code",
   "execution_count": 8,
   "metadata": {
    "collapsed": false,
    "slideshow": {
     "slide_type": "slide"
    }
   },
   "outputs": [
    {
     "data": {
      "image/svg+xml": [
       "<svg height=\"190px\" style=\"width:437px;height:190px;\" version=\"1.1\" viewBox=\"0 0 437 190\" width=\"437px\" xmlns=\"http://www.w3.org/2000/svg\" xmlns:xlink=\"http://www.w3.org/1999/xlink\"><defs><filter height=\"300%\" id=\"f1\" width=\"300%\" x=\"-1\" y=\"-1\"><feGaussianBlur result=\"blurOut\" stdDeviation=\"2.0\"/><feColorMatrix in=\"blurOut\" result=\"blurOut2\" type=\"matrix\" values=\"0 0 0 0 0 0 0 0 0 0 0 0 0 0 0 0 0 0 .4 0\"/><feOffset dx=\"4.0\" dy=\"4.0\" in=\"blurOut2\" result=\"blurOut3\"/><feBlend in=\"SourceGraphic\" in2=\"blurOut3\" mode=\"normal\"/></filter></defs><g><rect fill=\"#FEFECE\" filter=\"url(#f1)\" height=\"48\" style=\"stroke: #A80036; stroke-width: 1.5;\" width=\"64\" x=\"6\" y=\"8\"/><ellipse cx=\"21\" cy=\"24\" fill=\"#ADD1B2\" rx=\"11\" ry=\"11\" style=\"stroke: #A80036; stroke-width: 1.0;\"/><path d=\"M23.9731,29.6431 Q23.3921,29.9419 22.7529,30.0913 Q22.1138,30.2407 21.4082,30.2407 Q18.9014,30.2407 17.5815,28.5889 Q16.2617,26.937 16.2617,23.8159 Q16.2617,20.6865 17.5815,19.0347 Q18.9014,17.3828 21.4082,17.3828 Q22.1138,17.3828 22.7612,17.5322 Q23.4087,17.6816 23.9731,17.9805 L23.9731,20.7031 Q23.3423,20.1221 22.7488,19.8523 Q22.1553,19.5825 21.5244,19.5825 Q20.1797,19.5825 19.4949,20.6492 Q18.8101,21.7158 18.8101,23.8159 Q18.8101,25.9077 19.4949,26.9744 Q20.1797,28.041 21.5244,28.041 Q22.1553,28.041 22.7488,27.7712 Q23.3423,27.5015 23.9731,26.9204 Z \"/><text fill=\"#000000\" font-family=\"sans-serif\" font-size=\"12\" lengthAdjust=\"spacingAndGlyphs\" textLength=\"32\" x=\"35\" y=\"28.5352\">Client</text><line style=\"stroke: #A80036; stroke-width: 1.5;\" x1=\"7\" x2=\"69\" y1=\"40\" y2=\"40\"/><line style=\"stroke: #A80036; stroke-width: 1.5;\" x1=\"7\" x2=\"69\" y1=\"48\" y2=\"48\"/><rect fill=\"#FEFECE\" filter=\"url(#f1)\" height=\"48\" style=\"stroke: #A80036; stroke-width: 1.5;\" width=\"48\" x=\"277\" y=\"8\"/><ellipse cx=\"292\" cy=\"24\" fill=\"#ADD1B2\" rx=\"11\" ry=\"11\" style=\"stroke: #A80036; stroke-width: 1.0;\"/><path d=\"M294.9731,29.6431 Q294.3921,29.9419 293.7529,30.0913 Q293.1138,30.2407 292.4082,30.2407 Q289.9014,30.2407 288.5815,28.5889 Q287.2617,26.937 287.2617,23.8159 Q287.2617,20.6865 288.5815,19.0347 Q289.9014,17.3828 292.4082,17.3828 Q293.1138,17.3828 293.7612,17.5322 Q294.4087,17.6816 294.9731,17.9805 L294.9731,20.7031 Q294.3423,20.1221 293.7488,19.8523 Q293.1553,19.5825 292.5244,19.5825 Q291.1797,19.5825 290.4949,20.6492 Q289.8101,21.7158 289.8101,23.8159 Q289.8101,25.9077 290.4949,26.9744 Q291.1797,28.041 292.5244,28.041 Q293.1553,28.041 293.7488,27.7712 Q294.3423,27.5015 294.9731,26.9204 Z \"/><text fill=\"#000000\" font-family=\"sans-serif\" font-size=\"12\" lengthAdjust=\"spacingAndGlyphs\" textLength=\"16\" x=\"306\" y=\"28.5352\">TV</text><line style=\"stroke: #A80036; stroke-width: 1.5;\" x1=\"278\" x2=\"324\" y1=\"40\" y2=\"40\"/><line style=\"stroke: #A80036; stroke-width: 1.5;\" x1=\"278\" x2=\"324\" y1=\"48\" y2=\"48\"/><rect fill=\"#FEFECE\" filter=\"url(#f1)\" height=\"48\" style=\"stroke: #A80036; stroke-width: 1.5;\" width=\"68\" x=\"360\" y=\"8\"/><ellipse cx=\"375\" cy=\"24\" fill=\"#ADD1B2\" rx=\"11\" ry=\"11\" style=\"stroke: #A80036; stroke-width: 1.0;\"/><path d=\"M377.9731,29.6431 Q377.3921,29.9419 376.7529,30.0913 Q376.1138,30.2407 375.4082,30.2407 Q372.9014,30.2407 371.5815,28.5889 Q370.2617,26.937 370.2617,23.8159 Q370.2617,20.6865 371.5815,19.0347 Q372.9014,17.3828 375.4082,17.3828 Q376.1138,17.3828 376.7612,17.5322 Q377.4087,17.6816 377.9731,17.9805 L377.9731,20.7031 Q377.3423,20.1221 376.7488,19.8523 Q376.1553,19.5825 375.5244,19.5825 Q374.1797,19.5825 373.4949,20.6492 Q372.8101,21.7158 372.8101,23.8159 Q372.8101,25.9077 373.4949,26.9744 Q374.1797,28.041 375.5244,28.041 Q376.1553,28.041 376.7488,27.7712 Q377.3423,27.5015 377.9731,26.9204 Z \"/><text fill=\"#000000\" font-family=\"sans-serif\" font-size=\"12\" lengthAdjust=\"spacingAndGlyphs\" textLength=\"36\" x=\"389\" y=\"28.5352\">Stereo</text><line style=\"stroke: #A80036; stroke-width: 1.5;\" x1=\"361\" x2=\"427\" y1=\"40\" y2=\"40\"/><line style=\"stroke: #A80036; stroke-width: 1.5;\" x1=\"361\" x2=\"427\" y1=\"48\" y2=\"48\"/><rect fill=\"#FEFECE\" filter=\"url(#f1)\" height=\"48\" style=\"stroke: #A80036; stroke-width: 1.5;\" width=\"90\" x=\"256\" y=\"133\"/><ellipse cx=\"271\" cy=\"149\" fill=\"#ADD1B2\" rx=\"11\" ry=\"11\" style=\"stroke: #A80036; stroke-width: 1.0;\"/><path d=\"M273.9731,154.6431 Q273.3921,154.9419 272.7529,155.0913 Q272.1138,155.2407 271.4082,155.2407 Q268.9014,155.2407 267.5815,153.5889 Q266.2617,151.937 266.2617,148.8159 Q266.2617,145.6865 267.5815,144.0347 Q268.9014,142.3828 271.4082,142.3828 Q272.1138,142.3828 272.7612,142.5322 Q273.4087,142.6816 273.9731,142.9805 L273.9731,145.7031 Q273.3423,145.1221 272.7488,144.8523 Q272.1553,144.5825 271.5244,144.5825 Q270.1797,144.5825 269.4949,145.6492 Q268.8101,146.7158 268.8101,148.8159 Q268.8101,150.9077 269.4949,151.9744 Q270.1797,153.041 271.5244,153.041 Q272.1553,153.041 272.7488,152.7712 Q273.3423,152.5015 273.9731,151.9204 Z \"/><text fill=\"#000000\" font-family=\"sans-serif\" font-size=\"12\" lengthAdjust=\"spacingAndGlyphs\" textLength=\"58\" x=\"285\" y=\"153.5352\">CeilingFan</text><line style=\"stroke: #A80036; stroke-width: 1.5;\" x1=\"257\" x2=\"345\" y1=\"165\" y2=\"165\"/><line style=\"stroke: #A80036; stroke-width: 1.5;\" x1=\"257\" x2=\"345\" y1=\"173\" y2=\"173\"/><rect fill=\"#FEFECE\" filter=\"url(#f1)\" height=\"48\" style=\"stroke: #A80036; stroke-width: 1.5;\" width=\"102\" x=\"140\" y=\"8\"/><ellipse cx=\"155\" cy=\"24\" fill=\"#ADD1B2\" rx=\"11\" ry=\"11\" style=\"stroke: #A80036; stroke-width: 1.0;\"/><path d=\"M157.9731,29.6431 Q157.3921,29.9419 156.7529,30.0913 Q156.1138,30.2407 155.4082,30.2407 Q152.9014,30.2407 151.5815,28.5889 Q150.2617,26.937 150.2617,23.8159 Q150.2617,20.6865 151.5815,19.0347 Q152.9014,17.3828 155.4082,17.3828 Q156.1138,17.3828 156.7612,17.5322 Q157.4087,17.6816 157.9731,17.9805 L157.9731,20.7031 Q157.3423,20.1221 156.7488,19.8523 Q156.1553,19.5825 155.5244,19.5825 Q154.1797,19.5825 153.4949,20.6492 Q152.8101,21.7158 152.8101,23.8159 Q152.8101,25.9077 153.4949,26.9744 Q154.1797,28.041 155.5244,28.041 Q156.1553,28.041 156.7488,27.7712 Q157.3423,27.5015 157.9731,26.9204 Z \"/><text fill=\"#000000\" font-family=\"sans-serif\" font-size=\"12\" lengthAdjust=\"spacingAndGlyphs\" textLength=\"70\" x=\"169\" y=\"28.5352\">GarageDoor</text><line style=\"stroke: #A80036; stroke-width: 1.5;\" x1=\"141\" x2=\"241\" y1=\"40\" y2=\"40\"/><line style=\"stroke: #A80036; stroke-width: 1.5;\" x1=\"141\" x2=\"241\" y1=\"48\" y2=\"48\"/><rect fill=\"#FEFECE\" filter=\"url(#f1)\" height=\"48\" style=\"stroke: #A80036; stroke-width: 1.5;\" width=\"59\" x=\"8.5\" y=\"133\"/><ellipse cx=\"23.5\" cy=\"149\" fill=\"#ADD1B2\" rx=\"11\" ry=\"11\" style=\"stroke: #A80036; stroke-width: 1.0;\"/><path d=\"M26.4731,154.6431 Q25.8921,154.9419 25.2529,155.0913 Q24.6138,155.2407 23.9082,155.2407 Q21.4014,155.2407 20.0815,153.5889 Q18.7617,151.937 18.7617,148.8159 Q18.7617,145.6865 20.0815,144.0347 Q21.4014,142.3828 23.9082,142.3828 Q24.6138,142.3828 25.2612,142.5322 Q25.9087,142.6816 26.4731,142.9805 L26.4731,145.7031 Q25.8423,145.1221 25.2488,144.8523 Q24.6553,144.5825 24.0244,144.5825 Q22.6797,144.5825 21.9949,145.6492 Q21.3101,146.7158 21.3101,148.8159 Q21.3101,150.9077 21.9949,151.9744 Q22.6797,153.041 24.0244,153.041 Q24.6553,153.041 25.2488,152.7712 Q25.8423,152.5015 26.4731,151.9204 Z \"/><text fill=\"#000000\" font-family=\"sans-serif\" font-size=\"12\" lengthAdjust=\"spacingAndGlyphs\" textLength=\"27\" x=\"37.5\" y=\"153.5352\">Light</text><line style=\"stroke: #A80036; stroke-width: 1.5;\" x1=\"9.5\" x2=\"66.5\" y1=\"165\" y2=\"165\"/><line style=\"stroke: #A80036; stroke-width: 1.5;\" x1=\"9.5\" x2=\"66.5\" y1=\"173\" y2=\"173\"/><path d=\"M70.0738,32 C88.8131,32 112.995,32 134.804,32 \" fill=\"none\" style=\"stroke: #A80036; stroke-width: 1.0;\"/><polygon fill=\"#A80036\" points=\"139.999,32,130.999,28,134.999,32,130.999,36,139.999,32\" style=\"stroke: #A80036; stroke-width: 1.0;\"/><text fill=\"#000000\" font-family=\"sans-serif\" font-size=\"13\" lengthAdjust=\"spacingAndGlyphs\" textLength=\"24\" x=\"93\" y=\"25.5684\">up()</text><path d=\"M38,56.135 C38,76.494 38,106.1907 38,127.908 \" fill=\"none\" style=\"stroke: #A80036; stroke-width: 1.0;\"/><polygon fill=\"#A80036\" points=\"38,132.9684,42,123.9684,38,127.9684,34,123.9684,38,132.9684\" style=\"stroke: #A80036; stroke-width: 1.0;\"/><text fill=\"#000000\" font-family=\"sans-serif\" font-size=\"13\" lengthAdjust=\"spacingAndGlyphs\" textLength=\"24\" x=\"39\" y=\"99.5684\">on()</text></g></svg>"
      ],
      "text/plain": [
       "<IPython.core.display.SVG object>"
      ]
     },
     "execution_count": 8,
     "metadata": {},
     "output_type": "execute_result"
    }
   ],
   "source": [
    "%%plantuml\n",
    "@startuml\n",
    "class Client\n",
    "class TV\n",
    "class Stereo\n",
    "class CeilingFan\n",
    "Client -right-> GarageDoor:up()\n",
    "Client -down-> Light:on()\n",
    "@enduml"
   ]
  },
  {
   "cell_type": "markdown",
   "metadata": {
    "slideshow": {
     "slide_type": "slide"
    }
   },
   "source": [
    "# 4. 설계\n",
    "\n",
    "* decoupling - 주문과 실행을 분리\n",
    "* 역할\n",
    "    * Command\n",
    "        * knows about receiver and invokes a method of the receiver.\n",
    "        * Values for parameters of the receiver method are stored in the command\n",
    "        * 예: Command, ConcreteCommand\n",
    "    * Receiver\n",
    "        * 실제 명령 수행\n",
    "        * 예: Light, GarageDoor\n",
    "    * Invoker\n",
    "        * 주문을 받아서, 주문을 실행하기 위해 Command인터페이스 연결\n",
    "        * Command인터페이스만 앎. Command가 실제 어떻게 수행되는지 모름\n",
    "        * 예: RemoteControl\n",
    "    * Client\n",
    "        * 무엇을 주문할지 결정하고, 주문Command을 Invoker에게 넘김\n",
    "        * 예: main함수\n",
    "\n",
    "Command Pattern | 설명 | Diner | Remote\n",
    "---|---|---|---\n",
    "Client | Command객체 생성 | 고객 | 리모콘 버튼의 기능을 인지하고, 버튼 누름.\n",
    "Command | 어떤 Receiver를 실행할 지 연결 | 웨이터 | 버튼에 실제사용객체를 연결해 놓음.\n",
    "Invoker | 주문을 받아서, 실행하기 위해 Command인터페이스 연결 | 주문서 | 리모콘. 버튼을 누르면 기능을 실행함.\n",
    "Receiver | 실제 명령을 수행 | 요리사 | TV, 전등과 같은 실제객체."
   ]
  },
  {
   "cell_type": "code",
   "execution_count": 40,
   "metadata": {
    "collapsed": false,
    "slideshow": {
     "slide_type": "slide"
    }
   },
   "outputs": [
    {
     "data": {
      "image/svg+xml": [
       "<svg height=\"228px\" style=\"width:474px;height:228px;\" version=\"1.1\" viewBox=\"0 0 474 228\" width=\"474px\" xmlns=\"http://www.w3.org/2000/svg\" xmlns:xlink=\"http://www.w3.org/1999/xlink\"><defs><filter height=\"300%\" id=\"f1\" width=\"300%\" x=\"-1\" y=\"-1\"><feGaussianBlur result=\"blurOut\" stdDeviation=\"2.0\"/><feColorMatrix in=\"blurOut\" result=\"blurOut2\" type=\"matrix\" values=\"0 0 0 0 0 0 0 0 0 0 0 0 0 0 0 0 0 0 .4 0\"/><feOffset dx=\"4.0\" dy=\"4.0\" in=\"blurOut2\" result=\"blurOut3\"/><feBlend in=\"SourceGraphic\" in2=\"blurOut3\" mode=\"normal\"/></filter></defs><g><rect fill=\"#FEFECE\" filter=\"url(#f1)\" height=\"48\" style=\"stroke: #A80036; stroke-width: 1.5;\" width=\"64\" x=\"14.5\" y=\"21\"/><ellipse cx=\"29.5\" cy=\"37\" fill=\"#ADD1B2\" rx=\"11\" ry=\"11\" style=\"stroke: #A80036; stroke-width: 1.0;\"/><path d=\"M32.4731,42.6431 Q31.8921,42.9419 31.2529,43.0913 Q30.6138,43.2407 29.9082,43.2407 Q27.4014,43.2407 26.0815,41.5889 Q24.7617,39.937 24.7617,36.8159 Q24.7617,33.6865 26.0815,32.0347 Q27.4014,30.3828 29.9082,30.3828 Q30.6138,30.3828 31.2612,30.5322 Q31.9087,30.6816 32.4731,30.9805 L32.4731,33.7031 Q31.8423,33.1221 31.2488,32.8523 Q30.6553,32.5825 30.0244,32.5825 Q28.6797,32.5825 27.9949,33.6492 Q27.3101,34.7158 27.3101,36.8159 Q27.3101,38.9077 27.9949,39.9744 Q28.6797,41.041 30.0244,41.041 Q30.6553,41.041 31.2488,40.7712 Q31.8423,40.5015 32.4731,39.9204 Z \"/><text fill=\"#000000\" font-family=\"sans-serif\" font-size=\"12\" lengthAdjust=\"spacingAndGlyphs\" textLength=\"32\" x=\"43.5\" y=\"41.5352\">Client</text><line style=\"stroke: #A80036; stroke-width: 1.5;\" x1=\"15.5\" x2=\"77.5\" y1=\"53\" y2=\"53\"/><line style=\"stroke: #A80036; stroke-width: 1.5;\" x1=\"15.5\" x2=\"77.5\" y1=\"61\" y2=\"61\"/><rect fill=\"#FEFECE\" filter=\"url(#f1)\" height=\"60.9551\" style=\"stroke: #A80036; stroke-width: 1.5;\" width=\"91\" x=\"213\" y=\"14.5\"/><ellipse cx=\"235.65\" cy=\"30.5\" fill=\"#ADD1B2\" rx=\"11\" ry=\"11\" style=\"stroke: #A80036; stroke-width: 1.0;\"/><path d=\"M238.6231,36.1431 Q238.0421,36.4419 237.4029,36.5913 Q236.7638,36.7407 236.0582,36.7407 Q233.5514,36.7407 232.2315,35.0889 Q230.9117,33.437 230.9117,30.3159 Q230.9117,27.1865 232.2315,25.5347 Q233.5514,23.8828 236.0582,23.8828 Q236.7638,23.8828 237.4112,24.0322 Q238.0587,24.1816 238.6231,24.4805 L238.6231,27.2031 Q237.9923,26.6221 237.3988,26.3523 Q236.8053,26.0825 236.1744,26.0825 Q234.8297,26.0825 234.1449,27.1492 Q233.4601,28.2158 233.4601,30.3159 Q233.4601,32.4077 234.1449,33.4744 Q234.8297,34.541 236.1744,34.541 Q236.8053,34.541 237.3988,34.2712 Q237.9923,34.0015 238.6231,33.4204 Z \"/><text fill=\"#000000\" font-family=\"sans-serif\" font-size=\"12\" lengthAdjust=\"spacingAndGlyphs\" textLength=\"42\" x=\"251.35\" y=\"35.0352\">Invoker</text><line style=\"stroke: #A80036; stroke-width: 1.5;\" x1=\"214\" x2=\"303\" y1=\"46.5\" y2=\"46.5\"/><line style=\"stroke: #A80036; stroke-width: 1.5;\" x1=\"214\" x2=\"303\" y1=\"54.5\" y2=\"54.5\"/><text fill=\"#000000\" font-family=\"sans-serif\" font-size=\"11\" lengthAdjust=\"spacingAndGlyphs\" textLength=\"79\" x=\"219\" y=\"69.1348\">setCommand()</text><rect fill=\"#FEFECE\" filter=\"url(#f1)\" height=\"73.9102\" style=\"stroke: #A80036; stroke-width: 1.5;\" width=\"91\" x=\"374\" y=\"8\"/><ellipse cx=\"389\" cy=\"24\" fill=\"#B4A7E5\" rx=\"11\" ry=\"11\" style=\"stroke: #A80036; stroke-width: 1.0;\"/><path d=\"M384.9277,19.7651 L384.9277,17.6069 L392.3071,17.6069 L392.3071,19.7651 L389.8418,19.7651 L389.8418,27.8418 L392.3071,27.8418 L392.3071,30 L384.9277,30 L384.9277,27.8418 L387.3931,27.8418 L387.3931,19.7651 Z \"/><text fill=\"#000000\" font-family=\"sans-serif\" font-size=\"12\" font-style=\"italic\" lengthAdjust=\"spacingAndGlyphs\" textLength=\"59\" x=\"403\" y=\"28.5352\">Command</text><line style=\"stroke: #A80036; stroke-width: 1.5;\" x1=\"375\" x2=\"464\" y1=\"40\" y2=\"40\"/><line style=\"stroke: #A80036; stroke-width: 1.5;\" x1=\"375\" x2=\"464\" y1=\"48\" y2=\"48\"/><text fill=\"#000000\" font-family=\"sans-serif\" font-size=\"11\" lengthAdjust=\"spacingAndGlyphs\" textLength=\"50\" x=\"380\" y=\"62.6348\">execute()</text><text fill=\"#000000\" font-family=\"sans-serif\" font-size=\"11\" lengthAdjust=\"spacingAndGlyphs\" textLength=\"36\" x=\"380\" y=\"75.5898\">undo()</text><rect fill=\"#FEFECE\" filter=\"url(#f1)\" height=\"60.9551\" style=\"stroke: #A80036; stroke-width: 1.5;\" width=\"81\" x=\"6\" y=\"159\"/><ellipse cx=\"21\" cy=\"175\" fill=\"#ADD1B2\" rx=\"11\" ry=\"11\" style=\"stroke: #A80036; stroke-width: 1.0;\"/><path d=\"M23.9731,180.6431 Q23.3921,180.9419 22.7529,181.0913 Q22.1138,181.2407 21.4082,181.2407 Q18.9014,181.2407 17.5815,179.5889 Q16.2617,177.937 16.2617,174.8159 Q16.2617,171.6865 17.5815,170.0347 Q18.9014,168.3828 21.4082,168.3828 Q22.1138,168.3828 22.7612,168.5322 Q23.4087,168.6816 23.9731,168.9805 L23.9731,171.7031 Q23.3423,171.1221 22.7488,170.8523 Q22.1553,170.5825 21.5244,170.5825 Q20.1797,170.5825 19.4949,171.6492 Q18.8101,172.7158 18.8101,174.8159 Q18.8101,176.9077 19.4949,177.9744 Q20.1797,179.041 21.5244,179.041 Q22.1553,179.041 22.7488,178.7712 Q23.3423,178.5015 23.9731,177.9204 Z \"/><text fill=\"#000000\" font-family=\"sans-serif\" font-size=\"12\" lengthAdjust=\"spacingAndGlyphs\" textLength=\"49\" x=\"35\" y=\"179.5352\">Receiver</text><line style=\"stroke: #A80036; stroke-width: 1.5;\" x1=\"7\" x2=\"86\" y1=\"191\" y2=\"191\"/><line style=\"stroke: #A80036; stroke-width: 1.5;\" x1=\"7\" x2=\"86\" y1=\"199\" y2=\"199\"/><text fill=\"#000000\" font-family=\"sans-serif\" font-size=\"11\" lengthAdjust=\"spacingAndGlyphs\" textLength=\"41\" x=\"12\" y=\"213.6348\">action()</text><rect fill=\"#FEFECE\" filter=\"url(#f1)\" height=\"48\" style=\"stroke: #A80036; stroke-width: 1.5;\" width=\"142\" x=\"156.5\" y=\"165.5\"/><ellipse cx=\"171.5\" cy=\"181.5\" fill=\"#ADD1B2\" rx=\"11\" ry=\"11\" style=\"stroke: #A80036; stroke-width: 1.0;\"/><path d=\"M174.4731,187.1431 Q173.8921,187.4419 173.2529,187.5913 Q172.6138,187.7407 171.9082,187.7407 Q169.4014,187.7407 168.0815,186.0889 Q166.7617,184.437 166.7617,181.3159 Q166.7617,178.1865 168.0815,176.5347 Q169.4014,174.8828 171.9082,174.8828 Q172.6138,174.8828 173.2612,175.0322 Q173.9087,175.1816 174.4731,175.4805 L174.4731,178.2031 Q173.8423,177.6221 173.2488,177.3523 Q172.6553,177.0825 172.0244,177.0825 Q170.6797,177.0825 169.9949,178.1492 Q169.3101,179.2158 169.3101,181.3159 Q169.3101,183.4077 169.9949,184.4744 Q170.6797,185.541 172.0244,185.541 Q172.6553,185.541 173.2488,185.2712 Q173.8423,185.0015 174.4731,184.4204 Z \"/><text fill=\"#000000\" font-family=\"sans-serif\" font-size=\"12\" lengthAdjust=\"spacingAndGlyphs\" textLength=\"110\" x=\"185.5\" y=\"186.0352\">ConcreteCommand</text><line style=\"stroke: #A80036; stroke-width: 1.5;\" x1=\"157.5\" x2=\"297.5\" y1=\"197.5\" y2=\"197.5\"/><line style=\"stroke: #A80036; stroke-width: 1.5;\" x1=\"157.5\" x2=\"297.5\" y1=\"205.5\" y2=\"205.5\"/><path d=\"M78.6119,59.275 C85.3066,61.65 92.41,63.747 99.25,65 C139.907,72.449 151.36,71.038 192.25,65 C197.331,64.25 202.563,63.192 207.753,61.951 \" fill=\"none\" style=\"stroke: #A80036; stroke-width: 1.0;\"/><polygon fill=\"#A80036\" points=\"212.922,60.654,203.2189,58.9657,208.0725,61.8714,205.1667,66.7249,212.922,60.654\" style=\"stroke: #A80036; stroke-width: 1.0;\"/><text fill=\"#000000\" font-family=\"sans-serif\" font-size=\"13\" lengthAdjust=\"spacingAndGlyphs\" textLength=\"91\" x=\"100.25\" y=\"61.5684\">setCommand()</text><path d=\"M78.6982,45 C112.953,45 167.62,45 207.692,45 \" fill=\"none\" style=\"stroke: #A80036; stroke-width: 1.0;\"/><polygon fill=\"#A80036\" points=\"212.998,45,203.998,41,207.998,45,203.998,49,212.998,45\" style=\"stroke: #A80036; stroke-width: 1.0;\"/><text fill=\"#000000\" font-family=\"sans-serif\" font-size=\"13\" lengthAdjust=\"spacingAndGlyphs\" textLength=\"98\" x=\"96.75\" y=\"38.5684\">buttonPressed()</text><path d=\"M46.5,69.212 C46.5,92.132 46.5,127.467 46.5,153.7375 \" fill=\"none\" style=\"stroke: #A80036; stroke-width: 1.0;\"/><polygon fill=\"#A80036\" points=\"46.5,158.8644,50.5,149.8644,46.5,153.8644,42.5,149.8644,46.5,158.8644\" style=\"stroke: #A80036; stroke-width: 1.0;\"/><text fill=\"#000000\" font-family=\"sans-serif\" font-size=\"13\" lengthAdjust=\"spacingAndGlyphs\" textLength=\"48\" x=\"47.5\" y=\"125.5684\">r=new()</text><path d=\"M75.9836,69.212 C108.327,94.676 160.132,135.4618 193.991,162.1189 \" fill=\"none\" style=\"stroke: #A80036; stroke-width: 1.0;\"/><polygon fill=\"#A80036\" points=\"198.029,165.2977,193.4318,156.5876,194.1004,162.2048,188.4832,162.8734,198.029,165.2977\" style=\"stroke: #A80036; stroke-width: 1.0;\"/><text fill=\"#000000\" font-family=\"sans-serif\" font-size=\"13\" lengthAdjust=\"spacingAndGlyphs\" textLength=\"38\" x=\"149.5\" y=\"125.5684\">new(r)</text><path d=\"M304.096,45 C325.658,45 347.221,45 368.783,45 \" fill=\"none\" style=\"stroke: #A80036; stroke-width: 1.0;\"/><polygon fill=\"#A80036\" points=\"373.969,45,364.969,41,368.969,45,364.969,49,373.969,45\" style=\"stroke: #A80036; stroke-width: 1.0;\"/><path d=\"M92.2811,189.5 C113.598,189.5 134.914,189.5 156.231,189.5 \" fill=\"none\" style=\"stroke: #A80036; stroke-width: 1.0;\"/><polygon fill=\"#A80036\" points=\"87.1543,189.5,96.1543,193.5,92.1543,189.5,96.1543,185.5,87.1543,189.5\" style=\"stroke: #A80036; stroke-width: 1.0;\"/><path d=\"M357.844,91.76 C324.73,116.337 285.337,145.574 258.59,165.4255 \" fill=\"none\" style=\"stroke: #A80036; stroke-width: 1.0; stroke-dasharray: 7.0,7.0;\"/><polygon fill=\"none\" points=\"353.767,86.069,373.999,79.771,362.11,97.311,353.767,86.069\" style=\"stroke: #A80036; stroke-width: 1.0;\"/></g></svg>"
      ],
      "text/plain": [
       "<IPython.core.display.SVG object>"
      ]
     },
     "execution_count": 40,
     "metadata": {},
     "output_type": "execute_result"
    }
   ],
   "source": [
    "%%plantuml\n",
    "@startuml\n",
    "class Client\n",
    "class Invoker {\n",
    "    setCommand()\n",
    "}\n",
    "Interface Command {\n",
    "    execute()\n",
    "    undo()\n",
    "}\n",
    "class Receiver {\n",
    "    action()\n",
    "}\n",
    "\n",
    "Client --> Invoker:setCommand()\n",
    "Client -right-> Invoker:buttonPressed()\n",
    "Client -down-> Receiver:r=new()\n",
    "Client --> ConcreteCommand:new(r)\n",
    "Invoker -right-> Command\n",
    "ConcreteCommand -left-> Receiver\n",
    "Command <|.. ConcreteCommand\n",
    "@enduml"
   ]
  },
  {
   "cell_type": "code",
   "execution_count": 42,
   "metadata": {
    "collapsed": true
   },
   "outputs": [],
   "source": [
    "%load_ext gvmagic"
   ]
  },
  {
   "cell_type": "code",
   "execution_count": 83,
   "metadata": {
    "collapsed": false
   },
   "outputs": [
    {
     "data": {
      "image/svg+xml": [
       "<?xml version=\"1.0\" encoding=\"UTF-8\" standalone=\"no\"?>\n",
       "<!DOCTYPE svg PUBLIC \"-//W3C//DTD SVG 1.1//EN\"\n",
       " \"http://www.w3.org/Graphics/SVG/1.1/DTD/svg11.dtd\">\n",
       "<!-- Generated by graphviz version 2.38.0 (20140413.2041)\n",
       " -->\n",
       "<!-- Title: G Pages: 1 -->\n",
       "<svg width=\"477pt\" height=\"266pt\"\n",
       " viewBox=\"0.00 0.00 476.89 265.74\" xmlns=\"http://www.w3.org/2000/svg\" xmlns:xlink=\"http://www.w3.org/1999/xlink\">\n",
       "<g id=\"graph0\" class=\"graph\" transform=\"scale(1 1) rotate(0) translate(4 261.74)\">\n",
       "<title>G</title>\n",
       "<polygon fill=\"white\" stroke=\"none\" points=\"-4,4 -4,-261.74 472.894,-261.74 472.894,4 -4,4\"/>\n",
       "<!-- Client -->\n",
       "<g id=\"node1\" class=\"node\"><title>Client</title>\n",
       "<ellipse fill=\"none\" stroke=\"black\" cx=\"343.669\" cy=\"-239.74\" rx=\"33.2948\" ry=\"18\"/>\n",
       "<text text-anchor=\"middle\" x=\"343.669\" y=\"-236.04\" font-family=\"Times,serif\" font-size=\"14.00\">Client</text>\n",
       "</g>\n",
       "<!-- Command -->\n",
       "<g id=\"node2\" class=\"node\"><title>Command</title>\n",
       "<ellipse fill=\"none\" stroke=\"black\" cx=\"203.669\" cy=\"-137.74\" rx=\"48.9926\" ry=\"18\"/>\n",
       "<text text-anchor=\"middle\" x=\"203.669\" y=\"-134.04\" font-family=\"Times,serif\" font-size=\"14.00\">Command</text>\n",
       "</g>\n",
       "<!-- Client&#45;&gt;Command -->\n",
       "<g id=\"edge1\" class=\"edge\"><title>Client&#45;&gt;Command</title>\n",
       "<path fill=\"none\" stroke=\"black\" d=\"M318.074,-228.074C304.373,-221.848 287.517,-213.337 273.669,-203.74 256.349,-191.737 238.978,-175.637 225.873,-162.463\"/>\n",
       "<polygon fill=\"black\" stroke=\"black\" points=\"228.172,-159.808 218.682,-155.098 223.164,-164.698 228.172,-159.808\"/>\n",
       "<text text-anchor=\"middle\" x=\"360.169\" y=\"-192.54\" font-family=\"Times,serif\" font-size=\"14.00\">(1) Command객체 생성</text>\n",
       "<text text-anchor=\"middle\" x=\"360.169\" y=\"-177.54\" font-family=\"Times,serif\" font-size=\"14.00\">new LightOnCommand(Light)</text>\n",
       "</g>\n",
       "<!-- Invoker\\n&#39;RemoteControl&#39; -->\n",
       "<g id=\"node3\" class=\"node\"><title>Invoker\\n&#39;RemoteControl&#39;</title>\n",
       "<ellipse fill=\"none\" stroke=\"black\" cx=\"256.669\" cy=\"-26.8701\" rx=\"76.2353\" ry=\"26.7407\"/>\n",
       "<text text-anchor=\"middle\" x=\"256.669\" y=\"-30.6701\" font-family=\"Times,serif\" font-size=\"14.00\">Invoker</text>\n",
       "<text text-anchor=\"middle\" x=\"256.669\" y=\"-15.6701\" font-family=\"Times,serif\" font-size=\"14.00\">&#39;RemoteControl&#39;</text>\n",
       "</g>\n",
       "<!-- Client&#45;&gt;Invoker\\n&#39;RemoteControl&#39; -->\n",
       "<g id=\"edge5\" class=\"edge\"><title>Client&#45;&gt;Invoker\\n&#39;RemoteControl&#39;</title>\n",
       "<path fill=\"none\" stroke=\"black\" d=\"M376.965,-237.135C400.646,-234.043 430.941,-225.695 446.669,-203.74 464.194,-179.276 489.148,-130.244 439.669,-71.7401 426.241,-55.8628 380.92,-44.9283 338.743,-37.9468\"/>\n",
       "<polygon fill=\"black\" stroke=\"black\" points=\"339.104,-34.4602 328.678,-36.3434 338.002,-41.3731 339.104,-34.4602\"/>\n",
       "</g>\n",
       "<!-- Command&#45;&gt;Invoker\\n&#39;RemoteControl&#39; -->\n",
       "<g id=\"edge2\" class=\"edge\"><title>Command&#45;&gt;Invoker\\n&#39;RemoteControl&#39;</title>\n",
       "<path fill=\"none\" stroke=\"black\" d=\"M220.425,-120.797C225.579,-115.176 230.884,-108.552 234.669,-101.74 241.182,-90.0185 245.967,-76.1544 249.379,-63.6213\"/>\n",
       "<polygon fill=\"black\" stroke=\"black\" points=\"252.773,-64.4743 251.828,-53.9218 245.986,-62.7608 252.773,-64.4743\"/>\n",
       "<text text-anchor=\"middle\" x=\"341.169\" y=\"-90.5401\" font-family=\"Times,serif\" font-size=\"14.00\">(2) Command에 연결</text>\n",
       "<text text-anchor=\"middle\" x=\"341.169\" y=\"-75.5401\" font-family=\"Times,serif\" font-size=\"14.00\">setCommand(LightOnCommand)</text>\n",
       "</g>\n",
       "<!-- Receiver\\n&#39;Light&#39; -->\n",
       "<g id=\"node4\" class=\"node\"><title>Receiver\\n&#39;Light&#39;</title>\n",
       "<ellipse fill=\"none\" stroke=\"black\" cx=\"46.669\" cy=\"-26.8701\" rx=\"46.8387\" ry=\"26.7407\"/>\n",
       "<text text-anchor=\"middle\" x=\"46.669\" y=\"-30.6701\" font-family=\"Times,serif\" font-size=\"14.00\">Receiver</text>\n",
       "<text text-anchor=\"middle\" x=\"46.669\" y=\"-15.6701\" font-family=\"Times,serif\" font-size=\"14.00\">&#39;Light&#39;</text>\n",
       "</g>\n",
       "<!-- Command&#45;&gt;Receiver\\n&#39;Light&#39; -->\n",
       "<g id=\"edge4\" class=\"edge\"><title>Command&#45;&gt;Receiver\\n&#39;Light&#39;</title>\n",
       "<path fill=\"none\" stroke=\"black\" d=\"M157.945,-131.251C120.658,-125.807 72.0485,-116.174 58.669,-101.74 49.3997,-91.7401 45.7135,-77.5248 44.5907,-64.2309\"/>\n",
       "<polygon fill=\"black\" stroke=\"black\" points=\"48.0734,-63.7194 44.1821,-53.8651 41.0788,-63.9952 48.0734,-63.7194\"/>\n",
       "<text text-anchor=\"middle\" x=\"114.169\" y=\"-90.5401\" font-family=\"Times,serif\" font-size=\"14.00\">(4) 실제 객체 실행</text>\n",
       "<text text-anchor=\"middle\" x=\"114.169\" y=\"-75.5401\" font-family=\"Times,serif\" font-size=\"14.00\">Light.on()</text>\n",
       "</g>\n",
       "<!-- Invoker\\n&#39;RemoteControl&#39;&#45;&gt;Command -->\n",
       "<g id=\"edge3\" class=\"edge\"><title>Invoker\\n&#39;RemoteControl&#39;&#45;&gt;Command</title>\n",
       "<path fill=\"none\" stroke=\"black\" d=\"M204.204,-46.7083C193.634,-53.002 183.876,-61.1942 177.669,-71.7401 170.906,-83.2311 173.482,-89.0814 177.669,-101.74 178.856,-105.329 180.569,-108.849 182.559,-112.192\"/>\n",
       "<polygon fill=\"black\" stroke=\"black\" points=\"179.75,-114.284 188.296,-120.547 185.521,-110.322 179.75,-114.284\"/>\n",
       "<text text-anchor=\"middle\" x=\"204.169\" y=\"-90.5401\" font-family=\"Times,serif\" font-size=\"14.00\">(3) 실행</text>\n",
       "<text text-anchor=\"middle\" x=\"204.169\" y=\"-75.5401\" font-family=\"Times,serif\" font-size=\"14.00\">execute()</text>\n",
       "</g>\n",
       "</g>\n",
       "</svg>\n"
      ]
     },
     "metadata": {},
     "output_type": "display_data"
    }
   ],
   "source": [
    "%%dot digraph G {\n",
    "    rankdir=TB;\n",
    "    Client -> Command[label=\"(1) Command객체 생성\\nnew LightOnCommand(Light)\"];\n",
    "    Command -> \"Invoker\\n'RemoteControl'\"[label=\"(2) Command에 연결\\nsetCommand(LightOnCommand)\"];\n",
    "    \"Invoker\\n'RemoteControl'\" -> Command[label=\"(3) 실행\\nexecute()\"];\n",
    "    Command -> \"Receiver\\n'Light'\"[label=\"(4) 실제 객체 실행\\nLight.on()\"];\n",
    "    Client -> \"Invoker\\n'RemoteControl'\";\n",
    "}"
   ]
  },
  {
   "cell_type": "markdown",
   "metadata": {
    "slideshow": {
     "slide_type": "slide"
    }
   },
   "source": [
    "# 5. after\n",
    "\n",
    "* 교재 HFDP Ch6 'Remote Controller'"
   ]
  },
  {
   "cell_type": "code",
   "execution_count": 13,
   "metadata": {
    "collapsed": false
   },
   "outputs": [
    {
     "data": {
      "image/svg+xml": [
       "<svg height=\"280px\" style=\"width:794px;height:280px;\" version=\"1.1\" viewBox=\"0 0 794 280\" width=\"794px\" xmlns=\"http://www.w3.org/2000/svg\" xmlns:xlink=\"http://www.w3.org/1999/xlink\"><defs><filter height=\"300%\" id=\"f1\" width=\"300%\" x=\"-1\" y=\"-1\"><feGaussianBlur result=\"blurOut\" stdDeviation=\"2.0\"/><feColorMatrix in=\"blurOut\" result=\"blurOut2\" type=\"matrix\" values=\"0 0 0 0 0 0 0 0 0 0 0 0 0 0 0 0 0 0 .4 0\"/><feOffset dx=\"4.0\" dy=\"4.0\" in=\"blurOut2\" result=\"blurOut3\"/><feBlend in=\"SourceGraphic\" in2=\"blurOut3\" mode=\"normal\"/></filter></defs><g><rect fill=\"#FEFECE\" filter=\"url(#f1)\" height=\"73.9102\" style=\"stroke: #A80036; stroke-width: 1.5;\" width=\"91\" x=\"445\" y=\"14.5\"/><ellipse cx=\"460\" cy=\"30.5\" fill=\"#ADD1B2\" rx=\"11\" ry=\"11\" style=\"stroke: #A80036; stroke-width: 1.0;\"/><path d=\"M462.9731,36.1431 Q462.3921,36.4419 461.7529,36.5913 Q461.1138,36.7407 460.4082,36.7407 Q457.9014,36.7407 456.5815,35.0889 Q455.2617,33.437 455.2617,30.3159 Q455.2617,27.1865 456.5815,25.5347 Q457.9014,23.8828 460.4082,23.8828 Q461.1138,23.8828 461.7612,24.0322 Q462.4087,24.1816 462.9731,24.4805 L462.9731,27.2031 Q462.3423,26.6221 461.7488,26.3523 Q461.1553,26.0825 460.5244,26.0825 Q459.1797,26.0825 458.4949,27.1492 Q457.8101,28.2158 457.8101,30.3159 Q457.8101,32.4077 458.4949,33.4744 Q459.1797,34.541 460.5244,34.541 Q461.1553,34.541 461.7488,34.2712 Q462.3423,34.0015 462.9731,33.4204 Z \"/><text fill=\"#000000\" font-family=\"sans-serif\" font-size=\"12\" lengthAdjust=\"spacingAndGlyphs\" textLength=\"59\" x=\"474\" y=\"35.0352\">Command</text><line style=\"stroke: #A80036; stroke-width: 1.5;\" x1=\"446\" x2=\"535\" y1=\"46.5\" y2=\"46.5\"/><line style=\"stroke: #A80036; stroke-width: 1.5;\" x1=\"446\" x2=\"535\" y1=\"54.5\" y2=\"54.5\"/><ellipse cx=\"456\" cy=\"66.4775\" fill=\"#84BE84\" rx=\"3\" ry=\"3\" style=\"stroke: #038048; stroke-width: 1.0;\"/><text fill=\"#000000\" font-family=\"sans-serif\" font-size=\"11\" lengthAdjust=\"spacingAndGlyphs\" textLength=\"50\" x=\"465\" y=\"69.1348\">execute()</text><ellipse cx=\"456\" cy=\"79.4326\" fill=\"#84BE84\" rx=\"3\" ry=\"3\" style=\"stroke: #038048; stroke-width: 1.0;\"/><text fill=\"#000000\" font-family=\"sans-serif\" font-size=\"11\" lengthAdjust=\"spacingAndGlyphs\" textLength=\"36\" x=\"465\" y=\"82.0898\">undo()</text><rect fill=\"#FEFECE\" filter=\"url(#f1)\" height=\"86.8652\" style=\"stroke: #A80036; stroke-width: 1.5;\" width=\"185\" x=\"151\" y=\"178.5\"/><ellipse cx=\"188.95\" cy=\"194.5\" fill=\"#ADD1B2\" rx=\"11\" ry=\"11\" style=\"stroke: #A80036; stroke-width: 1.0;\"/><path d=\"M191.9231,200.1431 Q191.3421,200.4419 190.7029,200.5913 Q190.0638,200.7407 189.3582,200.7407 Q186.8514,200.7407 185.5315,199.0889 Q184.2117,197.437 184.2117,194.3159 Q184.2117,191.1865 185.5315,189.5347 Q186.8514,187.8828 189.3582,187.8828 Q190.0638,187.8828 190.7112,188.0322 Q191.3587,188.1816 191.9231,188.4805 L191.9231,191.2031 Q191.2923,190.6221 190.6988,190.3523 Q190.1053,190.0825 189.4744,190.0825 Q188.1297,190.0825 187.4449,191.1492 Q186.7601,192.2158 186.7601,194.3159 Q186.7601,196.4077 187.4449,197.4744 Q188.1297,198.541 189.4744,198.541 Q190.1053,198.541 190.6988,198.2712 Q191.2923,198.0015 191.9231,197.4204 Z \"/><text fill=\"#000000\" font-family=\"sans-serif\" font-size=\"12\" lengthAdjust=\"spacingAndGlyphs\" textLength=\"102\" x=\"208.05\" y=\"199.0352\">LightOnCommand</text><line style=\"stroke: #A80036; stroke-width: 1.5;\" x1=\"152\" x2=\"335\" y1=\"210.5\" y2=\"210.5\"/><rect fill=\"none\" height=\"6\" style=\"stroke: #C82930; stroke-width: 1.0;\" width=\"6\" x=\"159\" y=\"219.4775\"/><text fill=\"#000000\" font-family=\"sans-serif\" font-size=\"11\" lengthAdjust=\"spacingAndGlyphs\" textLength=\"54\" x=\"171\" y=\"225.1348\">light:Light</text><line style=\"stroke: #A80036; stroke-width: 1.5;\" x1=\"152\" x2=\"335\" y1=\"231.4551\" y2=\"231.4551\"/><ellipse cx=\"162\" cy=\"243.4326\" fill=\"#84BE84\" rx=\"3\" ry=\"3\" style=\"stroke: #038048; stroke-width: 1.0;\"/><text fill=\"#000000\" font-family=\"sans-serif\" font-size=\"11\" lengthAdjust=\"spacingAndGlyphs\" textLength=\"159\" x=\"171\" y=\"246.0898\">LightOnCommand(Light):void</text><ellipse cx=\"162\" cy=\"256.3877\" fill=\"#84BE84\" rx=\"3\" ry=\"3\" style=\"stroke: #038048; stroke-width: 1.0;\"/><text fill=\"#000000\" font-family=\"sans-serif\" font-size=\"11\" lengthAdjust=\"spacingAndGlyphs\" textLength=\"50\" x=\"171\" y=\"259.0449\">execute()</text><rect fill=\"#FEFECE\" filter=\"url(#f1)\" height=\"86.8652\" style=\"stroke: #A80036; stroke-width: 1.5;\" width=\"242\" x=\"371.5\" y=\"178.5\"/><ellipse cx=\"409\" cy=\"194.5\" fill=\"#ADD1B2\" rx=\"11\" ry=\"11\" style=\"stroke: #A80036; stroke-width: 1.0;\"/><path d=\"M411.9731,200.1431 Q411.3921,200.4419 410.7529,200.5913 Q410.1138,200.7407 409.4082,200.7407 Q406.9014,200.7407 405.5815,199.0889 Q404.2617,197.437 404.2617,194.3159 Q404.2617,191.1865 405.5815,189.5347 Q406.9014,187.8828 409.4082,187.8828 Q410.1138,187.8828 410.7612,188.0322 Q411.4087,188.1816 411.9731,188.4805 L411.9731,191.2031 Q411.3423,190.6221 410.7488,190.3523 Q410.1553,190.0825 409.5244,190.0825 Q408.1797,190.0825 407.4949,191.1492 Q406.8101,192.2158 406.8101,194.3159 Q406.8101,196.4077 407.4949,197.4744 Q408.1797,198.541 409.5244,198.541 Q410.1553,198.541 410.7488,198.2712 Q411.3423,198.0015 411.9731,197.4204 Z \"/><text fill=\"#000000\" font-family=\"sans-serif\" font-size=\"12\" lengthAdjust=\"spacingAndGlyphs\" textLength=\"160\" x=\"428\" y=\"199.0352\">GarageDoorOpenCommand</text><line style=\"stroke: #A80036; stroke-width: 1.5;\" x1=\"372.5\" x2=\"612.5\" y1=\"210.5\" y2=\"210.5\"/><rect fill=\"none\" height=\"6\" style=\"stroke: #C82930; stroke-width: 1.0;\" width=\"6\" x=\"379.5\" y=\"219.4775\"/><text fill=\"#000000\" font-family=\"sans-serif\" font-size=\"11\" lengthAdjust=\"spacingAndGlyphs\" textLength=\"82\" x=\"391.5\" y=\"225.1348\">gd:GarageDoor</text><line style=\"stroke: #A80036; stroke-width: 1.5;\" x1=\"372.5\" x2=\"612.5\" y1=\"231.4551\" y2=\"231.4551\"/><ellipse cx=\"382.5\" cy=\"243.4326\" fill=\"#84BE84\" rx=\"3\" ry=\"3\" style=\"stroke: #038048; stroke-width: 1.0;\"/><text fill=\"#000000\" font-family=\"sans-serif\" font-size=\"11\" lengthAdjust=\"spacingAndGlyphs\" textLength=\"216\" x=\"391.5\" y=\"246.0898\">GargeDoorOpenCommand(GarageDoor)</text><ellipse cx=\"382.5\" cy=\"256.3877\" fill=\"#84BE84\" rx=\"3\" ry=\"3\" style=\"stroke: #038048; stroke-width: 1.0;\"/><text fill=\"#000000\" font-family=\"sans-serif\" font-size=\"11\" lengthAdjust=\"spacingAndGlyphs\" textLength=\"76\" x=\"391.5\" y=\"259.0449\">execute():void</text><rect fill=\"#FEFECE\" filter=\"url(#f1)\" height=\"73.9102\" style=\"stroke: #A80036; stroke-width: 1.5;\" width=\"75\" x=\"6\" y=\"185\"/><ellipse cx=\"28.2\" cy=\"201\" fill=\"#ADD1B2\" rx=\"11\" ry=\"11\" style=\"stroke: #A80036; stroke-width: 1.0;\"/><path d=\"M31.1731,206.6431 Q30.5921,206.9419 29.9529,207.0913 Q29.3138,207.2407 28.6082,207.2407 Q26.1014,207.2407 24.7815,205.5889 Q23.4617,203.937 23.4617,200.8159 Q23.4617,197.6865 24.7815,196.0347 Q26.1014,194.3828 28.6082,194.3828 Q29.3138,194.3828 29.9612,194.5322 Q30.6087,194.6816 31.1731,194.9805 L31.1731,197.7031 Q30.5423,197.1221 29.9488,196.8523 Q29.3553,196.5825 28.7244,196.5825 Q27.3797,196.5825 26.6949,197.6492 Q26.0101,198.7158 26.0101,200.8159 Q26.0101,202.9077 26.6949,203.9744 Q27.3797,205.041 28.7244,205.041 Q29.3553,205.041 29.9488,204.7712 Q30.5423,204.5015 31.1731,203.9204 Z \"/><text fill=\"#000000\" font-family=\"sans-serif\" font-size=\"12\" lengthAdjust=\"spacingAndGlyphs\" textLength=\"27\" x=\"43.8\" y=\"205.5352\">Light</text><line style=\"stroke: #A80036; stroke-width: 1.5;\" x1=\"7\" x2=\"80\" y1=\"217\" y2=\"217\"/><line style=\"stroke: #A80036; stroke-width: 1.5;\" x1=\"7\" x2=\"80\" y1=\"225\" y2=\"225\"/><ellipse cx=\"17\" cy=\"236.9775\" fill=\"#84BE84\" rx=\"3\" ry=\"3\" style=\"stroke: #038048; stroke-width: 1.0;\"/><text fill=\"#000000\" font-family=\"sans-serif\" font-size=\"11\" lengthAdjust=\"spacingAndGlyphs\" textLength=\"48\" x=\"26\" y=\"239.6348\">on():void</text><ellipse cx=\"17\" cy=\"249.9326\" fill=\"#84BE84\" rx=\"3\" ry=\"3\" style=\"stroke: #038048; stroke-width: 1.0;\"/><text fill=\"#000000\" font-family=\"sans-serif\" font-size=\"11\" lengthAdjust=\"spacingAndGlyphs\" textLength=\"49\" x=\"26\" y=\"252.5898\">off():void</text><rect fill=\"#FEFECE\" filter=\"url(#f1)\" height=\"99.8203\" style=\"stroke: #A80036; stroke-width: 1.5;\" width=\"102\" x=\"683.5\" y=\"172\"/><ellipse cx=\"698.5\" cy=\"188\" fill=\"#ADD1B2\" rx=\"11\" ry=\"11\" style=\"stroke: #A80036; stroke-width: 1.0;\"/><path d=\"M701.4731,193.6431 Q700.8921,193.9419 700.2529,194.0913 Q699.6138,194.2407 698.9082,194.2407 Q696.4014,194.2407 695.0815,192.5889 Q693.7617,190.937 693.7617,187.8159 Q693.7617,184.6865 695.0815,183.0347 Q696.4014,181.3828 698.9082,181.3828 Q699.6138,181.3828 700.2612,181.5322 Q700.9087,181.6816 701.4731,181.9805 L701.4731,184.7031 Q700.8423,184.1221 700.2488,183.8523 Q699.6553,183.5825 699.0244,183.5825 Q697.6797,183.5825 696.9949,184.6492 Q696.3101,185.7158 696.3101,187.8159 Q696.3101,189.9077 696.9949,190.9744 Q697.6797,192.041 699.0244,192.041 Q699.6553,192.041 700.2488,191.7712 Q700.8423,191.5015 701.4731,190.9204 Z \"/><text fill=\"#000000\" font-family=\"sans-serif\" font-size=\"12\" lengthAdjust=\"spacingAndGlyphs\" textLength=\"70\" x=\"712.5\" y=\"192.5352\">GarageDoor</text><line style=\"stroke: #A80036; stroke-width: 1.5;\" x1=\"684.5\" x2=\"784.5\" y1=\"204\" y2=\"204\"/><line style=\"stroke: #A80036; stroke-width: 1.5;\" x1=\"684.5\" x2=\"784.5\" y1=\"212\" y2=\"212\"/><ellipse cx=\"694.5\" cy=\"223.9775\" fill=\"#84BE84\" rx=\"3\" ry=\"3\" style=\"stroke: #038048; stroke-width: 1.0;\"/><text fill=\"#000000\" font-family=\"sans-serif\" font-size=\"11\" lengthAdjust=\"spacingAndGlyphs\" textLength=\"48\" x=\"703.5\" y=\"226.6348\">on():void</text><ellipse cx=\"694.5\" cy=\"236.9326\" fill=\"#84BE84\" rx=\"3\" ry=\"3\" style=\"stroke: #038048; stroke-width: 1.0;\"/><text fill=\"#000000\" font-family=\"sans-serif\" font-size=\"11\" lengthAdjust=\"spacingAndGlyphs\" textLength=\"63\" x=\"703.5\" y=\"239.5898\">down():void</text><ellipse cx=\"694.5\" cy=\"249.8877\" fill=\"#84BE84\" rx=\"3\" ry=\"3\" style=\"stroke: #038048; stroke-width: 1.0;\"/><text fill=\"#000000\" font-family=\"sans-serif\" font-size=\"11\" lengthAdjust=\"spacingAndGlyphs\" textLength=\"74\" x=\"703.5\" y=\"252.5449\">lightOn():void</text><ellipse cx=\"694.5\" cy=\"262.8428\" fill=\"#84BE84\" rx=\"3\" ry=\"3\" style=\"stroke: #038048; stroke-width: 1.0;\"/><text fill=\"#000000\" font-family=\"sans-serif\" font-size=\"11\" lengthAdjust=\"spacingAndGlyphs\" textLength=\"75\" x=\"703.5\" y=\"265.5\">lightOff():void</text><rect fill=\"#FEFECE\" filter=\"url(#f1)\" height=\"86.8652\" style=\"stroke: #A80036; stroke-width: 1.5;\" width=\"160\" x=\"215.5\" y=\"8\"/><ellipse cx=\"232.75\" cy=\"24\" fill=\"#ADD1B2\" rx=\"11\" ry=\"11\" style=\"stroke: #A80036; stroke-width: 1.0;\"/><path d=\"M235.7231,29.6431 Q235.1421,29.9419 234.5029,30.0913 Q233.8638,30.2407 233.1582,30.2407 Q230.6514,30.2407 229.3315,28.5889 Q228.0117,26.937 228.0117,23.8159 Q228.0117,20.6865 229.3315,19.0347 Q230.6514,17.3828 233.1582,17.3828 Q233.8638,17.3828 234.5112,17.5322 Q235.1587,17.6816 235.7231,17.9805 L235.7231,20.7031 Q235.0923,20.1221 234.4988,19.8523 Q233.9053,19.5825 233.2744,19.5825 Q231.9297,19.5825 231.2449,20.6492 Q230.5601,21.7158 230.5601,23.8159 Q230.5601,25.9077 231.2449,26.9744 Q231.9297,28.041 233.2744,28.041 Q233.9053,28.041 234.4988,27.7712 Q235.0923,27.5015 235.7231,26.9204 Z \"/><text fill=\"#000000\" font-family=\"sans-serif\" font-size=\"12\" lengthAdjust=\"spacingAndGlyphs\" textLength=\"123\" x=\"247.25\" y=\"28.5352\">SimpleRemoteControl</text><line style=\"stroke: #A80036; stroke-width: 1.5;\" x1=\"216.5\" x2=\"374.5\" y1=\"40\" y2=\"40\"/><rect fill=\"none\" height=\"6\" style=\"stroke: #C82930; stroke-width: 1.0;\" width=\"6\" x=\"223.5\" y=\"48.9775\"/><text fill=\"#000000\" font-family=\"sans-serif\" font-size=\"11\" lengthAdjust=\"spacingAndGlyphs\" textLength=\"78\" x=\"235.5\" y=\"54.6348\">slot:Command</text><line style=\"stroke: #A80036; stroke-width: 1.5;\" x1=\"216.5\" x2=\"374.5\" y1=\"60.9551\" y2=\"60.9551\"/><ellipse cx=\"226.5\" cy=\"72.9326\" fill=\"#84BE84\" rx=\"3\" ry=\"3\" style=\"stroke: #038048; stroke-width: 1.0;\"/><text fill=\"#000000\" font-family=\"sans-serif\" font-size=\"11\" lengthAdjust=\"spacingAndGlyphs\" textLength=\"134\" x=\"235.5\" y=\"75.5898\">setCommand(Command)</text><ellipse cx=\"226.5\" cy=\"85.8877\" fill=\"#84BE84\" rx=\"3\" ry=\"3\" style=\"stroke: #038048; stroke-width: 1.0;\"/><text fill=\"#000000\" font-family=\"sans-serif\" font-size=\"11\" lengthAdjust=\"spacingAndGlyphs\" textLength=\"107\" x=\"235.5\" y=\"88.5449\">buttonWasPressed()</text><rect fill=\"#FEFECE\" filter=\"url(#f1)\" height=\"48\" style=\"stroke: #A80036; stroke-width: 1.5;\" width=\"64\" x=\"16.5\" y=\"27.5\"/><ellipse cx=\"31.5\" cy=\"43.5\" fill=\"#ADD1B2\" rx=\"11\" ry=\"11\" style=\"stroke: #A80036; stroke-width: 1.0;\"/><path d=\"M34.4731,49.1431 Q33.8921,49.4419 33.2529,49.5913 Q32.6138,49.7407 31.9082,49.7407 Q29.4014,49.7407 28.0815,48.0889 Q26.7617,46.437 26.7617,43.3159 Q26.7617,40.1865 28.0815,38.5347 Q29.4014,36.8828 31.9082,36.8828 Q32.6138,36.8828 33.2612,37.0322 Q33.9087,37.1816 34.4731,37.4805 L34.4731,40.2031 Q33.8423,39.6221 33.2488,39.3523 Q32.6553,39.0825 32.0244,39.0825 Q30.6797,39.0825 29.9949,40.1492 Q29.3101,41.2158 29.3101,43.3159 Q29.3101,45.4077 29.9949,46.4744 Q30.6797,47.541 32.0244,47.541 Q32.6553,47.541 33.2488,47.2712 Q33.8423,47.0015 34.4731,46.4204 Z \"/><text fill=\"#000000\" font-family=\"sans-serif\" font-size=\"12\" lengthAdjust=\"spacingAndGlyphs\" textLength=\"32\" x=\"45.5\" y=\"48.0352\">Client</text><line style=\"stroke: #A80036; stroke-width: 1.5;\" x1=\"17.5\" x2=\"79.5\" y1=\"59.5\" y2=\"59.5\"/><line style=\"stroke: #A80036; stroke-width: 1.5;\" x1=\"17.5\" x2=\"79.5\" y1=\"67.5\" y2=\"67.5\"/><path d=\"M80.769,65.775 C87.4949,68.151 94.6307,70.247 101.5,71.5 C136.899,77.957 176.34,75.606 210.367,70.648 \" fill=\"none\" style=\"stroke: #A80036; stroke-width: 1.0;\"/><polygon fill=\"#A80036\" points=\"215.347,69.898,205.8511,67.285,210.4029,70.6437,207.0442,75.1955,215.347,69.898\" style=\"stroke: #A80036; stroke-width: 1.0;\"/><text fill=\"#000000\" font-family=\"sans-serif\" font-size=\"13\" lengthAdjust=\"spacingAndGlyphs\" textLength=\"91\" x=\"102.5\" y=\"68.0684\">setCommand()</text><path d=\"M80.5377,51.5 C113.279,51.5 165.533,51.5 210.323,51.5 \" fill=\"none\" style=\"stroke: #A80036; stroke-width: 1.0;\"/><polygon fill=\"#A80036\" points=\"215.466,51.5,206.466,47.5,210.466,51.5,206.466,55.5,215.466,51.5\" style=\"stroke: #A80036; stroke-width: 1.0;\"/><text fill=\"#000000\" font-family=\"sans-serif\" font-size=\"13\" lengthAdjust=\"spacingAndGlyphs\" textLength=\"98\" x=\"99\" y=\"45.0684\">buttonPressed()</text><path d=\"M47.8153,75.576 C47.0206,102.355 45.6951,147.024 44.7225,179.8025 \" fill=\"none\" style=\"stroke: #A80036; stroke-width: 1.0;\"/><polygon fill=\"#A80036\" points=\"44.5695,184.9567,48.8349,176.0794,44.7179,179.9589,40.8384,175.8419,44.5695,184.9567\" style=\"stroke: #A80036; stroke-width: 1.0;\"/><text fill=\"#000000\" font-family=\"sans-serif\" font-size=\"13\" lengthAdjust=\"spacingAndGlyphs\" textLength=\"72\" x=\"47.5\" y=\"138.5684\">light=new()</text><path d=\"M75.205,75.576 C104.6928,101.056 152.925,142.734 190.212,174.9538 \" fill=\"none\" style=\"stroke: #A80036; stroke-width: 1.0;\"/><polygon fill=\"#A80036\" points=\"194.243,178.437,190.0477,169.5264,190.4595,175.1682,184.8176,175.58,194.243,178.437\" style=\"stroke: #A80036; stroke-width: 1.0;\"/><text fill=\"#000000\" font-family=\"sans-serif\" font-size=\"13\" lengthAdjust=\"spacingAndGlyphs\" textLength=\"62\" x=\"153.5\" y=\"138.5684\">new(light)</text><path d=\"M428.248,94.967 C390.871,120.465 343.472,152.8 306.043,178.334 \" fill=\"none\" style=\"stroke: #A80036; stroke-width: 1.0; stroke-dasharray: 7.0,7.0;\"/><polygon fill=\"none\" points=\"424.442,89.09,444.909,83.602,432.332,100.655,424.442,89.09\" style=\"stroke: #A80036; stroke-width: 1.0;\"/><path d=\"M491.168,108.816 C491.438,131.513 491.743,157.26 491.994,178.3578 \" fill=\"none\" style=\"stroke: #A80036; stroke-width: 1.0; stroke-dasharray: 7.0,7.0;\"/><polygon fill=\"none\" points=\"484.167,108.729,490.929,88.647,498.166,108.563,484.167,108.729\" style=\"stroke: #A80036; stroke-width: 1.0;\"/><path d=\"M613.973,222 C635.33,222 656.688,222 678.045,222 \" fill=\"none\" style=\"stroke: #A80036; stroke-width: 1.0;\"/><polygon fill=\"#A80036\" points=\"683.182,222,674.182,218,678.182,222,674.182,226,683.182,222\" style=\"stroke: #A80036; stroke-width: 1.0;\"/><path d=\"M86.1823,222 C107.73,222 129.277,222 150.824,222 \" fill=\"none\" style=\"stroke: #A80036; stroke-width: 1.0;\"/><polygon fill=\"#A80036\" points=\"81,222,90,226,86,222,90,218,81,222\" style=\"stroke: #A80036; stroke-width: 1.0;\"/><path d=\"M375.861,51.5 C397.143,51.5 418.424,51.5 439.705,51.5 \" fill=\"none\" style=\"stroke: #A80036; stroke-width: 1.0;\"/><polygon fill=\"#A80036\" points=\"444.824,51.5,435.824,47.5,439.824,51.5,435.824,55.5,444.824,51.5\" style=\"stroke: #A80036; stroke-width: 1.0;\"/></g></svg>"
      ],
      "text/plain": [
       "<IPython.core.display.SVG object>"
      ]
     },
     "execution_count": 13,
     "metadata": {},
     "output_type": "execute_result"
    }
   ],
   "source": [
    "%%plantuml\n",
    "@startuml\n",
    "class Command {\n",
    "  +execute()\n",
    "  +undo()\n",
    "}\n",
    "class LightOnCommand {\n",
    "  -light:Light\n",
    "  +LightOnCommand(Light):void\n",
    "  +execute()\n",
    "}\n",
    "class GarageDoorOpenCommand {\n",
    "  -gd:GarageDoor\n",
    "  +GargeDoorOpenCommand(GarageDoor)\n",
    "  +execute():void\n",
    "}\n",
    "class Light {\n",
    "  +on():void\n",
    "  +off():void\n",
    "}\n",
    "class GarageDoor {\n",
    "  +on():void\n",
    "  +down():void\n",
    "  +lightOn():void\n",
    "  +lightOff():void\n",
    "}\n",
    "class SimpleRemoteControl {\n",
    "  -slot:Command\n",
    "  +setCommand(Command)\n",
    "  +buttonWasPressed()\n",
    "}\n",
    "Client --> SimpleRemoteControl:setCommand()\n",
    "Client -right-> SimpleRemoteControl:buttonPressed()\n",
    "Client -down-> Light:light=new()\n",
    "Client --> LightOnCommand:new(light)\n",
    "Command <|.. LightOnCommand\n",
    "Command <|.. GarageDoorOpenCommand\n",
    "GarageDoorOpenCommand -right-> GarageDoor\n",
    "LightOnCommand -left-> Light\n",
    "SimpleRemoteControl -right-> Command\n",
    "@enduml"
   ]
  },
  {
   "cell_type": "markdown",
   "metadata": {},
   "source": [
    "* 인터페이스 함수에 argument가 없다는 점에 유의한다.\n",
    "* 사용하려는 객체는 생성자에서 만들어 놓는다."
   ]
  },
  {
   "cell_type": "markdown",
   "metadata": {},
   "source": [
    "## 인터페이스를 정의하기\n",
    "\n",
    "```public interface Command {\n",
    "    public void execute();\n",
    "}```"
   ]
  },
  {
   "cell_type": "markdown",
   "metadata": {},
   "source": [
    "## 인터페이스를 구현하기\n",
    "\n",
    "```public class LightOnCommand implements Command {\n",
    "\tLight light;\n",
    "\tpublic LightOnCommand(Light light) {\n",
    "\t\tthis.light = light;\n",
    "\t}\n",
    "\tpublic void execute() {\n",
    "\t\tlight.on();\n",
    "\t}\n",
    "}```\n"
   ]
  },
  {
   "cell_type": "markdown",
   "metadata": {},
   "source": [
    "## 인터페이스를 연결하고 실행하기\n",
    "\n",
    "```public class SimpleRemoteControl {\n",
    "\tCommand slot;\n",
    "\tpublic SimpleRemoteControl() {}\n",
    "\tpublic void setCommand(Command command) {\n",
    "\t\tslot = command;\n",
    "\t}\n",
    "\tpublic void buttonWasPressed() {\n",
    "\t\tslot.execute();\n",
    "\t}\n",
    "}```"
   ]
  },
  {
   "cell_type": "markdown",
   "metadata": {
    "slideshow": {
     "slide_type": "slide"
    }
   },
   "source": [
    "# 6. Case Implementation\n",
    "\n",
    "\n",
    "* simple remote\n",
    "* undo\n"
   ]
  },
  {
   "cell_type": "markdown",
   "metadata": {
    "slideshow": {
     "slide_type": "slide"
    }
   },
   "source": [
    "## 6.1. simpe remote\n",
    "\n",
    "* 단순 리모콘 사례"
   ]
  },
  {
   "cell_type": "code",
   "execution_count": 5,
   "metadata": {
    "collapsed": false,
    "slideshow": {
     "slide_type": "slide"
    }
   },
   "outputs": [
    {
     "data": {
      "image/svg+xml": [
       "<svg height=\"243px\" style=\"width:503px;height:243px;\" version=\"1.1\" viewBox=\"0 0 503 243\" width=\"503px\" xmlns=\"http://www.w3.org/2000/svg\" xmlns:xlink=\"http://www.w3.org/1999/xlink\"><defs><filter height=\"300%\" id=\"f1\" width=\"300%\" x=\"-1\" y=\"-1\"><feGaussianBlur result=\"blurOut\" stdDeviation=\"2.0\"/><feColorMatrix in=\"blurOut\" result=\"blurOut2\" type=\"matrix\" values=\"0 0 0 0 0 0 0 0 0 0 0 0 0 0 0 0 0 0 .4 0\"/><feOffset dx=\"4.0\" dy=\"4.0\" in=\"blurOut2\" result=\"blurOut3\"/><feBlend in=\"SourceGraphic\" in2=\"blurOut3\" mode=\"normal\"/></filter></defs><g><line style=\"stroke: #A80036; stroke-width: 1.0; stroke-dasharray: 5.0,5.0;\" x1=\"37\" x2=\"37\" y1=\"38.4883\" y2=\"205.041\"/><line style=\"stroke: #A80036; stroke-width: 1.0; stroke-dasharray: 5.0,5.0;\" x1=\"199\" x2=\"199\" y1=\"38.4883\" y2=\"205.041\"/><line style=\"stroke: #A80036; stroke-width: 1.0; stroke-dasharray: 5.0,5.0;\" x1=\"319\" x2=\"319\" y1=\"38.4883\" y2=\"205.041\"/><line style=\"stroke: #A80036; stroke-width: 1.0; stroke-dasharray: 5.0,5.0;\" x1=\"426\" x2=\"426\" y1=\"38.4883\" y2=\"205.041\"/><rect fill=\"#FEFECE\" filter=\"url(#f1)\" height=\"30.4883\" style=\"stroke: #A80036; stroke-width: 1.5;\" width=\"54\" x=\"8\" y=\"3\"/><text fill=\"#000000\" font-family=\"sans-serif\" font-size=\"14\" lengthAdjust=\"spacingAndGlyphs\" textLength=\"40\" x=\"15\" y=\"23.5352\">Client</text><rect fill=\"#FEFECE\" filter=\"url(#f1)\" height=\"30.4883\" style=\"stroke: #A80036; stroke-width: 1.5;\" width=\"54\" x=\"8\" y=\"204.041\"/><text fill=\"#000000\" font-family=\"sans-serif\" font-size=\"14\" lengthAdjust=\"spacingAndGlyphs\" textLength=\"40\" x=\"15\" y=\"224.5762\">Client</text><rect fill=\"#FEFECE\" filter=\"url(#f1)\" height=\"30.4883\" style=\"stroke: #A80036; stroke-width: 1.5;\" width=\"164\" x=\"115\" y=\"3\"/><text fill=\"#000000\" font-family=\"sans-serif\" font-size=\"14\" lengthAdjust=\"spacingAndGlyphs\" textLength=\"150\" x=\"122\" y=\"23.5352\">SimpleRemoteControl</text><rect fill=\"#FEFECE\" filter=\"url(#f1)\" height=\"30.4883\" style=\"stroke: #A80036; stroke-width: 1.5;\" width=\"164\" x=\"115\" y=\"204.041\"/><text fill=\"#000000\" font-family=\"sans-serif\" font-size=\"14\" lengthAdjust=\"spacingAndGlyphs\" textLength=\"150\" x=\"122\" y=\"224.5762\">SimpleRemoteControl</text><rect fill=\"#FEFECE\" filter=\"url(#f1)\" height=\"30.4883\" style=\"stroke: #A80036; stroke-width: 1.5;\" width=\"48\" x=\"293\" y=\"3\"/><text fill=\"#000000\" font-family=\"sans-serif\" font-size=\"14\" lengthAdjust=\"spacingAndGlyphs\" textLength=\"34\" x=\"300\" y=\"23.5352\">Light</text><rect fill=\"#FEFECE\" filter=\"url(#f1)\" height=\"30.4883\" style=\"stroke: #A80036; stroke-width: 1.5;\" width=\"48\" x=\"293\" y=\"204.041\"/><text fill=\"#000000\" font-family=\"sans-serif\" font-size=\"14\" lengthAdjust=\"spacingAndGlyphs\" textLength=\"34\" x=\"300\" y=\"224.5762\">Light</text><rect fill=\"#FEFECE\" filter=\"url(#f1)\" height=\"30.4883\" style=\"stroke: #A80036; stroke-width: 1.5;\" width=\"139\" x=\"355\" y=\"3\"/><text fill=\"#000000\" font-family=\"sans-serif\" font-size=\"14\" lengthAdjust=\"spacingAndGlyphs\" textLength=\"125\" x=\"362\" y=\"23.5352\">LightOnCommand</text><rect fill=\"#FEFECE\" filter=\"url(#f1)\" height=\"30.4883\" style=\"stroke: #A80036; stroke-width: 1.5;\" width=\"139\" x=\"355\" y=\"204.041\"/><text fill=\"#000000\" font-family=\"sans-serif\" font-size=\"14\" lengthAdjust=\"spacingAndGlyphs\" textLength=\"125\" x=\"362\" y=\"224.5762\">LightOnCommand</text><polygon fill=\"#A80036\" points=\"187,65.4883,197,69.4883,187,73.4883,191,69.4883\" style=\"stroke: #A80036; stroke-width: 1.0;\"/><line style=\"stroke: #A80036; stroke-width: 1.0;\" x1=\"37\" x2=\"193\" y1=\"69.4883\" y2=\"69.4883\"/><text fill=\"#000000\" font-family=\"sans-serif\" font-size=\"13\" lengthAdjust=\"spacingAndGlyphs\" textLength=\"87\" x=\"44\" y=\"65.0566\">remote=new()</text><polygon fill=\"#A80036\" points=\"307,94.7988,317,98.7988,307,102.7988,311,98.7988\" style=\"stroke: #A80036; stroke-width: 1.0;\"/><line style=\"stroke: #A80036; stroke-width: 1.0;\" x1=\"37\" x2=\"313\" y1=\"98.7988\" y2=\"98.7988\"/><text fill=\"#000000\" font-family=\"sans-serif\" font-size=\"13\" lengthAdjust=\"spacingAndGlyphs\" textLength=\"72\" x=\"44\" y=\"94.3672\">light=new()</text><polygon fill=\"#A80036\" points=\"414.5,124.1094,424.5,128.1094,414.5,132.1094,418.5,128.1094\" style=\"stroke: #A80036; stroke-width: 1.0;\"/><line style=\"stroke: #A80036; stroke-width: 1.0;\" x1=\"37\" x2=\"420.5\" y1=\"128.1094\" y2=\"128.1094\"/><text fill=\"#000000\" font-family=\"sans-serif\" font-size=\"13\" lengthAdjust=\"spacingAndGlyphs\" textLength=\"119\" x=\"44\" y=\"123.6777\">lightOn=new(light)</text><polygon fill=\"#A80036\" points=\"187,153.4199,197,157.4199,187,161.4199,191,157.4199\" style=\"stroke: #A80036; stroke-width: 1.0;\"/><line style=\"stroke: #A80036; stroke-width: 1.0;\" x1=\"37\" x2=\"193\" y1=\"157.4199\" y2=\"157.4199\"/><text fill=\"#000000\" font-family=\"sans-serif\" font-size=\"13\" lengthAdjust=\"spacingAndGlyphs\" textLength=\"138\" x=\"44\" y=\"152.9883\">setCommand(lightOn)</text><polygon fill=\"#A80036\" points=\"187,182.7305,197,186.7305,187,190.7305,191,186.7305\" style=\"stroke: #A80036; stroke-width: 1.0;\"/><line style=\"stroke: #A80036; stroke-width: 1.0;\" x1=\"37\" x2=\"193\" y1=\"186.7305\" y2=\"186.7305\"/><text fill=\"#000000\" font-family=\"sans-serif\" font-size=\"13\" lengthAdjust=\"spacingAndGlyphs\" textLength=\"120\" x=\"44\" y=\"182.2988\">buttonWasPushed()</text></g></svg>"
      ],
      "text/plain": [
       "<IPython.core.display.SVG object>"
      ]
     },
     "execution_count": 5,
     "metadata": {},
     "output_type": "execute_result"
    }
   ],
   "source": [
    "%%plantuml\n",
    "@startuml\n",
    "Client -> SimpleRemoteControl:remote=new()\n",
    "Client -> Light:light=new()\n",
    "Client -> LightOnCommand: lightOn=new(light)\n",
    "Client -> SimpleRemoteControl:setCommand(lightOn)\n",
    "Client -> SimpleRemoteControl:buttonWasPushed()\n",
    "@enduml"
   ]
  },
  {
   "cell_type": "code",
   "execution_count": null,
   "metadata": {
    "collapsed": false,
    "slideshow": {
     "slide_type": "slide"
    }
   },
   "outputs": [],
   "source": [
    "# %load ./src/headfirst/command/simpleremote/command.java\n",
    "package headfirst.command.simpleremote;\n",
    "\n",
    "public interface Command {\n",
    "    public void execute();\n",
    "}\n"
   ]
  },
  {
   "cell_type": "code",
   "execution_count": null,
   "metadata": {
    "collapsed": true,
    "slideshow": {
     "slide_type": "slide"
    }
   },
   "outputs": [],
   "source": [
    "# %load ./src/headfirst/command/simpleremote/GarageDoor.java\n",
    "package headfirst.command.simpleremote;\n",
    "\n",
    "public class GarageDoor {\n",
    "    public GarageDoor() {\n",
    "    }\n",
    "    public void up() {\n",
    "        System.out.println(\"Garage Door is Open\");\n",
    "    }\n",
    "    public void down() {\n",
    "        System.out.println(\"Garage Door is Closed\");\n",
    "    }\n",
    "    public void stop() {\n",
    "        System.out.println(\"Garage Door is Stopped\");\n",
    "    }\n",
    "    public void lightOn() {\n",
    "        System.out.println(\"Garage light is on\");\n",
    "    }\n",
    "    public void lightOff() {\n",
    "        System.out.println(\"Garage light is off\");\n",
    "    }\n",
    "}"
   ]
  },
  {
   "cell_type": "code",
   "execution_count": null,
   "metadata": {
    "collapsed": true,
    "slideshow": {
     "slide_type": "slide"
    }
   },
   "outputs": [],
   "source": [
    "# %load ./src/headfirst/command/simpleremote/GarageDoorOpenCommand.java\n",
    "package headfirst.command.simpleremote;\n",
    "\n",
    "public class GarageDoorOpenCommand implements Command {\n",
    "\tGarageDoor garageDoor;\n",
    "\n",
    "\tpublic GarageDoorOpenCommand(GarageDoor garageDoor) {\n",
    "\t\tthis.garageDoor = garageDoor;\n",
    "\t}\n",
    "\n",
    "\tpublic void execute() {\n",
    "\t\tgarageDoor.up();\n",
    "\t}\n",
    "}\n"
   ]
  },
  {
   "cell_type": "code",
   "execution_count": null,
   "metadata": {
    "collapsed": true,
    "slideshow": {
     "slide_type": "slide"
    }
   },
   "outputs": [],
   "source": [
    "# %load ./src/headfirst/command/simpleremote/Light.java\n",
    "package headfirst.command.simpleremote;\n",
    "\n",
    "public class Light {\n",
    "\n",
    "\tpublic Light() {\n",
    "\t}\n",
    "\n",
    "\tpublic void on() {\n",
    "\t\tSystem.out.println(\"Light is on\");\n",
    "\t}\n",
    "\n",
    "\tpublic void off() {\n",
    "\t\tSystem.out.println(\"Light is off\");\n",
    "\t}\n",
    "}"
   ]
  },
  {
   "cell_type": "code",
   "execution_count": null,
   "metadata": {
    "collapsed": true,
    "slideshow": {
     "slide_type": "slide"
    }
   },
   "outputs": [],
   "source": [
    "# %load ./src/headfirst/command/simpleremote/LightOnCommand.java\n",
    "package headfirst.command.simpleremote;\n",
    "\n",
    "public class LightOnCommand implements Command {\n",
    "\tLight light;\n",
    "  \n",
    "\tpublic LightOnCommand(Light light) {\n",
    "\t\tthis.light = light;\n",
    "\t}\n",
    " \n",
    "\tpublic void execute() {\n",
    "\t\tlight.on();\n",
    "\t}\n",
    "}\n"
   ]
  },
  {
   "cell_type": "code",
   "execution_count": null,
   "metadata": {
    "collapsed": true,
    "slideshow": {
     "slide_type": "slide"
    }
   },
   "outputs": [],
   "source": [
    "# %load ./src/headfirst/command/simpleremote/LightOffCommand.java\n",
    "package headfirst.command.simpleremote;\n",
    "\n",
    "public class LightOffCommand implements Command {\n",
    "\tLight light;\n",
    " \n",
    "\tpublic LightOffCommand(Light light) {\n",
    "\t\tthis.light = light;\n",
    "\t}\n",
    " \n",
    "\tpublic void execute() {\n",
    "\t\tlight.off();\n",
    "\t}\n",
    "}"
   ]
  },
  {
   "cell_type": "code",
   "execution_count": null,
   "metadata": {
    "collapsed": true,
    "slideshow": {
     "slide_type": "slide"
    }
   },
   "outputs": [],
   "source": [
    "# %load ./src/headfirst/command/simpleremote/SimpleRemoteControl.java\n",
    "package headfirst.command.simpleremote;\n",
    "\n",
    "import java.util.*;\n",
    "\n",
    "public class SimpleRemoteControl {\n",
    "\tCommand slot;\n",
    " \n",
    "\tpublic SimpleRemoteControl() {}\n",
    " \n",
    "\tpublic void setCommand(Command command) {\n",
    "\t\tslot = command;\n",
    "\t}\n",
    " \n",
    "\tpublic void buttonWasPressed() {\n",
    "\t\tslot.execute();\n",
    "\t}\n",
    "}"
   ]
  },
  {
   "cell_type": "code",
   "execution_count": null,
   "metadata": {
    "collapsed": true,
    "slideshow": {
     "slide_type": "slide"
    }
   },
   "outputs": [],
   "source": [
    "# %load ./src/headfirst/command/simpleremote/RemoteControlTest.java\n",
    "package headfirst.command.simpleremote;\n",
    "\n",
    "public class RemoteControlTest {\n",
    "    public static void main(String[] args) {\n",
    "        SimpleRemoteControl remote = new SimpleRemoteControl();\n",
    "        Light light = new Light();\n",
    "        GarageDoor garageDoor = new GarageDoor();\n",
    "        LightOnCommand lightOn = new LightOnCommand(light);\n",
    "        GarageDoorOpenCommand garageOpen = new GarageDoorOpenCommand(garageDoor);\n",
    " \n",
    "        remote.setCommand(lightOn);\n",
    "        remote.buttonWasPressed();\n",
    "        remote.setCommand(garageOpen);\n",
    "        remote.buttonWasPressed();\n",
    "    }\n",
    "}\n"
   ]
  },
  {
   "cell_type": "code",
   "execution_count": 17,
   "metadata": {
    "collapsed": false,
    "slideshow": {
     "slide_type": "slide"
    }
   },
   "outputs": [
    {
     "name": "stdout",
     "output_type": "stream",
     "text": [
      "Light is on\r\n",
      "Garage Door is Open\r\n"
     ]
    }
   ],
   "source": [
    "!javac -d classes/ -sourcepath src/ src/headfirst/command/simpleremote/*.java\n",
    "!java -cp classes/ headfirst.command.simpleremote.RemoteControlTest"
   ]
  },
  {
   "cell_type": "markdown",
   "metadata": {
    "slideshow": {
     "slide_type": "slide"
    }
   },
   "source": [
    "## 6.2 undo\n",
    "\n",
    "* 6.1에 undo()기능 추가\n",
    "* NoCommand클래스는 function body가 비어 있슴. 단순히 배열을 초기화."
   ]
  },
  {
   "cell_type": "code",
   "execution_count": 8,
   "metadata": {
    "collapsed": false
   },
   "outputs": [
    {
     "data": {
      "image/svg+xml": [
       "<svg height=\"341px\" style=\"width:644px;height:341px;\" version=\"1.1\" viewBox=\"0 0 644 341\" width=\"644px\" xmlns=\"http://www.w3.org/2000/svg\" xmlns:xlink=\"http://www.w3.org/1999/xlink\"><defs><filter height=\"300%\" id=\"f1\" width=\"300%\" x=\"-1\" y=\"-1\"><feGaussianBlur result=\"blurOut\" stdDeviation=\"2.0\"/><feColorMatrix in=\"blurOut\" result=\"blurOut2\" type=\"matrix\" values=\"0 0 0 0 0 0 0 0 0 0 0 0 0 0 0 0 0 0 .4 0\"/><feOffset dx=\"4.0\" dy=\"4.0\" in=\"blurOut2\" result=\"blurOut3\"/><feBlend in=\"SourceGraphic\" in2=\"blurOut3\" mode=\"normal\"/></filter></defs><g><rect fill=\"#FEFECE\" filter=\"url(#f1)\" height=\"73.9102\" style=\"stroke: #A80036; stroke-width: 1.5;\" width=\"102\" x=\"408\" y=\"34\"/><ellipse cx=\"427.95\" cy=\"50\" fill=\"#B4A7E5\" rx=\"11\" ry=\"11\" style=\"stroke: #A80036; stroke-width: 1.0;\"/><path d=\"M423.8777,45.7651 L423.8777,43.6069 L431.2571,43.6069 L431.2571,45.7651 L428.7918,45.7651 L428.7918,53.8418 L431.2571,53.8418 L431.2571,56 L423.8777,56 L423.8777,53.8418 L426.3431,53.8418 L426.3431,45.7651 Z \"/><text fill=\"#000000\" font-family=\"sans-serif\" font-size=\"12\" font-style=\"italic\" lengthAdjust=\"spacingAndGlyphs\" textLength=\"59\" x=\"443.05\" y=\"54.5352\">Command</text><line style=\"stroke: #A80036; stroke-width: 1.5;\" x1=\"409\" x2=\"509\" y1=\"66\" y2=\"66\"/><line style=\"stroke: #A80036; stroke-width: 1.5;\" x1=\"409\" x2=\"509\" y1=\"74\" y2=\"74\"/><ellipse cx=\"419\" cy=\"85.9775\" fill=\"#84BE84\" rx=\"3\" ry=\"3\" style=\"stroke: #038048; stroke-width: 1.0;\"/><text fill=\"#000000\" font-family=\"sans-serif\" font-size=\"11\" lengthAdjust=\"spacingAndGlyphs\" textLength=\"76\" x=\"428\" y=\"88.6348\">execute():void</text><ellipse cx=\"419\" cy=\"98.9326\" fill=\"#84BE84\" rx=\"3\" ry=\"3\" style=\"stroke: #038048; stroke-width: 1.0;\"/><text fill=\"#000000\" font-family=\"sans-serif\" font-size=\"11\" lengthAdjust=\"spacingAndGlyphs\" textLength=\"62\" x=\"428\" y=\"101.5898\">undo():void</text><rect fill=\"#FEFECE\" filter=\"url(#f1)\" height=\"99.8203\" style=\"stroke: #A80036; stroke-width: 1.5;\" width=\"159\" x=\"334.5\" y=\"213.5\"/><ellipse cx=\"360.75\" cy=\"229.5\" fill=\"#ADD1B2\" rx=\"11\" ry=\"11\" style=\"stroke: #A80036; stroke-width: 1.0;\"/><path d=\"M363.7231,235.1431 Q363.1421,235.4419 362.5029,235.5913 Q361.8638,235.7407 361.1582,235.7407 Q358.6514,235.7407 357.3315,234.0889 Q356.0117,232.437 356.0117,229.3159 Q356.0117,226.1865 357.3315,224.5347 Q358.6514,222.8828 361.1582,222.8828 Q361.8638,222.8828 362.5112,223.0322 Q363.1587,223.1816 363.7231,223.4805 L363.7231,226.2031 Q363.0923,225.6221 362.4988,225.3523 Q361.9053,225.0825 361.2744,225.0825 Q359.9297,225.0825 359.2449,226.1492 Q358.5601,227.2158 358.5601,229.3159 Q358.5601,231.4077 359.2449,232.4744 Q359.9297,233.541 361.2744,233.541 Q361.9053,233.541 362.4988,233.2712 Q363.0923,233.0015 363.7231,232.4204 Z \"/><text fill=\"#000000\" font-family=\"sans-serif\" font-size=\"12\" lengthAdjust=\"spacingAndGlyphs\" textLength=\"102\" x=\"377.25\" y=\"234.0352\">LightOnCommand</text><line style=\"stroke: #A80036; stroke-width: 1.5;\" x1=\"335.5\" x2=\"492.5\" y1=\"245.5\" y2=\"245.5\"/><rect fill=\"none\" height=\"6\" style=\"stroke: #C82930; stroke-width: 1.0;\" width=\"6\" x=\"342.5\" y=\"254.4775\"/><text fill=\"#000000\" font-family=\"sans-serif\" font-size=\"11\" lengthAdjust=\"spacingAndGlyphs\" textLength=\"54\" x=\"354.5\" y=\"260.1348\">light:Light</text><line style=\"stroke: #A80036; stroke-width: 1.5;\" x1=\"335.5\" x2=\"492.5\" y1=\"266.4551\" y2=\"266.4551\"/><ellipse cx=\"345.5\" cy=\"278.4326\" fill=\"#84BE84\" rx=\"3\" ry=\"3\" style=\"stroke: #038048; stroke-width: 1.0;\"/><text fill=\"#000000\" font-family=\"sans-serif\" font-size=\"11\" lengthAdjust=\"spacingAndGlyphs\" textLength=\"133\" x=\"354.5\" y=\"281.0898\">LightOnCommand(Light)</text><ellipse cx=\"345.5\" cy=\"291.3877\" fill=\"#84BE84\" rx=\"3\" ry=\"3\" style=\"stroke: #038048; stroke-width: 1.0;\"/><text fill=\"#000000\" font-family=\"sans-serif\" font-size=\"11\" lengthAdjust=\"spacingAndGlyphs\" textLength=\"76\" x=\"354.5\" y=\"294.0449\">execute():void</text><ellipse cx=\"345.5\" cy=\"304.3428\" fill=\"#84BE84\" rx=\"3\" ry=\"3\" style=\"stroke: #038048; stroke-width: 1.0;\"/><text fill=\"#000000\" font-family=\"sans-serif\" font-size=\"11\" lengthAdjust=\"spacingAndGlyphs\" textLength=\"62\" x=\"354.5\" y=\"307\">undo():void</text><rect fill=\"#FEFECE\" filter=\"url(#f1)\" height=\"48\" style=\"stroke: #A80036; stroke-width: 1.5;\" width=\"135\" x=\"164.5\" y=\"239.5\"/><ellipse cx=\"179.5\" cy=\"255.5\" fill=\"#ADD1B2\" rx=\"11\" ry=\"11\" style=\"stroke: #A80036; stroke-width: 1.0;\"/><path d=\"M182.4731,261.1431 Q181.8921,261.4419 181.2529,261.5913 Q180.6138,261.7407 179.9082,261.7407 Q177.4014,261.7407 176.0815,260.0889 Q174.7617,258.437 174.7617,255.3159 Q174.7617,252.1865 176.0815,250.5347 Q177.4014,248.8828 179.9082,248.8828 Q180.6138,248.8828 181.2612,249.0322 Q181.9087,249.1816 182.4731,249.4805 L182.4731,252.2031 Q181.8423,251.6221 181.2488,251.3523 Q180.6553,251.0825 180.0244,251.0825 Q178.6797,251.0825 177.9949,252.1492 Q177.3101,253.2158 177.3101,255.3159 Q177.3101,257.4077 177.9949,258.4744 Q178.6797,259.541 180.0244,259.541 Q180.6553,259.541 181.2488,259.2712 Q181.8423,259.0015 182.4731,258.4204 Z \"/><text fill=\"#000000\" font-family=\"sans-serif\" font-size=\"12\" lengthAdjust=\"spacingAndGlyphs\" textLength=\"103\" x=\"193.5\" y=\"260.0352\">LightOffCommand</text><line style=\"stroke: #A80036; stroke-width: 1.5;\" x1=\"165.5\" x2=\"298.5\" y1=\"271.5\" y2=\"271.5\"/><line style=\"stroke: #A80036; stroke-width: 1.5;\" x1=\"165.5\" x2=\"298.5\" y1=\"279.5\" y2=\"279.5\"/><rect fill=\"#FEFECE\" filter=\"url(#f1)\" height=\"138.6855\" style=\"stroke: #A80036; stroke-width: 1.5;\" width=\"95\" x=\"34.5\" y=\"194\"/><ellipse cx=\"65.7\" cy=\"210\" fill=\"#ADD1B2\" rx=\"11\" ry=\"11\" style=\"stroke: #A80036; stroke-width: 1.0;\"/><path d=\"M68.6731,215.6431 Q68.0921,215.9419 67.4529,216.0913 Q66.8138,216.2407 66.1082,216.2407 Q63.6014,216.2407 62.2815,214.5889 Q60.9617,212.937 60.9617,209.8159 Q60.9617,206.6865 62.2815,205.0347 Q63.6014,203.3828 66.1082,203.3828 Q66.8138,203.3828 67.4612,203.5322 Q68.1087,203.6816 68.6731,203.9805 L68.6731,206.7031 Q68.0423,206.1221 67.4488,205.8523 Q66.8553,205.5825 66.2244,205.5825 Q64.8797,205.5825 64.1949,206.6492 Q63.5101,207.7158 63.5101,209.8159 Q63.5101,211.9077 64.1949,212.9744 Q64.8797,214.041 66.2244,214.041 Q66.8553,214.041 67.4488,213.7712 Q68.0423,213.5015 68.6731,212.9204 Z \"/><text fill=\"#000000\" font-family=\"sans-serif\" font-size=\"12\" lengthAdjust=\"spacingAndGlyphs\" textLength=\"27\" x=\"83.3\" y=\"214.5352\">Light</text><line style=\"stroke: #A80036; stroke-width: 1.5;\" x1=\"35.5\" x2=\"128.5\" y1=\"226\" y2=\"226\"/><text fill=\"#000000\" font-family=\"sans-serif\" font-size=\"11\" lengthAdjust=\"spacingAndGlyphs\" textLength=\"41\" x=\"40.5\" y=\"240.6348\">level:int</text><text fill=\"#000000\" font-family=\"sans-serif\" font-size=\"11\" lengthAdjust=\"spacingAndGlyphs\" textLength=\"78\" x=\"40.5\" y=\"253.5898\">location:String</text><line style=\"stroke: #A80036; stroke-width: 1.5;\" x1=\"35.5\" x2=\"128.5\" y1=\"259.9102\" y2=\"259.9102\"/><ellipse cx=\"45.5\" cy=\"271.8877\" fill=\"#84BE84\" rx=\"3\" ry=\"3\" style=\"stroke: #038048; stroke-width: 1.0;\"/><text fill=\"#000000\" font-family=\"sans-serif\" font-size=\"11\" lengthAdjust=\"spacingAndGlyphs\" textLength=\"67\" x=\"54.5\" y=\"274.5449\">Light(String)</text><ellipse cx=\"45.5\" cy=\"284.8428\" fill=\"#84BE84\" rx=\"3\" ry=\"3\" style=\"stroke: #038048; stroke-width: 1.0;\"/><text fill=\"#000000\" font-family=\"sans-serif\" font-size=\"11\" lengthAdjust=\"spacingAndGlyphs\" textLength=\"48\" x=\"54.5\" y=\"287.5\">on():void</text><ellipse cx=\"45.5\" cy=\"297.7979\" fill=\"#84BE84\" rx=\"3\" ry=\"3\" style=\"stroke: #038048; stroke-width: 1.0;\"/><text fill=\"#000000\" font-family=\"sans-serif\" font-size=\"11\" lengthAdjust=\"spacingAndGlyphs\" textLength=\"49\" x=\"54.5\" y=\"300.4551\">off():void</text><ellipse cx=\"45.5\" cy=\"310.7529\" fill=\"#84BE84\" rx=\"3\" ry=\"3\" style=\"stroke: #038048; stroke-width: 1.0;\"/><text fill=\"#000000\" font-family=\"sans-serif\" font-size=\"11\" lengthAdjust=\"spacingAndGlyphs\" textLength=\"68\" x=\"54.5\" y=\"313.4102\">dim(int):void</text><ellipse cx=\"45.5\" cy=\"323.708\" fill=\"#84BE84\" rx=\"3\" ry=\"3\" style=\"stroke: #038048; stroke-width: 1.0;\"/><text fill=\"#000000\" font-family=\"sans-serif\" font-size=\"11\" lengthAdjust=\"spacingAndGlyphs\" textLength=\"69\" x=\"54.5\" y=\"326.3652\">getLevel():int</text><rect fill=\"#FEFECE\" filter=\"url(#f1)\" height=\"48\" style=\"stroke: #A80036; stroke-width: 1.5;\" width=\"107\" x=\"528.5\" y=\"239.5\"/><ellipse cx=\"543.5\" cy=\"255.5\" fill=\"#ADD1B2\" rx=\"11\" ry=\"11\" style=\"stroke: #A80036; stroke-width: 1.0;\"/><path d=\"M546.4731,261.1431 Q545.8921,261.4419 545.2529,261.5913 Q544.6138,261.7407 543.9082,261.7407 Q541.4014,261.7407 540.0815,260.0889 Q538.7617,258.437 538.7617,255.3159 Q538.7617,252.1865 540.0815,250.5347 Q541.4014,248.8828 543.9082,248.8828 Q544.6138,248.8828 545.2612,249.0322 Q545.9087,249.1816 546.4731,249.4805 L546.4731,252.2031 Q545.8423,251.6221 545.2488,251.3523 Q544.6553,251.0825 544.0244,251.0825 Q542.6797,251.0825 541.9949,252.1492 Q541.3101,253.2158 541.3101,255.3159 Q541.3101,257.4077 541.9949,258.4744 Q542.6797,259.541 544.0244,259.541 Q544.6553,259.541 545.2488,259.2712 Q545.8423,259.0015 546.4731,258.4204 Z \"/><text fill=\"#000000\" font-family=\"sans-serif\" font-size=\"12\" lengthAdjust=\"spacingAndGlyphs\" textLength=\"75\" x=\"557.5\" y=\"260.0352\">NoCommand</text><line style=\"stroke: #A80036; stroke-width: 1.5;\" x1=\"529.5\" x2=\"634.5\" y1=\"271.5\" y2=\"271.5\"/><line style=\"stroke: #A80036; stroke-width: 1.5;\" x1=\"529.5\" x2=\"634.5\" y1=\"279.5\" y2=\"279.5\"/><rect fill=\"#FEFECE\" filter=\"url(#f1)\" height=\"125.7305\" style=\"stroke: #A80036; stroke-width: 1.5;\" width=\"267\" x=\"105.5\" y=\"8\"/><ellipse cx=\"165.25\" cy=\"24\" fill=\"#ADD1B2\" rx=\"11\" ry=\"11\" style=\"stroke: #A80036; stroke-width: 1.0;\"/><path d=\"M168.2231,29.6431 Q167.6421,29.9419 167.0029,30.0913 Q166.3638,30.2407 165.6582,30.2407 Q163.1514,30.2407 161.8315,28.5889 Q160.5117,26.937 160.5117,23.8159 Q160.5117,20.6865 161.8315,19.0347 Q163.1514,17.3828 165.6582,17.3828 Q166.3638,17.3828 167.0112,17.5322 Q167.6587,17.6816 168.2231,17.9805 L168.2231,20.7031 Q167.5923,20.1221 166.9988,19.8523 Q166.4053,19.5825 165.7744,19.5825 Q164.4297,19.5825 163.7449,20.6492 Q163.0601,21.7158 163.0601,23.8159 Q163.0601,25.9077 163.7449,26.9744 Q164.4297,28.041 165.7744,28.041 Q166.4053,28.041 166.9988,27.7712 Q167.5923,27.5015 168.2231,26.9204 Z \"/><text fill=\"#000000\" font-family=\"sans-serif\" font-size=\"12\" lengthAdjust=\"spacingAndGlyphs\" textLength=\"139\" x=\"185.75\" y=\"28.5352\">RemoteControlWithUndo</text><line style=\"stroke: #A80036; stroke-width: 1.5;\" x1=\"106.5\" x2=\"371.5\" y1=\"40\" y2=\"40\"/><text fill=\"#000000\" font-family=\"sans-serif\" font-size=\"11\" lengthAdjust=\"spacingAndGlyphs\" textLength=\"141\" x=\"111.5\" y=\"54.6348\">onCommands:Command[]</text><text fill=\"#000000\" font-family=\"sans-serif\" font-size=\"11\" lengthAdjust=\"spacingAndGlyphs\" textLength=\"142\" x=\"111.5\" y=\"67.5898\">offCommands:Command[]</text><line style=\"stroke: #A80036; stroke-width: 1.5;\" x1=\"106.5\" x2=\"371.5\" y1=\"73.9102\" y2=\"73.9102\"/><ellipse cx=\"116.5\" cy=\"85.8877\" fill=\"#84BE84\" rx=\"3\" ry=\"3\" style=\"stroke: #038048; stroke-width: 1.0;\"/><text fill=\"#000000\" font-family=\"sans-serif\" font-size=\"11\" lengthAdjust=\"spacingAndGlyphs\" textLength=\"141\" x=\"125.5\" y=\"88.5449\">RemoteControlWithUndo()</text><ellipse cx=\"116.5\" cy=\"98.8428\" fill=\"#84BE84\" rx=\"3\" ry=\"3\" style=\"stroke: #038048; stroke-width: 1.0;\"/><text fill=\"#000000\" font-family=\"sans-serif\" font-size=\"11\" lengthAdjust=\"spacingAndGlyphs\" textLength=\"241\" x=\"125.5\" y=\"101.5\">setCommand(int, Command, Command):void</text><ellipse cx=\"116.5\" cy=\"111.7979\" fill=\"#84BE84\" rx=\"3\" ry=\"3\" style=\"stroke: #038048; stroke-width: 1.0;\"/><text fill=\"#000000\" font-family=\"sans-serif\" font-size=\"11\" lengthAdjust=\"spacingAndGlyphs\" textLength=\"157\" x=\"125.5\" y=\"114.4551\">onButtonWasPushed(int):void</text><ellipse cx=\"116.5\" cy=\"124.7529\" fill=\"#84BE84\" rx=\"3\" ry=\"3\" style=\"stroke: #038048; stroke-width: 1.0;\"/><text fill=\"#000000\" font-family=\"sans-serif\" font-size=\"11\" lengthAdjust=\"spacingAndGlyphs\" textLength=\"157\" x=\"125.5\" y=\"127.4102\">onButtonWasPushed(int):void</text><rect fill=\"#FEFECE\" filter=\"url(#f1)\" height=\"48\" style=\"stroke: #A80036; stroke-width: 1.5;\" width=\"64\" x=\"6\" y=\"47\"/><ellipse cx=\"21\" cy=\"63\" fill=\"#ADD1B2\" rx=\"11\" ry=\"11\" style=\"stroke: #A80036; stroke-width: 1.0;\"/><path d=\"M23.9731,68.6431 Q23.3921,68.9419 22.7529,69.0913 Q22.1138,69.2407 21.4082,69.2407 Q18.9014,69.2407 17.5815,67.5889 Q16.2617,65.937 16.2617,62.8159 Q16.2617,59.6865 17.5815,58.0347 Q18.9014,56.3828 21.4082,56.3828 Q22.1138,56.3828 22.7612,56.5322 Q23.4087,56.6816 23.9731,56.9805 L23.9731,59.7031 Q23.3423,59.1221 22.7488,58.8523 Q22.1553,58.5825 21.5244,58.5825 Q20.1797,58.5825 19.4949,59.6492 Q18.8101,60.7158 18.8101,62.8159 Q18.8101,64.9077 19.4949,65.9744 Q20.1797,67.041 21.5244,67.041 Q22.1553,67.041 22.7488,66.7712 Q23.3423,66.5015 23.9731,65.9204 Z \"/><text fill=\"#000000\" font-family=\"sans-serif\" font-size=\"12\" lengthAdjust=\"spacingAndGlyphs\" textLength=\"32\" x=\"35\" y=\"67.5352\">Client</text><line style=\"stroke: #A80036; stroke-width: 1.5;\" x1=\"7\" x2=\"69\" y1=\"79\" y2=\"79\"/><line style=\"stroke: #A80036; stroke-width: 1.5;\" x1=\"7\" x2=\"69\" y1=\"87\" y2=\"87\"/><path d=\"M445.814,127.82 C439.409,154.937 431.78,187.232 425.599,213.399 \" fill=\"none\" style=\"stroke: #A80036; stroke-width: 1.0; stroke-dasharray: 7.0,7.0;\"/><polygon fill=\"none\" points=\"439.019,126.135,450.43,108.28,452.644,129.354,439.019,126.135\" style=\"stroke: #A80036; stroke-width: 1.0;\"/><path d=\"M404.329,121.567 C399.509,125.802 394.684,129.995 390,134 C366.15,154.392 299.415,208.282 260.731,239.4145 \" fill=\"none\" style=\"stroke: #A80036; stroke-width: 1.0; stroke-dasharray: 7.0,7.0;\"/><polygon fill=\"none\" points=\"399.922,116.119,419.525,108.074,409.218,126.588,399.922,116.119\" style=\"stroke: #A80036; stroke-width: 1.0;\"/><path d=\"M493.32,125.154 C517.534,162.657 548.785,211.058 566.989,239.2519 \" fill=\"none\" style=\"stroke: #A80036; stroke-width: 1.0; stroke-dasharray: 7.0,7.0;\"/><polygon fill=\"none\" points=\"487.393,128.879,482.425,108.28,499.154,121.285,487.393,128.879\" style=\"stroke: #A80036; stroke-width: 1.0;\"/><path d=\"M129.616,189.915 C139.801,179.416 151.477,170.12 164.5,164 C218.804,138.483 243.298,142.992 299.5,164 C326.759,174.189 351.818,194.12 371.499,213.485 \" fill=\"none\" style=\"stroke: #A80036; stroke-width: 1.0;\"/><polygon fill=\"#A80036\" points=\"125.931,193.833,135.0105,190.0169,129.3563,190.1906,129.1826,184.5364,125.931,193.833\" style=\"stroke: #A80036; stroke-width: 1.0;\"/><path d=\"M134.852,263.5 C144.602,263.5 154.352,263.5 164.102,263.5 \" fill=\"none\" style=\"stroke: #A80036; stroke-width: 1.0;\"/><polygon fill=\"#A80036\" points=\"129.754,263.5,138.754,267.5,134.754,263.5,138.754,259.5,129.754,263.5\" style=\"stroke: #A80036; stroke-width: 1.0;\"/><path d=\"M372.633,71 C382.592,71 392.552,71 402.511,71 \" fill=\"none\" style=\"stroke: #A80036; stroke-width: 1.0;\"/><polygon fill=\"#A80036\" points=\"407.719,71,398.719,67,402.719,71,398.719,75,407.719,71\" style=\"stroke: #A80036; stroke-width: 1.0;\"/><path d=\"M70.1914,71 C80.2053,71 90.2192,71 100.2331,71 \" fill=\"none\" style=\"stroke: #A80036; stroke-width: 1.0;\"/><polygon fill=\"#A80036\" points=\"105.4698,71,96.4698,67,100.4698,71,96.4698,75,105.4698,71\" style=\"stroke: #A80036; stroke-width: 1.0;\"/><path d=\"M43.3953,95.359 C48.7758,118.654 57.3243,155.666 65.011,188.945 \" fill=\"none\" style=\"stroke: #A80036; stroke-width: 1.0;\"/><polygon fill=\"#A80036\" points=\"66.1383,193.826,68.0094,184.1565,65.0126,188.9544,60.2147,185.9576,66.1383,193.826\" style=\"stroke: #A80036; stroke-width: 1.0;\"/></g></svg>"
      ],
      "text/plain": [
       "<IPython.core.display.SVG object>"
      ]
     },
     "execution_count": 8,
     "metadata": {},
     "output_type": "execute_result"
    }
   ],
   "source": [
    "%%plantuml\n",
    "@startuml\n",
    "interface Command {\n",
    "  +execute():void\n",
    "  +undo():void\n",
    "}\n",
    "class LightOnCommand {\n",
    "  -light:Light\n",
    "  +LightOnCommand(Light)\n",
    "  +execute():void\n",
    "  +undo():void\n",
    "}\n",
    "Class LightOffCommand\n",
    "class Light {\n",
    "  level:int\n",
    "  location:String\n",
    "  +Light(String)\n",
    "  +on():void\n",
    "  +off():void\n",
    "  +dim(int):void\n",
    "  +getLevel():int\n",
    "}\n",
    "class NoCommand\n",
    "class RemoteControlWithUndo {\n",
    "  onCommands:Command[]\n",
    "  offCommands:Command[]\n",
    "  +RemoteControlWithUndo()\n",
    "  +setCommand(int, Command, Command):void\n",
    "  +onButtonWasPushed(int):void\n",
    "  +onButtonWasPushed(int):void  \n",
    "}\n",
    "Command <|.. LightOnCommand\n",
    "Command <|.. LightOffCommand\n",
    "Command <|.. NoCommand\n",
    "LightOnCommand -left-> Light\n",
    "LightOffCommand -left-> Light\n",
    "RemoteControlWithUndo -right-> Command\n",
    "Client -> RemoteControlWithUndo\n",
    "Client -down-> Light\n",
    "@enduml"
   ]
  },
  {
   "cell_type": "code",
   "execution_count": 10,
   "metadata": {
    "collapsed": false,
    "slideshow": {
     "slide_type": "slide"
    }
   },
   "outputs": [
    {
     "data": {
      "image/svg+xml": [
       "<svg height=\"390px\" style=\"width:880px;height:390px;\" version=\"1.1\" viewBox=\"0 0 880 390\" width=\"880px\" xmlns=\"http://www.w3.org/2000/svg\" xmlns:xlink=\"http://www.w3.org/1999/xlink\"><defs><filter height=\"300%\" id=\"f1\" width=\"300%\" x=\"-1\" y=\"-1\"><feGaussianBlur result=\"blurOut\" stdDeviation=\"2.0\"/><feColorMatrix in=\"blurOut\" result=\"blurOut2\" type=\"matrix\" values=\"0 0 0 0 0 0 0 0 0 0 0 0 0 0 0 0 0 0 .4 0\"/><feOffset dx=\"4.0\" dy=\"4.0\" in=\"blurOut2\" result=\"blurOut3\"/><feBlend in=\"SourceGraphic\" in2=\"blurOut3\" mode=\"normal\"/></filter></defs><g><line style=\"stroke: #A80036; stroke-width: 1.0; stroke-dasharray: 5.0,5.0;\" x1=\"37\" x2=\"37\" y1=\"38.4883\" y2=\"351.5938\"/><line style=\"stroke: #A80036; stroke-width: 1.0; stroke-dasharray: 5.0,5.0;\" x1=\"411.5\" x2=\"411.5\" y1=\"38.4883\" y2=\"351.5938\"/><line style=\"stroke: #A80036; stroke-width: 1.0; stroke-dasharray: 5.0,5.0;\" x1=\"542.5\" x2=\"542.5\" y1=\"38.4883\" y2=\"351.5938\"/><line style=\"stroke: #A80036; stroke-width: 1.0; stroke-dasharray: 5.0,5.0;\" x1=\"649.5\" x2=\"649.5\" y1=\"38.4883\" y2=\"351.5938\"/><line style=\"stroke: #A80036; stroke-width: 1.0; stroke-dasharray: 5.0,5.0;\" x1=\"803.5\" x2=\"803.5\" y1=\"38.4883\" y2=\"351.5938\"/><rect fill=\"#FEFECE\" filter=\"url(#f1)\" height=\"30.4883\" style=\"stroke: #A80036; stroke-width: 1.5;\" width=\"54\" x=\"8\" y=\"3\"/><text fill=\"#000000\" font-family=\"sans-serif\" font-size=\"14\" lengthAdjust=\"spacingAndGlyphs\" textLength=\"40\" x=\"15\" y=\"23.5352\">Client</text><rect fill=\"#FEFECE\" filter=\"url(#f1)\" height=\"30.4883\" style=\"stroke: #A80036; stroke-width: 1.5;\" width=\"54\" x=\"8\" y=\"350.5938\"/><text fill=\"#000000\" font-family=\"sans-serif\" font-size=\"14\" lengthAdjust=\"spacingAndGlyphs\" textLength=\"40\" x=\"15\" y=\"371.1289\">Client</text><rect fill=\"#FEFECE\" filter=\"url(#f1)\" height=\"30.4883\" style=\"stroke: #A80036; stroke-width: 1.5;\" width=\"185\" x=\"317.5\" y=\"3\"/><text fill=\"#000000\" font-family=\"sans-serif\" font-size=\"14\" lengthAdjust=\"spacingAndGlyphs\" textLength=\"171\" x=\"324.5\" y=\"23.5352\">RemoteControlWithUndo</text><rect fill=\"#FEFECE\" filter=\"url(#f1)\" height=\"30.4883\" style=\"stroke: #A80036; stroke-width: 1.5;\" width=\"185\" x=\"317.5\" y=\"350.5938\"/><text fill=\"#000000\" font-family=\"sans-serif\" font-size=\"14\" lengthAdjust=\"spacingAndGlyphs\" textLength=\"171\" x=\"324.5\" y=\"371.1289\">RemoteControlWithUndo</text><rect fill=\"#FEFECE\" filter=\"url(#f1)\" height=\"30.4883\" style=\"stroke: #A80036; stroke-width: 1.5;\" width=\"48\" x=\"516.5\" y=\"3\"/><text fill=\"#000000\" font-family=\"sans-serif\" font-size=\"14\" lengthAdjust=\"spacingAndGlyphs\" textLength=\"34\" x=\"523.5\" y=\"23.5352\">Light</text><rect fill=\"#FEFECE\" filter=\"url(#f1)\" height=\"30.4883\" style=\"stroke: #A80036; stroke-width: 1.5;\" width=\"48\" x=\"516.5\" y=\"350.5938\"/><text fill=\"#000000\" font-family=\"sans-serif\" font-size=\"14\" lengthAdjust=\"spacingAndGlyphs\" textLength=\"34\" x=\"523.5\" y=\"371.1289\">Light</text><rect fill=\"#FEFECE\" filter=\"url(#f1)\" height=\"30.4883\" style=\"stroke: #A80036; stroke-width: 1.5;\" width=\"139\" x=\"578.5\" y=\"3\"/><text fill=\"#000000\" font-family=\"sans-serif\" font-size=\"14\" lengthAdjust=\"spacingAndGlyphs\" textLength=\"125\" x=\"585.5\" y=\"23.5352\">LightOnCommand</text><rect fill=\"#FEFECE\" filter=\"url(#f1)\" height=\"30.4883\" style=\"stroke: #A80036; stroke-width: 1.5;\" width=\"139\" x=\"578.5\" y=\"350.5938\"/><text fill=\"#000000\" font-family=\"sans-serif\" font-size=\"14\" lengthAdjust=\"spacingAndGlyphs\" textLength=\"125\" x=\"585.5\" y=\"371.1289\">LightOnCommand</text><rect fill=\"#FEFECE\" filter=\"url(#f1)\" height=\"30.4883\" style=\"stroke: #A80036; stroke-width: 1.5;\" width=\"140\" x=\"731.5\" y=\"3\"/><text fill=\"#000000\" font-family=\"sans-serif\" font-size=\"14\" lengthAdjust=\"spacingAndGlyphs\" textLength=\"126\" x=\"738.5\" y=\"23.5352\">LightOffCommand</text><rect fill=\"#FEFECE\" filter=\"url(#f1)\" height=\"30.4883\" style=\"stroke: #A80036; stroke-width: 1.5;\" width=\"140\" x=\"731.5\" y=\"350.5938\"/><text fill=\"#000000\" font-family=\"sans-serif\" font-size=\"14\" lengthAdjust=\"spacingAndGlyphs\" textLength=\"126\" x=\"738.5\" y=\"371.1289\">LightOffCommand</text><polygon fill=\"#A80036\" points=\"400,65.4883,410,69.4883,400,73.4883,404,69.4883\" style=\"stroke: #A80036; stroke-width: 1.0;\"/><line style=\"stroke: #A80036; stroke-width: 1.0;\" x1=\"37\" x2=\"406\" y1=\"69.4883\" y2=\"69.4883\"/><text fill=\"#000000\" font-family=\"sans-serif\" font-size=\"13\" lengthAdjust=\"spacingAndGlyphs\" textLength=\"87\" x=\"44\" y=\"65.0566\">remote=new()</text><polygon fill=\"#A80036\" points=\"530.5,94.7988,540.5,98.7988,530.5,102.7988,534.5,98.7988\" style=\"stroke: #A80036; stroke-width: 1.0;\"/><line style=\"stroke: #A80036; stroke-width: 1.0;\" x1=\"37\" x2=\"536.5\" y1=\"98.7988\" y2=\"98.7988\"/><text fill=\"#000000\" font-family=\"sans-serif\" font-size=\"13\" lengthAdjust=\"spacingAndGlyphs\" textLength=\"146\" x=\"44\" y=\"94.3672\">livingRoomLight=new()</text><polygon fill=\"#A80036\" points=\"638,124.1094,648,128.1094,638,132.1094,642,128.1094\" style=\"stroke: #A80036; stroke-width: 1.0;\"/><line style=\"stroke: #A80036; stroke-width: 1.0;\" x1=\"37\" x2=\"644\" y1=\"128.1094\" y2=\"128.1094\"/><text fill=\"#000000\" font-family=\"sans-serif\" font-size=\"13\" lengthAdjust=\"spacingAndGlyphs\" textLength=\"267\" x=\"44\" y=\"123.6777\">livingRoomLightOn=new(livingRoomLight)</text><polygon fill=\"#A80036\" points=\"791.5,153.4199,801.5,157.4199,791.5,161.4199,795.5,157.4199\" style=\"stroke: #A80036; stroke-width: 1.0;\"/><line style=\"stroke: #A80036; stroke-width: 1.0;\" x1=\"37\" x2=\"797.5\" y1=\"157.4199\" y2=\"157.4199\"/><text fill=\"#000000\" font-family=\"sans-serif\" font-size=\"13\" lengthAdjust=\"spacingAndGlyphs\" textLength=\"269\" x=\"44\" y=\"152.9883\">livingRoomLightOff=new(livingRoomLight)</text><polygon fill=\"#A80036\" points=\"400,182.7305,410,186.7305,400,190.7305,404,186.7305\" style=\"stroke: #A80036; stroke-width: 1.0;\"/><line style=\"stroke: #A80036; stroke-width: 1.0;\" x1=\"37\" x2=\"406\" y1=\"186.7305\" y2=\"186.7305\"/><text fill=\"#000000\" font-family=\"sans-serif\" font-size=\"13\" lengthAdjust=\"spacingAndGlyphs\" textLength=\"351\" x=\"44\" y=\"182.2988\">setCommand(0,livingRoomLightOn,livingRoomLightOff)</text><polygon fill=\"#A80036\" points=\"400,212.041,410,216.041,400,220.041,404,216.041\" style=\"stroke: #A80036; stroke-width: 1.0;\"/><line style=\"stroke: #A80036; stroke-width: 1.0;\" x1=\"37\" x2=\"406\" y1=\"216.041\" y2=\"216.041\"/><text fill=\"#000000\" font-family=\"sans-serif\" font-size=\"13\" lengthAdjust=\"spacingAndGlyphs\" textLength=\"143\" x=\"44\" y=\"211.6094\">onButtonWasPushed(0)</text><polygon fill=\"#A80036\" points=\"400,241.3516,410,245.3516,400,249.3516,404,245.3516\" style=\"stroke: #A80036; stroke-width: 1.0;\"/><line style=\"stroke: #A80036; stroke-width: 1.0;\" x1=\"37\" x2=\"406\" y1=\"245.3516\" y2=\"245.3516\"/><text fill=\"#000000\" font-family=\"sans-serif\" font-size=\"13\" lengthAdjust=\"spacingAndGlyphs\" textLength=\"145\" x=\"44\" y=\"240.9199\">offButtonWasPushed(0)</text><polygon fill=\"#A80036\" points=\"400,270.6621,410,274.6621,400,278.6621,404,274.6621\" style=\"stroke: #A80036; stroke-width: 1.0;\"/><line style=\"stroke: #A80036; stroke-width: 1.0;\" x1=\"37\" x2=\"406\" y1=\"274.6621\" y2=\"274.6621\"/><text fill=\"#000000\" font-family=\"sans-serif\" font-size=\"13\" lengthAdjust=\"spacingAndGlyphs\" textLength=\"151\" x=\"44\" y=\"270.2305\">undoButtonWasPushed()</text><polygon fill=\"#A80036\" points=\"400,299.9727,410,303.9727,400,307.9727,404,303.9727\" style=\"stroke: #A80036; stroke-width: 1.0;\"/><line style=\"stroke: #A80036; stroke-width: 1.0;\" x1=\"37\" x2=\"406\" y1=\"303.9727\" y2=\"303.9727\"/><text fill=\"#000000\" font-family=\"sans-serif\" font-size=\"13\" lengthAdjust=\"spacingAndGlyphs\" textLength=\"145\" x=\"44\" y=\"299.541\">offButtonWasPushed(0)</text><polygon fill=\"#A80036\" points=\"400,329.2832,410,333.2832,400,337.2832,404,333.2832\" style=\"stroke: #A80036; stroke-width: 1.0;\"/><line style=\"stroke: #A80036; stroke-width: 1.0;\" x1=\"37\" x2=\"406\" y1=\"333.2832\" y2=\"333.2832\"/><text fill=\"#000000\" font-family=\"sans-serif\" font-size=\"13\" lengthAdjust=\"spacingAndGlyphs\" textLength=\"143\" x=\"44\" y=\"328.8516\">onButtonWasPushed(0)</text></g></svg>"
      ],
      "text/plain": [
       "<IPython.core.display.SVG object>"
      ]
     },
     "execution_count": 10,
     "metadata": {},
     "output_type": "execute_result"
    }
   ],
   "source": [
    "%%plantuml\n",
    "@startuml\n",
    "Client -> RemoteControlWithUndo:remote=new()\n",
    "Client -> Light:livingRoomLight=new()\n",
    "Client -> LightOnCommand: livingRoomLightOn=new(livingRoomLight)\n",
    "Client -> LightOffCommand: livingRoomLightOff=new(livingRoomLight)\n",
    "Client -> RemoteControlWithUndo:setCommand(0,livingRoomLightOn,livingRoomLightOff)\n",
    "Client -> RemoteControlWithUndo:onButtonWasPushed(0)\n",
    "Client -> RemoteControlWithUndo:offButtonWasPushed(0)\n",
    "Client -> RemoteControlWithUndo:undoButtonWasPushed()\n",
    "Client -> RemoteControlWithUndo:offButtonWasPushed(0)\n",
    "Client -> RemoteControlWithUndo:onButtonWasPushed(0)\n",
    "@enduml"
   ]
  },
  {
   "cell_type": "code",
   "execution_count": null,
   "metadata": {
    "collapsed": true,
    "slideshow": {
     "slide_type": "slide"
    }
   },
   "outputs": [],
   "source": [
    "# %load ./src/headfirst/command/undo/Command.java\n",
    "package headfirst.command.undo;\n",
    "\n",
    "public interface Command {\n",
    "    public void execute();\n",
    "    public void undo();\n",
    "}\n"
   ]
  },
  {
   "cell_type": "code",
   "execution_count": null,
   "metadata": {
    "collapsed": true,
    "slideshow": {
     "slide_type": "slide"
    }
   },
   "outputs": [],
   "source": [
    "# %load ./src/headfirst/command/undo/NoCommand.java\n",
    "package headfirst.command.undo;\n",
    "\n",
    "public class NoCommand implements Command {\n",
    "    public void execute() { }\n",
    "    public void undo() { }\n",
    "}\n"
   ]
  },
  {
   "cell_type": "code",
   "execution_count": null,
   "metadata": {
    "collapsed": false,
    "slideshow": {
     "slide_type": "slide"
    }
   },
   "outputs": [],
   "source": [
    "# %load ./src/headfirst/command/undo/Light.java\n",
    "package headfirst.command.undo;\n",
    "\n",
    "public class Light {\n",
    "\tString location;\n",
    "\tint level;\n",
    "\tpublic Light(String location) {\n",
    "\t\tthis.location = location;\n",
    "\t}\n",
    "\tpublic void on() {\n",
    "\t\tlevel = 100;\n",
    "\t\tSystem.out.println(\"Light is on\");\n",
    "\t}\n",
    "\tpublic void off() {\n",
    "\t\tlevel = 0;\n",
    "\t\tSystem.out.println(\"Light is off\");\n",
    "\t}\n",
    "\tpublic void dim(int level) {\n",
    "\t\tthis.level = level;\n",
    "\t\tif (level == 0) {\n",
    "\t\t\toff();\n",
    "\t\t}\n",
    "\t\telse {\n",
    "\t\t\tSystem.out.println(\"Light is dimmed to \" + level + \"%\");\n",
    "\t\t}\n",
    "\t}\n",
    "\tpublic int getLevel() {\n",
    "\t\treturn level;\n",
    "\t}\n",
    "}\n"
   ]
  },
  {
   "cell_type": "code",
   "execution_count": null,
   "metadata": {
    "collapsed": true,
    "slideshow": {
     "slide_type": "slide"
    }
   },
   "outputs": [],
   "source": [
    "# %load ./src/headfirst/command/undo/LightOnCommand.java\n",
    "package headfirst.command.undo;\n",
    "\n",
    "public class LightOnCommand implements Command {\n",
    "\tLight light;\n",
    "\tint level;\n",
    "\tpublic LightOnCommand(Light light) {\n",
    "\t\tthis.light = light;\n",
    "\t}\n",
    " \n",
    "\tpublic void execute() {\n",
    "        level = light.getLevel();\n",
    "\t\tlight.on();\n",
    "\t}\n",
    " \n",
    "\tpublic void undo() {\n",
    "\t\tlight.dim(level);\n",
    "\t}\n",
    "}\n"
   ]
  },
  {
   "cell_type": "code",
   "execution_count": null,
   "metadata": {
    "collapsed": true,
    "slideshow": {
     "slide_type": "slide"
    }
   },
   "outputs": [],
   "source": [
    "# %load ./src/headfirst/command/undo/LightOffCommand.java\n",
    "package headfirst.command.undo;\n",
    "\n",
    "public class LightOffCommand implements Command {\n",
    "\tLight light;\n",
    "\tint level;\n",
    "\tpublic LightOffCommand(Light light) {\n",
    "\t\tthis.light = light;\n",
    "\t}\n",
    " \n",
    "\tpublic void execute() {\n",
    "        level = light.getLevel();\n",
    "\t\tlight.off();\n",
    "\t}\n",
    " \n",
    "\tpublic void undo() {\n",
    "\t\tlight.dim(level);\n",
    "\t}\n",
    "}\n"
   ]
  },
  {
   "cell_type": "code",
   "execution_count": null,
   "metadata": {
    "collapsed": false,
    "slideshow": {
     "slide_type": "slide"
    }
   },
   "outputs": [],
   "source": [
    "# %load ./src/headfirst/command/undo/RemoteControlWithUndo.java\n",
    "package headfirst.command.undo;\n",
    "\n",
    "import java.util.*;\n",
    "\n",
    "public class RemoteControlWithUndo {\n",
    "\tCommand[] onCommands;\n",
    "\tCommand[] offCommands;\n",
    "\tCommand undoCommand;\n",
    " \n",
    "\tpublic RemoteControlWithUndo() {\n",
    "\t\tonCommands = new Command[7];\n",
    "\t\toffCommands = new Command[7];\n",
    " \n",
    "\t\tCommand noCommand = new NoCommand();\n",
    "\t\tfor(int i=0;i<7;i++) {\n",
    "\t\t\tonCommands[i] = noCommand;\n",
    "\t\t\toffCommands[i] = noCommand;\n",
    "\t\t}\n",
    "\t\tundoCommand = noCommand;\n",
    "\t}\n",
    "  \n",
    "\tpublic void setCommand(int slot, Command onCommand, Command offCommand) {\n",
    "\t\tonCommands[slot] = onCommand;\n",
    "\t\toffCommands[slot] = offCommand;\n",
    "\t}\n",
    " \n",
    "\tpublic void onButtonWasPushed(int slot) {\n",
    "\t\tonCommands[slot].execute();\n",
    "\t\tundoCommand = onCommands[slot];\n",
    "\t}\n",
    " \n",
    "\tpublic void offButtonWasPushed(int slot) {\n",
    "\t\toffCommands[slot].execute();\n",
    "\t\tundoCommand = offCommands[slot];\n",
    "\t}\n",
    " \n",
    "\tpublic void undoButtonWasPushed() {\n",
    "\t\tundoCommand.undo();\n",
    "\t}\n",
    "  \n",
    "\tpublic String toString() {\n",
    "\t\tStringBuffer stringBuff = new StringBuffer();\n",
    "\t\tstringBuff.append(\"\\n------ Remote Control -------\\n\");\n",
    "\t\tfor (int i = 0; i < onCommands.length; i++) {\n",
    "\t\t\tstringBuff.append(\"[slot \" + i + \"] \" + onCommands[i].getClass().getName()\n",
    "\t\t\t\t+ \"    \" + offCommands[i].getClass().getName() + \"\\n\");\n",
    "\t\t}\n",
    "\t\tstringBuff.append(\"[undo] \" + undoCommand.getClass().getName() + \"\\n\");\n",
    "\t\treturn stringBuff.toString();\n",
    "\t}\n",
    "}\n"
   ]
  },
  {
   "cell_type": "code",
   "execution_count": null,
   "metadata": {
    "collapsed": true,
    "slideshow": {
     "slide_type": "slide"
    }
   },
   "outputs": [],
   "source": [
    "# %load ./src/headfirst/command/undo/RemoteLoader.java\n",
    "package headfirst.command.undo;\n",
    "\n",
    "public class RemoteLoader {\n",
    " \n",
    "\tpublic static void main(String[] args) {\n",
    "\t\tRemoteControlWithUndo remoteControl = new RemoteControlWithUndo();\n",
    " \n",
    "\t\tLight livingRoomLight = new Light(\"Living Room\");\n",
    "\n",
    "\t\tLightOnCommand livingRoomLightOn = new LightOnCommand(livingRoomLight);\n",
    "\t\tLightOffCommand livingRoomLightOff = new LightOffCommand(livingRoomLight);\n",
    "\n",
    "\t\tremoteControl.setCommand(0, livingRoomLightOn, livingRoomLightOff);\n",
    " \n",
    "\t\tremoteControl.onButtonWasPushed(0);\n",
    "\t\tremoteControl.offButtonWasPushed(0);\n",
    "\t\tSystem.out.println(remoteControl);\n",
    "\t\tremoteControl.undoButtonWasPushed();\n",
    "\t\tremoteControl.offButtonWasPushed(0);\n",
    "\t\tremoteControl.onButtonWasPushed(0);\n",
    "\t\tSystem.out.println(remoteControl);\n",
    "\t\tremoteControl.undoButtonWasPushed();\n",
    "\t}\n",
    "}\n"
   ]
  },
  {
   "cell_type": "code",
   "execution_count": 38,
   "metadata": {
    "collapsed": false,
    "slideshow": {
     "slide_type": "slide"
    }
   },
   "outputs": [
    {
     "name": "stdout",
     "output_type": "stream",
     "text": [
      "Light is on\r\n",
      "Light is off\r\n",
      "\r\n",
      "------ Remote Control -------\r\n",
      "[slot 0] headfirst.command.undo.LightOnCommand    headfirst.command.undo.LightOffCommand\r\n",
      "[slot 1] headfirst.command.undo.NoCommand    headfirst.command.undo.NoCommand\r\n",
      "[slot 2] headfirst.command.undo.NoCommand    headfirst.command.undo.NoCommand\r\n",
      "[slot 3] headfirst.command.undo.NoCommand    headfirst.command.undo.NoCommand\r\n",
      "[slot 4] headfirst.command.undo.NoCommand    headfirst.command.undo.NoCommand\r\n",
      "[slot 5] headfirst.command.undo.NoCommand    headfirst.command.undo.NoCommand\r\n",
      "[slot 6] headfirst.command.undo.NoCommand    headfirst.command.undo.NoCommand\r\n",
      "[undo] headfirst.command.undo.LightOffCommand\r\n",
      "\r\n",
      "Light is dimmed to 100%\r\n",
      "Light is off\r\n",
      "Light is on\r\n",
      "\r\n",
      "------ Remote Control -------\r\n",
      "[slot 0] headfirst.command.undo.LightOnCommand    headfirst.command.undo.LightOffCommand\r\n",
      "[slot 1] headfirst.command.undo.NoCommand    headfirst.command.undo.NoCommand\r\n",
      "[slot 2] headfirst.command.undo.NoCommand    headfirst.command.undo.NoCommand\r\n",
      "[slot 3] headfirst.command.undo.NoCommand    headfirst.command.undo.NoCommand\r\n",
      "[slot 4] headfirst.command.undo.NoCommand    headfirst.command.undo.NoCommand\r\n",
      "[slot 5] headfirst.command.undo.NoCommand    headfirst.command.undo.NoCommand\r\n",
      "[slot 6] headfirst.command.undo.NoCommand    headfirst.command.undo.NoCommand\r\n",
      "[undo] headfirst.command.undo.LightOnCommand\r\n",
      "\r\n",
      "Light is off\r\n"
     ]
    }
   ],
   "source": [
    "!javac -d classes/ -sourcepath src/ src/headfirst/command/undo/*.java\n",
    "!java -cp classes/ headfirst.command.undo.RemoteLoader"
   ]
  },
  {
   "cell_type": "markdown",
   "metadata": {
    "slideshow": {
     "slide_type": "slide"
    }
   },
   "source": [
    "## 6.3 Party\n",
    "\n",
    "* 많은 기기\n",
    "* macro"
   ]
  },
  {
   "cell_type": "code",
   "execution_count": 94,
   "metadata": {
    "collapsed": false,
    "slideshow": {
     "slide_type": "slide"
    }
   },
   "outputs": [
    {
     "data": {
      "image/svg+xml": [
       "<svg height=\"535px\" style=\"width:1342px;height:535px;\" version=\"1.1\" viewBox=\"0 0 1342 535\" width=\"1342px\" xmlns=\"http://www.w3.org/2000/svg\" xmlns:xlink=\"http://www.w3.org/1999/xlink\"><defs><filter height=\"300%\" id=\"f1\" width=\"300%\" x=\"-1\" y=\"-1\"><feGaussianBlur result=\"blurOut\" stdDeviation=\"2.0\"/><feColorMatrix in=\"blurOut\" result=\"blurOut2\" type=\"matrix\" values=\"0 0 0 0 0 0 0 0 0 0 0 0 0 0 0 0 0 0 .4 0\"/><feOffset dx=\"4.0\" dy=\"4.0\" in=\"blurOut2\" result=\"blurOut3\"/><feBlend in=\"SourceGraphic\" in2=\"blurOut3\" mode=\"normal\"/></filter></defs><g><line style=\"stroke: #A80036; stroke-width: 1.0;\" x1=\"37\" x2=\"37\" y1=\"38.4883\" y2=\"253.6621\"/><line style=\"stroke: #A80036; stroke-width: 1.0; stroke-dasharray: 1.0,4.0;\" x1=\"37\" x2=\"37\" y1=\"253.6621\" y2=\"281.6621\"/><line style=\"stroke: #A80036; stroke-width: 1.0;\" x1=\"37\" x2=\"37\" y1=\"281.6621\" y2=\"496.8359\"/><line style=\"stroke: #A80036; stroke-width: 1.0;\" x1=\"346\" x2=\"346\" y1=\"38.4883\" y2=\"253.6621\"/><line style=\"stroke: #A80036; stroke-width: 1.0; stroke-dasharray: 1.0,4.0;\" x1=\"346\" x2=\"346\" y1=\"253.6621\" y2=\"281.6621\"/><line style=\"stroke: #A80036; stroke-width: 1.0;\" x1=\"346\" x2=\"346\" y1=\"281.6621\" y2=\"496.8359\"/><line style=\"stroke: #A80036; stroke-width: 1.0;\" x1=\"443\" x2=\"443\" y1=\"38.4883\" y2=\"253.6621\"/><line style=\"stroke: #A80036; stroke-width: 1.0; stroke-dasharray: 1.0,4.0;\" x1=\"443\" x2=\"443\" y1=\"253.6621\" y2=\"281.6621\"/><line style=\"stroke: #A80036; stroke-width: 1.0;\" x1=\"443\" x2=\"443\" y1=\"281.6621\" y2=\"496.8359\"/><line style=\"stroke: #A80036; stroke-width: 1.0;\" x1=\"497\" x2=\"497\" y1=\"38.4883\" y2=\"253.6621\"/><line style=\"stroke: #A80036; stroke-width: 1.0; stroke-dasharray: 1.0,4.0;\" x1=\"497\" x2=\"497\" y1=\"253.6621\" y2=\"281.6621\"/><line style=\"stroke: #A80036; stroke-width: 1.0;\" x1=\"497\" x2=\"497\" y1=\"281.6621\" y2=\"496.8359\"/><line style=\"stroke: #A80036; stroke-width: 1.0;\" x1=\"596\" x2=\"596\" y1=\"38.4883\" y2=\"253.6621\"/><line style=\"stroke: #A80036; stroke-width: 1.0; stroke-dasharray: 1.0,4.0;\" x1=\"596\" x2=\"596\" y1=\"253.6621\" y2=\"281.6621\"/><line style=\"stroke: #A80036; stroke-width: 1.0;\" x1=\"596\" x2=\"596\" y1=\"281.6621\" y2=\"496.8359\"/><line style=\"stroke: #A80036; stroke-width: 1.0;\" x1=\"750\" x2=\"750\" y1=\"38.4883\" y2=\"253.6621\"/><line style=\"stroke: #A80036; stroke-width: 1.0; stroke-dasharray: 1.0,4.0;\" x1=\"750\" x2=\"750\" y1=\"253.6621\" y2=\"281.6621\"/><line style=\"stroke: #A80036; stroke-width: 1.0;\" x1=\"750\" x2=\"750\" y1=\"281.6621\" y2=\"496.8359\"/><line style=\"stroke: #A80036; stroke-width: 1.0;\" x1=\"895\" x2=\"895\" y1=\"38.4883\" y2=\"253.6621\"/><line style=\"stroke: #A80036; stroke-width: 1.0; stroke-dasharray: 1.0,4.0;\" x1=\"895\" x2=\"895\" y1=\"253.6621\" y2=\"281.6621\"/><line style=\"stroke: #A80036; stroke-width: 1.0;\" x1=\"895\" x2=\"895\" y1=\"281.6621\" y2=\"496.8359\"/><line style=\"stroke: #A80036; stroke-width: 1.0;\" x1=\"1033\" x2=\"1033\" y1=\"38.4883\" y2=\"253.6621\"/><line style=\"stroke: #A80036; stroke-width: 1.0; stroke-dasharray: 1.0,4.0;\" x1=\"1033\" x2=\"1033\" y1=\"253.6621\" y2=\"281.6621\"/><line style=\"stroke: #A80036; stroke-width: 1.0;\" x1=\"1033\" x2=\"1033\" y1=\"281.6621\" y2=\"496.8359\"/><line style=\"stroke: #A80036; stroke-width: 1.0;\" x1=\"1151\" x2=\"1151\" y1=\"38.4883\" y2=\"253.6621\"/><line style=\"stroke: #A80036; stroke-width: 1.0; stroke-dasharray: 1.0,4.0;\" x1=\"1151\" x2=\"1151\" y1=\"253.6621\" y2=\"281.6621\"/><line style=\"stroke: #A80036; stroke-width: 1.0;\" x1=\"1151\" x2=\"1151\" y1=\"281.6621\" y2=\"496.8359\"/><line style=\"stroke: #A80036; stroke-width: 1.0;\" x1=\"1271\" x2=\"1271\" y1=\"38.4883\" y2=\"253.6621\"/><line style=\"stroke: #A80036; stroke-width: 1.0; stroke-dasharray: 1.0,4.0;\" x1=\"1271\" x2=\"1271\" y1=\"253.6621\" y2=\"281.6621\"/><line style=\"stroke: #A80036; stroke-width: 1.0;\" x1=\"1271\" x2=\"1271\" y1=\"281.6621\" y2=\"496.8359\"/><rect fill=\"#FEFECE\" filter=\"url(#f1)\" height=\"30.4883\" style=\"stroke: #A80036; stroke-width: 1.5;\" width=\"54\" x=\"8\" y=\"3\"/><text fill=\"#000000\" font-family=\"sans-serif\" font-size=\"14\" lengthAdjust=\"spacingAndGlyphs\" textLength=\"40\" x=\"15\" y=\"23.5352\">Client</text><rect fill=\"#FEFECE\" filter=\"url(#f1)\" height=\"30.4883\" style=\"stroke: #A80036; stroke-width: 1.5;\" width=\"54\" x=\"8\" y=\"495.8359\"/><text fill=\"#000000\" font-family=\"sans-serif\" font-size=\"14\" lengthAdjust=\"spacingAndGlyphs\" textLength=\"40\" x=\"15\" y=\"516.3711\">Client</text><rect fill=\"#FEFECE\" filter=\"url(#f1)\" height=\"30.4883\" style=\"stroke: #A80036; stroke-width: 1.5;\" width=\"118\" x=\"285\" y=\"3\"/><text fill=\"#000000\" font-family=\"sans-serif\" font-size=\"14\" lengthAdjust=\"spacingAndGlyphs\" textLength=\"104\" x=\"292\" y=\"23.5352\">RemoteControl</text><rect fill=\"#FEFECE\" filter=\"url(#f1)\" height=\"30.4883\" style=\"stroke: #A80036; stroke-width: 1.5;\" width=\"118\" x=\"285\" y=\"495.8359\"/><text fill=\"#000000\" font-family=\"sans-serif\" font-size=\"14\" lengthAdjust=\"spacingAndGlyphs\" textLength=\"104\" x=\"292\" y=\"516.3711\">RemoteControl</text><rect fill=\"#FEFECE\" filter=\"url(#f1)\" height=\"30.4883\" style=\"stroke: #A80036; stroke-width: 1.5;\" width=\"48\" x=\"417\" y=\"3\"/><text fill=\"#000000\" font-family=\"sans-serif\" font-size=\"14\" lengthAdjust=\"spacingAndGlyphs\" textLength=\"34\" x=\"424\" y=\"23.5352\">Light</text><rect fill=\"#FEFECE\" filter=\"url(#f1)\" height=\"30.4883\" style=\"stroke: #A80036; stroke-width: 1.5;\" width=\"48\" x=\"417\" y=\"495.8359\"/><text fill=\"#000000\" font-family=\"sans-serif\" font-size=\"14\" lengthAdjust=\"spacingAndGlyphs\" textLength=\"34\" x=\"424\" y=\"516.3711\">Light</text><rect fill=\"#FEFECE\" filter=\"url(#f1)\" height=\"30.4883\" style=\"stroke: #A80036; stroke-width: 1.5;\" width=\"32\" x=\"479\" y=\"3\"/><text fill=\"#000000\" font-family=\"sans-serif\" font-size=\"14\" lengthAdjust=\"spacingAndGlyphs\" textLength=\"18\" x=\"486\" y=\"23.5352\">TV</text><rect fill=\"#FEFECE\" filter=\"url(#f1)\" height=\"30.4883\" style=\"stroke: #A80036; stroke-width: 1.5;\" width=\"32\" x=\"479\" y=\"495.8359\"/><text fill=\"#000000\" font-family=\"sans-serif\" font-size=\"14\" lengthAdjust=\"spacingAndGlyphs\" textLength=\"18\" x=\"486\" y=\"516.3711\">TV</text><rect fill=\"#FEFECE\" filter=\"url(#f1)\" height=\"30.4883\" style=\"stroke: #A80036; stroke-width: 1.5;\" width=\"139\" x=\"525\" y=\"3\"/><text fill=\"#000000\" font-family=\"sans-serif\" font-size=\"14\" lengthAdjust=\"spacingAndGlyphs\" textLength=\"125\" x=\"532\" y=\"23.5352\">LightOnCommand</text><rect fill=\"#FEFECE\" filter=\"url(#f1)\" height=\"30.4883\" style=\"stroke: #A80036; stroke-width: 1.5;\" width=\"139\" x=\"525\" y=\"495.8359\"/><text fill=\"#000000\" font-family=\"sans-serif\" font-size=\"14\" lengthAdjust=\"spacingAndGlyphs\" textLength=\"125\" x=\"532\" y=\"516.3711\">LightOnCommand</text><rect fill=\"#FEFECE\" filter=\"url(#f1)\" height=\"30.4883\" style=\"stroke: #A80036; stroke-width: 1.5;\" width=\"140\" x=\"678\" y=\"3\"/><text fill=\"#000000\" font-family=\"sans-serif\" font-size=\"14\" lengthAdjust=\"spacingAndGlyphs\" textLength=\"126\" x=\"685\" y=\"23.5352\">LightOffCommand</text><rect fill=\"#FEFECE\" filter=\"url(#f1)\" height=\"30.4883\" style=\"stroke: #A80036; stroke-width: 1.5;\" width=\"140\" x=\"678\" y=\"495.8359\"/><text fill=\"#000000\" font-family=\"sans-serif\" font-size=\"14\" lengthAdjust=\"spacingAndGlyphs\" textLength=\"126\" x=\"685\" y=\"516.3711\">LightOffCommand</text><rect fill=\"#FEFECE\" filter=\"url(#f1)\" height=\"30.4883\" style=\"stroke: #A80036; stroke-width: 1.5;\" width=\"123\" x=\"832\" y=\"3\"/><text fill=\"#000000\" font-family=\"sans-serif\" font-size=\"14\" lengthAdjust=\"spacingAndGlyphs\" textLength=\"109\" x=\"839\" y=\"23.5352\">TVOnCommand</text><rect fill=\"#FEFECE\" filter=\"url(#f1)\" height=\"30.4883\" style=\"stroke: #A80036; stroke-width: 1.5;\" width=\"123\" x=\"832\" y=\"495.8359\"/><text fill=\"#000000\" font-family=\"sans-serif\" font-size=\"14\" lengthAdjust=\"spacingAndGlyphs\" textLength=\"109\" x=\"839\" y=\"516.3711\">TVOnCommand</text><rect fill=\"#FEFECE\" filter=\"url(#f1)\" height=\"30.4883\" style=\"stroke: #A80036; stroke-width: 1.5;\" width=\"124\" x=\"969\" y=\"3\"/><text fill=\"#000000\" font-family=\"sans-serif\" font-size=\"14\" lengthAdjust=\"spacingAndGlyphs\" textLength=\"110\" x=\"976\" y=\"23.5352\">TVOffCommand</text><rect fill=\"#FEFECE\" filter=\"url(#f1)\" height=\"30.4883\" style=\"stroke: #A80036; stroke-width: 1.5;\" width=\"124\" x=\"969\" y=\"495.8359\"/><text fill=\"#000000\" font-family=\"sans-serif\" font-size=\"14\" lengthAdjust=\"spacingAndGlyphs\" textLength=\"110\" x=\"976\" y=\"516.3711\">TVOffCommand</text><rect fill=\"#FEFECE\" filter=\"url(#f1)\" height=\"30.4883\" style=\"stroke: #A80036; stroke-width: 1.5;\" width=\"85\" x=\"1107\" y=\"3\"/><text fill=\"#000000\" font-family=\"sans-serif\" font-size=\"14\" lengthAdjust=\"spacingAndGlyphs\" textLength=\"71\" x=\"1114\" y=\"23.5352\">Command</text><rect fill=\"#FEFECE\" filter=\"url(#f1)\" height=\"30.4883\" style=\"stroke: #A80036; stroke-width: 1.5;\" width=\"85\" x=\"1107\" y=\"495.8359\"/><text fill=\"#000000\" font-family=\"sans-serif\" font-size=\"14\" lengthAdjust=\"spacingAndGlyphs\" textLength=\"71\" x=\"1114\" y=\"516.3711\">Command</text><rect fill=\"#FEFECE\" filter=\"url(#f1)\" height=\"30.4883\" style=\"stroke: #A80036; stroke-width: 1.5;\" width=\"127\" x=\"1206\" y=\"3\"/><text fill=\"#000000\" font-family=\"sans-serif\" font-size=\"14\" lengthAdjust=\"spacingAndGlyphs\" textLength=\"113\" x=\"1213\" y=\"23.5352\">MacroCommand</text><rect fill=\"#FEFECE\" filter=\"url(#f1)\" height=\"30.4883\" style=\"stroke: #A80036; stroke-width: 1.5;\" width=\"127\" x=\"1206\" y=\"495.8359\"/><text fill=\"#000000\" font-family=\"sans-serif\" font-size=\"14\" lengthAdjust=\"spacingAndGlyphs\" textLength=\"113\" x=\"1213\" y=\"516.3711\">MacroCommand</text><polygon fill=\"#A80036\" points=\"334,65.4883,344,69.4883,334,73.4883,338,69.4883\" style=\"stroke: #A80036; stroke-width: 1.0;\"/><line style=\"stroke: #A80036; stroke-width: 1.0;\" x1=\"37\" x2=\"340\" y1=\"69.4883\" y2=\"69.4883\"/><text fill=\"#000000\" font-family=\"sans-serif\" font-size=\"13\" lengthAdjust=\"spacingAndGlyphs\" textLength=\"87\" x=\"44\" y=\"65.0566\">remote=new()</text><polygon fill=\"#A80036\" points=\"431,94.7988,441,98.7988,431,102.7988,435,98.7988\" style=\"stroke: #A80036; stroke-width: 1.0;\"/><line style=\"stroke: #A80036; stroke-width: 1.0;\" x1=\"37\" x2=\"437\" y1=\"98.7988\" y2=\"98.7988\"/><text fill=\"#000000\" font-family=\"sans-serif\" font-size=\"13\" lengthAdjust=\"spacingAndGlyphs\" textLength=\"72\" x=\"44\" y=\"94.3672\">light=new()</text><polygon fill=\"#A80036\" points=\"485,124.1094,495,128.1094,485,132.1094,489,128.1094\" style=\"stroke: #A80036; stroke-width: 1.0;\"/><line style=\"stroke: #A80036; stroke-width: 1.0;\" x1=\"37\" x2=\"491\" y1=\"128.1094\" y2=\"128.1094\"/><text fill=\"#000000\" font-family=\"sans-serif\" font-size=\"13\" lengthAdjust=\"spacingAndGlyphs\" textLength=\"55\" x=\"44\" y=\"123.6777\">tv=new()</text><polygon fill=\"#A80036\" points=\"584.5,153.4199,594.5,157.4199,584.5,161.4199,588.5,157.4199\" style=\"stroke: #A80036; stroke-width: 1.0;\"/><line style=\"stroke: #A80036; stroke-width: 1.0;\" x1=\"37\" x2=\"590.5\" y1=\"157.4199\" y2=\"157.4199\"/><text fill=\"#000000\" font-family=\"sans-serif\" font-size=\"13\" lengthAdjust=\"spacingAndGlyphs\" textLength=\"119\" x=\"44\" y=\"152.9883\">lightOn=new(light)</text><polygon fill=\"#A80036\" points=\"738,182.7305,748,186.7305,738,190.7305,742,186.7305\" style=\"stroke: #A80036; stroke-width: 1.0;\"/><line style=\"stroke: #A80036; stroke-width: 1.0;\" x1=\"37\" x2=\"744\" y1=\"186.7305\" y2=\"186.7305\"/><text fill=\"#000000\" font-family=\"sans-serif\" font-size=\"13\" lengthAdjust=\"spacingAndGlyphs\" textLength=\"121\" x=\"44\" y=\"182.2988\">lightOff=new(light)</text><polygon fill=\"#A80036\" points=\"883.5,212.041,893.5,216.041,883.5,220.041,887.5,216.041\" style=\"stroke: #A80036; stroke-width: 1.0;\"/><line style=\"stroke: #A80036; stroke-width: 1.0;\" x1=\"37\" x2=\"889.5\" y1=\"216.041\" y2=\"216.041\"/><text fill=\"#000000\" font-family=\"sans-serif\" font-size=\"13\" lengthAdjust=\"spacingAndGlyphs\" textLength=\"85\" x=\"44\" y=\"211.6094\">tvOn=new(tv)</text><polygon fill=\"#A80036\" points=\"1021,241.3516,1031,245.3516,1021,249.3516,1025,245.3516\" style=\"stroke: #A80036; stroke-width: 1.0;\"/><line style=\"stroke: #A80036; stroke-width: 1.0;\" x1=\"37\" x2=\"1027\" y1=\"245.3516\" y2=\"245.3516\"/><text fill=\"#000000\" font-family=\"sans-serif\" font-size=\"13\" lengthAdjust=\"spacingAndGlyphs\" textLength=\"87\" x=\"44\" y=\"240.9199\">tvOff=new(tv)</text><polygon fill=\"#A80036\" points=\"1139.5,298.6621,1149.5,302.6621,1139.5,306.6621,1143.5,302.6621\" style=\"stroke: #A80036; stroke-width: 1.0;\"/><line style=\"stroke: #A80036; stroke-width: 1.0;\" x1=\"37\" x2=\"1145.5\" y1=\"302.6621\" y2=\"302.6621\"/><text fill=\"#000000\" font-family=\"sans-serif\" font-size=\"13\" lengthAdjust=\"spacingAndGlyphs\" textLength=\"157\" x=\"44\" y=\"298.2305\">partyOn[]={lightOn,tvOn}</text><polygon fill=\"#A80036\" points=\"1139.5,327.9727,1149.5,331.9727,1139.5,335.9727,1143.5,331.9727\" style=\"stroke: #A80036; stroke-width: 1.0;\"/><line style=\"stroke: #A80036; stroke-width: 1.0;\" x1=\"37\" x2=\"1145.5\" y1=\"331.9727\" y2=\"331.9727\"/><text fill=\"#000000\" font-family=\"sans-serif\" font-size=\"13\" lengthAdjust=\"spacingAndGlyphs\" textLength=\"163\" x=\"44\" y=\"327.541\">partyOff[]={lightOff,tvOff}</text><polygon fill=\"#A80036\" points=\"1259.5,357.2832,1269.5,361.2832,1259.5,365.2832,1263.5,361.2832\" style=\"stroke: #A80036; stroke-width: 1.0;\"/><line style=\"stroke: #A80036; stroke-width: 1.0;\" x1=\"37\" x2=\"1265.5\" y1=\"361.2832\" y2=\"361.2832\"/><text fill=\"#000000\" font-family=\"sans-serif\" font-size=\"13\" lengthAdjust=\"spacingAndGlyphs\" textLength=\"223\" x=\"44\" y=\"356.8516\">partyOnMacro=new Macro(partyOn)</text><polygon fill=\"#A80036\" points=\"1259.5,386.5938,1269.5,390.5938,1259.5,394.5938,1263.5,390.5938\" style=\"stroke: #A80036; stroke-width: 1.0;\"/><line style=\"stroke: #A80036; stroke-width: 1.0;\" x1=\"37\" x2=\"1265.5\" y1=\"390.5938\" y2=\"390.5938\"/><text fill=\"#000000\" font-family=\"sans-serif\" font-size=\"13\" lengthAdjust=\"spacingAndGlyphs\" textLength=\"227\" x=\"44\" y=\"386.1621\">partyOffMacro=new Macro(partyOff)</text><polygon fill=\"#A80036\" points=\"334,415.9043,344,419.9043,334,423.9043,338,419.9043\" style=\"stroke: #A80036; stroke-width: 1.0;\"/><line style=\"stroke: #A80036; stroke-width: 1.0;\" x1=\"37\" x2=\"340\" y1=\"419.9043\" y2=\"419.9043\"/><text fill=\"#000000\" font-family=\"sans-serif\" font-size=\"13\" lengthAdjust=\"spacingAndGlyphs\" textLength=\"285\" x=\"44\" y=\"415.4727\">setCommand(0,partyOnMacro,partyOffMacro)</text><polygon fill=\"#A80036\" points=\"334,445.2148,344,449.2148,334,453.2148,338,449.2148\" style=\"stroke: #A80036; stroke-width: 1.0;\"/><line style=\"stroke: #A80036; stroke-width: 1.0;\" x1=\"37\" x2=\"340\" y1=\"449.2148\" y2=\"449.2148\"/><text fill=\"#000000\" font-family=\"sans-serif\" font-size=\"13\" lengthAdjust=\"spacingAndGlyphs\" textLength=\"143\" x=\"44\" y=\"444.7832\">onButtonWasPushed(0)</text><polygon fill=\"#A80036\" points=\"334,474.5254,344,478.5254,334,482.5254,338,478.5254\" style=\"stroke: #A80036; stroke-width: 1.0;\"/><line style=\"stroke: #A80036; stroke-width: 1.0;\" x1=\"37\" x2=\"340\" y1=\"478.5254\" y2=\"478.5254\"/><text fill=\"#000000\" font-family=\"sans-serif\" font-size=\"13\" lengthAdjust=\"spacingAndGlyphs\" textLength=\"145\" x=\"44\" y=\"474.0938\">offButtonWasPushed(0)</text></g></svg>"
      ],
      "text/plain": [
       "<IPython.core.display.SVG object>"
      ]
     },
     "execution_count": 94,
     "metadata": {},
     "output_type": "execute_result"
    }
   ],
   "source": [
    "%%plantuml\n",
    "@startuml\n",
    "Client -> RemoteControl:remote=new()\n",
    "Client -> Light:light=new()\n",
    "Client -> TV:tv=new()\n",
    "Client -> LightOnCommand:lightOn=new(light)\n",
    "Client -> LightOffCommand:lightOff=new(light)\n",
    "Client -> TVOnCommand:tvOn=new(tv)\n",
    "Client -> TVOffCommand:tvOff=new(tv)\n",
    "    ...\n",
    "Client -> Command:partyOn[]={lightOn,tvOn}\n",
    "Client -> Command:partyOff[]={lightOff,tvOff}\n",
    "Client -> MacroCommand:partyOnMacro=new Macro(partyOn)\n",
    "Client -> MacroCommand:partyOffMacro=new Macro(partyOff)\n",
    "Client -> RemoteControl:setCommand(0,partyOnMacro,partyOffMacro)\n",
    "Client -> RemoteControl:onButtonWasPushed(0)\n",
    "Client -> RemoteControl:offButtonWasPushed(0)\n",
    "@enduml"
   ]
  },
  {
   "cell_type": "code",
   "execution_count": null,
   "metadata": {
    "collapsed": true,
    "slideshow": {
     "slide_type": "slide"
    }
   },
   "outputs": [],
   "source": [
    "# %load ./src/headfirst/command/party/RemoteLoader.java\n",
    "package headfirst.command.party;\n",
    "\n",
    "public class RemoteLoader {\n",
    "\n",
    "\tpublic static void main(String[] args) {\n",
    "\n",
    "\t\tRemoteControl remoteControl = new RemoteControl();\n",
    "\n",
    "\t\tLight light = new Light(\"Living Room\");\n",
    "\t\tTV tv = new TV(\"Living Room\");\n",
    "\t\tStereo stereo = new Stereo(\"Living Room\");\n",
    "\t\tHottub hottub = new Hottub();\n",
    " \n",
    "\t\tLightOnCommand lightOn = new LightOnCommand(light);\n",
    "\t\tStereoOnCommand stereoOn = new StereoOnCommand(stereo);\n",
    "\t\tTVOnCommand tvOn = new TVOnCommand(tv);\n",
    "\t\tHottubOnCommand hottubOn = new HottubOnCommand(hottub);\n",
    "\t\tLightOffCommand lightOff = new LightOffCommand(light);\n",
    "\t\tStereoOffCommand stereoOff = new StereoOffCommand(stereo);\n",
    "\t\tTVOffCommand tvOff = new TVOffCommand(tv);\n",
    "\t\tHottubOffCommand hottubOff = new HottubOffCommand(hottub);\n",
    "\n",
    "\t\tCommand[] partyOn = { lightOn, stereoOn, tvOn, hottubOn};\n",
    "\t\tCommand[] partyOff = { lightOff, stereoOff, tvOff, hottubOff};\n",
    "  \n",
    "\t\tMacroCommand partyOnMacro = new MacroCommand(partyOn);\n",
    "\t\tMacroCommand partyOffMacro = new MacroCommand(partyOff);\n",
    " \n",
    "\t\tremoteControl.setCommand(0, partyOnMacro, partyOffMacro);\n",
    "  \n",
    "\t\tSystem.out.println(remoteControl);\n",
    "\t\tSystem.out.println(\"--- Pushing Macro On---\");\n",
    "\t\tremoteControl.onButtonWasPushed(0);\n",
    "\t\tSystem.out.println(\"--- Pushing Macro Off---\");\n",
    "\t\tremoteControl.offButtonWasPushed(0);\n",
    "\t}\n",
    "}\n"
   ]
  },
  {
   "cell_type": "code",
   "execution_count": 91,
   "metadata": {
    "collapsed": false,
    "slideshow": {
     "slide_type": "slide"
    }
   },
   "outputs": [
    {
     "name": "stdout",
     "output_type": "stream",
     "text": [
      "\r\n",
      "------ Remote Control -------\r\n",
      "[slot 0] headfirst.command.party.MacroCommand    headfirst.command.party.MacroCommand\r\n",
      "[slot 1] headfirst.command.party.NoCommand    headfirst.command.party.NoCommand\r\n",
      "[slot 2] headfirst.command.party.NoCommand    headfirst.command.party.NoCommand\r\n",
      "[slot 3] headfirst.command.party.NoCommand    headfirst.command.party.NoCommand\r\n",
      "[slot 4] headfirst.command.party.NoCommand    headfirst.command.party.NoCommand\r\n",
      "[slot 5] headfirst.command.party.NoCommand    headfirst.command.party.NoCommand\r\n",
      "[slot 6] headfirst.command.party.NoCommand    headfirst.command.party.NoCommand\r\n",
      "[undo] headfirst.command.party.NoCommand\r\n",
      "\r\n",
      "--- Pushing Macro On---\r\n",
      "Light is on\r\n",
      "Living Room stereo is on\r\n",
      "Living Room TV is on\r\n",
      "Living Room TV channel is set for DVD\r\n",
      "Hottub is heating to a steaming 104 degrees\r\n",
      "Hottub is bubbling!\r\n",
      "--- Pushing Macro Off---\r\n",
      "Light is off\r\n",
      "Living Room stereo is off\r\n",
      "Living Room TV is off\r\n",
      "Hottub is cooling to 98 degrees\r\n"
     ]
    }
   ],
   "source": [
    "!javac -d classes/ -sourcepath src/ src/headfirst/command/party/*.java\n",
    "!java -cp classes/ headfirst.command.party.RemoteLoader"
   ]
  }
 ],
 "metadata": {
  "celltoolbar": "Slideshow",
  "kernelspec": {
   "display_name": "Python 2",
   "language": "python",
   "name": "python2"
  },
  "language_info": {
   "codemirror_mode": {
    "name": "ipython",
    "version": 2
   },
   "file_extension": ".py",
   "mimetype": "text/x-python",
   "name": "python",
   "nbconvert_exporter": "python",
   "pygments_lexer": "ipython2",
   "version": "2.7.12"
  }
 },
 "nbformat": 4,
 "nbformat_minor": 0
}
