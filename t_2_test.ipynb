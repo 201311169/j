{
 "cells": [
  {
   "cell_type": "markdown",
   "metadata": {},
   "source": [
    "# 테스트\n",
    "\n",
    "## T.1 학습내용\n",
    "\n",
    "### T.1.1 목표\n",
    "\n",
    "* 테스트케이스를 만들 수 있다.\n",
    "* 테스트기반프로그래밍을 할 수 있다.\n",
    "\n",
    "### T.1.2 문제\n",
    "\n",
    "### T.1.3 목차\n",
    "\n",
    "* 테스트 케이스\n",
    "* junit\n",
    "    * annotations\n",
    "    * assertion 함수\n",
    "    * 단순한 테스트 해보기\n",
    "    * Run command line\n",
    "    * test suite\n",
    "* hamcrest\n",
    "* mock\n",
    "* JaCoCo\n"
   ]
  },
  {
   "cell_type": "markdown",
   "metadata": {},
   "source": [
    "## T.2 테스트 케이스\n",
    "\n",
    "* 테스트는 시스템의 품질을 보증하기 위해 사용된다.\n",
    "    * code quality - defect rate\n",
    "* test case\n",
    "    * SUT (System Under Test)에 대해 특정 실행조건에서 입력을 주는 경우 기대되는 결과\n",
    "    * 성공하거나 실패할 수 있다.\n",
    "* 이름\n",
    "    * given when then naming\n",
    "    * movablewhenInsideThenMove\n",
    "* xunit framework\n",
    "    * junit, nUnit, CppTest, qUnit\n",
    "* types\n",
    "    * unit\n",
    "    * integration\n",
    "\n",
    "* test double\n",
    "    * 완성된 소프트웨어로 가정하고 테스트하는 경우 (실제는 완전하지 않고 단순 버전), 그 가정한 대상을 말한다.\n",
    "release-intended counterparts, but are actually simplified versions that reduce the complexity and facilitate testing"
   ]
  },
  {
   "cell_type": "markdown",
   "metadata": {},
   "source": [
    "## T.3 JUnit\n",
    "\n",
    "### T.3.1 설치\n",
    "\n",
    "* 리눅스\n",
    "```\n",
    "sudo apt-get install junit junit-doc\n",
    "$JUNIT_HOME/junit.jar ($JUNIT_HOME=/usr/share/java in my case)\n",
    "```\n",
    "\n",
    "* 또는 download, unzip, JUNIT_HOME, CLASSPATH(junit.jar)"
   ]
  },
  {
   "cell_type": "markdown",
   "metadata": {},
   "source": [
    "### T.3.2 설정\n",
    "\n",
    "* directory structure\n",
    "    * paralle tree 프로젝트 아래 src, tree를 별도로 평행하게 구성\n",
    "    * classpath를 양쪽 모두 잡아주어야 한다는 단점\n",
    "\n",
    "```\n",
    "* com.my.project\n",
    "    * src/com/my/project/HelloWorld.java\n",
    "    * test/com/my/project/HelloWorldTest.java\n",
    "```"
   ]
  },
  {
   "cell_type": "markdown",
   "metadata": {},
   "source": [
    "### T.3.3 annotations\n",
    "\n",
    "구분 | 설명\n",
    "-----|-----\n",
    "@Test | 테스트케이스를 정의한다.\n",
    "@Before | 환경 설정. 테스트케이스마다 새로 실행 (e.g., read input data, initialize the class).\n",
    "@After | 환경 설정. 테스트케이스 끝나고 자원 해제 (e.g., delete temporary data, restore defaults).\n",
    "@BeforeClass | 한 번 실행. 모든 테스트케이스에 적용. static으로 정의. DB연결과 같이 매번 실행하려면 시간이 꽤 걸리는 작업.\n",
    "@AfterClass | Executed once, after all tests have been finished. It is used to perform clean-up activities, for example, to disconnect from a database. Methods annotated with this annotation need to be defined as static to work with JUnit.\n",
    "@Ignore or @Ignore(\"Why disabled\") | Marks that the test should be disabled. This is useful when the underlying code has been changed and the test case has not yet been adapted. Or if the execution time of this test is too long to be included. It is best practice to provide the optional description, why the test is disabled.\n",
    "@Test (expected = Exception.class) | 괄호의 예외를 발생.\n",
    "@Test(timeout=100) | Fails if the method takes longer than 100 milliseconds.\n"
   ]
  },
  {
   "cell_type": "markdown",
   "metadata": {},
   "source": [
    "* 실행순서\n",
    "\n",
    "* The afterClass() method executes only once.\n",
    "* The before() method executes for each test case, but before executing the test case.\n",
    "* The after() method executes for each test case, but after the execution of test case.\n",
    "* In between before() and after(), each test case executes."
   ]
  },
  {
   "cell_type": "markdown",
   "metadata": {},
   "source": [
    "@Rule\n",
    "\n",
    "* 각 test가 실행되기 전, 후 적용\n",
    "    * 예: timeout을 모든 테스트에 적용\n",
    "    * 외부 자원"
   ]
  },
  {
   "cell_type": "markdown",
   "metadata": {},
   "source": [
    "### T.3.4 assertion 함수\n",
    "\n",
    "* assertxxxx(...) 함수\n",
    "* 메시지, 기대값, 실제값\n",
    "\n",
    "assertion 함수 | 설명\n",
    "-----|-----\n",
    "assertEquals() | equals() 함수의 실행 결과\n",
    "assertNotEquals() | equals() 함수의 실행 결과\n",
    "assertArrayEquals() |  array의 비교. 순서까지.\n",
    "assertTrue() | true인지 테스트\n",
    "assertFalse() | false 테스트\n",
    "assertNull() | object is null\n",
    "assertNotNull() | object is not null.\n",
    "assertSame() | ==로 비교\n",
    "assertNotSame() | ==로 비교\n",
    "assertThat() | matchers로 비교"
   ]
  },
  {
   "cell_type": "markdown",
   "metadata": {},
   "source": [
    "### T.3.5 단순한 테스트 해보기"
   ]
  },
  {
   "cell_type": "code",
   "execution_count": 2,
   "metadata": {
    "collapsed": false,
    "scrolled": true
   },
   "outputs": [
    {
     "name": "stdout",
     "output_type": "stream",
     "text": [
      "Writing src/tdd/Book.java\n"
     ]
    }
   ],
   "source": [
    "%%writefile src/tdd/Book.java\n",
    "public class Book {\n",
    "    String title;\n",
    "    public void setTitle(String title) {\n",
    "        this.title=title;\n",
    "    }\n",
    "    public String getTitle() {\n",
    "        return this.title;\n",
    "    }\n",
    "}"
   ]
  },
  {
   "cell_type": "code",
   "execution_count": 10,
   "metadata": {
    "collapsed": false,
    "scrolled": false
   },
   "outputs": [
    {
     "name": "stdout",
     "output_type": "stream",
     "text": [
      "Writing src/tdd/BookTest.java\n"
     ]
    }
   ],
   "source": [
    "%%writefile src/tdd/BookTest.java\n",
    "import static org.junit.Assert.*;\n",
    "import org.junit.Before;\n",
    "import org.junit.Test;\n",
    "\n",
    "public class BookTest {\n",
    "    private Book b;\n",
    "    @Before\n",
    "    public void setUp() throws Exception {\n",
    "        b = new Book();\n",
    "        b.setTitle(\"java 1\");\n",
    "    }\n",
    "    @Test\n",
    "    public void testBookTitle() {\n",
    "        b.setTitle(\"java 1\");\n",
    "        assertEquals(b.getTitle(),\"java 1\");\n",
    "    }\n",
    "}\n"
   ]
  },
  {
   "cell_type": "markdown",
   "metadata": {},
   "source": [
    "### T.3.6 Run command line\n",
    "\n",
    "* JUnitCore를 사용한다.\n",
    "    * junit.jar, test파일, class파일 모두 classpath로 잡아준다."
   ]
  },
  {
   "cell_type": "code",
   "execution_count": 11,
   "metadata": {
    "collapsed": false
   },
   "outputs": [],
   "source": [
    "!javac -cp /usr/share/java/junit4.jar src/tdd/Book.java src/tdd/BookTest.java"
   ]
  },
  {
   "cell_type": "code",
   "execution_count": 12,
   "metadata": {
    "collapsed": false,
    "scrolled": false
   },
   "outputs": [
    {
     "name": "stdout",
     "output_type": "stream",
     "text": [
      "JUnit version 4.12\n",
      ".\n",
      "Time: 0.002\n",
      "\n",
      "OK (1 test)\n",
      "\n"
     ]
    }
   ],
   "source": [
    "!java -cp /usr/share/java/junit4.jar:src/tdd org.junit.runner.JUnitCore BookTest"
   ]
  },
  {
   "cell_type": "markdown",
   "metadata": {},
   "source": [
    "* BookTestRunWith\n",
    "\n",
    "```\n",
    "java -cp /usr/share/java/junit4.jar:build/classes/test/:build/classes/main/\n",
    "    org.junit.runner.JUnitCore com.mytest.junit.BookTestRunWith\n",
    "```"
   ]
  },
  {
   "cell_type": "markdown",
   "metadata": {},
   "source": [
    "* jshell command line "
   ]
  },
  {
   "cell_type": "code",
   "execution_count": 1,
   "metadata": {
    "collapsed": false,
    "scrolled": true
   },
   "outputs": [
    {
     "name": "stdout",
     "output_type": "stream",
     "text": [
      " /classpath /usr/share/java/junit4.jar\r\n",
      "|  Path '/usr/share/java/junit4.jar' added to classpath\r\n",
      "\r\n"
     ]
    }
   ],
   "source": [
    "/classpath /usr/share/java/junit4.jar"
   ]
  },
  {
   "cell_type": "markdown",
   "metadata": {},
   "source": [
    "* assertTrue"
   ]
  },
  {
   "cell_type": "code",
   "execution_count": 2,
   "metadata": {
    "collapsed": false,
    "scrolled": true
   },
   "outputs": [
    {
     "name": "stdout",
     "output_type": "stream",
     "text": [
      " import static org.junit.Assert.assertTrue;\r\n",
      "\r\n"
     ]
    }
   ],
   "source": [
    "import static org.junit.Assert.assertTrue;"
   ]
  },
  {
   "cell_type": "code",
   "execution_count": 3,
   "metadata": {
    "collapsed": false
   },
   "outputs": [
    {
     "name": "stdout",
     "output_type": "stream",
     "text": [
      " assertTrue(1==1);\r\n",
      "\r\n"
     ]
    }
   ],
   "source": [
    "assertTrue(1==1);"
   ]
  },
  {
   "cell_type": "code",
   "execution_count": 4,
   "metadata": {
    "collapsed": false
   },
   "outputs": [
    {
     "name": "stdout",
     "output_type": "stream",
     "text": [
      " class Book {\r\n",
      "     String title;\r\n",
      "     public void setTitle(String title) {\r\n",
      "         this.title=title;\r\n",
      "     }\r\n",
      "     public String getTitle() {\r\n",
      "         return this.title;\r\n",
      "     }\r\n",
      " }\r\n",
      "|  Added class Book\r\n",
      "\r\n"
     ]
    }
   ],
   "source": [
    "class Book {\n",
    "    String title;\n",
    "    public void setTitle(String title) {\n",
    "        this.title=title;\n",
    "    }\n",
    "    public String getTitle() {\n",
    "        return this.title;\n",
    "    }\n",
    "}"
   ]
  },
  {
   "cell_type": "code",
   "execution_count": 9,
   "metadata": {
    "collapsed": false
   },
   "outputs": [
    {
     "name": "stdout",
     "output_type": "stream",
     "text": [
      " Book b=new Book();\r\n",
      "|  Modified variable b of type Book with initial value Book@13805618\r\n",
      "|    Update overwrote variable b\r\n",
      "\r\n",
      " //b.setTitle(new String(\"java 1\"));\r\n",
      "\r\n",
      " b.setTitle(\"java 1\");\r\n",
      "\r\n",
      " assertTrue(b.getTitle()==\"java 1\");\r\n",
      "\r\n"
     ]
    }
   ],
   "source": [
    "Book b=new Book();\n",
    "//b.setTitle(new String(\"java 1\"));\n",
    "b.setTitle(\"java 1\");\n",
    "assertTrue(b.getTitle()==\"java 1\");"
   ]
  },
  {
   "cell_type": "markdown",
   "metadata": {},
   "source": [
    "* assertEquals"
   ]
  },
  {
   "cell_type": "code",
   "execution_count": 3,
   "metadata": {
    "collapsed": false,
    "scrolled": true
   },
   "outputs": [
    {
     "name": "stdout",
     "output_type": "stream",
     "text": [
      " import static org.junit.Assert.assertEquals;\r\n",
      "\r\n"
     ]
    }
   ],
   "source": [
    "import static org.junit.Assert.assertEquals;"
   ]
  },
  {
   "cell_type": "markdown",
   "metadata": {
    "collapsed": true
   },
   "source": [
    "* 오류가 없으면 성공이란 의미.\n",
    "* 아니면 클래스를 만들어 실행해야 한다."
   ]
  },
  {
   "cell_type": "code",
   "execution_count": 14,
   "metadata": {
    "collapsed": false,
    "scrolled": true
   },
   "outputs": [
    {
     "name": "stdout",
     "output_type": "stream",
     "text": [
      " assertEquals(10, 10);\r\n",
      "\r\n"
     ]
    }
   ],
   "source": [
    "assertEquals(10, 10);"
   ]
  },
  {
   "cell_type": "code",
   "execution_count": 9,
   "metadata": {
    "collapsed": false
   },
   "outputs": [
    {
     "name": "stdout",
     "output_type": "stream",
     "text": [
      " String str1 = new String (\"abc\");\r\n",
      "|  Modified variable str1 of type String with initial value \"abc\"\r\n",
      "|    Update overwrote variable str1\r\n",
      "\r\n",
      " String str2 = new String (\"abc\");\r\n",
      "|  Modified variable str2 of type String with initial value \"abc\"\r\n",
      "|    Update overwrote variable str2\r\n",
      "\r\n",
      " String str3 = null;\r\n",
      "|  Modified variable str3 of type String with initial value null\r\n",
      "|    Update overwrote variable str3\r\n",
      "\r\n",
      " String str4 = \"abc\";\r\n",
      "|  Modified variable str4 of type String with initial value \"abc\"\r\n",
      "|    Update overwrote variable str4\r\n",
      "\r\n",
      " String str5 = \"abc\";\r\n",
      "|  Modified variable str5 of type String with initial value \"abc\"\r\n",
      "|    Update overwrote variable str5\r\n",
      "\r\n",
      " \r\n",
      "\r\n",
      " int val1 = 5;\r\n",
      "|  Modified variable val1 of type int with initial value 5\r\n",
      "|    Update overwrote variable val1\r\n",
      "\r\n",
      " int val2 = 6;\r\n",
      "|  Modified variable val2 of type int with initial value 6\r\n",
      "|    Update overwrote variable val2\r\n",
      "\r\n",
      " \r\n",
      "\r\n",
      " String[] expectedArray = {\"one\", \"two\", \"three\"};\r\n",
      "|  Modified variable expectedArray of type String[] with initial value [Ljava.lang.String;@6e1ec318\r\n",
      "|    Update overwrote variable expectedArray\r\n",
      "\r\n",
      " String[] resultArray =  {\"one\", \"two\", \"three\"};\r\n",
      "|  Modified variable resultArray of type String[] with initial value [Ljava.lang.String;@7e0b0338\r\n",
      "|    Update overwrote variable resultArray\r\n",
      "\r\n",
      " \r\n",
      "\r\n",
      " //Check that two objects are equal\r\n",
      "\r\n",
      " assertEquals(str1, \"ab\");\r\n",
      "|  org.junit.ComparisonFailure thrown: expected:<ab[c]> but was:<ab[]>\r\n",
      "|        at Assert.assertEquals (Assert.java:115)\r\n",
      "|        at Assert.assertEquals (Assert.java:144)\r\n",
      "|        at (#24:1)\r\n",
      "\r\n"
     ]
    }
   ],
   "source": [
    "String str1 = new String (\"abc\");\n",
    "String str2 = new String (\"abc\");\n",
    "String str3 = null;\n",
    "String str4 = \"abc\";\n",
    "String str5 = \"abc\";\n",
    "\n",
    "int val1 = 5;\n",
    "int val2 = 6;\n",
    "\n",
    "String[] expectedArray = {\"one\", \"two\", \"three\"};\n",
    "String[] resultArray =  {\"one\", \"two\", \"three\"};\n",
    "\n",
    "//Check that two objects are equal\n",
    "assertEquals(str1, str2);"
   ]
  },
  {
   "cell_type": "code",
   "execution_count": 11,
   "metadata": {
    "collapsed": false
   },
   "outputs": [
    {
     "name": "stdout",
     "output_type": "stream",
     "text": [
      " import static org.junit.Assert.*;\r\n",
      "|    Update modified variable str4 of type String with initial value \r\n",
      "|    Update modified variable str5 of type String with initial value \r\n",
      "|    Update modified variable expectedArray of type String[] with initial value \r\n",
      "|    Update modified variable resultArray of type String[] with initial value \r\n",
      "|    Update modified method printf(String,Object...)\r\n",
      "|    Update modified variable str1 of type String with initial value \r\n",
      "|    Update modified variable str2 of type String with initial value \r\n",
      "|    Update modified variable str3 of type String with initial value \r\n",
      "\r\n"
     ]
    }
   ],
   "source": [
    "import static org.junit.Assert.*;"
   ]
  },
  {
   "cell_type": "code",
   "execution_count": 12,
   "metadata": {
    "collapsed": false,
    "scrolled": true
   },
   "outputs": [
    {
     "name": "stdout",
     "output_type": "stream",
     "text": [
      " //Check that a condition is true\r\n",
      "\r\n",
      " assertTrue (val1 < val2);\r\n",
      "\r\n",
      " \r\n",
      "\r\n",
      " //Check that a condition is false\r\n",
      "\r\n",
      " assertFalse(val1 > val2);\r\n",
      "\r\n",
      " \r\n",
      "\r\n",
      " //Check that an object isn't null\r\n",
      "\r\n",
      " assertNotNull(str1);\r\n",
      "\r\n",
      " \r\n",
      "\r\n",
      " //Check that an object is null\r\n",
      "\r\n",
      " assertNull(str3);\r\n",
      "\r\n",
      " \r\n",
      "\r\n",
      " //Check if two object references point to the same object\r\n",
      "\r\n",
      " assertSame(str4,str5);\r\n",
      "\r\n",
      " \r\n",
      "\r\n",
      " //Check if two object references not point to the same object\r\n",
      "\r\n",
      " assertNotSame(str1,str3);\r\n",
      "\r\n",
      " \r\n",
      "\r\n",
      " //Check whether two arrays are equal to each other.\r\n",
      "\r\n",
      " assertArrayEquals(expectedArray, resultArray);\r\n",
      "\r\n"
     ]
    }
   ],
   "source": [
    "//Check that a condition is true\n",
    "assertTrue (val1 < val2);\n",
    "\n",
    "//Check that a condition is false\n",
    "assertFalse(val1 > val2);\n",
    "\n",
    "//Check that an object isn't null\n",
    "assertNotNull(str1);\n",
    "\n",
    "//Check that an object is null\n",
    "assertNull(str3);\n",
    "\n",
    "//Check if two object references point to the same object\n",
    "assertSame(str4,str5);\n",
    "\n",
    "//Check if two object references not point to the same object\n",
    "assertNotSame(str1,str3);\n",
    "\n",
    "//Check whether two arrays are equal to each other.\n",
    "assertArrayEquals(expectedArray, resultArray);"
   ]
  },
  {
   "cell_type": "markdown",
   "metadata": {},
   "source": [
    "### T.3.6 @RunWith\n",
    "\n",
    "* 클래스에 적용된다. 테스트케이스를 실행하는 Runner를 선택.\n",
    "\n",
    "* test suite\n",
    "\n",
    "@태그 | 설명\n",
    "-----|-----\n",
    "@RunWith | 괄호안의 클래스로 실행함. org.junit.runner.JUnitCore를 사용하지 않음. \n",
    "@SuiteClasses | @RunWith(Suite.class)으로 실행하는 경우, 실행할 클래스를 @SuiteClasses() 괄호 안에 적음.\n",
    "\n",
    "* Parameterized test\n",
    "    * @RunWith(JUnitParamsRunner.class)\n",
    "    * pass from annotation\n",
    "```\n",
    "@Parameters({\"a,A\",\"b,B\"})\n",
    "@Test\n",
    "toUpperCase(String in, String ExpectedOut)\n",
    "```\n",
    "\n",
    "    * pass from method\n",
    "```\n",
    "@Parameter(method=\"datraFor_toUpperCase\")\n",
    "@Test\n",
    "toUpperCase(String in, String ExpectedOut)\n",
    "```\n",
    "\n",
    "    * pass from class\n",
    "```\n",
    "@Parameter(source=\"DatraForToUpperCase.class\")\n",
    "@Test\n",
    "toUpperCase(String in, String ExpectedOut)\n",
    "```\n",
    "    * pass from file\n",
    "```\n",
    "@FileParameter(\"DatraForToUpperCase.csv\")\n",
    "@Test\n",
    "toUpperCase(String in, String ExpectedOut)\n",
    "```"
   ]
  },
  {
   "cell_type": "markdown",
   "metadata": {},
   "source": [
    "## T.4 Hamcrest Matchers\n",
    "\n",
    "* Hamcrest uses assertThat method with a matcher expression to determine if the test was succesful. See Wiki on Hamcrest for more details.\n",
    "* 비교하는 경우 사용\n",
    "\n",
    "List<String> cities = Arrays.asList(\"Seoul\", \"NY\", \"Sydney\");\n",
    "\n",
    "\n",
    "JUnit | Hamcrest\n",
    "-----|-----\n",
    "assertEquals(expected, actual); | assertThat(actual, is(equalTo(expected)));\n",
    "Assert.assertTrue(friendships.getFriendsList(\"Joe\").containsAll(friendsOfJoe)); | assertThat(friendships.getFriendsList(\"Joe\"),containsInAnyOrder(\"Audrey\", \"Peter\",\"Michael\", \"Britney\", \"Paul\"));\n"
   ]
  },
  {
   "cell_type": "markdown",
   "metadata": {
    "collapsed": true
   },
   "source": [
    "* 라이브러리\n",
    "    * static으로 하는 것이 코드자동완성이 편리하다고 한다.\n",
    "```\n",
    "import static org.hamcrest.MatcherAssert.assertThat;\n",
    "import static org.hamcrest.Matchers.*;\n",
    "```"
   ]
  },
  {
   "cell_type": "markdown",
   "metadata": {
    "collapsed": true
   },
   "source": [
    "* 집합을 테스트하는 경우"
   ]
  },
  {
   "cell_type": "code",
   "execution_count": null,
   "metadata": {
    "collapsed": true
   },
   "outputs": [],
   "source": [
    "import org.junit.Test;\n",
    "\n",
    "import java.util.Arrays;\n",
    "import java.util.List;\n",
    "\n",
    "import static org.hamcrest.MatcherAssert.assertThat;\n",
    "import static org.hamcrest.Matchers.contains;\n",
    "import static org.hamcrest.Matchers.containsInAnyOrder;\n",
    "import static org.hamcrest.Matchers.greaterThan;\n",
    "import static org.hamcrest.collection.IsCollectionWithSize.hasSize;\n",
    "import static org.hamcrest.core.Every.everyItem;\n",
    "\n",
    "public class HamcrestListMatcherExamples {\n",
    "    @Test\n",
    "    public void listShouldInitiallyBeEmpty() {\n",
    "        List<Integer> list = Arrays.asList(5, 2, 4);\n",
    "\n",
    "        assertThat(list, hasSize(3));\n",
    "\n",
    "        // ensure the order is correct\n",
    "        assertThat(list, contains(5, 2, 4));\n",
    "\n",
    "        assertThat(list, containsInAnyOrder(2, 4, 5));\n",
    "\n",
    "        assertThat(list, everyItem(greaterThan(1)));\n",
    "\n",
    "    }\n",
    "}"
   ]
  },
  {
   "cell_type": "markdown",
   "metadata": {},
   "source": [
    "## T.5 mock\n",
    "\n",
    "* 실제 구현하지 않고 테스트하는 mocking\n",
    "    * 예: 실제 데이터베이스 연결하지 않고 테스트\n",
    "\n",
    "* \n",
    "* sudo apt install libmockito-java  -> /usr/share/java/mockito-core.jar (v1.9.5)\n",
    "* python-mockito\n",
    "\n",
    "* todo\n",
    "    * bb/sd/src/Money.java\n",
    "    * bb/sd/src/MoneyTest.java\n",
    "    * bb/sd/src/Car.java\n",
    "    * FirstMockitoTest\n",
    "    https://www.tutorialspoint.com/mockito/mockito_quick_guide.htm"
   ]
  },
  {
   "cell_type": "markdown",
   "metadata": {
    "collapsed": true
   },
   "source": [
    "* 설치\n",
    "    * java 1.5+\n",
    "    * junit 설치\n",
    "        * junit4.11.jar, hamcrest-core-1.2.1.jar\n",
    "    * Download Mockito-All Archive\n",
    "    * classpath "
   ]
  },
  {
   "cell_type": "code",
   "execution_count": 1,
   "metadata": {
    "collapsed": false,
    "scrolled": true
   },
   "outputs": [
    {
     "name": "stdout",
     "output_type": "stream",
     "text": [
      " /classpath /usr/share/java/mockito-core.jar\r\n",
      "|  Path '/usr/share/java/mockito-core.jar' added to classpath\r\n",
      "\r\n"
     ]
    }
   ],
   "source": [
    "/classpath /usr/share/java/mockito-core.jar"
   ]
  },
  {
   "cell_type": "code",
   "execution_count": 2,
   "metadata": {
    "collapsed": false
   },
   "outputs": [
    {
     "name": "stdout",
     "output_type": "stream",
     "text": [
      " interface Car {\r\n",
      "     boolean needsFuel();\r\n",
      "     double getEngineTemperature();\r\n",
      "     void driveTo(String destination);\r\n",
      " }\r\n",
      "|  Added interface Car\r\n",
      "\r\n"
     ]
    }
   ],
   "source": [
    "interface Car {\n",
    "    boolean needsFuel();\n",
    "    double getEngineTemperature();\n",
    "    void driveTo(String destination);\n",
    "}"
   ]
  },
  {
   "cell_type": "code",
   "execution_count": 5,
   "metadata": {
    "collapsed": false
   },
   "outputs": [
    {
     "name": "stdout",
     "output_type": "stream",
     "text": [
      " import static org.mockito.Mockito.*;\r\n",
      "|    Update modified method printf(String,Object...)\r\n",
      "|    Update modified interface Car\r\n",
      "\r\n"
     ]
    }
   ],
   "source": [
    "import static org.mockito.Mockito.*;"
   ]
  },
  {
   "cell_type": "markdown",
   "metadata": {
    "collapsed": true
   },
   "source": [
    "* mock 클래스 생성\n",
    "    * instance를 확인하면 Car Mock은 Car\n",
    "    * 그러고 나면 default값을 반환한다 (놀랍게도 구현하지 않았는데)"
   ]
  },
  {
   "cell_type": "code",
   "execution_count": 7,
   "metadata": {
    "collapsed": false
   },
   "outputs": [
    {
     "name": "stdout",
     "output_type": "stream",
     "text": [
      " Car myFerrari = mock(Car.class);\r\n",
      "|  Added variable myFerrari of type Car with initial value Mock for Car, hashCode: 1052967153\r\n",
      "\r\n"
     ]
    }
   ],
   "source": [
    "Car myFerrari = mock(Car.class);"
   ]
  },
  {
   "cell_type": "code",
   "execution_count": 10,
   "metadata": {
    "collapsed": false
   },
   "outputs": [
    {
     "name": "stdout",
     "output_type": "stream",
     "text": [
      " /classpath /usr/share/java/junit4.jar\r\n",
      "|  Path '/usr/share/java/junit4.jar' added to classpath\r\n",
      "\r\n"
     ]
    }
   ],
   "source": [
    "/classpath /usr/share/java/junit4.jar"
   ]
  },
  {
   "cell_type": "code",
   "execution_count": 11,
   "metadata": {
    "collapsed": false
   },
   "outputs": [
    {
     "name": "stdout",
     "output_type": "stream",
     "text": [
      " import org.junit.Assert;\r\n",
      "\r\n"
     ]
    }
   ],
   "source": [
    "import org.junit.Assert;"
   ]
  },
  {
   "cell_type": "code",
   "execution_count": 12,
   "metadata": {
    "collapsed": false
   },
   "outputs": [
    {
     "name": "stdout",
     "output_type": "stream",
     "text": [
      " Assert.assertTrue(myFerrari instanceof Car);\r\n",
      "\r\n"
     ]
    }
   ],
   "source": [
    "Assert.assertTrue(myFerrari instanceof Car);"
   ]
  },
  {
   "cell_type": "code",
   "execution_count": 8,
   "metadata": {
    "collapsed": false
   },
   "outputs": [
    {
     "name": "stdout",
     "output_type": "stream",
     "text": [
      " myFerrari.needsFuel();\r\n",
      "|  Expression value is: false\r\n",
      "|    assigned to temporary variable $4 of type boolean\r\n",
      "\r\n"
     ]
    }
   ],
   "source": [
    "myFerrari.needsFuel();"
   ]
  },
  {
   "cell_type": "markdown",
   "metadata": {
    "collapsed": true
   },
   "source": [
    "* behavior를 추가할 수 있다.\n",
    "    * when().thenReturn()을 true로 변경하고, needsFuel()을 실행하면 true"
   ]
  },
  {
   "cell_type": "code",
   "execution_count": 13,
   "metadata": {
    "collapsed": false
   },
   "outputs": [
    {
     "name": "stdout",
     "output_type": "stream",
     "text": [
      " when(myFerrari.needsFuel()).thenReturn(true);\r\n",
      "|  Expression value is: org.mockito.internal.stubbing.ConsecutiveStubbing@55a561cf\r\n",
      "|    assigned to temporary variable $7 of type org.mockito.stubbing.OngoingStubbing<Boolean>\r\n",
      "\r\n"
     ]
    }
   ],
   "source": [
    "when(myFerrari.needsFuel()).thenReturn(true);"
   ]
  },
  {
   "cell_type": "code",
   "execution_count": 14,
   "metadata": {
    "collapsed": false,
    "scrolled": false
   },
   "outputs": [
    {
     "name": "stdout",
     "output_type": "stream",
     "text": [
      " myFerrari.needsFuel();\r\n",
      "|  Expression value is: true\r\n",
      "|    assigned to temporary variable $8 of type boolean\r\n",
      "\r\n"
     ]
    }
   ],
   "source": [
    "myFerrari.needsFuel();"
   ]
  },
  {
   "cell_type": "markdown",
   "metadata": {},
   "source": [
    "## T.6 JaCoCo\n",
    "\n",
    "* Java Code Coverage (JaCoCo)\n",
    "\n",
    "JaCoCo reports help to visually analyze code coverage by using diamonds colors for branches and background colors for lines:\n",
    "\n",
    "구분 | 설명\n",
    "-----|-----\n",
    "Red diamond | means that no branches have been exercised during the test phase.\n",
    "Yellow diamond | the code is partially covered – some branches have not been exercised.\n",
    "Green diamond | all branches have been exercised during the test.\n",
    "\n",
    "JaCoCo mainly provides three important metrics:\n",
    "\n",
    "metrics | 설명\n",
    "-----|-----\n",
    "Lines coverage | reflects the amount of code that has been exercised based on the number of Java byte code instructions called by the tests.\n",
    "Branches coverage | typically related to if/else and switch statements.\n",
    "Cyclomatic complexity | the complexity of code by giving the number of paths needed to cover all the possible paths in a code"
   ]
  },
  {
   "cell_type": "code",
   "execution_count": null,
   "metadata": {
    "collapsed": true
   },
   "outputs": [],
   "source": [
    "* with gradle\n",
    "\n",
    "```\n",
    "apply plugin: 'java'\n",
    "apply plugin: \"jacoco\"\n",
    "\n",
    "jacocoTestReport {\n",
    "    group = \"Reporting\"\n",
    "    reports {\n",
    "        xml.enabled true\n",
    "        csv.enabled false\n",
    "        html.destination \"${buildDir}/reports/coverage\"\n",
    "    }\n",
    "}\n",
    "```"
   ]
  },
  {
   "cell_type": "markdown",
   "metadata": {},
   "source": [
    "## case: Money\n",
    "\n",
    "* 참고\n",
    "    * Folwer\n",
    "    * Kaczanowski, T., 2013, Practical Unit Testing with JUnit and Mockito\n",
    "\n",
    "\n",
    "### 요구사항\n",
    "\n",
    "### red-green-refactor\n",
    "\n",
    "* 설정\n",
    "    * src/main/java\n",
    "    * src/test/java"
   ]
  },
  {
   "cell_type": "markdown",
   "metadata": {},
   "source": [
    "* red\n",
    "    * test case를 작성하고 실행한다.\n",
    "         * 구현하지 않았으므로 당연히 실패\n",
    "\n",
    "명령문 | 설명\n",
    "-----|-----\n",
    "@Test | test 함수를 나타낸다\n",
    "@Test(expected = Exception.class) | 예외 처리\n",
    "import static | 객체생성하지 않고 함수를 그대로 사용할 수 있게\n",
    "AssertEqual | \n",
    "\n",
    "\n",
    "    * 실행\n",
    "        * JUnit\n",
    "        * Gradle\n",
    "            * 필요한 dependency jar를 내려받는 곳 mavenCentral()"
   ]
  },
  {
   "cell_type": "code",
   "execution_count": null,
   "metadata": {
    "collapsed": true
   },
   "outputs": [],
   "source": [
    "# %load myProjects/myPjt/src/test/java/com/mytest/junit/MoneyTest.java\n",
    "/*\n",
    " * @author book\n",
    " * javac -cp build/classes/main:/usr/share/java/junit4.jar -d build/classes/test/ -sourcepath src/test/java/ src/test/java/com/test/junit/*.java\n",
    " * java -cp build/classes/main:build/classes/test:/usr/share/java/junit4.jar org.junit.runner.JUnitCore com.mytest.junit.MoneyTest\n",
    " */\n",
    "package com.mytest.junit;\n",
    "\n",
    "import org.junit.Test;\n",
    "import static org.junit.Assert.assertEquals;\n",
    "public class MoneyTest {\n",
    "    @Test(expected=IllegalArgumentException.class)\n",
    "    public void constructorShouldThrowIAEForInvalidAmount() {\n",
    "        new Money(-10, \"USD\");\n",
    "    }\n",
    "    @Test(expected = IllegalArgumentException.class)\n",
    "    public void constructorShouldThrowIAEForInvalidCurrency() {\n",
    "        new Money(5, null);\n",
    "    }\n",
    "                     \n",
    "    @Test\n",
    "    public void constructorShouldSetAmountAndCurrency() {\n",
    "        Money money = new Money(10, \"USD\");\n",
    "        assertEquals(10, money.getAmount());\n",
    "        assertEquals(\"USD\", money.getCurrency());\n",
    "    }\n",
    "}\n"
   ]
  },
  {
   "cell_type": "markdown",
   "metadata": {},
   "source": [
    "#### green\n",
    "\n",
    "* 구현\n",
    "\n",
    "#### refactor\n",
    "\n",
    "* 고칠 곳이 있는지 확인 Changing code without changing its behavior is called refactoring.\n",
    "\n",
    "#### 1 cycle 종료하고 red-green-refactor를 반복\n"
   ]
  },
  {
   "cell_type": "markdown",
   "metadata": {},
   "source": [
    "* parameterized\n",
    "\n",
    "* new Object 대신 '$'를 사용할 수 있다.\n",
    "    * 그러려면 관련 클래스를 import\n",
    "\n",
    "```\n",
    "import static junitparams.JUnitParamsRunner.$;\n",
    "\n",
    "private static final Object[] getMoney() {\n",
    "    return $(\n",
    "        $(10, \"USD\"),\n",
    "        $(20, \"EUR\")\n",
    "    );\n",
    "}\n",
    "```"
   ]
  },
  {
   "cell_type": "code",
   "execution_count": null,
   "metadata": {
    "collapsed": true
   },
   "outputs": [],
   "source": [
    "# %load myProjects/myPjt/src/test/java/com/mytest/junit/MoneyParamsTest.java\n",
    "/*\n",
    " * @author Book: Practical Unit Testing\n",
    " * javac -cp build/classes/main:/usr/share/java/junit4.jar -d build/classes/test/ -sourcepath src/test/java/ src/test/java/com/mytest/junit/*.java\n",
    " * java -cp build/classes/main:build/classes/test:/usr/share/java/junit4.jar org.junit.runner.JUnitCore com.mytest.junit.MoneyTest\n",
    " */\n",
    "package com.mytest.junit;\n",
    "\n",
    "import org.junit.Test;\n",
    "import org.junit.runner.RunWith;\n",
    "import junitparams.JUnitParamsRunner;\n",
    "import junitparams.Parameters;\n",
    "import static org.junit.Assert.assertEquals;\n",
    "\n",
    "//this test must be run with a special Runner\n",
    "//requiring \"pl.pragmatists:JUnitParams:1.0.5\"\n",
    "@RunWith(JUnitParamsRunner.class)\n",
    "public class MoneyParamsTest {\n",
    "    private static final Object[] getMoney() {\n",
    "        return new Object[] {\n",
    "            new Object[] {10,\"USD\"},\n",
    "            new Object[] {20,\"EUR\"},\n",
    "        };\n",
    "    }\n",
    "\n",
    "    @Test\n",
    "    @Parameters(method=\"getMoney\")\n",
    "    public void constructorShouldSetAmountAndCurrency(int amount,String currency) {\n",
    "    //public void constructorShouldSetAmountAndCurrency() {\n",
    "        Money money = new Money(amount, currency); \n",
    "        //Money money = new Money(10, \"USD\");\n",
    "        assertEquals(amount, money.getAmount());\n",
    "        //assertEquals(10, money.getAmount());\n",
    "        assertEquals(currency, money.getCurrency());\n",
    "        //assertEquals(\"USD\", money.getCurrency());\n",
    "    }\n",
    "}\n"
   ]
  },
  {
   "cell_type": "code",
   "execution_count": null,
   "metadata": {
    "collapsed": true
   },
   "outputs": [],
   "source": [
    "## 문제 T-1: 문자열 거꾸로 테스트\n",
    "\n",
    "public static String reverse(String s) {\n",
    "    List<String> tempArray = new ArrayList<String>(s.length());\n",
    "    for (int i = 0; i < s.length(); i++) {\n",
    "        tempArray.add(s.substring(i, i+1));\n",
    "    }\n",
    "    StringBuilder reversedString = new StringBuilder(s.length());\n",
    "    for (int i = tempArray.size() -1; i >= 0; i--) {\n",
    "        reversedString.append(tempArray.get(i));\n",
    "    }\n",
    "    return reversedString.toString();\n",
    "}"
   ]
  },
  {
   "cell_type": "code",
   "execution_count": null,
   "metadata": {
    "collapsed": true
   },
   "outputs": [],
   "source": [
    "## 문제 T-2: 온도변환 테스트 완성\n",
    "\n",
    "public class FahrenheitCelciusConverterTest {\n",
    "    @Test\n",
    "    public void shouldConvertCelciusToFahrenheit() {\n",
    "        assertEquals(32, FahrenheitCelciusConverter.toFahrenheit(0));\n",
    "        assertEquals(98, FahrenheitCelciusConverter.toFahrenheit(37));\n",
    "        assertEquals(212, FahrenheitCelciusConverter.toFahrenheit(100));\n",
    "    }\n",
    "    @Test\n",
    "    public void shouldConvertFahrenheitToCelcius() {\n",
    "    }\n",
    "}"
   ]
  }
 ],
 "metadata": {
  "kernelspec": {
   "display_name": "Python 2",
   "language": "python",
   "name": "python2"
  },
  "language_info": {
   "codemirror_mode": {
    "name": "ipython",
    "version": 2
   },
   "file_extension": ".py",
   "mimetype": "text/x-python",
   "name": "python",
   "nbconvert_exporter": "python",
   "pygments_lexer": "ipython2",
   "version": "2.7.12"
  }
 },
 "nbformat": 4,
 "nbformat_minor": 1
}
