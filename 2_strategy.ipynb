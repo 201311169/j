{
 "cells": [
  {
   "cell_type": "markdown",
   "metadata": {
    "slideshow": {
     "slide_type": "slide"
    }
   },
   "source": [
    "# 1. Strategy 패턴\n",
    "\n",
    "* Strategy 패턴은 Behavioral Design Pattern\n",
    "* Policy Pattern\n",
    "* 알고리즘이 서로 다르고, 실행시점에 하나를 선택하여 실행하는 경우\n",
    "    * 라면의 조리가 서로 다른 경우\n",
    "    * 영화를 보는 경우, 누구는 초대권, 누구는 멤버쉽 할인 등 서로 다른 경우\n",
    "* 대표적인 사례로는 정렬.\n",
    "    * Collections.sort() 함수에서 Comparator 인터페이스를 이용하는 경우, 서로 다른 정렬 알고리즘을 구현하고, 실행 시점에 결정함.\n"
   ]
  },
  {
   "cell_type": "markdown",
   "metadata": {
    "slideshow": {
     "slide_type": "slide"
    }
   },
   "source": [
    "* 디자인패턴 요소\n",
    "\n",
    "요소 | 설명\n",
    "---|---\n",
    "name | Strategy\n",
    "problem | 알고리즘 서로 다른 버전이 존재해서, if문으로 처리해야 하거나 중복이 발생 \n",
    "solution | 중복을 공통화, 실행시점에 맞는 알고리즘을 호출\n",
    "consequence | OCP"
   ]
  },
  {
   "cell_type": "code",
   "execution_count": null,
   "metadata": {
    "collapsed": true
   },
   "outputs": [],
   "source": [
    "* 프로그래밍 예제\n",
    "    * 'Duck' (HFDP Ch1)\n",
    "    * 'Sort'\n",
    "    * exercise (by Sat to git: 50% for 1 day late deadline) \n",
    "        * case extension - 거북이를 무게에 따라 정렬\n",
    "        * new case - "
   ]
  },
  {
   "cell_type": "markdown",
   "metadata": {
    "collapsed": true,
    "slideshow": {
     "slide_type": "slide"
    }
   },
   "source": [
    "## 2. 문제\n",
    "\n",
    "* 경우에 따라 서로 다른 여러 알고리즘이 존재\n",
    "* 알고리즘이 실행시점에 결정이 되고\n",
    "* 조건문을 사용해서 서로 다른 알고리즘을 결정\n"
   ]
  },
  {
   "cell_type": "markdown",
   "metadata": {
    "slideshow": {
     "slide_type": "slide"
    }
   },
   "source": [
    "## 3. 설계\n",
    "\n",
    "클래스 | 설명\n",
    "-----|-----\n",
    "Context | 적용할 Strategy를 결정. 속성으로 사용할 Strategy를 가진다.\n",
    "Strategy | 런타임에 사용하는 Strategy로서 구현은 하위 Strategy1에 위임한다.\n",
    "Strategy1 | 실행시점에 적용하는 Strategy를 가진다."
   ]
  },
  {
   "cell_type": "code",
   "execution_count": 1,
   "metadata": {
    "collapsed": false,
    "slideshow": {
     "slide_type": "slide"
    }
   },
   "outputs": [],
   "source": [
    "import iplantuml"
   ]
  },
  {
   "cell_type": "code",
   "execution_count": 3,
   "metadata": {
    "collapsed": false,
    "scrolled": true,
    "slideshow": {
     "slide_type": "slide"
    }
   },
   "outputs": [
    {
     "data": {
      "image/svg+xml": [
       "<svg height=\"199px\" style=\"width:329px;height:199px;\" version=\"1.1\" viewBox=\"0 0 329 199\" width=\"329px\" xmlns=\"http://www.w3.org/2000/svg\" xmlns:xlink=\"http://www.w3.org/1999/xlink\"><defs><filter height=\"300%\" id=\"f1\" width=\"300%\" x=\"-1\" y=\"-1\"><feGaussianBlur result=\"blurOut\" stdDeviation=\"2.0\"/><feColorMatrix in=\"blurOut\" result=\"blurOut2\" type=\"matrix\" values=\"0 0 0 0 0 0 0 0 0 0 0 0 0 0 0 0 0 0 .4 0\"/><feOffset dx=\"4.0\" dy=\"4.0\" in=\"blurOut2\" result=\"blurOut3\"/><feBlend in=\"SourceGraphic\" in2=\"blurOut3\" mode=\"normal\"/></filter></defs><g><rect fill=\"#FEFECE\" filter=\"url(#f1)\" height=\"73.6094\" style=\"stroke: #A80036; stroke-width: 1.5;\" width=\"126\" x=\"6\" y=\"8\"/><ellipse cx=\"41.7\" cy=\"24\" fill=\"#ADD1B2\" rx=\"11\" ry=\"11\" style=\"stroke: #A80036; stroke-width: 1.0;\"/><path d=\"M44.6688,29.6406 Q44.0906,29.9375 43.45,30.0859 Q42.8094,30.2344 42.1063,30.2344 Q39.6063,30.2344 38.2859,28.5859 Q36.9656,26.9375 36.9656,23.8125 Q36.9656,20.6875 38.2859,19.0313 Q39.6063,17.375 42.1063,17.375 Q42.8094,17.375 43.4578,17.5313 Q44.1063,17.6875 44.6688,17.9844 L44.6688,20.7031 Q44.0438,20.125 43.45,19.8516 Q42.8563,19.5781 42.2313,19.5781 Q40.8875,19.5781 40.2,20.6484 Q39.5125,21.7188 39.5125,23.8125 Q39.5125,25.9063 40.2,26.9766 Q40.8875,28.0469 42.2313,28.0469 Q42.8563,28.0469 43.45,27.7734 Q44.0438,27.5 44.6688,26.9219 L44.6688,29.6406 Z \"/><text fill=\"#000000\" font-family=\"sans-serif\" font-size=\"12\" lengthAdjust=\"spacingAndGlyphs\" textLength=\"48\" x=\"60.3\" y=\"28.1543\">Context</text><line style=\"stroke: #A80036; stroke-width: 1.5;\" x1=\"7\" x2=\"131\" y1=\"40\" y2=\"40\"/><rect fill=\"none\" height=\"6\" style=\"stroke: #C82930; stroke-width: 1.0;\" width=\"6\" x=\"14\" y=\"48.9023\"/><text fill=\"#000000\" font-family=\"sans-serif\" font-size=\"11\" lengthAdjust=\"spacingAndGlyphs\" textLength=\"99\" x=\"26\" y=\"54.2104\">strategy:Strategy</text><line style=\"stroke: #A80036; stroke-width: 1.5;\" x1=\"7\" x2=\"131\" y1=\"60.8047\" y2=\"60.8047\"/><ellipse cx=\"17\" cy=\"72.707\" fill=\"#84BE84\" rx=\"3\" ry=\"3\" style=\"stroke: #038048; stroke-width: 1.0;\"/><text fill=\"#000000\" font-family=\"sans-serif\" font-size=\"11\" lengthAdjust=\"spacingAndGlyphs\" textLength=\"100\" x=\"26\" y=\"75.0151\">executeStrategy()</text><rect fill=\"#FEFECE\" filter=\"url(#f1)\" height=\"60.8047\" style=\"stroke: #A80036; stroke-width: 1.5;\" width=\"86\" x=\"167\" y=\"14.5\"/><ellipse cx=\"182\" cy=\"30.5\" fill=\"#B4A7E5\" rx=\"11\" ry=\"11\" style=\"stroke: #A80036; stroke-width: 1.0;\"/><path d=\"M177.9219,26.2656 L177.9219,24.1094 L185.3125,24.1094 L185.3125,26.2656 L182.8438,26.2656 L182.8438,34.3438 L185.3125,34.3438 L185.3125,36.5 L177.9219,36.5 L177.9219,34.3438 L180.3906,34.3438 L180.3906,26.2656 L177.9219,26.2656 Z \"/><text fill=\"#000000\" font-family=\"sans-serif\" font-size=\"12\" font-style=\"italic\" lengthAdjust=\"spacingAndGlyphs\" textLength=\"54\" x=\"196\" y=\"34.6543\">Strategy</text><line style=\"stroke: #A80036; stroke-width: 1.5;\" x1=\"168\" x2=\"252\" y1=\"46.5\" y2=\"46.5\"/><line style=\"stroke: #A80036; stroke-width: 1.5;\" x1=\"168\" x2=\"252\" y1=\"54.5\" y2=\"54.5\"/><ellipse cx=\"178\" cy=\"66.4023\" fill=\"#84BE84\" rx=\"3\" ry=\"3\" style=\"stroke: #038048; stroke-width: 1.0;\"/><text fill=\"#000000\" font-family=\"sans-serif\" font-size=\"11\" lengthAdjust=\"spacingAndGlyphs\" textLength=\"52\" x=\"187\" y=\"68.7104\">execute()</text><rect fill=\"#FEFECE\" filter=\"url(#f1)\" height=\"48\" style=\"stroke: #A80036; stroke-width: 1.5;\" width=\"93\" x=\"99.5\" y=\"142\"/><ellipse cx=\"114.5\" cy=\"158\" fill=\"#ADD1B2\" rx=\"11\" ry=\"11\" style=\"stroke: #A80036; stroke-width: 1.0;\"/><path d=\"M117.4688,163.6406 Q116.8906,163.9375 116.25,164.0859 Q115.6094,164.2344 114.9063,164.2344 Q112.4063,164.2344 111.0859,162.5859 Q109.7656,160.9375 109.7656,157.8125 Q109.7656,154.6875 111.0859,153.0313 Q112.4063,151.375 114.9063,151.375 Q115.6094,151.375 116.2578,151.5313 Q116.9063,151.6875 117.4688,151.9844 L117.4688,154.7031 Q116.8438,154.125 116.25,153.8516 Q115.6563,153.5781 115.0313,153.5781 Q113.6875,153.5781 113,154.6484 Q112.3125,155.7188 112.3125,157.8125 Q112.3125,159.9063 113,160.9766 Q113.6875,162.0469 115.0313,162.0469 Q115.6563,162.0469 116.25,161.7734 Q116.8438,161.5 117.4688,160.9219 L117.4688,163.6406 Z \"/><text fill=\"#000000\" font-family=\"sans-serif\" font-size=\"12\" lengthAdjust=\"spacingAndGlyphs\" textLength=\"61\" x=\"128.5\" y=\"162.1543\">Strategy1</text><line style=\"stroke: #A80036; stroke-width: 1.5;\" x1=\"100.5\" x2=\"191.5\" y1=\"174\" y2=\"174\"/><line style=\"stroke: #A80036; stroke-width: 1.5;\" x1=\"100.5\" x2=\"191.5\" y1=\"182\" y2=\"182\"/><rect fill=\"#FEFECE\" filter=\"url(#f1)\" height=\"48\" style=\"stroke: #A80036; stroke-width: 1.5;\" width=\"93\" x=\"227.5\" y=\"142\"/><ellipse cx=\"242.5\" cy=\"158\" fill=\"#ADD1B2\" rx=\"11\" ry=\"11\" style=\"stroke: #A80036; stroke-width: 1.0;\"/><path d=\"M245.4688,163.6406 Q244.8906,163.9375 244.25,164.0859 Q243.6094,164.2344 242.9063,164.2344 Q240.4063,164.2344 239.0859,162.5859 Q237.7656,160.9375 237.7656,157.8125 Q237.7656,154.6875 239.0859,153.0313 Q240.4063,151.375 242.9063,151.375 Q243.6094,151.375 244.2578,151.5313 Q244.9063,151.6875 245.4688,151.9844 L245.4688,154.7031 Q244.8438,154.125 244.25,153.8516 Q243.6563,153.5781 243.0313,153.5781 Q241.6875,153.5781 241,154.6484 Q240.3125,155.7188 240.3125,157.8125 Q240.3125,159.9063 241,160.9766 Q241.6875,162.0469 243.0313,162.0469 Q243.6563,162.0469 244.25,161.7734 Q244.8438,161.5 245.4688,160.9219 L245.4688,163.6406 Z \"/><text fill=\"#000000\" font-family=\"sans-serif\" font-size=\"12\" lengthAdjust=\"spacingAndGlyphs\" textLength=\"61\" x=\"256.5\" y=\"162.1543\">Strategy2</text><line style=\"stroke: #A80036; stroke-width: 1.5;\" x1=\"228.5\" x2=\"319.5\" y1=\"174\" y2=\"174\"/><line style=\"stroke: #A80036; stroke-width: 1.5;\" x1=\"228.5\" x2=\"319.5\" y1=\"182\" y2=\"182\"/><path d=\"M132.064,45 C141.916,45 151.767,45 161.619,45 \" fill=\"none\" style=\"stroke: #A80036; stroke-width: 1.0;\"/><polygon fill=\"#A80036\" points=\"166.77,45,157.77,41,161.77,45,157.77,49,166.77,45\" style=\"stroke: #A80036; stroke-width: 1.0;\"/><path d=\"M184.499,93.4156 C175.502,110.1449 165.789,128.2048 158.37,141.9994 \" fill=\"none\" style=\"stroke: #A80036; stroke-width: 1.0; stroke-dasharray: 7.0,7.0;\"/><polygon fill=\"none\" points=\"178.377,90.0203,194.015,75.722,190.707,96.6516,178.377,90.0203\" style=\"stroke: #A80036; stroke-width: 1.0;\"/><path d=\"M235.501,93.4156 C244.498,110.1449 254.211,128.2048 261.63,141.9994 \" fill=\"none\" style=\"stroke: #A80036; stroke-width: 1.0; stroke-dasharray: 7.0,7.0;\"/><polygon fill=\"none\" points=\"229.293,96.6516,225.985,75.722,241.623,90.0203,229.293,96.6516\" style=\"stroke: #A80036; stroke-width: 1.0;\"/></g></svg>"
      ],
      "text/plain": [
       "<IPython.core.display.SVG object>"
      ]
     },
     "execution_count": 3,
     "metadata": {},
     "output_type": "execute_result"
    }
   ],
   "source": [
    "%%plantuml\n",
    "\n",
    "@startuml\n",
    "class Context {\n",
    "    -strategy:Strategy\n",
    "    +executeStrategy()\n",
    "}\n",
    "interface Strategy {\n",
    "    +execute()\n",
    "}\n",
    "Context -right-> Strategy\n",
    "Strategy <|.. Strategy1\n",
    "Strategy <|.. Strategy2\n",
    "@enduml"
   ]
  },
  {
   "cell_type": "markdown",
   "metadata": {
    "slideshow": {
     "slide_type": "slide"
    }
   },
   "source": [
    "## 4. 사례\n",
    "\n",
    "사례 | 설명\n",
    "------|------\n",
    "사례 1 | Duck fly()\n",
    "사례 2 | 정렬 - compareTo(), Interface Comparator를 구현하는 경우"
   ]
  },
  {
   "cell_type": "markdown",
   "metadata": {
    "slideshow": {
     "slide_type": "slide"
    }
   },
   "source": [
    "### S.4.1\n",
    "\n",
    "* Duck의 Flyable, Quackable을 실행시점에 결정"
   ]
  },
  {
   "cell_type": "code",
   "execution_count": 2,
   "metadata": {
    "collapsed": false,
    "slideshow": {
     "slide_type": "slide"
    }
   },
   "outputs": [
    {
     "data": {
      "image/svg+xml": [
       "<svg height=\"211px\" style=\"width:720px;height:211px;\" version=\"1.1\" viewBox=\"0 0 720 211\" width=\"720px\" xmlns=\"http://www.w3.org/2000/svg\" xmlns:xlink=\"http://www.w3.org/1999/xlink\"><defs><filter height=\"300%\" id=\"f1\" width=\"300%\" x=\"-1\" y=\"-1\"><feGaussianBlur result=\"blurOut\" stdDeviation=\"2.0\"/><feColorMatrix in=\"blurOut\" result=\"blurOut2\" type=\"matrix\" values=\"0 0 0 0 0 0 0 0 0 0 0 0 0 0 0 0 0 0 .4 0\"/><feOffset dx=\"4.0\" dy=\"4.0\" in=\"blurOut2\" result=\"blurOut3\"/><feBlend in=\"SourceGraphic\" in2=\"blurOut3\" mode=\"normal\"/></filter></defs><g><rect fill=\"#FEFECE\" filter=\"url(#f1)\" height=\"86.4141\" style=\"stroke: #A80036; stroke-width: 1.5;\" width=\"74\" x=\"458\" y=\"8\"/><ellipse cx=\"477.95\" cy=\"24\" fill=\"#ADD1B2\" rx=\"11\" ry=\"11\" style=\"stroke: #A80036; stroke-width: 1.0;\"/><path d=\"M480.9188,29.6406 Q480.3406,29.9375 479.7,30.0859 Q479.0594,30.2344 478.3563,30.2344 Q475.8563,30.2344 474.5359,28.5859 Q473.2156,26.9375 473.2156,23.8125 Q473.2156,20.6875 474.5359,19.0313 Q475.8563,17.375 478.3563,17.375 Q479.0594,17.375 479.7078,17.5313 Q480.3563,17.6875 480.9188,17.9844 L480.9188,20.7031 Q480.2938,20.125 479.7,19.8516 Q479.1063,19.5781 478.4813,19.5781 Q477.1375,19.5781 476.45,20.6484 Q475.7625,21.7188 475.7625,23.8125 Q475.7625,25.9063 476.45,26.9766 Q477.1375,28.0469 478.4813,28.0469 Q479.1063,28.0469 479.7,27.7734 Q480.2938,27.5 480.9188,26.9219 L480.9188,29.6406 Z \"/><text fill=\"#000000\" font-family=\"sans-serif\" font-size=\"12\" lengthAdjust=\"spacingAndGlyphs\" textLength=\"31\" x=\"493.05\" y=\"28.1543\">Duck</text><line style=\"stroke: #A80036; stroke-width: 1.5;\" x1=\"459\" x2=\"531\" y1=\"40\" y2=\"40\"/><rect fill=\"none\" height=\"6\" style=\"stroke: #C82930; stroke-width: 1.0;\" width=\"6\" x=\"466\" y=\"48.9023\"/><text fill=\"#000000\" font-family=\"sans-serif\" font-size=\"11\" lengthAdjust=\"spacingAndGlyphs\" textLength=\"31\" x=\"478\" y=\"54.2104\">field1</text><line style=\"stroke: #A80036; stroke-width: 1.5;\" x1=\"459\" x2=\"531\" y1=\"60.8047\" y2=\"60.8047\"/><ellipse cx=\"469\" cy=\"72.707\" fill=\"#84BE84\" rx=\"3\" ry=\"3\" style=\"stroke: #038048; stroke-width: 1.0;\"/><text fill=\"#000000\" font-family=\"sans-serif\" font-size=\"11\" lengthAdjust=\"spacingAndGlyphs\" textLength=\"38\" x=\"478\" y=\"75.0151\">swim()</text><ellipse cx=\"469\" cy=\"85.5117\" fill=\"#84BE84\" rx=\"3\" ry=\"3\" style=\"stroke: #038048; stroke-width: 1.0;\"/><text fill=\"#000000\" font-family=\"sans-serif\" font-size=\"11\" lengthAdjust=\"spacingAndGlyphs\" textLength=\"48\" x=\"478\" y=\"87.8198\">display()</text><rect fill=\"#FEFECE\" filter=\"url(#f1)\" height=\"48\" style=\"stroke: #A80036; stroke-width: 1.5;\" width=\"108\" x=\"161\" y=\"154\"/><ellipse cx=\"176\" cy=\"170\" fill=\"#ADD1B2\" rx=\"11\" ry=\"11\" style=\"stroke: #A80036; stroke-width: 1.0;\"/><path d=\"M178.9688,175.6406 Q178.3906,175.9375 177.75,176.0859 Q177.1094,176.2344 176.4063,176.2344 Q173.9063,176.2344 172.5859,174.5859 Q171.2656,172.9375 171.2656,169.8125 Q171.2656,166.6875 172.5859,165.0313 Q173.9063,163.375 176.4063,163.375 Q177.1094,163.375 177.7578,163.5313 Q178.4063,163.6875 178.9688,163.9844 L178.9688,166.7031 Q178.3438,166.125 177.75,165.8516 Q177.1563,165.5781 176.5313,165.5781 Q175.1875,165.5781 174.5,166.6484 Q173.8125,167.7188 173.8125,169.8125 Q173.8125,171.9063 174.5,172.9766 Q175.1875,174.0469 176.5313,174.0469 Q177.1563,174.0469 177.75,173.7734 Q178.3438,173.5 178.9688,172.9219 L178.9688,175.6406 Z \"/><text fill=\"#000000\" font-family=\"sans-serif\" font-size=\"12\" lengthAdjust=\"spacingAndGlyphs\" textLength=\"76\" x=\"190\" y=\"174.1543\">MallardDuck</text><line style=\"stroke: #A80036; stroke-width: 1.5;\" x1=\"162\" x2=\"268\" y1=\"186\" y2=\"186\"/><line style=\"stroke: #A80036; stroke-width: 1.5;\" x1=\"162\" x2=\"268\" y1=\"194\" y2=\"194\"/><rect fill=\"#FEFECE\" filter=\"url(#f1)\" height=\"48\" style=\"stroke: #A80036; stroke-width: 1.5;\" width=\"128\" x=\"447\" y=\"154\"/><ellipse cx=\"462\" cy=\"170\" fill=\"#ADD1B2\" rx=\"11\" ry=\"11\" style=\"stroke: #A80036; stroke-width: 1.0;\"/><path d=\"M464.9688,175.6406 Q464.3906,175.9375 463.75,176.0859 Q463.1094,176.2344 462.4063,176.2344 Q459.9063,176.2344 458.5859,174.5859 Q457.2656,172.9375 457.2656,169.8125 Q457.2656,166.6875 458.5859,165.0313 Q459.9063,163.375 462.4063,163.375 Q463.1094,163.375 463.7578,163.5313 Q464.4063,163.6875 464.9688,163.9844 L464.9688,166.7031 Q464.3438,166.125 463.75,165.8516 Q463.1563,165.5781 462.5313,165.5781 Q461.1875,165.5781 460.5,166.6484 Q459.8125,167.7188 459.8125,169.8125 Q459.8125,171.9063 460.5,172.9766 Q461.1875,174.0469 462.5313,174.0469 Q463.1563,174.0469 463.75,173.7734 Q464.3438,173.5 464.9688,172.9219 L464.9688,175.6406 Z \"/><text fill=\"#000000\" font-family=\"sans-serif\" font-size=\"12\" lengthAdjust=\"spacingAndGlyphs\" textLength=\"96\" x=\"476\" y=\"174.1543\">ReadHeadDuck</text><line style=\"stroke: #A80036; stroke-width: 1.5;\" x1=\"448\" x2=\"574\" y1=\"186\" y2=\"186\"/><line style=\"stroke: #A80036; stroke-width: 1.5;\" x1=\"448\" x2=\"574\" y1=\"194\" y2=\"194\"/><rect fill=\"#FEFECE\" filter=\"url(#f1)\" height=\"48\" style=\"stroke: #A80036; stroke-width: 1.5;\" width=\"108\" x=\"304\" y=\"154\"/><ellipse cx=\"319\" cy=\"170\" fill=\"#ADD1B2\" rx=\"11\" ry=\"11\" style=\"stroke: #A80036; stroke-width: 1.0;\"/><path d=\"M321.9688,175.6406 Q321.3906,175.9375 320.75,176.0859 Q320.1094,176.2344 319.4063,176.2344 Q316.9063,176.2344 315.5859,174.5859 Q314.2656,172.9375 314.2656,169.8125 Q314.2656,166.6875 315.5859,165.0313 Q316.9063,163.375 319.4063,163.375 Q320.1094,163.375 320.7578,163.5313 Q321.4063,163.6875 321.9688,163.9844 L321.9688,166.7031 Q321.3438,166.125 320.75,165.8516 Q320.1563,165.5781 319.5313,165.5781 Q318.1875,165.5781 317.5,166.6484 Q316.8125,167.7188 316.8125,169.8125 Q316.8125,171.9063 317.5,172.9766 Q318.1875,174.0469 319.5313,174.0469 Q320.1563,174.0469 320.75,173.7734 Q321.3438,173.5 321.9688,172.9219 L321.9688,175.6406 Z \"/><text fill=\"#000000\" font-family=\"sans-serif\" font-size=\"12\" lengthAdjust=\"spacingAndGlyphs\" textLength=\"76\" x=\"333\" y=\"174.1543\">RubberDuck</text><line style=\"stroke: #A80036; stroke-width: 1.5;\" x1=\"305\" x2=\"411\" y1=\"186\" y2=\"186\"/><line style=\"stroke: #A80036; stroke-width: 1.5;\" x1=\"305\" x2=\"411\" y1=\"194\" y2=\"194\"/><rect fill=\"#FEFECE\" filter=\"url(#f1)\" height=\"48\" style=\"stroke: #A80036; stroke-width: 1.5;\" width=\"101\" x=\"610.5\" y=\"154\"/><ellipse cx=\"625.5\" cy=\"170\" fill=\"#ADD1B2\" rx=\"11\" ry=\"11\" style=\"stroke: #A80036; stroke-width: 1.0;\"/><path d=\"M628.4688,175.6406 Q627.8906,175.9375 627.25,176.0859 Q626.6094,176.2344 625.9063,176.2344 Q623.4063,176.2344 622.0859,174.5859 Q620.7656,172.9375 620.7656,169.8125 Q620.7656,166.6875 622.0859,165.0313 Q623.4063,163.375 625.9063,163.375 Q626.6094,163.375 627.2578,163.5313 Q627.9063,163.6875 628.4688,163.9844 L628.4688,166.7031 Q627.8438,166.125 627.25,165.8516 Q626.6563,165.5781 626.0313,165.5781 Q624.6875,165.5781 624,166.6484 Q623.3125,167.7188 623.3125,169.8125 Q623.3125,171.9063 624,172.9766 Q624.6875,174.0469 626.0313,174.0469 Q626.6563,174.0469 627.25,173.7734 Q627.8438,173.5 628.4688,172.9219 L628.4688,175.6406 Z \"/><text fill=\"#000000\" font-family=\"sans-serif\" font-size=\"12\" lengthAdjust=\"spacingAndGlyphs\" textLength=\"69\" x=\"639.5\" y=\"174.1543\">DecoyDuck</text><line style=\"stroke: #A80036; stroke-width: 1.5;\" x1=\"611.5\" x2=\"710.5\" y1=\"186\" y2=\"186\"/><line style=\"stroke: #A80036; stroke-width: 1.5;\" x1=\"611.5\" x2=\"710.5\" y1=\"194\" y2=\"194\"/><rect fill=\"#FEFECE\" filter=\"url(#f1)\" height=\"60.8047\" style=\"stroke: #A80036; stroke-width: 1.5;\" width=\"76\" x=\"102\" y=\"20.5\"/><ellipse cx=\"117\" cy=\"36.5\" fill=\"#B4A7E5\" rx=\"11\" ry=\"11\" style=\"stroke: #A80036; stroke-width: 1.0;\"/><path d=\"M112.9219,32.2656 L112.9219,30.1094 L120.3125,30.1094 L120.3125,32.2656 L117.8438,32.2656 L117.8438,40.3438 L120.3125,40.3438 L120.3125,42.5 L112.9219,42.5 L112.9219,40.3438 L115.3906,40.3438 L115.3906,32.2656 L112.9219,32.2656 Z \"/><text fill=\"#000000\" font-family=\"sans-serif\" font-size=\"12\" font-style=\"italic\" lengthAdjust=\"spacingAndGlyphs\" textLength=\"44\" x=\"131\" y=\"40.6543\">Flyable</text><line style=\"stroke: #A80036; stroke-width: 1.5;\" x1=\"103\" x2=\"177\" y1=\"52.5\" y2=\"52.5\"/><line style=\"stroke: #A80036; stroke-width: 1.5;\" x1=\"103\" x2=\"177\" y1=\"60.5\" y2=\"60.5\"/><ellipse cx=\"113\" cy=\"72.4023\" fill=\"#84BE84\" rx=\"3\" ry=\"3\" style=\"stroke: #038048; stroke-width: 1.0;\"/><text fill=\"#000000\" font-family=\"sans-serif\" font-size=\"11\" lengthAdjust=\"spacingAndGlyphs\" textLength=\"21\" x=\"122\" y=\"74.7104\">fly()</text><rect fill=\"#FEFECE\" filter=\"url(#f1)\" height=\"48\" style=\"stroke: #A80036; stroke-width: 1.5;\" width=\"120\" x=\"6\" y=\"154\"/><ellipse cx=\"21\" cy=\"170\" fill=\"#ADD1B2\" rx=\"11\" ry=\"11\" style=\"stroke: #A80036; stroke-width: 1.0;\"/><path d=\"M23.9688,175.6406 Q23.3906,175.9375 22.75,176.0859 Q22.1094,176.2344 21.4063,176.2344 Q18.9063,176.2344 17.5859,174.5859 Q16.2656,172.9375 16.2656,169.8125 Q16.2656,166.6875 17.5859,165.0313 Q18.9063,163.375 21.4063,163.375 Q22.1094,163.375 22.7578,163.5313 Q23.4063,163.6875 23.9688,163.9844 L23.9688,166.7031 Q23.3438,166.125 22.75,165.8516 Q22.1563,165.5781 21.5313,165.5781 Q20.1875,165.5781 19.5,166.6484 Q18.8125,167.7188 18.8125,169.8125 Q18.8125,171.9063 19.5,172.9766 Q20.1875,174.0469 21.5313,174.0469 Q22.1563,174.0469 22.75,173.7734 Q23.3438,173.5 23.9688,172.9219 L23.9688,175.6406 Z \"/><text fill=\"#000000\" font-family=\"sans-serif\" font-size=\"12\" lengthAdjust=\"spacingAndGlyphs\" textLength=\"88\" x=\"35\" y=\"174.1543\">RedHeadDuck</text><line style=\"stroke: #A80036; stroke-width: 1.5;\" x1=\"7\" x2=\"125\" y1=\"186\" y2=\"186\"/><line style=\"stroke: #A80036; stroke-width: 1.5;\" x1=\"7\" x2=\"125\" y1=\"194\" y2=\"194\"/><rect fill=\"#FEFECE\" filter=\"url(#f1)\" height=\"60.8047\" style=\"stroke: #A80036; stroke-width: 1.5;\" width=\"97\" x=\"309.5\" y=\"20.5\"/><ellipse cx=\"324.5\" cy=\"36.5\" fill=\"#B4A7E5\" rx=\"11\" ry=\"11\" style=\"stroke: #A80036; stroke-width: 1.0;\"/><path d=\"M320.4219,32.2656 L320.4219,30.1094 L327.8125,30.1094 L327.8125,32.2656 L325.3438,32.2656 L325.3438,40.3438 L327.8125,40.3438 L327.8125,42.5 L320.4219,42.5 L320.4219,40.3438 L322.8906,40.3438 L322.8906,32.2656 L320.4219,32.2656 Z \"/><text fill=\"#000000\" font-family=\"sans-serif\" font-size=\"12\" font-style=\"italic\" lengthAdjust=\"spacingAndGlyphs\" textLength=\"65\" x=\"338.5\" y=\"40.6543\">Quackable</text><line style=\"stroke: #A80036; stroke-width: 1.5;\" x1=\"310.5\" x2=\"405.5\" y1=\"52.5\" y2=\"52.5\"/><line style=\"stroke: #A80036; stroke-width: 1.5;\" x1=\"310.5\" x2=\"405.5\" y1=\"60.5\" y2=\"60.5\"/><ellipse cx=\"320.5\" cy=\"72.4023\" fill=\"#84BE84\" rx=\"3\" ry=\"3\" style=\"stroke: #038048; stroke-width: 1.0;\"/><text fill=\"#000000\" font-family=\"sans-serif\" font-size=\"11\" lengthAdjust=\"spacingAndGlyphs\" textLength=\"41\" x=\"329.5\" y=\"74.7104\">quack()</text><path d=\"M440.216,85.541 C434.797,88.515 429.331,91.385 424,94 C372.827,119.1061 312.044,142.5718 269.258,158.1023 \" fill=\"none\" style=\"stroke: #A80036; stroke-width: 1.0;\"/><polygon fill=\"none\" points=\"436.815,79.422,457.652,75.57,443.765,91.575,436.815,79.422\" style=\"stroke: #A80036; stroke-width: 1.0;\"/><path d=\"M502.999,114.495 C504.791,128.489 506.582,142.4833 508.014,153.6717 \" fill=\"none\" style=\"stroke: #A80036; stroke-width: 1.0;\"/><polygon fill=\"none\" points=\"496.013,115.0462,500.417,94.319,509.9,113.2687,496.013,115.0462\" style=\"stroke: #A80036; stroke-width: 1.0;\"/><path d=\"M442.877,99.557 C422.506,118.144 400.082,138.6037 383.401,153.8236 \" fill=\"none\" style=\"stroke: #A80036; stroke-width: 1.0;\"/><polygon fill=\"none\" points=\"438.433,94.136,457.926,85.827,447.87,104.4781,438.433,94.136\" style=\"stroke: #A80036; stroke-width: 1.0;\"/><path d=\"M548.357,92.178 C575.422,112.5588 607.329,136.5851 630.262,153.8539 \" fill=\"none\" style=\"stroke: #A80036; stroke-width: 1.0;\"/><polygon fill=\"none\" points=\"544.02,97.675,532.254,80.052,552.441,86.491,544.02,97.675\" style=\"stroke: #A80036; stroke-width: 1.0;\"/><path d=\"M168.068,98.78 C179.346,117.5762 191.84,138.4005 201.1,153.8339 \" fill=\"none\" style=\"stroke: #A80036; stroke-width: 1.0; stroke-dasharray: 7.0,7.0;\"/><polygon fill=\"none\" points=\"162.061,102.3746,157.774,81.623,174.066,95.172,162.061,102.3746\" style=\"stroke: #A80036; stroke-width: 1.0;\"/><path d=\"M112.134,99.071 C101.0519,117.7907 88.8038,138.4801 79.7143,153.8339 \" fill=\"none\" style=\"stroke: #A80036; stroke-width: 1.0; stroke-dasharray: 7.0,7.0;\"/><polygon fill=\"none\" points=\"106.251,95.268,122.463,81.623,118.298,102.3996,106.251,95.268\" style=\"stroke: #A80036; stroke-width: 1.0;\"/><path d=\"M308.772,95.031 C286.201,114.7611 260.341,137.3663 241.502,153.8339 \" fill=\"none\" style=\"stroke: #A80036; stroke-width: 1.0; stroke-dasharray: 7.0,7.0;\"/><polygon fill=\"none\" points=\"304.446,89.516,324.111,81.623,313.66,100.056,304.446,89.516\" style=\"stroke: #A80036; stroke-width: 1.0;\"/><path d=\"M409.971,94.46 C434.284,114.3237 462.294,137.2072 482.645,153.8339 \" fill=\"none\" style=\"stroke: #A80036; stroke-width: 1.0; stroke-dasharray: 7.0,7.0;\"/><polygon fill=\"none\" points=\"405.318,99.698,394.259,81.623,414.176,88.856,405.318,99.698\" style=\"stroke: #A80036; stroke-width: 1.0;\"/><path d=\"M358,101.702 C358,119.7087 358,139.1961 358,153.8339 \" fill=\"none\" style=\"stroke: #A80036; stroke-width: 1.0; stroke-dasharray: 7.0,7.0;\"/><polygon fill=\"none\" points=\"351,101.623,358,81.623,365,101.623,351,101.623\" style=\"stroke: #A80036; stroke-width: 1.0;\"/></g></svg>"
      ],
      "text/plain": [
       "<IPython.core.display.SVG object>"
      ]
     },
     "execution_count": 2,
     "metadata": {},
     "output_type": "execute_result"
    }
   ],
   "source": [
    "%%plantuml\n",
    "\n",
    "@startuml\n",
    "\n",
    "Duck <|-- MallardDuck\n",
    "Duck <|-- ReadHeadDuck\n",
    "Duck <|-- RubberDuck\n",
    "Duck <|-- DecoyDuck\n",
    "\n",
    "Flyable <|.. MallardDuck\n",
    "Flyable <|.. RedHeadDuck\n",
    "\n",
    "Quackable <|.. MallardDuck\n",
    "Quackable <|.. ReadHeadDuck\n",
    "Quackable <|.. RubberDuck\n",
    "\n",
    "class Duck {\n",
    "  -field1\n",
    "  +swim()\n",
    "  +display()\n",
    "}\n",
    "\n",
    "Interface Flyable {\n",
    "    +fly()\n",
    "}\n",
    "\n",
    "Interface Quackable {\n",
    "    +quack()\n",
    "}\n",
    "\n",
    "@enduml"
   ]
  },
  {
   "cell_type": "code",
   "execution_count": 18,
   "metadata": {
    "collapsed": false,
    "slideshow": {
     "slide_type": "slide"
    }
   },
   "outputs": [
    {
     "data": {
      "image/svg+xml": [
       "<svg height=\"322px\" style=\"width:698px;height:322px;\" version=\"1.1\" viewBox=\"0 0 698 322\" width=\"698px\" xmlns=\"http://www.w3.org/2000/svg\" xmlns:xlink=\"http://www.w3.org/1999/xlink\"><defs><filter height=\"300%\" id=\"f1\" width=\"300%\" x=\"-1\" y=\"-1\"><feGaussianBlur result=\"blurOut\" stdDeviation=\"2.0\"/><feColorMatrix in=\"blurOut\" result=\"blurOut2\" type=\"matrix\" values=\"0 0 0 0 0 0 0 0 0 0 0 0 0 0 0 0 0 0 .4 0\"/><feOffset dx=\"4.0\" dy=\"4.0\" in=\"blurOut2\" result=\"blurOut3\"/><feBlend in=\"SourceGraphic\" in2=\"blurOut3\" mode=\"normal\"/></filter></defs><g><rect fill=\"#FEFECE\" filter=\"url(#f1)\" height=\"151.6406\" style=\"stroke: #A80036; stroke-width: 1.5;\" width=\"187\" x=\"62.5\" y=\"53\"/><ellipse cx=\"137.25\" cy=\"69\" fill=\"#ADD1B2\" rx=\"11\" ry=\"11\" style=\"stroke: #A80036; stroke-width: 1.0;\"/><path d=\"M140.2231,74.6431 Q139.6421,74.9419 139.0029,75.0913 Q138.3638,75.2407 137.6582,75.2407 Q135.1514,75.2407 133.8315,73.5889 Q132.5117,71.937 132.5117,68.8159 Q132.5117,65.6865 133.8315,64.0347 Q135.1514,62.3828 137.6582,62.3828 Q138.3638,62.3828 139.0112,62.5322 Q139.6587,62.6816 140.2231,62.9805 L140.2231,65.7031 Q139.5923,65.1221 138.9988,64.8523 Q138.4053,64.5825 137.7744,64.5825 Q136.4297,64.5825 135.7449,65.6492 Q135.0601,66.7158 135.0601,68.8159 Q135.0601,70.9077 135.7449,71.9744 Q136.4297,73.041 137.7744,73.041 Q138.4053,73.041 138.9988,72.7712 Q139.5923,72.5015 140.2231,71.9204 Z \"/><text fill=\"#000000\" font-family=\"sans-serif\" font-size=\"12\" lengthAdjust=\"spacingAndGlyphs\" textLength=\"29\" x=\"157.75\" y=\"73.5352\">Duck</text><line style=\"stroke: #A80036; stroke-width: 1.5;\" x1=\"63.5\" x2=\"248.5\" y1=\"85\" y2=\"85\"/><rect fill=\"none\" height=\"6\" style=\"stroke: #C82930; stroke-width: 1.0;\" width=\"6\" x=\"70.5\" y=\"93.9775\"/><text fill=\"#000000\" font-family=\"sans-serif\" font-size=\"11\" lengthAdjust=\"spacingAndGlyphs\" textLength=\"123\" x=\"82.5\" y=\"99.6348\">flyBehavior:FlyBehavior</text><rect fill=\"none\" height=\"6\" style=\"stroke: #C82930; stroke-width: 1.0;\" width=\"6\" x=\"70.5\" y=\"106.9326\"/><text fill=\"#000000\" font-family=\"sans-serif\" font-size=\"11\" lengthAdjust=\"spacingAndGlyphs\" textLength=\"161\" x=\"82.5\" y=\"112.5898\">quackBehavior:QuackBehavior</text><line style=\"stroke: #A80036; stroke-width: 1.5;\" x1=\"63.5\" x2=\"248.5\" y1=\"118.9102\" y2=\"118.9102\"/><ellipse cx=\"73.5\" cy=\"130.8877\" fill=\"#84BE84\" rx=\"3\" ry=\"3\" style=\"stroke: #038048; stroke-width: 1.0;\"/><text fill=\"#000000\" font-family=\"sans-serif\" font-size=\"11\" lengthAdjust=\"spacingAndGlyphs\" textLength=\"35\" x=\"82.5\" y=\"133.5449\">swim()</text><ellipse cx=\"73.5\" cy=\"143.8428\" fill=\"#84BE84\" rx=\"3\" ry=\"3\" style=\"stroke: #038048; stroke-width: 1.0;\"/><text fill=\"#000000\" font-family=\"sans-serif\" font-size=\"11\" lengthAdjust=\"spacingAndGlyphs\" textLength=\"46\" x=\"82.5\" y=\"146.5\">display()</text><ellipse cx=\"73.5\" cy=\"156.7979\" fill=\"#84BE84\" rx=\"3\" ry=\"3\" style=\"stroke: #038048; stroke-width: 1.0;\"/><text fill=\"#000000\" font-family=\"sans-serif\" font-size=\"11\" lengthAdjust=\"spacingAndGlyphs\" textLength=\"86\" x=\"82.5\" y=\"159.4551\">performQuack()</text><ellipse cx=\"73.5\" cy=\"169.7529\" fill=\"#84BE84\" rx=\"3\" ry=\"3\" style=\"stroke: #038048; stroke-width: 1.0;\"/><text fill=\"#000000\" font-family=\"sans-serif\" font-size=\"11\" lengthAdjust=\"spacingAndGlyphs\" textLength=\"67\" x=\"82.5\" y=\"172.4102\">performFly()</text><ellipse cx=\"73.5\" cy=\"182.708\" fill=\"#84BE84\" rx=\"3\" ry=\"3\" style=\"stroke: #038048; stroke-width: 1.0;\"/><text fill=\"#000000\" font-family=\"sans-serif\" font-size=\"11\" lengthAdjust=\"spacingAndGlyphs\" textLength=\"85\" x=\"82.5\" y=\"185.3652\">setFlyBehavior()</text><ellipse cx=\"73.5\" cy=\"195.6631\" fill=\"#84BE84\" rx=\"3\" ry=\"3\" style=\"stroke: #038048; stroke-width: 1.0;\"/><text fill=\"#000000\" font-family=\"sans-serif\" font-size=\"11\" lengthAdjust=\"spacingAndGlyphs\" textLength=\"104\" x=\"82.5\" y=\"198.3203\">setQuackBehavior()</text><rect fill=\"#FEFECE\" filter=\"url(#f1)\" height=\"48\" style=\"stroke: #A80036; stroke-width: 1.5;\" width=\"104\" x=\"137\" y=\"265\"/><ellipse cx=\"152\" cy=\"281\" fill=\"#ADD1B2\" rx=\"11\" ry=\"11\" style=\"stroke: #A80036; stroke-width: 1.0;\"/><path d=\"M154.9731,286.6431 Q154.3921,286.9419 153.7529,287.0913 Q153.1138,287.2407 152.4082,287.2407 Q149.9014,287.2407 148.5815,285.5889 Q147.2617,283.937 147.2617,280.8159 Q147.2617,277.6865 148.5815,276.0347 Q149.9014,274.3828 152.4082,274.3828 Q153.1138,274.3828 153.7612,274.5322 Q154.4087,274.6816 154.9731,274.9805 L154.9731,277.7031 Q154.3423,277.1221 153.7488,276.8523 Q153.1553,276.5825 152.5244,276.5825 Q151.1797,276.5825 150.4949,277.6492 Q149.8101,278.7158 149.8101,280.8159 Q149.8101,282.9077 150.4949,283.9744 Q151.1797,285.041 152.5244,285.041 Q153.1553,285.041 153.7488,284.7712 Q154.3423,284.5015 154.9731,283.9204 Z \"/><text fill=\"#000000\" font-family=\"sans-serif\" font-size=\"12\" lengthAdjust=\"spacingAndGlyphs\" textLength=\"72\" x=\"166\" y=\"285.5352\">MallardDuck</text><line style=\"stroke: #A80036; stroke-width: 1.5;\" x1=\"138\" x2=\"240\" y1=\"297\" y2=\"297\"/><line style=\"stroke: #A80036; stroke-width: 1.5;\" x1=\"138\" x2=\"240\" y1=\"305\" y2=\"305\"/><rect fill=\"#FEFECE\" filter=\"url(#f1)\" height=\"48\" style=\"stroke: #A80036; stroke-width: 1.5;\" width=\"96\" x=\"6\" y=\"265\"/><ellipse cx=\"21\" cy=\"281\" fill=\"#ADD1B2\" rx=\"11\" ry=\"11\" style=\"stroke: #A80036; stroke-width: 1.0;\"/><path d=\"M23.9731,286.6431 Q23.3921,286.9419 22.7529,287.0913 Q22.1138,287.2407 21.4082,287.2407 Q18.9014,287.2407 17.5815,285.5889 Q16.2617,283.937 16.2617,280.8159 Q16.2617,277.6865 17.5815,276.0347 Q18.9014,274.3828 21.4082,274.3828 Q22.1138,274.3828 22.7612,274.5322 Q23.4087,274.6816 23.9731,274.9805 L23.9731,277.7031 Q23.3423,277.1221 22.7488,276.8523 Q22.1553,276.5825 21.5244,276.5825 Q20.1797,276.5825 19.4949,277.6492 Q18.8101,278.7158 18.8101,280.8159 Q18.8101,282.9077 19.4949,283.9744 Q20.1797,285.041 21.5244,285.041 Q22.1553,285.041 22.7488,284.7712 Q23.3423,284.5015 23.9731,283.9204 Z \"/><text fill=\"#000000\" font-family=\"sans-serif\" font-size=\"12\" lengthAdjust=\"spacingAndGlyphs\" textLength=\"64\" x=\"35\" y=\"285.5352\">ModelDuck</text><line style=\"stroke: #A80036; stroke-width: 1.5;\" x1=\"7\" x2=\"101\" y1=\"297\" y2=\"297\"/><line style=\"stroke: #A80036; stroke-width: 1.5;\" x1=\"7\" x2=\"101\" y1=\"305\" y2=\"305\"/><rect fill=\"#FEFECE\" filter=\"url(#f1)\" height=\"60.9551\" style=\"stroke: #A80036; stroke-width: 1.5;\" width=\"96\" x=\"437\" y=\"98.5\"/><ellipse cx=\"452\" cy=\"114.5\" fill=\"#B4A7E5\" rx=\"11\" ry=\"11\" style=\"stroke: #A80036; stroke-width: 1.0;\"/><path d=\"M447.9277,110.2651 L447.9277,108.1069 L455.3071,108.1069 L455.3071,110.2651 L452.8418,110.2651 L452.8418,118.3418 L455.3071,118.3418 L455.3071,120.5 L447.9277,120.5 L447.9277,118.3418 L450.3931,118.3418 L450.3931,110.2651 Z \"/><text fill=\"#000000\" font-family=\"sans-serif\" font-size=\"12\" font-style=\"italic\" lengthAdjust=\"spacingAndGlyphs\" textLength=\"64\" x=\"466\" y=\"119.0352\">FlyBehavior</text><line style=\"stroke: #A80036; stroke-width: 1.5;\" x1=\"438\" x2=\"532\" y1=\"130.5\" y2=\"130.5\"/><line style=\"stroke: #A80036; stroke-width: 1.5;\" x1=\"438\" x2=\"532\" y1=\"138.5\" y2=\"138.5\"/><ellipse cx=\"448\" cy=\"150.4775\" fill=\"#84BE84\" rx=\"3\" ry=\"3\" style=\"stroke: #038048; stroke-width: 1.0;\"/><text fill=\"#000000\" font-family=\"sans-serif\" font-size=\"11\" lengthAdjust=\"spacingAndGlyphs\" textLength=\"21\" x=\"457\" y=\"153.1348\">fly()</text><rect fill=\"#FEFECE\" filter=\"url(#f1)\" height=\"48\" style=\"stroke: #A80036; stroke-width: 1.5;\" width=\"104\" x=\"585\" y=\"265\"/><ellipse cx=\"600\" cy=\"281\" fill=\"#ADD1B2\" rx=\"11\" ry=\"11\" style=\"stroke: #A80036; stroke-width: 1.0;\"/><path d=\"M602.9731,286.6431 Q602.3921,286.9419 601.7529,287.0913 Q601.1138,287.2407 600.4082,287.2407 Q597.9014,287.2407 596.5815,285.5889 Q595.2617,283.937 595.2617,280.8159 Q595.2617,277.6865 596.5815,276.0347 Q597.9014,274.3828 600.4082,274.3828 Q601.1138,274.3828 601.7612,274.5322 Q602.4087,274.6816 602.9731,274.9805 L602.9731,277.7031 Q602.3423,277.1221 601.7488,276.8523 Q601.1553,276.5825 600.5244,276.5825 Q599.1797,276.5825 598.4949,277.6492 Q597.8101,278.7158 597.8101,280.8159 Q597.8101,282.9077 598.4949,283.9744 Q599.1797,285.041 600.5244,285.041 Q601.1553,285.041 601.7488,284.7712 Q602.3423,284.5015 602.9731,283.9204 Z \"/><text fill=\"#000000\" font-family=\"sans-serif\" font-size=\"12\" lengthAdjust=\"spacingAndGlyphs\" textLength=\"72\" x=\"614\" y=\"285.5352\">FlyWithWings</text><line style=\"stroke: #A80036; stroke-width: 1.5;\" x1=\"586\" x2=\"688\" y1=\"297\" y2=\"297\"/><line style=\"stroke: #A80036; stroke-width: 1.5;\" x1=\"586\" x2=\"688\" y1=\"305\" y2=\"305\"/><rect fill=\"#FEFECE\" filter=\"url(#f1)\" height=\"48\" style=\"stroke: #A80036; stroke-width: 1.5;\" width=\"136\" x=\"414\" y=\"265\"/><ellipse cx=\"429\" cy=\"281\" fill=\"#ADD1B2\" rx=\"11\" ry=\"11\" style=\"stroke: #A80036; stroke-width: 1.0;\"/><path d=\"M431.9731,286.6431 Q431.3921,286.9419 430.7529,287.0913 Q430.1138,287.2407 429.4082,287.2407 Q426.9014,287.2407 425.5815,285.5889 Q424.2617,283.937 424.2617,280.8159 Q424.2617,277.6865 425.5815,276.0347 Q426.9014,274.3828 429.4082,274.3828 Q430.1138,274.3828 430.7612,274.5322 Q431.4087,274.6816 431.9731,274.9805 L431.9731,277.7031 Q431.3423,277.1221 430.7488,276.8523 Q430.1553,276.5825 429.5244,276.5825 Q428.1797,276.5825 427.4949,277.6492 Q426.8101,278.7158 426.8101,280.8159 Q426.8101,282.9077 427.4949,283.9744 Q428.1797,285.041 429.5244,285.041 Q430.1553,285.041 430.7488,284.7712 Q431.3423,284.5015 431.9731,283.9204 Z \"/><text fill=\"#000000\" font-family=\"sans-serif\" font-size=\"12\" lengthAdjust=\"spacingAndGlyphs\" textLength=\"104\" x=\"443\" y=\"285.5352\">FlyRocketPowered</text><line style=\"stroke: #A80036; stroke-width: 1.5;\" x1=\"415\" x2=\"549\" y1=\"297\" y2=\"297\"/><line style=\"stroke: #A80036; stroke-width: 1.5;\" x1=\"415\" x2=\"549\" y1=\"305\" y2=\"305\"/><rect fill=\"#FEFECE\" filter=\"url(#f1)\" height=\"60.9551\" style=\"stroke: #A80036; stroke-width: 1.5;\" width=\"117\" x=\"284.5\" y=\"98.5\"/><ellipse cx=\"299.5\" cy=\"114.5\" fill=\"#B4A7E5\" rx=\"11\" ry=\"11\" style=\"stroke: #A80036; stroke-width: 1.0;\"/><path d=\"M295.4277,110.2651 L295.4277,108.1069 L302.8071,108.1069 L302.8071,110.2651 L300.3418,110.2651 L300.3418,118.3418 L302.8071,118.3418 L302.8071,120.5 L295.4277,120.5 L295.4277,118.3418 L297.8931,118.3418 L297.8931,110.2651 Z \"/><text fill=\"#000000\" font-family=\"sans-serif\" font-size=\"12\" font-style=\"italic\" lengthAdjust=\"spacingAndGlyphs\" textLength=\"85\" x=\"313.5\" y=\"119.0352\">QuackBehavior</text><line style=\"stroke: #A80036; stroke-width: 1.5;\" x1=\"285.5\" x2=\"400.5\" y1=\"130.5\" y2=\"130.5\"/><line style=\"stroke: #A80036; stroke-width: 1.5;\" x1=\"285.5\" x2=\"400.5\" y1=\"138.5\" y2=\"138.5\"/><ellipse cx=\"295.5\" cy=\"150.4775\" fill=\"#84BE84\" rx=\"3\" ry=\"3\" style=\"stroke: #038048; stroke-width: 1.0;\"/><text fill=\"#000000\" font-family=\"sans-serif\" font-size=\"11\" lengthAdjust=\"spacingAndGlyphs\" textLength=\"40\" x=\"304.5\" y=\"153.1348\">quack()</text><rect fill=\"#FEFECE\" filter=\"url(#f1)\" height=\"48\" style=\"stroke: #A80036; stroke-width: 1.5;\" width=\"68\" x=\"309\" y=\"265\"/><ellipse cx=\"324\" cy=\"281\" fill=\"#ADD1B2\" rx=\"11\" ry=\"11\" style=\"stroke: #A80036; stroke-width: 1.0;\"/><path d=\"M326.9731,286.6431 Q326.3921,286.9419 325.7529,287.0913 Q325.1138,287.2407 324.4082,287.2407 Q321.9014,287.2407 320.5815,285.5889 Q319.2617,283.937 319.2617,280.8159 Q319.2617,277.6865 320.5815,276.0347 Q321.9014,274.3828 324.4082,274.3828 Q325.1138,274.3828 325.7612,274.5322 Q326.4087,274.6816 326.9731,274.9805 L326.9731,277.7031 Q326.3423,277.1221 325.7488,276.8523 Q325.1553,276.5825 324.5244,276.5825 Q323.1797,276.5825 322.4949,277.6492 Q321.8101,278.7158 321.8101,280.8159 Q321.8101,282.9077 322.4949,283.9744 Q323.1797,285.041 324.5244,285.041 Q325.1553,285.041 325.7488,284.7712 Q326.3423,284.5015 326.9731,283.9204 Z \"/><text fill=\"#000000\" font-family=\"sans-serif\" font-size=\"12\" lengthAdjust=\"spacingAndGlyphs\" textLength=\"36\" x=\"338\" y=\"285.5352\">Quack</text><line style=\"stroke: #A80036; stroke-width: 1.5;\" x1=\"310\" x2=\"376\" y1=\"297\" y2=\"297\"/><line style=\"stroke: #A80036; stroke-width: 1.5;\" x1=\"310\" x2=\"376\" y1=\"305\" y2=\"305\"/><path d=\"M175.837,224.9787 C178.922,239.7484 181.845,253.7404 184.148,264.7715 \" fill=\"none\" style=\"stroke: #A80036; stroke-width: 1.0;\"/><polygon fill=\"none\" points=\"168.964,226.3068,171.727,205.298,182.668,223.4445,168.964,226.3068\" style=\"stroke: #A80036; stroke-width: 1.0;\"/><path d=\"M96.4578,222.2321 C86.2735,238.0077 76.557,253.0587 68.9956,264.7715 \" fill=\"none\" style=\"stroke: #A80036; stroke-width: 1.0;\"/><polygon fill=\"none\" points=\"90.6614,218.3043,107.39,205.298,102.4234,225.8975,90.6614,218.3043\" style=\"stroke: #A80036; stroke-width: 1.0;\"/><path d=\"M527.531,174.21 C555.74,203.533 591.637,240.8465 614.475,264.5856 \" fill=\"none\" style=\"stroke: #A80036; stroke-width: 1.0; stroke-dasharray: 7.0,7.0;\"/><polygon fill=\"none\" points=\"522.411,178.985,513.59,159.719,532.501,169.279,522.411,178.985\" style=\"stroke: #A80036; stroke-width: 1.0;\"/><path d=\"M484.052,179.952 C483.514,208.269 482.866,242.371 482.445,264.5856 \" fill=\"none\" style=\"stroke: #A80036; stroke-width: 1.0; stroke-dasharray: 7.0,7.0;\"/><polygon fill=\"none\" points=\"477.057,179.582,484.436,159.719,491.055,179.848,477.057,179.582\" style=\"stroke: #A80036; stroke-width: 1.0;\"/><path d=\"M343,179.952 C343,208.269 343,242.371 343,264.5856 \" fill=\"none\" style=\"stroke: #A80036; stroke-width: 1.0; stroke-dasharray: 7.0,7.0;\"/><polygon fill=\"none\" points=\"336,179.719,343,159.719,350,179.719,336,179.719\" style=\"stroke: #A80036; stroke-width: 1.0;\"/><path d=\"M231.465,52.75 C247.729,40.556 265.72,29.746 284.5,23 C333.438,5.42 354.717,0.298 401.5,23 C431.659,37.635 454.191,69.027 468.2,93.871 \" fill=\"none\" style=\"stroke: #A80036; stroke-width: 1.0;\"/><polygon fill=\"#A80036\" points=\"470.716,98.429,469.8669,88.6168,468.299,94.052,462.8637,92.4841,470.716,98.429\" style=\"stroke: #A80036; stroke-width: 1.0;\"/><path d=\"M249.865,129 C259.676,129 269.486,129 279.297,129 \" fill=\"none\" style=\"stroke: #A80036; stroke-width: 1.0;\"/><polygon fill=\"#A80036\" points=\"284.427,129,275.427,125,279.427,129,275.427,133,284.427,129\" style=\"stroke: #A80036; stroke-width: 1.0;\"/></g></svg>"
      ],
      "text/plain": [
       "<IPython.core.display.SVG object>"
      ]
     },
     "execution_count": 18,
     "metadata": {},
     "output_type": "execute_result"
    }
   ],
   "source": [
    "%%plantuml\n",
    "@startuml\n",
    "Duck <|-- MallardDuck\n",
    "Duck <|-- ModelDuck\n",
    "FlyBehavior <|.. FlyWithWings\n",
    "FlyBehavior <|.. FlyRocketPowered\n",
    "QuackBehavior <|.. Quack\n",
    "Duck -> FlyBehavior\n",
    "Duck -> QuackBehavior\n",
    "class Duck {\n",
    "    -flyBehavior:FlyBehavior\n",
    "    -quackBehavior:QuackBehavior\n",
    "    +swim()\n",
    "    +display()\n",
    "    +performQuack()\n",
    "    +performFly()\n",
    "    +setFlyBehavior()\n",
    "    +setQuackBehavior()\n",
    "}\n",
    "Interface QuackBehavior {\n",
    "    +quack()\n",
    "}\n",
    "Interface FlyBehavior {\n",
    "    +fly()\n",
    "}\n",
    "@enduml"
   ]
  },
  {
   "cell_type": "code",
   "execution_count": 19,
   "metadata": {
    "collapsed": false,
    "slideshow": {
     "slide_type": "slide"
    }
   },
   "outputs": [
    {
     "data": {
      "image/svg+xml": [
       "<svg height=\"382px\" style=\"width:686px;height:382px;\" version=\"1.1\" viewBox=\"0 0 686 382\" width=\"686px\" xmlns=\"http://www.w3.org/2000/svg\" xmlns:xlink=\"http://www.w3.org/1999/xlink\"><defs><filter height=\"300%\" id=\"f1\" width=\"300%\" x=\"-1\" y=\"-1\"><feGaussianBlur result=\"blurOut\" stdDeviation=\"2.0\"/><feColorMatrix in=\"blurOut\" result=\"blurOut2\" type=\"matrix\" values=\"0 0 0 0 0 0 0 0 0 0 0 0 0 0 0 0 0 0 .4 0\"/><feOffset dx=\"4.0\" dy=\"4.0\" in=\"blurOut2\" result=\"blurOut3\"/><feBlend in=\"SourceGraphic\" in2=\"blurOut3\" mode=\"normal\"/></filter></defs><g><line style=\"stroke: #A80036; stroke-width: 1.0; stroke-dasharray: 5.0,5.0;\" x1=\"86\" x2=\"86\" y1=\"38.4883\" y2=\"343.5938\"/><line style=\"stroke: #A80036; stroke-width: 1.0; stroke-dasharray: 5.0,5.0;\" x1=\"258.5\" x2=\"258.5\" y1=\"38.4883\" y2=\"343.5938\"/><line style=\"stroke: #A80036; stroke-width: 1.0; stroke-dasharray: 5.0,5.0;\" x1=\"367.5\" x2=\"367.5\" y1=\"38.4883\" y2=\"343.5938\"/><line style=\"stroke: #A80036; stroke-width: 1.0; stroke-dasharray: 5.0,5.0;\" x1=\"495.5\" x2=\"495.5\" y1=\"38.4883\" y2=\"343.5938\"/><rect fill=\"#FEFECE\" filter=\"url(#f1)\" height=\"30.4883\" style=\"stroke: #A80036; stroke-width: 1.5;\" width=\"152\" x=\"8\" y=\"3\"/><text fill=\"#000000\" font-family=\"sans-serif\" font-size=\"14\" lengthAdjust=\"spacingAndGlyphs\" textLength=\"138\" x=\"15\" y=\"23.5352\">MiniDuckSimulator1</text><rect fill=\"#FEFECE\" filter=\"url(#f1)\" height=\"30.4883\" style=\"stroke: #A80036; stroke-width: 1.5;\" width=\"152\" x=\"8\" y=\"342.5938\"/><text fill=\"#000000\" font-family=\"sans-serif\" font-size=\"14\" lengthAdjust=\"spacingAndGlyphs\" textLength=\"138\" x=\"15\" y=\"363.1289\">MiniDuckSimulator1</text><rect fill=\"#FEFECE\" filter=\"url(#f1)\" height=\"30.4883\" style=\"stroke: #A80036; stroke-width: 1.5;\" width=\"99\" x=\"207.5\" y=\"3\"/><text fill=\"#000000\" font-family=\"sans-serif\" font-size=\"14\" lengthAdjust=\"spacingAndGlyphs\" textLength=\"85\" x=\"214.5\" y=\"23.5352\">MallardDuck</text><rect fill=\"#FEFECE\" filter=\"url(#f1)\" height=\"30.4883\" style=\"stroke: #A80036; stroke-width: 1.5;\" width=\"99\" x=\"207.5\" y=\"342.5938\"/><text fill=\"#000000\" font-family=\"sans-serif\" font-size=\"14\" lengthAdjust=\"spacingAndGlyphs\" textLength=\"85\" x=\"214.5\" y=\"363.1289\">MallardDuck</text><rect fill=\"#FEFECE\" filter=\"url(#f1)\" height=\"30.4883\" style=\"stroke: #A80036; stroke-width: 1.5;\" width=\"90\" x=\"320.5\" y=\"3\"/><text fill=\"#000000\" font-family=\"sans-serif\" font-size=\"14\" lengthAdjust=\"spacingAndGlyphs\" textLength=\"76\" x=\"327.5\" y=\"23.5352\">ModelDuck</text><rect fill=\"#FEFECE\" filter=\"url(#f1)\" height=\"30.4883\" style=\"stroke: #A80036; stroke-width: 1.5;\" width=\"90\" x=\"320.5\" y=\"342.5938\"/><text fill=\"#000000\" font-family=\"sans-serif\" font-size=\"14\" lengthAdjust=\"spacingAndGlyphs\" textLength=\"76\" x=\"327.5\" y=\"363.1289\">ModelDuck</text><rect fill=\"#FEFECE\" filter=\"url(#f1)\" height=\"30.4883\" style=\"stroke: #A80036; stroke-width: 1.5;\" width=\"138\" x=\"424.5\" y=\"3\"/><text fill=\"#000000\" font-family=\"sans-serif\" font-size=\"14\" lengthAdjust=\"spacingAndGlyphs\" textLength=\"124\" x=\"431.5\" y=\"23.5352\">FlyRocketPowered</text><rect fill=\"#FEFECE\" filter=\"url(#f1)\" height=\"30.4883\" style=\"stroke: #A80036; stroke-width: 1.5;\" width=\"138\" x=\"424.5\" y=\"342.5938\"/><text fill=\"#000000\" font-family=\"sans-serif\" font-size=\"14\" lengthAdjust=\"spacingAndGlyphs\" textLength=\"124\" x=\"431.5\" y=\"363.1289\">FlyRocketPowered</text><polygon fill=\"#A80036\" points=\"247,65.4883,257,69.4883,247,73.4883,251,69.4883\" style=\"stroke: #A80036; stroke-width: 1.0;\"/><line style=\"stroke: #A80036; stroke-width: 1.0;\" x1=\"86\" x2=\"253\" y1=\"69.4883\" y2=\"69.4883\"/><text fill=\"#000000\" font-family=\"sans-serif\" font-size=\"13\" lengthAdjust=\"spacingAndGlyphs\" textLength=\"90\" x=\"93\" y=\"65.0566\">mallard=new()</text><polygon fill=\"#A80036\" points=\"247,94.7988,257,98.7988,247,102.7988,251,98.7988\" style=\"stroke: #A80036; stroke-width: 1.0;\"/><line style=\"stroke: #A80036; stroke-width: 1.0;\" x1=\"86\" x2=\"253\" y1=\"98.7988\" y2=\"98.7988\"/><text fill=\"#000000\" font-family=\"sans-serif\" font-size=\"13\" lengthAdjust=\"spacingAndGlyphs\" textLength=\"149\" x=\"93\" y=\"94.3672\">mallard.performQuack()</text><polygon fill=\"#A80036\" points=\"247,136.7646,257,140.7646,247,144.7646,251,140.7646\" style=\"stroke: #A80036; stroke-width: 1.0;\"/><line style=\"stroke: #A80036; stroke-width: 1.0;\" x1=\"86\" x2=\"253\" y1=\"140.7646\" y2=\"140.7646\"/><text fill=\"#000000\" font-family=\"sans-serif\" font-size=\"13\" lengthAdjust=\"spacingAndGlyphs\" textLength=\"127\" x=\"93\" y=\"136.333\">mallard.performFly()</text><polygon fill=\"#FBFB77\" filter=\"url(#f1)\" points=\"264,112.1094,264,152.1094,530,152.1094,530,122.1094,520,112.1094,264,112.1094\" style=\"stroke: #A80036; stroke-width: 1.0;\"/><line style=\"stroke: #A80036; stroke-width: 1.0;\" x1=\"520\" x2=\"520\" y1=\"112.1094\" y2=\"122.1094\"/><line style=\"stroke: #A80036; stroke-width: 1.0;\" x1=\"530\" x2=\"520\" y1=\"122.1094\" y2=\"122.1094\"/><text fill=\"#000000\" font-family=\"sans-serif\" font-size=\"13\" lengthAdjust=\"spacingAndGlyphs\" textLength=\"245\" x=\"270\" y=\"129.6777\">use quack() of Interface QuackBehavior</text><text fill=\"#000000\" font-family=\"sans-serif\" font-size=\"13\" lengthAdjust=\"spacingAndGlyphs\" textLength=\"201\" x=\"270\" y=\"144.9883\">use fly() of Interface FlyBehavior</text><polygon fill=\"#A80036\" points=\"355.5,178.7305,365.5,182.7305,355.5,186.7305,359.5,182.7305\" style=\"stroke: #A80036; stroke-width: 1.0;\"/><line style=\"stroke: #A80036; stroke-width: 1.0;\" x1=\"86\" x2=\"361.5\" y1=\"182.7305\" y2=\"182.7305\"/><text fill=\"#000000\" font-family=\"sans-serif\" font-size=\"13\" lengthAdjust=\"spacingAndGlyphs\" textLength=\"76\" x=\"93\" y=\"178.2988\">model:new()</text><polygon fill=\"#A80036\" points=\"355.5,208.041,365.5,212.041,355.5,216.041,359.5,212.041\" style=\"stroke: #A80036; stroke-width: 1.0;\"/><line style=\"stroke: #A80036; stroke-width: 1.0;\" x1=\"86\" x2=\"361.5\" y1=\"212.041\" y2=\"212.041\"/><text fill=\"#000000\" font-family=\"sans-serif\" font-size=\"13\" lengthAdjust=\"spacingAndGlyphs\" textLength=\"123\" x=\"93\" y=\"207.6094\">model.performFly();</text><polygon fill=\"#A80036\" points=\"483.5,237.3516,493.5,241.3516,483.5,245.3516,487.5,241.3516\" style=\"stroke: #A80036; stroke-width: 1.0;\"/><line style=\"stroke: #A80036; stroke-width: 1.0;\" x1=\"86\" x2=\"489.5\" y1=\"241.3516\" y2=\"241.3516\"/><text fill=\"#000000\" font-family=\"sans-serif\" font-size=\"13\" lengthAdjust=\"spacingAndGlyphs\" textLength=\"61\" x=\"93\" y=\"236.9199\">frp=new()</text><polygon fill=\"#A80036\" points=\"355.5,266.6621,365.5,270.6621,355.5,274.6621,359.5,270.6621\" style=\"stroke: #A80036; stroke-width: 1.0;\"/><line style=\"stroke: #A80036; stroke-width: 1.0;\" x1=\"86\" x2=\"361.5\" y1=\"270.6621\" y2=\"270.6621\"/><text fill=\"#000000\" font-family=\"sans-serif\" font-size=\"13\" lengthAdjust=\"spacingAndGlyphs\" textLength=\"163\" x=\"93\" y=\"266.2305\">model.setFlyBehavior(frp);</text><polygon fill=\"#A80036\" points=\"355.5,308.6279,365.5,312.6279,355.5,316.6279,359.5,312.6279\" style=\"stroke: #A80036; stroke-width: 1.0;\"/><line style=\"stroke: #A80036; stroke-width: 1.0;\" x1=\"86\" x2=\"361.5\" y1=\"312.6279\" y2=\"312.6279\"/><text fill=\"#000000\" font-family=\"sans-serif\" font-size=\"13\" lengthAdjust=\"spacingAndGlyphs\" textLength=\"123\" x=\"93\" y=\"308.1963\">model.performFly();</text><polygon fill=\"#FBFB77\" filter=\"url(#f1)\" points=\"372,283.9727,372,323.9727,677,323.9727,677,293.9727,667,283.9727,372,283.9727\" style=\"stroke: #A80036; stroke-width: 1.0;\"/><line style=\"stroke: #A80036; stroke-width: 1.0;\" x1=\"667\" x2=\"667\" y1=\"283.9727\" y2=\"293.9727\"/><line style=\"stroke: #A80036; stroke-width: 1.0;\" x1=\"677\" x2=\"667\" y1=\"293.9727\" y2=\"293.9727\"/><text fill=\"#000000\" font-family=\"sans-serif\" font-size=\"13\" lengthAdjust=\"spacingAndGlyphs\" textLength=\"245\" x=\"378\" y=\"301.541\">use quack() of Interface QuackBehavior</text><text fill=\"#000000\" font-family=\"sans-serif\" font-size=\"13\" lengthAdjust=\"spacingAndGlyphs\" textLength=\"284\" x=\"378\" y=\"316.8516\">setFlyBehavior() with Class FlyRocketPowered</text></g></svg>"
      ],
      "text/plain": [
       "<IPython.core.display.SVG object>"
      ]
     },
     "execution_count": 19,
     "metadata": {},
     "output_type": "execute_result"
    }
   ],
   "source": [
    "%%plantuml\n",
    "@startuml\n",
    "MiniDuckSimulator1 -> MallardDuck:mallard=new()\n",
    "MiniDuckSimulator1 -> MallardDuck:mallard.performQuack()\n",
    "MiniDuckSimulator1 -> MallardDuck:mallard.performFly()\n",
    "note right\n",
    "    use quack() of Interface QuackBehavior\n",
    "    use fly() of Interface FlyBehavior\n",
    "end note\n",
    "\n",
    "MiniDuckSimulator1 -> ModelDuck:model:new()\n",
    "MiniDuckSimulator1 -> ModelDuck:model.performFly();\n",
    "MiniDuckSimulator1 -> FlyRocketPowered:frp=new()\n",
    "MiniDuckSimulator1 -> ModelDuck:model.setFlyBehavior(frp);\n",
    "MiniDuckSimulator1 -> ModelDuck:model.performFly();\n",
    "note right\n",
    "    use quack() of Interface QuackBehavior\n",
    "    setFlyBehavior() with Class FlyRocketPowered\n",
    "end note\n",
    "\n",
    "@enduml"
   ]
  },
  {
   "cell_type": "code",
   "execution_count": null,
   "metadata": {
    "collapsed": true,
    "slideshow": {
     "slide_type": "slide"
    }
   },
   "outputs": [],
   "source": [
    "# %load /Users/media/Code/git/sd/src/headfirst/strategy/MiniDuckSimulator1.java\n",
    "package headfirst.strategy;\n",
    "\n",
    "public class MiniDuckSimulator1 {\n",
    " \n",
    "\tpublic static void main(String[] args) {\n",
    " \n",
    "\t\tDuck mallard = new MallardDuck();\n",
    "\t\tmallard.performQuack();\n",
    "\t\tmallard.performFly();\n",
    "   \n",
    "\t\tDuck model = new ModelDuck();\n",
    "\t\tmodel.performFly();\n",
    "\t\tmodel.setFlyBehavior(new FlyRocketPowered());\n",
    "\t\tmodel.performFly();\n",
    "\t}\n",
    "}"
   ]
  },
  {
   "cell_type": "code",
   "execution_count": null,
   "metadata": {
    "collapsed": true,
    "slideshow": {
     "slide_type": "slide"
    }
   },
   "outputs": [],
   "source": [
    "# %load /Users/media/Code/git/sd/src/headfirst/strategy/Duck.java\n",
    "package headfirst.strategy;\n",
    "\n",
    "public abstract class Duck {\n",
    "\tFlyBehavior flyBehavior;\n",
    "\tQuackBehavior quackBehavior;\n",
    " \n",
    "\tpublic Duck() {\n",
    "\t}\n",
    " \n",
    "\tpublic void setFlyBehavior (FlyBehavior fb) {\n",
    "\t\tflyBehavior = fb;\n",
    "\t}\n",
    " \n",
    "\tpublic void setQuackBehavior(QuackBehavior qb) {\n",
    "\t\tquackBehavior = qb;\n",
    "\t}\n",
    " \n",
    "\tabstract void display();\n",
    " \n",
    "\tpublic void performFly() {\n",
    "\t\tflyBehavior.fly();\n",
    "\t}\n",
    " \n",
    "\tpublic void performQuack() {\n",
    "\t\tquackBehavior.quack();\n",
    "\t}\n",
    " \n",
    "\tpublic void swim() {\n",
    "\t\tSystem.out.println(\"All ducks float, even decoys!\");\n",
    "\t}\n",
    "}\n"
   ]
  },
  {
   "cell_type": "code",
   "execution_count": null,
   "metadata": {
    "collapsed": false,
    "slideshow": {
     "slide_type": "slide"
    }
   },
   "outputs": [],
   "source": [
    "# %load /Users/media/Code/git/sd/src/headfirst/strategy/MallardDuck.java\n",
    "package headfirst.strategy;\n",
    "\n",
    "public class MallardDuck extends Duck {\n",
    " \n",
    "\tpublic MallardDuck() {\n",
    " \n",
    "\t\tquackBehavior = new Quack();\n",
    "        flyBehavior = new FlyWithWings();\n",
    "\t}\n",
    " \n",
    "\tpublic void display() {\n",
    "\t\tSystem.out.println(\"I'm a real Mallard duck\");\n",
    "\t}\n",
    "}\n"
   ]
  },
  {
   "cell_type": "code",
   "execution_count": null,
   "metadata": {
    "collapsed": true
   },
   "outputs": [],
   "source": [
    "# %load /Users/media/Code/git/sd/src/headfirst/strategy/ModelDuck.java\n",
    "package headfirst.strategy;\n",
    "\n",
    "public class ModelDuck extends Duck {\n",
    "\tpublic ModelDuck() {\n",
    "\t\tflyBehavior = new FlyNoWay();\n",
    "\t\tquackBehavior = new Quack();\n",
    "\t}\n",
    "\n",
    "\tpublic void display() {\n",
    "\t\tSystem.out.println(\"I'm a model duck\");\n",
    "\t}\n",
    "}\n"
   ]
  },
  {
   "cell_type": "code",
   "execution_count": null,
   "metadata": {
    "collapsed": true
   },
   "outputs": [],
   "source": [
    "# %load /Users/media/Code/git/sd/src/headfirst/strategy/QuackBehavior.java\n",
    "package headfirst.strategy;\n",
    "\n",
    "public interface QuackBehavior {\n",
    "\tpublic void quack();\n",
    "}\n"
   ]
  },
  {
   "cell_type": "code",
   "execution_count": null,
   "metadata": {
    "collapsed": true
   },
   "outputs": [],
   "source": [
    "# %load /Users/media/Code/git/sd/src/headfirst/strategy/Quack.java\n",
    "package headfirst.strategy;\n",
    "\n",
    "public class Quack implements QuackBehavior {\n",
    "\tpublic void quack() {\n",
    "\t\tSystem.out.println(\"Quack\");\n",
    "\t}\n",
    "}\n"
   ]
  },
  {
   "cell_type": "code",
   "execution_count": null,
   "metadata": {
    "collapsed": true
   },
   "outputs": [],
   "source": [
    "# %load /Users/media/Code/git/sd/src/headfirst/strategy/FlyBehavior.java\n",
    "package headfirst.strategy;\n",
    "\n",
    "public interface FlyBehavior {\n",
    "\tpublic void fly();\n",
    "}\n"
   ]
  },
  {
   "cell_type": "code",
   "execution_count": null,
   "metadata": {
    "collapsed": true,
    "slideshow": {
     "slide_type": "slide"
    }
   },
   "outputs": [],
   "source": [
    "# %load /Users/media/Code/git/sd/src/headfirst/strategy/FlyWithWings.java\n",
    "package headfirst.strategy;\n",
    "\n",
    "public class FlyWithWings implements FlyBehavior {\n",
    "\tpublic void fly() {\n",
    "\t\tSystem.out.println(\"I'm flying!!\");\n",
    "\t}\n",
    "}\n"
   ]
  },
  {
   "cell_type": "code",
   "execution_count": null,
   "metadata": {
    "collapsed": true,
    "slideshow": {
     "slide_type": "slide"
    }
   },
   "outputs": [],
   "source": [
    "# %load /Users/media/Code/git/sd/src/headfirst/strategy/FlyRocketPowered.java\n",
    "package headfirst.strategy;\n",
    "\n",
    "public class FlyRocketPowered implements FlyBehavior {\n",
    "\tpublic void fly() {\n",
    "\t\tSystem.out.println(\"I'm flying with a rocket\");\n",
    "\t}\n",
    "}\n"
   ]
  },
  {
   "cell_type": "code",
   "execution_count": 10,
   "metadata": {
    "collapsed": false,
    "slideshow": {
     "slide_type": "slide"
    }
   },
   "outputs": [
    {
     "data": {
      "text/plain": [
       "u'/Users/media/Dropbox/Me/toCopy/smu'"
      ]
     },
     "execution_count": 10,
     "metadata": {},
     "output_type": "execute_result"
    }
   ],
   "source": [
    "%pwd"
   ]
  },
  {
   "cell_type": "code",
   "execution_count": null,
   "metadata": {
    "collapsed": true,
    "slideshow": {
     "slide_type": "slide"
    }
   },
   "outputs": [],
   "source": [
    "# change to the root directory\n",
    "!javac -d classes/ -sourcepath src/ src/headfirst/strategy/*.java\n",
    "!java -cp classes/ headfirst.strategy.MiniDuckSimulator1"
   ]
  },
  {
   "cell_type": "markdown",
   "metadata": {},
   "source": [
    "### 1.4.2 정렬\n",
    "\n",
    "* /*출처 -r 50-75 caseSort.md*/\n",
    "* 무엇이 문제인가? 중복되는가? 재사용할 수 있는가? 변하는 부분이 어떤 부분인가?\n",
    "    * 문제는 sort가 중복 -> v0에서 재현\n",
    "\n",
    "버전 | 설명\n",
    "-----|-----\n",
    "v0 | 정렬 알고리즘이 중복. 정수, 문자에 따라 비교 방식만 다르고 나머지 중복 \n",
    "v1 | Comparable\n",
    "v2 | Compararator\n",
    "\n"
   ]
  },
  {
   "cell_type": "markdown",
   "metadata": {
    "slideshow": {
     "slide_type": "slide"
    }
   },
   "source": [
    "##### v0\n",
    "\n",
    "* 숫자와 문자열을 정렬하는 경우, 알고리즘이 중복된다.\n",
    "* 중복정도는 비교하는 부분을 제외하고는 거의 같다.\n"
   ]
  },
  {
   "cell_type": "code",
   "execution_count": 26,
   "metadata": {
    "collapsed": false,
    "slideshow": {
     "slide_type": "slide"
    }
   },
   "outputs": [
    {
     "data": {
      "image/svg+xml": [
       "<svg height=\"90px\" style=\"width:143px;height:90px;\" version=\"1.1\" viewBox=\"0 0 143 90\" width=\"143px\" xmlns=\"http://www.w3.org/2000/svg\" xmlns:xlink=\"http://www.w3.org/1999/xlink\"><defs><filter height=\"300%\" id=\"f1\" width=\"300%\" x=\"-1\" y=\"-1\"><feGaussianBlur result=\"blurOut\" stdDeviation=\"2.0\"/><feColorMatrix in=\"blurOut\" result=\"blurOut2\" type=\"matrix\" values=\"0 0 0 0 0 0 0 0 0 0 0 0 0 0 0 0 0 0 .4 0\"/><feOffset dx=\"4.0\" dy=\"4.0\" in=\"blurOut2\" result=\"blurOut3\"/><feBlend in=\"SourceGraphic\" in2=\"blurOut3\" mode=\"normal\"/></filter></defs><g><rect fill=\"#FEFECE\" filter=\"url(#f1)\" height=\"73.9102\" style=\"stroke: #A80036; stroke-width: 1.5;\" width=\"128\" x=\"6\" y=\"8\"/><ellipse cx=\"48.9\" cy=\"24\" fill=\"#ADD1B2\" rx=\"11\" ry=\"11\" style=\"stroke: #A80036; stroke-width: 1.0;\"/><path d=\"M51.8731,29.6431 Q51.2921,29.9419 50.6529,30.0913 Q50.0138,30.2407 49.3082,30.2407 Q46.8014,30.2407 45.4815,28.5889 Q44.1617,26.937 44.1617,23.8159 Q44.1617,20.6865 45.4815,19.0347 Q46.8014,17.3828 49.3082,17.3828 Q50.0138,17.3828 50.6612,17.5322 Q51.3087,17.6816 51.8731,17.9805 L51.8731,20.7031 Q51.2423,20.1221 50.6488,19.8523 Q50.0553,19.5825 49.4244,19.5825 Q48.0797,19.5825 47.3949,20.6492 Q46.7101,21.7158 46.7101,23.8159 Q46.7101,25.9077 47.3949,26.9744 Q48.0797,28.041 49.4244,28.041 Q50.0553,28.041 50.6488,27.7712 Q51.2423,27.5015 51.8731,26.9204 Z \"/><text fill=\"#000000\" font-family=\"sans-serif\" font-size=\"12\" lengthAdjust=\"spacingAndGlyphs\" textLength=\"34\" x=\"69.1\" y=\"28.5352\">Sorter</text><line style=\"stroke: #A80036; stroke-width: 1.5;\" x1=\"7\" x2=\"133\" y1=\"40\" y2=\"40\"/><line style=\"stroke: #A80036; stroke-width: 1.5;\" x1=\"7\" x2=\"133\" y1=\"48\" y2=\"48\"/><ellipse cx=\"17\" cy=\"59.9775\" fill=\"#84BE84\" rx=\"3\" ry=\"3\" style=\"stroke: #038048; stroke-width: 1.0;\"/><text fill=\"#000000\" font-family=\"sans-serif\" font-size=\"11\" lengthAdjust=\"spacingAndGlyphs\" textLength=\"102\" x=\"26\" y=\"62.6348\">sort(Integer[]):void</text><ellipse cx=\"17\" cy=\"72.9326\" fill=\"#84BE84\" rx=\"3\" ry=\"3\" style=\"stroke: #038048; stroke-width: 1.0;\"/><text fill=\"#000000\" font-family=\"sans-serif\" font-size=\"11\" lengthAdjust=\"spacingAndGlyphs\" textLength=\"96\" x=\"26\" y=\"75.5898\">sort(String[]):void</text></g></svg>"
      ],
      "text/plain": [
       "<IPython.core.display.SVG object>"
      ]
     },
     "execution_count": 26,
     "metadata": {},
     "output_type": "execute_result"
    }
   ],
   "source": [
    "%%plantuml\n",
    "@startuml\n",
    "class Sorter {\n",
    "    +sort(Integer[]):void\n",
    "    +sort(String[]):void\n",
    "}\n",
    "@enduml"
   ]
  },
  {
   "cell_type": "markdown",
   "metadata": {
    "collapsed": true
   },
   "source": [
    "* String객체는 compareTo()를 사용하여 비교할 수 있다."
   ]
  },
  {
   "cell_type": "code",
   "execution_count": 17,
   "metadata": {
    "collapsed": false
   },
   "outputs": [
    {
     "name": "stdout",
     "output_type": "stream",
     "text": [
      " String[] data={\"John\", \"Adam\", \"Skrien\", \"Smith\", \"Jones\"};\r\n",
      "|  Modified variable data of type String[] with initial value [Ljava.lang.String;@25bbe1b6\r\n",
      "|    Update overwrote variable data\r\n",
      "\r\n",
      " \r\n",
      "\r\n",
      " for(int i=data.length-1;i>=0;i--) {\r\n",
      "     int indexOfMax=0;\r\n",
      "     for(int j=1;j<=i;j++) {\r\n",
      "         if(data[j].compareTo(data[indexOfMax])>0)\r\n",
      "             indexOfMax=j;\r\n",
      "     }\r\n",
      "     String temp=data[i];\r\n",
      "     data[i]=data[indexOfMax];\r\n",
      "     data[indexOfMax]=temp;\r\n",
      " }\r\n",
      "\r\n",
      " \r\n",
      "\r\n",
      " for(int i=0; i<data.length; i++)\r\n",
      "     System.out.println(\"data[\"+i+\"]=\"+data[i]);\r\n",
      "data[0]=Adam\r\n",
      "data[1]=John\r\n",
      "data[2]=Jones\r\n",
      "data[3]=Skrien\r\n",
      "data[4]=Smith\r\n",
      "\r\n"
     ]
    }
   ],
   "source": [
    "String[] data={\"John\", \"Adam\", \"Skrien\", \"Smith\", \"Jones\"};\n",
    "\n",
    "for(int i=data.length-1;i>=0;i--) {\n",
    "    int indexOfMax=0;\n",
    "    for(int j=1;j<=i;j++) {\n",
    "        if(data[j].compareTo(data[indexOfMax])>0)\n",
    "            indexOfMax=j;\n",
    "    }\n",
    "    String temp=data[i];\n",
    "    data[i]=data[indexOfMax];\n",
    "    data[indexOfMax]=temp;\n",
    "}\n",
    "\n",
    "for(int i=0; i<data.length; i++)\n",
    "    System.out.println(\"data[\"+i+\"]=\"+data[i]);"
   ]
  },
  {
   "cell_type": "markdown",
   "metadata": {
    "collapsed": true
   },
   "source": [
    "* Integer객체는 부등호로 비교한다.\n",
    "* String을 비교하는 것"
   ]
  },
  {
   "cell_type": "code",
   "execution_count": 20,
   "metadata": {
    "collapsed": false
   },
   "outputs": [
    {
     "name": "stdout",
     "output_type": "stream",
     "text": [
      " Integer[] data={new Integer(3), new Integer(1), new Integer(4), new Integer(2 \r",
      ")};\r\n",
      "|  Modified variable data of type Integer[] with initial value [Ljava.lang.Integer;@192b07fd\r\n",
      "|    Update overwrote variable data\r\n",
      "\r\n",
      " for(int i=data.length-1;i>=0;i--) {\r\n",
      "     int indexOfMax=0;\r\n",
      "     for(int j=1;j<=i;j++) {\r\n",
      "         if(data[j] > data[indexOfMax])\r\n",
      "             indexOfMax=j;\r\n",
      "         }\r\n",
      "     Integer temp=data[i];\r\n",
      "     data[i]=data[indexOfMax];\r\n",
      "     data[indexOfMax]=temp;\r\n",
      " }\r\n",
      "\r\n",
      " \r\n",
      "\r\n",
      " for(int i=0; i<data.length; i++)\r\n",
      "     System.out.println(\"data[\"+i+\"]=\"+data[i]);\r\n",
      "data[0]=1\r\n",
      "data[1]=2\r\n",
      "data[2]=3\r\n",
      "data[3]=4\r\n",
      "\r\n"
     ]
    }
   ],
   "source": [
    "Integer[] data={new Integer(3), new Integer(1), new Integer(4), new Integer(2)};\n",
    "for(int i=data.length-1;i>=0;i--) {\n",
    "    int indexOfMax=0;\n",
    "    for(int j=1;j<=i;j++) {\n",
    "        if(data[j] > data[indexOfMax])\n",
    "            indexOfMax=j;\n",
    "        }\n",
    "    Integer temp=data[i];\n",
    "    data[i]=data[indexOfMax];\n",
    "    data[indexOfMax]=temp;\n",
    "}\n",
    "\n",
    "for(int i=0; i<data.length; i++)\n",
    "    System.out.println(\"data[\"+i+\"]=\"+data[i]);"
   ]
  },
  {
   "cell_type": "markdown",
   "metadata": {
    "slideshow": {
     "slide_type": "slide"
    }
   },
   "source": [
    "#### v1:  template패턴\n",
    "\n",
    "* v0에서의 중복\n",
    "    * 정수, 문자, 객체마다 비교하는 알고리즘이 다름\n",
    "        * 정수는 단순히 빼주면 됨\n",
    "        * 문자는 String.compareTo()를 사용\n",
    "        * 객체는 비교하려는 대상에 따라 다름\n",
    "    * 문제해결\n",
    "        * Comparable interface 구현\n",
    "            * compareTo() 만들고, sort()에서 호출해서 해결 (template pattern)\n",
    "        * 라이브러리 sort이용\n",
    "            * Arrays.sort() (Array를 구현한 경우)\n",
    "            * Collections.sort() (Collection interface를 구현한 경우)\n",
    "            * compareTo()를 호출 (template pattern)\n"
   ]
  },
  {
   "cell_type": "code",
   "execution_count": null,
   "metadata": {
    "collapsed": true,
    "slideshow": {
     "slide_type": "slide"
    }
   },
   "outputs": [],
   "source": [
    "* 숫자, 문자의 compareTo()를 이용한 정렬"
   ]
  },
  {
   "cell_type": "code",
   "execution_count": 10,
   "metadata": {
    "collapsed": false,
    "slideshow": {
     "slide_type": "slide"
    }
   },
   "outputs": [
    {
     "name": "stdout",
     "output_type": "stream",
     "text": [
      " Integer[] num=new Integer[] {5,3,4,2,1};\r\n",
      "|  Modified variable num of type Integer[] with initial value [Ljava.lang.Integer;@6fd02e5\r\n",
      "|    Update overwrote variable num\r\n",
      "\r\n",
      " Arrays.sort(num);\r\n",
      "\r\n",
      " for(int i=0;i<num.length;i++)\r\n",
      "     System.out.println(num[i]);\r\n",
      "1\r\n",
      "2\r\n",
      "3\r\n",
      "4\r\n",
      "5\r\n",
      "\r\n"
     ]
    }
   ],
   "source": [
    "Integer[] num=new Integer[] {5,3,4,2,1};\n",
    "Arrays.sort(num);\n",
    "for(int i=0;i<num.length;i++)\n",
    "    System.out.println(num[i]);"
   ]
  },
  {
   "cell_type": "code",
   "execution_count": 16,
   "metadata": {
    "collapsed": false,
    "slideshow": {
     "slide_type": "slide"
    }
   },
   "outputs": [
    {
     "name": "stdout",
     "output_type": "stream",
     "text": [
      " String[] s={\"John\", \"Adam\", \"Skrien\", \"Smith\", \"Jones\"};\r\n",
      "|  Added variable s of type String[] with initial value [Ljava.lang.String;@5bcab519\r\n",
      "\r\n",
      " Arrays.sort(s)\r\n",
      "\r\n",
      " for(int i=0;i<s.length;i++)\r\n",
      "     System.out.println(s[i]);\r\n",
      "Adam\r\n",
      "John\r\n",
      "Jones\r\n",
      "Skrien\r\n",
      "Smith\r\n",
      "\r\n"
     ]
    }
   ],
   "source": [
    "String[] s={\"John\", \"Adam\", \"Skrien\", \"Smith\", \"Jones\"};\n",
    "Arrays.sort(s)\n",
    "for(int i=0;i<s.length;i++)\n",
    "    System.out.println(s[i]);"
   ]
  },
  {
   "cell_type": "code",
   "execution_count": 15,
   "metadata": {
    "collapsed": false,
    "slideshow": {
     "slide_type": "slide"
    }
   },
   "outputs": [
    {
     "name": "stdout",
     "output_type": "stream",
     "text": [
      " List<Integer> num=new ArrayList<Integer>();\r\n",
      "|  Modified variable num of type List<Integer> with initial value []\r\n",
      "|    Update overwrote variable num\r\n",
      "\r\n",
      " num.add(7)\r\n",
      "|  Expression value is: true\r\n",
      "|    assigned to temporary variable $16 of type boolean\r\n",
      "\r\n",
      " num.add(6)\r\n",
      "|  Expression value is: true\r\n",
      "|    assigned to temporary variable $17 of type boolean\r\n",
      "\r\n",
      " num.add(9)\r\n",
      "|  Expression value is: true\r\n",
      "|    assigned to temporary variable $18 of type boolean\r\n",
      "\r\n",
      " num.add(8)\r\n",
      "|  Expression value is: true\r\n",
      "|    assigned to temporary variable $19 of type boolean\r\n",
      "\r\n",
      " num.add(5)\r\n",
      "|  Expression value is: true\r\n",
      "|    assigned to temporary variable $20 of type boolean\r\n",
      "\r\n",
      " Collections.sort(num)\r\n",
      "\r\n",
      " for(int i=0;i<num.size();i++)\r\n",
      "     System.out.println(num.get(i));\r\n",
      "5\r\n",
      "6\r\n",
      "7\r\n",
      "8\r\n",
      "9\r\n",
      "\r\n"
     ]
    }
   ],
   "source": [
    "List<Integer> num=new ArrayList<Integer>();\n",
    "num.add(7)\n",
    "num.add(6)\n",
    "num.add(9)\n",
    "num.add(8)\n",
    "num.add(5)\n",
    "Collections.sort(num)\n",
    "for(int i=0;i<num.size();i++)\n",
    "    System.out.println(num.get(i));"
   ]
  },
  {
   "cell_type": "code",
   "execution_count": 29,
   "metadata": {
    "collapsed": false,
    "slideshow": {
     "slide_type": "slide"
    }
   },
   "outputs": [
    {
     "data": {
      "image/svg+xml": [
       "<svg height=\"320px\" style=\"width:276px;height:320px;\" version=\"1.1\" viewBox=\"0 0 276 320\" width=\"276px\" xmlns=\"http://www.w3.org/2000/svg\" xmlns:xlink=\"http://www.w3.org/1999/xlink\"><defs><filter height=\"300%\" id=\"f1\" width=\"300%\" x=\"-1\" y=\"-1\"><feGaussianBlur result=\"blurOut\" stdDeviation=\"2.0\"/><feColorMatrix in=\"blurOut\" result=\"blurOut2\" type=\"matrix\" values=\"0 0 0 0 0 0 0 0 0 0 0 0 0 0 0 0 0 0 .4 0\"/><feOffset dx=\"4.0\" dy=\"4.0\" in=\"blurOut2\" result=\"blurOut3\"/><feBlend in=\"SourceGraphic\" in2=\"blurOut3\" mode=\"normal\"/></filter></defs><g><rect fill=\"#FEFECE\" filter=\"url(#f1)\" height=\"60.9551\" style=\"stroke: #A80036; stroke-width: 1.5;\" width=\"157\" x=\"110\" y=\"8\"/><ellipse cx=\"149.3\" cy=\"24\" fill=\"#B4A7E5\" rx=\"11\" ry=\"11\" style=\"stroke: #A80036; stroke-width: 1.0;\"/><path d=\"M145.2277,19.7651 L145.2277,17.6069 L152.6071,17.6069 L152.6071,19.7651 L150.1418,19.7651 L150.1418,27.8418 L152.6071,27.8418 L152.6071,30 L145.2277,30 L145.2277,27.8418 L147.6931,27.8418 L147.6931,19.7651 Z \"/><text fill=\"#000000\" font-family=\"sans-serif\" font-size=\"12\" font-style=\"italic\" lengthAdjust=\"spacingAndGlyphs\" textLength=\"71\" x=\"168.7\" y=\"28.5352\">Comparable</text><line style=\"stroke: #A80036; stroke-width: 1.5;\" x1=\"111\" x2=\"266\" y1=\"40\" y2=\"40\"/><line style=\"stroke: #A80036; stroke-width: 1.5;\" x1=\"111\" x2=\"266\" y1=\"48\" y2=\"48\"/><ellipse cx=\"121\" cy=\"59.9775\" fill=\"#84BE84\" rx=\"3\" ry=\"3\" style=\"stroke: #038048; stroke-width: 1.0;\"/><text fill=\"#000000\" font-family=\"sans-serif\" font-size=\"11\" lengthAdjust=\"spacingAndGlyphs\" textLength=\"131\" x=\"130\" y=\"62.6348\">compareTo(Object o):int</text><rect fill=\"#FEFECE\" filter=\"url(#f1)\" height=\"73.9102\" style=\"stroke: #A80036; stroke-width: 1.5;\" width=\"157\" x=\"110\" y=\"129\"/><ellipse cx=\"165.25\" cy=\"145\" fill=\"#ADD1B2\" rx=\"11\" ry=\"11\" style=\"stroke: #A80036; stroke-width: 1.0;\"/><path d=\"M168.2231,150.6431 Q167.6421,150.9419 167.0029,151.0913 Q166.3638,151.2407 165.6582,151.2407 Q163.1514,151.2407 161.8315,149.5889 Q160.5117,147.937 160.5117,144.8159 Q160.5117,141.6865 161.8315,140.0347 Q163.1514,138.3828 165.6582,138.3828 Q166.3638,138.3828 167.0112,138.5322 Q167.6587,138.6816 168.2231,138.9805 L168.2231,141.7031 Q167.5923,141.1221 166.9988,140.8523 Q166.4053,140.5825 165.7744,140.5825 Q164.4297,140.5825 163.7449,141.6492 Q163.0601,142.7158 163.0601,144.8159 Q163.0601,146.9077 163.7449,147.9744 Q164.4297,149.041 165.7744,149.041 Q166.4053,149.041 166.9988,148.7712 Q167.5923,148.5015 168.2231,147.9204 Z \"/><text fill=\"#000000\" font-family=\"sans-serif\" font-size=\"12\" lengthAdjust=\"spacingAndGlyphs\" textLength=\"38\" x=\"185.75\" y=\"149.5352\">Weight</text><line style=\"stroke: #A80036; stroke-width: 1.5;\" x1=\"111\" x2=\"266\" y1=\"161\" y2=\"161\"/><rect fill=\"none\" height=\"6\" style=\"stroke: #C82930; stroke-width: 1.0;\" width=\"6\" x=\"118\" y=\"169.9775\"/><text fill=\"#000000\" font-family=\"sans-serif\" font-size=\"11\" lengthAdjust=\"spacingAndGlyphs\" textLength=\"36\" x=\"130\" y=\"175.6348\">kilo:int</text><line style=\"stroke: #A80036; stroke-width: 1.5;\" x1=\"111\" x2=\"266\" y1=\"181.9551\" y2=\"181.9551\"/><ellipse cx=\"121\" cy=\"193.9326\" fill=\"#84BE84\" rx=\"3\" ry=\"3\" style=\"stroke: #038048; stroke-width: 1.0;\"/><text fill=\"#000000\" font-family=\"sans-serif\" font-size=\"11\" lengthAdjust=\"spacingAndGlyphs\" textLength=\"131\" x=\"130\" y=\"196.5898\">compareTo(Object o):int</text><rect fill=\"#FEFECE\" filter=\"url(#f1)\" height=\"48\" style=\"stroke: #A80036; stroke-width: 1.5;\" width=\"66\" x=\"81.5\" y=\"263\"/><ellipse cx=\"96.5\" cy=\"279\" fill=\"#ADD1B2\" rx=\"11\" ry=\"11\" style=\"stroke: #A80036; stroke-width: 1.0;\"/><path d=\"M99.4731,284.6431 Q98.8921,284.9419 98.2529,285.0913 Q97.6138,285.2407 96.9082,285.2407 Q94.4014,285.2407 93.0815,283.5889 Q91.7617,281.937 91.7617,278.8159 Q91.7617,275.6865 93.0815,274.0347 Q94.4014,272.3828 96.9082,272.3828 Q97.6138,272.3828 98.2612,272.5322 Q98.9087,272.6816 99.4731,272.9805 L99.4731,275.7031 Q98.8423,275.1221 98.2488,274.8523 Q97.6553,274.5825 97.0244,274.5825 Q95.6797,274.5825 94.9949,275.6492 Q94.3101,276.7158 94.3101,278.8159 Q94.3101,280.9077 94.9949,281.9744 Q95.6797,283.041 97.0244,283.041 Q97.6553,283.041 98.2488,282.7712 Q98.8423,282.5015 99.4731,281.9204 Z \"/><text fill=\"#000000\" font-family=\"sans-serif\" font-size=\"12\" lengthAdjust=\"spacingAndGlyphs\" textLength=\"34\" x=\"110.5\" y=\"283.5352\">Sorter</text><line style=\"stroke: #A80036; stroke-width: 1.5;\" x1=\"82.5\" x2=\"146.5\" y1=\"295\" y2=\"295\"/><line style=\"stroke: #A80036; stroke-width: 1.5;\" x1=\"82.5\" x2=\"146.5\" y1=\"303\" y2=\"303\"/><rect fill=\"#FEFECE\" filter=\"url(#f1)\" height=\"48\" style=\"stroke: #A80036; stroke-width: 1.5;\" width=\"69\" x=\"6\" y=\"142\"/><ellipse cx=\"21\" cy=\"158\" fill=\"#ADD1B2\" rx=\"11\" ry=\"11\" style=\"stroke: #A80036; stroke-width: 1.0;\"/><path d=\"M23.9731,163.6431 Q23.3921,163.9419 22.7529,164.0913 Q22.1138,164.2407 21.4082,164.2407 Q18.9014,164.2407 17.5815,162.5889 Q16.2617,160.937 16.2617,157.8159 Q16.2617,154.6865 17.5815,153.0347 Q18.9014,151.3828 21.4082,151.3828 Q22.1138,151.3828 22.7612,151.5322 Q23.4087,151.6816 23.9731,151.9805 L23.9731,154.7031 Q23.3423,154.1221 22.7488,153.8523 Q22.1553,153.5825 21.5244,153.5825 Q20.1797,153.5825 19.4949,154.6492 Q18.8101,155.7158 18.8101,157.8159 Q18.8101,159.9077 19.4949,160.9744 Q20.1797,162.041 21.5244,162.041 Q22.1553,162.041 22.7488,161.7712 Q23.3423,161.5015 23.9731,160.9204 Z \"/><text fill=\"#000000\" font-family=\"sans-serif\" font-size=\"12\" lengthAdjust=\"spacingAndGlyphs\" textLength=\"37\" x=\"35\" y=\"162.5352\">Arrays</text><line style=\"stroke: #A80036; stroke-width: 1.5;\" x1=\"7\" x2=\"74\" y1=\"174\" y2=\"174\"/><line style=\"stroke: #A80036; stroke-width: 1.5;\" x1=\"7\" x2=\"74\" y1=\"182\" y2=\"182\"/><path d=\"M188.5,89.505 C188.5,102.621 188.5,116.513 188.5,128.755 \" fill=\"none\" style=\"stroke: #A80036; stroke-width: 1.0;\"/><polygon fill=\"none\" points=\"181.5,89.242,188.5,69.242,195.5,89.242,181.5,89.242\" style=\"stroke: #A80036; stroke-width: 1.0;\"/><path d=\"M163.223,207.648 C151.766,226.0724 138.636,247.1863 128.896,262.8505 \" fill=\"none\" style=\"stroke: #A80036; stroke-width: 1.0; stroke-dasharray: 7.0,7.0;\"/><polygon fill=\"#A80036\" points=\"166.097,203.027,157.9477,208.5578,163.4568,207.2731,164.7415,212.7821,166.097,203.027\" style=\"stroke: #A80036; stroke-width: 1.0;\"/><path d=\"M57.6176,194.527 C70.4903,215.2276 87.9302,243.2729 100.0928,262.8317 \" fill=\"none\" style=\"stroke: #A80036; stroke-width: 1.0; stroke-dasharray: 7.0,7.0;\"/><polygon fill=\"#A80036\" points=\"54.9436,190.227,56.2989,199.9822,57.5837,194.4732,63.0927,195.758,54.9436,190.227\" style=\"stroke: #A80036; stroke-width: 1.0;\"/></g></svg>"
      ],
      "text/plain": [
       "<IPython.core.display.SVG object>"
      ]
     },
     "execution_count": 29,
     "metadata": {},
     "output_type": "execute_result"
    }
   ],
   "source": [
    "%%plantuml\n",
    "@startuml\n",
    "interface Comparable {\n",
    "    +compareTo(Object o):int\n",
    "}\n",
    "class Weight {\n",
    "    -kilo:int\n",
    "    +compareTo(Object o):int\n",
    "}\n",
    "Comparable <|-- Weight\n",
    "Sorter .up.> Weight\n",
    "Sorter .up.> Arrays\n",
    "@enduml"
   ]
  },
  {
   "cell_type": "code",
   "execution_count": null,
   "metadata": {
    "collapsed": true,
    "slideshow": {
     "slide_type": "slide"
    }
   },
   "outputs": [],
   "source": [
    "# %load src/com/sd/sort/v1/Weight.java\n",
    "/*\n",
    " * @author jsl\n",
    " * @since 20170313 20160302\n",
    " */\n",
    "\n",
    "package com.sd.sort.v1;\n",
    "//import java.util.Arrays;\n",
    "\n",
    "public class Weight implements Comparable {\n",
    "    private int kilo;\n",
    "    public Weight(int k) {\n",
    "        kilo=k;\n",
    "    }\n",
    "    public int compareTo(Object o) {\n",
    "        Weight w=(Weight)o;\n",
    "        return this.kilo-w.kilo;\n",
    "    }\n",
    "    public String toString() {\n",
    "        String msg=kilo+\"\";\n",
    "        return msg;\n",
    "    }\n",
    "}\n",
    "\n"
   ]
  },
  {
   "cell_type": "code",
   "execution_count": null,
   "metadata": {
    "collapsed": true,
    "slideshow": {
     "slide_type": "slide"
    }
   },
   "outputs": [],
   "source": [
    "# %load src/com/sd/sort/v1/WeightSorterMainV1.java\n",
    "/*\n",
    " * @author jsl\n",
    " * @since 20160302\n",
    " */\n",
    "\n",
    "package com.sd.sort.v1;\n",
    "import java.util.Arrays;\n",
    "\n",
    "public class WeightSorterMainV1 {\n",
    "    public static void main(String[] args){\n",
    "        Weight[] weights=new Weight[3];\n",
    "        weights[0]=new Weight(50);\n",
    "        weights[1]=new Weight(40);\n",
    "        weights[2]=new Weight(70);\n",
    "        Arrays.sort(weights);\n",
    "        for(Weight w:weights)\n",
    "            System.out.println(w.toString());\n",
    "    }\n",
    "}\n",
    "\n"
   ]
  },
  {
   "cell_type": "markdown",
   "metadata": {},
   "source": [
    "* WeightTurtle\n",
    "* jshell로 실행"
   ]
  },
  {
   "cell_type": "code",
   "execution_count": 23,
   "metadata": {
    "collapsed": false,
    "slideshow": {
     "slide_type": "slide"
    }
   },
   "outputs": [
    {
     "name": "stdout",
     "output_type": "stream",
     "text": [
      " /classpath classes:lib/aplu5.jar\r\n",
      "|  Path 'classes:lib/aplu5.jar' added to classpath\r\n",
      "\r\n"
     ]
    }
   ],
   "source": [
    "/classpath classes:lib/aplu5.jar"
   ]
  },
  {
   "cell_type": "code",
   "execution_count": 24,
   "metadata": {
    "collapsed": false,
    "slideshow": {
     "slide_type": "slide"
    }
   },
   "outputs": [
    {
     "name": "stdout",
     "output_type": "stream",
     "text": [
      " import com.sd.sort.v1.WeightTurtleComparable;\r\n",
      "\r\n",
      " List<WeightTurtleComparable> l=new ArrayList<WeightTurtleComparable>();\r\n",
      "|  Modified variable l of type List<WeightTurtleComparable> with initial value []\r\n",
      "|    Update overwrote variable l\r\n",
      "\r\n",
      " WeightTurtleComparable wt10=new WeightTurtleComparable(10);\r\n",
      "|  Modified variable wt10 of type WeightTurtleComparable with initial value Turtle(Position=(0,0), Heading=0)\r\n",
      "|    Update overwrote variable wt10\r\n",
      "\r\n",
      " WeightTurtleComparable wt15=new WeightTurtleComparable(15);\r\n",
      "|  Modified variable wt15 of type WeightTurtleComparable with initial value Turtle(Position=(0,0), Heading=0)\r\n",
      "|    Update overwrote variable wt15\r\n",
      "\r\n",
      " l.add(wt10);\r\n",
      "|  Expression value is: true\r\n",
      "|    assigned to temporary variable $41 of type boolean\r\n",
      "\r\n",
      " l.add(wt15);\r\n",
      "|  Expression value is: true\r\n",
      "|    assigned to temporary variable $42 of type boolean\r\n",
      "\r\n",
      " java.util.Collections.sort(l);\r\n",
      "\r\n"
     ]
    }
   ],
   "source": [
    "import com.sd.sort.v1.WeightTurtleComparable;\n",
    "List<WeightTurtleComparable> l=new ArrayList<WeightTurtleComparable>();\n",
    "WeightTurtleComparable wt10=new WeightTurtleComparable(10);\n",
    "WeightTurtleComparable wt15=new WeightTurtleComparable(15);\n",
    "l.add(wt10);\n",
    "l.add(wt15);\n",
    "java.util.Collections.sort(l);"
   ]
  },
  {
   "cell_type": "markdown",
   "metadata": {
    "slideshow": {
     "slide_type": "slide"
    }
   },
   "source": [
    "#### v2\n",
    "\n",
    "* v2 comparator comparable\n",
    "    * v0 문제를 다른 방식으로 해결\n",
    "    * v1는 implements comparable -> template pattern -> compareTo()\n",
    "    * v2는 implements comparator -> strategy pattern -> compare()\n",
    "        * comparator 인터페이스를 구현하고, sorter를 구현\n",
    "        * 문제를 strategy pattern으로 해결\n",
    "        * 다형적으로 argument에 실시간으로 맞는 comparator를 넣어줌.\n",
    "\n",
    "```\n",
    "> import com.sd.turtle.*;\n",
    "> WeightTurtle wt10 = new WeightTurtle(10);\n",
    "> WeightTurtle wt20 = new WeightTurtle(20);\n",
    "> TurtleComparator tc=new TurtleComparator()\n",
    "> int res=tc.compare(wt10,wt20)\n",
    "> res\n",
    "-10\n",
    "```"
   ]
  },
  {
   "cell_type": "code",
   "execution_count": 31,
   "metadata": {
    "collapsed": false,
    "slideshow": {
     "slide_type": "slide"
    }
   },
   "outputs": [
    {
     "data": {
      "image/svg+xml": [
       "<svg height=\"307px\" style=\"width:421px;height:307px;\" version=\"1.1\" viewBox=\"0 0 421 307\" width=\"421px\" xmlns=\"http://www.w3.org/2000/svg\" xmlns:xlink=\"http://www.w3.org/1999/xlink\"><defs><filter height=\"300%\" id=\"f1\" width=\"300%\" x=\"-1\" y=\"-1\"><feGaussianBlur result=\"blurOut\" stdDeviation=\"2.0\"/><feColorMatrix in=\"blurOut\" result=\"blurOut2\" type=\"matrix\" values=\"0 0 0 0 0 0 0 0 0 0 0 0 0 0 0 0 0 0 .4 0\"/><feOffset dx=\"4.0\" dy=\"4.0\" in=\"blurOut2\" result=\"blurOut3\"/><feBlend in=\"SourceGraphic\" in2=\"blurOut3\" mode=\"normal\"/></filter></defs><g><rect fill=\"#FEFECE\" filter=\"url(#f1)\" height=\"60.9551\" style=\"stroke: #A80036; stroke-width: 1.5;\" width=\"208\" x=\"204\" y=\"8\"/><ellipse cx=\"269.25\" cy=\"24\" fill=\"#B4A7E5\" rx=\"11\" ry=\"11\" style=\"stroke: #A80036; stroke-width: 1.0;\"/><path d=\"M265.1777,19.7651 L265.1777,17.6069 L272.5571,17.6069 L272.5571,19.7651 L270.0918,19.7651 L270.0918,27.8418 L272.5571,27.8418 L272.5571,30 L265.1777,30 L265.1777,27.8418 L267.6431,27.8418 L267.6431,19.7651 Z \"/><text fill=\"#000000\" font-family=\"sans-serif\" font-size=\"12\" font-style=\"italic\" lengthAdjust=\"spacingAndGlyphs\" textLength=\"69\" x=\"289.75\" y=\"28.5352\">Comparator</text><line style=\"stroke: #A80036; stroke-width: 1.5;\" x1=\"205\" x2=\"411\" y1=\"40\" y2=\"40\"/><line style=\"stroke: #A80036; stroke-width: 1.5;\" x1=\"205\" x2=\"411\" y1=\"48\" y2=\"48\"/><ellipse cx=\"215\" cy=\"59.9775\" fill=\"#84BE84\" rx=\"3\" ry=\"3\" style=\"stroke: #038048; stroke-width: 1.0;\"/><text fill=\"#000000\" font-family=\"sans-serif\" font-size=\"11\" lengthAdjust=\"spacingAndGlyphs\" textLength=\"182\" x=\"224\" y=\"62.6348\">compare(Object o1, Object o2):int</text><rect fill=\"#FEFECE\" filter=\"url(#f1)\" height=\"60.9551\" style=\"stroke: #A80036; stroke-width: 1.5;\" width=\"196\" x=\"6\" y=\"129\"/><ellipse cx=\"82.75\" cy=\"145\" fill=\"#ADD1B2\" rx=\"11\" ry=\"11\" style=\"stroke: #A80036; stroke-width: 1.0;\"/><path d=\"M85.7231,150.6431 Q85.1421,150.9419 84.5029,151.0913 Q83.8638,151.2407 83.1582,151.2407 Q80.6514,151.2407 79.3315,149.5889 Q78.0117,147.937 78.0117,144.8159 Q78.0117,141.6865 79.3315,140.0347 Q80.6514,138.3828 83.1582,138.3828 Q83.8638,138.3828 84.5112,138.5322 Q85.1587,138.6816 85.7231,138.9805 L85.7231,141.7031 Q85.0923,141.1221 84.4988,140.8523 Q83.9053,140.5825 83.2744,140.5825 Q81.9297,140.5825 81.2449,141.6492 Q80.5601,142.7158 80.5601,144.8159 Q80.5601,146.9077 81.2449,147.9744 Q81.9297,149.041 83.2744,149.041 Q83.9053,149.041 84.4988,148.7712 Q85.0923,148.5015 85.7231,147.9204 Z \"/><text fill=\"#000000\" font-family=\"sans-serif\" font-size=\"12\" lengthAdjust=\"spacingAndGlyphs\" textLength=\"34\" x=\"103.25\" y=\"149.5352\">Sorter</text><line style=\"stroke: #A80036; stroke-width: 1.5;\" x1=\"7\" x2=\"201\" y1=\"161\" y2=\"161\"/><line style=\"stroke: #A80036; stroke-width: 1.5;\" x1=\"7\" x2=\"201\" y1=\"169\" y2=\"169\"/><ellipse cx=\"17\" cy=\"180.9775\" fill=\"#84BE84\" rx=\"3\" ry=\"3\" style=\"stroke: #038048; stroke-width: 1.0;\"/><text fill=\"#000000\" font-family=\"sans-serif\" font-size=\"11\" lengthAdjust=\"spacingAndGlyphs\" textLength=\"170\" x=\"26\" y=\"183.6348\">sort(Object[], Comparator):void</text><rect fill=\"#FEFECE\" filter=\"url(#f1)\" height=\"48\" style=\"stroke: #A80036; stroke-width: 1.5;\" width=\"141\" x=\"237.5\" y=\"135.5\"/><ellipse cx=\"252.5\" cy=\"151.5\" fill=\"#ADD1B2\" rx=\"11\" ry=\"11\" style=\"stroke: #A80036; stroke-width: 1.0;\"/><path d=\"M255.4731,157.1431 Q254.8921,157.4419 254.2529,157.5913 Q253.6138,157.7407 252.9082,157.7407 Q250.4014,157.7407 249.0815,156.0889 Q247.7617,154.437 247.7617,151.3159 Q247.7617,148.1865 249.0815,146.5347 Q250.4014,144.8828 252.9082,144.8828 Q253.6138,144.8828 254.2612,145.0322 Q254.9087,145.1816 255.4731,145.4805 L255.4731,148.2031 Q254.8423,147.6221 254.2488,147.3523 Q253.6553,147.0825 253.0244,147.0825 Q251.6797,147.0825 250.9949,148.1492 Q250.3101,149.2158 250.3101,151.3159 Q250.3101,153.4077 250.9949,154.4744 Q251.6797,155.541 253.0244,155.541 Q253.6553,155.541 254.2488,155.2712 Q254.8423,155.0015 255.4731,154.4204 Z \"/><text fill=\"#000000\" font-family=\"sans-serif\" font-size=\"12\" lengthAdjust=\"spacingAndGlyphs\" textLength=\"109\" x=\"266.5\" y=\"156.0352\">IntegerComparater</text><line style=\"stroke: #A80036; stroke-width: 1.5;\" x1=\"238.5\" x2=\"377.5\" y1=\"167.5\" y2=\"167.5\"/><line style=\"stroke: #A80036; stroke-width: 1.5;\" x1=\"238.5\" x2=\"377.5\" y1=\"175.5\" y2=\"175.5\"/><rect fill=\"#FEFECE\" filter=\"url(#f1)\" height=\"48\" style=\"stroke: #A80036; stroke-width: 1.5;\" width=\"93\" x=\"221.5\" y=\"250\"/><ellipse cx=\"236.5\" cy=\"266\" fill=\"#ADD1B2\" rx=\"11\" ry=\"11\" style=\"stroke: #A80036; stroke-width: 1.0;\"/><path d=\"M239.4731,271.6431 Q238.8921,271.9419 238.2529,272.0913 Q237.6138,272.2407 236.9082,272.2407 Q234.4014,272.2407 233.0815,270.5889 Q231.7617,268.937 231.7617,265.8159 Q231.7617,262.6865 233.0815,261.0347 Q234.4014,259.3828 236.9082,259.3828 Q237.6138,259.3828 238.2612,259.5322 Q238.9087,259.6816 239.4731,259.9805 L239.4731,262.7031 Q238.8423,262.1221 238.2488,261.8523 Q237.6553,261.5825 237.0244,261.5825 Q235.6797,261.5825 234.9949,262.6492 Q234.3101,263.7158 234.3101,265.8159 Q234.3101,267.9077 234.9949,268.9744 Q235.6797,270.041 237.0244,270.041 Q237.6553,270.041 238.2488,269.7712 Q238.8423,269.5015 239.4731,268.9204 Z \"/><text fill=\"#000000\" font-family=\"sans-serif\" font-size=\"12\" lengthAdjust=\"spacingAndGlyphs\" textLength=\"61\" x=\"250.5\" y=\"270.5352\">SorterMain</text><line style=\"stroke: #A80036; stroke-width: 1.5;\" x1=\"222.5\" x2=\"313.5\" y1=\"282\" y2=\"282\"/><line style=\"stroke: #A80036; stroke-width: 1.5;\" x1=\"222.5\" x2=\"313.5\" y1=\"290\" y2=\"290\"/><path d=\"M308,89.34 C308,105.373 308,122.369 308,135.499 \" fill=\"none\" style=\"stroke: #A80036; stroke-width: 1.0; stroke-dasharray: 7.0,7.0;\"/><polygon fill=\"none\" points=\"301,89.222,308,69.222,315,89.222,301,89.222\" style=\"stroke: #A80036; stroke-width: 1.0;\"/><path d=\"M252.858,71.666 C222.312,89.485 184.603,111.482 154.782,128.877 \" fill=\"none\" style=\"stroke: #A80036; stroke-width: 1.0; stroke-dasharray: 7.0,7.0;\"/><polygon fill=\"#A80036\" points=\"257.311,69.069,247.5215,70.1487,252.9921,71.5884,251.5525,77.059,257.311,69.069\" style=\"stroke: #A80036; stroke-width: 1.0;\"/><path d=\"M352.931,72.491 C369.786,87.61 387.022,107.063 396,129 C406.269,154.091 408.944,166.179 396,190 C378.802,221.649 343.752,243.0958 314.671,256.248 \" fill=\"none\" style=\"stroke: #A80036; stroke-width: 1.0; stroke-dasharray: 7.0,7.0;\"/><polygon fill=\"#A80036\" points=\"349.117,69.135,353.2321,78.0829,352.871,72.4376,358.5163,72.0765,349.117,69.135\" style=\"stroke: #A80036; stroke-width: 1.0;\"/><path d=\"M151.294,192.942 C177.825,211.1424 210.301,233.42 234.252,249.8498 \" fill=\"none\" style=\"stroke: #A80036; stroke-width: 1.0; stroke-dasharray: 7.0,7.0;\"/><polygon fill=\"#A80036\" points=\"147.089,190.058,152.2488,198.4471,151.2124,192.886,156.7735,191.8496,147.089,190.058\" style=\"stroke: #A80036; stroke-width: 1.0;\"/></g></svg>"
      ],
      "text/plain": [
       "<IPython.core.display.SVG object>"
      ]
     },
     "execution_count": 31,
     "metadata": {},
     "output_type": "execute_result"
    }
   ],
   "source": [
    "%%plantuml\n",
    "@startuml\n",
    "interface Comparator {\n",
    "    +compare(Object o1, Object o2):int\n",
    "}\n",
    "\n",
    "class Sorter {\n",
    "    +sort(Object[], Comparator):void\n",
    "}\n",
    "Comparator <|.. IntegerComparater\n",
    "Comparator <.. Sorter\n",
    "SorterMain .up.> Comparator\n",
    "SorterMain .up.> Sorter\n",
    "@enduml"
   ]
  },
  {
   "cell_type": "code",
   "execution_count": null,
   "metadata": {
    "collapsed": true,
    "slideshow": {
     "slide_type": "slide"
    }
   },
   "outputs": [],
   "source": [
    "# %load /Users/media/Code/git/sd/src/com/sd/sort/v2/SorterMainV2.java\n",
    "/*\n",
    " * @author js\n",
    " * @since 20160312\n",
    " * to show v2 strategy pattern using interface Comparator\n",
    " * run\n",
    " * javac -d classes/ -cp lib/aplu5.jar -sourcepath src/ src/com/sd/sort/v2/SorterMainV2.java \n",
    " * java -cp classes/:lib/aplu5.jar com.sd.sort.v2.SorterMainV2\n",
    " * cases\n",
    " * 1) Integer\n",
    " * 2) String\n",
    " * 3) Turtle\n",
    " *      TurtleComparator did not implement java.util.Comparator\n",
    " *      see separately saved TurtleComparator.java\n",
    "\n",
    "> com.sd.sort.v2.Sorter s = new com.sd.sort.v2.Sorter()\n",
    "> com.sd.sort.v2.Comparator stringComp = new com.sd.sort.v2.StringComparator()\n",
    "> String[] B={\"John\", \"Adam\", \"Skrien\", \"Smith\", \"Jones\"};\n",
    "> s.sort(B,stringComp)\n",
    "> B\n",
    "{ Adam, John, Jones, Skrien, Smith }\n",
    "> Integer[] C = {new Integer(3), new Integer(1), new Integer(4), new Integer(2)};\n",
    "> com.sd.sort.v2.Comparator integerComp=new com.sd.sort.v2.IntegerComparator();\n",
    "> s.sort(C,integerComp)\n",
    "> C\n",
    "{ 1, 2, 3, 4 }\n",
    "> java com.sd.sort.v2.SorterMainV2\n",
    "B[0]=Adam\n",
    "B[1]=John\n",
    "B[2]=Jones\n",
    "B[3]=Skrien\n",
    "B[4]=Smith\n",
    "C[0]=1\n",
    "C[1]=2\n",
    "C[2]=3\n",
    "C[3]=4\n",
    "  *\n",
    "  */\n",
    "\n",
    "package com.sd.sort.v2;\n",
    "import java.util.Date;\n",
    "import com.sd.turtle.WeightTurtle;\n",
    "\n",
    "public class SorterMainV2 {\n",
    "    public static void main(String[] args) {\n",
    "        String[] B={\"John\", \"Adam\", \"Skrien\", \"Smith\", \"Jones\"};\n",
    "        Comparator stringComp=new StringComparator();\n",
    "        Sorter.sort(B, stringComp);\n",
    "\n",
    "        Integer[] C = {new Integer(3), new Integer(1), new Integer(4), new Integer(2)};\n",
    "        Comparator integerComp=new IntegerComparator();\n",
    "        Sorter.sort(C, integerComp);\n",
    "\n",
    "        for(int i=0; i<B.length; i++)\n",
    "            System.out.println(\"B[\"+i+\"]=\"+B[i]);\n",
    "        for(int i=0; i<C.length; i++)\n",
    "            System.out.println(\"C[\"+i+\"]=\"+C[i]);\n",
    "\n",
    "        WeightTurtle wt30 = new WeightTurtle(30);\n",
    "        WeightTurtle wt10 = new WeightTurtle(10);\n",
    "        WeightTurtle wt20 = new WeightTurtle(20);\n",
    "        WeightTurtle[] wts={wt30, wt10, wt20};\n",
    "        Comparator turtleComp=new TurtleComparator();\n",
    "        Sorter.sort(wts, turtleComp);\n",
    "\n",
    "        for(int i=0; i<wts.length; i++)\n",
    "            System.out.println(\"WeightTurtleArray[\"+i+\"]=\"+wts[i].getWeight());\n",
    "    }\n",
    "}\n",
    "\n",
    "class Sorter {\n",
    "  public Sorter() {}\n",
    "    public static void sort(Object[] data, Comparator comp) {\n",
    "        for(int i=data.length-1; i>=1; i--) {\n",
    "            int indexOfMax=0;\n",
    "            for(int j=1; j<=i; j++) {\n",
    "                if(comp.compare(data[j], data[indexOfMax]) > 0)\n",
    "                    indexOfMax=j;\n",
    "                }\n",
    "                Object temp=data[i];\n",
    "                data[i]=data[indexOfMax];\n",
    "                data[indexOfMax]=temp;\n",
    "        }\n",
    "    }\n",
    "}\n",
    "\n",
    "// declare my own, also possible to use java.util.Comparator\n",
    "interface Comparator {\n",
    "    public int compare(Object o1, Object o2);\n",
    "    public boolean equals(Object o);\n",
    "}\n",
    "\n",
    "class IntegerComparator implements Comparator {\n",
    "    public IntegerComparator() {}\n",
    "    public int compare(Object o1, Object o2) {\n",
    "        return (Integer)o1 - (Integer)o2;\n",
    "    }\n",
    "}\n",
    "\n",
    "class StringComparator implements Comparator {\n",
    "    public StringComparator() {}\n",
    "    public int compare(Object o1, Object o2) {\n",
    "        String s1=(String)o1;\n",
    "        String s2=(String)o2;\n",
    "        return s1.compareTo(s2);\n",
    "        //return Integer.parseInt((String) o1) -\n",
    "        //   Integer.parseInt((String) o2);\n",
    "    }\n",
    "}\n",
    "\n",
    "class TurtleComparator implements Comparator {\n",
    "    public int compare(Object t1, Object t2) {\n",
    "        return ((WeightTurtle)t1).getWeight()-((WeightTurtle)t2).getWeight();\n",
    "    }\n",
    "}\n"
   ]
  },
  {
   "cell_type": "code",
   "execution_count": 37,
   "metadata": {
    "collapsed": false,
    "slideshow": {
     "slide_type": "slide"
    }
   },
   "outputs": [
    {
     "name": "stdout",
     "output_type": "stream",
     "text": [
      "B[0]=Adam\n",
      "B[1]=John\n",
      "B[2]=Jones\n",
      "B[3]=Skrien\n",
      "B[4]=Smith\n",
      "C[0]=1\n",
      "C[1]=2\n",
      "C[2]=3\n",
      "C[3]=4\n",
      "WeightTurtleArray[0]=10\n",
      "WeightTurtleArray[1]=20\n",
      "WeightTurtleArray[2]=30\n"
     ]
    }
   ],
   "source": [
    "!javac -d classes/ -cp lib/aplu5.jar -sourcepath src/ src/com/sd/sort/v2/SorterMainV2.java \n",
    "!java -cp classes/:lib/aplu5.jar com.sd.sort.v2.SorterMainV2\n"
   ]
  },
  {
   "cell_type": "markdown",
   "metadata": {
    "slideshow": {
     "slide_type": "slide"
    }
   },
   "source": [
    "## 시작-1 java.util.Comparator를 이용해 구현\n",
    "\n",
    "* 수요일까지 제출 (git)\n",
    "* 1-2는 보고서로 제출\n",
    "\n",
    "### 1-1 클래스다이어그램을 그리기\n",
    "* plantuml로 그려서 script를 model에 저장\n",
    "* DateComparator, ReverseComparator를 포함\n",
    "\n",
    "### 1-2  SOLID원칙이 어떻게 적용되었는지 설명\n",
    "\n",
    "* 원칙이 적용된 부분을 설명\n",
    "\n",
    "### 1-3  구현\n",
    "* 거북이를 정렬하는 TurtleComparator를 구현\n",
    "* 일자를 정렬하는 DataComparator를 구현\n",
    "* 문자를 역정렬하는 ReverseComparator를 구현\n",
    "\n",
    "### 1-4 drjava 인터랙션을 이용해서 결과를 보기\n",
    "\n",
    "* 거북이를 정렬"
   ]
  }
 ],
 "metadata": {
  "celltoolbar": "Slideshow",
  "kernelspec": {
   "display_name": "Java 9",
   "language": "java",
   "name": "java"
  },
  "language_info": {
   "file_extension": ".class",
   "mimetype": "application/java-vm",
   "name": "java"
  }
 },
 "nbformat": 4,
 "nbformat_minor": 0
}
